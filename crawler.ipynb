{
 "cells": [
  {
   "cell_type": "code",
   "execution_count": 10,
   "metadata": {
    "collapsed": true
   },
   "outputs": [],
   "source": [
    "from bs4 import BeautifulSoup as bs\n",
    "import urllib2\n",
    "import xml.etree.ElementTree as ET"
   ]
  },
  {
   "cell_type": "code",
   "execution_count": 248,
   "metadata": {
    "collapsed": true
   },
   "outputs": [],
   "source": [
    "page = urllib2.urlopen('http://archiveofourown.org/works/5176751')\n",
    "soup = bs(page)"
   ]
  },
  {
   "cell_type": "code",
   "execution_count": 234,
   "metadata": {
    "collapsed": false
   },
   "outputs": [],
   "source": [
    "# print soup.body.prettify()"
   ]
  },
  {
   "cell_type": "code",
   "execution_count": 235,
   "metadata": {
    "collapsed": false
   },
   "outputs": [],
   "source": [
    "# print soup.body.get_text()"
   ]
  },
  {
   "cell_type": "code",
   "execution_count": 236,
   "metadata": {
    "collapsed": false
   },
   "outputs": [],
   "source": [
    "# for tag in soup.body.find_all('div'):\n",
    "#     print tag.text"
   ]
  },
  {
   "cell_type": "code",
   "execution_count": 278,
   "metadata": {
    "collapsed": false
   },
   "outputs": [],
   "source": [
    "# tag = soup.body.find('div')\n",
    "# print tag.text"
   ]
  },
  {
   "cell_type": "code",
   "execution_count": 249,
   "metadata": {
    "collapsed": false
   },
   "outputs": [],
   "source": [
    "#This one finds the main content, not considering multi-chapter and adult contents\n",
    "tag = soup.body.find('div')\n",
    "text = str(tag.text.encode('utf-8'))\n",
    "text1 = text.split('Work Header')[1]\n",
    "text2 = str(text1).split('Actions')[0]"
   ]
  },
  {
   "cell_type": "code",
   "execution_count": 381,
   "metadata": {
    "collapsed": false
   },
   "outputs": [],
   "source": [
    "#This seems more secure.\n",
    "contents = re.findall('Work Header+.+Actions',text,flags=re.DOTALL)\n",
    "contents = re.sub('\\\\n','',str(contents))"
   ]
  },
  {
   "cell_type": "code",
   "execution_count": 382,
   "metadata": {
    "collapsed": false
   },
   "outputs": [
    {
     "name": "stdout",
     "output_type": "stream",
     "text": [
      "['Work Header\\n\\n\\n\\n              Rating:\\n          \\n\\n\\nTeen And Up Audiences\\n\\n\\n\\nArchive Warning:\\n          \\n\\n\\nNo Archive Warnings Apply\\n\\n\\n\\n              Category:\\n          \\n\\n\\nM/M\\n\\n\\n\\n              Fandoms:\\n          \\n\\n\\nHannibal (TV)Hannibal Lecter Series - All Media Types\\n\\n\\n\\n              Relationship:\\n          \\n\\n\\nWill Graham/Hannibal Lecter\\n\\n\\n\\n              Characters:\\n          \\n\\n\\nWill GrahamHannibal Lecter\\n\\n\\n\\n              Additional Tags:\\n          \\n\\n\\nDrinking Cum\\n\\n\\n\\n        Language:\\n      \\n\\n        English\\n      \\nStats:\\n\\n\\nPublished:2015-11-09Words:554Chapters:1/1Kudos:11Hits:162\\n\\n\\n\\n\\n\\n\\n\\n      A Delicious Drink\\n    \\n\\nLoony Puppeteer (rea40)\\n\\n\\nSummary:\\n\\nWill offers to get them something to drink. He brings Hannibal his favorite drink of all, in a martini glass.\\n\\n\\n\\nNotes:\\n\\nDisclaimer: I do not own the Hannibal characters or story in any way. I am making no money off of this.Hope you enjoy!\\n\\n\\n\\n\\n\\n\\nWork Text:\\nWill and Hannibal were sitting comfortably in the den. They sat together on the couch, close enough to brush shoulders and tap knees as they each held their own books, reading by the light of the fire.Hannibal shifts in a way that Will recognizes. Although to be fair, Will recognizes most of Hannibal\\xe2\\x80\\x99s ques as Hannibal knows Wills. An idea strikes Will and he speaks up before Hannibal. \\xe2\\x80\\x9cI\\xe2\\x80\\x99ll go get us some drinks.\\xe2\\x80\\x9dHannibal turns to him surprised. Will usually allow Hannibal to do anything that involves the kitchen but at the spark in his loves eyes he nods in acceptance.Will grins in a way that makes Hannibal shiver before standing. He marks his place in his book, sets it aside and leans down to give Hannibal a deep kiss. Hannibal returns it with fevor, sucking on Wills tongue, and sharing bites to lips. The kiss is bruising, passionate and sexual. When they finally separate both of their lips are bright red and swollen.Will caresses Hannibal\\xe2\\x80\\x99s jaw before smirking and sauntering off towards the kitchen with a \\xe2\\x80\\x9cwait here, I\\xe2\\x80\\x99ll be right back\\xe2\\x80\\x9d.Hannibal shifts in his seat, an obvious budge in his pants as he slowly returns to his book, which had slide forgotten to the couches cushion.In the kitchen Will pulled out a martini glass, a gleam in his eye and a smirk on his lips. He slowly unbuckled his belt, then shifted his pants and boxers. His love was in for a surprise.`````````````````````````````````````````````````````````````````````````````````````````````````````````````````````````````````````````````Hannibal sat comfortably, reading his book before shifting distractedly. Will was taking a while to get them some drinks even if he was making something extensive. Just as he set his book aside and began to stand Will had walked through the doorway of the den. He held a martini class in his hand. It had a toothpick in it, an olive stuck to it. But what truly took his attention was the color and thickness of its contents. Will walked slowly, almost predatorily towards him. And as he did Hannibal could smell the familiar musk or his beloved. It was his favorite smell in world. Will stood so close to Hannibal that if it were not for the hand that held the glass, their chest would have brushed.\\xe2\\x80\\x9cFor you, my dear.\\xe2\\x80\\x9d Will gave a sexy grin, his face the epitome of sexual satisfaction.Hannibal raised his hand and took the glass. He raise it to his lips, never taking his eyes away from Wills. He closed his eyes only once he began to tip it allowing the white liquid to fill his mouth, encompassing his taste buds with his beloved\\xe2\\x80\\x99s flavor. Once he had taken what he could from the glass he lowered it, and opened his eyes. He met Wills eyes, saw the heated flush to them. His love was truly insatiable. He wondered faintly how many times it would of take for Will to fill the glass as he had. And, a quick glance downwards showed, he was still able to harden.\\xe2\\x80\\x9cHow was your drink love?\\xe2\\x80\\x9d Will asked, taking the glass and setting it on the table beside them. \\xe2\\x80\\x9cDelicious, as always, my beloved Will. Perhaps I may return the favor\\xe2\\x80\\x9d Hannibal responded.\\xe2\\x80\\x9cSounds delightful.\\xe2\\x80\\x9d Will responded before taking Hannibal\\xe2\\x80\\x99s hand and tugging his, eagerly, to their bedroom.\\n\\n\\n\\n\\n\\n\\n\\n\\n\\nActions']\n"
     ]
    }
   ],
   "source": [
    "print contents"
   ]
  },
  {
   "cell_type": "code",
   "execution_count": 384,
   "metadata": {
    "collapsed": false
   },
   "outputs": [
    {
     "name": "stdout",
     "output_type": "stream",
     "text": [
      "{}\n"
     ]
    }
   ],
   "source": [
    "import re\n",
    "from itertools import izip\n",
    "\n",
    "# s = 'Title: Example: of a title Date: November 23 1234 Other: Other information'\n",
    "\n",
    "keys = ['Rating', 'Archive Warning', 'Other']\n",
    "pattern = re.compile('({})\\s+'.format(':|'.join(keys)))\n",
    "\n",
    "print dict(izip(*[(i.strip() for i in (pattern.split(contents)) if i)]*2))"
   ]
  },
  {
   "cell_type": "code",
   "execution_count": 374,
   "metadata": {
    "collapsed": false
   },
   "outputs": [
    {
     "name": "stdout",
     "output_type": "stream",
     "text": [
      "['Work Header\n",
      "\n",
      "\n",
      "\n",
      "              Rating:\n",
      "          \n",
      "\n",
      "\n",
      "Teen And Up Audiences\n",
      "\n",
      "\n",
      "\n",
      "Archive Warning:\n",
      "          \n",
      "\n",
      "\n",
      "No Archive Warnings Apply\n",
      "\n",
      "\n",
      "\n",
      "              Category:\n",
      "          \n",
      "\n",
      "\n",
      "M/M\n",
      "\n",
      "\n",
      "\n",
      "              Fandoms:\n",
      "          \n",
      "\n",
      "\n",
      "Hannibal (TV)Hannibal Lecter Series - All Media Types\n",
      "\n",
      "\n",
      "\n",
      "              Relationship:\n",
      "          \n",
      "\n",
      "\n",
      "Will Graham/Hannibal Lecter\n",
      "\n",
      "\n",
      "\n",
      "              Characters:\n",
      "          \n",
      "\n",
      "\n",
      "Will GrahamHannibal Lecter\n",
      "\n",
      "\n",
      "\n",
      "              Additional Tags:\n",
      "          \n",
      "\n",
      "\n",
      "Drinking Cum\n",
      "\n",
      "\n",
      "\n",
      "        Language:\n",
      "      \n",
      "\n",
      "        English\n",
      "      \n",
      "Stats:\n",
      "\n",
      "\n",
      "Published:2015-11-09Words:554Chapters:1/1Kudos:11Hits:162\n",
      "\n",
      "\n",
      "\n",
      "\n",
      "\n",
      "\n",
      "\n",
      "      A Delicious Drink\n",
      "    \n",
      "\n",
      "Loony Puppeteer (rea40)\n",
      "\n",
      "\n",
      "Summary:\n",
      "\n",
      "Will offers to get them something to drink. He brings Hannibal his favorite drink of all, in a martini glass.\n",
      "\n",
      "\n",
      "\n",
      "Notes:\n",
      "\n",
      "Disclaimer: I do not own the Hannibal characters or story in any way. I am making no money off of this.Hope you enjoy!\n",
      "\n",
      "\n",
      "\n",
      "\n",
      "\n",
      "\n",
      "Work Text:\n",
      "Will and Hannibal were sitting comfortably in the den. They sat together on the couch, close enough to brush shoulders and tap knees as they each held their own books, reading by the light of the fire.Hannibal shifts in a way that Will recognizes. Although to be fair, Will recognizes most of Hannibal\\xe2\\x80\\x99s ques as Hannibal knows Wills. An idea strikes Will and he speaks up before Hannibal. \\xe2\\x80\\x9cI\\xe2\\x80\\x99ll go get us some drinks.\\xe2\\x80\\x9dHannibal turns to him surprised. Will usually allow Hannibal to do anything that involves the kitchen but at the spark in his loves eyes he nods in acceptance.Will grins in a way that makes Hannibal shiver before standing. He marks his place in his book, sets it aside and leans down to give Hannibal a deep kiss. Hannibal returns it with fevor, sucking on Wills tongue, and sharing bites to lips. The kiss is bruising, passionate and sexual. When they finally separate both of their lips are bright red and swollen.Will caresses Hannibal\\xe2\\x80\\x99s jaw before smirking and sauntering off towards the kitchen with a \\xe2\\x80\\x9cwait here, I\\xe2\\x80\\x99ll be right back\\xe2\\x80\\x9d.Hannibal shifts in his seat, an obvious budge in his pants as he slowly returns to his book, which had slide forgotten to the couches cushion.In the kitchen Will pulled out a martini glass, a gleam in his eye and a smirk on his lips. He slowly unbuckled his belt, then shifted his pants and boxers. His love was in for a surprise.`````````````````````````````````````````````````````````````````````````````````````````````````````````````````````````````````````````````Hannibal sat comfortably, reading his book before shifting distractedly. Will was taking a while to get them some drinks even if he was making something extensive. Just as he set his book aside and began to stand Will had walked through the doorway of the den. He held a martini class in his hand. It had a toothpick in it, an olive stuck to it. But what truly took his attention was the color and thickness of its contents. Will walked slowly, almost predatorily towards him. And as he did Hannibal could smell the familiar musk or his beloved. It was his favorite smell in world. Will stood so close to Hannibal that if it were not for the hand that held the glass, their chest would have brushed.\\xe2\\x80\\x9cFor you, my dear.\\xe2\\x80\\x9d Will gave a sexy grin, his face the epitome of sexual satisfaction.Hannibal raised his hand and took the glass. He raise it to his lips, never taking his eyes away from Wills. He closed his eyes only once he began to tip it allowing the white liquid to fill his mouth, encompassing his taste buds with his beloved\\xe2\\x80\\x99s flavor. Once he had taken what he could from the glass he lowered it, and opened his eyes. He met Wills eyes, saw the heated flush to them. His love was truly insatiable. He wondered faintly how many times it would of take for Will to fill the glass as he had. And, a quick glance downwards showed, he was still able to harden.\\xe2\\x80\\x9cHow was your drink love?\\xe2\\x80\\x9d Will asked, taking the glass and setting it on the table beside them. \\xe2\\x80\\x9cDelicious, as always, my beloved Will. Perhaps I may return the favor\\xe2\\x80\\x9d Hannibal responded.\\xe2\\x80\\x9cSounds delightful.\\xe2\\x80\\x9d Will responded before taking Hannibal\\xe2\\x80\\x99s hand and tugging his, eagerly, to their bedroom.\n",
      "\n",
      "\n",
      "\n",
      "\n",
      "\n",
      "\n",
      "\n",
      "\n",
      "\n",
      "Actions']\n"
     ]
    }
   ],
   "source": [
    "for i in str(contents).split('\\\\n'):\n",
    "    print i"
   ]
  },
  {
   "cell_type": "code",
   "execution_count": 363,
   "metadata": {
    "collapsed": false
   },
   "outputs": [
    {
     "data": {
      "text/plain": [
       "[]"
      ]
     },
     "execution_count": 363,
     "metadata": {},
     "output_type": "execute_result"
    }
   ],
   "source": [
    "Rating = re.findall('Rating:\\\\n*\\t*.*\\n', str(contents))\n",
    "Rating"
   ]
  },
  {
   "cell_type": "code",
   "execution_count": 279,
   "metadata": {
    "collapsed": false
   },
   "outputs": [],
   "source": [
    "# tag = soup.body.find_all('div')[0]\n",
    "# print tag"
   ]
  },
  {
   "cell_type": "code",
   "execution_count": 258,
   "metadata": {
    "collapsed": false
   },
   "outputs": [
    {
     "name": "stdout",
     "output_type": "stream",
     "text": [
      "None\n"
     ]
    }
   ],
   "source": [
    "t = soup.body.find(string = '<body class=\"logged-out\">')\n",
    "print t"
   ]
  },
  {
   "cell_type": "code",
   "execution_count": 252,
   "metadata": {
    "collapsed": false
   },
   "outputs": [
    {
     "data": {
      "text/plain": [
       "'\\n\\n\\n\\n              Rating:\\n          \\n\\n\\nTeen And Up Audiences\\n\\n\\n\\nArchive Warning:\\n          \\n\\n\\nNo Archive Warnings Apply\\n\\n\\n\\n              Category:\\n          \\n\\n\\nM/M\\n\\n\\n\\n              Fandoms:\\n          \\n\\n\\nHannibal (TV)Hannibal Lecter Series - All Media Types\\n\\n\\n\\n              Relationship:\\n          \\n\\n\\nWill Graham/Hannibal Lecter\\n\\n\\n\\n              Characters:\\n          \\n\\n\\nWill GrahamHannibal Lecter\\n\\n\\n\\n              Additional Tags:\\n          \\n\\n\\nDrinking Cum\\n\\n\\n\\n        Language:\\n      \\n\\n        English\\n      \\nStats:\\n\\n\\nPublished:2015-11-09Words:554Chapters:1/1Kudos:11Hits:162\\n\\n\\n\\n\\n\\n\\n\\n      A Delicious Drink\\n    \\n\\nLoony Puppeteer (rea40)\\n\\n\\nSummary:\\n\\nWill offers to get them something to drink. He brings Hannibal his favorite drink of all, in a martini glass.\\n\\n\\n\\nNotes:\\n\\nDisclaimer: I do not own the Hannibal characters or story in any way. I am making no money off of this.Hope you enjoy!\\n\\n\\n\\n\\n\\n\\nWork Text:\\nWill and Hannibal were sitting comfortably in the den. They sat together on the couch, close enough to brush shoulders and tap knees as they each held their own books, reading by the light of the fire.Hannibal shifts in a way that Will recognizes. Although to be fair, Will recognizes most of Hannibal\\xe2\\x80\\x99s ques as Hannibal knows Wills. An idea strikes Will and he speaks up before Hannibal. \\xe2\\x80\\x9cI\\xe2\\x80\\x99ll go get us some drinks.\\xe2\\x80\\x9dHannibal turns to him surprised. Will usually allow Hannibal to do anything that involves the kitchen but at the spark in his loves eyes he nods in acceptance.Will grins in a way that makes Hannibal shiver before standing. He marks his place in his book, sets it aside and leans down to give Hannibal a deep kiss. Hannibal returns it with fevor, sucking on Wills tongue, and sharing bites to lips. The kiss is bruising, passionate and sexual. When they finally separate both of their lips are bright red and swollen.Will caresses Hannibal\\xe2\\x80\\x99s jaw before smirking and sauntering off towards the kitchen with a \\xe2\\x80\\x9cwait here, I\\xe2\\x80\\x99ll be right back\\xe2\\x80\\x9d.Hannibal shifts in his seat, an obvious budge in his pants as he slowly returns to his book, which had slide forgotten to the couches cushion.In the kitchen Will pulled out a martini glass, a gleam in his eye and a smirk on his lips. He slowly unbuckled his belt, then shifted his pants and boxers. His love was in for a surprise.`````````````````````````````````````````````````````````````````````````````````````````````````````````````````````````````````````````````Hannibal sat comfortably, reading his book before shifting distractedly. Will was taking a while to get them some drinks even if he was making something extensive. Just as he set his book aside and began to stand Will had walked through the doorway of the den. He held a martini class in his hand. It had a toothpick in it, an olive stuck to it. But what truly took his attention was the color and thickness of its contents. Will walked slowly, almost predatorily towards him. And as he did Hannibal could smell the familiar musk or his beloved. It was his favorite smell in world. Will stood so close to Hannibal that if it were not for the hand that held the glass, their chest would have brushed.\\xe2\\x80\\x9cFor you, my dear.\\xe2\\x80\\x9d Will gave a sexy grin, his face the epitome of sexual satisfaction.Hannibal raised his hand and took the glass. He raise it to his lips, never taking his eyes away from Wills. He closed his eyes only once he began to tip it allowing the white liquid to fill his mouth, encompassing his taste buds with his beloved\\xe2\\x80\\x99s flavor. Once he had taken what he could from the glass he lowered it, and opened his eyes. He met Wills eyes, saw the heated flush to them. His love was truly insatiable. He wondered faintly how many times it would of take for Will to fill the glass as he had. And, a quick glance downwards showed, he was still able to harden.\\xe2\\x80\\x9cHow was your drink love?\\xe2\\x80\\x9d Will asked, taking the glass and setting it on the table beside them. \\xe2\\x80\\x9cDelicious, as always, my beloved Will. Perhaps I may return the favor\\xe2\\x80\\x9d Hannibal responded.\\xe2\\x80\\x9cSounds delightful.\\xe2\\x80\\x9d Will responded before taking Hannibal\\xe2\\x80\\x99s hand and tugging his, eagerly, to their bedroom.\\n\\n\\n\\n\\n\\n\\n\\n\\n\\n'"
      ]
     },
     "execution_count": 252,
     "metadata": {},
     "output_type": "execute_result"
    }
   ],
   "source": [
    "text2"
   ]
  },
  {
   "cell_type": "code",
   "execution_count": 251,
   "metadata": {
    "collapsed": false
   },
   "outputs": [],
   "source": [
    "# for tag in soup.body.find_all(True):\n",
    "#     print tag.name"
   ]
  },
  {
   "cell_type": "code",
   "execution_count": 50,
   "metadata": {
    "collapsed": false,
    "scrolled": false
   },
   "outputs": [
    {
     "name": "stdout",
     "output_type": "stream",
     "text": [
      "u'Main Content'\n",
      "u\"\\n    While we've done our best to make the core functionality of this site accessible without javascript, it will work better with it enabled. Please consider turning it on!\\n  \"\n",
      "u'Archive of Our Own'\n",
      "u' beta'\n",
      "u'Log In'\n",
      "u'User name:'\n",
      "u'Password:'\n",
      "u'Remember Me'\n",
      "u'Forgot password?'\n",
      "u'Get an Invitation'\n",
      "u'Site Navigation'\n",
      "u'Fandoms'\n",
      "u'All Fandoms'\n",
      "u'Anime & Manga'\n",
      "u'Books & Literature'\n",
      "u'Cartoons & Comics & Graphic Novels'\n",
      "u'Celebrities & Real People'\n",
      "u'Movies'\n",
      "u'Music & Bands'\n",
      "u'Other Media'\n",
      "u'Theater'\n",
      "u'TV Shows'\n",
      "u'Video Games'\n",
      "u'Uncategorized Fandoms'\n",
      "u'Browse'\n",
      "u'Works'\n",
      "u'Bookmarks'\n",
      "u'Tags'\n",
      "u'Collections'\n",
      "u'Search'\n",
      "u'Works'\n",
      "u'Bookmarks'\n",
      "u'Tags'\n",
      "u'People'\n",
      "u'About'\n",
      "u'About Us'\n",
      "u'News'\n",
      "u'FAQ'\n",
      "u'Wrangling Guidelines'\n",
      "u'Donate or Volunteer'\n",
      "u'Search Works'\n",
      "u'Work Search:'\n",
      "u'tip: arthur merlin words>1000 sort:hits'\n",
      "u'\\xa0'\n",
      "u'Skip header'\n",
      "u'Actions'\n",
      "u'Comments'\n",
      "u'Share'\n",
      "u'Copy and paste the following code to link back to this work ('\n",
      "u'CTRL A'\n",
      "u'/'\n",
      "u'CMD A'\n",
      "u' will select all), or use the Tweet or Tumblr links to share the work on your Twitter or Tumblr account.'\n",
      "u'<a href=\"http://archiveofourown.org/works/5176751\"><strong>A Delicious Drink</strong></a> (554 words) by <a href=\"http://archiveofourown.org/users/rea40\"><strong>Loony Puppeteer</strong></a><br />Chapters: 1/1<br />Fandom: <a href=\"http://archiveofourown.org/tags/Hannibal%20(TV)\">Hannibal (TV)</a>, <a href=\"http://archiveofourown.org/tags/Hannibal%20Lecter%20Series%20-%20All%20Media%20Types\">Hannibal Lecter Series - All Media Types</a><br />Rating: Teen And Up Audiences<br />Warnings: No Archive Warnings Apply<br />Relationships: Will Graham/Hannibal Lecter<br />Characters: Will Graham, Hannibal Lecter<br />Additional Tags: Drinking Cum<br />Summary: <p>Will offers to get them something to drink. He brings Hannibal his favorite drink of all, in a martini glass.</p>'\n",
      "u'\\n        Tweet\\n      '\n",
      "u'\\n        Share on Tumblr\\n      '\n",
      "u'Download'\n",
      "u'MOBI'\n",
      "u'EPUB'\n",
      "u'PDF'\n",
      "u'HTML'\n",
      "u'Work Header'\n",
      "u'\\n              Rating:\\n          '\n",
      "u'Teen And Up Audiences'\n",
      "u'Archive Warning'\n",
      "u':\\n          '\n",
      "u'No Archive Warnings Apply'\n",
      "u'\\n              Category:\\n          '\n",
      "u'M/M'\n",
      "u'\\n              Fandoms:\\n          '\n",
      "u'Hannibal (TV)'\n",
      "u'Hannibal Lecter Series - All Media Types'\n",
      "u'\\n              Relationship:\\n          '\n",
      "u'Will Graham/Hannibal Lecter'\n",
      "u'\\n              Characters:\\n          '\n",
      "u'Will Graham'\n",
      "u'Hannibal Lecter'\n",
      "u'\\n              Additional Tags:\\n          '\n",
      "u'Drinking Cum'\n",
      "u'\\n        Language:\\n      '\n",
      "u'\\n        English\\n      '\n",
      "u'Stats:'\n",
      "u'Published:'\n",
      "u'2015-11-09'\n",
      "u'Words:'\n",
      "u'554'\n",
      "u'Chapters:'\n",
      "u'1/1'\n",
      "u'Kudos:'\n",
      "u'10'\n",
      "u'Hits:'\n",
      "u'133'\n",
      "u'\\n      A Delicious Drink\\n    '\n",
      "u'Loony Puppeteer (rea40)'\n",
      "u'Summary:'\n",
      "u'Will offers to get them something to drink. He brings Hannibal his favorite drink of all, in a martini glass.'\n",
      "u'Notes:'\n",
      "u'Disclaimer: I do not own the Hannibal characters or story in any way. I am making no money off of this.'\n",
      "u'Hope you enjoy!'\n",
      "u'Work Text:'\n",
      "u'Will and Hannibal were sitting comfortably in the den. They sat together on the couch, close enough to brush shoulders and tap knees as they each held their own books, reading by the light of the fire.'\n",
      "u'Hannibal shifts in a way that Will recognizes. Although to be fair, Will recognizes most of Hannibal\\u2019s ques as Hannibal knows Wills. '\n",
      "u'An idea strikes Will and he speaks up before Hannibal. \\u201cI\\u2019ll go get us some drinks.\\u201d'\n",
      "u'Hannibal turns to him surprised. Will usually allow Hannibal to do anything that involves the kitchen but at the spark in his loves eyes he nods in acceptance.'\n",
      "u'Will grins in a way that makes Hannibal shiver before standing. He marks his place in his book, sets it aside and leans down to give Hannibal a deep kiss. '\n",
      "u'Hannibal returns it with fevor, sucking on Wills tongue, and sharing bites to lips. The kiss is bruising, passionate and sexual. When they finally separate both of their lips are bright red and swollen.'\n",
      "u'Will caresses Hannibal\\u2019s jaw before smirking and sauntering off towards the kitchen with a \\u201cwait here, I\\u2019ll be right back\\u201d.'\n",
      "u'Hannibal shifts in his seat, an obvious budge in his pants as he slowly returns to his book, which had slide forgotten to the couches cushion.'\n",
      "u'In the kitchen Will pulled out a martini glass, a gleam in his eye and a smirk on his lips. He slowly unbuckled his belt, then shifted his pants and boxers. His love was in for a surprise.'\n",
      "u'`````````````````````````````````````````````````````````````````````````````````````````````````````````````````````````````````````````````'\n",
      "u'Hannibal sat comfortably, reading his book before shifting distractedly. Will was taking a while to get them some drinks even if he was making something extensive. Just as he set his book aside and began to stand Will had walked through the doorway of the den. '\n",
      "u'He held a martini class in his hand. It had a toothpick in it, an olive stuck to it. But what truly took his attention was the color and thickness of its contents. '\n",
      "u'Will walked slowly, almost predatorily towards him. And as he did Hannibal could smell the familiar musk or his beloved. It was his favorite smell in world. '\n",
      "u'Will stood so close to Hannibal that if it were not for the hand that held the glass, their chest would have brushed.'\n",
      "u'\\u201cFor you, my dear.\\u201d Will gave a sexy grin, his face the epitome of sexual satisfaction.'\n",
      "u'Hannibal raised his hand and took the glass. He raise it to his lips, never taking his eyes away from Wills. '\n",
      "u'He closed his eyes only once he began to tip it allowing the white liquid to fill his mouth, encompassing his taste buds with his beloved\\u2019s flavor. Once he had taken what he could from the glass he lowered it, and opened his eyes. '\n",
      "u'He met Wills eyes, saw the heated flush to them. His love was truly insatiable. He wondered faintly how many times it would of take for Will to fill the glass as he had. And, a quick glance downwards showed, he was still able to harden.'\n",
      "u'\\u201cHow was your drink love?\\u201d Will asked, taking the glass and setting it on the table beside them. '\n",
      "u'\\u201cDelicious, as always, my beloved Will. Perhaps I may return the favor\\u201d Hannibal responded.'\n",
      "u'\\u201cSounds delightful.\\u201d Will responded before taking Hannibal\\u2019s hand and tugging his, eagerly, to their bedroom.'\n",
      "u'Actions'\n",
      "u'\\u2191 Top'\n",
      "u' '\n",
      "u'Comments'\n",
      "u'Hannigrammatic'\n",
      "u'\\n             as well as \\n          9 guests\\n         left kudos on this work!\\n        '\n",
      "u'(collapse)'\n",
      "u'Post Comment'\n",
      "u'Note:'\n",
      "u'All fields are required. Your email address will not be published.'\n",
      "u'Name: '\n",
      "u'var validation_for_comment_name_for_5176751=new LiveValidation(\\'comment_name_for_5176751\\',{wait:500,onlyOnBlur:false});validation_for_comment_name_for_5176751.add(Validate.Presence,{\"failureMessage\":\"Please enter your name.\",\"validMessage\":\"\"});'\n",
      "u'Email: '\n",
      "u'var validation_for_comment_email_for_5176751=new LiveValidation(\\'comment_email_for_5176751\\',{wait:500,onlyOnBlur:false});validation_for_comment_email_for_5176751.add(Validate.Presence,{\"failureMessage\":\"Please enter your email address.\",\"validMessage\":\"\"});'\n",
      "u'Comment'\n",
      "u'4300'\n",
      "u' characters left'\n",
      "u'var validation_for_comment_content_for_5176751=new LiveValidation(\\'comment_content_for_5176751\\',{wait:500,onlyOnBlur:false});validation_for_comment_content_for_5176751.add(Validate.Presence,{\"failureMessage\":\"Brevity is the soul of wit, but we need your comment to have text in it.\",\"validMessage\":\"\"});validation_for_comment_content_for_5176751.add(Validate.Length,{\"maximum\":\"4300\",\"tooLongMessage\":\"must be less than 4300 characters long.\"});'\n",
      "u'Footer'\n",
      "u'About the Archive'\n",
      "u'Site Map'\n",
      "u'Diversity Statement'\n",
      "u'Terms of Service'\n",
      "u'DMCA Policy'\n",
      "u' '\n",
      "u'Contact Us'\n",
      "u'Report Abuse'\n",
      "u'Technical Support and Feedback'\n",
      "u'Development'\n",
      "u'otwarchive v0.9.87.2'\n",
      "u'Known Issues'\n",
      "u'GPL'\n",
      "u' by the '\n",
      "u'OTW'\n",
      "u'if(typeof jQuery==\\'undefined\\'){document.write(unescape(\"%3Cscript src=\\'/javascripts/jquery.min.js\\' type=\\'text/javascript\\'%3E%3C/script%3E\"));document.write(unescape(\"%3Cscript src=\\'/javascripts/jquery-ui.min.js\\' type=\\'text/javascript\\'%3E%3C/script%3E\"));}'\n",
      "u'$j=jQuery.noConflict();'\n",
      "u'eval(mod_pagespeed_yik5Pk1MSq);'\n",
      "u'eval(mod_pagespeed_2JewDk8EgW);'\n",
      "u'eval(mod_pagespeed_lMs1P3$HQo);'\n",
      "u'eval(mod_pagespeed_HX8Db1$_nf);'\n",
      "u'eval(mod_pagespeed_NDi9Hhdu9k);'\n",
      "u'eval(mod_pagespeed_bwFeoTF5KL);'\n",
      "u'eval(mod_pagespeed_mcMFhFxthf);'\n",
      "u'eval(mod_pagespeed_gWAlUUoDmL);'\n",
      "u'eval(mod_pagespeed_70XyGEPRhS);'\n",
      "u'eval(mod_pagespeed_Md$HkhxXoC);'\n",
      "u'eval(mod_pagespeed_NQrmC68qBj);'\n",
      "u'var name_id=\"#comment_name_for_5176751\";var email_id=\"#comment_email_for_5176751\";if(!$j(name_id).val()){$j(name_id).val($j.cookie(\\'comment_name\\'));}\\nif(!$j(email_id).val()){$j(email_id).val($j.cookie(\\'comment_email\\'));}'\n"
     ]
    }
   ],
   "source": [
    "for string in soup.body.strings:\n",
    "    if string != '\\n':\n",
    "        print(repr(string))"
   ]
  },
  {
   "cell_type": "code",
   "execution_count": 23,
   "metadata": {
    "collapsed": false,
    "scrolled": true
   },
   "outputs": [
    {
     "name": "stdout",
     "output_type": "stream",
     "text": [
      "#main\n",
      "/\n",
      "/user_sessions/new\n",
      "/passwords/new\n",
      "/invite_requests\n",
      "/menu/fandoms\n",
      "/media\n",
      "/media/Anime%20*a*%20Manga/fandoms\n",
      "/media/Books%20*a*%20Literature/fandoms\n",
      "/media/Cartoons%20*a*%20Comics%20*a*%20Graphic%20Novels/fandoms\n",
      "/media/Celebrities%20*a*%20Real%20People/fandoms\n",
      "/media/Movies/fandoms\n",
      "/media/Music%20*a*%20Bands/fandoms\n",
      "/media/Other%20Media/fandoms\n",
      "/media/Theater/fandoms\n",
      "/media/TV%20Shows/fandoms\n",
      "/media/Video%20Games/fandoms\n",
      "/media/Uncategorized%20Fandoms/fandoms\n",
      "/menu/browse\n",
      "/works\n",
      "/bookmarks\n",
      "/tags\n",
      "/collections\n",
      "/menu/search\n",
      "/works/search\n",
      "/bookmarks/search\n",
      "/tags/search\n",
      "/people/search\n",
      "/menu/about\n",
      "/about\n",
      "/admin_posts\n",
      "/faq\n",
      "/wrangling_guidelines\n",
      "/donate\n",
      "None\n",
      "#work\n",
      "#comments\n",
      "#share\n",
      "http://twitter.com/share\n",
      "http://www.tumblr.com/share/link?url=http%3A%2F%2Farchiveofourown.org%2Fworks%2F5176751&name=A%20Delicious%20Drink%20%28554%20words%29%20by%20Loony%20Puppeteer%20%5BAO3%5D&description=Chapters%3A%201%2F1%3Cbr%20%2F%3EFandom%3A%20%3Ca%20href%3D%22http%3A%2F%2Farchiveofourown.org%2Ftags%2FHannibal%2520%28TV%29%22%3EHannibal%20%28TV%29%3C%2Fa%3E%2C%20%3Ca%20href%3D%22http%3A%2F%2Farchiveofourown.org%2Ftags%2FHannibal%2520Lecter%2520Series%2520-%2520All%2520Media%2520Types%22%3EHannibal%20Lecter%20Series%20-%20All%20Media%20Types%3C%2Fa%3E%3Cbr%20%2F%3ERating%3A%20Teen%20And%20Up%20Audiences%3Cbr%20%2F%3EWarnings%3A%20No%20Archive%20Warnings%20Apply%3Cbr%20%2F%3ERelationships%3A%20Will%20Graham%2FHannibal%20Lecter%3Cbr%20%2F%3ECharacters%3A%20Will%20Graham%2C%20Hannibal%20Lecter%3Cbr%20%2F%3EAdditional%20Tags%3A%20Drinking%20Cum%3Cbr%20%2F%3ESummary%3A%20%3Cp%3EWill%20offers%20to%20get%20them%20something%20to%20drink.%20He%20brings%20Hannibal%20his%20favorite%20drink%20of%20all%2C%20in%20a%20martini%20glass.%3C%2Fp%3E\n",
      "#\n",
      "/downloads/Lo/Loony%20Puppeteer/5176751/A%20Delicious%20Drink.mobi?updated_at=1447063831\n",
      "/downloads/Lo/Loony%20Puppeteer/5176751/A%20Delicious%20Drink.epub?updated_at=1447063831\n",
      "/downloads/Lo/Loony%20Puppeteer/5176751/A%20Delicious%20Drink.pdf?updated_at=1447063831\n",
      "/downloads/Lo/Loony%20Puppeteer/5176751/A%20Delicious%20Drink.html?updated_at=1447063831\n",
      "http://archiveofourown.org/tags/Teen%20And%20Up%20Audiences/works\n",
      "/tos_faq#tags\n",
      "http://archiveofourown.org/tags/No%20Archive%20Warnings%20Apply/works\n",
      "http://archiveofourown.org/tags/M*s*M/works\n",
      "http://archiveofourown.org/tags/Hannibal%20(TV)/works\n",
      "http://archiveofourown.org/tags/Hannibal%20Lecter%20Series%20-%20All%20Media%20Types/works\n",
      "http://archiveofourown.org/tags/Will%20Graham*s*Hannibal%20Lecter/works\n",
      "http://archiveofourown.org/tags/Will%20Graham/works\n",
      "http://archiveofourown.org/tags/Hannibal%20Lecter/works\n",
      "http://archiveofourown.org/tags/Drinking%20Cum/works\n",
      "http://archiveofourown.org/users/rea40/pseuds/Loony%20Puppeteer\n",
      "#main\n",
      "None\n",
      "/users/Hannigrammatic\n",
      "#\n",
      "/site_map\n",
      "/diversity\n",
      "/tos\n",
      "/dmca\n",
      "/abuse_reports/new\n",
      "/support\n",
      "https://github.com/otwcode/otwarchive/commits/v0.9.87.2\n",
      "/known_issues\n",
      "http://www.gnu.org/licenses/gpl-2.0.html\n",
      "http://transformativeworks.org/\n"
     ]
    }
   ],
   "source": [
    "for link in soup.find_all('a'):\n",
    "    print(link.get('href'))"
   ]
  }
 ],
 "metadata": {
  "kernelspec": {
   "display_name": "Python 2",
   "language": "python",
   "name": "python2"
  },
  "language_info": {
   "codemirror_mode": {
    "name": "ipython",
    "version": 2
   },
   "file_extension": ".py",
   "mimetype": "text/x-python",
   "name": "python",
   "nbconvert_exporter": "python",
   "pygments_lexer": "ipython2",
   "version": "2.7.9"
  }
 },
 "nbformat": 4,
 "nbformat_minor": 0
}
