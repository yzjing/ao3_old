{
 "cells": [
  {
   "cell_type": "code",
   "execution_count": 424,
   "metadata": {
    "collapsed": true
   },
   "outputs": [],
   "source": [
    "from bs4 import BeautifulSoup as bs\n",
    "import urllib2\n",
    "import re\n",
    "import csv\n",
    "from collections import OrderedDict"
   ]
  },
  {
   "cell_type": "code",
   "execution_count": 425,
   "metadata": {
    "collapsed": true
   },
   "outputs": [],
   "source": [
    "fandom = 'http://archiveofourown.org/tags/Final%20Fantasy%20VII/works'"
   ]
  },
  {
   "cell_type": "code",
   "execution_count": 485,
   "metadata": {
    "collapsed": false
   },
   "outputs": [],
   "source": [
    "def find_page(base_url, page_number):\n",
    "    #go to any page number.\n",
    "    return base_url+'?page=' +str(page_number)"
   ]
  },
  {
   "cell_type": "code",
   "execution_count": 486,
   "metadata": {
    "collapsed": false,
    "scrolled": false
   },
   "outputs": [],
   "source": [
    "def find_works(page):\n",
    "    #Find all works from a works list page.\n",
    "    works_page = bs(urllib2.urlopen(page))\n",
    "    links = []\n",
    "    for link in works_page.find_all('a'):\n",
    "        url = link.get('href')\n",
    "        url_s = [i for i in url.split('/') if i != '']\n",
    "        if 'work' in url and len(url_s) == 2 and str(url_s[1]).isdigit():\n",
    "                links.append('http://archiveofourown.org'+link.get('href'))\n",
    "    return links"
   ]
  },
  {
   "cell_type": "code",
   "execution_count": 529,
   "metadata": {
    "collapsed": false
   },
   "outputs": [],
   "source": [
    "def show_allch(url):\n",
    "    base = bs(urllib2.urlopen(url))\n",
    "    full_url = url\n",
    "    for link in base.find_all('a'):\n",
    "        if 'Entire Work' in link.text:\n",
    "            full_url = 'http://archiveofourown.org' + link.get('href')\n",
    "    return full_url"
   ]
  },
  {
   "cell_type": "code",
   "execution_count": 532,
   "metadata": {
    "collapsed": false
   },
   "outputs": [],
   "source": [
    "def get_contents(url):\n",
    "    #get work metadata and contents from the work page.\n",
    "    print 'Reading url:', url\n",
    "#     try:\n",
    "    page = bs(urllib2.urlopen(url))\n",
    "    content = str(page.body.text.encode('utf-8'))\n",
    "#     contents = re.findall('Work Header+.+Actions',text,flags=re.DOTALL)[0].replace('\\n','A')\n",
    "#     except:\n",
    "#         print 'Unable to read from this url'\n",
    "#         contents = ''\n",
    "#         with open('/Users/jingy/Desktop/problematic_url.csv', 'a') as g:\n",
    "#             g.write(url)\n",
    "    return url, contents"
   ]
  },
  {
   "cell_type": "code",
   "execution_count": 502,
   "metadata": {
    "collapsed": false
   },
   "outputs": [
    {
     "name": "stdout",
     "output_type": "stream",
     "text": [
      "Reading url: http://archiveofourown.org/works/5205566\n"
     ]
    },
    {
     "data": {
      "text/plain": [
       "\"Bobobo-bo Bo-bobo (Anime & Manga)Soul Eater (Anime)Kingdom HeartsCave StoryPokemonHaloBlazBlue\\\\xe6\\\\x96\\\\xb0\\\\xe3\\\\x83\\\\xbb\\\\xe5\\\\x85\\\\x89\\\\xe7\\\\xa5\\\\x9e\\\\xe8\\\\xa9\\\\xb1 \\\\xe3\\\\x83\\\\x91\\\\xe3\\\\x83\\\\xab\\\\xe3\\\\x83\\\\x86\\\\xe3\\\\x83\\\\x8a\\\\xe3\\\\x81\\\\xae\\\\xe9\\\\x8f\\\\xa1 | Kid Icarus: Uprising (Video Game)RWBYMaximum Ride - James PattersonDanny PhantomRockman Zero | Mega Man ZeroSubarashiki Kono Sekai | The World Ends With YouLaw of TalosAssassin\\\\'s CreedFinal Fantasy VIIVocaloidPowerpuff GirlsPrototype (Video Games)HellsingKirby (Video Games)HomestuckDragon BallSonic the Hedgehog (Video Games)Kuroshitsuji | Black ButlerGrim Tales (Webcomic)\""
      ]
     },
     "execution_count": 502,
     "metadata": {},
     "output_type": "execute_result"
    }
   ],
   "source": [
    "c = get_contents('http://archiveofourown.org/works/5205566')\n",
    "f = [i for i in re.findall('Fandoms:A          AAA(.*?)AAAA\\\n",
    "    |Fandom:A          AAA(.*?)AAAA',str(c))[0] if i != ''][0]\n",
    "f"
   ]
  },
  {
   "cell_type": "code",
   "execution_count": 490,
   "metadata": {
    "collapsed": false
   },
   "outputs": [],
   "source": [
    "def write_header():\n",
    "    f = open('/Users/jingy/Desktop/works.csv', 'a')\n",
    "    writer = csv.writer(f, delimiter=',')\n",
    "    keys = ['Additional Tags', 'Archive Warning', 'Author', 'Category', 'Characters', 'Fandoms', 'Language', 'Notes',\\\n",
    "            'Rating', 'Relationship', 'Stats', 'Summary', 'Text', 'Title']\n",
    "    writer.writerow(keys)\n",
    "    f.close()"
   ]
  },
  {
   "cell_type": "code",
   "execution_count": 491,
   "metadata": {
    "collapsed": false
   },
   "outputs": [],
   "source": [
    "def write_work_content(work_dict):\n",
    "    #write work metadata and contents as values of a sorted dictionary.\n",
    "    f = open('/Users/jingy/Desktop/works.csv', 'a')\n",
    "    writer = csv.writer(f, delimiter=',')\n",
    "#     try:\n",
    "    writer.writerow(OrderedDict(sorted(work_dict.items())).values())\n",
    "#     OrderedDict(sorted(d.items())).values()\n",
    "#     except:\n",
    "#         pass\n",
    "    f.close()"
   ]
  },
  {
   "cell_type": "code",
   "execution_count": 533,
   "metadata": {
    "collapsed": false
   },
   "outputs": [],
   "source": [
    "#creates dictionary for information in a single work.\n",
    "def create_work_dict(url, contents):\n",
    "    #get work metadata and contents into a dictrionary.\n",
    "    print 'Getting work information from:', url\n",
    "#     try:\n",
    "    work = {}\n",
    "    work['Rating'] = str(re.findall('Not Rated|General Audiences|Teen And Up Audiences|Mature|Explicit',contents)[0]).strip()\n",
    "    work['Archive Warning'] = re.findall('Creator Chose Not To Use Archive Warnings|Graphic Depictions Of Violence\\\n",
    "    |Major Character Death|No Archive Warnings Apply|Rape/Non-Con|Underage',contents)[0].strip()\n",
    "    work['Category'] = str(re.findall('F/F|F/M|Gen|M/M|Multi|Other',contents)[0])\n",
    "    work['Fandoms'] = [i for i in re.findall('Fandoms:A          AAA(.*?)AAAA\\\n",
    "    |Fandom:A          AAA(.*?)AAAA',contents)[0] if i != ''][0]\n",
    "    relationship = re.findall('Relationship:A          AAA(.*?)AAAA',contents)\n",
    "    if relationship == []:\n",
    "        work['Relationship'] = ''\n",
    "    else:\n",
    "        work['Relationship'] = relationship[0]\n",
    "    work['Characters'] = re.findall('Characters:A          AAA(.*?)AAAA',contents)[0]\n",
    "    work['Additional Tags'] = re.findall('Additional Tags:A          AAA(.*?)AAAA',contents)[0].strip()\n",
    "    work['Language'] =  re.findall('Language:A      AA(.*?)A      A',contents)[0].strip()\n",
    "    work['Stats'] = re.findall('Stats:AAA(.*?)AAAAAAAA',contents)[0].strip()\n",
    "    work['Author'] = re.findall('A    AA(.*?)AAA',contents)[0].strip()\n",
    "    work['Text']= [i for i in re.findall('Work Text:(.*?)AAAAAAAA|Chapter TextA(.*?)AAAAA',contents)[0] if i != ''][0].strip()\n",
    "    work['Title']  = re.findall('AAAAAAAA      (.*?)A    AA',contents)[0].strip()\n",
    "    work['Summary'] = re.findall('Summary:AAA(.*?)AAAAA',contents)[0].strip()\n",
    "    work['Notes'] = re.findall('Notes:AA(.*?)AA',contents)[0].strip()\n",
    "    print 'Finished with:', url\n",
    "#     except:\n",
    "#         print 'Something went wrong.'\n",
    "    return work"
   ]
  },
  {
   "cell_type": "code",
   "execution_count": 503,
   "metadata": {
    "collapsed": false
   },
   "outputs": [
    {
     "name": "stdout",
     "output_type": "stream",
     "text": [
      "Getting work information from: http://archiveofourown.org/works/5205566\n",
      "Finished with: http://archiveofourown.org/works/5205566\n"
     ]
    }
   ],
   "source": [
    "d = create_work_dict('http://archiveofourown.org/works/5205566',str(c))"
   ]
  },
  {
   "cell_type": "code",
   "execution_count": 505,
   "metadata": {
    "collapsed": false
   },
   "outputs": [
    {
     "data": {
      "text/plain": [
       "['http://archiveofourown.org/works/4214751',\n",
       " 'http://archiveofourown.org/works/3966586',\n",
       " 'http://archiveofourown.org/works/5205566',\n",
       " 'http://archiveofourown.org/works/4373063',\n",
       " 'http://archiveofourown.org/works/4255134',\n",
       " 'http://archiveofourown.org/works/5202845',\n",
       " 'http://archiveofourown.org/works/5059657',\n",
       " 'http://archiveofourown.org/works/5044171',\n",
       " 'http://archiveofourown.org/works/3426482',\n",
       " 'http://archiveofourown.org/works/1543778',\n",
       " 'http://archiveofourown.org/works/5198324',\n",
       " 'http://archiveofourown.org/works/5191499',\n",
       " 'http://archiveofourown.org/works/3344000',\n",
       " 'http://archiveofourown.org/works/4747361',\n",
       " 'http://archiveofourown.org/works/5186363',\n",
       " 'http://archiveofourown.org/works/5185049',\n",
       " 'http://archiveofourown.org/works/5184905',\n",
       " 'http://archiveofourown.org/works/5184620',\n",
       " 'http://archiveofourown.org/works/5184485',\n",
       " 'http://archiveofourown.org/works/3855223']"
      ]
     },
     "execution_count": 505,
     "metadata": {},
     "output_type": "execute_result"
    }
   ],
   "source": [
    "worklist"
   ]
  },
  {
   "cell_type": "code",
   "execution_count": 537,
   "metadata": {
    "collapsed": false
   },
   "outputs": [
    {
     "name": "stdout",
     "output_type": "stream",
     "text": [
      "full url: http://archiveofourown.org/works/4214751?view_full_work=true\n",
      "Reading url: http://archiveofourown.org/works/3855223\n",
      "http://archiveofourown.org/works/3855223\n",
      "Getting work information from: http://archiveofourown.org/works/3855223\n",
      "Finished with: http://archiveofourown.org/works/3855223\n",
      "full url: http://archiveofourown.org/works/3966586?view_full_work=true\n",
      "Reading url: http://archiveofourown.org/works/3855223\n",
      "http://archiveofourown.org/works/3855223\n",
      "Getting work information from: http://archiveofourown.org/works/3855223\n",
      "Finished with: http://archiveofourown.org/works/3855223\n",
      "full url: http://archiveofourown.org/works/5205566\n",
      "Reading url: http://archiveofourown.org/works/3855223\n",
      "http://archiveofourown.org/works/3855223\n",
      "Getting work information from: http://archiveofourown.org/works/3855223\n",
      "Finished with: http://archiveofourown.org/works/3855223\n",
      "full url: http://archiveofourown.org/works/4373063?view_full_work=true\n",
      "Reading url: http://archiveofourown.org/works/3855223\n",
      "http://archiveofourown.org/works/3855223\n",
      "Getting work information from: http://archiveofourown.org/works/3855223\n",
      "Finished with: http://archiveofourown.org/works/3855223\n",
      "full url: http://archiveofourown.org/works/4255134\n",
      "Reading url: http://archiveofourown.org/works/3855223\n",
      "http://archiveofourown.org/works/3855223\n",
      "Getting work information from: http://archiveofourown.org/works/3855223\n",
      "Finished with: http://archiveofourown.org/works/3855223\n",
      "full url: http://archiveofourown.org/works/5202845\n",
      "Reading url: http://archiveofourown.org/works/3855223\n",
      "http://archiveofourown.org/works/3855223\n",
      "Getting work information from: http://archiveofourown.org/works/3855223\n",
      "Finished with: http://archiveofourown.org/works/3855223\n",
      "full url: http://archiveofourown.org/works/5059657\n",
      "Reading url: http://archiveofourown.org/works/3855223\n",
      "http://archiveofourown.org/works/3855223\n",
      "Getting work information from: http://archiveofourown.org/works/3855223\n",
      "Finished with: http://archiveofourown.org/works/3855223\n",
      "full url: http://archiveofourown.org/works/5044171\n",
      "Reading url: http://archiveofourown.org/works/3855223\n",
      "http://archiveofourown.org/works/3855223\n",
      "Getting work information from: http://archiveofourown.org/works/3855223\n",
      "Finished with: http://archiveofourown.org/works/3855223\n",
      "full url: http://archiveofourown.org/works/3426482?view_full_work=true\n",
      "Reading url: http://archiveofourown.org/works/3855223\n",
      "http://archiveofourown.org/works/3855223\n",
      "Getting work information from: http://archiveofourown.org/works/3855223\n",
      "Finished with: http://archiveofourown.org/works/3855223\n",
      "full url: http://archiveofourown.org/works/1543778\n",
      "Reading url: http://archiveofourown.org/works/3855223\n",
      "http://archiveofourown.org/works/3855223\n",
      "Getting work information from: http://archiveofourown.org/works/3855223\n",
      "Finished with: http://archiveofourown.org/works/3855223\n",
      "full url: http://archiveofourown.org/works/5198324\n",
      "Reading url: http://archiveofourown.org/works/3855223\n",
      "http://archiveofourown.org/works/3855223\n",
      "Getting work information from: http://archiveofourown.org/works/3855223\n",
      "Finished with: http://archiveofourown.org/works/3855223\n",
      "full url: http://archiveofourown.org/works/5191499\n",
      "Reading url: http://archiveofourown.org/works/3855223\n",
      "http://archiveofourown.org/works/3855223\n",
      "Getting work information from: http://archiveofourown.org/works/3855223\n",
      "Finished with: http://archiveofourown.org/works/3855223\n",
      "full url: http://archiveofourown.org/works/3344000\n",
      "Reading url: http://archiveofourown.org/works/3855223\n",
      "http://archiveofourown.org/works/3855223\n",
      "Getting work information from: http://archiveofourown.org/works/3855223\n",
      "Finished with: http://archiveofourown.org/works/3855223\n",
      "full url: http://archiveofourown.org/works/4747361\n",
      "Reading url: http://archiveofourown.org/works/3855223\n",
      "http://archiveofourown.org/works/3855223\n",
      "Getting work information from: http://archiveofourown.org/works/3855223\n",
      "Finished with: http://archiveofourown.org/works/3855223\n",
      "full url: http://archiveofourown.org/works/5186363\n",
      "Reading url: http://archiveofourown.org/works/3855223\n",
      "http://archiveofourown.org/works/3855223\n",
      "Getting work information from: http://archiveofourown.org/works/3855223\n",
      "Finished with: http://archiveofourown.org/works/3855223\n",
      "full url: http://archiveofourown.org/works/5185049\n",
      "Reading url: http://archiveofourown.org/works/3855223\n",
      "http://archiveofourown.org/works/3855223\n",
      "Getting work information from: http://archiveofourown.org/works/3855223\n",
      "Finished with: http://archiveofourown.org/works/3855223\n",
      "full url: http://archiveofourown.org/works/5184905\n",
      "Reading url: http://archiveofourown.org/works/3855223\n",
      "http://archiveofourown.org/works/3855223\n",
      "Getting work information from: http://archiveofourown.org/works/3855223\n",
      "Finished with: http://archiveofourown.org/works/3855223\n",
      "full url: http://archiveofourown.org/works/5184620\n",
      "Reading url: http://archiveofourown.org/works/3855223\n",
      "http://archiveofourown.org/works/3855223\n",
      "Getting work information from: http://archiveofourown.org/works/3855223\n",
      "Finished with: http://archiveofourown.org/works/3855223\n",
      "full url: http://archiveofourown.org/works/5184485\n",
      "Reading url: http://archiveofourown.org/works/3855223\n",
      "http://archiveofourown.org/works/3855223\n",
      "Getting work information from: http://archiveofourown.org/works/3855223\n",
      "Finished with: http://archiveofourown.org/works/3855223\n",
      "full url: http://archiveofourown.org/works/3855223\n",
      "Reading url: http://archiveofourown.org/works/3855223\n",
      "http://archiveofourown.org/works/3855223\n",
      "Getting work information from: http://archiveofourown.org/works/3855223\n",
      "Finished with: http://archiveofourown.org/works/3855223\n"
     ]
    }
   ],
   "source": [
    "page1 = find_page(fandom, 1)\n",
    "worklist = find_works(page1)\n",
    "write_header()\n",
    "for i in worklist:\n",
    "    f = show_allch(i)\n",
    "    print 'full url:', f\n",
    "    u, c = get_contents(u)\n",
    "    print url\n",
    "    work = create_work_dict(u, c)\n",
    "#     print work\n",
    "    write_work_content(work)"
   ]
  },
  {
   "cell_type": "code",
   "execution_count": null,
   "metadata": {
    "collapsed": true
   },
   "outputs": [],
   "source": []
  },
  {
   "cell_type": "code",
   "execution_count": null,
   "metadata": {
    "collapsed": true
   },
   "outputs": [],
   "source": []
  },
  {
   "cell_type": "code",
   "execution_count": null,
   "metadata": {
    "collapsed": true
   },
   "outputs": [],
   "source": [
    "base = bs(urllib2.urlopen('http://archiveofourown.org/works/4373063/chapters/9925442'))"
   ]
  },
  {
   "cell_type": "code",
   "execution_count": null,
   "metadata": {
    "collapsed": true
   },
   "outputs": [],
   "source": [
    "if 'page' in link.get('href'):\n",
    "        links.append(link.get('href'))\n",
    "next_url = 'http://archiveofourown.org/'+links[-1]\n",
    "next_page = bs(urllib2.urlopen(next_url))\n",
    "return next_url"
   ]
  },
  {
   "cell_type": "code",
   "execution_count": null,
   "metadata": {
    "collapsed": true
   },
   "outputs": [],
   "source": []
  },
  {
   "cell_type": "code",
   "execution_count": null,
   "metadata": {
    "collapsed": true
   },
   "outputs": [],
   "source": []
  },
  {
   "cell_type": "code",
   "execution_count": 384,
   "metadata": {
    "collapsed": false
   },
   "outputs": [
    {
     "name": "stdout",
     "output_type": "stream",
     "text": [
      "{}\n"
     ]
    }
   ],
   "source": [
    "# import re\n",
    "# from itertools import izip\n",
    "\n",
    "# # s = 'Title: Example: of a title Date: November 23 1234 Other: Other information'\n",
    "\n",
    "# keys = ['Rating', 'Archive Warning', 'Other']\n",
    "# pattern = re.compile('({})\\s+'.format(':|'.join(keys)))\n",
    "\n",
    "# print dict(izip(*[(i.strip() for i in (pattern.split(contents)) if i)]*2))"
   ]
  },
  {
   "cell_type": "code",
   "execution_count": 351,
   "metadata": {
    "collapsed": false,
    "scrolled": true
   },
   "outputs": [],
   "source": [
    "# def find_nextpage(base):\n",
    "#     links = []\n",
    "#     for link in base.find_all('a'):\n",
    "#         if 'page' in link.get('href'):\n",
    "#             links.append(link.get('href'))\n",
    "#     next_url = 'http://archiveofourown.org/'+links[-1]\n",
    "#     next_page = bs(urllib2.urlopen(next_url))\n",
    "#     return next_url"
   ]
  }
 ],
 "metadata": {
  "kernelspec": {
   "display_name": "Python 2",
   "language": "python",
   "name": "python2"
  },
  "language_info": {
   "codemirror_mode": {
    "name": "ipython",
    "version": 2
   },
   "file_extension": ".py",
   "mimetype": "text/x-python",
   "name": "python",
   "nbconvert_exporter": "python",
   "pygments_lexer": "ipython2",
   "version": "2.7.10"
  }
 },
 "nbformat": 4,
 "nbformat_minor": 0
}
