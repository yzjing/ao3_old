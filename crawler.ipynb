{
 "cells": [
  {
   "cell_type": "code",
   "execution_count": 10,
   "metadata": {
    "collapsed": true
   },
   "outputs": [],
   "source": [
    "from bs4 import BeautifulSoup as bs\n",
    "import urllib2\n",
    "import re"
   ]
  },
  {
   "cell_type": "code",
   "execution_count": 251,
   "metadata": {
    "collapsed": true
   },
   "outputs": [],
   "source": [
    "url = 'http://archiveofourown.org/works/5200616'"
   ]
  },
  {
   "cell_type": "code",
   "execution_count": 255,
   "metadata": {
    "collapsed": false
   },
   "outputs": [],
   "source": [
    "page = bs(urllib2.urlopen(url))\n",
    "text = str(page.body.find('div').text.encode('utf-8'))\n",
    "contents = re.findall('Work Header+.+Actions',text,flags=re.DOTALL)[0].replace('\\n','A')"
   ]
  },
  {
   "cell_type": "code",
   "execution_count": 258,
   "metadata": {
    "collapsed": false
   },
   "outputs": [
    {
     "data": {
      "text/plain": [
       "\"Work HeaderAAAA              Rating:A          AAATeen And Up AudiencesAAAAArchive Warning:A          AAANo Archive Warnings ApplyAAAA              Category:A          AAAM/MAAAA              Fandom:A          AAAThe Silmarillion and other histories of Middle-Earth - J. R. R. TolkienAAAA              Relationship:A          AAABeleg C\\xc3\\xbathalion/T\\xc3\\xbarin TurambarAAAA              Characters:A          AAABeleg C\\xc3\\xbathalionT\\xc3\\xbarin TurambarAAAA              Additional Tags:A          AAAOriginally Posted on TumblrFicletDoomed RelationshipAAAA        Language:A      AA        EnglishA      AStats:AAAPublished:2015-11-13Words:122Chapters:1/1Kudos:8Hits:33AAAAAAAA      my hero bares his nervesA    AAhavishamAAASummary:AAAHe promises secret heat.AAAAANotes:AAWritten for the prompt -  the Turin pairing of your choice having disastrous sex. But it's always a disaster, when T\\xc3\\xbarin's around!AA(See the end of the work for more notes.)AAAAAAWork Text:A\\xe2\\x80\\x9cWhy do you love me so? Sometimes I think it is a part of my curse,\\xe2\\x80\\x9d T\\xc3\\xbarin said, one night, on the edge of falling asleep. He was curled up against Beleg, in their bed of furs, and sounded so forlorn that Beleg turned to look at him. From there, he could quite help touching T\\xc3\\xbarin\\xe2\\x80\\x99s face, and kissing his throat.T\\xc3\\xbarin\\xe2\\x80\\x99s eyelashes fluttered, casting shadows on his cheek. He smiled, half-regretfully, at Beleg.Beleg felt a familiar jolt of lust and guilt and love. He reached for T\\xc3\\xbarin, and T\\xc3\\xbarin for him. Soon, they were so tangled up with each other that T\\xc3\\xbarin did not hear Beleg\\xe2\\x80\\x99s answer.Yes, Beleg had whispered into T\\xc3\\xbarin\\xe2\\x80\\x99s skin. It is a part of it.AAAAAAAANotes:ATitle from a poem by Dylan Thomas, and super hot. Source.AAAAAAAAAAAActions\""
      ]
     },
     "execution_count": 258,
     "metadata": {},
     "output_type": "execute_result"
    }
   ],
   "source": [
    "contents"
   ]
  },
  {
   "cell_type": "code",
   "execution_count": 263,
   "metadata": {
    "collapsed": true
   },
   "outputs": [],
   "source": [
    "#creates dictionary for information in a single work.\n",
    "def create_work_dict(contents):\n",
    "    try:\n",
    "        work = {}\n",
    "        work['Rating'] = str(re.findall('Not Rated|General Audiences|Teen And Up Audiences|Mature|Explicit',contents)[0])\n",
    "        work['Archive Warning'] = str(re.findall('Creator Chose Not To Use Archive Warnings|Graphic Depictions Of Violence\\\n",
    "        |Major Character Death|No Archive Warnings Apply|Rape/Non-Con|Underage',contents)[0])\n",
    "        work['Category'] = str(re.findall('F/F|F/M|Gen|M/M|Multi|Other',contents)[0])\n",
    "        work['Fandoms'] = [i for i in re.findall('Fandoms:A          AAA(.*?)AAAA\\\n",
    "        |Fandom:A          AAA(.*?)AAAA',contents)[0] if i != '']\n",
    "        work['Relationship'] = re.findall('Relationship:A          AAA(.*?)AAAA',contents)[0]\n",
    "        work['Characters'] = re.findall('Characters:A          AAA(.*?)AAAA',contents)[0]\n",
    "        work['Additional Tags'] = re.findall('Additional Tags:A          AAA(.*?)AAAA',contents)[0].strip()\n",
    "        work['Language'] =  re.findall('Language:A      AA(.*?)A      A',contents)[0].strip()\n",
    "        work['Stats'] = re.findall('Stats:AAA(.*?)AAAAAAAA',contents)[0].strip()\n",
    "        work['Author'] = re.findall('A    AA(.*?)AAA',contents)[0].strip()\n",
    "        work['Text']= re.findall('Work Text:(.*?)AAAAAAAA',contents)[0].strip()\n",
    "        work['Title']  = re.findall('AAAAAAAA      (.*?)A    AA',contents)[0].strip()\n",
    "        work['Summary'] = re.findall('Summary:AAA(.*?)AAAAA',contents)[0].strip()\n",
    "        work['Notes'] = re.findall('Notes:AA(.*?)AA',contents)[0].strip()\n",
    "    except:\n",
    "        print 'Something went wrong.'\n",
    "    return work"
   ]
  },
  {
   "cell_type": "code",
   "execution_count": 264,
   "metadata": {
    "collapsed": false
   },
   "outputs": [
    {
     "data": {
      "text/plain": [
       "{'Additional Tags': 'Originally Posted on TumblrFicletDoomed Relationship',\n",
       " 'Archive Warning': 'No Archive Warnings Apply',\n",
       " 'Author': 'havisham',\n",
       " 'Category': 'M/M',\n",
       " 'Characters': 'Beleg C\\xc3\\xbathalionT\\xc3\\xbarin Turambar',\n",
       " 'Fandoms': ['The Silmarillion and other histories of Middle-Earth - J. R. R. Tolkien'],\n",
       " 'Language': 'English',\n",
       " 'Notes': \"Written for the prompt -  the Turin pairing of your choice having disastrous sex. But it's always a disaster, when T\\xc3\\xbarin's around!\",\n",
       " 'Rating': 'Teen And Up Audiences',\n",
       " 'Relationship': 'Beleg C\\xc3\\xbathalion/T\\xc3\\xbarin Turambar',\n",
       " 'Stats': 'Published:2015-11-13Words:122Chapters:1/1Kudos:8Hits:33',\n",
       " 'Summary': 'He promises secret heat.',\n",
       " 'Text': 'A\\xe2\\x80\\x9cWhy do you love me so? Sometimes I think it is a part of my curse,\\xe2\\x80\\x9d T\\xc3\\xbarin said, one night, on the edge of falling asleep. He was curled up against Beleg, in their bed of furs, and sounded so forlorn that Beleg turned to look at him. From there, he could quite help touching T\\xc3\\xbarin\\xe2\\x80\\x99s face, and kissing his throat.T\\xc3\\xbarin\\xe2\\x80\\x99s eyelashes fluttered, casting shadows on his cheek. He smiled, half-regretfully, at Beleg.Beleg felt a familiar jolt of lust and guilt and love. He reached for T\\xc3\\xbarin, and T\\xc3\\xbarin for him. Soon, they were so tangled up with each other that T\\xc3\\xbarin did not hear Beleg\\xe2\\x80\\x99s answer.Yes, Beleg had whispered into T\\xc3\\xbarin\\xe2\\x80\\x99s skin. It is a part of it.',\n",
       " 'Title': 'my hero bares his nerves'}"
      ]
     },
     "execution_count": 264,
     "metadata": {},
     "output_type": "execute_result"
    }
   ],
   "source": [
    "create_work_dict(contents)"
   ]
  },
  {
   "cell_type": "code",
   "execution_count": 384,
   "metadata": {
    "collapsed": false
   },
   "outputs": [
    {
     "name": "stdout",
     "output_type": "stream",
     "text": [
      "{}\n"
     ]
    }
   ],
   "source": [
    "import re\n",
    "from itertools import izip\n",
    "\n",
    "# s = 'Title: Example: of a title Date: November 23 1234 Other: Other information'\n",
    "\n",
    "keys = ['Rating', 'Archive Warning', 'Other']\n",
    "pattern = re.compile('({})\\s+'.format(':|'.join(keys)))\n",
    "\n",
    "print dict(izip(*[(i.strip() for i in (pattern.split(contents)) if i)]*2))"
   ]
  },
  {
   "cell_type": "code",
   "execution_count": 23,
   "metadata": {
    "collapsed": false,
    "scrolled": true
   },
   "outputs": [
    {
     "name": "stdout",
     "output_type": "stream",
     "text": [
      "#main\n",
      "/\n",
      "/user_sessions/new\n",
      "/passwords/new\n",
      "/invite_requests\n",
      "/menu/fandoms\n",
      "/media\n",
      "/media/Anime%20*a*%20Manga/fandoms\n",
      "/media/Books%20*a*%20Literature/fandoms\n",
      "/media/Cartoons%20*a*%20Comics%20*a*%20Graphic%20Novels/fandoms\n",
      "/media/Celebrities%20*a*%20Real%20People/fandoms\n",
      "/media/Movies/fandoms\n",
      "/media/Music%20*a*%20Bands/fandoms\n",
      "/media/Other%20Media/fandoms\n",
      "/media/Theater/fandoms\n",
      "/media/TV%20Shows/fandoms\n",
      "/media/Video%20Games/fandoms\n",
      "/media/Uncategorized%20Fandoms/fandoms\n",
      "/menu/browse\n",
      "/works\n",
      "/bookmarks\n",
      "/tags\n",
      "/collections\n",
      "/menu/search\n",
      "/works/search\n",
      "/bookmarks/search\n",
      "/tags/search\n",
      "/people/search\n",
      "/menu/about\n",
      "/about\n",
      "/admin_posts\n",
      "/faq\n",
      "/wrangling_guidelines\n",
      "/donate\n",
      "None\n",
      "#work\n",
      "#comments\n",
      "#share\n",
      "http://twitter.com/share\n",
      "http://www.tumblr.com/share/link?url=http%3A%2F%2Farchiveofourown.org%2Fworks%2F5176751&name=A%20Delicious%20Drink%20%28554%20words%29%20by%20Loony%20Puppeteer%20%5BAO3%5D&description=Chapters%3A%201%2F1%3Cbr%20%2F%3EFandom%3A%20%3Ca%20href%3D%22http%3A%2F%2Farchiveofourown.org%2Ftags%2FHannibal%2520%28TV%29%22%3EHannibal%20%28TV%29%3C%2Fa%3E%2C%20%3Ca%20href%3D%22http%3A%2F%2Farchiveofourown.org%2Ftags%2FHannibal%2520Lecter%2520Series%2520-%2520All%2520Media%2520Types%22%3EHannibal%20Lecter%20Series%20-%20All%20Media%20Types%3C%2Fa%3E%3Cbr%20%2F%3ERating%3A%20Teen%20And%20Up%20Audiences%3Cbr%20%2F%3EWarnings%3A%20No%20Archive%20Warnings%20Apply%3Cbr%20%2F%3ERelationships%3A%20Will%20Graham%2FHannibal%20Lecter%3Cbr%20%2F%3ECharacters%3A%20Will%20Graham%2C%20Hannibal%20Lecter%3Cbr%20%2F%3EAdditional%20Tags%3A%20Drinking%20Cum%3Cbr%20%2F%3ESummary%3A%20%3Cp%3EWill%20offers%20to%20get%20them%20something%20to%20drink.%20He%20brings%20Hannibal%20his%20favorite%20drink%20of%20all%2C%20in%20a%20martini%20glass.%3C%2Fp%3E\n",
      "#\n",
      "/downloads/Lo/Loony%20Puppeteer/5176751/A%20Delicious%20Drink.mobi?updated_at=1447063831\n",
      "/downloads/Lo/Loony%20Puppeteer/5176751/A%20Delicious%20Drink.epub?updated_at=1447063831\n",
      "/downloads/Lo/Loony%20Puppeteer/5176751/A%20Delicious%20Drink.pdf?updated_at=1447063831\n",
      "/downloads/Lo/Loony%20Puppeteer/5176751/A%20Delicious%20Drink.html?updated_at=1447063831\n",
      "http://archiveofourown.org/tags/Teen%20And%20Up%20Audiences/works\n",
      "/tos_faq#tags\n",
      "http://archiveofourown.org/tags/No%20Archive%20Warnings%20Apply/works\n",
      "http://archiveofourown.org/tags/M*s*M/works\n",
      "http://archiveofourown.org/tags/Hannibal%20(TV)/works\n",
      "http://archiveofourown.org/tags/Hannibal%20Lecter%20Series%20-%20All%20Media%20Types/works\n",
      "http://archiveofourown.org/tags/Will%20Graham*s*Hannibal%20Lecter/works\n",
      "http://archiveofourown.org/tags/Will%20Graham/works\n",
      "http://archiveofourown.org/tags/Hannibal%20Lecter/works\n",
      "http://archiveofourown.org/tags/Drinking%20Cum/works\n",
      "http://archiveofourown.org/users/rea40/pseuds/Loony%20Puppeteer\n",
      "#main\n",
      "None\n",
      "/users/Hannigrammatic\n",
      "#\n",
      "/site_map\n",
      "/diversity\n",
      "/tos\n",
      "/dmca\n",
      "/abuse_reports/new\n",
      "/support\n",
      "https://github.com/otwcode/otwarchive/commits/v0.9.87.2\n",
      "/known_issues\n",
      "http://www.gnu.org/licenses/gpl-2.0.html\n",
      "http://transformativeworks.org/\n"
     ]
    }
   ],
   "source": [
    "for link in soup.find_all('a'):\n",
    "    print(link.get('href'))"
   ]
  }
 ],
 "metadata": {
  "kernelspec": {
   "display_name": "Python 2",
   "language": "python",
   "name": "python2"
  },
  "language_info": {
   "codemirror_mode": {
    "name": "ipython",
    "version": 2
   },
   "file_extension": ".py",
   "mimetype": "text/x-python",
   "name": "python",
   "nbconvert_exporter": "python",
   "pygments_lexer": "ipython2",
   "version": "2.7.10"
  }
 },
 "nbformat": 4,
 "nbformat_minor": 0
}
