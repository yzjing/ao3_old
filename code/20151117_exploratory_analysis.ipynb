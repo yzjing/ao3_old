{
 "cells": [
  {
   "cell_type": "code",
   "execution_count": 1,
   "metadata": {
    "collapsed": true
   },
   "outputs": [],
   "source": [
    "import pandas as pd\n",
    "import re"
   ]
  },
  {
   "cell_type": "code",
   "execution_count": 2,
   "metadata": {
    "collapsed": true
   },
   "outputs": [],
   "source": [
    "f = './ao3_work_sherlock_test.csv'"
   ]
  },
  {
   "cell_type": "code",
   "execution_count": 3,
   "metadata": {
    "collapsed": true
   },
   "outputs": [],
   "source": [
    "df = pd.read_csv(f)"
   ]
  },
  {
   "cell_type": "code",
   "execution_count": 4,
   "metadata": {
    "collapsed": false
   },
   "outputs": [
    {
     "data": {
      "text/plain": [
       "0     Category\n",
       "3          M/M\n",
       "6          NaN\n",
       "17         F/M\n",
       "29         Gen\n",
       "55       Other\n",
       "Name: Category, dtype: object"
      ]
     },
     "execution_count": 4,
     "metadata": {},
     "output_type": "execute_result"
    }
   ],
   "source": [
    "df['Category'].drop_duplicates()"
   ]
  },
  {
   "cell_type": "code",
   "execution_count": 8,
   "metadata": {
    "collapsed": false
   },
   "outputs": [
    {
     "data": {
      "text/html": [
       "<div>\n",
       "<table border=\"1\" class=\"dataframe\">\n",
       "  <thead>\n",
       "    <tr style=\"text-align: right;\">\n",
       "      <th></th>\n",
       "      <th>Additional Tags</th>\n",
       "      <th>Archive Warning</th>\n",
       "      <th>Author</th>\n",
       "      <th>Category</th>\n",
       "      <th>Characters</th>\n",
       "      <th>Fandoms</th>\n",
       "      <th>Language</th>\n",
       "      <th>Notes</th>\n",
       "      <th>Rating</th>\n",
       "      <th>Relationship</th>\n",
       "      <th>Stats</th>\n",
       "      <th>Summary</th>\n",
       "      <th>Text</th>\n",
       "      <th>Title</th>\n",
       "    </tr>\n",
       "  </thead>\n",
       "  <tbody>\n",
       "    <tr>\n",
       "      <th>93</th>\n",
       "      <td>Alpha/Beta/Omega Dynamics, Alternate Universe...</td>\n",
       "      <td>No Archive Warnings Apply</td>\n",
       "      <td>Feral_Fic_Writer</td>\n",
       "      <td>M/M</td>\n",
       "      <td>Sherlock Holmes, John Watson, Mike Stamford, G...</td>\n",
       "      <td>Sherlock (TV)</td>\n",
       "      <td>English</td>\n",
       "      <td>Sorry this took a time to get up... RL and all...</td>\n",
       "      <td>Mature</td>\n",
       "      <td>Sherlock Holmes/John Watson</td>\n",
       "      <td>Published:2015-10-03Updated:2015-11-17Words:48...</td>\n",
       "      <td>A/B/O-AU.  Inverted. In this world the alphas ...</td>\n",
       "      <td>AHis medical books and a new can of neutraliz...</td>\n",
       "      <td>On the Side of the Alpha</td>\n",
       "    </tr>\n",
       "  </tbody>\n",
       "</table>\n",
       "</div>"
      ],
      "text/plain": [
       "                                      Additional Tags  \\\n",
       "93   Alpha/Beta/Omega Dynamics, Alternate Universe...   \n",
       "\n",
       "               Archive Warning            Author Category  \\\n",
       "93   No Archive Warnings Apply  Feral_Fic_Writer      M/M   \n",
       "\n",
       "                                           Characters        Fandoms Language  \\\n",
       "93  Sherlock Holmes, John Watson, Mike Stamford, G...  Sherlock (TV)  English   \n",
       "\n",
       "                                                Notes   Rating  \\\n",
       "93  Sorry this took a time to get up... RL and all...   Mature   \n",
       "\n",
       "                    Relationship  \\\n",
       "93   Sherlock Holmes/John Watson   \n",
       "\n",
       "                                                Stats  \\\n",
       "93  Published:2015-10-03Updated:2015-11-17Words:48...   \n",
       "\n",
       "                                              Summary  \\\n",
       "93  A/B/O-AU.  Inverted. In this world the alphas ...   \n",
       "\n",
       "                                                 Text  \\\n",
       "93   AHis medical books and a new can of neutraliz...   \n",
       "\n",
       "                       Title  \n",
       "93  On the Side of the Alpha  "
      ]
     },
     "execution_count": 8,
     "metadata": {},
     "output_type": "execute_result"
    }
   ],
   "source": [
    "df_sample = df.tail(1)\n",
    "df_sample"
   ]
  },
  {
   "cell_type": "code",
   "execution_count": 34,
   "metadata": {
    "collapsed": false
   },
   "outputs": [
    {
     "name": "stdout",
     "output_type": "stream",
     "text": [
      "['Death', 'Murder', 'Non', 'Graphic']\n"
     ]
    }
   ],
   "source": [
    "for info in df_sample['']"
   ]
  }
 ],
 "metadata": {
  "kernelspec": {
   "display_name": "Python 2",
   "language": "python",
   "name": "python2"
  },
  "language_info": {
   "codemirror_mode": {
    "name": "ipython",
    "version": 2
   },
   "file_extension": ".py",
   "mimetype": "text/x-python",
   "name": "python",
   "nbconvert_exporter": "python",
   "pygments_lexer": "ipython2",
   "version": "2.7.10"
  }
 },
 "nbformat": 4,
 "nbformat_minor": 0
}
