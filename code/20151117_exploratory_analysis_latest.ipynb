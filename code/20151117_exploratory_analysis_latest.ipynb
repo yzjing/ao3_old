{
 "cells": [
  {
   "cell_type": "code",
   "execution_count": 4,
   "metadata": {
    "collapsed": true
   },
   "outputs": [],
   "source": [
    "import pandas as pd\n",
    "import re\n",
    "# import gensim\n",
    "from gensim import corpora, models, similarities"
   ]
  },
  {
   "cell_type": "code",
   "execution_count": 41,
   "metadata": {
    "collapsed": true
   },
   "outputs": [],
   "source": [
    "f = './data/ao3_work_sherlock_small.csv'"
   ]
  },
  {
   "cell_type": "code",
   "execution_count": 42,
   "metadata": {
    "collapsed": false
   },
   "outputs": [],
   "source": [
    "def create_sentences_list(text):\n",
    "    text = text.split('.')\n",
    "    sentences = []\n",
    "    for i in text:\n",
    "        sentence = i.split(' ')\n",
    "        sentences.append(sentence)\n",
    "    return sentences"
   ]
  },
  {
   "cell_type": "code",
   "execution_count": 43,
   "metadata": {
    "collapsed": true
   },
   "outputs": [],
   "source": [
    "def create_word2vec_model(sentences,window = 10, min_count=2):\n",
    "    model = models.Word2Vec(sentences, window = window, min_count=min_count)\n",
    "    return model"
   ]
  },
  {
   "cell_type": "code",
   "execution_count": 44,
   "metadata": {
    "collapsed": false
   },
   "outputs": [],
   "source": [
    "def create_corpus(sentences):\n",
    "    id2word = corpora.dictionary.Dictionary(sentences)\n",
    "    corpus = [id2word.doc2bow(sentence) for sentence in sentences]\n",
    "    return id2word, corpus"
   ]
  },
  {
   "cell_type": "code",
   "execution_count": 45,
   "metadata": {
    "collapsed": false
   },
   "outputs": [],
   "source": [
    "df = pd.read_csv(f)"
   ]
  },
  {
   "cell_type": "code",
   "execution_count": 46,
   "metadata": {
    "collapsed": false
   },
   "outputs": [
    {
     "data": {
      "text/plain": [
       "array(['AdditionalTags', 'ArchiveWarnings', 'Author', 'Bookmarks',\n",
       "       'Category', 'Chapters', 'Characters', 'Comments', 'CompleteDate',\n",
       "       'Fandoms', 'Hits', 'Kudos', 'Language', 'Notes', 'PublishDate',\n",
       "       'Rating', 'Relationship', 'Summary', 'Text', 'Title', 'Words'], dtype=object)"
      ]
     },
     "execution_count": 46,
     "metadata": {},
     "output_type": "execute_result"
    }
   ],
   "source": [
    "#All dimensions that we have\n",
    "df.columns.values"
   ]
  },
  {
   "cell_type": "code",
   "execution_count": 47,
   "metadata": {
    "collapsed": true
   },
   "outputs": [],
   "source": [
    "df_min= df[['Title','Text']]"
   ]
  },
  {
   "cell_type": "code",
   "execution_count": 48,
   "metadata": {
    "collapsed": false
   },
   "outputs": [
    {
     "data": {
      "text/html": [
       "<div>\n",
       "<table border=\"1\" class=\"dataframe\">\n",
       "  <thead>\n",
       "    <tr style=\"text-align: right;\">\n",
       "      <th></th>\n",
       "      <th>Title</th>\n",
       "      <th>Text</th>\n",
       "    </tr>\n",
       "  </thead>\n",
       "  <tbody>\n",
       "    <tr>\n",
       "      <th>0</th>\n",
       "      <td>Darkness Rising</td>\n",
       "      <td>The room was dark and cold and smelt distincti...</td>\n",
       "    </tr>\n",
       "    <tr>\n",
       "      <th>1</th>\n",
       "      <td>Darkness Rising</td>\n",
       "      <td>Sherlock was left un-cuffed to the bed and he ...</td>\n",
       "    </tr>\n",
       "    <tr>\n",
       "      <th>2</th>\n",
       "      <td>Darkness Rising</td>\n",
       "      <td>John could wish for Sherlock's safety as much ...</td>\n",
       "    </tr>\n",
       "    <tr>\n",
       "      <th>3</th>\n",
       "      <td>Darkness Rising</td>\n",
       "      <td>Sherlock was never one for crying but this new...</td>\n",
       "    </tr>\n",
       "    <tr>\n",
       "      <th>4</th>\n",
       "      <td>Darkness Rising</td>\n",
       "      <td>Sherlock had been strapped down to a board, hi...</td>\n",
       "    </tr>\n",
       "  </tbody>\n",
       "</table>\n",
       "</div>"
      ],
      "text/plain": [
       "             Title                                               Text\n",
       "0  Darkness Rising  The room was dark and cold and smelt distincti...\n",
       "1  Darkness Rising  Sherlock was left un-cuffed to the bed and he ...\n",
       "2  Darkness Rising  John could wish for Sherlock's safety as much ...\n",
       "3  Darkness Rising  Sherlock was never one for crying but this new...\n",
       "4  Darkness Rising  Sherlock had been strapped down to a board, hi..."
      ]
     },
     "execution_count": 48,
     "metadata": {},
     "output_type": "execute_result"
    }
   ],
   "source": [
    "df_min.head()"
   ]
  },
  {
   "cell_type": "code",
   "execution_count": 49,
   "metadata": {
    "collapsed": true
   },
   "outputs": [],
   "source": [
    "df_min.Text.to_csv('./small.txt')"
   ]
  },
  {
   "cell_type": "code",
   "execution_count": 50,
   "metadata": {
    "collapsed": false
   },
   "outputs": [],
   "source": [
    "t = ''.join([i for i in df_min.Text.astype(str)])\n",
    "sentences = create_sentences_list(t)"
   ]
  },
  {
   "cell_type": "code",
   "execution_count": 51,
   "metadata": {
    "collapsed": false
   },
   "outputs": [],
   "source": [
    "word2vec = create_word2vec_model(sentences, window = 20, min_count = 2)"
   ]
  },
  {
   "cell_type": "code",
   "execution_count": 61,
   "metadata": {
    "collapsed": false
   },
   "outputs": [
    {
     "data": {
      "text/plain": [
       "[('John', 0.9035213589668274),\n",
       " ('he', 0.8130170106887817),\n",
       " ('Mycroft', 0.801889955997467),\n",
       " ('Lestrade', 0.7578278183937073),\n",
       " ('Sherlock,', 0.6770110130310059),\n",
       " ('Greg', 0.6669801473617554),\n",
       " ('He', 0.6485081315040588),\n",
       " ('Enola', 0.615554690361023),\n",
       " ('it', 0.6093397736549377),\n",
       " ('John,', 0.5965865254402161),\n",
       " ('AHe', 0.5932294130325317),\n",
       " ('\\xe2\\x80\\x93A\\xc2\\xa0AJohn', 0.5914006233215332),\n",
       " ('arthur', 0.584626317024231),\n",
       " ('himself', 0.5746687650680542),\n",
       " ('AJohn', 0.5731463432312012),\n",
       " ('flagging,', 0.5722794532775879),\n",
       " ('him', 0.5682337284088135),\n",
       " ('warAgod,', 0.5676676034927368),\n",
       " (\"'bastard';\", 0.5639524459838867),\n",
       " ('Anderson', 0.5621310472488403),\n",
       " ('Enola,', 0.5596451163291931),\n",
       " ('half-darkness', 0.558563232421875),\n",
       " ('\\xe2\\x80\\x93\\xe2\\x80\\x9d\\xc2\\xa0\\xe2\\x80\\x9cNormal,\\xe2\\x80\\x9d',\n",
       "  0.5579030513763428),\n",
       " ('A\\xc2\\xa0A\\xe2\\x80\\x9cHa,\\xe2\\x80\\x9d', 0.5572805404663086),\n",
       " ('himself,', 0.5560713410377502),\n",
       " ('\"Helios', 0.5508109331130981),\n",
       " ('Aeon', 0.5507621765136719),\n",
       " ('Cecylia,', 0.5480828285217285),\n",
       " ('recovers', 0.5462086200714111),\n",
       " (\"'partner',\", 0.5454037189483643),\n",
       " ('ASensing', 0.5449295043945312),\n",
       " ('half-asleep,', 0.5426439642906189),\n",
       " ('disorganized', 0.5413204431533813),\n",
       " ('formulates', 0.5354870557785034),\n",
       " ('she', 0.5345354676246643),\n",
       " ('A\\xc2\\xa0A\\xc2\\xa0A\\xc2\\xa0AAJanuary', 0.533494234085083),\n",
       " ('\\xc2\\xa0He', 0.5333026051521301),\n",
       " ('propels', 0.5322619676589966),\n",
       " ('right?\\xe2\\x80\\x9dA\\xc2\\xa0A\\xe2\\x80\\x9cFine,\\xe2\\x80\\x9d',\n",
       "  0.532217264175415),\n",
       " ('him,', 0.5298264622688293),\n",
       " ('\"Sherlock', 0.5294972062110901),\n",
       " ('Problem?A\\xc2\\xa0ASherlock', 0.5276329517364502),\n",
       " ('\\xe2\\x80\\x9cJooooooooohn\\xe2\\x80\\x9d', 0.5267618894577026),\n",
       " ('cutting,', 0.5258926749229431),\n",
       " ('Helios', 0.5245472192764282),\n",
       " ('1AstA,', 0.5231825113296509),\n",
       " ('2025A\\xc2\\xa0Even', 0.5230382084846497),\n",
       " ('be?When', 0.5224097371101379),\n",
       " ('Ajohn', 0.521639347076416),\n",
       " (\"''Tell\", 0.5213876962661743)]"
      ]
     },
     "execution_count": 61,
     "metadata": {},
     "output_type": "execute_result"
    }
   ],
   "source": [
    "word2vec.most_similar('Sherlock', topn = 50)"
   ]
  },
  {
   "cell_type": "code",
   "execution_count": 58,
   "metadata": {
    "collapsed": false
   },
   "outputs": [],
   "source": [
    "documents = models.doc2vec.TaggedLineDocument('./small.txt')"
   ]
  },
  {
   "cell_type": "code",
   "execution_count": 59,
   "metadata": {
    "collapsed": false
   },
   "outputs": [],
   "source": [
    "model2 = models.Doc2Vec(documents, window = 20, min_count = 2)"
   ]
  },
  {
   "cell_type": "code",
   "execution_count": 60,
   "metadata": {
    "collapsed": false
   },
   "outputs": [
    {
     "data": {
      "text/plain": [
       "[(u'Lestrade', 0.8439409732818604),\n",
       " (u'John', 0.8407973051071167),\n",
       " (u'Mycroft', 0.8307822942733765),\n",
       " (u'Greg', 0.8268685340881348),\n",
       " (u'he', 0.8073933124542236),\n",
       " (u'Harry', 0.7960258722305298),\n",
       " (u'she', 0.7830967307090759),\n",
       " (u'Q', 0.767330527305603),\n",
       " (u'Bill', 0.7512486577033997),\n",
       " (u'Molly', 0.7500557899475098),\n",
       " (u'Mike', 0.7414400577545166),\n",
       " (u'Jim', 0.7347812652587891),\n",
       " (u'Hamish', 0.7329217195510864),\n",
       " (u'Sebastian', 0.7251040935516357),\n",
       " (u'Seb', 0.7117851972579956),\n",
       " (u'Arthur', 0.7086340188980103),\n",
       " (u'Martin', 0.706112802028656),\n",
       " (u'Jane', 0.7053660154342651),\n",
       " (u'Mary', 0.7029855847358704),\n",
       " (u'Dean', 0.6889766454696655),\n",
       " (u'Irene', 0.6889115571975708),\n",
       " (u'Anthea', 0.6856350898742676),\n",
       " (u'Stiles', 0.6841211318969727),\n",
       " (u'She', 0.6800330877304077),\n",
       " (u'Victor', 0.6781430244445801),\n",
       " (u'Anderson', 0.6750774383544922),\n",
       " (u'Bond', 0.6679270267486572),\n",
       " (u'Moriarty', 0.6672067642211914),\n",
       " (u'Sally', 0.6670323014259338),\n",
       " (u'Sam', 0.6655133366584778),\n",
       " (u'He', 0.6642371416091919),\n",
       " (u'Violet', 0.6541784405708313),\n",
       " (u'ASherlock', 0.6494871973991394),\n",
       " (u'Mummy', 0.6455906629562378),\n",
       " (u'Castiel', 0.6435415744781494),\n",
       " (u'\"\"He', 0.6315276622772217),\n",
       " (u'AHe', 0.6243040561676025),\n",
       " (u'David', 0.6228115558624268),\n",
       " (u'Douglas', 0.6214118003845215),\n",
       " (u'Everyone', 0.6190066337585449),\n",
       " (u'Derek', 0.6186652183532715),\n",
       " (u'Kate', 0.6172382831573486),\n",
       " (u'Vannus', 0.6171101331710815),\n",
       " (u'Father', 0.6168076395988464),\n",
       " (u'Clint', 0.6163949370384216),\n",
       " (u'Sarah', 0.6144078969955444),\n",
       " (u'Janine', 0.6138570308685303),\n",
       " (u'he,', 0.6126855611801147),\n",
       " (u'Thorin', 0.6107919216156006),\n",
       " (u'Jimmy', 0.6107160449028015)]"
      ]
     },
     "execution_count": 60,
     "metadata": {},
     "output_type": "execute_result"
    }
   ],
   "source": [
    "model2.most_similar('Sherlock', topn = 50)"
   ]
  },
  {
   "cell_type": "code",
   "execution_count": 62,
   "metadata": {
    "collapsed": false
   },
   "outputs": [],
   "source": [
    "id2word,corpus = create_corpus(sentences)\n",
    "lda = models.ldamodel.LdaModel(corpus=corpus,id2word=id2word,num_topics=10)"
   ]
  },
  {
   "cell_type": "code",
   "execution_count": 63,
   "metadata": {
    "collapsed": false
   },
   "outputs": [
    {
     "data": {
      "text/plain": [
       "[u'0.090* + 0.048*to + 0.034*you + 0.029*I + 0.019*he + 0.018*that + 0.018*it + 0.015*be + 0.015*have + 0.013*not',\n",
       " u\"0.036*had + 0.033*been + 0.019*her + 0.017* + 0.015*she + 0.014*and + 0.011*he's + 0.011*says + 0.011*the + 0.010*in\",\n",
       " u\"0.306* + 0.034*is + 0.013*John + 0.011*asked + 0.009*His + 0.009*looks + 0.008*Sherlock's + 0.006*Watson + 0.006*The + 0.006*feels\",\n",
       " u'0.086*the + 0.044* + 0.041*of + 0.034*and + 0.030*to + 0.028*a + 0.027*was + 0.024*he + 0.022*in + 0.014*that',\n",
       " u'0.034*Sherlock + 0.028*said + 0.018*John + 0.018*are + 0.015*is + 0.009*Holmes + 0.008*at + 0.007*What + 0.007*an + 0.007*us',\n",
       " u\"0.027* + 0.016*Mrs + 0.014*makes + 0.012*Hudson + 0.012*\\u2013 + 0.009*soon + 0.008*Mycroft's + 0.007*happened + 0.006*stand + 0.006*crime\",\n",
       " u'0.085*his + 0.053*and + 0.041*the + 0.030* + 0.021*to + 0.020*John + 0.019*Sherlock + 0.018*He + 0.016*he + 0.015*at',\n",
       " u'0.057*\\xa0 + 0.018*he\\u2019s + 0.015*This + 0.011*Molly + 0.009*shook + 0.008*fine + 0.008*Just + 0.007*Sally + 0.007*raised + 0.006*bag',\n",
       " u\"0.135*a + 0.019*little + 0.017*of + 0.012*A + 0.012*bit + 0.011*with + 0.010*for + 0.009*It's + 0.009* + 0.008*gave\",\n",
       " u'0.035* + 0.014*de + 0.014*que + 0.012*course + 0.012*a + 0.010*No + 0.010*la + 0.007*no + 0.007*en + 0.007*y']"
      ]
     },
     "execution_count": 63,
     "metadata": {},
     "output_type": "execute_result"
    }
   ],
   "source": [
    "lda.show_topics(10)"
   ]
  },
  {
   "cell_type": "code",
   "execution_count": 29,
   "metadata": {
    "collapsed": false
   },
   "outputs": [],
   "source": [
    "lsi = models.lsimodel.LsiModel(corpus=corpus, id2word=id2word, num_topics=40)"
   ]
  },
  {
   "cell_type": "code",
   "execution_count": 30,
   "metadata": {
    "collapsed": false
   },
   "outputs": [
    {
     "data": {
      "text/plain": [
       "[u'0.504*\"the\" + 0.364*\"and\" + 0.331*\"\" + 0.297*\"his\" + 0.293*\"to\" + 0.221*\"of\" + 0.203*\"he\" + 0.193*\"a\" + 0.161*\"was\" + 0.137*\"Sherlock\"',\n",
       " u'-0.787*\"the\" + 0.284*\"to\" + 0.244*\"his\" + 0.184*\"he\" + 0.164*\"a\" + 0.157*\"and\" + 0.148*\"\" + 0.141*\"was\" + -0.140*\"of\" + 0.121*\"Sherlock\"',\n",
       " u'0.767*\"his\" + -0.302*\"to\" + 0.238*\"and\" + -0.203*\"\" + -0.181*\"a\" + -0.164*\"was\" + -0.154*\"that\" + -0.110*\"he\" + -0.109*\"had\" + -0.088*\"for\"',\n",
       " u'-0.723*\"to\" + 0.431*\"a\" + 0.254*\"and\" + 0.226*\"he\" + 0.183*\"was\" + -0.167*\"his\" + 0.150*\"that\" + 0.123*\"of\" + -0.100*\"the\" + 0.091*\"in\"',\n",
       " u'-0.538*\"and\" + 0.439*\"\" + 0.391*\"a\" + -0.344*\"he\" + 0.226*\"his\" + 0.223*\"of\" + -0.123*\"was\" + -0.122*\"to\" + 0.116*\"on\" + 0.106*\"in\"',\n",
       " u'0.535*\"and\" + -0.503*\"he\" + 0.322*\"a\" + -0.313*\"was\" + -0.238*\"his\" + 0.167*\"to\" + 0.136*\"you\" + -0.135*\"that\" + 0.112*\"her\" + -0.105*\"had\"',\n",
       " u'0.660*\"\" + -0.437*\"a\" + -0.303*\"to\" + 0.230*\"and\" + -0.225*\"of\" + -0.178*\"he\" + 0.178*\"Sherlock\" + -0.143*\"his\" + 0.112*\"Moriarty\" + -0.092*\"as\"',\n",
       " u'-0.657*\"of\" + -0.388*\"was\" + 0.362*\"he\" + 0.225*\"a\" + 0.182*\"as\" + 0.162*\"\" + 0.157*\"the\" + -0.118*\"Sherlock\" + -0.111*\"it\" + -0.105*\"and\"',\n",
       " u'0.411*\"of\" + 0.398*\"you\" + -0.396*\"was\" + -0.314*\"Sherlock\" + -0.284*\"a\" + 0.231*\"he\" + 0.192*\"I\" + 0.156*\"him\" + -0.150*\"the\" + 0.123*\"\"',\n",
       " u'0.425*\"that\" + 0.368*\"in\" + -0.315*\"he\" + -0.279*\"of\" + 0.264*\"had\" + 0.255*\"you\" + -0.187*\"\" + 0.182*\"at\" + 0.162*\"her\" + 0.142*\"I\"']"
      ]
     },
     "execution_count": 30,
     "metadata": {},
     "output_type": "execute_result"
    }
   ],
   "source": [
    "lsi.show_topics(10)"
   ]
  },
  {
   "cell_type": "code",
   "execution_count": null,
   "metadata": {
    "collapsed": true
   },
   "outputs": [],
   "source": []
  }
 ],
 "metadata": {
  "kernelspec": {
   "display_name": "Python 2",
   "language": "python",
   "name": "python2"
  },
  "language_info": {
   "codemirror_mode": {
    "name": "ipython",
    "version": 2
   },
   "file_extension": ".py",
   "mimetype": "text/x-python",
   "name": "python",
   "nbconvert_exporter": "python",
   "pygments_lexer": "ipython2",
   "version": "2.7.10"
  }
 },
 "nbformat": 4,
 "nbformat_minor": 0
}
