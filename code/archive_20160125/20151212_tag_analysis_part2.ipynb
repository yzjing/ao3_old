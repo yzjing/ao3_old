{
 "cells": [
  {
   "cell_type": "code",
   "execution_count": 1,
   "metadata": {
    "collapsed": false
   },
   "outputs": [],
   "source": [
    "import pandas as pd\n",
    "import matplotlib.pyplot as plt\n",
    "%matplotlib inline \n",
    "from collections import Counter\n",
    "import numpy as np"
   ]
  },
  {
   "cell_type": "code",
   "execution_count": 2,
   "metadata": {
    "collapsed": true
   },
   "outputs": [],
   "source": [
    "import cPickle as pickle"
   ]
  },
  {
   "cell_type": "code",
   "execution_count": 3,
   "metadata": {
    "collapsed": true
   },
   "outputs": [],
   "source": [
    "def create_df_time(df, time):\n",
    "    return df[df.PublishDate.str[:7] == time]"
   ]
  },
  {
   "cell_type": "code",
   "execution_count": 4,
   "metadata": {
    "collapsed": true
   },
   "outputs": [],
   "source": [
    "# pickle.dump(df, open( \"sherlock_current.p\", \"wb\" ) )"
   ]
  },
  {
   "cell_type": "code",
   "execution_count": 5,
   "metadata": {
    "collapsed": false
   },
   "outputs": [],
   "source": [
    "df = pickle.load( open( \"sherlock_current.p\", \"rb\" ) )"
   ]
  },
  {
   "cell_type": "code",
   "execution_count": 5,
   "metadata": {
    "collapsed": true
   },
   "outputs": [],
   "source": [
    "df = pd.read_csv('../data/sherlock_current_clean.csv')"
   ]
  },
  {
   "cell_type": "code",
   "execution_count": 6,
   "metadata": {
    "collapsed": true
   },
   "outputs": [],
   "source": [
    "df = df[df.Additional_Tags.notnull()]\n",
    "df = df[df.Kudos.notnull()]"
   ]
  },
  {
   "cell_type": "code",
   "execution_count": 7,
   "metadata": {
    "collapsed": false
   },
   "outputs": [
    {
     "data": {
      "text/html": [
       "<div>\n",
       "<table border=\"1\" class=\"dataframe\">\n",
       "  <thead>\n",
       "    <tr style=\"text-align: right;\">\n",
       "      <th></th>\n",
       "      <th>Additional_Tags</th>\n",
       "      <th>Archive_Warnings</th>\n",
       "      <th>Author</th>\n",
       "      <th>Category</th>\n",
       "      <th>Characters</th>\n",
       "      <th>Comments</th>\n",
       "      <th>CompleteDate</th>\n",
       "      <th>Fandoms</th>\n",
       "      <th>Hits</th>\n",
       "      <th>Kudos</th>\n",
       "      <th>PublishDate</th>\n",
       "      <th>Rating</th>\n",
       "      <th>Relationship</th>\n",
       "      <th>Title</th>\n",
       "      <th>Words</th>\n",
       "    </tr>\n",
       "  </thead>\n",
       "  <tbody>\n",
       "    <tr>\n",
       "      <th>0</th>\n",
       "      <td>zombie apocalypse AU, a bit like The Walking ...</td>\n",
       "      <td>Creator Chose Not To Use Archive Warnings</td>\n",
       "      <td>thewallflower07</td>\n",
       "      <td>NaN</td>\n",
       "      <td>Sherlock Holmes, John Watson, Molly Hooper, G...</td>\n",
       "      <td>2</td>\n",
       "      <td>NaN</td>\n",
       "      <td>Sherlock (TV)</td>\n",
       "      <td>280</td>\n",
       "      <td>23</td>\n",
       "      <td>2015-11-07</td>\n",
       "      <td>Teen And Up Audiences</td>\n",
       "      <td>Sherlock Holmes&amp; John Watson, Molly Hooper/Gr...</td>\n",
       "      <td>The End of the World</td>\n",
       "      <td>2468</td>\n",
       "    </tr>\n",
       "  </tbody>\n",
       "</table>\n",
       "</div>"
      ],
      "text/plain": [
       "                                     Additional_Tags  \\\n",
       "0   zombie apocalypse AU, a bit like The Walking ...   \n",
       "\n",
       "                             Archive_Warnings           Author Category  \\\n",
       "0   Creator Chose Not To Use Archive Warnings  thewallflower07      NaN   \n",
       "\n",
       "                                          Characters  Comments CompleteDate  \\\n",
       "0   Sherlock Holmes, John Watson, Molly Hooper, G...         2          NaN   \n",
       "\n",
       "         Fandoms  Hits  Kudos PublishDate                  Rating  \\\n",
       "0  Sherlock (TV)   280     23  2015-11-07   Teen And Up Audiences   \n",
       "\n",
       "                                        Relationship                 Title  \\\n",
       "0   Sherlock Holmes& John Watson, Molly Hooper/Gr...  The End of the World   \n",
       "\n",
       "   Words  \n",
       "0   2468  "
      ]
     },
     "execution_count": 7,
     "metadata": {},
     "output_type": "execute_result"
    }
   ],
   "source": [
    "df.head(1)"
   ]
  },
  {
   "cell_type": "code",
   "execution_count": 8,
   "metadata": {
    "collapsed": false
   },
   "outputs": [],
   "source": [
    "t =  df.Additional_Tags.tolist()\n",
    "t2 = []\n",
    "for i in t:\n",
    "    for j in str(i).split(','):\n",
    "        t2.append(j.strip())"
   ]
  },
  {
   "cell_type": "code",
   "execution_count": 9,
   "metadata": {
    "collapsed": false
   },
   "outputs": [
    {
     "data": {
      "text/plain": [
       "221225"
      ]
     },
     "execution_count": 9,
     "metadata": {},
     "output_type": "execute_result"
    }
   ],
   "source": [
    "len(t2)"
   ]
  },
  {
   "cell_type": "code",
   "execution_count": 10,
   "metadata": {
    "collapsed": false
   },
   "outputs": [
    {
     "data": {
      "text/plain": [
       "51870"
      ]
     },
     "execution_count": 10,
     "metadata": {},
     "output_type": "execute_result"
    }
   ],
   "source": [
    "len(list(set(t2)))"
   ]
  },
  {
   "cell_type": "code",
   "execution_count": 11,
   "metadata": {
    "collapsed": true
   },
   "outputs": [],
   "source": [
    "c = Counter(t2)"
   ]
  },
  {
   "cell_type": "code",
   "execution_count": 12,
   "metadata": {
    "collapsed": false
   },
   "outputs": [
    {
     "data": {
      "text/plain": [
       "90760"
      ]
     },
     "execution_count": 12,
     "metadata": {},
     "output_type": "execute_result"
    }
   ],
   "source": [
    "t_f = [i for i in t2 if c[i] >= 100]\n",
    "len(t_f)"
   ]
  },
  {
   "cell_type": "code",
   "execution_count": 13,
   "metadata": {
    "collapsed": false
   },
   "outputs": [
    {
     "data": {
      "text/plain": [
       "262"
      ]
     },
     "execution_count": 13,
     "metadata": {},
     "output_type": "execute_result"
    }
   ],
   "source": [
    "t_f_d = (list(set(t_f)))\n",
    "len(t_f_d)"
   ]
  },
  {
   "cell_type": "code",
   "execution_count": 14,
   "metadata": {
    "collapsed": false
   },
   "outputs": [],
   "source": [
    "t_f_d = [i.lower() for i in t_f_d]"
   ]
  },
  {
   "cell_type": "code",
   "execution_count": 15,
   "metadata": {
    "collapsed": false
   },
   "outputs": [],
   "source": [
    "df.Additional_Tags = df.Additional_Tags.str.lower()"
   ]
  },
  {
   "cell_type": "code",
   "execution_count": 16,
   "metadata": {
    "collapsed": false
   },
   "outputs": [
    {
     "data": {
      "text/html": [
       "<div>\n",
       "<table border=\"1\" class=\"dataframe\">\n",
       "  <thead>\n",
       "    <tr style=\"text-align: right;\">\n",
       "      <th></th>\n",
       "      <th>Additional_Tags</th>\n",
       "      <th>Archive_Warnings</th>\n",
       "      <th>Author</th>\n",
       "      <th>Category</th>\n",
       "      <th>Characters</th>\n",
       "      <th>Comments</th>\n",
       "      <th>CompleteDate</th>\n",
       "      <th>Fandoms</th>\n",
       "      <th>Hits</th>\n",
       "      <th>Kudos</th>\n",
       "      <th>PublishDate</th>\n",
       "      <th>Rating</th>\n",
       "      <th>Relationship</th>\n",
       "      <th>Title</th>\n",
       "      <th>Words</th>\n",
       "    </tr>\n",
       "  </thead>\n",
       "  <tbody>\n",
       "    <tr>\n",
       "      <th>0</th>\n",
       "      <td>zombie apocalypse au, a bit like the walking ...</td>\n",
       "      <td>Creator Chose Not To Use Archive Warnings</td>\n",
       "      <td>thewallflower07</td>\n",
       "      <td>NaN</td>\n",
       "      <td>Sherlock Holmes, John Watson, Molly Hooper, G...</td>\n",
       "      <td>2</td>\n",
       "      <td>NaN</td>\n",
       "      <td>Sherlock (TV)</td>\n",
       "      <td>280</td>\n",
       "      <td>23</td>\n",
       "      <td>2015-11-07</td>\n",
       "      <td>Teen And Up Audiences</td>\n",
       "      <td>Sherlock Holmes&amp; John Watson, Molly Hooper/Gr...</td>\n",
       "      <td>The End of the World</td>\n",
       "      <td>2468</td>\n",
       "    </tr>\n",
       "  </tbody>\n",
       "</table>\n",
       "</div>"
      ],
      "text/plain": [
       "                                     Additional_Tags  \\\n",
       "0   zombie apocalypse au, a bit like the walking ...   \n",
       "\n",
       "                             Archive_Warnings           Author Category  \\\n",
       "0   Creator Chose Not To Use Archive Warnings  thewallflower07      NaN   \n",
       "\n",
       "                                          Characters  Comments CompleteDate  \\\n",
       "0   Sherlock Holmes, John Watson, Molly Hooper, G...         2          NaN   \n",
       "\n",
       "         Fandoms  Hits  Kudos PublishDate                  Rating  \\\n",
       "0  Sherlock (TV)   280     23  2015-11-07   Teen And Up Audiences   \n",
       "\n",
       "                                        Relationship                 Title  \\\n",
       "0   Sherlock Holmes& John Watson, Molly Hooper/Gr...  The End of the World   \n",
       "\n",
       "   Words  \n",
       "0   2468  "
      ]
     },
     "execution_count": 16,
     "metadata": {},
     "output_type": "execute_result"
    }
   ],
   "source": [
    "df.head(1)"
   ]
  },
  {
   "cell_type": "code",
   "execution_count": 17,
   "metadata": {
    "collapsed": false
   },
   "outputs": [
    {
     "name": "stderr",
     "output_type": "stream",
     "text": [
      "/Users/jingy/anaconda/lib/python2.7/site-packages/pandas/core/strings.py:207: UserWarning: This pattern has match groups. To actually get the groups, use str.extract.\n",
      "  \" groups, use str.extract.\", UserWarning)\n",
      "/Users/jingy/anaconda/lib/python2.7/site-packages/numpy/core/_methods.py:59: RuntimeWarning: Mean of empty slice.\n",
      "  warnings.warn(\"Mean of empty slice.\", RuntimeWarning)\n"
     ]
    }
   ],
   "source": [
    "tag_kudos_dict = {}\n",
    "for i in t_f_d:\n",
    "#     print i\n",
    "#     print sample[sample.Additional_Tags.str.contains(i)].Kudos.tolist()\n",
    "    tag_kudos_dict[i] = np.average(df[df.Additional_Tags.str.contains(i)].Kudos.tolist())"
   ]
  },
  {
   "cell_type": "code",
   "execution_count": 18,
   "metadata": {
    "collapsed": true
   },
   "outputs": [],
   "source": [
    "# for i in tag_kudos_dict.keys():\n",
    "#     tag_kudos_dict[i.strip()] = tag_kudos_dict.pop(i)"
   ]
  },
  {
   "cell_type": "code",
   "execution_count": 19,
   "metadata": {
    "collapsed": false
   },
   "outputs": [
    {
     "data": {
      "text/plain": [
       "262"
      ]
     },
     "execution_count": 19,
     "metadata": {},
     "output_type": "execute_result"
    }
   ],
   "source": [
    "len(tag_kudos_dict.keys())"
   ]
  },
  {
   "cell_type": "code",
   "execution_count": 20,
   "metadata": {
    "collapsed": false
   },
   "outputs": [],
   "source": [
    "from math import isnan\n",
    "tag_kudos_dict_f = {k: tag_kudos_dict[k] for k in tag_kudos_dict if not isnan(tag_kudos_dict[k])}"
   ]
  },
  {
   "cell_type": "code",
   "execution_count": 21,
   "metadata": {
    "collapsed": false
   },
   "outputs": [
    {
     "data": {
      "text/plain": [
       "261"
      ]
     },
     "execution_count": 21,
     "metadata": {},
     "output_type": "execute_result"
    }
   ],
   "source": [
    "len(tag_kudos_dict_f.keys())"
   ]
  },
  {
   "cell_type": "code",
   "execution_count": 22,
   "metadata": {
    "collapsed": true
   },
   "outputs": [],
   "source": [
    "# pickle.dump(tag_kudos_dict_f, open( \"tag_kudos_dict.p\", \"wb\" ) )"
   ]
  },
  {
   "cell_type": "code",
   "execution_count": 62,
   "metadata": {
    "collapsed": true
   },
   "outputs": [],
   "source": [
    "import operator\n",
    "sorted_tag_freq = sorted(tag_kudos_dict_f.items(), key=operator.itemgetter(1), reverse = True)"
   ]
  },
  {
   "cell_type": "code",
   "execution_count": 66,
   "metadata": {
    "collapsed": false
   },
   "outputs": [
    {
     "data": {
      "text/plain": [
       "[('femlock', 34.256637168141594),\n",
       " ('superwholock', 34.100775193798448),\n",
       " ('drabble collection', 33.701612903225808),\n",
       " ('tragedy', 33.260563380281688),\n",
       " ('podfic', 33.193473193473196),\n",
       " ('sherlock holmes - freeform', 32.53846153846154),\n",
       " ('community: watsons_woes', 32.307189542483663),\n",
       " ('221b', 32.273247496423465),\n",
       " ('221b ficlet', 32.145354185832566),\n",
       " ('post-the reichenbach fall', 30.830065359477125),\n",
       " ('john watson - freeform', 29.157142857142858),\n",
       " ('mormor', 28.441064638783271),\n",
       " ('photoshop', 27.719745222929937),\n",
       " ('graphics', 26.727272727272727),\n",
       " ('songfic', 25.755905511811022),\n",
       " ('cover art', 25.68106312292359),\n",
       " ('poetry', 17.614197530864196),\n",
       " ('original character(s)', 16.916666666666668),\n",
       " ('audio format: mp3', 14.562043795620438),\n",
       " ('2000 au', 7.7046979865771812)]"
      ]
     },
     "execution_count": 66,
     "metadata": {},
     "output_type": "execute_result"
    }
   ],
   "source": [
    "sorted_tag_freq[-20:]"
   ]
  },
  {
   "cell_type": "code",
   "execution_count": 50,
   "metadata": {
    "collapsed": false
   },
   "outputs": [],
   "source": [
    "timelist = df.PublishDate.drop_duplicates().tolist()\n",
    "timelist = [str(i)[:7] for i in timelist]\n",
    "timelist = list(set(timelist))\n",
    "timelist = sorted(timelist)\n",
    "timelist = timelist[4:]"
   ]
  },
  {
   "cell_type": "code",
   "execution_count": 52,
   "metadata": {
    "collapsed": false
   },
   "outputs": [
    {
     "data": {
      "text/plain": [
       "64"
      ]
     },
     "execution_count": 52,
     "metadata": {},
     "output_type": "execute_result"
    }
   ],
   "source": [
    "len(timelist)"
   ]
  },
  {
   "cell_type": "code",
   "execution_count": 26,
   "metadata": {
    "collapsed": true
   },
   "outputs": [],
   "source": [
    "timelist_event = ['Season 1 start', 'Season 1 end', '', '', 'Season 1 DVD release', '', '', '', '', '', '', '', '', '', '',\\\n",
    " '', '', '', 'Season 2', '', '', '', 'Season 2 DVD release', '', '', '', '', '', '', '', '', '', '', '', '', '', '',\\\n",
    " '', '', '', '', 'Christmas special', '', 'Season 3', 'Season 3 DVD release', '', '', '', '', '', '', '', '', '', '',\\\n",
    " '', '', '', '', '', '', '', '', '', '']"
   ]
  },
  {
   "cell_type": "code",
   "execution_count": 27,
   "metadata": {
    "collapsed": false
   },
   "outputs": [],
   "source": [
    "def calculate_tag_time(tag):\n",
    "    time_work = {}\n",
    "    for i in timelist:\n",
    "        df_time = create_df_time(df, i)\n",
    "        time_work[i] = len(df_time[df_time.Additional_Tags.str.contains(tag)])\n",
    "    k = sorted(time_work.keys())\n",
    "    v = [time_work.get(i) for i in k]\n",
    "    return k,v"
   ]
  },
  {
   "cell_type": "code",
   "execution_count": 28,
   "metadata": {
    "collapsed": true
   },
   "outputs": [],
   "source": [
    "tag_freq = {}\n",
    "for i in t2:\n",
    "    tag_freq[i] = c[i]"
   ]
  },
  {
   "cell_type": "code",
   "execution_count": 29,
   "metadata": {
    "collapsed": true
   },
   "outputs": [],
   "source": [
    "import operator\n",
    "sorted_tag_freq = sorted(tag_freq.items(), key=operator.itemgetter(1), reverse = True)"
   ]
  },
  {
   "cell_type": "code",
   "execution_count": 30,
   "metadata": {
    "collapsed": false
   },
   "outputs": [
    {
     "data": {
      "text/plain": [
       "[('Fluff', 6961),\n",
       " ('Angst', 5373),\n",
       " ('Friendship', 2316),\n",
       " ('Humor', 2219),\n",
       " ('Hurt/Comfort', 2143),\n",
       " ('Romance', 2124),\n",
       " ('Johnlock - Freeform', 2099),\n",
       " ('Post Reichenbach', 2032),\n",
       " ('Post-Reichenbach', 1605),\n",
       " ('Alternate Universe', 1411)]"
      ]
     },
     "execution_count": 30,
     "metadata": {},
     "output_type": "execute_result"
    }
   ],
   "source": [
    "sorted_tag_freq[0:10]"
   ]
  },
  {
   "cell_type": "code",
   "execution_count": 31,
   "metadata": {
    "collapsed": true
   },
   "outputs": [],
   "source": [
    "def create_tag_plot(timelist):\n",
    "    fig, ax = plt.subplots(figsize = (10,7))\n",
    "    newax = ax.twiny()\n",
    "\n",
    "    # Make some room at the bottom\n",
    "    fig.subplots_adjust(bottom=0.30)\n",
    "\n",
    "    newax.set_frame_on(True)\n",
    "    newax.patch.set_visible(False)\n",
    "    newax.xaxis.set_ticks_position('bottom')\n",
    "    newax.xaxis.set_label_position('bottom')\n",
    "    newax.spines['bottom'].set_position(('outward', 60))\n",
    "\n",
    "    xlist = range(2,67)\n",
    "    xlist2 = range(0,72)\n",
    "\n",
    "    ax.xaxis.set_ticks(xlist)\n",
    "    ax.set_xticklabels(timelist, rotation=70)\n",
    "\n",
    "#     newax.xaxis.set_ticks(xlist2)\n",
    "#     newax.set_xticklabels(timelist_event, rotation=70)\n",
    "\n",
    "    ax.set_xlabel('Time and major event')\n",
    "    ax.set_ylabel('Number of works with tag')\n",
    "    plt.tight_layout()\n",
    "    return ax, xlist\n",
    "    # plt.savefig('./time_work.pdf', format = 'pdf')"
   ]
  },
  {
   "cell_type": "code",
   "execution_count": 32,
   "metadata": {
    "collapsed": true
   },
   "outputs": [],
   "source": [
    "def add_tag_line(ax,xlist,v,label):\n",
    "    p = ax.plot(xlist,v,label = label)\n",
    "    return p"
   ]
  },
  {
   "cell_type": "code",
   "execution_count": 44,
   "metadata": {
    "collapsed": true
   },
   "outputs": [],
   "source": [
    "def calculate_tag_time(tag):\n",
    "    time_work = {}\n",
    "    tag = tag.lower()\n",
    "    for i in timelist:\n",
    "        df_time = create_df_time(df, i)\n",
    "        time_work[i] = len(df_time[df_time.Additional_Tags.str.contains(tag)])\n",
    "    k = sorted(time_work.keys())\n",
    "    v = [time_work.get(i) for i in k]\n",
    "    return k,v"
   ]
  },
  {
   "cell_type": "code",
   "execution_count": null,
   "metadata": {
    "collapsed": true
   },
   "outputs": [],
   "source": [
    "Angst', 5373),\n",
    " ('Friendship', 2316),\n",
    " ('Humor', 2219),\n",
    " ('Hurt/Comfort', 2"
   ]
  },
  {
   "cell_type": "code",
   "execution_count": 58,
   "metadata": {
    "collapsed": false
   },
   "outputs": [
    {
     "data": {
      "image/png": "[encoded data removed]",
      "text/plain": [
       "<matplotlib.figure.Figure at 0x10bdb1850>"
      ]
     },
     "metadata": {},
     "output_type": "display_data"
    }
   ],
   "source": [
    "# fig, ax = plt.subplots(figsize = (10,7))\n",
    "plt.figure(figsize = (10,7))\n",
    "xlist = range(1,65)\n",
    "k,v = calculate_tag_time('Fluff')\n",
    "p1 = plt.plot(xlist,v,label='Fluff')\n",
    "\n",
    "k,v2 = calculate_tag_time('Angst')\n",
    "p2 = plt.plot(xlist,v2,label='Angst')\n",
    "\n",
    "k,v3 = calculate_tag_time('Friendship')\n",
    "p3 = plt.plot(xlist,v3,label='Friendship')\n",
    "\n",
    "k,v4 = calculate_tag_time('Humor')\n",
    "p4 = plt.plot(xlist,v4,label='Humor')\n",
    "\n",
    "k,v5 = calculate_tag_time('Hurt/Comfort')\n",
    "p5 = plt.plot(xlist,v5,label='Hurt/Comfort')\n",
    "plt.xticks(xlist, timelist, rotation=70)\n",
    "\n",
    "# p6 = plt.plot(xlist, time_works, label='All works')\n",
    "plt.legend()\n",
    "plt.tight_layout()\n",
    "\n",
    "plt.savefig('./top_frequency_tag_time.pdf', format = 'pdf')"
   ]
  },
  {
   "cell_type": "code",
   "execution_count": 60,
   "metadata": {
    "collapsed": false
   },
   "outputs": [
    {
     "data": {
      "image/png": "[encoded data removed]",
      "text/plain": [
       "<matplotlib.figure.Figure at 0x10cd66650>"
      ]
     },
     "metadata": {},
     "output_type": "display_data"
    }
   ],
   "source": [
    "# fig, ax = plt.subplots(figsize = (10,7))\n",
    "plt.figure(figsize = (10,7))\n",
    "xlist = range(1,69)\n",
    "k,v = calculate_tag_time('alternate universe - soulmates')\n",
    "p1 = plt.plot(xlist,v,label='alternate universe - soulmates')\n",
    "\n",
    "k,v2 = calculate_tag_time('bamf!john')\n",
    "p2 = plt.plot(xlist,v2,label='bamf!john')\n",
    "\n",
    "k,v3 = calculate_tag_time('soulmates')\n",
    "p3 = plt.plot(xlist,v3,label='soulmates')\n",
    "\n",
    "k,v4 = calculate_tag_time('asexuality')\n",
    "p4 = plt.plot(xlist,v4,label='asexuality')\n",
    "\n",
    "k,v5 = calculate_tag_time('omega verse')\n",
    "p5 = plt.plot(xlist,v5,label='omega verse')\n",
    "plt.xticks(xlist, timelist, rotation=70)\n",
    "\n",
    "plt.legend()\n",
    "plt.tight_layout()\n",
    "\n",
    "plt.savefig('./top_popularity_tag_time.pdf', format = 'pdf')"
   ]
  },
  {
   "cell_type": "code",
   "execution_count": null,
   "metadata": {
    "collapsed": true
   },
   "outputs": [],
   "source": [
    "('graphics', 26.727272727272727),\n",
    " ('songfic', 25.755905511811022),\n",
    " ('cover art', 25.68106312292359),\n",
    " ('poetry', 17.614197530864196),\n",
    " ('original character(s)', 16.916666666666668),\n",
    " ('audio format: mp3', 14.562043795620438),\n",
    " ('2000 au', 7.7046979865771812)]"
   ]
  },
  {
   "cell_type": "code",
   "execution_count": null,
   "metadata": {
    "collapsed": true
   },
   "outputs": [],
   "source": [
    "community: watsons_woes', 32.307189542483663),\n",
    " ('221b', 32.273247496423465),\n",
    " ('221b ficlet', 32.145354185832566),\n",
    " ('post-the reichenbach fall', 30.830065359477125),\n",
    " ('john watson - freeform', 29.157142857142858),\n",
    " ('mormor', 28.441064638783271),\n",
    " ('photoshop', 27.719745222929937),\n",
    " ('graphics', 26.727272727272727),"
   ]
  },
  {
   "cell_type": "code",
   "execution_count": 68,
   "metadata": {
    "collapsed": false
   },
   "outputs": [
    {
     "data": {
      "image/png": "[encoded data removed]",
      "text/plain": [
       "<matplotlib.figure.Figure at 0x10d9e90d0>"
      ]
     },
     "metadata": {},
     "output_type": "display_data"
    }
   ],
   "source": [
    "# fig, ax = plt.subplots(figsize = (10,7))\n",
    "plt.figure(figsize = (10,7))\n",
    "xlist = range(1,65)\n",
    "k,v = calculate_tag_time('2000 au')\n",
    "p1 = plt.plot(xlist,v,label='2000 au')\n",
    "\n",
    "k,v2 = calculate_tag_time('original character(s)')\n",
    "p2 = plt.plot(xlist,v2,label='original character(s)')\n",
    "\n",
    "k,v3 = calculate_tag_time('poetry')\n",
    "p3 = plt.plot(xlist,v3,label='poetry')\n",
    "\n",
    "k,v4 = calculate_tag_time('mormor')\n",
    "p4 = plt.plot(xlist,v4,label='mormor')\n",
    "\n",
    "k,v5 = calculate_tag_time('john watson - freeform')\n",
    "p5 = plt.plot(xlist,v5,label='john watson - freeform')\n",
    "plt.xticks(xlist, timelist, rotation=70)\n",
    "\n",
    "plt.legend()\n",
    "plt.tight_layout()\n",
    "\n",
    "# plt.savefig('./top_popularity_tag_time.pdf', format = 'pdf')"
   ]
  },
  {
   "cell_type": "code",
   "execution_count": 53,
   "metadata": {
    "collapsed": true
   },
   "outputs": [],
   "source": [
    "time_works = [ 189,\n",
    " 157,\n",
    " 149,\n",
    " 224,\n",
    " 257,\n",
    " 335,\n",
    " 282,\n",
    " 229,\n",
    " 300,\n",
    " 254,\n",
    " 242,\n",
    " 325,\n",
    " 371,\n",
    " 267,\n",
    " 361,\n",
    " 404,\n",
    " 660,\n",
    " 1377,\n",
    " 1214,\n",
    " 1083,\n",
    " 1280,\n",
    " 1162,\n",
    " 1361,\n",
    " 1419,\n",
    " 1231,\n",
    " 1057,\n",
    " 1059,\n",
    " 1140,\n",
    " 1673,\n",
    " 1896,\n",
    " 1589,\n",
    " 1383,\n",
    " 1431,\n",
    " 1412,\n",
    " 1587,\n",
    " 1830,\n",
    " 625,\n",
    " 881,\n",
    " 1389,\n",
    " 1283,\n",
    " 1973,\n",
    " 2969,\n",
    " 2437,\n",
    " 2791,\n",
    " 3598,\n",
    " 3170,\n",
    " 1843,\n",
    " 1925,\n",
    " 1703,\n",
    " 1564,\n",
    " 1284,\n",
    " 1255,\n",
    " 1474,\n",
    " 1307,\n",
    " 1273,\n",
    " 1197,\n",
    " 1063,\n",
    " 1141,\n",
    " 997,\n",
    " 1367,\n",
    " 1089,\n",
    " 914,\n",
    " 1189,\n",
    " 794]"
   ]
  },
  {
   "cell_type": "code",
   "execution_count": 54,
   "metadata": {
    "collapsed": false
   },
   "outputs": [
    {
     "data": {
      "text/plain": [
       "64"
      ]
     },
     "execution_count": 54,
     "metadata": {},
     "output_type": "execute_result"
    }
   ],
   "source": [
    "len(time_works)"
   ]
  },
  {
   "cell_type": "code",
   "execution_count": null,
   "metadata": {
    "collapsed": true
   },
   "outputs": [],
   "source": [
    "#combine 同义词(eg. post rein)\n",
    "#detect tags that appear early/late (those like post rein can be sanity check  )"
   ]
  }
 ],
 "metadata": {
  "kernelspec": {
   "display_name": "Python 2",
   "language": "python",
   "name": "python2"
  },
  "language_info": {
   "codemirror_mode": {
    "name": "ipython",
    "version": 2
   },
   "file_extension": ".py",
   "mimetype": "text/x-python",
   "name": "python",
   "nbconvert_exporter": "python",
   "pygments_lexer": "ipython2",
   "version": "2.7.10"
  }
 },
 "nbformat": 4,
 "nbformat_minor": 0
}
