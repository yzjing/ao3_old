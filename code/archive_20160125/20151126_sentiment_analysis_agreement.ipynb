{
 "cells": [
  {
   "cell_type": "code",
   "execution_count": 1,
   "metadata": {
    "collapsed": false
   },
   "outputs": [],
   "source": [
    "import pandas as pd\n",
    "import nltk\n",
    "from nltk.tag.stanford import POSTagger\n",
    "from nltk.stem.snowball import EnglishStemmer\n",
    "import matplotlib.pyplot as plt\n",
    "%matplotlib inline \n",
    "from nltk.corpus import stopwords\n",
    "import compute_fleiss\n",
    "import cPickle as pickle\n",
    "import numpy as np"
   ]
  },
  {
   "cell_type": "code",
   "execution_count": 16,
   "metadata": {
    "collapsed": false
   },
   "outputs": [],
   "source": [
    "# st = POSTagger('../util/stanford-postagger-2014-08-27/models/english-left3words-distsim.tagger',\\\n",
    "#                '../util/stanford-postagger-2014-08-27/stanford-postagger-3.4.1.jar')"
   ]
  },
  {
   "cell_type": "code",
   "execution_count": 2,
   "metadata": {
    "collapsed": true
   },
   "outputs": [],
   "source": [
    "stemmer = EnglishStemmer()"
   ]
  },
  {
   "cell_type": "code",
   "execution_count": 3,
   "metadata": {
    "collapsed": true
   },
   "outputs": [],
   "source": [
    "f = '../data/sherlock_current_wtext.csv'"
   ]
  },
  {
   "cell_type": "code",
   "execution_count": 4,
   "metadata": {
    "collapsed": true
   },
   "outputs": [],
   "source": [
    "l = '/Users/jingy/Desktop/Data_Set_S1.txt'"
   ]
  },
  {
   "cell_type": "code",
   "execution_count": 11,
   "metadata": {
    "collapsed": true
   },
   "outputs": [],
   "source": [
    "# d1 = '/Users/jingy/Desktop/socal/adj_dictionary1.11.txt'\n",
    "# d2 = '/Users/jingy/Desktop/socal/adv_dictionary1.11.txt'\n",
    "# d3 = '/Users/jingy/Desktop/socal/int_dictionary1.11.txt'\n",
    "# d4 = '/Users/jingy/Desktop/socal/noun_dictionary1.11.txt'\n",
    "# d5 = '/Users/jingy/Desktop/socal/verb_dictionary1.11.txt'"
   ]
  },
  {
   "cell_type": "code",
   "execution_count": 12,
   "metadata": {
    "collapsed": false
   },
   "outputs": [],
   "source": [
    "# df_adj = pd.read_csv(d1, sep = '\\t')\n",
    "# df_adv = pd.read_csv(d2, sep = '\\t')\n",
    "# df_int = pd.read_csv(d3, sep = '\\t')\n",
    "# df_noun = pd.read_csv(d4, sep = '\\t')\n",
    "# df_verb = pd.read_csv(d5, sep = '\\t')"
   ]
  },
  {
   "cell_type": "code",
   "execution_count": 13,
   "metadata": {
    "collapsed": false
   },
   "outputs": [],
   "source": [
    "# adj = dict(zip(df_adj[df_adj.columns[0]], df_adj[df_adj.columns[1]]))\n",
    "# adv= dict(zip(df_adv[df_adv.columns[0]], df_adv[df_adv.columns[1]]))\n",
    "# inte = dict(zip(df_int[df_int.columns[0]], df_int[df_int.columns[1]]))\n",
    "# noun = dict(zip(df_noun[df_noun.columns[0]], df_noun[df_noun.columns[1]]))\n",
    "# verb = dict(zip(df_verb[df_verb.columns[0]], df_verb[df_verb.columns[1]]))"
   ]
  },
  {
   "cell_type": "code",
   "execution_count": 5,
   "metadata": {
    "collapsed": false
   },
   "outputs": [],
   "source": [
    "d = pd.read_csv(l, sep = '\\t')\n",
    "labmit = dict(zip(d.word, d.happiness_average))"
   ]
  },
  {
   "cell_type": "code",
   "execution_count": 10,
   "metadata": {
    "collapsed": false
   },
   "outputs": [
    {
     "data": {
      "text/plain": [
       "10222"
      ]
     },
     "execution_count": 10,
     "metadata": {},
     "output_type": "execute_result"
    }
   ],
   "source": [
    "len(d)"
   ]
  },
  {
   "cell_type": "code",
   "execution_count": 49,
   "metadata": {
    "collapsed": true
   },
   "outputs": [],
   "source": [
    "# def get_senti_score_socal(word):\n",
    "#     try:\n",
    "#         word_stem = stemmer.stem(word)\n",
    "#         scores = []\n",
    "#         scores.append(adj.get(word, None))\n",
    "#         scores.append(adj.get(word_stem, None))\n",
    "#         scores.append(adv.get(word, None))\n",
    "#         scores.append(adv.get(word_stem, None))\n",
    "#         scores.append(noun.get(word, None))\n",
    "#         scores.append(noun.get(word_stem, None))\n",
    "#         scores.append(verb.get(word, None))\n",
    "#         scores.append(verb.get(word_stem, None))\n",
    "#         scores = [i for i in scores if i is not None]\n",
    "#         score = float(sum(scores))/len(scores) if len(scores) != 0 else None\n",
    "#     except:\n",
    "#         score = None\n",
    "#     return score "
   ]
  },
  {
   "cell_type": "code",
   "execution_count": 96,
   "metadata": {
    "collapsed": true
   },
   "outputs": [],
   "source": [
    "# def get_senti_score_labmit_stemming(word):\n",
    "#     try:\n",
    "#         word_stem = stemmer.stem(word)\n",
    "#         scores = []\n",
    "#         scores.append(labmit.get(word, None))\n",
    "#         scores.append(labmit.get(word_stem, None))\n",
    "#         scores = [i for i in scores if i != None]\n",
    "#         if len(scores) == 2:\n",
    "#             return np.average(scores)\n",
    "#         elif len(scores) == 1:\n",
    "#             return scores[0]\n",
    "#         else:\n",
    "#             return None\n",
    "#     except:\n",
    "#         return None"
   ]
  },
  {
   "cell_type": "code",
   "execution_count": 11,
   "metadata": {
    "collapsed": false
   },
   "outputs": [],
   "source": [
    "def get_senti_score_labmit(word):\n",
    "    try:\n",
    "        return labmit.get(word, None)\n",
    "    except:\n",
    "        return None"
   ]
  },
  {
   "cell_type": "code",
   "execution_count": 12,
   "metadata": {
    "collapsed": false
   },
   "outputs": [
    {
     "data": {
      "text/plain": [
       "8.5"
      ]
     },
     "execution_count": 12,
     "metadata": {},
     "output_type": "execute_result"
    }
   ],
   "source": [
    "get_senti_score_labmit('laughter')"
   ]
  },
  {
   "cell_type": "code",
   "execution_count": 13,
   "metadata": {
    "collapsed": false
   },
   "outputs": [],
   "source": [
    "def create_text(df, character):\n",
    "    works = []\n",
    "    titles = df.Title.drop_duplicates()\n",
    "    character = character.lower()\n",
    "    for title in titles:\n",
    "        text = df[df.Title == title].Text.tolist()\n",
    "        \n",
    "        #only consider sentences that only has 1 character.\n",
    "        characters = list(set(df[df.Title == title].Characters.tolist()))    \n",
    "        characters_list = []\n",
    "        for name in characters:\n",
    "            for part in str(name).split(' '):\n",
    "                characters_list.append(part.replace(',', ''))\n",
    "        characters_list = list(set(characters_list))\n",
    "        characters_list = [i.lower() for i in characters_list if i != 'Sherlock' and i != 'Holmes' and i != ''] if characters_list != [] else []\n",
    "\n",
    "        single_work = []\n",
    "        for i in text:\n",
    "            for j in str(i).split('.'):\n",
    "                j = [k.replace(',', '').lower() for k in j.split(' ')]\n",
    "                if characters_list != []:\n",
    "                    if character in j and [c not in j for c in characters_list]:\n",
    "                        single_work.append(j)\n",
    "                else:\n",
    "                    if character in j:\n",
    "                        single_work.append(j)\n",
    "        works.append(single_work)\n",
    "    return works"
   ]
  },
  {
   "cell_type": "code",
   "execution_count": null,
   "metadata": {
    "collapsed": true
   },
   "outputs": [],
   "source": []
  },
  {
   "cell_type": "code",
   "execution_count": 81,
   "metadata": {
    "collapsed": false
   },
   "outputs": [],
   "source": [
    "sample = df.head(100)"
   ]
  },
  {
   "cell_type": "code",
   "execution_count": 160,
   "metadata": {
    "collapsed": false
   },
   "outputs": [],
   "source": [
    "works = create_text(sample, 'Sherlock')"
   ]
  },
  {
   "cell_type": "code",
   "execution_count": 14,
   "metadata": {
    "collapsed": true
   },
   "outputs": [],
   "source": [
    "def get_works_score(works):\n",
    "    works_score = []\n",
    "    for work in works:\n",
    "        scores = []\n",
    "        for lines in work:\n",
    "            for word in lines:   \n",
    "                scores.append(get_senti_score_labmit(word))\n",
    "        scores = [i for i in scores if i != None]\n",
    "        ave_score = np.average(scores) if len(scores) != 0 else None\n",
    "        works_score.append(ave_score)\n",
    "    works_score_valid = [i for i in works_score if i != None]\n",
    "    return works_score_valid"
   ]
  },
  {
   "cell_type": "code",
   "execution_count": 84,
   "metadata": {
    "collapsed": false
   },
   "outputs": [],
   "source": [
    "works_score_valid = get_works_score(works)"
   ]
  },
  {
   "cell_type": "code",
   "execution_count": 85,
   "metadata": {
    "collapsed": false
   },
   "outputs": [
    {
     "data": {
      "text/plain": [
       "[5.3030000000000008, 5.3161111111111108]"
      ]
     },
     "execution_count": 85,
     "metadata": {},
     "output_type": "execute_result"
    }
   ],
   "source": [
    "works_score_valid"
   ]
  },
  {
   "cell_type": "code",
   "execution_count": 15,
   "metadata": {
    "collapsed": true
   },
   "outputs": [],
   "source": [
    "def get_rating_2categories(scores):\n",
    "    r_neg = len([i for i in scores if i < 5])\n",
    "    r_pos = len([i for i in scores if i >= 5])\n",
    "    ratings = [r_neg, r_pos]\n",
    "    return ratings"
   ]
  },
  {
   "cell_type": "code",
   "execution_count": 204,
   "metadata": {
    "collapsed": true
   },
   "outputs": [],
   "source": [
    "def get_rating_4categories(scores):\n",
    "    r_1_3 = len([i for i in scores if i >= 1 and i < 3])\n",
    "    r_3_5 = len([i for i in scores if i >= 3 and i < 5])\n",
    "    r_5_7 = len([i for i in scores if i >= 5 and i < 7])\n",
    "    r_7_9 = len([i for i in scores if i >= 7 and i < 9])\n",
    "    ratings = [r_1_3, r_3_5, r_5_7, r_7_9 ]\n",
    "    return ratings"
   ]
  },
  {
   "cell_type": "code",
   "execution_count": 16,
   "metadata": {
    "collapsed": false
   },
   "outputs": [],
   "source": [
    "def create_df_time(df, time):\n",
    "    return df[df.PublishDate.str[:7] == time]"
   ]
  },
  {
   "cell_type": "code",
   "execution_count": 17,
   "metadata": {
    "collapsed": false
   },
   "outputs": [],
   "source": [
    "df = pd.read_csv(f)"
   ]
  },
  {
   "cell_type": "code",
   "execution_count": 18,
   "metadata": {
    "collapsed": false
   },
   "outputs": [],
   "source": [
    "df_l = df[['PublishDate','Text','Title', 'Characters']]\n",
    "df_l = df_l[df_l.Characters.notnull()]\n",
    "df_l = df_l[df_l.PublishDate.notnull()]\n",
    "df_l = df_l[df_l.Text.notnull()]"
   ]
  },
  {
   "cell_type": "code",
   "execution_count": 28,
   "metadata": {
    "collapsed": false
   },
   "outputs": [],
   "source": [
    "# pickle.dump(df, open( \"sherlock_current_wtext.p\", \"wb\" ) )"
   ]
  },
  {
   "cell_type": "code",
   "execution_count": 10,
   "metadata": {
    "collapsed": true
   },
   "outputs": [],
   "source": [
    "# df = pickle.load(open(\"sherlock_current_wtext.p\", \"rb\" ) )"
   ]
  },
  {
   "cell_type": "code",
   "execution_count": 19,
   "metadata": {
    "collapsed": false
   },
   "outputs": [
    {
     "data": {
      "text/html": [
       "<div>\n",
       "<table border=\"1\" class=\"dataframe\">\n",
       "  <thead>\n",
       "    <tr style=\"text-align: right;\">\n",
       "      <th></th>\n",
       "      <th>Additional_Tags</th>\n",
       "      <th>Archive_Warnings</th>\n",
       "      <th>Author</th>\n",
       "      <th>Bookmarks</th>\n",
       "      <th>Category</th>\n",
       "      <th>Chapters</th>\n",
       "      <th>Characters</th>\n",
       "      <th>Comments</th>\n",
       "      <th>CompleteDate</th>\n",
       "      <th>Fandoms</th>\n",
       "      <th>...</th>\n",
       "      <th>Kudos</th>\n",
       "      <th>Language</th>\n",
       "      <th>Notes</th>\n",
       "      <th>PublishDate</th>\n",
       "      <th>Rating</th>\n",
       "      <th>Relationship</th>\n",
       "      <th>Summary</th>\n",
       "      <th>Text</th>\n",
       "      <th>Title</th>\n",
       "      <th>Words</th>\n",
       "    </tr>\n",
       "  </thead>\n",
       "  <tbody>\n",
       "    <tr>\n",
       "      <th>0</th>\n",
       "      <td>zombie apocalypse AU, a bit like The Walking ...</td>\n",
       "      <td>Creator Chose Not To Use Archive Warnings</td>\n",
       "      <td>thewallflower07</td>\n",
       "      <td>1</td>\n",
       "      <td>NaN</td>\n",
       "      <td>1/1</td>\n",
       "      <td>Sherlock Holmes, John Watson, Molly Hooper, G...</td>\n",
       "      <td>2</td>\n",
       "      <td>NaN</td>\n",
       "      <td>Sherlock (TV)</td>\n",
       "      <td>...</td>\n",
       "      <td>23</td>\n",
       "      <td>English</td>\n",
       "      <td>The dialogue and speech thing is intentional, ...</td>\n",
       "      <td>2015-11-07</td>\n",
       "      <td>Teen And Up Audiences</td>\n",
       "      <td>Sherlock Holmes&amp; John Watson, Molly Hooper/Gr...</td>\n",
       "      <td>What the end of the world means and how you su...</td>\n",
       "      <td>AAAThe quickest way of ending a war is to lose...</td>\n",
       "      <td>The End of the World</td>\n",
       "      <td>2468</td>\n",
       "    </tr>\n",
       "  </tbody>\n",
       "</table>\n",
       "<p>1 rows × 21 columns</p>\n",
       "</div>"
      ],
      "text/plain": [
       "                                     Additional_Tags  \\\n",
       "0   zombie apocalypse AU, a bit like The Walking ...   \n",
       "\n",
       "                             Archive_Warnings           Author  Bookmarks  \\\n",
       "0   Creator Chose Not To Use Archive Warnings  thewallflower07          1   \n",
       "\n",
       "  Category Chapters                                         Characters  \\\n",
       "0      NaN      1/1   Sherlock Holmes, John Watson, Molly Hooper, G...   \n",
       "\n",
       "   Comments CompleteDate        Fandoms  ...   Kudos         Language  \\\n",
       "0         2          NaN  Sherlock (TV)  ...      23          English   \n",
       "\n",
       "                                               Notes PublishDate  \\\n",
       "0  The dialogue and speech thing is intentional, ...  2015-11-07   \n",
       "\n",
       "                   Rating                                       Relationship  \\\n",
       "0   Teen And Up Audiences   Sherlock Holmes& John Watson, Molly Hooper/Gr...   \n",
       "\n",
       "                                             Summary  \\\n",
       "0  What the end of the world means and how you su...   \n",
       "\n",
       "                                                Text                 Title  \\\n",
       "0  AAAThe quickest way of ending a war is to lose...  The End of the World   \n",
       "\n",
       "  Words  \n",
       "0  2468  \n",
       "\n",
       "[1 rows x 21 columns]"
      ]
     },
     "execution_count": 19,
     "metadata": {},
     "output_type": "execute_result"
    }
   ],
   "source": [
    "df.head(1)"
   ]
  },
  {
   "cell_type": "code",
   "execution_count": 20,
   "metadata": {
    "collapsed": true
   },
   "outputs": [],
   "source": [
    "timelist = df_l.PublishDate.drop_duplicates().tolist()\n",
    "timelist = [str(i)[:7] for i in timelist]\n",
    "timelist = sorted(list(set(timelist)))"
   ]
  },
  {
   "cell_type": "code",
   "execution_count": 26,
   "metadata": {
    "collapsed": false
   },
   "outputs": [],
   "source": [
    "# timelist = timelist[2:]\n"
   ]
  },
  {
   "cell_type": "code",
   "execution_count": 21,
   "metadata": {
    "collapsed": false
   },
   "outputs": [
    {
     "data": {
      "text/plain": [
       "187673"
      ]
     },
     "execution_count": 21,
     "metadata": {},
     "output_type": "execute_result"
    }
   ],
   "source": [
    "len(df_l)"
   ]
  },
  {
   "cell_type": "code",
   "execution_count": 27,
   "metadata": {
    "collapsed": false
   },
   "outputs": [],
   "source": [
    "def create_kappas_list(df, time):\n",
    "    kappas = []\n",
    "    for i in time:\n",
    "        df_time = create_df_time(df, i)\n",
    "        if len(df_time) > 0:\n",
    "            \n",
    "            works = create_text(df_time, 'Sherlock')\n",
    "            works_score_valid = get_works_score(works)\n",
    "            if len(works_score_valid) > 0:\n",
    "                ratings = get_rating_2categories(works_score_valid)\n",
    "                try:\n",
    "                    kappa = compute_fleiss.computeKappa([ratings])\n",
    "                    kappas.append(kappa)\n",
    "                except:\n",
    "                    kappas.append(0)\n",
    "            else:\n",
    "                kappas.append(0)\n",
    "    return kappas\n",
    "    "
   ]
  },
  {
   "cell_type": "code",
   "execution_count": 28,
   "metadata": {
    "collapsed": false
   },
   "outputs": [],
   "source": [
    "kappas_2_categories_labmit = create_kappas_list(df_l, timelist)"
   ]
  },
  {
   "cell_type": "code",
   "execution_count": 210,
   "metadata": {
    "collapsed": false
   },
   "outputs": [],
   "source": [
    "# kappas_2_categories_labmit  = [i for i in kappas_2_categories_labmit if i != 0]"
   ]
  },
  {
   "cell_type": "code",
   "execution_count": 65,
   "metadata": {
    "collapsed": false
   },
   "outputs": [],
   "source": [
    "kappas_3_categories = [-0.006060606060605949,\n",
    " -0.00763358778625946,\n",
    " -0.008333333333333475,\n",
    " -0.006024096385542182,\n",
    " -0.005128205128205229,\n",
    " -0.003816793893129649,\n",
    " -0.005524861878452932,\n",
    " -0.005464480874316914,\n",
    " -0.004255319148936204,\n",
    " -0.004672897196261544,\n",
    " -0.004878048780487735,\n",
    " -0.0035460992907801626,\n",
    " -0.003174603174603269,\n",
    " -0.004504504504504384,\n",
    " -0.0035714285714285353,\n",
    " -0.002985074626865777,\n",
    " -0.0018656716417909502,\n",
    " -0.000862068965517197,\n",
    " -0.0009425070688030378,\n",
    " -0.0010288065843622072,\n",
    " -0.0008673026886380636,\n",
    " -0.0010070493454178724,\n",
    " -0.0008467400508043246,\n",
    " -0.000799999999999867,\n",
    " -0.001012145748987833,\n",
    " -0.0010940919037196483,\n",
    " -0.0011049723756906566,\n",
    " -0.0009970089730809845,\n",
    " -0.00069541029207247,\n",
    " -0.0006165228113439129,\n",
    " -0.000735294117646938,\n",
    " -0.0008517887563885242,\n",
    " -0.0007955449482894093,\n",
    " -0.0008278145695365748,\n",
    " -0.0007380073800738492,\n",
    " -0.0006373486297003819,\n",
    " -0.0018587360594795827,\n",
    " -0.0013531799729363458,\n",
    " -0.0008410428931876706,\n",
    " -0.0009107468123860661,\n",
    " -0.0006108735491753095,\n",
    " -0.00041101520756271277,\n",
    " -0.0005030181086519858,\n",
    " -0.0006056935190793546,\n",
    " -0.0006397952655150472,\n",
    " -0.0007241129616219084,\n",
    " -0.0007267441860463185,\n",
    " -0.0006226650062266549,\n",
    " -0.0007158196134573252,\n",
    " -0.0008264462809917098,\n",
    " -0.0009803921568627943,\n",
    " -0.0009832841691248659,\n",
    " -0.0008517887563884052,\n",
    " -0.0009587727708532255,\n",
    " -0.0009940357852884075,\n",
    " -0.0010718113612003743,\n",
    " -0.0011918951132300392,\n",
    " -0.0010638297872340643,\n",
    " -0.001201923076923064,\n",
    " -0.0009208103130756535,\n",
    " -0.001135073779795609,\n",
    " -0.0013717421124828523,\n",
    " -0.0013458950201883082,\n",
    " -0.0017361111111111557]"
   ]
  },
  {
   "cell_type": "code",
   "execution_count": 59,
   "metadata": {
    "collapsed": true
   },
   "outputs": [],
   "source": [
    "kappas_10_categories = [-0.0062499999999999795,\n",
    " -0.008064516129032235,\n",
    " -0.009259259259259396,\n",
    " -0.007092198581560296,\n",
    " -0.0060240963855420935,\n",
    " -0.004184100418410051,\n",
    " -0.006578947368421204,\n",
    " -0.006211180124223671,\n",
    " -0.005154639175257748,\n",
    " -0.005405405405405311,\n",
    " -0.005617977528089859,\n",
    " -0.00414937759336098,\n",
    " -0.0037735849056604134,\n",
    " -0.005319148936169998,\n",
    " -0.004347826086956571,\n",
    " -0.0035842293906810352,\n",
    " -0.0021786492374728564,\n",
    " -0.0010309278350515677,\n",
    " -0.001123595505617877,\n",
    " -0.0012391573729863977,\n",
    " -0.001064962726304681,\n",
    " -0.001225490196078397,\n",
    " -0.0010298661174048102,\n",
    " -0.0009960159362550215,\n",
    " -0.001261034047919299,\n",
    " -0.0013831258644535134,\n",
    " -0.0013947001394700401,\n",
    " -0.0012254901960784678,\n",
    " -0.0008389261744966456,\n",
    " -0.0007651109410864307,\n",
    " -0.0008928571428570983,\n",
    " -0.0010752688172043622,\n",
    " -0.0009727626459144811,\n",
    " -0.0010101010101009641,\n",
    " -0.0008688097306688744,\n",
    " -0.0007733952049497606,\n",
    " -0.0021691973969631376,\n",
    " -0.0016393442622952771,\n",
    " -0.0010141987829614674,\n",
    " -0.0010775862068964,\n",
    " -0.0007007708479323995,\n",
    " -0.00047664442326030807,\n",
    " -0.0005820721769499923,\n",
    " -0.0007358351729212084,\n",
    " -0.0007776049766719843,\n",
    " -0.0008826125330978845,\n",
    " -0.0008896797153024611,\n",
    " -0.0007651109410864994,\n",
    " -0.0008591065292095216,\n",
    " -0.0010152284263959907,\n",
    " -0.0012106537530266702,\n",
    " -0.0011834319526627056,\n",
    " -0.0010351966873705161,\n",
    " -0.0011286681715575145,\n",
    " -0.0012315270935959965,\n",
    " -0.001326259946949658,\n",
    " -0.0014836795252226272,\n",
    " -0.0013698630136987366,\n",
    " -0.0015313935681469666,\n",
    " -0.0011494252873563283,\n",
    " -0.001459854014598568,\n",
    " -0.0017035775127767668,\n",
    " -0.0017064846416383356,\n",
    " -0.002096436058700306]"
   ]
  },
  {
   "cell_type": "code",
   "execution_count": 38,
   "metadata": {
    "collapsed": false
   },
   "outputs": [
    {
     "ename": "NameError",
     "evalue": "name 'kappas_2_categories_labmit' is not defined",
     "output_type": "error",
     "traceback": [
      "\u001b[0;31m---------------------------------------------------------------------------\u001b[0m",
      "\u001b[0;31mNameError\u001b[0m                                 Traceback (most recent call last)",
      "\u001b[0;32m<ipython-input-38-0e95f127c24d>\u001b[0m in \u001b[0;36m<module>\u001b[0;34m()\u001b[0m\n\u001b[1;32m      1\u001b[0m \u001b[0mxlist\u001b[0m \u001b[0;34m=\u001b[0m \u001b[0mrange\u001b[0m\u001b[0;34m(\u001b[0m\u001b[0;36m1\u001b[0m\u001b[0;34m,\u001b[0m \u001b[0mlen\u001b[0m\u001b[0;34m(\u001b[0m\u001b[0mtimelist\u001b[0m\u001b[0;34m)\u001b[0m\u001b[0;34m)\u001b[0m\u001b[0;34m\u001b[0m\u001b[0m\n\u001b[1;32m      2\u001b[0m \u001b[0mplt\u001b[0m\u001b[0;34m.\u001b[0m\u001b[0mfigure\u001b[0m\u001b[0;34m(\u001b[0m\u001b[0mfigsize\u001b[0m \u001b[0;34m=\u001b[0m \u001b[0;34m(\u001b[0m\u001b[0;36m12\u001b[0m\u001b[0;34m,\u001b[0m\u001b[0;36m7\u001b[0m\u001b[0;34m)\u001b[0m\u001b[0;34m)\u001b[0m\u001b[0;34m\u001b[0m\u001b[0m\n\u001b[0;32m----> 3\u001b[0;31m \u001b[0mplt\u001b[0m\u001b[0;34m.\u001b[0m\u001b[0mplot\u001b[0m\u001b[0;34m(\u001b[0m\u001b[0mxlist\u001b[0m\u001b[0;34m,\u001b[0m \u001b[0mkappas_2_categories_labmit\u001b[0m\u001b[0;34m)\u001b[0m\u001b[0;34m\u001b[0m\u001b[0m\n\u001b[0m\u001b[1;32m      4\u001b[0m \u001b[0mplt\u001b[0m\u001b[0;34m.\u001b[0m\u001b[0mxticks\u001b[0m\u001b[0;34m(\u001b[0m\u001b[0mxlist\u001b[0m\u001b[0;34m,\u001b[0m \u001b[0mtimelist\u001b[0m\u001b[0;34m,\u001b[0m \u001b[0mrotation\u001b[0m\u001b[0;34m=\u001b[0m\u001b[0;36m70\u001b[0m\u001b[0;34m)\u001b[0m\u001b[0;34m\u001b[0m\u001b[0m\n\u001b[1;32m      5\u001b[0m \u001b[0mplt\u001b[0m\u001b[0;34m.\u001b[0m\u001b[0mylabel\u001b[0m\u001b[0;34m(\u001b[0m\u001b[0;34m'Fleiss Kappa'\u001b[0m\u001b[0;34m)\u001b[0m\u001b[0;34m\u001b[0m\u001b[0m\n",
      "\u001b[0;31mNameError\u001b[0m: name 'kappas_2_categories_labmit' is not defined"
     ]
    },
    {
     "data": {
      "text/plain": [
       "<matplotlib.figure.Figure at 0x11d3d2b10>"
      ]
     },
     "metadata": {},
     "output_type": "display_data"
    }
   ],
   "source": [
    "xlist = range(1, len(timelist))\n",
    "plt.figure(figsize = (12,7))\n",
    "plt.plot(xlist, kappas_2_categories_labmit)\n",
    "plt.xticks(xlist, timelist, rotation=70)\n",
    "plt.ylabel('Fleiss Kappa')"
   ]
  },
  {
   "cell_type": "code",
   "execution_count": null,
   "metadata": {
    "collapsed": true
   },
   "outputs": [],
   "source": [
    "kappas_3_catetories_temp = "
   ]
  },
  {
   "cell_type": "code",
   "execution_count": 40,
   "metadata": {
    "collapsed": false
   },
   "outputs": [
    {
     "data": {
      "text/plain": [
       "64"
      ]
     },
     "execution_count": 40,
     "metadata": {},
     "output_type": "execute_result"
    }
   ],
   "source": [
    "len(kappas_3_catetories) "
   ]
  },
  {
   "cell_type": "code",
   "execution_count": 57,
   "metadata": {
    "collapsed": true
   },
   "outputs": [],
   "source": [
    "import seaborn as sns\n",
    "sns.set(context=\"paper\", font=\"monospace\")"
   ]
  },
  {
   "cell_type": "code",
   "execution_count": 75,
   "metadata": {
    "collapsed": false
   },
   "outputs": [
    {
     "data": {
      "image/png": "[encoded data removed]",
      "text/plain": [
       "<matplotlib.figure.Figure at 0x12331df50>"
      ]
     },
     "metadata": {},
     "output_type": "display_data"
    }
   ],
   "source": [
    "xlist = range(1, len(timelist))\n",
    "plt.figure(figsize = (10,7))\n",
    "\n",
    "plt.subplot(221)\n",
    "plt.plot(xlist, kappas_3_categories)\n",
    "plt.ylabel('Fleiss\\' Kappa, 3 categories')\n",
    "plt.subplot(222)\n",
    "\n",
    "plt.plot(xlist, kappas_10_categories)\n",
    "# plt.xticks(xlist, timelist, rotation=70, fontsize = 13)\n",
    "# plt.xlim(xmax=65)\n",
    "plt.tight_layout()\n",
    "plt.ylabel('Fleiss\\' Kappa, 10 categories')\n",
    "plt.savefig('fleiss_kappa_3_10_categories.pdf', format = 'pdf')"
   ]
  },
  {
   "cell_type": "code",
   "execution_count": 8,
   "metadata": {
    "collapsed": false
   },
   "outputs": [
    {
     "data": {
      "text/plain": [
       "[<matplotlib.lines.Line2D at 0x10ab0dbd0>]"
      ]
     },
     "execution_count": 8,
     "metadata": {},
     "output_type": "execute_result"
    },
    {
     "data": {
      "image/png": "[encoded data removed]",
      "text/plain": [
       "<matplotlib.figure.Figure at 0x10a8f7e50>"
      ]
     },
     "metadata": {},
     "output_type": "display_data"
    }
   ],
   "source": [
    "plt.figure(figsize = (10,7))\n",
    "plt.plot(kappas_10_categories)"
   ]
  },
  {
   "cell_type": "code",
   "execution_count": 35,
   "metadata": {
    "collapsed": false
   },
   "outputs": [
    {
     "data": {
      "text/plain": [
       "[<matplotlib.lines.Line2D at 0x123007f10>]"
      ]
     },
     "execution_count": 35,
     "metadata": {},
     "output_type": "execute_result"
    },
    {
     "data": {
      "image/png": "[encoded data removed]",
      "text/plain": [
       "<matplotlib.figure.Figure at 0x119598050>"
      ]
     },
     "metadata": {},
     "output_type": "display_data"
    }
   ],
   "source": [
    "plt.figure(figsize = (10,7))\n",
    "plt.plot(kappas_5_categories)"
   ]
  },
  {
   "cell_type": "code",
   "execution_count": 42,
   "metadata": {
    "collapsed": false
   },
   "outputs": [
    {
     "data": {
      "text/plain": [
       "[<matplotlib.lines.Line2D at 0x1237d8090>]"
      ]
     },
     "execution_count": 42,
     "metadata": {},
     "output_type": "execute_result"
    },
    {
     "data": {
      "image/png": "[encoded data removed]",
      "text/plain": [
       "<matplotlib.figure.Figure at 0x10ab1cf50>"
      ]
     },
     "metadata": {},
     "output_type": "display_data"
    }
   ],
   "source": [
    "plt.figure(figsize = (10,7))\n",
    "plt.plot(kappas_4_categories)"
   ]
  },
  {
   "cell_type": "code",
   "execution_count": 211,
   "metadata": {
    "collapsed": false
   },
   "outputs": [
    {
     "data": {
      "text/plain": [
       "[<matplotlib.lines.Line2D at 0x10bcc7550>]"
      ]
     },
     "execution_count": 211,
     "metadata": {},
     "output_type": "execute_result"
    },
    {
     "data": {
      "image/png": "[encoded data removed]",
      "text/plain": [
       "<matplotlib.figure.Figure at 0x11ab0ead0>"
      ]
     },
     "metadata": {},
     "output_type": "display_data"
    }
   ],
   "source": [
    "plt.figure(figsize = (10,7))\n",
    "plt.plot(kappas_2_categories_labmit)"
   ]
  },
  {
   "cell_type": "code",
   "execution_count": 213,
   "metadata": {
    "collapsed": false
   },
   "outputs": [
    {
     "data": {
      "text/plain": [
       "[<matplotlib.lines.Line2D at 0x1145cab50>]"
      ]
     },
     "execution_count": 213,
     "metadata": {},
     "output_type": "execute_result"
    },
    {
     "data": {
      "image/png": "[encoded data removed]",
      "text/plain": [
       "<matplotlib.figure.Figure at 0x11b21ed90>"
      ]
     },
     "metadata": {},
     "output_type": "display_data"
    }
   ],
   "source": [
    "plt.figure(figsize = (10,7))\n",
    "plt.plot(kappas_4_categories_labmit)"
   ]
  },
  {
   "cell_type": "code",
   "execution_count": null,
   "metadata": {
    "collapsed": true
   },
   "outputs": [],
   "source": []
  },
  {
   "cell_type": "code",
   "execution_count": null,
   "metadata": {
    "collapsed": true
   },
   "outputs": [],
   "source": []
  },
  {
   "cell_type": "code",
   "execution_count": 274,
   "metadata": {
    "collapsed": false
   },
   "outputs": [],
   "source": [
    "def pos_tag(text):\n",
    "    return st.tag(text.strip().split(' '))"
   ]
  },
  {
   "cell_type": "code",
   "execution_count": 231,
   "metadata": {
    "collapsed": false
   },
   "outputs": [],
   "source": [
    "def get_pos_type(tagged_word):\n",
    "    pos_tag = str(tagged_word[1])\n",
    "    if 'JJ' in pos_tag:\n",
    "        pos_type = 'adj'\n",
    "    elif 'RB' in pos_tag:\n",
    "        pos_type = 'adv'\n",
    "    elif 'NN' in pos_tag:\n",
    "        pos_type = 'noun'\n",
    "    elif 'VB' in pos_tag:\n",
    "        pos_type = 'verb'\n",
    "    else: \n",
    "        pos_type = None\n",
    "    return (tagged_word[0], pos_type)"
   ]
  },
  {
   "cell_type": "code",
   "execution_count": 278,
   "metadata": {
    "collapsed": false
   },
   "outputs": [],
   "source": [
    "def get_senti_score(word, pos):\n",
    "    word = str(word.lower())\n",
    "    word_stem = stemmer.stem(word)\n",
    "    pos = str(pos)\n",
    "    if pos == 'adj':\n",
    "        score = adj.get(word, None)\n",
    "        if score == None:\n",
    "            score = adj.get(word_stem, None)\n",
    "    elif pos == 'adv':\n",
    "        score = adv.get(word, None)\n",
    "        if score == None:\n",
    "            score = adv.get(word_stem, None)\n",
    "    elif pos == 'noun':\n",
    "        score = noun.get(word, None)\n",
    "        if score == None:\n",
    "            score = noun.get(word_stem, None)\n",
    "    elif pos == 'verb':\n",
    "        score = verb.get(word, None)\n",
    "        if score == None:\n",
    "            score = verb.get(word_stem, None)\n",
    "    else:\n",
    "        score = inte.get(word, None)\n",
    "        if score == None:\n",
    "            score = inte.get(word_stem, None)\n",
    "    return word, score"
   ]
  },
  {
   "cell_type": "code",
   "execution_count": 52,
   "metadata": {
    "collapsed": false
   },
   "outputs": [],
   "source": [
    "tag_scores = {}\n",
    "for tag in tags_s_d:\n",
    "    scores = []\n",
    "    for word in tag.split(' '):\n",
    "        try:\n",
    "            word = word.lower()       \n",
    "            scores.append(get_senti_score2(word))\n",
    "        except:\n",
    "            pass\n",
    "    if scores != None:\n",
    "        num_scores = len([i for i in scores if i != 0])\n",
    "        ave_score = float(sum(scores))/num_scores if num_scores != 0 else None\n",
    "        if ave_score is not None:\n",
    "            tag_scores[tag] = ave_score"
   ]
  },
  {
   "cell_type": "code",
   "execution_count": 53,
   "metadata": {
    "collapsed": false
   },
   "outputs": [
    {
     "data": {
      "text/plain": [
       "2110"
      ]
     },
     "execution_count": 53,
     "metadata": {},
     "output_type": "execute_result"
    }
   ],
   "source": [
    "len(tag_scores)"
   ]
  },
  {
   "cell_type": "code",
   "execution_count": 48,
   "metadata": {
    "collapsed": false
   },
   "outputs": [],
   "source": [
    "df_distinct = df.drop_duplicates('Title')"
   ]
  },
  {
   "cell_type": "code",
   "execution_count": 49,
   "metadata": {
    "collapsed": false
   },
   "outputs": [],
   "source": [
    "tags = df_distinct.Additional_Tags.tolist()"
   ]
  },
  {
   "cell_type": "code",
   "execution_count": 49,
   "metadata": {
    "collapsed": false
   },
   "outputs": [],
   "source": [
    "tags_s = []\n",
    "for i in tags:\n",
    "    tags_s1 = []\n",
    "    j = str(i).split(',')\n",
    "    for k in j:\n",
    "        if 'Sherlock' in k:\n",
    "            tags_s1.append(k)\n",
    "    tags_s.append(tags_s1)\n",
    "# with open ('/Users/jingy/Desktop/sherlock_tags_all2','a') as g:\n",
    "#     for i in tags_s:\n",
    "#         g.write(i)\n",
    "#         g.write('\\n')"
   ]
  },
  {
   "cell_type": "code",
   "execution_count": 50,
   "metadata": {
    "collapsed": true
   },
   "outputs": [],
   "source": [
    "tags_s = []\n",
    "for i in tags:\n",
    "    j = str(i).split(',')\n",
    "    for k in j:\n",
    "        if 'Sherlock' in k:\n",
    "            tags_s.append(k)\n",
    "tags_s_d = [i for i in tags_s if i != []]"
   ]
  },
  {
   "cell_type": "code",
   "execution_count": 319,
   "metadata": {
    "collapsed": false
   },
   "outputs": [
    {
     "data": {
      "text/plain": [
       "806"
      ]
     },
     "execution_count": 319,
     "metadata": {},
     "output_type": "execute_result"
    }
   ],
   "source": [
    "len(tag_scores)"
   ]
  },
  {
   "cell_type": "code",
   "execution_count": 54,
   "metadata": {
    "collapsed": false
   },
   "outputs": [
    {
     "data": {
      "text/plain": [
       "[<matplotlib.lines.Line2D at 0x10be0cb50>]"
      ]
     },
     "execution_count": 54,
     "metadata": {},
     "output_type": "execute_result"
    },
    {
     "data": {
      "image/png": "[encoded data removed]",
      "text/plain": [
       "<matplotlib.figure.Figure at 0x10bfaaed0>"
      ]
     },
     "metadata": {},
     "output_type": "display_data"
    }
   ],
   "source": [
    "plt.figure(figsize = (15,5))\n",
    "plt.plot(tag_scores.values())"
   ]
  },
  {
   "cell_type": "code",
   "execution_count": null,
   "metadata": {
    "collapsed": true
   },
   "outputs": [],
   "source": []
  }
 ],
 "metadata": {
  "kernelspec": {
   "display_name": "Python 2",
   "language": "python",
   "name": "python2"
  },
  "language_info": {
   "codemirror_mode": {
    "name": "ipython",
    "version": 2
   },
   "file_extension": ".py",
   "mimetype": "text/x-python",
   "name": "python",
   "nbconvert_exporter": "python",
   "pygments_lexer": "ipython2",
   "version": "2.7.10"
  }
 },
 "nbformat": 4,
 "nbformat_minor": 0
}
