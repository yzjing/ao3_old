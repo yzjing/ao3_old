{
 "cells": [
  {
   "cell_type": "code",
   "execution_count": 2,
   "metadata": {
    "collapsed": false
   },
   "outputs": [],
   "source": [
    "import pandas as pd\n",
    "import matplotlib.pyplot as plt\n",
    "%matplotlib inline \n",
    "from collections import Counter\n",
    "import numpy as np"
   ]
  },
  {
   "cell_type": "code",
   "execution_count": 3,
   "metadata": {
    "collapsed": true
   },
   "outputs": [],
   "source": [
    "import cPickle as pickle"
   ]
  },
  {
   "cell_type": "code",
   "execution_count": 4,
   "metadata": {
    "collapsed": true
   },
   "outputs": [],
   "source": [
    "f = '/Users/jingy/Desktop/finrod_curufin.csv'"
   ]
  },
  {
   "cell_type": "code",
   "execution_count": 38,
   "metadata": {
    "collapsed": true
   },
   "outputs": [],
   "source": [
    "df = pd.read_csv(f)"
   ]
  },
  {
   "cell_type": "code",
   "execution_count": 65,
   "metadata": {
    "collapsed": true
   },
   "outputs": [],
   "source": [
    "df = df[df.Title != 'Dancing with my punchlines']\n",
    "df = df[df.Title != 'Silmarillion Prompts']"
   ]
  },
  {
   "cell_type": "code",
   "execution_count": 66,
   "metadata": {
    "collapsed": false
   },
   "outputs": [
    {
     "data": {
      "text/plain": [
       "['In your flesh lingers the poison of your dreams',\n",
       " 'Secrets are in the Whiskey and the Barrels are Rolling Out of Bound',\n",
       " 'Nargothrond Nights',\n",
       " 'A knotted thread',\n",
       " 'Power and Control',\n",
       " 'I am no summer friend',\n",
       " 'For there are ghosts in the air',\n",
       " 'Drabbles and Three Sentence Stories',\n",
       " 'Knives and smiles',\n",
       " 'With Roses Budding Everywhere?',\n",
       " 'Free me from this cloud of blood',\n",
       " 'Bitter Medicine',\n",
       " 'Guilt lingers like the smell of death',\n",
       " 'The F\\xc3\\xabanorians and the 7 Deadly Sins',\n",
       " 'Silver',\n",
       " 'Between These Carven Walls',\n",
       " 'Leave Your Secrets and Kiss the Whiskey from My Lips',\n",
       " 'Before you tempt me further',\n",
       " 'Narrator',\n",
       " 'No prison, no shrine',\n",
       " 'Lock the Doors and do Not Let the Hunters Enter',\n",
       " \"It's Not so Much I Love You as I Want to Break You\",\n",
       " 'Three sentence AUs',\n",
       " 'Bitter all utterly things sweet',\n",
       " 'Dooms of Feel',\n",
       " 'Early to rise',\n",
       " \"In my willful and savage soul's volition\",\n",
       " 'Nemo me impune lacessit',\n",
       " nan,\n",
       " 'Tender not the night',\n",
       " 'They say of the king',\n",
       " 'Love wisely, my brother, and well',\n",
       " 'Poison in Sweet Wine',\n",
       " 'Where Nothing Stays Buried',\n",
       " 'Games',\n",
       " 'Experimentation',\n",
       " 'To Lie, To Make',\n",
       " 'A Crown of Wire, Blades, and Blood',\n",
       " 'Mobius - An Exploration of Evil',\n",
       " 'Nor Love Nor Wisdom',\n",
       " 'Going Down In Sight Of Land',\n",
       " 'Before You Wake',\n",
       " 'How the Ceiling Starts to Swerve',\n",
       " 'My stride is slowed by memory',\n",
       " 'And hell to pay again',\n",
       " 'Each Man Kills The Thing He Loves',\n",
       " 'The Beast Within the Burden',\n",
       " 'Fuck With Dynamite',\n",
       " 'The Holy and the Broken',\n",
       " 'To not cut the ties',\n",
       " 'Wolf at the Door',\n",
       " 'And was it something you could not stop',\n",
       " 'Candlework',\n",
       " \"We're reeling through an endless fall\",\n",
       " 'Follow the Leader',\n",
       " 'Elegy, or Twelve Scenes About One Thing',\n",
       " 'All kings, all their favorites']"
      ]
     },
     "execution_count": 66,
     "metadata": {},
     "output_type": "execute_result"
    }
   ],
   "source": [
    "df.Title.tolist()"
   ]
  },
  {
   "cell_type": "code",
   "execution_count": 67,
   "metadata": {
    "collapsed": false
   },
   "outputs": [
    {
     "data": {
      "text/html": [
       "<div>\n",
       "<table border=\"1\" class=\"dataframe\">\n",
       "  <thead>\n",
       "    <tr style=\"text-align: right;\">\n",
       "      <th></th>\n",
       "      <th>Additional_Tags</th>\n",
       "      <th>Archive_Warnings</th>\n",
       "      <th>Author</th>\n",
       "      <th>Bookmarks</th>\n",
       "      <th>Category</th>\n",
       "      <th>Chapters</th>\n",
       "      <th>Characters</th>\n",
       "      <th>Comments</th>\n",
       "      <th>CompleteDate</th>\n",
       "      <th>Fandoms</th>\n",
       "      <th>...</th>\n",
       "      <th>Kudos</th>\n",
       "      <th>Language</th>\n",
       "      <th>Notes</th>\n",
       "      <th>PublishDate</th>\n",
       "      <th>Rating</th>\n",
       "      <th>Relationship</th>\n",
       "      <th>Summary</th>\n",
       "      <th>Text</th>\n",
       "      <th>Title</th>\n",
       "      <th>Words</th>\n",
       "    </tr>\n",
       "  </thead>\n",
       "  <tbody>\n",
       "    <tr>\n",
       "      <th>68</th>\n",
       "      <td>this is very dark tho, curufin isn't feeling ...</td>\n",
       "      <td>No Archive Warnings Apply</td>\n",
       "      <td>melkorslegacy</td>\n",
       "      <td>NaN</td>\n",
       "      <td>M/M</td>\n",
       "      <td>1/1</td>\n",
       "      <td>Curufin</td>\n",
       "      <td>NaN</td>\n",
       "      <td>NaN</td>\n",
       "      <td>The Silmarillion and other histories of Middle...</td>\n",
       "      <td>...</td>\n",
       "      <td>7</td>\n",
       "      <td>English</td>\n",
       "      <td>tw: incest, self harm, sex addiction, mental i...</td>\n",
       "      <td>2015-11-18</td>\n",
       "      <td>Mature</td>\n",
       "      <td>Curufin/Finrod, Celegorm/Curufin</td>\n",
       "      <td>An anon on Tumblr put two portraits on Curufin...</td>\n",
       "      <td>ACurufin doesn’t see them immediatly, but as h...</td>\n",
       "      <td>In your flesh lingers the poison of your dreams</td>\n",
       "      <td>880</td>\n",
       "    </tr>\n",
       "    <tr>\n",
       "      <th>69</th>\n",
       "      <td>alternate universe - 1920s, alcohol, smoking</td>\n",
       "      <td>No Archive Warnings Apply</td>\n",
       "      <td>victoriousscarf</td>\n",
       "      <td>1</td>\n",
       "      <td>Multi</td>\n",
       "      <td>8/</td>\n",
       "      <td>Curufin, Finrod, Celegorm, Bëor, Ulmo, Oromë,...</td>\n",
       "      <td>31</td>\n",
       "      <td>NaN</td>\n",
       "      <td>The Silmarillion and other histories of Middle...</td>\n",
       "      <td>...</td>\n",
       "      <td>39</td>\n",
       "      <td>English</td>\n",
       "      <td>Based on a tumblr prompt from ilivethegoldenli...</td>\n",
       "      <td>2015-04-20</td>\n",
       "      <td>Explicit</td>\n",
       "      <td>Curufin/Finrod, Celegorm/Oromë, Finrod/Ulmo</td>\n",
       "      <td>A collection of stories based on &lt;a href=\"http...</td>\n",
       "      <td>“You have drunk before?” Finrod said, sounding...</td>\n",
       "      <td>Secrets are in the Whiskey and the Barrels are...</td>\n",
       "      <td>6519</td>\n",
       "    </tr>\n",
       "  </tbody>\n",
       "</table>\n",
       "<p>2 rows × 21 columns</p>\n",
       "</div>"
      ],
      "text/plain": [
       "                                      Additional_Tags  \\\n",
       "68   this is very dark tho, curufin isn't feeling ...   \n",
       "69       alternate universe - 1920s, alcohol, smoking   \n",
       "\n",
       "              Archive_Warnings           Author  Bookmarks Category Chapters  \\\n",
       "68   No Archive Warnings Apply    melkorslegacy        NaN      M/M      1/1   \n",
       "69   No Archive Warnings Apply  victoriousscarf          1    Multi       8/   \n",
       "\n",
       "                                           Characters  Comments CompleteDate  \\\n",
       "68                                            Curufin       NaN          NaN   \n",
       "69   Curufin, Finrod, Celegorm, Bëor, Ulmo, Oromë,...        31          NaN   \n",
       "\n",
       "                                              Fandoms  ...   Kudos  \\\n",
       "68  The Silmarillion and other histories of Middle...  ...       7   \n",
       "69  The Silmarillion and other histories of Middle...  ...      39   \n",
       "\n",
       "           Language                                              Notes  \\\n",
       "68          English  tw: incest, self harm, sex addiction, mental i...   \n",
       "69          English  Based on a tumblr prompt from ilivethegoldenli...   \n",
       "\n",
       "   PublishDate     Rating                                  Relationship  \\\n",
       "68  2015-11-18     Mature              Curufin/Finrod, Celegorm/Curufin   \n",
       "69  2015-04-20   Explicit   Curufin/Finrod, Celegorm/Oromë, Finrod/Ulmo   \n",
       "\n",
       "                                              Summary  \\\n",
       "68  An anon on Tumblr put two portraits on Curufin...   \n",
       "69  A collection of stories based on <a href=\"http...   \n",
       "\n",
       "                                                 Text  \\\n",
       "68  ACurufin doesn’t see them immediatly, but as h...   \n",
       "69  “You have drunk before?” Finrod said, sounding...   \n",
       "\n",
       "                                                Title Words  \n",
       "68    In your flesh lingers the poison of your dreams   880  \n",
       "69  Secrets are in the Whiskey and the Barrels are...  6519  \n",
       "\n",
       "[2 rows x 21 columns]"
      ]
     },
     "execution_count": 67,
     "metadata": {},
     "output_type": "execute_result"
    }
   ],
   "source": [
    "df.head(2)"
   ]
  },
  {
   "cell_type": "code",
   "execution_count": 69,
   "metadata": {
    "collapsed": false
   },
   "outputs": [
    {
     "data": {
      "text/plain": [
       "57"
      ]
     },
     "execution_count": 69,
     "metadata": {},
     "output_type": "execute_result"
    }
   ],
   "source": [
    "len(df)"
   ]
  },
  {
   "cell_type": "code",
   "execution_count": 70,
   "metadata": {
    "collapsed": true
   },
   "outputs": [],
   "source": [
    "df = df.drop_duplicates('Additional_Tags')"
   ]
  },
  {
   "cell_type": "code",
   "execution_count": 71,
   "metadata": {
    "collapsed": false
   },
   "outputs": [],
   "source": [
    "df = df[df.Additional_Tags.notnull()]"
   ]
  },
  {
   "cell_type": "code",
   "execution_count": 72,
   "metadata": {
    "collapsed": false
   },
   "outputs": [
    {
     "data": {
      "text/plain": [
       "57"
      ]
     },
     "execution_count": 72,
     "metadata": {},
     "output_type": "execute_result"
    }
   ],
   "source": [
    "len(df)"
   ]
  },
  {
   "cell_type": "code",
   "execution_count": 73,
   "metadata": {
    "collapsed": true
   },
   "outputs": [],
   "source": [
    "def create_df_time(df, time):\n",
    "    return df[df.PublishDate.str[:7] == time]"
   ]
  },
  {
   "cell_type": "code",
   "execution_count": 74,
   "metadata": {
    "collapsed": true
   },
   "outputs": [],
   "source": [
    "# pickle.dump(df, open( \"sherlock_current.p\", \"wb\" ) )"
   ]
  },
  {
   "cell_type": "code",
   "execution_count": 75,
   "metadata": {
    "collapsed": false
   },
   "outputs": [],
   "source": [
    "t =  df.Additional_Tags.tolist()\n",
    "t2 = []\n",
    "for i in t:\n",
    "    for j in str(i).split(','):\n",
    "        t2.append(j.strip())"
   ]
  },
  {
   "cell_type": "code",
   "execution_count": 76,
   "metadata": {
    "collapsed": false
   },
   "outputs": [
    {
     "data": {
      "text/plain": [
       "340"
      ]
     },
     "execution_count": 76,
     "metadata": {},
     "output_type": "execute_result"
    }
   ],
   "source": [
    "len(t2)"
   ]
  },
  {
   "cell_type": "code",
   "execution_count": 77,
   "metadata": {
    "collapsed": false
   },
   "outputs": [
    {
     "data": {
      "text/plain": [
       "271"
      ]
     },
     "execution_count": 77,
     "metadata": {},
     "output_type": "execute_result"
    }
   ],
   "source": [
    "len(list(set(t2)))"
   ]
  },
  {
   "cell_type": "code",
   "execution_count": 78,
   "metadata": {
    "collapsed": true
   },
   "outputs": [],
   "source": [
    "c = Counter(t2)"
   ]
  },
  {
   "cell_type": "code",
   "execution_count": 92,
   "metadata": {
    "collapsed": false
   },
   "outputs": [
    {
     "data": {
      "text/plain": [
       "98"
      ]
     },
     "execution_count": 92,
     "metadata": {},
     "output_type": "execute_result"
    }
   ],
   "source": [
    "t_f = [i for i in t2 if c[i] >= 2]\n",
    "len(t_f)"
   ]
  },
  {
   "cell_type": "code",
   "execution_count": 93,
   "metadata": {
    "collapsed": false
   },
   "outputs": [
    {
     "data": {
      "text/plain": [
       "29"
      ]
     },
     "execution_count": 93,
     "metadata": {},
     "output_type": "execute_result"
    }
   ],
   "source": [
    "t_f_d = (list(set(t_f)))\n",
    "len(t_f_d)"
   ]
  },
  {
   "cell_type": "code",
   "execution_count": 94,
   "metadata": {
    "collapsed": false
   },
   "outputs": [],
   "source": [
    "t_f_d = [i.lower() for i in t_f_d]"
   ]
  },
  {
   "cell_type": "code",
   "execution_count": 95,
   "metadata": {
    "collapsed": true
   },
   "outputs": [],
   "source": [
    "df.Additional_Tags = df.Additional_Tags.str.lower()"
   ]
  },
  {
   "cell_type": "code",
   "execution_count": 96,
   "metadata": {
    "collapsed": false
   },
   "outputs": [
    {
     "data": {
      "text/html": [
       "<div>\n",
       "<table border=\"1\" class=\"dataframe\">\n",
       "  <thead>\n",
       "    <tr style=\"text-align: right;\">\n",
       "      <th></th>\n",
       "      <th>Additional_Tags</th>\n",
       "      <th>Archive_Warnings</th>\n",
       "      <th>Author</th>\n",
       "      <th>Bookmarks</th>\n",
       "      <th>Category</th>\n",
       "      <th>Chapters</th>\n",
       "      <th>Characters</th>\n",
       "      <th>Comments</th>\n",
       "      <th>CompleteDate</th>\n",
       "      <th>Fandoms</th>\n",
       "      <th>...</th>\n",
       "      <th>Kudos</th>\n",
       "      <th>Language</th>\n",
       "      <th>Notes</th>\n",
       "      <th>PublishDate</th>\n",
       "      <th>Rating</th>\n",
       "      <th>Relationship</th>\n",
       "      <th>Summary</th>\n",
       "      <th>Text</th>\n",
       "      <th>Title</th>\n",
       "      <th>Words</th>\n",
       "    </tr>\n",
       "  </thead>\n",
       "  <tbody>\n",
       "    <tr>\n",
       "      <th>68</th>\n",
       "      <td>this is very dark tho, curufin isn't feeling ...</td>\n",
       "      <td>No Archive Warnings Apply</td>\n",
       "      <td>melkorslegacy</td>\n",
       "      <td>NaN</td>\n",
       "      <td>M/M</td>\n",
       "      <td>1/1</td>\n",
       "      <td>Curufin</td>\n",
       "      <td>NaN</td>\n",
       "      <td>NaN</td>\n",
       "      <td>The Silmarillion and other histories of Middle...</td>\n",
       "      <td>...</td>\n",
       "      <td>7</td>\n",
       "      <td>English</td>\n",
       "      <td>tw: incest, self harm, sex addiction, mental i...</td>\n",
       "      <td>2015-11-18</td>\n",
       "      <td>Mature</td>\n",
       "      <td>Curufin/Finrod, Celegorm/Curufin</td>\n",
       "      <td>An anon on Tumblr put two portraits on Curufin...</td>\n",
       "      <td>ACurufin doesn’t see them immediatly, but as h...</td>\n",
       "      <td>In your flesh lingers the poison of your dreams</td>\n",
       "      <td>880</td>\n",
       "    </tr>\n",
       "  </tbody>\n",
       "</table>\n",
       "<p>1 rows × 21 columns</p>\n",
       "</div>"
      ],
      "text/plain": [
       "                                      Additional_Tags  \\\n",
       "68   this is very dark tho, curufin isn't feeling ...   \n",
       "\n",
       "              Archive_Warnings         Author  Bookmarks Category Chapters  \\\n",
       "68   No Archive Warnings Apply  melkorslegacy        NaN      M/M      1/1   \n",
       "\n",
       "   Characters  Comments CompleteDate  \\\n",
       "68    Curufin       NaN          NaN   \n",
       "\n",
       "                                              Fandoms  ...   Kudos  \\\n",
       "68  The Silmarillion and other histories of Middle...  ...       7   \n",
       "\n",
       "           Language                                              Notes  \\\n",
       "68          English  tw: incest, self harm, sex addiction, mental i...   \n",
       "\n",
       "   PublishDate   Rating                       Relationship  \\\n",
       "68  2015-11-18   Mature   Curufin/Finrod, Celegorm/Curufin   \n",
       "\n",
       "                                              Summary  \\\n",
       "68  An anon on Tumblr put two portraits on Curufin...   \n",
       "\n",
       "                                                 Text  \\\n",
       "68  ACurufin doesn’t see them immediatly, but as h...   \n",
       "\n",
       "                                              Title Words  \n",
       "68  In your flesh lingers the poison of your dreams   880  \n",
       "\n",
       "[1 rows x 21 columns]"
      ]
     },
     "execution_count": 96,
     "metadata": {},
     "output_type": "execute_result"
    }
   ],
   "source": [
    "df.head(1)"
   ]
  },
  {
   "cell_type": "code",
   "execution_count": 97,
   "metadata": {
    "collapsed": false
   },
   "outputs": [],
   "source": [
    "tag_kudos_dict = {}\n",
    "for i in t_f_d:\n",
    "#     print i\n",
    "#     print sample[sample.Additional_Tags.str.contains(i)].Kudos.tolist()\n",
    "    tag_kudos_dict[i] = np.average(df[df.Additional_Tags.str.contains(i)].Kudos.tolist())"
   ]
  },
  {
   "cell_type": "code",
   "execution_count": 98,
   "metadata": {
    "collapsed": true
   },
   "outputs": [],
   "source": [
    "# for i in tag_kudos_dict.keys():\n",
    "#     tag_kudos_dict[i.strip()] = tag_kudos_dict.pop(i)"
   ]
  },
  {
   "cell_type": "code",
   "execution_count": 99,
   "metadata": {
    "collapsed": false
   },
   "outputs": [
    {
     "data": {
      "text/plain": [
       "29"
      ]
     },
     "execution_count": 99,
     "metadata": {},
     "output_type": "execute_result"
    }
   ],
   "source": [
    "len(tag_kudos_dict.keys())"
   ]
  },
  {
   "cell_type": "code",
   "execution_count": 100,
   "metadata": {
    "collapsed": false
   },
   "outputs": [],
   "source": [
    "from math import isnan\n",
    "tag_kudos_dict_f = {k: tag_kudos_dict[k] for k in tag_kudos_dict if not isnan(tag_kudos_dict[k])}"
   ]
  },
  {
   "cell_type": "code",
   "execution_count": 101,
   "metadata": {
    "collapsed": false
   },
   "outputs": [
    {
     "data": {
      "text/plain": [
       "24"
      ]
     },
     "execution_count": 101,
     "metadata": {},
     "output_type": "execute_result"
    }
   ],
   "source": [
    "len(tag_kudos_dict_f.keys())"
   ]
  },
  {
   "cell_type": "code",
   "execution_count": 102,
   "metadata": {
    "collapsed": false
   },
   "outputs": [
    {
     "data": {
      "text/plain": [
       "{'alcohol': 60.666666666666664,\n",
       " 'alternate universe': 39.81818181818182,\n",
       " 'alternate universe - 1920s': 65.0,\n",
       " 'alternate universe - canon divergence': 36.75,\n",
       " 'alternate universe - modern setting': 20.0,\n",
       " 'angst': 55.0,\n",
       " 'background relationships': 14.5,\n",
       " 'blow jobs': 40.0,\n",
       " 'cousincest': 22.333333333333332,\n",
       " 'crack': 53.333333333333336,\n",
       " 'drunkenness': 16.0,\n",
       " 'dubious consent': 25.666666666666668,\n",
       " 'dysfunctional relationships': 33.75,\n",
       " 'explicit sexual content': 28.0,\n",
       " 'ghosts': 57.333333333333336,\n",
       " 'humor': 41.0,\n",
       " 'jealousy': 58.5,\n",
       " 'nargothrond': 34.0,\n",
       " 'power dynamics': 34.600000000000001,\n",
       " 'pwp': 51.333333333333336,\n",
       " 'sibling incest': 48.799999999999997,\n",
       " 'smoking': 65.0,\n",
       " 'snark': 48.5,\n",
       " 'threesome - m/m/m': 46.5}"
      ]
     },
     "execution_count": 102,
     "metadata": {},
     "output_type": "execute_result"
    }
   ],
   "source": [
    "tag_kudos_dict_f"
   ]
  },
  {
   "cell_type": "code",
   "execution_count": 103,
   "metadata": {
    "collapsed": true
   },
   "outputs": [],
   "source": [
    "import operator\n",
    "sorted_tag_freq = sorted(tag_kudos_dict_f.items(), key=operator.itemgetter(1), reverse = True)"
   ]
  },
  {
   "cell_type": "code",
   "execution_count": 104,
   "metadata": {
    "collapsed": false
   },
   "outputs": [
    {
     "data": {
      "text/plain": [
       "[('alternate universe - 1920s', 65.0),\n",
       " ('smoking', 65.0),\n",
       " ('alcohol', 60.666666666666664),\n",
       " ('jealousy', 58.5),\n",
       " ('ghosts', 57.333333333333336),\n",
       " ('angst', 55.0),\n",
       " ('crack', 53.333333333333336),\n",
       " ('pwp', 51.333333333333336),\n",
       " ('sibling incest', 48.799999999999997),\n",
       " ('snark', 48.5),\n",
       " ('threesome - m/m/m', 46.5),\n",
       " ('humor', 41.0),\n",
       " ('blow jobs', 40.0),\n",
       " ('alternate universe', 39.81818181818182),\n",
       " ('alternate universe - canon divergence', 36.75),\n",
       " ('power dynamics', 34.600000000000001),\n",
       " ('nargothrond', 34.0),\n",
       " ('dysfunctional relationships', 33.75),\n",
       " ('explicit sexual content', 28.0),\n",
       " ('dubious consent', 25.666666666666668),\n",
       " ('cousincest', 22.333333333333332),\n",
       " ('alternate universe - modern setting', 20.0),\n",
       " ('drunkenness', 16.0),\n",
       " ('background relationships', 14.5)]"
      ]
     },
     "execution_count": 104,
     "metadata": {},
     "output_type": "execute_result"
    }
   ],
   "source": [
    "sorted_tag_freq[0:100]"
   ]
  },
  {
   "cell_type": "code",
   "execution_count": 7,
   "metadata": {
    "collapsed": false
   },
   "outputs": [],
   "source": [
    "timelist = df.PublishDate.drop_duplicates().tolist()\n",
    "timelist = [str(i)[:7] for i in timelist]\n",
    "timelist = list(set(timelist))\n",
    "timelist = sorted(timelist)"
   ]
  },
  {
   "cell_type": "code",
   "execution_count": 8,
   "metadata": {
    "collapsed": true
   },
   "outputs": [],
   "source": [
    "timelist_event = ['Season 1 start', 'Season 1 end', '', '', 'Season 1 DVD release', '', '', '', '', '', '', '', '', '', '',\\\n",
    " '', '', '', 'Season 2', '', '', '', 'Season 2 DVD release', '', '', '', '', '', '', '', '', '', '', '', '', '', '',\\\n",
    " '', '', '', '', 'Christmas special', '', 'Season 3', 'Season 3 DVD release', '', '', '', '', '', '', '', '', '', '',\\\n",
    " '', '', '', '', '', '', '', '', '', '']"
   ]
  },
  {
   "cell_type": "code",
   "execution_count": 9,
   "metadata": {
    "collapsed": false
   },
   "outputs": [],
   "source": [
    "def calculate_tag_time(tag):\n",
    "    time_work = {}\n",
    "    for i in timelist:\n",
    "        df_time = create_df_time(df, i)\n",
    "        time_work[i] = len(df_time[df_time.Additional_Tags.str.contains(tag)])\n",
    "    k = sorted(time_work.keys())\n",
    "    v = [time_work.get(i) for i in k]\n",
    "    return k,v"
   ]
  },
  {
   "cell_type": "code",
   "execution_count": null,
   "metadata": {
    "collapsed": true
   },
   "outputs": [],
   "source": [
    " ('Fluff', 8987),\n",
    " (' Angst', 8357),\n",
    " (' Romance', 3609),\n",
    " (' Hurt/Comfort', 3289),\n",
    " (' Johnlock - Freeform', 3272),\n",
    " (' Humor', 2910),\n",
    " (' Post Reichenbach', 2666),\n",
    " (' Friendship', 2646),\n",
    " (' Established Relationship', 2588),\n",
    " (' Anal Sex', 2534),"
   ]
  },
  {
   "cell_type": "code",
   "execution_count": 105,
   "metadata": {
    "collapsed": true
   },
   "outputs": [],
   "source": [
    "tags = df.Additional_Tags.tolist()"
   ]
  },
  {
   "cell_type": "code",
   "execution_count": 106,
   "metadata": {
    "collapsed": false
   },
   "outputs": [],
   "source": [
    "tags_s = []\n",
    "for i in tags:\n",
    "    tags_s1 = []\n",
    "    j = str(i).split(',')\n",
    "    for k in j:\n",
    "        tags_s1.append(k)\n",
    "    tags_s.append(tags_s1)"
   ]
  },
  {
   "cell_type": "code",
   "execution_count": 107,
   "metadata": {
    "collapsed": false
   },
   "outputs": [],
   "source": [
    "tags_s = []\n",
    "for i in tags:\n",
    "    j = str(i).split(',')\n",
    "    for k in j:\n",
    "        tags_s.append(k)\n",
    "tags_s = [i for i in tags_s if i != [] and i != 'nan']"
   ]
  },
  {
   "cell_type": "code",
   "execution_count": 108,
   "metadata": {
    "collapsed": false
   },
   "outputs": [
    {
     "data": {
      "text/plain": [
       "340"
      ]
     },
     "execution_count": 108,
     "metadata": {},
     "output_type": "execute_result"
    }
   ],
   "source": [
    "len(tags_s)"
   ]
  },
  {
   "cell_type": "code",
   "execution_count": 109,
   "metadata": {
    "collapsed": true
   },
   "outputs": [],
   "source": [
    "tag_freq = {i:tags_s.count(i) for i in set(tags_s)}"
   ]
  },
  {
   "cell_type": "code",
   "execution_count": 110,
   "metadata": {
    "collapsed": true
   },
   "outputs": [],
   "source": [
    "import operator\n",
    "sorted_tag_freq = sorted(tag_freq.items(), key=operator.itemgetter(1), reverse = True)"
   ]
  },
  {
   "cell_type": "code",
   "execution_count": 111,
   "metadata": {
    "collapsed": false
   },
   "outputs": [
    {
     "data": {
      "text/plain": [
       "271"
      ]
     },
     "execution_count": 111,
     "metadata": {},
     "output_type": "execute_result"
    }
   ],
   "source": [
    "len(sorted_tag_freq)"
   ]
  },
  {
   "cell_type": "code",
   "execution_count": 112,
   "metadata": {
    "collapsed": false
   },
   "outputs": [
    {
     "data": {
      "text/plain": [
       "[(' cousin incest', 15),\n",
       " (' nargothrond', 9),\n",
       " (' angst', 5),\n",
       " (' sibling incest', 5),\n",
       " (' power dynamics', 5),\n",
       " (' dysfunctional relationships', 4),\n",
       " (' threesome - m/m/m', 4),\n",
       " (' incest', 4),\n",
       " (' alternate universe - canon divergence', 4),\n",
       " (' manipulation', 3),\n",
       " (' power play', 3),\n",
       " (' alcohol', 3),\n",
       " (' alternate universe - modern setting', 2),\n",
       " (' background relationships', 2),\n",
       " (' alternate universe', 2),\n",
       " (' anal sex', 2),\n",
       " (' ghosts', 2),\n",
       " (' explicit sexual content', 2),\n",
       " (' crack', 2),\n",
       " (' smoking', 2),\n",
       " (' snark', 2),\n",
       " (' cousincest', 2),\n",
       " (' blow jobs', 2),\n",
       " (' pwp', 2),\n",
       " (' alternate universe - 1920s', 2),\n",
       " (' dubious consent', 2),\n",
       " (' jealousy', 2),\n",
       " (' humor', 2),\n",
       " (' drunkenness', 2),\n",
       " (\" nothing says 'i love you' like complete avoidance\", 1),\n",
       " (' the ships are only mentioned', 1),\n",
       " (' candles', 1),\n",
       " (' introspective weirdness', 1),\n",
       " (' curufin being unexpected', 1),\n",
       " (' actual attachment disguised as manipulation disguised as something else entirely',\n",
       "  1),\n",
       " (\" everyone smokes because it's the 20s\", 1),\n",
       " (' accidental heart-breaker maglor', 1),\n",
       " (' bitchy fluff', 1),\n",
       " (' college au', 1),\n",
       " (' (a bit of crack remains however)', 1),\n",
       " (\" feanor's banishment\", 1),\n",
       " (' self-loathing', 1),\n",
       " (' i dunno what to tag this as', 1),\n",
       " (' 1960s', 1),\n",
       " (' identity issues', 1),\n",
       " (\" discussion of maglor's sex life\", 1),\n",
       " (' lies', 1),\n",
       " (' threats of fratricidal stabbing', 1),\n",
       " (' alternate universe - historical', 1),\n",
       " (' conspiracy', 1),\n",
       " (' nsfw', 1),\n",
       " (' genderswap', 1),\n",
       " (' sick character', 1),\n",
       " (' alternative universe - the cask of amontillado', 1),\n",
       " (' alternate universe - victorian', 1),\n",
       " (\" celegorm knows what's up\", 1),\n",
       " (\" finrod can't get enough curufinw\\xc3\\xab\", 1),\n",
       " (' somehow managing to be weirdly both fucked up and hopeful at the same time',\n",
       "  1),\n",
       " (' friends to lovers', 1),\n",
       " (' nargorthrond', 1),\n",
       " (\" and it's rather painful\", 1),\n",
       " (' finrod is distractable and worried', 1),\n",
       " (' grief/mourning', 1),\n",
       " (' basically trying to build the relationship between annatar and celebrimbor',\n",
       "  1),\n",
       " (' mind healing', 1),\n",
       " (\" so sauron's betrayal will really hurt\", 1),\n",
       " (' curufin has issues', 1),\n",
       " (' nsfw-ish', 1),\n",
       " (' not a fluffy ship', 1),\n",
       " (' bitchiness', 1),\n",
       " (' casual racism', 1),\n",
       " (\" celebrimbor's everyone issues\", 1),\n",
       " (' fluff and angst', 1),\n",
       " (' light allusions to bdsm', 1),\n",
       " (' morning sex', 1),\n",
       " (' rumours', 1),\n",
       " (' orome wants to know who signed him up for this', 1),\n",
       " (\" which somehow isn't surprising\", 1),\n",
       " (' or between male-presenting individuals', 1),\n",
       " (' it was supposed to be crack but i took it too seriously', 1),\n",
       " (' finwions need to date non-finwions', 1),\n",
       " (' blood and gore', 1),\n",
       " (' and nothing ends well', 1),\n",
       " (' the usual nargothrond drama', 1),\n",
       " (' alternate universe - police', 1),\n",
       " (' unreliable narrator', 1),\n",
       " (' read the warnings in the notes', 1),\n",
       " (' allusions to sexy times between men', 1),\n",
       " (' celegorm and curufin are codependent', 1),\n",
       " (' pining while having sex', 1),\n",
       " (' genderbend', 1),\n",
       " (' dagor dagorath', 1),\n",
       " (' sadness', 1),\n",
       " (' indication of slash', 1),\n",
       " (' nothing is what it seems', 1),\n",
       " (' spite orgasms', 1),\n",
       " (' b2mem2013', 1),\n",
       " (' celebrimbor is an awkward and needs to make sure he can keep his thoughts to himself',\n",
       "  1),\n",
       " (' sex in clich\\xc3\\xa9d places', 1),\n",
       " (' rule 63', 1)]"
      ]
     },
     "execution_count": 112,
     "metadata": {},
     "output_type": "execute_result"
    }
   ],
   "source": [
    "sorted_tag_freq[0:100]"
   ]
  },
  {
   "cell_type": "code",
   "execution_count": null,
   "metadata": {
    "collapsed": true
   },
   "outputs": [],
   "source": [
    "#combine 同义词(eg. post rein)\n",
    "#detect tags that appear early/late (those like post rein can be sanity check  )"
   ]
  }
 ],
 "metadata": {
  "kernelspec": {
   "display_name": "Python 2",
   "language": "python",
   "name": "python2"
  },
  "language_info": {
   "codemirror_mode": {
    "name": "ipython",
    "version": 2
   },
   "file_extension": ".py",
   "mimetype": "text/x-python",
   "name": "python",
   "nbconvert_exporter": "python",
   "pygments_lexer": "ipython2",
   "version": "2.7.10"
  }
 },
 "nbformat": 4,
 "nbformat_minor": 0
}
