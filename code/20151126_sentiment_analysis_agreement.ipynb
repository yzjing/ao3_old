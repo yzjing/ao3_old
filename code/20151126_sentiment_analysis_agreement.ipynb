{
 "cells": [
  {
   "cell_type": "code",
   "execution_count": 1,
   "metadata": {
    "collapsed": false
   },
   "outputs": [],
   "source": [
    "import pandas as pd\n",
    "import re\n",
    "from gensim import corpora, models, similarities\n",
    "import csv\n",
    "import nltk\n",
    "from nltk.tag.stanford import POSTagger\n",
    "from nltk.stem.snowball import EnglishStemmer\n",
    "import matplotlib.pyplot as plt\n",
    "%matplotlib inline \n",
    "from nltk.corpus import stopwords\n",
    "import compute_fleiss\n",
    "from collections import Counter"
   ]
  },
  {
   "cell_type": "code",
   "execution_count": 2,
   "metadata": {
    "collapsed": false
   },
   "outputs": [],
   "source": [
    "st = POSTagger('../util/stanford-postagger-2014-08-27/models/english-left3words-distsim.tagger',\\\n",
    "               '../util/stanford-postagger-2014-08-27/stanford-postagger-3.4.1.jar')"
   ]
  },
  {
   "cell_type": "code",
   "execution_count": 3,
   "metadata": {
    "collapsed": true
   },
   "outputs": [],
   "source": [
    "stemmer = EnglishStemmer()"
   ]
  },
  {
   "cell_type": "code",
   "execution_count": 36,
   "metadata": {
    "collapsed": true
   },
   "outputs": [],
   "source": [
    "f = '../data/ao3_work_sherlock_all_2.csv'"
   ]
  },
  {
   "cell_type": "code",
   "execution_count": 28,
   "metadata": {
    "collapsed": true
   },
   "outputs": [],
   "source": [
    "f2 = '../data/ao3_work_sherlock_all_1000_2000.csv.bak.bak.bak'"
   ]
  },
  {
   "cell_type": "code",
   "execution_count": 5,
   "metadata": {
    "collapsed": true
   },
   "outputs": [],
   "source": [
    "d1 = '/Users/jingy/Desktop/socal/adj_dictionary1.11.txt'\n",
    "d2 = '/Users/jingy/Desktop/socal/adv_dictionary1.11.txt'\n",
    "d3 = '/Users/jingy/Desktop/socal/int_dictionary1.11.txt'\n",
    "d4 = '/Users/jingy/Desktop/socal/noun_dictionary1.11.txt'\n",
    "d5 = '/Users/jingy/Desktop/socal/verb_dictionary1.11.txt'"
   ]
  },
  {
   "cell_type": "code",
   "execution_count": 6,
   "metadata": {
    "collapsed": false
   },
   "outputs": [],
   "source": [
    "df_adj = pd.read_csv(d1, sep = '\\t')\n",
    "df_adv = pd.read_csv(d2, sep = '\\t')\n",
    "df_int = pd.read_csv(d3, sep = '\\t')\n",
    "df_noun = pd.read_csv(d4, sep = '\\t')\n",
    "df_verb = pd.read_csv(d5, sep = '\\t')"
   ]
  },
  {
   "cell_type": "code",
   "execution_count": 7,
   "metadata": {
    "collapsed": false
   },
   "outputs": [],
   "source": [
    "adj = dict(zip(df_adj[df_adj.columns[0]], df_adj[df_adj.columns[1]]))\n",
    "adv= dict(zip(df_adv[df_adv.columns[0]], df_adv[df_adv.columns[1]]))\n",
    "inte = dict(zip(df_int[df_int.columns[0]], df_int[df_int.columns[1]]))\n",
    "noun = dict(zip(df_noun[df_noun.columns[0]], df_noun[df_noun.columns[1]]))\n",
    "verb = dict(zip(df_verb[df_verb.columns[0]], df_verb[df_verb.columns[1]]))"
   ]
  },
  {
   "cell_type": "code",
   "execution_count": 8,
   "metadata": {
    "collapsed": true
   },
   "outputs": [],
   "source": [
    "def get_senti_score2(word):\n",
    "#     try:\n",
    "    word_stem = stemmer.stem(word)\n",
    "    scores = []\n",
    "    scores.append(adj.get(word, None))\n",
    "    scores.append(adj.get(word_stem, None))\n",
    "    scores.append(adv.get(word, None))\n",
    "    scores.append(adv.get(word_stem, None))\n",
    "    scores.append(noun.get(word, None))\n",
    "    scores.append(noun.get(word_stem, None))\n",
    "    scores.append(verb.get(word, None))\n",
    "    scores.append(verb.get(word_stem, None))\n",
    "#     scores.append(inte.get(word, None))\n",
    "#     scores.append(inte.get(word_stem, None))\n",
    "    scores = [i for i in scores if i is not None]\n",
    "    score = float(sum(scores))/len(scores) if len(scores) != 0 else 0\n",
    "#     except:\n",
    "#         score = 0\n",
    "    return score "
   ]
  },
  {
   "cell_type": "code",
   "execution_count": 9,
   "metadata": {
    "collapsed": false
   },
   "outputs": [],
   "source": [
    "def create_text(df):\n",
    "    titles = df.Title.drop_duplicates()\n",
    "    works = []\n",
    "    for title in titles:\n",
    "        text = df[df.Title == title].Text.tolist()\n",
    "        characters = df[df.Title == title].Characters.tolist()\n",
    "        characters_list = []\n",
    "        characters_list.append(''.join([part.replace(',', '') for name in characters for part in name ]))if characters != [] else []\n",
    "        characters_list = [i for i in characters_list[0].split(' ') if i != 'Sherlock' and i != 'Holmes' and i != ''] if characters_list != [] else []\n",
    "        single_work = []\n",
    "        for i in text:\n",
    "            for j in str(i).split('.'):\n",
    "                if characters_list != []:\n",
    "                    if 'Sherlock' in j and [c not in j for c in characters_list]:\n",
    "                        single_work.append(j)\n",
    "                else:\n",
    "                    if 'Sherlock' in j:\n",
    "                        single_work.append(j)\n",
    "        works.append(single_work)\n",
    "    return works"
   ]
  },
  {
   "cell_type": "code",
   "execution_count": 10,
   "metadata": {
    "collapsed": true
   },
   "outputs": [],
   "source": [
    "def get_works_score(works):\n",
    "    works_score = []\n",
    "    for work in works:\n",
    "        scores = []\n",
    "        for lines in work:\n",
    "            for word in lines.split(' '):\n",
    "                word = ''.join([i for i in word if i.isalpha()])\n",
    "                word = word.lower()      \n",
    "                scores.append(get_senti_score2(word))\n",
    "        if scores != None:\n",
    "            num_scores = len([i for i in scores if i != 0])\n",
    "            ave_score = float(sum(scores))/num_scores if num_scores != 0 else None\n",
    "        works_score.append(ave_score)\n",
    "    works_score_valid = [i for i in works_score if i is not None]\n",
    "    return works_score"
   ]
  },
  {
   "cell_type": "code",
   "execution_count": null,
   "metadata": {
    "collapsed": true
   },
   "outputs": [],
   "source": [
    "def get_rating_categories(scores):\n",
    "#     r_n5_n4 = len([i for i in works_score_valid if -5 <= i < -4])\n",
    "#     r_n4_n3 = len([i for i in works_score_valid if -4 <= i < -3])\n",
    "#     r_n3_n2 = len([i for i in works_score_valid if -3 <= i < -2])\n",
    "#     r_n2_n1 = len([i for i in works_score_valid if -2 <= i < -1])\n",
    "#     r_n1_0 = len([i for i in works_score_valid if -1 <= i < 0])\n",
    "#     r_0_1 = len([i for i in works_score_valid if 0 <= i < 1])\n",
    "#     r_1_2 = len([i for i in works_score_valid if 1 <= i < 2])\n",
    "#     r_2_3 = len([i for i in works_score_valid if 2 <= i < 3])\n",
    "#     r_3_4 = len([i for i in works_score_valid if 3 <= i < 4])\n",
    "#     r_4_5 = len([i for i in works_score_valid if 4 <= i < 5])\n",
    "#     ratings = [r_n5_n4, r_n4_n3, r_n3_n2, r_n2_n1, r_n1_0, r_0_1, r_1_2, r_2_3, r_3_4, r_4_5]\n",
    "    pos = len([i for i in works_score_valid if i > 0])\n",
    "    neg = len([i for i in works_score_valid if i < 0])\n",
    "    neu = len([i for i in works_score_valid if i == 0])\n",
    "    ratings = [pos, neg, neu]\n",
    "    return ratings"
   ]
  },
  {
   "cell_type": "code",
   "execution_count": 105,
   "metadata": {
    "collapsed": false
   },
   "outputs": [],
   "source": [
    "def create_df_time(df, time):\n",
    "    return df[df.PublishDate.str[:7] == time]"
   ]
  },
  {
   "cell_type": "code",
   "execution_count": 37,
   "metadata": {
    "collapsed": false
   },
   "outputs": [],
   "source": [
    "df = pd.read_csv(f)"
   ]
  },
  {
   "cell_type": "code",
   "execution_count": 29,
   "metadata": {
    "collapsed": false
   },
   "outputs": [
    {
     "name": "stderr",
     "output_type": "stream",
     "text": [
      "/Users/jingy/anaconda/lib/python2.7/site-packages/pandas/io/parsers.py:1170: DtypeWarning: Columns (3,7,10,11,20) have mixed types. Specify dtype option on import or set low_memory=False.\n",
      "  data = self._reader.read(nrows)\n"
     ]
    }
   ],
   "source": [
    "df2 = pd.read_table(f2,sep = ',')"
   ]
  },
  {
   "cell_type": "code",
   "execution_count": 39,
   "metadata": {
    "collapsed": false
   },
   "outputs": [],
   "source": [
    "df_all = pd.concat([df, df2])"
   ]
  },
  {
   "cell_type": "code",
   "execution_count": 40,
   "metadata": {
    "collapsed": false
   },
   "outputs": [
    {
     "data": {
      "text/plain": [
       "150159"
      ]
     },
     "execution_count": 40,
     "metadata": {},
     "output_type": "execute_result"
    }
   ],
   "source": [
    "len(df_all)"
   ]
  },
  {
   "cell_type": "code",
   "execution_count": 66,
   "metadata": {
    "collapsed": false
   },
   "outputs": [
    {
     "data": {
      "text/html": [
       "<div>\n",
       "<table border=\"1\" class=\"dataframe\">\n",
       "  <thead>\n",
       "    <tr style=\"text-align: right;\">\n",
       "      <th></th>\n",
       "      <th>Additional_Tags</th>\n",
       "      <th>Archive_Warnings</th>\n",
       "      <th>Author</th>\n",
       "      <th>Bookmarks</th>\n",
       "      <th>Category</th>\n",
       "      <th>Chapters</th>\n",
       "      <th>Characters</th>\n",
       "      <th>Comments</th>\n",
       "      <th>CompleteDate</th>\n",
       "      <th>Fandoms</th>\n",
       "      <th>...</th>\n",
       "      <th>Kudos</th>\n",
       "      <th>Language</th>\n",
       "      <th>Notes</th>\n",
       "      <th>PublishDate</th>\n",
       "      <th>Rating</th>\n",
       "      <th>Relationship</th>\n",
       "      <th>Summary</th>\n",
       "      <th>Text</th>\n",
       "      <th>Title</th>\n",
       "      <th>Words</th>\n",
       "    </tr>\n",
       "  </thead>\n",
       "  <tbody>\n",
       "    <tr>\n",
       "      <th>81757</th>\n",
       "      <td>Drabble Collection, Angst and Humor</td>\n",
       "      <td>Creator Chose Not To Use Archive Warnings</td>\n",
       "      <td>Taz</td>\n",
       "      <td>1</td>\n",
       "      <td>NaN</td>\n",
       "      <td>27/27</td>\n",
       "      <td>Duncan MacLeod, Methos, Ares, Iphicles, James...</td>\n",
       "      <td>11</td>\n",
       "      <td>2014-09-30</td>\n",
       "      <td>Highlander: The SeriesHercules: The Legendary ...</td>\n",
       "      <td>...</td>\n",
       "      <td>56</td>\n",
       "      <td>English</td>\n",
       "      <td>(See the end of the chapter for  not...</td>\n",
       "      <td>2009-12-26</td>\n",
       "      <td>General Audiences</td>\n",
       "      <td>Duncan MacLeod/Methos, Ares/Iphicles, Dean Wi...</td>\n",
       "      <td>NaN</td>\n",
       "      <td>“He was found in a sub-basement with no identi...</td>\n",
       "      <td>Writing Prompt Drabbles</td>\n",
       "      <td>2701</td>\n",
       "    </tr>\n",
       "  </tbody>\n",
       "</table>\n",
       "<p>1 rows × 21 columns</p>\n",
       "</div>"
      ],
      "text/plain": [
       "                            Additional_Tags  \\\n",
       "81757   Drabble Collection, Angst and Humor   \n",
       "\n",
       "                                 Archive_Warnings Author Bookmarks Category  \\\n",
       "81757   Creator Chose Not To Use Archive Warnings    Taz         1      NaN   \n",
       "\n",
       "      Chapters                                         Characters Comments  \\\n",
       "81757    27/27   Duncan MacLeod, Methos, Ares, Iphicles, James...       11   \n",
       "\n",
       "      CompleteDate                                            Fandoms  ...   \\\n",
       "81757   2014-09-30  Highlander: The SeriesHercules: The Legendary ...  ...    \n",
       "\n",
       "      Kudos         Language  \\\n",
       "81757    56          English   \n",
       "\n",
       "                                                   Notes PublishDate  \\\n",
       "81757            (See the end of the chapter for  not...  2009-12-26   \n",
       "\n",
       "                   Rating                                       Relationship  \\\n",
       "81757   General Audiences   Duncan MacLeod/Methos, Ares/Iphicles, Dean Wi...   \n",
       "\n",
       "      Summary                                               Text  \\\n",
       "81757     NaN  “He was found in a sub-basement with no identi...   \n",
       "\n",
       "                         Title Words  \n",
       "81757  Writing Prompt Drabbles  2701  \n",
       "\n",
       "[1 rows x 21 columns]"
      ]
     },
     "execution_count": 66,
     "metadata": {},
     "output_type": "execute_result"
    }
   ],
   "source": [
    "df_all.sort('PublishDate').head(1)"
   ]
  },
  {
   "cell_type": "code",
   "execution_count": 109,
   "metadata": {
    "collapsed": false
   },
   "outputs": [
    {
     "data": {
      "text/html": [
       "<div>\n",
       "<table border=\"1\" class=\"dataframe\">\n",
       "  <thead>\n",
       "    <tr style=\"text-align: right;\">\n",
       "      <th></th>\n",
       "      <th>Additional_Tags</th>\n",
       "      <th>Archive_Warnings</th>\n",
       "      <th>Author</th>\n",
       "      <th>Bookmarks</th>\n",
       "      <th>Category</th>\n",
       "      <th>Chapters</th>\n",
       "      <th>Characters</th>\n",
       "      <th>Comments</th>\n",
       "      <th>CompleteDate</th>\n",
       "      <th>Fandoms</th>\n",
       "      <th>...</th>\n",
       "      <th>Kudos</th>\n",
       "      <th>Language</th>\n",
       "      <th>Notes</th>\n",
       "      <th>PublishDate</th>\n",
       "      <th>Rating</th>\n",
       "      <th>Relationship</th>\n",
       "      <th>Summary</th>\n",
       "      <th>Text</th>\n",
       "      <th>Title</th>\n",
       "      <th>Words</th>\n",
       "    </tr>\n",
       "  </thead>\n",
       "  <tbody>\n",
       "    <tr>\n",
       "      <th>0</th>\n",
       "      <td>zombie apocalypse AU, a bit like The Walking ...</td>\n",
       "      <td>Creator Chose Not To Use Archive Warnings</td>\n",
       "      <td>thewallflower07</td>\n",
       "      <td>1</td>\n",
       "      <td>NaN</td>\n",
       "      <td>1/1</td>\n",
       "      <td>Sherlock Holmes, John Watson, Molly Hooper, G...</td>\n",
       "      <td>2</td>\n",
       "      <td>NaN</td>\n",
       "      <td>Sherlock (TV)</td>\n",
       "      <td>...</td>\n",
       "      <td>23</td>\n",
       "      <td>English</td>\n",
       "      <td>The dialogue and speech thing is intentional, ...</td>\n",
       "      <td>2015-11-07</td>\n",
       "      <td>Teen And Up Audiences</td>\n",
       "      <td>Sherlock Holmes&amp; John Watson, Molly Hooper/Gr...</td>\n",
       "      <td>What the end of the world means and how you su...</td>\n",
       "      <td>AAAThe quickest way of ending a war is to lose...</td>\n",
       "      <td>The End of the World</td>\n",
       "      <td>2468</td>\n",
       "    </tr>\n",
       "  </tbody>\n",
       "</table>\n",
       "<p>1 rows × 21 columns</p>\n",
       "</div>"
      ],
      "text/plain": [
       "                                     Additional_Tags  \\\n",
       "0   zombie apocalypse AU, a bit like The Walking ...   \n",
       "\n",
       "                             Archive_Warnings           Author Bookmarks  \\\n",
       "0   Creator Chose Not To Use Archive Warnings  thewallflower07         1   \n",
       "\n",
       "  Category Chapters                                         Characters  \\\n",
       "0      NaN      1/1   Sherlock Holmes, John Watson, Molly Hooper, G...   \n",
       "\n",
       "  Comments CompleteDate        Fandoms  ...  Kudos         Language  \\\n",
       "0        2          NaN  Sherlock (TV)  ...     23          English   \n",
       "\n",
       "                                               Notes PublishDate  \\\n",
       "0  The dialogue and speech thing is intentional, ...  2015-11-07   \n",
       "\n",
       "                   Rating                                       Relationship  \\\n",
       "0   Teen And Up Audiences   Sherlock Holmes& John Watson, Molly Hooper/Gr...   \n",
       "\n",
       "                                             Summary  \\\n",
       "0  What the end of the world means and how you su...   \n",
       "\n",
       "                                                Text                 Title  \\\n",
       "0  AAAThe quickest way of ending a war is to lose...  The End of the World   \n",
       "\n",
       "  Words  \n",
       "0  2468  \n",
       "\n",
       "[1 rows x 21 columns]"
      ]
     },
     "execution_count": 109,
     "metadata": {},
     "output_type": "execute_result"
    }
   ],
   "source": [
    "df_all.head(1)"
   ]
  },
  {
   "cell_type": "code",
   "execution_count": 98,
   "metadata": {
    "collapsed": true
   },
   "outputs": [],
   "source": [
    "timelist = df_all.PublishDate.drop_duplicates().tolist()\n",
    "timelist = [str(i)[:7] for i in timelist]\n",
    "timelist = list(set(timelist))\n",
    "timelist = sorted(timelist)"
   ]
  },
  {
   "cell_type": "code",
   "execution_count": 102,
   "metadata": {
    "collapsed": false
   },
   "outputs": [],
   "source": [
    "timelist = timelist[0:56]"
   ]
  },
  {
   "cell_type": "code",
   "execution_count": 17,
   "metadata": {
    "collapsed": true
   },
   "outputs": [],
   "source": [
    "df_l = df[['PublishDate','Text','Title', 'Characters']]"
   ]
  },
  {
   "cell_type": "code",
   "execution_count": 18,
   "metadata": {
    "collapsed": false
   },
   "outputs": [],
   "source": [
    "df_l = df_l[df_l.Characters.notnull()]\n",
    "df_l = df_l[df_l.PublishDate != 'PublishDate']\n",
    "df_l = df_l[df_l.PublishDate.notnull()]\n",
    "df_l = df_l.sort('PublishDate')"
   ]
  },
  {
   "cell_type": "code",
   "execution_count": 247,
   "metadata": {
    "collapsed": true
   },
   "outputs": [],
   "source": [
    "kappas2 = []\n",
    "for i in timelist:\n",
    "    df_time = create_df_time(df_l, i)\n",
    "    if len(df_time) > 0:\n",
    "        works = create_text(df_time)\n",
    "        works_score_valid = get_works_score(works)\n",
    "        ratings = get_rating_categories(works_score_valid)\n",
    "        kappa = computeKappa([ratings])\n",
    "        kappas2.append(kappa)"
   ]
  },
  {
   "cell_type": "code",
   "execution_count": 106,
   "metadata": {
    "collapsed": false
   },
   "outputs": [],
   "source": [
    "time_work = {}\n",
    "for i in timelist:\n",
    "    df_time = create_df_time(df_all, i)\n",
    "    time_work[i] = len(df_time.groupby(df_time.Title))"
   ]
  },
  {
   "cell_type": "code",
   "execution_count": 107,
   "metadata": {
    "collapsed": false
   },
   "outputs": [
    {
     "data": {
      "text/plain": [
       "{'2009-12': 1,\n",
       " '2010-09': 1,\n",
       " '2010-10': 1,\n",
       " '2011-02': 0,\n",
       " '2011-03': 1,\n",
       " '2011-06': 2,\n",
       " '2011-09': 1,\n",
       " '2011-11': 1,\n",
       " '2011-12': 3,\n",
       " '2012-01': 4,\n",
       " '2012-02': 6,\n",
       " '2012-03': 5,\n",
       " '2012-04': 13,\n",
       " '2012-05': 8,\n",
       " '2012-06': 12,\n",
       " '2012-07': 15,\n",
       " '2012-08': 10,\n",
       " '2012-09': 11,\n",
       " '2012-10': 17,\n",
       " '2012-11': 19,\n",
       " '2012-12': 22,\n",
       " '2013-01': 40,\n",
       " '2013-02': 32,\n",
       " '2013-03': 32,\n",
       " '2013-04': 46,\n",
       " '2013-05': 43,\n",
       " '2013-06': 43,\n",
       " '2013-07': 80,\n",
       " '2013-08': 71,\n",
       " '2013-09': 66,\n",
       " '2013-10': 88,\n",
       " '2013-11': 78,\n",
       " '2013-12': 142,\n",
       " '2014-01': 244,\n",
       " '2014-02': 286,\n",
       " '2014-03': 1138,\n",
       " '2014-04': 1848,\n",
       " '2014-05': 1647,\n",
       " '2014-06': 1628,\n",
       " '2014-07': 1833,\n",
       " '2014-08': 1662,\n",
       " '2014-09': 1399,\n",
       " '2014-10': 1235,\n",
       " '2014-11': 1188,\n",
       " '2014-12': 1422,\n",
       " '2015-01': 1271,\n",
       " '2015-02': 1353,\n",
       " '2015-03': 1249,\n",
       " '2015-04': 1068,\n",
       " '2015-05': 1174,\n",
       " '2015-06': 1038,\n",
       " '2015-07': 1363,\n",
       " '2015-08': 1113,\n",
       " '2015-09': 878,\n",
       " '2015-10': 963,\n",
       " '2015-11': 704}"
      ]
     },
     "execution_count": 107,
     "metadata": {},
     "output_type": "execute_result"
    }
   ],
   "source": [
    "time_work"
   ]
  },
  {
   "cell_type": "code",
   "execution_count": 248,
   "metadata": {
    "collapsed": false
   },
   "outputs": [
    {
     "data": {
      "text/plain": [
       "[-0.0009082652134423709,\n",
       " -0.000766283524904282,\n",
       " -0.0008787346221440945,\n",
       " -0.0008271298593880458,\n",
       " -0.0009057971014494549,\n",
       " -0.0010449320794150149,\n",
       " -0.0009319664492077924,\n",
       " -0.0010526315789473359,\n",
       " -0.0008375209380235438,\n",
       " -0.0009920634920633747,\n",
       " -0.0012437810945273183,\n",
       " -0.0011547344110852823,\n",
       " -0.0015600624024961097]"
      ]
     },
     "execution_count": 248,
     "metadata": {},
     "output_type": "execute_result"
    }
   ],
   "source": [
    "kappas2"
   ]
  },
  {
   "cell_type": "code",
   "execution_count": 249,
   "metadata": {
    "collapsed": false
   },
   "outputs": [
    {
     "data": {
      "text/plain": [
       "[<matplotlib.lines.Line2D at 0x1144c9b90>]"
      ]
     },
     "execution_count": 249,
     "metadata": {},
     "output_type": "execute_result"
    },
    {
     "data": {
      "image/png": "[encoded data removed]",
      "text/plain": [
       "<matplotlib.figure.Figure at 0x10a900310>"
      ]
     },
     "metadata": {},
     "output_type": "display_data"
    }
   ],
   "source": [
    "plt.figure()\n",
    "plt.plot(kappas2)"
   ]
  },
  {
   "cell_type": "code",
   "execution_count": 243,
   "metadata": {
    "collapsed": false
   },
   "outputs": [
    {
     "data": {
      "text/plain": [
       "[-0.0011235955056180347,\n",
       " -0.0009606147934678086,\n",
       " -0.00104602510460241,\n",
       " -0.0010964912280701932,\n",
       " -0.0012106537530266548,\n",
       " -0.0013586956521737582,\n",
       " -0.0012150668286756265,\n",
       " -0.0013831258644534307,\n",
       " -0.0010537407797681511,\n",
       " -0.001295336787564771,\n",
       " -0.0015576323987539784,\n",
       " -0.0015503875968991183,\n",
       " -0.001980198019802116]"
      ]
     },
     "execution_count": 243,
     "metadata": {},
     "output_type": "execute_result"
    }
   ],
   "source": [
    "kappas"
   ]
  },
  {
   "cell_type": "code",
   "execution_count": 245,
   "metadata": {
    "collapsed": false
   },
   "outputs": [
    {
     "data": {
      "text/plain": [
       "[<matplotlib.lines.Line2D at 0x1146c2850>]"
      ]
     },
     "execution_count": 245,
     "metadata": {},
     "output_type": "execute_result"
    },
    {
     "data": {
      "image/png": "[encoded data removed]",
      "text/plain": [
       "<matplotlib.figure.Figure at 0x10a9ae3d0>"
      ]
     },
     "metadata": {},
     "output_type": "display_data"
    }
   ],
   "source": [
    "plt.figure()\n",
    "plt.plot(kappas)"
   ]
  },
  {
   "cell_type": "code",
   "execution_count": null,
   "metadata": {
    "collapsed": true
   },
   "outputs": [],
   "source": []
  },
  {
   "cell_type": "code",
   "execution_count": null,
   "metadata": {
    "collapsed": true
   },
   "outputs": [],
   "source": []
  },
  {
   "cell_type": "code",
   "execution_count": 274,
   "metadata": {
    "collapsed": false
   },
   "outputs": [],
   "source": [
    "def pos_tag(text):\n",
    "    return st.tag(text.strip().split(' '))"
   ]
  },
  {
   "cell_type": "code",
   "execution_count": 231,
   "metadata": {
    "collapsed": false
   },
   "outputs": [],
   "source": [
    "def get_pos_type(tagged_word):\n",
    "    pos_tag = str(tagged_word[1])\n",
    "    if 'JJ' in pos_tag:\n",
    "        pos_type = 'adj'\n",
    "    elif 'RB' in pos_tag:\n",
    "        pos_type = 'adv'\n",
    "    elif 'NN' in pos_tag:\n",
    "        pos_type = 'noun'\n",
    "    elif 'VB' in pos_tag:\n",
    "        pos_type = 'verb'\n",
    "    else: \n",
    "        pos_type = None\n",
    "    return (tagged_word[0], pos_type)"
   ]
  },
  {
   "cell_type": "code",
   "execution_count": 278,
   "metadata": {
    "collapsed": false
   },
   "outputs": [],
   "source": [
    "def get_senti_score(word, pos):\n",
    "    word = str(word.lower())\n",
    "    word_stem = stemmer.stem(word)\n",
    "    pos = str(pos)\n",
    "    if pos == 'adj':\n",
    "        score = adj.get(word, None)\n",
    "        if score == None:\n",
    "            score = adj.get(word_stem, None)\n",
    "    elif pos == 'adv':\n",
    "        score = adv.get(word, None)\n",
    "        if score == None:\n",
    "            score = adv.get(word_stem, None)\n",
    "    elif pos == 'noun':\n",
    "        score = noun.get(word, None)\n",
    "        if score == None:\n",
    "            score = noun.get(word_stem, None)\n",
    "    elif pos == 'verb':\n",
    "        score = verb.get(word, None)\n",
    "        if score == None:\n",
    "            score = verb.get(word_stem, None)\n",
    "    else:\n",
    "        score = inte.get(word, None)\n",
    "        if score == None:\n",
    "            score = inte.get(word_stem, None)\n",
    "    return word, score"
   ]
  },
  {
   "cell_type": "code",
   "execution_count": 318,
   "metadata": {
    "collapsed": false
   },
   "outputs": [],
   "source": [
    "tag_scores = {}\n",
    "for tag in tags:\n",
    "    scores = []\n",
    "    for word in tag.split(' '):\n",
    "        word = word.lower()       \n",
    "        scores.append(get_senti_score2(word))\n",
    "    if scores != None:\n",
    "        num_scores = len([i for i in scores if i != 0])\n",
    "        ave_score = float(sum(scores))/num_scores if num_scores != 0 else None\n",
    "        if ave_score is not None:\n",
    "            tag_scores[tag] = ave_score"
   ]
  },
  {
   "cell_type": "code",
   "execution_count": 62,
   "metadata": {
    "collapsed": false
   },
   "outputs": [],
   "source": [
    "counts = Counter(tags_s)\n",
    "new_list = sorted(tags_s, key=counts.get, reverse=True)"
   ]
  },
  {
   "cell_type": "code",
   "execution_count": 63,
   "metadata": {
    "collapsed": true
   },
   "outputs": [],
   "source": [
    "tag_freq = {i:tags_s.count(i) for i in set(tags_s)}"
   ]
  },
  {
   "cell_type": "code",
   "execution_count": 64,
   "metadata": {
    "collapsed": true
   },
   "outputs": [],
   "source": [
    "import operator\n",
    "sorted_tag_freq = sorted(tag_freq.items(), key=operator.itemgetter(1), reverse = True)"
   ]
  },
  {
   "cell_type": "code",
   "execution_count": 65,
   "metadata": {
    "collapsed": false
   },
   "outputs": [
    {
     "data": {
      "text/plain": [
       "[(' Sherlock Being Sherlock', 388),\n",
       " (' POV Sherlock Holmes', 327),\n",
       " (' Pining Sherlock', 263),\n",
       " (' Virgin Sherlock', 261),\n",
       " (' Sherlock Holmes and Feelings', 257),\n",
       " (' Established Sherlock Holmes/John Watson', 213),\n",
       " (' Sherlock - Freeform', 175),\n",
       " (' Omega Sherlock', 152),\n",
       " (' Sherlock Loves John', 151),\n",
       " (' Alpha Sherlock', 150),\n",
       " (' Bottom Sherlock Holmes', 148),\n",
       " (' Jealous Sherlock', 148),\n",
       " (' Sherlock Is A Bit Not Good', 136),\n",
       " (' Top Sherlock', 132),\n",
       " (' Possessive Sherlock', 126),\n",
       " (' Asexual Sherlock', 119),\n",
       " (' John Loves Sherlock', 118),\n",
       " (' Kid Sherlock', 109),\n",
       " (' Sherlock Holmes - Freeform', 91),\n",
       " (' Sherlock AU', 81),\n",
       " (' Sherlock-centric', 81),\n",
       " (' Sherlock Series 3 Spoilers', 78),\n",
       " (' Dark Sherlock', 71),\n",
       " (' Sherlock Holmes & John Watson Friendship', 71),\n",
       " (\" Sherlock's Violin\", 71),\n",
       " (' Vampire Sherlock', 69),\n",
       " (' Sherlock is a Brat', 67),\n",
       " (' Insecure Sherlock', 66),\n",
       " (' Sad Sherlock', 64),\n",
       " (' BBC Sherlock - Freeform', 63),\n",
       " (' Bottom Sherlock', 62),\n",
       " (' Protective Sherlock', 61),\n",
       " (' Hurt Sherlock', 61),\n",
       " (' Sherlock Holmes Has Feelings', 59),\n",
       " (' Sherlock Whump', 57),\n",
       " (' Sub Sherlock Holmes', 57),\n",
       " (' Developing Sherlock Holmes/John Watson', 55),\n",
       " (' BAMF Sherlock', 51),\n",
       " (' Sherlock Being an Idiot', 48),\n",
       " (' Sick Sherlock', 47),\n",
       " (' Sherlock is a Mess', 45),\n",
       " (' PTSD Sherlock', 45),\n",
       " (' OOC Sherlock', 44),\n",
       " (' Sherlock Holmes and Drug Use', 44),\n",
       " (' Drunk Sherlock', 44),\n",
       " (' Sherlock Holmes & Molly Hooper Friendship', 43),\n",
       " (' Dom Sherlock', 42),\n",
       " (' Sherlock Makes Deductions', 41),\n",
       " (' Sherlock Plays the Violin', 40),\n",
       " (' Female Sherlock Holmes', 40)]"
      ]
     },
     "execution_count": 65,
     "metadata": {},
     "output_type": "execute_result"
    }
   ],
   "source": [
    "sorted_tag_freq[0:50]"
   ]
  },
  {
   "cell_type": "code",
   "execution_count": 43,
   "metadata": {
    "collapsed": false
   },
   "outputs": [
    {
     "data": {
      "text/plain": [
       "26810"
      ]
     },
     "execution_count": 43,
     "metadata": {},
     "output_type": "execute_result"
    }
   ],
   "source": [
    "len(df_all.groupby('Title'))"
   ]
  },
  {
   "cell_type": "code",
   "execution_count": 44,
   "metadata": {
    "collapsed": false
   },
   "outputs": [],
   "source": [
    "df_distinct = df_all.drop_duplicates('Title')"
   ]
  },
  {
   "cell_type": "code",
   "execution_count": 45,
   "metadata": {
    "collapsed": false
   },
   "outputs": [],
   "source": [
    "tags = df_distinct.Additional_Tags.tolist()"
   ]
  },
  {
   "cell_type": "code",
   "execution_count": 49,
   "metadata": {
    "collapsed": false
   },
   "outputs": [],
   "source": [
    "tags_s = []\n",
    "for i in tags:\n",
    "    tags_s1 = []\n",
    "    j = str(i).split(',')\n",
    "    for k in j:\n",
    "        if 'Sherlock' in k:\n",
    "            tags_s1.append(k)\n",
    "    tags_s.append(tags_s1)\n",
    "# with open ('/Users/jingy/Desktop/sherlock_tags_all2','a') as g:\n",
    "#     for i in tags_s:\n",
    "#         g.write(i)\n",
    "#         g.write('\\n')"
   ]
  },
  {
   "cell_type": "code",
   "execution_count": 52,
   "metadata": {
    "collapsed": true
   },
   "outputs": [],
   "source": [
    "tags_s = []\n",
    "for i in tags:\n",
    "    j = str(i).split(',')\n",
    "    for k in j:\n",
    "        if 'Sherlock' in k:\n",
    "            tags_s.append(k)\n",
    "tags_s_d = [i for i in tags_s if i != []]"
   ]
  },
  {
   "cell_type": "code",
   "execution_count": 319,
   "metadata": {
    "collapsed": false
   },
   "outputs": [
    {
     "data": {
      "text/plain": [
       "806"
      ]
     },
     "execution_count": 319,
     "metadata": {},
     "output_type": "execute_result"
    }
   ],
   "source": [
    "len(tag_scores)"
   ]
  },
  {
   "cell_type": "code",
   "execution_count": 327,
   "metadata": {
    "collapsed": false
   },
   "outputs": [
    {
     "data": {
      "text/plain": [
       "[<matplotlib.lines.Line2D at 0x125772d90>]"
      ]
     },
     "execution_count": 327,
     "metadata": {},
     "output_type": "execute_result"
    },
    {
     "data": {
      "image/png": "[encoded data removed]",
      "text/plain": [
       "<matplotlib.figure.Figure at 0x11db82650>"
      ]
     },
     "metadata": {},
     "output_type": "display_data"
    }
   ],
   "source": [
    "plt.figure(figsize = (15,5))\n",
    "plt.plot(tag_scores.values())"
   ]
  }
 ],
 "metadata": {
  "kernelspec": {
   "display_name": "Python 2",
   "language": "python",
   "name": "python2"
  },
  "language_info": {
   "codemirror_mode": {
    "name": "ipython",
    "version": 2
   },
   "file_extension": ".py",
   "mimetype": "text/x-python",
   "name": "python",
   "nbconvert_exporter": "python",
   "pygments_lexer": "ipython2",
   "version": "2.7.10"
  }
 },
 "nbformat": 4,
 "nbformat_minor": 0
}
