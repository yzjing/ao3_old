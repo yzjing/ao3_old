{
 "cells": [
  {
   "cell_type": "code",
   "execution_count": 1,
   "metadata": {
    "collapsed": false
   },
   "outputs": [],
   "source": [
    "import pandas as pd\n",
    "import matplotlib.pyplot as plt\n",
    "%matplotlib inline \n",
    "from collections import Counter\n",
    "import numpy as np"
   ]
  },
  {
   "cell_type": "code",
   "execution_count": 34,
   "metadata": {
    "collapsed": true
   },
   "outputs": [],
   "source": [
    "import cPickle as pickle"
   ]
  },
  {
   "cell_type": "code",
   "execution_count": 2,
   "metadata": {
    "collapsed": false
   },
   "outputs": [],
   "source": [
    "f = '../data/sherlock_current.csv'"
   ]
  },
  {
   "cell_type": "code",
   "execution_count": 3,
   "metadata": {
    "collapsed": true
   },
   "outputs": [],
   "source": [
    "def create_df_time(df, time):\n",
    "    return df[df.PublishDate.str[:7] == time]"
   ]
  },
  {
   "cell_type": "code",
   "execution_count": 4,
   "metadata": {
    "collapsed": false
   },
   "outputs": [],
   "source": [
    "df = pd.read_csv(f)\n",
    "df = df.sort('PublishDate')\n",
    "df.drop(df.head(5).index, inplace=True)"
   ]
  },
  {
   "cell_type": "code",
   "execution_count": 5,
   "metadata": {
    "collapsed": false
   },
   "outputs": [],
   "source": [
    "df = df[['Additional_Tags','PublishDate', 'Hits', 'Kudos', 'Comments', 'Title']]\n",
    "df = df[df.Additional_Tags.notnull()]"
   ]
  },
  {
   "cell_type": "code",
   "execution_count": 6,
   "metadata": {
    "collapsed": false
   },
   "outputs": [
    {
     "data": {
      "text/html": [
       "<div>\n",
       "<table border=\"1\" class=\"dataframe\">\n",
       "  <thead>\n",
       "    <tr style=\"text-align: right;\">\n",
       "      <th></th>\n",
       "      <th>Additional_Tags</th>\n",
       "      <th>PublishDate</th>\n",
       "      <th>Hits</th>\n",
       "      <th>Kudos</th>\n",
       "      <th>Comments</th>\n",
       "      <th>Title</th>\n",
       "    </tr>\n",
       "  </thead>\n",
       "  <tbody>\n",
       "    <tr>\n",
       "      <th>75531</th>\n",
       "      <td>5 Things, Prompt Fic, Community: sherlockbbc_fic</td>\n",
       "      <td>2010-07-28</td>\n",
       "      <td>19282</td>\n",
       "      <td>401</td>\n",
       "      <td>31</td>\n",
       "      <td>Handle With Care</td>\n",
       "    </tr>\n",
       "    <tr>\n",
       "      <th>75532</th>\n",
       "      <td>Therapy, Codependency, First Time, Angst, Humor</td>\n",
       "      <td>2010-07-28</td>\n",
       "      <td>7975</td>\n",
       "      <td>295</td>\n",
       "      <td>14</td>\n",
       "      <td>The Perils of Urban Warfare</td>\n",
       "    </tr>\n",
       "    <tr>\n",
       "      <th>75529</th>\n",
       "      <td>Hurt/Comfort</td>\n",
       "      <td>2010-07-31</td>\n",
       "      <td>6605</td>\n",
       "      <td>156</td>\n",
       "      <td>22</td>\n",
       "      <td>'You give me….'</td>\n",
       "    </tr>\n",
       "    <tr>\n",
       "      <th>75527</th>\n",
       "      <td>Episode Tag</td>\n",
       "      <td>2010-08-01</td>\n",
       "      <td>4995</td>\n",
       "      <td>128</td>\n",
       "      <td>16</td>\n",
       "      <td>Days Behind</td>\n",
       "    </tr>\n",
       "    <tr>\n",
       "      <th>75525</th>\n",
       "      <td>Community: sherlockbbc_fic, Sleepwalking</td>\n",
       "      <td>2010-08-02</td>\n",
       "      <td>30505</td>\n",
       "      <td>1276</td>\n",
       "      <td>90</td>\n",
       "      <td>Safe</td>\n",
       "    </tr>\n",
       "  </tbody>\n",
       "</table>\n",
       "</div>"
      ],
      "text/plain": [
       "                                         Additional_Tags PublishDate   Hits  \\\n",
       "75531   5 Things, Prompt Fic, Community: sherlockbbc_fic  2010-07-28  19282   \n",
       "75532    Therapy, Codependency, First Time, Angst, Humor  2010-07-28   7975   \n",
       "75529                                       Hurt/Comfort  2010-07-31   6605   \n",
       "75527                                        Episode Tag  2010-08-01   4995   \n",
       "75525           Community: sherlockbbc_fic, Sleepwalking  2010-08-02  30505   \n",
       "\n",
       "       Kudos  Comments                        Title  \n",
       "75531    401        31             Handle With Care  \n",
       "75532    295        14  The Perils of Urban Warfare  \n",
       "75529    156        22              'You give me….'  \n",
       "75527    128        16                  Days Behind  \n",
       "75525   1276        90                         Safe  "
      ]
     },
     "execution_count": 6,
     "metadata": {},
     "output_type": "execute_result"
    }
   ],
   "source": [
    "df.head()"
   ]
  },
  {
   "cell_type": "code",
   "execution_count": 35,
   "metadata": {
    "collapsed": true
   },
   "outputs": [],
   "source": [
    "pickle.dump(df, open( \"sherlock_current.p\", \"wb\" ) )"
   ]
  },
  {
   "cell_type": "code",
   "execution_count": null,
   "metadata": {
    "collapsed": true
   },
   "outputs": [],
   "source": [
    "pickle.load( open( \"sherlock_current.p\", \"rb\" ) )"
   ]
  },
  {
   "cell_type": "code",
   "execution_count": 7,
   "metadata": {
    "collapsed": false
   },
   "outputs": [],
   "source": [
    "timelist = df.PublishDate.drop_duplicates().tolist()\n",
    "timelist = [str(i)[:7] for i in timelist]\n",
    "timelist = list(set(timelist))\n",
    "timelist = sorted(timelist)"
   ]
  },
  {
   "cell_type": "code",
   "execution_count": 8,
   "metadata": {
    "collapsed": true
   },
   "outputs": [],
   "source": [
    "timelist_event = ['Season 1 start', 'Season 1 end', '', '', 'Season 1 DVD release', '', '', '', '', '', '', '', '', '', '',\\\n",
    " '', '', '', 'Season 2', '', '', '', 'Season 2 DVD release', '', '', '', '', '', '', '', '', '', '', '', '', '', '',\\\n",
    " '', '', '', '', 'Christmas special', '', 'Season 3', 'Season 3 DVD release', '', '', '', '', '', '', '', '', '', '',\\\n",
    " '', '', '', '', '', '', '', '', '', '']"
   ]
  },
  {
   "cell_type": "code",
   "execution_count": 9,
   "metadata": {
    "collapsed": false
   },
   "outputs": [],
   "source": [
    "def calculate_tag_time(tag):\n",
    "    time_work = {}\n",
    "    for i in timelist:\n",
    "        df_time = create_df_time(df, i)\n",
    "        time_work[i] = len(df_time[df_time.Additional_Tags.str.contains(tag)])\n",
    "    k = sorted(time_work.keys())\n",
    "    v = [time_work.get(i) for i in k]\n",
    "    return k,v"
   ]
  },
  {
   "cell_type": "code",
   "execution_count": 10,
   "metadata": {
    "collapsed": false
   },
   "outputs": [],
   "source": [
    "def create_tag_plot(time_list_event):\n",
    "    fig, ax = plt.subplots(figsize = (15,10))\n",
    "    newax = ax.twiny()\n",
    "\n",
    "    # Make some room at the bottom\n",
    "    fig.subplots_adjust(bottom=0.30)\n",
    "\n",
    "    newax.set_frame_on(True)\n",
    "    newax.patch.set_visible(False)\n",
    "    newax.xaxis.set_ticks_position('bottom')\n",
    "    newax.xaxis.set_label_position('bottom')\n",
    "    newax.spines['bottom'].set_position(('outward', 60))\n",
    "\n",
    "    xlist = range(2,67)\n",
    "    xlist2 = range(0,72)\n",
    "\n",
    "    ax.xaxis.set_ticks(xlist)\n",
    "    ax.set_xticklabels(timelist, rotation=70)\n",
    "\n",
    "    newax.xaxis.set_ticks(xlist2)\n",
    "    newax.set_xticklabels(timelist_event, rotation=70)\n",
    "\n",
    "    ax.set_xlabel('Time and major event')\n",
    "    ax.set_ylabel('Number of works with tag')\n",
    "    plt.tight_layout()\n",
    "    return ax, xlist\n",
    "    # plt.savefig('./time_work.pdf', format = 'pdf')"
   ]
  },
  {
   "cell_type": "code",
   "execution_count": 23,
   "metadata": {
    "collapsed": false
   },
   "outputs": [],
   "source": [
    "def add_tag_line(ax,xlist,v):\n",
    "    ax.plot(xlist,v)"
   ]
  },
  {
   "cell_type": "code",
   "execution_count": 25,
   "metadata": {
    "collapsed": false
   },
   "outputs": [
    {
     "data": {
      "image/png": "[encoded data removed]",
      "text/plain": [
       "<matplotlib.figure.Figure at 0x107c70ed0>"
      ]
     },
     "metadata": {},
     "output_type": "display_data"
    }
   ],
   "source": [
    "ax, xlist = create_tag_plot(timelist_event)\n",
    "k,v = calculate_tag_time('Fluff')\n",
    "add_tag_line(ax, xlist, v)\n",
    "k,v2 = calculate_tag_time('Angst')\n",
    "add_tag_line(ax, xlist, v2)\n",
    "k,v3 = calculate_tag_time('Romance')\n",
    "add_tag_line(ax, xlist, v3)\n",
    "k,v4 = calculate_tag_time('Hurt/Comfort')\n",
    "add_tag_line(ax, xlist, v4)\n",
    "k,v5 = calculate_tag_time('Johnlock - Freeform')\n",
    "add_tag_line(ax, xlist, v5)\n"
   ]
  },
  {
   "cell_type": "code",
   "execution_count": null,
   "metadata": {
    "collapsed": true
   },
   "outputs": [],
   "source": [
    "Fluff', 8987),\n",
    " (' Angst', 8357),\n",
    " (' Romance', 3609),\n",
    " (' Hurt/Comfort', 3289),\n",
    " (' Johnlock - Freeform', 3272),\n",
    " (' Humor', 2910),\n",
    " (' Post Reichenbach', 2666),\n",
    " (' Friendship', 2646),\n",
    " (' Established Relationship', 2588),\n",
    " (' Anal Sex', 2534),"
   ]
  },
  {
   "cell_type": "code",
   "execution_count": 26,
   "metadata": {
    "collapsed": true
   },
   "outputs": [],
   "source": [
    "tags = df.Additional_Tags.tolist()"
   ]
  },
  {
   "cell_type": "code",
   "execution_count": 27,
   "metadata": {
    "collapsed": false
   },
   "outputs": [],
   "source": [
    "tags_s = []\n",
    "for i in tags:\n",
    "    tags_s1 = []\n",
    "    j = str(i).split(',')\n",
    "    for k in j:\n",
    "        tags_s1.append(k)\n",
    "    tags_s.append(tags_s1)"
   ]
  },
  {
   "cell_type": "code",
   "execution_count": 28,
   "metadata": {
    "collapsed": false
   },
   "outputs": [],
   "source": [
    "tags_s = []\n",
    "for i in tags:\n",
    "    j = str(i).split(',')\n",
    "    for k in j:\n",
    "        tags_s.append(k)\n",
    "tags_s = [i for i in tags_s if i != [] and i != 'nan']"
   ]
  },
  {
   "cell_type": "code",
   "execution_count": 29,
   "metadata": {
    "collapsed": false
   },
   "outputs": [
    {
     "data": {
      "text/plain": [
       "395015"
      ]
     },
     "execution_count": 29,
     "metadata": {},
     "output_type": "execute_result"
    }
   ],
   "source": [
    "len(tags_s)"
   ]
  },
  {
   "cell_type": "code",
   "execution_count": 30,
   "metadata": {
    "collapsed": true
   },
   "outputs": [],
   "source": [
    "tag_freq = {i:tags_s.count(i) for i in set(tags_s)}"
   ]
  },
  {
   "cell_type": "code",
   "execution_count": 31,
   "metadata": {
    "collapsed": true
   },
   "outputs": [],
   "source": [
    "import operator\n",
    "sorted_tag_freq = sorted(tag_freq.items(), key=operator.itemgetter(1), reverse = True)"
   ]
  },
  {
   "cell_type": "code",
   "execution_count": 33,
   "metadata": {
    "collapsed": false
   },
   "outputs": [
    {
     "data": {
      "text/plain": [
       "77865"
      ]
     },
     "execution_count": 33,
     "metadata": {},
     "output_type": "execute_result"
    }
   ],
   "source": [
    "len(sorted_tag_freq)"
   ]
  },
  {
   "cell_type": "code",
   "execution_count": 32,
   "metadata": {
    "collapsed": false
   },
   "outputs": [
    {
     "data": {
      "text/plain": [
       "[(' Fluff', 8987),\n",
       " (' Angst', 8357),\n",
       " (' Romance', 3609),\n",
       " (' Hurt/Comfort', 3289),\n",
       " (' Johnlock - Freeform', 3272),\n",
       " (' Humor', 2910),\n",
       " (' Post Reichenbach', 2666),\n",
       " (' Friendship', 2646),\n",
       " (' Established Relationship', 2588),\n",
       " (' Anal Sex', 2534),\n",
       " (' First Kiss', 2439),\n",
       " (' Alternate Universe', 2363),\n",
       " (' First Time', 2243),\n",
       " (' Post-Reichenbach', 2143),\n",
       " (' Crossover', 1698),\n",
       " (' Smut', 1696),\n",
       " (' Oral Sex', 1665),\n",
       " (' AU', 1643),\n",
       " (' Teenlock', 1369),\n",
       " (' Slash', 1345),\n",
       " (' Crack', 1336),\n",
       " (' 221B Ficlet', 1273),\n",
       " (' Love', 1240),\n",
       " (' Fluff and Angst', 1222),\n",
       " (' Blow Jobs', 1150),\n",
       " (' Friends to Lovers', 1131),\n",
       " (' Drug Use', 1129),\n",
       " (' Sherlolly - Freeform', 1102),\n",
       " (' Pre-Slash', 1098),\n",
       " (' Emotional Hurt/Comfort', 1089),\n",
       " (' Case Fic', 1045),\n",
       " (' Drabble', 1011),\n",
       " (' Masturbation', 1003),\n",
       " (' Plot What Plot/Porn Without Plot', 979),\n",
       " (' Kissing', 956),\n",
       " (' Christmas', 956),\n",
       " (' Parentlock', 929),\n",
       " (' Johnlock Fluff', 907),\n",
       " (' Explicit Sexual Content', 893),\n",
       " (' Alpha/Beta/Omega Dynamics', 887),\n",
       " (' Violence', 878),\n",
       " (' PWP', 828),\n",
       " (' One Shot', 779),\n",
       " (' Rimming', 773),\n",
       " (' Family', 772),\n",
       " (' Sexual Content', 751),\n",
       " (' Hand Jobs', 736),\n",
       " (' Unrequited Love', 712),\n",
       " (' Podfic', 701),\n",
       " (' Frottage', 700),\n",
       " (' Drama', 698),\n",
       " (' Depression', 688),\n",
       " (' Pining', 679),\n",
       " (' BDSM', 675),\n",
       " (' Kidlock', 673),\n",
       " (' POV Sherlock Holmes', 659),\n",
       " (' Character Death', 649),\n",
       " (' BAMF John', 642),\n",
       " (' Sherlock Being Sherlock', 635),\n",
       " (' Anal Fingering', 626),\n",
       " (' Character Study', 613),\n",
       " (' Alternate Universe - Canon Divergence', 609),\n",
       " (' Kidnapping', 598),\n",
       " (' Sex', 594),\n",
       " (' Dirty Talk', 585),\n",
       " (' BBC Sherlock - Freeform', 584),\n",
       " (' Developing Relationship', 581),\n",
       " (' Grief/Mourning', 573),\n",
       " (' Dubious Consent', 566),\n",
       " (' POV John Watson', 562),\n",
       " (' Ficlet', 556),\n",
       " (' Omega Verse', 525),\n",
       " (' mystrade', 524),\n",
       " (' Friendship/Love', 515),\n",
       " (' Murder', 513),\n",
       " (' Spanking', 512),\n",
       " (' Suicidal Thoughts', 509),\n",
       " (' Minor Character Death', 502),\n",
       " (' Bondage', 495),\n",
       " (' Happy Ending', 493),\n",
       " (' Fluff and Smut', 491),\n",
       " (' Torture', 488),\n",
       " (' Mpreg', 485),\n",
       " (' Dom/sub', 483),\n",
       " (' Humour', 476),\n",
       " (' Virgin Sherlock', 471),\n",
       " (' Texting', 466),\n",
       " (' Mystery', 465),\n",
       " (' Nightmares', 462),\n",
       " (' Prompt Fic', 457),\n",
       " (' Unresolved Sexual Tension', 453),\n",
       " (' Suicide', 450),\n",
       " (' Kid Fic', 449),\n",
       " (' Feels', 446),\n",
       " (' Sherlock - Freeform', 441),\n",
       " (' Podfic & Podficced Works', 434),\n",
       " (' Angst with a Happy Ending', 431),\n",
       " (' Drugs', 427),\n",
       " (' Love Confessions', 424),\n",
       " (' Unilock', 419)]"
      ]
     },
     "execution_count": 32,
     "metadata": {},
     "output_type": "execute_result"
    }
   ],
   "source": [
    "sorted_tag_freq[0:100]"
   ]
  },
  {
   "cell_type": "code",
   "execution_count": null,
   "metadata": {
    "collapsed": true
   },
   "outputs": [],
   "source": [
    "#combine 同义词(eg. post rein)\n",
    "#detect tags that appear early/late (those like post rein can be sanity check  )"
   ]
  }
 ],
 "metadata": {
  "kernelspec": {
   "display_name": "Python 2",
   "language": "python",
   "name": "python2"
  },
  "language_info": {
   "codemirror_mode": {
    "name": "ipython",
    "version": 2
   },
   "file_extension": ".py",
   "mimetype": "text/x-python",
   "name": "python",
   "nbconvert_exporter": "python",
   "pygments_lexer": "ipython2",
   "version": "2.7.10"
  }
 },
 "nbformat": 4,
 "nbformat_minor": 0
}
