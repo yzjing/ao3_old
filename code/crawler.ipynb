{
 "cells": [
  {
   "cell_type": "code",
   "execution_count": 4,
   "metadata": {
    "collapsed": true
   },
   "outputs": [],
   "source": [
    "from bs4 import BeautifulSoup as bs\n",
    "import urllib2\n",
    "import re\n",
    "import csv\n",
    "from collections import OrderedDict\n",
    "import cookielib\n",
    "import time"
   ]
  },
  {
   "cell_type": "code",
   "execution_count": 5,
   "metadata": {
    "collapsed": true
   },
   "outputs": [],
   "source": [
    "start = 'http://archiveofourown.org/tags/Sherlock%20(TV)/works'\n",
    "outfile = '/Users/jingy/Desktop/ao3/ao3_work_sherlock_v2.csv'\n",
    "max_page = 3944"
   ]
  },
  {
   "cell_type": "code",
   "execution_count": null,
   "metadata": {
    "collapsed": true
   },
   "outputs": [],
   "source": []
  },
  {
   "cell_type": "code",
   "execution_count": 6,
   "metadata": {
    "collapsed": true
   },
   "outputs": [],
   "source": [
    "#testing cookie usage"
   ]
  },
  {
   "cell_type": "code",
   "execution_count": 7,
   "metadata": {
    "collapsed": true
   },
   "outputs": [],
   "source": [
    "cookie_file = '/Users/jingy/Desktop/cookie'"
   ]
  },
  {
   "cell_type": "code",
   "execution_count": 8,
   "metadata": {
    "collapsed": true
   },
   "outputs": [],
   "source": [
    "def save_cookie(cookie_file):\n",
    "    cookie = cookielib.MozillaCookieJar(cookie_file)\n",
    "    opener = urllib2.build_opener(urllib2.HTTPCookieProcessor(cookie))\n",
    "    opener.open('http://archiveofourown.org/works/5051548?view_full_work=true')\n",
    "    cookie.save(ignore_discard=True, ignore_expires=True)"
   ]
  },
  {
   "cell_type": "code",
   "execution_count": 14,
   "metadata": {
    "collapsed": false
   },
   "outputs": [],
   "source": [
    "def load_cookie(cookie_file):\n",
    "    cookie = cookielib.MozillaCookieJar()\n",
    "    cookie.load(cookie_file, ignore_discard=True, ignore_expires=True)\n",
    "    return cookie"
   ]
  },
  {
   "cell_type": "code",
   "execution_count": 15,
   "metadata": {
    "collapsed": false
   },
   "outputs": [],
   "source": [
    "save_cookie(cookie_file)\n",
    "cookie = load_cookie(cookie_file)"
   ]
  },
  {
   "cell_type": "code",
   "execution_count": 16,
   "metadata": {
    "collapsed": false
   },
   "outputs": [],
   "source": [
    "req = urllib2.Request(\"http://archiveofourown.org/works/5051548?view_adult=true\")\n",
    "opener2 = urllib2.build_opener(urllib2.HTTPCookieProcessor(cookie))\n",
    "page = opener2.open(req)"
   ]
  },
  {
   "cell_type": "code",
   "execution_count": 17,
   "metadata": {
    "collapsed": false
   },
   "outputs": [
    {
     "data": {
      "text/plain": [
       "'<!DOCTYPE html PUBLIC \"-//W3C//DTD XHTML 1.0 Strict//EN\" \"http://www.w3.org/TR/xhtml1/DTD/xhtml1-strict.dtd\">\\n<html xmlns=\"http://www.w3.org/1999/xhtml\" xml:lang=\"en\" lang=\"en\">\\n  <head>\\n    <meta http-equiv=\"Content-Type\" content=\"text/html; charset=utf-8\"/>\\n<script type=\"text/javascript\">window.NREUM||(NREUM={});NREUM.info={\"beacon\":\"bam.nr-data.net\",\"errorBeacon\":\"bam.nr-data.net\",\"licenseKey\":\"f2edcff25e\",\"applicationID\":\"190034\",\"transactionName\":\"dgwMEkpfWVsHERpRXlQTFgNKQxpECgxC\",\"queueTime\":2,\"applicationTime\":179,\"agentToken\":null,\"agent\":\"js-agent.newrelic.com/nr-768.min.js\"}</script>\\n<script type=\"text/javascript\">(window.NREUM||(NREUM={})).loader_config={xpid:\"VQcCWV9RGwIJVFFRAw==\"};window.NREUM||(NREUM={}),__nr_require=function(t,e,n){function r(n){if(!e[n]){var o=e[n]={exports:{}};t[n][0].call(o.exports,function(e){var o=t[n][1][e];return r(o||e)},o,o.exports)}return e[n].exports}if(\"function\"==typeof __nr_require)return __nr_require;for(var o=0;o<n.length;o++)r(n[o]);return r}({QJf3ax:[function(t,e){function n(t){function e(e,n,a){t&&t(e,n,a),a||(a={});for(var c=s(e),f=c.length,u=i(a,o,r),d=0;f>d;d++)c[d].apply(u,n);return u}function a(t,e){f[t]=s(t).concat(e)}function s(t){return f[t]||[]}function c(){return n(e)}var f={};return{on:a,emit:e,create:c,listeners:s,_events:f}}function r(){return{}}var o=\"nr@context\",i=t(\"gos\");e.exports=n()},{gos:\"7eSDFh\"}],ee:[function(t,e){e.exports=t(\"QJf3ax\")},{}],3:[function(t){function e(t){try{i.console&&console.log(t)}catch(e){}}var n,r=t(\"ee\"),o=t(1),i={};try{n=localStorage.getItem(\"__nr_flags\").split(\",\"),console&&\"function\"==typeof console.log&&(i.console=!0,-1!==n.indexOf(\"dev\")&&(i.dev=!0),-1!==n.indexOf(\"nr_dev\")&&(i.nrDev=!0))}catch(a){}i.nrDev&&r.on(\"internal-error\",function(t){e(t.stack)}),i.dev&&r.on(\"fn-err\",function(t,n,r){e(r.stack)}),i.dev&&(e(\"NR AGENT IN DEVELOPMENT MODE\"),e(\"flags: \"+o(i,function(t){return t}).join(\", \")))},{1:24,ee:\"QJf3ax\"}],4:[function(t){function e(t,e,n,i,s){try{c?c-=1:r(\"err\",[s||new UncaughtException(t,e,n)])}catch(f){try{r(\"ierr\",[f,(new Date).getTime(),!0])}catch(u){}}return\"function\"==typeof a?a.apply(this,o(arguments)):!1}function UncaughtException(t,e,n){this.message=t||\"Uncaught error with no additional information\",this.sourceURL=e,this.line=n}function n(t){r(\"err\",[t,(new Date).getTime()])}var r=t(\"handle\"),o=t(6),i=t(\"ee\"),a=window.onerror,s=!1,c=0;t(\"loader\").features.err=!0,t(5),window.onerror=e;try{throw new Error}catch(f){\"stack\"in f&&(t(1),t(2),\"addEventListener\"in window&&t(3),window.XMLHttpRequest&&XMLHttpRequest.prototype&&XMLHttpRequest.prototype.addEventListener&&window.XMLHttpRequest&&XMLHttpRequest.prototype&&XMLHttpRequest.prototype.addEventListener&&!/CriOS/.test(navigator.userAgent)&&t(4),s=!0)}i.on(\"fn-start\",function(){s&&(c+=1)}),i.on(\"fn-err\",function(t,e,r){s&&(this.thrown=!0,n(r))}),i.on(\"fn-end\",function(){s&&!this.thrown&&c>0&&(c-=1)}),i.on(\"internal-error\",function(t){r(\"ierr\",[t,(new Date).getTime(),!0])})},{1:11,2:10,3:8,4:12,5:3,6:25,ee:\"QJf3ax\",handle:\"D5DuLP\",loader:\"G9z0Bl\"}],5:[function(t){if(window.addEventListener){var e=t(\"handle\"),n=t(\"ee\");t(1),window.addEventListener(\"click\",function(){e(\"inc\",[\"ck\"])},!1),window.addEventListener(\"hashchange\",function(){e(\"inc\",[\"hc\"])},!1),n.on(\"pushState-start\",function(){e(\"inc\",[\"ps\"])})}},{1:9,ee:\"QJf3ax\",handle:\"D5DuLP\"}],6:[function(t){t(\"loader\").features.ins=!0},{loader:\"G9z0Bl\"}],7:[function(t){function e(){}if(window.performance&&window.performance.timing&&window.performance.getEntriesByType){var n=t(\"ee\"),r=t(\"handle\"),o=t(1),i=t(2);t(\"loader\").features.stn=!0,t(3);var a=Event;n.on(\"fn-start\",function(t){var e=t[0];e instanceof a&&(this.bstStart=Date.now())}),n.on(\"fn-end\",function(t,e){var n=t[0];n instanceof a&&r(\"bst\",[n,e,this.bstStart,Date.now()])}),o.on(\"fn-start\",function(t,e,n){this.bstStart=Date.now(),this.bstType=n}),o.on(\"fn-end\",function(t,e){r(\"bstTimer\",[e,this.bstStart,Date.now(),this.bstType])}),i.on(\"fn-start\",function(){this.bstStart=Date.now()}),i.on(\"fn-end\",function(t,e){r(\"bstTimer\",[e,this.bstStart,Date.now(),\"requestAnimationFrame\"])}),n.on(\"pushState-start\",function(){this.time=Date.now(),this.startPath=location.pathname+location.hash}),n.on(\"pushState-end\",function(){r(\"bstHist\",[location.pathname+location.hash,this.startPath,this.time])}),\"addEventListener\"in window.performance&&(window.performance.addEventListener(\"webkitresourcetimingbufferfull\",function(){r(\"bstResource\",[window.performance.getEntriesByType(\"resource\")]),window.performance.webkitClearResourceTimings()},!1),window.performance.addEventListener(\"resourcetimingbufferfull\",function(){r(\"bstResource\",[window.performance.getEntriesByType(\"resource\")]),window.performance.clearResourceTimings()},!1)),document.addEventListener(\"scroll\",e,!1),document.addEventListener(\"keypress\",e,!1),document.addEventListener(\"click\",e,!1)}},{1:11,2:10,3:9,ee:\"QJf3ax\",handle:\"D5DuLP\",loader:\"G9z0Bl\"}],8:[function(t,e){function n(t){i.inPlace(t,[\"addEventListener\",\"removeEventListener\"],\"-\",r)}function r(t){return t[1]}var o=t(\"ee\").create(),i=t(1)(o),a=t(\"gos\");if(e.exports=o,n(window),\"getPrototypeOf\"in Object){for(var s=document;s&&!s.hasOwnProperty(\"addEventListener\");)s=Object.getPrototypeOf(s);s&&n(s);for(var c=XMLHttpRequest.prototype;c&&!c.hasOwnProperty(\"addEventListener\");)c=Object.getPrototypeOf(c);c&&n(c)}else XMLHttpRequest.prototype.hasOwnProperty(\"addEventListener\")&&n(XMLHttpRequest.prototype);o.on(\"addEventListener-start\",function(t,e){function n(){return s}if(t[1]){var r=t[1];if(\"function\"==typeof r){var s=a(r,\"nr@wrapped\",function(){return i(r,\"fn-\",n,r.name||\"anonymous\")});this.wrapped=t[1]=s,o.emit(\"initEventContext\",[t,e],this.wrapped)}else\"function\"==typeof r.handleEvent&&i.inPlace(r,[\"handleEvent\"],\"fn-\")}}),o.on(\"removeEventListener-start\",function(t){var e=this.wrapped;e&&(t[1]=e)})},{1:26,ee:\"QJf3ax\",gos:\"7eSDFh\"}],9:[function(t,e){var n=t(\"ee\").create(),r=t(1)(n);e.exports=n,r.inPlace(window.history,[\"pushState\",\"replaceState\"],\"-\")},{1:26,ee:\"QJf3ax\"}],10:[function(t,e){var n=t(\"ee\").create(),r=t(1)(n);e.exports=n,r.inPlace(window,[\"requestAnimationFrame\",\"mozRequestAnimationFrame\",\"webkitRequestAnimationFrame\",\"msRequestAnimationFrame\"],\"raf-\"),n.on(\"raf-start\",function(t){t[0]=r(t[0],\"fn-\")})},{1:26,ee:\"QJf3ax\"}],11:[function(t,e){function n(t,e,n){t[0]=i(t[0],\"fn-\",null,n)}function r(t,e,n){function r(){return a}this.ctx={};var a={\"nr@context\":this.ctx};o.emit(\"initTimerContext\",[t,n],a),t[0]=i(t[0],\"fn-\",r,n)}var o=t(\"ee\").create(),i=t(1)(o);e.exports=o,i.inPlace(window,[\"setTimeout\",\"setImmediate\"],\"setTimer-\"),i.inPlace(window,[\"setInterval\"],\"setInterval-\"),i.inPlace(window,[\"clearTimeout\",\"clearImmediate\"],\"clearTimeout-\"),o.on(\"setInterval-start\",n),o.on(\"setTimer-start\",r)},{1:26,ee:\"QJf3ax\"}],12:[function(t,e){function n(){f.inPlace(this,p,\"fn-\",o)}function r(t,e){f.inPlace(e,[\"onreadystatechange\"],\"fn-\")}function o(t,e){return e}function i(t,e){for(var n in t)e[n]=t[n];return e}var a=t(\"ee\").create(),s=t(1),c=t(2),f=c(a),u=c(s),d=window.XMLHttpRequest,p=[\"onload\",\"onerror\",\"onabort\",\"onloadstart\",\"onloadend\",\"onprogress\",\"ontimeout\"];e.exports=a,window.XMLHttpRequest=function(t){var e=new d(t);try{a.emit(\"new-xhr\",[],e),e.hasOwnProperty(\"addEventListener\")&&u.inPlace(e,[\"addEventListener\",\"removeEventListener\"],\"-\",o),e.addEventListener(\"readystatechange\",n,!1)}catch(r){try{a.emit(\"internal-error\",[r])}catch(i){}}return e},i(d,XMLHttpRequest),XMLHttpRequest.prototype=d.prototype,f.inPlace(XMLHttpRequest.prototype,[\"open\",\"send\"],\"-xhr-\",o),a.on(\"send-xhr-start\",r),a.on(\"open-xhr-start\",r)},{1:8,2:26,ee:\"QJf3ax\"}],13:[function(t){function e(t){var e=this.params,r=this.metrics;if(!this.ended){this.ended=!0;for(var i=0;c>i;i++)t.removeEventListener(s[i],this.listener,!1);if(!e.aborted){if(r.duration=(new Date).getTime()-this.startTime,4===t.readyState){e.status=t.status;var a=t.responseType,f=\"arraybuffer\"===a||\"blob\"===a||\"json\"===a?t.response:t.responseText,u=n(f);if(u&&(r.rxSize=u),this.sameOrigin){var d=t.getResponseHeader(\"X-NewRelic-App-Data\");d&&(e.cat=d.split(\", \").pop())}}else e.status=0;r.cbTime=this.cbTime,o(\"xhr\",[e,r,this.startTime])}}}function n(t){if(\"string\"==typeof t&&t.length)return t.length;if(\"object\"!=typeof t)return void 0;if(\"undefined\"!=typeof ArrayBuffer&&t instanceof ArrayBuffer&&t.byteLength)return t.byteLength;if(\"undefined\"!=typeof Blob&&t instanceof Blob&&t.size)return t.size;if(\"undefined\"!=typeof FormData&&t instanceof FormData)return void 0;try{return JSON.stringify(t).length}catch(e){return void 0}}function r(t,e){var n=i(e),r=t.params;r.host=n.hostname+\":\"+n.port,r.pathname=n.pathname,t.sameOrigin=n.sameOrigin}if(window.XMLHttpRequest&&XMLHttpRequest.prototype&&XMLHttpRequest.prototype.addEventListener&&!/CriOS/.test(navigator.userAgent)){t(\"loader\").features.xhr=!0;var o=t(\"handle\"),i=t(2),a=t(\"ee\"),s=[\"load\",\"error\",\"abort\",\"timeout\"],c=s.length,f=t(1),u=window.XMLHttpRequest;t(4),t(3),a.on(\"new-xhr\",function(){this.totalCbs=0,this.called=0,this.cbTime=0,this.end=e,this.ended=!1,this.xhrGuids={}}),a.on(\"open-xhr-start\",function(t){this.params={method:t[0]},r(this,t[1]),this.metrics={}}),a.on(\"open-xhr-end\",function(t,e){\"loader_config\"in NREUM&&\"xpid\"in NREUM.loader_config&&this.sameOrigin&&e.setRequestHeader(\"X-NewRelic-ID\",NREUM.loader_config.xpid)}),a.on(\"send-xhr-start\",function(t,e){var r=this.metrics,o=t[0],i=this;if(r&&o){var f=n(o);f&&(r.txSize=f)}this.startTime=(new Date).getTime(),this.listener=function(t){try{\"abort\"===t.type&&(i.params.aborted=!0),(\"load\"!==t.type||i.called===i.totalCbs&&(i.onloadCalled||\"function\"!=typeof e.onload))&&i.end(e)}catch(n){try{a.emit(\"internal-error\",[n])}catch(r){}}};for(var u=0;c>u;u++)e.addEventListener(s[u],this.listener,!1)}),a.on(\"xhr-cb-time\",function(t,e,n){this.cbTime+=t,e?this.onloadCalled=!0:this.called+=1,this.called!==this.totalCbs||!this.onloadCalled&&\"function\"==typeof n.onload||this.end(n)}),a.on(\"xhr-load-added\",function(t,e){var n=\"\"+f(t)+!!e;this.xhrGuids&&!this.xhrGuids[n]&&(this.xhrGuids[n]=!0,this.totalCbs+=1)}),a.on(\"xhr-load-removed\",function(t,e){var n=\"\"+f(t)+!!e;this.xhrGuids&&this.xhrGuids[n]&&(delete this.xhrGuids[n],this.totalCbs-=1)}),a.on(\"addEventListener-end\",function(t,e){e instanceof u&&\"load\"===t[0]&&a.emit(\"xhr-load-added\",[t[1],t[2]],e)}),a.on(\"removeEventListener-end\",function(t,e){e instanceof u&&\"load\"===t[0]&&a.emit(\"xhr-load-removed\",[t[1],t[2]],e)}),a.on(\"fn-start\",function(t,e,n){e instanceof u&&(\"onload\"===n&&(this.onload=!0),(\"load\"===(t[0]&&t[0].type)||this.onload)&&(this.xhrCbStart=(new Date).getTime()))}),a.on(\"fn-end\",function(t,e){this.xhrCbStart&&a.emit(\"xhr-cb-time\",[(new Date).getTime()-this.xhrCbStart,this.onload,e],e)})}},{1:\"XL7HBI\",2:14,3:12,4:8,ee:\"QJf3ax\",handle:\"D5DuLP\",loader:\"G9z0Bl\"}],14:[function(t,e){e.exports=function(t){var e=document.createElement(\"a\"),n=window.location,r={};e.href=t,r.port=e.port;var o=e.href.split(\"://\");return!r.port&&o[1]&&(r.port=o[1].split(\"/\")[0].split(\"@\").pop().split(\":\")[1]),r.port&&\"0\"!==r.port||(r.port=\"https\"===o[0]?\"443\":\"80\"),r.hostname=e.hostname||n.hostname,r.pathname=e.pathname,r.protocol=o[0],\"/\"!==r.pathname.charAt(0)&&(r.pathname=\"/\"+r.pathname),r.sameOrigin=!e.hostname||e.hostname===document.domain&&e.port===n.port&&e.protocol===n.protocol,r}},{}],15:[function(t,e){function n(t){return function(){r(t,[(new Date).getTime()].concat(i(arguments)))}}var r=t(\"handle\"),o=t(1),i=t(2);\"undefined\"==typeof window.newrelic&&(newrelic=window.NREUM);var a=[\"setPageViewName\",\"addPageAction\",\"setCustomAttribute\",\"finished\",\"addToTrace\",\"inlineHit\",\"noticeError\"];o(a,function(t,e){window.NREUM[e]=n(\"api-\"+e)}),e.exports=window.NREUM},{1:24,2:25,handle:\"D5DuLP\"}],gos:[function(t,e){e.exports=t(\"7eSDFh\")},{}],\"7eSDFh\":[function(t,e){function n(t,e,n){if(r.call(t,e))return t[e];var o=n();if(Object.defineProperty&&Object.keys)try{return Object.defineProperty(t,e,{value:o,writable:!0,enumerable:!1}),o}catch(i){}return t[e]=o,o}var r=Object.prototype.hasOwnProperty;e.exports=n},{}],D5DuLP:[function(t,e){function n(t,e,n){return r.listeners(t).length?r.emit(t,e,n):void(r.q&&(r.q[t]||(r.q[t]=[]),r.q[t].push(e)))}var r=t(\"ee\").create();e.exports=n,n.ee=r,r.q={}},{ee:\"QJf3ax\"}],handle:[function(t,e){e.exports=t(\"D5DuLP\")},{}],XL7HBI:[function(t,e){function n(t){var e=typeof t;return!t||\"object\"!==e&&\"function\"!==e?-1:t===window?0:i(t,o,function(){return r++})}var r=1,o=\"nr@id\",i=t(\"gos\");e.exports=n},{gos:\"7eSDFh\"}],id:[function(t,e){e.exports=t(\"XL7HBI\")},{}],G9z0Bl:[function(t,e){function n(){var t=p.info=NREUM.info,e=f.getElementsByTagName(\"script\")[0];if(t&&t.licenseKey&&t.applicationID&&e){s(d,function(e,n){e in t||(t[e]=n)});var n=\"https\"===u.split(\":\")[0]||t.sslForHttp;p.proto=n?\"https://\":\"http://\",a(\"mark\",[\"onload\",i()]);var r=f.createElement(\"script\");r.src=p.proto+t.agent,e.parentNode.insertBefore(r,e)}}function r(){\"complete\"===f.readyState&&o()}function o(){a(\"mark\",[\"domContent\",i()])}function i(){return(new Date).getTime()}var a=t(\"handle\"),s=t(1),c=window,f=c.document;t(2);var u=(\"\"+location).split(\"?\")[0],d={beacon:\"bam.nr-data.net\",errorBeacon:\"bam.nr-data.net\",agent:\"js-agent.newrelic.com/nr-768.min.js\"},p=e.exports={offset:i(),origin:u,features:{}};f.addEventListener?(f.addEventListener(\"DOMContentLoaded\",o,!1),c.addEventListener(\"load\",n,!1)):(f.attachEvent(\"onreadystatechange\",r),c.attachEvent(\"onload\",n)),a(\"mark\",[\"firstbyte\",i()])},{1:24,2:15,handle:\"D5DuLP\"}],loader:[function(t,e){e.exports=t(\"G9z0Bl\")},{}],24:[function(t,e){function n(t,e){var n=[],o=\"\",i=0;for(o in t)r.call(t,o)&&(n[i]=e(o,t[o]),i+=1);return n}var r=Object.prototype.hasOwnProperty;e.exports=n},{}],25:[function(t,e){function n(t,e,n){e||(e=0),\"undefined\"==typeof n&&(n=t?t.length:0);for(var r=-1,o=n-e||0,i=Array(0>o?0:o);++r<o;)i[r]=t[e+r];return i}e.exports=n},{}],26:[function(t,e){function n(t){return!(t&&\"function\"==typeof t&&t.apply&&!t[i])}var r=t(\"ee\"),o=t(1),i=\"nr@original\",a=Object.prototype.hasOwnProperty;e.exports=function(t){function e(t,e,r,a){function nrWrapper(){var n,i,s,f;try{i=this,n=o(arguments),s=r&&r(n,i)||{}}catch(d){u([d,\"\",[n,i,a],s])}c(e+\"start\",[n,i,a],s);try{return f=t.apply(i,n)}catch(p){throw c(e+\"err\",[n,i,p],s),p}finally{c(e+\"end\",[n,i,f],s)}}return n(t)?t:(e||(e=\"\"),nrWrapper[i]=t,f(t,nrWrapper),nrWrapper)}function s(t,r,o,i){o||(o=\"\");var a,s,c,f=\"-\"===o.charAt(0);for(c=0;c<r.length;c++)s=r[c],a=t[s],n(a)||(t[s]=e(a,f?s+o:o,i,s))}function c(e,n,r){try{t.emit(e,n,r)}catch(o){u([o,e,n,r])}}function f(t,e){if(Object.defineProperty&&Object.keys)try{var n=Object.keys(t);return n.forEach(function(n){Object.defineProperty(e,n,{get:function(){return t[n]},set:function(e){return t[n]=e,e}})}),e}catch(r){u([r])}for(var o in t)a.call(t,o)&&(e[o]=t[o]);return e}function u(e){try{t.emit(\"internal-error\",e)}catch(n){}}return t||(t=r),e.inPlace=s,e.flag=i,e}},{1:25,ee:\"QJf3ax\"}]},{},[\"G9z0Bl\",4,13,7,6,5]);</script>\\n    <meta name=\"keywords\" content=\"fanfiction, transformative works, otw, fair use, archive\"/>\\n    <meta name=\"language\" content=\"en-US\"/>\\n    <meta name=\"subject\" content=\"fandom\"/>\\n    <meta name=\"description\" content=\"An Archive of Our Own, a project of the\\n    Organization for Transformative Works\"/>\\n    <meta name=\"distribution\" content=\"GLOBAL\"/>\\n    <meta name=\"classification\" content=\"transformative works\"/>\\n    <meta name=\"author\" content=\"Organization for Transformative Works\"/>\\n  \\t<meta name=\"viewport\" content=\"width=device-width, initial-scale=1.0\"/>  \\n    <title>\\n        Negotiable - Chapter 1 - eyebrowofdoom - Skyfall (2012), James Bond (Craig movies) [Archive of Our Own]\\n    </title>\\n\\n        <link rel=\"stylesheet\" type=\"text/css\" media=\"screen\" href=\"/stylesheets/skins/skin_873_archive_2_0/1_site_screen_.css\"/>\\n<link rel=\"stylesheet\" type=\"text/css\" media=\"only screen and (max-width: 640px), handheld\" href=\"/stylesheets/skins/skin_873_archive_2_0/4_site_maxwidth.handheld_.css\"/>\\n<link rel=\"stylesheet\" type=\"text/css\" media=\"speech\" href=\"/stylesheets/skins/skin_873_archive_2_0/A.5_site_speech_.css.pagespeed.cf.Ybb8bLK5Um.css\"/>\\n<link rel=\"stylesheet\" type=\"text/css\" media=\"print\" href=\"/stylesheets/skins/skin_873_archive_2_0/A.6_site_print_.css.pagespeed.cf.ry3YZtf8Cz.css\"/>\\n<!--[if IE 8]><link rel=\"stylesheet\" type=\"text/css\" media=\"screen\" href=\"/stylesheets/skins/skin_873_archive_2_0/7_site_screen_IE8_or_lower.css\" /><![endif]-->\\n<!--[if IE 5]><link rel=\"stylesheet\" type=\"text/css\" media=\"screen\" href=\"/stylesheets/skins/skin_873_archive_2_0/8_site_screen_IE5.css\" /><![endif]-->\\n<!--[if IE 6]><link rel=\"stylesheet\" type=\"text/css\" media=\"screen\" href=\"/stylesheets/skins/skin_873_archive_2_0/9_site_screen_IE6.css\" /><![endif]-->\\n<!--[if IE 7]><link rel=\"stylesheet\" type=\"text/css\" media=\"screen\" href=\"/stylesheets/skins/skin_873_archive_2_0/10_site_screen_IE7.css\" /><![endif]-->\\n\\n\\n<!--sandbox for developers\\t-->\\n<style media=\"screen\">.edit_external_author ul ul{margin-left:2.75em}</style>\\n<script src=\"/javascripts/livevalidation_standalone.js,q1447781034.pagespeed.jm.Uoo3pUt-dG.js\" type=\"text/javascript\"></script>\\n\\n<meta content=\"authenticity_token\" name=\"csrf-param\"/>\\n<meta content=\"rqav+g40xPT/x0kwtEzF95Sj+DTeDWPxDHTZhoOdAr0=\" name=\"csrf-token\"/>\\n\\n            <script>window.PHRASE_CONFIG={autoLowercase:false}</script>\\n        \\n\\n\\n  </head>\\n\\n  <body class=\"logged-out\">\\n    <div id=\"outer\" class=\"wrapper\">\\n      <ul id=\"skiplinks\"><li><a href=\"#main\">Main Content</a></li></ul>\\n      <!-- BEGIN BETA CAVEATS! -->\\n<noscript>\\n  <p id=\"javascript-warning\">\\n    While we&#x27;ve done our best to make the core functionality of this site accessible without javascript, it will work better with it enabled. Please consider turning it on!\\n  </p>\\n</noscript>\\n<!-- END BETA CAVEATS! --> \\n\\n<!-- BEGIN header -->\\n\\n<div id=\"header\" class=\"region\">\\n\\n  <h1 class=\"heading\">\\n    <a href=\"/\"><span>Archive of Our Own</span><sup> beta</sup><img alt=\"AO3 logo - the letters A O 3 combined with arms raised in celebration, symbolizing the joy of fannish creation in the Archive\" class=\"logo\" src=\"/images/ao3_logos/xlogo_42.png,q1447781034.pagespeed.ic.ax-awMa4j4.png\"/></a> \\n  </h1>\\n\\n    <div id=\"login\" class=\"dropdown\">\\n      <p class=\"user actions\" role=\"menu\">\\n        <a href=\"/user_sessions/new\">Log In</a>\\n      </p>\\n      <div id=\"small_login\" class=\"simple login\">\\n\\t<form accept-charset=\"UTF-8\" action=\"/user_sessions\" class=\"new_user_session\" id=\"new_user_session\" method=\"post\"><div style=\"margin:0;padding:0;display:inline\"><input name=\"utf8\" type=\"hidden\" value=\"&#x2713;\"/><input name=\"authenticity_token\" type=\"hidden\" value=\"rqav+g40xPT/x0kwtEzF95Sj+DTeDWPxDHTZhoOdAr0=\"/></div>\\n\\t<dl>\\n    <dt><label for=\"user_session_login\">User name:</label></dt>\\n    <dd><input class=\"text\" id=\"user_session_login\" name=\"user_session[login]\" type=\"text\"/></dd>\\n    <dt><label for=\"user_session_password\">Password:</label></dt>\\n    <dd><input class=\"text\" id=\"user_session_password\" name=\"user_session[password]\" type=\"password\"/></dd>\\n  </dl>\\n  <p class=\"submit actions\">\\n    <label for=\"user_session_remember_me\" class=\"action\"><input id=\"user_session_remember_me\" name=\"user_session[remember_me]\" type=\"checkbox\" value=\"1\"/>Remember Me</label>\\n    <input name=\"commit\" type=\"submit\" value=\"Log In\"/>\\n  </p>    \\n</form>\\n<ul class=\"footnote actions\">\\n  <li><a href=\"/passwords/new\">Forgot password?</a></li>\\n    <li>\\n      <a href=\"/invite_requests\">Get an Invitation</a>\\n    </li>\\n</ul>\\n\\n</div>\\n\\n    </div>\\n\\n  <h3 class=\"landmark heading\">Site Navigation</h3>\\n  <ul class=\"primary navigation actions\" role=\"navigation\">\\n    <li class=\"dropdown\">\\n      <a href=\"/menu/fandoms\">Fandoms</a>\\n      <ul class=\"menu\" role=\"menu\">\\n  <li><a href=\"/media\">All Fandoms</a></li>\\n      <li id=\"medium_5\"><a href=\"/media/Anime%20*a*%20Manga/fandoms\">Anime &amp; Manga</a></li>\\n      <li id=\"medium_3\"><a href=\"/media/Books%20*a*%20Literature/fandoms\">Books &amp; Literature</a></li>\\n      <li id=\"medium_4\"><a href=\"/media/Cartoons%20*a*%20Comics%20*a*%20Graphic%20Novels/fandoms\">Cartoons &amp; Comics &amp; Graphic Novels</a></li>\\n      <li id=\"medium_7\"><a href=\"/media/Celebrities%20*a*%20Real%20People/fandoms\">Celebrities &amp; Real People</a></li>\\n      <li id=\"medium_2\"><a href=\"/media/Movies/fandoms\">Movies</a></li>\\n      <li id=\"medium_6\"><a href=\"/media/Music%20*a*%20Bands/fandoms\">Music &amp; Bands</a></li>\\n      <li id=\"medium_8\"><a href=\"/media/Other%20Media/fandoms\">Other Media</a></li>\\n      <li id=\"medium_30198\"><a href=\"/media/Theater/fandoms\">Theater</a></li>\\n      <li id=\"medium_1\"><a href=\"/media/TV%20Shows/fandoms\">TV Shows</a></li>\\n      <li id=\"medium_476\"><a href=\"/media/Video%20Games/fandoms\">Video Games</a></li>\\n      <li id=\"medium_9971\"><a href=\"/media/Uncategorized%20Fandoms/fandoms\">Uncategorized Fandoms</a></li>\\n</ul>\\n\\n    </li>\\n    <li class=\"dropdown\">\\n      <a href=\"/menu/browse\">Browse</a>\\n      <ul class=\"menu\" role=\"menu\">\\n  <li><a href=\"/works\">Works</a></li>\\n  <li><a href=\"/bookmarks\">Bookmarks</a></li>\\n  <li><a href=\"/tags\">Tags</a></li>\\n  <li><a href=\"/collections\">Collections</a></li>\\n</ul>\\n\\n    </li>\\n    <li class=\"dropdown\">\\n      <a href=\"/menu/search\">Search</a>\\n      <ul class=\"menu\" role=\"menu\">\\n  <li><a href=\"/works/search\">Works</a></li>\\n  <li><a href=\"/bookmarks/search\">Bookmarks</a></li>\\n  <li><a href=\"/tags/search\">Tags</a></li>\\n  <li><a href=\"/people/search\">People</a></li>\\n</ul>\\n\\n    </li>\\n    <li class=\"dropdown\">\\n      <a href=\"/menu/about\">About</a>\\n      <ul class=\"menu\" role=\"menu\">\\n  <li><a href=\"/about\">About Us</a></li>\\n  <li><a href=\"/admin_posts\">News</a></li>\\n  <li><a href=\"/faq\">FAQ</a></li>\\n  <li><a href=\"/wrangling_guidelines\">Wrangling Guidelines</a></li>\\n  <li><a href=\"/donate\">Donate or Volunteer</a></li>\\n</ul>\\n\\n    </li>\\n\\t  <li class=\"search\"><form accept-charset=\"UTF-8\" action=\"/works/search\" class=\"search\" id=\"search\" method=\"get\"><div style=\"margin:0;padding:0;display:inline\"><input name=\"utf8\" type=\"hidden\" value=\"&#x2713;\"/></div>\\n  <fieldset>\\n    <legend>Search Works</legend>\\n    <p>\\n      <label class=\"landmark\" for=\"site_search\">Work Search:</label>\\n      <input aria-describedby=\"site_search_tooltip\" class=\"text\" id=\"site_search\" name=\"work_search[query]\" type=\"text\"/>\\n      <span class=\"tip\" role=\"tooltip\" id=\"site_search_tooltip\">tip: lex m/m (mature OR explicit)</span>\\n      <span class=\"submit actions\"><input class=\"button\" type=\"submit\" value=\"Search\"/></span>\\n    </p>\\n  </fieldset>\\n</form></li>\\n  </ul>\\n\\n\\n\\n  <div class=\"clear\"></div>\\n\\n</div>\\n\\n\\n\\n<!-- END header -->\\n\\n      <div id=\"inner\" class=\"wrapper\">\\n        <!-- BEGIN sidebar -->\\n        <!-- END sidebar -->\\n\\n        <!-- BEGIN main -->\\n        <div id=\"main\" class=\"chapters-show region\" role=\"main\">\\n          \\n          <div class=\"flash\"></div>\\n          <!--page description, messages-->\\n<!--/descriptions-->\\n\\n<!--subnav-->\\n<!--/subnav-->\\n\\n  <!-- BEGIN work -->\\n  <div class=\"work\"><p class=\"landmark\"><a name=\"top\">&nbsp;</a></p>\\n      <!-- BEGIN navigation -->\\n<h3 class=\"landmark heading\">Actions</h3>\\n<ul class=\"work navigation actions\" role=\"menu\">\\n\\n\\n    <li class=\"chapter entire\"><a href=\"/works/5051548?view_full_work=true\">Entire Work</a></li>\\n\\n\\n      <li class=\"chapter next\"><a href=\"/works/5051548/chapters/11662546\">Next Chapter &#8594;</a></li>\\n\\n    <li class=\"chapter\" aria-haspopup=\"true\">\\n      <noscript>\\n        <a href=\"/works/5051548/navigate\">Chapter Index</a>\\n      </noscript>\\n      <a class=\"hidden\" href=\"#\">Chapter Index</a>\\n      <ul id=\"chapter_index\" class=\"expandable secondary hidden\">\\n        <li>\\n          <form accept-charset=\"UTF-8\" action=\"/works/5051548/chapters/11616427\" method=\"get\"><div style=\"margin:0;padding:0;display:inline\"><input name=\"utf8\" type=\"hidden\" value=\"&#x2713;\"/></div>\\n            <p>\\n              <select id=\"selected_id\" name=\"selected_id\"><option value=\"11616427\" selected=\"selected\">1. Chapter 1</option>\\n<option value=\"11662546\">2. Chapter 2</option>\\n<option value=\"11715200\">3. Chapter 3</option>\\n<option value=\"11766752\">4. Chapter 4</option>\\n<option value=\"11840177\">5. Chapter 5</option>\\n<option value=\"11886449\">6. Chapter 6</option>\\n<option value=\"11941022\">7. Chapter 7</option>\\n<option value=\"12007541\">8. Chapter 8</option></select>\\n              <span class=\"submit actions\"><input name=\"commit\" type=\"submit\" value=\"Go\"/></span>\\n            </p>\\n</form>        </li>\\n        <li><a href=\"/works/5051548/navigate\">Full-page index</a></li>\\n      </ul>\\n    </li>\\n\\n\\n\\n  <li class=\"comments\" id=\"show_comments_link_top\">\\n      <a href=\"/comments/show_comments?chapter_id=11616427\" data-remote=\"true\">Comments </a>\\n  </li>\\n\\n  \\n\\n    <li class=\"share hidden\">\\n      <a href=\"#share\" aria-controls=\"#modal\" class=\" modal\" title=\"Share Work\">Share</a>\\n      <div id=\"share\">\\n\\n  <p class=\"note\">Copy and paste the following code to link back to this work (<kbd>CTRL A</kbd>/<kbd>CMD A</kbd> will select all), or use the Tweet or Tumblr links to share the work on your Twitter or Tumblr account.</p>\\n  \\n  <p>\\n    <textarea cols=\"50\" rows=\"4\" id=\"embed_code\">&lt;a href=&quot;http://archiveofourown.org/works/5051548&quot;&gt;&lt;strong&gt;Negotiable&lt;/strong&gt;&lt;/a&gt; (31731 words) by &lt;a href=&quot;http://archiveofourown.org/users/eyebrowofdoom&quot;&gt;&lt;strong&gt;eyebrowofdoom&lt;/strong&gt;&lt;/a&gt;&lt;br /&gt;Chapters: 8/9&lt;br /&gt;Fandom: &lt;a href=&quot;http://archiveofourown.org/tags/Skyfall%20(2012)&quot;&gt;Skyfall (2012)&lt;/a&gt;, &lt;a href=&quot;http://archiveofourown.org/tags/James%20Bond%20(Craig%20movies)&quot;&gt;James Bond (Craig movies)&lt;/a&gt;&lt;br /&gt;Rating: Explicit&lt;br /&gt;Warnings: Graphic Depictions Of Violence&lt;br /&gt;Relationships: James Bond/Q, Q/Original Male Character(s)&lt;br /&gt;Characters: James Bond, Q (Bond - Craig movies), Gareth Mallory, Eve Moneypenny, Original Character&lt;br /&gt;Additional Tags: Hurt/Comfort, Injury Recovery, Gun Violence, minor original character death, Age Difference, Bisexuality, Safer Sex, bad decor, Tea, Office Romance, Gadgets, Glasses, Public School Boys, Drinking&lt;br /&gt;Summary: &lt;p&gt;The shitty thing was that Q had a boyfriend at the time \\xe2\\x80\\x93 a ravishing, blond, public-school-boy wank fantasy of an actual, actual boyfriend. Then Bond came along.&lt;/p&gt;</textarea>\\n  </p>\\n  \\n  <ul>\\n    \\n    <li>\\n      <a href=\"http://twitter.com/share\" class=\"twitter-share-button\" data-size=\"large\" data-via=\"ao3org\" data-text=\"Negotiable by eyebrowofdoom - Skyfall (2012), James Bond (Craig movies)\" data-url=\"http://archiveofourown.org/works/5051548\">\\n        Tweet\\n      </a>\\n    </li>\\n      \\n    <li>\\n      <a href=\"http://www.tumblr.com/share/link?url=http%3A%2F%2Farchiveofourown.org%2Fworks%2F5051548&name=Negotiable%20%2831731%20words%29%20by%20eyebrowofdoom%20%5BAO3%5D&description=Chapters%3A%208%2F9%3Cbr%20%2F%3EFandom%3A%20%3Ca%20href%3D%22http%3A%2F%2Farchiveofourown.org%2Ftags%2FSkyfall%2520%282012%29%22%3ESkyfall%20%282012%29%3C%2Fa%3E%2C%20%3Ca%20href%3D%22http%3A%2F%2Farchiveofourown.org%2Ftags%2FJames%2520Bond%2520%28Craig%2520movies%29%22%3EJames%20Bond%20%28Craig%20movies%29%3C%2Fa%3E%3Cbr%20%2F%3ERating%3A%20Explicit%3Cbr%20%2F%3EWarnings%3A%20Graphic%20Depictions%20Of%20Violence%3Cbr%20%2F%3ERelationships%3A%20James%20Bond%2FQ%2C%20Q%2FOriginal%20Male%20Character%28s%29%3Cbr%20%2F%3ECharacters%3A%20James%20Bond%2C%20Q%20%28Bond%20-%20Craig%20movies%29%2C%20Gareth%20Mallory%2C%20Eve%20Moneypenny%2C%20Original%20Character%3Cbr%20%2F%3EAdditional%20Tags%3A%20Hurt%2FComfort%2C%20Injury%20Recovery%2C%20Gun%20Violence%2C%20minor%20original%20character%20death%2C%20Age%20Difference%2C%20Bisexuality%2C%20Safer%20Sex%2C%20bad%20decor%2C%20Tea%2C%20Office%20Romance%2C%20Gadgets%2C%20Glasses%2C%20Public%20School%20Boys%2C%20Drinking%3Cbr%20%2F%3ESummary%3A%20%3Cp%3EThe%20shitty%20thing%20was%20that%20Q%20had%20a%20boyfriend%20at%20the%20time%20%E2%80%93%20a%20ravishing%2C%20blond%2C%20public-school-boy%20wank%20fantasy%20of%20an%20actual%2C%20actual%20boyfriend.%20Then%20Bond%20came%20along.%3C%2Fp%3E\" title=\"Share on Tumblr\" style=\"display:inline-block;text-indent:-9999px;overflow:hidden;width:81px;height:20px;background:url(//platform.tumblr.com/v1/share_1.png) top left no-repeat transparent;border-bottom:none\" target=\"_blank\">\\n        Share on Tumblr\\n      </a>\\n    </li>\\n      \\n  </ul>\\n  \\n</div>\\n\\n\\n    </li>\\n  \\n    <li class=\"download\" aria-haspopup=\"true\">\\n      <a href=\"#\">Download</a>\\n      <ul class=\"expandable secondary\">\\n        <li><a href=\"/downloads/ey/eyebrowofdoom/5051548/Negotiable.mobi?updated_at=1447855726\">MOBI</a></li>\\n        <li><a href=\"/downloads/ey/eyebrowofdoom/5051548/Negotiable.epub?updated_at=1447855726\">EPUB</a></li>\\n        <li><a href=\"/downloads/ey/eyebrowofdoom/5051548/Negotiable.pdf?updated_at=1447855726\">PDF</a></li>\\n        <li><a href=\"/downloads/ey/eyebrowofdoom/5051548/Negotiable.html?updated_at=1447855726\">HTML</a></li>\\n      </ul>\\n    </li>\\n</ul>\\n<!-- END navigation -->\\n\\n\\n\\n<h3 class=\"landmark heading\">Work Header</h3>\\n\\n<div class=\"wrapper\">\\n\\n  <dl class=\"work meta group\" role=\"complementary\">\\n          <dt class=\"rating tags\">\\n              Rating:\\n          </dt>\\n\\n          <dd class=\"rating tags\">\\n            <ul class=\"commas\">\\n               <li><a href=\"http://archiveofourown.org/tags/Explicit/works\" class=\"tag\">Explicit</a></li>\\n            </ul>\\n          </dd>\\n          <dt class=\"warning tags\">\\n              <a href=\"/tos_faq#tags\">Archive Warning</a>:\\n          </dt>\\n\\n          <dd class=\"warning tags\">\\n            <ul class=\"commas\">\\n               <li><a href=\"http://archiveofourown.org/tags/Graphic%20Depictions%20Of%20Violence/works\" class=\"tag\">Graphic Depictions Of Violence</a></li>\\n            </ul>\\n          </dd>\\n          <dt class=\"category tags\">\\n              Category:\\n          </dt>\\n\\n          <dd class=\"category tags\">\\n            <ul class=\"commas\">\\n               <li><a href=\"http://archiveofourown.org/tags/M*s*M/works\" class=\"tag\">M/M</a></li>\\n            </ul>\\n          </dd>\\n          <dt class=\"fandom tags\">\\n              Fandoms:\\n          </dt>\\n\\n          <dd class=\"fandom tags\">\\n            <ul class=\"commas\">\\n               <li><a href=\"http://archiveofourown.org/tags/Skyfall%20(2012)/works\" class=\"tag\">Skyfall (2012)</a></li><li><a href=\"http://archiveofourown.org/tags/James%20Bond%20(Craig%20movies)/works\" class=\"tag\">James Bond (Craig movies)</a></li>\\n            </ul>\\n          </dd>\\n          <dt class=\"relationship tags\">\\n              Relationships:\\n          </dt>\\n\\n          <dd class=\"relationship tags\">\\n            <ul class=\"commas\">\\n               <li><a href=\"http://archiveofourown.org/tags/James%20Bond*s*Q/works\" class=\"tag\">James Bond/Q</a></li><li><a href=\"http://archiveofourown.org/tags/Q*s*Original%20Male%20Character(s)/works\" class=\"tag\">Q/Original Male Character(s)</a></li>\\n            </ul>\\n          </dd>\\n          <dt class=\"character tags\">\\n              Characters:\\n          </dt>\\n\\n          <dd class=\"character tags\">\\n            <ul class=\"commas\">\\n               <li><a href=\"http://archiveofourown.org/tags/James%20Bond/works\" class=\"tag\">James Bond</a></li><li><a href=\"http://archiveofourown.org/tags/Q%20(Bond%20-%20Craig%20movies)/works\" class=\"tag\">Q (Bond - Craig movies)</a></li><li><a href=\"http://archiveofourown.org/tags/Gareth%20Mallory/works\" class=\"tag\">Gareth Mallory</a></li><li><a href=\"http://archiveofourown.org/tags/Eve%20Moneypenny/works\" class=\"tag\">Eve Moneypenny</a></li><li><a href=\"http://archiveofourown.org/tags/Original%20Character/works\" class=\"tag\">Original Character</a></li>\\n            </ul>\\n          </dd>\\n          <dt class=\"freeform tags\">\\n              Additional Tags:\\n          </dt>\\n\\n          <dd class=\"freeform tags\">\\n            <ul class=\"commas\">\\n               <li><a href=\"http://archiveofourown.org/tags/Hurt*s*Comfort/works\" class=\"tag\">Hurt/Comfort</a></li><li><a href=\"http://archiveofourown.org/tags/Injury%20Recovery/works\" class=\"tag\">Injury Recovery</a></li><li><a href=\"http://archiveofourown.org/tags/Gun%20Violence/works\" class=\"tag\">Gun Violence</a></li><li><a href=\"http://archiveofourown.org/tags/minor%20original%20character%20death/works\" class=\"tag\">minor original character death</a></li><li><a href=\"http://archiveofourown.org/tags/Age%20Difference/works\" class=\"tag\">Age Difference</a></li><li><a href=\"http://archiveofourown.org/tags/Bisexuality/works\" class=\"tag\">Bisexuality</a></li><li><a href=\"http://archiveofourown.org/tags/Safer%20Sex/works\" class=\"tag\">Safer Sex</a></li><li><a href=\"http://archiveofourown.org/tags/bad%20decor/works\" class=\"tag\">bad decor</a></li><li><a href=\"http://archiveofourown.org/tags/Tea/works\" class=\"tag\">Tea</a></li><li><a href=\"http://archiveofourown.org/tags/Office%20Romance/works\" class=\"tag\">Office Romance</a></li><li><a href=\"http://archiveofourown.org/tags/Gadgets/works\" class=\"tag\">Gadgets</a></li><li><a href=\"http://archiveofourown.org/tags/Glasses/works\" class=\"tag\">Glasses</a></li><li><a href=\"http://archiveofourown.org/tags/Public%20School%20Boys/works\" class=\"tag\">Public School Boys</a></li><li><a href=\"http://archiveofourown.org/tags/Drinking/works\" class=\"tag\">Drinking</a></li>\\n            </ul>\\n          </dd>\\n\\n      <dt class=\"language\">\\n        Language:\\n      </dt>\\n      <dd class=\"language\">\\n        English\\n      </dd>\\n\\n\\n\\n    <dt class=\"stats\">Stats:</dt>\\n    <dd class=\"stats\">\\n<!-- end of cache -->\\n\\n      <dl class=\"stats\"><dt class=\"published\">Published:</dt><dd class=\"published\">2015-10-22</dd><dt class=\"status\">Updated:</dt><dd class=\"status\">2015-11-14</dd><dt class=\"words\">Words:</dt><dd class=\"words\">31731</dd><dt class=\"chapters\">Chapters:</dt><dd class=\"chapters\">8/9</dd><dt class=\"comments\">Comments:</dt><dd class=\"comments\">153</dd><dt class=\"kudos\">Kudos:</dt><dd class=\"kudos\">340</dd><dt class=\"bookmarks\">Bookmarks:</dt><dd class=\"bookmarks\"><a href=\"/works/5051548/bookmarks\">63</a></dd><dt class=\"hits\">Hits:</dt><dd class=\"hits\">6232</dd></dl>\\n      </dd>\\n  </dl>\\n</div>\\n\\n\\n\\n<!-- BEGIN section where work skin applies -->\\n<div id=\"workskin\">\\n  <div class=\"preface group\">\\n    <h2 class=\"title heading\">\\n      Negotiable\\n    </h2>\\n    <h3 class=\"byline heading\">\\n      <a href=\"http://archiveofourown.org/users/eyebrowofdoom/pseuds/eyebrowofdoom\" class=\"login author\" rel=\"author\">eyebrowofdoom</a>\\n    </h3>\\n\\n\\n        <div class=\"summary module\" role=\"complementary\">\\n          <h3 class=\"heading\">Summary:</h3>\\n            <blockquote class=\"userstuff\">\\n              <p>The shitty thing was that Q had a boyfriend at the time \\xe2\\x80\\x93 a ravishing, blond, public-school-boy wank fantasy of an actual, actual boyfriend. Then Bond came along.</p>\\n            </blockquote>\\n        </div>\\n\\n        <div class=\"notes module\" role=\"complementary\">\\n  <h3 class=\"heading\">Notes:</h3>\\n\\n\\n\\n\\n\\n    <blockquote class=\"userstuff\">\\n      <p>Post-Skyfall. Not Spectre-compliant and contains no spoilers for Spectre.</p><p>Contains:</p><ul>\\n<li>Questionable science and technology and questionable injury recovery, consistent with canon.</li>\\n<li>Gun violence and death/injury/mayhem at a similar level to canon. </li>\\n<li>Casual/light exploration of sex stuff including: domination, spanking, sex toys, roleplay, rimming, spit for lube and face-fucking. </li>\\n</ul><p>Thanks to <a href=\"http://archiveofourown.org/users/gloriamundi\">GloriaMundi</a> for heroic beta.</p><p>This is work is finished but being posted in stages because it\\'s fun. :) Finished length ~33K. Update interval: about three days.</p>\\n    </blockquote>\\n\\n</div>\\n\\n\\n  </div>\\n\\n\\n\\n    <div id=\"chapters\">\\n      <!-- This partial requires local variable \\'chapter\\' -->\\n<div class=\"chapter\" id=\"chapter-1\">\\n  <!-- chapter management -->\\n\\n\\n  <div class=\"chapter preface group\" role=\"complementary\">\\n    <h3 class=\"title\">\\n      <a href=\"/works/5051548/chapters/11616427\">Chapter 1</a>\\n    </h3>\\n\\n    <!-- only display byline if different from the main byline -->\\n\\n\\n      <div id=\"notes\" class=\"notes module\">\\n        <h3 class=\"heading\">Notes:</h3>\\n          <p>\\n          (See the end of the chapter for  <a href=\"/works/5051548/chapters/11616427#chapter_1_endnotes\">notes</a>.)\\n          </p>\\n      </div>\\n  </div>\\n\\n  <!--main content-->\\n  <div class=\"userstuff module\" role=\"article\">\\n      <h3 class=\"landmark heading\" id=\"work\">Chapter Text</h3>\\n    <p>The shitty thing was that Q had a boyfriend at the time \\xe2\\x80\\x93 a ravishing, blond, public-school-boy wank fantasy of an actual, actual boyfriend. His name was Jeremy, he was an utter supercilious turd, and it gave Q the most massive horn.</p><p>One night they went out to the theatre in Drury Lane, picking their way across the wet cobbles with their elbows a hand\\xe2\\x80\\x99s breadth apart. Jeremy wore his charcoal herringbone with the collar turned up, and a glossy brogue with a dress sole that was slippery in the rain. Q, in his practical, rubber soles, had to make an effort to slow down and fall behind so that Jeremy could sniff and say, \\xe2\\x80\\x98Come on, Little Anorak\\xe2\\x80\\x99, like a house master in a an indulgent mood.</p><p>Q darted sideways into his path, turned on his heel and stared at him hotly.</p><p>\\xe2\\x80\\x98None of that, then,\\xe2\\x80\\x99 Jeremy said, and sidestepped neatly.</p><p>The rain gave up misting sideways and started to fall in earnest. Q flipped up the hood of his anorak \\xe2\\x80\\x93 since Jeremy had started calling him <em>Little Anorak</em>, Q had been wearing it almost constantly. Jeremy sighed, opened his tall umbrella with a pointed shake, and began walking a step further away.</p><p>When the lights went down in the theatre, Q slid his knee slowly against the outside of Jeremy\\xe2\\x80\\x99s thigh. Jeremy allowed it a little while, then slowly but firmly pushed Q\\xe2\\x80\\x99s knee away with the back of his hand.</p><p>Q retreated for a minute or so, then did it again.</p><p>When the lights came up at the end, Jeremy stretched in his seat and said, \\xe2\\x80\\x98Has that cultured you up, Little Anorak?\\xe2\\x80\\x99</p><p>\\xe2\\x80\\x98Oh, yes, sir!\\xe2\\x80\\x99 Q said. He pretended to have a lot of trouble climbing past Jeremy\\xe2\\x80\\x99s knees to get out.</p><p>As they pushed out through the crowded, perfumed foyer, Q was scheming enjoyably about how soon they could be alone.</p><p>\\xe2\\x80\\x98Hello,\\xe2\\x80\\x99 a voice said from the crowd.</p><p>Q went through something like the stages of grief about it, in a split second in his mind. He replied, with cheerful surprise, \\xe2\\x80\\x98Hello!\\xe2\\x80\\x99</p><p>It was bloody Bond, twinkling at them both as he shouldered past in the crowd. Open-necked suit, very black and trim. His collarbones had a tan. Perhaps he\\xe2\\x80\\x99d been destroying million-pound technology in the tropics.</p><p>The roiling of the crowd would have made it hard to stop and talk, even if Q had wanted to. Bond winked, and pushed on. A woman standing next to Q saw the wink, and stood up straighter.</p><p>Outside on the cobblestones, Jeremy asked, a bit flatly, \\xe2\\x80\\x98Who was that?\\xe2\\x80\\x99</p><p>\\xe2\\x80\\x98He\\xe2\\x80\\x99s just from work,\\xe2\\x80\\x99 Q said, zipping his anorak.</p><p>Jeremy arranged the collar of his coat. \\xe2\\x80\\x98Is he trying to pick up that woman?\\xe2\\x80\\x99 he said, amused.</p><p>Q craned over the crowd to peer back into the theatre. \\xe2\\x80\\x98I think he might be. He\\xe2\\x80\\x99s had half the admin girls.\\xe2\\x80\\x99</p><p>Jeremy raised an eyebrow.</p><p>Bond was leaning on the cloakroom counter, twinkling at full force at the woman attendant. If there was an operation going on in here that Q hadn\\xe2\\x80\\x99t been privy to, he would be livid.</p><p>On the tube home, Q tried to shoulder up against Jeremy slightly too much, but it was so crowded, the effect was lost.</p><p>\\xe2\\x80\\x98What do you think it is about men like that?\\xe2\\x80\\x99 Jeremy said.</p><p>Men like Bond, he meant. Q was furious. \\xe2\\x80\\x98I don\\xe2\\x80\\x99t know,\\xe2\\x80\\x99 he said.</p><p>\\xe2\\x80\\x98Of course you don\\xe2\\x80\\x99t,\\xe2\\x80\\x99 Jeremy said, with a touch of a sneer, and looked away.</p><p>They fucked desultorily over the back of the sofa at Q\\xe2\\x80\\x99s.</p><p>There was some enjoyment in imagining what they must look like: some boarding school porn. The golden captain of the cricket team, fully dressed for a night at the theatre but for the reddened cock erupting from his flies, was spearing his weedy little victim, who was stripped humiliatingly nude, his skinny body blue-veined and white.</p><p>The victim\\xe2\\x80\\x99s heavy-rimmed spectacles had fallen on the floor, an afterimage of violence.</p><p>In fact Q could not see anything, his face pressed in the seat cushions, held there by Jeremy\\xe2\\x80\\x99s hand braced heavy on the back of his neck. But these thoughts got his blood up enough that he threw Jeremy\\xe2\\x80\\x99s hand off and straightened up to get his own hand on himself.</p><p>Q really would have preferred to go back to Jeremy\\xe2\\x80\\x99s. There was a Chesterfield with a carved back that was enjoyably purgatorial against bare skin, and seemed to suggest a variety of imaginative scenarios.</p><p>Also, when you went to the other person\\xe2\\x80\\x99s house instead of yours, it was you who could decide when the night was over, by leaving.</p>\\n<hr/><p>On Sunday Q rang Jeremy\\xe2\\x80\\x99s doorbell to go out for brunch, wearing plimsolls.</p><p>\\xe2\\x80\\x98What,\\xe2\\x80\\x99 Jeremy said, \\xe2\\x80\\x98are those?\\xe2\\x80\\x99</p><p>Q said, \\xe2\\x80\\x98How shall I be your Little Anorak if I\\xe2\\x80\\x99m taller than you?\\xe2\\x80\\x99</p><p>\\xe2\\x80\\x98You\\xe2\\x80\\x99re not taller than me,\\xe2\\x80\\x99 Jeremy said.</p><p>\\xe2\\x80\\x98Of course not \\xe2\\x80\\x93 not when you\\xe2\\x80\\x99re wearing Cuban heels at ten thirty in the morning,\\xe2\\x80\\x99 Q said sunnily, and turned to lead the way out.</p><p>In fact, Q was perfectly satisfied that Jeremy had a good inch on him. As they passed some shop windows on the way to the brunch place, he was delighted to catch Jeremy assessing their figures next to each other in the glass.</p><p>Jeremy caught Q looking pleased.</p><p>Q wondered if he could get him to turn around and go home. He imagined Jeremy pressing him hard against something and hissing, <em>You fucking little shit</em>.</p><p>There was a short queue outside the place, which they joined. Immediately someone joined it after them. Q was obliged to accept that they were not going home.</p><p>Q liked to order the full English breakfast here, because it came with a fat, glossy sausage that he liked to spear and lift off the plate as if he was going to put it in his mouth whole, then look at Jeremy mildly.</p><p>On occasion, almost the whole brunch\\xe2\\x80\\x99s conversation was a silent one, in which Q interacted with his sausage, while Jeremy rolled his eyes discreetly.</p><p>They were seated, and ordered. Jeremy had what Q considered the only correct opinion about what to drink with breakfast, which was: both tea (earl grey) and coffee (caf\\xc3\\xa9 latte). They were to be ordered at the same time, so one would not have to catch the eye of the table service twice, but the tea was drunk at the start of the breakfast and the coffee towards the end. If the coffee had cooled a little by then, that was tolerable.</p><p>The tea arrived, in a pot to share. Q lifted the lid of the pot and stirred the contents briskly with a teaspoon, then replaced the lid. He poured milk in the two cups, then tea on top. Jeremy watched with approval. They were in accord on this, too: provided it was stirred to get some colour into it, an early, relatively weak cup could be enjoyed for its heat and brightness. A stronger flavour would appear in later cups.</p><p>They began drinking their first cups, gazing at each other.</p><p>One Sunday morning early in their acquaintance, Jeremy had got up to find Q with half Jeremy\\xe2\\x80\\x99s kitchen cupboards open, judgementally rejecting the teabags Jeremy left out for when he was in a hurry, and making leaf tea in a pot, unknowingly exactly how Jeremy liked it. Q was fairly sure that was the moment that Jeremy had decided he might like to actually go out with Q, rather than just text him occasionally to come over and drop his trousers.</p><p>Some children ran past across the glossy green tiles, shrieking. Jeremy gazed at them superciliously, and Q watched.</p><p>The coffee arrived, and they both set it aside without comment.</p><p>From the corner of his eye, Q saw someone stepping out of the queue of people waiting beside a brass rail to be seated, but assumed it was nothing to do with him. So he was startled when a voice said, \\xe2\\x80\\x98Hello! How good are the omelettes here?\\xe2\\x80\\x99</p><p>It was Bond.</p><p>\\xe2\\x80\\x98I wouldn\\xe2\\x80\\x99t know. I\\xe2\\x80\\x99m not an omelette man,\\xe2\\x80\\x99 Q said.</p><p>\\xe2\\x80\\x98James,\\xe2\\x80\\x99 Bond said to Jeremy, sticking out his hand.</p><p>\\xe2\\x80\\x98Jeremy.\\xe2\\x80\\x99</p><p>Bond\\xe2\\x80\\x99s handshake was visibly firmer than Jeremy\\xe2\\x80\\x99s.</p><p>Bond wore slim-cut black jeans and a faux-military khaki shirt, untucked. He was given away as a real navy man by the sleeves being rolled up, regulation-style, to a deep cuff above the elbow, ironed in place. He did not look middle-aged at all, which Q had often comforted himself that Bond surely must when not dressed by the service.</p><p>\\xe2\\x80\\x98Looking forward to Malta?\\xe2\\x80\\x99 Bond said.</p><p>\\xe2\\x80\\x98Absolutely. Haven\\xe2\\x80\\x99t had a good sunburn in years.\\xe2\\x80\\x99 Q showed Bond his hand, which was very pale.</p><p>\\xe2\\x80\\x98Well, you\\xe2\\x80\\x99re the brains of the operation; don\\xe2\\x80\\x99t wipe yourself out completely. Unless it\\xe2\\x80\\x99s with booze and I\\xe2\\x80\\x99m joining you.\\xe2\\x80\\x99</p><p>The food arrived. Q\\xe2\\x80\\x99s sausage glistened plumply on the plate.</p><p>\\xe2\\x80\\x98All right, I won\\xe2\\x80\\x99t keep you from your breakfast,\\xe2\\x80\\x99 Bond said. \\xe2\\x80\\x98Have a good one.\\xe2\\x80\\x99</p><p>\\xe2\\x80\\x98You too,\\xe2\\x80\\x99 Q said.</p><p>Bond edged around a few tables to join the woman he was with \\xe2\\x80\\x93 they must have been at the head of the queue when Bond had stepped away, and she\\xe2\\x80\\x99d been shown to their table in the meantime. She was wearing what might be last night\\xe2\\x80\\x99s dress, with a clean face and scraped-back hair. Q did not remember the theatre cloakroom woman well enough to be able to tell if it was her.</p><p>Bond and the woman were only two tables away, so the cadence of their voices, though not the words themselves, carried over the background noise. Jeremy spoke with a lowered voice: \\xe2\\x80\\x98What\\xe2\\x80\\x99s this about Malta?\\xe2\\x80\\x99</p><p>\\xe2\\x80\\x98Oh,\\xe2\\x80\\x99 Q said, with a smile that he hoped came across as silly, \\xe2\\x80\\x98it\\xe2\\x80\\x99s just the Wales thing. They found some money in a budget that had to be used or they\\xe2\\x80\\x99d lose it. So now it\\xe2\\x80\\x99s Malta. Should be nice. Have to find my passport.\\xe2\\x80\\x99</p><p>\\xe2\\x80\\x98What does he mean, you\\xe2\\x80\\x99re the brains of the operation?\\xe2\\x80\\x99</p><p>\\xe2\\x80\\x98Oh, it\\xe2\\x80\\x99s just because I have to do all the paperwork, while they get drunk and talk big.\\xe2\\x80\\x99</p><p>Jeremy tapped the butt of his knife on the table.</p><p>Q\\xe2\\x80\\x99s official cover at this time was a senior actuary, rather a boy wonder, in the London branch of a specialist Swiss re-insurance company. But he had told Jeremy he was an admin officer. Also, the upcoming conference, which was a cover for an operation, had always been in Malta. It had just seemed better to say it was Wales to Jeremy.</p><p>Jeremy ate quickly, in a business-like manner, as though he was alone. He did not look up to see whether Q was doing anything with the sausage at all.</p><p>Afterwards, they were waiting to cross the road. \\xe2\\x80\\x98You don\\xe2\\x80\\x99t have anything at mine you need to pick up?\\xe2\\x80\\x99 Jeremy said.</p><p>\\xe2\\x80\\x98No,\\xe2\\x80\\x99 Q said.</p><p>The green man came up.</p><p>\\xe2\\x80\\x98All right, then, see you later,\\xe2\\x80\\x99 Jeremy said, and walked off, leaving Q behind.</p>\\n<hr/><p>Q had not got a text from Jeremy in four days. He was livid.</p><p>It was the first day of an R&amp;D trial with live subjects, and Q would be sitting in to observe the trial design being put into practice. He began the day with Higgins, the lead researcher, coming to Q\\xe2\\x80\\x99s office with coffee to brief him on the arrangements.</p><p>Higgins was in his late thirties, going to seed a bit. He\\xe2\\x80\\x99d been sceptical of baby-faced Q at first, but Q was used to that, and had immediately scrutinised every project Higgins had in progress, plus the last six months\\xe2\\x80\\x99 worth he\\xe2\\x80\\x99d thought he\\xe2\\x80\\x99d finished. Any scientist Q considered worth his time, he\\xe2\\x80\\x99d discovered, actually loved being corrected, once they\\xe2\\x80\\x99d had a moment to recover. Higgins had turned out to be worth his time, and they were very cordial now.</p><p>Q was impressed with Higgins\\xe2\\x80\\x99 trial design, but had some doubts about his strategy to mitigate the low sample size. Cleverly, Higgins planned to test each subject twice, in random order, with a gap of a day in between: once with the tech enabled, and once disabled as a control.</p><p>Q thought a two- or even three-day gap would give better assurance that having completed the previous test was not affecting current performance. Higgins agreed, but worried it would blow the timeline out. Q wondered if they could bring in a second, identical treadmill to test with, but neither of them knew what would be involved as far as calibration, so they agreed to revisit that another day.</p><p>They swilled off the rest of their coffees and went down to the training room they\\xe2\\x80\\x99d taken over for the trial.</p><p>Inside the training room was Bond.</p>\\n<hr/><p>Bond\\xe2\\x80\\x99s hands were shoved in his pockets with a careless vigour that would have alarmed his tailor. He was looking out the window.</p><p>Bond turned at the sound of the door. He startled affably and said, \\xe2\\x80\\x98Fancy meeting you here.\\xe2\\x80\\x99</p><p>\\xe2\\x80\\x98Know each other?\\xe2\\x80\\x99 Higgins asked.</p><p>Q had not finished considering his answer when Bond scoffed, \\xe2\\x80\\x98Not in the biblical sense.\\xe2\\x80\\x99 He twinkled.</p><p>\\xe2\\x80\\x98Shall I just?\\xe2\\x80\\x99 Bond said, and dropped his trousers.</p><p>\\xe2\\x80\\x98There\\xe2\\x80\\x99s a dressing screen,\\xe2\\x80\\x99 Higgins said.</p><p>\\xe2\\x80\\x98Oh, we\\xe2\\x80\\x99re all friends here,\\xe2\\x80\\x99 Bond said.</p><p>Bond took all his clothes off, barring underwear, then wandered behind the screen to hang them up. Emerging, he presented himself to Higgins, who had him move to the treadmill for the application of electrodes. At last, Higgins gave Bond the thing itself: it was disguised as a discreet gold signet ring. Bond put it on his little finger.</p><p>\\xe2\\x80\\x98Right,\\xe2\\x80\\x99 Higgins said, \\xe2\\x80\\x98it\\xe2\\x80\\x99ll be a thirty-second walking warm-up, then off you go. I\\xe2\\x80\\x99ll set the speed \\xe2\\x80\\x93 don\\xe2\\x80\\x99t touch the controls yourself, please, unless you\\xe2\\x80\\x99re in trouble for some reason and you need the stop button.\\xe2\\x80\\x99</p><p>Bond began to walk, prompted by the treadmill.</p><p>At once it occurred to Q that they\\xe2\\x80\\x99d failed to control for stride length \\xe2\\x80\\x93 if the set speed was the same, the shorter-legged subjects would be working harder.</p><p>Perhaps Bond could be thrown out of the study as a methodologically spoiled result.</p><p>Bond began to run.</p><p>Bond wore low-rise, crisply black briefs with a Y-front seam piped in red and a white brand label sewn artfully off-centre on the outside \\xe2\\x80\\x93 they looked like they cost a fortune. The cotton was thick; the effect of his running on the treadmill was not obscene. Also, Q suspected him of waxing. But then, age was often kinder to blond men in the body hair department.</p><p>He was a jowly old bulldog, and not Q\\xe2\\x80\\x99s type at all, but there was a certain compulsion in looking.</p><p>Did anyone really need stomach muscles that defined? Bond had a very physical occupation, yes, but he could have stopped several increments of effort sooner, if function were the objective. Jeremy did go to the gym, Q thought, but he had the taste not to rub one\\xe2\\x80\\x99s nose in it.</p><p>\\xe2\\x80\\x98What <em>is</em> your cover name, in case I run into you again?\\xe2\\x80\\x99 Bond\\xe2\\x80\\x99s voice was barely strained. \\xe2\\x80\\x98I\\xe2\\x80\\x99ve only <em>just</em> got away without it so far.\\xe2\\x80\\x99</p><p>\\xe2\\x80\\x98Why would you run into me again?\\xe2\\x80\\x99 Q said.</p><p>Bond knew very well that Q was young for the service and not a field agent, which made him unlikely to be using a cover name in civilian life.</p><p>\\xe2\\x80\\x98Same reason I did before,\\xe2\\x80\\x99 Bond said.</p><p>This was not a denial that there had been a reason, Q noted.</p><p>Q\\xe2\\x80\\x99s question had already flirted too closely with an accusation he was not yet ready to make. He had seen Bond in public twice in a fortnight, after never seeing him before. But Bond needling him about it did not prove Bond had masterminded it.</p><p>\\xe2\\x80\\x98Is it something dreadful? Algernon?\\xe2\\x80\\x99 Bond jogged, sprightly.</p><p>\\xe2\\x80\\x98It\\xe2\\x80\\x99s need-to-know,\\xe2\\x80\\x99 Q said, with the voice he used to use on Higgins before they discovered they liked each other. In his peripheral vision, Higgins stiffened.</p><p>\\xe2\\x80\\x98Well, I\\xe2\\x80\\x99ll need to know in \\xe2\\x80\\x93\\xe2\\x80\\x99 Bond checked himself with a wince and a grin. \\xe2\\x80\\x98In that forthcoming matter.\\xe2\\x80\\x99</p><p>He had been about to say <em>Malta</em>.</p><p>\\xe2\\x80\\x98And that forthcoming matter, Bond,\\xe2\\x80\\x99 Q said, \\xe2\\x80\\x98is need-to-know for a group of people that does not include everyone in the room.\\xe2\\x80\\x99</p><p>Both he and Bond involuntarily glanced at Higgins. To Q\\xe2\\x80\\x99s shame, Higgins startled and looked mortified.</p><p>\\xe2\\x80\\x98How fast does that treadmill go?\\xe2\\x80\\x99 Q asked Higgins.</p><p>Higgins looked confused.</p><p>\\xe2\\x80\\x98And is there any chance of a pit of alligators being put behind it?\\xe2\\x80\\x99 Q said.</p><p>\\xe2\\x80\\x98I\\xe2\\x80\\x99ve actually been in a pit of alligators,\\xe2\\x80\\x99 Bond said. \\xe2\\x80\\x98A certain kind of Colombian drug lord loves that sort of thing. Luckily they\\xe2\\x80\\x99re quite clumsy creatures, so when you\\xe2\\x80\\x99ve got a lot of them in a tight space, they\\xe2\\x80\\x99re pretty easy to dodge.\\xe2\\x80\\x99</p><p>\\xe2\\x80\\x98Yes, dear,\\xe2\\x80\\x99 Q said.</p><p>\\xe2\\x80\\x98How\\xe2\\x80\\x99s <em>your</em> heartrate going?\\xe2\\x80\\x99 Bond said.</p>\\n<hr/><p>On Saturday night, Q brought Jeremy out to The Stallion and Rider, which was where they had met. It was a Victorian terrace that styled itself as a nineteenth-century leather-upholstered gentleman\\xe2\\x80\\x99s club downstairs, and a sex club with a hose-able floor upstairs.</p><p>Q was at his best in a maroon velvet jacket, posing louchely on good upholstery, so never went upstairs. The night they\\xe2\\x80\\x99d met, he had been lounging alone on a studded-leather ottoman, nursing a pint and declining to bother looking at anyone.</p><p>Jeremy had sat down across from him, directly in his line of sight, and stared at him, as if in pompous distaste. A gorgeous blond arsewipe of a public-school boy, dressed like an out-of-court barrister but with breathtakingly tighter trousers.</p><p>They had stared so long, it had seemed the prelude to violence.</p><p>\\xe2\\x80\\x98Do you want to go to mine?\\xe2\\x80\\x99 Jeremy had said, at last.</p><p>\\xe2\\x80\\x98Presumptuous,\\xe2\\x80\\x99 Q had said.</p><p>\\xe2\\x80\\x98Always,\\xe2\\x80\\x99 Jeremy had replied.</p><p>Q had allowed himself half a smile, before he got up, with some difficulty due to half a hard-on, and proved the presumption valid.</p><p>Tonight they sat in a booth, thigh to thigh. Jeremy stared out at the crowd.</p><p>\\xe2\\x80\\x98Upon whom are you passing judgement?\\xe2\\x80\\x99 Q teased. \\xe2\\x80\\x98Do tell.\\xe2\\x80\\x99</p><p>Jeremy started. \\xe2\\x80\\x98Oh,\\xe2\\x80\\x99 he said, \\xe2\\x80\\x98that one.\\xe2\\x80\\x99</p><p>He meant a very twinky boy with glitter in his hair, not as pretty as he thought he was, laughing very loudly in a hideously cockney tone while sitting on someone\\xe2\\x80\\x99s lap \\xe2\\x80\\x93 not entirely consensually, if the body language was anything to go by.</p><p>\\xe2\\x80\\x98What about this one?\\xe2\\x80\\x99 Q said quietly, meaning a man at the bar who looked like he\\xe2\\x80\\x99d been slouching in a beanbag in the same suit continuously for a fortnight. \\xe2\\x80\\x98Do you think the iron his mum gave him for his first housewarming has ever come out of the box?\\xe2\\x80\\x99</p><p>Jeremy turned his head to smile at Q. They were sitting so tight against each other, their faces were too close for comfortable conversation. Q held Jeremy\\xe2\\x80\\x99s eye silently, and neither of them withdrew.</p><p>Anyone else would have leant in for a kiss.</p><p>Q curled his hand all the way around the inside of Jeremy\\xe2\\x80\\x99s thigh. Jeremy crinkled the corner of his eye, a little derisively, and looked away.</p><p>Q had got a horn. Jeremy was now ignoring him. It was delicious.</p><p>\\xe2\\x80\\x98You two!\\xe2\\x80\\x99 Bond said, jolly. \\xe2\\x80\\x98Can I sit?\\xe2\\x80\\x99</p><p>Bond did not wait for a reply, but took the other side of the booth, sprawling, in blue jeans and a very white shirt with two buttons undone. He had a glass of white wine, which he probably thought was how you went undercover in a gay bar. Jeremy and Q were both drinking lager.</p><p>\\xe2\\x80\\x98It was James, wasn\\xe2\\x80\\x99t it,\\xe2\\x80\\x99 Jeremy said.</p><p>\\xe2\\x80\\x98Yes, and you were Jeremy,\\xe2\\x80\\x99 Bond said. \\xe2\\x80\\x98And of course I know <em>you</em>,\\xe2\\x80\\x99 he said to Q.</p><p>\\xe2\\x80\\x98Anyone\\xe2\\x80\\x99d think you were stalking young Matthew, here,\\xe2\\x80\\x99 Jeremy said.</p><p>Bond looked at Q brightly. Q felt pure rage.</p><p>\\xe2\\x80\\x98Who could resist stalking young Matthew?\\xe2\\x80\\x99 Bond said.</p><p>Jeremy looked off on the diagonal.</p><p>\\xe2\\x80\\x98I\\xe2\\x80\\x99ve not been here before,\\xe2\\x80\\x99 Bond said.</p><p>\\xe2\\x80\\x98No, I didn\\xe2\\x80\\x99t think you had,\\xe2\\x80\\x99 Q said. It came out combative.</p><p>\\xe2\\x80\\x98Is it always so quiet?\\xe2\\x80\\x99 Bond went on. He swirled his wine in his glass, as if at a tasting. It was probably house white, and terrible.</p><p>\\xe2\\x80\\x98Plenty of noise upstairs,\\xe2\\x80\\x99 Jeremy said.</p><p>\\xe2\\x80\\x98I\\xe2\\x80\\x99ll have to check it out,\\xe2\\x80\\x99 Bond said, cheerfully.</p><p>There was a silence.</p><p>\\xe2\\x80\\x98What line of work are you in, Jeremy?\\xe2\\x80\\x99 Bond said sociably.</p><p>Q was on a train, travelling at speed; he could not see how to get off.</p><p>\\xe2\\x80\\x98I\\xe2\\x80\\x99m a photo-stylist,\\xe2\\x80\\x99 Jeremy said, \\xe2\\x80\\x98for an advertising agency.\\xe2\\x80\\x99 In fact it was a very famous advertising agency, but Jeremy did not like to name it.</p><p>\\xe2\\x80\\x98What a pair!\\xe2\\x80\\x99 Bond said. \\xe2\\x80\\x98How on earth did you end up with an actuary?\\xe2\\x80\\x99</p><p>A moment\\xe2\\x80\\x99s blankness on Jeremy\\xe2\\x80\\x99s face.</p><p>\\xe2\\x80\\x98Has he worked out when you\\xe2\\x80\\x99re going to die?\\xe2\\x80\\x99 Bond said.</p><p>\\xe2\\x80\\x98Has he worked out when <em>you\\xe2\\x80\\x99re</em> going to die?\\xe2\\x80\\x99 Jeremy replied.</p><p>Bond beamed. \\xe2\\x80\\x98I\\xe2\\x80\\x99ll have a look in upstairs,\\xe2\\x80\\x99 he said, and got up.</p><p>When Bond was gone, Q was afraid to speak, or move.</p><p>\\xe2\\x80\\x98Why do you keep bullshitting me about your job?\\xe2\\x80\\x99 Jeremy said at last. \\xe2\\x80\\x98I don\\xe2\\x80\\x99t give a toss, and I haven\\xe2\\x80\\x99t the foggiest why you\\xe2\\x80\\x99d think I would.\\xe2\\x80\\x99</p><p>Q tried to think of what to say, and did not succeed.</p><p>Jeremy scratched the back of his own head. \\xe2\\x80\\x98It\\xe2\\x80\\x99s just weird to lie about it, isn\\xe2\\x80\\x99t it? It makes me look like a right knob when this guy comes along.\\xe2\\x80\\x99 Jeremy gestured in the direction of Bond\\xe2\\x80\\x99s departure.</p><p>\\xe2\\x80\\x98It is weird. It really is weird. I\\xe2\\x80\\x99m not going to tell you it isn\\xe2\\x80\\x99t weird.\\xe2\\x80\\x99 Q said.</p><p>Jeremy folded his hands.</p><p>\\xe2\\x80\\x98I think I just came up with it the first night we were together because I thought you\\xe2\\x80\\x99d like it, for some\\xe2\\x80\\xa6 nebulous reason,\\xe2\\x80\\x99 Q said, limply. \\xe2\\x80\\x98I didn\\xe2\\x80\\x99t know we were going to see each other again, so I didn\\xe2\\x80\\x99t see any harm in it.\\xe2\\x80\\x99</p><p>Still Jeremy did not say anything.</p><p>\\xe2\\x80\\x98Then I didn\\xe2\\x80\\x99t see how I could take it back without sounding like a nutter.\\xe2\\x80\\x99 Q was being disingenuous: he had never wanted to take it back.</p><p>\\xe2\\x80\\x98It did put you in a weird position with him,\\xe2\\x80\\x99 Q finished, meaning Bond, \\xe2\\x80\\x98so: sorry.\\xe2\\x80\\x99</p><p>Jeremy was leaning his elbows on the table, staring out into the room, as if he was alone.</p><p>\\xe2\\x80\\x98Are you fucking him?\\xe2\\x80\\x99 Jeremy said.</p><p>\\xe2\\x80\\x98No!\\xe2\\x80\\x99</p><p>\\xe2\\x80\\x98That would really be a fucked-up thing to lie about. We never said we were exclusive or whatever, so I don\\xe2\\x80\\x99t even see why you would. But I\\xe2\\x80\\x99m just telling you, that would be a fucked-up thing to lie to my face about.\\xe2\\x80\\x99</p><p>\\xe2\\x80\\x98Before that time at the theatre, I never even saw him outside work!\\xe2\\x80\\x99</p>\\n<hr/><p>Jeremy did not speak to Q all the way home on the tube. He came back to Q\\xe2\\x80\\x99s, then gave Q a brisk hand job, verging on hostile, fully dressed and standing upright in the kitchen, his arms clamped around Q from behind. Q would normally have enjoyed it.</p><p>Q came with a weak cry into Jeremy\\xe2\\x80\\x99s rather beautiful, long-fingered hand. But Jeremy stepped away, leaving Q staggering, and went and rinsed his hand under the tap. He dried it \\xe2\\x80\\x93 unhygienically, Q thought later \\xe2\\x80\\x93 on a tea towel. \\xe2\\x80\\x98See you,\\xe2\\x80\\x99 he said flatly, and left, still with a tent in his trousers, before Q had recovered enough to speak.</p><p>Q was not sure whether he expected to see him again.</p>\\n<hr/><p>Changing the test interval in the trial meant Q had to come to work to help Higgins the next day, Sunday.</p><p>\\xe2\\x80\\x98On my way up,\\xe2\\x80\\x99 he texted Higgins, from the front entrance.</p><p>\\xe2\\x80\\x98Can you spell me when you get up so I can grab a sandwich?\\xe2\\x80\\x99 Higgins replied.</p><p>\\xe2\\x80\\x98Y,\\xe2\\x80\\x99 Q texted back.</p><p>When he got upstairs, Q knocked on the training room door. Higgins emerged, said, \\xe2\\x80\\x98Thanks mate. Five minutes?\\xe2\\x80\\x99 and left.</p><p>Q went in.</p><p>It was Bond. He was running on the treadmill, covered in a light sheen of sweat, his hair standing up with it.</p><p>Of course it was Bond. Q had told Higgins to adjust the test interval to three days \\xe2\\x80\\x93 three days ago.</p><p>\\xe2\\x80\\x98Hello,\\xe2\\x80\\x99 Bond said.</p><p>Q did not reply. He sat on a stool and looked at the charts. He discovered that clever Higgins had not thrown Bond\\xe2\\x80\\x99s data out because they\\xe2\\x80\\x99d failed to control for stride length. Instead he had specified Bond, who was of just over average height, as the nominal normal stride length for the study.</p><p>Bond had sky-blue briefs today, with white piping and a black label. He was beginning to sweat through them.</p><p>\\xe2\\x80\\x98Hope I didn\\xe2\\x80\\x99t drop you in it with your friend,\\xe2\\x80\\x99 Bond ventured.</p><p>\\xe2\\x80\\x98If I\\xe2\\x80\\x99ve got my hand on his inner thigh at a gay bar \\xe2\\x80\\x93 if we go out to brunch and share a pot of tea, for heaven\\xe2\\x80\\x99s sake \\xe2\\x80\\x93 then he\\xe2\\x80\\x99s not my <em>friend</em>, Bond.\\xe2\\x80\\x99</p><p>\\xe2\\x80\\x98Your boyfriend, then.\\xe2\\x80\\x99</p><p>Q had a sense of Bond\\xe2\\x80\\x99s game. Q was supposed to deny there was anything wrong. Bond would ignore him and continue to proffer his sympathy, buttery with concern, until Q was taunted into insisting too much.</p><p>\\xe2\\x80\\x98You did drop me in it,\\xe2\\x80\\x99 Q said. \\xe2\\x80\\x98And I am extremely fucked off with you about it.\\xe2\\x80\\x99</p><p>Bond\\xe2\\x80\\x99s stride faltered slightly. \\xe2\\x80\\x98Sorry. Didn\\xe2\\x80\\x99t mean any harm.\\xe2\\x80\\x99</p><p>\\xe2\\x80\\x98I\\xe2\\x80\\x99m not sure I believe that,\\xe2\\x80\\x99 Q said. \\xe2\\x80\\x98Why are you following me?\\xe2\\x80\\x99</p><p>\\xe2\\x80\\x98I\\xe2\\x80\\x99m not.\\xe2\\x80\\x99 Bond looked down. \\xe2\\x80\\x98I can see why you\\xe2\\x80\\x99d think so. Three times in a row! But no: it was quite an accident. I just couldn\\xe2\\x80\\x99t resist saying hello.\\xe2\\x80\\x99</p><p>It sounded plausible. Q could not tell, could not tell at all.</p><p>\\xe2\\x80\\x98Obviously it\\xe2\\x80\\x99s none of my business,\\xe2\\x80\\x99 Bond said, \\xe2\\x80\\x98but why did you change your cover with him? He seems to think you\\xe2\\x80\\x99re the mail boy.\\xe2\\x80\\x99</p><p>\\xe2\\x80\\x98Not obviously enough, apparently.\\xe2\\x80\\x99</p><p>Bond gave a small smile.</p><p>Abruptly, Q found he did want to answer after all. \\xe2\\x80\\x98How much time have you spent as the cleverest person in the room? I assure you, it is tiresome in the extreme.\\xe2\\x80\\x99</p><p>\\xe2\\x80\\x98You\\xe2\\x80\\x99re the princess who wants to marry the baker.\\xe2\\x80\\x99 Bond laughed.</p><p>\\xe2\\x80\\x98I hardly think one can call a gay man a princess in the modern workplace, thank you, Bond.\\xe2\\x80\\x99</p><p>\\xe2\\x80\\x98No, fair cop,\\xe2\\x80\\x99 Bond said.</p><p>\\xe2\\x80\\x98What were you doing there last night, then, if you weren\\xe2\\x80\\x99t following me?\\xe2\\x80\\x99</p><p>\\xe2\\x80\\x98What do you think?\\xe2\\x80\\x99 Bond said. It was the same smile with which he said virtually everything.</p><p>There was a knock. Higgins had returned.</p>\\n<hr/><p>They carried on a while longer, till Higgins said to Bond, \\xe2\\x80\\x98Sorry, do you remember the conversation we had earlier?\\xe2\\x80\\x99</p><p>\\xe2\\x80\\x98Oh, about the?\\xe2\\x80\\x99 Bond pointed at his lower body.</p><p>\\xe2\\x80\\x98Yes, sorry. It does seem to be messing up the readings a bit,\\xe2\\x80\\x99 Higgins said. \\xe2\\x80\\x98I\\xe2\\x80\\x99ll slow the treadmill down for you.\\xe2\\x80\\x99</p><p>He slowed it till Bond was at a walk, let it carry on that way about a minute, then brought it to a stop.</p><p>Bond stepped off. He hooked his thumbs into his briefs, and looked Q in the eye, cheeks dimpling.</p><p>Higgins had been sufficiently implicated in this that it did not seem possible for Q to accuse Bond of anything.</p><p>Bond lifted the waistband of the briefs over his cock, slid them down his legs and tossed them aside.</p><p>It was a pleasing cock: moderately sized, thick shaft, narrow head, neat foreskin. Q could have wished it were small, or ugly in some way.</p><p>\\xe2\\x80\\x98For heaven\\xe2\\x80\\x99s sake,\\xe2\\x80\\x99 Q said, \\xe2\\x80\\x98is that a solarium tan?\\xe2\\x80\\x99</p><p>Bond faced him, hands on hips. His cock jiggled. \\xe2\\x80\\x98Do I seem to you to be a man who would get a solarium tan?\\xe2\\x80\\x99</p><p>In the corner of his eye, Q saw Higgins take a step towards the discarded briefs, as though to pick them up and tidy them away, but then hesitate and decide not to.</p><p>\\xe2\\x80\\x98There are some beaches on the Mediterranean I must introduce you to,\\xe2\\x80\\x99 Bond said.</p><p>Bond got on the treadmill, and Higgins set it moving.</p><p>Soon Bond was jogging again. Q put his hand over his eyes.</p><p>\\xe2\\x80\\x98Very sorry if you\\xe2\\x80\\x99ve not seen one before,\\xe2\\x80\\x99 Bond said.</p><p>\\xe2\\x80\\x98Thank you, I\\xe2\\x80\\x99ve seen a few, as I\\xe2\\x80\\x99m sure you can guess.\\xe2\\x80\\x99 Q could not bring himself to remove his hand.</p><p>\\xe2\\x80\\x98Sorry, I do need you to\\xe2\\x80\\xa6\\xe2\\x80\\x99 Higgins said.</p><p>\\xe2\\x80\\x98You do need me to look,\\xe2\\x80\\x99 Q said, \\xe2\\x80\\x98at the equipment.\\xe2\\x80\\x99 He took his hand away from his eyes, and looked at the equipment.</p><p>The equipment was very near Bond\\xe2\\x80\\x99s penis. Bond jogged, smiling mildly into space.</p>\\n  </div>\\n  <!--/main-->\\n\\n    <div class=\"chapter preface group\">\\n      <div class=\"end notes module\" id=\"chapter_1_endnotes\" role=\"complementary\">\\n        <h3 class=\"heading\">Notes:</h3>\\n        <blockquote class=\"userstuff\">\\n          <p>The character Q\\xe2\\x80\\x99s real name in some of the pre-Daniel-Craig canon was Major Geoffrey Boothroyd. I have rejected this history and given Q a new identity because (1) this Q is new to the job at the beginning of Skyfall, having just taken over from someone older; (2) the Craig movies are a universe reboot anyway; (3) I don\\xe2\\x80\\x99t feel, subjectively, as though Skyfall Q has a military background. Also I just like the name I chose better. :)</p><p>Amusingly, when I wrote Bond taunting Q about whether his name was Algernon, I did not know that Q\\xe2\\x80\\x99s name was Algernon in the unofficial James Bond film <em>Never Say Never Again</em> (1983).</p>\\n        </blockquote>\\n      </div>\\n    </div>\\n\\n</div>\\n\\n<!-- end of cache -->\\n\\n    </div>\\n  \\n  \\n    </div>\\n    <!-- END work skin -->\\n  </div>\\n  <!-- END work -->\\n\\n  <!-- BEGIN comment section -->\\n  <!-- Gets embedded anywhere we need to list comments on a top-level commentable. We need the local variable \"commentable\" here. -->\\n<div id=\"feedback\" class=\"feedback\" role=\"complementary\">\\n\\n  <h3 class=\"landmark heading\">Actions</h3>\\n\\n  <ul class=\"actions\" role=\"navigation\">\\n      <li><a href=\"#main\">&#8593; Top</a></li>\\n\\n\\n      <li><a href=\"/works/5051548/chapters/11662546\">Next Chapter &#8594;</a></li>\\n\\n\\n\\n\\n      <li>\\n        <form accept-charset=\"UTF-8\" action=\"/kudos\" id=\"new_kudo\" method=\"post\"><div style=\"margin:0;padding:0;display:inline\"><input name=\"utf8\" type=\"hidden\" value=\"&#x2713;\"/><input name=\"authenticity_token\" type=\"hidden\" value=\"rqav+g40xPT/x0kwtEzF95Sj+DTeDWPxDHTZhoOdAr0=\"/></div>\\n          <input class=\"text\" id=\"kudo_commentable_id\" name=\"kudo[commentable_id]\" type=\"hidden\" value=\"5051548\"/>\\n          <input class=\"text\" id=\"kudo_commentable_type\" name=\"kudo[commentable_type]\" type=\"hidden\" value=\"Work\"/>\\n          <input id=\"kudo_submit\" name=\"commit\" type=\"submit\" value=\"Kudos \\xe2\\x99\\xa5\"/>\\n</form>      </li>\\n\\n\\n\\n\\n        <li id=\"show_comments_link\"><a href=\"/comments/show_comments?chapter_id=11616427\" data-remote=\"true\">Comments (19)</a></li>\\n  </ul>\\n\\n  <div id=\"kudos_message\"></div>\\n\\n  <h3 class=\"landmark heading\"><a name=\"comments\">Comments</a></h3>\\n\\n  \\n\\n    <div id=\"kudos\">\\n      <p class=\"kudos\">\\n          <a href=\"/users/Obiness\">Obiness</a>, <a href=\"/users/lotti\">lotti</a>, <a href=\"/users/candii\">candii</a>, <a href=\"/users/Te_Azul\">Te_Azul</a>, <a href=\"/users/nolife_d\">nolife_d</a>, <a href=\"/users/Rustaam\">Rustaam</a>, <a href=\"/users/EcoReibun\">EcoReibun</a>, <a href=\"/users/evgenis\">evgenis</a>, <a href=\"/users/oatmealcoloured\">oatmealcoloured</a>, <a href=\"/users/plum_muffin\">plum_muffin</a>, <a href=\"/users/exordia\">exordia</a>, <a href=\"/users/Zua\">Zua</a>, <a href=\"/users/lodyhell\">lodyhell</a>, <a href=\"/users/R_Salie\">R_Salie</a>, <a href=\"/users/alm1067\">alm1067</a>, <a href=\"/users/Shin_ai\">Shin_ai</a>, <a href=\"/users/satsuko\">satsuko</a>, <a href=\"/users/paratus\">paratus</a>, <a href=\"/users/youcantsaymylastname\">youcantsaymylastname</a>, <a href=\"/users/Blue_Jean_Genie\">Blue_Jean_Genie</a>, <a href=\"/users/SunlightQueen\">SunlightQueen</a>, <a href=\"/users/LoseYourself\">LoseYourself</a>, <a href=\"/users/OokamiNuvola\">OokamiNuvola</a>, <a href=\"/users/bookworm231\">bookworm231</a>, <a href=\"/users/evsquire\">evsquire</a>, <a href=\"/users/hiddleshug\">hiddleshug</a>, <a href=\"/users/inclined_to_tilt\">inclined_to_tilt</a>, <a href=\"/users/Serafina\">Serafina</a>, <a href=\"/users/Nekoastrid\">Nekoastrid</a>, <a href=\"/users/Laugh_PlayDream\">Laugh_PlayDream</a>, <a href=\"/users/memelovescaps\">memelovescaps</a>, <a href=\"/users/kandiex\">kandiex</a>, <a href=\"/users/pennyd\">pennyd</a>, <a href=\"/users/eigengrau\">eigengrau</a>, <a href=\"/users/NightIsMyCompanion\">NightIsMyCompanion</a>, <a href=\"/users/deerang2002\">deerang2002</a>, <a href=\"/users/Selles\">Selles</a>, <a href=\"/users/InvincibleMadhouses\">InvincibleMadhouses</a>, <a href=\"/users/bluegreenalgae\">bluegreenalgae</a>, <a href=\"/users/froggyeyes08\">froggyeyes08</a>, <a href=\"/users/IfOnlyWeHadTalked\">IfOnlyWeHadTalked</a>, <a href=\"/users/Winter_of_our_Discontent\">Winter_of_our_Discontent</a>, <a href=\"/users/hiddlemybatch\">hiddlemybatch</a>, <a href=\"/users/strangest_love\">strangest_love</a>, <a href=\"/users/Nikavera\">Nikavera</a>, <a href=\"/users/LexxyT\">LexxyT</a>, <a href=\"/users/thegayestdragons\">thegayestdragons</a>, <a href=\"/users/criticality\">criticality</a>, <a href=\"/users/shadowkeeper\">shadowkeeper</a>, <a href=\"/users/asdfghjkl123456\">asdfghjkl123456</a>, \\n          <a href=\"/works/5051548/kudos\" id=\"kudos_summary\">\\n               and 130 more users\\n</a>          <span class=\"kudos_expanded hidden\">\\n            <a href=\"/users/anger_ieJ9\">anger_ieJ9</a>, <a href=\"/users/sparrow30\">sparrow30</a>, <a href=\"/users/TheEmuMafia\">TheEmuMafia</a>, <a href=\"/users/hthesecond\">hthesecond</a>, <a href=\"/users/arwen_tiw\">arwen_tiw</a>, <a href=\"/users/vofpracticality\">vofpracticality</a>, <a href=\"/users/Berunien\">Berunien</a>, <a href=\"/users/Raupenkoenig\">Raupenkoenig</a>, <a href=\"/users/mikeneko\">mikeneko</a>, <a href=\"/users/fyr_draca\">fyr_draca</a>, <a href=\"/users/kaydeefalls\">kaydeefalls</a>, <a href=\"/users/luckyn02\">luckyn02</a>, <a href=\"/users/Hatake_Tsughi\">Hatake_Tsughi</a>, <a href=\"/users/teawrecks\">teawrecks</a>, <a href=\"/users/Komorebi_reads\">Komorebi_reads</a>, <a href=\"/users/pixelly\">pixelly</a>, <a href=\"/users/sterekvibes\">sterekvibes</a>, <a href=\"/users/so2460done\">badassbeverlykatz (so2460done)</a>, <a href=\"/users/Vivian\">Vivian</a>, <a href=\"/users/desiallen16\">desiallen16</a>, <a href=\"/users/aubergineautumn\">aubergineautumn</a>, <a href=\"/users/victoria_elner\">victoria_elner</a>, <a href=\"/users/thingsoftheheart\">thingsoftheheart</a>, <a href=\"/users/A_Stranger\">A_Stranger</a>, <a href=\"/users/IDEK\">IDEK</a>, <a href=\"/users/Libri_Catenati87\">Libri_Catenati87</a>, <a href=\"/users/stardust_made\">stardust_made</a>, <a href=\"/users/Ginormic6\">Ginormic6</a>, <a href=\"/users/boy_princess\">boy_princess</a>, <a href=\"/users/louise_ym_li\">louise_ym_li</a>, <a href=\"/users/OcyDarling\">OcyDarling</a>, <a href=\"/users/orenjisun\">orenjisun</a>, <a href=\"/users/quietlycapernoited\">quietlycapernoited</a>, <a href=\"/users/phemonoe\">phemonoe</a>, <a href=\"/users/stellaknits\">stellaknits</a>, <a href=\"/users/FanoraJane\">FanoraJane</a>, <a href=\"/users/tgwsworld\">tgwsworld</a>, <a href=\"/users/transclint\">transclint</a>, <a href=\"/users/destructivedoll\">destructivedoll</a>, <a href=\"/users/nanya\">nanya</a>, <a href=\"/users/annanet\">annanet</a>, <a href=\"/users/tml0829\">tml0829</a>, <a href=\"/users/Lunulet\">Lunulet</a>, <a href=\"/users/RedRose101\">RedRose101</a>, <a href=\"/users/spader003\">spader003</a>, <a href=\"/users/sockwizard\">sockwizard</a>, <a href=\"/users/Alhanais\">Alhanais</a>, <a href=\"/users/thecurlyone\">thecurlyone</a>, <a href=\"/users/SuperFerret\">SuperFerret</a>, <a href=\"/users/prince_benji\">prince_benji</a>, <a href=\"/users/nineorfour\">nineorfour</a>, <a href=\"/users/Athenia\">Athenia</a>, <a href=\"/users/PoisonIvy0212\">PoisonIvy0212</a>, <a href=\"/users/Peachu_writes\">Peachu_writes</a>, <a href=\"/users/AiMuiNoodle\">AiMuiNoodle</a>, <a href=\"/users/Chenoeh\">Chenoeh</a>, <a href=\"/users/klockslag\">klockslag</a>, <a href=\"/users/sykra15\">sykra15</a>, <a href=\"/users/Sachmis\">Sachmis</a>, <a href=\"/users/sinfulLoser\">sinfulLoser</a>, <a href=\"/users/always_annajane\">always_annajane</a>, <a href=\"/users/momentary\">momentary</a>, <a href=\"/users/mallory_x\">mallory_x</a>, <a href=\"/users/somesortofdeathfrisbee\">DeerGod (somesortofdeathfrisbee)</a>, <a href=\"/users/MaggieMay\">MaggieMay</a>, <a href=\"/users/3littleowls\">3littleowls</a>, <a href=\"/users/itsthequietones\">lectrix (itsthequietones)</a>, <a href=\"/users/Violaceous\">Violaceous</a>, <a href=\"/users/sofi16_1999\">sofi16_1999</a>, <a href=\"/users/ForTheLoveOfAll\">ForTheLoveOfAll</a>, <a href=\"/users/wrongline\">wrongline</a>, <a href=\"/users/dark_nexus17\">dark_nexus17</a>, <a href=\"/users/catherinegrace91\">catherinegrace91</a>, <a href=\"/users/FluffyGremlin\">FluffyGremlin</a>, <a href=\"/users/missdorothysnarker\">missdorothysnarker</a>, <a href=\"/users/Mythplaced_Logic\">Mythplaced_Logic</a>, <a href=\"/users/Bakanika\">Bakanika</a>, <a href=\"/users/yantantether\">yantantether</a>, <a href=\"/users/EngineerbyDay\">EngineerbyDay</a>, <a href=\"/users/DemonicSymphony\">DemonicSymphony</a>, <a href=\"/users/msilverstar\">msilverstar</a>, <a href=\"/users/lovescheese\">lovescheese</a>, <a href=\"/users/Akkaris\">Akkaris</a>, <a href=\"/users/FaerieChild\">FaerieChild</a>, <a href=\"/users/Marliv\">Marliv</a>, <a href=\"/users/miss_whimsy\">miss_whimsy</a>, <a href=\"/users/88049\">88049</a>, <a href=\"/users/Kirke\">Kirke</a>, <a href=\"/users/sheldrake\">sheldrake</a>, <a href=\"/users/IcarusIncident\">IcarusIncident</a>, <a href=\"/users/Boffin1710\">Boffin1710</a>, <a href=\"/users/andiemaru\">andiemaru</a>, <a href=\"/users/lozinja\">lozinja</a>, <a href=\"/users/beaubete\">beaubete</a>, <a href=\"/users/street\">Holladay Street (street)</a>, <a href=\"/users/Mafalda\">Mafalda</a>, <a href=\"/users/qkind\">qkind</a>, <a href=\"/users/The_Fighting_109\">JadesFire (The_Fighting_109)</a>, <a href=\"/users/Tyellas\">Tyellas</a>, <a href=\"/users/aln63ny\">aln63ny</a>, <a href=\"/users/Xandrabelle\">Xandrabelle</a>, <a href=\"/users/Lilybyte\">Lilybyte</a>, <a href=\"/users/emungere\">emungere</a>, <a href=\"/users/bunfun\">bunfun</a>, <a href=\"/users/Baudelaire_3\">Baudelaire_3</a>, <a href=\"/users/KNIGHTMARE37167\">KNIGHTMARE37167</a>, <a href=\"/users/Flantastic\">Flantastic</a>, <a href=\"/users/Pandoxia\">Pandoxia</a>, <a href=\"/users/isoldam\">isoldam</a>, <a href=\"/users/westmoon\">westmoon</a>, <a href=\"/users/trinityclare\">trinityclare</a>, <a href=\"/users/zerestor\">zerestor</a>, <a href=\"/users/nemoem\">nemoem</a>, <a href=\"/users/Penultimated\">Penultimated</a>, <a href=\"/users/DorothyZbornak\">DorothyZbornak</a>, <a href=\"/users/meri47\">meri47</a>, <a href=\"/users/drkangel721\">drkangel721</a>, <a href=\"/users/BirdofFire\">BirdofFire</a>, <a href=\"/users/littlethoughts\">littlethoughts</a>, <a href=\"/users/TrueCat\">TrueCat</a>, <a href=\"/users/RavenOceana\">RavenOceana</a>, <a href=\"/users/GloriaMundi\">GloriaMundi</a>, <a href=\"/users/zandramassystem\">zandramassystem</a>, <a href=\"/users/Elee\">Elee</a>, <a href=\"/users/rawr_balrog\">rawr_balrog</a>, <a href=\"/users/lenquo\">lenquo</a>, <a href=\"/users/esteyabey\">esteyabey</a>, <a href=\"/users/Kidlitter\">Kidlitter</a>, <a href=\"/users/northernMagic\">Tamora de Raedt (northernMagic)</a> and <a href=\"/users/Orianna\">Orianna</a>\\n          </span>\\n             as well as \\n          160 guests\\n         left kudos on this work!\\n        <span class=\"kudos_expanded hidden\">\\n          <a href=\"#\" id=\"kudos_collapser\">(collapse)</a>\\n        </span>\\n      </p>\\n</div>\\n\\n\\n    <div id=\"add_comment_placeholder\" title=\"top level comment\">\\n      <div id=\"add_comment\">\\n        <!-- expects the local variables comment, commentable, and button_name -->\\n<div class=\"post comment\" id=\"comment_form_for_11616427\">\\n  <form accept-charset=\"UTF-8\" action=\"/chapters/11616427/comments\" class=\"new_comment\" id=\"comment_for_11616427\" method=\"post\"><div style=\"margin:0;padding:0;display:inline\"><input name=\"utf8\" type=\"hidden\" value=\"&#x2713;\"/><input name=\"authenticity_token\" type=\"hidden\" value=\"rqav+g40xPT/x0kwtEzF95Sj+DTeDWPxDHTZhoOdAr0=\"/></div>\\n    <fieldset>\\n      <legend>Post Comment</legend>\\n\\n\\n\\n\\n\\n\\n        <dl>\\n          <dt class=\"landmark\">Note:</dt>\\n          <dd class=\"instructions comment_form\">All fields are required. Your email address will not be published.</dd>\\n          <dt><label for=\"comment_name_for_11616427\">Name: </label></dt>\\n          <dd>\\n            <input class=\"text\" id=\"comment_name_for_11616427\" name=\"comment[name]\" type=\"text\"/>\\n            <script type=\"text/javascript\">var validation_for_comment_name_for_11616427=new LiveValidation(\\'comment_name_for_11616427\\',{wait:500,onlyOnBlur:false});validation_for_comment_name_for_11616427.add(Validate.Presence,{\"failureMessage\":\"Please enter your name.\",\"validMessage\":\"\"});</script>\\n          </dd>\\n          <dt><label for=\"comment_email_for_11616427\">Email: </label></dt>\\n          <dd>\\n            <input class=\"text\" id=\"comment_email_for_11616427\" name=\"comment[email]\" type=\"text\"/>\\n            <script type=\"text/javascript\">var validation_for_comment_email_for_11616427=new LiveValidation(\\'comment_email_for_11616427\\',{wait:500,onlyOnBlur:false});validation_for_comment_email_for_11616427.add(Validate.Presence,{\"failureMessage\":\"Please enter your email address.\",\"validMessage\":\"\"});</script>\\n          </dd>\\n        </dl>\\n\\n        \\n      <p>\\n        <label for=\"comment_content_for_11616427\" class=\"landmark\">Comment</label>\\n        <textarea class=\"comment_form observe_textlength\" id=\"comment_content_for_11616427\" name=\"comment[content]\" title=\"Enter Comment\">\\n</textarea>\\n        <input type=\"hidden\" id=\"controller_name_for_11616427\" name=\"controller_name\" value=\"chapters\"/>\\n      </p>\\n      <p class=\"character_counter\"><span aria-live=\"polite\" aria-valuemax=\"4300\" aria-valuenow=\"comment_content_for_11616427\" class=\"value\" data-maxlength=\"4300\" id=\"comment_content_for_11616427_counter\">4300</span> characters left</p>\\n      <script type=\"text/javascript\">var validation_for_comment_content_for_11616427=new LiveValidation(\\'comment_content_for_11616427\\',{wait:500,onlyOnBlur:false});validation_for_comment_content_for_11616427.add(Validate.Presence,{\"failureMessage\":\"Brevity is the soul of wit, but we need your comment to have text in it.\",\"validMessage\":\"\"});validation_for_comment_content_for_11616427.add(Validate.Length,{\"maximum\":\"4300\",\"tooLongMessage\":\"must be less than 4300 characters long.\"});</script>\\n      <p class=\"submit actions\">\\n        <input data-disable-with=\"Please wait...\" id=\"comment_submit_for_11616427\" name=\"commit\" type=\"submit\" value=\"Comment\"/>\\n      </p>\\n    </fieldset>\\n</form></div>\\n<div class=\"clear\"></div>\\n\\n      </div>\\n    </div>\\n\\n  <!-- If we have javascript, here is where the comments will be spiffily inserted -->\\n  <!-- If not, and show_comments is true, here is where the comments will be rendered -->\\n  <div id=\"comments_placeholder\" style=\"display:none;\">\\n  </div>\\n\\n\\n</div>\\n<!-- END comments -->\\n\\n  <!-- END comment section -->\\n\\n          <div class=\"clear\"><!--presentational--></div>\\n        </div>\\n        <!-- END main -->\\n      </div>\\n      <!-- BEGIN footer -->\\n<div id=\"footer\" role=\"contentinfo\" class=\"region\">\\n\\t<h3 class=\"landmark heading\">Footer</h3>\\n  <ul class=\"navigation actions\" role=\"navigation\">\\n    <li class=\"module group\">\\n      <h4 class=\"heading\">About the Archive</h4>\\n      <ul class=\"menu\">\\n        <li><a href=\"/site_map\">Site Map</a></li>\\n        <li><a href=\"/diversity\">Diversity Statement</a></li>\\n        <li><a href=\"/tos\">Terms of Service</a></li>\\n        <li><a href=\"/dmca\">DMCA Policy</a> </li>\\n      </ul>\\n    </li>\\n    <li class=\"module group\">\\n      <h4 class=\"heading\">Contact Us</h4>\\n      <ul class=\"menu\">\\n        <li><a href=\"/abuse_reports/new\">Report Abuse</a></li>\\n        <li><a href=\"/support\">Technical Support and Feedback</a></li>\\n      </ul>\\n    </li>\\n    <li class=\"module group\">\\n      <h4 class=\"heading\">Development</h4>\\n      <ul class=\"menu\">\\n          <li><a href=\"https://github.com/otwcode/otwarchive/commits/v0.9.88.4\">otwarchive v0.9.88.4</a></li>\\n        <li><a href=\"/known_issues\">Known Issues</a></li>\\n        <li><a href=\"http://www.gnu.org/licenses/gpl-2.0.html\" title=\"View License\">GPL</a> by the <a href=\"http://transformativeworks.org/\" title=\"The Organization for Transformative Works\">OTW</a></li>\\n      </ul>\\n    </li>\\n  </ul>\\n</div>\\n<!-- END footer -->\\n\\n    </div>\\n    <!-- check to see if this controller/action allow tinymce before we load the gigantor js; see application_helper -->\\n<script src=\"//ajax.googleapis.com/ajax/libs/jquery/1.9.0/jquery.min.js\" type=\"text/javascript\"></script>\\n<script src=\"//ajax.googleapis.com/ajax/libs/jqueryui/1.10.0/jquery-ui.min.js\" type=\"text/javascript\"></script>\\n<!-- if user has googleapis blocked for some reason we need a fallback -->\\n<script type=\"text/javascript\">if(typeof jQuery==\\'undefined\\'){document.write(unescape(\"%3Cscript src=\\'/javascripts/jquery.min.js\\' type=\\'text/javascript\\'%3E%3C/script%3E\"));document.write(unescape(\"%3Cscript src=\\'/javascripts/jquery-ui.min.js\\' type=\\'text/javascript\\'%3E%3C/script%3E\"));}</script>\\n\\n<script type=\"text/javascript\">$j=jQuery.noConflict();</script>\\n<script src=\"/javascripts/jquery.scrollTo.min.js,q1447781034+jquery.livequery.min.js,q1447781034+rails.js,q1447781034+application.js,q1447781034+bootstrap,_bootstrap-dropdown.min.js,q1447781034+jquery-shuffle.js,q1447781034+jquery.tokeninput.min.js,q1447781034+jquery.trap.min.js,q1447781034+ao3modal.min.js,q1447781034+jquery.cookie.js,q1447781034+filters.min.js,q1447781034.pagespeed.jc.rw9k0ROj35.js\"></script><script>eval(mod_pagespeed_B8xvPVDhnf);</script>\\n<script>eval(mod_pagespeed_3REsYZM7kk);</script>\\n<script>eval(mod_pagespeed_AM2RTTeJHT);</script>\\n<script>eval(mod_pagespeed_qH8aGOmMsR);</script>\\n<script>eval(mod_pagespeed_l2xZP4qwi6);</script>\\n<script>eval(mod_pagespeed_75yBSxdZTf);</script>\\n<script>eval(mod_pagespeed_iBIwytr$BA);</script>\\n<script>eval(mod_pagespeed_HTXynSmLgu);</script>\\n<script>eval(mod_pagespeed_9uWxGT1Pir);</script>\\n<script>eval(mod_pagespeed_aO4Pc6hmT0);</script>\\n<script>eval(mod_pagespeed_d5XXN6RoNf);</script>\\n\\n\\n  <script type=\"text/javascript\" src=\"//platform.twitter.com/widgets.js\"></script>\\n\\n          <script type=\"text/javascript\">var name_id=\"#comment_name_for_11616427\";var email_id=\"#comment_email_for_11616427\";if(!$j(name_id).val()){$j(name_id).val($j.cookie(\\'comment_name\\'));}\\nif(!$j(email_id).val()){$j(email_id).val($j.cookie(\\'comment_email\\'));}</script>\\n\\n  </body>\\n</html>\\n'"
      ]
     },
     "execution_count": 17,
     "metadata": {},
     "output_type": "execute_result"
    }
   ],
   "source": [
    "page.read()"
   ]
  },
  {
   "cell_type": "code",
   "execution_count": null,
   "metadata": {
    "collapsed": true
   },
   "outputs": [],
   "source": []
  },
  {
   "cell_type": "code",
   "execution_count": 18,
   "metadata": {
    "collapsed": false
   },
   "outputs": [],
   "source": [
    "def find_page(base_url, page_number):\n",
    "    #go to any page number.\n",
    "    return base_url+'?page=' +str(page_number)"
   ]
  },
  {
   "cell_type": "code",
   "execution_count": 19,
   "metadata": {
    "collapsed": false,
    "scrolled": false
   },
   "outputs": [],
   "source": [
    "def find_works(page):\n",
    "    #Find all works from a works list page.\n",
    "    works_page = bs(urllib2.urlopen(page))\n",
    "    links = []\n",
    "    for link in works_page.find_all('a'):\n",
    "        url = link.get('href')\n",
    "        url_s = [i for i in url.split('/') if i != '']\n",
    "        if 'work' in url and len(url_s) == 2 and str(url_s[1]).isdigit():\n",
    "                links.append('http://archiveofourown.org'+link.get('href'))\n",
    "    return links"
   ]
  },
  {
   "cell_type": "code",
   "execution_count": 20,
   "metadata": {
    "collapsed": false
   },
   "outputs": [],
   "source": [
    "def show_full_contents(url):\n",
    "    #go through adult contents filtering.\n",
    "    base = bs(urllib2.urlopen(url))\n",
    "    full_url = url\n",
    "    for link in base.find_all('a'):\n",
    "        if 'Proceed' in link.text:\n",
    "            full_url = url +'?view_adult=true'\n",
    "\n",
    "#     can't show full work in the same way.\n",
    "#     base2 = bs(urllib2.urlopen(full_url))\n",
    "#     print full_url\n",
    "#     for link in base2.find_all('a'):\n",
    "#         if 'Entire Work' in link.text:\n",
    "#             full_url += '?view_full_work=true'\n",
    "\n",
    "    return full_url"
   ]
  },
  {
   "cell_type": "code",
   "execution_count": 21,
   "metadata": {
    "collapsed": false
   },
   "outputs": [],
   "source": [
    "def get_next_chapter(url):\n",
    "    #for multi chapter works, get next chapter link.\n",
    "    req = urllib2.Request(url)\n",
    "    opener = urllib2.build_opener(urllib2.HTTPCookieProcessor(cookie))\n",
    "    page = bs(opener2.open(req))\n",
    "    next_chapter = ''\n",
    "    for link in page.find_all('a'):\n",
    "        if 'Next Chapter' in link.text:\n",
    "            next_chapter = ('http://archiveofourown.org' + link.get('href'))\n",
    "    return next_chapter"
   ]
  },
  {
   "cell_type": "code",
   "execution_count": 22,
   "metadata": {
    "collapsed": false
   },
   "outputs": [],
   "source": [
    "def get_download_link(url):\n",
    "    #may use the download page alternatively, where the html page is cleaner. But this misses some features, so not use\n",
    "    #at the moment.\n",
    "    req = urllib2.Request(url)\n",
    "    opener = urllib2.build_opener(urllib2.HTTPCookieProcessor(cookie))\n",
    "    page = bs(opener2.open(req))\n",
    "    for link in page.find_all('a'):\n",
    "        if 'HTML' in link.text:\n",
    "            download_link = 'http://archiveofourown.org' + link.get('href')\n",
    "    return download_link"
   ]
  },
  {
   "cell_type": "code",
   "execution_count": 23,
   "metadata": {
    "collapsed": false,
    "scrolled": true
   },
   "outputs": [
    {
     "data": {
      "text/plain": [
       "'http://archiveofourown.org/works/3078407/chapters/9335556'"
      ]
     },
     "execution_count": 23,
     "metadata": {},
     "output_type": "execute_result"
    }
   ],
   "source": [
    "get_next_chapter('http://archiveofourown.org/works/3078407?view_adult=true')"
   ]
  },
  {
   "cell_type": "code",
   "execution_count": 80,
   "metadata": {
    "collapsed": false
   },
   "outputs": [],
   "source": [
    "s = get_contents('http://archiveofourown.org/works/5051548?view_full_work=true')"
   ]
  },
  {
   "cell_type": "code",
   "execution_count": 86,
   "metadata": {
    "collapsed": false
   },
   "outputs": [],
   "source": [
    "d = create_work_dict('u',str(s))"
   ]
  },
  {
   "cell_type": "code",
   "execution_count": 26,
   "metadata": {
    "collapsed": false
   },
   "outputs": [],
   "source": [
    "def get_contents(url):\n",
    "    #get work metadata and contents from the work page.\n",
    "#     print 'Reading url:', url\n",
    "    try:\n",
    "        req = urllib2.Request(url)\n",
    "        opener = urllib2.build_opener(urllib2.HTTPCookieProcessor(cookie))\n",
    "        page = bs(opener2.open(req))\n",
    "        contents = str(page.body.text.encode('utf-8')).replace('\\n','A')\n",
    "    except:\n",
    "        print 'Unable to read from this url'\n",
    "        contents = ''\n",
    "        with open('/Users/jingy/Desktop/problematic_url.csv', 'a') as g:\n",
    "            g.write(url)\n",
    "    return url, contents"
   ]
  },
  {
   "cell_type": "code",
   "execution_count": 89,
   "metadata": {
    "collapsed": false
   },
   "outputs": [],
   "source": [
    "def write_header(outfile):\n",
    "    f = open(outfile, 'a')\n",
    "    writer = csv.writer(f, delimiter=',')\n",
    "    keys = ['AdditionalTags', 'ArchiveWarnings','Author','Bookmarks','Category','Chapters','Characters','Comments',\\\n",
    "            'CompleteDate','Fandoms','Hits','Kudos','Language','Notes','PublishDate','Rating','Relationship',\\\n",
    "            'Summary','Text','Title','Words']\n",
    "    writer.writerow(keys)\n",
    "    f.close()"
   ]
  },
  {
   "cell_type": "code",
   "execution_count": 28,
   "metadata": {
    "collapsed": false
   },
   "outputs": [],
   "source": [
    "def write_work_content(work_dict,outfile):\n",
    "    #write work metadata and contents as values of a sorted dictionary.\n",
    "    f = open(outfile, 'a')\n",
    "    writer = csv.writer(f, delimiter=',')\n",
    "    try:\n",
    "        writer.writerow(OrderedDict(sorted(work_dict.items())).values())\n",
    "    except:\n",
    "        pass\n",
    "    f.close()"
   ]
  },
  {
   "cell_type": "code",
   "execution_count": 83,
   "metadata": {
    "collapsed": false
   },
   "outputs": [],
   "source": [
    "#creates dictionary for information in a single work.\n",
    "def create_work_dict(url, contents):\n",
    "    #get work metadata and contents into a dictionary.\n",
    "    #Know it's not elegent...\n",
    "#     print 'Getting work information from:', url\n",
    "    try:\n",
    "        work = {}\n",
    "        \n",
    "        work['Rating'] = re.findall('Rating:(.*?)<br />',contents)[0]\n",
    "        work['ArchiveWarnings'] = re.findall('Warnings:(.*?)<br />',contents)[0]         \n",
    "        work['Fandoms'] = [i for i in re.findall('Fandoms:A          AAA(.*?)AAAA|Fandom:A          AAA(.*?)AAAA',contents)[0] if i != ''][0]\n",
    "\n",
    "        category = re.findall('Category:A          AAA(.*?)AAAA',contents)#|Category:A          AAAF/M|Category:A          AAAGen|Category:A          AAAM/M|Category:A          AAAMulti|Category:A          AAAOther',contents)\n",
    "        if category == []:\n",
    "            work['Category'] = ''\n",
    "        else:\n",
    "            work['Category'] = category[0].strip()\n",
    "\n",
    "        relationship = re.findall('Relationships:(.*?)<br />',contents)\n",
    "        if relationship == []:\n",
    "            work['Relationship'] = ''\n",
    "        else:\n",
    "            work['Relationship'] = relationship[0]\n",
    "\n",
    "        characters = re.findall('Characters:(.*?)<br />',contents)\n",
    "        if characters == []:\n",
    "            work['Characters'] = ''\n",
    "        else:\n",
    "            work['Characters'] = characters[0].strip()\n",
    "\n",
    "        additional = re.findall('Additional Tags:(.*?)<br />',contents)\n",
    "        if additional == []:\n",
    "            work['AdditionalTags'] = ''\n",
    "        else:\n",
    "            work['AdditionalTags'] = additional[0]\n",
    "\n",
    "        language = re.findall('Language:A      AA(.*?)A      A',contents)\n",
    "        if language == []:\n",
    "            work['Language'] = ''\n",
    "        else:\n",
    "            work['Language'] = language[0].strip()\n",
    "\n",
    "        publishdate = re.findall('Published:([0-9]*-[0-9]*-[0-9]*)',contents)\n",
    "        if publishdate == []:\n",
    "            work['PublishDate'] = ''\n",
    "        else:\n",
    "            work['PublishDate'] = publishdate[0].strip()\n",
    "            \n",
    "        completedate = re.findall('Completed:([0-9]*-[0-9]*-[0-9]*)',contents)\n",
    "        if completedate == []:\n",
    "            work['CompleteDate'] = ''\n",
    "        else:\n",
    "            work['CompleteDate'] = completedate[0].strip()\n",
    "        \n",
    "        words = re.findall('Words:([0-9]*)',contents)\n",
    "        if words == []:\n",
    "            work['Words'] = ''\n",
    "        else:\n",
    "            work['Words'] = words[0].strip()\n",
    "        \n",
    "        chapters = re.findall('Chapters:([0-9]*/[0-9]*)',contents)\n",
    "        if chapters == []:\n",
    "            work['Chapters'] = ''\n",
    "        else:\n",
    "            work['Chapters'] = chapters[0].strip()\n",
    "        \n",
    "        comments = re.findall('Comments:([0-9]*)',contents)\n",
    "        if comments == []:\n",
    "            work['Comments'] = ''\n",
    "        else:\n",
    "            work['Comments'] = comments[0].strip()\n",
    "            \n",
    "        kudos = re.findall('Kudos:([0-9]*)',contents)\n",
    "        if publishdate == []:\n",
    "            work['Kudos'] = ''\n",
    "        else:\n",
    "            work['Kudos'] = kudos[0].strip()\n",
    "            \n",
    "        bookmarks = re.findall('Bookmarks:([0-9]*)',contents)\n",
    "        if bookmarks == []:\n",
    "            work['Bookmarks'] = ''\n",
    "        else:\n",
    "            work['Bookmarks'] = bookmarks[0].strip()\n",
    "        \n",
    "        hits = re.findall('Hits:([0-9]*)',contents)\n",
    "        if hits == []:\n",
    "            work['Hits'] = ''\n",
    "        else:\n",
    "            work['Hits'] = hits[0].strip()\n",
    "        \n",
    "        author = re.findall('A    AA(.*?)AAA',contents)\n",
    "        if author == []:\n",
    "            work['Author'] = ''\n",
    "        else:\n",
    "            work['Author'] = author[0].strip()\n",
    "\n",
    "        text = re.findall('Work Text:(.*?)AAAAAAAA|Chapter TextA(.*?)AAAAA',contents)\n",
    "        if text == []:\n",
    "            work['Test'] = ''\n",
    "        else:\n",
    "            work['Text']= [i for i in text[0] if i != ''][0].strip()\n",
    "\n",
    "        title = re.findall('AAAAAAAA      (.*?)A    AA',contents)\n",
    "        if title == []:\n",
    "            work['Title'] = ''\n",
    "        else:\n",
    "            work['Title']  = title[0].strip()\n",
    "\n",
    "        summary = re.findall('>Summary: <p>(.*?)</p>',contents)\n",
    "        if summary == []:\n",
    "            work['Summary'] = ''\n",
    "        else:\n",
    "            work['Summary'] = summary[0].strip()\n",
    "\n",
    "        notes = re.findall('Notes:AA(.*?)AA',contents)\n",
    "        if notes == []:\n",
    "            work['Notes'] = ''\n",
    "        else:\n",
    "            work['Notes'] = notes[0].strip()\n",
    "        \n",
    "#     print 'Finished with:', url\n",
    "    except:\n",
    "        print 'Something went wrong.'\n",
    "    return work"
   ]
  },
  {
   "cell_type": "code",
   "execution_count": 30,
   "metadata": {
    "collapsed": false
   },
   "outputs": [],
   "source": [
    "# d = create_work_dict('http://archiveofourown.org/works/5205566',str(c))"
   ]
  },
  {
   "cell_type": "code",
   "execution_count": 31,
   "metadata": {
    "collapsed": false
   },
   "outputs": [],
   "source": [
    "# c = bs(urllib2.urlopen('http://archiveofourown.org/works/3078407/chapters/6678515')).body.text"
   ]
  },
  {
   "cell_type": "code",
   "execution_count": 32,
   "metadata": {
    "collapsed": true
   },
   "outputs": [],
   "source": [
    "def read_single_work(url):\n",
    "    url_full = show_full_contents(url)\n",
    "    u, c = get_contents(url_full)\n",
    "    work = create_work_dict(u, c)\n",
    "    write_work_content(work,outfile)"
   ]
  },
  {
   "cell_type": "code",
   "execution_count": 33,
   "metadata": {
    "collapsed": true
   },
   "outputs": [],
   "source": [
    "def get_chapters(url):\n",
    "    url_full = show_full_contents(url)\n",
    "    chapters_list = []\n",
    "    next_url = get_next_chapter(url_full)\n",
    "    while next_url != '':\n",
    "        chapters_list.append(next_url)\n",
    "        next_url = get_next_chapter(next_url)\n",
    "    return chapters_list"
   ]
  },
  {
   "cell_type": "code",
   "execution_count": 34,
   "metadata": {
    "collapsed": false
   },
   "outputs": [],
   "source": [
    "# get_chapters('http://archiveofourown.org/works/3078407?view_adult=true')"
   ]
  },
  {
   "cell_type": "code",
   "execution_count": null,
   "metadata": {
    "collapsed": true
   },
   "outputs": [],
   "source": []
  },
  {
   "cell_type": "code",
   "execution_count": 60,
   "metadata": {
    "collapsed": false
   },
   "outputs": [
    {
     "name": "stdout",
     "output_type": "stream",
     "text": [
      "Something went wrong.\n",
      "crawling page: 1\n",
      "reading work: http://archiveofourown.org/works/5231777\n",
      "Something went wrong.\n",
      "Something went wrong.\n",
      "Something went wrong.\n",
      "Something went wrong.\n",
      "Something went wrong.\n",
      "Something went wrong.\n",
      "Something went wrong.\n",
      "Something went wrong.\n",
      "Something went wrong.\n",
      "Something went wrong.\n",
      "Something went wrong.\n",
      "Something went wrong.\n",
      "crawling page: 26\n",
      "reading work: http://archiveofourown.org/works/4095253\n",
      "Something went wrong.\n",
      "Something went wrong.\n",
      "Something went wrong.\n",
      "Something went wrong.\n",
      "Something went wrong.\n",
      "Something went wrong.\n",
      "Something went wrong.\n",
      "Something went wrong.\n",
      "Something went wrong.\n",
      "Something went wrong.\n",
      "Something went wrong.\n",
      "Something went wrong.\n",
      "Something went wrong.\n",
      "Something went wrong.\n",
      "Something went wrong.\n",
      "Something went wrong.\n",
      "Something went wrong.\n",
      "Something went wrong.\n",
      "Something went wrong.\n",
      "Something went wrong.\n",
      "Something went wrong.\n",
      "Something went wrong.\n",
      "Something went wrong.\n",
      "Something went wrong.\n",
      "Something went wrong.\n",
      "Something went wrong.\n",
      "Something went wrong.\n",
      "Something went wrong.\n",
      "Something went wrong.\n",
      "Something went wrong.\n",
      "Something went wrong.\n",
      "Something went wrong.\n",
      "crawling page: 51\n",
      "reading work: http://archiveofourown.org/works/5127167\n",
      "Something went wrong.\n",
      "Something went wrong.\n",
      "crawling page: 76\n",
      "reading work: http://archiveofourown.org/works/5060425\n",
      "Something went wrong.\n",
      "crawling page: 101\n",
      "reading work: http://archiveofourown.org/works/3914719\n",
      "crawling page: 126\n",
      "reading work: http://archiveofourown.org/works/4896487\n",
      "Something went wrong.\n",
      "Something went wrong.\n",
      "Something went wrong.\n",
      "Something went wrong.\n",
      "Something went wrong.\n",
      "Something went wrong.\n",
      "crawling page: 151\n",
      "reading work: http://archiveofourown.org/works/4804577\n"
     ]
    },
    {
     "ename": "KeyboardInterrupt",
     "evalue": "",
     "output_type": "error",
     "traceback": [
      "\u001b[0;31m---------------------------------------------------------------------------\u001b[0m",
      "\u001b[0;31mKeyboardInterrupt\u001b[0m                         Traceback (most recent call last)",
      "\u001b[0;32m<ipython-input-60-83a5139a8e8a>\u001b[0m in \u001b[0;36m<module>\u001b[0;34m()\u001b[0m\n\u001b[1;32m      8\u001b[0m     \u001b[0mworklist\u001b[0m \u001b[0;34m=\u001b[0m \u001b[0mfind_works\u001b[0m\u001b[0;34m(\u001b[0m\u001b[0mpage\u001b[0m\u001b[0;34m)\u001b[0m\u001b[0;34m\u001b[0m\u001b[0m\n\u001b[1;32m      9\u001b[0m     \u001b[0;32mfor\u001b[0m \u001b[0mw\u001b[0m \u001b[0;32min\u001b[0m \u001b[0mworklist\u001b[0m\u001b[0;34m:\u001b[0m\u001b[0;34m\u001b[0m\u001b[0m\n\u001b[0;32m---> 10\u001b[0;31m         \u001b[0mch_list\u001b[0m \u001b[0;34m=\u001b[0m \u001b[0mget_chapters\u001b[0m\u001b[0;34m(\u001b[0m\u001b[0mw\u001b[0m\u001b[0;34m)\u001b[0m\u001b[0;34m\u001b[0m\u001b[0m\n\u001b[0m\u001b[1;32m     11\u001b[0m         \u001b[0;32mif\u001b[0m \u001b[0mch_list\u001b[0m \u001b[0;34m!=\u001b[0m \u001b[0;34m[\u001b[0m\u001b[0;34m]\u001b[0m\u001b[0;34m:\u001b[0m\u001b[0;34m\u001b[0m\u001b[0m\n\u001b[1;32m     12\u001b[0m             \u001b[0mread_single_work\u001b[0m\u001b[0;34m(\u001b[0m\u001b[0mw\u001b[0m\u001b[0;34m)\u001b[0m\u001b[0;34m\u001b[0m\u001b[0m\n",
      "\u001b[0;32m<ipython-input-56-75f21178d314>\u001b[0m in \u001b[0;36mget_chapters\u001b[0;34m(url)\u001b[0m\n\u001b[1;32m      5\u001b[0m     \u001b[0;32mwhile\u001b[0m \u001b[0mnext_url\u001b[0m \u001b[0;34m!=\u001b[0m \u001b[0;34m''\u001b[0m\u001b[0;34m:\u001b[0m\u001b[0;34m\u001b[0m\u001b[0m\n\u001b[1;32m      6\u001b[0m         \u001b[0mchapters_list\u001b[0m\u001b[0;34m.\u001b[0m\u001b[0mappend\u001b[0m\u001b[0;34m(\u001b[0m\u001b[0mnext_url\u001b[0m\u001b[0;34m)\u001b[0m\u001b[0;34m\u001b[0m\u001b[0m\n\u001b[0;32m----> 7\u001b[0;31m         \u001b[0mnext_url\u001b[0m \u001b[0;34m=\u001b[0m \u001b[0mget_next_chapter\u001b[0m\u001b[0;34m(\u001b[0m\u001b[0mnext_url\u001b[0m\u001b[0;34m)\u001b[0m\u001b[0;34m\u001b[0m\u001b[0m\n\u001b[0m\u001b[1;32m      8\u001b[0m     \u001b[0;32mreturn\u001b[0m \u001b[0mchapters_list\u001b[0m\u001b[0;34m\u001b[0m\u001b[0m\n",
      "\u001b[0;32m<ipython-input-44-8235489bb143>\u001b[0m in \u001b[0;36mget_next_chapter\u001b[0;34m(url)\u001b[0m\n\u001b[1;32m      3\u001b[0m     \u001b[0mreq\u001b[0m \u001b[0;34m=\u001b[0m \u001b[0murllib2\u001b[0m\u001b[0;34m.\u001b[0m\u001b[0mRequest\u001b[0m\u001b[0;34m(\u001b[0m\u001b[0murl\u001b[0m\u001b[0;34m)\u001b[0m\u001b[0;34m\u001b[0m\u001b[0m\n\u001b[1;32m      4\u001b[0m     \u001b[0mopener\u001b[0m \u001b[0;34m=\u001b[0m \u001b[0murllib2\u001b[0m\u001b[0;34m.\u001b[0m\u001b[0mbuild_opener\u001b[0m\u001b[0;34m(\u001b[0m\u001b[0murllib2\u001b[0m\u001b[0;34m.\u001b[0m\u001b[0mHTTPCookieProcessor\u001b[0m\u001b[0;34m(\u001b[0m\u001b[0mcookie\u001b[0m\u001b[0;34m)\u001b[0m\u001b[0;34m)\u001b[0m\u001b[0;34m\u001b[0m\u001b[0m\n\u001b[0;32m----> 5\u001b[0;31m     \u001b[0mpage\u001b[0m \u001b[0;34m=\u001b[0m \u001b[0mbs\u001b[0m\u001b[0;34m(\u001b[0m\u001b[0mopener2\u001b[0m\u001b[0;34m.\u001b[0m\u001b[0mopen\u001b[0m\u001b[0;34m(\u001b[0m\u001b[0mreq\u001b[0m\u001b[0;34m)\u001b[0m\u001b[0;34m)\u001b[0m\u001b[0;34m\u001b[0m\u001b[0m\n\u001b[0m\u001b[1;32m      6\u001b[0m     \u001b[0mnext_chapter\u001b[0m \u001b[0;34m=\u001b[0m \u001b[0;34m''\u001b[0m\u001b[0;34m\u001b[0m\u001b[0m\n\u001b[1;32m      7\u001b[0m     \u001b[0;32mfor\u001b[0m \u001b[0mlink\u001b[0m \u001b[0;32min\u001b[0m \u001b[0mpage\u001b[0m\u001b[0;34m.\u001b[0m\u001b[0mfind_all\u001b[0m\u001b[0;34m(\u001b[0m\u001b[0;34m'a'\u001b[0m\u001b[0;34m)\u001b[0m\u001b[0;34m:\u001b[0m\u001b[0;34m\u001b[0m\u001b[0m\n",
      "\u001b[0;32m/Users/jingy/anaconda/lib/python2.7/urllib2.pyc\u001b[0m in \u001b[0;36mopen\u001b[0;34m(self, fullurl, data, timeout)\u001b[0m\n\u001b[1;32m    429\u001b[0m             \u001b[0mreq\u001b[0m \u001b[0;34m=\u001b[0m \u001b[0mmeth\u001b[0m\u001b[0;34m(\u001b[0m\u001b[0mreq\u001b[0m\u001b[0;34m)\u001b[0m\u001b[0;34m\u001b[0m\u001b[0m\n\u001b[1;32m    430\u001b[0m \u001b[0;34m\u001b[0m\u001b[0m\n\u001b[0;32m--> 431\u001b[0;31m         \u001b[0mresponse\u001b[0m \u001b[0;34m=\u001b[0m \u001b[0mself\u001b[0m\u001b[0;34m.\u001b[0m\u001b[0m_open\u001b[0m\u001b[0;34m(\u001b[0m\u001b[0mreq\u001b[0m\u001b[0;34m,\u001b[0m \u001b[0mdata\u001b[0m\u001b[0;34m)\u001b[0m\u001b[0;34m\u001b[0m\u001b[0m\n\u001b[0m\u001b[1;32m    432\u001b[0m \u001b[0;34m\u001b[0m\u001b[0m\n\u001b[1;32m    433\u001b[0m         \u001b[0;31m# post-process response\u001b[0m\u001b[0;34m\u001b[0m\u001b[0;34m\u001b[0m\u001b[0m\n",
      "\u001b[0;32m/Users/jingy/anaconda/lib/python2.7/urllib2.pyc\u001b[0m in \u001b[0;36m_open\u001b[0;34m(self, req, data)\u001b[0m\n\u001b[1;32m    447\u001b[0m         \u001b[0mprotocol\u001b[0m \u001b[0;34m=\u001b[0m \u001b[0mreq\u001b[0m\u001b[0;34m.\u001b[0m\u001b[0mget_type\u001b[0m\u001b[0;34m(\u001b[0m\u001b[0;34m)\u001b[0m\u001b[0;34m\u001b[0m\u001b[0m\n\u001b[1;32m    448\u001b[0m         result = self._call_chain(self.handle_open, protocol, protocol +\n\u001b[0;32m--> 449\u001b[0;31m                                   '_open', req)\n\u001b[0m\u001b[1;32m    450\u001b[0m         \u001b[0;32mif\u001b[0m \u001b[0mresult\u001b[0m\u001b[0;34m:\u001b[0m\u001b[0;34m\u001b[0m\u001b[0m\n\u001b[1;32m    451\u001b[0m             \u001b[0;32mreturn\u001b[0m \u001b[0mresult\u001b[0m\u001b[0;34m\u001b[0m\u001b[0m\n",
      "\u001b[0;32m/Users/jingy/anaconda/lib/python2.7/urllib2.pyc\u001b[0m in \u001b[0;36m_call_chain\u001b[0;34m(self, chain, kind, meth_name, *args)\u001b[0m\n\u001b[1;32m    407\u001b[0m             \u001b[0mfunc\u001b[0m \u001b[0;34m=\u001b[0m \u001b[0mgetattr\u001b[0m\u001b[0;34m(\u001b[0m\u001b[0mhandler\u001b[0m\u001b[0;34m,\u001b[0m \u001b[0mmeth_name\u001b[0m\u001b[0;34m)\u001b[0m\u001b[0;34m\u001b[0m\u001b[0m\n\u001b[1;32m    408\u001b[0m \u001b[0;34m\u001b[0m\u001b[0m\n\u001b[0;32m--> 409\u001b[0;31m             \u001b[0mresult\u001b[0m \u001b[0;34m=\u001b[0m \u001b[0mfunc\u001b[0m\u001b[0;34m(\u001b[0m\u001b[0;34m*\u001b[0m\u001b[0margs\u001b[0m\u001b[0;34m)\u001b[0m\u001b[0;34m\u001b[0m\u001b[0m\n\u001b[0m\u001b[1;32m    410\u001b[0m             \u001b[0;32mif\u001b[0m \u001b[0mresult\u001b[0m \u001b[0;32mis\u001b[0m \u001b[0;32mnot\u001b[0m \u001b[0mNone\u001b[0m\u001b[0;34m:\u001b[0m\u001b[0;34m\u001b[0m\u001b[0m\n\u001b[1;32m    411\u001b[0m                 \u001b[0;32mreturn\u001b[0m \u001b[0mresult\u001b[0m\u001b[0;34m\u001b[0m\u001b[0m\n",
      "\u001b[0;32m/Users/jingy/anaconda/lib/python2.7/urllib2.pyc\u001b[0m in \u001b[0;36mhttp_open\u001b[0;34m(self, req)\u001b[0m\n\u001b[1;32m   1225\u001b[0m \u001b[0;34m\u001b[0m\u001b[0m\n\u001b[1;32m   1226\u001b[0m     \u001b[0;32mdef\u001b[0m \u001b[0mhttp_open\u001b[0m\u001b[0;34m(\u001b[0m\u001b[0mself\u001b[0m\u001b[0;34m,\u001b[0m \u001b[0mreq\u001b[0m\u001b[0;34m)\u001b[0m\u001b[0;34m:\u001b[0m\u001b[0;34m\u001b[0m\u001b[0m\n\u001b[0;32m-> 1227\u001b[0;31m         \u001b[0;32mreturn\u001b[0m \u001b[0mself\u001b[0m\u001b[0;34m.\u001b[0m\u001b[0mdo_open\u001b[0m\u001b[0;34m(\u001b[0m\u001b[0mhttplib\u001b[0m\u001b[0;34m.\u001b[0m\u001b[0mHTTPConnection\u001b[0m\u001b[0;34m,\u001b[0m \u001b[0mreq\u001b[0m\u001b[0;34m)\u001b[0m\u001b[0;34m\u001b[0m\u001b[0m\n\u001b[0m\u001b[1;32m   1228\u001b[0m \u001b[0;34m\u001b[0m\u001b[0m\n\u001b[1;32m   1229\u001b[0m     \u001b[0mhttp_request\u001b[0m \u001b[0;34m=\u001b[0m \u001b[0mAbstractHTTPHandler\u001b[0m\u001b[0;34m.\u001b[0m\u001b[0mdo_request_\u001b[0m\u001b[0;34m\u001b[0m\u001b[0m\n",
      "\u001b[0;32m/Users/jingy/anaconda/lib/python2.7/urllib2.pyc\u001b[0m in \u001b[0;36mdo_open\u001b[0;34m(self, http_class, req, **http_conn_args)\u001b[0m\n\u001b[1;32m   1198\u001b[0m         \u001b[0;32melse\u001b[0m\u001b[0;34m:\u001b[0m\u001b[0;34m\u001b[0m\u001b[0m\n\u001b[1;32m   1199\u001b[0m             \u001b[0;32mtry\u001b[0m\u001b[0;34m:\u001b[0m\u001b[0;34m\u001b[0m\u001b[0m\n\u001b[0;32m-> 1200\u001b[0;31m                 \u001b[0mr\u001b[0m \u001b[0;34m=\u001b[0m \u001b[0mh\u001b[0m\u001b[0;34m.\u001b[0m\u001b[0mgetresponse\u001b[0m\u001b[0;34m(\u001b[0m\u001b[0mbuffering\u001b[0m\u001b[0;34m=\u001b[0m\u001b[0mTrue\u001b[0m\u001b[0;34m)\u001b[0m\u001b[0;34m\u001b[0m\u001b[0m\n\u001b[0m\u001b[1;32m   1201\u001b[0m             \u001b[0;32mexcept\u001b[0m \u001b[0mTypeError\u001b[0m\u001b[0;34m:\u001b[0m \u001b[0;31m# buffering kw not supported\u001b[0m\u001b[0;34m\u001b[0m\u001b[0m\n\u001b[1;32m   1202\u001b[0m                 \u001b[0mr\u001b[0m \u001b[0;34m=\u001b[0m \u001b[0mh\u001b[0m\u001b[0;34m.\u001b[0m\u001b[0mgetresponse\u001b[0m\u001b[0;34m(\u001b[0m\u001b[0;34m)\u001b[0m\u001b[0;34m\u001b[0m\u001b[0m\n",
      "\u001b[0;32m/Users/jingy/anaconda/lib/python2.7/httplib.pyc\u001b[0m in \u001b[0;36mgetresponse\u001b[0;34m(self, buffering)\u001b[0m\n\u001b[1;32m   1130\u001b[0m \u001b[0;34m\u001b[0m\u001b[0m\n\u001b[1;32m   1131\u001b[0m         \u001b[0;32mtry\u001b[0m\u001b[0;34m:\u001b[0m\u001b[0;34m\u001b[0m\u001b[0m\n\u001b[0;32m-> 1132\u001b[0;31m             \u001b[0mresponse\u001b[0m\u001b[0;34m.\u001b[0m\u001b[0mbegin\u001b[0m\u001b[0;34m(\u001b[0m\u001b[0;34m)\u001b[0m\u001b[0;34m\u001b[0m\u001b[0m\n\u001b[0m\u001b[1;32m   1133\u001b[0m             \u001b[0;32massert\u001b[0m \u001b[0mresponse\u001b[0m\u001b[0;34m.\u001b[0m\u001b[0mwill_close\u001b[0m \u001b[0;34m!=\u001b[0m \u001b[0m_UNKNOWN\u001b[0m\u001b[0;34m\u001b[0m\u001b[0m\n\u001b[1;32m   1134\u001b[0m             \u001b[0mself\u001b[0m\u001b[0;34m.\u001b[0m\u001b[0m__state\u001b[0m \u001b[0;34m=\u001b[0m \u001b[0m_CS_IDLE\u001b[0m\u001b[0;34m\u001b[0m\u001b[0m\n",
      "\u001b[0;32m/Users/jingy/anaconda/lib/python2.7/httplib.pyc\u001b[0m in \u001b[0;36mbegin\u001b[0;34m(self)\u001b[0m\n\u001b[1;32m    451\u001b[0m         \u001b[0;31m# read until we get a non-100 response\u001b[0m\u001b[0;34m\u001b[0m\u001b[0;34m\u001b[0m\u001b[0m\n\u001b[1;32m    452\u001b[0m         \u001b[0;32mwhile\u001b[0m \u001b[0mTrue\u001b[0m\u001b[0;34m:\u001b[0m\u001b[0;34m\u001b[0m\u001b[0m\n\u001b[0;32m--> 453\u001b[0;31m             \u001b[0mversion\u001b[0m\u001b[0;34m,\u001b[0m \u001b[0mstatus\u001b[0m\u001b[0;34m,\u001b[0m \u001b[0mreason\u001b[0m \u001b[0;34m=\u001b[0m \u001b[0mself\u001b[0m\u001b[0;34m.\u001b[0m\u001b[0m_read_status\u001b[0m\u001b[0;34m(\u001b[0m\u001b[0;34m)\u001b[0m\u001b[0;34m\u001b[0m\u001b[0m\n\u001b[0m\u001b[1;32m    454\u001b[0m             \u001b[0;32mif\u001b[0m \u001b[0mstatus\u001b[0m \u001b[0;34m!=\u001b[0m \u001b[0mCONTINUE\u001b[0m\u001b[0;34m:\u001b[0m\u001b[0;34m\u001b[0m\u001b[0m\n\u001b[1;32m    455\u001b[0m                 \u001b[0;32mbreak\u001b[0m\u001b[0;34m\u001b[0m\u001b[0m\n",
      "\u001b[0;32m/Users/jingy/anaconda/lib/python2.7/httplib.pyc\u001b[0m in \u001b[0;36m_read_status\u001b[0;34m(self)\u001b[0m\n\u001b[1;32m    407\u001b[0m     \u001b[0;32mdef\u001b[0m \u001b[0m_read_status\u001b[0m\u001b[0;34m(\u001b[0m\u001b[0mself\u001b[0m\u001b[0;34m)\u001b[0m\u001b[0;34m:\u001b[0m\u001b[0;34m\u001b[0m\u001b[0m\n\u001b[1;32m    408\u001b[0m         \u001b[0;31m# Initialize with Simple-Response defaults\u001b[0m\u001b[0;34m\u001b[0m\u001b[0;34m\u001b[0m\u001b[0m\n\u001b[0;32m--> 409\u001b[0;31m         \u001b[0mline\u001b[0m \u001b[0;34m=\u001b[0m \u001b[0mself\u001b[0m\u001b[0;34m.\u001b[0m\u001b[0mfp\u001b[0m\u001b[0;34m.\u001b[0m\u001b[0mreadline\u001b[0m\u001b[0;34m(\u001b[0m\u001b[0m_MAXLINE\u001b[0m \u001b[0;34m+\u001b[0m \u001b[0;36m1\u001b[0m\u001b[0;34m)\u001b[0m\u001b[0;34m\u001b[0m\u001b[0m\n\u001b[0m\u001b[1;32m    410\u001b[0m         \u001b[0;32mif\u001b[0m \u001b[0mlen\u001b[0m\u001b[0;34m(\u001b[0m\u001b[0mline\u001b[0m\u001b[0;34m)\u001b[0m \u001b[0;34m>\u001b[0m \u001b[0m_MAXLINE\u001b[0m\u001b[0;34m:\u001b[0m\u001b[0;34m\u001b[0m\u001b[0m\n\u001b[1;32m    411\u001b[0m             \u001b[0;32mraise\u001b[0m \u001b[0mLineTooLong\u001b[0m\u001b[0;34m(\u001b[0m\u001b[0;34m\"header line\"\u001b[0m\u001b[0;34m)\u001b[0m\u001b[0;34m\u001b[0m\u001b[0m\n",
      "\u001b[0;32m/Users/jingy/anaconda/lib/python2.7/socket.pyc\u001b[0m in \u001b[0;36mreadline\u001b[0;34m(self, size)\u001b[0m\n\u001b[1;32m    478\u001b[0m             \u001b[0;32mwhile\u001b[0m \u001b[0mTrue\u001b[0m\u001b[0;34m:\u001b[0m\u001b[0;34m\u001b[0m\u001b[0m\n\u001b[1;32m    479\u001b[0m                 \u001b[0;32mtry\u001b[0m\u001b[0;34m:\u001b[0m\u001b[0;34m\u001b[0m\u001b[0m\n\u001b[0;32m--> 480\u001b[0;31m                     \u001b[0mdata\u001b[0m \u001b[0;34m=\u001b[0m \u001b[0mself\u001b[0m\u001b[0;34m.\u001b[0m\u001b[0m_sock\u001b[0m\u001b[0;34m.\u001b[0m\u001b[0mrecv\u001b[0m\u001b[0;34m(\u001b[0m\u001b[0mself\u001b[0m\u001b[0;34m.\u001b[0m\u001b[0m_rbufsize\u001b[0m\u001b[0;34m)\u001b[0m\u001b[0;34m\u001b[0m\u001b[0m\n\u001b[0m\u001b[1;32m    481\u001b[0m                 \u001b[0;32mexcept\u001b[0m \u001b[0merror\u001b[0m\u001b[0;34m,\u001b[0m \u001b[0me\u001b[0m\u001b[0;34m:\u001b[0m\u001b[0;34m\u001b[0m\u001b[0m\n\u001b[1;32m    482\u001b[0m                     \u001b[0;32mif\u001b[0m \u001b[0me\u001b[0m\u001b[0;34m.\u001b[0m\u001b[0margs\u001b[0m\u001b[0;34m[\u001b[0m\u001b[0;36m0\u001b[0m\u001b[0;34m]\u001b[0m \u001b[0;34m==\u001b[0m \u001b[0mEINTR\u001b[0m\u001b[0;34m:\u001b[0m\u001b[0;34m\u001b[0m\u001b[0m\n",
      "\u001b[0;31mKeyboardInterrupt\u001b[0m: "
     ]
    }
   ],
   "source": [
    "#main loop\n",
    "write_header(outfile)\n",
    "start_time = time.clock()\n",
    "count = 0\n",
    "\n",
    "for i in range(1,max_page+1,25):\n",
    "    page = find_page(start, i)\n",
    "    worklist = find_works(page)\n",
    "    for w in worklist:\n",
    "        ch_list = get_chapters(w)\n",
    "        if ch_list != []:\n",
    "            read_single_work(w)\n",
    "            for ch in ch_list:\n",
    "                read_single_work(ch)\n",
    "        else:\n",
    "            read_single_work(w)\n",
    "        count += 1\n",
    "        \n",
    "#     if count%20 == 0:\n",
    "    print 'crawling page:', i\n",
    "#         print 'reading work:', w\n",
    "\n",
    "print 'Saved %s works from %s pages of tag %s in %s seconds .' %(count, i, 'Sherlock', str(time.clock() - start_time))        "
   ]
  },
  {
   "cell_type": "code",
   "execution_count": null,
   "metadata": {
    "collapsed": true
   },
   "outputs": [],
   "source": []
  },
  {
   "cell_type": "code",
   "execution_count": null,
   "metadata": {
    "collapsed": true
   },
   "outputs": [],
   "source": []
  },
  {
   "cell_type": "code",
   "execution_count": null,
   "metadata": {
    "collapsed": true
   },
   "outputs": [],
   "source": []
  },
  {
   "cell_type": "code",
   "execution_count": null,
   "metadata": {
    "collapsed": true
   },
   "outputs": [],
   "source": []
  },
  {
   "cell_type": "code",
   "execution_count": 248,
   "metadata": {
    "collapsed": false
   },
   "outputs": [],
   "source": [
    "#unfinished parser for download page, see above.\n",
    "# def create_work_dict_dlpage(url, contents):\n",
    "#     #get work metadata and contents into a dictrionary.\n",
    "#     print 'Getting work information from:', url\n",
    "# #     try:\n",
    "#     work = {}\n",
    "    \n",
    "#     work['Rating'] = str(re.findall('Rating:ANot Rated|Rating:AGeneral Audiences|Rating:ATeen And Up Audiences|Rating:AMature|Rating:AExplicit',contents)[0]).strip()\n",
    "#     work['Archive Warning'] = re.findall('Archive Warning:ACreator Chose Not To Use Archive Warnings|Archive Warning:AGraphic Depictions Of Violence|Archive Warning:AMajor Character Death|Archive Warning:ANo Archive Warnings Apply|Archive Warning:ARape/Non-Con|Archive Warning:AUnderage',contents)[0].strip()\n",
    "#     work['Fandoms'] = [i for i in re.findall('Fandoms:A(.*?)A|Fandom:A(.*?)A',contents)[0] if i != ''][0].strip()\n",
    "    \n",
    "#     category = re.findall('Category:AF/F|Category:AF/M|Category:AGen|Category:AM/M|Category:AMulti|Category:AOther',contents)[0].strip()\n",
    "#     if category == []:\n",
    "#         work['Category'] = ''\n",
    "#     else:\n",
    "#         work['Category'] = category[0].strip()\n",
    "    \n",
    "#     relationship = re.findall('Relationship:A(.*?)A',contents)\n",
    "#     if relationship == []:\n",
    "#         work['Relationship'] = ''\n",
    "#     else:\n",
    "#         work['Relationship'] = relationship[0].strip()\n",
    "        \n",
    "#     characters = re.findall('Characters:A(.*?)A',contents)\n",
    "#     if characters == []:\n",
    "#         work['Characters'] = ''\n",
    "#     else:\n",
    "#         work['Characters'] = characters[0].strip()\n",
    "        \n",
    "#     additional = re.findall('Additional Tags:A(.*?)A',contents)\n",
    "#     if additional == []:\n",
    "#         work['Additional Tags'] = ''\n",
    "#     else:\n",
    "#         work['Additional Tags'] = additional[0].strip()\n",
    "    \n",
    "#     language = re.findall('Language:A      AA(.*?)A      A',contents)\n",
    "#     if language == []:\n",
    "#         work['Language'] = ''\n",
    "#     else:\n",
    "#         work['Language'] = language[0].strip()\n",
    "    \n",
    "#     stats = re.findall('Stats:AAA(.*?)AAAAAAAA',contents)\n",
    "#     if stats == []:\n",
    "#         work['Stats'] = ''\n",
    "#     else:\n",
    "#         work['Stats'] = stats[0].strip()\n",
    "    \n",
    "#     author = re.findall('A    AA(.*?)AAA',contents)\n",
    "#     if author == []:\n",
    "#         work['Author'] = ''\n",
    "#     else:\n",
    "#         work['Author'] = author[0].strip()\n",
    "    \n",
    "#     text = re.findall('Work Text:(.*?)AAAAAAAA|Chapter TextA(.*?)AAAAA',contents)\n",
    "#     if text == []:\n",
    "#         work['Test'] = ''\n",
    "#     else:\n",
    "#         work['Text']= [i for i in text[0] if i != ''][0].strip()\n",
    "    \n",
    "#     title = re.findall('AAAAAAAA      (.*?)A    AA',contents)\n",
    "#     if title == []:\n",
    "#         work['Title'] = ''\n",
    "#     else:\n",
    "#         work['Title']  = title[0].strip()\n",
    "    \n",
    "#     summary = re.findall('Summary:AAA(.*?)AAAAA',contents)\n",
    "#     if summary == []:\n",
    "#         work['Summary'] = ''\n",
    "#     else:\n",
    "#         work['Summary'] = summary[0].strip()\n",
    "\n",
    "        \n",
    "#     notes = re.findall('Notes:AA(.*?)AA',contents)\n",
    "#     if notes == []:\n",
    "#         work['Notes'] = ''\n",
    "#     else:\n",
    "#         work['Notes'] = notes[0].strip()\n",
    "        \n",
    "#     print 'Finished with:', url\n",
    "# #     except:\n",
    "# #         print 'Something went wrong.'\n",
    "#     return work"
   ]
  }
 ],
 "metadata": {
  "kernelspec": {
   "display_name": "Python 2",
   "language": "python",
   "name": "python2"
  },
  "language_info": {
   "codemirror_mode": {
    "name": "ipython",
    "version": 2
   },
   "file_extension": ".py",
   "mimetype": "text/x-python",
   "name": "python",
   "nbconvert_exporter": "python",
   "pygments_lexer": "ipython2",
   "version": "2.7.10"
  }
 },
 "nbformat": 4,
 "nbformat_minor": 0
}
