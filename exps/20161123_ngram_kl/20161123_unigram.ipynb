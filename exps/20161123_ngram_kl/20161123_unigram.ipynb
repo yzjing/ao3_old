{
 "cells": [
  {
   "cell_type": "code",
   "execution_count": 1,
   "metadata": {
    "collapsed": true
   },
   "outputs": [],
   "source": [
    "from sklearn.feature_extraction.text import CountVectorizer\n",
    "import numpy as np\n",
    "from time import time\n",
    "import pandas as pd\n",
    "import re\n",
    "from scipy import sparse"
   ]
  },
  {
   "cell_type": "code",
   "execution_count": 39,
   "metadata": {
    "collapsed": false
   },
   "outputs": [],
   "source": [
    "def get_distribution_matrix(corpus, ngram, mindf):\n",
    "    vectorizer = CountVectorizer(stop_words='english', ngram_range=(ngram,ngram),min_df=mindf)\n",
    "    f = vectorizer.fit_transform(corpus)\n",
    "#     print(f.shape)\n",
    "    l = len(vectorizer.get_feature_names())\n",
    "    return np.divide(f, l)"
   ]
  },
  {
   "cell_type": "code",
   "execution_count": 24,
   "metadata": {
    "collapsed": true
   },
   "outputs": [],
   "source": [
    "def calc_kl(p, q):\n",
    "    return sum([p[i]*(np.log2(p[i]/q[i])) for i in range(len(p))])"
   ]
  },
  {
   "cell_type": "code",
   "execution_count": 25,
   "metadata": {
    "collapsed": true
   },
   "outputs": [],
   "source": [
    "def create_df_time(df, time):\n",
    "    return df[df.PublishDate.str[:7] == time]"
   ]
  },
  {
   "cell_type": "code",
   "execution_count": 3,
   "metadata": {
    "collapsed": false
   },
   "outputs": [],
   "source": [
    "df = pd.read_csv('../../data/shakespare_william_works_preprocessed.tsv', sep = '\\t')"
   ]
  },
  {
   "cell_type": "code",
   "execution_count": 7,
   "metadata": {
    "collapsed": true
   },
   "outputs": [],
   "source": [
    "doc = []\n",
    "for i in df.Text.tolist():\n",
    "    #Remove some non-ascii characters and 'aa's\n",
    "    i = re.sub(r'aA|aa', 'a', i)\n",
    "    i = re.sub(r'\\\\xe2........|\\\\xc|\\\\xa|\\\\n|[0123456789*_]', '', i)\n",
    "    doc.append(i)  "
   ]
  },
  {
   "cell_type": "code",
   "execution_count": 23,
   "metadata": {
    "collapsed": false
   },
   "outputs": [
    {
     "name": "stdout",
     "output_type": "stream",
     "text": [
      "(3586, 24164)\n"
     ]
    },
    {
     "data": {
      "text/plain": [
       "<3586x24164 sparse matrix of type '<class 'numpy.float64'>'\n",
       "\twith 1596876 stored elements in Compressed Sparse Row format>"
      ]
     },
     "execution_count": 23,
     "metadata": {},
     "output_type": "execute_result"
    }
   ],
   "source": [
    "get_distribution_matrix(doc, 1)"
   ]
  },
  {
   "cell_type": "code",
   "execution_count": 26,
   "metadata": {
    "collapsed": false
   },
   "outputs": [],
   "source": [
    "timelist = df.PublishDate.drop_duplicates().tolist()\n",
    "timelist = [str(i)[:7] for i in timelist]\n",
    "timelist = sorted(list(set(timelist)))"
   ]
  },
  {
   "cell_type": "code",
   "execution_count": 40,
   "metadata": {
    "collapsed": false
   },
   "outputs": [
    {
     "name": "stderr",
     "output_type": "stream",
     "text": [
      "/Users/jingy/anaconda/envs/python35/lib/python3.5/site-packages/numpy/core/_methods.py:59: RuntimeWarning: Mean of empty slice.\n",
      "  warnings.warn(\"Mean of empty slice.\", RuntimeWarning)\n"
     ]
    },
    {
     "name": "stdout",
     "output_type": "stream",
     "text": [
      "done in 37.685s.\n"
     ]
    }
   ],
   "source": [
    "cnt = 0\n",
    "kl_all = []\n",
    "t0 = time()\n",
    "min_df = 3\n",
    "for t in timelist:\n",
    "    df_t = create_df_time(df, t)\n",
    "#     print(len(df_t))\n",
    "    if len(df_t) > min_df:\n",
    "        doc = []\n",
    "        for i in df_t.Text.tolist():\n",
    "            #Remove some non-ascii characters and 'aa's\n",
    "            i = re.sub(r'aA|aa', 'a', i)\n",
    "            i = re.sub(r'\\\\xe2........|\\\\xc|\\\\xa|\\\\n|[0123456789*_]', '', i)\n",
    "            doc.append(i)  \n",
    "        m = get_distribution_matrix(doc,1,min_df)\n",
    "        std = sparse.csr_matrix.mean(m, axis=0)\n",
    "        std = np.asarray(std)[0]\n",
    "        kl_month = []\n",
    "        for row in m.toarray():\n",
    "            kl = calc_kl(row, std)\n",
    "            if not np.isnan(kl):\n",
    "                kl_month.append(kl)\n",
    "        kl_all.append(np.average(kl_month))\n",
    "print(\"done in %0.3fs.\" % (time() - t0))"
   ]
  },
  {
   "cell_type": "code",
   "execution_count": 41,
   "metadata": {
    "collapsed": false
   },
   "outputs": [
    {
     "name": "stdout",
     "output_type": "stream",
     "text": [
      "102 78\n"
     ]
    }
   ],
   "source": [
    "print (len(timelist), len(kl_all))"
   ]
  },
  {
   "cell_type": "code",
   "execution_count": null,
   "metadata": {
    "collapsed": true
   },
   "outputs": [],
   "source": []
  }
 ],
 "metadata": {
  "anaconda-cloud": {},
  "kernelspec": {
   "display_name": "Python [py27]",
   "language": "python",
   "name": "Python [py27]"
  },
  "language_info": {
   "codemirror_mode": {
    "name": "ipython",
    "version": 2
   },
   "file_extension": ".py",
   "mimetype": "text/x-python",
   "name": "python",
   "nbconvert_exporter": "python",
   "pygments_lexer": "ipython2",
   "version": "2.7.11"
  }
 },
 "nbformat": 4,
 "nbformat_minor": 0
}
