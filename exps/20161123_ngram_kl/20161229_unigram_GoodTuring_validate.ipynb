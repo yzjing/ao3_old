{
 "cells": [
  {
   "cell_type": "code",
   "execution_count": 3,
   "metadata": {
    "collapsed": false
   },
   "outputs": [],
   "source": [
    "from sklearn.feature_extraction.text import CountVectorizer\n",
    "import numpy as np\n",
    "import pandas as pd\n",
    "import re\n",
    "import sys\n",
    "sys.path.append('../../util/')\n",
    "# import sgt\n",
    "from collections import Counter\n",
    "from nltk.stem.snowball import EnglishStemmer\n",
    "import matplotlib.pyplot as plt\n",
    "%matplotlib inline\n",
    "import random\n",
    "import pickle"
   ]
  },
  {
   "cell_type": "code",
   "execution_count": 2,
   "metadata": {
    "collapsed": false
   },
   "outputs": [],
   "source": [
    "st = EnglishStemmer()"
   ]
  },
  {
   "cell_type": "code",
   "execution_count": 3,
   "metadata": {
    "collapsed": false
   },
   "outputs": [],
   "source": [
    "# create a corpus to give to sklearn\n",
    "def create_corpus_for_voc(df):\n",
    "    doc = []\n",
    "    for i in df.Text.tolist():\n",
    "        #Remove some non-ascii characters and 'aa's\n",
    "        i = re.sub(r'aA|aa', 'a', i)\n",
    "        i = re.sub(r'\\\\xe2........|\\\\xc|\\\\xa|\\\\n|[0123456789*_]', '', i)\n",
    "        i = i.lower()\n",
    "        doc.append(i)  \n",
    "    return doc"
   ]
  },
  {
   "cell_type": "code",
   "execution_count": 4,
   "metadata": {
    "collapsed": false
   },
   "outputs": [],
   "source": [
    "# Get a vocabulary using sklearn's filtering\n",
    "def get_voc(corpus, ngram, mindf):\n",
    "    vectorizer = CountVectorizer(stop_words='english', ngram_range=(ngram,ngram),min_df=mindf)\n",
    "    f = vectorizer.fit_transform(corpus)\n",
    "    return set(sorted(vectorizer.get_feature_names()))"
   ]
  },
  {
   "cell_type": "code",
   "execution_count": 5,
   "metadata": {
    "collapsed": true
   },
   "outputs": [],
   "source": [
    "# compute unigram-frequency dict using the same preprocessing, using only words from the vocabulary\n",
    "def create_unigram_freq_dict(df, voc):\n",
    "    text = []\n",
    "    for line in df.Text.tolist():\n",
    "        line = re.sub(r'aA|aa', 'a', line)\n",
    "        line = re.sub(r'\\\\xe2........|\\\\xc|\\\\xa|\\\\n|[0123456789*_]', '', line).lower()\n",
    "        line = re.findall(u'(?u)\\\\b\\\\w\\\\w+\\\\b', line)\n",
    "        line = [st.stem(word) for word in line if word in voc]\n",
    "        text.append(dict(Counter(line)))\n",
    "    return text"
   ]
  },
  {
   "cell_type": "code",
   "execution_count": 6,
   "metadata": {
    "collapsed": true
   },
   "outputs": [],
   "source": [
    "def create_timelist(df):\n",
    "    timelist = df.PublishDate.drop_duplicates().tolist()\n",
    "    timelist = [str(i)[:7] for i in timelist]\n",
    "    return sorted(list(set(timelist)))"
   ]
  },
  {
   "cell_type": "code",
   "execution_count": 7,
   "metadata": {
    "collapsed": true
   },
   "outputs": [],
   "source": [
    "def create_df_time(df, time):\n",
    "    return df[df.PublishDate.str[:7] == time]"
   ]
  },
  {
   "cell_type": "code",
   "execution_count": 8,
   "metadata": {
    "collapsed": false
   },
   "outputs": [],
   "source": [
    "# calculate unigram probabilities by simple Good Turing smoothing.\n",
    "# imput: unigram-freq dict\n",
    "# output: unigram-prob dict, mimic of a document-term matrix\n",
    "# if unigram is in this doc, prob = the unigram prob calculated by sgt\n",
    "# otherwise, prob = the probability given to \"all unknown unigrams\" by sgt\n",
    "def calc_sgt(line_dict, voc):\n",
    "    prob_line = []\n",
    "    sgt_line = sgt.simpleGoodTuringProbs(line_dict)\n",
    "    num_abs_words = len(voc - set(line_dict.keys()))\n",
    "    for word in voc:\n",
    "        if word in line_dict.keys():\n",
    "            prob_line.append(sgt_line[0][word])\n",
    "        else:\n",
    "            prob_line.append(sgt_line[1]/float(num_abs_words))\n",
    "    return prob_line"
   ]
  },
  {
   "cell_type": "code",
   "execution_count": 9,
   "metadata": {
    "collapsed": true
   },
   "outputs": [],
   "source": [
    "def calc_kl(p, q):\n",
    "    return sum([p[i]*(np.log2(p[i]/q[i])) for i in range(len(p))])"
   ]
  },
  {
   "cell_type": "code",
   "execution_count": 10,
   "metadata": {
    "collapsed": true
   },
   "outputs": [],
   "source": [
    "def bootstrap_resample(li):\n",
    "    if len(li) > 0:\n",
    "        ave_original = np.average(li)\n",
    "        aves = []\n",
    "        for i in range(100):\n",
    "            sample = []\n",
    "            for i in range(len(li)):\n",
    "                sample.append(random.choice(li))\n",
    "            aves.append(np.average(sample))\n",
    "        tail = sorted(aves)[2]\n",
    "        head = sorted(aves)[97]\n",
    "        return (ave_original, tail, head)"
   ]
  },
  {
   "cell_type": "code",
   "execution_count": 11,
   "metadata": {
    "collapsed": false
   },
   "outputs": [],
   "source": [
    "def calc_window_kl(df, min_df):\n",
    "    # len(df_t) must > min_df\n",
    "    # tune this for filtering?\n",
    "\n",
    "    # output of the following pipeline:\n",
    "    # a list of lists, each list containing sgt word probablity\n",
    "    # word order is supposed to be the same\n",
    "    corp = create_corpus_for_voc(df)\n",
    "    sgt_list = []\n",
    "    vocab = get_voc(corp,1,min_df)\n",
    "    unigram_dict = create_unigram_freq_dict(df, vocab)\n",
    "    for i in unigram_dict:\n",
    "        sgt_list.append(calc_sgt(i, vocab))\n",
    "\n",
    "    # calculate kl.\n",
    "    # std: \"standard work\", average of the numpy matrix\n",
    "    # calculate kl of each work - std work in each month\n",
    "    # then use the average as kl of the month\n",
    "    sgt_array = np.asarray(sgt_list)\n",
    "#     std = np.mean(sgt_array, axis=0)\n",
    "    kl_window = []\n",
    "    for i in range(len(sgt_array)):\n",
    "        for j in range(i+1, len(sgt_array)):\n",
    "            kl = calc_kl(sgt_array[i],sgt_array[j])\n",
    "            kl_window.append(kl)\n",
    "    return [i for i in kl_window if not np.isnan(i) and not np.isinf(i)]"
   ]
  },
  {
   "cell_type": "code",
   "execution_count": 12,
   "metadata": {
    "collapsed": false
   },
   "outputs": [],
   "source": [
    "df = pd.read_csv('../../data/shakespare_william_works_preprocessed.tsv', sep = '\\t')"
   ]
  },
  {
   "cell_type": "code",
   "execution_count": 15,
   "metadata": {
    "collapsed": false
   },
   "outputs": [
    {
     "data": {
      "text/plain": [
       "'Lady_Loki'"
      ]
     },
     "execution_count": 15,
     "metadata": {},
     "output_type": "execute_result"
    }
   ],
   "source": [
    "# df['Author'].value_counts().head(1).index.tolist()[0]"
   ]
  },
  {
   "cell_type": "code",
   "execution_count": 17,
   "metadata": {
    "collapsed": false
   },
   "outputs": [
    {
     "name": "stdout",
     "output_type": "stream",
     "text": [
      "99\n",
      "p0 = 0.241781\n",
      "Regression: log(z) = -2.346570*log(r) + 6.378936\n",
      "p0 = 0.283237\n",
      "Regression: log(z) = -2.181430*log(r) + 5.724200\n",
      "p0 = 0.195082\n",
      "Regression: log(z) = -2.085542*log(r) + 5.821099\n",
      "p0 = 0.226457\n",
      "Regression: log(z) = -2.282423*log(r) + 6.254448\n",
      "p0 = 0.240376\n",
      "Regression: log(z) = -2.318484*log(r) + 6.027175\n",
      "p0 = 0.214112\n",
      "Regression: log(z) = -2.271316*log(r) + 6.148041\n",
      "p0 = 0.228807\n",
      "Regression: log(z) = -2.344039*log(r) + 6.249469\n",
      "p0 = 0.245317\n",
      "Regression: log(z) = -2.393623*log(r) + 6.271575\n",
      "p0 = 0.245740\n",
      "Regression: log(z) = -2.374127*log(r) + 6.173034\n",
      "p0 = 0.203184\n",
      "Regression: log(z) = -2.281404*log(r) + 6.146719\n",
      "p0 = 0.172751\n",
      "Regression: log(z) = -2.158653*log(r) + 6.152354\n",
      "p0 = 0.185185\n",
      "Regression: log(z) = -2.221142*log(r) + 6.090240\n",
      "p0 = 0.252560\n",
      "Regression: log(z) = -2.179276*log(r) + 5.900457\n",
      "p0 = 0.203645\n",
      "Regression: log(z) = -2.043360*log(r) + 5.692864\n",
      "p0 = 0.242537\n",
      "Regression: log(z) = -2.354989*log(r) + 6.086672\n",
      "p0 = 0.211306\n",
      "Regression: log(z) = -2.263802*log(r) + 6.283771\n",
      "p0 = 0.217692\n",
      "Regression: log(z) = -2.062918*log(r) + 5.828034\n",
      "p0 = 0.206847\n",
      "Regression: log(z) = -2.251496*log(r) + 6.211017\n",
      "p0 = 0.203731\n",
      "Regression: log(z) = -2.263686*log(r) + 6.190941\n",
      "p0 = 0.195451\n",
      "Regression: log(z) = -2.152254*log(r) + 5.956299\n",
      "p0 = 0.251106\n",
      "Regression: log(z) = -1.960244*log(r) + 5.433130\n",
      "p0 = 0.171044\n",
      "Regression: log(z) = -2.145922*log(r) + 6.096659\n",
      "p0 = 0.227682\n",
      "Regression: log(z) = -2.144663*log(r) + 5.831512\n",
      "p0 = 0.201192\n",
      "Regression: log(z) = -2.256097*log(r) + 6.130255\n",
      "p0 = 0.226556\n",
      "Regression: log(z) = -2.305389*log(r) + 6.094562\n",
      "p0 = 0.247280\n",
      "Regression: log(z) = -2.259744*log(r) + 5.909482\n",
      "p0 = 0.221291\n",
      "Regression: log(z) = -2.035769*log(r) + 5.757658\n",
      "p0 = 0.224454\n",
      "Regression: log(z) = -2.307273*log(r) + 6.166112\n",
      "p0 = 0.235245\n",
      "Regression: log(z) = -2.172104*log(r) + 5.879049\n",
      "p0 = 0.217806\n",
      "Regression: log(z) = -2.252210*log(r) + 6.091042\n",
      "p0 = 0.220930\n",
      "Regression: log(z) = -2.195628*log(r) + 5.863743\n",
      "p0 = 0.206360\n",
      "Regression: log(z) = -2.030164*log(r) + 5.811863\n",
      "p0 = 0.202365\n",
      "Regression: log(z) = -2.278044*log(r) + 6.337320\n",
      "p0 = 0.220948\n",
      "Regression: log(z) = -2.246088*log(r) + 6.119443\n",
      "p0 = 0.171139\n",
      "Regression: log(z) = -2.149155*log(r) + 6.138554\n",
      "p0 = 0.165455\n",
      "Regression: log(z) = -2.238963*log(r) + 6.382874\n",
      "p0 = 0.193252\n",
      "Regression: log(z) = -2.287257*log(r) + 6.178651\n",
      "p0 = 0.213073\n",
      "Regression: log(z) = -2.204516*log(r) + 6.026711\n",
      "p0 = 0.228499\n",
      "Regression: log(z) = -2.281906*log(r) + 6.092013\n",
      "p0 = 0.214672\n",
      "Regression: log(z) = -2.232095*log(r) + 6.116200\n",
      "p0 = 0.229740\n",
      "Regression: log(z) = -2.110575*log(r) + 5.848239\n",
      "p0 = 0.223892\n",
      "Regression: log(z) = -2.282747*log(r) + 6.097530\n",
      "p0 = 0.210373\n",
      "Regression: log(z) = -2.272405*log(r) + 6.245592\n",
      "p0 = 0.211152\n",
      "Regression: log(z) = -2.165878*log(r) + 6.053661\n",
      "p0 = 0.252656\n",
      "Regression: log(z) = -2.408624*log(r) + 6.386086\n",
      "p0 = 0.197226\n",
      "Regression: log(z) = -2.192820*log(r) + 6.247419\n",
      "p0 = 0.192034\n",
      "Regression: log(z) = -2.063529*log(r) + 5.900278\n",
      "p0 = 0.232389\n",
      "Regression: log(z) = -2.286204*log(r) + 6.133037\n",
      "p0 = 0.894737\n",
      "Regression: log(z) = -4.087463*log(r) + 3.526361\n",
      "p0 = 0.223270\n",
      "Regression: log(z) = -2.210505*log(r) + 6.308573\n",
      "p0 = 0.185117\n",
      "Regression: log(z) = -2.037798*log(r) + 6.060215\n",
      "p0 = 0.227503\n",
      "Regression: log(z) = -2.452461*log(r) + 6.690444\n",
      "p0 = 0.169381\n",
      "Regression: log(z) = -2.239594*log(r) + 6.485894\n",
      "p0 = 0.195195\n",
      "Regression: log(z) = -2.317551*log(r) + 6.481619\n",
      "p0 = 0.220523\n",
      "Regression: log(z) = -2.305951*log(r) + 6.392619\n",
      "p0 = 0.224786\n",
      "Regression: log(z) = -2.422878*log(r) + 6.569102\n",
      "p0 = 0.210084\n",
      "Regression: log(z) = -2.221807*log(r) + 6.261815\n",
      "p0 = 0.238519\n",
      "Regression: log(z) = -2.285176*log(r) + 6.195611\n",
      "p0 = 0.198418\n",
      "Regression: log(z) = -2.351398*log(r) + 6.556638\n",
      "p0 = 0.207654\n",
      "Regression: log(z) = -2.254441*log(r) + 6.192896\n",
      "p0 = 0.208966\n",
      "Regression: log(z) = -2.381948*log(r) + 6.424338\n",
      "p0 = 0.215026\n",
      "Regression: log(z) = -2.473466*log(r) + 6.605359\n",
      "p0 = 0.182512\n",
      "Regression: log(z) = -2.294994*log(r) + 6.557081\n",
      "p0 = 0.187811\n",
      "Regression: log(z) = -2.228147*log(r) + 6.362458\n",
      "p0 = 0.196330\n",
      "Regression: log(z) = -2.358253*log(r) + 6.524097\n",
      "p0 = 0.178594\n",
      "Regression: log(z) = -2.321317*log(r) + 6.466561\n",
      "p0 = 0.190446\n",
      "Regression: log(z) = -2.213558*log(r) + 6.251323\n",
      "p0 = 0.199399\n",
      "Regression: log(z) = -2.181327*log(r) + 6.271071\n",
      "p0 = 0.208986\n",
      "Regression: log(z) = -2.388869*log(r) + 6.499976\n",
      "p0 = 0.234172\n",
      "Regression: log(z) = -2.209651*log(r) + 5.952467\n",
      "p0 = 0.188276\n",
      "Regression: log(z) = -2.186126*log(r) + 6.152867\n",
      "p0 = 0.156148\n",
      "Regression: log(z) = -2.122068*log(r) + 6.055338\n",
      "p0 = 0.192211\n",
      "Regression: log(z) = -2.259480*log(r) + 6.340693\n",
      "p0 = 0.202524\n",
      "Regression: log(z) = -2.372678*log(r) + 6.567423\n",
      "p0 = 0.183377\n",
      "Regression: log(z) = -2.201855*log(r) + 6.142163\n",
      "p0 = 0.223861\n",
      "Regression: log(z) = -2.447540*log(r) + 6.642830\n",
      "p0 = 0.220282\n",
      "Regression: log(z) = -2.397605*log(r) + 6.478593\n",
      "p0 = 0.225032\n",
      "Regression: log(z) = -1.991443*log(r) + 5.776309\n",
      "p0 = 0.181707\n",
      "Regression: log(z) = -2.178757*log(r) + 6.256900\n",
      "p0 = 0.203623\n",
      "Regression: log(z) = -2.439214*log(r) + 6.514706\n",
      "p0 = 0.197009\n",
      "Regression: log(z) = -2.368620*log(r) + 6.468013\n",
      "p0 = 0.203643\n",
      "Regression: log(z) = -2.216804*log(r) + 6.258041\n",
      "p0 = 0.203201\n",
      "Regression: log(z) = -2.294828*log(r) + 6.302866\n",
      "p0 = 0.220117\n",
      "Regression: log(z) = -2.231116*log(r) + 6.183464\n",
      "p0 = 0.243394\n",
      "Regression: log(z) = -2.412762*log(r) + 6.455086\n",
      "p0 = 0.185835\n",
      "Regression: log(z) = -2.086085*log(r) + 6.092477\n",
      "p0 = 0.196286\n",
      "Regression: log(z) = -2.233244*log(r) + 6.243848\n",
      "p0 = 0.214836\n",
      "Regression: log(z) = -2.362154*log(r) + 6.404555\n",
      "p0 = 0.216993\n",
      "Regression: log(z) = -2.410426*log(r) + 6.575129\n",
      "p0 = 0.247934\n",
      "Regression: log(z) = -2.412711*log(r) + 6.625233\n",
      "p0 = 0.205357\n",
      "Regression: log(z) = -1.992131*log(r) + 5.714852\n",
      "p0 = 0.169772\n",
      "Regression: log(z) = -2.235236*log(r) + 6.302470\n",
      "p0 = 0.221668\n",
      "Regression: log(z) = -2.450756*log(r) + 6.510101\n",
      "p0 = 0.203057\n",
      "Regression: log(z) = -2.163963*log(r) + 6.120809\n",
      "p0 = 0.221574\n",
      "Regression: log(z) = -2.326173*log(r) + 6.331639\n",
      "p0 = 0.225161\n",
      "Regression: log(z) = -2.383765*log(r) + 6.398227\n",
      "p0 = 0.178284\n",
      "Regression: log(z) = -2.275634*log(r) + 6.395065\n",
      "p0 = 0.222222\n",
      "Regression: log(z) = -2.304552*log(r) + 6.330376\n",
      "p0 = 0.230658\n",
      "Regression: log(z) = -2.423253*log(r) + 6.483432\n",
      "p0 = 0.678947\n",
      "Regression: log(z) = -2.707959*log(r) + 4.691786\n",
      "p0 = 0.551471\n",
      "Regression: log(z) = -2.709949*log(r) + 4.709136\n",
      "p0 = 0.429812\n",
      "Regression: log(z) = -2.609910*log(r) + 5.797179\n",
      "p0 = 0.340045\n",
      "Regression: log(z) = -2.387327*log(r) + 4.996508\n",
      "p0 = 0.356568\n",
      "Regression: log(z) = -2.360792*log(r) + 5.416093\n",
      "p0 = 0.545455\n",
      "Regression: log(z) = -3.008269*log(r) + 4.913808\n",
      "p0 = 0.274266\n",
      "Regression: log(z) = -2.326877*log(r) + 5.734090\n",
      "p0 = 0.930233\n",
      "Regression: log(z) = -3.619622*log(r) + 3.283414\n",
      "Warning: reached unobserved count before crossing the smoothing threshold.\n",
      "p0 = 0.648649\n",
      "Regression: log(z) = -2.767055*log(r) + 4.160200\n",
      "p0 = 0.406326\n",
      "Regression: log(z) = -2.556293*log(r) + 5.390720\n",
      "p0 = 0.446866\n",
      "Regression: log(z) = -2.542934*log(r) + 5.157632\n",
      "p0 = 0.339181\n",
      "Regression: log(z) = -2.451618*log(r) + 5.974623\n",
      "p0 = 0.204390\n",
      "Regression: log(z) = -2.236116*log(r) + 6.096887\n",
      "p0 = 0.464789\n",
      "Regression: log(z) = -2.608576*log(r) + 4.561047\n",
      "p0 = 0.437722\n",
      "Regression: log(z) = -2.944152*log(r) + 5.960441\n",
      "p0 = 0.398625\n",
      "Regression: log(z) = -2.771817*log(r) + 5.948492\n",
      "p0 = 0.462963\n",
      "Regression: log(z) = -1.309625*log(r) + 2.462361\n",
      "Warning: reached unobserved count before crossing the smoothing threshold.\n",
      "p0 = 0.416021\n",
      "Regression: log(z) = -2.756627*log(r) + 6.122202\n",
      "p0 = 0.348875\n",
      "Regression: log(z) = -2.482500*log(r) + 5.564483\n",
      "p0 = 0.353723\n",
      "Regression: log(z) = -2.420314*log(r) + 5.732075\n",
      "p0 = 0.210458\n",
      "Regression: log(z) = -2.459934*log(r) + 6.987707\n",
      "p0 = 0.638298\n",
      "Regression: log(z) = -2.988612*log(r) + 3.567327\n",
      "p0 = 0.388312\n",
      "Regression: log(z) = -2.438385*log(r) + 5.714657\n",
      "p0 = 0.598485\n",
      "Regression: log(z) = -2.902901*log(r) + 4.544998\n",
      "p0 = 0.355330\n",
      "Regression: log(z) = -2.579326*log(r) + 5.854842\n",
      "p0 = 0.276517\n",
      "Regression: log(z) = -2.525583*log(r) + 6.690871\n",
      "p0 = 0.709497\n",
      "Regression: log(z) = -3.252387*log(r) + 4.877795\n",
      "p0 = 0.555046\n",
      "Regression: log(z) = -2.870821*log(r) + 5.500907\n",
      "p0 = 0.256122\n",
      "Regression: log(z) = -2.139039*log(r) + 5.649372\n",
      "p0 = 0.623188\n",
      "Regression: log(z) = -2.736827*log(r) + 4.306371\n",
      "p0 = 0.392857\n",
      "Regression: log(z) = -2.265904*log(r) + 5.532039\n",
      "p0 = 0.513458\n",
      "Regression: log(z) = -3.098934*log(r) + 5.829877\n",
      "p0 = 0.434470\n",
      "Regression: log(z) = -2.626731*log(r) + 5.638980\n",
      "p0 = 0.792079\n",
      "Regression: log(z) = -3.898596*log(r) + 4.521533\n",
      "p0 = 0.429194\n",
      "Regression: log(z) = -2.682802*log(r) + 5.472331\n",
      "p0 = 0.360197\n",
      "Regression: log(z) = -2.729594*log(r) + 5.942488\n",
      "p0 = 0.152128\n",
      "Regression: log(z) = -2.143266*log(r) + 6.037923\n",
      "p0 = 0.455067\n",
      "Regression: log(z) = -2.625672*log(r) + 5.333500\n",
      "p0 = 0.863636\n",
      "Regression: log(z) = -3.662965*log(r) + 3.637586\n",
      "p0 = 0.420290\n",
      "Regression: log(z) = -2.548260*log(r) + 5.889599\n",
      "p0 = 0.603550\n",
      "Regression: log(z) = -2.708513*log(r) + 4.484558\n",
      "p0 = 0.349624\n",
      "Regression: log(z) = -2.056403*log(r) + 4.772857\n",
      "p0 = 0.600000\n",
      "Regression: log(z) = -2.918979*log(r) + 4.988833\n",
      "p0 = 0.773585\n",
      "Regression: log(z) = -2.772590*log(r) + 3.713572\n",
      "p0 = 0.365768\n",
      "Regression: log(z) = -2.628903*log(r) + 6.198389\n",
      "p0 = 0.947368\n",
      "Regression: log(z) = -5.169925*log(r) + 3.583519\n",
      "p0 = 0.851064\n",
      "Regression: log(z) = -3.514573*log(r) + 4.382027\n",
      "p0 = 0.848485\n",
      "Regression: log(z) = -3.224158*log(r) + 3.036374\n",
      "p0 = 0.576923\n",
      "Regression: log(z) = -2.749098*log(r) + 4.857247\n",
      "p0 = 0.556522\n",
      "Regression: log(z) = -2.473080*log(r) + 4.609274\n",
      "p0 = 0.091663\n",
      "Regression: log(z) = -1.832797*log(r) + 6.807145\n",
      "p0 = 0.195641\n",
      "Regression: log(z) = -2.374420*log(r) + 6.645658\n",
      "p0 = 0.418182\n",
      "Regression: log(z) = -2.656714*log(r) + 4.837456\n",
      "p0 = 0.320000\n",
      "Regression: log(z) = -2.676363*log(r) + 6.443102\n",
      "p0 = 0.495327\n",
      "Regression: log(z) = -2.371932*log(r) + 4.364264\n",
      "p0 = 0.187168\n",
      "Regression: log(z) = -2.454237*log(r) + 6.988749\n",
      "p0 = 0.564356\n",
      "Regression: log(z) = -2.622417*log(r) + 3.881840\n",
      "p0 = 0.354260\n",
      "Regression: log(z) = -2.393397*log(r) + 4.257748\n",
      "p0 = 0.254054\n",
      "Regression: log(z) = -2.398776*log(r) + 6.294408\n",
      "p0 = 0.551351\n",
      "Regression: log(z) = -3.045887*log(r) + 4.920152\n",
      "p0 = 0.563025\n",
      "Regression: log(z) = -3.175566*log(r) + 4.370378\n",
      "p0 = 0.245943\n",
      "Regression: log(z) = -2.192242*log(r) + 6.043142\n",
      "p0 = 0.456081\n",
      "Regression: log(z) = -2.548564*log(r) + 4.935736\n",
      "p0 = 0.262215\n",
      "Regression: log(z) = -2.256015*log(r) + 6.008803\n",
      "p0 = 0.341533\n",
      "Regression: log(z) = -2.582914*log(r) + 6.226311\n",
      "p0 = 0.579545\n",
      "Regression: log(z) = -2.960644*log(r) + 5.134219\n",
      "p0 = 0.279972\n",
      "Regression: log(z) = -2.387138*log(r) + 6.450699\n",
      "p0 = 0.108879\n",
      "Regression: log(z) = -1.967162*log(r) + 6.862836\n",
      "p0 = 0.473684\n",
      "Regression: log(z) = -2.155843*log(r) + 3.780531\n",
      "p0 = 0.684211\n",
      "Regression: log(z) = -2.115477*log(r) + 3.258097\n",
      "p0 = 0.351744\n",
      "Regression: log(z) = -2.544280*log(r) + 5.843189\n",
      "p0 = 0.275099\n",
      "Regression: log(z) = -2.108158*log(r) + 5.575996\n",
      "p0 = 0.343092\n",
      "Regression: log(z) = -2.595956*log(r) + 6.271413\n",
      "p0 = 0.409195\n",
      "Regression: log(z) = -2.230414*log(r) + 5.106470\n",
      "p0 = 0.567416\n",
      "Regression: log(z) = -2.657985*log(r) + 4.580087\n",
      "p0 = 0.911111\n",
      "Regression: log(z) = -4.357552*log(r) + 3.713572\n",
      "p0 = 0.539683\n",
      "Regression: log(z) = -2.470412*log(r) + 3.638879\n",
      "p0 = 0.319386\n",
      "Regression: log(z) = -2.637761*log(r) + 6.525013\n",
      "p0 = 0.340090\n",
      "Regression: log(z) = -2.574738*log(r) + 5.444634\n",
      "p0 = 0.625498\n",
      "Regression: log(z) = -2.100453*log(r) + 4.103292\n",
      "p0 = 0.534483\n",
      "Regression: log(z) = -2.774311*log(r) + 5.328143\n",
      "p0 = 0.712963\n",
      "Regression: log(z) = -3.415488*log(r) + 4.420829\n",
      "p0 = 0.629032\n",
      "Regression: log(z) = -2.040284*log(r) + 3.102170\n",
      "p0 = 0.474359\n",
      "Regression: log(z) = -2.753094*log(r) + 5.049766\n",
      "p0 = 0.800000\n",
      "Regression: log(z) = -2.837881*log(r) + 3.374068\n",
      "p0 = 0.803030\n",
      "Regression: log(z) = -3.591526*log(r) + 4.004960\n",
      "p0 = 0.363636\n",
      "Regression: log(z) = -2.234031*log(r) + 5.073643\n",
      "p0 = 0.221370\n",
      "Regression: log(z) = -2.392874*log(r) + 6.681507\n",
      "p0 = 0.866667\n",
      "Regression: log(z) = -3.700440*log(r) + 3.258097\n",
      "p0 = 0.408385\n",
      "Regression: log(z) = -2.357019*log(r) + 5.497664\n",
      "p0 = 0.482036\n",
      "Regression: log(z) = -2.548104*log(r) + 4.978273\n",
      "p0 = 0.281487\n",
      "Regression: log(z) = -2.512411*log(r) + 6.500226\n",
      "p0 = 0.666667\n",
      "Regression: log(z) = -3.097906*log(r) + 4.556843\n",
      "p0 = 0.324570\n",
      "Regression: log(z) = -2.412948*log(r) + 6.179350\n",
      "p0 = 0.388235\n",
      "Regression: log(z) = -2.337067*log(r) + 4.879513\n",
      "p0 = 0.245305\n",
      "Regression: log(z) = -2.529957*log(r) + 6.742846\n",
      "p0 = 0.702479\n",
      "Regression: log(z) = -3.300992*log(r) + 4.547870\n",
      "p0 = 0.226277\n",
      "Regression: log(z) = -2.389885*log(r) + 6.385267\n",
      "p0 = 0.355301\n",
      "Regression: log(z) = -2.480805*log(r) + 5.719781\n"
     ]
    },
    {
     "name": "stderr",
     "output_type": "stream",
     "text": [
      "/Users/jingy/anaconda/envs/py27/lib/python2.7/site-packages/scipy/linalg/basic.py:884: RuntimeWarning: internal gelsd driver lwork query error, required iwork dimension not returned. This is likely the result of LAPACK bug 0038, fixed in LAPACK 3.2.2 (released July 21, 2010). Falling back to 'gelss' driver.\n",
      "  warnings.warn(mesg, RuntimeWarning)\n"
     ]
    }
   ],
   "source": [
    "min_df = 2\n",
    "kl_Au_all = []\n",
    "kl_nonAu_all = []\n",
    "authors = df['Author'].drop_duplicates().tolist()\n",
    "for author in authors:\n",
    "    df_Au = df[df.Author == author]\n",
    "    if len(df_Au) > 1:\n",
    "        kl_Au = calc_window_kl(df_Au, min_df)\n",
    "        kl_Au = bootstrap_resample(kl_Au)\n",
    "        df_nonAu = df[df.Author != author]\n",
    "        kl_nonAu = calc_window_kl(df_nonAu, min_df)\n",
    "        kl_nonAu = bootstrap_resample(kl_nonAu)\n",
    "        kl_Au_all.append(kl_Au)\n",
    "        kl_nonAu_all.append(kl_nonAu)"
   ]
  },
  {
   "cell_type": "code",
   "execution_count": null,
   "metadata": {
    "collapsed": true
   },
   "outputs": [],
   "source": []
  },
  {
   "cell_type": "code",
   "execution_count": 7,
   "metadata": {
    "collapsed": false
   },
   "outputs": [],
   "source": [
    "kl_Au_all = pickle.load(open('kl_Au_all.p', 'rb'))\n",
    "kl_nonAu_all = pickle.load(open('kl_nonAu_all.p', 'rb'))"
   ]
  },
  {
   "cell_type": "code",
   "execution_count": 5,
   "metadata": {
    "collapsed": false
   },
   "outputs": [
    {
     "data": {
      "text/plain": [
       "(1.0415093372693804, 1.0001447114426538, 1.0855094815601753)"
      ]
     },
     "execution_count": 5,
     "metadata": {},
     "output_type": "execute_result"
    }
   ],
   "source": [
    "kl_Au_all[0]"
   ]
  },
  {
   "cell_type": "code",
   "execution_count": 23,
   "metadata": {
    "collapsed": false
   },
   "outputs": [
    {
     "data": {
      "image/png": "[encoded data removed]",
      "text/plain": [
       "<matplotlib.figure.Figure at 0x1144facf8>"
      ]
     },
     "metadata": {},
     "output_type": "display_data"
    }
   ],
   "source": [
    "fig = plt.figure()\n",
    "ax1 = plt.axes()\n",
    "lower_error1 = [1.0403474308409972 - 1.0463718782461646]\n",
    "upper_error1 = [1.0536013834657572 - 1.0403474308409972]\n",
    "asymmetric_error1 =[lower_error1, upper_error1]\n",
    "p1 = [1, 1.0403474308409972]\n",
    "\n",
    "lower_error2 = [1.8987887570376696 - 1.912839459038669]\n",
    "upper_error2 = [1.9294063426786272 - 1.8987887570376696]\n",
    "asymmetric_error2 =[lower_error2, upper_error2]\n",
    "p2 = [2, 1.8987887570376696]\n",
    "\n",
    "plt.errorbar(p1[0], p1[1], yerr=asymmetric_error1,fmt='o', label='Same author')\n",
    "plt.errorbar(p2[0], p2[1], yerr=asymmetric_error2,fmt='o', label='Random sample')\n",
    "plt.xlim(0,3)\n",
    "plt.legend(loc='lower right')\n",
    "ax1.axes.get_xaxis().set_visible(False)\n",
    "plt.ylabel('KL divergence')\n",
    "\n",
    "plt.savefig('kl_validation.png', format = 'png')\n"
   ]
  },
  {
   "cell_type": "code",
   "execution_count": 35,
   "metadata": {
    "collapsed": false
   },
   "outputs": [
    {
     "name": "stdout",
     "output_type": "stream",
     "text": [
      "0.0597381138357 0.0606873135631\n"
     ]
    }
   ],
   "source": [
    "lower_error1 = np.average( [i[0] for i in kl_Au_all]) - np.average([i[1] for i in kl_Au_all] )\n",
    "upper_error1 = np.average([i[2] for i in kl_Au_all]) - np.average( [i[0] for i in kl_Au_all])\n",
    "print(lower_error1, upper_error1)"
   ]
  },
  {
   "cell_type": "code",
   "execution_count": 38,
   "metadata": {
    "collapsed": false
   },
   "outputs": [
    {
     "name": "stdout",
     "output_type": "stream",
     "text": [
      "0.0904250856214 0.0940191186992\n"
     ]
    }
   ],
   "source": [
    "lower_error2 = np.average([i[0] for i in kl_nonAu_all]) - np.average([i[1] for i in kl_nonAu_all]) \n",
    "upper_error2 =  np.average([i[2] for i in kl_nonAu_all]) -np.average([i[0] for i in kl_nonAu_all])\n",
    "print(lower_error2, upper_error2)"
   ]
  },
  {
   "cell_type": "code",
   "execution_count": 40,
   "metadata": {
    "collapsed": false
   },
   "outputs": [
    {
     "data": {
      "image/png": "[encoded data removed]",
      "text/plain": [
       "<matplotlib.figure.Figure at 0x11515a7f0>"
      ]
     },
     "metadata": {},
     "output_type": "display_data"
    }
   ],
   "source": [
    "fig = plt.figure()\n",
    "ax1 = plt.axes()\n",
    "lower_error1 = [0.120425427399]\n",
    "upper_error1 = [0.0606873135631]\n",
    "asymmetric_error1 =[lower_error1, upper_error1]\n",
    "p1 = [1, np.average([i[1] for i in kl_Au_all])]\n",
    "\n",
    "lower_error2 = [0.0904250856214]\n",
    "upper_error2 = [0.0940191186992]\n",
    "asymmetric_error2 =[lower_error2, upper_error2]\n",
    "p2 = [2, np.average([i[1] for i in kl_nonAu_all])]\n",
    "\n",
    "\n",
    "plt.errorbar(p1[0], p1[1], yerr=asymmetric_error1,fmt='o', label='Same author')\n",
    "plt.errorbar(p2[0], p2[1], yerr=asymmetric_error2,fmt='o', label='Random sample')\n",
    "plt.xlim(0,3)\n",
    "plt.legend(loc='lower right')\n",
    "ax1.axes.get_xaxis().set_visible(False)\n",
    "plt.ylabel('KL divergence', fontsize = 14)\n",
    "\n",
    "plt.savefig('kl_validation.png', format = 'png')\n"
   ]
  },
  {
   "cell_type": "code",
   "execution_count": null,
   "metadata": {
    "collapsed": true
   },
   "outputs": [],
   "source": []
  }
 ],
 "metadata": {
  "anaconda-cloud": {},
  "kernelspec": {
   "display_name": "Python [python35]",
   "language": "python",
   "name": "Python [python35]"
  },
  "language_info": {
   "codemirror_mode": {
    "name": "ipython",
    "version": 3
   },
   "file_extension": ".py",
   "mimetype": "text/x-python",
   "name": "python",
   "nbconvert_exporter": "python",
   "pygments_lexer": "ipython3",
   "version": "3.5.2"
  }
 },
 "nbformat": 4,
 "nbformat_minor": 0
}
