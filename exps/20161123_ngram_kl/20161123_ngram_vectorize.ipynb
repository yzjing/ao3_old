{
 "cells": [
  {
   "cell_type": "code",
   "execution_count": 38,
   "metadata": {
    "collapsed": true
   },
   "outputs": [],
   "source": [
    "from sklearn.feature_extraction.text import CountVectorizer\n",
    "import numpy as np\n",
    "from time import time\n",
    "import pandas as pd\n",
    "import re\n",
    "from scipy import sparse"
   ]
  },
  {
   "cell_type": "code",
   "execution_count": 60,
   "metadata": {
    "collapsed": false
   },
   "outputs": [],
   "source": [
    "def get_distribution_matrix(corpus, ngram):\n",
    "    vectorizer = CountVectorizer(stop_words='english', ngram_range = (ngram,ngram))\n",
    "    f = vectorizer.fit_transform(corpus)\n",
    "    l = len(vectorizer.get_feature_names())\n",
    "    return np.divide(f, l)"
   ]
  },
  {
   "cell_type": "code",
   "execution_count": 21,
   "metadata": {
    "collapsed": true
   },
   "outputs": [],
   "source": [
    "def calc_kl(p, q):\n",
    "    return sum([p[i]*(np.log2(p[i]/q[i])) for i in range(len(p))])"
   ]
  },
  {
   "cell_type": "code",
   "execution_count": 32,
   "metadata": {
    "collapsed": true
   },
   "outputs": [],
   "source": [
    "def create_df_time(df, time):\n",
    "    return df[df.PublishDate.str[:7] == time]"
   ]
  },
  {
   "cell_type": "code",
   "execution_count": 34,
   "metadata": {
    "collapsed": false
   },
   "outputs": [],
   "source": [
    "df = pd.read_csv('../../data/shakespare_william_works_preprocessed.tsv', sep = '\\t')"
   ]
  },
  {
   "cell_type": "code",
   "execution_count": 35,
   "metadata": {
    "collapsed": false
   },
   "outputs": [],
   "source": [
    "timelist = df.PublishDate.drop_duplicates().tolist()\n",
    "timelist = [str(i)[:7] for i in timelist]\n",
    "timelist = sorted(list(set(timelist)))"
   ]
  },
  {
   "cell_type": "code",
   "execution_count": 98,
   "metadata": {
    "collapsed": false
   },
   "outputs": [
    {
     "name": "stdout",
     "output_type": "stream",
     "text": [
      "done in 526.889s.\n"
     ]
    }
   ],
   "source": [
    "cnt = 0\n",
    "kl_all = []\n",
    "t0 = time()\n",
    "for t in timelist:\n",
    "    df_t = create_df_time(df, t)\n",
    "#     if len(df_t) > 1:\n",
    "    doc = []\n",
    "    for i in df_t.Text.tolist():\n",
    "        #Remove some non-ascii characters and 'aa's\n",
    "        i = re.sub(r'aA|aa', 'a', i)\n",
    "        i = re.sub(r'\\\\xe2........|\\\\xc|\\\\xa|\\\\n|[0123456789*_]', '', i)\n",
    "        doc.append(i)  \n",
    "    m = get_distribution_matrix(doc,2)\n",
    "    std = sparse.csr_matrix.mean(m, axis=0)\n",
    "    std = np.asarray(std)[0]+1\n",
    "    kl_month = []\n",
    "    for row in m.toarray():\n",
    "        kl = calc_kl(row+1, std)\n",
    "        if not np.isnan(kl):\n",
    "            kl_month.append(kl)\n",
    "    kl_all.append(np.average(kl_month))\n",
    "print(\"done in %0.3fs.\" % (time() - t0))"
   ]
  },
  {
   "cell_type": "code",
   "execution_count": 100,
   "metadata": {
    "collapsed": false
   },
   "outputs": [
    {
     "name": "stdout",
     "output_type": "stream",
     "text": [
      "102 102\n"
     ]
    }
   ],
   "source": [
    "print (len(timelist), len(kl_all))"
   ]
  },
  {
   "cell_type": "code",
   "execution_count": 101,
   "metadata": {
    "collapsed": false
   },
   "outputs": [
    {
     "data": {
      "text/plain": [
       "[0.0,\n",
       " 6.774010259664216e-06,\n",
       " 0.00010066387720741865,\n",
       " 0.0,\n",
       " 0.0,\n",
       " 1.1592331577791542e-06,\n",
       " 4.6246928024224381e-06,\n",
       " 0.00030266309129331481,\n",
       " 0.00010809637913791748,\n",
       " 0.0,\n",
       " 0.00013539512578101634,\n",
       " 0.0,\n",
       " 0.00010377850423898272,\n",
       " 0.00012491303009245133,\n",
       " 5.057089394988612e-05,\n",
       " 5.8282525328523516e-05,\n",
       " 0.00026684066940979578,\n",
       " 3.0837672802412819e-06,\n",
       " 4.2518657594905106e-05,\n",
       " 0.00037919694216587141,\n",
       " 0.00058032625565718199,\n",
       " 0.00011161100129714052,\n",
       " 9.6387002513205936e-05,\n",
       " 0.00014931284301172854,\n",
       " 6.6027983467220608e-05,\n",
       " 4.4436183575506195e-05,\n",
       " 0.0,\n",
       " 4.2154836929750306e-05,\n",
       " 4.2141362258454884e-07,\n",
       " 2.8068167722191086e-06,\n",
       " 1.5770993330136668e-05,\n",
       " 3.014318083429668e-05,\n",
       " 3.3072672167838714e-05,\n",
       " 2.7185597184046597e-06,\n",
       " 0.0017957185550147581,\n",
       " 7.0993265568894779e-06,\n",
       " 1.923903090476353e-06,\n",
       " 2.6413556193167182e-06,\n",
       " 0.00022508868880583011,\n",
       " 3.8484031126432127e-05,\n",
       " 1.0189396274138458e-05,\n",
       " 2.438841406835271e-06,\n",
       " 1.2288170492106265e-06,\n",
       " 1.4519419564094072e-05,\n",
       " 2.6160114603104394e-05,\n",
       " 6.2321177018915902e-07,\n",
       " 5.148450177881967e-06,\n",
       " 4.8043909748393278e-05,\n",
       " 6.0883501412306717e-07,\n",
       " 1.8320095754193065e-05,\n",
       " 5.8561981693102974e-06,\n",
       " 1.6444279977961829e-05,\n",
       " 2.479784016609643e-05,\n",
       " 1.5255665903469995e-05,\n",
       " 1.4351859080049792e-05,\n",
       " 4.9501126747203417e-06,\n",
       " 2.7471483995714205e-06,\n",
       " 3.3455961976438347e-06,\n",
       " 1.4970307663051483e-06,\n",
       " 2.0677054603932368e-06,\n",
       " 9.8144192769036622e-08,\n",
       " 1.3626426685624871e-06,\n",
       " 2.0243973374723319e-06,\n",
       " 9.3314566560807729e-07,\n",
       " 2.1521312135093522e-07,\n",
       " 3.2457837456515218e-07,\n",
       " 1.9837313866920279e-06,\n",
       " 5.5918130621610366e-07,\n",
       " 1.9087146877418498e-07,\n",
       " 1.3660257353108175e-06,\n",
       " 4.484484046140082e-07,\n",
       " 7.6966535881318554e-07,\n",
       " 2.8732588122779507e-07,\n",
       " 1.5974169659620589e-06,\n",
       " 9.3446134860395205e-07,\n",
       " 2.7502756670227772e-07,\n",
       " 1.6786479642213249e-06,\n",
       " 1.1233744175140827e-06,\n",
       " 7.1105620639852881e-07,\n",
       " 4.3195730542743625e-07,\n",
       " 1.3526066683043612e-07,\n",
       " 3.5947307288529697e-07,\n",
       " 3.9302479621045994e-07,\n",
       " 8.3810109263813409e-07,\n",
       " 7.2344389659262456e-08,\n",
       " 4.2811587500987261e-07,\n",
       " 6.125092204176846e-07,\n",
       " 1.1640763497812026e-07,\n",
       " 2.2858302829162309e-07,\n",
       " 3.0321910706603646e-07,\n",
       " 1.0914852751438341e-07,\n",
       " 1.4418184668840402e-07,\n",
       " 8.3691277236114977e-08,\n",
       " 1.6403801204428298e-07,\n",
       " 2.6574144279456258e-07,\n",
       " 1.6194958084786873e-07,\n",
       " 1.5866274371294386e-07,\n",
       " 7.8682117867870266e-08,\n",
       " 8.4918948807451936e-08,\n",
       " 8.3307591327609626e-08,\n",
       " 1.3280747110041429e-07,\n",
       " 9.3869405914825578e-08]"
      ]
     },
     "execution_count": 101,
     "metadata": {},
     "output_type": "execute_result"
    }
   ],
   "source": [
    "kl_all"
   ]
  },
  {
   "cell_type": "code",
   "execution_count": 81,
   "metadata": {
    "collapsed": true
   },
   "outputs": [],
   "source": [
    "test = ['cat cat dog',\n",
    "       'sheep cat dog']"
   ]
  },
  {
   "cell_type": "code",
   "execution_count": 82,
   "metadata": {
    "collapsed": false
   },
   "outputs": [],
   "source": [
    "mt = get_distribution_matrix(test,1)"
   ]
  },
  {
   "cell_type": "code",
   "execution_count": 83,
   "metadata": {
    "collapsed": true
   },
   "outputs": [],
   "source": [
    "stdt = sparse.csr_matrix.mean(mt, axis=0)"
   ]
  },
  {
   "cell_type": "code",
   "execution_count": 84,
   "metadata": {
    "collapsed": false
   },
   "outputs": [
    {
     "name": "stdout",
     "output_type": "stream",
     "text": [
      "[[ 0.66666667  0.33333333  0.        ]\n",
      " [ 0.33333333  0.33333333  0.33333333]]\n"
     ]
    }
   ],
   "source": [
    "print(mt.toarray())"
   ]
  },
  {
   "cell_type": "code",
   "execution_count": 85,
   "metadata": {
    "collapsed": false
   },
   "outputs": [
    {
     "name": "stdout",
     "output_type": "stream",
     "text": [
      "  (0, 0)\t0.666666666667\n",
      "  (0, 1)\t0.333333333333\n",
      "  (1, 0)\t0.333333333333\n",
      "  (1, 1)\t0.333333333333\n",
      "  (1, 2)\t0.333333333333\n"
     ]
    }
   ],
   "source": [
    "print(mt)"
   ]
  },
  {
   "cell_type": "code",
   "execution_count": 86,
   "metadata": {
    "collapsed": false
   },
   "outputs": [
    {
     "name": "stdout",
     "output_type": "stream",
     "text": [
      "0.138345833093\n"
     ]
    }
   ],
   "source": [
    "for row in mt.toarray():\n",
    "    kl = calc_kl(row, np.asarray(stdt)[0])\n",
    "    if not np.isnan(kl):\n",
    "        print(kl)"
   ]
  },
  {
   "cell_type": "code",
   "execution_count": 88,
   "metadata": {
    "collapsed": false
   },
   "outputs": [
    {
     "data": {
      "text/plain": [
       "array([ 1.5       ,  1.33333333,  1.16666667])"
      ]
     },
     "execution_count": 88,
     "metadata": {},
     "output_type": "execute_result"
    }
   ],
   "source": [
    "np.asarray(stdt)[0]+1"
   ]
  },
  {
   "cell_type": "code",
   "execution_count": null,
   "metadata": {
    "collapsed": true
   },
   "outputs": [],
   "source": []
  }
 ],
 "metadata": {
  "anaconda-cloud": {},
  "kernelspec": {
   "display_name": "Python [python35]",
   "language": "python",
   "name": "Python [python35]"
  },
  "language_info": {
   "codemirror_mode": {
    "name": "ipython",
    "version": 3
   },
   "file_extension": ".py",
   "mimetype": "text/x-python",
   "name": "python",
   "nbconvert_exporter": "python",
   "pygments_lexer": "ipython3",
   "version": "3.5.2"
  }
 },
 "nbformat": 4,
 "nbformat_minor": 0
}
