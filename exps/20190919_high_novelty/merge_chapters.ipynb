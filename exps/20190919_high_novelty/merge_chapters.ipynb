{
 "cells": [
  {
   "cell_type": "code",
   "execution_count": 27,
   "metadata": {},
   "outputs": [],
   "source": [
    "import pandas as pd\n",
    "from datetime import date\n"
   ]
  },
  {
   "cell_type": "code",
   "execution_count": 2,
   "metadata": {},
   "outputs": [],
   "source": [
    "df = pd.read_csv('../../data/shakespare_william_works_preprocessed.tsv', sep = '\\t')\n"
   ]
  },
  {
   "cell_type": "code",
   "execution_count": 3,
   "metadata": {},
   "outputs": [
    {
     "data": {
      "text/plain": [
       "array(['AdditionalTags', 'ArchiveWarnings', 'Author', 'Bookmarks',\n",
       "       'Category', 'ChapterIndex', 'Chapters', 'Characters', 'Comments',\n",
       "       'CompleteDate', 'Fandoms', 'Hits', 'Kudos', 'Language', 'Notes',\n",
       "       'PublishDate', 'Rating', 'Relationship', 'Summary', 'Text',\n",
       "       'Title', 'URL', 'UpdateDate', 'Words'], dtype=object)"
      ]
     },
     "execution_count": 3,
     "metadata": {},
     "output_type": "execute_result"
    }
   ],
   "source": [
    "df.columns.values"
   ]
  },
  {
   "cell_type": "code",
   "execution_count": 41,
   "metadata": {},
   "outputs": [],
   "source": [
    "def earlist_date(cell):\n",
    "    cell = cell.values\n",
    "    y, m, d = cell[0].split('-')\n",
    "    min_date = date.today()\n",
    "    conv_date = date(int(y), int(m), int(d))\n",
    "    if conv_date < min_date:\n",
    "        min_date = conv_date\n",
    "    return min_date\n",
    "    "
   ]
  },
  {
   "cell_type": "code",
   "execution_count": 42,
   "metadata": {},
   "outputs": [],
   "source": [
    "grp = df.groupby(['AdditionalTags', 'ArchiveWarnings', 'Author', 'Bookmarks', 'Category',\n",
    "'Chapters', 'Characters', 'Fandoms', 'Hits', 'Kudos', 'Language', \n",
    "'Rating', 'Relationship', 'Title', 'Words'])\\\n",
    ".agg({'Text':' '.join, 'PublishDate': lambda x: earlist_date(x)}),\\\n",
    ".reset_index()"
   ]
  },
  {
   "cell_type": "code",
   "execution_count": 43,
   "metadata": {},
   "outputs": [
    {
     "data": {
      "text/plain": [
       "1019"
      ]
     },
     "execution_count": 43,
     "metadata": {},
     "output_type": "execute_result"
    }
   ],
   "source": [
    "len(grp)"
   ]
  },
  {
   "cell_type": "code",
   "execution_count": 44,
   "metadata": {},
   "outputs": [
    {
     "data": {
      "text/html": [
       "<div>\n",
       "<style scoped>\n",
       "    .dataframe tbody tr th:only-of-type {\n",
       "        vertical-align: middle;\n",
       "    }\n",
       "\n",
       "    .dataframe tbody tr th {\n",
       "        vertical-align: top;\n",
       "    }\n",
       "\n",
       "    .dataframe thead th {\n",
       "        text-align: right;\n",
       "    }\n",
       "</style>\n",
       "<table border=\"1\" class=\"dataframe\">\n",
       "  <thead>\n",
       "    <tr style=\"text-align: right;\">\n",
       "      <th></th>\n",
       "      <th>AdditionalTags</th>\n",
       "      <th>ArchiveWarnings</th>\n",
       "      <th>Author</th>\n",
       "      <th>Bookmarks</th>\n",
       "      <th>Category</th>\n",
       "      <th>Chapters</th>\n",
       "      <th>Characters</th>\n",
       "      <th>Fandoms</th>\n",
       "      <th>Hits</th>\n",
       "      <th>Kudos</th>\n",
       "      <th>Language</th>\n",
       "      <th>Rating</th>\n",
       "      <th>Relationship</th>\n",
       "      <th>Title</th>\n",
       "      <th>Words</th>\n",
       "      <th>Text</th>\n",
       "      <th>PublishDate</th>\n",
       "    </tr>\n",
       "  </thead>\n",
       "  <tbody>\n",
       "    <tr>\n",
       "      <td>0</td>\n",
       "      <td>1980s, Post-Canon, Established Relationship</td>\n",
       "      <td>No Archive Warnings Apply</td>\n",
       "      <td>Who Shot AR</td>\n",
       "      <td>3</td>\n",
       "      <td>F/M</td>\n",
       "      <td>1</td>\n",
       "      <td>Beatrice (Much Ado About Nothing), Benedick (M...</td>\n",
       "      <td>['Much Ado About Nothing - Shakespeare']</td>\n",
       "      <td>830.0</td>\n",
       "      <td>19.0</td>\n",
       "      <td>English</td>\n",
       "      <td>General Audiences</td>\n",
       "      <td>Beatrice/Benedick</td>\n",
       "      <td>Escape Acts</td>\n",
       "      <td>241</td>\n",
       "      <td>\\nFifteen minutes into the little garden party...</td>\n",
       "      <td>2013-01-11</td>\n",
       "    </tr>\n",
       "    <tr>\n",
       "      <td>1</td>\n",
       "      <td>3 Sentence Fiction</td>\n",
       "      <td>Creator Chose Not To Use Archive Warnings</td>\n",
       "      <td>betony</td>\n",
       "      <td>3</td>\n",
       "      <td>Multi</td>\n",
       "      <td>50</td>\n",
       "      <td>Veralidaine Sarrasri, Eugenides (Queen\\'s Thie...</td>\n",
       "      <td>['The Immortals - Tamora Pierce', 'Chuck (TV)'...</td>\n",
       "      <td>1542.0</td>\n",
       "      <td>51.0</td>\n",
       "      <td>English</td>\n",
       "      <td>General Audiences</td>\n",
       "      <td>Chuck Bartowski/Sarah Walker, Attolia/Eugenide...</td>\n",
       "      <td>marginalia</td>\n",
       "      <td>6147</td>\n",
       "      <td>He tries everything at first: dancing the tang...</td>\n",
       "      <td>2013-03-14</td>\n",
       "    </tr>\n",
       "    <tr>\n",
       "      <td>2</td>\n",
       "      <td>3 Sentence Fiction</td>\n",
       "      <td>No Archive Warnings Apply</td>\n",
       "      <td>ViaLethe</td>\n",
       "      <td>1</td>\n",
       "      <td>GenF/M</td>\n",
       "      <td>11</td>\n",
       "      <td>Genie (Aladdin), Carpet (Aladdin), Ash William...</td>\n",
       "      <td>['Aladdin (1992)', 'Army of Darkness (1992)', ...</td>\n",
       "      <td>786.0</td>\n",
       "      <td>23.0</td>\n",
       "      <td>English</td>\n",
       "      <td>General Audiences</td>\n",
       "      <td>Sheila/Ash Williams, Beast/Belle (Disney\\'s Be...</td>\n",
       "      <td>Three Sentence Ficathon 2013 Fills - Miscellan...</td>\n",
       "      <td>1459</td>\n",
       "      <td>\\nPrompt: Aladdin(1992), Genie&amp;Carpet, how the...</td>\n",
       "      <td>2013-03-31</td>\n",
       "    </tr>\n",
       "    <tr>\n",
       "      <td>3</td>\n",
       "      <td>3 Sentence Fiction, 3 Sentence Ficathon, Promp...</td>\n",
       "      <td>Creator Chose Not To Use Archive Warnings</td>\n",
       "      <td>Elizabeth Culmer</td>\n",
       "      <td>0</td>\n",
       "      <td>F/MGen</td>\n",
       "      <td>3</td>\n",
       "      <td>Regan (King Lear), Lady Macbeth, Macbeth, Gert...</td>\n",
       "      <td>['King Lear - Shakespeare', 'Macbeth - Shakesp...</td>\n",
       "      <td>183.0</td>\n",
       "      <td>8.0</td>\n",
       "      <td>English</td>\n",
       "      <td>General Audiences</td>\n",
       "      <td>Regan &amp; Goneril &amp; Cordelia, Macbeth/Lady Macbe...</td>\n",
       "      <td>Three Sentence Ficlets (Shakespeare)</td>\n",
       "      <td>352</td>\n",
       "      <td>Cordelia was always their father\\'s favorite, ...</td>\n",
       "      <td>2015-03-10</td>\n",
       "    </tr>\n",
       "    <tr>\n",
       "      <td>4</td>\n",
       "      <td>A day in the lives of William Shakespeare and ...</td>\n",
       "      <td>No Archive Warnings Apply</td>\n",
       "      <td>1f_this_be_madness</td>\n",
       "      <td>0</td>\n",
       "      <td>Gen</td>\n",
       "      <td>4</td>\n",
       "      <td>Christopher Marlowe, William Shakespeare, Ned ...</td>\n",
       "      <td>['SHAKESPEARE William - Works', 'MARLOWE Chris...</td>\n",
       "      <td>64.0</td>\n",
       "      <td>2.0</td>\n",
       "      <td>English</td>\n",
       "      <td>General Audiences</td>\n",
       "      <td>Will Shakespeare &amp; Christopher Marlowe, Ned Al...</td>\n",
       "      <td>As Just A Man</td>\n",
       "      <td>2919</td>\n",
       "      <td>\\xe2\\x80\\x98What\\xe2\\x80\\x99ll it be, love?\\xe...</td>\n",
       "      <td>2015-08-09</td>\n",
       "    </tr>\n",
       "  </tbody>\n",
       "</table>\n",
       "</div>"
      ],
      "text/plain": [
       "                                      AdditionalTags  \\\n",
       "0        1980s, Post-Canon, Established Relationship   \n",
       "1                                 3 Sentence Fiction   \n",
       "2                                 3 Sentence Fiction   \n",
       "3  3 Sentence Fiction, 3 Sentence Ficathon, Promp...   \n",
       "4  A day in the lives of William Shakespeare and ...   \n",
       "\n",
       "                             ArchiveWarnings              Author  Bookmarks  \\\n",
       "0                  No Archive Warnings Apply         Who Shot AR          3   \n",
       "1  Creator Chose Not To Use Archive Warnings              betony          3   \n",
       "2                  No Archive Warnings Apply            ViaLethe          1   \n",
       "3  Creator Chose Not To Use Archive Warnings    Elizabeth Culmer          0   \n",
       "4                  No Archive Warnings Apply  1f_this_be_madness          0   \n",
       "\n",
       "  Category  Chapters                                         Characters  \\\n",
       "0      F/M         1  Beatrice (Much Ado About Nothing), Benedick (M...   \n",
       "1    Multi        50  Veralidaine Sarrasri, Eugenides (Queen\\'s Thie...   \n",
       "2   GenF/M        11  Genie (Aladdin), Carpet (Aladdin), Ash William...   \n",
       "3   F/MGen         3  Regan (King Lear), Lady Macbeth, Macbeth, Gert...   \n",
       "4      Gen         4  Christopher Marlowe, William Shakespeare, Ned ...   \n",
       "\n",
       "                                             Fandoms    Hits  Kudos Language  \\\n",
       "0           ['Much Ado About Nothing - Shakespeare']   830.0   19.0  English   \n",
       "1  ['The Immortals - Tamora Pierce', 'Chuck (TV)'...  1542.0   51.0  English   \n",
       "2  ['Aladdin (1992)', 'Army of Darkness (1992)', ...   786.0   23.0  English   \n",
       "3  ['King Lear - Shakespeare', 'Macbeth - Shakesp...   183.0    8.0  English   \n",
       "4  ['SHAKESPEARE William - Works', 'MARLOWE Chris...    64.0    2.0  English   \n",
       "\n",
       "              Rating                                       Relationship  \\\n",
       "0  General Audiences                                  Beatrice/Benedick   \n",
       "1  General Audiences  Chuck Bartowski/Sarah Walker, Attolia/Eugenide...   \n",
       "2  General Audiences  Sheila/Ash Williams, Beast/Belle (Disney\\'s Be...   \n",
       "3  General Audiences  Regan & Goneril & Cordelia, Macbeth/Lady Macbe...   \n",
       "4  General Audiences  Will Shakespeare & Christopher Marlowe, Ned Al...   \n",
       "\n",
       "                                               Title  Words  \\\n",
       "0                                        Escape Acts    241   \n",
       "1                                         marginalia   6147   \n",
       "2  Three Sentence Ficathon 2013 Fills - Miscellan...   1459   \n",
       "3               Three Sentence Ficlets (Shakespeare)    352   \n",
       "4                                      As Just A Man   2919   \n",
       "\n",
       "                                                Text PublishDate  \n",
       "0  \\nFifteen minutes into the little garden party...  2013-01-11  \n",
       "1  He tries everything at first: dancing the tang...  2013-03-14  \n",
       "2  \\nPrompt: Aladdin(1992), Genie&Carpet, how the...  2013-03-31  \n",
       "3  Cordelia was always their father\\'s favorite, ...  2015-03-10  \n",
       "4  \\xe2\\x80\\x98What\\xe2\\x80\\x99ll it be, love?\\xe...  2015-08-09  "
      ]
     },
     "execution_count": 44,
     "metadata": {},
     "output_type": "execute_result"
    }
   ],
   "source": [
    "grp.head()"
   ]
  },
  {
   "cell_type": "code",
   "execution_count": 48,
   "metadata": {},
   "outputs": [
    {
     "data": {
      "text/plain": [
       "'Three Sentence Ficathon 2013 Fills - Miscellaneous Division'"
      ]
     },
     "execution_count": 48,
     "metadata": {},
     "output_type": "execute_result"
    }
   ],
   "source": [
    "grp.iloc[2].Title"
   ]
  },
  {
   "cell_type": "code",
   "execution_count": 1,
   "metadata": {},
   "outputs": [],
   "source": [
    "lens = [line.strip() for line in open('length_dist.txt')]"
   ]
  },
  {
   "cell_type": "code",
   "execution_count": null,
   "metadata": {},
   "outputs": [],
   "source": [
    "import matplotlib.pyplot as plt\n",
    "%matplotlib inline"
   ]
  },
  {
   "cell_type": "code",
   "execution_count": null,
   "metadata": {},
   "outputs": [
    {
     "data": {
      "text/plain": [
       "(array([234287., 112314.,  46515.,  23265.,  17674.,  15755.,  12996.,\n",
       "         11598.,   9170.,   7632.]),\n",
       " array([    0. ,  6368.4, 12736.8, 19105.2, 25473.6, 31842. , 38210.4,\n",
       "        44578.8, 50947.2, 57315.6, 63684. ]),\n",
       " <a list of 10 Patch objects>)"
      ]
     },
     "execution_count": 3,
     "metadata": {},
     "output_type": "execute_result"
    }
   ],
   "source": [
    "plt.hist(lens)"
   ]
  },
  {
   "cell_type": "code",
   "execution_count": null,
   "metadata": {},
   "outputs": [],
   "source": []
  }
 ],
 "metadata": {
  "kernelspec": {
   "display_name": "Python 3",
   "language": "python",
   "name": "python3"
  },
  "language_info": {
   "codemirror_mode": {
    "name": "ipython",
    "version": 3
   },
   "file_extension": ".py",
   "mimetype": "text/x-python",
   "name": "python",
   "nbconvert_exporter": "python",
   "pygments_lexer": "ipython3",
   "version": "3.6.7"
  }
 },
 "nbformat": 4,
 "nbformat_minor": 2
}
