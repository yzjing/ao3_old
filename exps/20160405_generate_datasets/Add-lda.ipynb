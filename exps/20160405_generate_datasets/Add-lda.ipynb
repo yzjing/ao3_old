{
 "cells": [
  {
   "cell_type": "code",
   "execution_count": 1,
   "metadata": {
    "collapsed": true
   },
   "outputs": [],
   "source": [
    "import pandas as pd\n",
    "from gensim import corpora, models, similarities\n",
    "import re"
   ]
  },
  {
   "cell_type": "code",
   "execution_count": 2,
   "metadata": {
    "collapsed": true
   },
   "outputs": [],
   "source": [
    "f = './actor_rpf_preprocessed.tsv'"
   ]
  },
  {
   "cell_type": "code",
   "execution_count": 3,
   "metadata": {
    "collapsed": false
   },
   "outputs": [],
   "source": [
    "df = pd.read_csv(f, sep = '\\t')"
   ]
  },
  {
   "cell_type": "code",
   "execution_count": 6,
   "metadata": {
    "collapsed": false
   },
   "outputs": [],
   "source": [
    "lda = models.LdaModel.load('./actor_rpf')"
   ]
  },
  {
   "cell_type": "code",
   "execution_count": 15,
   "metadata": {
    "collapsed": false
   },
   "outputs": [],
   "source": [
    "def get_gamma(text, id2word):\n",
    "    #pre-processing\n",
    "    #input: a slice of the original df\n",
    "    #output: a list of lists each containing cleaned words from a work\n",
    "    text = text.lower().split()\n",
    "    text = [re.sub(r'[^A-Za-z0-9]+', '', str(word)) for word in text]\n",
    "    text = [word for word in text if len(word) > 1 and not word.isdigit()]\n",
    "    gamma = lda.get_document_topics(id2word.doc2bow(text), minimum_probability = 0)\n",
    "    return gamma"
   ]
  },
  {
   "cell_type": "code",
   "execution_count": 16,
   "metadata": {
    "collapsed": true
   },
   "outputs": [],
   "source": [
    "def preprocess(df):\n",
    "    #pre-processing\n",
    "    #input: a slice of the original df\n",
    "    #output: a list of lists each containing cleaned words from a work\n",
    "    df = df.astype(str)\n",
    "    text = df[['Text']]\n",
    "    text = text.drop_duplicates().Text.str.lower().str.split()\n",
    "    text_cleaned = []\n",
    "    for line in text:\n",
    "        line = [re.sub(r'[^A-Za-z0-9]+', '', str(word)) for word in line]\n",
    "        line = [word for word in line if len(word) > 1 and not word.isdigit()]\n",
    "        text_cleaned.append(line)\n",
    "    return text_cleaned"
   ]
  },
  {
   "cell_type": "code",
   "execution_count": 17,
   "metadata": {
    "collapsed": false
   },
   "outputs": [],
   "source": [
    "text_all = preprocess(df)\n",
    "id2word = corpora.dictionary.Dictionary(text_all)"
   ]
  },
  {
   "cell_type": "code",
   "execution_count": 18,
   "metadata": {
    "collapsed": false
   },
   "outputs": [
    {
     "name": "stderr",
     "output_type": "stream",
     "text": [
      "/home/yizhi/anaconda2/lib/python2.7/site-packages/ipykernel/__main__.py:1: SettingWithCopyWarning: \n",
      "A value is trying to be set on a copy of a slice from a DataFrame.\n",
      "Try using .loc[row_indexer,col_indexer] = value instead\n",
      "\n",
      "See the caveats in the documentation: http://pandas.pydata.org/pandas-docs/stable/indexing.html#indexing-view-versus-copy\n",
      "  if __name__ == '__main__':\n"
     ]
    }
   ],
   "source": [
    "df['TopicDistribution'] = df.apply(lambda row:get_gamma(row['Text'], id2word), axis=1)"
   ]
  },
  {
   "cell_type": "code",
   "execution_count": 21,
   "metadata": {
    "collapsed": true
   },
   "outputs": [],
   "source": [
    "df = df[['AdditionalTags', 'ArchiveWarnings', 'Author', 'Bookmarks',\\\n",
    "       'Category', 'ChapterIndex', 'Chapters', 'Characters', 'Comments',\n",
    "       'CompleteDate', 'Fandoms', 'Hits', 'Kudos', \\\n",
    "       'PublishDate', 'Rating', 'Relationship', 'Title',\n",
    "       'URL', 'UpdateDate', 'Words', 'TopicDistribution']]"
   ]
  },
  {
   "cell_type": "code",
   "execution_count": null,
   "metadata": {
    "collapsed": true
   },
   "outputs": [],
   "source": [
    "df.to_csv('shelock_processed_'+month, index = False)"
   ]
  },
  {
   "cell_type": "code",
   "execution_count": null,
   "metadata": {
    "collapsed": true
   },
   "outputs": [],
   "source": []
  }
 ],
 "metadata": {
  "kernelspec": {
   "display_name": "Python 2",
   "language": "python",
   "name": "python2"
  },
  "language_info": {
   "codemirror_mode": {
    "name": "ipython",
    "version": 2
   },
   "file_extension": ".py",
   "mimetype": "text/x-python",
   "name": "python",
   "nbconvert_exporter": "python",
   "pygments_lexer": "ipython2",
   "version": "2.7.11"
  }
 },
 "nbformat": 4,
 "nbformat_minor": 0
}
