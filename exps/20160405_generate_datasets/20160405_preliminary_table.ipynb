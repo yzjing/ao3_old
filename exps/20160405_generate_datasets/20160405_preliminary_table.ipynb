{
 "cells": [
  {
   "cell_type": "code",
   "execution_count": 1,
   "metadata": {
    "collapsed": true
   },
   "outputs": [],
   "source": [
    "import pandas as pd\n",
    "import numpy as np\n",
    "import re\n",
    "from gensim import corpora, models, similarities"
   ]
  },
  {
   "cell_type": "code",
   "execution_count": 2,
   "metadata": {
    "collapsed": true
   },
   "outputs": [],
   "source": [
    "f = '../../data/sherlock_current_wtext.csv'"
   ]
  },
  {
   "cell_type": "code",
   "execution_count": 3,
   "metadata": {
    "collapsed": true
   },
   "outputs": [],
   "source": [
    "data = pd.read_csv(f)"
   ]
  },
  {
   "cell_type": "code",
   "execution_count": 4,
   "metadata": {
    "collapsed": true
   },
   "outputs": [],
   "source": [
    "df = data"
   ]
  },
  {
   "cell_type": "code",
   "execution_count": 5,
   "metadata": {
    "collapsed": true
   },
   "outputs": [],
   "source": [
    "# df = df.head(100)"
   ]
  },
  {
   "cell_type": "code",
   "execution_count": 6,
   "metadata": {
    "collapsed": true
   },
   "outputs": [],
   "source": [
    "# df = df.fillna(0)"
   ]
  },
  {
   "cell_type": "code",
   "execution_count": 7,
   "metadata": {
    "collapsed": true
   },
   "outputs": [],
   "source": [
    "# df = df.astype(str)"
   ]
  },
  {
   "cell_type": "code",
   "execution_count": 8,
   "metadata": {
    "collapsed": false
   },
   "outputs": [
    {
     "data": {
      "text/plain": [
       "array(['AdditionalTags', 'ArchiveWarnings', 'Author', 'Bookmarks',\n",
       "       'Category', 'ChapterIndex', 'Chapters', 'Characters', 'Comments',\n",
       "       'CompleteDate', 'Fandoms', 'Hits', 'Kudos', 'Language', 'Notes',\n",
       "       'PublishDate', 'Rating', 'Relationship', 'Summary', 'Text', 'Title',\n",
       "       'UpdateDate', 'Words'], dtype=object)"
      ]
     },
     "execution_count": 8,
     "metadata": {},
     "output_type": "execute_result"
    }
   ],
   "source": [
    "df.columns.values"
   ]
  },
  {
   "cell_type": "code",
   "execution_count": 9,
   "metadata": {
    "collapsed": false
   },
   "outputs": [],
   "source": [
    "def bookmarks_values(bms, pubdate):\n",
    "    if bms != 0:\n",
    "        pubdate = pubdate[:7]\n",
    "        v = re.findall(': ([0-9]+)', cell)\n",
    "        return sum([int(i) for i in v])"
   ]
  },
  {
   "cell_type": "code",
   "execution_count": 10,
   "metadata": {
    "collapsed": false
   },
   "outputs": [],
   "source": [
    "df.AdditionalTags = df.AdditionalTags.str.strip()"
   ]
  },
  {
   "cell_type": "code",
   "execution_count": 11,
   "metadata": {
    "collapsed": true
   },
   "outputs": [],
   "source": [
    "df.ArchiveWarnings = df.ArchiveWarnings.str.strip()"
   ]
  },
  {
   "cell_type": "code",
   "execution_count": 12,
   "metadata": {
    "collapsed": false
   },
   "outputs": [],
   "source": [
    "# df.Bookmarks = df.apply(lambda row:bookmarks_values(row['Bookmarks']),axis = 1)"
   ]
  },
  {
   "cell_type": "code",
   "execution_count": 13,
   "metadata": {
    "collapsed": true
   },
   "outputs": [],
   "source": [
    "def ch_values(cell):\n",
    "    return cell.split('/')[0]"
   ]
  },
  {
   "cell_type": "code",
   "execution_count": 14,
   "metadata": {
    "collapsed": true
   },
   "outputs": [],
   "source": [
    "df.Chapters = df.apply(lambda row:ch_values(row['Chapters']),axis = 1)"
   ]
  },
  {
   "cell_type": "code",
   "execution_count": 15,
   "metadata": {
    "collapsed": true
   },
   "outputs": [],
   "source": [
    "df.Characters = df.Characters.str.strip()"
   ]
  },
  {
   "cell_type": "code",
   "execution_count": 16,
   "metadata": {
    "collapsed": true
   },
   "outputs": [],
   "source": [
    "def comments_values(cell):\n",
    "    if cell != 0:\n",
    "        v = re.findall(': ([0-9]+)', cell)\n",
    "        return sum([int(i) for i in v])"
   ]
  },
  {
   "cell_type": "code",
   "execution_count": 17,
   "metadata": {
    "collapsed": false
   },
   "outputs": [],
   "source": [
    "# df.Comments = df.apply(lambda row:comments_values(row['Comments']),axis = 1)"
   ]
  },
  {
   "cell_type": "code",
   "execution_count": 18,
   "metadata": {
    "collapsed": true
   },
   "outputs": [],
   "source": [
    "df.Rating = df.Rating.str.strip()"
   ]
  },
  {
   "cell_type": "code",
   "execution_count": 19,
   "metadata": {
    "collapsed": true
   },
   "outputs": [],
   "source": [
    "df.Relationship = df.Relationship.str.strip()"
   ]
  },
  {
   "cell_type": "code",
   "execution_count": 20,
   "metadata": {
    "collapsed": false
   },
   "outputs": [],
   "source": [
    "df['FullLength'] = df['Words']"
   ]
  },
  {
   "cell_type": "code",
   "execution_count": 21,
   "metadata": {
    "collapsed": false
   },
   "outputs": [],
   "source": [
    "df['ChapterLength'] = len(df.Text.str.split()[0])"
   ]
  },
  {
   "cell_type": "code",
   "execution_count": 22,
   "metadata": {
    "collapsed": true
   },
   "outputs": [],
   "source": [
    "lda = models.LdaModel.load('../20160225_lda/sherlock_40topics')"
   ]
  },
  {
   "cell_type": "code",
   "execution_count": 23,
   "metadata": {
    "collapsed": false
   },
   "outputs": [],
   "source": [
    "def get_gamma(text, id2word):\n",
    "    #pre-processing\n",
    "    #input: a slice of the original df\n",
    "    #output: a list of lists each containing cleaned words from a work\n",
    "    text = text.lower().split()\n",
    "    text = [re.sub(r'[^A-Za-z0-9]+', '', str(word)) for word in text]\n",
    "    text = [word for word in text if len(word) > 1 and not word.isdigit()]\n",
    "    gamma = lda.get_document_topics(id2word.doc2bow(text), minimum_probability = 0)\n",
    "    return gamma"
   ]
  },
  {
   "cell_type": "code",
   "execution_count": 24,
   "metadata": {
    "collapsed": true
   },
   "outputs": [],
   "source": [
    "def preprocess(df):\n",
    "    #pre-processing\n",
    "    #input: a slice of the original df\n",
    "    #output: a list of lists each containing cleaned words from a work\n",
    "    df = df.astype(str)\n",
    "    text = df[['Text']]\n",
    "    text = text.drop_duplicates().Text.str.lower().str.split()\n",
    "    text_cleaned = []\n",
    "    for line in text:\n",
    "        line = [re.sub(r'[^A-Za-z0-9]+', '', str(word)) for word in line]\n",
    "        line = [word for word in line if len(word) > 1 and not word.isdigit()]\n",
    "        text_cleaned.append(line)\n",
    "    return text_cleaned"
   ]
  },
  {
   "cell_type": "code",
   "execution_count": 25,
   "metadata": {
    "collapsed": false
   },
   "outputs": [],
   "source": [
    "text_all = preprocess(df)\n",
    "print len(text_all)\n",
    "id2word = corpora.dictionary.Dictionary(text_all)"
   ]
  },
  {
   "cell_type": "code",
   "execution_count": 27,
   "metadata": {
    "collapsed": false
   },
   "outputs": [],
   "source": [
    "import cPickle as pickle\n",
    "id2word = pickle.load(open('../../id2word.p'))"
   ]
  },
  {
   "cell_type": "code",
   "execution_count": 28,
   "metadata": {
    "collapsed": false
   },
   "outputs": [
    {
     "data": {
      "text/plain": [
       "u'wellxc2xa0just'"
      ]
     },
     "execution_count": 28,
     "metadata": {},
     "output_type": "execute_result"
    }
   ],
   "source": [
    "id2word[10]"
   ]
  },
  {
   "cell_type": "code",
   "execution_count": 29,
   "metadata": {
    "collapsed": false
   },
   "outputs": [],
   "source": [
    "df['TopicDistribution'] = df.apply(lambda row:get_gamma(row['Text'], id2word), axis=1)"
   ]
  },
  {
   "cell_type": "code",
   "execution_count": 30,
   "metadata": {
    "collapsed": false
   },
   "outputs": [
    {
     "data": {
      "text/html": [
       "<div>\n",
       "<table border=\"1\" class=\"dataframe\">\n",
       "  <thead>\n",
       "    <tr style=\"text-align: right;\">\n",
       "      <th></th>\n",
       "      <th>AdditionalTags</th>\n",
       "      <th>ArchiveWarnings</th>\n",
       "      <th>Author</th>\n",
       "      <th>Bookmarks</th>\n",
       "      <th>Category</th>\n",
       "      <th>ChapterIndex</th>\n",
       "      <th>Chapters</th>\n",
       "      <th>Characters</th>\n",
       "      <th>Comments</th>\n",
       "      <th>CompleteDate</th>\n",
       "      <th>...</th>\n",
       "      <th>Rating</th>\n",
       "      <th>Relationship</th>\n",
       "      <th>Summary</th>\n",
       "      <th>Text</th>\n",
       "      <th>Title</th>\n",
       "      <th>UpdateDate</th>\n",
       "      <th>Words</th>\n",
       "      <th>FullLength</th>\n",
       "      <th>ChapterLength</th>\n",
       "      <th>TopicDistribution</th>\n",
       "    </tr>\n",
       "  </thead>\n",
       "  <tbody>\n",
       "    <tr>\n",
       "      <th>0</th>\n",
       "      <td>Implied/Referenced Rape/Non-con, Past Rape/Non...</td>\n",
       "      <td>Creator Chose Not To Use Archive Warnings</td>\n",
       "      <td>HunterusHeroicus</td>\n",
       "      <td>{'2016-03': 1}</td>\n",
       "      <td>Gen</td>\n",
       "      <td>NaN</td>\n",
       "      <td>1</td>\n",
       "      <td>John Watson, Sherlock Holmes, Mycroft Holmes, ...</td>\n",
       "      <td>{'2016-01': 2}</td>\n",
       "      <td>2015-01-11</td>\n",
       "      <td>...</td>\n",
       "      <td>Mature</td>\n",
       "      <td>NaN</td>\n",
       "      <td>Mycroft pays a visit, and John gets some answers.</td>\n",
       "      <td>\\nWhen John got back to the flat, his head was...</td>\n",
       "      <td>In Memoriam</td>\n",
       "      <td>NaN</td>\n",
       "      <td>1016</td>\n",
       "      <td>1016</td>\n",
       "      <td>974</td>\n",
       "      <td>[(0, 2.66524520256e-05), (1, 0.0268015104776),...</td>\n",
       "    </tr>\n",
       "    <tr>\n",
       "      <th>1</th>\n",
       "      <td>Implied/Referenced Rape/Non-con</td>\n",
       "      <td>Creator Chose Not To Use Archive Warnings</td>\n",
       "      <td>HunterusHeroicus</td>\n",
       "      <td>NaN</td>\n",
       "      <td>Gen</td>\n",
       "      <td>NaN</td>\n",
       "      <td>1</td>\n",
       "      <td>John Watson, Greg Lestrade</td>\n",
       "      <td>NaN</td>\n",
       "      <td>2015-01-11</td>\n",
       "      <td>...</td>\n",
       "      <td>Mature</td>\n",
       "      <td>NaN</td>\n",
       "      <td>A conversation with Lestrade.</td>\n",
       "      <td>\\nJohn knocked on the door before entering. Le...</td>\n",
       "      <td>Puzzle Pieces</td>\n",
       "      <td>NaN</td>\n",
       "      <td>464</td>\n",
       "      <td>464</td>\n",
       "      <td>974</td>\n",
       "      <td>[(0, 5.80046403712e-05), (1, 0.0650570155247),...</td>\n",
       "    </tr>\n",
       "    <tr>\n",
       "      <th>2</th>\n",
       "      <td>Implied/Referenced Rape/Non-con</td>\n",
       "      <td>Creator Chose Not To Use Archive Warnings</td>\n",
       "      <td>HunterusHeroicus</td>\n",
       "      <td>NaN</td>\n",
       "      <td>Gen</td>\n",
       "      <td>NaN</td>\n",
       "      <td>1</td>\n",
       "      <td>Molly Hooper, John Watson, Sherlock Holmes</td>\n",
       "      <td>NaN</td>\n",
       "      <td>2015-01-11</td>\n",
       "      <td>...</td>\n",
       "      <td>Mature</td>\n",
       "      <td>NaN</td>\n",
       "      <td>John had almost gotten Sherlock out the door w...</td>\n",
       "      <td>\\nJohn had almost gotten Sherlock out the door...</td>\n",
       "      <td>Molly, Interrupted</td>\n",
       "      <td>NaN</td>\n",
       "      <td>303</td>\n",
       "      <td>303</td>\n",
       "      <td>974</td>\n",
       "      <td>[(0, 8.77192982456e-05), (1, 8.77192982456e-05...</td>\n",
       "    </tr>\n",
       "    <tr>\n",
       "      <th>3</th>\n",
       "      <td>Crack, Seriously crack, Cannibalism, but not g...</td>\n",
       "      <td>No Archive Warnings Apply</td>\n",
       "      <td>i_ship_an_armada</td>\n",
       "      <td>{'2015-02': 1, '2015-12': 1, '2016-03': 1, '20...</td>\n",
       "      <td>M/M</td>\n",
       "      <td>NaN</td>\n",
       "      <td>1</td>\n",
       "      <td>Sherlock Holmes, John Watson</td>\n",
       "      <td>{'2015-09': 2, '2015-05': 2, '2015-01': 35}</td>\n",
       "      <td>2015-01-11</td>\n",
       "      <td>...</td>\n",
       "      <td>Teen And Up Audiences</td>\n",
       "      <td>Sherlock Holmes/John Watson</td>\n",
       "      <td>John is suddenly aware of Sherlock\\xe2\\x80\\x99...</td>\n",
       "      <td>\\nA whip cracks. \\xc2\\xa0John looks up at the ...</td>\n",
       "      <td>Put That on Your Blog</td>\n",
       "      <td>NaN</td>\n",
       "      <td>1028</td>\n",
       "      <td>1028</td>\n",
       "      <td>974</td>\n",
       "      <td>[(0, 0.420445258288), (1, 2.65111346766e-05), ...</td>\n",
       "    </tr>\n",
       "    <tr>\n",
       "      <th>4</th>\n",
       "      <td>Rape/Non-con Elements, Past Rape/Non-con</td>\n",
       "      <td>Creator Chose Not To Use Archive Warnings</td>\n",
       "      <td>HunterusHeroicus</td>\n",
       "      <td>NaN</td>\n",
       "      <td>Gen</td>\n",
       "      <td>NaN</td>\n",
       "      <td>1</td>\n",
       "      <td>John Watson, Sherlock Holmes, Jim Moriarty</td>\n",
       "      <td>NaN</td>\n",
       "      <td>2015-01-11</td>\n",
       "      <td>...</td>\n",
       "      <td>Mature</td>\n",
       "      <td>NaN</td>\n",
       "      <td>John knew it was only a matter of time before ...</td>\n",
       "      <td>\\n\"Look, all I\\'m saying is that\\'s not kind t...</td>\n",
       "      <td>Encounter</td>\n",
       "      <td>NaN</td>\n",
       "      <td>958</td>\n",
       "      <td>958</td>\n",
       "      <td>974</td>\n",
       "      <td>[(0, 2.66524520256e-05), (1, 0.0601878095899),...</td>\n",
       "    </tr>\n",
       "  </tbody>\n",
       "</table>\n",
       "<p>5 rows × 26 columns</p>\n",
       "</div>"
      ],
      "text/plain": [
       "                                      AdditionalTags  \\\n",
       "0  Implied/Referenced Rape/Non-con, Past Rape/Non...   \n",
       "1                    Implied/Referenced Rape/Non-con   \n",
       "2                    Implied/Referenced Rape/Non-con   \n",
       "3  Crack, Seriously crack, Cannibalism, but not g...   \n",
       "4           Rape/Non-con Elements, Past Rape/Non-con   \n",
       "\n",
       "                             ArchiveWarnings            Author  \\\n",
       "0  Creator Chose Not To Use Archive Warnings  HunterusHeroicus   \n",
       "1  Creator Chose Not To Use Archive Warnings  HunterusHeroicus   \n",
       "2  Creator Chose Not To Use Archive Warnings  HunterusHeroicus   \n",
       "3                  No Archive Warnings Apply  i_ship_an_armada   \n",
       "4  Creator Chose Not To Use Archive Warnings  HunterusHeroicus   \n",
       "\n",
       "                                           Bookmarks Category  ChapterIndex  \\\n",
       "0                                     {'2016-03': 1}      Gen           NaN   \n",
       "1                                                NaN      Gen           NaN   \n",
       "2                                                NaN      Gen           NaN   \n",
       "3  {'2015-02': 1, '2015-12': 1, '2016-03': 1, '20...      M/M           NaN   \n",
       "4                                                NaN      Gen           NaN   \n",
       "\n",
       "  Chapters                                         Characters  \\\n",
       "0        1  John Watson, Sherlock Holmes, Mycroft Holmes, ...   \n",
       "1        1                         John Watson, Greg Lestrade   \n",
       "2        1         Molly Hooper, John Watson, Sherlock Holmes   \n",
       "3        1                       Sherlock Holmes, John Watson   \n",
       "4        1         John Watson, Sherlock Holmes, Jim Moriarty   \n",
       "\n",
       "                                      Comments CompleteDate  \\\n",
       "0                               {'2016-01': 2}   2015-01-11   \n",
       "1                                          NaN   2015-01-11   \n",
       "2                                          NaN   2015-01-11   \n",
       "3  {'2015-09': 2, '2015-05': 2, '2015-01': 35}   2015-01-11   \n",
       "4                                          NaN   2015-01-11   \n",
       "\n",
       "                         ...                                         Rating  \\\n",
       "0                        ...                                         Mature   \n",
       "1                        ...                                         Mature   \n",
       "2                        ...                                         Mature   \n",
       "3                        ...                          Teen And Up Audiences   \n",
       "4                        ...                                         Mature   \n",
       "\n",
       "                  Relationship  \\\n",
       "0                          NaN   \n",
       "1                          NaN   \n",
       "2                          NaN   \n",
       "3  Sherlock Holmes/John Watson   \n",
       "4                          NaN   \n",
       "\n",
       "                                             Summary  \\\n",
       "0  Mycroft pays a visit, and John gets some answers.   \n",
       "1                      A conversation with Lestrade.   \n",
       "2  John had almost gotten Sherlock out the door w...   \n",
       "3  John is suddenly aware of Sherlock\\xe2\\x80\\x99...   \n",
       "4  John knew it was only a matter of time before ...   \n",
       "\n",
       "                                                Text                  Title  \\\n",
       "0  \\nWhen John got back to the flat, his head was...            In Memoriam   \n",
       "1  \\nJohn knocked on the door before entering. Le...          Puzzle Pieces   \n",
       "2  \\nJohn had almost gotten Sherlock out the door...     Molly, Interrupted   \n",
       "3  \\nA whip cracks. \\xc2\\xa0John looks up at the ...  Put That on Your Blog   \n",
       "4  \\n\"Look, all I\\'m saying is that\\'s not kind t...              Encounter   \n",
       "\n",
       "  UpdateDate Words FullLength ChapterLength  \\\n",
       "0        NaN  1016       1016           974   \n",
       "1        NaN   464        464           974   \n",
       "2        NaN   303        303           974   \n",
       "3        NaN  1028       1028           974   \n",
       "4        NaN   958        958           974   \n",
       "\n",
       "                                   TopicDistribution  \n",
       "0  [(0, 2.66524520256e-05), (1, 0.0268015104776),...  \n",
       "1  [(0, 5.80046403712e-05), (1, 0.0650570155247),...  \n",
       "2  [(0, 8.77192982456e-05), (1, 8.77192982456e-05...  \n",
       "3  [(0, 0.420445258288), (1, 2.65111346766e-05), ...  \n",
       "4  [(0, 2.66524520256e-05), (1, 0.0601878095899),...  \n",
       "\n",
       "[5 rows x 26 columns]"
      ]
     },
     "execution_count": 30,
     "metadata": {},
     "output_type": "execute_result"
    }
   ],
   "source": [
    "df.head()"
   ]
  },
  {
   "cell_type": "code",
   "execution_count": 31,
   "metadata": {
    "collapsed": true
   },
   "outputs": [],
   "source": [
    "df2 = df[['AdditionalTags', 'ArchiveWarnings', 'Author', 'Bookmarks', 'Category', 'Chapters', 'Characters', 'Comments',\\\n",
    "       'CompleteDate', 'Fandoms', 'Hits', 'Kudos', 'PublishDate', 'Rating', 'Relationship', 'TopicDistribution', 'FullLength', 'ChapterLength']]"
   ]
  },
  {
   "cell_type": "code",
   "execution_count": 32,
   "metadata": {
    "collapsed": false
   },
   "outputs": [
    {
     "data": {
      "text/html": [
       "<div>\n",
       "<table border=\"1\" class=\"dataframe\">\n",
       "  <thead>\n",
       "    <tr style=\"text-align: right;\">\n",
       "      <th></th>\n",
       "      <th>AdditionalTags</th>\n",
       "      <th>ArchiveWarnings</th>\n",
       "      <th>Author</th>\n",
       "      <th>Bookmarks</th>\n",
       "      <th>Category</th>\n",
       "      <th>Chapters</th>\n",
       "      <th>Characters</th>\n",
       "      <th>Comments</th>\n",
       "      <th>CompleteDate</th>\n",
       "      <th>Fandoms</th>\n",
       "      <th>Hits</th>\n",
       "      <th>Kudos</th>\n",
       "      <th>PublishDate</th>\n",
       "      <th>Rating</th>\n",
       "      <th>Relationship</th>\n",
       "      <th>TopicDistribution</th>\n",
       "      <th>FullLength</th>\n",
       "      <th>ChapterLength</th>\n",
       "    </tr>\n",
       "  </thead>\n",
       "  <tbody>\n",
       "    <tr>\n",
       "      <th>0</th>\n",
       "      <td>Implied/Referenced Rape/Non-con, Past Rape/Non...</td>\n",
       "      <td>Creator Chose Not To Use Archive Warnings</td>\n",
       "      <td>HunterusHeroicus</td>\n",
       "      <td>{'2016-03': 1}</td>\n",
       "      <td>Gen</td>\n",
       "      <td>1</td>\n",
       "      <td>John Watson, Sherlock Holmes, Mycroft Holmes, ...</td>\n",
       "      <td>{'2016-01': 2}</td>\n",
       "      <td>2015-01-11</td>\n",
       "      <td>Sherlock (TV)</td>\n",
       "      <td>254</td>\n",
       "      <td>5</td>\n",
       "      <td>2015-01-11</td>\n",
       "      <td>Mature</td>\n",
       "      <td>NaN</td>\n",
       "      <td>[(0, 2.66524520256e-05), (1, 0.0268015104776),...</td>\n",
       "      <td>1016</td>\n",
       "      <td>974</td>\n",
       "    </tr>\n",
       "  </tbody>\n",
       "</table>\n",
       "</div>"
      ],
      "text/plain": [
       "                                      AdditionalTags  \\\n",
       "0  Implied/Referenced Rape/Non-con, Past Rape/Non...   \n",
       "\n",
       "                             ArchiveWarnings            Author  \\\n",
       "0  Creator Chose Not To Use Archive Warnings  HunterusHeroicus   \n",
       "\n",
       "        Bookmarks Category Chapters  \\\n",
       "0  {'2016-03': 1}      Gen        1   \n",
       "\n",
       "                                          Characters        Comments  \\\n",
       "0  John Watson, Sherlock Holmes, Mycroft Holmes, ...  {'2016-01': 2}   \n",
       "\n",
       "  CompleteDate        Fandoms  Hits  Kudos PublishDate  Rating Relationship  \\\n",
       "0   2015-01-11  Sherlock (TV)   254      5  2015-01-11  Mature          NaN   \n",
       "\n",
       "                                   TopicDistribution  FullLength  \\\n",
       "0  [(0, 2.66524520256e-05), (1, 0.0268015104776),...        1016   \n",
       "\n",
       "   ChapterLength  \n",
       "0            974  "
      ]
     },
     "execution_count": 32,
     "metadata": {},
     "output_type": "execute_result"
    }
   ],
   "source": [
    "df2.head(1)"
   ]
  },
  {
   "cell_type": "code",
   "execution_count": 34,
   "metadata": {
    "collapsed": false
   },
   "outputs": [],
   "source": [
    "df2.to_csv('../../data/sherlock_processed.tsv', index = False, sep = '\\t')"
   ]
  },
  {
   "cell_type": "code",
   "execution_count": null,
   "metadata": {
    "collapsed": true
   },
   "outputs": [],
   "source": []
  }
 ],
 "metadata": {
  "kernelspec": {
   "display_name": "Python 2",
   "language": "python",
   "name": "python2"
  },
  "language_info": {
   "codemirror_mode": {
    "name": "ipython",
    "version": 2
   },
   "file_extension": ".py",
   "mimetype": "text/x-python",
   "name": "python",
   "nbconvert_exporter": "python",
   "pygments_lexer": "ipython2",
   "version": "2.7.11"
  }
 },
 "nbformat": 4,
 "nbformat_minor": 0
}
