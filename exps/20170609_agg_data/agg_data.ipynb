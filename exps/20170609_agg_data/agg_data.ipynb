{
 "cells": [
  {
   "cell_type": "code",
   "execution_count": 1,
   "metadata": {
    "collapsed": true
   },
   "outputs": [],
   "source": [
    "import pandas as pd\n",
    "from datetime import date\n",
    "import numpy as np"
   ]
  },
  {
   "cell_type": "markdown",
   "metadata": {},
   "source": [
    "#### Some features are chapter-wise, but the Kudos and Hits data is work-wise.\n",
    "#### So aggregate the chapter-wise features."
   ]
  },
  {
   "cell_type": "code",
   "execution_count": 2,
   "metadata": {
    "collapsed": false
   },
   "outputs": [],
   "source": [
    "df = pd.read_csv('homestuck_preprocessed.tsv', sep = '\\t')"
   ]
  },
  {
   "cell_type": "code",
   "execution_count": 3,
   "metadata": {
    "collapsed": false
   },
   "outputs": [
    {
     "data": {
      "text/plain": [
       "array(['AdditionalTags', 'ArchiveWarnings', 'Author', 'Bookmarks',\n",
       "       'Category', 'ChapterIndex', 'Chapters', 'Characters', 'Comments',\n",
       "       'CompleteDate', 'Fandoms', 'Hits', 'Kudos', 'Language', 'Notes',\n",
       "       'PublishDate', 'Rating', 'Relationship', 'Summary', 'Text', 'Title',\n",
       "       'URL', 'UpdateDate', 'Words'], dtype=object)"
      ]
     },
     "execution_count": 3,
     "metadata": {},
     "output_type": "execute_result"
    }
   ],
   "source": [
    "df.columns.values"
   ]
  },
  {
   "cell_type": "code",
   "execution_count": 4,
   "metadata": {
    "collapsed": true
   },
   "outputs": [],
   "source": [
    "df = df.sample(len(df)//4)"
   ]
  },
  {
   "cell_type": "markdown",
   "metadata": {},
   "source": [
    "#### Fields we're interested in"
   ]
  },
  {
   "cell_type": "code",
   "execution_count": 5,
   "metadata": {
    "collapsed": true
   },
   "outputs": [],
   "source": [
    "df = df[['Author','Bookmarks','Chapters','Comments','CompleteDate','Hits','Kudos',\\\n",
    "         'PublishDate','Text','Title','UpdateDate','Words']]"
   ]
  },
  {
   "cell_type": "code",
   "execution_count": 6,
   "metadata": {
    "collapsed": false
   },
   "outputs": [
    {
     "data": {
      "text/html": [
       "<div>\n",
       "<table border=\"1\" class=\"dataframe\">\n",
       "  <thead>\n",
       "    <tr style=\"text-align: right;\">\n",
       "      <th></th>\n",
       "      <th>Author</th>\n",
       "      <th>Bookmarks</th>\n",
       "      <th>Chapters</th>\n",
       "      <th>Comments</th>\n",
       "      <th>CompleteDate</th>\n",
       "      <th>Hits</th>\n",
       "      <th>Kudos</th>\n",
       "      <th>PublishDate</th>\n",
       "      <th>Text</th>\n",
       "      <th>Title</th>\n",
       "      <th>UpdateDate</th>\n",
       "      <th>Words</th>\n",
       "    </tr>\n",
       "  </thead>\n",
       "  <tbody>\n",
       "    <tr>\n",
       "      <th>74380</th>\n",
       "      <td>Phenomenon</td>\n",
       "      <td>1</td>\n",
       "      <td>1</td>\n",
       "      <td>4</td>\n",
       "      <td>2012-12-28</td>\n",
       "      <td>317.0</td>\n",
       "      <td>17.0</td>\n",
       "      <td>2012-12-28</td>\n",
       "      <td>\\nVriska woke to the sound of her spider lusus...</td>\n",
       "      <td>Games for Girls</td>\n",
       "      <td>NaN</td>\n",
       "      <td>3548.0</td>\n",
       "    </tr>\n",
       "    <tr>\n",
       "      <th>23564</th>\n",
       "      <td>AbelinCilion69</td>\n",
       "      <td>2</td>\n",
       "      <td>3</td>\n",
       "      <td>0</td>\n",
       "      <td>NaN</td>\n",
       "      <td>430.0</td>\n",
       "      <td>27.0</td>\n",
       "      <td>2015-04-12</td>\n",
       "      <td>\\xc2\\xa0\\xc2\\xa0\\xc2\\xa0 Rose\\'s feet ached as...</td>\n",
       "      <td>Apocalyptica</td>\n",
       "      <td>2015-06-18</td>\n",
       "      <td>2438.0</td>\n",
       "    </tr>\n",
       "  </tbody>\n",
       "</table>\n",
       "</div>"
      ],
      "text/plain": [
       "               Author  Bookmarks  Chapters  Comments CompleteDate   Hits  \\\n",
       "74380      Phenomenon          1         1         4   2012-12-28  317.0   \n",
       "23564  AbelinCilion69          2         3         0          NaN  430.0   \n",
       "\n",
       "       Kudos PublishDate                                               Text  \\\n",
       "74380   17.0  2012-12-28  \\nVriska woke to the sound of her spider lusus...   \n",
       "23564   27.0  2015-04-12  \\xc2\\xa0\\xc2\\xa0\\xc2\\xa0 Rose\\'s feet ached as...   \n",
       "\n",
       "                 Title  UpdateDate   Words  \n",
       "74380  Games for Girls         NaN  3548.0  \n",
       "23564     Apocalyptica  2015-06-18  2438.0  "
      ]
     },
     "execution_count": 6,
     "metadata": {},
     "output_type": "execute_result"
    }
   ],
   "source": [
    "df.head(2)"
   ]
  },
  {
   "cell_type": "code",
   "execution_count": 7,
   "metadata": {
    "collapsed": true
   },
   "outputs": [],
   "source": [
    "def date_today(cell):\n",
    "    if '-' in str(cell):\n",
    "        y, m, d = cell.split('-')\n",
    "        return abs(date.today() - date(int(y), int(m), int(d))).days\n"
   ]
  },
  {
   "cell_type": "markdown",
   "metadata": {},
   "source": [
    "#### Turn dates into the # of days between the date and today"
   ]
  },
  {
   "cell_type": "code",
   "execution_count": 8,
   "metadata": {
    "collapsed": false
   },
   "outputs": [],
   "source": [
    "df['PublishDate'] = df.apply(lambda row: date_today(row['PublishDate']), axis = 1)\n",
    "df['UpdateDate'] = df.apply(lambda row: date_today(row['UpdateDate']), axis = 1)\n",
    "df['CompleteDate'] = df.apply(lambda row: date_today(row['CompleteDate']), axis = 1)"
   ]
  },
  {
   "cell_type": "code",
   "execution_count": 9,
   "metadata": {
    "collapsed": false
   },
   "outputs": [
    {
     "data": {
      "text/html": [
       "<div>\n",
       "<table border=\"1\" class=\"dataframe\">\n",
       "  <thead>\n",
       "    <tr style=\"text-align: right;\">\n",
       "      <th></th>\n",
       "      <th>Author</th>\n",
       "      <th>Bookmarks</th>\n",
       "      <th>Chapters</th>\n",
       "      <th>Comments</th>\n",
       "      <th>CompleteDate</th>\n",
       "      <th>Hits</th>\n",
       "      <th>Kudos</th>\n",
       "      <th>PublishDate</th>\n",
       "      <th>Text</th>\n",
       "      <th>Title</th>\n",
       "      <th>UpdateDate</th>\n",
       "      <th>Words</th>\n",
       "    </tr>\n",
       "  </thead>\n",
       "  <tbody>\n",
       "    <tr>\n",
       "      <th>74380</th>\n",
       "      <td>Phenomenon</td>\n",
       "      <td>1</td>\n",
       "      <td>1</td>\n",
       "      <td>4</td>\n",
       "      <td>1626.0</td>\n",
       "      <td>317.0</td>\n",
       "      <td>17.0</td>\n",
       "      <td>1626</td>\n",
       "      <td>\\nVriska woke to the sound of her spider lusus...</td>\n",
       "      <td>Games for Girls</td>\n",
       "      <td>NaN</td>\n",
       "      <td>3548.0</td>\n",
       "    </tr>\n",
       "    <tr>\n",
       "      <th>23564</th>\n",
       "      <td>AbelinCilion69</td>\n",
       "      <td>2</td>\n",
       "      <td>3</td>\n",
       "      <td>0</td>\n",
       "      <td>NaN</td>\n",
       "      <td>430.0</td>\n",
       "      <td>27.0</td>\n",
       "      <td>791</td>\n",
       "      <td>\\xc2\\xa0\\xc2\\xa0\\xc2\\xa0 Rose\\'s feet ached as...</td>\n",
       "      <td>Apocalyptica</td>\n",
       "      <td>724.0</td>\n",
       "      <td>2438.0</td>\n",
       "    </tr>\n",
       "    <tr>\n",
       "      <th>12541</th>\n",
       "      <td>LateNiteSlacker</td>\n",
       "      <td>15</td>\n",
       "      <td>19</td>\n",
       "      <td>2</td>\n",
       "      <td>NaN</td>\n",
       "      <td>2039.0</td>\n",
       "      <td>160.0</td>\n",
       "      <td>616</td>\n",
       "      <td>It had been a while since he had come to the m...</td>\n",
       "      <td>A Series of Drabbles</td>\n",
       "      <td>553.0</td>\n",
       "      <td>18908.0</td>\n",
       "    </tr>\n",
       "    <tr>\n",
       "      <th>81353</th>\n",
       "      <td>joaniedark</td>\n",
       "      <td>13</td>\n",
       "      <td>31</td>\n",
       "      <td>0</td>\n",
       "      <td>1989.0</td>\n",
       "      <td>8488.0</td>\n",
       "      <td>159.0</td>\n",
       "      <td>2008</td>\n",
       "      <td>The two of them truly surprised one another in...</td>\n",
       "      <td>31/100</td>\n",
       "      <td>NaN</td>\n",
       "      <td>3061.0</td>\n",
       "    </tr>\n",
       "    <tr>\n",
       "      <th>59238</th>\n",
       "      <td>sachi_sama</td>\n",
       "      <td>93</td>\n",
       "      <td>10</td>\n",
       "      <td>0</td>\n",
       "      <td>1319.0</td>\n",
       "      <td>4961.0</td>\n",
       "      <td>374.0</td>\n",
       "      <td>1375</td>\n",
       "      <td>You\\xe2\\x80\\x99d like to say time passed by qu...</td>\n",
       "      <td>A Purgatory Story</td>\n",
       "      <td>NaN</td>\n",
       "      <td>42276.0</td>\n",
       "    </tr>\n",
       "  </tbody>\n",
       "</table>\n",
       "</div>"
      ],
      "text/plain": [
       "                Author  Bookmarks  Chapters  Comments  CompleteDate    Hits  \\\n",
       "74380       Phenomenon          1         1         4        1626.0   317.0   \n",
       "23564   AbelinCilion69          2         3         0           NaN   430.0   \n",
       "12541  LateNiteSlacker         15        19         2           NaN  2039.0   \n",
       "81353       joaniedark         13        31         0        1989.0  8488.0   \n",
       "59238       sachi_sama         93        10         0        1319.0  4961.0   \n",
       "\n",
       "       Kudos  PublishDate                                               Text  \\\n",
       "74380   17.0         1626  \\nVriska woke to the sound of her spider lusus...   \n",
       "23564   27.0          791  \\xc2\\xa0\\xc2\\xa0\\xc2\\xa0 Rose\\'s feet ached as...   \n",
       "12541  160.0          616  It had been a while since he had come to the m...   \n",
       "81353  159.0         2008  The two of them truly surprised one another in...   \n",
       "59238  374.0         1375  You\\xe2\\x80\\x99d like to say time passed by qu...   \n",
       "\n",
       "                      Title  UpdateDate    Words  \n",
       "74380       Games for Girls         NaN   3548.0  \n",
       "23564          Apocalyptica       724.0   2438.0  \n",
       "12541  A Series of Drabbles       553.0  18908.0  \n",
       "81353                31/100         NaN   3061.0  \n",
       "59238     A Purgatory Story         NaN  42276.0  "
      ]
     },
     "execution_count": 9,
     "metadata": {},
     "output_type": "execute_result"
    }
   ],
   "source": [
    "df.head()"
   ]
  },
  {
   "cell_type": "code",
   "execution_count": 10,
   "metadata": {
    "collapsed": false
   },
   "outputs": [],
   "source": [
    "df_agg = df.groupby(['Author','Hits','Kudos','Title','Words'])\\\n",
    "                     .agg({'Bookmarks':np.sum, 'Chapters':np.sum,'Comments':np.sum,\\\n",
    "                           'CompleteDate':np.min, 'PublishDate':np.max,'UpdateDate':np.max,\\\n",
    "                           'Text':lambda x: ','.join(x)}).reset_index()"
   ]
  },
  {
   "cell_type": "code",
   "execution_count": 11,
   "metadata": {
    "collapsed": true
   },
   "outputs": [],
   "source": [
    "df_agg['completed_in_days'] = df_agg.PublishDate - df_agg.CompleteDate"
   ]
  },
  {
   "cell_type": "code",
   "execution_count": 12,
   "metadata": {
    "collapsed": false
   },
   "outputs": [
    {
     "data": {
      "text/plain": [
       "22176"
      ]
     },
     "execution_count": 12,
     "metadata": {},
     "output_type": "execute_result"
    }
   ],
   "source": [
    "len(df)"
   ]
  },
  {
   "cell_type": "code",
   "execution_count": 13,
   "metadata": {
    "collapsed": false
   },
   "outputs": [
    {
     "data": {
      "text/plain": [
       "12967"
      ]
     },
     "execution_count": 13,
     "metadata": {},
     "output_type": "execute_result"
    }
   ],
   "source": [
    "len(df_agg)"
   ]
  },
  {
   "cell_type": "code",
   "execution_count": 14,
   "metadata": {
    "collapsed": false
   },
   "outputs": [
    {
     "data": {
      "text/html": [
       "<div>\n",
       "<table border=\"1\" class=\"dataframe\">\n",
       "  <thead>\n",
       "    <tr style=\"text-align: right;\">\n",
       "      <th></th>\n",
       "      <th>Author</th>\n",
       "      <th>Hits</th>\n",
       "      <th>Kudos</th>\n",
       "      <th>Title</th>\n",
       "      <th>Words</th>\n",
       "      <th>Text</th>\n",
       "      <th>Comments</th>\n",
       "      <th>CompleteDate</th>\n",
       "      <th>Chapters</th>\n",
       "      <th>PublishDate</th>\n",
       "      <th>UpdateDate</th>\n",
       "      <th>Bookmarks</th>\n",
       "      <th>completed_in_days</th>\n",
       "    </tr>\n",
       "  </thead>\n",
       "  <tbody>\n",
       "    <tr>\n",
       "      <th>0</th>\n",
       "      <td>00HD</td>\n",
       "      <td>216.0</td>\n",
       "      <td>17.0</td>\n",
       "      <td>A Young Man Stands Before a Great Door at the ...</td>\n",
       "      <td>829.0</td>\n",
       "      <td>\\nHis once bright blue eyes, are now clouded o...</td>\n",
       "      <td>0</td>\n",
       "      <td>936.0</td>\n",
       "      <td>1</td>\n",
       "      <td>936</td>\n",
       "      <td>NaN</td>\n",
       "      <td>0</td>\n",
       "      <td>0.0</td>\n",
       "    </tr>\n",
       "    <tr>\n",
       "      <th>1</th>\n",
       "      <td>00HD</td>\n",
       "      <td>272.0</td>\n",
       "      <td>17.0</td>\n",
       "      <td>The Doctor\\'s Exploration of Homestuck/Sburb a...</td>\n",
       "      <td>920.0</td>\n",
       "      <td>Your name is JhFYURe685987yiGF&amp;^TOIYGBua34\\xe2...</td>\n",
       "      <td>0</td>\n",
       "      <td>NaN</td>\n",
       "      <td>1</td>\n",
       "      <td>1007</td>\n",
       "      <td>1008.0</td>\n",
       "      <td>0</td>\n",
       "      <td>NaN</td>\n",
       "    </tr>\n",
       "    <tr>\n",
       "      <th>2</th>\n",
       "      <td>00HD</td>\n",
       "      <td>278.0</td>\n",
       "      <td>7.0</td>\n",
       "      <td>The Longfall of Gamzee Makara: a tale of insan...</td>\n",
       "      <td>696.0</td>\n",
       "      <td>Your head is killing you.You walk down the hal...</td>\n",
       "      <td>0</td>\n",
       "      <td>NaN</td>\n",
       "      <td>3</td>\n",
       "      <td>1014</td>\n",
       "      <td>1014.0</td>\n",
       "      <td>0</td>\n",
       "      <td>NaN</td>\n",
       "    </tr>\n",
       "    <tr>\n",
       "      <th>3</th>\n",
       "      <td>00HD</td>\n",
       "      <td>293.0</td>\n",
       "      <td>10.0</td>\n",
       "      <td>Three Years on a War Ship</td>\n",
       "      <td>5459.0</td>\n",
       "      <td>Davesprite was alone.He sat at the edge of the...</td>\n",
       "      <td>4</td>\n",
       "      <td>NaN</td>\n",
       "      <td>45</td>\n",
       "      <td>1076</td>\n",
       "      <td>1046.0</td>\n",
       "      <td>0</td>\n",
       "      <td>NaN</td>\n",
       "    </tr>\n",
       "    <tr>\n",
       "      <th>4</th>\n",
       "      <td>00HD</td>\n",
       "      <td>311.0</td>\n",
       "      <td>21.0</td>\n",
       "      <td>Dumb Kids</td>\n",
       "      <td>6166.0</td>\n",
       "      <td>You feel sick the whole way home. Every time s...</td>\n",
       "      <td>0</td>\n",
       "      <td>NaN</td>\n",
       "      <td>12</td>\n",
       "      <td>935</td>\n",
       "      <td>924.0</td>\n",
       "      <td>0</td>\n",
       "      <td>NaN</td>\n",
       "    </tr>\n",
       "  </tbody>\n",
       "</table>\n",
       "</div>"
      ],
      "text/plain": [
       "  Author   Hits  Kudos                                              Title  \\\n",
       "0   00HD  216.0   17.0  A Young Man Stands Before a Great Door at the ...   \n",
       "1   00HD  272.0   17.0  The Doctor\\'s Exploration of Homestuck/Sburb a...   \n",
       "2   00HD  278.0    7.0  The Longfall of Gamzee Makara: a tale of insan...   \n",
       "3   00HD  293.0   10.0                          Three Years on a War Ship   \n",
       "4   00HD  311.0   21.0                                          Dumb Kids   \n",
       "\n",
       "    Words                                               Text  Comments  \\\n",
       "0   829.0  \\nHis once bright blue eyes, are now clouded o...         0   \n",
       "1   920.0  Your name is JhFYURe685987yiGF&^TOIYGBua34\\xe2...         0   \n",
       "2   696.0  Your head is killing you.You walk down the hal...         0   \n",
       "3  5459.0  Davesprite was alone.He sat at the edge of the...         4   \n",
       "4  6166.0  You feel sick the whole way home. Every time s...         0   \n",
       "\n",
       "   CompleteDate  Chapters  PublishDate  UpdateDate  Bookmarks  \\\n",
       "0         936.0         1          936         NaN          0   \n",
       "1           NaN         1         1007      1008.0          0   \n",
       "2           NaN         3         1014      1014.0          0   \n",
       "3           NaN        45         1076      1046.0          0   \n",
       "4           NaN        12          935       924.0          0   \n",
       "\n",
       "   completed_in_days  \n",
       "0                0.0  \n",
       "1                NaN  \n",
       "2                NaN  \n",
       "3                NaN  \n",
       "4                NaN  "
      ]
     },
     "execution_count": 14,
     "metadata": {},
     "output_type": "execute_result"
    }
   ],
   "source": [
    "df_agg.head()"
   ]
  },
  {
   "cell_type": "code",
   "execution_count": 23,
   "metadata": {
    "collapsed": false
   },
   "outputs": [
    {
     "ename": "NameError",
     "evalue": "name 'df_agg' is not defined",
     "output_type": "error",
     "traceback": [
      "\u001b[0;31m---------------------------------------------------------------------------\u001b[0m",
      "\u001b[0;31mNameError\u001b[0m                                 Traceback (most recent call last)",
      "\u001b[0;32m<ipython-input-23-c94dbd92a04f>\u001b[0m in \u001b[0;36m<module>\u001b[0;34m()\u001b[0m\n\u001b[0;32m----> 1\u001b[0;31m \u001b[0mlen\u001b[0m\u001b[0;34m(\u001b[0m\u001b[0mdf_agg\u001b[0m\u001b[0;34m.\u001b[0m\u001b[0mcolumns\u001b[0m\u001b[0;34m.\u001b[0m\u001b[0mvalues\u001b[0m\u001b[0;34m)\u001b[0m\u001b[0;34m\u001b[0m\u001b[0m\n\u001b[0m",
      "\u001b[0;31mNameError\u001b[0m: name 'df_agg' is not defined"
     ]
    }
   ],
   "source": [
    "len(df_agg.columns.values)"
   ]
  },
  {
   "cell_type": "code",
   "execution_count": 18,
   "metadata": {
    "collapsed": false
   },
   "outputs": [],
   "source": [
    "with open('homestuck_agg.tsv','r') as f:\n",
    "    test = f.readlines()"
   ]
  },
  {
   "cell_type": "code",
   "execution_count": 21,
   "metadata": {
    "collapsed": false
   },
   "outputs": [],
   "source": [
    "length = []\n",
    "for line in test:\n",
    "    length.append(len(line.split('\\t')))"
   ]
  },
  {
   "cell_type": "code",
   "execution_count": 30,
   "metadata": {
    "collapsed": false
   },
   "outputs": [
    {
     "name": "stdout",
     "output_type": "stream",
     "text": [
      " him Yerkir\"\", Mituna responds, \"\"Hey if uh, you don\\'t mind me asking... where\\'s your sign?\"\"\\n\"\"M-my sign?\"\" You had asked mother the same question before, but she had always avoided the topic of what she called the Hemospectrum. \"\"I don\\'t think I have one actually\"\"\\n\"\"You don\\'t have one? What are you a signless?\"\" Mituna jokes, \"\"Next you\\'re going to tell me that you\\'re not even on the Hemospectrum\"\"\\n\"\"Uhh\"\" You\\'re not sure what to say at this point, are you in trouble? Is it bad that you\\'re not on the Hemospectrum? Surely mother would have told you, considering that she\\'s so protective of you.\\n\"\"HAHAHA YOU SHIT....I\\'m sorry, I\\'m kidding. I don\\'t mean to pry hehehehe\"\"\\n\"\"That\\'s ok I suppose\"\", you respond, \"\"Do you want to play?\"\"\\nThe three of you then proceed to play a game that the author of this fic is much too lazy write out. It is getting late and daylight is drawing near. Mituna then notices another troll approaching your small opening.\\n\"\"Hey who\\'s that? Do you know who-\"\", Mituna asks\\n\"\"Mommy!! Sorry I was just about head home right now! Don\\'t worry!\"\" , you respond. Porrim (your mother) doesn\\'t say a word, she just clasps your hand firmly and pulls you back to your hive.\\n\"\"Mommy? Was that older troll his guardian or something?\"\" Mituna speaks aloud to Yerkir. The latter doesn\\'t respond but looks equally confused. They are both left wondering what an odd troll you are as your mother drags you back home.\\n\\xc2\\xa0\\n\\n\\n\\n\\nNotes:\\n\\nMan I dunno why I keep doing this lol. If there are any mistakes in the lore, grammar etc. Please let me know :o\"\t1\t9\t1431\t\t\n",
      "\n",
      "n\\n\\n\\n\\nNotes:\\n\\nSERIOUSLY I LOVE CAPSLOCK,It took a lot of coaxing but eventually John sat on one of the beds and the nurse pulled his sleeves down to reveal a pair of badly scratched up wounds on his forearms to the palms of his hands. \"\"Oh my!\"\" the nurse said and the female troll who had been hiding was standing next to her now gasped loudly and then slapped a hand over her mouth, realizing her mistake. \"\"Damn! Are you a fucking idiot? Oh wait let me guess, yes, yes you are. That is NOT okay!\"\" the male troll yelled and held one of his arms up gently, as to not hurt John. John just kept his head down and stayed silent as they looked at his blood covered wrists. \"\"Well there is glass in there for sure. Some of it is kinda deeper than I thought it\\'d be. We\\'ll need the tweezers. Come on Nep, help me find them.\"\"  the nurse said as she pulled Nepeta away, towards the closet.\\nJohn just sat there for a minute in silence, the troll who had brought him here still holding his wrists. \"\"......Y-You know you don\\'t need to stay right? You have class to go to. I\\'m sure the nurse will take care of me.\"\" John said, avoiding his eyes from the other boy. \"\"I can skip a class or two you fuckass. Besides I feel like you\\'re my responsibility now, since I\\'ve been helping you out all day. But I\\'m only helping you today, don\\'t think we\\'ll become friends you ignorant nooksniffer.\"\" the other half growled, half said in slight care. John looked up and over at the other when he said they couldn\\'t be friends. Did the troll not like John already? \"\"O-Oh... O-Ok....\"\" John stuttered out, a bit sad, he truly had hoped to be friends with at least the guy who had helped him out. The troll looked up at John and snarled. \"\"Why the fuck are you upset? It\\'s not like we even know each other.\"\" he growled angrily. \"\"Um.... I-It\\'s just that I thought that m-maybe we could\\'ve been friends. But I guess you just wanted to help out a charity case for the day.\"\" John said, feeling strangely a little more confident than usual. The trolls hold on Johns wrists tightened and the troll growled. \"\"I am NOT doing this as a charity case you fucking asshat! Why the fuck would I would I just stand by and let someone be fucking hurt? I have a fucking conscious you dumbass. I don\\'t know if you\\'re used to people being assholes to you on a regular basis, but here atleast SOME of us aren\\'t fucking dick-wads.\"\" he growled angrily, staring John in the eyes to prove his point. John felt his face heat up, was he really that much of a masochist? \"\"Um ok? Could you, I don\\'t know, loosen your grip? It\\'s starting to hurt.\"\" John said, shaking his head as if it could rid him of the blush across his face. \"\"Oh shit, fuck, sorry!\"\" the troll stammered and let go of John entirely, leaving a strange cold feeling that John strangely seemed to miss. \"\"I-it\\'s alright.\"\" John mumbled and laid his hands back into his lap, staring at them quietly. \"\"..... Karkat.\"\" the troll grumbled so quietly John almost missed it. \"\"What?\"\" John said raising his eyes back up to the troll. \"\"My name\\'s Karkat, Karkat Vantas you idiotic shithead. We may not be fucking friends but I\\'ll at least tell you my motherfucking name.\"\" the troll -scowled-, not looking at John but everywhere else. John sat there shocked for a moment before his biggest, derpiest grin spread over his face. \"\"Car-cat? Haha! Beep beep moew!~\"\" John giggled. Karkat whipped his head around and glared into Johns eyes. \"\"Don\\'t you dare ever do that again! It\\'s Karkat, and it\\'s spelled with k\\'s not fucking c\\'s!\"\" Karkat snarled, only succeding in making John giggle harder. \"\"You know you\\'re pretty funny when you\\'re angry, Karkat!\"\" John giggled. \"\"How the fuck is wanting to rip your head off fucking funny?!\"\" he snarled back. \"\" I don\\'t know, it just is.\"\" John said shrugging.\\nBefore Karkat could retaliate, the nurse and Nepeta come out of the closet. \"\"Sorry for the wait! The little suckers were hidding under the bandages!\"\" the nurse said, clicking the tweezers as proof as the walked over. \"\"Now hold out your wrists and try to keep them still so I can get the glass out ok?\"\" the nurse said, gently turning one of Johns wrists around to face her. \\nIt took a couple of minutes to get all the glass out. What with John hissing and trying to pull his arms away when it hurt. But they eventually got the glass out and wrapped up his wrists with -gauze-. \"\"There you go! You\\'re all set! Don\\'t get any more glass in your arms ok?\"\" the nurse teased as John pulled his sleeves down over the bandages. \"\"I promise I won\\'t.\"\" John joked back. \"\"Um, you\\'re new right? Do you know where your classes are?\"\" the female troll called Nepeta asked. But before John could reply, Karkat spoke. \"\"I\\'ll show him where he needs to go, ok? So don\\'t worry about him.\"\" Nepeta nodded and gave Karkat a big smile, she obviously had a crush on the boy. \"\"Ok, see you at lunch Karkitty!\"\" Nepeta said before turning around and hopping back into the nurses office. \"\"K-Karkitty huh?\"\" John sputtered into his hand, trying not to laugh. Karkat glared down at John, an angry -scowl- on his face. \"\"Shut the fuck up you -imputent- bulgesniffer. I can\\'t control what Nepeta says. Now give me your fucking schedule!\"\" Karkat snarled before ripping the schedule out of Johns hands. Karkat looked it over real quick before goaning. \"\"Well aren\\'t you fucking lucky, we have almost all our classes together. Just fucking follow me ok?\"\" Karkat snarled, shoving the paper back at John as the bell for third period rung and the halls began to fill with people. Karkat stalked off down one of the halls, John -prancing- right on his heals to not lose him, a bright smile across his face.\\n\\n\\n\\n\\nNotes:\\n\\nOk so, I lost my Kindle, which had /all/ of my work in it for a few months. Forgot about it. Got writters block. Lost interest in the ship... But I know how it feels when you start to like a story and then it just /stops/ so I\\'ll try my best! Again I\\'m so sorry! TT^TT,After third period, Karkat show\\'d John his forth period class saying \"\"Stay right the fuck there when class is over and I\\'ll come fucking get you and take you to your next class. Got that fucker?\"\" So John waited by the door for Karkat. It wasn\\'t long before John saw his grumpy face and bounced over to him. \"\"What are you a god damned pawbeast?\"\" Karkat said in a grumpy tone, but John heard the sound of a chuckle in his voice and smiled brighter as Karkat led the way to fifth period.\\nOnce fifth period was done John had lunch. Karkat led John down to the lunchroom. \"\"You don\\'t need me to fucking show you how to get lunch and sit do you?\"\" Karkat said, obviously teasing. John looked around the lunchroom quickly before spotting a blonde wearing shades sitting in the back of the cafeteria. \"\"Nope! Thanks for helping me around Karkat, I\\'m gonna go sit with my friends!\"\" John said -giddely-. \"\"You have friends? Hard to believe. Wait, if you had friends then why\\'d I have to fucking show you around?!\"\" Karkat snarled and John giggled. \"\"You offered, and I couldn\\'t find them! But uh, yeah, thanks again for earlier. See you later!\"\" John yelled waving back at Karkat as he scurried over to Dave.\\nAs John got closer he noticed another blonde by Dave, one who was sitting correctly and was knitting as she talked to a female troll beside her. \"\"Dave, Rose!\"\" John said as he got closer, causing the two to look up. Rose gave John a small smile, while Dave stayed pokerfaced. \"\"Well if it isn\\'t little Johnny. I thought you ditched out on us today, seeing as how you didn\\'t show up.\"\" Dave said as John sat down. \"\"Oh yeah, sorry about that. I um, got caught up in something.\"\" John said awkwardly rubbing the back of his neck. \"\"John, I\\'d like you to meet Kanaya. Kanaya this is my friend John.\"\" Rose said, waving her hand between the two. \"\"Nice to meet you Kanaya!\"\" John said, giving her a bright smile, which she returned. \"\"Likewise John.\"\" Kanaya said. \"\"They\\'re -interspeices- lesbian girlfriends John.\"\" Dave said before yelping out when Rose elbowed him. \"\"Oh sorry, my arm slipped.~\"\" Rose said in a bittersweet voice before turning her attention back to Kanaya. \"\"So um, where\\'s Jade?\"\" John said. \"\"She\\'s-\"\" Dave started but a body tackled itself into the back of John, wrapping their arms around his neck. \"\"Jooooohn! I can\\'t believe it\\'s really you! Where on earth were you this morning????\"\" the person said before letting go to sit next to John. \"\"Jade! Oh wow I\\'ve missed you! It\\'s a long story.\"\" John said, pulling her in for a one armed hug. Jade smiled back at John, \"\"So where were you this morning?\"\" she asked. \"\"Um well I kinda got into some trouble on my way here, but it\\'s all ok now!\"\" John said. Jade looked at John worriedly, while Rose stopped in her conversation to look at John, causing him to blush slightly. \"\"What kind of trouble are we talking about John?\"\" Rose said, as Jade wrapped an arm around his shoulders. \"\"Nothing much, I just got startled by some kids and ran. Tripped over my own feet to but what else is new?\"\" John shrugged, trying to give them his best \\'lets drop it now\\' smiles. To bad Jade was oblivious.\\n\"\"Who chased you?!\"\" Jade practically yelled, making some others look over at them. \"\"Harley stop shouting, you want the entire school to hear you?\"\" Dave said, as John glanced around nervously. \"\"Who gives a fuck? No one, and I mean no one hurts my cousin and gets away with it!\"\" Jade growled. \"\"J-Jade stop! You\\'re causing a scene! Look I\\'m alright, besides some guy came up and helped me so it\\'s alright!\"\" John squeaked out. \"\"Oh really? Who?\"\" Rose said in a curious, elegant way. \"\"Yeah John, who? Who\\'s this knight in shining armour who swooped in to wisk you away to \\'Happy Ever After\\'?\"\" Dave said sarcastically. \"\"Yeah come on John! Who is it so I can thank them!\"\" Jade said in delight, all of them staring at John now, even Kanaya. John looked down at the table bashfully, his face getting redder. \"\"Karkat....\"\" John mumbled. \"\" Did you say Karkat? As in Karkat Vantas? That Karkat?\"\" Jade asked, sounding confused. John looked up and looked at her in bewilderment. \"\"Yeah how\\'d you know?\"\"John asked cocking his head slightly. \"\"There\\'s no way in hell Karkat Vantass helped you out John. Dudes to much of a dick.\"\" Dave replied, Jade nodding her head in agreement. \"\"He\\'s not that bad. He\\'s just not very good with others.\"\" Kanaya finally said. \"\"Nope dude\\'s a dick, has been and always will be.\"\" Dave said in a matter of fact voice. \"\"Dave\\'s right. You sure it was Karkat, John? Kinda big, sharp teeth, red eyes, shortest little horns you\\'ve ever seen?\"\" Jade said. \"\"That\\'s him, I don\\'t see why you guys hate him, I mean he yells and curses a lot but I mean come on, that\\'s just what\\'s so funny about him!\"\" John said, throwing his arms up in the air for -enfisous-. \"\"Well he hates everyone and everything so it\\'s really hard not to dilike him. He always is saying how everyone but him is stupid, not to mention he criticizes every little thing!\"\" Jade almost shouted, mimicking Johns actions. \"\"He really hates me.\"\" Dave said in a monotone voice, which made John turn to look at him. \"\"Why? What did you do to him?\"\" John asked curiously. \"\"Stole his girlfriend. Well, his ex-girlfriend. He was still hung over her though so he despises me.\"\" Dave said shortly, the only movement in his face coming from his mouth. John just stared at him in astonishment for a few seconds, blinking at him. \"\"Well hell dude, why wouldn\\'t he be mad? You come out of nowhere and put your \\'Strider\\' moves all on his ex and then take her away from him. Hell I\\'d be pissed to if it were me!\"\" John exclaims. \"\"Yeah I know. It\\'s to bad she\\'s busy trying to hang pleople though. I was hoping you could meet her.\"\" Dave said, almost a smirk on his face. \"\"Ok can we get back to the part where Karkat was \\'nice\\'? I mean seriously! John you had to have been dreaming! Karkat\\'s anything but nice! And he certainly wouldn\\'t be nice to a stranger!\"\" Jade declared.\\nJohn huffed. \"\"Look he said we weren\\'t going to be friends anway so can we stop talking about this?\"\" John huffed out, crossing his arms over his chest. \"\"I think you\\'re wrong John. Karkat doesn\\'t just act nice for anyone. I\\'m sure you two will become friends some day.\"\" Kanaya said before standing up. \"\"Now I\\'m sorry to leave, but I must go to the library and get a book for my Literature class. It was a pleasure to meet you all. I\\'ll see you in Math Rose?\"\" Kanaya said. \"\"But of course Kanaya.\"\" Rose said, nodding. Kayana nodded back before leaving.\\n\"\"So what\\'s your schedule like John?\"\" Jade asked in a sing-song tone. John pulled out his schedule and handed it over to her. \"\"Oh this is great! You have Gym with me and Dave next! Oh, plus your with Rose second period! It\\'s to bad that those are the only classes we share though...\"\" Jade mumbled at the end, biting her bottom lip with her equally as bad buckteeth as John. \"\"At least I have classes with you guys right?\"\" John said happily and shrugged. Jade turned and handed John his paper back, which he quickly stuffed in his pocket, and gave him the biggest smile John had ever seen. \"\"That\\'s right!\"\" Jade said happily before the bell rang. \"\"Come on let\\'s hurry!\"\" Jade said already out off her seat and pulling John up. John just laughed. \"\"Alright, alright I\\'m coming! Give me a second!\"\"\\n\\n\\n\\n\\nNotes:\\n\\nDEAR GOD SHOT ME I\\'M WRITING AGAIN. I DONT EVEN SHIP THIS ANYMORE WTF. I STOPPED SHIPPING IT WHEN ME AND MY KARKAT BROKE UP. They found a new John and didn\\'t need me anymore... Plus we stopped RPing all together so meh.Also can /ANYONE/ tell me how to slant and highlight my words? I would really like to know. Thanks! <3,Gym didn\\'t go as bad as John thought. They just did stretches and fooled around with the basketball. He was happy that he had Jade and Dave but he couldn\\'t help the feeling he got when he saw that Karkat wasn\\'t in his Gym class. After Gym was over Jade hooked him by the arm. \"\"Dave we can\\'t leave our little princess alone! Who knows what might happen to John!~\"\" Jade teased. \"\"Yeah, don\\'t want little princess John to get molested in the halls now do we?\"\" Dave said, taking Johns other arm as John groaned. \"\"I\\'m about as much as a princess as you Harley!\"\" John whined as they begun to drag him towards his last period. \"\"I\\'m not the one who needed a knight in shining armour today now was I?~\"\" Jade teased before laughing and looking mischievously at Dave. Jade and Dave then broke out in chorus singing \"\"Pretty princess John, our little princess John, saved by his knight in shining armour!~\"\" John face palmed. \"\"Why am I even friends with you guys again?\"\" John whined. \"\"Because you love us!~\"\" Jade exclaimed before going back to the song.When they got to Johns last period Jade patted him on the back. \"\"You go get \\'em princess! We\\'ll be rooting for you!\"\" Jade said with a grin as John chuckled. \"\"Yeah, yeah. Thanks guys. I\\'ll message you guys on pesterchum later!\"\" John said as he went to the door. \"\"Bye dude!\"\" Dave said, taking Jades arm in his, in replace of Johns. \"\"Talk to you later John!\"\" Jade replied happily before skipping down the hall singing \"\"We\\'re off to find the wizard, the wonderful wizard of Oz!\"\"John slipped into his class happily. \"\"You\\'re the new student right?\"\" the teacher at the front of the class said, to which John nodded. \"\"Take any empty seat.\"\" the teacher said, flicking her wrist towards the class. John quickly scanned the area and grinned brightly as he saw someone he knew and started skipping over to him. Before he got there though someone stuck their foot out infront of him and tripped him. The whole class arupted into laughter as John blushed and scrambled to pick himself up. \"\"Mr. Trenis! Go to the principles office right now!\"\" the teacher yelled at the boy who tripped John. As John stood up and say him he froze. It was one of the guys from that morning, and he was smirking devilishly at John. \"\"Why should I? The boys a fag!\"\" the boy snapped. There was the sound of a chair flying back and as soon as John blinked the boy was being held up by his collar by none other than Karkat Vantas. \"\"You want to say that again fucker?\"\" Karkat snarled at the boy, who was slightly trembling in his arms. \"\"Mr. Vantas please! Let him go this instant or your both going to the principles office!\"\" the teacher yelled, hurrying over. Karkat huffed and dropped the boy back onto his seat before turning around and grabbing Johns arm, dragging him to the back of the classroom. \"\"Mr. Trenis, you will go see the principal right now!\"\" the teacher yelled grabbing the boy by his arm and dragging him out of the class.John could only sit stunned when Karkat shoved him into an empty seat in the back and sat next to him growling. \"\"Stupid fucks, picking on those who can\\'t fight back.\"\" Karkat grumbled, bringing John back to reality. \"\"Uh I can fight, I just choose not to! But um... Yeah... Th-Thanks again...\"\" John said, his face getting a bit pink at the end as he looked away from Karkat. \"\"If you can fight then Sollux isn\\'t a piece of shit.\"\" Karkat grumbled. \"\"I don\\'t know any Sollux, but I do know I can fight! I just don\\'t like hurting others if it\\'s not necessary!\"\" John snapped back, turning to glare at the troll. \"\"A scrawny human like you? Yeah right. I\\'ll believe it when I see it.\"\" Karkat chuckled. John just stared at him a few seonds confused before shaking his head. \"\"I don\\'t get you, one minute you\\'re nice and the next you\\'re an asshole!\"\" John said. John could see Karkat chuckle and roll his eyes in the corner of his eyes. \"\"I try to actually help those who need it you dumb fuck.\"\" Karkat said short and sweet as the teacher came in and gave them their assignments. There was a little while of silence, the two working on their papers before everything that the boy who tripped John said came to him. John quickly turned towards Karkat, all ready finished his work. \"\"Look what that guy said, I\\'m not gay. I\\'m far from gay!\"\" John sputtered, feeling his face heat up slightly. Karkat gave him a bored look. \"\"Ok? Why the ever loving fuck do I care? You could be attracted to god damn woof beasts for all I care. Besides I\\'m a troll if you didn\\'t fucking realize, and we don\\'t have \\'genders\\' like you human fucks do.\"\" Karkat said, finishing up his work. \"\"Yeah, yeah, I know. Trolls are pansexual blah blah. I just thought I should say it.\"\" John said turning back around to face the front, laying his head on his arm that he had propped up on the table. Another round of silence came before John spoke up. \"\"You know whatever happened between you and Dave has nothing to do with me right? I can\\'t control Dave and I don\\'t know what all happened between you two but I\\'m not apart of it. Plus I can see why you\\'d be mad at Dave, he stole the girl you loved.\"\" John said, not facing Karkat. Karkat turned towards John and just stared at him. \"\"Why the fuck are you talking about that? You\\'re right it has abso-fucking-lutly nothing to do with you. I don\\'t want your symphony you god damn nooksniffer!\"\" Karkat growled low and John turned to look back at him. \"\"It\\'s not symphony you jerk! I just understand is all! And what the hell is a god damn nook?!\"\" John hissed at him. Karkat looked at John first in confusion and then in disgust. \"\"You\\'re a god damned motherfucking idiot! You don\\'t just ask what a fucking nook is you piece of shit!\"\" Karkat snarled, glaring into Johns eyes. \"\"Well you shouldn\\'t have brought it up you ass! God why are we even fighting?!\"\" John snapped back. \"\"Because you\\'re an idiot who decided to ask a god damn stupid question!\"\" Karkat snarled. John rolled his eyes and tore a piece of paper from his notebook, scribbling something on it before folding it up and putting it on Karkats desk. \"\"That\\'s my pesterchum name. If you want to talk you csn message me, even if you don\\'t want to be friends.\"\" John said a second before the bell rang and he hopped up. \"\"See you Karkat!\"\" John said as he scurried out of the class and towards his locker.When John got to his locker it was surrounded by Dave, Jade, and Rose. \"\"How did you guys-?\"\" John began before Jade interrupted him. \"\"I got it from the office, told them my cousin had my keys.\"\" Jade said happily as John opened his locker and shoved some papers into his back, some into the locker, before putting it on. \"\"So are you up for some pizza John?\"\" Dave asked. John shook his head sadly, looking at them with apologetic eyes. \"\"Sorry, can\\'t. Gotta get home and do my homework. Who would\\'ve thought I\\'d have so much on my first day?\"\" John said with a small chuckle at the end. \"\"Aw, but I really wanted you to come with us!\"\" Jade whined. \"\"Jade he has work to do, as do you and Dave, only he\\'s making the smart decision and doing it.\"\" Rose said matter-of-factly. \"\"Homeworks boring though! Besides I can get it done later!\"\" Jade whined. \"\"Look guys I gotta get home but I\\'ll talk to you all on pesterchum later alright?\"\" John said, slowly inching away. \"\"You better!\"\" Jade said, wrapping her arms around John in a big hug. John laughed as he hugged her back, then quickly detached himself from her, waving down the hall waying back at them.~~~~~~~~John had just finished all his homework. It had seemed like a lot but it all was actually pretty simple. He was about to leave his room to see if there was anything edible other than baked goods in the kitchen when he heard his pesterchum beep. He pulled up Pesterchum and saw he had a message from someone whos chumhandle he didn\\'t reconize.\\n\\n\\n\\n\\nNotes:\\n\\nSorry I haven\\'t posted, I\\'ve been forgetful and lazy lately. I\\'m actually gonna dedicate this chapter to Shinju_Tori for they have read both my stories. Thanks for that! Anyway I loce you all!~ Have a fantastic day!~ <3\"\t10\t81\t1549\t\t\n",
      "\n",
      " The lady maintained Vriska\\xe2\\x80\\x99s wardrobe and gave her a roof to sleep under, but that was it. She was never one to coddle her daughter, and that was how Vriska learned to defend herself. Although the house she lives in is rather spacious and uppity-looking, the neighborhood surrounding it is anything but. She\\xe2\\x80\\x99s had many adventures there, but not all of them were fun.Vriska opts to lock herself in her room rather than deal with an encounter with her mother, and opens her laptop as she flounces onto her bed. Her Pesterchum app lights up and sounds a ding but she sticks her tongue out at the screen and closes the lid again. She lays back and drops her head onto the pillow, absentmindedly tugging at her sleeve. It rides up, but she closes her eyes before getting a decent view of her forearm.She falls asleep almost immediately, leaving her arm exposed.\\n\\n\\n\\n\\nNotes:\\n\\ngasp what\\'s with all this shit about her arm is this a slight cliffhanger i detectagain, i\\'m extremely sorry about the long wait for this chapter! i\\'ve been very busy lately and only got time to finish this chapter today. i hope that there won\\'t be another wait that long, but i can\\'t promise anything. my schedule isn\\'t as full anymore though, so i think we\\'re okaypester me to update at therealdeidara.tumblr.com,HELLO THERE FRIENDS. ok first things first: i am very much not dead! my friend called 911 and they got me into a hospital to make sure the pills i took weren\\'t fatal, and later moved me up to the psych unit! i was in there for about 5 days, i think (you lose track of time when you can\\'t go outside and shit blargh) but i just got discharged and the first thing i did was check my tumblr inbox and the comments here! (hehe i bet a bunch of the fics i\\'m following updated, score) BUT. thank you all so much for your comments and thank you to those of you who left messages on my tumblr!!!! i\\'ve written a few oneshots while i was in the hospital, but i\\'m gonna try and get back into the vriskan groove for you all! i\\'m on antidepressants now and feeling better than ever. THANK YOU ALL SO MUCH! i promise i\\'ll try my best to do longer and more consistent updates here, but i promise i\\'m not abandoning this story!! thanks again!!! - Lauren\"\t15\t49\t1176\t\t\n",
      "\n",
      "up. \"\"Jutht needed to show you what  happenth,  when you let me know you need thomething ... intense,\"\" you  tell him, running your claws over his scalp, petting his hair. \\xc2\\xa0\"\"I  fucking deliver, OK?\"\"\"\"Dickface,\"\"  he says, and grimaces, a shaking hand hovering over the tender -  already swelling - area where you pierced him. \\xc2\\xa0\"\"Give me a fuckin\\'  mirror, I wanna see this.\"\"You are Sollux Captor and you have never owned a mirror in your life.Eridan sighs and rolls his eyes -  obviously   you don\\'t have a coddamn mirror - and fishes one out of his discarded jeans. \\xc2\\xa0Your stomach flips with disgust. \\xc2\\xa0Who carries a fucking mirror with them  wherever they go?You don\\'t complain, though, because when he sees the jewelry glittering in his fin, his whole face lights up.It\\'s a thick, chunky spade, finished a polished black: in the center, you carved your sign.\"\"Sol,\"\" he murmurs, choking up a little. \\xc2\\xa0\"\"Fuck.\"\"\"\"You\\'re eathy to pleathe,\"\" you mutter, shrugging, curling your lip up. \\xc2\\xa0\"\"If it\\'th shiny you\\'ll jizz yourthelf over it.\"\"\"\"Shut your fuckin\\' ugly face,\"\" he sniffs, and much to your horror, he wraps his arms around your waist. \\xc2\\xa0\"\"Thank you.\"\"\"\"Thtop it,\"\" you grumble, but you can\\'t really muster enough revulsion to shove him off.... Right, there was one last thing.\\xc2\\xa0 One last Big Thing, the thing that was 0% masturbatory fantasy and 100% Trying To Make This Relationship Work.Rather than displace him, you summon it from behind the couch with a small flourish of blue. \\xc2\\xa0\"\"Here, thith ith your actual prethent,\"\" you mumble, shoving it at him.He blinks. \\xc2\\xa0Frowns. \\xc2\\xa0\"\"Sol, the fuck is this?\"\"\"\"A fucking headthet, you technologically illiterate imbethile.\"\"\"\"Why the  fuck  would I need a fuckin\\' headset, Sol, that\\'s basically totally fuckin useless for me -\"\"\"\"Becauthe I can\\'t  not  be  an introverted fuckath who thtayth in hith hive for a perigee and a  half being a fucking geniuth programmer,\"\" you growl, and he shuts up,  staring at you in a measuring way. \\xc2\\xa0\"\"And you can\\'t not be a thtupid  fucking  LARPer  who gothipth conthtantly and loveth thportth. \\xc2\\xa0Tho. \\xc2\\xa0Call me on thith,  if you want to talk or whatever. \\xc2\\xa0It\\'ll get through to me.\"\"... Eridan doesn\\'t say anything.He holds you tighter, though, silently pressing his face into your stomach, pressing his cheek against the wound in your thigh.You figure that means that you\\'ve leveled up or something. \\xc2\\xa0Sollux Captor and Fishlips: blackest kismessitude around. \\xc2\\xa0Everyone el2e go home. \\xc2\\xa0Happy caliginous endings for everyone....  And then Eridan picks up the fucking cuffs you spent a whole fucking  day building, holds them in both hands, and snaps them in half with  absolutely disgusting ease, smirking up at you.\\xc2\\xa0 He\\'s grinning like he won the whole pool betting on the Cullings.For  a moment you\\'re too stunned to react; he yawns, contemptuously, and  drops the mangled pieces on the floor. \\xc2\\xa0\"\"Yeah, so, Sol, next time, let me use  my fuckin\\' hands, okay?\"\"He was fucking with you again the whole fucking time.\"\"You  bitch,\"\"  you hiss.\"\"Yours, though,\"\" he points out, grinning like a fucking moron.Jegus fuck.   You fucking hate this guy.\"\t64\t9\t1881\t1871.0\t10.0\n",
      "\n",
      "x9cNo.\\xe2\\x80\\x9d\\xe2\\x80\\x9cBro, c\\xe2\\x80\\x99mon.\\xe2\\x80\\x9d\\xe2\\x80\\x9cAnd wake up covered in bruises with your drool in my hair? No. I\\xe2\\x80\\x99m not done with this yet.\\xe2\\x80\\x9dHe peers at your shoulder at the paused game\\xe2\\x80\\x94\\xe2\\x80\\x9cLooks all frozen to me.\\xe2\\x80\\x9d\\xe2\\x80\\x94and then he\\xe2\\x80\\x99s kneading your neck and shoulders and your annoyance promptly evaporates as your brain short circuits. Your head tilts back automatically, your eyelids fluttering closed as you blurt a low groan.\\xe2\\x80\\x9cGoddamn, brother, how long you been in that chair?\\xe2\\x80\\x9dGamzee\\xe2\\x80\\x99s thumbs of steel slip past the collar of your shirt and press a knot between your shoulders. Your spine pops and you make a thin, high sound in the back of your throat and nearly die of embarrassment then and there. You crack your eyes open to slits and glare up at him, your lips parting slightly in a dazed attempt at a sneer, but the only sound you can manage is, \\xe2\\x80\\x9cNnnhhhhhhh.\\xe2\\x80\\x9dHe smiles, which only infuriates you further. \\xe2\\x80\\x9cC\\xe2\\x80\\x99mon. Up.\\xe2\\x80\\x9d He\\xe2\\x80\\x99s pulling you out of the chair before you can form any sort of protest, and before you know it he is marching you out of the room and down the hall.\\xe2\\x80\\x9cGamzee\\xe2\\x80\\x94\\xe2\\x80\\x9d\\xe2\\x80\\x9cNot another word, bro. You can kick the motherfuckin\\xe2\\x80\\x99 shit out of those goblins tomorrow.\\xe2\\x80\\x9d\\xe2\\x80\\x9cTrolls.\\xe2\\x80\\x9dHe steers you into the bedroom. \\xe2\\x80\\x9cFuck the trolls, they can just motherfucking chill. Even bad ass bitchtits wizards like you gotta get your nap on sometimes.\\xe2\\x80\\x9d\\xe2\\x80\\x9cMages.\\xe2\\x80\\x9d\\xe2\\x80\\x9cHowever the fuck it goes, bro.\\xe2\\x80\\x9dYou scowl as he plunks you onto the bed and pulls his hoodie over his head. As you blink at his bare chest, he stabs a finger at you. \\xe2\\x80\\x9cStay. Be right back.\\xe2\\x80\\x9dYou have just enough time to frown before he disappears into the bathroom. You hear him splashing his face, and as the sound of him brushing his teeth reaches your ears, you absently run your tongue over your own, making a face at the sour film left over from who the fuck knew how many energy drinks and sodas.The bathroom light clicks off before you can decide whether brushing your teeth would be too much effort at this point, and then you forget about that entirely as Gamzee returns with his pants fisted in one hand.You snort\\xe2\\x80\\x94he wore the tuxedo print boxers today.You fold your arms and glare, but sigh your defeat the moment he tosses his jeans in a corner and crawls in with you. He gives you enough time to peel off your own pants before he pulls you close and twines around you.You hunch your shoulders and curl up, refusing to settle fully into your pillow. \\xe2\\x80\\x9cYou smell like a fucking bar.\\xe2\\x80\\x9dHe breathes a relaxed sigh into your hair. \\xe2\\x80\\x9cYeah, we had a good gig. Merch table even sold out.\\xe2\\x80\\x9dGamzee proceeds to tell you how it all went, how his C string broke during the second set, how they caught some teenager stealing a CD but let her keep it in the end, how some drunk dude came about a foot away from puking all over their drummer\\xe2\\x80\\x99s shoes.All the while, his hands wander. Nothing lewd, just gentle, soothing touches. You bristle and squirm at first\\xe2\\x80\\x94you always object to this at first, this petting bullshit\\xe2\\x80\\x94but his voice is low and scratchy and his breath falls against your shoulder and you can\\xe2\\x80\\x99t help but relax into it, and goddamnit, your eyelids are getting heavy and your brain is already shutting off andthis is sofuckingunfair.\"\t7\t1\t2130\t2130.0\t0.0\n",
      "\n"
     ]
    }
   ],
   "source": [
    "for line in test:\n",
    "    if len(line.split('\\t')) == 6:\n",
    "        print(line)\n"
   ]
  },
  {
   "cell_type": "code",
   "execution_count": 24,
   "metadata": {
    "collapsed": false
   },
   "outputs": [],
   "source": [
    "from collections import Counter"
   ]
  },
  {
   "cell_type": "code",
   "execution_count": 26,
   "metadata": {
    "collapsed": false
   },
   "outputs": [
    {
     "data": {
      "text/plain": [
       "Counter({6: 5, 8: 5, 13: 35526})"
      ]
     },
     "execution_count": 26,
     "metadata": {},
     "output_type": "execute_result"
    }
   ],
   "source": [
    "Counter(length)"
   ]
  },
  {
   "cell_type": "code",
   "execution_count": null,
   "metadata": {
    "collapsed": true
   },
   "outputs": [],
   "source": []
  }
 ],
 "metadata": {
  "anaconda-cloud": {},
  "kernelspec": {
   "display_name": "Python [python35]",
   "language": "python",
   "name": "Python [python35]"
  },
  "language_info": {
   "codemirror_mode": {
    "name": "ipython",
    "version": 3
   },
   "file_extension": ".py",
   "mimetype": "text/x-python",
   "name": "python",
   "nbconvert_exporter": "python",
   "pygments_lexer": "ipython3",
   "version": "3.5.2"
  }
 },
 "nbformat": 4,
 "nbformat_minor": 0
}
