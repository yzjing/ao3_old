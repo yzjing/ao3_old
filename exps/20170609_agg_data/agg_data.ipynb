{
 "cells": [
  {
   "cell_type": "code",
   "execution_count": 101,
   "metadata": {
    "collapsed": true
   },
   "outputs": [],
   "source": [
    "import pandas as pd\n",
    "from datetime import date\n",
    "import numpy as np"
   ]
  },
  {
   "cell_type": "markdown",
   "metadata": {},
   "source": [
    "#### Some features are chapter-wise, but the Kudos and Hits data is work-wise.\n",
    "#### So aggregate the chapter-wise features."
   ]
  },
  {
   "cell_type": "code",
   "execution_count": 90,
   "metadata": {
    "collapsed": false
   },
   "outputs": [],
   "source": [
    "df = pd.read_csv('../../data/shakespare_william_works_preprocessed.tsv', sep = '\\t')"
   ]
  },
  {
   "cell_type": "code",
   "execution_count": 91,
   "metadata": {
    "collapsed": false
   },
   "outputs": [
    {
     "data": {
      "text/plain": [
       "array(['AdditionalTags', 'ArchiveWarnings', 'Author', 'Bookmarks',\n",
       "       'Category', 'ChapterIndex', 'Chapters', 'Characters', 'Comments',\n",
       "       'CompleteDate', 'Fandoms', 'Hits', 'Kudos', 'Language', 'Notes',\n",
       "       'PublishDate', 'Rating', 'Relationship', 'Summary', 'Text', 'Title',\n",
       "       'URL', 'UpdateDate', 'Words'], dtype=object)"
      ]
     },
     "execution_count": 91,
     "metadata": {},
     "output_type": "execute_result"
    }
   ],
   "source": [
    "df.columns.values"
   ]
  },
  {
   "cell_type": "markdown",
   "metadata": {},
   "source": [
    "#### Fields we're interested in"
   ]
  },
  {
   "cell_type": "code",
   "execution_count": 92,
   "metadata": {
    "collapsed": true
   },
   "outputs": [],
   "source": [
    "df = df[['Author','Bookmarks','Chapters','Comments','CompleteDate','Hits','Kudos',\\\n",
    "         'PublishDate','Text','Title','UpdateDate','Words']]"
   ]
  },
  {
   "cell_type": "code",
   "execution_count": 93,
   "metadata": {
    "collapsed": false
   },
   "outputs": [
    {
     "data": {
      "text/html": [
       "<div>\n",
       "<table border=\"1\" class=\"dataframe\">\n",
       "  <thead>\n",
       "    <tr style=\"text-align: right;\">\n",
       "      <th></th>\n",
       "      <th>Author</th>\n",
       "      <th>Bookmarks</th>\n",
       "      <th>Chapters</th>\n",
       "      <th>Comments</th>\n",
       "      <th>CompleteDate</th>\n",
       "      <th>Hits</th>\n",
       "      <th>Kudos</th>\n",
       "      <th>PublishDate</th>\n",
       "      <th>Text</th>\n",
       "      <th>Title</th>\n",
       "      <th>UpdateDate</th>\n",
       "      <th>Words</th>\n",
       "    </tr>\n",
       "  </thead>\n",
       "  <tbody>\n",
       "    <tr>\n",
       "      <th>0</th>\n",
       "      <td>DaughterofProspero</td>\n",
       "      <td>0</td>\n",
       "      <td>1</td>\n",
       "      <td>0</td>\n",
       "      <td>2016-01-31</td>\n",
       "      <td>18.0</td>\n",
       "      <td>1.0</td>\n",
       "      <td>2016-01-31</td>\n",
       "      <td>\\nCelia!\\nWhere has she got to? Rebellious gir...</td>\n",
       "      <td>The Knowledge of My Fault</td>\n",
       "      <td>NaN</td>\n",
       "      <td>786</td>\n",
       "    </tr>\n",
       "    <tr>\n",
       "      <th>1</th>\n",
       "      <td>veronasowl</td>\n",
       "      <td>0</td>\n",
       "      <td>1</td>\n",
       "      <td>0</td>\n",
       "      <td>2015-11-05</td>\n",
       "      <td>40.0</td>\n",
       "      <td>5.0</td>\n",
       "      <td>2015-11-05</td>\n",
       "      <td>\\nHe heard his aunt scream as they carried him...</td>\n",
       "      <td>Death and the Capulets</td>\n",
       "      <td>NaN</td>\n",
       "      <td>1234</td>\n",
       "    </tr>\n",
       "  </tbody>\n",
       "</table>\n",
       "</div>"
      ],
      "text/plain": [
       "               Author  Bookmarks  Chapters  Comments CompleteDate  Hits  \\\n",
       "0  DaughterofProspero          0         1         0   2016-01-31  18.0   \n",
       "1          veronasowl          0         1         0   2015-11-05  40.0   \n",
       "\n",
       "   Kudos PublishDate                                               Text  \\\n",
       "0    1.0  2016-01-31  \\nCelia!\\nWhere has she got to? Rebellious gir...   \n",
       "1    5.0  2015-11-05  \\nHe heard his aunt scream as they carried him...   \n",
       "\n",
       "                       Title UpdateDate  Words  \n",
       "0  The Knowledge of My Fault        NaN    786  \n",
       "1     Death and the Capulets        NaN   1234  "
      ]
     },
     "execution_count": 93,
     "metadata": {},
     "output_type": "execute_result"
    }
   ],
   "source": [
    "df.head(2)"
   ]
  },
  {
   "cell_type": "code",
   "execution_count": 94,
   "metadata": {
    "collapsed": true
   },
   "outputs": [],
   "source": [
    "def date_today(cell):\n",
    "    if '-' in str(cell):\n",
    "        y, m, d = cell.split('-')\n",
    "        return abs(date.today() - date(int(y), int(m), int(d))).days\n"
   ]
  },
  {
   "cell_type": "markdown",
   "metadata": {},
   "source": [
    "#### Turn dates into the # of days between the date and today"
   ]
  },
  {
   "cell_type": "code",
   "execution_count": 95,
   "metadata": {
    "collapsed": false
   },
   "outputs": [],
   "source": [
    "df['PublishDate'] = df.apply(lambda row: date_today(row['PublishDate']), axis = 1)\n",
    "df['UpdateDate'] = df.apply(lambda row: date_today(row['UpdateDate']), axis = 1)\n",
    "df['CompleteDate'] = df.apply(lambda row: date_today(row['CompleteDate']), axis = 1)"
   ]
  },
  {
   "cell_type": "code",
   "execution_count": 113,
   "metadata": {
    "collapsed": false
   },
   "outputs": [],
   "source": [
    "df_agg = df.groupby(['Author','Hits','Kudos','Title','Words','Bookmarks','Chapters','Comments'])\\\n",
    "                     .agg({'CompleteDate':np.min, 'PublishDate':np.max,'UpdateDate':np.max,\\\n",
    "                           'Text':lambda x: ','.join(x)}).reset_index()"
   ]
  },
  {
   "cell_type": "code",
   "execution_count": null,
   "metadata": {
    "collapsed": true
   },
   "outputs": [],
   "source": []
  }
 ],
 "metadata": {
  "kernelspec": {
   "display_name": "Python [python35]",
   "language": "python",
   "name": "Python [python35]"
  },
  "language_info": {
   "codemirror_mode": {
    "name": "ipython",
    "version": 3
   },
   "file_extension": ".py",
   "mimetype": "text/x-python",
   "name": "python",
   "nbconvert_exporter": "python",
   "pygments_lexer": "ipython3",
   "version": "3.5.2"
  }
 },
 "nbformat": 4,
 "nbformat_minor": 0
}
