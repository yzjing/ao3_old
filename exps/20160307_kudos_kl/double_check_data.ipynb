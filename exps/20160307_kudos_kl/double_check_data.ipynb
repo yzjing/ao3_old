{
 "cells": [
  {
   "cell_type": "code",
   "execution_count": 3,
   "metadata": {
    "collapsed": true
   },
   "outputs": [],
   "source": [
    "import pandas as pd\n",
    "from gensim import corpora, models, similarities\n",
    "from nltk.corpus import stopwords\n",
    "import re\n",
    "import numpy as np\n",
    "from scipy import special\n",
    "import random\n",
    "import matplotlib.pyplot as plt\n",
    "%matplotlib inline "
   ]
  },
  {
   "cell_type": "code",
   "execution_count": 4,
   "metadata": {
    "collapsed": true
   },
   "outputs": [],
   "source": [
    "f = '/Users/jingy/Desktop/ao3/data/sherlock_current_wtext.csv'"
   ]
  },
  {
   "cell_type": "code",
   "execution_count": 23,
   "metadata": {
    "collapsed": true
   },
   "outputs": [],
   "source": [
    "f2 = '/Users/jingy/Desktop/ao3/data/sherlock_current_wtext_samemonth.csv'"
   ]
  },
  {
   "cell_type": "code",
   "execution_count": 41,
   "metadata": {
    "collapsed": true
   },
   "outputs": [],
   "source": [
    "data = pd.read_csv(f)"
   ]
  },
  {
   "cell_type": "code",
   "execution_count": 46,
   "metadata": {
    "collapsed": false
   },
   "outputs": [
    {
     "data": {
      "text/plain": [
       "array(['Additional_Tags', 'Archive_Warnings', 'Author', 'Bookmarks',\n",
       "       'Category', 'Chapters', 'Characters', 'Comments', 'CompleteDate',\n",
       "       'Fandoms', 'Hits', 'Kudos', 'Language', 'Notes', 'PublishDate',\n",
       "       'Rating', 'Relationship', 'Summary', 'Text', 'Title', 'Words'], dtype=object)"
      ]
     },
     "execution_count": 46,
     "metadata": {},
     "output_type": "execute_result"
    }
   ],
   "source": [
    "data.columns.values"
   ]
  },
  {
   "cell_type": "code",
   "execution_count": 60,
   "metadata": {
    "collapsed": false
   },
   "outputs": [
    {
     "name": "stdout",
     "output_type": "stream",
     "text": [
      "Additional_Tags 0.888743282692\n",
      "Archive_Warnings 0.970162682327\n",
      "Author 1.0\n",
      "Bookmarks 0.861585553692\n",
      "Category 0.758876137481\n",
      "Chapters 1.0\n",
      "Characters 0.922991164203\n",
      "Comments 0.872719538015\n",
      "CompleteDate 0.406436880528\n",
      "Fandoms 0.999662606536\n",
      "Hits 0.987418646612\n",
      "Kudos 0.989242527224\n",
      "Language 1.0\n",
      "Notes 0.392765110582\n",
      "PublishDate 1.0\n",
      "Rating 0.970162682327\n",
      "Relationship 0.842046071322\n",
      "Summary 0.951258868803\n",
      "Text 0.993032091497\n",
      "Title 0.927034996015\n",
      "Words 0.999970661438\n"
     ]
    }
   ],
   "source": [
    "for field in data.columns.values:\n",
    "    print field, len(data[data[field].notnull()])/float(len(data[field]))"
   ]
  },
  {
   "cell_type": "code",
   "execution_count": 61,
   "metadata": {
    "collapsed": false
   },
   "outputs": [],
   "source": [
    "df = data"
   ]
  },
  {
   "cell_type": "code",
   "execution_count": 52,
   "metadata": {
    "collapsed": true
   },
   "outputs": [],
   "source": [
    "df2 = pd.read_csv(f2)"
   ]
  },
  {
   "cell_type": "code",
   "execution_count": 34,
   "metadata": {
    "collapsed": false
   },
   "outputs": [
    {
     "data": {
      "text/plain": [
       "30632"
      ]
     },
     "execution_count": 34,
     "metadata": {},
     "output_type": "execute_result"
    }
   ],
   "source": [
    "len(df2)"
   ]
  },
  {
   "cell_type": "code",
   "execution_count": 62,
   "metadata": {
    "collapsed": false,
    "scrolled": true
   },
   "outputs": [],
   "source": [
    "df = df.astype(str)\n",
    "df = df.groupby(['Archive_Warnings', 'Author', 'Chapters', 'Characters', 'Fandoms', 'Hits', 'Kudos', 'Language', 'PublishDate',\n",
    "                 'Rating','Summary', 'Title', 'Words'])['Text'].apply(','.join).reset_index()"
   ]
  },
  {
   "cell_type": "code",
   "execution_count": 63,
   "metadata": {
    "collapsed": false
   },
   "outputs": [
    {
     "data": {
      "text/plain": [
       "72704"
      ]
     },
     "execution_count": 63,
     "metadata": {},
     "output_type": "execute_result"
    }
   ],
   "source": [
    "len(df)"
   ]
  },
  {
   "cell_type": "code",
   "execution_count": 64,
   "metadata": {
    "collapsed": true
   },
   "outputs": [],
   "source": [
    "df2 = df2.astype(str)\n",
    "df2 = df2.groupby(['Archive_Warnings', 'Author', 'Chapters', 'Characters', 'Fandoms', 'Hits', 'Kudos', 'Language', 'PublishDate',\n",
    "                 'Rating','Summary', 'Title', 'Words'])['Text'].apply(','.join).reset_index()"
   ]
  },
  {
   "cell_type": "code",
   "execution_count": 65,
   "metadata": {
    "collapsed": false
   },
   "outputs": [
    {
     "data": {
      "text/plain": [
       "4722"
      ]
     },
     "execution_count": 65,
     "metadata": {},
     "output_type": "execute_result"
    }
   ],
   "source": [
    "len(df2)"
   ]
  },
  {
   "cell_type": "code",
   "execution_count": 66,
   "metadata": {
    "collapsed": false
   },
   "outputs": [
    {
     "data": {
      "text/plain": [
       "0.06494828345070422"
      ]
     },
     "execution_count": 66,
     "metadata": {},
     "output_type": "execute_result"
    }
   ],
   "source": [
    "float(4722)/72704"
   ]
  },
  {
   "cell_type": "code",
   "execution_count": null,
   "metadata": {
    "collapsed": true
   },
   "outputs": [],
   "source": []
  }
 ],
 "metadata": {
  "kernelspec": {
   "display_name": "Python 2",
   "language": "python",
   "name": "python2"
  },
  "language_info": {
   "codemirror_mode": {
    "name": "ipython",
    "version": 2
   },
   "file_extension": ".py",
   "mimetype": "text/x-python",
   "name": "python",
   "nbconvert_exporter": "python",
   "pygments_lexer": "ipython2",
   "version": "2.7.11"
  }
 },
 "nbformat": 4,
 "nbformat_minor": 0
}
