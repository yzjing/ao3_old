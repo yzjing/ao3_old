{
 "cells": [
  {
   "cell_type": "code",
   "execution_count": 1,
   "metadata": {},
   "outputs": [],
   "source": [
    "import pandas as pd\n",
    "import os\n",
    "import matplotlib.pyplot as plt\n",
    "%matplotlib inline\n",
    "import numpy as np\n",
    "from collections import Counter\n",
    "from scipy.stats import norm"
   ]
  },
  {
   "cell_type": "code",
   "execution_count": 2,
   "metadata": {},
   "outputs": [],
   "source": [
    "data_path = '../../data/lda_jsd_toprev_conlen/'"
   ]
  },
  {
   "cell_type": "code",
   "execution_count": 3,
   "metadata": {},
   "outputs": [],
   "source": [
    "fandom_list = [i for i in os.listdir(data_path) if 'tsv' in i]"
   ]
  },
  {
   "cell_type": "code",
   "execution_count": 4,
   "metadata": {},
   "outputs": [],
   "source": [
    "import matplotlib"
   ]
  },
  {
   "cell_type": "code",
   "execution_count": 5,
   "metadata": {},
   "outputs": [
    {
     "data": {
      "text/plain": [
       "'2.1.2'"
      ]
     },
     "execution_count": 5,
     "metadata": {},
     "output_type": "execute_result"
    }
   ],
   "source": [
    "matplotlib.__version__"
   ]
  },
  {
   "cell_type": "markdown",
   "metadata": {},
   "source": [
    "### Time dist"
   ]
  },
  {
   "cell_type": "code",
   "execution_count": 6,
   "metadata": {},
   "outputs": [],
   "source": [
    "times = Counter()\n",
    "for fandom in fandom_list:\n",
    "    df = pd.read_csv(data_path + fandom, sep = '\\t')\n",
    "    times += Counter(df.PublishDate.str[:7].tolist())"
   ]
  },
  {
   "cell_type": "code",
   "execution_count": 7,
   "metadata": {},
   "outputs": [],
   "source": [
    "time_labels = sorted(times.keys())[:-1]"
   ]
  },
  {
   "cell_type": "code",
   "execution_count": 8,
   "metadata": {
    "scrolled": false
   },
   "outputs": [],
   "source": [
    "agg = 0\n",
    "for l in time_labels:\n",
    "    if int(l[0:4]) < 2009:\n",
    "        agg += times[l]\n",
    "time_labels = [l for l in time_labels if int(l[0:4]) >=  2009]"
   ]
  },
  {
   "cell_type": "code",
   "execution_count": 9,
   "metadata": {},
   "outputs": [],
   "source": [
    "x = np.arange(1, len(time_labels) +1)\n",
    "y = [times[k] for k in time_labels]"
   ]
  },
  {
   "cell_type": "code",
   "execution_count": 20,
   "metadata": {},
   "outputs": [
    {
     "data": {
      "text/plain": [
       "Counter({'2002-08': 9,\n",
       "         '2002-09': 13,\n",
       "         '2002-10': 11,\n",
       "         '2002-11': 33,\n",
       "         '2002-12': 29,\n",
       "         '2003-01': 26,\n",
       "         '2003-02': 29,\n",
       "         '2003-03': 40,\n",
       "         '2003-04': 71,\n",
       "         '2003-05': 57,\n",
       "         '2003-06': 59,\n",
       "         '2003-07': 177,\n",
       "         '2003-08': 127,\n",
       "         '2003-09': 103,\n",
       "         '2003-10': 66,\n",
       "         '2003-11': 63,\n",
       "         '2003-12': 96,\n",
       "         '2004-01': 110,\n",
       "         '2004-02': 78,\n",
       "         '2004-03': 89,\n",
       "         '2004-04': 90,\n",
       "         '2004-05': 86,\n",
       "         '2004-06': 97,\n",
       "         '2004-07': 93,\n",
       "         '2004-08': 121,\n",
       "         '2004-09': 75,\n",
       "         '2004-10': 88,\n",
       "         '2004-11': 100,\n",
       "         '2004-12': 77,\n",
       "         '2005-01': 125,\n",
       "         '2005-02': 92,\n",
       "         '2005-03': 96,\n",
       "         '2005-04': 84,\n",
       "         '2005-05': 82,\n",
       "         '2005-06': 58,\n",
       "         '2005-07': 136,\n",
       "         '2005-08': 135,\n",
       "         '2005-09': 126,\n",
       "         '2005-10': 135,\n",
       "         '2005-11': 98,\n",
       "         '2005-12': 118,\n",
       "         '2006-01': 134,\n",
       "         '2006-02': 95,\n",
       "         '2006-03': 114,\n",
       "         '2006-04': 108,\n",
       "         '2006-05': 81,\n",
       "         '2006-06': 137,\n",
       "         '2006-07': 127,\n",
       "         '2006-08': 105,\n",
       "         '2006-09': 219,\n",
       "         '2006-10': 81,\n",
       "         '2006-11': 71,\n",
       "         '2006-12': 112,\n",
       "         '2007-01': 139,\n",
       "         '2007-02': 100,\n",
       "         '2007-03': 110,\n",
       "         '2007-04': 143,\n",
       "         '2007-05': 125,\n",
       "         '2007-06': 113,\n",
       "         '2007-07': 140,\n",
       "         '2007-08': 186,\n",
       "         '2007-09': 160,\n",
       "         '2007-10': 113,\n",
       "         '2007-11': 66,\n",
       "         '2007-12': 155,\n",
       "         '2008-01': 138,\n",
       "         '2008-02': 144,\n",
       "         '2008-03': 129,\n",
       "         '2008-04': 157,\n",
       "         '2008-05': 198,\n",
       "         '2008-06': 165,\n",
       "         '2008-07': 169,\n",
       "         '2008-08': 124,\n",
       "         '2008-09': 185,\n",
       "         '2008-10': 181,\n",
       "         '2008-11': 155,\n",
       "         '2008-12': 146,\n",
       "         '2009-01': 205,\n",
       "         '2009-02': 210,\n",
       "         '2009-03': 199,\n",
       "         '2009-04': 201,\n",
       "         '2009-05': 241,\n",
       "         '2009-06': 204,\n",
       "         '2009-07': 232,\n",
       "         '2009-08': 310,\n",
       "         '2009-09': 212,\n",
       "         '2009-10': 266,\n",
       "         '2009-11': 976,\n",
       "         '2009-12': 889,\n",
       "         '2010-01': 1213,\n",
       "         '2010-02': 727,\n",
       "         '2010-03': 1021,\n",
       "         '2010-04': 645,\n",
       "         '2010-05': 812,\n",
       "         '2010-06': 842,\n",
       "         '2010-07': 830,\n",
       "         '2010-08': 950,\n",
       "         '2010-09': 1189,\n",
       "         '2010-10': 1039,\n",
       "         '2010-11': 638,\n",
       "         '2010-12': 745,\n",
       "         '2011-01': 1225,\n",
       "         '2011-02': 808,\n",
       "         '2011-03': 1051,\n",
       "         '2011-04': 1333,\n",
       "         '2011-05': 1244,\n",
       "         '2011-06': 1631,\n",
       "         '2011-07': 1861,\n",
       "         '2011-08': 1928,\n",
       "         '2011-09': 1387,\n",
       "         '2011-10': 1604,\n",
       "         '2011-11': 1677,\n",
       "         '2011-12': 2916,\n",
       "         '2012-01': 3379,\n",
       "         '2012-02': 3233,\n",
       "         '2012-03': 3337,\n",
       "         '2012-04': 4042,\n",
       "         '2012-05': 4164,\n",
       "         '2012-06': 5655,\n",
       "         '2012-07': 5255,\n",
       "         '2012-08': 4967,\n",
       "         '2012-09': 4687,\n",
       "         '2012-10': 4556,\n",
       "         '2012-11': 5090,\n",
       "         '2012-12': 7012,\n",
       "         '2013-01': 9760,\n",
       "         '2013-02': 8113,\n",
       "         '2013-03': 8185,\n",
       "         '2013-04': 8713,\n",
       "         '2013-05': 8785,\n",
       "         '2013-06': 8814,\n",
       "         '2013-07': 9215,\n",
       "         '2013-08': 9018,\n",
       "         '2013-09': 8317,\n",
       "         '2013-10': 8854,\n",
       "         '2013-11': 8229,\n",
       "         '2013-12': 10780,\n",
       "         '2014-01': 11271,\n",
       "         '2014-02': 11804,\n",
       "         '2014-03': 11739,\n",
       "         '2014-04': 12009,\n",
       "         '2014-05': 13349,\n",
       "         '2014-06': 13011,\n",
       "         '2014-07': 14272,\n",
       "         '2014-08': 15044,\n",
       "         '2014-09': 12736,\n",
       "         '2014-10': 13461,\n",
       "         '2014-11': 12948,\n",
       "         '2014-12': 16467,\n",
       "         '2015-01': 15729,\n",
       "         '2015-02': 15739,\n",
       "         '2015-03': 16693,\n",
       "         '2015-04': 17720,\n",
       "         '2015-05': 17970,\n",
       "         '2015-06': 17230,\n",
       "         '2015-07': 18826,\n",
       "         '2015-08': 18404,\n",
       "         '2015-09': 16271,\n",
       "         '2015-10': 16114,\n",
       "         '2015-11': 16640,\n",
       "         '2015-12': 20633,\n",
       "         '2016-01': 21357,\n",
       "         '2016-02': 19473,\n",
       "         '2016-03': 21077,\n",
       "         '2016-04': 20467,\n",
       "         '2016-05': 13502,\n",
       "         '2016-06': 630})"
      ]
     },
     "execution_count": 20,
     "metadata": {},
     "output_type": "execute_result"
    }
   ],
   "source": [
    "times"
   ]
  },
  {
   "cell_type": "code",
   "execution_count": 10,
   "metadata": {},
   "outputs": [],
   "source": [
    "time_labels.insert(0,' ')"
   ]
  },
  {
   "cell_type": "code",
   "execution_count": 11,
   "metadata": {},
   "outputs": [
    {
     "data": {
      "text/plain": [
       "90"
      ]
     },
     "execution_count": 11,
     "metadata": {},
     "output_type": "execute_result"
    }
   ],
   "source": [
    "len(time_labels)"
   ]
  },
  {
   "cell_type": "code",
   "execution_count": 12,
   "metadata": {},
   "outputs": [
    {
     "data": {
      "text/plain": [
       "[' ',\n",
       " '2009-01',\n",
       " '2009-02',\n",
       " '2009-03',\n",
       " '2009-04',\n",
       " '2009-05',\n",
       " '2009-06',\n",
       " '2009-07',\n",
       " '2009-08',\n",
       " '2009-09',\n",
       " '2009-10',\n",
       " '2009-11',\n",
       " '2009-12',\n",
       " '2010-01',\n",
       " '2010-02',\n",
       " '2010-03',\n",
       " '2010-04',\n",
       " '2010-05',\n",
       " '2010-06',\n",
       " '2010-07',\n",
       " '2010-08',\n",
       " '2010-09',\n",
       " '2010-10',\n",
       " '2010-11',\n",
       " '2010-12',\n",
       " '2011-01',\n",
       " '2011-02',\n",
       " '2011-03',\n",
       " '2011-04',\n",
       " '2011-05',\n",
       " '2011-06',\n",
       " '2011-07',\n",
       " '2011-08',\n",
       " '2011-09',\n",
       " '2011-10',\n",
       " '2011-11',\n",
       " '2011-12',\n",
       " '2012-01',\n",
       " '2012-02',\n",
       " '2012-03',\n",
       " '2012-04',\n",
       " '2012-05',\n",
       " '2012-06',\n",
       " '2012-07',\n",
       " '2012-08',\n",
       " '2012-09',\n",
       " '2012-10',\n",
       " '2012-11',\n",
       " '2012-12',\n",
       " '2013-01',\n",
       " '2013-02',\n",
       " '2013-03',\n",
       " '2013-04',\n",
       " '2013-05',\n",
       " '2013-06',\n",
       " '2013-07',\n",
       " '2013-08',\n",
       " '2013-09',\n",
       " '2013-10',\n",
       " '2013-11',\n",
       " '2013-12',\n",
       " '2014-01',\n",
       " '2014-02',\n",
       " '2014-03',\n",
       " '2014-04',\n",
       " '2014-05',\n",
       " '2014-06',\n",
       " '2014-07',\n",
       " '2014-08',\n",
       " '2014-09',\n",
       " '2014-10',\n",
       " '2014-11',\n",
       " '2014-12',\n",
       " '2015-01',\n",
       " '2015-02',\n",
       " '2015-03',\n",
       " '2015-04',\n",
       " '2015-05',\n",
       " '2015-06',\n",
       " '2015-07',\n",
       " '2015-08',\n",
       " '2015-09',\n",
       " '2015-10',\n",
       " '2015-11',\n",
       " '2015-12',\n",
       " '2016-01',\n",
       " '2016-02',\n",
       " '2016-03',\n",
       " '2016-04',\n",
       " '2016-05']"
      ]
     },
     "execution_count": 12,
     "metadata": {},
     "output_type": "execute_result"
    }
   ],
   "source": [
    "time_labels"
   ]
  },
  {
   "cell_type": "markdown",
   "metadata": {},
   "source": [
    "Number of works in each fandom"
   ]
  },
  {
   "cell_type": "code",
   "execution_count": 13,
   "metadata": {},
   "outputs": [],
   "source": [
    "fandom_size = {}\n",
    "s = 0\n",
    "for f in fandom_list:\n",
    "    df = pd.read_csv(os.path.join(data_path, f), sep = '\\t')\n",
    "    fandom_size[len(df)] = f.split('.')[0]\n",
    "    s += len(df)"
   ]
  },
  {
   "cell_type": "code",
   "execution_count": 14,
   "metadata": {},
   "outputs": [],
   "source": [
    "from matplotlib import rc\n",
    "rc('font',**{'family':'sans-serif','sans-serif':['Helvetica']})\n",
    "## for Palatino and other serif fonts use:\n",
    "#rc('font',**{'family':'serif','serif':['Palatino']})\n",
    "rc('text', usetex=True)"
   ]
  },
  {
   "cell_type": "code",
   "execution_count": 15,
   "metadata": {},
   "outputs": [
    {
     "data": {
      "text/plain": [
       "666430"
      ]
     },
     "execution_count": 15,
     "metadata": {},
     "output_type": "execute_result"
    }
   ],
   "source": [
    "s"
   ]
  },
  {
   "cell_type": "code",
   "execution_count": 16,
   "metadata": {},
   "outputs": [],
   "source": [
    "import pickle"
   ]
  },
  {
   "cell_type": "code",
   "execution_count": 17,
   "metadata": {},
   "outputs": [],
   "source": [
    "labels = ['Works of William Shakespare',\n",
    " 'Bishoujo Senshi Sailor Moon',\n",
    " 'Hamilton (by Miranda)',\n",
    " 'Les Miserables ',\n",
    " 'Kuroko no Basuke',\n",
    " 'Naruto',\n",
    " 'The Walking Dead ',\n",
    " 'Haikyuu',\n",
    " 'Buffy the Vampire Slayer',\n",
    " 'One Direction',\n",
    " 'Hetalia: Axis Powers',\n",
    " 'Arthurian Mythology ',\n",
    " 'Star Wars',\n",
    " 'Attack on Titan',\n",
    " 'Works of J.R.R.Tolkien',\n",
    " 'MS Paint Adventures',\n",
    " 'Dragon Age ',\n",
    " 'Doctor Who ',\n",
    " 'DC',\n",
    " 'Harry Potter',\n",
    " 'Sherlock Holmes ',\n",
    " 'Supernatural',\n",
    " 'Marvel']"
   ]
  },
  {
   "cell_type": "code",
   "execution_count": 19,
   "metadata": {},
   "outputs": [
    {
     "data": {
      "image/png": "[encoded data removed]",
      "text/plain": [
       "<matplotlib.figure.Figure at 0x1a233da9b0>"
      ]
     },
     "metadata": {},
     "output_type": "display_data"
    }
   ],
   "source": [
    "fig, ax = plt.subplots(1,2,figsize = (15,6))\n",
    "plt.locator_params(axis='x', nbins=10)\n",
    "idx = np.arange(len(fandom_size))\n",
    "data = sorted(fandom_size.keys())\n",
    "\n",
    "# pickle.dump(data, open('data.p', 'wb'))\n",
    "# pickle.dump(labels, open('labels.p', 'wb'))\n",
    "\n",
    "ax[0].barh(idx, data)\n",
    "ax[0].set_yticks(range(0,24))\n",
    "ax[0].set_yticklabels(labels)\n",
    "\n",
    "for tick in ax[0].yaxis.get_major_ticks():\n",
    "    tick.label.set_fontsize(13)\n",
    "    tick.label.set_horizontalalignment('right')\n",
    "for tick in ax[0].xaxis.get_major_ticks():\n",
    "    tick.label.set_fontsize(13)\n",
    "    \n",
    "# find the maximum width of the label on the major ticks\n",
    "# yax = ax[0].get_yaxis()\n",
    "# yax.set_tick_params(pad=pad)\n",
    "\n",
    "    \n",
    "ax[0].set_ylim(-0.5, 22.5)\n",
    "ax[0].set_ylabel(\"Fandom\", fontsize = 15)\n",
    "ax[0].set_xlabel(\"Number of fanfictions\", fontsize = 15)\n",
    "ax[0].set_title('(a): Size of Fandoms', fontsize = 15)\n",
    "\n",
    "idx = range(0,99,9)\n",
    "time_labels_f =[]\n",
    "for i in idx:\n",
    "    time_labels_f.append(time_labels[i-5])\n",
    "\n",
    "ax[1].scatter(0, agg)\n",
    "ax[1].plot(x, y)\n",
    "# ax[1].xaxis.set_ticks(np.arange(1, len(time_labels_f), 5))\n",
    "\n",
    "ax[1].set_xticklabels(time_labels_f)\n",
    "for tick in ax[1].xaxis.get_major_ticks():\n",
    "    tick.label.set_fontsize(13)\n",
    "    tick.label.set_rotation(90)\n",
    "for tick in ax[1].yaxis.get_major_ticks():\n",
    "    tick.label.set_fontsize(13)\n",
    "\n",
    "        \n",
    "ax[1].set_xlabel(\"Time\", fontsize=15)\n",
    "ax[1].set_ylabel(\"Number of fanfictions published\",fontsize=15)\n",
    "ax[1].set_title('(b): Volume of Fanfictions', fontsize = 15)\n",
    "\n",
    "ax[1].text(0.08, 0.4, \"Pre-2009\", fontsize=14, transform=ax[1].transAxes)\n",
    "\n",
    "\n",
    "plt.tight_layout()\n",
    "\n",
    "plt.savefig(\"fic_time_fandom_size_dist.pdf\", format=\"pdf\")"
   ]
  },
  {
   "cell_type": "markdown",
   "metadata": {},
   "source": [
    "Length distribution"
   ]
  },
  {
   "cell_type": "code",
   "execution_count": 84,
   "metadata": {},
   "outputs": [],
   "source": [
    "def create_timelist(df):\n",
    "    timelist = df.PublishDate.drop_duplicates().tolist()\n",
    "    timelist = [str(i)[:7] for i in timelist]\n",
    "    return sorted(list(set(timelist)))"
   ]
  },
  {
   "cell_type": "code",
   "execution_count": 85,
   "metadata": {},
   "outputs": [],
   "source": [
    "def create_df_time(df, time):\n",
    "    return df[df.PublishDate.str[:7] == time]"
   ]
  },
  {
   "cell_type": "code",
   "execution_count": 86,
   "metadata": {},
   "outputs": [
    {
     "name": "stdout",
     "output_type": "stream",
     "text": [
      "2013-03 19481\n",
      "2013-04 602995\n",
      "2013-05 176019\n",
      "2013-06 4840\n",
      "2013-07 181297\n",
      "2013-08 109533\n",
      "2013-09 57475\n",
      "2013-10 129374\n",
      "2013-11 120499\n",
      "2013-12 62464\n",
      "2014-01 40129\n",
      "2014-02 38083\n",
      "2014-03 60781\n",
      "2014-04 46083\n",
      "2014-05 329912\n",
      "2014-06 22456\n",
      "2014-07 145546\n",
      "2014-08 167088\n",
      "2014-09 131865\n",
      "2014-10 64836\n",
      "2014-11 41630\n",
      "2014-12 167426\n",
      "2015-01 31680\n",
      "2015-02 333396\n",
      "2015-03 325541\n",
      "2015-04 164765\n",
      "2015-05 183057\n",
      "2015-06 271704\n",
      "2015-07 324317\n",
      "2015-08 645187\n",
      "2015-09 114668\n",
      "2015-10 264551\n",
      "2015-11 292442\n",
      "2015-12 205067\n",
      "2016-01 267594\n",
      "2016-02 61582\n",
      "2016-03 757498\n",
      "2016-04 283115\n",
      "2016-05 166754\n"
     ]
    }
   ],
   "source": [
    "for f in os.listdir(data_path):\n",
    "    word_month = {}\n",
    "    df = pd.read_csv(os.path.join(data_path, f), sep = '\\t')\n",
    "    df = df.drop(['ChapterIndex', 'URL','CompleteDate','UpdateDate'], axis=1)\n",
    "    df = df.drop_duplicates()\n",
    "    tl = create_timelist(df)\n",
    "    for t in tl:\n",
    "        df_t = create_df_time(df,t)\n",
    "        word_month[t] = df_t.Words.sum()\n",
    "    for k,v in word_month.items():\n",
    "        print(k,v)\n",
    "    break\n"
   ]
  },
  {
   "cell_type": "code",
   "execution_count": 136,
   "metadata": {},
   "outputs": [],
   "source": [
    "kudos_all = []\n",
    "comments_all = []\n",
    "hits_all = []\n",
    "bookmarks_all = []\n",
    "for f in fandom_list:\n",
    "    df = pd.read_csv(os.path.join(data_path, f), sep = '\\t')\n",
    "    df.Kudos = df.Kudos/df.Chapters\n",
    "    df.Hits = df.Hits/df.Chapters\n",
    "    df.Bookmarks = df.Bookmarks/df.Chapters\n",
    "    df = df.replace([np.inf, -np.inf], np.nan)\n",
    "    df = df.dropna(how = 'any')\n",
    "    for item in df.Kudos.tolist():\n",
    "        kudos_all.append(item)\n",
    "    for item in df.Comments.tolist():\n",
    "        comments_all.append(item)\n",
    "    for item in df.Hits.tolist():\n",
    "        hits_all.append(item)\n",
    "    for item in df.Bookmarks.tolist():\n",
    "        bookmarks_all.append(item)\n",
    "     "
   ]
  },
  {
   "cell_type": "code",
   "execution_count": 137,
   "metadata": {},
   "outputs": [],
   "source": [
    "# plt.figure(figsize = (10,7))\n",
    "x1 = [i if not np.isnan(i) else 0 for i in kudos_all ]\n",
    "x2 = [i if not np.isnan(i) else 0 for i in hits_all ]\n",
    "x3 = [i if not np.isnan(i) else 0 for i in comments_all ]\n",
    "x4 = [i if not np.isnan(i) else 0 for i in bookmarks_all ]\n",
    "\n",
    "# print (len(x),len(y))\n",
    "# data = np.vstack([x, y]).T"
   ]
  },
  {
   "cell_type": "code",
   "execution_count": 211,
   "metadata": {},
   "outputs": [
    {
     "data": {
      "image/png": "[encoded data removed]",
      "text/plain": [
       "<matplotlib.figure.Figure at 0x1248c93c8>"
      ]
     },
     "metadata": {},
     "output_type": "display_data"
    }
   ],
   "source": [
    "plt.figure(figsize=(20,8))\n",
    "\n",
    "\n",
    "plt.subplot(2, 4, 5)\n",
    "\n",
    "X = sorted(x1, reverse=True)\n",
    "N = len(X)\n",
    "Y = np.linspace( 1/N, 1, num=N)\n",
    "plt.loglog(X,Y)\n",
    "plt.xticks(fontsize='15')\n",
    "plt.yticks(fontsize='15')\n",
    "plt.xlabel('Kudos',fontsize = '17')\n",
    "plt.ylabel(\"CCDF\", fontsize='17')\n",
    "\n",
    "\n",
    "# X = np.log10(sorted(x1))\n",
    "# N = len(X)\n",
    "# plt.step(X[::-1], np.arange(X.size)/N)\n",
    "\n",
    "\n",
    "plt.subplot(2, 4, 6)\n",
    "\n",
    "X = sorted(x2, reverse=True)\n",
    "N = len(X)\n",
    "Y = np.linspace( 1/N, 1, num=N)\n",
    "plt.loglog(X,Y, label='Hits')\n",
    "plt.xticks(fontsize='15')\n",
    "plt.yticks(fontsize='15')\n",
    "plt.xlabel('Hits',fontsize = '17')\n",
    "plt.ylabel(\"CCDF\", fontsize='17')\n",
    "\n",
    "plt.subplot(2, 4, 7)\n",
    "\n",
    "X = sorted(x3, reverse=True)\n",
    "N = len(X)\n",
    "Y = np.linspace( 1/N, 1, num=N)\n",
    "plt.loglog(X,Y, label='Comments')\n",
    "plt.xticks(fontsize='15')\n",
    "plt.yticks(fontsize='15')\n",
    "plt.xlabel('Comments',fontsize = '17')\n",
    "plt.ylabel(\"CCDF\", fontsize='17')\n",
    "\n",
    "plt.subplot(2, 4, 8)\n",
    "\n",
    "X = sorted(x4, reverse=True)\n",
    "N = len(X)\n",
    "Y = np.linspace( 1/N, 1, num=N)\n",
    "plt.loglog(X,Y, label='Bookmarks')\n",
    "plt.xticks(fontsize='15')\n",
    "plt.yticks(fontsize='15')\n",
    "plt.xlabel('Bookmarks',fontsize = '17')\n",
    "plt.ylabel(\"CCDF\", fontsize='17')\n",
    "\n",
    "plt.subplot(2,4,1)\n",
    "plt.xticks(fontsize='15')\n",
    "plt.yticks(fontsize='15')\n",
    "plt.xlabel('Kudos',fontsize = '17')\n",
    "plt.ylabel(\"PDF\", fontsize='17')\n",
    "\n",
    "counts, bins = np.histogram(x1, bins=20)\n",
    "counts = counts/sum(counts)\n",
    "logbins = np.logspace(np.log10(bins[0]+0.001),np.log10(bins[-1]),len(bins)-1)\n",
    "plt.loglog(logbins, counts,'o')\n",
    "\n",
    "plt.subplot(2, 4, 2)\n",
    "\n",
    "plt.xticks(fontsize='15')\n",
    "plt.yticks(fontsize='15')\n",
    "plt.xlabel('Hits',fontsize = '17')\n",
    "plt.ylabel(\"PDF\", fontsize='17')\n",
    "counts, bins = np.histogram(x2, bins=20)\n",
    "counts = counts/sum(counts)\n",
    "logbins = np.logspace(np.log10(bins[0]+0.001),np.log10(bins[-1]),len(bins)-1)\n",
    "plt.loglog(logbins, counts,'o')\n",
    "\n",
    "plt.subplot(2, 4, 3)\n",
    "\n",
    "plt.xticks(fontsize='15')\n",
    "plt.yticks(fontsize='15')\n",
    "plt.xlabel('Comments',fontsize = '17')\n",
    "plt.ylabel(\"PDF\", fontsize='17')\n",
    "counts, bins = np.histogram(x3, bins=20)\n",
    "counts = counts/sum(counts)\n",
    "logbins = np.logspace(np.log10(bins[0]+0.001),np.log10(bins[-1]),len(bins)-1)\n",
    "plt.loglog(logbins, counts,'o')\n",
    "\n",
    "\n",
    "plt.subplot(2, 4, 4)\n",
    "\n",
    "plt.xticks(fontsize='15')\n",
    "plt.yticks(fontsize='15')\n",
    "plt.xlabel('Bookmarks',fontsize = '17')\n",
    "plt.ylabel(\"PDF\", fontsize='17')\n",
    "\n",
    "# histogram on log scale. \n",
    "# Use non-equal bin sizes, such that they look equal on log scale.\n",
    "counts, bins = np.histogram(x4, bins=20)\n",
    "counts = counts/sum(counts)\n",
    "logbins = np.logspace(np.log10(bins[0]+0.001),np.log10(bins[-1]),len(bins)-1)\n",
    "plt.loglog(logbins, counts,'o')\n",
    "\n",
    "plt.tight_layout()\n",
    "\n",
    "\n",
    "plt.savefig('kudos_comments_hits_bookmarks_ccdf.pdf', type='pdf')\n",
    "\n",
    "# pdf w/ kde\n",
    "# kde = scipy.stats.gaussian_kde(x4)\n",
    "# xx = np.linspace(0,len(x4),10)\n",
    "# plt.plot(xx, kde.evaluate(xx), c='green')  "
   ]
  },
  {
   "cell_type": "code",
   "execution_count": 140,
   "metadata": {},
   "outputs": [],
   "source": [
    "import scipy.stats"
   ]
  },
  {
   "cell_type": "code",
   "execution_count": null,
   "metadata": {},
   "outputs": [],
   "source": [
    "def create_timewindow(timelist, window_len):\n",
    "    idx = 0\n",
    "    window_all = []\n",
    "    while idx <= len(timelist) - window_len:\n",
    "        time_window = []\n",
    "        for i in range(0, window_len):\n",
    "            time_window.append(timelist[idx + i])\n",
    "        idx += 1\n",
    "        window_all.append(time_window)\n",
    "    return window_all"
   ]
  },
  {
   "cell_type": "code",
   "execution_count": null,
   "metadata": {},
   "outputs": [],
   "source": [
    "def create_df_time(df, time_window):\n",
    "    return df[df.PublishDate.str[:7] == time]"
   ]
  },
  {
   "cell_type": "code",
   "execution_count": null,
   "metadata": {},
   "outputs": [],
   "source": [
    "def create_timelist(df):\n",
    "    timelist = df.PublishDate.drop_duplicates().tolist()\n",
    "    timelist = [str(i)[:7] for i in timelist]\n",
    "    return sorted(list(set(timelist)))"
   ]
  },
  {
   "cell_type": "code",
   "execution_count": null,
   "metadata": {},
   "outputs": [],
   "source": [
    "plt.figure(figsize = (20, 10))\n",
    "label_all = []\n",
    "for idx, fandom in enumerate(fandom_list):\n",
    "    df = pd.read_csv(data_path + fandom + '_metadata.tsv', sep = '\\t')\n",
    "    df = df[['Author', 'PublishDate', 'Words']]\n",
    "    \n",
    "    timelist = create_timelist(df)[:-1]\n",
    "    time_work_dict = {}\n",
    "    for time in timelist:\n",
    "        df_t = create_df_time(df, time)\n",
    "        time_work_dict[time] = len(df_t)\n",
    "    label = sorted(time_work_dict.keys())\n",
    "    label_all.append(label)\n",
    "    x = range(len(label))\n",
    "    y = [time_work_dict[l] for l in label]\n",
    "    plt.plot(x,y)\n",
    "#     plt.xticks(x, label, rotation=90)"
   ]
  },
  {
   "cell_type": "code",
   "execution_count": 121,
   "metadata": {},
   "outputs": [
    {
     "name": "stdout",
     "output_type": "stream",
     "text": [
      "90065\n"
     ]
    }
   ],
   "source": [
    "authors = []\n",
    "for idx, fandom in enumerate(fandom_list):\n",
    "    df = pd.read_csv(data_path + fandom, sep = '\\t')\n",
    "    authors.extend(df['Author'].tolist())\n",
    "print(len(set(authors)))"
   ]
  },
  {
   "cell_type": "code",
   "execution_count": 122,
   "metadata": {},
   "outputs": [
    {
     "data": {
      "text/plain": [
       "7.39943374229723"
      ]
     },
     "execution_count": 122,
     "metadata": {},
     "output_type": "execute_result"
    }
   ],
   "source": [
    "666430/90065"
   ]
  },
  {
   "cell_type": "code",
   "execution_count": null,
   "metadata": {},
   "outputs": [],
   "source": []
  }
 ],
 "metadata": {
  "anaconda-cloud": {},
  "kernelspec": {
   "display_name": "Python 3",
   "language": "python",
   "name": "python3"
  },
  "language_info": {
   "codemirror_mode": {
    "name": "ipython",
    "version": 3
   },
   "file_extension": ".py",
   "mimetype": "text/x-python",
   "name": "python",
   "nbconvert_exporter": "python",
   "pygments_lexer": "ipython3",
   "version": "3.6.7"
  }
 },
 "nbformat": 4,
 "nbformat_minor": 1
}
