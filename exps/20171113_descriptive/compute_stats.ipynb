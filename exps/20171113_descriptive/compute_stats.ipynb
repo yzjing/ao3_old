{
 "cells": [
  {
   "cell_type": "code",
   "execution_count": 1,
   "metadata": {
    "collapsed": true
   },
   "outputs": [],
   "source": [
    "import pandas as pd\n",
    "import os\n",
    "import matplotlib.pyplot as plt\n",
    "%matplotlib inline\n",
    "import numpy as np\n",
    "from collections import Counter"
   ]
  },
  {
   "cell_type": "code",
   "execution_count": 8,
   "metadata": {
    "collapsed": true
   },
   "outputs": [],
   "source": [
    "data_path = '../../data/metadata/'"
   ]
  },
  {
   "cell_type": "code",
   "execution_count": 9,
   "metadata": {
    "collapsed": true
   },
   "outputs": [],
   "source": [
    "fandom_list = [line.strip() for line in open('../../data/fandom_filtered_list')]"
   ]
  },
  {
   "cell_type": "code",
   "execution_count": 10,
   "metadata": {},
   "outputs": [],
   "source": [
    "df = pd.read_csv(data_path + fandom_list[0] + '_metadata.tsv', sep = '\\t')"
   ]
  },
  {
   "cell_type": "code",
   "execution_count": 19,
   "metadata": {
    "collapsed": true
   },
   "outputs": [],
   "source": [
    "d1 = Counter({'a': 1, 'b': 2})"
   ]
  },
  {
   "cell_type": "code",
   "execution_count": 20,
   "metadata": {
    "collapsed": true
   },
   "outputs": [],
   "source": [
    "d2 = Counter({'b': 1, 'c': 3})"
   ]
  },
  {
   "cell_type": "code",
   "execution_count": 21,
   "metadata": {},
   "outputs": [
    {
     "data": {
      "text/plain": [
       "Counter({'a': 1, 'b': 3, 'c': 3})"
      ]
     },
     "execution_count": 21,
     "metadata": {},
     "output_type": "execute_result"
    }
   ],
   "source": [
    "d1+d2"
   ]
  },
  {
   "cell_type": "code",
   "execution_count": 22,
   "metadata": {},
   "outputs": [
    {
     "data": {
      "text/html": [
       "<div>\n",
       "<style>\n",
       "    .dataframe thead tr:only-child th {\n",
       "        text-align: right;\n",
       "    }\n",
       "\n",
       "    .dataframe thead th {\n",
       "        text-align: left;\n",
       "    }\n",
       "\n",
       "    .dataframe tbody tr th {\n",
       "        vertical-align: top;\n",
       "    }\n",
       "</style>\n",
       "<table border=\"1\" class=\"dataframe\">\n",
       "  <thead>\n",
       "    <tr style=\"text-align: right;\">\n",
       "      <th></th>\n",
       "      <th>AdditionalTags</th>\n",
       "      <th>ArchiveWarnings</th>\n",
       "      <th>Author</th>\n",
       "      <th>Bookmarks</th>\n",
       "      <th>Category</th>\n",
       "      <th>ChapterIndex</th>\n",
       "      <th>Chapters</th>\n",
       "      <th>Characters</th>\n",
       "      <th>Comments</th>\n",
       "      <th>CompleteDate</th>\n",
       "      <th>...</th>\n",
       "      <th>Language</th>\n",
       "      <th>Notes</th>\n",
       "      <th>PublishDate</th>\n",
       "      <th>Rating</th>\n",
       "      <th>Relationship</th>\n",
       "      <th>Summary</th>\n",
       "      <th>Title</th>\n",
       "      <th>URL</th>\n",
       "      <th>UpdateDate</th>\n",
       "      <th>Words</th>\n",
       "    </tr>\n",
       "  </thead>\n",
       "  <tbody>\n",
       "    <tr>\n",
       "      <th>0</th>\n",
       "      <td>Plot What Plot/Porn Without Plot, Vaginal Fing...</td>\n",
       "      <td>Underage</td>\n",
       "      <td>MorganasCrow</td>\n",
       "      <td>0</td>\n",
       "      <td>F/F</td>\n",
       "      <td>NaN</td>\n",
       "      <td>1</td>\n",
       "      <td>Morgana (Merlin), Morgause (Merlin)</td>\n",
       "      <td>0</td>\n",
       "      <td>2015-06-16</td>\n",
       "      <td>...</td>\n",
       "      <td>English</td>\n",
       "      <td>NaN</td>\n",
       "      <td>2015-06-16</td>\n",
       "      <td>Explicit</td>\n",
       "      <td>Morcest</td>\n",
       "      <td>Morgana and Morgause enjoy wild games.</td>\n",
       "      <td>What The Fag You Think You\\'re Doing?</td>\n",
       "      <td>http://archiveofourown.org/works/4146375?view_...</td>\n",
       "      <td>NaN</td>\n",
       "      <td>933.0</td>\n",
       "    </tr>\n",
       "    <tr>\n",
       "      <th>1</th>\n",
       "      <td>blind!Arthur, Blindness, Minor Violence, Impli...</td>\n",
       "      <td>Creator Chose Not To Use Archive Warnings</td>\n",
       "      <td>SoCanonItHurts</td>\n",
       "      <td>4</td>\n",
       "      <td>M/M</td>\n",
       "      <td>NaN</td>\n",
       "      <td>1</td>\n",
       "      <td>Merlin (Merlin), Arthur Pendragon (Merlin), Gw...</td>\n",
       "      <td>0</td>\n",
       "      <td>NaN</td>\n",
       "      <td>...</td>\n",
       "      <td>English</td>\n",
       "      <td>Warning: I know nothing about being blind, all...</td>\n",
       "      <td>2016-04-17</td>\n",
       "      <td>Mature</td>\n",
       "      <td>Merlin/Arthur Pendragon, Gwaine/Merlin (Merlin...</td>\n",
       "      <td>Merlin has a wonderful night with a  mysteriou...</td>\n",
       "      <td>Obstacles in Our Way</td>\n",
       "      <td>http://archiveofourown.org/works/6575791?view_...</td>\n",
       "      <td>2016-04-16</td>\n",
       "      <td>1317.0</td>\n",
       "    </tr>\n",
       "  </tbody>\n",
       "</table>\n",
       "<p>2 rows × 23 columns</p>\n",
       "</div>"
      ],
      "text/plain": [
       "                                      AdditionalTags  \\\n",
       "0  Plot What Plot/Porn Without Plot, Vaginal Fing...   \n",
       "1  blind!Arthur, Blindness, Minor Violence, Impli...   \n",
       "\n",
       "                             ArchiveWarnings          Author  Bookmarks  \\\n",
       "0                                   Underage    MorganasCrow          0   \n",
       "1  Creator Chose Not To Use Archive Warnings  SoCanonItHurts          4   \n",
       "\n",
       "  Category  ChapterIndex  Chapters  \\\n",
       "0      F/F           NaN         1   \n",
       "1      M/M           NaN         1   \n",
       "\n",
       "                                          Characters  Comments CompleteDate  \\\n",
       "0                Morgana (Merlin), Morgause (Merlin)         0   2015-06-16   \n",
       "1  Merlin (Merlin), Arthur Pendragon (Merlin), Gw...         0          NaN   \n",
       "\n",
       "    ...   Language                                              Notes  \\\n",
       "0   ...    English                                                NaN   \n",
       "1   ...    English  Warning: I know nothing about being blind, all...   \n",
       "\n",
       "   PublishDate    Rating                                       Relationship  \\\n",
       "0   2015-06-16  Explicit                                            Morcest   \n",
       "1   2016-04-17    Mature  Merlin/Arthur Pendragon, Gwaine/Merlin (Merlin...   \n",
       "\n",
       "                                             Summary  \\\n",
       "0             Morgana and Morgause enjoy wild games.   \n",
       "1  Merlin has a wonderful night with a  mysteriou...   \n",
       "\n",
       "                                   Title  \\\n",
       "0  What The Fag You Think You\\'re Doing?   \n",
       "1                   Obstacles in Our Way   \n",
       "\n",
       "                                                 URL  UpdateDate   Words  \n",
       "0  http://archiveofourown.org/works/4146375?view_...         NaN   933.0  \n",
       "1  http://archiveofourown.org/works/6575791?view_...  2016-04-16  1317.0  \n",
       "\n",
       "[2 rows x 23 columns]"
      ]
     },
     "execution_count": 22,
     "metadata": {},
     "output_type": "execute_result"
    }
   ],
   "source": [
    "df.head(2)"
   ]
  },
  {
   "cell_type": "markdown",
   "metadata": {},
   "source": [
    "### Time dist"
   ]
  },
  {
   "cell_type": "code",
   "execution_count": 30,
   "metadata": {},
   "outputs": [
    {
     "name": "stderr",
     "output_type": "stream",
     "text": [
      "/Users/jingy/anaconda/envs/python35/lib/python3.5/site-packages/IPython/core/interactiveshell.py:2698: DtypeWarning: Columns (21) have mixed types. Specify dtype option on import or set low_memory=False.\n",
      "  interactivity=interactivity, compiler=compiler, result=result)\n"
     ]
    }
   ],
   "source": [
    "times = Counter()\n",
    "for fandom in fandom_list:\n",
    "    df = pd.read_csv(data_path + fandom + '_metadata.tsv', sep = '\\t')\n",
    "    times += Counter(df.PublishDate.str[:7].tolist())"
   ]
  },
  {
   "cell_type": "code",
   "execution_count": 31,
   "metadata": {},
   "outputs": [
    {
     "data": {
      "text/plain": [
       "Counter({'1950-03': 3,\n",
       "         '1950-08': 1,\n",
       "         '1950-10': 2,\n",
       "         '1950-11': 1,\n",
       "         '1952-02': 2,\n",
       "         '1954-12': 1,\n",
       "         '1957-03': 2,\n",
       "         '1983-07': 2,\n",
       "         '1983-10': 1,\n",
       "         '1983-11': 14,\n",
       "         '1984-08': 2,\n",
       "         '1987-11': 2,\n",
       "         '1990-01': 1,\n",
       "         '1996-08': 1,\n",
       "         '1996-10': 4,\n",
       "         '1997-08': 15,\n",
       "         '1998-01': 5,\n",
       "         '1999-01': 4,\n",
       "         '1999-02': 21,\n",
       "         '1999-03': 1,\n",
       "         '1999-04': 17,\n",
       "         '1999-05': 8,\n",
       "         '1999-06': 3,\n",
       "         '1999-07': 10,\n",
       "         '1999-08': 10,\n",
       "         '1999-09': 8,\n",
       "         '1999-10': 18,\n",
       "         '1999-11': 16,\n",
       "         '1999-12': 8,\n",
       "         '2000-01': 47,\n",
       "         '2000-02': 7,\n",
       "         '2000-03': 8,\n",
       "         '2000-04': 2,\n",
       "         '2000-05': 2,\n",
       "         '2000-06': 26,\n",
       "         '2000-07': 8,\n",
       "         '2000-08': 3,\n",
       "         '2000-09': 9,\n",
       "         '2000-10': 6,\n",
       "         '2000-11': 4,\n",
       "         '2000-12': 36,\n",
       "         '2001-01': 34,\n",
       "         '2001-02': 18,\n",
       "         '2001-03': 21,\n",
       "         '2001-04': 23,\n",
       "         '2001-05': 19,\n",
       "         '2001-06': 49,\n",
       "         '2001-07': 18,\n",
       "         '2001-08': 48,\n",
       "         '2001-09': 52,\n",
       "         '2001-10': 86,\n",
       "         '2001-11': 46,\n",
       "         '2001-12': 64,\n",
       "         '2002-01': 82,\n",
       "         '2002-02': 82,\n",
       "         '2002-03': 91,\n",
       "         '2002-04': 116,\n",
       "         '2002-05': 188,\n",
       "         '2002-06': 259,\n",
       "         '2002-07': 251,\n",
       "         '2002-08': 207,\n",
       "         '2002-09': 102,\n",
       "         '2002-10': 122,\n",
       "         '2002-11': 202,\n",
       "         '2002-12': 178,\n",
       "         '2003-01': 295,\n",
       "         '2003-02': 268,\n",
       "         '2003-03': 414,\n",
       "         '2003-04': 419,\n",
       "         '2003-05': 354,\n",
       "         '2003-06': 356,\n",
       "         '2003-07': 536,\n",
       "         '2003-08': 451,\n",
       "         '2003-09': 396,\n",
       "         '2003-10': 271,\n",
       "         '2003-11': 321,\n",
       "         '2003-12': 324,\n",
       "         '2004-01': 513,\n",
       "         '2004-02': 252,\n",
       "         '2004-03': 336,\n",
       "         '2004-04': 357,\n",
       "         '2004-05': 340,\n",
       "         '2004-06': 449,\n",
       "         '2004-07': 454,\n",
       "         '2004-08': 450,\n",
       "         '2004-09': 360,\n",
       "         '2004-10': 413,\n",
       "         '2004-11': 398,\n",
       "         '2004-12': 657,\n",
       "         '2005-01': 629,\n",
       "         '2005-02': 347,\n",
       "         '2005-03': 452,\n",
       "         '2005-04': 346,\n",
       "         '2005-05': 452,\n",
       "         '2005-06': 385,\n",
       "         '2005-07': 608,\n",
       "         '2005-08': 532,\n",
       "         '2005-09': 420,\n",
       "         '2005-10': 427,\n",
       "         '2005-11': 425,\n",
       "         '2005-12': 492,\n",
       "         '2006-01': 461,\n",
       "         '2006-02': 435,\n",
       "         '2006-03': 361,\n",
       "         '2006-04': 438,\n",
       "         '2006-05': 395,\n",
       "         '2006-06': 594,\n",
       "         '2006-07': 650,\n",
       "         '2006-08': 489,\n",
       "         '2006-09': 623,\n",
       "         '2006-10': 389,\n",
       "         '2006-11': 323,\n",
       "         '2006-12': 575,\n",
       "         '2007-01': 641,\n",
       "         '2007-02': 582,\n",
       "         '2007-03': 564,\n",
       "         '2007-04': 581,\n",
       "         '2007-05': 714,\n",
       "         '2007-06': 598,\n",
       "         '2007-07': 679,\n",
       "         '2007-08': 680,\n",
       "         '2007-09': 532,\n",
       "         '2007-10': 448,\n",
       "         '2007-11': 391,\n",
       "         '2007-12': 969,\n",
       "         '2008-01': 695,\n",
       "         '2008-02': 666,\n",
       "         '2008-03': 637,\n",
       "         '2008-04': 669,\n",
       "         '2008-05': 769,\n",
       "         '2008-06': 681,\n",
       "         '2008-07': 748,\n",
       "         '2008-08': 661,\n",
       "         '2008-09': 758,\n",
       "         '2008-10': 734,\n",
       "         '2008-11': 563,\n",
       "         '2008-12': 817,\n",
       "         '2009-01': 746,\n",
       "         '2009-02': 718,\n",
       "         '2009-03': 832,\n",
       "         '2009-04': 740,\n",
       "         '2009-05': 1036,\n",
       "         '2009-06': 740,\n",
       "         '2009-07': 1026,\n",
       "         '2009-08': 1061,\n",
       "         '2009-09': 795,\n",
       "         '2009-10': 972,\n",
       "         '2009-11': 4085,\n",
       "         '2009-12': 4358,\n",
       "         '2010-01': 5198,\n",
       "         '2010-02': 3030,\n",
       "         '2010-03': 3978,\n",
       "         '2010-04': 2879,\n",
       "         '2010-05': 2745,\n",
       "         '2010-06': 2524,\n",
       "         '2010-07': 2754,\n",
       "         '2010-08': 3479,\n",
       "         '2010-09': 3758,\n",
       "         '2010-10': 3384,\n",
       "         '2010-11': 2444,\n",
       "         '2010-12': 2985,\n",
       "         '2011-01': 4590,\n",
       "         '2011-02': 2987,\n",
       "         '2011-03': 3814,\n",
       "         '2011-04': 5039,\n",
       "         '2011-05': 4431,\n",
       "         '2011-06': 5821,\n",
       "         '2011-07': 6551,\n",
       "         '2011-08': 7328,\n",
       "         '2011-09': 5683,\n",
       "         '2011-10': 6657,\n",
       "         '2011-11': 6710,\n",
       "         '2011-12': 11361,\n",
       "         '2012-01': 11906,\n",
       "         '2012-02': 11365,\n",
       "         '2012-03': 12026,\n",
       "         '2012-04': 14530,\n",
       "         '2012-05': 16883,\n",
       "         '2012-06': 23482,\n",
       "         '2012-07': 21646,\n",
       "         '2012-08': 21772,\n",
       "         '2012-09': 19786,\n",
       "         '2012-10': 20151,\n",
       "         '2012-11': 20737,\n",
       "         '2012-12': 27312,\n",
       "         '2013-01': 35532,\n",
       "         '2013-02': 31644,\n",
       "         '2013-03': 32224,\n",
       "         '2013-04': 31297,\n",
       "         '2013-05': 32143,\n",
       "         '2013-06': 32186,\n",
       "         '2013-07': 33788,\n",
       "         '2013-08': 34120,\n",
       "         '2013-09': 30724,\n",
       "         '2013-10': 32956,\n",
       "         '2013-11': 30691,\n",
       "         '2013-12': 39280,\n",
       "         '2014-01': 40019,\n",
       "         '2014-02': 38319,\n",
       "         '2014-03': 39772,\n",
       "         '2014-04': 41646,\n",
       "         '2014-05': 46028,\n",
       "         '2014-06': 45624,\n",
       "         '2014-07': 50282,\n",
       "         '2014-08': 53528,\n",
       "         '2014-09': 44863,\n",
       "         '2014-10': 46823,\n",
       "         '2014-11': 45264,\n",
       "         '2014-12': 55101,\n",
       "         '2015-01': 53296,\n",
       "         '2015-02': 53940,\n",
       "         '2015-03': 57596,\n",
       "         '2015-04': 60341,\n",
       "         '2015-05': 62764,\n",
       "         '2015-06': 59981,\n",
       "         '2015-07': 64189,\n",
       "         '2015-08': 64406,\n",
       "         '2015-09': 57784,\n",
       "         '2015-10': 56983,\n",
       "         '2015-11': 58707,\n",
       "         '2015-12': 68026,\n",
       "         '2016-01': 71920,\n",
       "         '2016-02': 66707,\n",
       "         '2016-03': 70840,\n",
       "         '2016-04': 68906,\n",
       "         '2016-05': 42386,\n",
       "         '2016-06': 1640})"
      ]
     },
     "execution_count": 31,
     "metadata": {},
     "output_type": "execute_result"
    }
   ],
   "source": [
    "times"
   ]
  },
  {
   "cell_type": "code",
   "execution_count": null,
   "metadata": {
    "collapsed": true
   },
   "outputs": [],
   "source": [
    "\n",
    "# Generate the main data\n",
    "X = np.linspace(-6, 6, 1024)\n",
    "Y = np.sinc(X)\n",
    "\n",
    "# Generate data for the zoomed portion\n",
    "X_detail = np.linspace(-3, 3, 1024)\n",
    "Y_detail = np.sinc(X_detail)\n",
    "\n",
    "# plot the main figure\n",
    "plt.plot(X, Y, c = 'k')  \n",
    "\n",
    " # location for the zoomed portion \n",
    "sub_axes = plt.axes([.6, .6, .25, .25]) \n",
    "\n",
    "# plot the zoomed portion\n",
    "sub_axes.plot(X_detail, Y_detail, c = 'k') \n",
    "\n",
    "# insert the zoomed figure\n",
    "# plt.setp(sub_axes)\n",
    "\n"
   ]
  },
  {
   "cell_type": "code",
   "execution_count": 92,
   "metadata": {},
   "outputs": [
    {
     "name": "stderr",
     "output_type": "stream",
     "text": [
      "/Users/jingy/anaconda/envs/python35/lib/python3.5/site-packages/matplotlib/figure.py:1743: UserWarning: This figure includes Axes that are not compatible with tight_layout, so its results might be incorrect.\n",
      "  warnings.warn(\"This figure includes Axes that are not \"\n"
     ]
    },
    {
     "data": {
      "image/png": "[encoded data removed]",
      "text/plain": [
       "<matplotlib.figure.Figure at 0x123de50b8>"
      ]
     },
     "metadata": {},
     "output_type": "display_data"
    }
   ],
   "source": [
    "labels = sorted(times.keys())[:-1]\n",
    "x = np.arange(0, len(labels))\n",
    "y = [times[k] for k in labels]\n",
    "\n",
    "labels_f = [l if labels.index(l)%5==0 else '' for l in labels ]\n",
    "fig, ax = plt.subplots(figsize=[11,7])\n",
    "plt.plot(x, y)\n",
    "plt.xticks(x, labels_f, rotation=90)\n",
    "\n",
    "plt.xlabel(\"Time\", fontsize=15)\n",
    "plt.ylabel(\"Number of fanfictions published\",fontsize=15)\n",
    "\n",
    "start_idx = labels.index('2010-01')\n",
    "end_idx = labels.index('2016-05')\n",
    "x_zoom = np.arange(0, end_idx-start_idx+1)\n",
    "y_zoom = [times[k] for k in labels[start_idx:end_idx+1]]\n",
    "x_zoom_labels = labels[start_idx:end_idx+1]\n",
    "x_zoom_labels_f = [l if x_zoom_labels.index(l)%3==0 else '' for l in x_zoom_labels ] \n",
    "sub_axes = plt.axes([.3, .4, .4, .4]) \n",
    "sub_axes.plot(x_zoom, y_zoom) \n",
    "sub_axes.set_xticks(x_zoom)\n",
    "sub_axes.set_xticklabels(x_zoom_labels_f, rotation=90)\n",
    "\n",
    "plt.tight_layout()\n",
    "plt.savefig(\"fic_time_dist.pdf\", format=\"pdf\")"
   ]
  },
  {
   "cell_type": "markdown",
   "metadata": {},
   "source": [
    "### Plot length dist"
   ]
  },
  {
   "cell_type": "code",
   "execution_count": 25,
   "metadata": {},
   "outputs": [
    {
     "name": "stderr",
     "output_type": "stream",
     "text": [
      "/Users/jingy/anaconda/envs/python35/lib/python3.5/site-packages/IPython/core/interactiveshell.py:2698: DtypeWarning: Columns (21) have mixed types. Specify dtype option on import or set low_memory=False.\n",
      "  interactivity=interactivity, compiler=compiler, result=result)\n"
     ]
    }
   ],
   "source": [
    "len_list = []\n",
    "for fandom in fandom_list:\n",
    "    df = pd.read_csv(data_path + fandom + '_metadata.tsv', sep = '\\t')\n",
    "    df['ave_len'] = df.Words/df.Chapters\n",
    "    df = df.dropna(subset=['ave_len'])\n",
    "    len_list.extend(df['ave_len'].tolist())"
   ]
  },
  {
   "cell_type": "code",
   "execution_count": 29,
   "metadata": {},
   "outputs": [],
   "source": [
    "len_list = [elem for elem in len_list if not np.isnan(elem)]\n",
    "\n",
    "len_list = [elem for elem in len_list if not np.isinf(elem)]\n",
    "\n",
    "len_list = [elem for elem in len_list if elem > 0]"
   ]
  },
  {
   "cell_type": "code",
   "execution_count": 46,
   "metadata": {},
   "outputs": [
    {
     "data": {
      "text/plain": [
       "[87014.0,\n",
       " 87144.0,\n",
       " 87365.0,\n",
       " 87839.0,\n",
       " 88689.0,\n",
       " 89573.0,\n",
       " 90368.0,\n",
       " 97675.0,\n",
       " 101221.0,\n",
       " 102075.0,\n",
       " 102075.0,\n",
       " 106694.0,\n",
       " 111581.0,\n",
       " 128942.0,\n",
       " 157817.0,\n",
       " 184597.0,\n",
       " 216450.0,\n",
       " 323693.0,\n",
       " 323693.0,\n",
       " 576696.0]"
      ]
     },
     "execution_count": 46,
     "metadata": {},
     "output_type": "execute_result"
    }
   ],
   "source": [
    "sorted(len_list)[-20:]"
   ]
  },
  {
   "cell_type": "code",
   "execution_count": 42,
   "metadata": {
    "collapsed": true
   },
   "outputs": [],
   "source": [
    "l = [1,2,3,4]"
   ]
  },
  {
   "cell_type": "code",
   "execution_count": 44,
   "metadata": {},
   "outputs": [
    {
     "data": {
      "text/plain": [
       "[3, 4]"
      ]
     },
     "execution_count": 44,
     "metadata": {},
     "output_type": "execute_result"
    }
   ],
   "source": [
    "l[-2:]"
   ]
  },
  {
   "cell_type": "code",
   "execution_count": 65,
   "metadata": {},
   "outputs": [
    {
     "data": {
      "image/png": "[encoded data removed]",
      "text/plain": [
       "<matplotlib.figure.Figure at 0x126c495f8>"
      ]
     },
     "metadata": {},
     "output_type": "display_data"
    }
   ],
   "source": [
    "plt.hist(np.log10(len_list), log=True)\n",
    "plt.xlabel(\"Log length of fictions\",fontsize=14)\n",
    "plt.ylabel(\"Log count of fictions\",fontsize=14)\n",
    "plt.tight_layout()\n",
    "plt.savefig(\"fic_len_dist.pdf\", format='pdf')"
   ]
  },
  {
   "cell_type": "code",
   "execution_count": 40,
   "metadata": {},
   "outputs": [
    {
     "data": {
      "text/plain": [
       "44052.93158961341"
      ]
     },
     "execution_count": 40,
     "metadata": {},
     "output_type": "execute_result"
    }
   ],
   "source": [
    "2*np.e**10"
   ]
  },
  {
   "cell_type": "markdown",
   "metadata": {},
   "source": [
    "### Kudos"
   ]
  },
  {
   "cell_type": "code",
   "execution_count": 58,
   "metadata": {},
   "outputs": [
    {
     "name": "stderr",
     "output_type": "stream",
     "text": [
      "/Users/jingy/anaconda/envs/python35/lib/python3.5/site-packages/IPython/core/interactiveshell.py:2698: DtypeWarning: Columns (21) have mixed types. Specify dtype option on import or set low_memory=False.\n",
      "  interactivity=interactivity, compiler=compiler, result=result)\n"
     ]
    }
   ],
   "source": [
    "kudos_list = []\n",
    "for fandom in fandom_list:\n",
    "    df = pd.read_csv(data_path + fandom + '_metadata.tsv', sep = '\\t')\n",
    "    df['ave_kudos'] = df.Kudos/df.Chapters\n",
    "    df = df.dropna(subset=['ave_kudos'])\n",
    "    kudos_list.extend(df['ave_kudos'].tolist())"
   ]
  },
  {
   "cell_type": "code",
   "execution_count": 59,
   "metadata": {
    "collapsed": true
   },
   "outputs": [],
   "source": [
    "kudos_list = [elem for elem in kudos_list if not np.isnan(elem)]\n",
    "\n",
    "kudos_list = [elem for elem in kudos_list if not np.isinf(elem)]\n",
    "\n",
    "kudos_list = [elem for elem in kudos_list if elem > 0]"
   ]
  },
  {
   "cell_type": "code",
   "execution_count": null,
   "metadata": {
    "collapsed": true
   },
   "outputs": [],
   "source": [
    "plt.figure(figsize=(10,4))\n",
    "plt.subplot(1, 2, 1)\n",
    "\n",
    "Y = np.log10(sorted(x1))\n",
    "N = len(Y)\n",
    "X = np.logspace( 1/N, 1, num=N)\n",
    "plt.plot(X,Y, label='Kudos')\n",
    "plt.xlabel('Logged Kudos',fontsize = '14')\n",
    "plt.ylabel(\"Logged Number of fictions\", fontsize='14')\n",
    "\n",
    "plt.subplot(1, 2, 2)\n",
    "\n",
    "Y = np.log10(sorted(x2))\n",
    "N = len(Y)\n",
    "X = np.logspace( 1/N, 1, num=N)\n",
    "plt.plot(X,Y, label='Hits')\n",
    "plt.xlabel('Logged Hits',fontsize = '14')\n",
    "plt.ylabel(\"Logged Number of fictions\", fontsize='14')\n",
    "plt.savefig('kudos_hits_dist.png', type='png')\n",
    "\n"
   ]
  },
  {
   "cell_type": "code",
   "execution_count": 62,
   "metadata": {},
   "outputs": [
    {
     "data": {
      "text/plain": [
       "2335075"
      ]
     },
     "execution_count": 62,
     "metadata": {},
     "output_type": "execute_result"
    }
   ],
   "source": [
    "len(kudos_listdos_list)"
   ]
  },
  {
   "cell_type": "code",
   "execution_count": 66,
   "metadata": {},
   "outputs": [
    {
     "data": {
      "image/png": "[encoded data removed]",
      "text/plain": [
       "<matplotlib.figure.Figure at 0x1173cf7b8>"
      ]
     },
     "metadata": {},
     "output_type": "display_data"
    }
   ],
   "source": [
    "Y = np.log10(sorted(kudos_list))\n",
    "N = len(Y)\n",
    "X = np.logspace( 1/N, 1, num=N)\n",
    "plt.plot(X,Y, label='Kudos')\n",
    "plt.xlabel('Logged Kudos',fontsize = '14')\n",
    "plt.ylabel(\"Logged Number of fictions\", fontsize='14')\n",
    "plt.savefig('kudos_dist.pdf', type='pdf')\n"
   ]
  },
  {
   "cell_type": "code",
   "execution_count": null,
   "metadata": {
    "collapsed": true
   },
   "outputs": [],
   "source": []
  }
 ],
 "metadata": {
  "kernelspec": {
   "display_name": "Python 3",
   "language": "python",
   "name": "python3"
  },
  "language_info": {
   "codemirror_mode": {
    "name": "ipython",
    "version": 3
   },
   "file_extension": ".py",
   "mimetype": "text/x-python",
   "name": "python",
   "nbconvert_exporter": "python",
   "pygments_lexer": "ipython3",
   "version": "3.5.2"
  }
 },
 "nbformat": 4,
 "nbformat_minor": 1
}
