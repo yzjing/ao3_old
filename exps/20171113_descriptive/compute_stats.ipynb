{
 "cells": [
  {
   "cell_type": "code",
   "execution_count": 1,
   "metadata": {},
   "outputs": [],
   "source": [
    "import pandas as pd\n",
    "import os\n",
    "import matplotlib.pyplot as plt\n",
    "%matplotlib inline\n",
    "import numpy as np\n",
    "from collections import Counter"
   ]
  },
  {
   "cell_type": "code",
   "execution_count": 2,
   "metadata": {},
   "outputs": [],
   "source": [
    "data_path = '../../data/metadata/'"
   ]
  },
  {
   "cell_type": "code",
   "execution_count": 3,
   "metadata": {},
   "outputs": [],
   "source": [
    "fandom_list = [line.strip() for line in open('../../data/fandom_filtered_list')]"
   ]
  },
  {
   "cell_type": "code",
   "execution_count": 4,
   "metadata": {},
   "outputs": [],
   "source": [
    "df = pd.read_csv(data_path + fandom_list[0] + '_metadata.tsv', sep = '\\t')"
   ]
  },
  {
   "cell_type": "code",
   "execution_count": 5,
   "metadata": {},
   "outputs": [],
   "source": [
    "d1 = Counter({'a': 1, 'b': 2})"
   ]
  },
  {
   "cell_type": "code",
   "execution_count": 6,
   "metadata": {},
   "outputs": [],
   "source": [
    "d2 = Counter({'b': 1, 'c': 3})"
   ]
  },
  {
   "cell_type": "code",
   "execution_count": 7,
   "metadata": {},
   "outputs": [
    {
     "data": {
      "text/plain": [
       "Counter({'a': 1, 'b': 3, 'c': 3})"
      ]
     },
     "execution_count": 7,
     "metadata": {},
     "output_type": "execute_result"
    }
   ],
   "source": [
    "d1+d2"
   ]
  },
  {
   "cell_type": "code",
   "execution_count": 8,
   "metadata": {},
   "outputs": [
    {
     "data": {
      "text/html": [
       "<div>\n",
       "<style scoped>\n",
       "    .dataframe tbody tr th:only-of-type {\n",
       "        vertical-align: middle;\n",
       "    }\n",
       "\n",
       "    .dataframe tbody tr th {\n",
       "        vertical-align: top;\n",
       "    }\n",
       "\n",
       "    .dataframe thead th {\n",
       "        text-align: right;\n",
       "    }\n",
       "</style>\n",
       "<table border=\"1\" class=\"dataframe\">\n",
       "  <thead>\n",
       "    <tr style=\"text-align: right;\">\n",
       "      <th></th>\n",
       "      <th>AdditionalTags</th>\n",
       "      <th>ArchiveWarnings</th>\n",
       "      <th>Author</th>\n",
       "      <th>Bookmarks</th>\n",
       "      <th>Category</th>\n",
       "      <th>ChapterIndex</th>\n",
       "      <th>Chapters</th>\n",
       "      <th>Characters</th>\n",
       "      <th>Comments</th>\n",
       "      <th>CompleteDate</th>\n",
       "      <th>...</th>\n",
       "      <th>Language</th>\n",
       "      <th>Notes</th>\n",
       "      <th>PublishDate</th>\n",
       "      <th>Rating</th>\n",
       "      <th>Relationship</th>\n",
       "      <th>Summary</th>\n",
       "      <th>Title</th>\n",
       "      <th>URL</th>\n",
       "      <th>UpdateDate</th>\n",
       "      <th>Words</th>\n",
       "    </tr>\n",
       "  </thead>\n",
       "  <tbody>\n",
       "    <tr>\n",
       "      <th>0</th>\n",
       "      <td>Plot What Plot/Porn Without Plot, Vaginal Fing...</td>\n",
       "      <td>Underage</td>\n",
       "      <td>MorganasCrow</td>\n",
       "      <td>0</td>\n",
       "      <td>F/F</td>\n",
       "      <td>NaN</td>\n",
       "      <td>1</td>\n",
       "      <td>Morgana (Merlin), Morgause (Merlin)</td>\n",
       "      <td>0</td>\n",
       "      <td>2015-06-16</td>\n",
       "      <td>...</td>\n",
       "      <td>English</td>\n",
       "      <td>NaN</td>\n",
       "      <td>2015-06-16</td>\n",
       "      <td>Explicit</td>\n",
       "      <td>Morcest</td>\n",
       "      <td>Morgana and Morgause enjoy wild games.</td>\n",
       "      <td>What The Fag You Think You\\'re Doing?</td>\n",
       "      <td>http://archiveofourown.org/works/4146375?view_...</td>\n",
       "      <td>NaN</td>\n",
       "      <td>933.0</td>\n",
       "    </tr>\n",
       "    <tr>\n",
       "      <th>1</th>\n",
       "      <td>blind!Arthur, Blindness, Minor Violence, Impli...</td>\n",
       "      <td>Creator Chose Not To Use Archive Warnings</td>\n",
       "      <td>SoCanonItHurts</td>\n",
       "      <td>4</td>\n",
       "      <td>M/M</td>\n",
       "      <td>NaN</td>\n",
       "      <td>1</td>\n",
       "      <td>Merlin (Merlin), Arthur Pendragon (Merlin), Gw...</td>\n",
       "      <td>0</td>\n",
       "      <td>NaN</td>\n",
       "      <td>...</td>\n",
       "      <td>English</td>\n",
       "      <td>Warning: I know nothing about being blind, all...</td>\n",
       "      <td>2016-04-17</td>\n",
       "      <td>Mature</td>\n",
       "      <td>Merlin/Arthur Pendragon, Gwaine/Merlin (Merlin...</td>\n",
       "      <td>Merlin has a wonderful night with a  mysteriou...</td>\n",
       "      <td>Obstacles in Our Way</td>\n",
       "      <td>http://archiveofourown.org/works/6575791?view_...</td>\n",
       "      <td>2016-04-16</td>\n",
       "      <td>1317.0</td>\n",
       "    </tr>\n",
       "  </tbody>\n",
       "</table>\n",
       "<p>2 rows × 23 columns</p>\n",
       "</div>"
      ],
      "text/plain": [
       "                                      AdditionalTags  \\\n",
       "0  Plot What Plot/Porn Without Plot, Vaginal Fing...   \n",
       "1  blind!Arthur, Blindness, Minor Violence, Impli...   \n",
       "\n",
       "                             ArchiveWarnings          Author  Bookmarks  \\\n",
       "0                                   Underage    MorganasCrow          0   \n",
       "1  Creator Chose Not To Use Archive Warnings  SoCanonItHurts          4   \n",
       "\n",
       "  Category  ChapterIndex  Chapters  \\\n",
       "0      F/F           NaN         1   \n",
       "1      M/M           NaN         1   \n",
       "\n",
       "                                          Characters  Comments CompleteDate  \\\n",
       "0                Morgana (Merlin), Morgause (Merlin)         0   2015-06-16   \n",
       "1  Merlin (Merlin), Arthur Pendragon (Merlin), Gw...         0          NaN   \n",
       "\n",
       "    ...   Language                                              Notes  \\\n",
       "0   ...    English                                                NaN   \n",
       "1   ...    English  Warning: I know nothing about being blind, all...   \n",
       "\n",
       "   PublishDate    Rating                                       Relationship  \\\n",
       "0   2015-06-16  Explicit                                            Morcest   \n",
       "1   2016-04-17    Mature  Merlin/Arthur Pendragon, Gwaine/Merlin (Merlin...   \n",
       "\n",
       "                                             Summary  \\\n",
       "0             Morgana and Morgause enjoy wild games.   \n",
       "1  Merlin has a wonderful night with a  mysteriou...   \n",
       "\n",
       "                                   Title  \\\n",
       "0  What The Fag You Think You\\'re Doing?   \n",
       "1                   Obstacles in Our Way   \n",
       "\n",
       "                                                 URL  UpdateDate   Words  \n",
       "0  http://archiveofourown.org/works/4146375?view_...         NaN   933.0  \n",
       "1  http://archiveofourown.org/works/6575791?view_...  2016-04-16  1317.0  \n",
       "\n",
       "[2 rows x 23 columns]"
      ]
     },
     "execution_count": 8,
     "metadata": {},
     "output_type": "execute_result"
    }
   ],
   "source": [
    "df.head(2)"
   ]
  },
  {
   "cell_type": "markdown",
   "metadata": {},
   "source": [
    "### Time dist"
   ]
  },
  {
   "cell_type": "code",
   "execution_count": 10,
   "metadata": {},
   "outputs": [
    {
     "name": "stderr",
     "output_type": "stream",
     "text": [
      "/anaconda3/envs/python36/lib/python3.6/site-packages/IPython/core/interactiveshell.py:2728: DtypeWarning: Columns (21) have mixed types. Specify dtype option on import or set low_memory=False.\n",
      "  interactivity=interactivity, compiler=compiler, result=result)\n"
     ]
    }
   ],
   "source": [
    "times = Counter()\n",
    "for fandom in fandom_list:\n",
    "    df = pd.read_csv(data_path + fandom + '_metadata.tsv', sep = '\\t')\n",
    "    times += Counter(df.PublishDate.str[:7].tolist())"
   ]
  },
  {
   "cell_type": "code",
   "execution_count": 111,
   "metadata": {},
   "outputs": [],
   "source": [
    "labels = sorted(times.keys())[:-1]"
   ]
  },
  {
   "cell_type": "code",
   "execution_count": 112,
   "metadata": {
    "scrolled": false
   },
   "outputs": [],
   "source": [
    "agg = 0\n",
    "for l in labels:\n",
    "    if int(l[0:4]) < 2009:\n",
    "        agg += times[l]\n",
    "labels = [l for l in labels if int(l[0:4]) >=  2009]"
   ]
  },
  {
   "cell_type": "code",
   "execution_count": 113,
   "metadata": {},
   "outputs": [],
   "source": [
    "labels.remove('2016-06')"
   ]
  },
  {
   "cell_type": "code",
   "execution_count": 114,
   "metadata": {},
   "outputs": [],
   "source": [
    "x = np.arange(1, len(labels) +1)\n",
    "y = [times[k] for k in labels]"
   ]
  },
  {
   "cell_type": "code",
   "execution_count": 115,
   "metadata": {},
   "outputs": [],
   "source": [
    "labels.insert(0,'Pre-2009')"
   ]
  },
  {
   "cell_type": "code",
   "execution_count": 116,
   "metadata": {},
   "outputs": [
    {
     "data": {
      "text/plain": [
       "array([ 1,  2,  3,  4,  5,  6,  7,  8,  9, 10, 11, 12, 13, 14, 15, 16, 17,\n",
       "       18, 19, 20, 21, 22, 23, 24, 25, 26, 27, 28, 29, 30, 31, 32, 33, 34,\n",
       "       35, 36, 37, 38, 39, 40, 41, 42, 43, 44, 45, 46, 47, 48, 49, 50, 51,\n",
       "       52, 53, 54, 55, 56, 57, 58, 59, 60, 61, 62, 63, 64, 65, 66, 67, 68,\n",
       "       69, 70, 71, 72, 73, 74, 75, 76, 77, 78, 79, 80, 81, 82, 83, 84, 85,\n",
       "       86, 87, 88, 89])"
      ]
     },
     "execution_count": 116,
     "metadata": {},
     "output_type": "execute_result"
    }
   ],
   "source": [
    "x"
   ]
  },
  {
   "cell_type": "code",
   "execution_count": 121,
   "metadata": {},
   "outputs": [
    {
     "data": {
      "image/png": "[encoded data removed]",
      "text/plain": [
       "<matplotlib.figure.Figure at 0x118b514a8>"
      ]
     },
     "metadata": {},
     "output_type": "display_data"
    }
   ],
   "source": [
    "labels_f = [l if labels.index(l)%5==0 else '' for l in labels ]\n",
    "fig, ax = plt.subplots(figsize=[11,7])\n",
    "plt.scatter(0, agg)\n",
    "plt.plot(x, y)\n",
    "plt.xticks(x, labels_f, rotation=90, fontsize=14)\n",
    "plt.yticks(fontsize=14)\n",
    "plt.xlabel(\"Time\", fontsize=15)\n",
    "plt.ylabel(\"Number of fanfictions published\",fontsize=15)\n",
    "# plt.xlim(-1,90)\n",
    "start_idx = labels.index('2010-01')\n",
    "end_idx = labels.index('2016-05')\n",
    "# x_zoom = np.arange(0, end_idx-start_idx+1)\n",
    "# y_zoom = [times[k] for k in labels[start_idx:end_idx+1]]\n",
    "# x_zoom_labels = labels[start_idx:end_idx+1]\n",
    "# x_zoom_labels_f = [l if x_zoom_labels.index(l)%3==0 else '' for l in x_zoom_labels ] \n",
    "# sub_axes = plt.axes([.3, .4, .4, .4]) \n",
    "# sub_axes.plot(x_zoom, y_zoom) \n",
    "# sub_axes.set_xticks(x_zoom)\n",
    "# sub_axes.set_xticklabels(x_zoom_labels_f, rotation=90)\n",
    "\n",
    "plt.tight_layout()\n",
    "plt.savefig(\"fic_time_dist.pdf\", format=\"pdf\")"
   ]
  },
  {
   "cell_type": "markdown",
   "metadata": {},
   "source": [
    "### Plot length dist"
   ]
  },
  {
   "cell_type": "code",
   "execution_count": 28,
   "metadata": {},
   "outputs": [
    {
     "name": "stderr",
     "output_type": "stream",
     "text": [
      "/Users/jingy/anaconda/envs/python35/lib/python3.5/site-packages/IPython/core/interactiveshell.py:2698: DtypeWarning: Columns (21) have mixed types. Specify dtype option on import or set low_memory=False.\n",
      "  interactivity=interactivity, compiler=compiler, result=result)\n"
     ]
    }
   ],
   "source": [
    "len_list = []\n",
    "for fandom in fandom_list:\n",
    "    df = pd.read_csv(data_path + fandom + '_metadata.tsv', sep = '\\t')\n",
    "    df['ave_len'] = df.Words/df.Chapters\n",
    "    df = df.dropna(subset=['ave_len'])\n",
    "    len_list.extend(df['ave_len'].tolist())"
   ]
  },
  {
   "cell_type": "code",
   "execution_count": 29,
   "metadata": {
    "collapsed": true
   },
   "outputs": [],
   "source": [
    "len_list = [elem for elem in len_list if not np.isnan(elem)]\n",
    "\n",
    "len_list = [elem for elem in len_list if not np.isinf(elem)]\n",
    "\n",
    "len_list = [elem for elem in len_list if elem > 0]"
   ]
  },
  {
   "cell_type": "code",
   "execution_count": 30,
   "metadata": {},
   "outputs": [
    {
     "data": {
      "text/plain": [
       "[87014.0,\n",
       " 87144.0,\n",
       " 87365.0,\n",
       " 87839.0,\n",
       " 88689.0,\n",
       " 89573.0,\n",
       " 90368.0,\n",
       " 97675.0,\n",
       " 101221.0,\n",
       " 102075.0,\n",
       " 102075.0,\n",
       " 106694.0,\n",
       " 111581.0,\n",
       " 128942.0,\n",
       " 157817.0,\n",
       " 184597.0,\n",
       " 216450.0,\n",
       " 323693.0,\n",
       " 323693.0,\n",
       " 576696.0]"
      ]
     },
     "execution_count": 30,
     "metadata": {},
     "output_type": "execute_result"
    }
   ],
   "source": [
    "sorted(len_list)[-20:]"
   ]
  },
  {
   "cell_type": "code",
   "execution_count": 36,
   "metadata": {},
   "outputs": [
    {
     "data": {
      "image/png": "[encoded data removed]",
      "text/plain": [
       "<matplotlib.figure.Figure at 0x12058d908>"
      ]
     },
     "metadata": {},
     "output_type": "display_data"
    }
   ],
   "source": [
    "plt.hist((len_list), log=True)\n",
    "plt.xlabel(\"Length of fictions\",fontsize=14)\n",
    "plt.ylabel(\"Log count of fictions\",fontsize=14)\n",
    "plt.tight_layout()\n",
    "plt.savefig(\"fic_len_dist.pdf\", format='pdf')"
   ]
  },
  {
   "cell_type": "code",
   "execution_count": 40,
   "metadata": {},
   "outputs": [
    {
     "data": {
      "text/plain": [
       "44052.93158961341"
      ]
     },
     "execution_count": 40,
     "metadata": {},
     "output_type": "execute_result"
    }
   ],
   "source": [
    "2*np.e**10"
   ]
  },
  {
   "cell_type": "markdown",
   "metadata": {},
   "source": [
    "### Kudos"
   ]
  },
  {
   "cell_type": "code",
   "execution_count": 37,
   "metadata": {},
   "outputs": [
    {
     "name": "stderr",
     "output_type": "stream",
     "text": [
      "/Users/jingy/anaconda/envs/python35/lib/python3.5/site-packages/IPython/core/interactiveshell.py:2698: DtypeWarning: Columns (21) have mixed types. Specify dtype option on import or set low_memory=False.\n",
      "  interactivity=interactivity, compiler=compiler, result=result)\n"
     ]
    }
   ],
   "source": [
    "kudos_list = []\n",
    "for fandom in fandom_list:\n",
    "    df = pd.read_csv(data_path + fandom + '_metadata.tsv', sep = '\\t')\n",
    "    df['ave_kudos'] = df.Kudos/df.Chapters\n",
    "    df = df.dropna(subset=['ave_kudos'])\n",
    "    kudos_list.extend(df['ave_kudos'].tolist())"
   ]
  },
  {
   "cell_type": "code",
   "execution_count": 38,
   "metadata": {
    "collapsed": true
   },
   "outputs": [],
   "source": [
    "kudos_list = [elem for elem in kudos_list if not np.isnan(elem) and not np.isinf(elem)]\n",
    "kudos_list = [elem for elem in kudos_list if elem > 0]"
   ]
  },
  {
   "cell_type": "code",
   "execution_count": 39,
   "metadata": {},
   "outputs": [
    {
     "ename": "NameError",
     "evalue": "name 'x1' is not defined",
     "output_type": "error",
     "traceback": [
      "\u001b[0;31m---------------------------------------------------------------------------\u001b[0m",
      "\u001b[0;31mNameError\u001b[0m                                 Traceback (most recent call last)",
      "\u001b[0;32m<ipython-input-39-f89847c2ae61>\u001b[0m in \u001b[0;36m<module>\u001b[0;34m()\u001b[0m\n\u001b[1;32m      2\u001b[0m \u001b[0mplt\u001b[0m\u001b[0;34m.\u001b[0m\u001b[0msubplot\u001b[0m\u001b[0;34m(\u001b[0m\u001b[0;36m1\u001b[0m\u001b[0;34m,\u001b[0m \u001b[0;36m2\u001b[0m\u001b[0;34m,\u001b[0m \u001b[0;36m1\u001b[0m\u001b[0;34m)\u001b[0m\u001b[0;34m\u001b[0m\u001b[0m\n\u001b[1;32m      3\u001b[0m \u001b[0;34m\u001b[0m\u001b[0m\n\u001b[0;32m----> 4\u001b[0;31m \u001b[0mY\u001b[0m \u001b[0;34m=\u001b[0m \u001b[0mnp\u001b[0m\u001b[0;34m.\u001b[0m\u001b[0mlog10\u001b[0m\u001b[0;34m(\u001b[0m\u001b[0msorted\u001b[0m\u001b[0;34m(\u001b[0m\u001b[0mx1\u001b[0m\u001b[0;34m)\u001b[0m\u001b[0;34m)\u001b[0m\u001b[0;34m\u001b[0m\u001b[0m\n\u001b[0m\u001b[1;32m      5\u001b[0m \u001b[0mN\u001b[0m \u001b[0;34m=\u001b[0m \u001b[0mlen\u001b[0m\u001b[0;34m(\u001b[0m\u001b[0mY\u001b[0m\u001b[0;34m)\u001b[0m\u001b[0;34m\u001b[0m\u001b[0m\n\u001b[1;32m      6\u001b[0m \u001b[0mX\u001b[0m \u001b[0;34m=\u001b[0m \u001b[0mnp\u001b[0m\u001b[0;34m.\u001b[0m\u001b[0mlogspace\u001b[0m\u001b[0;34m(\u001b[0m \u001b[0;36m1\u001b[0m\u001b[0;34m/\u001b[0m\u001b[0mN\u001b[0m\u001b[0;34m,\u001b[0m \u001b[0;36m1\u001b[0m\u001b[0;34m,\u001b[0m \u001b[0mnum\u001b[0m\u001b[0;34m=\u001b[0m\u001b[0mN\u001b[0m\u001b[0;34m)\u001b[0m\u001b[0;34m\u001b[0m\u001b[0m\n",
      "\u001b[0;31mNameError\u001b[0m: name 'x1' is not defined"
     ]
    },
    {
     "data": {
      "image/png": "[encoded data removed]",
      "text/plain": [
       "<matplotlib.figure.Figure at 0x13cd45da0>"
      ]
     },
     "metadata": {},
     "output_type": "display_data"
    }
   ],
   "source": [
    "plt.figure(figsize=(10,4))\n",
    "plt.subplot(1, 2, 1)\n",
    "\n",
    "Y = np.log10(sorted(x1))\n",
    "N = len(Y)\n",
    "X = np.logspace( 1/N, 1, num=N)\n",
    "plt.plot(X,Y, label='Kudos')\n",
    "plt.xlabel('Logged Kudos',fontsize = '14')\n",
    "plt.ylabel(\"Logged Number of fictions\", fontsize='14')\n",
    "\n",
    "plt.subplot(1, 2, 2)\n",
    "\n",
    "Y = np.log10(sorted(x2))\n",
    "N = len(Y)\n",
    "X = np.logspace( 1/N, 1, num=N)\n",
    "plt.plot(X,Y, label='Hits')\n",
    "plt.xlabel('Logged Hits',fontsize = '14')\n",
    "plt.ylabel(\"Logged Number of fictions\", fontsize='14')\n",
    "plt.savefig('kudos_hits_dist.png', type='png')\n",
    "\n"
   ]
  },
  {
   "cell_type": "code",
   "execution_count": null,
   "metadata": {},
   "outputs": [],
   "source": [
    "len(kudos_list)"
   ]
  },
  {
   "cell_type": "code",
   "execution_count": null,
   "metadata": {},
   "outputs": [],
   "source": [
    "np.log(0.01)"
   ]
  },
  {
   "cell_type": "code",
   "execution_count": 14,
   "metadata": {},
   "outputs": [
    {
     "data": {
      "text/plain": [
       "(array([  6.82800000e+03,   4.33130000e+04,   1.70624000e+05,\n",
       "          5.13400000e+05,   7.99294000e+05,   5.92785000e+05,\n",
       "          1.83801000e+05,   2.35740000e+04,   1.44100000e+03,\n",
       "          1.50000000e+01]),\n",
       " array([ -4.60517019,  -3.09143021,  -1.57769024,  -0.06395027,\n",
       "          1.4497897 ,   2.96352968,   4.47726965,   5.99100962,\n",
       "          7.50474959,   9.01848956,  10.53222954]),\n",
       " <a list of 10 Patch objects>)"
      ]
     },
     "execution_count": 14,
     "metadata": {},
     "output_type": "execute_result"
    },
    {
     "data": {
      "image/png": "[encoded data removed]",
      "text/plain": [
       "<matplotlib.figure.Figure at 0x11bf2bcc0>"
      ]
     },
     "metadata": {},
     "output_type": "display_data"
    }
   ],
   "source": [
    "plt.hist(np.log(kudos_list))"
   ]
  },
  {
   "cell_type": "code",
   "execution_count": 40,
   "metadata": {},
   "outputs": [
    {
     "ename": "NameError",
     "evalue": "name 'movie_df' is not defined",
     "output_type": "error",
     "traceback": [
      "\u001b[0;31m---------------------------------------------------------------------------\u001b[0m",
      "\u001b[0;31mNameError\u001b[0m                                 Traceback (most recent call last)",
      "\u001b[0;32m<ipython-input-40-29e9ca9fff44>\u001b[0m in \u001b[0;36m<module>\u001b[0;34m()\u001b[0m\n\u001b[1;32m      1\u001b[0m \u001b[0;31m# TODO: plot CDF of movie ratings.\u001b[0m\u001b[0;34m\u001b[0m\u001b[0;34m\u001b[0m\u001b[0m\n\u001b[0;32m----> 2\u001b[0;31m \u001b[0mX\u001b[0m \u001b[0;34m=\u001b[0m \u001b[0mmovie_df\u001b[0m\u001b[0;34m[\u001b[0m\u001b[0;34m'Rating'\u001b[0m\u001b[0;34m]\u001b[0m\u001b[0;34m.\u001b[0m\u001b[0morder\u001b[0m\u001b[0;34m(\u001b[0m\u001b[0;34m)\u001b[0m\u001b[0;34m\u001b[0m\u001b[0m\n\u001b[0m\u001b[1;32m      3\u001b[0m \u001b[0mN\u001b[0m \u001b[0;34m=\u001b[0m \u001b[0mlen\u001b[0m\u001b[0;34m(\u001b[0m\u001b[0mX\u001b[0m\u001b[0;34m)\u001b[0m\u001b[0;34m\u001b[0m\u001b[0m\n\u001b[1;32m      4\u001b[0m \u001b[0mY\u001b[0m \u001b[0;34m=\u001b[0m \u001b[0mnp\u001b[0m\u001b[0;34m.\u001b[0m\u001b[0mlinspace\u001b[0m\u001b[0;34m(\u001b[0m \u001b[0;36m1\u001b[0m\u001b[0;34m/\u001b[0m\u001b[0mN\u001b[0m\u001b[0;34m,\u001b[0m \u001b[0;36m1\u001b[0m\u001b[0;34m,\u001b[0m \u001b[0mnum\u001b[0m\u001b[0;34m=\u001b[0m\u001b[0mN\u001b[0m\u001b[0;34m)\u001b[0m\u001b[0;34m\u001b[0m\u001b[0m\n\u001b[1;32m      5\u001b[0m \u001b[0mplt\u001b[0m\u001b[0;34m.\u001b[0m\u001b[0mplot\u001b[0m\u001b[0;34m(\u001b[0m\u001b[0mX\u001b[0m\u001b[0;34m,\u001b[0m\u001b[0mY\u001b[0m\u001b[0;34m)\u001b[0m\u001b[0;34m\u001b[0m\u001b[0m\n",
      "\u001b[0;31mNameError\u001b[0m: name 'movie_df' is not defined"
     ]
    }
   ],
   "source": [
    "# TODO: plot CDF of movie ratings. \n",
    "X = movie_df['Rating'].order()\n",
    "N = len(X)\n",
    "Y = np.linspace( 1/N, 1, num=N)\n",
    "plt.plot(X,Y)"
   ]
  },
  {
   "cell_type": "code",
   "execution_count": 44,
   "metadata": {},
   "outputs": [
    {
     "data": {
      "image/png": "[encoded data removed]",
      "text/plain": [
       "<matplotlib.figure.Figure at 0x1137d45f8>"
      ]
     },
     "metadata": {},
     "output_type": "display_data"
    }
   ],
   "source": [
    "X = np.log(sorted(kudos_list))\n",
    "N = len(X)\n",
    "Y = np.linspace( 1/N, 1, num=N)\n",
    "plt.plot(X,Y, label='Kudos')\n",
    "plt.ylabel('P(Kudos)',fontsize = '14')\n",
    "plt.xlabel(\"Log of Kudos\", fontsize='14')\n",
    "plt.savefig('kudos_dist.pdf', type='pdf')\n"
   ]
  },
  {
   "cell_type": "markdown",
   "metadata": {
    "collapsed": true
   },
   "source": [
    "### Tag set length"
   ]
  },
  {
   "cell_type": "code",
   "execution_count": 13,
   "metadata": {
    "collapsed": true
   },
   "outputs": [],
   "source": [
    "def calc_tag_len(cell):\n",
    "    return len(cell.split(','))"
   ]
  },
  {
   "cell_type": "code",
   "execution_count": 15,
   "metadata": {
    "collapsed": true
   },
   "outputs": [],
   "source": [
    "df = df.dropna(subset = ['AdditionalTags'])"
   ]
  },
  {
   "cell_type": "code",
   "execution_count": 16,
   "metadata": {},
   "outputs": [
    {
     "name": "stderr",
     "output_type": "stream",
     "text": [
      "/Users/jingy/anaconda/envs/python35/lib/python3.5/site-packages/ipykernel_launcher.py:1: SettingWithCopyWarning: \n",
      "A value is trying to be set on a copy of a slice from a DataFrame.\n",
      "Try using .loc[row_indexer,col_indexer] = value instead\n",
      "\n",
      "See the caveats in the documentation: http://pandas.pydata.org/pandas-docs/stable/indexing.html#indexing-view-versus-copy\n",
      "  \"\"\"Entry point for launching an IPython kernel.\n"
     ]
    }
   ],
   "source": [
    "df['tag_set_len'] = df.AdditionalTags.apply(lambda cell: len(cell.split(',')))"
   ]
  },
  {
   "cell_type": "code",
   "execution_count": 17,
   "metadata": {},
   "outputs": [
    {
     "data": {
      "text/html": [
       "<div>\n",
       "<style>\n",
       "    .dataframe thead tr:only-child th {\n",
       "        text-align: right;\n",
       "    }\n",
       "\n",
       "    .dataframe thead th {\n",
       "        text-align: left;\n",
       "    }\n",
       "\n",
       "    .dataframe tbody tr th {\n",
       "        vertical-align: top;\n",
       "    }\n",
       "</style>\n",
       "<table border=\"1\" class=\"dataframe\">\n",
       "  <thead>\n",
       "    <tr style=\"text-align: right;\">\n",
       "      <th></th>\n",
       "      <th>AdditionalTags</th>\n",
       "      <th>ArchiveWarnings</th>\n",
       "      <th>Author</th>\n",
       "      <th>Bookmarks</th>\n",
       "      <th>Category</th>\n",
       "      <th>ChapterIndex</th>\n",
       "      <th>Chapters</th>\n",
       "      <th>Characters</th>\n",
       "      <th>Comments</th>\n",
       "      <th>CompleteDate</th>\n",
       "      <th>...</th>\n",
       "      <th>Notes</th>\n",
       "      <th>PublishDate</th>\n",
       "      <th>Rating</th>\n",
       "      <th>Relationship</th>\n",
       "      <th>Summary</th>\n",
       "      <th>Title</th>\n",
       "      <th>URL</th>\n",
       "      <th>UpdateDate</th>\n",
       "      <th>Words</th>\n",
       "      <th>tag_set_len</th>\n",
       "    </tr>\n",
       "  </thead>\n",
       "  <tbody>\n",
       "    <tr>\n",
       "      <th>0</th>\n",
       "      <td>Plot What Plot/Porn Without Plot, Vaginal Fing...</td>\n",
       "      <td>Underage</td>\n",
       "      <td>MorganasCrow</td>\n",
       "      <td>0</td>\n",
       "      <td>F/F</td>\n",
       "      <td>NaN</td>\n",
       "      <td>1</td>\n",
       "      <td>Morgana (Merlin), Morgause (Merlin)</td>\n",
       "      <td>0</td>\n",
       "      <td>2015-06-16</td>\n",
       "      <td>...</td>\n",
       "      <td>NaN</td>\n",
       "      <td>2015-06-16</td>\n",
       "      <td>Explicit</td>\n",
       "      <td>Morcest</td>\n",
       "      <td>Morgana and Morgause enjoy wild games.</td>\n",
       "      <td>What The Fag You Think You\\'re Doing?</td>\n",
       "      <td>http://archiveofourown.org/works/4146375?view_...</td>\n",
       "      <td>NaN</td>\n",
       "      <td>933.0</td>\n",
       "      <td>14</td>\n",
       "    </tr>\n",
       "    <tr>\n",
       "      <th>1</th>\n",
       "      <td>blind!Arthur, Blindness, Minor Violence, Impli...</td>\n",
       "      <td>Creator Chose Not To Use Archive Warnings</td>\n",
       "      <td>SoCanonItHurts</td>\n",
       "      <td>4</td>\n",
       "      <td>M/M</td>\n",
       "      <td>NaN</td>\n",
       "      <td>1</td>\n",
       "      <td>Merlin (Merlin), Arthur Pendragon (Merlin), Gw...</td>\n",
       "      <td>0</td>\n",
       "      <td>NaN</td>\n",
       "      <td>...</td>\n",
       "      <td>Warning: I know nothing about being blind, all...</td>\n",
       "      <td>2016-04-17</td>\n",
       "      <td>Mature</td>\n",
       "      <td>Merlin/Arthur Pendragon, Gwaine/Merlin (Merlin...</td>\n",
       "      <td>Merlin has a wonderful night with a  mysteriou...</td>\n",
       "      <td>Obstacles in Our Way</td>\n",
       "      <td>http://archiveofourown.org/works/6575791?view_...</td>\n",
       "      <td>2016-04-16</td>\n",
       "      <td>1317.0</td>\n",
       "      <td>4</td>\n",
       "    </tr>\n",
       "    <tr>\n",
       "      <th>2</th>\n",
       "      <td>Alternate Universe - Post-Apocalypse, Summer P...</td>\n",
       "      <td>No Archive Warnings Apply</td>\n",
       "      <td>Cyn</td>\n",
       "      <td>1</td>\n",
       "      <td>M/M</td>\n",
       "      <td>NaN</td>\n",
       "      <td>1</td>\n",
       "      <td>Merlin (Merlin), Arthur Pendragon (Merlin)</td>\n",
       "      <td>0</td>\n",
       "      <td>2014-12-19</td>\n",
       "      <td>...</td>\n",
       "      <td>Written for the third round at Summer Pornatho...</td>\n",
       "      <td>2014-12-19</td>\n",
       "      <td>Explicit</td>\n",
       "      <td>Merlin/Arthur Pendragon</td>\n",
       "      <td>Arthur distracts Merlin in an old ruined library.</td>\n",
       "      <td>The Stacks (Best Place for Sex, Even if They D...</td>\n",
       "      <td>http://archiveofourown.org/works/2797889?view_...</td>\n",
       "      <td>NaN</td>\n",
       "      <td>745.0</td>\n",
       "      <td>3</td>\n",
       "    </tr>\n",
       "    <tr>\n",
       "      <th>4</th>\n",
       "      <td>Alternate Universe - Dystopia, Summer Pornatho...</td>\n",
       "      <td>No Archive Warnings Apply</td>\n",
       "      <td>Clea2011</td>\n",
       "      <td>0</td>\n",
       "      <td>F/M</td>\n",
       "      <td>NaN</td>\n",
       "      <td>1</td>\n",
       "      <td>Elena (Merlin), Gwaine (Merlin), Leon (Merlin)</td>\n",
       "      <td>6</td>\n",
       "      <td>2015-08-30</td>\n",
       "      <td>...</td>\n",
       "      <td>This was my Summer Pornathon week 4 entry, for...</td>\n",
       "      <td>2015-08-30</td>\n",
       "      <td>Mature</td>\n",
       "      <td>Elena/Gwaine (Merlin)</td>\n",
       "      <td>The observatory was in darkness. It was where ...</td>\n",
       "      <td>Forbidden</td>\n",
       "      <td>http://archiveofourown.org/works/4688852?view_...</td>\n",
       "      <td>NaN</td>\n",
       "      <td>750.0</td>\n",
       "      <td>2</td>\n",
       "    </tr>\n",
       "    <tr>\n",
       "      <th>6</th>\n",
       "      <td>Angst, Pining, Unrequited Love</td>\n",
       "      <td>No Archive Warnings Apply, Creator Chose Not T...</td>\n",
       "      <td>Ctiy1007</td>\n",
       "      <td>0</td>\n",
       "      <td>F/MGenM/MOther</td>\n",
       "      <td>NaN</td>\n",
       "      <td>1</td>\n",
       "      <td>Arthur Pendragon, Guinevere (Arthurian), Merli...</td>\n",
       "      <td>1</td>\n",
       "      <td>2015-10-23</td>\n",
       "      <td>...</td>\n",
       "      <td>NaN</td>\n",
       "      <td>2015-10-23</td>\n",
       "      <td>General Audiences</td>\n",
       "      <td>Gwen/Arthur Pendragon (Merlin), Gwen/Lancelot ...</td>\n",
       "      <td>He watches them, King Arthur and the Queen to ...</td>\n",
       "      <td>Most Times Love Hurts</td>\n",
       "      <td>http://archiveofourown.org/works/248519</td>\n",
       "      <td>NaN</td>\n",
       "      <td>162.0</td>\n",
       "      <td>3</td>\n",
       "    </tr>\n",
       "  </tbody>\n",
       "</table>\n",
       "<p>5 rows × 24 columns</p>\n",
       "</div>"
      ],
      "text/plain": [
       "                                      AdditionalTags  \\\n",
       "0  Plot What Plot/Porn Without Plot, Vaginal Fing...   \n",
       "1  blind!Arthur, Blindness, Minor Violence, Impli...   \n",
       "2  Alternate Universe - Post-Apocalypse, Summer P...   \n",
       "4  Alternate Universe - Dystopia, Summer Pornatho...   \n",
       "6                     Angst, Pining, Unrequited Love   \n",
       "\n",
       "                                     ArchiveWarnings          Author  \\\n",
       "0                                           Underage    MorganasCrow   \n",
       "1          Creator Chose Not To Use Archive Warnings  SoCanonItHurts   \n",
       "2                          No Archive Warnings Apply             Cyn   \n",
       "4                          No Archive Warnings Apply        Clea2011   \n",
       "6  No Archive Warnings Apply, Creator Chose Not T...        Ctiy1007   \n",
       "\n",
       "   Bookmarks        Category  ChapterIndex  Chapters  \\\n",
       "0          0             F/F           NaN         1   \n",
       "1          4             M/M           NaN         1   \n",
       "2          1             M/M           NaN         1   \n",
       "4          0             F/M           NaN         1   \n",
       "6          0  F/MGenM/MOther           NaN         1   \n",
       "\n",
       "                                          Characters  Comments CompleteDate  \\\n",
       "0                Morgana (Merlin), Morgause (Merlin)         0   2015-06-16   \n",
       "1  Merlin (Merlin), Arthur Pendragon (Merlin), Gw...         0          NaN   \n",
       "2         Merlin (Merlin), Arthur Pendragon (Merlin)         0   2014-12-19   \n",
       "4     Elena (Merlin), Gwaine (Merlin), Leon (Merlin)         6   2015-08-30   \n",
       "6  Arthur Pendragon, Guinevere (Arthurian), Merli...         1   2015-10-23   \n",
       "\n",
       "      ...                                                  Notes  PublishDate  \\\n",
       "0     ...                                                    NaN   2015-06-16   \n",
       "1     ...      Warning: I know nothing about being blind, all...   2016-04-17   \n",
       "2     ...      Written for the third round at Summer Pornatho...   2014-12-19   \n",
       "4     ...      This was my Summer Pornathon week 4 entry, for...   2015-08-30   \n",
       "6     ...                                                    NaN   2015-10-23   \n",
       "\n",
       "              Rating                                       Relationship  \\\n",
       "0           Explicit                                            Morcest   \n",
       "1             Mature  Merlin/Arthur Pendragon, Gwaine/Merlin (Merlin...   \n",
       "2           Explicit                            Merlin/Arthur Pendragon   \n",
       "4             Mature                              Elena/Gwaine (Merlin)   \n",
       "6  General Audiences  Gwen/Arthur Pendragon (Merlin), Gwen/Lancelot ...   \n",
       "\n",
       "                                             Summary  \\\n",
       "0             Morgana and Morgause enjoy wild games.   \n",
       "1  Merlin has a wonderful night with a  mysteriou...   \n",
       "2  Arthur distracts Merlin in an old ruined library.   \n",
       "4  The observatory was in darkness. It was where ...   \n",
       "6  He watches them, King Arthur and the Queen to ...   \n",
       "\n",
       "                                               Title  \\\n",
       "0              What The Fag You Think You\\'re Doing?   \n",
       "1                               Obstacles in Our Way   \n",
       "2  The Stacks (Best Place for Sex, Even if They D...   \n",
       "4                                          Forbidden   \n",
       "6                              Most Times Love Hurts   \n",
       "\n",
       "                                                 URL  UpdateDate   Words  \\\n",
       "0  http://archiveofourown.org/works/4146375?view_...         NaN   933.0   \n",
       "1  http://archiveofourown.org/works/6575791?view_...  2016-04-16  1317.0   \n",
       "2  http://archiveofourown.org/works/2797889?view_...         NaN   745.0   \n",
       "4  http://archiveofourown.org/works/4688852?view_...         NaN   750.0   \n",
       "6            http://archiveofourown.org/works/248519         NaN   162.0   \n",
       "\n",
       "  tag_set_len  \n",
       "0          14  \n",
       "1           4  \n",
       "2           3  \n",
       "4           2  \n",
       "6           3  \n",
       "\n",
       "[5 rows x 24 columns]"
      ]
     },
     "execution_count": 17,
     "metadata": {},
     "output_type": "execute_result"
    }
   ],
   "source": [
    "df.head()"
   ]
  },
  {
   "cell_type": "code",
   "execution_count": 18,
   "metadata": {},
   "outputs": [
    {
     "name": "stderr",
     "output_type": "stream",
     "text": [
      "/Users/jingy/anaconda/envs/python35/lib/python3.5/site-packages/IPython/core/interactiveshell.py:2698: DtypeWarning: Columns (21) have mixed types. Specify dtype option on import or set low_memory=False.\n",
      "  interactivity=interactivity, compiler=compiler, result=result)\n"
     ]
    }
   ],
   "source": [
    "tag_len_list = []\n",
    "for fandom in fandom_list:\n",
    "    df = pd.read_csv(data_path + fandom + '_metadata.tsv', sep = '\\t')\n",
    "    df = df.dropna(subset = ['AdditionalTags'])\n",
    "    df['tag_set_len'] = df.AdditionalTags.apply(lambda cell: len(cell.split(',')))\n",
    "    tag_len_list.extend(df['tag_set_len'].tolist())"
   ]
  },
  {
   "cell_type": "code",
   "execution_count": 19,
   "metadata": {},
   "outputs": [
    {
     "data": {
      "text/plain": [
       "2090009"
      ]
     },
     "execution_count": 19,
     "metadata": {},
     "output_type": "execute_result"
    }
   ],
   "source": [
    "len(tag_len_list)"
   ]
  },
  {
   "cell_type": "code",
   "execution_count": 20,
   "metadata": {},
   "outputs": [
    {
     "data": {
      "text/plain": [
       "[14, 4, 3, 2, 3, 4, 5, 3, 5, 13]"
      ]
     },
     "execution_count": 20,
     "metadata": {},
     "output_type": "execute_result"
    }
   ],
   "source": [
    "tag_len_list[0:10]"
   ]
  },
  {
   "cell_type": "code",
   "execution_count": 48,
   "metadata": {},
   "outputs": [
    {
     "data": {
      "image/png": "[encoded data removed]",
      "text/plain": [
       "<matplotlib.figure.Figure at 0x120221c18>"
      ]
     },
     "metadata": {},
     "output_type": "display_data"
    }
   ],
   "source": [
    "X = np.log(sorted(tag_len_list))\n",
    "N = len(X)\n",
    "Y = np.linspace( 1/N, 1, num=N)\n",
    "plt.plot(X,Y, label='Kudos')\n",
    "plt.ylabel('P(tag set length)',fontsize = '14')\n",
    "plt.xlabel(\"Log of tag set length\", fontsize='14')\n",
    "plt.savefig('tag_len_dist.pdf', type='pdf')\n"
   ]
  },
  {
   "cell_type": "code",
   "execution_count": null,
   "metadata": {
    "collapsed": true
   },
   "outputs": [],
   "source": []
  }
 ],
 "metadata": {
  "kernelspec": {
   "display_name": "Python 3",
   "language": "python",
   "name": "python3"
  },
  "language_info": {
   "codemirror_mode": {
    "name": "ipython",
    "version": 3
   },
   "file_extension": ".py",
   "mimetype": "text/x-python",
   "name": "python",
   "nbconvert_exporter": "python",
   "pygments_lexer": "ipython3",
   "version": "3.6.4"
  }
 },
 "nbformat": 4,
 "nbformat_minor": 1
}
