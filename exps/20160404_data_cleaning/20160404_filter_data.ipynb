{
 "cells": [
  {
   "cell_type": "code",
   "execution_count": 2,
   "metadata": {
    "collapsed": false
   },
   "outputs": [],
   "source": [
    "import pandas as pd\n",
    "# import matplotlib.pyplot as plt\n",
    "# %matplotlib inline \n",
    "from collections import Counter"
   ]
  },
  {
   "cell_type": "code",
   "execution_count": 7,
   "metadata": {
    "collapsed": false
   },
   "outputs": [],
   "source": [
    "f = '../../data/sherlock_all.csv'"
   ]
  },
  {
   "cell_type": "code",
   "execution_count": 13,
   "metadata": {
    "collapsed": false
   },
   "outputs": [],
   "source": [
    "data = pd.read_csv(f)"
   ]
  },
  {
   "cell_type": "code",
   "execution_count": 14,
   "metadata": {
    "collapsed": false
   },
   "outputs": [
    {
     "data": {
      "text/plain": [
       "array(['AdditionalTags', 'ArchiveWarnings', 'Author', 'Bookmarks',\n",
       "       'Category', 'ChapterIndex', 'Chapters', 'Characters', 'Comments',\n",
       "       'CompleteDate', 'Fandoms', 'Hits', 'Kudos', 'Language', 'Notes',\n",
       "       'PublishDate', 'Rating', 'Relationship', 'Summary', 'Text', 'Title',\n",
       "       'UpdateDate', 'Words'], dtype=object)"
      ]
     },
     "execution_count": 14,
     "metadata": {},
     "output_type": "execute_result"
    }
   ],
   "source": [
    "data.columns.values"
   ]
  },
  {
   "cell_type": "code",
   "execution_count": 15,
   "metadata": {
    "collapsed": false
   },
   "outputs": [
    {
     "data": {
      "text/html": [
       "<div>\n",
       "<table border=\"1\" class=\"dataframe\">\n",
       "  <thead>\n",
       "    <tr style=\"text-align: right;\">\n",
       "      <th></th>\n",
       "      <th>AdditionalTags</th>\n",
       "      <th>ArchiveWarnings</th>\n",
       "      <th>Author</th>\n",
       "      <th>Bookmarks</th>\n",
       "      <th>Category</th>\n",
       "      <th>ChapterIndex</th>\n",
       "      <th>Chapters</th>\n",
       "      <th>Characters</th>\n",
       "      <th>Comments</th>\n",
       "      <th>CompleteDate</th>\n",
       "      <th>...</th>\n",
       "      <th>Language</th>\n",
       "      <th>Notes</th>\n",
       "      <th>PublishDate</th>\n",
       "      <th>Rating</th>\n",
       "      <th>Relationship</th>\n",
       "      <th>Summary</th>\n",
       "      <th>Text</th>\n",
       "      <th>Title</th>\n",
       "      <th>UpdateDate</th>\n",
       "      <th>Words</th>\n",
       "    </tr>\n",
       "  </thead>\n",
       "  <tbody>\n",
       "    <tr>\n",
       "      <th>0</th>\n",
       "      <td>Implied/Referenced Rape/Non-con, Past Rape/No...</td>\n",
       "      <td>Creator Chose Not To Use Archive Warnings</td>\n",
       "      <td>HunterusHeroicus</td>\n",
       "      <td>{'2016-03': 1}</td>\n",
       "      <td>Gen</td>\n",
       "      <td>NaN</td>\n",
       "      <td>1/1</td>\n",
       "      <td>John Watson, Sherlock Holmes, Mycroft Holmes,...</td>\n",
       "      <td>{'2016-01': 2}</td>\n",
       "      <td>2015-01-11</td>\n",
       "      <td>...</td>\n",
       "      <td>English</td>\n",
       "      <td>NaN</td>\n",
       "      <td>2015-01-11</td>\n",
       "      <td>Mature</td>\n",
       "      <td>NaN</td>\n",
       "      <td>Mycroft pays a visit, and John gets some answers.</td>\n",
       "      <td>\\nWhen John got back to the flat, his head was...</td>\n",
       "      <td>In Memoriam</td>\n",
       "      <td>NaN</td>\n",
       "      <td>1016</td>\n",
       "    </tr>\n",
       "    <tr>\n",
       "      <th>1</th>\n",
       "      <td>Implied/Referenced Rape/Non-con</td>\n",
       "      <td>Creator Chose Not To Use Archive Warnings</td>\n",
       "      <td>HunterusHeroicus</td>\n",
       "      <td>NaN</td>\n",
       "      <td>Gen</td>\n",
       "      <td>NaN</td>\n",
       "      <td>1/1</td>\n",
       "      <td>John Watson, Greg Lestrade</td>\n",
       "      <td>NaN</td>\n",
       "      <td>2015-01-11</td>\n",
       "      <td>...</td>\n",
       "      <td>English</td>\n",
       "      <td>NaN</td>\n",
       "      <td>2015-01-11</td>\n",
       "      <td>Mature</td>\n",
       "      <td>NaN</td>\n",
       "      <td>A conversation with Lestrade.</td>\n",
       "      <td>\\nJohn knocked on the door before entering. Le...</td>\n",
       "      <td>Puzzle Pieces</td>\n",
       "      <td>NaN</td>\n",
       "      <td>464</td>\n",
       "    </tr>\n",
       "    <tr>\n",
       "      <th>2</th>\n",
       "      <td>Implied/Referenced Rape/Non-con</td>\n",
       "      <td>Creator Chose Not To Use Archive Warnings</td>\n",
       "      <td>HunterusHeroicus</td>\n",
       "      <td>NaN</td>\n",
       "      <td>Gen</td>\n",
       "      <td>NaN</td>\n",
       "      <td>1/1</td>\n",
       "      <td>Molly Hooper, John Watson, Sherlock Holmes</td>\n",
       "      <td>NaN</td>\n",
       "      <td>2015-01-11</td>\n",
       "      <td>...</td>\n",
       "      <td>English</td>\n",
       "      <td>NaN</td>\n",
       "      <td>2015-01-11</td>\n",
       "      <td>Mature</td>\n",
       "      <td>NaN</td>\n",
       "      <td>John had almost gotten Sherlock out the door w...</td>\n",
       "      <td>\\nJohn had almost gotten Sherlock out the door...</td>\n",
       "      <td>Molly, Interrupted</td>\n",
       "      <td>NaN</td>\n",
       "      <td>303</td>\n",
       "    </tr>\n",
       "    <tr>\n",
       "      <th>3</th>\n",
       "      <td>Crack, Seriously crack, Cannibalism, but not ...</td>\n",
       "      <td>No Archive Warnings Apply</td>\n",
       "      <td>i_ship_an_armada</td>\n",
       "      <td>{'2015-02': 1, '2015-12': 1, '2016-03': 1, '20...</td>\n",
       "      <td>M/M</td>\n",
       "      <td>NaN</td>\n",
       "      <td>1/1</td>\n",
       "      <td>Sherlock Holmes, John Watson</td>\n",
       "      <td>{'2015-09': 2, '2015-05': 2, '2015-01': 35}</td>\n",
       "      <td>2015-01-11</td>\n",
       "      <td>...</td>\n",
       "      <td>English</td>\n",
       "      <td>Okay. So. CRACK. We took three words (PICKLE, ...</td>\n",
       "      <td>2015-01-11</td>\n",
       "      <td>Teen And Up Audiences</td>\n",
       "      <td>Sherlock Holmes/John Watson</td>\n",
       "      <td>John is suddenly aware of Sherlock\\xe2\\x80\\x99...</td>\n",
       "      <td>\\nA whip cracks. \\xc2\\xa0John looks up at the ...</td>\n",
       "      <td>Put That on Your Blog</td>\n",
       "      <td>NaN</td>\n",
       "      <td>1028</td>\n",
       "    </tr>\n",
       "    <tr>\n",
       "      <th>4</th>\n",
       "      <td>Rape/Non-con Elements, Past Rape/Non-con</td>\n",
       "      <td>Creator Chose Not To Use Archive Warnings</td>\n",
       "      <td>HunterusHeroicus</td>\n",
       "      <td>NaN</td>\n",
       "      <td>Gen</td>\n",
       "      <td>NaN</td>\n",
       "      <td>1/1</td>\n",
       "      <td>John Watson, Sherlock Holmes, Jim Moriarty</td>\n",
       "      <td>NaN</td>\n",
       "      <td>2015-01-11</td>\n",
       "      <td>...</td>\n",
       "      <td>English</td>\n",
       "      <td>NaN</td>\n",
       "      <td>2015-01-11</td>\n",
       "      <td>Mature</td>\n",
       "      <td>NaN</td>\n",
       "      <td>John knew it was only a matter of time before ...</td>\n",
       "      <td>\\n\"Look, all I\\'m saying is that\\'s not kind t...</td>\n",
       "      <td>Encounter</td>\n",
       "      <td>NaN</td>\n",
       "      <td>958</td>\n",
       "    </tr>\n",
       "  </tbody>\n",
       "</table>\n",
       "<p>5 rows × 23 columns</p>\n",
       "</div>"
      ],
      "text/plain": [
       "                                      AdditionalTags  \\\n",
       "0   Implied/Referenced Rape/Non-con, Past Rape/No...   \n",
       "1                    Implied/Referenced Rape/Non-con   \n",
       "2                    Implied/Referenced Rape/Non-con   \n",
       "3   Crack, Seriously crack, Cannibalism, but not ...   \n",
       "4           Rape/Non-con Elements, Past Rape/Non-con   \n",
       "\n",
       "                              ArchiveWarnings            Author  \\\n",
       "0   Creator Chose Not To Use Archive Warnings  HunterusHeroicus   \n",
       "1   Creator Chose Not To Use Archive Warnings  HunterusHeroicus   \n",
       "2   Creator Chose Not To Use Archive Warnings  HunterusHeroicus   \n",
       "3                   No Archive Warnings Apply  i_ship_an_armada   \n",
       "4   Creator Chose Not To Use Archive Warnings  HunterusHeroicus   \n",
       "\n",
       "                                           Bookmarks Category ChapterIndex  \\\n",
       "0                                     {'2016-03': 1}      Gen          NaN   \n",
       "1                                                NaN      Gen          NaN   \n",
       "2                                                NaN      Gen          NaN   \n",
       "3  {'2015-02': 1, '2015-12': 1, '2016-03': 1, '20...      M/M          NaN   \n",
       "4                                                NaN      Gen          NaN   \n",
       "\n",
       "  Chapters                                         Characters  \\\n",
       "0      1/1   John Watson, Sherlock Holmes, Mycroft Holmes,...   \n",
       "1      1/1                         John Watson, Greg Lestrade   \n",
       "2      1/1         Molly Hooper, John Watson, Sherlock Holmes   \n",
       "3      1/1                       Sherlock Holmes, John Watson   \n",
       "4      1/1         John Watson, Sherlock Holmes, Jim Moriarty   \n",
       "\n",
       "                                      Comments CompleteDate  ...  Language  \\\n",
       "0                               {'2016-01': 2}   2015-01-11  ...   English   \n",
       "1                                          NaN   2015-01-11  ...   English   \n",
       "2                                          NaN   2015-01-11  ...   English   \n",
       "3  {'2015-09': 2, '2015-05': 2, '2015-01': 35}   2015-01-11  ...   English   \n",
       "4                                          NaN   2015-01-11  ...   English   \n",
       "\n",
       "                                               Notes PublishDate  \\\n",
       "0                                                NaN  2015-01-11   \n",
       "1                                                NaN  2015-01-11   \n",
       "2                                                NaN  2015-01-11   \n",
       "3  Okay. So. CRACK. We took three words (PICKLE, ...  2015-01-11   \n",
       "4                                                NaN  2015-01-11   \n",
       "\n",
       "                   Rating                  Relationship  \\\n",
       "0                  Mature                           NaN   \n",
       "1                  Mature                           NaN   \n",
       "2                  Mature                           NaN   \n",
       "3   Teen And Up Audiences   Sherlock Holmes/John Watson   \n",
       "4                  Mature                           NaN   \n",
       "\n",
       "                                             Summary  \\\n",
       "0  Mycroft pays a visit, and John gets some answers.   \n",
       "1                      A conversation with Lestrade.   \n",
       "2  John had almost gotten Sherlock out the door w...   \n",
       "3  John is suddenly aware of Sherlock\\xe2\\x80\\x99...   \n",
       "4  John knew it was only a matter of time before ...   \n",
       "\n",
       "                                                Text                  Title  \\\n",
       "0  \\nWhen John got back to the flat, his head was...            In Memoriam   \n",
       "1  \\nJohn knocked on the door before entering. Le...          Puzzle Pieces   \n",
       "2  \\nJohn had almost gotten Sherlock out the door...     Molly, Interrupted   \n",
       "3  \\nA whip cracks. \\xc2\\xa0John looks up at the ...  Put That on Your Blog   \n",
       "4  \\n\"Look, all I\\'m saying is that\\'s not kind t...              Encounter   \n",
       "\n",
       "  UpdateDate Words  \n",
       "0        NaN  1016  \n",
       "1        NaN   464  \n",
       "2        NaN   303  \n",
       "3        NaN  1028  \n",
       "4        NaN   958  \n",
       "\n",
       "[5 rows x 23 columns]"
      ]
     },
     "execution_count": 15,
     "metadata": {},
     "output_type": "execute_result"
    }
   ],
   "source": [
    "data.head()"
   ]
  },
  {
   "cell_type": "code",
   "execution_count": 21,
   "metadata": {
    "collapsed": false
   },
   "outputs": [
    {
     "data": {
      "text/plain": [
       "224761"
      ]
     },
     "execution_count": 21,
     "metadata": {},
     "output_type": "execute_result"
    }
   ],
   "source": [
    "df = data\n",
    "len(df)"
   ]
  },
  {
   "cell_type": "code",
   "execution_count": 22,
   "metadata": {
    "collapsed": false
   },
   "outputs": [
    {
     "data": {
      "text/plain": [
       "220480"
      ]
     },
     "execution_count": 22,
     "metadata": {},
     "output_type": "execute_result"
    }
   ],
   "source": [
    "df = df.drop_duplicates()\n",
    "len(df)"
   ]
  },
  {
   "cell_type": "code",
   "execution_count": 23,
   "metadata": {
    "collapsed": false
   },
   "outputs": [
    {
     "data": {
      "text/plain": [
       "214582"
      ]
     },
     "execution_count": 23,
     "metadata": {},
     "output_type": "execute_result"
    }
   ],
   "source": [
    "df = df[df.Text.notnull()]\n",
    "len(df)"
   ]
  },
  {
   "cell_type": "markdown",
   "metadata": {},
   "source": [
    "Number of chapters that we have."
   ]
  },
  {
   "cell_type": "code",
   "execution_count": 24,
   "metadata": {
    "collapsed": false
   },
   "outputs": [
    {
     "data": {
      "text/plain": [
       "198632"
      ]
     },
     "execution_count": 24,
     "metadata": {},
     "output_type": "execute_result"
    }
   ],
   "source": [
    "df = df[df.Language == 'English']\n",
    "len(df)"
   ]
  },
  {
   "cell_type": "code",
   "execution_count": 26,
   "metadata": {
    "collapsed": false
   },
   "outputs": [],
   "source": [
    "# df = df[df.Language.str.contains('English').fillna(False)]"
   ]
  },
  {
   "cell_type": "code",
   "execution_count": 33,
   "metadata": {
    "collapsed": false
   },
   "outputs": [],
   "source": [
    "df.to_csv('../../data/sherlock_current_wtext.csv', index = False)"
   ]
  },
  {
   "cell_type": "markdown",
   "metadata": {},
   "source": [
    "Number of distinct works."
   ]
  },
  {
   "cell_type": "code",
   "execution_count": 32,
   "metadata": {
    "collapsed": false
   },
   "outputs": [
    {
     "data": {
      "text/plain": [
       "72331"
      ]
     },
     "execution_count": 32,
     "metadata": {},
     "output_type": "execute_result"
    }
   ],
   "source": [
    "df_dis = df[(df.ChapterIndex.isnull()) | (df.ChapterIndex == '1')]\n",
    "len(df_dis)"
   ]
  }
 ],
 "metadata": {
  "kernelspec": {
   "display_name": "Python 2",
   "language": "python",
   "name": "python2"
  },
  "language_info": {
   "codemirror_mode": {
    "name": "ipython",
    "version": 2
   },
   "file_extension": ".py",
   "mimetype": "text/x-python",
   "name": "python",
   "nbconvert_exporter": "python",
   "pygments_lexer": "ipython2",
   "version": "2.7.11"
  }
 },
 "nbformat": 4,
 "nbformat_minor": 0
}
