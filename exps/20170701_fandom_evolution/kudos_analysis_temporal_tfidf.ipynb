{
 "cells": [
  {
   "cell_type": "code",
   "execution_count": 9,
   "metadata": {},
   "outputs": [],
   "source": [
    "import pandas as pd\n",
    "import os\n",
    "import matplotlib.pyplot as plt\n",
    "%matplotlib inline\n",
    "import numpy as np\n",
    "import random\n",
    "from scipy import stats, spatial"
   ]
  },
  {
   "cell_type": "code",
   "execution_count": 10,
   "metadata": {},
   "outputs": [],
   "source": [
    "tfidf_path = '../../data/tfidf_toprev_conlen_full_v2/'"
   ]
  },
  {
   "cell_type": "code",
   "execution_count": 11,
   "metadata": {},
   "outputs": [],
   "source": [
    "lda_path = '../../data/lda_jsd_toprev_conlen/'"
   ]
  },
  {
   "cell_type": "code",
   "execution_count": 12,
   "metadata": {},
   "outputs": [],
   "source": [
    "fandom_list = [i for i in os.listdir(tfidf_path) if 'tsv' in i]"
   ]
  },
  {
   "cell_type": "code",
   "execution_count": 13,
   "metadata": {},
   "outputs": [],
   "source": [
    "def bootstrap_resample(li):\n",
    "    if len(li) > 0:\n",
    "        ave_original = np.average(li)\n",
    "        aves = []\n",
    "        for i in range(1000):\n",
    "            sample = []\n",
    "            for i in range(len(li)):\n",
    "                sample.append(random.choice(li))\n",
    "            aves.append(np.average(sample))\n",
    "        tail = sorted(aves)[24]\n",
    "        head = sorted(aves)[975]\n",
    "        return (ave_original, tail, head)"
   ]
  },
  {
   "cell_type": "markdown",
   "metadata": {
    "collapsed": true
   },
   "source": [
    "## Aggregate"
   ]
  },
  {
   "cell_type": "code",
   "execution_count": 14,
   "metadata": {},
   "outputs": [],
   "source": [
    "def create_normed_dfs(df, field):\n",
    "\n",
    "#     Normalize by log scale\n",
    "    df = df.replace([np.inf, -np.inf], np.nan)\n",
    "    df[field].fillna(0, inplace=True)\n",
    "\n",
    "#     # turn into z scores\n",
    "    if field == 'Comments':\n",
    "        df[field] = np.log(df[field]+1)\n",
    "        df = df.replace([np.inf, -np.inf], np.nan)\n",
    "        df[field].dropna()\n",
    "        df[field] = (df[field] - df[field].mean())/df[field].std(ddof=0)\n",
    "    \n",
    "    else:\n",
    "        df[field] = df[field]/df['Chapters']\n",
    "        df[field] = np.log(df[field]+0.001)\n",
    "        df = df.replace([np.inf, -np.inf], np.nan)\n",
    "        df[['Chapters',field ]].dropna()\n",
    "        df[field] = (df[field] - df[field].mean())/df[field].std(ddof=0)\n",
    "\n",
    "    return df"
   ]
  },
  {
   "cell_type": "code",
   "execution_count": 15,
   "metadata": {},
   "outputs": [],
   "source": [
    "def create_dict(df, nov_field, suc_field, binsize):\n",
    "    \n",
    "    # Make bins\n",
    "    df[nov_field] = df[nov_field].astype(float)\n",
    "    vmin = min(df[nov_field].tolist())\n",
    "    vmax = max(df[nov_field].tolist())\n",
    "    dic = {}\n",
    "    for i in np.arange(vmin, vmax, binsize):\n",
    "        df_s = df[(df[nov_field] >= i) & (df[nov_field] < i+binsize)]\n",
    "        li = df_s[suc_field].tolist()\n",
    "        if len(li) > 0:\n",
    "            dic[i] = bootstrap_resample(li)\n",
    "    return dic"
   ]
  },
  {
   "cell_type": "code",
   "execution_count": 16,
   "metadata": {},
   "outputs": [],
   "source": [
    "def generate_res(path, nov_field, suc_field, binsize):\n",
    "    df_all = []\n",
    "    fandom_list = [i for i in os.listdir(path) if 'tsv' in i]\n",
    "    for i,fandom in enumerate(fandom_list):\n",
    "        df = pd.read_csv(os.path.join(path,fandom), sep = '\\t')\n",
    "        df = create_normed_dfs(df, suc_field)\n",
    "        df = df.replace([np.inf, -np.inf], np.nan)\n",
    "        df = df[[nov_field, suc_field]].dropna()\n",
    "        df_all.append(df)\n",
    "\n",
    "    df = pd.concat(df_all)\n",
    "    df = df.sort_values(by = nov_field)[:-5]\n",
    "    df = df.sort_values(by = suc_field)[:-5]\n",
    "    dic = create_dict(df, nov_field, suc_field, binsize)\n",
    "\n",
    "    return dic\n",
    "    "
   ]
  },
  {
   "cell_type": "code",
   "execution_count": 17,
   "metadata": {},
   "outputs": [],
   "source": [
    "lda_kudos_dict = generate_res(lda_path, 'JSD','Kudos', 0.05)\n",
    "lda_hits_dict = generate_res(lda_path, 'JSD','Hits',0.05)\n",
    "lda_comments_dict = generate_res(lda_path, 'JSD','Comments',0.05)\n",
    "lda_bookmarks_dict = generate_res(lda_path, 'JSD','Bookmarks',0.05)"
   ]
  },
  {
   "cell_type": "code",
   "execution_count": 18,
   "metadata": {},
   "outputs": [],
   "source": [
    "import pickle"
   ]
  },
  {
   "cell_type": "code",
   "execution_count": 19,
   "metadata": {},
   "outputs": [],
   "source": [
    "pickle.dump(lda_kudos_dict, open('lda_kudos_dict.p', 'wb'))\n",
    "pickle.dump(lda_hits_dict, open('lda_hits_dict.p', 'wb'))\n",
    "pickle.dump(lda_comments_dict, open('lda_comments_dict.p', 'wb'))\n",
    "pickle.dump(lda_bookmarks_dict, open('lda_bookmarks_dict.p', 'wb'))"
   ]
  },
  {
   "cell_type": "code",
   "execution_count": 20,
   "metadata": {},
   "outputs": [],
   "source": [
    "tfidf_kudos_dict = generate_res(tfidf_path, 'Cos', 'Kudos', 0.1)\n",
    "tfidf_hits_dict = generate_res(tfidf_path, 'Cos', 'Hits', 0.1)\n",
    "tfidf_comments_dict = generate_res(tfidf_path, 'Cos', 'Comments', 0.1)\n",
    "tfidf_bookmarks_dict = generate_res(tfidf_path, 'Cos', 'Bookmarks', 0.1)"
   ]
  },
  {
   "cell_type": "code",
   "execution_count": 21,
   "metadata": {},
   "outputs": [],
   "source": [
    "pickle.dump(tfidf_kudos_dict, open('tfidf_kudos_dict.p', 'wb'))\n",
    "pickle.dump(tfidf_hits_dict, open('tfidf_hits_dict.p', 'wb'))\n",
    "pickle.dump(tfidf_comments_dict, open('tfidf_comments_dict.p', 'wb'))\n",
    "pickle.dump(tfidf_bookmarks_dict, open('tfidf_bookmarks_dict.p', 'wb'))"
   ]
  },
  {
   "cell_type": "code",
   "execution_count": 22,
   "metadata": {},
   "outputs": [],
   "source": [
    "# lda_kudos_dict = pickle.load(open('lda_kudos_dict.p', 'rb'))\n",
    "# lda_hits_dict = pickle.load(open('lda_hits_dict.p', 'rb'))\n",
    "# lda_comments_dict = pickle.load(open('lda_comments_dict.p', 'rb'))\n",
    "# lda_bookmarks_dict = pickle.load(open('lda_bookmarks_dict.p', 'rb'))"
   ]
  },
  {
   "cell_type": "code",
   "execution_count": 23,
   "metadata": {},
   "outputs": [],
   "source": [
    "# tfidf_kudos_dict = pickle.load(open('tfidf_kudos_dict.p', 'rb'))\n",
    "# tfidf_hits_dict = pickle.load(open('tfidf_hits_dict.p', 'rb'))\n",
    "# tfidf_comments_dict = pickle.load(open('tfidf_comments_dict.p', 'rb'))\n",
    "# tfidf_bookmarks_dict = pickle.load(open('tfidf_bookmarks_dict.p', 'rb'))"
   ]
  },
  {
   "cell_type": "code",
   "execution_count": 24,
   "metadata": {},
   "outputs": [],
   "source": [
    "from matplotlib import rc\n",
    "rc('font',**{'family':'sans-serif','sans-serif':['Helvetica']})\n",
    "## for Palatino and other serif fonts use:\n",
    "#rc('font',**{'family':'serif','serif':['Palatino']})\n",
    "rc('text', usetex=True)"
   ]
  },
  {
   "cell_type": "code",
   "execution_count": 43,
   "metadata": {},
   "outputs": [
    {
     "data": {
      "image/png": "[encoded data removed]",
      "text/plain": [
       "<matplotlib.figure.Figure at 0x1a22aab3c8>"
      ]
     },
     "metadata": {},
     "output_type": "display_data"
    }
   ],
   "source": [
    "fig = plt.figure(figsize=(6,8))\n",
    "\n",
    "\n",
    "plt.subplot(2, 1, 1)\n",
    "\n",
    "tfidf_kudos_x = sorted(tfidf_kudos_dict.keys())\n",
    "tfidf_kudos_y = [tfidf_kudos_dict[j][0] for j in tfidf_kudos_x]\n",
    "lower_error = [tfidf_kudos_dict[j][0] - tfidf_kudos_dict[j][1] for j in tfidf_kudos_x]\n",
    "upper_error = [tfidf_kudos_dict[j][2] - tfidf_kudos_dict[j][0] for j in tfidf_kudos_x]\n",
    "asymmetric_error = [lower_error, upper_error]\n",
    "plt.errorbar(tfidf_kudos_x, tfidf_kudos_y, yerr=asymmetric_error)\n",
    "plt.scatter(tfidf_kudos_x, tfidf_kudos_y, label = 'Kudos',facecolor='none',edgecolor='blue')\n",
    "\n",
    "tfidf_hits_x = sorted(tfidf_hits_dict.keys())\n",
    "tfidf_hits_y = [tfidf_hits_dict[j][0] for j in tfidf_hits_x]\n",
    "lower_error = [tfidf_hits_dict[j][0] - tfidf_hits_dict[j][1] for j in tfidf_hits_x]\n",
    "upper_error = [tfidf_hits_dict[j][2] - tfidf_hits_dict[j][0] for j in tfidf_hits_x]\n",
    "asymmetric_error = [lower_error, upper_error]\n",
    "plt.errorbar(tfidf_hits_x, tfidf_hits_y, yerr=asymmetric_error)\n",
    "plt.scatter(tfidf_hits_x, tfidf_hits_y,marker='s', label = 'Hits',facecolor='none',edgecolor='orange')\n",
    "\n",
    "tfidf_comments_x = sorted(tfidf_comments_dict.keys())\n",
    "tfidf_comments_y = [tfidf_comments_dict[j][0] for j in tfidf_comments_x]\n",
    "lower_error = [tfidf_comments_dict[j][0] - tfidf_comments_dict[j][1] for j in tfidf_comments_x]\n",
    "upper_error = [tfidf_comments_dict[j][2] - tfidf_comments_dict[j][0] for j in tfidf_comments_x]\n",
    "asymmetric_error = [lower_error, upper_error]\n",
    "plt.errorbar(tfidf_comments_x, tfidf_comments_y, yerr=asymmetric_error,c='purple')\n",
    "plt.scatter(tfidf_comments_x, tfidf_comments_y, marker='D', label = 'Comments',facecolor='none',edgecolor='purple')\n",
    "\n",
    "tfidf_bookmarks_x = sorted(tfidf_bookmarks_dict.keys())\n",
    "tfidf_boomkarks_y = [tfidf_bookmarks_dict[j][0] for j in tfidf_bookmarks_x]\n",
    "lower_error = [tfidf_bookmarks_dict[j][0] - tfidf_bookmarks_dict[j][1] for j in tfidf_bookmarks_x]\n",
    "upper_error = [tfidf_bookmarks_dict[j][2] - tfidf_bookmarks_dict[j][0] for j in tfidf_bookmarks_x]\n",
    "asymmetric_error = [lower_error, upper_error]\n",
    "plt.errorbar(tfidf_bookmarks_x, tfidf_boomkarks_y, yerr=asymmetric_error)\n",
    "plt.scatter(tfidf_bookmarks_x, tfidf_boomkarks_y, marker = '<', label = 'Bookmarks',facecolor='none',edgecolor='green')\n",
    "\"\"\n",
    "plt.legend()\n",
    "plt.xlabel('$\\it{s}^{(term)}$, term novelty',fontsize=15)\n",
    "# plt.ylabel('Success ($\\it{z}$-score)',fontsize=15)\n",
    "plt.tick_params(labelsize=13)\n",
    "\n",
    "fig.text(0.03, 0.5, 'Success ($\\it{z}$-score)', ha='center', va='center', rotation='vertical', fontsize=15)\n",
    "\n",
    "plt.subplot(2, 1, 2)\n",
    "\n",
    "# for dic in [lda_kudos_dict, lda_hits_dict, lda_comments_dict, lda_bookmarks_dict]:\n",
    "\n",
    "lda_kudos_x = sorted(lda_kudos_dict.keys())\n",
    "lda_kudos_y = [lda_kudos_dict[j][0] for j in lda_kudos_x]\n",
    "lower_error = [lda_kudos_dict[j][0] - lda_kudos_dict[j][1] for j in lda_kudos_x]\n",
    "upper_error = [lda_kudos_dict[j][2] - lda_kudos_dict[j][0] for j in lda_kudos_x]\n",
    "asymmetric_error = [lower_error, upper_error]\n",
    "plt.errorbar(lda_kudos_x, lda_kudos_y, yerr=asymmetric_error)\n",
    "plt.scatter(lda_kudos_x, lda_kudos_y,label = 'Kudos',facecolor='none',edgecolor='blue')\n",
    "\n",
    "lda_hits_x = sorted(lda_hits_dict.keys())\n",
    "lda_hits_y = [lda_hits_dict[j][0] for j in lda_hits_x]\n",
    "lower_error = [lda_hits_dict[j][0] - lda_hits_dict[j][1] for j in lda_hits_x]\n",
    "upper_error = [lda_hits_dict[j][2] - lda_hits_dict[j][0] for j in lda_hits_x]\n",
    "asymmetric_error = [lower_error, upper_error]\n",
    "plt.errorbar(lda_hits_x, lda_hits_y, yerr=asymmetric_error)\n",
    "plt.scatter(lda_hits_x, lda_hits_y,marker='s', label = 'Hits',facecolor='none',edgecolor='orange')\n",
    "\n",
    "lda_comments_x = sorted(lda_comments_dict.keys())\n",
    "lda_comments_y = [lda_comments_dict[j][0] for j in lda_comments_x]\n",
    "lower_error = [lda_comments_dict[j][0] - lda_comments_dict[j][1] for j in lda_comments_x]\n",
    "upper_error = [lda_comments_dict[j][2] - lda_comments_dict[j][0] for j in lda_comments_x]\n",
    "asymmetric_error = [lower_error, upper_error]\n",
    "plt.errorbar(lda_comments_x, lda_comments_y, yerr=asymmetric_error, c='purple')\n",
    "plt.scatter(lda_comments_x, lda_comments_y, marker='D', label = 'Comments',facecolor='none',edgecolor='purple')\n",
    "\n",
    "lda_bookmarks_x = sorted(lda_bookmarks_dict.keys())\n",
    "lda_bookmarks_y = [lda_bookmarks_dict[j][0] for j in lda_bookmarks_x]\n",
    "lower_error = [lda_bookmarks_dict[j][0] - lda_bookmarks_dict[j][1] for j in lda_bookmarks_x]\n",
    "upper_error = [lda_bookmarks_dict[j][2] - lda_bookmarks_dict[j][0] for j in lda_bookmarks_x]\n",
    "asymmetric_error = [lower_error, upper_error]\n",
    "plt.errorbar(lda_bookmarks_x, lda_bookmarks_y, yerr=asymmetric_error )\n",
    "plt.scatter(lda_bookmarks_x, lda_bookmarks_y, marker = '<', label = 'Bookmarks',facecolor='none',edgecolor='green')\n",
    "plt.tick_params(labelsize=13)\n",
    "\n",
    "plt.legend()\n",
    "plt.xlabel('$\\it{s}^{(topic)}$, topic novelty', fontsize = 15)\n",
    "plt.tight_layout()\n",
    "plt.savefig('scatter_all_log.pdf', type='pdf')\n"
   ]
  },
  {
   "cell_type": "code",
   "execution_count": null,
   "metadata": {},
   "outputs": [],
   "source": []
  }
 ],
 "metadata": {
  "anaconda-cloud": {},
  "kernelspec": {
   "display_name": "Python 3",
   "language": "python",
   "name": "python3"
  },
  "language_info": {
   "codemirror_mode": {
    "name": "ipython",
    "version": 3
   },
   "file_extension": ".py",
   "mimetype": "text/x-python",
   "name": "python",
   "nbconvert_exporter": "python",
   "pygments_lexer": "ipython3",
   "version": "3.6.4"
  }
 },
 "nbformat": 4,
 "nbformat_minor": 1
}
