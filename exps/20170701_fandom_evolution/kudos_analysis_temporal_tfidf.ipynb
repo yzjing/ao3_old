{
 "cells": [
  {
   "cell_type": "code",
   "execution_count": 51,
   "metadata": {},
   "outputs": [],
   "source": [
    "import pandas as pd\n",
    "import os\n",
    "import matplotlib.pyplot as plt\n",
    "%matplotlib inline\n",
    "import numpy as np\n",
    "import random\n",
    "from scipy import stats, spatial"
   ]
  },
  {
   "cell_type": "code",
   "execution_count": 79,
   "metadata": {},
   "outputs": [],
   "source": [
    "tfidf_path = '../../data/tfidf_toprev_conlen_fulldata/'"
   ]
  },
  {
   "cell_type": "code",
   "execution_count": 80,
   "metadata": {},
   "outputs": [],
   "source": [
    "lda_path = '../../data/lda_jsd_toprev_conlen/'"
   ]
  },
  {
   "cell_type": "code",
   "execution_count": 81,
   "metadata": {},
   "outputs": [],
   "source": [
    "fandom_list = [i for i in os.listdir(tfidf_path) if 'tsv' in i]"
   ]
  },
  {
   "cell_type": "code",
   "execution_count": 82,
   "metadata": {},
   "outputs": [],
   "source": [
    "def bootstrap_resample(li):\n",
    "    if len(li) > 0:\n",
    "        ave_original = np.average(li)\n",
    "        aves = []\n",
    "        for i in range(1000):\n",
    "            sample = []\n",
    "            for i in range(len(li)):\n",
    "                sample.append(random.choice(li))\n",
    "            aves.append(np.average(sample))\n",
    "        tail = sorted(aves)[24]\n",
    "        head = sorted(aves)[975]\n",
    "        return (ave_original, tail, head)"
   ]
  },
  {
   "cell_type": "markdown",
   "metadata": {
    "collapsed": true
   },
   "source": [
    "## Aggregate"
   ]
  },
  {
   "cell_type": "code",
   "execution_count": 83,
   "metadata": {},
   "outputs": [],
   "source": [
    "def create_normed_dfs(df, field):\n",
    "\n",
    "#     Normalize by log scale\n",
    "    df = df.replace([np.inf, -np.inf], np.nan)\n",
    "    df[field].fillna(0, inplace=True)\n",
    "\n",
    "#     # turn into z scores\n",
    "    if field == 'Comments':\n",
    "        df[field] = np.log(df[field]+1)\n",
    "        df = df.replace([np.inf, -np.inf], np.nan)\n",
    "        df[field].dropna()\n",
    "        df[field] = (df[field] - df[field].mean())/df[field].std(ddof=0)\n",
    "    \n",
    "    else:\n",
    "        df[field] = df[field]/df['Chapters']\n",
    "        df[field] = np.log(df[field]+0.001)\n",
    "        df = df.replace([np.inf, -np.inf], np.nan)\n",
    "        df[['Chapters',field ]].dropna()\n",
    "        df[field] = (df[field] - df[field].mean())/df[field].std(ddof=0)\n",
    "\n",
    "    return df"
   ]
  },
  {
   "cell_type": "code",
   "execution_count": 84,
   "metadata": {},
   "outputs": [],
   "source": [
    "def create_dict(df, nov_field, suc_field, binsize):\n",
    "    \n",
    "    # Make bins\n",
    "    df[nov_field] = df[nov_field].astype(float)\n",
    "    vmin = min(df[nov_field].tolist())\n",
    "    vmax = max(df[nov_field].tolist())\n",
    "    dic = {}\n",
    "    for i in np.arange(vmin, vmax, binsize):\n",
    "        df_s = df[(df[nov_field] >= i) & (df[nov_field] < i+binsize)]\n",
    "        li = df_s[suc_field].tolist()\n",
    "        if len(li) > 0:\n",
    "            dic[i] = bootstrap_resample(li)\n",
    "    return dic"
   ]
  },
  {
   "cell_type": "code",
   "execution_count": 85,
   "metadata": {},
   "outputs": [],
   "source": [
    "def generate_res(path, nov_field, suc_field, binsize):\n",
    "    df_all = []\n",
    "    fandom_list = [i for i in os.listdir(path) if 'tsv' in i]\n",
    "    for i,fandom in enumerate(fandom_list):\n",
    "        df = pd.read_csv(os.path.join(path,fandom), sep = '\\t')\n",
    "        df = create_normed_dfs(df, suc_field)\n",
    "        df = df.replace([np.inf, -np.inf], np.nan)\n",
    "        df = df[[nov_field, suc_field]].dropna()\n",
    "        df_all.append(df)\n",
    "\n",
    "    df = pd.concat(df_all)\n",
    "    df = df.sort_values(by = nov_field)[:-5]\n",
    "    df = df.sort_values(by = suc_field)[:-5]\n",
    "    dic = create_dict(df, nov_field, suc_field, binsize)\n",
    "\n",
    "    return dic\n",
    "    "
   ]
  },
  {
   "cell_type": "code",
   "execution_count": 86,
   "metadata": {},
   "outputs": [],
   "source": [
    "lda_kudos_dict = generate_res(lda_path, 'JSD','Kudos', 0.05)\n",
    "lda_hits_dict = generate_res(lda_path, 'JSD','Hits',0.05)\n",
    "lda_comments_dict = generate_res(lda_path, 'JSD','Comments',0.05)\n",
    "lda_bookmarks_dict = generate_res(lda_path, 'JSD','Bookmarks',0.05)"
   ]
  },
  {
   "cell_type": "code",
   "execution_count": 96,
   "metadata": {},
   "outputs": [
    {
     "data": {
      "text/plain": [
       "{0.3082585991310225: (0.19148165939468406,\n",
       "  -0.13049535942096457,\n",
       "  0.49216332888420633),\n",
       " 0.3582585991310225: (0.30645710750973104,\n",
       "  0.23933995258639681,\n",
       "  0.37416645452925196),\n",
       " 0.40825859913102247: (0.2523688854155188,\n",
       "  0.23071840023750645,\n",
       "  0.2764660626775441),\n",
       " 0.45825859913102246: (0.22274734155868195,\n",
       "  0.2134862384242592,\n",
       "  0.232094810825158),\n",
       " 0.5082585991310224: (0.13392227493927858,\n",
       "  0.12857560160528347,\n",
       "  0.13950418404105153),\n",
       " 0.5582585991310225: (0.017003257990690794,\n",
       "  0.013038671738383977,\n",
       "  0.021406166269294914),\n",
       " 0.6082585991310224: (-0.07701066263205594,\n",
       "  -0.08080047260814537,\n",
       "  -0.07336431600820574),\n",
       " 0.6582585991310224: (-0.10555196635253994,\n",
       "  -0.11703694634110087,\n",
       "  -0.09468821238269985)}"
      ]
     },
     "execution_count": 96,
     "metadata": {},
     "output_type": "execute_result"
    }
   ],
   "source": [
    "lda_bookmarks_dict"
   ]
  },
  {
   "cell_type": "code",
   "execution_count": 87,
   "metadata": {},
   "outputs": [],
   "source": [
    "tfidf_kudos_dict = generate_res(tfidf_path, 'Cos', 'Kudos', 0.1)\n",
    "tfidf_hits_dict = generate_res(tfidf_path, 'Cos', 'Hits', 0.1)\n",
    "tfidf_comments_dict = generate_res(tfidf_path, 'Cos', 'Comments', 0.1)\n",
    "tfidf_bookmarks_dict = generate_res(tfidf_path, 'Cos', 'Bookmarks', 0.1)"
   ]
  },
  {
   "cell_type": "code",
   "execution_count": 88,
   "metadata": {},
   "outputs": [
    {
     "data": {
      "image/png": "[encoded data removed]",
      "text/plain": [
       "<matplotlib.figure.Figure at 0x1a3a65aa58>"
      ]
     },
     "metadata": {},
     "output_type": "display_data"
    }
   ],
   "source": [
    "plt.figure(figsize=(14,5))\n",
    "\n",
    "\n",
    "plt.subplot(1, 2, 1)\n",
    "\n",
    "tfidf_kudos_x = sorted(tfidf_kudos_dict.keys())\n",
    "tfidf_kudos_y = [tfidf_kudos_dict[j][0] for j in tfidf_kudos_x]\n",
    "lower_error = [tfidf_kudos_dict[j][0] - tfidf_kudos_dict[j][1] for j in tfidf_kudos_x]\n",
    "upper_error = [tfidf_kudos_dict[j][2] - tfidf_kudos_dict[j][0] for j in tfidf_kudos_x]\n",
    "asymmetric_error = [lower_error, upper_error]\n",
    "plt.errorbar(tfidf_kudos_x, tfidf_kudos_y, yerr=asymmetric_error)\n",
    "plt.scatter(tfidf_kudos_x, tfidf_kudos_y, label = 'Kudos')\n",
    "\n",
    "tfidf_hits_x = sorted(tfidf_hits_dict.keys())\n",
    "tfidf_hits_y = [tfidf_hits_dict[j][0] for j in tfidf_hits_x]\n",
    "lower_error = [tfidf_hits_dict[j][0] - tfidf_hits_dict[j][1] for j in tfidf_hits_x]\n",
    "upper_error = [tfidf_hits_dict[j][2] - tfidf_hits_dict[j][0] for j in tfidf_hits_x]\n",
    "asymmetric_error = [lower_error, upper_error]\n",
    "plt.errorbar(tfidf_hits_x, tfidf_hits_y, yerr=asymmetric_error)\n",
    "plt.scatter(tfidf_hits_x, tfidf_hits_y,marker='s', label = 'Hits')\n",
    "\n",
    "tfidf_comments_x = sorted(tfidf_comments_dict.keys())\n",
    "tfidf_comments_y = [tfidf_comments_dict[j][0] for j in tfidf_comments_x]\n",
    "lower_error = [tfidf_comments_dict[j][0] - tfidf_comments_dict[j][1] for j in tfidf_comments_x]\n",
    "upper_error = [tfidf_comments_dict[j][2] - tfidf_comments_dict[j][0] for j in tfidf_comments_x]\n",
    "asymmetric_error = [lower_error, upper_error]\n",
    "plt.errorbar(tfidf_comments_x, tfidf_comments_y, yerr=asymmetric_error)\n",
    "plt.scatter(tfidf_comments_x, tfidf_comments_y, marker='D', label = 'Comments')\n",
    "\n",
    "tfidf_bookmarks_x = sorted(tfidf_bookmarks_dict.keys())\n",
    "tfidf_boomkarks_y = [tfidf_bookmarks_dict[j][0] for j in tfidf_bookmarks_x]\n",
    "lower_error = [tfidf_bookmarks_dict[j][0] - tfidf_bookmarks_dict[j][1] for j in tfidf_bookmarks_x]\n",
    "upper_error = [tfidf_bookmarks_dict[j][2] - tfidf_bookmarks_dict[j][0] for j in tfidf_bookmarks_x]\n",
    "asymmetric_error = [lower_error, upper_error]\n",
    "plt.errorbar(tfidf_bookmarks_x, tfidf_boomkarks_y, yerr=asymmetric_error)\n",
    "plt.scatter(tfidf_bookmarks_x, tfidf_boomkarks_y, marker = '<', label = 'Bookmarks')\n",
    "\"\"\n",
    "plt.legend()\n",
    "plt.xlabel('s (term)',fontsize=15)\n",
    "plt.ylabel('Success (z-score)',fontsize=15)\n",
    "plt.tick_params(labelsize=13)\n",
    "\n",
    "\n",
    "plt.subplot(1, 2, 2)\n",
    "\n",
    "# for dic in [lda_kudos_dict, lda_hits_dict, lda_comments_dict, lda_bookmarks_dict]:\n",
    "\n",
    "lda_kudos_x = sorted(lda_kudos_dict.keys())\n",
    "lda_kudos_y = [lda_kudos_dict[j][0] for j in lda_kudos_x]\n",
    "lower_error = [lda_kudos_dict[j][0] - lda_kudos_dict[j][1] for j in lda_kudos_x]\n",
    "upper_error = [lda_kudos_dict[j][2] - lda_kudos_dict[j][0] for j in lda_kudos_x]\n",
    "asymmetric_error = [lower_error, upper_error]\n",
    "plt.errorbar(lda_kudos_x, lda_kudos_y, yerr=asymmetric_error)\n",
    "plt.scatter(lda_kudos_x, lda_kudos_y,label = 'Kudos')\n",
    "\n",
    "lda_hits_x = sorted(lda_hits_dict.keys())\n",
    "lda_hits_y = [lda_hits_dict[j][0] for j in lda_hits_x]\n",
    "lower_error = [lda_hits_dict[j][0] - lda_hits_dict[j][1] for j in lda_hits_x]\n",
    "upper_error = [lda_hits_dict[j][2] - lda_hits_dict[j][0] for j in lda_hits_x]\n",
    "asymmetric_error = [lower_error, upper_error]\n",
    "plt.errorbar(lda_hits_x, lda_hits_y, yerr=asymmetric_error)\n",
    "plt.scatter(lda_hits_x, lda_hits_y,marker='s', label = 'Hits')\n",
    "\n",
    "lda_comments_x = sorted(lda_comments_dict.keys())\n",
    "lda_comments_y = [lda_comments_dict[j][0] for j in lda_comments_x]\n",
    "lower_error = [lda_comments_dict[j][0] - lda_comments_dict[j][1] for j in lda_comments_x]\n",
    "upper_error = [lda_comments_dict[j][2] - lda_comments_dict[j][0] for j in lda_comments_x]\n",
    "asymmetric_error = [lower_error, upper_error]\n",
    "plt.errorbar(lda_comments_x, lda_comments_y, yerr=asymmetric_error)\n",
    "plt.scatter(lda_comments_x, lda_comments_y, marker='D', label = 'Comments')\n",
    "\n",
    "lda_bookmarks_x = sorted(lda_bookmarks_dict.keys())\n",
    "lda_bookmarks_y = [lda_bookmarks_dict[j][0] for j in lda_bookmarks_x]\n",
    "lower_error = [lda_bookmarks_dict[j][0] - lda_bookmarks_dict[j][1] for j in lda_bookmarks_x]\n",
    "upper_error = [lda_bookmarks_dict[j][2] - lda_bookmarks_dict[j][0] for j in lda_bookmarks_x]\n",
    "asymmetric_error = [lower_error, upper_error]\n",
    "plt.errorbar(lda_bookmarks_x, lda_bookmarks_y, yerr=asymmetric_error )\n",
    "plt.scatter(lda_bookmarks_x, lda_bookmarks_y, marker = '<', label = 'Bookmarks')\n",
    "plt.tick_params(labelsize=13)\n",
    "\n",
    "plt.legend()\n",
    "plt.xlabel('s (topic)', fontsize = 15)\n",
    "plt.ylabel('Success (z-score)', fontsize = 15)\n",
    "plt.savefig('scatter_all_log.pdf', type='pdf')\n"
   ]
  },
  {
   "cell_type": "code",
   "execution_count": 33,
   "metadata": {},
   "outputs": [],
   "source": [
    "df_all = []\n",
    "fandom_list = [i for i in os.listdir(tfidf_path) if 'tsv' in i]\n",
    "for i,fandom in enumerate(fandom_list):\n",
    "    df = pd.read_csv(os.path.join(tfidf_path,fandom), sep = '\\t')\n",
    "    df_all.append(df)\n",
    "    \n",
    "df_all = pd.concat(df_all)"
   ]
  },
  {
   "cell_type": "code",
   "execution_count": 34,
   "metadata": {},
   "outputs": [
    {
     "data": {
      "text/plain": [
       "(array([7.00646e+05, 6.08000e+02, 3.00000e+01, 3.00000e+00, 0.00000e+00,\n",
       "        0.00000e+00, 0.00000e+00, 0.00000e+00, 0.00000e+00, 1.00000e+00]),\n",
       " array([    0. ,  3750.5,  7501. , 11251.5, 15002. , 18752.5, 22503. ,\n",
       "        26253.5, 30004. , 33754.5, 37505. ]),\n",
       " <a list of 10 Patch objects>)"
      ]
     },
     "execution_count": 34,
     "metadata": {},
     "output_type": "execute_result"
    },
    {
     "data": {
      "image/png": "[encoded data removed]",
      "text/plain": [
       "<matplotlib.figure.Figure at 0x1a2962b588>"
      ]
     },
     "metadata": {},
     "output_type": "display_data"
    }
   ],
   "source": [
    "df_all = df_all.replace([np.inf, -np.inf], np.nan)\n",
    "\n",
    "df_all = df_all.fillna(0)\n",
    "\n",
    "plt.hist(df_all['Kudos'])"
   ]
  },
  {
   "cell_type": "code",
   "execution_count": 36,
   "metadata": {},
   "outputs": [
    {
     "data": {
      "text/plain": [
       "(array([1.20730e+04, 0.00000e+00, 0.00000e+00, 1.26760e+04, 6.47600e+04,\n",
       "        2.33494e+05, 2.75629e+05, 9.29550e+04, 9.66200e+03, 3.90000e+01]),\n",
       " array([-6.90775528, -5.16375679, -3.41975831, -1.67575983,  0.06823866,\n",
       "         1.81223714,  3.55623563,  5.30023411,  7.04423259,  8.78823108,\n",
       "        10.53222956]),\n",
       " <a list of 10 Patch objects>)"
      ]
     },
     "execution_count": 36,
     "metadata": {},
     "output_type": "execute_result"
    },
    {
     "data": {
      "image/png": "[encoded data removed]",
      "text/plain": [
       "<matplotlib.figure.Figure at 0x1a2da39208>"
      ]
     },
     "metadata": {},
     "output_type": "display_data"
    }
   ],
   "source": [
    "plt.hist(np.log(df_all['Kudos'] + 0.001))"
   ]
  },
  {
   "cell_type": "code",
   "execution_count": 46,
   "metadata": {},
   "outputs": [],
   "source": [
    "a = np.asarray([0.1, 0.05, 0.7])\n",
    "b = np.asarray([0.3, 0.5, 0.6])\n",
    "c = np.asarray([0.2, 0.4, 0.8])"
   ]
  },
  {
   "cell_type": "code",
   "execution_count": 47,
   "metadata": {},
   "outputs": [],
   "source": [
    "x = np.asarray([0.25, 0.46, 0.79])"
   ]
  },
  {
   "cell_type": "code",
   "execution_count": 43,
   "metadata": {},
   "outputs": [
    {
     "data": {
      "text/plain": [
       "0.12599571242663177"
      ]
     },
     "execution_count": 43,
     "metadata": {},
     "output_type": "execute_result"
    }
   ],
   "source": [
    "np.average(spatial.distance.cosine(x, a) + spatial.distance.cosine(x, b) + spatial.distance.cosine(x, c))"
   ]
  },
  {
   "cell_type": "code",
   "execution_count": 50,
   "metadata": {},
   "outputs": [
    {
     "data": {
      "text/plain": [
       "0.004970459535721727"
      ]
     },
     "execution_count": 50,
     "metadata": {},
     "output_type": "execute_result"
    }
   ],
   "source": [
    "spatial.distance.cosine(np.mean([a, b, c], axis=0), x)"
   ]
  },
  {
   "cell_type": "code",
   "execution_count": null,
   "metadata": {},
   "outputs": [],
   "source": []
  }
 ],
 "metadata": {
  "anaconda-cloud": {},
  "kernelspec": {
   "display_name": "Python 3",
   "language": "python",
   "name": "python3"
  },
  "language_info": {
   "codemirror_mode": {
    "name": "ipython",
    "version": 3
   },
   "file_extension": ".py",
   "mimetype": "text/x-python",
   "name": "python",
   "nbconvert_exporter": "python",
   "pygments_lexer": "ipython3",
   "version": "3.6.4"
  }
 },
 "nbformat": 4,
 "nbformat_minor": 1
}
