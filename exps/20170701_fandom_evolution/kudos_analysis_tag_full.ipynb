{
 "cells": [
  {
   "cell_type": "code",
   "execution_count": 1,
   "metadata": {},
   "outputs": [],
   "source": [
    "import pandas as pd\n",
    "import os\n",
    "import matplotlib.pyplot as plt\n",
    "%matplotlib inline\n",
    "import numpy as np\n",
    "import random\n",
    "from scipy import stats"
   ]
  },
  {
   "cell_type": "code",
   "execution_count": 3,
   "metadata": {},
   "outputs": [],
   "source": [
    "data_path = '../../data/tag_novelty_full/'"
   ]
  },
  {
   "cell_type": "code",
   "execution_count": 4,
   "metadata": {},
   "outputs": [],
   "source": [
    "fandom_list = [i for i in os.listdir(data_path) if 'tsv' in i]"
   ]
  },
  {
   "cell_type": "code",
   "execution_count": 5,
   "metadata": {},
   "outputs": [],
   "source": [
    "def bootstrap_resample(li):\n",
    "    if len(li) > 0:\n",
    "        ave_original = np.average(li)\n",
    "        aves = []\n",
    "        for i in range(1000):\n",
    "            sample = []\n",
    "            for i in range(len(li)):\n",
    "                sample.append(random.choice(li))\n",
    "            aves.append(np.average(sample))\n",
    "        tail = sorted(aves)[24]\n",
    "        head = sorted(aves)[975]\n",
    "        return (ave_original, tail, head)"
   ]
  },
  {
   "cell_type": "markdown",
   "metadata": {
    "collapsed": true
   },
   "source": [
    "## Aggregate"
   ]
  },
  {
   "cell_type": "code",
   "execution_count": 14,
   "metadata": {},
   "outputs": [],
   "source": [
    "def create_normed_dfs(df):\n",
    "    \n",
    "    # Normalize effects of authors by turning kudos into z-score corresponding to works from this author\n",
    "    # Seems not useful b/c many authors only have 1 work\n",
    "#     author_list = df.Author.drop_duplicates().tolist()\n",
    "#     combined = []\n",
    "#     for author in author_list:\n",
    "#         df_a = df[df.Author == author]\n",
    "#         if len(df_a) > 1:\n",
    "#             df_a['Kudos'] = (df_a['Kudos'] - df_a['Kudos'].mean())/df_a['Kudos'].std(ddof=0)\n",
    "#             combined.append(df_a)        \n",
    "#     df = pd.concat(combined)\n",
    "#     df = df[df.Kudos != 0]\n",
    "\n",
    "# #     Normalize by creating hits/kudos \n",
    "#     df = df[df.Hits != 0]\n",
    "#     df = df[df.Kudos != 0]\n",
    "#     df['Kudos/Hits'] = df['Kudos'].astype(float)/df['Hits'].astype(float)\n",
    "    \n",
    "#     Normalize by log scale\n",
    "#     df = df[df.Kudos != 0]\n",
    "#     df['Kudos'] = np.log(df['Kudos'])\n",
    "#     df = df[df.Hits != 0]\n",
    "#     df['Hits'] = np.log(df['Hits'])\n",
    "#     df['Kudos/Hits'] = df['Kudos'] - df['Hits']\n",
    "\n",
    "#     # filter 0s\n",
    "# #     df = df.fillna(0)\"\n",
    "\n",
    "#     # turn into z scores\n",
    "    df['Kudos'] = df['Kudos']/df['Chapters']\n",
    "    df = df.dropna(subset=['Kudos'])\n",
    "    df = df[np.isfinite(df['Kudos'])]\n",
    "    df['Kudos'] = (df['Kudos'] - df['Kudos'].mean())/df['Kudos'].std(ddof=0)\n",
    "    df['tag_novelty'] = df['tag_novelty'] * 10\n",
    "\n",
    "    return df"
   ]
  },
  {
   "cell_type": "code",
   "execution_count": 15,
   "metadata": {},
   "outputs": [],
   "source": [
    "def create_dict(df, field, binsize):\n",
    "    \n",
    "    # Make bins\n",
    "    df.tag_novelty = df.tag_novelty.astype(float)\n",
    "    min_tag = min(df.tag_novelty.tolist())\n",
    "    max_tag = max(df.tag_novelty.tolist())\n",
    "    dic = {}\n",
    "    for i in np.arange(min_tag, max_tag, binsize):\n",
    "        df_s = df[(df.tag_novelty >= i) & (df.tag_novelty < i+binsize)]\n",
    "#         if len(df_s) > 9:\n",
    "#             print (min_cos, max_cos)\n",
    "#             print(df_s[field].tolist())\n",
    "        li = df_s[field].tolist()\n",
    "        if len(li) > 0:\n",
    "            dic[i] = bootstrap_resample(li)\n",
    "    return dic"
   ]
  },
  {
   "cell_type": "code",
   "execution_count": 16,
   "metadata": {},
   "outputs": [],
   "source": [
    "def plot_agg(flist, title):\n",
    "    df_all = []\n",
    "    for i,fandom in enumerate(flist):\n",
    "        df = pd.read_csv(os.path.join(data_path,fandom), sep = '\\t')\n",
    "        df = create_normed_dfs(df)\n",
    "        df = df[['tag_novelty', 'Kudos']].dropna()\n",
    "        df_all.append(df)\n",
    "        print(fandom, '   ', len(df))\n",
    "    df = pd.concat(df_all)\n",
    "\n",
    "    dic = create_dict(df, 'Kudos', 0.1)\n",
    "    x = sorted(dic.keys())\n",
    "    y = [dic[j][0] for j in x]\n",
    "\n",
    "    #     Make error bars\n",
    "    lower_error = [dic[j][0]-dic[j][1] for j in x]\n",
    "    upper_error = [dic[j][2]-dic[j][0] for j in x]\n",
    "    asymmetric_error = [lower_error, upper_error]\n",
    "\n",
    "\n",
    "\n",
    "    plt.errorbar(x, y, yerr=asymmetric_error,fmt='o')\n",
    "    plt.scatter(x, y)\n",
    "    plt.xlabel('Novelty',fontsize=15)\n",
    "    plt.ylabel('Kudos (z-score)',fontsize=15)\n",
    "\n",
    "    plt.errorbar(x, y, yerr=asymmetric_error,fmt='o')\n",
    "    plt.scatter(x, y)\n",
    "    plt.title(title)\n",
    "    "
   ]
  },
  {
   "cell_type": "code",
   "execution_count": 17,
   "metadata": {},
   "outputs": [
    {
     "name": "stdout",
     "output_type": "stream",
     "text": [
      "tolkien_j_r_r_works_&_related_fandoms_tag_novelty_conlen_full.tsv     25278\n",
      "star_wars_all_media_types_tag_novelty_conlen_full.tsv     14873\n",
      "the_avengers_all_media_types_tag_novelty_conlen_full.tsv     63857\n",
      "kuroko_no_basuke_tag_novelty_conlen_full.tsv     6775\n",
      "doctor_who_&_related_fandoms_tag_novelty_conlen_full.tsv     31039\n",
      "hamilton_miranda_tag_novelty_conlen_full.tsv     1901\n",
      "dragon_age_all_media_types_tag_novelty_conlen_full.tsv     32855\n",
      "buffy_the_vampire_slayer_tag_novelty_conlen_full.tsv     11016\n",
      "shakespare_william_works_tag_novelty_conlen_full.tsv     612\n",
      "les_miserables_all_media_types_tag_novelty_conlen_full.tsv     8163\n",
      "sherlock_holmes_&_related_fandoms_tag_novelty_conlen_full.tsv     69841\n",
      "one_direction_tag_novelty_conlen_full.tsv     12779\n",
      "haikyuu_tag_novelty_conlen_full.tsv     11312\n",
      "ms_paint_adventures_tag_novelty_conlen_full.tsv     27917\n",
      "hetalia_axis_powers_tag_novelty_conlen_full.tsv     12311\n",
      "the_walking_dead_&_related_fandoms_tag_novelty_conlen_full.tsv     9808\n",
      "bishoujo_senshi_sailor_moon_tag_novelty_conlen_full.tsv     1401\n",
      "dcu_tag_novelty_conlen_full.tsv     32196\n",
      "harry_potter_tag_novelty_conlen_full.tsv     52247\n",
      "arthurian_mythology_&_related_fandoms_tag_novelty_conlen_full.tsv     13981\n",
      "naruto_tag_novelty_conlen_full.tsv     7722\n",
      "attack_on_titan_tag_novelty_conlen_full.tsv     19363\n",
      "supernatural_tag_novelty_conlen_full.tsv     83982\n",
      "marvel_tag_novelty_conlen_full.tsv     122394\n"
     ]
    },
    {
     "data": {
      "image/png": "[encoded data removed]",
      "text/plain": [
       "<matplotlib.figure.Figure at 0x1a24071da0>"
      ]
     },
     "metadata": {},
     "output_type": "display_data"
    }
   ],
   "source": [
    "plot_agg(fandom_list, 'full')"
   ]
  },
  {
   "cell_type": "code",
   "execution_count": null,
   "metadata": {},
   "outputs": [],
   "source": []
  }
 ],
 "metadata": {
  "anaconda-cloud": {},
  "kernelspec": {
   "display_name": "Python 3",
   "language": "python",
   "name": "python3"
  },
  "language_info": {
   "codemirror_mode": {
    "name": "ipython",
    "version": 3
   },
   "file_extension": ".py",
   "mimetype": "text/x-python",
   "name": "python",
   "nbconvert_exporter": "python",
   "pygments_lexer": "ipython3",
   "version": "3.6.4"
  }
 },
 "nbformat": 4,
 "nbformat_minor": 1
}
