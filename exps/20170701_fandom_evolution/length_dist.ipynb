{
 "cells": [
  {
   "cell_type": "code",
   "execution_count": 3,
   "metadata": {},
   "outputs": [],
   "source": [
    "import pandas as pd\n",
    "import os\n",
    "import matplotlib.pyplot as plt\n",
    "%matplotlib inline\n",
    "import numpy as np"
   ]
  },
  {
   "cell_type": "code",
   "execution_count": 4,
   "metadata": {},
   "outputs": [],
   "source": [
    "data_path = '../../data/metadata/'"
   ]
  },
  {
   "cell_type": "code",
   "execution_count": 5,
   "metadata": {},
   "outputs": [],
   "source": [
    "fandom_list = [i for i in os.listdir(data_path) if 'tsv' in i]"
   ]
  },
  {
   "cell_type": "code",
   "execution_count": 11,
   "metadata": {},
   "outputs": [
    {
     "data": {
      "text/plain": [
       "['the_walking_dead_&_related_fandoms_metadata.tsv',\n",
       " 'the_avengers_ambiguous_fandom_metadata.tsv',\n",
       " 'internet_personalities_metadata.tsv',\n",
       " 'dcu_metadata.tsv',\n",
       " 'harry_potter_metadata.tsv',\n",
       " 'naruto_metadata.tsv',\n",
       " 'attack_on_titan_metadata.tsv',\n",
       " 'dragon_age_video_games_metadata.tsv',\n",
       " 'marvel_movies_metadata.tsv',\n",
       " 'video_blogging_rpf_metadata.tsv',\n",
       " 'dragon_age_all_media_types_metadata.tsv',\n",
       " 'one_direction_metadata.tsv',\n",
       " 'star_wars_all_media_types_metadata.tsv',\n",
       " 'hamilton_miranda_metadata.tsv',\n",
       " 'marvel_cinematic_universe_metadata.tsv',\n",
       " 'ms_paint_adventures_metadata.tsv',\n",
       " 'original_work_metadata.tsv',\n",
       " 'tolkien_j_r_r_works_&_related_fandoms_metadata.tsv',\n",
       " 'les_miserables_all_media_types_metadata.tsv',\n",
       " 'haikyuu_metadata.tsv',\n",
       " 'arthurian_mythology_&_related_fandoms_metadata.tsv',\n",
       " 'doctor_who_metadata.tsv',\n",
       " 'les_miserables_schonberg_boublil_metadata.tsv',\n",
       " 'hetalia_axis_powers_metadata.tsv',\n",
       " 'sherlock(TV)_metadata.tsv',\n",
       " 'shakespare_william_works_metadata.tsv',\n",
       " 'bandom_metadata.tsv',\n",
       " 'bishoujo_senshi_sailor_moon_metadata.tsv',\n",
       " 'k_pop_metadata.tsv',\n",
       " 'homestuck_metadata.tsv',\n",
       " 'dragon_age_inquisition_metadata.tsv',\n",
       " 'buffy_the_vampire_slayer_metadata.tsv',\n",
       " 'actor_rpf_metadata.tsv',\n",
       " 'supernatural_metadata.tsv',\n",
       " 'the_avengers_all_media_types_metadata.tsv',\n",
       " 'rock_music_rpf_metadata.tsv',\n",
       " 'doctor_who_&_related_fandoms_metadata.tsv',\n",
       " 'marvel_metadata.tsv',\n",
       " 'sherlock_holmes_&_related_fandoms_metadata.tsv',\n",
       " 'real_person_fiction_metadata.tsv',\n",
       " 'kuroko_no_basuke_metadata.tsv',\n",
       " 'music_rpf_metadata.tsv']"
      ]
     },
     "execution_count": 11,
     "metadata": {},
     "output_type": "execute_result"
    }
   ],
   "source": [
    "fandom_list"
   ]
  },
  {
   "cell_type": "code",
   "execution_count": 7,
   "metadata": {},
   "outputs": [],
   "source": [
    "df = pd.read_csv(os.path.join(data_path, fandom_list[0]), sep = '\\t')"
   ]
  },
  {
   "cell_type": "code",
   "execution_count": 9,
   "metadata": {},
   "outputs": [
    {
     "data": {
      "text/html": [
       "<div>\n",
       "<style scoped>\n",
       "    .dataframe tbody tr th:only-of-type {\n",
       "        vertical-align: middle;\n",
       "    }\n",
       "\n",
       "    .dataframe tbody tr th {\n",
       "        vertical-align: top;\n",
       "    }\n",
       "\n",
       "    .dataframe thead th {\n",
       "        text-align: right;\n",
       "    }\n",
       "</style>\n",
       "<table border=\"1\" class=\"dataframe\">\n",
       "  <thead>\n",
       "    <tr style=\"text-align: right;\">\n",
       "      <th></th>\n",
       "      <th>AdditionalTags</th>\n",
       "      <th>ArchiveWarnings</th>\n",
       "      <th>Author</th>\n",
       "      <th>Bookmarks</th>\n",
       "      <th>Category</th>\n",
       "      <th>ChapterIndex</th>\n",
       "      <th>Chapters</th>\n",
       "      <th>Characters</th>\n",
       "      <th>Comments</th>\n",
       "      <th>CompleteDate</th>\n",
       "      <th>...</th>\n",
       "      <th>Language</th>\n",
       "      <th>Notes</th>\n",
       "      <th>PublishDate</th>\n",
       "      <th>Rating</th>\n",
       "      <th>Relationship</th>\n",
       "      <th>Summary</th>\n",
       "      <th>Title</th>\n",
       "      <th>URL</th>\n",
       "      <th>UpdateDate</th>\n",
       "      <th>Words</th>\n",
       "    </tr>\n",
       "  </thead>\n",
       "  <tbody>\n",
       "    <tr>\n",
       "      <th>0</th>\n",
       "      <td>NaN</td>\n",
       "      <td>Creator Chose Not To Use Archive Warnings</td>\n",
       "      <td>accioval</td>\n",
       "      <td>5</td>\n",
       "      <td>F/M</td>\n",
       "      <td>NaN</td>\n",
       "      <td>1</td>\n",
       "      <td>Michonne (Walking Dead), Rick Grimes, Sasha Wi...</td>\n",
       "      <td>4</td>\n",
       "      <td>2016-04-15</td>\n",
       "      <td>...</td>\n",
       "      <td>English</td>\n",
       "      <td>NaN</td>\n",
       "      <td>2016-04-15</td>\n",
       "      <td>Not Rated</td>\n",
       "      <td>Rick Grimes/Michonne</td>\n",
       "      <td>Set between \"No Way Out\" and \"The Next World\":...</td>\n",
       "      <td>Girl Talk</td>\n",
       "      <td>http://archiveofourown.org/works/6558088?view_...</td>\n",
       "      <td>NaN</td>\n",
       "      <td>737</td>\n",
       "    </tr>\n",
       "    <tr>\n",
       "      <th>1</th>\n",
       "      <td>Walkers (Walking Dead), Rough Sex, Daddy Kink,...</td>\n",
       "      <td>No Archive Warnings Apply</td>\n",
       "      <td>dragoncien</td>\n",
       "      <td>3</td>\n",
       "      <td>F/M</td>\n",
       "      <td>NaN</td>\n",
       "      <td>1</td>\n",
       "      <td>Negan, Saviors - Character</td>\n",
       "      <td>6</td>\n",
       "      <td>2016-03-25</td>\n",
       "      <td>...</td>\n",
       "      <td>English</td>\n",
       "      <td>NaN</td>\n",
       "      <td>2016-03-25</td>\n",
       "      <td>Mature</td>\n",
       "      <td>Negan (Walking Dead)/Other(s), Negan/ Original...</td>\n",
       "      <td>NaN</td>\n",
       "      <td>Troublemaker</td>\n",
       "      <td>http://archiveofourown.org/works/6352114?view_...</td>\n",
       "      <td>NaN</td>\n",
       "      <td>1024</td>\n",
       "    </tr>\n",
       "  </tbody>\n",
       "</table>\n",
       "<p>2 rows × 23 columns</p>\n",
       "</div>"
      ],
      "text/plain": [
       "                                      AdditionalTags  \\\n",
       "0                                                NaN   \n",
       "1  Walkers (Walking Dead), Rough Sex, Daddy Kink,...   \n",
       "\n",
       "                             ArchiveWarnings      Author  Bookmarks Category  \\\n",
       "0  Creator Chose Not To Use Archive Warnings    accioval          5      F/M   \n",
       "1                  No Archive Warnings Apply  dragoncien          3      F/M   \n",
       "\n",
       "   ChapterIndex  Chapters                                         Characters  \\\n",
       "0           NaN         1  Michonne (Walking Dead), Rick Grimes, Sasha Wi...   \n",
       "1           NaN         1                         Negan, Saviors - Character   \n",
       "\n",
       "   Comments CompleteDate  ...  Language  Notes  PublishDate     Rating  \\\n",
       "0         4   2016-04-15  ...   English    NaN   2016-04-15  Not Rated   \n",
       "1         6   2016-03-25  ...   English    NaN   2016-03-25     Mature   \n",
       "\n",
       "                                        Relationship  \\\n",
       "0                               Rick Grimes/Michonne   \n",
       "1  Negan (Walking Dead)/Other(s), Negan/ Original...   \n",
       "\n",
       "                                             Summary         Title  \\\n",
       "0  Set between \"No Way Out\" and \"The Next World\":...     Girl Talk   \n",
       "1                                                NaN  Troublemaker   \n",
       "\n",
       "                                                 URL UpdateDate Words  \n",
       "0  http://archiveofourown.org/works/6558088?view_...        NaN   737  \n",
       "1  http://archiveofourown.org/works/6352114?view_...        NaN  1024  \n",
       "\n",
       "[2 rows x 23 columns]"
      ]
     },
     "execution_count": 9,
     "metadata": {},
     "output_type": "execute_result"
    }
   ],
   "source": [
    "df.head(2)"
   ]
  },
  {
   "cell_type": "code",
   "execution_count": 18,
   "metadata": {},
   "outputs": [
    {
     "name": "stderr",
     "output_type": "stream",
     "text": [
      "/anaconda3/envs/python36/lib/python3.6/site-packages/IPython/core/interactiveshell.py:2728: DtypeWarning: Columns (21) have mixed types. Specify dtype option on import or set low_memory=False.\n",
      "  interactivity=interactivity, compiler=compiler, result=result)\n"
     ]
    },
    {
     "data": {
      "image/png": "[encoded data removed]",
      "text/plain": [
       "<matplotlib.figure.Figure at 0x113d05400>"
      ]
     },
     "metadata": {},
     "output_type": "display_data"
    }
   ],
   "source": [
    "df_all = []\n",
    "for i,fandom in enumerate(fandom_list):\n",
    "    try:\n",
    "        df = pd.read_csv(os.path.join(data_path, fandom_list[i]), sep = '\\t')\n",
    "        df = df[df.Chapters == 1]\n",
    "        df = df[df.Words <= 5000]\n",
    "        df = df[['Words']]\n",
    "        df_all.append(df)\n",
    "    except:\n",
    "        pass\n",
    "df_all = pd.concat(df_all)\n",
    "plt.figure()\n",
    "plt.hist(df_all.Words,30)\n",
    "# plt.title(fandom)\n",
    "plt.savefig('length_dist_agg_singlech.pdf', format='pdf')"
   ]
  },
  {
   "cell_type": "code",
   "execution_count": null,
   "metadata": {
    "collapsed": true
   },
   "outputs": [],
   "source": []
  },
  {
   "cell_type": "code",
   "execution_count": null,
   "metadata": {
    "collapsed": true
   },
   "outputs": [],
   "source": []
  }
 ],
 "metadata": {
  "anaconda-cloud": {},
  "kernelspec": {
   "display_name": "Python 3",
   "language": "python",
   "name": "python3"
  },
  "language_info": {
   "codemirror_mode": {
    "name": "ipython",
    "version": 3
   },
   "file_extension": ".py",
   "mimetype": "text/x-python",
   "name": "python",
   "nbconvert_exporter": "python",
   "pygments_lexer": "ipython3",
   "version": "3.6.7"
  }
 },
 "nbformat": 4,
 "nbformat_minor": 1
}
