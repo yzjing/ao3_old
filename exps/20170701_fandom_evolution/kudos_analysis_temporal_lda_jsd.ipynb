{
 "cells": [
  {
   "cell_type": "code",
   "execution_count": 1,
   "metadata": {},
   "outputs": [],
   "source": [
    "import pandas as pd\n",
    "import os\n",
    "import matplotlib.pyplot as plt\n",
    "%matplotlib inline\n",
    "import numpy as np\n",
    "import random\n",
    "from scipy import stats"
   ]
  },
  {
   "cell_type": "code",
   "execution_count": 2,
   "metadata": {},
   "outputs": [],
   "source": [
    "data_path = '../../data/lda_jsd_toprev_conlen/'"
   ]
  },
  {
   "cell_type": "code",
   "execution_count": 3,
   "metadata": {},
   "outputs": [],
   "source": [
    "fandom_list = [i for i in os.listdir(data_path) if 'tsv' in i]"
   ]
  },
  {
   "cell_type": "code",
   "execution_count": 4,
   "metadata": {},
   "outputs": [
    {
     "data": {
      "text/plain": [
       "['shakespare_william_works_temporal_lda_jsd_toprev_full.tsv',\n",
       " 'buffy_the_vampire_slayer_temporal_lda_jsd_toprev_full.tsv',\n",
       " 'les_miserables_all_media_types_temporal_lda_jsd_toprev_full.tsv',\n",
       " 'one_direction_temporal_lda_jsd_toprev_full.tsv',\n",
       " 'ms_paint_adventures_temporal_lda_jsd_toprev_full.tsv',\n",
       " 'marvel_temporal_lda_jsd_toprev_full.tsv',\n",
       " 'kuroko_no_basuke_temporal_lda_jsd_toprev_full.tsv',\n",
       " 'tolkien_j_r_r_works_&_related_fandoms_temporal_lda_jsd_toprev_full.tsv',\n",
       " 'harry_potter_temporal_lda_jsd_toprev_full.tsv',\n",
       " 'haikyuu_temporal_lda_jsd_toprev_full.tsv',\n",
       " 'dcu_temporal_lda_jsd_toprev_full.tsv',\n",
       " 'bishoujo_senshi_sailor_moon_temporal_lda_jsd_toprev_full.tsv',\n",
       " 'the_walking_dead_&_related_fandoms_temporal_lda_jsd_toprev_full.tsv',\n",
       " 'supernatural_temporal_lda_jsd_toprev_full.tsv',\n",
       " 'doctor_who_&_related_fandoms_temporal_lda_jsd_toprev_full.tsv',\n",
       " 'homestuck_temporal_lda_jsd_toprev_full.tsv',\n",
       " 'arthurian_mythology_&_related_fandoms_temporal_lda_jsd_toprev_full.tsv',\n",
       " 'attack_on_titan_temporal_lda_jsd_toprev_full.tsv',\n",
       " 'dragon_age_all_media_types_temporal_lda_jsd_toprev_full.tsv',\n",
       " 'hamilton_miranda_temporal_lda_jsd_toprev_full.tsv',\n",
       " 'star_wars_all_media_types_temporal_lda_jsd_toprev_full.tsv',\n",
       " 'naruto_temporal_lda_jsd_toprev_full.tsv',\n",
       " 'hetalia_axis_powers_temporal_lda_jsd_toprev_full.tsv',\n",
       " 'sherlock_holmes_&_related_fandoms_temporal_lda_jsd_toprev_full.tsv']"
      ]
     },
     "execution_count": 4,
     "metadata": {},
     "output_type": "execute_result"
    }
   ],
   "source": [
    "fandom_list"
   ]
  },
  {
   "cell_type": "code",
   "execution_count": 5,
   "metadata": {},
   "outputs": [],
   "source": [
    "def bootstrap_resample(li):\n",
    "    if len(li) > 0:\n",
    "        ave_original = np.average(li)\n",
    "        aves = []\n",
    "        for i in range(1000):\n",
    "            sample = []\n",
    "            for i in range(len(li)):\n",
    "                sample.append(random.choice(li))\n",
    "            aves.append(np.average(sample))\n",
    "        tail = sorted(aves)[24]\n",
    "        head = sorted(aves)[975]\n",
    "        return (ave_original, tail, head)"
   ]
  },
  {
   "cell_type": "markdown",
   "metadata": {
    "collapsed": true
   },
   "source": [
    "## Aggregate"
   ]
  },
  {
   "cell_type": "code",
   "execution_count": 10,
   "metadata": {},
   "outputs": [],
   "source": [
    "def create_normed_dfs(df):\n",
    "    \n",
    "    # Normalize effects of authors by turning kudos into z-score corresponding to works from this author\n",
    "    # Seems not useful b/c many authors only have 1 work\n",
    "#     author_list = df.Author.drop_duplicates().tolist()\n",
    "#     combined = []\n",
    "#     for author in author_list:\n",
    "#         df_a = df[df.Author == author]\n",
    "#         if len(df_a) > 1:\n",
    "#             df_a['Kudos'] = (df_a['Kudos'] - df_a['Kudos'].mean())/df_a['Kudos'].std(ddof=0)\n",
    "#             combined.append(df_a)        \n",
    "#     df = pd.concat(combined)\n",
    "#     df = df[df.Kudos != 0]\n",
    "\n",
    "# #     Normalize by creating hits/kudos \n",
    "#     df = df[df.Hits != 0]\n",
    "#     df = df[df.Kudos != 0]\n",
    "#     df['Kudos/Hits'] = df['Kudos'].astype(float)/df['Hits'].astype(float)\n",
    "    \n",
    "#     Normalize by log scale\n",
    "#     df = df[df.Kudos != 0]\n",
    "#     df['Kudos'] = np.log(df['Kudos'])\n",
    "#     df = df[df.Hits != 0]\n",
    "#     df['Hits'] = np.log(df['Hits'])\n",
    "#     df['Kudos/Hits'] = df['Kudos'] - df['Hits']\n",
    "\n",
    "#     # filter 0s\n",
    "# #     df = df.fillna(0)\"\n",
    "\n",
    "#     # turn into z scores\n",
    "    df['Kudos'] = df['Kudos']/df['Chapters']\n",
    "    df = df.dropna(subset=['Kudos'])\n",
    "    df = df[np.isfinite(df['Kudos'])]\n",
    "    df['Kudos'] = (df['Kudos'] - df['Kudos'].mean())/df['Kudos'].std(ddof=0)\n",
    "    \n",
    "    df = df.dropna(subset=['Comments'])\n",
    "    df = df[np.isfinite(df['Comments'])]\n",
    "    df['Comments'] = (df['Comments'] - df['Comments'].mean())/df['Comments'].std(ddof=0)\n",
    "\n",
    "    return df"
   ]
  },
  {
   "cell_type": "code",
   "execution_count": 11,
   "metadata": {},
   "outputs": [],
   "source": [
    "def create_dict(df, field, binsize):\n",
    "    \n",
    "    # Make bins\n",
    "    df.JSD = df.JSD.astype(float)\n",
    "    min_jsd = min(df.JSD.tolist())\n",
    "    max_jsd = max(df.JSD.tolist())\n",
    "    dic = {}\n",
    "    for i in np.arange(min_jsd, max_jsd, binsize):\n",
    "        df_s = df[(df.JSD >= i) & (df.JSD < i+binsize)]\n",
    "#         if len(df_s) > 9:\n",
    "#             print (min_cos, max_cos)\n",
    "#             print(df_s[field].tolist())\n",
    "        li = df_s[field].tolist()\n",
    "        if len(li) > 0:\n",
    "            dic[i] = bootstrap_resample(li)\n",
    "    return dic"
   ]
  },
  {
   "cell_type": "code",
   "execution_count": 12,
   "metadata": {},
   "outputs": [],
   "source": [
    "def plot_agg(flist, title):\n",
    "    df_all = []\n",
    "    for i,fandom in enumerate(flist):\n",
    "        df = pd.read_csv(os.path.join(data_path,fandom), sep = '\\t')\n",
    "        df = create_normed_dfs(df)\n",
    "        df = df[['JSD', 'Comments']].dropna()\n",
    "        df_all.append(df)\n",
    "#         print(fandom, '   ', len(df))\n",
    "    df = pd.concat(df_all)\n",
    "\n",
    "    dic = create_dict(df, 'Comments', 0.1)\n",
    "    x = sorted(dic.keys())\n",
    "    y = [dic[j][0] for j in x]\n",
    "\n",
    "    #     Make error bars\n",
    "    lower_error = [dic[j][0]-dic[j][1] for j in x]\n",
    "    upper_error = [dic[j][2]-dic[j][0] for j in x]\n",
    "    asymmetric_error = [lower_error, upper_error]\n",
    "\n",
    "    print(dic)\n",
    "\n",
    "    plt.errorbar(x, y, yerr=asymmetric_error,fmt='o')\n",
    "    plt.scatter(x, y)\n",
    "    plt.xlabel('Novelty',fontsize=15)\n",
    "    plt.ylabel('Comments (z-score)',fontsize=15)\n",
    "\n",
    "    plt.errorbar(x, y, yerr=asymmetric_error,fmt='o')\n",
    "    plt.scatter(x, y)\n",
    "    plt.title(title)\n",
    "    "
   ]
  },
  {
   "cell_type": "code",
   "execution_count": 13,
   "metadata": {},
   "outputs": [
    {
     "name": "stdout",
     "output_type": "stream",
     "text": [
      "{0.3082585991310225: (0.15111608993260797, 0.06811349369823401, 0.23568747815712046), 0.40825859913102247: (0.13513899889681757, 0.12429566654429952, 0.14645366391183426), 0.5082585991310224: (0.025804534996797707, 0.022067871258151475, 0.029454527383508435), 0.6082585991310224: (-0.04168856263006985, -0.04476798720842397, -0.037801575716507864)}\n"
     ]
    },
    {
     "data": {
      "image/png": "[encoded data removed]",
      "text/plain": [
       "<matplotlib.figure.Figure at 0x1a21d50b00>"
      ]
     },
     "metadata": {},
     "output_type": "display_data"
    }
   ],
   "source": [
    "plot_agg(fandom_list, 'Prev, sample')"
   ]
  },
  {
   "cell_type": "code",
   "execution_count": null,
   "metadata": {},
   "outputs": [],
   "source": []
  }
 ],
 "metadata": {
  "anaconda-cloud": {},
  "kernelspec": {
   "display_name": "Python 3",
   "language": "python",
   "name": "python3"
  },
  "language_info": {
   "codemirror_mode": {
    "name": "ipython",
    "version": 3
   },
   "file_extension": ".py",
   "mimetype": "text/x-python",
   "name": "python",
   "nbconvert_exporter": "python",
   "pygments_lexer": "ipython3",
   "version": "3.6.4"
  }
 },
 "nbformat": 4,
 "nbformat_minor": 1
}
