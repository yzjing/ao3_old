{
 "cells": [
  {
   "cell_type": "code",
   "execution_count": 2,
   "metadata": {
    "collapsed": false
   },
   "outputs": [],
   "source": [
    "from sklearn.feature_extraction.text import CountVectorizer\n",
    "import numpy as np\n",
    "import pandas as pd\n",
    "import re\n",
    "import sys\n",
    "sys.path.append('../../util/')\n",
    "import sgt\n",
    "from collections import Counter\n",
    "import matplotlib.pyplot as plt\n",
    "%matplotlib inline\n",
    "import random\n",
    "from scipy import spatial\n",
    "from scipy.stats import entropy\n",
    "from numpy.linalg import norm"
   ]
  },
  {
   "cell_type": "markdown",
   "metadata": {},
   "source": [
    "### Create corpus from the same author and same-size random sample"
   ]
  },
  {
   "cell_type": "code",
   "execution_count": 3,
   "metadata": {
    "collapsed": false
   },
   "outputs": [],
   "source": [
    "df = pd.read_csv('../../data/shakespare_william_works_preprocessed.tsv', sep = '\\t')"
   ]
  },
  {
   "cell_type": "code",
   "execution_count": 4,
   "metadata": {
    "collapsed": false
   },
   "outputs": [],
   "source": [
    "df_au_cnt = pd.DataFrame(df['Author'].value_counts())"
   ]
  },
  {
   "cell_type": "code",
   "execution_count": 5,
   "metadata": {
    "collapsed": false
   },
   "outputs": [],
   "source": [
    "au_list = []\n",
    "for i in range(10):\n",
    "    au_list.append(random.choice(df_au_cnt[df_au_cnt['Author'] > 5].index.tolist()))"
   ]
  },
  {
   "cell_type": "code",
   "execution_count": 6,
   "metadata": {
    "collapsed": false
   },
   "outputs": [
    {
     "data": {
      "text/plain": [
       "['Astray',\n",
       " 'AuburnRed',\n",
       " 'JLR',\n",
       " 'fog_shadow',\n",
       " 'grxntxire',\n",
       " 'NEStar',\n",
       " 'orphan_account',\n",
       " 'betony',\n",
       " 'yuletide_archivist',\n",
       " 'LocalSarcasm']"
      ]
     },
     "execution_count": 6,
     "metadata": {},
     "output_type": "execute_result"
    }
   ],
   "source": [
    "au_list"
   ]
  },
  {
   "cell_type": "code",
   "execution_count": 7,
   "metadata": {
    "collapsed": false
   },
   "outputs": [],
   "source": [
    "df_all = []\n",
    "df_rand_dict = {}\n",
    "for au in au_list:\n",
    "    df_Au = df[df.Author == au]\n",
    "    df_all.append(df_Au)\n",
    "    df_Rand = df.sample(len(df_Au))\n",
    "    df_all.append(df_Rand)\n",
    "    df_rand_dict[au] = df_Rand    \n",
    "df_all = pd.concat(df_all)"
   ]
  },
  {
   "cell_type": "markdown",
   "metadata": {
    "collapsed": true
   },
   "source": [
    "### General functions"
   ]
  },
  {
   "cell_type": "code",
   "execution_count": 8,
   "metadata": {
    "collapsed": false
   },
   "outputs": [],
   "source": [
    "# create a corpus to give to sklearn\n",
    "def create_corpus_for_voc(df):\n",
    "    doc = []\n",
    "    for i in df.Text.tolist():\n",
    "        #Remove some non-ascii characters and 'aa's\n",
    "        i = re.sub(r'aA|aa', 'a', i)\n",
    "        i = re.sub(r'\\\\xe2........|\\\\xc|\\\\xa|\\\\n|[0123456789*_]', '', i)\n",
    "        i = i.lower()\n",
    "        doc.append(i)  \n",
    "    return doc"
   ]
  },
  {
   "cell_type": "code",
   "execution_count": 9,
   "metadata": {
    "collapsed": false
   },
   "outputs": [],
   "source": [
    "# Get a vocabulary using sklearn's filtering\n",
    "def get_voc(corpus, ngram, mindf):\n",
    "    vectorizer = CountVectorizer(stop_words='english', ngram_range=(ngram,ngram),min_df=mindf)\n",
    "    f = vectorizer.fit_transform(corpus)\n",
    "    return set(sorted(vectorizer.get_feature_names()))"
   ]
  },
  {
   "cell_type": "code",
   "execution_count": 10,
   "metadata": {
    "collapsed": true
   },
   "outputs": [],
   "source": [
    "def bootstrap_resample(li):\n",
    "    if len(li) > 0:\n",
    "        ave_original = np.average(li)\n",
    "        aves = []\n",
    "        for i in range(1000):\n",
    "            sample = []\n",
    "            for i in range(len(li)):\n",
    "                sample.append(random.choice(li))\n",
    "            aves.append(np.average(sample))\n",
    "        tail = sorted(aves)[24]\n",
    "        head = sorted(aves)[975]\n",
    "        return (ave_original, tail, head)"
   ]
  },
  {
   "cell_type": "code",
   "execution_count": 11,
   "metadata": {
    "collapsed": true
   },
   "outputs": [],
   "source": [
    "def process_sentence(sentence):\n",
    "    # input: sentence as a string\n",
    "    # output: a list of words in the sentence\n",
    "    sentence = re.sub(r'aA|aa', 'a', sentence)\n",
    "    sentence = re.sub(r'\\\\xe2........|\\\\xc|\\\\xa|\\\\n|[0123456789*_]', '', sentence).lower()\n",
    "    sentence = re.findall(u'(?u)\\\\b\\\\w\\\\w+\\\\b', sentence)\n",
    "    return sentence"
   ]
  },
  {
   "cell_type": "code",
   "execution_count": 12,
   "metadata": {
    "collapsed": false
   },
   "outputs": [],
   "source": [
    "def calc_results(au_dist,rand_dist):\n",
    "    results_au = []\n",
    "    results_rand = []\n",
    "    for i in range(len(au_dist)):\n",
    "        for j in range(i, len(au_dist)):\n",
    "            results_au.append(spatial.distance.cosine(au_dist[i], au_dist[j]))\n",
    "    results_au = bootstrap_resample(results_au)\n",
    "    for i in range(len(rand_dist)):\n",
    "        for j in range(i, len(rand_dist)):\n",
    "            results_rand.append(spatial.distance.cosine(rand_dist[i], rand_dist[j]))\n",
    "    results_rand = bootstrap_resample(results_rand)\n",
    "    return results_au, results_rand"
   ]
  },
  {
   "cell_type": "code",
   "execution_count": 13,
   "metadata": {
    "collapsed": true
   },
   "outputs": [],
   "source": [
    "def JSD(P, Q):\n",
    "    _P = P / norm(P, ord=1)\n",
    "    _Q = Q / norm(Q, ord=1)\n",
    "    _M = 0.5 * (_P + _Q)\n",
    "    return 0.5 * (entropy(_P, _M) + entropy(_Q, _M))"
   ]
  },
  {
   "cell_type": "code",
   "execution_count": 14,
   "metadata": {
    "collapsed": true
   },
   "outputs": [],
   "source": [
    "def calc_results_jsd(au_dist,rand_dist):\n",
    "    results_au = []\n",
    "    results_rand = []\n",
    "    for i in range(len(au_dist)):\n",
    "        for j in range(i, len(au_dist)):\n",
    "            results_au.append(JSD(au_dist[i], au_dist[j]))\n",
    "    results_au = bootstrap_resample(results_au)\n",
    "    for i in range(len(rand_dist)):\n",
    "        for j in range(i, len(rand_dist)):\n",
    "            results_rand.append(JSD(rand_dist[i], rand_dist[j]))\n",
    "    results_rand = bootstrap_resample(results_rand)\n",
    "    return results_au, results_rand"
   ]
  },
  {
   "cell_type": "markdown",
   "metadata": {},
   "source": [
    "### Unigram + no smoothing"
   ]
  },
  {
   "cell_type": "code",
   "execution_count": 15,
   "metadata": {
    "collapsed": true
   },
   "outputs": [],
   "source": [
    "# compute unigram-frequency dict using the same preprocessing, using only words from the vocabulary\n",
    "def create_unigram_freq_dict(df, voc):\n",
    "    text = []\n",
    "    df_text = df['Text'].tolist()\n",
    "    for line in df_text:\n",
    "        line = process_sentence(line)\n",
    "        text.extend(line)\n",
    "    text = map(lambda x:x if x in voc else None, text)\n",
    "    text = dict(Counter(text))\n",
    "    return text"
   ]
  },
  {
   "cell_type": "code",
   "execution_count": 16,
   "metadata": {
    "collapsed": true
   },
   "outputs": [],
   "source": [
    "def prob_score(vocab, sentence, unifreq):\n",
    "    unisize = len(unifreq)\n",
    "    prob = []\n",
    "    sentence = process_sentence(sentence)\n",
    "    for word in vocab:\n",
    "        if word in sentence:\n",
    "            prob.append(unifreq.get(word, 0)/unisize)\n",
    "        else:\n",
    "            prob.append(0)\n",
    "    return prob"
   ]
  },
  {
   "cell_type": "code",
   "execution_count": 17,
   "metadata": {
    "collapsed": false
   },
   "outputs": [],
   "source": [
    "corpus = create_corpus_for_voc(df_all)\n",
    "univocab = get_voc(corpus, 1, 1)\n",
    "unidict = create_unigram_freq_dict(df_all, univocab)"
   ]
  },
  {
   "cell_type": "code",
   "execution_count": 18,
   "metadata": {
    "collapsed": false
   },
   "outputs": [
    {
     "name": "stderr",
     "output_type": "stream",
     "text": [
      "/Users/jingy/anaconda/envs/python35/lib/python3.5/site-packages/ipykernel/__main__.py:6: SettingWithCopyWarning: \n",
      "A value is trying to be set on a copy of a slice from a DataFrame.\n",
      "Try using .loc[row_indexer,col_indexer] = value instead\n",
      "\n",
      "See the caveats in the documentation: http://pandas.pydata.org/pandas-docs/stable/indexing.html#indexing-view-versus-copy\n"
     ]
    }
   ],
   "source": [
    "results_au_all = [0,0,0]\n",
    "results_rand_all = [0,0,0]\n",
    "\n",
    "for au in au_list:\n",
    "    df_Au = df[df.Author == au]\n",
    "    df_Au['Dist'] = df_Au['Text'].map(lambda x: prob_score(univocab, x, unidict))\n",
    "    au_dist = df_Au['Dist'].tolist()\n",
    "\n",
    "    df_Rand = df_rand_dict[au]\n",
    "    df_Rand['Dist'] = df_Rand['Text'].map(lambda x: prob_score(univocab, x, unidict))\n",
    "    rand_dist = df_Rand['Dist'].tolist()\n",
    "    \n",
    "    results_au, results_rand = calc_results_jsd(au_dist,rand_dist)\n",
    "    results_au_all[0] += results_au[0]\n",
    "    results_au_all[1] += results_au[1]\n",
    "    results_au_all[2] += results_au[2]\n",
    "    results_rand_all[0] += results_rand[0]\n",
    "    results_rand_all[1] += results_rand[1]\n",
    "    results_rand_all[2] += results_rand[2]\n",
    "    \n",
    "\n",
    "results_au_all[0] = results_au_all[0]/len(au_list)\n",
    "results_au_all[1] = results_au_all[1]/len(au_list)\n",
    "results_au_all[2] = results_au_all[2]/len(au_list)\n",
    "results_rand_all[0] = results_rand_all[0]/len(au_list)\n",
    "results_rand_all[1] = results_rand_all[1]/len(au_list)\n",
    "results_rand_all[2] = results_rand_all[2]/len(au_list)"
   ]
  },
  {
   "cell_type": "code",
   "execution_count": 19,
   "metadata": {
    "collapsed": false
   },
   "outputs": [
    {
     "name": "stdout",
     "output_type": "stream",
     "text": [
      "[0.35293504298383621, 0.31654194552571913, 0.38528981756401942] [0.37844145322657041, 0.33627186751614874, 0.41794775616744373]\n"
     ]
    }
   ],
   "source": [
    "print(results_au_all,results_rand_all)"
   ]
  },
  {
   "cell_type": "markdown",
   "metadata": {
    "collapsed": true
   },
   "source": [
    "### Unigram + Good-Turing smoothing"
   ]
  },
  {
   "cell_type": "code",
   "execution_count": 20,
   "metadata": {
    "collapsed": true
   },
   "outputs": [],
   "source": [
    "def create_unigram_freq_dict(df, voc):\n",
    "    text = {}\n",
    "    df_text = df.Text.tolist()\n",
    "    for line in df_text:\n",
    "        line_f = process_sentence(line)\n",
    "        line_f = [word for word in line_f if word in voc]\n",
    "        text[line] = dict(Counter(line_f))\n",
    "    return text"
   ]
  },
  {
   "cell_type": "code",
   "execution_count": 21,
   "metadata": {
    "collapsed": false
   },
   "outputs": [],
   "source": [
    "def get_dist(text, di, vocab):\n",
    "    prob_line = []\n",
    "    sgt_line = sgt.simpleGoodTuringProbs(di[text])\n",
    "    num_abs_words = len(vocab - set(di[text].keys()))\n",
    "    for word in vocab:\n",
    "        if word in di[text].keys():\n",
    "            prob_line.append(sgt_line[0][word])\n",
    "        else:\n",
    "            prob_line.append(sgt_line[1]/float(num_abs_words))\n",
    "    return prob_line\n",
    "#     except:\n",
    "#         return [0]"
   ]
  },
  {
   "cell_type": "code",
   "execution_count": 22,
   "metadata": {
    "collapsed": true
   },
   "outputs": [],
   "source": [
    "corpus = create_corpus_for_voc(df_all)\n",
    "univocab = get_voc(corpus, 1, 1)\n",
    "unidict = create_unigram_freq_dict(df_all, univocab)"
   ]
  },
  {
   "cell_type": "code",
   "execution_count": 23,
   "metadata": {
    "collapsed": false
   },
   "outputs": [
    {
     "name": "stderr",
     "output_type": "stream",
     "text": [
      "/Users/jingy/anaconda/envs/python35/lib/python3.5/site-packages/ipykernel/__main__.py:6: SettingWithCopyWarning: \n",
      "A value is trying to be set on a copy of a slice from a DataFrame.\n",
      "Try using .loc[row_indexer,col_indexer] = value instead\n",
      "\n",
      "See the caveats in the documentation: http://pandas.pydata.org/pandas-docs/stable/indexing.html#indexing-view-versus-copy\n"
     ]
    }
   ],
   "source": [
    "results_au_all_2 = [0,0,0]\n",
    "results_rand_all_2 = [0,0,0]\n",
    "\n",
    "for au in au_list:\n",
    "    df_Au = df[df.Author == au]\n",
    "    df_Au['Dist'] = df_Au['Text'].map(lambda x: get_dist(x, unidict, univocab))\n",
    "    au_dist = df_Au['Dist'].tolist()\n",
    "\n",
    "    df_Rand = df_rand_dict[au]\n",
    "    df_Rand['Dist'] = df_Rand['Text'].map(lambda x: get_dist(x, unidict, univocab))\n",
    "    rand_dist = df_Rand['Dist'].tolist()\n",
    "    \n",
    "    results_au, results_rand = calc_results_jsd(au_dist,rand_dist)\n",
    "    results_au_all_2[0] += results_au[0]\n",
    "    results_au_all_2[1] += results_au[1]\n",
    "    results_au_all_2[2] += results_au[2]\n",
    "    results_rand_all_2[0] += results_rand[0]\n",
    "    results_rand_all_2[1] += results_rand[1]\n",
    "    results_rand_all_2[2] += results_rand[2]\n",
    "    \n",
    "\n",
    "results_au_all_2[0] = results_au_all_2[0]/len(au_list)\n",
    "results_au_all_2[1] = results_au_all_2[1]/len(au_list)\n",
    "results_au_all_2[2] = results_au_all_2[2]/len(au_list)\n",
    "results_rand_all_2[0] = results_rand_all_2[0]/len(au_list)\n",
    "results_rand_all_2[1] = results_rand_all_2[1]/len(au_list)\n",
    "results_rand_all_2[2] = results_rand_all_2[2]/len(au_list)"
   ]
  },
  {
   "cell_type": "code",
   "execution_count": 24,
   "metadata": {
    "collapsed": false
   },
   "outputs": [
    {
     "name": "stdout",
     "output_type": "stream",
     "text": [
      "[0.16115418568008127, 0.14370050194312936, 0.17764297024189055] [0.22030305319738175, 0.19795286001959006, 0.24127330359129293]\n"
     ]
    }
   ],
   "source": [
    "print(results_au_all_2,results_rand_all_2 )"
   ]
  },
  {
   "cell_type": "markdown",
   "metadata": {},
   "source": [
    "### bigram + Stupid backoff"
   ]
  },
  {
   "cell_type": "code",
   "execution_count": 25,
   "metadata": {
    "collapsed": true
   },
   "outputs": [],
   "source": [
    "# compute unigram-frequency dict using the same preprocessing, using only words from the vocabulary\n",
    "def create_unigram_freq_dict(df, voc):\n",
    "    text = []\n",
    "    df_text = df.Text.tolist()\n",
    "    for line in df_text:\n",
    "        line_f = process_sentence(line)\n",
    "        text.extend(line_f)\n",
    "    text = map(lambda x:x if x in voc else None, text)\n",
    "    text = dict(Counter(text))\n",
    "    return text\n"
   ]
  },
  {
   "cell_type": "code",
   "execution_count": 26,
   "metadata": {
    "collapsed": true
   },
   "outputs": [],
   "source": [
    "def create_bigram_freq_dict(df, voc):\n",
    "    text = []\n",
    "    df_text = df.Text.tolist()\n",
    "    for line in df_text:\n",
    "        line_f = re.sub(r'aA|aa', 'a', line)\n",
    "        line_f = re.sub(r'\\\\xe2........|\\\\xc|\\\\xa|\\\\n|[0123456789*_]', '', line_f).lower()\n",
    "        line_f = re.findall(u'(?u)\\\\b\\\\w\\\\w+\\\\b', line_f)\n",
    "        text.extend(line_f)\n",
    "    text_bi = []\n",
    "    for i in range(len(text)-1):\n",
    "        text_bi.append(text[i]+' '+text[i+1]) \n",
    "    text_bi = map(lambda x:x if x in voc else None, text_bi)\n",
    "    text_bi = dict(Counter(text_bi))\n",
    "    return text_bi"
   ]
  },
  {
   "cell_type": "code",
   "execution_count": 27,
   "metadata": {
    "collapsed": true
   },
   "outputs": [],
   "source": [
    "# Stupid backoff. If bigram is in dictionary, score = freq/size.\n",
    "# If not, go back to unigram, score = 0.4*unigram/size.\n",
    "\n",
    "def calc_sb(bigram, bifreq, unifreq):\n",
    "    if bifreq.get(bigram):\n",
    "        return float(bifreq.get(bigram))/len(bifreq)\n",
    "    else:\n",
    "        uni = bigram.split(' ')[1]\n",
    "        return float(0.4*unifreq.get(uni, 0))/len(unifreq)"
   ]
  },
  {
   "cell_type": "code",
   "execution_count": 28,
   "metadata": {
    "collapsed": true
   },
   "outputs": [],
   "source": [
    "def sb_score(bivocab, sentence, unifreq, bifreq):\n",
    "    bigrams = []\n",
    "\n",
    "    sentence = re.sub(r'aA|aa', 'a', sentence)\n",
    "    sentence = re.sub(r'\\\\xe2........|\\\\xc|\\\\xa|\\\\n|[0123456789*_]', '', sentence).lower()\n",
    "    sentence = re.findall(u'(?u)\\\\b\\\\w\\\\w+\\\\b', sentence)\n",
    "    for i in range(len(sentence)-1):\n",
    "        bigrams.append(sentence[i]+' '+sentence[i+1]) \n",
    "\n",
    "    prob = list(map(lambda x: calc_sb(x, bifreq, unifreq) if x in bigrams else 0, bivocab))\n",
    "\n",
    "    return prob"
   ]
  },
  {
   "cell_type": "code",
   "execution_count": 29,
   "metadata": {
    "collapsed": true
   },
   "outputs": [],
   "source": [
    "corpus = create_corpus_for_voc(df_all)\n",
    "univocab = get_voc(corpus, 1,1)\n",
    "unidict = create_unigram_freq_dict(df_all, univocab)\n",
    "bivocab = get_voc(corpus,2,1)\n",
    "bidict = create_bigram_freq_dict(df_all, bivocab)"
   ]
  },
  {
   "cell_type": "code",
   "execution_count": 30,
   "metadata": {
    "collapsed": false
   },
   "outputs": [
    {
     "name": "stderr",
     "output_type": "stream",
     "text": [
      "/Users/jingy/anaconda/envs/python35/lib/python3.5/site-packages/ipykernel/__main__.py:7: SettingWithCopyWarning: \n",
      "A value is trying to be set on a copy of a slice from a DataFrame.\n",
      "Try using .loc[row_indexer,col_indexer] = value instead\n",
      "\n",
      "See the caveats in the documentation: http://pandas.pydata.org/pandas-docs/stable/indexing.html#indexing-view-versus-copy\n"
     ]
    }
   ],
   "source": [
    "results_au_all_3 = [0,0,0]\n",
    "results_rand_all_3 = [0,0,0]\n",
    "for au in au_list:\n",
    "    df_Au = df[df.Author == au]\n",
    "    df_Rand = df_rand_dict[au]\n",
    "    \n",
    "    df_Au['Dist'] = df_Au['Text'].map(lambda x: sb_score(bivocab, x, unidict, bidict))\n",
    "    au_dist = df_Au['Dist'].tolist()\n",
    "\n",
    "    df_Rand['Dist'] = df_Rand['Text'].map(lambda x: sb_score(bivocab, x, unidict, bidict))\n",
    "    rand_dist = df_Rand['Dist'].tolist()\n",
    "    \n",
    "    results_au, results_rand = calc_results_jsd(au_dist,rand_dist)\n",
    "    results_au_all_3[0] += results_au[0]\n",
    "    results_au_all_3[1] += results_au[1]\n",
    "    results_au_all_3[2] += results_au[2]\n",
    "    results_rand_all_3[0] += results_rand[0]\n",
    "    results_rand_all_3[1] += results_rand[1]\n",
    "    results_rand_all_3[2] += results_rand[2]\n",
    "    \n",
    "\n",
    "results_au_all_3[0] = results_au_all_3[0]/len(au_list)\n",
    "results_au_all_3[1] = results_au_all_3[1]/len(au_list)\n",
    "results_au_all_3[2] = results_au_all_3[2]/len(au_list)\n",
    "results_rand_all_3[0] = results_rand_all_3[0]/len(au_list)\n",
    "results_rand_all_3[1] = results_rand_all_3[1]/len(au_list)\n",
    "results_rand_all_3[2] = results_rand_all_3[2]/len(au_list)"
   ]
  },
  {
   "cell_type": "code",
   "execution_count": 31,
   "metadata": {
    "collapsed": false
   },
   "outputs": [
    {
     "name": "stdout",
     "output_type": "stream",
     "text": [
      "[0.54993509704506782, 0.49732690365341237, 0.59778409928982967] [0.58519413149015154, 0.53156174419394742, 0.63501826922754834]\n"
     ]
    }
   ],
   "source": [
    "print(results_au_all_3,results_rand_all_3 )"
   ]
  },
  {
   "cell_type": "code",
   "execution_count": 37,
   "metadata": {
    "collapsed": false
   },
   "outputs": [],
   "source": [
    "def plt_multiple(l1_au,l1_rand,l2_au,l2_rand,l3_au,l3_rand):\n",
    "    plt.figure(figsize=(13,4))\n",
    "    plt.subplot(1, 3, 1)\n",
    "    lower_error1 = [l1_au[0] - l1_au[1]]\n",
    "    upper_error1 = [l1_au[2] - l1_au[0]]\n",
    "    lower_error2 = [l1_rand[0] - l1_rand[1]]\n",
    "    upper_error2 = [l1_rand[2] - l1_rand[0]]\n",
    "\n",
    "    asymmetric_error1 =[lower_error1,lower_error2 ]\n",
    "    asymmetric_error2 =[upper_error1, upper_error2]\n",
    "    p1 = [1, 2]\n",
    "    p2 = [l1_au[0], l1_rand[0]]\n",
    "\n",
    "    plt.errorbar(p1, p2, yerr=[asymmetric_error1, asymmetric_error2],fmt='o')\n",
    "    plt.xlim(0.5,2.5)\n",
    "    plt.ylim(0,1)\n",
    "    plt.legend(loc='lower right')\n",
    "    plt.xticks(p1, ['Same author', 'Multiple authors'])\n",
    "    plt.ylabel('Unigram + no smoothing', fontsize = 14)\n",
    "\n",
    "    plt.subplot(1, 3, 2)\n",
    "    lower_error1 = [l2_au[0] - l2_au[1]]\n",
    "    upper_error1 = [l2_au[2] - l2_au[0]]\n",
    "    lower_error2 = [l2_rand[0] - l2_rand[1]]\n",
    "    upper_error2 = [l2_rand[2] - l2_rand[0]]\n",
    "\n",
    "    asymmetric_error1 =[lower_error1,lower_error2 ]\n",
    "    asymmetric_error2 =[upper_error1, upper_error2]\n",
    "    p1 = [1, 2]\n",
    "    p2 = [l2_au[0], l2_rand[0]]\n",
    "\n",
    "    plt.errorbar(p1, p2, yerr=[asymmetric_error1, asymmetric_error2],fmt='o')\n",
    "    plt.xlim(0.5,2.5)\n",
    "    plt.ylim(0,1)\n",
    "    plt.legend(loc='lower right')\n",
    "    plt.xticks(p1, ['Same author', 'Multiple authors'])\n",
    "    plt.ylabel('Unigram + Good-Turing smoothing', fontsize = 14)\n",
    "\n",
    "    plt.subplot(1, 3, 3)\n",
    "    lower_error1 = [l3_au[0] - l3_au[1]]\n",
    "    upper_error1 = [l3_au[2] - l3_au[0]]\n",
    "    lower_error2 = [l3_rand[0] - l3_rand[1]]\n",
    "    upper_error2 = [l3_rand[2] - l3_rand[0]]\n",
    "\n",
    "    asymmetric_error1 =[lower_error1,lower_error2 ]\n",
    "    asymmetric_error2 =[upper_error1, upper_error2]\n",
    "    p1 = [1, 2]\n",
    "    p2 = [l3_au[0], l3_rand[0]]\n",
    "\n",
    "    plt.errorbar(p1, p2, yerr=[asymmetric_error1, asymmetric_error2],fmt='o')\n",
    "    plt.xlim(0.5,2.5)\n",
    "    plt.ylim(0,1)\n",
    "    plt.legend(loc='lower right')\n",
    "    plt.xticks(p1, ['Same author', 'Multiple authors'])\n",
    "    plt.ylabel('Bigram + Stupid backoff', fontsize = 14)\n",
    "\n",
    "    plt.savefig('comparison_ngram_10au_jsd_2.pdf', type='pdf')"
   ]
  },
  {
   "cell_type": "code",
   "execution_count": 38,
   "metadata": {
    "collapsed": false
   },
   "outputs": [
    {
     "name": "stderr",
     "output_type": "stream",
     "text": [
      "/Users/jingy/anaconda/envs/python35/lib/python3.5/site-packages/matplotlib/axes/_axes.py:519: UserWarning: No labelled objects found. Use label='...' kwarg on individual plots.\n",
      "  warnings.warn(\"No labelled objects found. \"\n"
     ]
    },
    {
     "data": {
      "image/png": "[encoded data removed]",
      "text/plain": [
       "<matplotlib.figure.Figure at 0x11016efd0>"
      ]
     },
     "metadata": {},
     "output_type": "display_data"
    }
   ],
   "source": [
    "plt_multiple(results_au_all_2,results_rand_all_2)"
   ]
  },
  {
   "cell_type": "code",
   "execution_count": null,
   "metadata": {
    "collapsed": true
   },
   "outputs": [],
   "source": []
  }
 ],
 "metadata": {
  "anaconda-cloud": {},
  "kernelspec": {
   "display_name": "Python [python35]",
   "language": "python",
   "name": "Python [python35]"
  },
  "language_info": {
   "codemirror_mode": {
    "name": "ipython",
    "version": 3
   },
   "file_extension": ".py",
   "mimetype": "text/x-python",
   "name": "python",
   "nbconvert_exporter": "python",
   "pygments_lexer": "ipython3",
   "version": "3.5.2"
  }
 },
 "nbformat": 4,
 "nbformat_minor": 0
}
