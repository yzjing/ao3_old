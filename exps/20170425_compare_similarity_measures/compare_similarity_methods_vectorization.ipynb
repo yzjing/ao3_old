{
 "cells": [
  {
   "cell_type": "code",
   "execution_count": 1,
   "metadata": {
    "collapsed": false
   },
   "outputs": [],
   "source": [
    "from sklearn.feature_extraction.text import TfidfVectorizer\n",
    "import numpy as np\n",
    "import pandas as pd\n",
    "import re\n",
    "import matplotlib.pyplot as plt\n",
    "%matplotlib inline\n",
    "import random\n",
    "from scipy import spatial\n",
    "from scipy.stats import entropy\n",
    "from numpy.linalg import norm"
   ]
  },
  {
   "cell_type": "markdown",
   "metadata": {},
   "source": [
    "### Create corpus from the same author and same-size random sample"
   ]
  },
  {
   "cell_type": "code",
   "execution_count": 2,
   "metadata": {
    "collapsed": false
   },
   "outputs": [],
   "source": [
    "df = pd.read_csv('../../data/shakespare_william_works_preprocessed.tsv', sep = '\\t')"
   ]
  },
  {
   "cell_type": "code",
   "execution_count": 3,
   "metadata": {
    "collapsed": false
   },
   "outputs": [],
   "source": [
    "au_list = ['AuburnRed',\n",
    " 'rthstewart',\n",
    " 'Jojoinabox',\n",
    " 'literarypeerelief',\n",
    " 'Lady_Loki',\n",
    " 'Shayheyred',\n",
    " 'literarypeerelief',\n",
    " 'Mangaluva',\n",
    " 'rthstewart',\n",
    " 'RandomRavenclaw9']"
   ]
  },
  {
   "cell_type": "code",
   "execution_count": 21,
   "metadata": {
    "collapsed": false
   },
   "outputs": [],
   "source": [
    "doc_cnt = 0\n",
    "word_cnt = 0\n",
    "for au in au_list:\n",
    "    df_Au = df[df.Author == au]\n",
    "    df_Rand = df.sample(len(df_Au))\n",
    "\n",
    "    for doc in df_Rand.Text.tolist():\n",
    "        doc = process_sentence(doc)\n",
    "        word_cnt += len(doc)\n",
    "        doc_cnt += 1"
   ]
  },
  {
   "cell_type": "code",
   "execution_count": 12,
   "metadata": {
    "collapsed": false
   },
   "outputs": [
    {
     "data": {
      "text/plain": [
       "217"
      ]
     },
     "execution_count": 12,
     "metadata": {},
     "output_type": "execute_result"
    }
   ],
   "source": [
    "au_cnt"
   ]
  },
  {
   "cell_type": "code",
   "execution_count": 13,
   "metadata": {
    "collapsed": false
   },
   "outputs": [
    {
     "data": {
      "text/plain": [
       "217"
      ]
     },
     "execution_count": 13,
     "metadata": {},
     "output_type": "execute_result"
    }
   ],
   "source": [
    "rand_cnt"
   ]
  },
  {
   "cell_type": "code",
   "execution_count": 14,
   "metadata": {
    "collapsed": false
   },
   "outputs": [
    {
     "data": {
      "text/plain": [
       "185"
      ]
     },
     "execution_count": 14,
     "metadata": {},
     "output_type": "execute_result"
    }
   ],
   "source": [
    "rand_au_cnt"
   ]
  },
  {
   "cell_type": "code",
   "execution_count": 18,
   "metadata": {
    "collapsed": false
   },
   "outputs": [
    {
     "data": {
      "text/plain": [
       "217"
      ]
     },
     "execution_count": 18,
     "metadata": {},
     "output_type": "execute_result"
    }
   ],
   "source": [
    "doc_cnt"
   ]
  },
  {
   "cell_type": "code",
   "execution_count": 22,
   "metadata": {
    "collapsed": false
   },
   "outputs": [
    {
     "data": {
      "text/plain": [
       "1825.700460829493"
      ]
     },
     "execution_count": 22,
     "metadata": {},
     "output_type": "execute_result"
    }
   ],
   "source": [
    "word_cnt/217"
   ]
  },
  {
   "cell_type": "markdown",
   "metadata": {
    "collapsed": true
   },
   "source": [
    "### General functions"
   ]
  },
  {
   "cell_type": "code",
   "execution_count": 5,
   "metadata": {
    "collapsed": true
   },
   "outputs": [],
   "source": [
    "def bootstrap_resample(li):\n",
    "    if len(li) > 0:\n",
    "        ave_original = np.average(li)\n",
    "        aves = []\n",
    "        for i in range(1000):\n",
    "            sample = []\n",
    "            for i in range(len(li)):\n",
    "                sample.append(random.choice(li))\n",
    "            aves.append(np.average(sample))\n",
    "        tail = sorted(aves)[24]\n",
    "        head = sorted(aves)[975]\n",
    "        return (ave_original, tail, head)"
   ]
  },
  {
   "cell_type": "code",
   "execution_count": 15,
   "metadata": {
    "collapsed": true
   },
   "outputs": [],
   "source": [
    "def process_sentence(sentence):\n",
    "    # input: sentence as a string\n",
    "    # output: a list of words in the sentence\n",
    "    sentence = re.sub(r'aA|aa', 'a', sentence)\n",
    "    sentence = re.sub(r'\\\\xe2........|\\\\xc|\\\\xa|\\\\n|[0123456789*_]', '', sentence).lower()\n",
    "    sentence = re.findall(u'(?u)\\\\b\\\\w\\\\w+\\\\b', sentence)\n",
    "    return sentence"
   ]
  },
  {
   "cell_type": "code",
   "execution_count": 7,
   "metadata": {
    "collapsed": false
   },
   "outputs": [],
   "source": [
    "def calc_results(au_dist,rand_dist):\n",
    "    results_au = []\n",
    "    results_rand = []\n",
    "    for i in range(len(au_dist)):\n",
    "        for j in range(i, len(au_dist)):\n",
    "            results_au.append(spatial.distance.cosine(au_dist[i], au_dist[j]))\n",
    "    results_au = bootstrap_resample(results_au)\n",
    "    for i in range(len(rand_dist)):\n",
    "        for j in range(i, len(rand_dist)):\n",
    "            results_rand.append(spatial.distance.cosine(rand_dist[i], rand_dist[j]))\n",
    "    results_rand = bootstrap_resample(results_rand)\n",
    "    return results_au, results_rand"
   ]
  },
  {
   "cell_type": "code",
   "execution_count": 29,
   "metadata": {
    "collapsed": true
   },
   "outputs": [],
   "source": [
    "def JSD(P, Q):\n",
    "    _P = P / norm(P, ord=1)\n",
    "    _Q = Q / norm(Q, ord=1)\n",
    "    _M = 0.5 * (_P + _Q)\n",
    "    return 0.5 * (entropy(_P, _M) + entropy(_Q, _M))"
   ]
  },
  {
   "cell_type": "code",
   "execution_count": 10,
   "metadata": {
    "collapsed": false
   },
   "outputs": [],
   "source": [
    "def plot(results_au, results_rand, label):\n",
    "    fig = plt.figure()\n",
    "    lower_error1 = [results_au[0] - results_au[1]]\n",
    "    upper_error1 = [results_au[2] - results_au[0]]\n",
    "    lower_error2 = [results_rand[0] - results_rand[1]]\n",
    "    upper_error2 = [results_rand[2] - results_rand[0]]\n",
    "\n",
    "    asymmetric_error1 =[lower_error1,lower_error2 ]\n",
    "    asymmetric_error2 =[upper_error1, upper_error2]\n",
    "    p1 = [1, 2]\n",
    "    p2 = [results_au[0], results_rand[0]]\n",
    "\n",
    "    plt.errorbar(p1, p2, yerr=[asymmetric_error1, asymmetric_error2],fmt='o')\n",
    "    plt.xlim(0,3)\n",
    "    plt.ylim(0,1)\n",
    "    plt.legend(loc='lower right')\n",
    "    plt.xticks(p1, ['Same author', 'Random author'])\n",
    "    plt.ylabel(label, fontsize = 14)"
   ]
  },
  {
   "cell_type": "markdown",
   "metadata": {},
   "source": [
    "### tfidf weighting"
   ]
  },
  {
   "cell_type": "code",
   "execution_count": 11,
   "metadata": {
    "collapsed": false
   },
   "outputs": [],
   "source": [
    "# create a corpus to give to sklearn\n",
    "def create_corpus_for_voc(df):\n",
    "    doc = []\n",
    "    for i in df.Text.tolist():\n",
    "        #Remove some non-ascii characters and 'aa's\n",
    "        i = re.sub(r'aA|aa', 'a', i)\n",
    "        i = re.sub(r'\\\\xe2........|\\\\xc|\\\\xa|\\\\n|[0123456789*_]', '', i)\n",
    "        i = i.lower()\n",
    "        doc.append(i)  \n",
    "    return doc"
   ]
  },
  {
   "cell_type": "code",
   "execution_count": 12,
   "metadata": {
    "collapsed": true
   },
   "outputs": [],
   "source": [
    "results_au_all = [0,0,0]\n",
    "results_rand_all = [0,0,0]\n",
    "for au in au_list:\n",
    "    df_Au = df[df.Author == au]\n",
    "    df_Rand = df.sample(len(df_Au))\n",
    "    \n",
    "    vectorizer = TfidfVectorizer(min_df=1)\n",
    "    corpus = create_corpus_for_voc(df_Au)\n",
    "    au_dist = vectorizer.fit_transform(corpus).todense()\n",
    "\n",
    "    vectorizer = TfidfVectorizer(min_df=1)\n",
    "    corpus = create_corpus_for_voc(df_Rand)\n",
    "    rand_dist = vectorizer.fit_transform(corpus).todense()\n",
    "    \n",
    "    results_au, results_rand = calc_results(au_dist,rand_dist)\n",
    "    results_au_all[0] += results_au[0]\n",
    "    results_au_all[1] += results_au[1]\n",
    "    results_au_all[2] += results_au[2]\n",
    "    results_rand_all[0] += results_rand[0]\n",
    "    results_rand_all[1] += results_rand[1]\n",
    "    results_rand_all[2] += results_rand[2]\n",
    "    \n",
    "\n",
    "results_au_all[0] = results_au_all[0]/len(au_list)\n",
    "results_au_all[1] = results_au_all[1]/len(au_list)\n",
    "results_au_all[2] = results_au_all[2]/len(au_list)\n",
    "results_rand_all[0] = results_rand_all[0]/len(au_list)\n",
    "results_rand_all[1] = results_rand_all[1]/len(au_list)\n",
    "results_rand_all[2] = results_rand_all[2]/len(au_list)"
   ]
  },
  {
   "cell_type": "markdown",
   "metadata": {},
   "source": [
    "### LDA"
   ]
  },
  {
   "cell_type": "code",
   "execution_count": 15,
   "metadata": {
    "collapsed": true
   },
   "outputs": [],
   "source": [
    "from gensim import corpora, models, similarities\n",
    "from nltk.corpus import stopwords"
   ]
  },
  {
   "cell_type": "code",
   "execution_count": 16,
   "metadata": {
    "collapsed": true
   },
   "outputs": [],
   "source": [
    "# create a corpus to give to sklearn\n",
    "def create_sentence_list(df):\n",
    "    doc = []\n",
    "    stops = set(stopwords.words(\"english\"))\n",
    "    for line in df.Text.tolist():\n",
    "        line = process_sentence(line)\n",
    "        line = [word for word in line if word not in stops]\n",
    "        doc.append(line)  \n",
    "    return doc"
   ]
  },
  {
   "cell_type": "code",
   "execution_count": 17,
   "metadata": {
    "collapsed": true
   },
   "outputs": [],
   "source": [
    "def create_lda_input(sentences):\n",
    "    id2word = corpora.dictionary.Dictionary(sentences)\n",
    "    corpus = [id2word.doc2bow(sentence) for sentence in sentences]\n",
    "    return id2word, corpus"
   ]
  },
  {
   "cell_type": "code",
   "execution_count": 30,
   "metadata": {
    "collapsed": true
   },
   "outputs": [],
   "source": [
    "def calc_results_jsd(au_dist,rand_dist):\n",
    "    results_au = []\n",
    "    results_rand = []\n",
    "    for i in range(len(au_dist)):\n",
    "        for j in range(i, len(au_dist)):\n",
    "            results_au.append(JSD(au_dist[i], au_dist[j]))\n",
    "    results_au = bootstrap_resample(results_au)\n",
    "    for i in range(len(rand_dist)):\n",
    "        for j in range(i, len(rand_dist)):\n",
    "            results_rand.append(JSD(rand_dist[i], rand_dist[j]))\n",
    "    results_rand = bootstrap_resample(results_rand)\n",
    "    return results_au, results_rand"
   ]
  },
  {
   "cell_type": "code",
   "execution_count": 35,
   "metadata": {
    "collapsed": false
   },
   "outputs": [],
   "source": [
    "results_au_all_2 = [0,0,0]\n",
    "results_rand_all_2 = [0,0,0]\n",
    "for au in au_list:\n",
    "    df_Au = df[df.Author == au]\n",
    "    df_Rand = df.sample(len(df_Au))\n",
    "    \n",
    "    doc = create_sentence_list(df_Au)\n",
    "    id2word,corpus = create_lda_input(doc)\n",
    "    lda = models.ldamodel.LdaModel(corpus=corpus,id2word=id2word,num_topics=20)\n",
    "    au_dist = []\n",
    "    for i in range(len(doc)):\n",
    "        dist = lda.get_document_topics(id2word.doc2bow(doc[i]), minimum_probability = 0)\n",
    "        dist = [i[1] for i in dist]\n",
    "        au_dist.append(dist)\n",
    "\n",
    "    doc = create_sentence_list(df_Rand)\n",
    "    id2word,corpus = create_lda_input(doc)\n",
    "    lda = models.ldamodel.LdaModel(corpus=corpus,id2word=id2word,num_topics=10)\n",
    "    rand_dist = []\n",
    "    for i in range(len(doc)):\n",
    "        dist = lda.get_document_topics(id2word.doc2bow(doc[i]), minimum_probability = 0)\n",
    "        dist = [i[1] for i in dist]\n",
    "        rand_dist.append(dist)\n",
    "        \n",
    "    results_au, results_rand = calc_results_jsd(au_dist,rand_dist)\n",
    "    results_au_all_2[0] += results_au[0]\n",
    "    results_au_all_2[1] += results_au[1]\n",
    "    results_au_all_2[2] += results_au[2]\n",
    "    results_rand_all_2[0] += results_rand[0]\n",
    "    results_rand_all_2[1] += results_rand[1]\n",
    "    results_rand_all_2[2] += results_rand[2]\n",
    "    \n",
    "\n",
    "results_au_all_2[0] = results_au_all_2[0]/len(au_list)\n",
    "results_au_all_2[1] = results_au_all_2[1]/len(au_list)\n",
    "results_au_all_2[2] = results_au_all_2[2]/len(au_list)\n",
    "results_rand_all_2[0] = results_rand_all_2[0]/len(au_list)\n",
    "results_rand_all_2[1] = results_rand_all_2[1]/len(au_list)\n",
    "results_rand_all_2[2] = results_rand_all_2[2]/len(au_list)"
   ]
  },
  {
   "cell_type": "code",
   "execution_count": 36,
   "metadata": {
    "collapsed": false
   },
   "outputs": [
    {
     "name": "stderr",
     "output_type": "stream",
     "text": [
      "/Users/jingy/anaconda/envs/python35/lib/python3.5/site-packages/matplotlib/axes/_axes.py:519: UserWarning: No labelled objects found. Use label='...' kwarg on individual plots.\n",
      "  warnings.warn(\"No labelled objects found. \"\n"
     ]
    },
    {
     "data": {
      "image/png": "[encoded data removed]",
      "text/plain": [
       "<matplotlib.figure.Figure at 0x1199b3f28>"
      ]
     },
     "metadata": {},
     "output_type": "display_data"
    }
   ],
   "source": [
    "plot(results_au_all_2, results_rand_all_2, 'LDA')\n",
    "plt.savefig('comparison_lda_10au_jsd.pdf', type='pdf')"
   ]
  },
  {
   "cell_type": "markdown",
   "metadata": {},
   "source": [
    "### Doc2vec"
   ]
  },
  {
   "cell_type": "code",
   "execution_count": 20,
   "metadata": {
    "collapsed": true
   },
   "outputs": [],
   "source": [
    "from gensim import utils\n",
    "from gensim.models.doc2vec import LabeledSentence\n",
    "from gensim.models import doc2vec"
   ]
  },
  {
   "cell_type": "code",
   "execution_count": 21,
   "metadata": {
    "collapsed": false
   },
   "outputs": [],
   "source": [
    "def read_corpus(doc):\n",
    "    for i, line in enumerate(doc):\n",
    "        yield doc2vec.TaggedDocument(line,[i])"
   ]
  },
  {
   "cell_type": "code",
   "execution_count": 23,
   "metadata": {
    "collapsed": true
   },
   "outputs": [],
   "source": [
    "results_au_all_3 = [0,0,0]\n",
    "results_rand_all_3 = [0,0,0]\n",
    "for au in au_list:\n",
    "    df_Au = df[df.Author == au]\n",
    "    df_Rand = df.sample(len(df_Au))\n",
    "    \n",
    "    doc = create_sentence_list(df_Au)\n",
    "    corpus = list(read_corpus(doc))\n",
    "    model = doc2vec.Doc2Vec(corpus, size=100)\n",
    "    au_dist = []\n",
    "    for doc_id in range(len(corpus)):\n",
    "        inferred_vector = model.infer_vector(corpus[doc_id].words)\n",
    "        au_dist.append(inferred_vector)\n",
    "\n",
    "    doc = create_sentence_list(df_Rand)\n",
    "    corpus = list(read_corpus(doc))\n",
    "    model = doc2vec.Doc2Vec(corpus, size=100)\n",
    "    rand_dist = []\n",
    "    for doc_id in range(len(corpus)):\n",
    "        inferred_vector = model.infer_vector(corpus[doc_id].words)\n",
    "        rand_dist.append(inferred_vector)\n",
    "        \n",
    "    results_au, results_rand = calc_results(au_dist,rand_dist)\n",
    "    results_au_all_3[0] += results_au[0]\n",
    "    results_au_all_3[1] += results_au[1]\n",
    "    results_au_all_3[2] += results_au[2]\n",
    "    results_rand_all_3[0] += results_rand[0]\n",
    "    results_rand_all_3[1] += results_rand[1]\n",
    "    results_rand_all_3[2] += results_rand[2]\n",
    "    \n",
    "\n",
    "results_au_all_3[0] = results_au_all_3[0]/len(au_list)\n",
    "results_au_all_3[1] = results_au_all_3[1]/len(au_list)\n",
    "results_au_all_3[2] = results_au_all_3[2]/len(au_list)\n",
    "results_rand_all_3[0] = results_rand_all_3[0]/len(au_list)\n",
    "results_rand_all_3[1] = results_rand_all_3[1]/len(au_list)\n",
    "results_rand_all_3[2] = results_rand_all_3[2]/len(au_list)"
   ]
  },
  {
   "cell_type": "code",
   "execution_count": 33,
   "metadata": {
    "collapsed": true
   },
   "outputs": [],
   "source": [
    "def plt_multiple(l1_au,l1_rand,l2_au,l2_rand,l3_au,l3_rand):\n",
    "    plt.figure(figsize=(13,4))\n",
    "    plt.subplot(1, 3, 1)\n",
    "    lower_error1 = [l1_au[0] - l1_au[1]]\n",
    "    upper_error1 = [l1_au[2] - l1_au[0]]\n",
    "    lower_error2 = [l1_rand[0] - l1_rand[1]]\n",
    "    upper_error2 = [l1_rand[2] - l1_rand[0]]\n",
    "\n",
    "    asymmetric_error1 =[lower_error1,lower_error2 ]\n",
    "    asymmetric_error2 =[upper_error1, upper_error2]\n",
    "    p1 = [1, 2]\n",
    "    p2 = [l1_au[0], l1_rand[0]]\n",
    "\n",
    "    plt.errorbar(p1, p2, yerr=[asymmetric_error1, asymmetric_error2],fmt='o')\n",
    "    plt.xlim(0.5,2.5)\n",
    "    plt.ylim(0,1)\n",
    "    plt.legend(loc='lower right')\n",
    "    plt.xticks(p1, ['Same author', 'Multiple authors'])\n",
    "    plt.ylabel('tfidf', fontsize = 14)\n",
    "\n",
    "    plt.subplot(1, 3, 2)\n",
    "    lower_error1 = [l2_au[0] - l2_au[1]]\n",
    "    upper_error1 = [l2_au[2] - l2_au[0]]\n",
    "    lower_error2 = [l2_rand[0] - l2_rand[1]]\n",
    "    upper_error2 = [l2_rand[2] - l2_rand[0]]\n",
    "\n",
    "    asymmetric_error1 =[lower_error1,lower_error2 ]\n",
    "    asymmetric_error2 =[upper_error1, upper_error2]\n",
    "    p1 = [1, 2]\n",
    "    p2 = [l2_au[0], l2_rand[0]]\n",
    "\n",
    "    plt.errorbar(p1, p2, yerr=[asymmetric_error1, asymmetric_error2],fmt='o')\n",
    "    plt.xlim(0.5,2.5)\n",
    "    plt.ylim(0,1)\n",
    "    plt.legend(loc='lower right')\n",
    "    plt.xticks(p1, ['Same author', 'Multiple authors'])\n",
    "    plt.ylabel('LDA', fontsize = 14)\n",
    "\n",
    "    plt.subplot(1, 3, 3)\n",
    "    lower_error1 = [l3_au[0] - l3_au[1]]\n",
    "    upper_error1 = [l3_au[2] - l3_au[0]]\n",
    "    lower_error2 = [l3_rand[0] - l3_rand[1]]\n",
    "    upper_error2 = [l3_rand[2] - l3_rand[0]]\n",
    "\n",
    "    asymmetric_error1 =[lower_error1,lower_error2 ]\n",
    "    asymmetric_error2 =[upper_error1, upper_error2]\n",
    "    p1 = [1, 2]\n",
    "    p2 = [l3_au[0], l3_rand[0]]\n",
    "\n",
    "    plt.errorbar(p1, p2, yerr=[asymmetric_error1, asymmetric_error2],fmt='o')\n",
    "    plt.xlim(0.5,2.5)\n",
    "    plt.ylim(0,1)\n",
    "    plt.legend(loc='lower right')\n",
    "    plt.xticks(p1, ['Same author', 'Multiple authors'])\n",
    "    plt.ylabel('Doc2Vec', fontsize = 14)\n",
    "\n",
    "    plt.savefig('comparison_vec_10au.pdf', type='pdf')"
   ]
  },
  {
   "cell_type": "code",
   "execution_count": 34,
   "metadata": {
    "collapsed": false
   },
   "outputs": [
    {
     "name": "stderr",
     "output_type": "stream",
     "text": [
      "/Users/jingy/anaconda/envs/python35/lib/python3.5/site-packages/matplotlib/axes/_axes.py:519: UserWarning: No labelled objects found. Use label='...' kwarg on individual plots.\n",
      "  warnings.warn(\"No labelled objects found. \"\n"
     ]
    },
    {
     "data": {
      "image/png": "[encoded data removed]",
      "text/plain": [
       "<matplotlib.figure.Figure at 0x118fabc50>"
      ]
     },
     "metadata": {},
     "output_type": "display_data"
    }
   ],
   "source": [
    "plt_multiple(results_au_all,results_rand_all,results_au_all_2,results_rand_all_2,results_au_all_3,results_rand_all_3)"
   ]
  },
  {
   "cell_type": "code",
   "execution_count": null,
   "metadata": {
    "collapsed": true
   },
   "outputs": [],
   "source": []
  }
 ],
 "metadata": {
  "anaconda-cloud": {},
  "kernelspec": {
   "display_name": "Python [python35]",
   "language": "python",
   "name": "Python [python35]"
  },
  "language_info": {
   "codemirror_mode": {
    "name": "ipython",
    "version": 3
   },
   "file_extension": ".py",
   "mimetype": "text/x-python",
   "name": "python",
   "nbconvert_exporter": "python",
   "pygments_lexer": "ipython3",
   "version": "3.5.2"
  }
 },
 "nbformat": 4,
 "nbformat_minor": 0
}
