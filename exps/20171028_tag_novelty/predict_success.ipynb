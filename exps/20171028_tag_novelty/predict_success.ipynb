{
 "cells": [
  {
   "cell_type": "code",
   "execution_count": 18,
   "metadata": {
    "collapsed": true
   },
   "outputs": [],
   "source": [
    "import pandas as pd\n",
    "import os\n",
    "import matplotlib.pyplot as plt\n",
    "%matplotlib inline\n",
    "import numpy as np\n",
    "from collections import Counter\n",
    "import random\n",
    "from sklearn.ensemble import RandomForestClassifier\n",
    "from sklearn.metrics import classification_report\n",
    "from datetime import date\n",
    "from sklearn.feature_extraction.text import CountVectorizer\n"
   ]
  },
  {
   "cell_type": "code",
   "execution_count": 3,
   "metadata": {
    "collapsed": true
   },
   "outputs": [],
   "source": [
    "data_path = '../../data/tag_novelty/'"
   ]
  },
  {
   "cell_type": "code",
   "execution_count": 4,
   "metadata": {
    "collapsed": true
   },
   "outputs": [],
   "source": [
    "fandom_list = [n for n in os.listdir(data_path) if 'tsv' in n]"
   ]
  },
  {
   "cell_type": "code",
   "execution_count": 44,
   "metadata": {},
   "outputs": [
    {
     "data": {
      "text/plain": [
       "['arthurian_mythology_&_related_fandoms_tag_novelty.tsv',\n",
       " 'attack_on_titan_tag_novelty.tsv',\n",
       " 'bishoujo_senshi_sailor_moon_tag_novelty.tsv',\n",
       " 'buffy_the_vampire_slayer_tag_novelty.tsv',\n",
       " 'dcu_tag_novelty.tsv',\n",
       " 'doctor_who_&_related_fandoms_tag_novelty.tsv',\n",
       " 'dragon_age_all_media_types_tag_novelty.tsv',\n",
       " 'haikyuu_tag_novelty.tsv',\n",
       " 'harry_potter_tag_novelty.tsv',\n",
       " 'hetalia_axis_powers_tag_novelty.tsv',\n",
       " 'homestuck_tag_novelty.tsv',\n",
       " 'kuroko_no_basuke_tag_novelty.tsv',\n",
       " 'les_miserables_all_media_types_tag_novelty.tsv',\n",
       " 'marvel_tag_novelty.tsv',\n",
       " 'ms_paint_adventures_tag_novelty.tsv',\n",
       " 'naruto_tag_novelty.tsv',\n",
       " 'one_direction_tag_novelty.tsv',\n",
       " 'shakespare_william_works_tag_novelty.tsv',\n",
       " 'star_wars_all_media_types_tag_novelty.tsv',\n",
       " 'supernatural_tag_novelty.tsv',\n",
       " 'the_avengers_all_media_types_tag_novelty.tsv',\n",
       " 'the_walking_dead_&_related_fandoms_tag_novelty.tsv',\n",
       " 'tolkien_j_r_r_works_&_related_fandoms_tag_novelty.tsv']"
      ]
     },
     "execution_count": 44,
     "metadata": {},
     "output_type": "execute_result"
    }
   ],
   "source": [
    "fandom_list"
   ]
  },
  {
   "cell_type": "markdown",
   "metadata": {},
   "source": [
    "## Using other features + novelty"
   ]
  },
  {
   "cell_type": "code",
   "execution_count": 7,
   "metadata": {
    "collapsed": true
   },
   "outputs": [],
   "source": [
    "def date_today(cell):\n",
    "    if '-' in str(cell):\n",
    "        y, m, d = cell.split('-')\n",
    "        return abs(date.today() - date(int(y), int(m), int(d))).days"
   ]
  },
  {
   "cell_type": "code",
   "execution_count": 8,
   "metadata": {
    "collapsed": true
   },
   "outputs": [],
   "source": [
    "base_feat = ['Chapters', 'Words', 'PublishDate']\n",
    "base_nov_feat = ['Chapters', 'Words', 'PublishDate', 'tag_novelty']\n",
    "target = ['top_kudos']\n",
    "\n"
   ]
  },
  {
   "cell_type": "code",
   "execution_count": 9,
   "metadata": {},
   "outputs": [
    {
     "name": "stdout",
     "output_type": "stream",
     "text": [
      "3404\n",
      "1127\n",
      "3625 906\n",
      "             precision    recall  f1-score   support\n",
      "\n",
      "          0       1.00      1.00      1.00       697\n",
      "          1       1.00      1.00      1.00       209\n",
      "\n",
      "avg / total       1.00      1.00      1.00       906\n",
      "\n"
     ]
    },
    {
     "name": "stderr",
     "output_type": "stream",
     "text": [
      "/Users/jingy/anaconda/envs/python35/lib/python3.5/site-packages/ipykernel_launcher.py:22: DataConversionWarning: A column-vector y was passed when a 1d array was expected. Please change the shape of y to (n_samples,), for example using ravel().\n"
     ]
    }
   ],
   "source": [
    "df_all = []\n",
    "for fandom in fandom_list:\n",
    "    df = pd.read_csv(os.path.join(data_path, fandom_list[0]), sep = '\\t')\n",
    "    df['PublishDate'] = df.apply(lambda row: date_today(row['PublishDate']), axis = 1)\n",
    "    df['UpdateDate'] = df.apply(lambda row: date_today(row['UpdateDate']), axis = 1)\n",
    "    df = df.dropna(subset=['Kudos'])\n",
    "    top = np.percentile(df.Kudos.tolist(), 75)\n",
    "    df['top_kudos'] = df.apply(lambda row: 1 if row['Kudos'] > top else 0, axis=1)\n",
    "    df = df[base_nov_feat + target]\n",
    "    df_all.append(df)\n",
    "    \n",
    "df_all = pd.concat(df_all)\n",
    "df_all = df_all.reset_index()\n",
    "\n",
    "print(len(df_all[df_all.top_kudos == 0]))\n",
    "print(len(df_all[df_all.top_kudos == 1]))\n",
    "\n",
    "train = df_all.sample(frac=0.8, random_state=1)\n",
    "test = df_all.loc[~df_all.index.isin(train.index)]\n",
    "print(len(train), len(test))\n",
    "model = RandomForestClassifier()\n",
    "model.fit(train[base_feat], train[target])\n",
    "print(classification_report(test[target], model.predict(test[base_feat])))"
   ]
  },
  {
   "cell_type": "code",
   "execution_count": 61,
   "metadata": {},
   "outputs": [
    {
     "data": {
      "text/plain": [
       "0.3310810810810811"
      ]
     },
     "execution_count": 61,
     "metadata": {},
     "output_type": "execute_result"
    }
   ],
   "source": [
    "1127/3404"
   ]
  },
  {
   "cell_type": "code",
   "execution_count": 52,
   "metadata": {},
   "outputs": [
    {
     "name": "stderr",
     "output_type": "stream",
     "text": [
      "/Users/jingy/anaconda/envs/python35/lib/python3.5/site-packages/ipykernel_launcher.py:12: DataConversionWarning: A column-vector y was passed when a 1d array was expected. Please change the shape of y to (n_samples,), for example using ravel().\n",
      "  if sys.path[0] == '':\n",
      "/Users/jingy/anaconda/envs/python35/lib/python3.5/site-packages/ipykernel_launcher.py:12: DataConversionWarning: A column-vector y was passed when a 1d array was expected. Please change the shape of y to (n_samples,), for example using ravel().\n",
      "  if sys.path[0] == '':\n"
     ]
    },
    {
     "name": "stdout",
     "output_type": "stream",
     "text": [
      "             precision    recall  f1-score   support\n",
      "\n",
      "          0       0.79      0.97      0.87        31\n",
      "          1       0.00      0.00      0.00         8\n",
      "\n",
      "avg / total       0.63      0.77      0.69        39\n",
      "\n",
      "             precision    recall  f1-score   support\n",
      "\n",
      "          0       0.82      0.87      0.84        31\n",
      "          1       0.33      0.25      0.29         8\n",
      "\n",
      "avg / total       0.72      0.74      0.73        39\n",
      "\n"
     ]
    },
    {
     "name": "stderr",
     "output_type": "stream",
     "text": [
      "/Users/jingy/anaconda/envs/python35/lib/python3.5/site-packages/ipykernel_launcher.py:12: DataConversionWarning: A column-vector y was passed when a 1d array was expected. Please change the shape of y to (n_samples,), for example using ravel().\n",
      "  if sys.path[0] == '':\n",
      "/Users/jingy/anaconda/envs/python35/lib/python3.5/site-packages/ipykernel_launcher.py:12: DataConversionWarning: A column-vector y was passed when a 1d array was expected. Please change the shape of y to (n_samples,), for example using ravel().\n",
      "  if sys.path[0] == '':\n"
     ]
    },
    {
     "name": "stdout",
     "output_type": "stream",
     "text": [
      "             precision    recall  f1-score   support\n",
      "\n",
      "          0       0.80      0.90      0.85        31\n",
      "          1       0.25      0.12      0.17         8\n",
      "\n",
      "avg / total       0.69      0.74      0.71        39\n",
      "\n",
      "             precision    recall  f1-score   support\n",
      "\n",
      "          0       0.78      0.90      0.84        31\n",
      "          1       0.00      0.00      0.00         8\n",
      "\n",
      "avg / total       0.62      0.72      0.66        39\n",
      "\n"
     ]
    },
    {
     "name": "stderr",
     "output_type": "stream",
     "text": [
      "/Users/jingy/anaconda/envs/python35/lib/python3.5/site-packages/ipykernel_launcher.py:12: DataConversionWarning: A column-vector y was passed when a 1d array was expected. Please change the shape of y to (n_samples,), for example using ravel().\n",
      "  if sys.path[0] == '':\n",
      "/Users/jingy/anaconda/envs/python35/lib/python3.5/site-packages/ipykernel_launcher.py:12: DataConversionWarning: A column-vector y was passed when a 1d array was expected. Please change the shape of y to (n_samples,), for example using ravel().\n",
      "  if sys.path[0] == '':\n"
     ]
    },
    {
     "name": "stdout",
     "output_type": "stream",
     "text": [
      "             precision    recall  f1-score   support\n",
      "\n",
      "          0       0.79      0.97      0.87        31\n",
      "          1       0.00      0.00      0.00         8\n",
      "\n",
      "avg / total       0.63      0.77      0.69        39\n",
      "\n",
      "             precision    recall  f1-score   support\n",
      "\n",
      "          0       0.81      0.94      0.87        31\n",
      "          1       0.33      0.12      0.18         8\n",
      "\n",
      "avg / total       0.71      0.77      0.73        39\n",
      "\n"
     ]
    },
    {
     "name": "stderr",
     "output_type": "stream",
     "text": [
      "/Users/jingy/anaconda/envs/python35/lib/python3.5/site-packages/ipykernel_launcher.py:12: DataConversionWarning: A column-vector y was passed when a 1d array was expected. Please change the shape of y to (n_samples,), for example using ravel().\n",
      "  if sys.path[0] == '':\n",
      "/Users/jingy/anaconda/envs/python35/lib/python3.5/site-packages/ipykernel_launcher.py:12: DataConversionWarning: A column-vector y was passed when a 1d array was expected. Please change the shape of y to (n_samples,), for example using ravel().\n",
      "  if sys.path[0] == '':\n"
     ]
    },
    {
     "name": "stdout",
     "output_type": "stream",
     "text": [
      "             precision    recall  f1-score   support\n",
      "\n",
      "          0       0.78      0.90      0.84        31\n",
      "          1       0.00      0.00      0.00         8\n",
      "\n",
      "avg / total       0.62      0.72      0.66        39\n",
      "\n",
      "             precision    recall  f1-score   support\n",
      "\n",
      "          0       0.79      0.87      0.83        31\n",
      "          1       0.20      0.12      0.15         8\n",
      "\n",
      "avg / total       0.67      0.72      0.69        39\n",
      "\n"
     ]
    },
    {
     "name": "stderr",
     "output_type": "stream",
     "text": [
      "/Users/jingy/anaconda/envs/python35/lib/python3.5/site-packages/ipykernel_launcher.py:12: DataConversionWarning: A column-vector y was passed when a 1d array was expected. Please change the shape of y to (n_samples,), for example using ravel().\n",
      "  if sys.path[0] == '':\n",
      "/Users/jingy/anaconda/envs/python35/lib/python3.5/site-packages/ipykernel_launcher.py:12: DataConversionWarning: A column-vector y was passed when a 1d array was expected. Please change the shape of y to (n_samples,), for example using ravel().\n",
      "  if sys.path[0] == '':\n"
     ]
    },
    {
     "name": "stdout",
     "output_type": "stream",
     "text": [
      "             precision    recall  f1-score   support\n",
      "\n",
      "          0       0.82      1.00      0.90        31\n",
      "          1       1.00      0.12      0.22         8\n",
      "\n",
      "avg / total       0.85      0.82      0.76        39\n",
      "\n",
      "             precision    recall  f1-score   support\n",
      "\n",
      "          0       0.78      0.94      0.85        31\n",
      "          1       0.00      0.00      0.00         8\n",
      "\n",
      "avg / total       0.62      0.74      0.68        39\n",
      "\n"
     ]
    },
    {
     "name": "stderr",
     "output_type": "stream",
     "text": [
      "/Users/jingy/anaconda/envs/python35/lib/python3.5/site-packages/ipykernel_launcher.py:12: DataConversionWarning: A column-vector y was passed when a 1d array was expected. Please change the shape of y to (n_samples,), for example using ravel().\n",
      "  if sys.path[0] == '':\n",
      "/Users/jingy/anaconda/envs/python35/lib/python3.5/site-packages/ipykernel_launcher.py:12: DataConversionWarning: A column-vector y was passed when a 1d array was expected. Please change the shape of y to (n_samples,), for example using ravel().\n",
      "  if sys.path[0] == '':\n"
     ]
    },
    {
     "name": "stdout",
     "output_type": "stream",
     "text": [
      "             precision    recall  f1-score   support\n",
      "\n",
      "          0       0.78      0.90      0.84        31\n",
      "          1       0.00      0.00      0.00         8\n",
      "\n",
      "avg / total       0.62      0.72      0.66        39\n",
      "\n",
      "             precision    recall  f1-score   support\n",
      "\n",
      "          0       0.78      0.94      0.85        31\n",
      "          1       0.00      0.00      0.00         8\n",
      "\n",
      "avg / total       0.62      0.74      0.68        39\n",
      "\n"
     ]
    },
    {
     "name": "stderr",
     "output_type": "stream",
     "text": [
      "/Users/jingy/anaconda/envs/python35/lib/python3.5/site-packages/ipykernel_launcher.py:12: DataConversionWarning: A column-vector y was passed when a 1d array was expected. Please change the shape of y to (n_samples,), for example using ravel().\n",
      "  if sys.path[0] == '':\n",
      "/Users/jingy/anaconda/envs/python35/lib/python3.5/site-packages/sklearn/metrics/classification.py:1135: UndefinedMetricWarning: Precision and F-score are ill-defined and being set to 0.0 in labels with no predicted samples.\n",
      "  'precision', 'predicted', average, warn_for)\n",
      "/Users/jingy/anaconda/envs/python35/lib/python3.5/site-packages/ipykernel_launcher.py:12: DataConversionWarning: A column-vector y was passed when a 1d array was expected. Please change the shape of y to (n_samples,), for example using ravel().\n",
      "  if sys.path[0] == '':\n"
     ]
    },
    {
     "name": "stdout",
     "output_type": "stream",
     "text": [
      "             precision    recall  f1-score   support\n",
      "\n",
      "          0       0.79      1.00      0.89        31\n",
      "          1       0.00      0.00      0.00         8\n",
      "\n",
      "avg / total       0.63      0.79      0.70        39\n",
      "\n",
      "             precision    recall  f1-score   support\n",
      "\n",
      "          0       0.82      0.90      0.86        31\n",
      "          1       0.40      0.25      0.31         8\n",
      "\n",
      "avg / total       0.74      0.77      0.75        39\n",
      "\n"
     ]
    },
    {
     "name": "stderr",
     "output_type": "stream",
     "text": [
      "/Users/jingy/anaconda/envs/python35/lib/python3.5/site-packages/ipykernel_launcher.py:12: DataConversionWarning: A column-vector y was passed when a 1d array was expected. Please change the shape of y to (n_samples,), for example using ravel().\n",
      "  if sys.path[0] == '':\n",
      "/Users/jingy/anaconda/envs/python35/lib/python3.5/site-packages/ipykernel_launcher.py:12: DataConversionWarning: A column-vector y was passed when a 1d array was expected. Please change the shape of y to (n_samples,), for example using ravel().\n",
      "  if sys.path[0] == '':\n"
     ]
    },
    {
     "name": "stdout",
     "output_type": "stream",
     "text": [
      "             precision    recall  f1-score   support\n",
      "\n",
      "          0       0.79      0.97      0.87        31\n",
      "          1       0.00      0.00      0.00         8\n",
      "\n",
      "avg / total       0.63      0.77      0.69        39\n",
      "\n",
      "             precision    recall  f1-score   support\n",
      "\n",
      "          0       0.81      0.94      0.87        31\n",
      "          1       0.33      0.12      0.18         8\n",
      "\n",
      "avg / total       0.71      0.77      0.73        39\n",
      "\n"
     ]
    },
    {
     "name": "stderr",
     "output_type": "stream",
     "text": [
      "/Users/jingy/anaconda/envs/python35/lib/python3.5/site-packages/ipykernel_launcher.py:12: DataConversionWarning: A column-vector y was passed when a 1d array was expected. Please change the shape of y to (n_samples,), for example using ravel().\n",
      "  if sys.path[0] == '':\n",
      "/Users/jingy/anaconda/envs/python35/lib/python3.5/site-packages/ipykernel_launcher.py:12: DataConversionWarning: A column-vector y was passed when a 1d array was expected. Please change the shape of y to (n_samples,), for example using ravel().\n",
      "  if sys.path[0] == '':\n"
     ]
    },
    {
     "name": "stdout",
     "output_type": "stream",
     "text": [
      "             precision    recall  f1-score   support\n",
      "\n",
      "          0       0.79      0.97      0.87        31\n",
      "          1       0.00      0.00      0.00         8\n",
      "\n",
      "avg / total       0.63      0.77      0.69        39\n",
      "\n",
      "             precision    recall  f1-score   support\n",
      "\n",
      "          0       0.79      0.87      0.83        31\n",
      "          1       0.20      0.12      0.15         8\n",
      "\n",
      "avg / total       0.67      0.72      0.69        39\n",
      "\n"
     ]
    },
    {
     "name": "stderr",
     "output_type": "stream",
     "text": [
      "/Users/jingy/anaconda/envs/python35/lib/python3.5/site-packages/ipykernel_launcher.py:12: DataConversionWarning: A column-vector y was passed when a 1d array was expected. Please change the shape of y to (n_samples,), for example using ravel().\n",
      "  if sys.path[0] == '':\n",
      "/Users/jingy/anaconda/envs/python35/lib/python3.5/site-packages/ipykernel_launcher.py:12: DataConversionWarning: A column-vector y was passed when a 1d array was expected. Please change the shape of y to (n_samples,), for example using ravel().\n",
      "  if sys.path[0] == '':\n"
     ]
    },
    {
     "name": "stdout",
     "output_type": "stream",
     "text": [
      "             precision    recall  f1-score   support\n",
      "\n",
      "          0       0.81      0.97      0.88        31\n",
      "          1       0.50      0.12      0.20         8\n",
      "\n",
      "avg / total       0.75      0.79      0.74        39\n",
      "\n",
      "             precision    recall  f1-score   support\n",
      "\n",
      "          0       0.81      0.97      0.88        31\n",
      "          1       0.50      0.12      0.20         8\n",
      "\n",
      "avg / total       0.75      0.79      0.74        39\n",
      "\n"
     ]
    },
    {
     "name": "stderr",
     "output_type": "stream",
     "text": [
      "/Users/jingy/anaconda/envs/python35/lib/python3.5/site-packages/ipykernel_launcher.py:12: DataConversionWarning: A column-vector y was passed when a 1d array was expected. Please change the shape of y to (n_samples,), for example using ravel().\n",
      "  if sys.path[0] == '':\n",
      "/Users/jingy/anaconda/envs/python35/lib/python3.5/site-packages/ipykernel_launcher.py:12: DataConversionWarning: A column-vector y was passed when a 1d array was expected. Please change the shape of y to (n_samples,), for example using ravel().\n",
      "  if sys.path[0] == '':\n"
     ]
    },
    {
     "name": "stdout",
     "output_type": "stream",
     "text": [
      "             precision    recall  f1-score   support\n",
      "\n",
      "          0       0.81      0.97      0.88        31\n",
      "          1       0.50      0.12      0.20         8\n",
      "\n",
      "avg / total       0.75      0.79      0.74        39\n",
      "\n",
      "             precision    recall  f1-score   support\n",
      "\n",
      "          0       0.84      1.00      0.91        31\n",
      "          1       1.00      0.25      0.40         8\n",
      "\n",
      "avg / total       0.87      0.85      0.81        39\n",
      "\n",
      "             precision    recall  f1-score   support\n",
      "\n",
      "          0       0.78      0.94      0.85        31\n",
      "          1       0.00      0.00      0.00         8\n",
      "\n",
      "avg / total       0.62      0.74      0.68        39\n",
      "\n"
     ]
    },
    {
     "name": "stderr",
     "output_type": "stream",
     "text": [
      "/Users/jingy/anaconda/envs/python35/lib/python3.5/site-packages/ipykernel_launcher.py:12: DataConversionWarning: A column-vector y was passed when a 1d array was expected. Please change the shape of y to (n_samples,), for example using ravel().\n",
      "  if sys.path[0] == '':\n"
     ]
    }
   ],
   "source": [
    "for fandom in fandom_list:\n",
    "    df = pd.read_csv(os.path.join(data_path, fandom_list[0]), sep = '\\t')\n",
    "    df['PublishDate'] = df.apply(lambda row: date_today(row['PublishDate']), axis = 1)\n",
    "    df['UpdateDate'] = df.apply(lambda row: date_today(row['UpdateDate']), axis = 1)\n",
    "    df = df.dropna(subset=['Kudos'])\n",
    "    top = np.percentile(df.Kudos.tolist(), 75)\n",
    "    df['top_kudos'] = df.apply(lambda row: 1 if row['Kudos'] > top else 0, axis=1)\n",
    "    df = df[base_nov_feat + target]\n",
    "    train = df.sample(frac=0.8, random_state=1)\n",
    "    test = df.loc[~df.index.isin(train.index)]\n",
    "    model = RandomForestClassifier()\n",
    "    model.fit(train[base_nov_feat], train[target])\n",
    "    print(classification_report(test[target], model.predict(test[base_nov_feat])))"
   ]
  },
  {
   "cell_type": "code",
   "execution_count": 39,
   "metadata": {
    "collapsed": true
   },
   "outputs": [],
   "source": []
  },
  {
   "cell_type": "markdown",
   "metadata": {},
   "source": [
    "## Using only tags"
   ]
  },
  {
   "cell_type": "code",
   "execution_count": 28,
   "metadata": {
    "collapsed": true
   },
   "outputs": [],
   "source": [
    "def tokenize(word):\n",
    "    return [w.strip() for w in word.split(',')]"
   ]
  },
  {
   "cell_type": "code",
   "execution_count": 43,
   "metadata": {},
   "outputs": [
    {
     "name": "stdout",
     "output_type": "stream",
     "text": [
      "             precision    recall  f1-score   support\n",
      "\n",
      "          0       0.81      0.93      0.87       687\n",
      "          1       0.58      0.32      0.41       215\n",
      "\n",
      "avg / total       0.76      0.78      0.76       902\n",
      "\n",
      "0.0136470476426 slow burn\n",
      "0.0116281619734 romance\n",
      "0.00920187032128 hurt/comfort\n",
      "0.00916817350764 alternate universe\n",
      "0.00901038759284 angst\n",
      "0.00853373201975 fluff\n",
      "0.00718404849247 masturbation\n",
      "0.00650743296644 smut\n",
      "0.00616337209918 alternate universe - canon divergence\n",
      "0.00559526415932 alternate universe - modern setting\n",
      "0.00550366106665 mpreg\n",
      "0.00522780767934 humor\n",
      "0.00509917124581 au\n",
      "0.00496699111444 crossover\n",
      "0.00450599920589 drama\n",
      "0.00436523695737 alpha/beta/omega dynamics\n",
      "0.00429926325465 minor character death\n",
      "0.00411752503934 slow build\n",
      "0.00397971396322 friendship\n",
      "0.00388285946622 action/adventure\n"
     ]
    }
   ],
   "source": [
    "df_all = []\n",
    "for fandom in fandom_list:\n",
    "    df = pd.read_csv(os.path.join(data_path, fandom), sep = '\\t')\n",
    "    df = df.dropna(subset=['Kudos'])\n",
    "    top = np.percentile(df.Kudos.tolist(), 75)\n",
    "    df['top_kudos'] = df.apply(lambda row: 1 if row['Kudos'] > top else 0, axis=1)\n",
    "    df_all.append(df)\n",
    "    \n",
    "df = pd.concat(df_all).reset_index()\n",
    "    \n",
    "df_train = df.sample(frac=0.8, random_state=1)\n",
    "df_test = df.loc[~df.index.isin(train.index)]\n",
    "\n",
    "train_tags = df_train.AdditionalTags.tolist()\n",
    "train_labels = df_train.top_kudos.tolist()\n",
    "\n",
    "\n",
    "test_tags = df_test.AdditionalTags.tolist()\n",
    "test_labels = df_test.top_kudos.tolist()\n",
    "\n",
    "vectorizer = CountVectorizer(tokenizer=tokenize, min_df=2)\n",
    "train_vectors = vectorizer.fit_transform(train_tags)\n",
    "test_vectors = vectorizer.transform(test_tags)\n",
    "\n",
    "model = RandomForestClassifier()\n",
    "model.fit(train_vectors, train_labels)\n",
    "print(classification_report(test_labels, model.predict(test_vectors)))\n",
    "feat_rank = dict(zip(model.feature_importances_, vectorizer.get_feature_names()))\n",
    "for k in sorted(feat_rank, reverse=True)[0:20]:\n",
    "    print(k, feat_rank[k])\n",
    "\n",
    "\n",
    "# df_all = pd.concat(df_all)\n",
    "# df_all = df_all.reset_index()\n",
    "\n",
    "\n",
    "# train = df_all.sample(frac=0.8, random_state=1)\n",
    "# test = df_all.loc[~df_all.index.isin(train.index)]\n",
    "# print(len(train), len(test))\n",
    "# model = RandomForestClassifier()\n",
    "# model.fit(train[base_feat], train[target])\n",
    "# print(classification_report(test[target], model.predict(test[base_feat])))"
   ]
  },
  {
   "cell_type": "code",
   "execution_count": null,
   "metadata": {
    "collapsed": true
   },
   "outputs": [],
   "source": []
  }
 ],
 "metadata": {
  "kernelspec": {
   "display_name": "Python 3",
   "language": "python",
   "name": "python3"
  },
  "language_info": {
   "codemirror_mode": {
    "name": "ipython",
    "version": 3
   },
   "file_extension": ".py",
   "mimetype": "text/x-python",
   "name": "python",
   "nbconvert_exporter": "python",
   "pygments_lexer": "ipython3",
   "version": "3.5.2"
  }
 },
 "nbformat": 4,
 "nbformat_minor": 1
}
