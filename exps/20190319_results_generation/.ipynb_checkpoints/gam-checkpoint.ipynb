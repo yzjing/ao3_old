{
 "cells": [
  {
   "cell_type": "code",
   "execution_count": 1,
   "metadata": {},
   "outputs": [],
   "source": [
    "import pandas as pd\n",
    "import os\n",
    "import matplotlib.pyplot as plt\n",
    "%matplotlib inline\n",
    "import numpy as np\n",
    "from pygam import LinearGAM\n",
    "import statsmodels.api as sm\n",
    "from pygam.utils import generate_X_grid"
   ]
  },
  {
   "cell_type": "code",
   "execution_count": 9,
   "metadata": {},
   "outputs": [],
   "source": [
    "df_all = pd.read_csv('fanfic_regression_data_curated.tsv', sep = '\\t')"
   ]
  },
  {
   "cell_type": "code",
   "execution_count": 10,
   "metadata": {},
   "outputs": [
    {
     "data": {
      "text/plain": [
       "609752"
      ]
     },
     "execution_count": 10,
     "metadata": {},
     "output_type": "execute_result"
    }
   ],
   "source": [
    "len(df_all)"
   ]
  },
  {
   "cell_type": "markdown",
   "metadata": {},
   "source": [
    "### GAM"
   ]
  },
  {
   "cell_type": "code",
   "execution_count": 11,
   "metadata": {},
   "outputs": [],
   "source": [
    "# df_all = df_all.sort_values(by = 'Kudos')[:-5]\n",
    "# df_all = df_all.sort_values(by = 'Hits')[:-5]\n",
    "# df_all = df_all.sort_values(by = 'Comments')[:-5]\n",
    "# df_all = df_all.sort_values(by = 'Bookmarks')[:-5]"
   ]
  },
  {
   "cell_type": "code",
   "execution_count": 12,
   "metadata": {},
   "outputs": [],
   "source": [
    "# df_all = df_all.sample(int(len(df_all)/2))"
   ]
  },
  {
   "cell_type": "code",
   "execution_count": 13,
   "metadata": {},
   "outputs": [],
   "source": [
    "df_all = df_all.replace([np.inf, -np.inf], np.nan)\n",
    "df_all = df_all.dropna(how = 'any')"
   ]
  },
  {
   "cell_type": "code",
   "execution_count": 14,
   "metadata": {},
   "outputs": [
    {
     "data": {
      "text/plain": [
       "609752"
      ]
     },
     "execution_count": 14,
     "metadata": {},
     "output_type": "execute_result"
    }
   ],
   "source": [
    "len(df_all)"
   ]
  },
  {
   "cell_type": "code",
   "execution_count": 15,
   "metadata": {},
   "outputs": [],
   "source": [
    "# df_all['Kudos'] = np.log(df_all['Kudos'] + 0.001)\n",
    "# df_all['Hits'] = np.log(df_all['Hits'] + 0.001)\n",
    "# df_all['Comments'] = np.log(df_all['Comments'] + 1)\n",
    "# df_all['Bookmarks'] = np.log(df_all['Bookmarks'] + 0.001)"
   ]
  },
  {
   "cell_type": "code",
   "execution_count": 16,
   "metadata": {},
   "outputs": [],
   "source": [
    "X = df_all[['Chapters','Term_novelty', 'Topic_novelty',\n",
    "        'Category_F_M', 'Category_Gen', 'Category_M_M',\n",
    "       'Category_Multi', 'Category_Other', 'Category_Unknown',\n",
    "        'ArchiveWarnings_underage',\n",
    "       'ArchiveWarnings_death', 'ArchiveWarnings_choose_no',\n",
    "       'ArchiveWarnings_violence', 'ArchiveWarnings_noncon',\n",
    "       'author_fic_cnt',  'Rating_G', 'Rating_M', 'Rating_N',\n",
    "       'Rating_T', 'Freq_relationship',\n",
    "       'Fandom_dcu', 'Fandom_doctor_who', 'Fandom_star_wars',\n",
    "       'Fandom_arthurian', 'Fandom_supernatural', 'Fandom_haikyuu',\n",
    "       'Fandom_kuroko_no_basuke', 'Fandom_hamilton_miranda',\n",
    "       'Fandom_dragon_age', 'Fandom_the_walking_dead', 'Fandom_buffy',\n",
    "       'Fandom_les_miserables', 'Fandom_naruto', 'Fandom_tolkien',\n",
    "       'Fandom_shakespare', 'Fandom_hetalia', 'Fandom_attack_on_titan',\n",
    "       'Fandom_ms_paint_adventures', 'Fandom_marvel',\n",
    "       'Fandom_sailor_moon', 'Fandom_one_direction', 'Fandom_sherlock',\n",
    "       'History']]"
   ]
  },
  {
   "cell_type": "code",
   "execution_count": null,
   "metadata": {},
   "outputs": [],
   "source": [
    "# kwargs = {'n_splines': np.linspace(0,20,4)}\n",
    "# gam = LinearGAM(lam=10)\n",
    "# gam.gridsearch(X, df_all['Kudos'],**kwargs)\n",
    "# gam.summary()"
   ]
  },
  {
   "cell_type": "code",
   "execution_count": null,
   "metadata": {},
   "outputs": [],
   "source": [
    "gam_hits = LinearGAM(n_splines=20, lam=300).fit(X, df_all['Hits'])"
   ]
  },
  {
   "cell_type": "code",
   "execution_count": null,
   "metadata": {},
   "outputs": [],
   "source": [
    "gam_comments = LinearGAM(n_splines=20, lam=300).fit(X, df_all['Comments'])"
   ]
  },
  {
   "cell_type": "code",
   "execution_count": null,
   "metadata": {},
   "outputs": [],
   "source": [
    "gam_bookmarks = LinearGAM(n_splines=20, lam=300).fit(X, df_all['Bookmarks'])"
   ]
  },
  {
   "cell_type": "code",
   "execution_count": null,
   "metadata": {},
   "outputs": [],
   "source": [
    "gam_kudos = LinearGAM(n_splines=20, lam=300).fit(X, df_all['Kudos'])"
   ]
  },
  {
   "cell_type": "code",
   "execution_count": null,
   "metadata": {},
   "outputs": [],
   "source": [
    "\n",
    "plt.figure(figsize = (20, 5))\n",
    "plt.subplot(1,4,1)\n",
    "\n",
    "X1 = generate_X_grid(gam_kudos)\n",
    "pdep, confi = gam_kudos.partial_dependence(X1, feature=1, width=.95)\n",
    "plt.plot(X1[:, 1], pdep)\n",
    "plt.plot(X1[:, 1], confi[0][:, 0], c='grey', ls='--')\n",
    "plt.plot(X1[:, 1], confi[0][:, 1], c='grey', ls='--')\n",
    "plt.ylabel('Kudos', fontsize=15)\n",
    "plt.tick_params(labelsize=13)\n",
    "\n",
    "\n",
    "plt.subplot(1,4,2)\n",
    "\n",
    "X2 = generate_X_grid(gam_hits)\n",
    "pdep, confi = gam_hits.partial_dependence(X2, feature=1, width=.95)\n",
    "plt.plot(X2[:, 1], pdep)\n",
    "plt.plot(X2[:, 1], confi[0][:, 0], c='grey', ls='--')\n",
    "plt.plot(X2[:, 1], confi[0][:, 1], c='grey', ls='--')\n",
    "plt.ylabel('Hits', fontsize=15)\n",
    "plt.tick_params(labelsize=13)\n",
    "\n",
    "plt.subplot(1,4,3)\n",
    "\n",
    "X3 = generate_X_grid(gam_comments)\n",
    "pdep, confi = gam_comments.partial_dependence(X3, feature=1, width=.95)\n",
    "plt.plot(X3[:, 1], pdep)\n",
    "plt.plot(X3[:, 1], confi[0][:, 0], c='grey', ls='--')\n",
    "plt.plot(X3[:, 1], confi[0][:, 1], c='grey', ls='--')\n",
    "plt.ylabel('Comments', fontsize=15)\n",
    "plt.tick_params(labelsize=13)\n",
    "\n",
    "plt.subplot(1,4,4)\n",
    "\n",
    "X4 = generate_X_grid(gam_bookmarks)\n",
    "pdep, confi = gam_bookmarks.partial_dependence(X4, feature=1, width=.95)\n",
    "plt.plot(X4[:, 1], pdep)\n",
    "plt.plot(X4[:, 1], confi[0][:, 0], c='grey', ls='--')\n",
    "plt.plot(X4[:, 1], confi[0][:, 1], c='grey', ls='--')\n",
    "plt.ylabel('Bookmarks', fontsize=15)\n",
    "\n",
    "plt.tick_params(labelsize=13)\n",
    "\n",
    "plt.tight_layout()\n",
    "# plt.savefig('gam_results_term_20_300.pdf', type = 'pdf')"
   ]
  },
  {
   "cell_type": "code",
   "execution_count": null,
   "metadata": {},
   "outputs": [],
   "source": [
    "plt.figure(figsize = (20, 5))\n",
    "plt.subplot(1,4,1)\n",
    "\n",
    "X1 = generate_X_grid(gam_kudos)\n",
    "\n",
    "pdep, confi = gam_kudos.partial_dependence(X1, feature=2, width=.95)\n",
    "plt.plot(X1[:,2], pdep)\n",
    "plt.plot(X1[:,2], confi[0][:, 0], c='grey', ls='--')\n",
    "plt.plot(X1[:,2], confi[0][:, 1], c='grey', ls='--')\n",
    "plt.ylabel('Kudos', fontsize=15)\n",
    "plt.tick_params(labelsize=13)\n",
    "\n",
    "plt.subplot(1,4,2)\n",
    "\n",
    "X2 = generate_X_grid(gam_hits)\n",
    "pdep, confi = gam_hits.partial_dependence(X2, feature=2, width=.95)\n",
    "plt.plot(X2[:, 2], pdep)\n",
    "plt.plot(X2[:, 2], confi[0][:, 0], c='grey', ls='--')\n",
    "plt.plot(X2[:, 2], confi[0][:, 1], c='grey', ls='--')\n",
    "plt.ylabel('Hits', fontsize=15)\n",
    "plt.tick_params(labelsize=13)\n",
    "\n",
    "plt.subplot(1,4,3)\n",
    "\n",
    "X3 = generate_X_grid(gam_comments)\n",
    "pdep, confi = gam_comments.partial_dependence(X3, feature=2, width=.95)\n",
    "plt.plot(X3[:, 2], pdep)\n",
    "plt.plot(X3[:, 2], confi[0][:, 0], c='grey', ls='--')\n",
    "plt.plot(X3[:, 2], confi[0][:, 1], c='grey', ls='--')\n",
    "plt.ylabel('Comments', fontsize=15)\n",
    "plt.tick_params(labelsize=13)\n",
    "\n",
    "plt.subplot(1,4,4)\n",
    "\n",
    "X4 = generate_X_grid(gam_bookmarks)\n",
    "pdep, confi = gam_bookmarks.partial_dependence(X4, feature=2, width=.95)\n",
    "plt.plot(X4[:, 2], pdep)\n",
    "plt.plot(X4[:, 2], confi[0][:, 0], c='grey', ls='--')\n",
    "plt.plot(X4[:, 2], confi[0][:, 1], c='grey', ls='--')\n",
    "plt.ylabel('Bookmarks', fontsize=15)\n",
    "plt.tick_params(labelsize=13)\n",
    "\n",
    "    \n",
    "\n",
    "plt.tight_layout()\n",
    "# plt.savefig('gam_results_topic_20_300.pdf', type = 'pdf')"
   ]
  },
  {
   "cell_type": "code",
   "execution_count": null,
   "metadata": {},
   "outputs": [],
   "source": []
  },
  {
   "cell_type": "code",
   "execution_count": null,
   "metadata": {},
   "outputs": [],
   "source": []
  }
 ],
 "metadata": {
  "kernelspec": {
   "display_name": "Python 3",
   "language": "python",
   "name": "python3"
  },
  "language_info": {
   "codemirror_mode": {
    "name": "ipython",
    "version": 3
   },
   "file_extension": ".py",
   "mimetype": "text/x-python",
   "name": "python",
   "nbconvert_exporter": "python",
   "pygments_lexer": "ipython3",
   "version": "3.6.7"
  }
 },
 "nbformat": 4,
 "nbformat_minor": 2
}
