{
 "cells": [
  {
   "cell_type": "code",
   "execution_count": 1,
   "metadata": {},
   "outputs": [],
   "source": [
    "import pandas as pd\n",
    "import os\n",
    "import matplotlib.pyplot as plt\n",
    "%matplotlib inline\n",
    "import numpy as np\n",
    "import seaborn as sns\n",
    "from statsmodels.formula.api import ols\n",
    "import statsmodels.api as sm\n",
    "from sklearn.linear_model import LogisticRegression"
   ]
  },
  {
   "cell_type": "code",
   "execution_count": 2,
   "metadata": {},
   "outputs": [],
   "source": [
    "df_all = pd.read_csv('fanfic_regression_data_curated.tsv', sep = '\\t')"
   ]
  },
  {
   "cell_type": "code",
   "execution_count": 3,
   "metadata": {},
   "outputs": [
    {
     "data": {
      "text/plain": [
       "609812"
      ]
     },
     "execution_count": 3,
     "metadata": {},
     "output_type": "execute_result"
    }
   ],
   "source": [
    "len(df_all)"
   ]
  },
  {
   "cell_type": "code",
   "execution_count": 4,
   "metadata": {},
   "outputs": [],
   "source": [
    "df_all['ChapterIndex'].fillna(0, inplace=True)"
   ]
  },
  {
   "cell_type": "code",
   "execution_count": 5,
   "metadata": {},
   "outputs": [
    {
     "data": {
      "text/plain": [
       "0    0.577307\n",
       "1    0.657559\n",
       "2    0.581707\n",
       "3    0.675777\n",
       "4    0.679626\n",
       "Name: Topic_novelty, dtype: float64"
      ]
     },
     "execution_count": 5,
     "metadata": {},
     "output_type": "execute_result"
    }
   ],
   "source": [
    "df_all['Topic_novelty'].head()"
   ]
  },
  {
   "cell_type": "code",
   "execution_count": 6,
   "metadata": {},
   "outputs": [],
   "source": [
    "df_all = df_all.replace([np.inf, -np.inf], np.nan)\n",
    "df_all = df_all.fillna(0)\n",
    "term_ave = np.average(df_all['Term_novelty'])\n",
    "topic_ave = np.average(df_all['Topic_novelty'])\n",
    "df_all['Term_novelty_cent'] = df_all['Term_novelty'] - term_ave\n",
    "df_all['Topic_novelty_cent'] = df_all['Topic_novelty'] - topic_ave\n",
    "df_all['Term_novelty_squared'] = np.square(df_all['Term_novelty_cent'])\n",
    "df_all['Topic_novelty_squared'] = np.square(df_all['Topic_novelty_cent'])"
   ]
  },
  {
   "cell_type": "code",
   "execution_count": 7,
   "metadata": {},
   "outputs": [
    {
     "data": {
      "text/plain": [
       "0    0.000397\n",
       "1    0.003639\n",
       "2    0.000241\n",
       "3    0.006169\n",
       "4    0.006788\n",
       "Name: Topic_novelty_squared, dtype: float64"
      ]
     },
     "execution_count": 7,
     "metadata": {},
     "output_type": "execute_result"
    }
   ],
   "source": [
    "df_all['Topic_novelty_squared'].head()"
   ]
  },
  {
   "cell_type": "code",
   "execution_count": 8,
   "metadata": {},
   "outputs": [
    {
     "data": {
      "text/plain": [
       "609812"
      ]
     },
     "execution_count": 8,
     "metadata": {},
     "output_type": "execute_result"
    }
   ],
   "source": [
    "len(df_all)"
   ]
  },
  {
   "cell_type": "code",
   "execution_count": 9,
   "metadata": {},
   "outputs": [],
   "source": [
    "# from statsmodels.stats.outliers_influence import variance_inflation_factor\n"
   ]
  },
  {
   "cell_type": "code",
   "execution_count": 10,
   "metadata": {},
   "outputs": [],
   "source": [
    "# df_all = df_all.replace([np.inf, -np.inf], np.nan)\n",
    "# df_all = df_all.dropna(how = 'any')"
   ]
  },
  {
   "cell_type": "code",
   "execution_count": 11,
   "metadata": {},
   "outputs": [],
   "source": [
    "# df_all = df_all[['Chapters',\\\n",
    "#         'Term_novelty', 'Term_novelty_squared', 'Topic_novelty', 'Topic_novelty_squared',\\\n",
    "#         'Freq_relationship', 'Category_F_M',\\\n",
    "#        'Category_Gen', 'Category_M_M', 'Category_Multi', 'Category_Other','Category_Unknown', \\\n",
    "#        'ArchiveWarnings_underage', 'ArchiveWarnings_death',\\\n",
    "#        'ArchiveWarnings_choose_no', 'ArchiveWarnings_no_apply',\\\n",
    "#        'ArchiveWarnings_violence','ArchiveWarnings_noncon',\\\n",
    "#        'author_fic_cnt', 'Rating_G',\\\n",
    "#        'Rating_M', 'Rating_N', 'Rating_T',\\\n",
    "#        'Fandom_dcu', 'Fandom_doctor_who', 'Fandom_star_wars',\n",
    "#        'Fandom_arthurian', 'Fandom_supernatural', 'Fandom_haikyuu',\n",
    "#        'Fandom_kuroko_no_basuke', 'Fandom_hamilton_miranda',\n",
    "#        'Fandom_dragon_age', 'Fandom_the_walking_dead', 'Fandom_buffy',\n",
    "#        'Fandom_les_miserables', 'Fandom_naruto', 'Fandom_tolkien',\n",
    "#        'Fandom_shakespare', 'Fandom_hetalia', 'Fandom_attack_on_titan',\n",
    "#        'Fandom_ms_paint_adventures', 'Fandom_marvel',\n",
    "#        'Fandom_sailor_moon', 'Fandom_one_direction', 'Fandom_sherlock',\n",
    "#        'History']]"
   ]
  },
  {
   "cell_type": "code",
   "execution_count": 12,
   "metadata": {
    "scrolled": true
   },
   "outputs": [],
   "source": [
    "# for i in range(len(df_all.columns.values)):\n",
    "#     print(df_all.columns.values[i], variance_inflation_factor(df_all.values, i))"
   ]
  },
  {
   "cell_type": "markdown",
   "metadata": {},
   "source": [
    "### Logistic"
   ]
  },
  {
   "cell_type": "code",
   "execution_count": 13,
   "metadata": {},
   "outputs": [
    {
     "data": {
      "text/plain": [
       "array(['Bookmarks', 'ChapterIndex', 'Chapters', 'Comments', 'Hits',\n",
       "       'Kudos', 'Words', 'Term_novelty', 'Topic_novelty',\n",
       "       'Freq_relationship', 'Category_F_F', 'Category_F_M',\n",
       "       'Category_Gen', 'Category_M_M', 'Category_Multi', 'Category_Other',\n",
       "       'Category_Unknown', 'ArchiveWarnings_underage',\n",
       "       'ArchiveWarnings_death', 'ArchiveWarnings_choose_no',\n",
       "       'ArchiveWarnings_no_apply', 'ArchiveWarnings_violence',\n",
       "       'ArchiveWarnings_noncon', 'author_fic_cnt', 'Rating_E', 'Rating_G',\n",
       "       'Rating_M', 'Rating_N', 'Rating_T', 'Fandom_harry_potter',\n",
       "       'Fandom_dcu', 'Fandom_doctor_who', 'Fandom_star_wars',\n",
       "       'Fandom_arthurian', 'Fandom_supernatural', 'Fandom_haikyuu',\n",
       "       'Fandom_kuroko_no_basuke', 'Fandom_hamilton_miranda',\n",
       "       'Fandom_dragon_age', 'Fandom_the_walking_dead', 'Fandom_buffy',\n",
       "       'Fandom_les_miserables', 'Fandom_naruto', 'Fandom_tolkien',\n",
       "       'Fandom_shakespare', 'Fandom_hetalia', 'Fandom_attack_on_titan',\n",
       "       'Fandom_ms_paint_adventures', 'Fandom_marvel',\n",
       "       'Fandom_sailor_moon', 'Fandom_one_direction', 'Fandom_sherlock',\n",
       "       'History', 'Term_novelty_cent', 'Topic_novelty_cent',\n",
       "       'Term_novelty_squared', 'Topic_novelty_squared'], dtype=object)"
      ]
     },
     "execution_count": 13,
     "metadata": {},
     "output_type": "execute_result"
    }
   ],
   "source": [
    "df_all.columns.values"
   ]
  },
  {
   "cell_type": "code",
   "execution_count": 14,
   "metadata": {},
   "outputs": [],
   "source": [
    "def run_logit(df, field):\n",
    "    df['Intercept'] = 1.0\n",
    "    df['binary'] = df[field].apply(lambda x: 1 if x != 0.0 else 0)\n",
    "    logit_model = sm.Logit(df['binary'], df[['Chapters',\\\n",
    "        'Term_novelty', 'Term_novelty_squared', 'Topic_novelty', 'Topic_novelty_squared',\\\n",
    "        'Freq_relationship', 'Category_F_M',\\\n",
    "       'Category_Gen', 'Category_M_M', 'Category_Multi', 'Category_Other','Category_Unknown', \\\n",
    "       'ArchiveWarnings_underage', 'ArchiveWarnings_death',\\\n",
    "       'ArchiveWarnings_choose_no', 'ArchiveWarnings_noncon',\\\n",
    "       'ArchiveWarnings_violence',\\\n",
    "       'author_fic_cnt', 'Rating_G',\\\n",
    "       'Rating_M', 'Rating_N', 'Rating_T', \\\n",
    "       'Fandom_dcu', 'Fandom_doctor_who', 'Fandom_star_wars',\n",
    "       'Fandom_arthurian', 'Fandom_supernatural', 'Fandom_haikyuu',\n",
    "       'Fandom_kuroko_no_basuke', 'Fandom_hamilton_miranda',\n",
    "       'Fandom_dragon_age', 'Fandom_the_walking_dead', 'Fandom_buffy',\n",
    "       'Fandom_les_miserables', 'Fandom_naruto', 'Fandom_tolkien',\n",
    "       'Fandom_shakespare', 'Fandom_hetalia', 'Fandom_attack_on_titan',\n",
    "       'Fandom_ms_paint_adventures', 'Fandom_marvel',\n",
    "       'Fandom_sailor_moon', 'Fandom_one_direction', 'Fandom_sherlock', 'History',\n",
    "        'Intercept']]).fit(method='bfgs')\n",
    "    pred = logit_model.predict()\n",
    "    df['nonzero_prob'] = pred\n",
    "    return df"
   ]
  },
  {
   "cell_type": "markdown",
   "metadata": {},
   "source": [
    "### OLS"
   ]
  },
  {
   "cell_type": "code",
   "execution_count": 15,
   "metadata": {},
   "outputs": [],
   "source": [
    "def run_ols(df, field):\n",
    "    df = run_logit(df, field)\n",
    "    df = df[df[field] != 0]\n",
    "    df['Kudos'] = np.log(df['Kudos'])\n",
    "    df['Hits'] = np.log(df['Hits'])\n",
    "    df['Comments'] = np.log(df['Comments'])\n",
    "    df['Bookmarks'] = np.log(df['Bookmarks'])\n",
    "    df = df.replace([np.inf, -np.inf], np.nan)\n",
    "    df = df.dropna(how = 'any')\n",
    "    model = ols( field + \" ~ Term_novelty + Term_novelty_squared + Topic_novelty + Topic_novelty_squared\\\n",
    " + Chapters + Freq_relationship + author_fic_cnt\\\n",
    " + Category_Gen + Category_F_M + Category_M_M + Category_Multi + Category_Other + Category_Unknown \\\n",
    " + ArchiveWarnings_underage + ArchiveWarnings_death + ArchiveWarnings_violence +\\\n",
    " ArchiveWarnings_choose_no +\\\n",
    " ArchiveWarnings_noncon + Rating_N + Rating_E + Rating_M + Rating_T\\\n",
    " + Fandom_dcu + Fandom_doctor_who + Fandom_star_wars + Fandom_arthurian + \\\n",
    " Fandom_supernatural + Fandom_haikyuu + Fandom_kuroko_no_basuke + Fandom_hamilton_miranda\\\n",
    " + Fandom_dragon_age + Fandom_the_walking_dead + Fandom_buffy + Fandom_les_miserables \\\n",
    " + Fandom_naruto + Fandom_tolkien + Fandom_shakespare + Fandom_hetalia + \\\n",
    " Fandom_attack_on_titan + Fandom_ms_paint_adventures +\\\n",
    " Fandom_marvel + Fandom_sailor_moon + Fandom_one_direction + Fandom_sherlock  \\\n",
    " + nonzero_prob\", data = df).fit()\n",
    "    return model"
   ]
  },
  {
   "cell_type": "markdown",
   "metadata": {},
   "source": [
    "### Plot coefficients"
   ]
  },
  {
   "cell_type": "code",
   "execution_count": 16,
   "metadata": {},
   "outputs": [
    {
     "name": "stderr",
     "output_type": "stream",
     "text": [
      "/anaconda3/envs/python36/lib/python3.6/site-packages/statsmodels/discrete/discrete_model.py:1674: RuntimeWarning: overflow encountered in exp\n",
      "  return 1/(1+np.exp(-X))\n",
      "/anaconda3/envs/python36/lib/python3.6/site-packages/statsmodels/discrete/discrete_model.py:1724: RuntimeWarning: divide by zero encountered in log\n",
      "  return np.sum(np.log(self.cdf(q*np.dot(X,params))))\n",
      "/anaconda3/envs/python36/lib/python3.6/site-packages/statsmodels/discrete/discrete_model.py:1674: RuntimeWarning: overflow encountered in exp\n",
      "  return 1/(1+np.exp(-X))\n",
      "/anaconda3/envs/python36/lib/python3.6/site-packages/statsmodels/discrete/discrete_model.py:1724: RuntimeWarning: divide by zero encountered in log\n",
      "  return np.sum(np.log(self.cdf(q*np.dot(X,params))))\n"
     ]
    },
    {
     "name": "stdout",
     "output_type": "stream",
     "text": [
      "Warning: Maximum number of iterations has been exceeded.\n",
      "         Current function value: 0.079111\n",
      "         Iterations: 35\n",
      "         Function evaluations: 81\n",
      "         Gradient evaluations: 75\n"
     ]
    },
    {
     "name": "stderr",
     "output_type": "stream",
     "text": [
      "/anaconda3/envs/python36/lib/python3.6/site-packages/statsmodels/base/model.py:508: ConvergenceWarning: Maximum Likelihood optimization failed to converge. Check mle_retvals\n",
      "  \"Check mle_retvals\", ConvergenceWarning)\n",
      "/anaconda3/envs/python36/lib/python3.6/site-packages/ipykernel_launcher.py:4: SettingWithCopyWarning: \n",
      "A value is trying to be set on a copy of a slice from a DataFrame.\n",
      "Try using .loc[row_indexer,col_indexer] = value instead\n",
      "\n",
      "See the caveats in the documentation: http://pandas.pydata.org/pandas-docs/stable/indexing.html#indexing-view-versus-copy\n",
      "  after removing the cwd from sys.path.\n",
      "/anaconda3/envs/python36/lib/python3.6/site-packages/ipykernel_launcher.py:5: RuntimeWarning: divide by zero encountered in log\n",
      "  \"\"\"\n",
      "/anaconda3/envs/python36/lib/python3.6/site-packages/ipykernel_launcher.py:5: SettingWithCopyWarning: \n",
      "A value is trying to be set on a copy of a slice from a DataFrame.\n",
      "Try using .loc[row_indexer,col_indexer] = value instead\n",
      "\n",
      "See the caveats in the documentation: http://pandas.pydata.org/pandas-docs/stable/indexing.html#indexing-view-versus-copy\n",
      "  \"\"\"\n",
      "/anaconda3/envs/python36/lib/python3.6/site-packages/ipykernel_launcher.py:6: RuntimeWarning: divide by zero encountered in log\n",
      "  \n",
      "/anaconda3/envs/python36/lib/python3.6/site-packages/ipykernel_launcher.py:6: SettingWithCopyWarning: \n",
      "A value is trying to be set on a copy of a slice from a DataFrame.\n",
      "Try using .loc[row_indexer,col_indexer] = value instead\n",
      "\n",
      "See the caveats in the documentation: http://pandas.pydata.org/pandas-docs/stable/indexing.html#indexing-view-versus-copy\n",
      "  \n",
      "/anaconda3/envs/python36/lib/python3.6/site-packages/ipykernel_launcher.py:7: RuntimeWarning: divide by zero encountered in log\n",
      "  import sys\n",
      "/anaconda3/envs/python36/lib/python3.6/site-packages/ipykernel_launcher.py:7: SettingWithCopyWarning: \n",
      "A value is trying to be set on a copy of a slice from a DataFrame.\n",
      "Try using .loc[row_indexer,col_indexer] = value instead\n",
      "\n",
      "See the caveats in the documentation: http://pandas.pydata.org/pandas-docs/stable/indexing.html#indexing-view-versus-copy\n",
      "  import sys\n"
     ]
    }
   ],
   "source": [
    "kudos_model = run_ols(df_all, 'Kudos')\n",
    "kudos_coef = np.asarray(list(kudos_model.params)[1:-1])\n",
    "kudos_err = list(kudos_model.bse)[1:-1]"
   ]
  },
  {
   "cell_type": "code",
   "execution_count": 17,
   "metadata": {},
   "outputs": [],
   "source": [
    "ylabels =['Term novelty', 'Term novelty squared', 'Topic novelty', 'Topic novelty squared', 'Chapters', \\\n",
    " 'Frequent relationship',' Author work count', 'Words'\\\n",
    " 'Category (General)','Category (Female/Male)',' Category (Male/Male) ',' Category (Multiple)','Category (Other)','Category (Unknown)\\\n",
    " ','ArchiveWarnings (Underage)','ArchiveWarnings (Death)',' ArchiveWarnings (Violence)','ArchiveWarnings (Choose not to use)','\\\n",
    " ArchiveWarnings (Non-consensual sex)','Rating (Not rated)', 'Rating (Explicit)','Rating (Mature)',' Rating (Teens)\\\n",
    " ',' Fandom (DC) ',' Fandom (Doctor Who) ',' Fandom (Star Wars) ',' Fandom (Arthurian Mythologies)',\\\n",
    "  'Fandom (Supernatural)','Fandom (Haikyuu)',' Fandom (Kuroko no Basuke)',' Fandom (Hamilton (by Miranda))\\\n",
    " ',' Fandom (Dragon Age)',' Fandom (The Walking Dead)',' Fandom (Buffy the Vampire Slayer)','Fandom (Les Miserables)\\\n",
    " ',' Fandom (Naruto)','Fandom (Works of J.R.R.Tolkien)',' Fandom (Works of William Shakespare)','Fandom (Hetalia: Axis Powers)',' \\\n",
    " Fandom (Attack on Titan)',' Fandom (MS Paint Adventures)','\\\n",
    "Fandom (Marvel)',' Fandom (Sailor Moon)',' Fandom (One Direction)','Fandom (Sherlock Holmes)'][::-1]"
   ]
  },
  {
   "cell_type": "code",
   "execution_count": 18,
   "metadata": {},
   "outputs": [
    {
     "name": "stderr",
     "output_type": "stream",
     "text": [
      "/anaconda3/envs/python36/lib/python3.6/site-packages/statsmodels/discrete/discrete_model.py:1674: RuntimeWarning: overflow encountered in exp\n",
      "  return 1/(1+np.exp(-X))\n",
      "/anaconda3/envs/python36/lib/python3.6/site-packages/statsmodels/discrete/discrete_model.py:1724: RuntimeWarning: divide by zero encountered in log\n",
      "  return np.sum(np.log(self.cdf(q*np.dot(X,params))))\n",
      "/anaconda3/envs/python36/lib/python3.6/site-packages/statsmodels/discrete/discrete_model.py:1674: RuntimeWarning: overflow encountered in exp\n",
      "  return 1/(1+np.exp(-X))\n",
      "/anaconda3/envs/python36/lib/python3.6/site-packages/statsmodels/discrete/discrete_model.py:1724: RuntimeWarning: divide by zero encountered in log\n",
      "  return np.sum(np.log(self.cdf(q*np.dot(X,params))))\n",
      "/anaconda3/envs/python36/lib/python3.6/site-packages/statsmodels/discrete/discrete_model.py:1674: RuntimeWarning: overflow encountered in exp\n",
      "  return 1/(1+np.exp(-X))\n",
      "/anaconda3/envs/python36/lib/python3.6/site-packages/statsmodels/discrete/discrete_model.py:1724: RuntimeWarning: divide by zero encountered in log\n",
      "  return np.sum(np.log(self.cdf(q*np.dot(X,params))))\n",
      "/anaconda3/envs/python36/lib/python3.6/site-packages/statsmodels/discrete/discrete_model.py:1674: RuntimeWarning: overflow encountered in exp\n",
      "  return 1/(1+np.exp(-X))\n",
      "/anaconda3/envs/python36/lib/python3.6/site-packages/statsmodels/discrete/discrete_model.py:1724: RuntimeWarning: divide by zero encountered in log\n",
      "  return np.sum(np.log(self.cdf(q*np.dot(X,params))))\n"
     ]
    },
    {
     "name": "stdout",
     "output_type": "stream",
     "text": [
      "Warning: Desired error not necessarily achieved due to precision loss.\n",
      "         Current function value: 0.456073\n",
      "         Iterations: 1\n",
      "         Function evaluations: 26\n",
      "         Gradient evaluations: 12\n"
     ]
    },
    {
     "name": "stderr",
     "output_type": "stream",
     "text": [
      "/anaconda3/envs/python36/lib/python3.6/site-packages/statsmodels/base/model.py:508: ConvergenceWarning: Maximum Likelihood optimization failed to converge. Check mle_retvals\n",
      "  \"Check mle_retvals\", ConvergenceWarning)\n",
      "/anaconda3/envs/python36/lib/python3.6/site-packages/ipykernel_launcher.py:4: RuntimeWarning: divide by zero encountered in log\n",
      "  after removing the cwd from sys.path.\n",
      "/anaconda3/envs/python36/lib/python3.6/site-packages/ipykernel_launcher.py:4: SettingWithCopyWarning: \n",
      "A value is trying to be set on a copy of a slice from a DataFrame.\n",
      "Try using .loc[row_indexer,col_indexer] = value instead\n",
      "\n",
      "See the caveats in the documentation: http://pandas.pydata.org/pandas-docs/stable/indexing.html#indexing-view-versus-copy\n",
      "  after removing the cwd from sys.path.\n",
      "/anaconda3/envs/python36/lib/python3.6/site-packages/ipykernel_launcher.py:5: SettingWithCopyWarning: \n",
      "A value is trying to be set on a copy of a slice from a DataFrame.\n",
      "Try using .loc[row_indexer,col_indexer] = value instead\n",
      "\n",
      "See the caveats in the documentation: http://pandas.pydata.org/pandas-docs/stable/indexing.html#indexing-view-versus-copy\n",
      "  \"\"\"\n",
      "/anaconda3/envs/python36/lib/python3.6/site-packages/ipykernel_launcher.py:6: RuntimeWarning: divide by zero encountered in log\n",
      "  \n",
      "/anaconda3/envs/python36/lib/python3.6/site-packages/ipykernel_launcher.py:6: SettingWithCopyWarning: \n",
      "A value is trying to be set on a copy of a slice from a DataFrame.\n",
      "Try using .loc[row_indexer,col_indexer] = value instead\n",
      "\n",
      "See the caveats in the documentation: http://pandas.pydata.org/pandas-docs/stable/indexing.html#indexing-view-versus-copy\n",
      "  \n",
      "/anaconda3/envs/python36/lib/python3.6/site-packages/ipykernel_launcher.py:7: RuntimeWarning: divide by zero encountered in log\n",
      "  import sys\n",
      "/anaconda3/envs/python36/lib/python3.6/site-packages/ipykernel_launcher.py:7: SettingWithCopyWarning: \n",
      "A value is trying to be set on a copy of a slice from a DataFrame.\n",
      "Try using .loc[row_indexer,col_indexer] = value instead\n",
      "\n",
      "See the caveats in the documentation: http://pandas.pydata.org/pandas-docs/stable/indexing.html#indexing-view-versus-copy\n",
      "  import sys\n"
     ]
    }
   ],
   "source": [
    "hits_model = run_ols(df_all, 'Hits')\n",
    "hits_coef = list(hits_model.params)[1:-1]\n",
    "hits_err = list(hits_model.bse)[1:-1]"
   ]
  },
  {
   "cell_type": "code",
   "execution_count": 19,
   "metadata": {},
   "outputs": [
    {
     "name": "stderr",
     "output_type": "stream",
     "text": [
      "/anaconda3/envs/python36/lib/python3.6/site-packages/statsmodels/discrete/discrete_model.py:1674: RuntimeWarning: overflow encountered in exp\n",
      "  return 1/(1+np.exp(-X))\n",
      "/anaconda3/envs/python36/lib/python3.6/site-packages/statsmodels/discrete/discrete_model.py:1724: RuntimeWarning: divide by zero encountered in log\n",
      "  return np.sum(np.log(self.cdf(q*np.dot(X,params))))\n",
      "/anaconda3/envs/python36/lib/python3.6/site-packages/statsmodels/discrete/discrete_model.py:1674: RuntimeWarning: overflow encountered in exp\n",
      "  return 1/(1+np.exp(-X))\n",
      "/anaconda3/envs/python36/lib/python3.6/site-packages/statsmodels/discrete/discrete_model.py:1724: RuntimeWarning: divide by zero encountered in log\n",
      "  return np.sum(np.log(self.cdf(q*np.dot(X,params))))\n"
     ]
    },
    {
     "name": "stdout",
     "output_type": "stream",
     "text": [
      "Warning: Desired error not necessarily achieved due to precision loss.\n",
      "         Current function value: 0.693147\n",
      "         Iterations: 0\n",
      "         Function evaluations: 16\n",
      "         Gradient evaluations: 4\n"
     ]
    },
    {
     "name": "stderr",
     "output_type": "stream",
     "text": [
      "/anaconda3/envs/python36/lib/python3.6/site-packages/statsmodels/base/model.py:508: ConvergenceWarning: Maximum Likelihood optimization failed to converge. Check mle_retvals\n",
      "  \"Check mle_retvals\", ConvergenceWarning)\n",
      "/anaconda3/envs/python36/lib/python3.6/site-packages/ipykernel_launcher.py:4: RuntimeWarning: divide by zero encountered in log\n",
      "  after removing the cwd from sys.path.\n",
      "/anaconda3/envs/python36/lib/python3.6/site-packages/ipykernel_launcher.py:4: SettingWithCopyWarning: \n",
      "A value is trying to be set on a copy of a slice from a DataFrame.\n",
      "Try using .loc[row_indexer,col_indexer] = value instead\n",
      "\n",
      "See the caveats in the documentation: http://pandas.pydata.org/pandas-docs/stable/indexing.html#indexing-view-versus-copy\n",
      "  after removing the cwd from sys.path.\n",
      "/anaconda3/envs/python36/lib/python3.6/site-packages/ipykernel_launcher.py:5: RuntimeWarning: divide by zero encountered in log\n",
      "  \"\"\"\n",
      "/anaconda3/envs/python36/lib/python3.6/site-packages/ipykernel_launcher.py:5: SettingWithCopyWarning: \n",
      "A value is trying to be set on a copy of a slice from a DataFrame.\n",
      "Try using .loc[row_indexer,col_indexer] = value instead\n",
      "\n",
      "See the caveats in the documentation: http://pandas.pydata.org/pandas-docs/stable/indexing.html#indexing-view-versus-copy\n",
      "  \"\"\"\n",
      "/anaconda3/envs/python36/lib/python3.6/site-packages/ipykernel_launcher.py:6: SettingWithCopyWarning: \n",
      "A value is trying to be set on a copy of a slice from a DataFrame.\n",
      "Try using .loc[row_indexer,col_indexer] = value instead\n",
      "\n",
      "See the caveats in the documentation: http://pandas.pydata.org/pandas-docs/stable/indexing.html#indexing-view-versus-copy\n",
      "  \n",
      "/anaconda3/envs/python36/lib/python3.6/site-packages/ipykernel_launcher.py:7: RuntimeWarning: divide by zero encountered in log\n",
      "  import sys\n",
      "/anaconda3/envs/python36/lib/python3.6/site-packages/ipykernel_launcher.py:7: SettingWithCopyWarning: \n",
      "A value is trying to be set on a copy of a slice from a DataFrame.\n",
      "Try using .loc[row_indexer,col_indexer] = value instead\n",
      "\n",
      "See the caveats in the documentation: http://pandas.pydata.org/pandas-docs/stable/indexing.html#indexing-view-versus-copy\n",
      "  import sys\n"
     ]
    }
   ],
   "source": [
    "comments_model = run_ols(df_all, 'Comments')\n",
    "comments_coef = list(comments_model.params)[1:-1]\n",
    "comments_err = list(comments_model.bse)[1:-1]"
   ]
  },
  {
   "cell_type": "code",
   "execution_count": 20,
   "metadata": {},
   "outputs": [
    {
     "name": "stderr",
     "output_type": "stream",
     "text": [
      "/anaconda3/envs/python36/lib/python3.6/site-packages/statsmodels/discrete/discrete_model.py:1674: RuntimeWarning: overflow encountered in exp\n",
      "  return 1/(1+np.exp(-X))\n",
      "/anaconda3/envs/python36/lib/python3.6/site-packages/statsmodels/discrete/discrete_model.py:1724: RuntimeWarning: divide by zero encountered in log\n",
      "  return np.sum(np.log(self.cdf(q*np.dot(X,params))))\n",
      "/anaconda3/envs/python36/lib/python3.6/site-packages/statsmodels/discrete/discrete_model.py:1674: RuntimeWarning: overflow encountered in exp\n",
      "  return 1/(1+np.exp(-X))\n",
      "/anaconda3/envs/python36/lib/python3.6/site-packages/statsmodels/discrete/discrete_model.py:1724: RuntimeWarning: divide by zero encountered in log\n",
      "  return np.sum(np.log(self.cdf(q*np.dot(X,params))))\n"
     ]
    },
    {
     "name": "stdout",
     "output_type": "stream",
     "text": [
      "Warning: Maximum number of iterations has been exceeded.\n",
      "         Current function value: 0.421343\n",
      "         Iterations: 35\n",
      "         Function evaluations: 52\n",
      "         Gradient evaluations: 45\n"
     ]
    },
    {
     "name": "stderr",
     "output_type": "stream",
     "text": [
      "/anaconda3/envs/python36/lib/python3.6/site-packages/statsmodels/base/model.py:508: ConvergenceWarning: Maximum Likelihood optimization failed to converge. Check mle_retvals\n",
      "  \"Check mle_retvals\", ConvergenceWarning)\n",
      "/anaconda3/envs/python36/lib/python3.6/site-packages/ipykernel_launcher.py:4: RuntimeWarning: divide by zero encountered in log\n",
      "  after removing the cwd from sys.path.\n",
      "/anaconda3/envs/python36/lib/python3.6/site-packages/ipykernel_launcher.py:4: SettingWithCopyWarning: \n",
      "A value is trying to be set on a copy of a slice from a DataFrame.\n",
      "Try using .loc[row_indexer,col_indexer] = value instead\n",
      "\n",
      "See the caveats in the documentation: http://pandas.pydata.org/pandas-docs/stable/indexing.html#indexing-view-versus-copy\n",
      "  after removing the cwd from sys.path.\n",
      "/anaconda3/envs/python36/lib/python3.6/site-packages/ipykernel_launcher.py:5: RuntimeWarning: divide by zero encountered in log\n",
      "  \"\"\"\n",
      "/anaconda3/envs/python36/lib/python3.6/site-packages/ipykernel_launcher.py:5: SettingWithCopyWarning: \n",
      "A value is trying to be set on a copy of a slice from a DataFrame.\n",
      "Try using .loc[row_indexer,col_indexer] = value instead\n",
      "\n",
      "See the caveats in the documentation: http://pandas.pydata.org/pandas-docs/stable/indexing.html#indexing-view-versus-copy\n",
      "  \"\"\"\n",
      "/anaconda3/envs/python36/lib/python3.6/site-packages/ipykernel_launcher.py:6: RuntimeWarning: divide by zero encountered in log\n",
      "  \n",
      "/anaconda3/envs/python36/lib/python3.6/site-packages/ipykernel_launcher.py:6: SettingWithCopyWarning: \n",
      "A value is trying to be set on a copy of a slice from a DataFrame.\n",
      "Try using .loc[row_indexer,col_indexer] = value instead\n",
      "\n",
      "See the caveats in the documentation: http://pandas.pydata.org/pandas-docs/stable/indexing.html#indexing-view-versus-copy\n",
      "  \n",
      "/anaconda3/envs/python36/lib/python3.6/site-packages/ipykernel_launcher.py:7: SettingWithCopyWarning: \n",
      "A value is trying to be set on a copy of a slice from a DataFrame.\n",
      "Try using .loc[row_indexer,col_indexer] = value instead\n",
      "\n",
      "See the caveats in the documentation: http://pandas.pydata.org/pandas-docs/stable/indexing.html#indexing-view-versus-copy\n",
      "  import sys\n"
     ]
    }
   ],
   "source": [
    "bookmarks_model = run_ols(df_all, 'Bookmarks')\n",
    "bookmarks_coef = list(bookmarks_model.params)[1:-1]\n",
    "bookmarks_err = list(bookmarks_model.bse)[1:-1]"
   ]
  },
  {
   "cell_type": "code",
   "execution_count": 21,
   "metadata": {},
   "outputs": [],
   "source": [
    "from matplotlib import rc\n",
    "rc('font',**{'family':'sans-serif','sans-serif':['Helvetica']})\n",
    "rc('text', usetex=True)"
   ]
  },
  {
   "cell_type": "code",
   "execution_count": 22,
   "metadata": {},
   "outputs": [],
   "source": [
    "# fig, ax = plt.subplots(1,4,figsize = (15,15))\n",
    "# ax[0].errorbar(kudos_coef[::-1], range(len(kudos_coef)), xerr=kudos_err[::-1] , fmt='o')\n",
    "\n",
    "# ax[0].set_yticks(range(len(kudos_coef)))\n",
    "# ax[0].set_yticklabels(ylabels)\n",
    "# ax[0].plot([0 for i in range(len(kudos_coef)+2)], range(-1,len(kudos_coef)+1), c='grey', alpha = 0.7)\n",
    "# ax[0].plot(range(-8,8), [21.5 for i in range(-8,8)] ,c='grey', alpha = 0.7)\n",
    "# ax[0].plot(range(-8,8), [25.5 for i in range(-8,8)] ,c='grey', alpha = 0.7)\n",
    "# ax[0].plot(range(-8,8), [30.5 for i in range(-8,8)] ,c='grey', alpha = 0.7)\n",
    "# ax[0].plot(range(-8,8), [36.5 for i in range(-8,8)] ,c='grey', alpha = 0.7)\n",
    "# ax[0].plot(range(-8,8), [39.5 for i in range(-8,8)] ,c='grey', alpha = 0.7)\n",
    "# ax[0].set_ylim(-0.5,44.5)\n",
    "# ax[0].set_xlim(-3,6)\n",
    "# ax[0].set_xlabel('Kudos', fontsize=15)\n",
    "# ax[0].set_title('R-squared = 0.263', fontsize=15)\n",
    "# for tick in ax[0].yaxis.get_major_ticks():\n",
    "#     tick.label.set_fontsize(13)\n",
    "# for tick in ax[0].xaxis.get_major_ticks():\n",
    "#     tick.label.set_fontsize(13)\n",
    "    \n",
    "# ax[1].errorbar(hits_coef[::-1], range(len(hits_err)), xerr=hits_err[::-1], fmt='o')\n",
    "# ax[1].set_yticks(range(len(hits_coef)))\n",
    "# # ax[1].set_yticklabels(ylabels)\n",
    "# ax[1].plot([0 for i in range(len(hits_coef)+2)], range(-1,len(hits_coef)+1), c='grey', alpha = 0.7)\n",
    "# ax[1].plot(range(-8,10), [21.5 for i in range(-8,10)] ,c='grey', alpha = 0.7)\n",
    "# ax[1].plot(range(-8,10), [25.5 for i in range(-8,10)] ,c='grey', alpha = 0.7)\n",
    "# ax[1].plot(range(-8,10), [30.5 for i in range(-8,10)] ,c='grey', alpha = 0.7)\n",
    "# ax[1].plot(range(-8,10), [36.5 for i in range(-8,10)] ,c='grey', alpha = 0.7)\n",
    "# ax[1].plot(range(-8,10), [39.5 for i in range(-8,10)] ,c='grey', alpha = 0.7)\n",
    "# ax[1].set_ylim(-0.5,43.5)\n",
    "# ax[1].set_xlim(-3,8.5)\n",
    "# ax[1].set_yticklabels([])\n",
    "# ax[1].set_title('R-squared = 0.245', fontsize=15)\n",
    "# ax[1].set_xlabel('Hits', fontsize=15)\n",
    "# for tick in ax[1].xaxis.get_major_ticks():\n",
    "#     tick.label.set_fontsize(13)\n",
    "    \n",
    "# ax[2].errorbar(comments_coef[::-1], range(len(comments_err)), xerr=comments_err[::-1], fmt='o')\n",
    "# ax[2].set_yticks(range(len(comments_coef)))\n",
    "# ax[2].plot([0 for i in range(len(comments_coef)+2)], range(-1,len(comments_coef)+1), c='grey', alpha = 0.7)\n",
    "# ax[2].plot(range(-8,8), [21.5 for i in range(-8,8)] ,c='grey', alpha = 0.7)\n",
    "# ax[2].plot(range(-8,8), [25.5 for i in range(-8,8)] ,c='grey', alpha = 0.7)\n",
    "# ax[2].plot(range(-8,8), [30.5 for i in range(-8,8)] ,c='grey', alpha = 0.7)\n",
    "# ax[2].plot(range(-8,8), [36.5 for i in range(-8,8)] ,c='grey', alpha = 0.7)\n",
    "# ax[2].plot(range(-8,8), [39.5 for i in range(-8,8)] ,c='grey', alpha = 0.7)\n",
    "# ax[2].set_ylim(-0.5,43.5)\n",
    "# ax[2].set_xlim(-2,3)\n",
    "# ax[2].set_yticklabels([])\n",
    "# ax[2].set_title('R-squared = 0.065', fontsize=15)\n",
    "# ax[2].set_xlabel('Comments', fontsize=15)\n",
    "# for tick in ax[2].xaxis.get_major_ticks():\n",
    "#     tick.label.set_fontsize(13)\n",
    "\n",
    "# ax[3].errorbar(bookmarks_coef[::-1], range(len(bookmarks_err)), xerr=bookmarks_err[::-1], fmt='o')\n",
    "# ax[3].set_yticks(range(len(bookmarks_coef)))\n",
    "# ax[3].plot([0 for i in range(len(bookmarks_coef)+2)], range(-1,len(bookmarks_coef)+1), c='grey', alpha = 0.7)\n",
    "# ax[3].plot(range(-8,8), [21.5 for i in range(-8,8)] ,c='grey', alpha = 0.7)\n",
    "# ax[3].plot(range(-8,8), [25.5 for i in range(-8,8)] ,c='grey', alpha = 0.7)\n",
    "# ax[3].plot(range(-8,8), [30.5 for i in range(-8,8)] ,c='grey', alpha = 0.7)\n",
    "# ax[3].plot(range(-8,8), [36.5 for i in range(-8,8)] ,c='grey', alpha = 0.7)\n",
    "# ax[3].plot(range(-8,8), [39.5 for i in range(-8,8)] ,c='grey', alpha = 0.7)\n",
    "# ax[3].set_ylim(-0.5,43.5)\n",
    "# ax[3].set_xlim(-3,6)\n",
    "# ax[3].set_yticklabels([])\n",
    "# ax[3].set_title('R-squared =  0.271', fontsize=15)\n",
    "# ax[3].set_xlabel('Bookmarks', fontsize=15)\n",
    "# for tick in ax[2].xaxis.get_major_ticks():\n",
    "#     tick.label.set_fontsize(13)\n",
    "    \n",
    "# fig.text(0.55, 0.001, 'N = 609716', fontsize = 15)\n",
    "# plt.tight_layout()\n",
    "# # plt.savefig('ols_coefs_full_twoparts.pdf', format='pdf')"
   ]
  },
  {
   "cell_type": "code",
   "execution_count": 28,
   "metadata": {},
   "outputs": [
    {
     "data": {
      "image/png": "[encoded data removed]",
      "text/plain": [
       "<Figure size 1080x288 with 4 Axes>"
      ]
     },
     "metadata": {},
     "output_type": "display_data"
    }
   ],
   "source": [
    "fig, ax = plt.subplots(1,4,figsize = (15,4))\n",
    "ax[0].errorbar(kudos_coef[::-1], range(len(kudos_coef)), xerr=kudos_err[::-1] , fmt='o')\n",
    "\n",
    "ax[0].set_yticks(range(len(kudos_coef)))\n",
    "ax[0].set_yticklabels(ylabels)\n",
    "ax[0].plot([0 for i in range(len(kudos_coef)+2)], range(-1,len(kudos_coef)+1), c='grey', alpha = 0.7)\n",
    "ax[0].plot(range(-8,8), [39.5 for i in range(-8,8)] ,c='grey', alpha = 0.7, ls='dashed')\n",
    "ax[0].set_ylim(36.5,43.5)\n",
    "ax[0].set_xlim(-3,6)\n",
    "ax[0].set_xlabel('Kudos', fontsize=15)\n",
    "ax[0].set_title('$R^2 = 0.26$', fontsize=15)\n",
    "for tick in ax[0].yaxis.get_major_ticks():\n",
    "    tick.label.set_fontsize(13)\n",
    "for tick in ax[0].xaxis.get_major_ticks():\n",
    "    tick.label.set_fontsize(13)\n",
    "    \n",
    "ax[1].errorbar(hits_coef[::-1], range(len(hits_err)), xerr=hits_err[::-1], fmt='o')\n",
    "ax[1].set_yticks(range(len(hits_coef)))\n",
    "# ax[1].set_yticklabels(ylabels)\n",
    "ax[1].plot([0 for i in range(len(hits_coef)+2)], range(-1,len(hits_coef)+1), c='grey', alpha = 0.7)\n",
    "ax[1].plot(range(-8,10), [39.5 for i in range(-8,10)] ,c='grey', alpha = 0.7, ls='dashed')\n",
    "ax[1].set_ylim(36.5,43.5)\n",
    "ax[1].set_xlim(-3,8.5)\n",
    "ax[1].set_yticklabels([])\n",
    "ax[1].set_title('$R^2 = 0.25$', fontsize=15)\n",
    "ax[1].set_xlabel('Hits', fontsize=15)\n",
    "for tick in ax[1].xaxis.get_major_ticks():\n",
    "    tick.label.set_fontsize(13)\n",
    "    \n",
    "ax[2].errorbar(comments_coef[::-1], range(len(comments_err)), xerr=comments_err[::-1], fmt='o')\n",
    "ax[2].set_yticks(range(len(comments_coef)))\n",
    "ax[2].plot([0 for i in range(len(comments_coef)+2)], range(-1,len(comments_coef)+1), c='grey', alpha = 0.7)\n",
    "ax[2].plot(range(-8,8), [39.5 for i in range(-8,8)] ,c='grey', alpha = 0.7, ls='dashed')\n",
    "ax[2].set_ylim(36.5,43.5)\n",
    "ax[2].set_xlim(-2,3)\n",
    "ax[2].set_yticklabels([])\n",
    "ax[2].set_title('$R^2 = 0.07$', fontsize=15)\n",
    "ax[2].set_xlabel('Comments', fontsize=15)\n",
    "for tick in ax[2].xaxis.get_major_ticks():\n",
    "    tick.label.set_fontsize(13)\n",
    "\n",
    "ax[3].errorbar(bookmarks_coef[::-1], range(len(bookmarks_err)), xerr=bookmarks_err[::-1], fmt='o')\n",
    "ax[3].set_yticks(range(len(bookmarks_coef)))\n",
    "ax[3].plot([0 for i in range(len(bookmarks_coef)+2)], range(-1,len(bookmarks_coef)+1), c='grey', alpha = 0.7)\n",
    "ax[3].plot(range(-8,8), [39.5 for i in range(-8,8)] ,c='grey', alpha = 0.7, ls='dashed')\n",
    "ax[3].set_ylim(36.5,43.5)\n",
    "ax[3].set_xlim(-3,6)\n",
    "ax[3].set_yticklabels([])\n",
    "ax[3].set_title('$R^2 = 0.27$', fontsize=15)\n",
    "ax[3].set_xlabel('Bookmarks', fontsize=15)\n",
    "for tick in ax[2].xaxis.get_major_ticks():\n",
    "    tick.label.set_fontsize(13)\n",
    "    \n",
    "# fig.text(0.55, 0.001, 'N = 609716', fontsize = 15)\n",
    "plt.tight_layout()\n",
    "plt.savefig('ols_coefs_partial_twoparts.pdf', format='pdf')"
   ]
  },
  {
   "cell_type": "code",
   "execution_count": 24,
   "metadata": {},
   "outputs": [
    {
     "name": "stdout",
     "output_type": "stream",
     "text": [
      "                            OLS Regression Results                            \n",
      "==============================================================================\n",
      "Dep. Variable:                  Kudos   R-squared:                       0.259\n",
      "Model:                            OLS   Adj. R-squared:                  0.259\n",
      "Method:                 Least Squares   F-statistic:                     2227.\n",
      "Date:                Wed, 01 May 2019   Prob (F-statistic):               0.00\n",
      "Time:                        16:44:43   Log-Likelihood:            -4.4575e+05\n",
      "No. Observations:              287139   AIC:                         8.916e+05\n",
      "Df Residuals:                  287093   BIC:                         8.921e+05\n",
      "Df Model:                          45                                         \n",
      "Covariance Type:            nonrobust                                         \n",
      "==============================================================================================\n",
      "                                 coef    std err          t      P>|t|      [0.025      0.975]\n",
      "----------------------------------------------------------------------------------------------\n",
      "Intercept                      9.9065      0.204     48.590      0.000       9.507      10.306\n",
      "Term_novelty                  -0.2752      0.008    -35.322      0.000      -0.290      -0.260\n",
      "Term_novelty_squared          -0.4867      0.043    -11.266      0.000      -0.571      -0.402\n",
      "Topic_novelty                 -0.8155      0.055    -14.918      0.000      -0.923      -0.708\n",
      "Topic_novelty_squared          3.0603      0.648      4.721      0.000       1.790       4.331\n",
      "Chapters                      -0.0085   5.51e-05   -153.607      0.000      -0.009      -0.008\n",
      "Freq_relationship              0.3234      0.006     56.882      0.000       0.312       0.335\n",
      "author_fic_cnt              9.781e-07   2.36e-06      0.415      0.678   -3.64e-06     5.6e-06\n",
      "Category_Gen                  -0.2639      0.006    -40.959      0.000      -0.277      -0.251\n",
      "Category_F_M                  -0.3241      0.006    -56.440      0.000      -0.335      -0.313\n",
      "Category_M_M                   0.2191      0.007     29.898      0.000       0.205       0.233\n",
      "Category_Multi                -0.2615      0.008    -32.124      0.000      -0.277      -0.246\n",
      "Category_Other                -0.2363      0.014    -17.329      0.000      -0.263      -0.210\n",
      "Category_Unknown              -0.5546      0.015    -37.867      0.000      -0.583      -0.526\n",
      "ArchiveWarnings_underage       0.0309      0.012      2.519      0.012       0.007       0.055\n",
      "ArchiveWarnings_death         -0.4632      0.010    -48.132      0.000      -0.482      -0.444\n",
      "ArchiveWarnings_violence      -0.4941      0.008    -62.611      0.000      -0.510      -0.479\n",
      "ArchiveWarnings_choose_no     -0.3002      0.005    -64.430      0.000      -0.309      -0.291\n",
      "ArchiveWarnings_noncon        -0.1328      0.011    -11.900      0.000      -0.155      -0.111\n",
      "Rating_N                      -0.3793      0.009    -43.749      0.000      -0.396      -0.362\n",
      "Rating_E                      -0.2934      0.008    -39.068      0.000      -0.308      -0.279\n",
      "Rating_M                      -0.4748      0.007    -64.298      0.000      -0.489      -0.460\n",
      "Rating_T                      -0.3529      0.006    -55.743      0.000      -0.365      -0.340\n",
      "Fandom_dcu                     0.4536      0.012     36.333      0.000       0.429       0.478\n",
      "Fandom_doctor_who             -0.5204      0.015    -34.746      0.000      -0.550      -0.491\n",
      "Fandom_star_wars               0.3885      0.016     24.835      0.000       0.358       0.419\n",
      "Fandom_arthurian               0.0848      0.017      5.099      0.000       0.052       0.117\n",
      "Fandom_supernatural           -0.0571      0.011     -5.266      0.000      -0.078      -0.036\n",
      "Fandom_haikyuu                 0.3265      0.017     19.530      0.000       0.294       0.359\n",
      "Fandom_kuroko_no_basuke        0.2491      0.020     12.245      0.000       0.209       0.289\n",
      "Fandom_hamilton_miranda       -0.1199      0.032     -3.707      0.000      -0.183      -0.057\n",
      "Fandom_dragon_age             -0.1553      0.013    -11.530      0.000      -0.182      -0.129\n",
      "Fandom_the_walking_dead       -0.2495      0.018    -13.709      0.000      -0.285      -0.214\n",
      "Fandom_buffy                  -0.7150      0.025    -28.097      0.000      -0.765      -0.665\n",
      "Fandom_les_miserables          0.0098      0.023      0.429      0.668      -0.035       0.055\n",
      "Fandom_naruto                 -0.1191      0.025     -4.694      0.000      -0.169      -0.069\n",
      "Fandom_tolkien                 0.0252      0.013      1.881      0.060      -0.001       0.051\n",
      "Fandom_shakespare             -0.4761      0.092     -5.195      0.000      -0.656      -0.296\n",
      "Fandom_hetalia                -0.4969      0.022    -22.993      0.000      -0.539      -0.455\n",
      "Fandom_attack_on_titan         0.1027      0.014      7.095      0.000       0.074       0.131\n",
      "Fandom_ms_paint_adventures     0.0009      0.013      0.071      0.944      -0.025       0.027\n",
      "Fandom_marvel                  0.5852      0.010     57.383      0.000       0.565       0.605\n",
      "Fandom_sailor_moon            -0.7180      0.077     -9.292      0.000      -0.869      -0.567\n",
      "Fandom_one_direction          -0.3062      0.018    -16.689      0.000      -0.342      -0.270\n",
      "Fandom_sherlock               -0.0002      0.011     -0.017      0.987      -0.021       0.021\n",
      "nonzero_prob                  -6.0294      0.211    -28.514      0.000      -6.444      -5.615\n",
      "==============================================================================\n",
      "Omnibus:                      505.694   Durbin-Watson:                   1.420\n",
      "Prob(Omnibus):                  0.000   Jarque-Bera (JB):              611.113\n",
      "Skew:                          -0.028   Prob(JB):                    1.99e-133\n",
      "Kurtosis:                       3.219   Cond. No.                     2.81e+05\n",
      "==============================================================================\n",
      "\n",
      "Warnings:\n",
      "[1] Standard Errors assume that the covariance matrix of the errors is correctly specified.\n",
      "[2] The condition number is large, 2.81e+05. This might indicate that there are\n",
      "strong multicollinearity or other numerical problems.\n"
     ]
    }
   ],
   "source": [
    "print(kudos_model.summary())"
   ]
  },
  {
   "cell_type": "code",
   "execution_count": 25,
   "metadata": {},
   "outputs": [
    {
     "name": "stdout",
     "output_type": "stream",
     "text": [
      "                            OLS Regression Results                            \n",
      "==============================================================================\n",
      "Dep. Variable:                   Hits   R-squared:                       0.245\n",
      "Model:                            OLS   Adj. R-squared:                  0.245\n",
      "Method:                 Least Squares   F-statistic:                     2069.\n",
      "Date:                Wed, 01 May 2019   Prob (F-statistic):               0.00\n",
      "Time:                        16:44:43   Log-Likelihood:            -4.2437e+05\n",
      "No. Observations:              287139   AIC:                         8.488e+05\n",
      "Df Residuals:                  287093   BIC:                         8.493e+05\n",
      "Df Model:                          45                                         \n",
      "Covariance Type:            nonrobust                                         \n",
      "==============================================================================================\n",
      "                                 coef    std err          t      P>|t|      [0.025      0.975]\n",
      "----------------------------------------------------------------------------------------------\n",
      "Intercept                  -6.971e+05   5781.677   -120.573      0.000   -7.08e+05   -6.86e+05\n",
      "Term_novelty                  -0.1720      0.007    -23.793      0.000      -0.186      -0.158\n",
      "Term_novelty_squared          -0.6169      0.040    -15.385      0.000      -0.695      -0.538\n",
      "Topic_novelty                 -0.4745      0.051     -9.357      0.000      -0.574      -0.375\n",
      "Topic_novelty_squared          3.6966      0.602      6.142      0.000       2.517       4.876\n",
      "Chapters                      -0.0059   5.09e-05   -115.651      0.000      -0.006      -0.006\n",
      "Freq_relationship              0.2591      0.005     56.291      0.000       0.250       0.268\n",
      "author_fic_cnt              1.344e-05   2.19e-06      6.129      0.000    9.14e-06    1.77e-05\n",
      "Category_Gen                  -0.2081      0.006    -35.188      0.000      -0.220      -0.196\n",
      "Category_F_M                  -0.2024      0.005    -40.535      0.000      -0.212      -0.193\n",
      "Category_M_M                   0.0836      0.005     15.473      0.000       0.073       0.094\n",
      "Category_Multi                -0.0871      0.008    -11.512      0.000      -0.102      -0.072\n",
      "Category_Other                -0.1516      0.013    -11.984      0.000      -0.176      -0.127\n",
      "Category_Unknown              -0.2641      0.012    -22.257      0.000      -0.287      -0.241\n",
      "ArchiveWarnings_underage       0.1894      0.011     16.640      0.000       0.167       0.212\n",
      "ArchiveWarnings_death         -0.3545      0.009    -39.695      0.000      -0.372      -0.337\n",
      "ArchiveWarnings_violence      -0.4088      0.007    -55.761      0.000      -0.423      -0.394\n",
      "ArchiveWarnings_choose_no     -0.1647      0.004    -38.334      0.000      -0.173      -0.156\n",
      "ArchiveWarnings_noncon         0.1254      0.010     12.110      0.000       0.105       0.146\n",
      "Rating_N                      -0.3329      0.008    -41.340      0.000      -0.349      -0.317\n",
      "Rating_E                       0.0571      0.007      8.190      0.000       0.043       0.071\n",
      "Rating_M                      -0.3050      0.007    -44.898      0.000      -0.318      -0.292\n",
      "Rating_T                      -0.2303      0.006    -39.788      0.000      -0.242      -0.219\n",
      "Fandom_dcu                     0.3531      0.012     30.642      0.000       0.331       0.376\n",
      "Fandom_doctor_who             -0.5930      0.014    -42.914      0.000      -0.620      -0.566\n",
      "Fandom_star_wars               0.2654      0.015     17.999      0.000       0.236       0.294\n",
      "Fandom_arthurian               0.0979      0.015      6.344      0.000       0.068       0.128\n",
      "Fandom_supernatural           -0.2662      0.010    -26.453      0.000      -0.286      -0.246\n",
      "Fandom_haikyuu                -0.2263      0.016    -14.563      0.000      -0.257      -0.196\n",
      "Fandom_kuroko_no_basuke       -0.2062      0.019    -10.925      0.000      -0.243      -0.169\n",
      "Fandom_hamilton_miranda        0.0515      0.031      1.681      0.093      -0.009       0.112\n",
      "Fandom_dragon_age             -0.6125      0.012    -49.198      0.000      -0.637      -0.588\n",
      "Fandom_the_walking_dead       -0.3881      0.017    -23.003      0.000      -0.421      -0.355\n",
      "Fandom_buffy                  -0.6120      0.024    -25.954      0.000      -0.658      -0.566\n",
      "Fandom_les_miserables         -0.2837      0.021    -13.351      0.000      -0.325      -0.242\n",
      "Fandom_naruto                 -0.2979      0.024    -12.647      0.000      -0.344      -0.252\n",
      "Fandom_tolkien                 0.0153      0.012      1.231      0.218      -0.009       0.040\n",
      "Fandom_shakespare             -0.8725      0.085    -10.255      0.000      -1.039      -0.706\n",
      "Fandom_hetalia                -0.8199      0.020    -40.879      0.000      -0.859      -0.781\n",
      "Fandom_attack_on_titan        -0.3122      0.013    -23.244      0.000      -0.339      -0.286\n",
      "Fandom_ms_paint_adventures    -0.3480      0.012    -28.179      0.000      -0.372      -0.324\n",
      "Fandom_marvel                  0.3631      0.009     39.771      0.000       0.345       0.381\n",
      "Fandom_sailor_moon            -0.7368      0.072    -10.272      0.000      -0.877      -0.596\n",
      "Fandom_one_direction          -0.2266      0.017    -13.311      0.000      -0.260      -0.193\n",
      "Fandom_sherlock               -0.0545      0.010     -5.423      0.000      -0.074      -0.035\n",
      "nonzero_prob                6.971e+05   5781.679    120.574      0.000    6.86e+05    7.08e+05\n",
      "==============================================================================\n",
      "Omnibus:                      402.465   Durbin-Watson:                   1.355\n",
      "Prob(Omnibus):                  0.000   Jarque-Bera (JB):              479.236\n",
      "Skew:                           0.021   Prob(JB):                    8.62e-105\n",
      "Kurtosis:                       3.196   Cond. No.                     3.81e+09\n",
      "==============================================================================\n",
      "\n",
      "Warnings:\n",
      "[1] Standard Errors assume that the covariance matrix of the errors is correctly specified.\n",
      "[2] The condition number is large, 3.81e+09. This might indicate that there are\n",
      "strong multicollinearity or other numerical problems.\n"
     ]
    }
   ],
   "source": [
    "print(hits_model.summary())"
   ]
  },
  {
   "cell_type": "code",
   "execution_count": 26,
   "metadata": {},
   "outputs": [
    {
     "name": "stdout",
     "output_type": "stream",
     "text": [
      "                            OLS Regression Results                            \n",
      "==============================================================================\n",
      "Dep. Variable:               Comments   R-squared:                       0.065\n",
      "Model:                            OLS   Adj. R-squared:                  0.065\n",
      "Method:                 Least Squares   F-statistic:                     451.7\n",
      "Date:                Wed, 01 May 2019   Prob (F-statistic):               0.00\n",
      "Time:                        16:44:43   Log-Likelihood:            -3.7862e+05\n",
      "No. Observations:              287139   AIC:                         7.573e+05\n",
      "Df Residuals:                  287094   BIC:                         7.578e+05\n",
      "Df Model:                          44                                         \n",
      "Covariance Type:            nonrobust                                         \n",
      "==============================================================================================\n",
      "                                 coef    std err          t      P>|t|      [0.025      0.975]\n",
      "----------------------------------------------------------------------------------------------\n",
      "Intercept                      1.2022      0.023     53.096      0.000       1.158       1.247\n",
      "Term_novelty                  -0.0751      0.006    -12.188      0.000      -0.087      -0.063\n",
      "Term_novelty_squared           0.4165      0.034     12.187      0.000       0.350       0.483\n",
      "Topic_novelty                 -0.6912      0.043    -15.989      0.000      -0.776      -0.606\n",
      "Topic_novelty_squared          1.2226      0.513      2.383      0.017       0.217       2.228\n",
      "Chapters                       0.0010   4.33e-05     22.256      0.000       0.001       0.001\n",
      "Freq_relationship              0.1282      0.004     32.667      0.000       0.120       0.136\n",
      "author_fic_cnt             -1.175e-05   1.87e-06     -6.296      0.000   -1.54e-05   -8.09e-06\n",
      "Category_Gen                   0.0193      0.005      3.834      0.000       0.009       0.029\n",
      "Category_F_M                  -0.0764      0.004    -17.971      0.000      -0.085      -0.068\n",
      "Category_M_M                   0.0826      0.005     17.931      0.000       0.074       0.092\n",
      "Category_Multi                -0.0103      0.006     -1.600      0.110      -0.023       0.002\n",
      "Category_Other                -0.0745      0.011     -6.906      0.000      -0.096      -0.053\n",
      "Category_Unknown              -0.0814      0.010     -8.044      0.000      -0.101      -0.062\n",
      "ArchiveWarnings_underage      -0.0463      0.010     -4.771      0.000      -0.065      -0.027\n",
      "ArchiveWarnings_death         -0.1276      0.008    -16.762      0.000      -0.143      -0.113\n",
      "ArchiveWarnings_violence      -0.0894      0.006    -14.309      0.000      -0.102      -0.077\n",
      "ArchiveWarnings_choose_no     -0.1221      0.004    -33.318      0.000      -0.129      -0.115\n",
      "ArchiveWarnings_noncon         0.0120      0.009      1.354      0.176      -0.005       0.029\n",
      "Rating_N                      -0.0681      0.007     -9.921      0.000      -0.082      -0.055\n",
      "Rating_E                       0.1319      0.006     22.201      0.000       0.120       0.144\n",
      "Rating_M                       0.0543      0.006      9.379      0.000       0.043       0.066\n",
      "Rating_T                      -0.0183      0.005     -3.701      0.000      -0.028      -0.009\n",
      "Fandom_dcu                     0.2815      0.010     28.667      0.000       0.262       0.301\n",
      "Fandom_doctor_who              0.0038      0.012      0.325      0.745      -0.019       0.027\n",
      "Fandom_star_wars               0.3615      0.012     29.219      0.000       0.337       0.386\n",
      "Fandom_arthurian               0.0789      0.013      5.995      0.000       0.053       0.105\n",
      "Fandom_supernatural            0.0543      0.009      6.332      0.000       0.038       0.071\n",
      "Fandom_haikyuu                 0.2089      0.013     15.824      0.000       0.183       0.235\n",
      "Fandom_kuroko_no_basuke        0.0356      0.016      2.210      0.027       0.004       0.067\n",
      "Fandom_hamilton_miranda        0.3852      0.026     15.041      0.000       0.335       0.435\n",
      "Fandom_dragon_age              0.1258      0.011     11.849      0.000       0.105       0.147\n",
      "Fandom_the_walking_dead        0.1987      0.014     13.822      0.000       0.171       0.227\n",
      "Fandom_buffy                  -0.1505      0.020     -7.487      0.000      -0.190      -0.111\n",
      "Fandom_les_miserables          0.0272      0.018      1.504      0.133      -0.008       0.063\n",
      "Fandom_naruto                 -0.0862      0.020     -4.292      0.000      -0.126      -0.047\n",
      "Fandom_tolkien                 0.4474      0.011     42.318      0.000       0.427       0.468\n",
      "Fandom_shakespare              0.0699      0.073      0.963      0.335      -0.072       0.212\n",
      "Fandom_hetalia                -0.2931      0.017    -17.140      0.000      -0.327      -0.260\n",
      "Fandom_attack_on_titan         0.1228      0.011     10.721      0.000       0.100       0.145\n",
      "Fandom_ms_paint_adventures     0.0380      0.011      3.607      0.000       0.017       0.059\n",
      "Fandom_marvel                  0.4432      0.008     56.938      0.000       0.428       0.458\n",
      "Fandom_sailor_moon            -0.3191      0.061     -5.217      0.000      -0.439      -0.199\n",
      "Fandom_one_direction          -0.0228      0.015     -1.570      0.116      -0.051       0.006\n",
      "Fandom_sherlock                0.2699      0.009     31.530      0.000       0.253       0.287\n",
      "nonzero_prob                   0.6011      0.011     53.096      0.000       0.579       0.623\n",
      "==============================================================================\n",
      "Omnibus:                     8695.660   Durbin-Watson:                   1.720\n",
      "Prob(Omnibus):                  0.000   Jarque-Bera (JB):             6235.851\n",
      "Skew:                           0.259   Prob(JB):                         0.00\n",
      "Kurtosis:                       2.497   Cond. No.                     3.66e+16\n",
      "==============================================================================\n",
      "\n",
      "Warnings:\n",
      "[1] Standard Errors assume that the covariance matrix of the errors is correctly specified.\n",
      "[2] The smallest eigenvalue is 1.83e-22. This might indicate that there are\n",
      "strong multicollinearity problems or that the design matrix is singular.\n"
     ]
    }
   ],
   "source": [
    "print(comments_model.summary())"
   ]
  },
  {
   "cell_type": "code",
   "execution_count": 27,
   "metadata": {},
   "outputs": [
    {
     "name": "stdout",
     "output_type": "stream",
     "text": [
      "                            OLS Regression Results                            \n",
      "==============================================================================\n",
      "Dep. Variable:              Bookmarks   R-squared:                       0.270\n",
      "Model:                            OLS   Adj. R-squared:                  0.270\n",
      "Method:                 Least Squares   F-statistic:                     2362.\n",
      "Date:                Wed, 01 May 2019   Prob (F-statistic):               0.00\n",
      "Time:                        16:44:44   Log-Likelihood:            -4.4436e+05\n",
      "No. Observations:              287139   AIC:                         8.888e+05\n",
      "Df Residuals:                  287093   BIC:                         8.893e+05\n",
      "Df Model:                          45                                         \n",
      "Covariance Type:            nonrobust                                         \n",
      "==============================================================================================\n",
      "                                 coef    std err          t      P>|t|      [0.025      0.975]\n",
      "----------------------------------------------------------------------------------------------\n",
      "Intercept                      5.7593      0.043    134.689      0.000       5.676       5.843\n",
      "Term_novelty                  -0.7046      0.008    -85.070      0.000      -0.721      -0.688\n",
      "Term_novelty_squared          -0.4341      0.043    -10.100      0.000      -0.518      -0.350\n",
      "Topic_novelty                 -1.1279      0.054    -20.752      0.000      -1.234      -1.021\n",
      "Topic_novelty_squared          2.3946      0.645      3.711      0.000       1.130       3.659\n",
      "Chapters                      -0.0049    5.9e-05    -83.322      0.000      -0.005      -0.005\n",
      "Freq_relationship              0.6698      0.006    119.653      0.000       0.659       0.681\n",
      "author_fic_cnt             -9.775e-06   2.35e-06     -4.165      0.000   -1.44e-05   -5.18e-06\n",
      "Category_Gen                  -0.0622      0.006     -9.804      0.000      -0.075      -0.050\n",
      "Category_F_M                  -0.3354      0.005    -62.542      0.000      -0.346      -0.325\n",
      "Category_M_M                   0.5570      0.006     87.237      0.000       0.544       0.570\n",
      "Category_Multi                -0.0700      0.008     -8.602      0.000      -0.086      -0.054\n",
      "Category_Other                -0.4905      0.014    -35.842      0.000      -0.517      -0.464\n",
      "Category_Unknown              -0.6143      0.013    -47.314      0.000      -0.640      -0.589\n",
      "ArchiveWarnings_underage       0.1302      0.012     10.639      0.000       0.106       0.154\n",
      "ArchiveWarnings_death         -0.6846      0.010    -70.279      0.000      -0.704      -0.665\n",
      "ArchiveWarnings_violence      -0.3242      0.008    -41.280      0.000      -0.340      -0.309\n",
      "ArchiveWarnings_choose_no     -0.2378      0.005    -51.626      0.000      -0.247      -0.229\n",
      "ArchiveWarnings_noncon         0.1093      0.011      9.773      0.000       0.087       0.131\n",
      "Rating_N                      -0.1475      0.009    -17.001      0.000      -0.164      -0.130\n",
      "Rating_E                       0.3810      0.008     47.339      0.000       0.365       0.397\n",
      "Rating_M                       0.1036      0.008     13.444      0.000       0.089       0.119\n",
      "Rating_T                      -0.0473      0.006     -7.461      0.000      -0.060      -0.035\n",
      "Fandom_dcu                     0.7528      0.013     57.656      0.000       0.727       0.778\n",
      "Fandom_doctor_who             -1.2015      0.015    -79.195      0.000      -1.231      -1.172\n",
      "Fandom_star_wars               0.4003      0.016     25.530      0.000       0.370       0.431\n",
      "Fandom_arthurian              -0.2088      0.017    -12.614      0.000      -0.241      -0.176\n",
      "Fandom_supernatural           -0.4171      0.011    -38.643      0.000      -0.438      -0.396\n",
      "Fandom_haikyuu                 0.2658      0.017     15.864      0.000       0.233       0.299\n",
      "Fandom_kuroko_no_basuke       -0.0414      0.020     -2.042      0.041      -0.081      -0.002\n",
      "Fandom_hamilton_miranda       -0.4682      0.032    -14.538      0.000      -0.531      -0.405\n",
      "Fandom_dragon_age             -0.3352      0.013    -25.064      0.000      -0.361      -0.309\n",
      "Fandom_the_walking_dead       -0.4449      0.018    -24.476      0.000      -0.481      -0.409\n",
      "Fandom_buffy                  -1.3268      0.026    -51.698      0.000      -1.377      -1.277\n",
      "Fandom_les_miserables         -0.5106      0.023    -22.408      0.000      -0.555      -0.466\n",
      "Fandom_naruto                 -0.4053      0.025    -16.033      0.000      -0.455      -0.356\n",
      "Fandom_tolkien                 0.2053      0.013     15.299      0.000       0.179       0.232\n",
      "Fandom_shakespare             -0.9069      0.091     -9.942      0.000      -1.086      -0.728\n",
      "Fandom_hetalia                -1.3029      0.022    -60.167      0.000      -1.345      -1.260\n",
      "Fandom_attack_on_titan         0.0170      0.014      1.177      0.239      -0.011       0.045\n",
      "Fandom_ms_paint_adventures    -0.0044      0.013     -0.332      0.740      -0.031       0.022\n",
      "Fandom_marvel                  0.8871      0.011     83.518      0.000       0.866       0.908\n",
      "Fandom_sailor_moon            -1.0990      0.077    -14.290      0.000      -1.250      -0.948\n",
      "Fandom_one_direction          -0.4279      0.018    -23.436      0.000      -0.464      -0.392\n",
      "Fandom_sherlock               -0.0418      0.011     -3.847      0.000      -0.063      -0.020\n",
      "nonzero_prob                  -5.2839      0.034   -155.073      0.000      -5.351      -5.217\n",
      "==============================================================================\n",
      "Omnibus:                       49.933   Durbin-Watson:                   1.453\n",
      "Prob(Omnibus):                  0.000   Jarque-Bera (JB):               52.038\n",
      "Skew:                          -0.016   Prob(JB):                     5.01e-12\n",
      "Kurtosis:                       3.058   Cond. No.                     2.81e+05\n",
      "==============================================================================\n",
      "\n",
      "Warnings:\n",
      "[1] Standard Errors assume that the covariance matrix of the errors is correctly specified.\n",
      "[2] The condition number is large, 2.81e+05. This might indicate that there are\n",
      "strong multicollinearity or other numerical problems.\n"
     ]
    }
   ],
   "source": [
    "print(bookmarks_model.summary())"
   ]
  },
  {
   "cell_type": "code",
   "execution_count": null,
   "metadata": {},
   "outputs": [],
   "source": []
  },
  {
   "cell_type": "code",
   "execution_count": 27,
   "metadata": {},
   "outputs": [],
   "source": [
    "# fig = plt.figure(figsize=(20,20))\n",
    "# fig = sm.graphics.plot_regress_exog(kudos_model, \"Term_novelty\", fig=fig)\n",
    "# plt.savefig('partial_reg_plots_term_novelty.png', format='png')"
   ]
  },
  {
   "cell_type": "code",
   "execution_count": null,
   "metadata": {},
   "outputs": [],
   "source": []
  }
 ],
 "metadata": {
  "kernelspec": {
   "display_name": "Python 3",
   "language": "python",
   "name": "python3"
  },
  "language_info": {
   "codemirror_mode": {
    "name": "ipython",
    "version": 3
   },
   "file_extension": ".py",
   "mimetype": "text/x-python",
   "name": "python",
   "nbconvert_exporter": "python",
   "pygments_lexer": "ipython3",
   "version": "3.6.7"
  }
 },
 "nbformat": 4,
 "nbformat_minor": 2
}
