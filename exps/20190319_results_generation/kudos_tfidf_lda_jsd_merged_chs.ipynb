{
 "cells": [
  {
   "cell_type": "code",
   "execution_count": 1,
   "metadata": {},
   "outputs": [],
   "source": [
    "import pandas as pd\n",
    "import os\n",
    "import matplotlib.pyplot as plt\n",
    "%matplotlib inline\n",
    "import numpy as np\n",
    "import random\n",
    "from scipy import stats, spatial\n",
    "import pickle\n",
    "from matplotlib import rc\n",
    "rc('font',**{'family':'sans-serif','sans-serif':['Helvetica']})\n",
    "## for Palatino and other serif fonts use:\n",
    "#rc('font',**{'family':'serif','serif':['Palatino']})\n",
    "rc('text', usetex=True)"
   ]
  },
  {
   "cell_type": "code",
   "execution_count": 2,
   "metadata": {},
   "outputs": [],
   "source": [
    "tfidf_path = '../../data/tfidf_merged_chs/'"
   ]
  },
  {
   "cell_type": "code",
   "execution_count": 9,
   "metadata": {},
   "outputs": [],
   "source": [
    "lda_path = '../../data/lda_jsd_toprev_conlen/'"
   ]
  },
  {
   "cell_type": "code",
   "execution_count": 4,
   "metadata": {},
   "outputs": [],
   "source": [
    "fandom_list = [i for i in os.listdir(tfidf_path) if 'tsv' in i]"
   ]
  },
  {
   "cell_type": "code",
   "execution_count": 26,
   "metadata": {},
   "outputs": [],
   "source": [
    "def var_bootstrap_resample(li):\n",
    "    if len(li) > 0:\n",
    "        var_original = np.var(li)\n",
    "        var_s = []\n",
    "        for i in range(100):\n",
    "            sample = []\n",
    "            for i in range(len(li)):\n",
    "                sample.append(random.choice(li))\n",
    "            var_s.append(np.var(sample))\n",
    "        tail = sorted(var_s)[5]\n",
    "        head = sorted(var_s)[95]\n",
    "        return (var_original, tail, head)"
   ]
  },
  {
   "cell_type": "code",
   "execution_count": 27,
   "metadata": {},
   "outputs": [],
   "source": [
    "def ave_bootstrap_resample(li):\n",
    "    if len(li) > 0:\n",
    "        ave_original = np.average(li)\n",
    "        ave_s = []\n",
    "        for i in range(100):\n",
    "            sample = []\n",
    "            for i in range(len(li)):\n",
    "                sample.append(random.choice(li))\n",
    "            ave_s.append(np.average(sample))\n",
    "        tail = sorted(ave_s)[5]\n",
    "        head = sorted(ave_s)[95]\n",
    "        return (ave_original, tail, head)"
   ]
  },
  {
   "cell_type": "code",
   "execution_count": 28,
   "metadata": {},
   "outputs": [],
   "source": [
    "def create_normed_dfs(df, field):\n",
    "\n",
    "#     turn into z scores\n",
    "    df[field] = np.log(df[field]+1)\n",
    "    df = df.replace([np.inf, -np.inf], np.nan)\n",
    "    df[field].dropna()\n",
    "    df[field] = (df[field] - df[field].mean())/df[field].std(ddof=0)\n",
    "\n",
    "    return df"
   ]
  },
  {
   "cell_type": "code",
   "execution_count": 29,
   "metadata": {},
   "outputs": [],
   "source": [
    "def create_dict(df, nov_field, suc_field, metric):\n",
    "    \n",
    "    # Make bins\n",
    "    df[nov_field] = df[nov_field].astype(float)\n",
    "    term_n = sorted(df[nov_field].tolist())\n",
    "    term_n = np.quantile(term_n, [0.1, 0.2, 0.3, 0.4, 0.5, 0.6, 0.7, 0.8, 0.9])\n",
    "    term_n = np.insert(term_n, 0, 0)\n",
    "    term_n = np.concatenate([term_n, [1]])\n",
    "    dic = {}\n",
    "    for i in range(len(term_n)-1):\n",
    "        df_s = df[(df[nov_field] >= term_n[i]) & (df[nov_field] < term_n[i+1])]\n",
    "        li = df_s[suc_field].tolist()\n",
    "        if len(li) > 0:\n",
    "            if metric == 'ave':\n",
    "                dic[term_n[i]] = ave_bootstrap_resample(li)\n",
    "            elif metric == 'var':\n",
    "                dic[term_n[i]] = var_bootstrap_resample(li)\n",
    "    return dic"
   ]
  },
  {
   "cell_type": "code",
   "execution_count": 9,
   "metadata": {},
   "outputs": [],
   "source": [
    "def generate_res(path, nov_field, suc_field, metric):\n",
    "    df_all = []\n",
    "    fandom_list = [i for i in os.listdir(path) if 'tsv' in i]\n",
    "    for i,fandom in enumerate(fandom_list):\n",
    "        df = pd.read_csv(os.path.join(path,fandom), sep = '\\t')\n",
    "        df = create_normed_dfs(df, suc_field)\n",
    "        df = df.replace([np.inf, -np.inf], np.nan)\n",
    "        df = df[[nov_field, suc_field]].dropna()\n",
    "        df_all.append(df)\n",
    "\n",
    "    df = pd.concat(df_all)\n",
    "    df = df.sort_values(by = nov_field)\n",
    "    df = df.sort_values(by = suc_field)\n",
    "    dic = create_dict(df, nov_field, suc_field)\n",
    "\n",
    "    return dic\n",
    "    "
   ]
  },
  {
   "cell_type": "code",
   "execution_count": 24,
   "metadata": {},
   "outputs": [],
   "source": [
    "# lda_kudos_dict_var = generate_res(lda_path, 'JSD','Kudos')\n",
    "# lda_hits_dict_var = generate_res(lda_path, 'JSD','Hits')\n",
    "# lda_comments_dict_var = generate_res(lda_path, 'JSD','Comments')\n",
    "# lda_bookmarks_dict_var = generate_res(lda_path, 'JSD','Bookmarks')"
   ]
  },
  {
   "cell_type": "code",
   "execution_count": null,
   "metadata": {},
   "outputs": [],
   "source": [
    "# pickle.dump(lda_kudos_dict_var, open('lda_kudos_dict_var.p', 'wb'))\n",
    "# pickle.dump(lda_hits_dict_var, open('lda_hits_dict_var.p', 'wb'))\n",
    "# pickle.dump(lda_comments_dict_var, open('lda_comments_dict_var.p', 'wb'))\n",
    "# pickle.dump(lda_bookmarks_dict_var, open('lda_bookmarks_dict_var.p', 'wb'))"
   ]
  },
  {
   "cell_type": "code",
   "execution_count": 12,
   "metadata": {},
   "outputs": [],
   "source": [
    "tfidf_kudos_dict_var = generate_res(tfidf_path, 'Cos', 'Kudos', 'var')\n",
    "tfidf_hits_dict_var = generate_res(tfidf_path, 'Cos', 'Hits', 'var')\n",
    "tfidf_comments_dict_var = generate_res(tfidf_path, 'Cos', 'Comments', 'var')\n",
    "tfidf_bookmarks_dict_var = generate_res(tfidf_path, 'Cos', 'Bookmarks', 'var')"
   ]
  },
  {
   "cell_type": "code",
   "execution_count": null,
   "metadata": {},
   "outputs": [],
   "source": [
    "# pickle.dump(tfidf_kudos_dict_var, open('tfidf_kudos_dict_var.p', 'wb'))\n",
    "# pickle.dump(tfidf_hits_dict_var, open('tfidf_hits_dict_var.p', 'wb'))\n",
    "# pickle.dump(tfidf_comments_dict_var, open('tfidf_comments_dict_var.p', 'wb'))\n",
    "# pickle.dump(tfidf_bookmarks_dict_var, open('tfidf_bookmarks_dict_var.p', 'wb'))"
   ]
  },
  {
   "cell_type": "code",
   "execution_count": 20,
   "metadata": {},
   "outputs": [],
   "source": [
    "# lda_kudos_dict_ave = generate_res(lda_path, 'JSD','Kudos')\n",
    "# lda_hits_dict_ave = generate_res(lda_path, 'JSD','Hits')\n",
    "# lda_comments_dict_ave = generate_res(lda_path, 'JSD','Comments')\n",
    "# lda_bookmarks_dict_ave = generate_res(lda_path, 'JSD','Bookmarks')"
   ]
  },
  {
   "cell_type": "code",
   "execution_count": 21,
   "metadata": {},
   "outputs": [],
   "source": [
    "# pickle.dump(lda_kudos_dict_ave, open('lda_kudos_dict_ave.p', 'wb'))\n",
    "# pickle.dump(lda_hits_dict_ave, open('lda_hits_dict_ave.p', 'wb'))\n",
    "# pickle.dump(lda_comments_dict_ave, open('lda_comments_dict_ave.p', 'wb'))\n",
    "# pickle.dump(lda_bookmarks_dict_ave, open('lda_bookmarks_dict_ave.p', 'wb'))"
   ]
  },
  {
   "cell_type": "code",
   "execution_count": 13,
   "metadata": {},
   "outputs": [],
   "source": [
    "tfidf_kudos_dict_ave = generate_res(tfidf_path, 'Cos', 'Kudos', 'ave')\n",
    "tfidf_hits_dict_ave = generate_res(tfidf_path, 'Cos', 'Hits', 'ave')\n",
    "tfidf_comments_dict_ave = generate_res(tfidf_path, 'Cos', 'Comments', 'ave')\n",
    "tfidf_bookmarks_dict_ave = generate_res(tfidf_path, 'Cos', 'Bookmarks', 'ave')"
   ]
  },
  {
   "cell_type": "code",
   "execution_count": 23,
   "metadata": {},
   "outputs": [],
   "source": [
    "# pickle.dump(tfidf_kudos_dict_ave, open('tfidf_kudos_dict_ave.p', 'wb'))\n",
    "# pickle.dump(tfidf_hits_dict_ave, open('tfidf_hits_dict_ave.p', 'wb'))\n",
    "# pickle.dump(tfidf_comments_dict_ave, open('tfidf_comments_dict_ave.p', 'wb'))\n",
    "# pickle.dump(tfidf_bookmarks_dict_ave, open('tfidf_bookmarks_dict_ave.p', 'wb'))"
   ]
  },
  {
   "cell_type": "code",
   "execution_count": 56,
   "metadata": {},
   "outputs": [],
   "source": [
    "# lda_kudos_dict_var = pickle.load(open('lda_kudos_dict_var.p', 'rb'))\n",
    "# lda_hits_dict_var = pickle.load(open('lda_hits_dict_var.p', 'rb'))\n",
    "# lda_comments_dict_var = pickle.load(open('lda_comments_dict_var.p', 'rb'))\n",
    "# lda_bookmarks_dict_var = pickle.load(open('lda_bookmarks_dict_var.p', 'rb'))"
   ]
  },
  {
   "cell_type": "code",
   "execution_count": 57,
   "metadata": {},
   "outputs": [],
   "source": [
    "# tfidf_kudos_dict_ave = pickle.load(open('tfidf_kudos_dict_ave.p', 'rb'))\n",
    "# tfidf_hits_dict_ave = pickle.load(open('tfidf_hits_dict_ave.p', 'rb'))\n",
    "# tfidf_comments_dict_ave = pickle.load(open('tfidf_comments_dict_ave.p', 'rb'))\n",
    "# tfidf_bookmarks_dict_ave = pickle.load(open('tfidf_bookmarks_dict_ave.p', 'rb'))"
   ]
  },
  {
   "cell_type": "code",
   "execution_count": 58,
   "metadata": {},
   "outputs": [],
   "source": [
    "# lda_kudos_dict_ave = pickle.load(open('lda_kudos_dict_ave.p', 'rb'))\n",
    "# lda_hits_dict_ave = pickle.load(open('lda_hits_dict_ave.p', 'rb'))\n",
    "# lda_comments_dict_ave = pickle.load(open('lda_comments_dict_ave.p', 'rb'))\n",
    "# lda_bookmarks_dict_ave = pickle.load(open('lda_bookmarks_dict_ave.p', 'rb'))"
   ]
  },
  {
   "cell_type": "code",
   "execution_count": 59,
   "metadata": {},
   "outputs": [],
   "source": [
    "# tfidf_kudos_dict_var = pickle.load(open('tfidf_kudos_dict_var.p', 'rb'))\n",
    "# tfidf_hits_dict_var = pickle.load(open('tfidf_hits_dict_var.p', 'rb'))\n",
    "# tfidf_comments_dict_var = pickle.load(open('tfidf_comments_dict_var.p', 'rb'))\n",
    "# tfidf_bookmarks_dict_var = pickle.load(open('tfidf_bookmarks_dict_var.p', 'rb'))"
   ]
  },
  {
   "cell_type": "code",
   "execution_count": 14,
   "metadata": {},
   "outputs": [],
   "source": [
    "def create_xs(keys):\n",
    "    xs = []\n",
    "    for i in range(len(keys)-1):\n",
    "        xs.append(keys[i] + (keys[i+1] - keys[i])/2)\n",
    "    return xs"
   ]
  },
  {
   "cell_type": "code",
   "execution_count": 15,
   "metadata": {},
   "outputs": [],
   "source": [
    "def extract_plot_vals(dic):\n",
    "    keys = sorted(dic.keys())\n",
    "    x = create_xs(keys)\n",
    "    y = [dic[j][0] for j in keys[:-1]]\n",
    "    lower_error = [dic[j][0] - dic[j][1] for j in keys[:-1]]\n",
    "    upper_error = [dic[j][2] - dic[j][0] for j in keys[:-1]]\n",
    "    asymmetric_error = [lower_error, upper_error]\n",
    "    return x,y,asymmetric_error"
   ]
  },
  {
   "cell_type": "code",
   "execution_count": 16,
   "metadata": {},
   "outputs": [
    {
     "data": {
      "text/plain": [
       "dict_keys([0.0, 0.11929379232998757, 0.15635817077423833, 0.20216286607620118, 0.26698176682476915, 0.3685498416086642, 0.5470760096094807, 0.7192768716653126, 0.8078596964930767, 0.8721455576280007])"
      ]
     },
     "execution_count": 16,
     "metadata": {},
     "output_type": "execute_result"
    }
   ],
   "source": [
    "tfidf_kudos_dict_ave.keys()"
   ]
  },
  {
   "cell_type": "code",
   "execution_count": 18,
   "metadata": {},
   "outputs": [],
   "source": [
    "# lda_kudos_dict_ave.keys()"
   ]
  },
  {
   "cell_type": "code",
   "execution_count": 25,
   "metadata": {},
   "outputs": [
    {
     "data": {
      "image/png": "[encoded data removed]",
      "text/plain": [
       "<Figure size 864x288 with 2 Axes>"
      ]
     },
     "metadata": {},
     "output_type": "display_data"
    }
   ],
   "source": [
    "fig = plt.figure(figsize=(12,4))\n",
    "# fig.subplots_adjust(bottom = 0.4)\n",
    "\n",
    "\n",
    "plt.subplot(1, 2, 1)\n",
    "\n",
    "x, y, err = extract_plot_vals(tfidf_kudos_dict_ave)\n",
    "plt.errorbar(x, y, yerr=err)\n",
    "plt.scatter(x, y, label = 'Kudos',facecolor='none',edgecolor='blue')\n",
    "\n",
    "x, y, err = extract_plot_vals(tfidf_hits_dict_ave)\n",
    "plt.errorbar(x, y, yerr=err)\n",
    "plt.scatter(x, y, marker='s', label = 'Hits',facecolor='none',edgecolor='orange')\n",
    "\n",
    "x, y, err = extract_plot_vals(tfidf_comments_dict_ave)\n",
    "plt.errorbar(x, y, yerr=err, c='purple')\n",
    "plt.scatter(x, y, marker='D', label = 'Comments',facecolor='none',edgecolor='purple')\n",
    "\n",
    "x, y, err = extract_plot_vals(tfidf_bookmarks_dict_ave)\n",
    "plt.errorbar(x, y, yerr=err)\n",
    "plt.scatter(x, y, marker = '<', label = 'Bookmarks',facecolor='none',edgecolor='green')\n",
    "\n",
    "plt.legend()\n",
    "# plt.xlabel('$\\it{s}^{(term)}$, term novelty',fontsize=15)\n",
    "plt.ylabel('Average of Success ($\\it{z}$-score)',fontsize=15)\n",
    "plt.tick_params(labelsize=15)\n",
    "\n",
    "# fig.text(0.03, 0.45, 'Variance in Success ($\\it{z}$-score)', ha='center', va='center', rotation='vertical', fontsize=15)\n",
    "\n",
    "plt.subplot(1, 2, 2)\n",
    "\n",
    "x, y, err = extract_plot_vals(tfidf_kudos_dict_var)\n",
    "plt.errorbar(x, y, yerr=err)\n",
    "plt.scatter(x, y, label = 'Kudos',facecolor='none',edgecolor='blue')\n",
    "\n",
    "x, y, err = extract_plot_vals(tfidf_hits_dict_var)\n",
    "plt.errorbar(x, y, yerr=err)\n",
    "plt.scatter(x, y, marker='s', label = 'Hits',facecolor='none',edgecolor='orange')\n",
    "\n",
    "x, y, err = extract_plot_vals(tfidf_comments_dict_var)\n",
    "plt.errorbar(x, y, yerr=err, c='purple')\n",
    "plt.scatter(x, y, marker='D', label = 'Comments',facecolor='none',edgecolor='purple')\n",
    "\n",
    "x, y, err = extract_plot_vals(tfidf_bookmarks_dict_var)\n",
    "plt.errorbar(x, y, yerr=err)\n",
    "plt.scatter(x, y, marker = '<', label = 'Bookmarks',facecolor='none',edgecolor='green')\n",
    "plt.ylabel('Variance of Success ($\\it{z}$-score)',fontsize=15)\n",
    "plt.legend()\n",
    "plt.tick_params(labelsize=15)\n",
    "\n",
    "\n",
    "# plt.subplot(2, 2, 3)\n",
    "\n",
    "# x, y, err = extract_plot_vals(lda_kudos_dict_ave)\n",
    "# plt.errorbar(x, y, yerr=err)\n",
    "# plt.scatter(x, y, label = 'Kudos',facecolor='none',edgecolor='blue')\n",
    "\n",
    "# x, y, err = extract_plot_vals(lda_hits_dict_ave)\n",
    "# plt.errorbar(x, y, yerr=err)\n",
    "# plt.scatter(x, y, marker='s', label = 'Hits',facecolor='none',edgecolor='orange')\n",
    "\n",
    "# x, y, err = extract_plot_vals(lda_comments_dict_ave)\n",
    "# plt.errorbar(x, y, yerr=err, c='purple')\n",
    "# plt.scatter(x, y, marker='D', label = 'Comments',facecolor='none',edgecolor='purple')\n",
    "\n",
    "# x, y, err = extract_plot_vals(lda_bookmarks_dict_ave)\n",
    "# plt.errorbar(x, y, yerr=err)\n",
    "# plt.scatter(x, y, marker = '<', label = 'Bookmarks',facecolor='none',edgecolor='green')\n",
    "\n",
    "# plt.legend()\n",
    "# # plt.xlabel('$\\it{s}^{(topic)}$, topic novelty',fontsize=15)\n",
    "# plt.ylabel('Average of Success ($\\it{z}$-score)',fontsize=15)\n",
    "# plt.tick_params(labelsize=15)\n",
    "# # plt.subplots_adjust(hspace = 0.5)\n",
    "\n",
    "# # fig.text(0.03, 0.45, 'Variance in Success ($\\it{z}$-score)', ha='center', va='center', rotation='vertical', fontsize=15)\n",
    "\n",
    "# plt.subplot(2, 2, 4)\n",
    "\n",
    "# x, y, err = extract_plot_vals(lda_kudos_dict_var)\n",
    "# plt.errorbar(x, y, yerr=err)\n",
    "# plt.scatter(x, y, label = 'Kudos',facecolor='none',edgecolor='blue')\n",
    "\n",
    "# x, y, err = extract_plot_vals(lda_hits_dict_var)\n",
    "# plt.errorbar(x, y, yerr=err)\n",
    "# plt.scatter(x, y, marker='s', label = 'Hits',facecolor='none',edgecolor='orange')\n",
    "\n",
    "# x, y, err = extract_plot_vals(lda_comments_dict_var)\n",
    "# plt.errorbar(x, y, yerr=err, c='purple')\n",
    "# plt.scatter(x, y, marker='D', label = 'Comments',facecolor='none',edgecolor='purple')\n",
    "\n",
    "# x, y, err = extract_plot_vals(lda_bookmarks_dict_var)\n",
    "# plt.errorbar(x, y, yerr=err)\n",
    "# plt.scatter(x, y, marker = '<', label = 'Bookmarks',facecolor='none',edgecolor='green')\n",
    "# plt.tick_params(labelsize=15)\n",
    "\n",
    "\n",
    "# plt.legend()\n",
    "# # plt.xlabel('$\\it{s}^{(topic)}$, topic novelty', fontsize = 15)\n",
    "# plt.ylabel('Variance of Success ($\\it{z}$-score)',fontsize=15)\n",
    "\n",
    "# fig.text(0.45, 0.48, '$\\it{s}^{(term)}$, term novelty',fontsize=15)\n",
    "# fig.text(0.45, 0.006, '$\\it{s}^{(topic)}$, topic novelty',fontsize=15)\n",
    "\n",
    "\n",
    "# plt.tight_layout()\n",
    "# # plt.savefig('scatter_var_ave.pdf', type='pdf')\n"
   ]
  },
  {
   "cell_type": "code",
   "execution_count": null,
   "metadata": {},
   "outputs": [],
   "source": []
  },
  {
   "cell_type": "code",
   "execution_count": null,
   "metadata": {},
   "outputs": [],
   "source": []
  }
 ],
 "metadata": {
  "anaconda-cloud": {},
  "kernelspec": {
   "display_name": "Python 3",
   "language": "python",
   "name": "python3"
  },
  "language_info": {
   "codemirror_mode": {
    "name": "ipython",
    "version": 3
   },
   "file_extension": ".py",
   "mimetype": "text/x-python",
   "name": "python",
   "nbconvert_exporter": "python",
   "pygments_lexer": "ipython3",
   "version": "3.6.7"
  }
 },
 "nbformat": 4,
 "nbformat_minor": 1
}
