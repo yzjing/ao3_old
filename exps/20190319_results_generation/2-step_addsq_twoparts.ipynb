{
 "cells": [
  {
   "cell_type": "code",
   "execution_count": 6,
   "metadata": {},
   "outputs": [],
   "source": [
    "import pandas as pd\n",
    "import os\n",
    "import matplotlib.pyplot as plt\n",
    "%matplotlib inline\n",
    "import numpy as np\n",
    "import seaborn as sns\n",
    "from statsmodels.formula.api import ols\n",
    "import statsmodels.api as sm\n",
    "from sklearn.linear_model import LogisticRegression"
   ]
  },
  {
   "cell_type": "code",
   "execution_count": 7,
   "metadata": {},
   "outputs": [],
   "source": [
    "df_all = pd.read_csv('fanfic_regression_data_curated.tsv', sep = '\\t')"
   ]
  },
  {
   "cell_type": "code",
   "execution_count": 8,
   "metadata": {},
   "outputs": [
    {
     "data": {
      "text/plain": [
       "609812"
      ]
     },
     "execution_count": 8,
     "metadata": {},
     "output_type": "execute_result"
    }
   ],
   "source": [
    "len(df_all)"
   ]
  },
  {
   "cell_type": "code",
   "execution_count": 9,
   "metadata": {},
   "outputs": [],
   "source": [
    "df_all['ChapterIndex'].fillna(0, inplace=True)"
   ]
  },
  {
   "cell_type": "code",
   "execution_count": 10,
   "metadata": {},
   "outputs": [
    {
     "data": {
      "text/plain": [
       "0    0.577307\n",
       "1    0.657559\n",
       "2    0.581707\n",
       "3    0.675777\n",
       "4    0.679626\n",
       "Name: Topic_novelty, dtype: float64"
      ]
     },
     "execution_count": 10,
     "metadata": {},
     "output_type": "execute_result"
    }
   ],
   "source": [
    "df_all['Topic_novelty'].head()"
   ]
  },
  {
   "cell_type": "code",
   "execution_count": 11,
   "metadata": {},
   "outputs": [],
   "source": [
    "df_all = df_all.replace([np.inf, -np.inf], np.nan)\n",
    "df_all = df_all.fillna(0)\n",
    "term_ave = np.average(df_all['Term_novelty'])\n",
    "topic_ave = np.average(df_all['Topic_novelty'])\n",
    "df_all['Term_novelty'] = df_all['Term_novelty'] - term_ave\n",
    "df_all['Topic_novelty'] = df_all['Topic_novelty'] - topic_ave\n",
    "df_all['Term_novelty_squared'] = np.square(df_all['Term_novelty'])\n",
    "df_all['Topic_novelty_squared'] = np.square(df_all['Topic_novelty'])"
   ]
  },
  {
   "cell_type": "code",
   "execution_count": 12,
   "metadata": {},
   "outputs": [
    {
     "data": {
      "text/plain": [
       "0    0.000397\n",
       "1    0.003639\n",
       "2    0.000241\n",
       "3    0.006169\n",
       "4    0.006788\n",
       "Name: Topic_novelty_squared, dtype: float64"
      ]
     },
     "execution_count": 12,
     "metadata": {},
     "output_type": "execute_result"
    }
   ],
   "source": [
    "df_all['Topic_novelty_squared'].head()"
   ]
  },
  {
   "cell_type": "code",
   "execution_count": 13,
   "metadata": {},
   "outputs": [
    {
     "data": {
      "text/plain": [
       "609812"
      ]
     },
     "execution_count": 13,
     "metadata": {},
     "output_type": "execute_result"
    }
   ],
   "source": [
    "len(df_all)"
   ]
  },
  {
   "cell_type": "code",
   "execution_count": 14,
   "metadata": {},
   "outputs": [],
   "source": [
    "# from statsmodels.stats.outliers_influence import variance_inflation_factor\n"
   ]
  },
  {
   "cell_type": "code",
   "execution_count": 15,
   "metadata": {},
   "outputs": [],
   "source": [
    "# df_all = df_all.replace([np.inf, -np.inf], np.nan)\n",
    "# df_all = df_all.dropna(how = 'any')"
   ]
  },
  {
   "cell_type": "code",
   "execution_count": 16,
   "metadata": {},
   "outputs": [],
   "source": [
    "# df_all = df_all[['Chapters',\\\n",
    "#         'Term_novelty', 'Term_novelty_squared', 'Topic_novelty', 'Topic_novelty_squared',\\\n",
    "#         'Freq_relationship', 'Category_F_M',\\\n",
    "#        'Category_Gen', 'Category_M_M', 'Category_Multi', 'Category_Other','Category_Unknown', \\\n",
    "#        'ArchiveWarnings_underage', 'ArchiveWarnings_death',\\\n",
    "#        'ArchiveWarnings_choose_no', 'ArchiveWarnings_no_apply',\\\n",
    "#        'ArchiveWarnings_violence','ArchiveWarnings_noncon',\\\n",
    "#        'author_fic_cnt', 'Rating_G',\\\n",
    "#        'Rating_M', 'Rating_N', 'Rating_T',\\\n",
    "#        'Fandom_dcu', 'Fandom_doctor_who', 'Fandom_star_wars',\n",
    "#        'Fandom_arthurian', 'Fandom_supernatural', 'Fandom_haikyuu',\n",
    "#        'Fandom_kuroko_no_basuke', 'Fandom_hamilton_miranda',\n",
    "#        'Fandom_dragon_age', 'Fandom_the_walking_dead', 'Fandom_buffy',\n",
    "#        'Fandom_les_miserables', 'Fandom_naruto', 'Fandom_tolkien',\n",
    "#        'Fandom_shakespare', 'Fandom_hetalia', 'Fandom_attack_on_titan',\n",
    "#        'Fandom_ms_paint_adventures', 'Fandom_marvel',\n",
    "#        'Fandom_sailor_moon', 'Fandom_one_direction', 'Fandom_sherlock',\n",
    "#        'History']]"
   ]
  },
  {
   "cell_type": "code",
   "execution_count": 17,
   "metadata": {
    "scrolled": true
   },
   "outputs": [],
   "source": [
    "# for i in range(len(df_all.columns.values)):\n",
    "#     print(df_all.columns.values[i], variance_inflation_factor(df_all.values, i))"
   ]
  },
  {
   "cell_type": "markdown",
   "metadata": {},
   "source": [
    "### Logistic"
   ]
  },
  {
   "cell_type": "code",
   "execution_count": 18,
   "metadata": {},
   "outputs": [
    {
     "data": {
      "text/plain": [
       "array(['Bookmarks', 'ChapterIndex', 'Chapters', 'Comments', 'Hits',\n",
       "       'Kudos', 'Words', 'Term_novelty', 'Topic_novelty',\n",
       "       'Freq_relationship', 'Category_F_F', 'Category_F_M',\n",
       "       'Category_Gen', 'Category_M_M', 'Category_Multi', 'Category_Other',\n",
       "       'Category_Unknown', 'ArchiveWarnings_underage',\n",
       "       'ArchiveWarnings_death', 'ArchiveWarnings_choose_no',\n",
       "       'ArchiveWarnings_no_apply', 'ArchiveWarnings_violence',\n",
       "       'ArchiveWarnings_noncon', 'author_fic_cnt', 'Rating_E', 'Rating_G',\n",
       "       'Rating_M', 'Rating_N', 'Rating_T', 'Fandom_harry_potter',\n",
       "       'Fandom_dcu', 'Fandom_doctor_who', 'Fandom_star_wars',\n",
       "       'Fandom_arthurian', 'Fandom_supernatural', 'Fandom_haikyuu',\n",
       "       'Fandom_kuroko_no_basuke', 'Fandom_hamilton_miranda',\n",
       "       'Fandom_dragon_age', 'Fandom_the_walking_dead', 'Fandom_buffy',\n",
       "       'Fandom_les_miserables', 'Fandom_naruto', 'Fandom_tolkien',\n",
       "       'Fandom_shakespare', 'Fandom_hetalia', 'Fandom_attack_on_titan',\n",
       "       'Fandom_ms_paint_adventures', 'Fandom_marvel',\n",
       "       'Fandom_sailor_moon', 'Fandom_one_direction', 'Fandom_sherlock',\n",
       "       'History', 'Term_novelty_squared', 'Topic_novelty_squared'],\n",
       "      dtype=object)"
      ]
     },
     "execution_count": 18,
     "metadata": {},
     "output_type": "execute_result"
    }
   ],
   "source": [
    "df_all.columns.values"
   ]
  },
  {
   "cell_type": "code",
   "execution_count": 19,
   "metadata": {},
   "outputs": [],
   "source": [
    "def run_logit(df, field):\n",
    "    df['Intercept'] = 1.0\n",
    "    df['binary'] = df[field].apply(lambda x: 1 if x != 0.0 else 0)\n",
    "    logit_model = sm.Logit(df['binary'], df[['Chapters',\\\n",
    "        'Term_novelty', 'Term_novelty_squared', 'Topic_novelty', 'Topic_novelty_squared',\\\n",
    "        'Freq_relationship', 'Category_F_M',\\\n",
    "       'Category_Gen', 'Category_M_M', 'Category_Multi', 'Category_Other','Category_Unknown', \\\n",
    "       'ArchiveWarnings_underage', 'ArchiveWarnings_death',\\\n",
    "       'ArchiveWarnings_choose_no', 'ArchiveWarnings_noncon',\\\n",
    "       'ArchiveWarnings_violence',\\\n",
    "       'author_fic_cnt', 'Rating_G',\\\n",
    "       'Rating_M', 'Rating_N', 'Rating_T', \\\n",
    "       'Fandom_dcu', 'Fandom_doctor_who', 'Fandom_star_wars',\n",
    "       'Fandom_arthurian', 'Fandom_supernatural', 'Fandom_haikyuu',\n",
    "       'Fandom_kuroko_no_basuke', 'Fandom_hamilton_miranda',\n",
    "       'Fandom_dragon_age', 'Fandom_the_walking_dead', 'Fandom_buffy',\n",
    "       'Fandom_les_miserables', 'Fandom_naruto', 'Fandom_tolkien',\n",
    "       'Fandom_shakespare', 'Fandom_hetalia', 'Fandom_attack_on_titan',\n",
    "       'Fandom_ms_paint_adventures', 'Fandom_marvel',\n",
    "       'Fandom_sailor_moon', 'Fandom_one_direction', 'Fandom_sherlock', 'History',\n",
    "        'Intercept']]).fit(method='bfgs')\n",
    "    pred = logit_model.predict()\n",
    "    df['nonzero_prob'] = pred\n",
    "    return df"
   ]
  },
  {
   "cell_type": "markdown",
   "metadata": {},
   "source": [
    "### OLS"
   ]
  },
  {
   "cell_type": "code",
   "execution_count": 20,
   "metadata": {},
   "outputs": [],
   "source": [
    "def run_ols(df, field):\n",
    "    df = run_logit(df, field)\n",
    "    df = df[df[field] != 0]\n",
    "    df['Kudos'] = np.log(df['Kudos'])\n",
    "    df['Hits'] = np.log(df['Hits'])\n",
    "    df['Comments'] = np.log(df['Comments'])\n",
    "    df['Bookmarks'] = np.log(df['Bookmarks'])\n",
    "    df = df.replace([np.inf, -np.inf], np.nan)\n",
    "    df = df.dropna(how = 'any')\n",
    "    model = ols( field + \" ~ Term_novelty + Term_novelty_squared + Topic_novelty + Topic_novelty_squared\\\n",
    " + Chapters + Freq_relationship + author_fic_cnt\\\n",
    " + Category_Gen + Category_F_M + Category_M_M + Category_Multi + Category_Other + Category_Unknown \\\n",
    " + ArchiveWarnings_underage + ArchiveWarnings_death + ArchiveWarnings_violence +\\\n",
    " ArchiveWarnings_choose_no +\\\n",
    " ArchiveWarnings_noncon + Rating_N + Rating_E + Rating_M + Rating_T\\\n",
    " + Fandom_dcu + Fandom_doctor_who + Fandom_star_wars + Fandom_arthurian + \\\n",
    " Fandom_supernatural + Fandom_haikyuu + Fandom_kuroko_no_basuke + Fandom_hamilton_miranda\\\n",
    " + Fandom_dragon_age + Fandom_the_walking_dead + Fandom_buffy + Fandom_les_miserables \\\n",
    " + Fandom_naruto + Fandom_tolkien + Fandom_shakespare + Fandom_hetalia + \\\n",
    " Fandom_attack_on_titan + Fandom_ms_paint_adventures +\\\n",
    " Fandom_marvel + Fandom_sailor_moon + Fandom_one_direction + Fandom_sherlock  \\\n",
    " + nonzero_prob\", data = df).fit()\n",
    "    return model"
   ]
  },
  {
   "cell_type": "markdown",
   "metadata": {},
   "source": [
    "### Plot coefficients"
   ]
  },
  {
   "cell_type": "code",
   "execution_count": 21,
   "metadata": {},
   "outputs": [
    {
     "name": "stderr",
     "output_type": "stream",
     "text": [
      "/anaconda3/envs/python36/lib/python3.6/site-packages/statsmodels/discrete/discrete_model.py:1674: RuntimeWarning: overflow encountered in exp\n",
      "  return 1/(1+np.exp(-X))\n",
      "/anaconda3/envs/python36/lib/python3.6/site-packages/statsmodels/discrete/discrete_model.py:1724: RuntimeWarning: divide by zero encountered in log\n",
      "  return np.sum(np.log(self.cdf(q*np.dot(X,params))))\n",
      "/anaconda3/envs/python36/lib/python3.6/site-packages/statsmodels/discrete/discrete_model.py:1674: RuntimeWarning: overflow encountered in exp\n",
      "  return 1/(1+np.exp(-X))\n",
      "/anaconda3/envs/python36/lib/python3.6/site-packages/statsmodels/discrete/discrete_model.py:1724: RuntimeWarning: divide by zero encountered in log\n",
      "  return np.sum(np.log(self.cdf(q*np.dot(X,params))))\n"
     ]
    },
    {
     "name": "stdout",
     "output_type": "stream",
     "text": [
      "Warning: Maximum number of iterations has been exceeded.\n",
      "         Current function value: 0.078464\n",
      "         Iterations: 35\n",
      "         Function evaluations: 83\n",
      "         Gradient evaluations: 77\n"
     ]
    },
    {
     "name": "stderr",
     "output_type": "stream",
     "text": [
      "/anaconda3/envs/python36/lib/python3.6/site-packages/statsmodels/base/model.py:508: ConvergenceWarning: Maximum Likelihood optimization failed to converge. Check mle_retvals\n",
      "  \"Check mle_retvals\", ConvergenceWarning)\n",
      "/anaconda3/envs/python36/lib/python3.6/site-packages/ipykernel_launcher.py:4: SettingWithCopyWarning: \n",
      "A value is trying to be set on a copy of a slice from a DataFrame.\n",
      "Try using .loc[row_indexer,col_indexer] = value instead\n",
      "\n",
      "See the caveats in the documentation: http://pandas.pydata.org/pandas-docs/stable/indexing.html#indexing-view-versus-copy\n",
      "  after removing the cwd from sys.path.\n",
      "/anaconda3/envs/python36/lib/python3.6/site-packages/ipykernel_launcher.py:5: RuntimeWarning: divide by zero encountered in log\n",
      "  \"\"\"\n",
      "/anaconda3/envs/python36/lib/python3.6/site-packages/ipykernel_launcher.py:5: SettingWithCopyWarning: \n",
      "A value is trying to be set on a copy of a slice from a DataFrame.\n",
      "Try using .loc[row_indexer,col_indexer] = value instead\n",
      "\n",
      "See the caveats in the documentation: http://pandas.pydata.org/pandas-docs/stable/indexing.html#indexing-view-versus-copy\n",
      "  \"\"\"\n",
      "/anaconda3/envs/python36/lib/python3.6/site-packages/ipykernel_launcher.py:6: RuntimeWarning: divide by zero encountered in log\n",
      "  \n",
      "/anaconda3/envs/python36/lib/python3.6/site-packages/ipykernel_launcher.py:6: SettingWithCopyWarning: \n",
      "A value is trying to be set on a copy of a slice from a DataFrame.\n",
      "Try using .loc[row_indexer,col_indexer] = value instead\n",
      "\n",
      "See the caveats in the documentation: http://pandas.pydata.org/pandas-docs/stable/indexing.html#indexing-view-versus-copy\n",
      "  \n",
      "/anaconda3/envs/python36/lib/python3.6/site-packages/ipykernel_launcher.py:7: RuntimeWarning: divide by zero encountered in log\n",
      "  import sys\n",
      "/anaconda3/envs/python36/lib/python3.6/site-packages/ipykernel_launcher.py:7: SettingWithCopyWarning: \n",
      "A value is trying to be set on a copy of a slice from a DataFrame.\n",
      "Try using .loc[row_indexer,col_indexer] = value instead\n",
      "\n",
      "See the caveats in the documentation: http://pandas.pydata.org/pandas-docs/stable/indexing.html#indexing-view-versus-copy\n",
      "  import sys\n"
     ]
    }
   ],
   "source": [
    "kudos_model = run_ols(df_all, 'Kudos')\n",
    "kudos_coef = np.asarray(list(kudos_model.params)[1:-1])\n",
    "kudos_err = list(kudos_model.bse)[1:-1]"
   ]
  },
  {
   "cell_type": "code",
   "execution_count": 22,
   "metadata": {},
   "outputs": [],
   "source": [
    "ylabels =['Term novelty', 'Term novelty squared', 'Topic novelty', 'Topic novelty squared', 'Chapters', \\\n",
    " 'Frequent relationship',' Author work count', 'Words'\\\n",
    " 'Category (General)','Category (Female/Male)',' Category (Male/Male) ',' Category (Multiple)','Category (Other)','Category (Unknown)\\\n",
    " ','ArchiveWarnings (Underage)','ArchiveWarnings (Death)',' ArchiveWarnings (Violence)','ArchiveWarnings (Choose not to use)','\\\n",
    " ArchiveWarnings (Non-consensual sex)','Rating (Not rated)', 'Rating (Explicit)','Rating (Mature)',' Rating (Teens)\\\n",
    " ',' Fandom (DC) ',' Fandom (Doctor Who) ',' Fandom (Star Wars) ',' Fandom (Arthurian Mythologies)',\\\n",
    "  'Fandom (Supernatural)','Fandom (Haikyuu)',' Fandom (Kuroko no Basuke)',' Fandom (Hamilton (by Miranda))\\\n",
    " ',' Fandom (Dragon Age)',' Fandom (The Walking Dead)',' Fandom (Buffy the Vampire Slayer)','Fandom (Les Miserables)\\\n",
    " ',' Fandom (Naruto)','Fandom (Works of J.R.R.Tolkien)',' Fandom (Works of William Shakespare)','Fandom (Hetalia: Axis Powers)',' \\\n",
    " Fandom (Attack on Titan)',' Fandom (MS Paint Adventures)','\\\n",
    "Fandom (Marvel)',' Fandom (Sailor Moon)',' Fandom (One Direction)','Fandom (Sherlock Holmes)'][::-1]"
   ]
  },
  {
   "cell_type": "code",
   "execution_count": 23,
   "metadata": {},
   "outputs": [
    {
     "name": "stderr",
     "output_type": "stream",
     "text": [
      "/anaconda3/envs/python36/lib/python3.6/site-packages/statsmodels/discrete/discrete_model.py:1674: RuntimeWarning: overflow encountered in exp\n",
      "  return 1/(1+np.exp(-X))\n",
      "/anaconda3/envs/python36/lib/python3.6/site-packages/statsmodels/discrete/discrete_model.py:1724: RuntimeWarning: divide by zero encountered in log\n",
      "  return np.sum(np.log(self.cdf(q*np.dot(X,params))))\n",
      "/anaconda3/envs/python36/lib/python3.6/site-packages/statsmodels/discrete/discrete_model.py:1674: RuntimeWarning: overflow encountered in exp\n",
      "  return 1/(1+np.exp(-X))\n",
      "/anaconda3/envs/python36/lib/python3.6/site-packages/statsmodels/discrete/discrete_model.py:1724: RuntimeWarning: divide by zero encountered in log\n",
      "  return np.sum(np.log(self.cdf(q*np.dot(X,params))))\n",
      "/anaconda3/envs/python36/lib/python3.6/site-packages/statsmodels/discrete/discrete_model.py:1674: RuntimeWarning: overflow encountered in exp\n",
      "  return 1/(1+np.exp(-X))\n",
      "/anaconda3/envs/python36/lib/python3.6/site-packages/statsmodels/discrete/discrete_model.py:1724: RuntimeWarning: divide by zero encountered in log\n",
      "  return np.sum(np.log(self.cdf(q*np.dot(X,params))))\n",
      "/anaconda3/envs/python36/lib/python3.6/site-packages/statsmodels/discrete/discrete_model.py:1674: RuntimeWarning: overflow encountered in exp\n",
      "  return 1/(1+np.exp(-X))\n",
      "/anaconda3/envs/python36/lib/python3.6/site-packages/statsmodels/discrete/discrete_model.py:1724: RuntimeWarning: divide by zero encountered in log\n",
      "  return np.sum(np.log(self.cdf(q*np.dot(X,params))))\n"
     ]
    },
    {
     "name": "stdout",
     "output_type": "stream",
     "text": [
      "Warning: Desired error not necessarily achieved due to precision loss.\n",
      "         Current function value: 0.456073\n",
      "         Iterations: 1\n",
      "         Function evaluations: 26\n",
      "         Gradient evaluations: 12\n"
     ]
    },
    {
     "name": "stderr",
     "output_type": "stream",
     "text": [
      "/anaconda3/envs/python36/lib/python3.6/site-packages/statsmodels/base/model.py:508: ConvergenceWarning: Maximum Likelihood optimization failed to converge. Check mle_retvals\n",
      "  \"Check mle_retvals\", ConvergenceWarning)\n",
      "/anaconda3/envs/python36/lib/python3.6/site-packages/ipykernel_launcher.py:4: RuntimeWarning: divide by zero encountered in log\n",
      "  after removing the cwd from sys.path.\n",
      "/anaconda3/envs/python36/lib/python3.6/site-packages/ipykernel_launcher.py:4: SettingWithCopyWarning: \n",
      "A value is trying to be set on a copy of a slice from a DataFrame.\n",
      "Try using .loc[row_indexer,col_indexer] = value instead\n",
      "\n",
      "See the caveats in the documentation: http://pandas.pydata.org/pandas-docs/stable/indexing.html#indexing-view-versus-copy\n",
      "  after removing the cwd from sys.path.\n",
      "/anaconda3/envs/python36/lib/python3.6/site-packages/ipykernel_launcher.py:5: SettingWithCopyWarning: \n",
      "A value is trying to be set on a copy of a slice from a DataFrame.\n",
      "Try using .loc[row_indexer,col_indexer] = value instead\n",
      "\n",
      "See the caveats in the documentation: http://pandas.pydata.org/pandas-docs/stable/indexing.html#indexing-view-versus-copy\n",
      "  \"\"\"\n",
      "/anaconda3/envs/python36/lib/python3.6/site-packages/ipykernel_launcher.py:6: RuntimeWarning: divide by zero encountered in log\n",
      "  \n",
      "/anaconda3/envs/python36/lib/python3.6/site-packages/ipykernel_launcher.py:6: SettingWithCopyWarning: \n",
      "A value is trying to be set on a copy of a slice from a DataFrame.\n",
      "Try using .loc[row_indexer,col_indexer] = value instead\n",
      "\n",
      "See the caveats in the documentation: http://pandas.pydata.org/pandas-docs/stable/indexing.html#indexing-view-versus-copy\n",
      "  \n",
      "/anaconda3/envs/python36/lib/python3.6/site-packages/ipykernel_launcher.py:7: RuntimeWarning: divide by zero encountered in log\n",
      "  import sys\n",
      "/anaconda3/envs/python36/lib/python3.6/site-packages/ipykernel_launcher.py:7: SettingWithCopyWarning: \n",
      "A value is trying to be set on a copy of a slice from a DataFrame.\n",
      "Try using .loc[row_indexer,col_indexer] = value instead\n",
      "\n",
      "See the caveats in the documentation: http://pandas.pydata.org/pandas-docs/stable/indexing.html#indexing-view-versus-copy\n",
      "  import sys\n"
     ]
    }
   ],
   "source": [
    "hits_model = run_ols(df_all, 'Hits')\n",
    "hits_coef = list(hits_model.params)[1:-1]\n",
    "hits_err = list(hits_model.bse)[1:-1]"
   ]
  },
  {
   "cell_type": "code",
   "execution_count": 24,
   "metadata": {},
   "outputs": [
    {
     "name": "stderr",
     "output_type": "stream",
     "text": [
      "/anaconda3/envs/python36/lib/python3.6/site-packages/statsmodels/discrete/discrete_model.py:1674: RuntimeWarning: overflow encountered in exp\n",
      "  return 1/(1+np.exp(-X))\n",
      "/anaconda3/envs/python36/lib/python3.6/site-packages/statsmodels/discrete/discrete_model.py:1724: RuntimeWarning: divide by zero encountered in log\n",
      "  return np.sum(np.log(self.cdf(q*np.dot(X,params))))\n",
      "/anaconda3/envs/python36/lib/python3.6/site-packages/statsmodels/discrete/discrete_model.py:1674: RuntimeWarning: overflow encountered in exp\n",
      "  return 1/(1+np.exp(-X))\n",
      "/anaconda3/envs/python36/lib/python3.6/site-packages/statsmodels/discrete/discrete_model.py:1724: RuntimeWarning: divide by zero encountered in log\n",
      "  return np.sum(np.log(self.cdf(q*np.dot(X,params))))\n"
     ]
    },
    {
     "name": "stdout",
     "output_type": "stream",
     "text": [
      "Warning: Desired error not necessarily achieved due to precision loss.\n",
      "         Current function value: 0.693147\n",
      "         Iterations: 0\n",
      "         Function evaluations: 16\n",
      "         Gradient evaluations: 4\n"
     ]
    },
    {
     "name": "stderr",
     "output_type": "stream",
     "text": [
      "/anaconda3/envs/python36/lib/python3.6/site-packages/statsmodels/base/model.py:508: ConvergenceWarning: Maximum Likelihood optimization failed to converge. Check mle_retvals\n",
      "  \"Check mle_retvals\", ConvergenceWarning)\n",
      "/anaconda3/envs/python36/lib/python3.6/site-packages/ipykernel_launcher.py:4: RuntimeWarning: divide by zero encountered in log\n",
      "  after removing the cwd from sys.path.\n",
      "/anaconda3/envs/python36/lib/python3.6/site-packages/ipykernel_launcher.py:4: SettingWithCopyWarning: \n",
      "A value is trying to be set on a copy of a slice from a DataFrame.\n",
      "Try using .loc[row_indexer,col_indexer] = value instead\n",
      "\n",
      "See the caveats in the documentation: http://pandas.pydata.org/pandas-docs/stable/indexing.html#indexing-view-versus-copy\n",
      "  after removing the cwd from sys.path.\n",
      "/anaconda3/envs/python36/lib/python3.6/site-packages/ipykernel_launcher.py:5: RuntimeWarning: divide by zero encountered in log\n",
      "  \"\"\"\n",
      "/anaconda3/envs/python36/lib/python3.6/site-packages/ipykernel_launcher.py:5: SettingWithCopyWarning: \n",
      "A value is trying to be set on a copy of a slice from a DataFrame.\n",
      "Try using .loc[row_indexer,col_indexer] = value instead\n",
      "\n",
      "See the caveats in the documentation: http://pandas.pydata.org/pandas-docs/stable/indexing.html#indexing-view-versus-copy\n",
      "  \"\"\"\n",
      "/anaconda3/envs/python36/lib/python3.6/site-packages/ipykernel_launcher.py:6: SettingWithCopyWarning: \n",
      "A value is trying to be set on a copy of a slice from a DataFrame.\n",
      "Try using .loc[row_indexer,col_indexer] = value instead\n",
      "\n",
      "See the caveats in the documentation: http://pandas.pydata.org/pandas-docs/stable/indexing.html#indexing-view-versus-copy\n",
      "  \n",
      "/anaconda3/envs/python36/lib/python3.6/site-packages/ipykernel_launcher.py:7: RuntimeWarning: divide by zero encountered in log\n",
      "  import sys\n",
      "/anaconda3/envs/python36/lib/python3.6/site-packages/ipykernel_launcher.py:7: SettingWithCopyWarning: \n",
      "A value is trying to be set on a copy of a slice from a DataFrame.\n",
      "Try using .loc[row_indexer,col_indexer] = value instead\n",
      "\n",
      "See the caveats in the documentation: http://pandas.pydata.org/pandas-docs/stable/indexing.html#indexing-view-versus-copy\n",
      "  import sys\n"
     ]
    }
   ],
   "source": [
    "comments_model = run_ols(df_all, 'Comments')\n",
    "comments_coef = list(comments_model.params)[1:-1]\n",
    "comments_err = list(comments_model.bse)[1:-1]"
   ]
  },
  {
   "cell_type": "code",
   "execution_count": 25,
   "metadata": {},
   "outputs": [
    {
     "name": "stderr",
     "output_type": "stream",
     "text": [
      "/anaconda3/envs/python36/lib/python3.6/site-packages/statsmodels/discrete/discrete_model.py:1674: RuntimeWarning: overflow encountered in exp\n",
      "  return 1/(1+np.exp(-X))\n",
      "/anaconda3/envs/python36/lib/python3.6/site-packages/statsmodels/discrete/discrete_model.py:1724: RuntimeWarning: divide by zero encountered in log\n",
      "  return np.sum(np.log(self.cdf(q*np.dot(X,params))))\n",
      "/anaconda3/envs/python36/lib/python3.6/site-packages/statsmodels/discrete/discrete_model.py:1674: RuntimeWarning: overflow encountered in exp\n",
      "  return 1/(1+np.exp(-X))\n",
      "/anaconda3/envs/python36/lib/python3.6/site-packages/statsmodels/discrete/discrete_model.py:1724: RuntimeWarning: divide by zero encountered in log\n",
      "  return np.sum(np.log(self.cdf(q*np.dot(X,params))))\n"
     ]
    },
    {
     "name": "stdout",
     "output_type": "stream",
     "text": [
      "Warning: Maximum number of iterations has been exceeded.\n",
      "         Current function value: 0.420690\n",
      "         Iterations: 35\n",
      "         Function evaluations: 52\n",
      "         Gradient evaluations: 45\n"
     ]
    },
    {
     "name": "stderr",
     "output_type": "stream",
     "text": [
      "/anaconda3/envs/python36/lib/python3.6/site-packages/statsmodels/base/model.py:508: ConvergenceWarning: Maximum Likelihood optimization failed to converge. Check mle_retvals\n",
      "  \"Check mle_retvals\", ConvergenceWarning)\n",
      "/anaconda3/envs/python36/lib/python3.6/site-packages/ipykernel_launcher.py:4: RuntimeWarning: divide by zero encountered in log\n",
      "  after removing the cwd from sys.path.\n",
      "/anaconda3/envs/python36/lib/python3.6/site-packages/ipykernel_launcher.py:4: SettingWithCopyWarning: \n",
      "A value is trying to be set on a copy of a slice from a DataFrame.\n",
      "Try using .loc[row_indexer,col_indexer] = value instead\n",
      "\n",
      "See the caveats in the documentation: http://pandas.pydata.org/pandas-docs/stable/indexing.html#indexing-view-versus-copy\n",
      "  after removing the cwd from sys.path.\n",
      "/anaconda3/envs/python36/lib/python3.6/site-packages/ipykernel_launcher.py:5: RuntimeWarning: divide by zero encountered in log\n",
      "  \"\"\"\n",
      "/anaconda3/envs/python36/lib/python3.6/site-packages/ipykernel_launcher.py:5: SettingWithCopyWarning: \n",
      "A value is trying to be set on a copy of a slice from a DataFrame.\n",
      "Try using .loc[row_indexer,col_indexer] = value instead\n",
      "\n",
      "See the caveats in the documentation: http://pandas.pydata.org/pandas-docs/stable/indexing.html#indexing-view-versus-copy\n",
      "  \"\"\"\n",
      "/anaconda3/envs/python36/lib/python3.6/site-packages/ipykernel_launcher.py:6: RuntimeWarning: divide by zero encountered in log\n",
      "  \n",
      "/anaconda3/envs/python36/lib/python3.6/site-packages/ipykernel_launcher.py:6: SettingWithCopyWarning: \n",
      "A value is trying to be set on a copy of a slice from a DataFrame.\n",
      "Try using .loc[row_indexer,col_indexer] = value instead\n",
      "\n",
      "See the caveats in the documentation: http://pandas.pydata.org/pandas-docs/stable/indexing.html#indexing-view-versus-copy\n",
      "  \n",
      "/anaconda3/envs/python36/lib/python3.6/site-packages/ipykernel_launcher.py:7: SettingWithCopyWarning: \n",
      "A value is trying to be set on a copy of a slice from a DataFrame.\n",
      "Try using .loc[row_indexer,col_indexer] = value instead\n",
      "\n",
      "See the caveats in the documentation: http://pandas.pydata.org/pandas-docs/stable/indexing.html#indexing-view-versus-copy\n",
      "  import sys\n"
     ]
    }
   ],
   "source": [
    "bookmarks_model = run_ols(df_all, 'Bookmarks')\n",
    "bookmarks_coef = list(bookmarks_model.params)[1:-1]\n",
    "bookmarks_err = list(bookmarks_model.bse)[1:-1]"
   ]
  },
  {
   "cell_type": "code",
   "execution_count": 26,
   "metadata": {},
   "outputs": [],
   "source": [
    "from matplotlib import rc\n",
    "rc('font',**{'family':'sans-serif','sans-serif':['Helvetica']})\n",
    "rc('text', usetex=True)"
   ]
  },
  {
   "cell_type": "code",
   "execution_count": 27,
   "metadata": {},
   "outputs": [
    {
     "name": "stderr",
     "output_type": "stream",
     "text": [
      "/anaconda3/envs/python36/lib/python3.6/site-packages/matplotlib/font_manager.py:1241: UserWarning: findfont: Font family ['sans-serif'] not found. Falling back to DejaVu Sans.\n",
      "  (prop.get_family(), self.defaultFamily[fontext]))\n",
      "/anaconda3/envs/python36/lib/python3.6/site-packages/matplotlib/font_manager.py:1241: UserWarning: findfont: Font family ['sans-serif'] not found. Falling back to DejaVu Sans.\n",
      "  (prop.get_family(), self.defaultFamily[fontext]))\n",
      "/anaconda3/envs/python36/lib/python3.6/site-packages/matplotlib/font_manager.py:1241: UserWarning: findfont: Font family ['sans-serif'] not found. Falling back to DejaVu Sans.\n",
      "  (prop.get_family(), self.defaultFamily[fontext]))\n"
     ]
    },
    {
     "data": {
      "image/png": "[encoded data removed]",
      "text/plain": [
       "<Figure size 1080x1080 with 4 Axes>"
      ]
     },
     "metadata": {},
     "output_type": "display_data"
    }
   ],
   "source": [
    "fig, ax = plt.subplots(1,4,figsize = (15,15))\n",
    "ax[0].errorbar(kudos_coef[::-1], range(len(kudos_coef)), xerr=kudos_err[::-1] , fmt='o')\n",
    "\n",
    "ax[0].set_yticks(range(len(kudos_coef)))\n",
    "ax[0].set_yticklabels(ylabels)\n",
    "ax[0].plot([0 for i in range(len(kudos_coef)+2)], range(-1,len(kudos_coef)+1), c='grey', alpha = 0.7)\n",
    "ax[0].plot(range(-8,8), [21.5 for i in range(-8,8)] ,c='grey', alpha = 0.7)\n",
    "ax[0].plot(range(-8,8), [25.5 for i in range(-8,8)] ,c='grey', alpha = 0.7)\n",
    "ax[0].plot(range(-8,8), [30.5 for i in range(-8,8)] ,c='grey', alpha = 0.7)\n",
    "ax[0].plot(range(-8,8), [36.5 for i in range(-8,8)] ,c='grey', alpha = 0.7)\n",
    "ax[0].plot(range(-8,8), [39.5 for i in range(-8,8)] ,c='grey', alpha = 0.7)\n",
    "ax[0].set_ylim(-0.5,44.5)\n",
    "ax[0].set_xlim(-3,6)\n",
    "ax[0].set_xlabel('Kudos', fontsize=15)\n",
    "ax[0].set_title('R-squared = 0.263', fontsize=15)\n",
    "for tick in ax[0].yaxis.get_major_ticks():\n",
    "    tick.label.set_fontsize(13)\n",
    "for tick in ax[0].xaxis.get_major_ticks():\n",
    "    tick.label.set_fontsize(13)\n",
    "    \n",
    "ax[1].errorbar(hits_coef[::-1], range(len(hits_err)), xerr=hits_err[::-1], fmt='o')\n",
    "ax[1].set_yticks(range(len(hits_coef)))\n",
    "# ax[1].set_yticklabels(ylabels)\n",
    "ax[1].plot([0 for i in range(len(hits_coef)+2)], range(-1,len(hits_coef)+1), c='grey', alpha = 0.7)\n",
    "ax[1].plot(range(-8,10), [21.5 for i in range(-8,10)] ,c='grey', alpha = 0.7)\n",
    "ax[1].plot(range(-8,10), [25.5 for i in range(-8,10)] ,c='grey', alpha = 0.7)\n",
    "ax[1].plot(range(-8,10), [30.5 for i in range(-8,10)] ,c='grey', alpha = 0.7)\n",
    "ax[1].plot(range(-8,10), [36.5 for i in range(-8,10)] ,c='grey', alpha = 0.7)\n",
    "ax[1].plot(range(-8,10), [39.5 for i in range(-8,10)] ,c='grey', alpha = 0.7)\n",
    "ax[1].set_ylim(-0.5,43.5)\n",
    "ax[1].set_xlim(-3,8.5)\n",
    "ax[1].set_yticklabels([])\n",
    "ax[1].set_title('R-squared = 0.245', fontsize=15)\n",
    "ax[1].set_xlabel('Hits', fontsize=15)\n",
    "for tick in ax[1].xaxis.get_major_ticks():\n",
    "    tick.label.set_fontsize(13)\n",
    "    \n",
    "ax[2].errorbar(comments_coef[::-1], range(len(comments_err)), xerr=comments_err[::-1], fmt='o')\n",
    "ax[2].set_yticks(range(len(comments_coef)))\n",
    "ax[2].plot([0 for i in range(len(comments_coef)+2)], range(-1,len(comments_coef)+1), c='grey', alpha = 0.7)\n",
    "ax[2].plot(range(-8,8), [21.5 for i in range(-8,8)] ,c='grey', alpha = 0.7)\n",
    "ax[2].plot(range(-8,8), [25.5 for i in range(-8,8)] ,c='grey', alpha = 0.7)\n",
    "ax[2].plot(range(-8,8), [30.5 for i in range(-8,8)] ,c='grey', alpha = 0.7)\n",
    "ax[2].plot(range(-8,8), [36.5 for i in range(-8,8)] ,c='grey', alpha = 0.7)\n",
    "ax[2].plot(range(-8,8), [39.5 for i in range(-8,8)] ,c='grey', alpha = 0.7)\n",
    "ax[2].set_ylim(-0.5,43.5)\n",
    "ax[2].set_xlim(-2,3)\n",
    "ax[2].set_yticklabels([])\n",
    "ax[2].set_title('R-squared = 0.065', fontsize=15)\n",
    "ax[2].set_xlabel('Comments', fontsize=15)\n",
    "for tick in ax[2].xaxis.get_major_ticks():\n",
    "    tick.label.set_fontsize(13)\n",
    "\n",
    "ax[3].errorbar(bookmarks_coef[::-1], range(len(bookmarks_err)), xerr=bookmarks_err[::-1], fmt='o')\n",
    "ax[3].set_yticks(range(len(bookmarks_coef)))\n",
    "ax[3].plot([0 for i in range(len(bookmarks_coef)+2)], range(-1,len(bookmarks_coef)+1), c='grey', alpha = 0.7)\n",
    "ax[3].plot(range(-8,8), [21.5 for i in range(-8,8)] ,c='grey', alpha = 0.7)\n",
    "ax[3].plot(range(-8,8), [25.5 for i in range(-8,8)] ,c='grey', alpha = 0.7)\n",
    "ax[3].plot(range(-8,8), [30.5 for i in range(-8,8)] ,c='grey', alpha = 0.7)\n",
    "ax[3].plot(range(-8,8), [36.5 for i in range(-8,8)] ,c='grey', alpha = 0.7)\n",
    "ax[3].plot(range(-8,8), [39.5 for i in range(-8,8)] ,c='grey', alpha = 0.7)\n",
    "ax[3].set_ylim(-0.5,43.5)\n",
    "ax[3].set_xlim(-3,6)\n",
    "ax[3].set_yticklabels([])\n",
    "ax[3].set_title('R-squared =  0.271', fontsize=15)\n",
    "ax[3].set_xlabel('Bookmarks', fontsize=15)\n",
    "for tick in ax[2].xaxis.get_major_ticks():\n",
    "    tick.label.set_fontsize(13)\n",
    "    \n",
    "fig.text(0.55, 0.001, 'N = 609716', fontsize = 15)\n",
    "plt.tight_layout()\n",
    "# plt.savefig('ols_coefs_full_twoparts.pdf', format='pdf')"
   ]
  },
  {
   "cell_type": "code",
   "execution_count": 28,
   "metadata": {},
   "outputs": [
    {
     "data": {
      "image/png": "[encoded data removed]",
      "text/plain": [
       "<Figure size 1080x360 with 4 Axes>"
      ]
     },
     "metadata": {},
     "output_type": "display_data"
    }
   ],
   "source": [
    "fig, ax = plt.subplots(1,4,figsize = (15,5))\n",
    "ax[0].errorbar(kudos_coef[::-1], range(len(kudos_coef)), xerr=kudos_err[::-1] , fmt='o')\n",
    "\n",
    "ax[0].set_yticks(range(len(kudos_coef)))\n",
    "ax[0].set_yticklabels(ylabels)\n",
    "ax[0].plot([0 for i in range(len(kudos_coef)+2)], range(-1,len(kudos_coef)+1), c='grey', alpha = 0.7)\n",
    "ax[0].plot(range(-8,8), [21.5 for i in range(-8,8)] ,c='grey', alpha = 0.7)\n",
    "ax[0].plot(range(-8,8), [25.5 for i in range(-8,8)] ,c='grey', alpha = 0.7)\n",
    "ax[0].plot(range(-8,8), [30.5 for i in range(-8,8)] ,c='grey', alpha = 0.7)\n",
    "ax[0].plot(range(-8,8), [36.5 for i in range(-8,8)] ,c='grey', alpha = 0.7)\n",
    "ax[0].plot(range(-8,8), [39.5 for i in range(-8,8)] ,c='grey', alpha = 0.7)\n",
    "ax[0].set_ylim(36.5,43.5)\n",
    "ax[0].set_xlim(-3,6)\n",
    "ax[0].set_xlabel('Kudos', fontsize=15)\n",
    "ax[0].set_title('R-squared = 0.263', fontsize=15)\n",
    "for tick in ax[0].yaxis.get_major_ticks():\n",
    "    tick.label.set_fontsize(13)\n",
    "for tick in ax[0].xaxis.get_major_ticks():\n",
    "    tick.label.set_fontsize(13)\n",
    "    \n",
    "ax[1].errorbar(hits_coef[::-1], range(len(hits_err)), xerr=hits_err[::-1], fmt='o')\n",
    "ax[1].set_yticks(range(len(hits_coef)))\n",
    "# ax[1].set_yticklabels(ylabels)\n",
    "ax[1].plot([0 for i in range(len(hits_coef)+2)], range(-1,len(hits_coef)+1), c='grey', alpha = 0.7)\n",
    "ax[1].plot(range(-8,10), [21.5 for i in range(-8,10)] ,c='grey', alpha = 0.7)\n",
    "ax[1].plot(range(-8,10), [25.5 for i in range(-8,10)] ,c='grey', alpha = 0.7)\n",
    "ax[1].plot(range(-8,10), [30.5 for i in range(-8,10)] ,c='grey', alpha = 0.7)\n",
    "ax[1].plot(range(-8,10), [36.5 for i in range(-8,10)] ,c='grey', alpha = 0.7)\n",
    "ax[1].plot(range(-8,10), [39.5 for i in range(-8,10)] ,c='grey', alpha = 0.7)\n",
    "ax[1].set_ylim(36.5,43.5)\n",
    "ax[1].set_xlim(-3,8.5)\n",
    "ax[1].set_yticklabels([])\n",
    "ax[1].set_title('R-squared = 0.245', fontsize=15)\n",
    "ax[1].set_xlabel('Hits', fontsize=15)\n",
    "for tick in ax[1].xaxis.get_major_ticks():\n",
    "    tick.label.set_fontsize(13)\n",
    "    \n",
    "ax[2].errorbar(comments_coef[::-1], range(len(comments_err)), xerr=comments_err[::-1], fmt='o')\n",
    "ax[2].set_yticks(range(len(comments_coef)))\n",
    "ax[2].plot([0 for i in range(len(comments_coef)+2)], range(-1,len(comments_coef)+1), c='grey', alpha = 0.7)\n",
    "ax[2].plot(range(-8,8), [21.5 for i in range(-8,8)] ,c='grey', alpha = 0.7)\n",
    "ax[2].plot(range(-8,8), [25.5 for i in range(-8,8)] ,c='grey', alpha = 0.7)\n",
    "ax[2].plot(range(-8,8), [30.5 for i in range(-8,8)] ,c='grey', alpha = 0.7)\n",
    "ax[2].plot(range(-8,8), [36.5 for i in range(-8,8)] ,c='grey', alpha = 0.7)\n",
    "ax[2].plot(range(-8,8), [39.5 for i in range(-8,8)] ,c='grey', alpha = 0.7)\n",
    "ax[2].set_ylim(36.5,43.5)\n",
    "ax[2].set_xlim(-2,3)\n",
    "ax[2].set_yticklabels([])\n",
    "ax[2].set_title('R-squared = 0.065', fontsize=15)\n",
    "ax[2].set_xlabel('Comments', fontsize=15)\n",
    "for tick in ax[2].xaxis.get_major_ticks():\n",
    "    tick.label.set_fontsize(13)\n",
    "\n",
    "ax[3].errorbar(bookmarks_coef[::-1], range(len(bookmarks_err)), xerr=bookmarks_err[::-1], fmt='o')\n",
    "ax[3].set_yticks(range(len(bookmarks_coef)))\n",
    "ax[3].plot([0 for i in range(len(bookmarks_coef)+2)], range(-1,len(bookmarks_coef)+1), c='grey', alpha = 0.7)\n",
    "ax[3].plot(range(-8,8), [21.5 for i in range(-8,8)] ,c='grey', alpha = 0.7)\n",
    "ax[3].plot(range(-8,8), [25.5 for i in range(-8,8)] ,c='grey', alpha = 0.7)\n",
    "ax[3].plot(range(-8,8), [30.5 for i in range(-8,8)] ,c='grey', alpha = 0.7)\n",
    "ax[3].plot(range(-8,8), [36.5 for i in range(-8,8)] ,c='grey', alpha = 0.7)\n",
    "ax[3].plot(range(-8,8), [39.5 for i in range(-8,8)] ,c='grey', alpha = 0.7)\n",
    "ax[3].set_ylim(36.5,43.5)\n",
    "ax[3].set_xlim(-3,6)\n",
    "ax[3].set_yticklabels([])\n",
    "ax[3].set_title('R-squared = 0.271', fontsize=15)\n",
    "ax[3].set_xlabel('Bookmarks', fontsize=15)\n",
    "for tick in ax[2].xaxis.get_major_ticks():\n",
    "    tick.label.set_fontsize(13)\n",
    "    \n",
    "fig.text(0.55, 0.001, 'N = 609716', fontsize = 15)\n",
    "plt.tight_layout()\n",
    "# plt.savefig('ols_coefs_partial_twoparts.pdf', format='pdf')"
   ]
  },
  {
   "cell_type": "code",
   "execution_count": 29,
   "metadata": {},
   "outputs": [
    {
     "name": "stdout",
     "output_type": "stream",
     "text": [
      "                            OLS Regression Results                            \n",
      "==============================================================================\n",
      "Dep. Variable:                  Kudos   R-squared:                       0.258\n",
      "Model:                            OLS   Adj. R-squared:                  0.257\n",
      "Method:                 Least Squares   F-statistic:                     2213.\n",
      "Date:                Fri, 12 Apr 2019   Prob (F-statistic):               0.00\n",
      "Time:                        18:42:53   Log-Likelihood:            -4.4597e+05\n",
      "No. Observations:              287139   AIC:                         8.920e+05\n",
      "Df Residuals:                  287093   BIC:                         8.925e+05\n",
      "Df Model:                          45                                         \n",
      "Covariance Type:            nonrobust                                         \n",
      "==============================================================================================\n",
      "                                 coef    std err          t      P>|t|      [0.025      0.975]\n",
      "----------------------------------------------------------------------------------------------\n",
      "Intercept                      6.7911      0.173     39.318      0.000       6.453       7.130\n",
      "Term_novelty                  -0.3207      0.008    -40.037      0.000      -0.336      -0.305\n",
      "Term_novelty_squared          -0.5557      0.043    -12.852      0.000      -0.640      -0.471\n",
      "Topic_novelty                 -0.8878      0.055    -16.243      0.000      -0.995      -0.781\n",
      "Topic_novelty_squared          3.1020      0.649      4.781      0.000       1.830       4.374\n",
      "Chapters                      -0.0086    5.5e-05   -155.522      0.000      -0.009      -0.008\n",
      "Freq_relationship              0.2871      0.005     52.686      0.000       0.276       0.298\n",
      "author_fic_cnt              5.185e-06   2.37e-06      2.190      0.029    5.44e-07    9.83e-06\n",
      "Category_Gen                  -0.2487      0.006    -38.809      0.000      -0.261      -0.236\n",
      "Category_F_M                  -0.3484      0.006    -61.608      0.000      -0.359      -0.337\n",
      "Category_M_M                   0.1634      0.007     23.626      0.000       0.150       0.177\n",
      "Category_Multi                -0.2642      0.008    -32.434      0.000      -0.280      -0.248\n",
      "Category_Other                -0.2334      0.014    -17.094      0.000      -0.260      -0.207\n",
      "Category_Unknown              -0.4801      0.014    -33.173      0.000      -0.508      -0.452\n",
      "ArchiveWarnings_underage       0.0276      0.012      2.246      0.025       0.004       0.052\n",
      "ArchiveWarnings_death         -0.4590      0.010    -47.669      0.000      -0.478      -0.440\n",
      "ArchiveWarnings_violence      -0.4941      0.008    -62.558      0.000      -0.510      -0.479\n",
      "ArchiveWarnings_choose_no     -0.3060      0.005    -65.700      0.000      -0.315      -0.297\n",
      "ArchiveWarnings_noncon        -0.1379      0.011    -12.350      0.000      -0.160      -0.116\n",
      "Rating_N                      -0.3848      0.009    -44.365      0.000      -0.402      -0.368\n",
      "Rating_E                      -0.2983      0.008    -39.703      0.000      -0.313      -0.284\n",
      "Rating_M                      -0.4897      0.007    -66.562      0.000      -0.504      -0.475\n",
      "Rating_T                      -0.3681      0.006    -58.460      0.000      -0.380      -0.356\n",
      "Fandom_dcu                     0.4383      0.012     35.106      0.000       0.414       0.463\n",
      "Fandom_doctor_who             -0.4995      0.015    -33.386      0.000      -0.529      -0.470\n",
      "Fandom_star_wars               0.3794      0.016     24.247      0.000       0.349       0.410\n",
      "Fandom_arthurian               0.0847      0.017      5.090      0.000       0.052       0.117\n",
      "Fandom_supernatural           -0.0611      0.011     -5.626      0.000      -0.082      -0.040\n",
      "Fandom_haikyuu                 0.3133      0.017     18.741      0.000       0.281       0.346\n",
      "Fandom_kuroko_no_basuke        0.2401      0.020     11.795      0.000       0.200       0.280\n",
      "Fandom_hamilton_miranda       -0.1212      0.032     -3.744      0.000      -0.185      -0.058\n",
      "Fandom_dragon_age             -0.1694      0.013    -12.578      0.000      -0.196      -0.143\n",
      "Fandom_the_walking_dead       -0.2612      0.018    -14.349      0.000      -0.297      -0.226\n",
      "Fandom_buffy                  -0.6925      0.025    -27.214      0.000      -0.742      -0.643\n",
      "Fandom_les_miserables          0.0107      0.023      0.468      0.640      -0.034       0.056\n",
      "Fandom_naruto                 -0.1197      0.025     -4.714      0.000      -0.170      -0.070\n",
      "Fandom_tolkien                 0.0376      0.013      2.800      0.005       0.011       0.064\n",
      "Fandom_shakespare             -0.4760      0.092     -5.189      0.000      -0.656      -0.296\n",
      "Fandom_hetalia                -0.5000      0.022    -23.118      0.000      -0.542      -0.458\n",
      "Fandom_attack_on_titan         0.1001      0.014      6.911      0.000       0.072       0.129\n",
      "Fandom_ms_paint_adventures    -0.0017      0.013     -0.126      0.900      -0.028       0.024\n",
      "Fandom_marvel                  0.5551      0.010     54.730      0.000       0.535       0.575\n",
      "Fandom_sailor_moon            -0.7081      0.077     -9.156      0.000      -0.860      -0.557\n",
      "Fandom_one_direction          -0.3091      0.018    -16.835      0.000      -0.345      -0.273\n",
      "Fandom_sherlock               -0.0083      0.011     -0.767      0.443      -0.030       0.013\n",
      "nonzero_prob                  -3.4360      0.180    -19.109      0.000      -3.788      -3.084\n",
      "==============================================================================\n",
      "Omnibus:                      586.355   Durbin-Watson:                   1.417\n",
      "Prob(Omnibus):                  0.000   Jarque-Bera (JB):              725.474\n",
      "Skew:                          -0.025   Prob(JB):                    2.92e-158\n",
      "Kurtosis:                       3.241   Cond. No.                     2.81e+05\n",
      "==============================================================================\n",
      "\n",
      "Warnings:\n",
      "[1] Standard Errors assume that the covariance matrix of the errors is correctly specified.\n",
      "[2] The condition number is large, 2.81e+05. This might indicate that there are\n",
      "strong multicollinearity or other numerical problems.\n"
     ]
    }
   ],
   "source": [
    "print(kudos_model.summary())"
   ]
  },
  {
   "cell_type": "code",
   "execution_count": 30,
   "metadata": {},
   "outputs": [
    {
     "name": "stdout",
     "output_type": "stream",
     "text": [
      "                            OLS Regression Results                            \n",
      "==============================================================================\n",
      "Dep. Variable:                   Hits   R-squared:                       0.245\n",
      "Model:                            OLS   Adj. R-squared:                  0.245\n",
      "Method:                 Least Squares   F-statistic:                     2069.\n",
      "Date:                Fri, 12 Apr 2019   Prob (F-statistic):               0.00\n",
      "Time:                        18:42:54   Log-Likelihood:            -4.2437e+05\n",
      "No. Observations:              287139   AIC:                         8.488e+05\n",
      "Df Residuals:                  287093   BIC:                         8.493e+05\n",
      "Df Model:                          45                                         \n",
      "Covariance Type:            nonrobust                                         \n",
      "==============================================================================================\n",
      "                                 coef    std err          t      P>|t|      [0.025      0.975]\n",
      "----------------------------------------------------------------------------------------------\n",
      "Intercept                  -6.971e+05   5781.660   -120.573      0.000   -7.08e+05   -6.86e+05\n",
      "Term_novelty                  -0.1720      0.007    -23.793      0.000      -0.186      -0.158\n",
      "Term_novelty_squared          -0.6169      0.040    -15.385      0.000      -0.695      -0.538\n",
      "Topic_novelty                 -0.4745      0.051     -9.357      0.000      -0.574      -0.375\n",
      "Topic_novelty_squared          3.6966      0.602      6.142      0.000       2.517       4.876\n",
      "Chapters                      -0.0059   5.09e-05   -115.651      0.000      -0.006      -0.006\n",
      "Freq_relationship              0.2591      0.005     56.291      0.000       0.250       0.268\n",
      "author_fic_cnt              1.344e-05   2.19e-06      6.129      0.000    9.14e-06    1.77e-05\n",
      "Category_Gen                  -0.2081      0.006    -35.188      0.000      -0.220      -0.196\n",
      "Category_F_M                  -0.2024      0.005    -40.535      0.000      -0.212      -0.193\n",
      "Category_M_M                   0.0836      0.005     15.473      0.000       0.073       0.094\n",
      "Category_Multi                -0.0871      0.008    -11.512      0.000      -0.102      -0.072\n",
      "Category_Other                -0.1516      0.013    -11.984      0.000      -0.176      -0.127\n",
      "Category_Unknown              -0.2641      0.012    -22.257      0.000      -0.287      -0.241\n",
      "ArchiveWarnings_underage       0.1894      0.011     16.640      0.000       0.167       0.212\n",
      "ArchiveWarnings_death         -0.3545      0.009    -39.695      0.000      -0.372      -0.337\n",
      "ArchiveWarnings_violence      -0.4088      0.007    -55.761      0.000      -0.423      -0.394\n",
      "ArchiveWarnings_choose_no     -0.1647      0.004    -38.334      0.000      -0.173      -0.156\n",
      "ArchiveWarnings_noncon         0.1254      0.010     12.110      0.000       0.105       0.146\n",
      "Rating_N                      -0.3329      0.008    -41.340      0.000      -0.349      -0.317\n",
      "Rating_E                       0.0571      0.007      8.190      0.000       0.043       0.071\n",
      "Rating_M                      -0.3050      0.007    -44.898      0.000      -0.318      -0.292\n",
      "Rating_T                      -0.2303      0.006    -39.788      0.000      -0.242      -0.219\n",
      "Fandom_dcu                     0.3531      0.012     30.642      0.000       0.331       0.376\n",
      "Fandom_doctor_who             -0.5930      0.014    -42.914      0.000      -0.620      -0.566\n",
      "Fandom_star_wars               0.2654      0.015     17.999      0.000       0.236       0.294\n",
      "Fandom_arthurian               0.0979      0.015      6.344      0.000       0.068       0.128\n",
      "Fandom_supernatural           -0.2662      0.010    -26.453      0.000      -0.286      -0.246\n",
      "Fandom_haikyuu                -0.2263      0.016    -14.563      0.000      -0.257      -0.196\n",
      "Fandom_kuroko_no_basuke       -0.2062      0.019    -10.925      0.000      -0.243      -0.169\n",
      "Fandom_hamilton_miranda        0.0515      0.031      1.681      0.093      -0.009       0.112\n",
      "Fandom_dragon_age             -0.6125      0.012    -49.198      0.000      -0.637      -0.588\n",
      "Fandom_the_walking_dead       -0.3881      0.017    -23.003      0.000      -0.421      -0.355\n",
      "Fandom_buffy                  -0.6120      0.024    -25.954      0.000      -0.658      -0.566\n",
      "Fandom_les_miserables         -0.2837      0.021    -13.351      0.000      -0.325      -0.242\n",
      "Fandom_naruto                 -0.2979      0.024    -12.647      0.000      -0.344      -0.252\n",
      "Fandom_tolkien                 0.0153      0.012      1.231      0.218      -0.009       0.040\n",
      "Fandom_shakespare             -0.8725      0.085    -10.255      0.000      -1.039      -0.706\n",
      "Fandom_hetalia                -0.8199      0.020    -40.879      0.000      -0.859      -0.781\n",
      "Fandom_attack_on_titan        -0.3122      0.013    -23.244      0.000      -0.339      -0.286\n",
      "Fandom_ms_paint_adventures    -0.3480      0.012    -28.179      0.000      -0.372      -0.324\n",
      "Fandom_marvel                  0.3631      0.009     39.771      0.000       0.345       0.381\n",
      "Fandom_sailor_moon            -0.7368      0.072    -10.272      0.000      -0.877      -0.596\n",
      "Fandom_one_direction          -0.2266      0.017    -13.311      0.000      -0.260      -0.193\n",
      "Fandom_sherlock               -0.0545      0.010     -5.423      0.000      -0.074      -0.035\n",
      "nonzero_prob                6.971e+05   5781.660    120.575      0.000    6.86e+05    7.08e+05\n",
      "==============================================================================\n",
      "Omnibus:                      402.465   Durbin-Watson:                   1.355\n",
      "Prob(Omnibus):                  0.000   Jarque-Bera (JB):              479.236\n",
      "Skew:                           0.021   Prob(JB):                    8.62e-105\n",
      "Kurtosis:                       3.196   Cond. No.                     3.81e+09\n",
      "==============================================================================\n",
      "\n",
      "Warnings:\n",
      "[1] Standard Errors assume that the covariance matrix of the errors is correctly specified.\n",
      "[2] The condition number is large, 3.81e+09. This might indicate that there are\n",
      "strong multicollinearity or other numerical problems.\n"
     ]
    }
   ],
   "source": [
    "print(hits_model.summary())"
   ]
  },
  {
   "cell_type": "code",
   "execution_count": 31,
   "metadata": {},
   "outputs": [
    {
     "name": "stdout",
     "output_type": "stream",
     "text": [
      "                            OLS Regression Results                            \n",
      "==============================================================================\n",
      "Dep. Variable:               Comments   R-squared:                       0.065\n",
      "Model:                            OLS   Adj. R-squared:                  0.065\n",
      "Method:                 Least Squares   F-statistic:                     451.7\n",
      "Date:                Fri, 12 Apr 2019   Prob (F-statistic):               0.00\n",
      "Time:                        18:42:54   Log-Likelihood:            -3.7862e+05\n",
      "No. Observations:              287139   AIC:                         7.573e+05\n",
      "Df Residuals:                  287094   BIC:                         7.578e+05\n",
      "Df Model:                          44                                         \n",
      "Covariance Type:            nonrobust                                         \n",
      "==============================================================================================\n",
      "                                 coef    std err          t      P>|t|      [0.025      0.975]\n",
      "----------------------------------------------------------------------------------------------\n",
      "Intercept                      0.8386      0.007    113.718      0.000       0.824       0.853\n",
      "Term_novelty                  -0.0751      0.006    -12.188      0.000      -0.087      -0.063\n",
      "Term_novelty_squared           0.4165      0.034     12.187      0.000       0.350       0.483\n",
      "Topic_novelty                 -0.6912      0.043    -15.989      0.000      -0.776      -0.606\n",
      "Topic_novelty_squared          1.2226      0.513      2.383      0.017       0.217       2.228\n",
      "Chapters                       0.0010   4.33e-05     22.256      0.000       0.001       0.001\n",
      "Freq_relationship              0.1282      0.004     32.667      0.000       0.120       0.136\n",
      "author_fic_cnt             -1.175e-05   1.87e-06     -6.296      0.000   -1.54e-05   -8.09e-06\n",
      "Category_Gen                   0.0193      0.005      3.834      0.000       0.009       0.029\n",
      "Category_F_M                  -0.0764      0.004    -17.971      0.000      -0.085      -0.068\n",
      "Category_M_M                   0.0826      0.005     17.931      0.000       0.074       0.092\n",
      "Category_Multi                -0.0103      0.006     -1.600      0.110      -0.023       0.002\n",
      "Category_Other                -0.0745      0.011     -6.906      0.000      -0.096      -0.053\n",
      "Category_Unknown              -0.0814      0.010     -8.044      0.000      -0.101      -0.062\n",
      "ArchiveWarnings_underage      -0.0463      0.010     -4.771      0.000      -0.065      -0.027\n",
      "ArchiveWarnings_death         -0.1276      0.008    -16.762      0.000      -0.143      -0.113\n",
      "ArchiveWarnings_violence      -0.0894      0.006    -14.309      0.000      -0.102      -0.077\n",
      "ArchiveWarnings_choose_no     -0.1221      0.004    -33.318      0.000      -0.129      -0.115\n",
      "ArchiveWarnings_noncon         0.0120      0.009      1.354      0.176      -0.005       0.029\n",
      "Rating_N                      -0.0681      0.007     -9.921      0.000      -0.082      -0.055\n",
      "Rating_E                       0.1319      0.006     22.201      0.000       0.120       0.144\n",
      "Rating_M                       0.0543      0.006      9.379      0.000       0.043       0.066\n",
      "Rating_T                      -0.0183      0.005     -3.701      0.000      -0.028      -0.009\n",
      "Fandom_dcu                     0.2815      0.010     28.667      0.000       0.262       0.301\n",
      "Fandom_doctor_who              0.0038      0.012      0.325      0.745      -0.019       0.027\n",
      "Fandom_star_wars               0.3615      0.012     29.219      0.000       0.337       0.386\n",
      "Fandom_arthurian               0.0789      0.013      5.995      0.000       0.053       0.105\n",
      "Fandom_supernatural            0.0543      0.009      6.332      0.000       0.038       0.071\n",
      "Fandom_haikyuu                 0.2089      0.013     15.824      0.000       0.183       0.235\n",
      "Fandom_kuroko_no_basuke        0.0356      0.016      2.210      0.027       0.004       0.067\n",
      "Fandom_hamilton_miranda        0.3852      0.026     15.041      0.000       0.335       0.435\n",
      "Fandom_dragon_age              0.1258      0.011     11.849      0.000       0.105       0.147\n",
      "Fandom_the_walking_dead        0.1987      0.014     13.822      0.000       0.171       0.227\n",
      "Fandom_buffy                  -0.1505      0.020     -7.487      0.000      -0.190      -0.111\n",
      "Fandom_les_miserables          0.0272      0.018      1.504      0.133      -0.008       0.063\n",
      "Fandom_naruto                 -0.0862      0.020     -4.292      0.000      -0.126      -0.047\n",
      "Fandom_tolkien                 0.4474      0.011     42.318      0.000       0.427       0.468\n",
      "Fandom_shakespare              0.0699      0.073      0.963      0.335      -0.072       0.212\n",
      "Fandom_hetalia                -0.2931      0.017    -17.140      0.000      -0.327      -0.260\n",
      "Fandom_attack_on_titan         0.1228      0.011     10.721      0.000       0.100       0.145\n",
      "Fandom_ms_paint_adventures     0.0380      0.011      3.607      0.000       0.017       0.059\n",
      "Fandom_marvel                  0.4432      0.008     56.938      0.000       0.428       0.458\n",
      "Fandom_sailor_moon            -0.3191      0.061     -5.217      0.000      -0.439      -0.199\n",
      "Fandom_one_direction          -0.0228      0.015     -1.570      0.116      -0.051       0.006\n",
      "Fandom_sherlock                0.2699      0.009     31.530      0.000       0.253       0.287\n",
      "nonzero_prob                   0.4193      0.004    113.718      0.000       0.412       0.427\n",
      "==============================================================================\n",
      "Omnibus:                     8695.660   Durbin-Watson:                   1.720\n",
      "Prob(Omnibus):                  0.000   Jarque-Bera (JB):             6235.851\n",
      "Skew:                           0.259   Prob(JB):                         0.00\n",
      "Kurtosis:                       2.497   Cond. No.                     8.40e+16\n",
      "==============================================================================\n",
      "\n",
      "Warnings:\n",
      "[1] Standard Errors assume that the covariance matrix of the errors is correctly specified.\n",
      "[2] The smallest eigenvalue is 3.47e-23. This might indicate that there are\n",
      "strong multicollinearity problems or that the design matrix is singular.\n"
     ]
    }
   ],
   "source": [
    "print(comments_model.summary())"
   ]
  },
  {
   "cell_type": "code",
   "execution_count": 32,
   "metadata": {},
   "outputs": [
    {
     "name": "stdout",
     "output_type": "stream",
     "text": [
      "                            OLS Regression Results                            \n",
      "==============================================================================\n",
      "Dep. Variable:              Bookmarks   R-squared:                       0.269\n",
      "Model:                            OLS   Adj. R-squared:                  0.269\n",
      "Method:                 Least Squares   F-statistic:                     2353.\n",
      "Date:                Fri, 12 Apr 2019   Prob (F-statistic):               0.00\n",
      "Time:                        18:42:54   Log-Likelihood:            -4.4450e+05\n",
      "No. Observations:              287139   AIC:                         8.891e+05\n",
      "Df Residuals:                  287093   BIC:                         8.896e+05\n",
      "Df Model:                          45                                         \n",
      "Covariance Type:            nonrobust                                         \n",
      "==============================================================================================\n",
      "                                 coef    std err          t      P>|t|      [0.025      0.975]\n",
      "----------------------------------------------------------------------------------------------\n",
      "Intercept                      4.6753      0.025    186.010      0.000       4.626       4.725\n",
      "Term_novelty                  -0.7333      0.008    -87.702      0.000      -0.750      -0.717\n",
      "Term_novelty_squared          -0.4922      0.043    -11.447      0.000      -0.576      -0.408\n",
      "Topic_novelty                 -1.5442      0.054    -28.371      0.000      -1.651      -1.437\n",
      "Topic_novelty_squared          2.2862      0.646      3.541      0.000       1.021       3.552\n",
      "Chapters                      -0.0049    5.9e-05    -83.655      0.000      -0.005      -0.005\n",
      "Freq_relationship              0.6682      0.006    119.250      0.000       0.657       0.679\n",
      "author_fic_cnt             -9.322e-06   2.35e-06     -3.970      0.000   -1.39e-05   -4.72e-06\n",
      "Category_Gen                  -0.0740      0.006    -11.664      0.000      -0.086      -0.062\n",
      "Category_F_M                  -0.3324      0.005    -61.937      0.000      -0.343      -0.322\n",
      "Category_M_M                   0.5385      0.006     84.868      0.000       0.526       0.551\n",
      "Category_Multi                -0.0822      0.008    -10.109      0.000      -0.098      -0.066\n",
      "Category_Other                -0.4943      0.014    -36.086      0.000      -0.521      -0.467\n",
      "Category_Unknown              -0.6498      0.013    -49.827      0.000      -0.675      -0.624\n",
      "ArchiveWarnings_underage       0.1282      0.012     10.474      0.000       0.104       0.152\n",
      "ArchiveWarnings_death         -0.6865      0.010    -70.413      0.000      -0.706      -0.667\n",
      "ArchiveWarnings_violence      -0.3352      0.008    -42.653      0.000      -0.351      -0.320\n",
      "ArchiveWarnings_choose_no     -0.2364      0.005    -51.290      0.000      -0.245      -0.227\n",
      "ArchiveWarnings_noncon         0.1080      0.011      9.655      0.000       0.086       0.130\n",
      "Rating_N                      -0.1656      0.009    -19.107      0.000      -0.183      -0.149\n",
      "Rating_E                       0.3823      0.008     47.420      0.000       0.367       0.398\n",
      "Rating_M                       0.0819      0.008     10.677      0.000       0.067       0.097\n",
      "Rating_T                      -0.0604      0.006     -9.552      0.000      -0.073      -0.048\n",
      "Fandom_dcu                     0.7289      0.013     55.975      0.000       0.703       0.754\n",
      "Fandom_doctor_who             -1.1817      0.015    -77.967      0.000      -1.211      -1.152\n",
      "Fandom_star_wars               0.3780      0.016     24.123      0.000       0.347       0.409\n",
      "Fandom_arthurian              -0.2104      0.017    -12.705      0.000      -0.243      -0.178\n",
      "Fandom_supernatural           -0.4328      0.011    -40.066      0.000      -0.454      -0.412\n",
      "Fandom_haikyuu                 0.2498      0.017     14.914      0.000       0.217       0.283\n",
      "Fandom_kuroko_no_basuke       -0.0495      0.020     -2.439      0.015      -0.089      -0.010\n",
      "Fandom_hamilton_miranda       -0.4776      0.032    -14.822      0.000      -0.541      -0.414\n",
      "Fandom_dragon_age             -0.3627      0.013    -27.127      0.000      -0.389      -0.337\n",
      "Fandom_the_walking_dead       -0.4527      0.018    -24.897      0.000      -0.488      -0.417\n",
      "Fandom_buffy                  -1.3128      0.026    -51.149      0.000      -1.363      -1.263\n",
      "Fandom_les_miserables         -0.5157      0.023    -22.620      0.000      -0.560      -0.471\n",
      "Fandom_naruto                 -0.4066      0.025    -16.076      0.000      -0.456      -0.357\n",
      "Fandom_tolkien                 0.1978      0.013     14.745      0.000       0.172       0.224\n",
      "Fandom_shakespare             -0.9165      0.091    -10.042      0.000      -1.095      -0.738\n",
      "Fandom_hetalia                -1.3071      0.022    -60.318      0.000      -1.350      -1.265\n",
      "Fandom_attack_on_titan         0.0045      0.014      0.313      0.754      -0.024       0.033\n",
      "Fandom_ms_paint_adventures    -0.0156      0.013     -1.165      0.244      -0.042       0.011\n",
      "Fandom_marvel                  0.8568      0.011     81.128      0.000       0.836       0.878\n",
      "Fandom_sailor_moon            -1.1026      0.077    -14.329      0.000      -1.253      -0.952\n",
      "Fandom_one_direction          -0.4368      0.018    -23.908      0.000      -0.473      -0.401\n",
      "Fandom_sherlock               -0.0563      0.011     -5.191      0.000      -0.078      -0.035\n",
      "nonzero_prob                  -5.2073      0.034   -154.061      0.000      -5.274      -5.141\n",
      "==============================================================================\n",
      "Omnibus:                       48.127   Durbin-Watson:                   1.452\n",
      "Prob(Omnibus):                  0.000   Jarque-Bera (JB):               50.196\n",
      "Skew:                          -0.015   Prob(JB):                     1.26e-11\n",
      "Kurtosis:                       3.057   Cond. No.                     2.81e+05\n",
      "==============================================================================\n",
      "\n",
      "Warnings:\n",
      "[1] Standard Errors assume that the covariance matrix of the errors is correctly specified.\n",
      "[2] The condition number is large, 2.81e+05. This might indicate that there are\n",
      "strong multicollinearity or other numerical problems.\n"
     ]
    }
   ],
   "source": [
    "print(bookmarks_model.summary())"
   ]
  },
  {
   "cell_type": "code",
   "execution_count": null,
   "metadata": {},
   "outputs": [],
   "source": []
  },
  {
   "cell_type": "code",
   "execution_count": 27,
   "metadata": {},
   "outputs": [],
   "source": [
    "# fig = plt.figure(figsize=(20,20))\n",
    "# fig = sm.graphics.plot_regress_exog(kudos_model, \"Term_novelty\", fig=fig)\n",
    "# plt.savefig('partial_reg_plots_term_novelty.png', format='png')"
   ]
  },
  {
   "cell_type": "code",
   "execution_count": null,
   "metadata": {},
   "outputs": [],
   "source": []
  }
 ],
 "metadata": {
  "kernelspec": {
   "display_name": "Python 3",
   "language": "python",
   "name": "python3"
  },
  "language_info": {
   "codemirror_mode": {
    "name": "ipython",
    "version": 3
   },
   "file_extension": ".py",
   "mimetype": "text/x-python",
   "name": "python",
   "nbconvert_exporter": "python",
   "pygments_lexer": "ipython3",
   "version": "3.6.7"
  }
 },
 "nbformat": 4,
 "nbformat_minor": 2
}
