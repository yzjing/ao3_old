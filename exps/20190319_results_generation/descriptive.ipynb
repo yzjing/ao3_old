{
 "cells": [
  {
   "cell_type": "code",
   "execution_count": 1,
   "metadata": {},
   "outputs": [],
   "source": [
    "import pandas as pd\n",
    "import os\n",
    "import matplotlib.pyplot as plt\n",
    "%matplotlib inline\n",
    "import numpy as np\n",
    "from collections import Counter\n",
    "from scipy.stats import norm"
   ]
  },
  {
   "cell_type": "code",
   "execution_count": 2,
   "metadata": {},
   "outputs": [],
   "source": [
    "data_path = '../../data/lda_jsd_toprev_conlen/'"
   ]
  },
  {
   "cell_type": "code",
   "execution_count": 3,
   "metadata": {},
   "outputs": [],
   "source": [
    "fandom_list = [i for i in os.listdir(data_path) if 'tsv' in i]"
   ]
  },
  {
   "cell_type": "markdown",
   "metadata": {},
   "source": [
    "### Time dist"
   ]
  },
  {
   "cell_type": "code",
   "execution_count": 6,
   "metadata": {},
   "outputs": [],
   "source": [
    "times = Counter()\n",
    "for fandom in fandom_list:\n",
    "    df = pd.read_csv(data_path + fandom, sep = '\\t')\n",
    "    times += Counter(df.PublishDate.str[:7].tolist())"
   ]
  },
  {
   "cell_type": "code",
   "execution_count": 7,
   "metadata": {},
   "outputs": [],
   "source": [
    "time_labels = sorted(times.keys())[:-1]"
   ]
  },
  {
   "cell_type": "code",
   "execution_count": 8,
   "metadata": {
    "scrolled": false
   },
   "outputs": [],
   "source": [
    "agg = 0\n",
    "for l in time_labels:\n",
    "    if int(l[0:4]) < 2009:\n",
    "        agg += times[l]\n",
    "time_labels = [l for l in time_labels if int(l[0:4]) >=  2009]"
   ]
  },
  {
   "cell_type": "code",
   "execution_count": 9,
   "metadata": {},
   "outputs": [],
   "source": [
    "x = np.arange(1, len(time_labels) +1)\n",
    "y = [times[k] for k in time_labels]"
   ]
  },
  {
   "cell_type": "code",
   "execution_count": 10,
   "metadata": {},
   "outputs": [
    {
     "data": {
      "text/plain": [
       "Counter({'2002-08': 6,\n",
       "         '2002-09': 12,\n",
       "         '2002-10': 10,\n",
       "         '2002-11': 26,\n",
       "         '2002-12': 27,\n",
       "         '2003-01': 24,\n",
       "         '2003-02': 27,\n",
       "         '2003-03': 36,\n",
       "         '2003-04': 51,\n",
       "         '2003-05': 57,\n",
       "         '2003-06': 56,\n",
       "         '2003-07': 118,\n",
       "         '2003-08': 121,\n",
       "         '2003-09': 102,\n",
       "         '2003-10': 61,\n",
       "         '2003-11': 58,\n",
       "         '2003-12': 89,\n",
       "         '2004-01': 107,\n",
       "         '2004-02': 74,\n",
       "         '2004-03': 88,\n",
       "         '2004-04': 86,\n",
       "         '2004-05': 82,\n",
       "         '2004-06': 93,\n",
       "         '2004-07': 87,\n",
       "         '2004-08': 113,\n",
       "         '2004-09': 72,\n",
       "         '2004-10': 79,\n",
       "         '2004-11': 91,\n",
       "         '2004-12': 75,\n",
       "         '2005-01': 118,\n",
       "         '2005-02': 88,\n",
       "         '2005-03': 89,\n",
       "         '2005-04': 83,\n",
       "         '2005-05': 78,\n",
       "         '2005-06': 54,\n",
       "         '2005-07': 109,\n",
       "         '2005-08': 122,\n",
       "         '2005-09': 116,\n",
       "         '2005-10': 125,\n",
       "         '2005-11': 89,\n",
       "         '2005-12': 98,\n",
       "         '2006-01': 126,\n",
       "         '2006-02': 73,\n",
       "         '2006-03': 96,\n",
       "         '2006-04': 100,\n",
       "         '2006-05': 74,\n",
       "         '2006-06': 119,\n",
       "         '2006-07': 105,\n",
       "         '2006-08': 104,\n",
       "         '2006-09': 192,\n",
       "         '2006-10': 77,\n",
       "         '2006-11': 57,\n",
       "         '2006-12': 98,\n",
       "         '2007-01': 115,\n",
       "         '2007-02': 87,\n",
       "         '2007-03': 80,\n",
       "         '2007-04': 122,\n",
       "         '2007-05': 115,\n",
       "         '2007-06': 106,\n",
       "         '2007-07': 144,\n",
       "         '2007-08': 177,\n",
       "         '2007-09': 151,\n",
       "         '2007-10': 107,\n",
       "         '2007-11': 70,\n",
       "         '2007-12': 147,\n",
       "         '2008-01': 138,\n",
       "         '2008-02': 178,\n",
       "         '2008-03': 115,\n",
       "         '2008-04': 145,\n",
       "         '2008-05': 186,\n",
       "         '2008-06': 155,\n",
       "         '2008-07': 160,\n",
       "         '2008-08': 113,\n",
       "         '2008-09': 148,\n",
       "         '2008-10': 162,\n",
       "         '2008-11': 148,\n",
       "         '2008-12': 128,\n",
       "         '2009-01': 189,\n",
       "         '2009-02': 192,\n",
       "         '2009-03': 195,\n",
       "         '2009-04': 190,\n",
       "         '2009-05': 233,\n",
       "         '2009-06': 191,\n",
       "         '2009-07': 218,\n",
       "         '2009-08': 274,\n",
       "         '2009-09': 201,\n",
       "         '2009-10': 250,\n",
       "         '2009-11': 937,\n",
       "         '2009-12': 821,\n",
       "         '2010-01': 1145,\n",
       "         '2010-02': 698,\n",
       "         '2010-03': 973,\n",
       "         '2010-04': 596,\n",
       "         '2010-05': 764,\n",
       "         '2010-06': 805,\n",
       "         '2010-07': 783,\n",
       "         '2010-08': 895,\n",
       "         '2010-09': 1150,\n",
       "         '2010-10': 974,\n",
       "         '2010-11': 600,\n",
       "         '2010-12': 702,\n",
       "         '2011-01': 1110,\n",
       "         '2011-02': 747,\n",
       "         '2011-03': 978,\n",
       "         '2011-04': 1266,\n",
       "         '2011-05': 1176,\n",
       "         '2011-06': 1551,\n",
       "         '2011-07': 1754,\n",
       "         '2011-08': 1834,\n",
       "         '2011-09': 1352,\n",
       "         '2011-10': 1510,\n",
       "         '2011-11': 1610,\n",
       "         '2011-12': 2737,\n",
       "         '2012-01': 3165,\n",
       "         '2012-02': 3022,\n",
       "         '2012-03': 3128,\n",
       "         '2012-04': 3784,\n",
       "         '2012-05': 3865,\n",
       "         '2012-06': 5272,\n",
       "         '2012-07': 4841,\n",
       "         '2012-08': 4599,\n",
       "         '2012-09': 4359,\n",
       "         '2012-10': 4248,\n",
       "         '2012-11': 4730,\n",
       "         '2012-12': 6489,\n",
       "         '2013-01': 9068,\n",
       "         '2013-02': 7520,\n",
       "         '2013-03': 7601,\n",
       "         '2013-04': 7384,\n",
       "         '2013-05': 7635,\n",
       "         '2013-06': 8152,\n",
       "         '2013-07': 8585,\n",
       "         '2013-08': 8398,\n",
       "         '2013-09': 7701,\n",
       "         '2013-10': 8137,\n",
       "         '2013-11': 7584,\n",
       "         '2013-12': 9850,\n",
       "         '2014-01': 10333,\n",
       "         '2014-02': 10887,\n",
       "         '2014-03': 10928,\n",
       "         '2014-04': 11110,\n",
       "         '2014-05': 12344,\n",
       "         '2014-06': 11970,\n",
       "         '2014-07': 13146,\n",
       "         '2014-08': 13908,\n",
       "         '2014-09': 11774,\n",
       "         '2014-10': 12220,\n",
       "         '2014-11': 11968,\n",
       "         '2014-12': 15156,\n",
       "         '2015-01': 14447,\n",
       "         '2015-02': 14550,\n",
       "         '2015-03': 15325,\n",
       "         '2015-04': 16304,\n",
       "         '2015-05': 16394,\n",
       "         '2015-06': 15794,\n",
       "         '2015-07': 17245,\n",
       "         '2015-08': 16958,\n",
       "         '2015-09': 14967,\n",
       "         '2015-10': 14778,\n",
       "         '2015-11': 15180,\n",
       "         '2015-12': 18926,\n",
       "         '2016-01': 19707,\n",
       "         '2016-02': 17868,\n",
       "         '2016-03': 19411,\n",
       "         '2016-04': 18830,\n",
       "         '2016-05': 12361,\n",
       "         '2016-06': 572})"
      ]
     },
     "execution_count": 10,
     "metadata": {},
     "output_type": "execute_result"
    }
   ],
   "source": [
    "times"
   ]
  },
  {
   "cell_type": "code",
   "execution_count": 11,
   "metadata": {},
   "outputs": [],
   "source": [
    "time_labels.insert(0,' ')"
   ]
  },
  {
   "cell_type": "code",
   "execution_count": 12,
   "metadata": {},
   "outputs": [
    {
     "data": {
      "text/plain": [
       "90"
      ]
     },
     "execution_count": 12,
     "metadata": {},
     "output_type": "execute_result"
    }
   ],
   "source": [
    "len(time_labels)"
   ]
  },
  {
   "cell_type": "code",
   "execution_count": 13,
   "metadata": {},
   "outputs": [
    {
     "data": {
      "text/plain": [
       "[' ',\n",
       " '2009-01',\n",
       " '2009-02',\n",
       " '2009-03',\n",
       " '2009-04',\n",
       " '2009-05',\n",
       " '2009-06',\n",
       " '2009-07',\n",
       " '2009-08',\n",
       " '2009-09',\n",
       " '2009-10',\n",
       " '2009-11',\n",
       " '2009-12',\n",
       " '2010-01',\n",
       " '2010-02',\n",
       " '2010-03',\n",
       " '2010-04',\n",
       " '2010-05',\n",
       " '2010-06',\n",
       " '2010-07',\n",
       " '2010-08',\n",
       " '2010-09',\n",
       " '2010-10',\n",
       " '2010-11',\n",
       " '2010-12',\n",
       " '2011-01',\n",
       " '2011-02',\n",
       " '2011-03',\n",
       " '2011-04',\n",
       " '2011-05',\n",
       " '2011-06',\n",
       " '2011-07',\n",
       " '2011-08',\n",
       " '2011-09',\n",
       " '2011-10',\n",
       " '2011-11',\n",
       " '2011-12',\n",
       " '2012-01',\n",
       " '2012-02',\n",
       " '2012-03',\n",
       " '2012-04',\n",
       " '2012-05',\n",
       " '2012-06',\n",
       " '2012-07',\n",
       " '2012-08',\n",
       " '2012-09',\n",
       " '2012-10',\n",
       " '2012-11',\n",
       " '2012-12',\n",
       " '2013-01',\n",
       " '2013-02',\n",
       " '2013-03',\n",
       " '2013-04',\n",
       " '2013-05',\n",
       " '2013-06',\n",
       " '2013-07',\n",
       " '2013-08',\n",
       " '2013-09',\n",
       " '2013-10',\n",
       " '2013-11',\n",
       " '2013-12',\n",
       " '2014-01',\n",
       " '2014-02',\n",
       " '2014-03',\n",
       " '2014-04',\n",
       " '2014-05',\n",
       " '2014-06',\n",
       " '2014-07',\n",
       " '2014-08',\n",
       " '2014-09',\n",
       " '2014-10',\n",
       " '2014-11',\n",
       " '2014-12',\n",
       " '2015-01',\n",
       " '2015-02',\n",
       " '2015-03',\n",
       " '2015-04',\n",
       " '2015-05',\n",
       " '2015-06',\n",
       " '2015-07',\n",
       " '2015-08',\n",
       " '2015-09',\n",
       " '2015-10',\n",
       " '2015-11',\n",
       " '2015-12',\n",
       " '2016-01',\n",
       " '2016-02',\n",
       " '2016-03',\n",
       " '2016-04',\n",
       " '2016-05']"
      ]
     },
     "execution_count": 13,
     "metadata": {},
     "output_type": "execute_result"
    }
   ],
   "source": [
    "time_labels"
   ]
  },
  {
   "cell_type": "markdown",
   "metadata": {},
   "source": [
    "Number of works in each fandom"
   ]
  },
  {
   "cell_type": "code",
   "execution_count": 14,
   "metadata": {},
   "outputs": [],
   "source": [
    "fandom_size = {}\n",
    "s = 0\n",
    "for f in fandom_list:\n",
    "    df = pd.read_csv(os.path.join(data_path, f), sep = '\\t')\n",
    "    fandom_size[len(df)] = f.split('.')[0]\n",
    "    s += len(df)"
   ]
  },
  {
   "cell_type": "code",
   "execution_count": 15,
   "metadata": {},
   "outputs": [],
   "source": [
    "from matplotlib import rc\n",
    "rc('font',**{'family':'sans-serif','sans-serif':['Helvetica']})\n",
    "## for Palatino and other serif fonts use:\n",
    "#rc('font',**{'family':'serif','serif':['Palatino']})\n",
    "rc('text', usetex=True)"
   ]
  },
  {
   "cell_type": "code",
   "execution_count": 16,
   "metadata": {},
   "outputs": [
    {
     "data": {
      "text/plain": [
       "613594"
      ]
     },
     "execution_count": 16,
     "metadata": {},
     "output_type": "execute_result"
    }
   ],
   "source": [
    "s"
   ]
  },
  {
   "cell_type": "code",
   "execution_count": 17,
   "metadata": {},
   "outputs": [],
   "source": [
    "import pickle"
   ]
  },
  {
   "cell_type": "code",
   "execution_count": 18,
   "metadata": {},
   "outputs": [],
   "source": [
    "labels = ['Works of William Shakespare',\n",
    " 'Bishoujo Senshi Sailor Moon',\n",
    " 'Hamilton (by Miranda)',\n",
    " 'Les Miserables ',\n",
    " 'Kuroko no Basuke',\n",
    " 'Naruto',\n",
    " 'The Walking Dead ',\n",
    " 'Haikyuu',\n",
    " 'Buffy the Vampire Slayer',\n",
    " 'One Direction',\n",
    " 'Hetalia: Axis Powers',\n",
    " 'Arthurian Mythology ',\n",
    " 'Star Wars',\n",
    " 'Attack on Titan',\n",
    " 'Works of J.R.R.Tolkien',\n",
    " 'MS Paint Adventures',\n",
    " 'Dragon Age ',\n",
    " 'Doctor Who ',\n",
    " 'DC',\n",
    " 'Harry Potter',\n",
    " 'Sherlock Holmes ',\n",
    " 'Supernatural',\n",
    " 'Marvel']"
   ]
  },
  {
   "cell_type": "code",
   "execution_count": 19,
   "metadata": {},
   "outputs": [
    {
     "name": "stderr",
     "output_type": "stream",
     "text": [
      "/anaconda3/envs/python36/lib/python3.6/site-packages/matplotlib/font_manager.py:1241: UserWarning: findfont: Font family ['sans-serif'] not found. Falling back to DejaVu Sans.\n",
      "  (prop.get_family(), self.defaultFamily[fontext]))\n",
      "/anaconda3/envs/python36/lib/python3.6/site-packages/matplotlib/font_manager.py:1241: UserWarning: findfont: Font family ['sans-serif'] not found. Falling back to DejaVu Sans.\n",
      "  (prop.get_family(), self.defaultFamily[fontext]))\n",
      "/anaconda3/envs/python36/lib/python3.6/site-packages/matplotlib/font_manager.py:1241: UserWarning: findfont: Font family ['sans-serif'] not found. Falling back to DejaVu Sans.\n",
      "  (prop.get_family(), self.defaultFamily[fontext]))\n"
     ]
    },
    {
     "data": {
      "image/png": "[encoded data removed]",
      "text/plain": [
       "<Figure size 1080x432 with 2 Axes>"
      ]
     },
     "metadata": {},
     "output_type": "display_data"
    }
   ],
   "source": [
    "fig, ax = plt.subplots(1,2,figsize = (15,6))\n",
    "plt.locator_params(axis='x', nbins=10)\n",
    "idx = np.arange(len(fandom_size))\n",
    "data = sorted(fandom_size.keys())\n",
    "\n",
    "# pickle.dump(data, open('data.p', 'wb'))\n",
    "# pickle.dump(labels, open('labels.p', 'wb'))\n",
    "\n",
    "ax[0].barh(idx, data)\n",
    "ax[0].set_yticks(range(0,24))\n",
    "ax[0].set_yticklabels(labels)\n",
    "\n",
    "for tick in ax[0].yaxis.get_major_ticks():\n",
    "    tick.label.set_fontsize(13)\n",
    "    tick.label.set_horizontalalignment('right')\n",
    "for tick in ax[0].xaxis.get_major_ticks():\n",
    "    tick.label.set_fontsize(13)\n",
    "    \n",
    "# find the maximum width of the label on the major ticks\n",
    "# yax = ax[0].get_yaxis()\n",
    "# yax.set_tick_params(pad=pad)\n",
    "\n",
    "    \n",
    "ax[0].set_ylim(-0.5, 22.5)\n",
    "ax[0].set_ylabel(\"Fandom\", fontsize = 15)\n",
    "ax[0].set_xlabel(\"Number of fanfictions\", fontsize = 15)\n",
    "ax[0].set_title('(a): Size of Fandoms', fontsize = 15)\n",
    "\n",
    "idx = range(0,99,9)\n",
    "time_labels_f =[]\n",
    "for i in idx:\n",
    "    time_labels_f.append(time_labels[i-5])\n",
    "\n",
    "ax[1].scatter(0, agg)\n",
    "ax[1].plot(x, y)\n",
    "# ax[1].xaxis.set_ticks(np.arange(1, len(time_labels_f), 5))\n",
    "\n",
    "ax[1].set_xticklabels(time_labels_f)\n",
    "for tick in ax[1].xaxis.get_major_ticks():\n",
    "    tick.label.set_fontsize(13)\n",
    "    tick.label.set_rotation(90)\n",
    "for tick in ax[1].yaxis.get_major_ticks():\n",
    "    tick.label.set_fontsize(13)\n",
    "\n",
    "        \n",
    "ax[1].set_xlabel(\"Time\", fontsize=15)\n",
    "ax[1].set_ylabel(\"Number of fanfictions published\",fontsize=15)\n",
    "ax[1].set_title('(b): Volume of Fanfictions', fontsize = 15)\n",
    "\n",
    "ax[1].text(0.08, 0.4, \"Pre-2009\", fontsize=14, transform=ax[1].transAxes)\n",
    "\n",
    "\n",
    "plt.tight_layout()\n",
    "\n",
    "plt.savefig(\"fic_time_fandom_size_dist.pdf\", format=\"pdf\")"
   ]
  },
  {
   "cell_type": "markdown",
   "metadata": {},
   "source": [
    "Length distribution"
   ]
  },
  {
   "cell_type": "code",
   "execution_count": 20,
   "metadata": {},
   "outputs": [],
   "source": [
    "def create_timelist(df):\n",
    "    timelist = df.PublishDate.drop_duplicates().tolist()\n",
    "    timelist = [str(i)[:7] for i in timelist]\n",
    "    return sorted(list(set(timelist)))"
   ]
  },
  {
   "cell_type": "code",
   "execution_count": 21,
   "metadata": {},
   "outputs": [],
   "source": [
    "def create_df_time(df, time):\n",
    "    return df[df.PublishDate.str[:7] == time]"
   ]
  },
  {
   "cell_type": "code",
   "execution_count": 22,
   "metadata": {},
   "outputs": [
    {
     "name": "stdout",
     "output_type": "stream",
     "text": [
      "2013-03 11468\n",
      "2013-04 584066\n",
      "2013-05 176019\n",
      "2013-06 2652\n",
      "2013-07 133918\n",
      "2013-08 94903\n",
      "2013-09 57475\n",
      "2013-10 118131\n",
      "2013-11 110725\n",
      "2013-12 62464\n",
      "2014-01 36371\n",
      "2014-02 38083\n",
      "2014-03 59273\n",
      "2014-04 46083\n",
      "2014-05 122026\n",
      "2014-06 5609\n",
      "2014-07 93886\n",
      "2014-08 165596\n",
      "2014-09 130703\n",
      "2014-10 56641\n",
      "2014-11 29379\n",
      "2014-12 165035\n",
      "2015-01 30827\n",
      "2015-02 312106\n",
      "2015-03 325541\n",
      "2015-04 163434\n",
      "2015-05 183057\n",
      "2015-06 271704\n",
      "2015-07 314230\n",
      "2015-08 632879\n",
      "2015-09 93104\n",
      "2015-10 162942\n",
      "2015-11 169485\n",
      "2015-12 156077\n",
      "2016-01 262073\n",
      "2016-02 55776\n",
      "2016-03 730045\n",
      "2016-04 283115\n",
      "2016-05 152162\n"
     ]
    }
   ],
   "source": [
    "for f in os.listdir(data_path):\n",
    "    word_month = {}\n",
    "    df = pd.read_csv(os.path.join(data_path, f), sep = '\\t')\n",
    "    df = df.drop(['ChapterIndex', 'URL','CompleteDate','UpdateDate'], axis=1)\n",
    "    df = df.drop_duplicates()\n",
    "    tl = create_timelist(df)\n",
    "    for t in tl:\n",
    "        df_t = create_df_time(df,t)\n",
    "        word_month[t] = df_t.Words.sum()\n",
    "    for k,v in word_month.items():\n",
    "        print(k,v)\n",
    "    break\n"
   ]
  },
  {
   "cell_type": "code",
   "execution_count": 23,
   "metadata": {},
   "outputs": [],
   "source": [
    "kudos_all = []\n",
    "comments_all = []\n",
    "hits_all = []\n",
    "bookmarks_all = []\n",
    "for f in fandom_list:\n",
    "    df = pd.read_csv(os.path.join(data_path, f), sep = '\\t')\n",
    "    df.Kudos = df.Kudos/df.Chapters\n",
    "    df.Hits = df.Hits/df.Chapters\n",
    "    df.Bookmarks = df.Bookmarks/df.Chapters\n",
    "    df = df.replace([np.inf, -np.inf], np.nan)\n",
    "    df = df.dropna(how = 'any')\n",
    "    for item in df.Kudos.tolist():\n",
    "        kudos_all.append(item)\n",
    "    for item in df.Comments.tolist():\n",
    "        comments_all.append(item)\n",
    "    for item in df.Hits.tolist():\n",
    "        hits_all.append(item)\n",
    "    for item in df.Bookmarks.tolist():\n",
    "        bookmarks_all.append(item)\n",
    "     "
   ]
  },
  {
   "cell_type": "code",
   "execution_count": 24,
   "metadata": {},
   "outputs": [],
   "source": [
    "# plt.figure(figsize = (10,7))\n",
    "x1 = [i if not np.isnan(i) else 0 for i in kudos_all ]\n",
    "x2 = [i if not np.isnan(i) else 0 for i in hits_all ]\n",
    "x3 = [i if not np.isnan(i) else 0 for i in comments_all ]\n",
    "x4 = [i if not np.isnan(i) else 0 for i in bookmarks_all ]\n",
    "\n",
    "# print (len(x),len(y))\n",
    "# data = np.vstack([x, y]).T"
   ]
  },
  {
   "cell_type": "code",
   "execution_count": 25,
   "metadata": {},
   "outputs": [
    {
     "name": "stderr",
     "output_type": "stream",
     "text": [
      "/anaconda3/envs/python36/lib/python3.6/site-packages/matplotlib/font_manager.py:1241: UserWarning: findfont: Font family ['sans-serif'] not found. Falling back to DejaVu Sans.\n",
      "  (prop.get_family(), self.defaultFamily[fontext]))\n"
     ]
    },
    {
     "data": {
      "image/png": "[encoded data removed]",
      "text/plain": [
       "<Figure size 1440x576 with 8 Axes>"
      ]
     },
     "metadata": {},
     "output_type": "display_data"
    }
   ],
   "source": [
    "plt.figure(figsize=(20,8))\n",
    "\n",
    "\n",
    "plt.subplot(2, 4, 5)\n",
    "\n",
    "X = sorted(x1, reverse=True)\n",
    "N = len(X)\n",
    "Y = np.linspace( 1/N, 1, num=N)\n",
    "plt.loglog(X,Y)\n",
    "plt.xticks(fontsize='15')\n",
    "plt.yticks(fontsize='15')\n",
    "plt.xlabel('Kudos',fontsize = '17')\n",
    "plt.ylabel(\"CCDF\", fontsize='17')\n",
    "\n",
    "\n",
    "# X = np.log10(sorted(x1))\n",
    "# N = len(X)\n",
    "# plt.step(X[::-1], np.arange(X.size)/N)\n",
    "\n",
    "\n",
    "plt.subplot(2, 4, 6)\n",
    "\n",
    "X = sorted(x2, reverse=True)\n",
    "N = len(X)\n",
    "Y = np.linspace( 1/N, 1, num=N)\n",
    "plt.loglog(X,Y, label='Hits')\n",
    "plt.xticks(fontsize='15')\n",
    "plt.yticks(fontsize='15')\n",
    "plt.xlabel('Hits',fontsize = '17')\n",
    "plt.ylabel(\"CCDF\", fontsize='17')\n",
    "\n",
    "plt.subplot(2, 4, 7)\n",
    "\n",
    "X = sorted(x3, reverse=True)\n",
    "N = len(X)\n",
    "Y = np.linspace( 1/N, 1, num=N)\n",
    "plt.loglog(X,Y, label='Comments')\n",
    "plt.xticks(fontsize='15')\n",
    "plt.yticks(fontsize='15')\n",
    "plt.xlabel('Comments',fontsize = '17')\n",
    "plt.ylabel(\"CCDF\", fontsize='17')\n",
    "\n",
    "plt.subplot(2, 4, 8)\n",
    "\n",
    "X = sorted(x4, reverse=True)\n",
    "N = len(X)\n",
    "Y = np.linspace( 1/N, 1, num=N)\n",
    "plt.loglog(X,Y, label='Bookmarks')\n",
    "plt.xticks(fontsize='15')\n",
    "plt.yticks(fontsize='15')\n",
    "plt.xlabel('Bookmarks',fontsize = '17')\n",
    "plt.ylabel(\"CCDF\", fontsize='17')\n",
    "\n",
    "plt.subplot(2,4,1)\n",
    "plt.xticks(fontsize='15')\n",
    "plt.yticks(fontsize='15')\n",
    "plt.xlabel('Kudos',fontsize = '17')\n",
    "plt.ylabel(\"PDF\", fontsize='17')\n",
    "\n",
    "counts, bins = np.histogram(x1, bins=20)\n",
    "counts = counts/sum(counts)\n",
    "logbins = np.logspace(np.log10(bins[0]+0.001),np.log10(bins[-1]),len(bins)-1)\n",
    "plt.loglog(logbins, counts,'o')\n",
    "\n",
    "plt.subplot(2, 4, 2)\n",
    "\n",
    "plt.xticks(fontsize='15')\n",
    "plt.yticks(fontsize='15')\n",
    "plt.xlabel('Hits',fontsize = '17')\n",
    "plt.ylabel(\"PDF\", fontsize='17')\n",
    "counts, bins = np.histogram(x2, bins=20)\n",
    "counts = counts/sum(counts)\n",
    "logbins = np.logspace(np.log10(bins[0]+0.001),np.log10(bins[-1]),len(bins)-1)\n",
    "plt.loglog(logbins, counts,'o')\n",
    "\n",
    "plt.subplot(2, 4, 3)\n",
    "\n",
    "plt.xticks(fontsize='15')\n",
    "plt.yticks(fontsize='15')\n",
    "plt.xlabel('Comments',fontsize = '17')\n",
    "plt.ylabel(\"PDF\", fontsize='17')\n",
    "counts, bins = np.histogram(x3, bins=20)\n",
    "counts = counts/sum(counts)\n",
    "logbins = np.logspace(np.log10(bins[0]+0.001),np.log10(bins[-1]),len(bins)-1)\n",
    "plt.loglog(logbins, counts,'o')\n",
    "\n",
    "\n",
    "plt.subplot(2, 4, 4)\n",
    "\n",
    "plt.xticks(fontsize='15')\n",
    "plt.yticks(fontsize='15')\n",
    "plt.xlabel('Bookmarks',fontsize = '17')\n",
    "plt.ylabel(\"PDF\", fontsize='17')\n",
    "\n",
    "# histogram on log scale. \n",
    "# Use non-equal bin sizes, such that they look equal on log scale.\n",
    "counts, bins = np.histogram(x4, bins=20)\n",
    "counts = counts/sum(counts)\n",
    "logbins = np.logspace(np.log10(bins[0]+0.001),np.log10(bins[-1]),len(bins)-1)\n",
    "plt.loglog(logbins, counts,'o')\n",
    "\n",
    "plt.tight_layout()\n",
    "\n",
    "\n",
    "plt.savefig('kudos_comments_hits_bookmarks_ccdf.pdf', type='pdf')\n",
    "\n",
    "# pdf w/ kde\n",
    "# kde = scipy.stats.gaussian_kde(x4)\n",
    "# xx = np.linspace(0,len(x4),10)\n",
    "# plt.plot(xx, kde.evaluate(xx), c='green')  "
   ]
  },
  {
   "cell_type": "code",
   "execution_count": 26,
   "metadata": {},
   "outputs": [],
   "source": [
    "import scipy.stats"
   ]
  },
  {
   "cell_type": "code",
   "execution_count": 27,
   "metadata": {},
   "outputs": [],
   "source": [
    "def create_timewindow(timelist, window_len):\n",
    "    idx = 0\n",
    "    window_all = []\n",
    "    while idx <= len(timelist) - window_len:\n",
    "        time_window = []\n",
    "        for i in range(0, window_len):\n",
    "            time_window.append(timelist[idx + i])\n",
    "        idx += 1\n",
    "        window_all.append(time_window)\n",
    "    return window_all"
   ]
  },
  {
   "cell_type": "code",
   "execution_count": 28,
   "metadata": {},
   "outputs": [],
   "source": [
    "def create_df_time(df, time_window):\n",
    "    return df[df.PublishDate.str[:7] == time]"
   ]
  },
  {
   "cell_type": "code",
   "execution_count": 29,
   "metadata": {},
   "outputs": [],
   "source": [
    "def create_timelist(df):\n",
    "    timelist = df.PublishDate.drop_duplicates().tolist()\n",
    "    timelist = [str(i)[:7] for i in timelist]\n",
    "    return sorted(list(set(timelist)))"
   ]
  },
  {
   "cell_type": "code",
   "execution_count": 30,
   "metadata": {},
   "outputs": [
    {
     "ename": "FileNotFoundError",
     "evalue": "[Errno 2] File b'../../data/lda_jsd_toprev_conlen/shakespare_william_works_temporal_lda_jsd_toprev_full.tsv_metadata.tsv' does not exist: b'../../data/lda_jsd_toprev_conlen/shakespare_william_works_temporal_lda_jsd_toprev_full.tsv_metadata.tsv'",
     "output_type": "error",
     "traceback": [
      "\u001b[0;31m---------------------------------------------------------------------------\u001b[0m",
      "\u001b[0;31mFileNotFoundError\u001b[0m                         Traceback (most recent call last)",
      "\u001b[0;32m<ipython-input-30-3b909a4dd8e9>\u001b[0m in \u001b[0;36m<module>\u001b[0;34m()\u001b[0m\n\u001b[1;32m      2\u001b[0m \u001b[0mlabel_all\u001b[0m \u001b[0;34m=\u001b[0m \u001b[0;34m[\u001b[0m\u001b[0;34m]\u001b[0m\u001b[0;34m\u001b[0m\u001b[0;34m\u001b[0m\u001b[0m\n\u001b[1;32m      3\u001b[0m \u001b[0;32mfor\u001b[0m \u001b[0midx\u001b[0m\u001b[0;34m,\u001b[0m \u001b[0mfandom\u001b[0m \u001b[0;32min\u001b[0m \u001b[0menumerate\u001b[0m\u001b[0;34m(\u001b[0m\u001b[0mfandom_list\u001b[0m\u001b[0;34m)\u001b[0m\u001b[0;34m:\u001b[0m\u001b[0;34m\u001b[0m\u001b[0;34m\u001b[0m\u001b[0m\n\u001b[0;32m----> 4\u001b[0;31m     \u001b[0mdf\u001b[0m \u001b[0;34m=\u001b[0m \u001b[0mpd\u001b[0m\u001b[0;34m.\u001b[0m\u001b[0mread_csv\u001b[0m\u001b[0;34m(\u001b[0m\u001b[0mdata_path\u001b[0m \u001b[0;34m+\u001b[0m \u001b[0mfandom\u001b[0m \u001b[0;34m+\u001b[0m \u001b[0;34m'_metadata.tsv'\u001b[0m\u001b[0;34m,\u001b[0m \u001b[0msep\u001b[0m \u001b[0;34m=\u001b[0m \u001b[0;34m'\\t'\u001b[0m\u001b[0;34m)\u001b[0m\u001b[0;34m\u001b[0m\u001b[0;34m\u001b[0m\u001b[0m\n\u001b[0m\u001b[1;32m      5\u001b[0m     \u001b[0mdf\u001b[0m \u001b[0;34m=\u001b[0m \u001b[0mdf\u001b[0m\u001b[0;34m[\u001b[0m\u001b[0;34m[\u001b[0m\u001b[0;34m'Author'\u001b[0m\u001b[0;34m,\u001b[0m \u001b[0;34m'PublishDate'\u001b[0m\u001b[0;34m,\u001b[0m \u001b[0;34m'Words'\u001b[0m\u001b[0;34m]\u001b[0m\u001b[0;34m]\u001b[0m\u001b[0;34m\u001b[0m\u001b[0;34m\u001b[0m\u001b[0m\n\u001b[1;32m      6\u001b[0m \u001b[0;34m\u001b[0m\u001b[0m\n",
      "\u001b[0;32m/anaconda3/envs/python36/lib/python3.6/site-packages/pandas/io/parsers.py\u001b[0m in \u001b[0;36mparser_f\u001b[0;34m(filepath_or_buffer, sep, delimiter, header, names, index_col, usecols, squeeze, prefix, mangle_dupe_cols, dtype, engine, converters, true_values, false_values, skipinitialspace, skiprows, skipfooter, nrows, na_values, keep_default_na, na_filter, verbose, skip_blank_lines, parse_dates, infer_datetime_format, keep_date_col, date_parser, dayfirst, iterator, chunksize, compression, thousands, decimal, lineterminator, quotechar, quoting, doublequote, escapechar, comment, encoding, dialect, tupleize_cols, error_bad_lines, warn_bad_lines, delim_whitespace, low_memory, memory_map, float_precision)\u001b[0m\n\u001b[1;32m    700\u001b[0m                     skip_blank_lines=skip_blank_lines)\n\u001b[1;32m    701\u001b[0m \u001b[0;34m\u001b[0m\u001b[0m\n\u001b[0;32m--> 702\u001b[0;31m         \u001b[0;32mreturn\u001b[0m \u001b[0m_read\u001b[0m\u001b[0;34m(\u001b[0m\u001b[0mfilepath_or_buffer\u001b[0m\u001b[0;34m,\u001b[0m \u001b[0mkwds\u001b[0m\u001b[0;34m)\u001b[0m\u001b[0;34m\u001b[0m\u001b[0;34m\u001b[0m\u001b[0m\n\u001b[0m\u001b[1;32m    703\u001b[0m \u001b[0;34m\u001b[0m\u001b[0m\n\u001b[1;32m    704\u001b[0m     \u001b[0mparser_f\u001b[0m\u001b[0;34m.\u001b[0m\u001b[0m__name__\u001b[0m \u001b[0;34m=\u001b[0m \u001b[0mname\u001b[0m\u001b[0;34m\u001b[0m\u001b[0;34m\u001b[0m\u001b[0m\n",
      "\u001b[0;32m/anaconda3/envs/python36/lib/python3.6/site-packages/pandas/io/parsers.py\u001b[0m in \u001b[0;36m_read\u001b[0;34m(filepath_or_buffer, kwds)\u001b[0m\n\u001b[1;32m    427\u001b[0m \u001b[0;34m\u001b[0m\u001b[0m\n\u001b[1;32m    428\u001b[0m     \u001b[0;31m# Create the parser.\u001b[0m\u001b[0;34m\u001b[0m\u001b[0;34m\u001b[0m\u001b[0;34m\u001b[0m\u001b[0m\n\u001b[0;32m--> 429\u001b[0;31m     \u001b[0mparser\u001b[0m \u001b[0;34m=\u001b[0m \u001b[0mTextFileReader\u001b[0m\u001b[0;34m(\u001b[0m\u001b[0mfilepath_or_buffer\u001b[0m\u001b[0;34m,\u001b[0m \u001b[0;34m**\u001b[0m\u001b[0mkwds\u001b[0m\u001b[0;34m)\u001b[0m\u001b[0;34m\u001b[0m\u001b[0;34m\u001b[0m\u001b[0m\n\u001b[0m\u001b[1;32m    430\u001b[0m \u001b[0;34m\u001b[0m\u001b[0m\n\u001b[1;32m    431\u001b[0m     \u001b[0;32mif\u001b[0m \u001b[0mchunksize\u001b[0m \u001b[0;32mor\u001b[0m \u001b[0miterator\u001b[0m\u001b[0;34m:\u001b[0m\u001b[0;34m\u001b[0m\u001b[0;34m\u001b[0m\u001b[0m\n",
      "\u001b[0;32m/anaconda3/envs/python36/lib/python3.6/site-packages/pandas/io/parsers.py\u001b[0m in \u001b[0;36m__init__\u001b[0;34m(self, f, engine, **kwds)\u001b[0m\n\u001b[1;32m    893\u001b[0m             \u001b[0mself\u001b[0m\u001b[0;34m.\u001b[0m\u001b[0moptions\u001b[0m\u001b[0;34m[\u001b[0m\u001b[0;34m'has_index_names'\u001b[0m\u001b[0;34m]\u001b[0m \u001b[0;34m=\u001b[0m \u001b[0mkwds\u001b[0m\u001b[0;34m[\u001b[0m\u001b[0;34m'has_index_names'\u001b[0m\u001b[0;34m]\u001b[0m\u001b[0;34m\u001b[0m\u001b[0;34m\u001b[0m\u001b[0m\n\u001b[1;32m    894\u001b[0m \u001b[0;34m\u001b[0m\u001b[0m\n\u001b[0;32m--> 895\u001b[0;31m         \u001b[0mself\u001b[0m\u001b[0;34m.\u001b[0m\u001b[0m_make_engine\u001b[0m\u001b[0;34m(\u001b[0m\u001b[0mself\u001b[0m\u001b[0;34m.\u001b[0m\u001b[0mengine\u001b[0m\u001b[0;34m)\u001b[0m\u001b[0;34m\u001b[0m\u001b[0;34m\u001b[0m\u001b[0m\n\u001b[0m\u001b[1;32m    896\u001b[0m \u001b[0;34m\u001b[0m\u001b[0m\n\u001b[1;32m    897\u001b[0m     \u001b[0;32mdef\u001b[0m \u001b[0mclose\u001b[0m\u001b[0;34m(\u001b[0m\u001b[0mself\u001b[0m\u001b[0;34m)\u001b[0m\u001b[0;34m:\u001b[0m\u001b[0;34m\u001b[0m\u001b[0;34m\u001b[0m\u001b[0m\n",
      "\u001b[0;32m/anaconda3/envs/python36/lib/python3.6/site-packages/pandas/io/parsers.py\u001b[0m in \u001b[0;36m_make_engine\u001b[0;34m(self, engine)\u001b[0m\n\u001b[1;32m   1120\u001b[0m     \u001b[0;32mdef\u001b[0m \u001b[0m_make_engine\u001b[0m\u001b[0;34m(\u001b[0m\u001b[0mself\u001b[0m\u001b[0;34m,\u001b[0m \u001b[0mengine\u001b[0m\u001b[0;34m=\u001b[0m\u001b[0;34m'c'\u001b[0m\u001b[0;34m)\u001b[0m\u001b[0;34m:\u001b[0m\u001b[0;34m\u001b[0m\u001b[0;34m\u001b[0m\u001b[0m\n\u001b[1;32m   1121\u001b[0m         \u001b[0;32mif\u001b[0m \u001b[0mengine\u001b[0m \u001b[0;34m==\u001b[0m \u001b[0;34m'c'\u001b[0m\u001b[0;34m:\u001b[0m\u001b[0;34m\u001b[0m\u001b[0;34m\u001b[0m\u001b[0m\n\u001b[0;32m-> 1122\u001b[0;31m             \u001b[0mself\u001b[0m\u001b[0;34m.\u001b[0m\u001b[0m_engine\u001b[0m \u001b[0;34m=\u001b[0m \u001b[0mCParserWrapper\u001b[0m\u001b[0;34m(\u001b[0m\u001b[0mself\u001b[0m\u001b[0;34m.\u001b[0m\u001b[0mf\u001b[0m\u001b[0;34m,\u001b[0m \u001b[0;34m**\u001b[0m\u001b[0mself\u001b[0m\u001b[0;34m.\u001b[0m\u001b[0moptions\u001b[0m\u001b[0;34m)\u001b[0m\u001b[0;34m\u001b[0m\u001b[0;34m\u001b[0m\u001b[0m\n\u001b[0m\u001b[1;32m   1123\u001b[0m         \u001b[0;32melse\u001b[0m\u001b[0;34m:\u001b[0m\u001b[0;34m\u001b[0m\u001b[0;34m\u001b[0m\u001b[0m\n\u001b[1;32m   1124\u001b[0m             \u001b[0;32mif\u001b[0m \u001b[0mengine\u001b[0m \u001b[0;34m==\u001b[0m \u001b[0;34m'python'\u001b[0m\u001b[0;34m:\u001b[0m\u001b[0;34m\u001b[0m\u001b[0;34m\u001b[0m\u001b[0m\n",
      "\u001b[0;32m/anaconda3/envs/python36/lib/python3.6/site-packages/pandas/io/parsers.py\u001b[0m in \u001b[0;36m__init__\u001b[0;34m(self, src, **kwds)\u001b[0m\n\u001b[1;32m   1851\u001b[0m         \u001b[0mkwds\u001b[0m\u001b[0;34m[\u001b[0m\u001b[0;34m'usecols'\u001b[0m\u001b[0;34m]\u001b[0m \u001b[0;34m=\u001b[0m \u001b[0mself\u001b[0m\u001b[0;34m.\u001b[0m\u001b[0musecols\u001b[0m\u001b[0;34m\u001b[0m\u001b[0;34m\u001b[0m\u001b[0m\n\u001b[1;32m   1852\u001b[0m \u001b[0;34m\u001b[0m\u001b[0m\n\u001b[0;32m-> 1853\u001b[0;31m         \u001b[0mself\u001b[0m\u001b[0;34m.\u001b[0m\u001b[0m_reader\u001b[0m \u001b[0;34m=\u001b[0m \u001b[0mparsers\u001b[0m\u001b[0;34m.\u001b[0m\u001b[0mTextReader\u001b[0m\u001b[0;34m(\u001b[0m\u001b[0msrc\u001b[0m\u001b[0;34m,\u001b[0m \u001b[0;34m**\u001b[0m\u001b[0mkwds\u001b[0m\u001b[0;34m)\u001b[0m\u001b[0;34m\u001b[0m\u001b[0;34m\u001b[0m\u001b[0m\n\u001b[0m\u001b[1;32m   1854\u001b[0m         \u001b[0mself\u001b[0m\u001b[0;34m.\u001b[0m\u001b[0munnamed_cols\u001b[0m \u001b[0;34m=\u001b[0m \u001b[0mself\u001b[0m\u001b[0;34m.\u001b[0m\u001b[0m_reader\u001b[0m\u001b[0;34m.\u001b[0m\u001b[0munnamed_cols\u001b[0m\u001b[0;34m\u001b[0m\u001b[0;34m\u001b[0m\u001b[0m\n\u001b[1;32m   1855\u001b[0m \u001b[0;34m\u001b[0m\u001b[0m\n",
      "\u001b[0;32mpandas/_libs/parsers.pyx\u001b[0m in \u001b[0;36mpandas._libs.parsers.TextReader.__cinit__\u001b[0;34m()\u001b[0m\n",
      "\u001b[0;32mpandas/_libs/parsers.pyx\u001b[0m in \u001b[0;36mpandas._libs.parsers.TextReader._setup_parser_source\u001b[0;34m()\u001b[0m\n",
      "\u001b[0;31mFileNotFoundError\u001b[0m: [Errno 2] File b'../../data/lda_jsd_toprev_conlen/shakespare_william_works_temporal_lda_jsd_toprev_full.tsv_metadata.tsv' does not exist: b'../../data/lda_jsd_toprev_conlen/shakespare_william_works_temporal_lda_jsd_toprev_full.tsv_metadata.tsv'"
     ]
    },
    {
     "data": {
      "text/plain": [
       "<Figure size 1440x720 with 0 Axes>"
      ]
     },
     "metadata": {},
     "output_type": "display_data"
    }
   ],
   "source": [
    "plt.figure(figsize = (20, 10))\n",
    "label_all = []\n",
    "for idx, fandom in enumerate(fandom_list):\n",
    "    df = pd.read_csv(data_path + fandom + '_metadata.tsv', sep = '\\t')\n",
    "    df = df[['Author', 'PublishDate', 'Words']]\n",
    "    \n",
    "    timelist = create_timelist(df)[:-1]\n",
    "    time_work_dict = {}\n",
    "    for time in timelist:\n",
    "        df_t = create_df_time(df, time)\n",
    "        time_work_dict[time] = len(df_t)\n",
    "    label = sorted(time_work_dict.keys())\n",
    "    label_all.append(label)\n",
    "    x = range(len(label))\n",
    "    y = [time_work_dict[l] for l in label]\n",
    "    plt.plot(x,y)\n",
    "#     plt.xticks(x, label, rotation=90)"
   ]
  },
  {
   "cell_type": "code",
   "execution_count": null,
   "metadata": {},
   "outputs": [],
   "source": [
    "authors = []\n",
    "for idx, fandom in enumerate(fandom_list):\n",
    "    df = pd.read_csv(data_path + fandom, sep = '\\t')\n",
    "    authors.extend(df['Author'].tolist())\n",
    "print(len(set(authors)))"
   ]
  },
  {
   "cell_type": "code",
   "execution_count": null,
   "metadata": {},
   "outputs": [],
   "source": [
    "666430/90065"
   ]
  },
  {
   "cell_type": "code",
   "execution_count": null,
   "metadata": {},
   "outputs": [],
   "source": []
  },
  {
   "cell_type": "code",
   "execution_count": null,
   "metadata": {},
   "outputs": [],
   "source": []
  }
 ],
 "metadata": {
  "anaconda-cloud": {},
  "kernelspec": {
   "display_name": "Python 3",
   "language": "python",
   "name": "python3"
  },
  "language_info": {
   "codemirror_mode": {
    "name": "ipython",
    "version": 3
   },
   "file_extension": ".py",
   "mimetype": "text/x-python",
   "name": "python",
   "nbconvert_exporter": "python",
   "pygments_lexer": "ipython3",
   "version": "3.6.7"
  }
 },
 "nbformat": 4,
 "nbformat_minor": 1
}
