{
 "cells": [
  {
   "cell_type": "code",
   "execution_count": 1,
   "metadata": {
    "collapsed": false
   },
   "outputs": [],
   "source": [
    "import pandas as pd\n",
    "import matplotlib.pyplot as plt\n",
    "# %matplotlib inline \n",
    "%matplotlib notebook\n",
    "import numpy as np\n",
    "import os\n",
    "import random"
   ]
  },
  {
   "cell_type": "code",
   "execution_count": 2,
   "metadata": {
    "collapsed": false
   },
   "outputs": [],
   "source": [
    "files = []\n",
    "datapath = './'\n",
    "for i in os.listdir(datapath):\n",
    "    if 'processed2' in i:\n",
    "        files.append(i)"
   ]
  },
  {
   "cell_type": "code",
   "execution_count": 3,
   "metadata": {
    "collapsed": false
   },
   "outputs": [
    {
     "data": {
      "text/plain": [
       "34"
      ]
     },
     "execution_count": 3,
     "metadata": {},
     "output_type": "execute_result"
    }
   ],
   "source": [
    "len(files)"
   ]
  },
  {
   "cell_type": "code",
   "execution_count": 4,
   "metadata": {
    "collapsed": false
   },
   "outputs": [
    {
     "data": {
      "text/plain": [
       "['actor_rpf_processed2.tsv',\n",
       " 'arthurian_mythology_&_related_fandoms_processed2.tsv',\n",
       " 'attack_on_titan_processed2.tsv',\n",
       " 'bandom_processed2.tsv',\n",
       " 'bishoujo_senshi_sailor_moon_processed2.tsv',\n",
       " 'buffy_the_vampire_slayer_processed2.tsv',\n",
       " 'dcu_processed2.tsv',\n",
       " 'doctor_who_&_related_fandoms_processed2.tsv',\n",
       " 'doctor_who_processed2.tsv',\n",
       " 'dragon_age_all_media_types_processed2.tsv',\n",
       " 'dragon_age_inquisition_processed2.tsv',\n",
       " 'dragon_age_video_games_processed2.tsv',\n",
       " 'haikyuu_processed2.tsv',\n",
       " 'hamilton_miranda_processed2.tsv',\n",
       " 'hetalia_axis_powers_processed2.tsv',\n",
       " 'homestuck_processed2.tsv',\n",
       " 'internet_personalities_processed2.tsv',\n",
       " 'k_pop_processed2.tsv',\n",
       " 'kuroko_no_basuke_processed2.tsv',\n",
       " 'les_miserables_all_media_types_processed2.tsv',\n",
       " 'les_miserables_schonberg_boublil_processed2.tsv',\n",
       " 'ms_paint_adventures_processed2.tsv',\n",
       " 'music_rpf_processed2.tsv',\n",
       " 'naruto_processed2.tsv',\n",
       " 'one_direction_processed2.tsv',\n",
       " 'original_work_processed2.tsv',\n",
       " 'rock_music_rpf_processed2.tsv',\n",
       " 'shakespare_william_works_processed2.tsv',\n",
       " 'sherlock(TV)_processed2.tsv',\n",
       " 'sherlock_holmes_&_related_fandoms_processed2.tsv',\n",
       " 'star_wars_all_media_types_processed2.tsv',\n",
       " 'the_walking_dead_&_related_fandoms_processed2.tsv',\n",
       " 'tolkien_j_r_r_works_&_related_fandoms_processed2.tsv',\n",
       " 'video_blogging_rpf_processed2.tsv']"
      ]
     },
     "execution_count": 4,
     "metadata": {},
     "output_type": "execute_result"
    }
   ],
   "source": [
    "files"
   ]
  },
  {
   "cell_type": "code",
   "execution_count": 10,
   "metadata": {
    "collapsed": false
   },
   "outputs": [
    {
     "name": "stdout",
     "output_type": "stream",
     "text": [
      "1130296\n"
     ]
    }
   ],
   "source": [
    "length = 0\n",
    "for file in files:\n",
    "    df = pd.read_csv(datapath + files[0], sep = '\\t')\n",
    "    df = df.drop(df.index[[0, 1]])\n",
    "    length += len(df)\n",
    "print length"
   ]
  },
  {
   "cell_type": "code",
   "execution_count": 11,
   "metadata": {
    "collapsed": false
   },
   "outputs": [
    {
     "data": {
      "text/plain": [
       "34"
      ]
     },
     "execution_count": 11,
     "metadata": {},
     "output_type": "execute_result"
    }
   ],
   "source": [
    "len(files)"
   ]
  },
  {
   "cell_type": "code",
   "execution_count": null,
   "metadata": {
    "collapsed": true
   },
   "outputs": [],
   "source": []
  }
 ],
 "metadata": {
  "kernelspec": {
   "display_name": "Python 2",
   "language": "python",
   "name": "python2"
  },
  "language_info": {
   "codemirror_mode": {
    "name": "ipython",
    "version": 2
   },
   "file_extension": ".py",
   "mimetype": "text/x-python",
   "name": "python",
   "nbconvert_exporter": "python",
   "pygments_lexer": "ipython2",
   "version": "2.7.11"
  }
 },
 "nbformat": 4,
 "nbformat_minor": 0
}
