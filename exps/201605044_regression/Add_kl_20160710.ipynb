{
 "cells": [
  {
   "cell_type": "code",
   "execution_count": 26,
   "metadata": {
    "collapsed": false
   },
   "outputs": [],
   "source": [
    "import pandas as pd\n",
    "import numpy as np\n",
    "import ast\n",
    "from datetime import date"
   ]
  },
  {
   "cell_type": "code",
   "execution_count": 30,
   "metadata": {
    "collapsed": true
   },
   "outputs": [],
   "source": [
    "def calc_kl(p, q):\n",
    "    return sum([p[i]*(np.log2(p[i]/q[i])) for i in range(len(p))])"
   ]
  },
  {
   "cell_type": "code",
   "execution_count": 32,
   "metadata": {
    "collapsed": true
   },
   "outputs": [],
   "source": [
    "def create_df_time(df, time):\n",
    "    return df[df.PublishDate.str[:7] == time]"
   ]
  },
  {
   "cell_type": "code",
   "execution_count": 33,
   "metadata": {
    "collapsed": true
   },
   "outputs": [],
   "source": [
    "def calc_monthly_std(df):\n",
    "    gammas = []\n",
    "    dis = df.TopicDistribution.tolist()\n",
    "    for i in dis:\n",
    "        gammas.append(ast.literal_eval(i))\n",
    "        \n",
    "    gammas_flat = []\n",
    "    for gamma in gammas:\n",
    "#         gamma = ast.literal_eval(gamma)\n",
    "        for elem in gamma:\n",
    "            gammas_flat.append(elem)\n",
    "    ave = {}\n",
    "    for n in range(40):\n",
    "        t = []\n",
    "        for i in gammas_flat:\n",
    "            if i[0] == n:\n",
    "                t.append(i[1])\n",
    "        ave[n] = sum(t)/float(len(df))\n",
    "    return ave.values()"
   ]
  },
  {
   "cell_type": "code",
   "execution_count": 34,
   "metadata": {
    "collapsed": true
   },
   "outputs": [],
   "source": [
    "def calc_ind_kl(td, std_month):\n",
    "    try:\n",
    "        return calc_kl(td, std_month)\n",
    "    except:\n",
    "        return float('nan')"
   ]
  },
  {
   "cell_type": "code",
   "execution_count": 22,
   "metadata": {
    "collapsed": true
   },
   "outputs": [],
   "source": [
    "def date_today(cell):\n",
    "    try:\n",
    "        y, m, d = cell.split('-')\n",
    "        return abs(date.today() - date(int(y), int(m), int(d))).days\n",
    "    except:\n",
    "        return 0"
   ]
  },
  {
   "cell_type": "code",
   "execution_count": 27,
   "metadata": {
    "collapsed": true
   },
   "outputs": [],
   "source": [
    "f = '../3_generate_master_table_20160405/processed_datasets/arthurian_mythology_&_related_fandoms_processed.tsv'"
   ]
  },
  {
   "cell_type": "code",
   "execution_count": 28,
   "metadata": {
    "collapsed": false
   },
   "outputs": [],
   "source": [
    "df = pd.read_csv(f, sep = '\\t')"
   ]
  },
  {
   "cell_type": "code",
   "execution_count": 29,
   "metadata": {
    "collapsed": true
   },
   "outputs": [],
   "source": [
    "df = df.fillna(0)"
   ]
  },
  {
   "cell_type": "code",
   "execution_count": 31,
   "metadata": {
    "collapsed": true
   },
   "outputs": [],
   "source": [
    "timelist = df.PublishDate.drop_duplicates().tolist()\n",
    "timelist = [str(i)[:7] for i in timelist]\n",
    "timelist = sorted(list(set(timelist)))[2:]"
   ]
  },
  {
   "cell_type": "code",
   "execution_count": 35,
   "metadata": {
    "collapsed": false
   },
   "outputs": [],
   "source": [
    "std_gammas = {}\n",
    "for time in timelist:\n",
    "    df_t = create_df_time(df, time)\n",
    "    std_gammas[time] = calc_monthly_std(df_t)"
   ]
  },
  {
   "cell_type": "code",
   "execution_count": 36,
   "metadata": {
    "collapsed": true
   },
   "outputs": [],
   "source": [
    "# def eval_td(cell):\n",
    "#     return [i[1] for i in ast.literal_eval(cell)]"
   ]
  },
  {
   "cell_type": "code",
   "execution_count": 37,
   "metadata": {
    "collapsed": false,
    "scrolled": true
   },
   "outputs": [],
   "source": [
    "df['KL'] = df.apply(lambda row:calc_ind_kl([i[1] for i in ast.literal_eval(row['TopicDistribution'])], std_gammas.get(str(row['PublishDate'])[:7])), axis = 1)"
   ]
  },
  {
   "cell_type": "code",
   "execution_count": 109,
   "metadata": {
    "collapsed": false
   },
   "outputs": [],
   "source": [
    "df['PublishDate'] = df.apply(lambda row: date_today(row['PublishDate']), axis = 1)\n",
    "df['CompleteDate'] = df.apply(lambda row: date_today(row['CompleteDate']), axis = 1)"
   ]
  },
  {
   "cell_type": "code",
   "execution_count": 116,
   "metadata": {
    "collapsed": false
   },
   "outputs": [],
   "source": [
    "df = df.groupby(['AdditionalTags', 'ArchiveWarnings', 'Author', 'Bookmarks',\\\n",
    "       'Category',  'Chapters', 'Characters', 'Fandoms', 'Hits', 'Kudos', 'Rating', \\\n",
    "        'Relationship', 'Title', 'UpdateDate', 'Words'])\\\n",
    "        .agg({'PublishDate': np.max, 'CompleteDate': np.min, 'Comments': np.sum, 'KL': [np.mean]}).reset_index()"
   ]
  },
  {
   "cell_type": "code",
   "execution_count": 18,
   "metadata": {
    "collapsed": true
   },
   "outputs": [],
   "source": [
    "df.to_csv('../../data/sherlock_processed2.tsv', index = False, sep = '\\t')"
   ]
  },
  {
   "cell_type": "code",
   "execution_count": null,
   "metadata": {
    "collapsed": true
   },
   "outputs": [],
   "source": []
  },
  {
   "cell_type": "code",
   "execution_count": 377,
   "metadata": {
    "collapsed": false
   },
   "outputs": [
    {
     "data": {
      "text/plain": [
       "\n",
       "-------------------------Summary of Regression Analysis-------------------------\n",
       "\n",
       "Formula: Y ~ <Chapters> + <PublishDate> + <CompleteDate> + <KL> + <intercept>\n",
       "\n",
       "Number of Observations:         132075\n",
       "Number of Degrees of Freedom:   5\n",
       "\n",
       "R-squared:         0.1147\n",
       "Adj R-squared:     0.1147\n",
       "\n",
       "Rmse:            566.4698\n",
       "\n",
       "F-stat (4, 132070):  4277.2689, p-value:     0.0000\n",
       "\n",
       "Degrees of Freedom: model 4, resid 132070\n",
       "\n",
       "-----------------------Summary of Estimated Coefficients------------------------\n",
       "      Variable       Coef    Std Err     t-stat    p-value    CI 2.5%   CI 97.5%\n",
       "--------------------------------------------------------------------------------\n",
       "      Chapters     3.8008     0.0432      88.03     0.0000     3.7161     3.8854\n",
       "   PublishDate     0.7376     0.0132      55.89     0.0000     0.7118     0.7635\n",
       "  CompleteDate    -0.6166     0.0131     -47.24     0.0000    -0.6422    -0.5910\n",
       "            KL   -49.1199     1.7183     -28.59     0.0000   -52.4877   -45.7520\n",
       "     intercept   146.1221     4.9676      29.41     0.0000   136.3856   155.8587\n",
       "---------------------------------End of Summary---------------------------------"
      ]
     },
     "execution_count": 377,
     "metadata": {},
     "output_type": "execute_result"
    }
   ],
   "source": [
    "res = ols(y = df2['Kudos'], x = df2[['Chapters', 'PublishDate','CompleteDate','KL']])\n",
    "res"
   ]
  },
  {
   "cell_type": "code",
   "execution_count": 377,
   "metadata": {
    "collapsed": false
   },
   "outputs": [
    {
     "data": {
      "text/plain": [
       "\n",
       "-------------------------Summary of Regression Analysis-------------------------\n",
       "\n",
       "Formula: Y ~ <Chapters> + <PublishDate> + <CompleteDate> + <KL> + <intercept>\n",
       "\n",
       "Number of Observations:         132075\n",
       "Number of Degrees of Freedom:   5\n",
       "\n",
       "R-squared:         0.1147\n",
       "Adj R-squared:     0.1147\n",
       "\n",
       "Rmse:            566.4698\n",
       "\n",
       "F-stat (4, 132070):  4277.2689, p-value:     0.0000\n",
       "\n",
       "Degrees of Freedom: model 4, resid 132070\n",
       "\n",
       "-----------------------Summary of Estimated Coefficients------------------------\n",
       "      Variable       Coef    Std Err     t-stat    p-value    CI 2.5%   CI 97.5%\n",
       "--------------------------------------------------------------------------------\n",
       "      Chapters     3.8008     0.0432      88.03     0.0000     3.7161     3.8854\n",
       "   PublishDate     0.7376     0.0132      55.89     0.0000     0.7118     0.7635\n",
       "  CompleteDate    -0.6166     0.0131     -47.24     0.0000    -0.6422    -0.5910\n",
       "            KL   -49.1199     1.7183     -28.59     0.0000   -52.4877   -45.7520\n",
       "     intercept   146.1221     4.9676      29.41     0.0000   136.3856   155.8587\n",
       "---------------------------------End of Summary---------------------------------"
      ]
     },
     "execution_count": 377,
     "metadata": {},
     "output_type": "execute_result"
    }
   ],
   "source": [
    "res = ols(y = df2['Kudos'], x = df2[['Chapters', 'PublishDate','CompleteDate','KL']])\n",
    "res"
   ]
  },
  {
   "cell_type": "code",
   "execution_count": 377,
   "metadata": {
    "collapsed": false
   },
   "outputs": [
    {
     "data": {
      "text/plain": [
       "\n",
       "-------------------------Summary of Regression Analysis-------------------------\n",
       "\n",
       "Formula: Y ~ <Chapters> + <PublishDate> + <CompleteDate> + <KL> + <intercept>\n",
       "\n",
       "Number of Observations:         132075\n",
       "Number of Degrees of Freedom:   5\n",
       "\n",
       "R-squared:         0.1147\n",
       "Adj R-squared:     0.1147\n",
       "\n",
       "Rmse:            566.4698\n",
       "\n",
       "F-stat (4, 132070):  4277.2689, p-value:     0.0000\n",
       "\n",
       "Degrees of Freedom: model 4, resid 132070\n",
       "\n",
       "-----------------------Summary of Estimated Coefficients------------------------\n",
       "      Variable       Coef    Std Err     t-stat    p-value    CI 2.5%   CI 97.5%\n",
       "--------------------------------------------------------------------------------\n",
       "      Chapters     3.8008     0.0432      88.03     0.0000     3.7161     3.8854\n",
       "   PublishDate     0.7376     0.0132      55.89     0.0000     0.7118     0.7635\n",
       "  CompleteDate    -0.6166     0.0131     -47.24     0.0000    -0.6422    -0.5910\n",
       "            KL   -49.1199     1.7183     -28.59     0.0000   -52.4877   -45.7520\n",
       "     intercept   146.1221     4.9676      29.41     0.0000   136.3856   155.8587\n",
       "---------------------------------End of Summary---------------------------------"
      ]
     },
     "execution_count": 377,
     "metadata": {},
     "output_type": "execute_result"
    }
   ],
   "source": [
    "res = ols(y = df2['Kudos'], x = df2[['Chapters', 'PublishDate','CompleteDate','KL']])\n",
    "res"
   ]
  },
  {
   "cell_type": "code",
   "execution_count": 377,
   "metadata": {
    "collapsed": false
   },
   "outputs": [
    {
     "data": {
      "text/plain": [
       "\n",
       "-------------------------Summary of Regression Analysis-------------------------\n",
       "\n",
       "Formula: Y ~ <Chapters> + <PublishDate> + <CompleteDate> + <KL> + <intercept>\n",
       "\n",
       "Number of Observations:         132075\n",
       "Number of Degrees of Freedom:   5\n",
       "\n",
       "R-squared:         0.1147\n",
       "Adj R-squared:     0.1147\n",
       "\n",
       "Rmse:            566.4698\n",
       "\n",
       "F-stat (4, 132070):  4277.2689, p-value:     0.0000\n",
       "\n",
       "Degrees of Freedom: model 4, resid 132070\n",
       "\n",
       "-----------------------Summary of Estimated Coefficients------------------------\n",
       "      Variable       Coef    Std Err     t-stat    p-value    CI 2.5%   CI 97.5%\n",
       "--------------------------------------------------------------------------------\n",
       "      Chapters     3.8008     0.0432      88.03     0.0000     3.7161     3.8854\n",
       "   PublishDate     0.7376     0.0132      55.89     0.0000     0.7118     0.7635\n",
       "  CompleteDate    -0.6166     0.0131     -47.24     0.0000    -0.6422    -0.5910\n",
       "            KL   -49.1199     1.7183     -28.59     0.0000   -52.4877   -45.7520\n",
       "     intercept   146.1221     4.9676      29.41     0.0000   136.3856   155.8587\n",
       "---------------------------------End of Summary---------------------------------"
      ]
     },
     "execution_count": 377,
     "metadata": {},
     "output_type": "execute_result"
    }
   ],
   "source": [
    "res = ols(y = df2['Kudos'], x = df2[['Chapters', 'PublishDate','CompleteDate','KL']])\n",
    "res"
   ]
  },
  {
   "cell_type": "code",
   "execution_count": 377,
   "metadata": {
    "collapsed": false
   },
   "outputs": [
    {
     "data": {
      "text/plain": [
       "\n",
       "-------------------------Summary of Regression Analysis-------------------------\n",
       "\n",
       "Formula: Y ~ <Chapters> + <PublishDate> + <CompleteDate> + <KL> + <intercept>\n",
       "\n",
       "Number of Observations:         132075\n",
       "Number of Degrees of Freedom:   5\n",
       "\n",
       "R-squared:         0.1147\n",
       "Adj R-squared:     0.1147\n",
       "\n",
       "Rmse:            566.4698\n",
       "\n",
       "F-stat (4, 132070):  4277.2689, p-value:     0.0000\n",
       "\n",
       "Degrees of Freedom: model 4, resid 132070\n",
       "\n",
       "-----------------------Summary of Estimated Coefficients------------------------\n",
       "      Variable       Coef    Std Err     t-stat    p-value    CI 2.5%   CI 97.5%\n",
       "--------------------------------------------------------------------------------\n",
       "      Chapters     3.8008     0.0432      88.03     0.0000     3.7161     3.8854\n",
       "   PublishDate     0.7376     0.0132      55.89     0.0000     0.7118     0.7635\n",
       "  CompleteDate    -0.6166     0.0131     -47.24     0.0000    -0.6422    -0.5910\n",
       "            KL   -49.1199     1.7183     -28.59     0.0000   -52.4877   -45.7520\n",
       "     intercept   146.1221     4.9676      29.41     0.0000   136.3856   155.8587\n",
       "---------------------------------End of Summary---------------------------------"
      ]
     },
     "execution_count": 377,
     "metadata": {},
     "output_type": "execute_result"
    }
   ],
   "source": [
    "res = ols(y = df2['Kudos'], x = df2[['Chapters', 'PublishDate','CompleteDate','KL']])\n",
    "res"
   ]
  },
  {
   "cell_type": "code",
   "execution_count": 377,
   "metadata": {
    "collapsed": false
   },
   "outputs": [
    {
     "data": {
      "text/plain": [
       "\n",
       "-------------------------Summary of Regression Analysis-------------------------\n",
       "\n",
       "Formula: Y ~ <Chapters> + <PublishDate> + <CompleteDate> + <KL> + <intercept>\n",
       "\n",
       "Number of Observations:         132075\n",
       "Number of Degrees of Freedom:   5\n",
       "\n",
       "R-squared:         0.1147\n",
       "Adj R-squared:     0.1147\n",
       "\n",
       "Rmse:            566.4698\n",
       "\n",
       "F-stat (4, 132070):  4277.2689, p-value:     0.0000\n",
       "\n",
       "Degrees of Freedom: model 4, resid 132070\n",
       "\n",
       "-----------------------Summary of Estimated Coefficients------------------------\n",
       "      Variable       Coef    Std Err     t-stat    p-value    CI 2.5%   CI 97.5%\n",
       "--------------------------------------------------------------------------------\n",
       "      Chapters     3.8008     0.0432      88.03     0.0000     3.7161     3.8854\n",
       "   PublishDate     0.7376     0.0132      55.89     0.0000     0.7118     0.7635\n",
       "  CompleteDate    -0.6166     0.0131     -47.24     0.0000    -0.6422    -0.5910\n",
       "            KL   -49.1199     1.7183     -28.59     0.0000   -52.4877   -45.7520\n",
       "     intercept   146.1221     4.9676      29.41     0.0000   136.3856   155.8587\n",
       "---------------------------------End of Summary---------------------------------"
      ]
     },
     "execution_count": 377,
     "metadata": {},
     "output_type": "execute_result"
    }
   ],
   "source": [
    "res = ols(y = df2['Kudos'], x = df2[['Chapters', 'PublishDate','CompleteDate','KL']])\n",
    "res"
   ]
  },
  {
   "cell_type": "code",
   "execution_count": 377,
   "metadata": {
    "collapsed": false
   },
   "outputs": [
    {
     "data": {
      "text/plain": [
       "\n",
       "-------------------------Summary of Regression Analysis-------------------------\n",
       "\n",
       "Formula: Y ~ <Chapters> + <PublishDate> + <CompleteDate> + <KL> + <intercept>\n",
       "\n",
       "Number of Observations:         132075\n",
       "Number of Degrees of Freedom:   5\n",
       "\n",
       "R-squared:         0.1147\n",
       "Adj R-squared:     0.1147\n",
       "\n",
       "Rmse:            566.4698\n",
       "\n",
       "F-stat (4, 132070):  4277.2689, p-value:     0.0000\n",
       "\n",
       "Degrees of Freedom: model 4, resid 132070\n",
       "\n",
       "-----------------------Summary of Estimated Coefficients------------------------\n",
       "      Variable       Coef    Std Err     t-stat    p-value    CI 2.5%   CI 97.5%\n",
       "--------------------------------------------------------------------------------\n",
       "      Chapters     3.8008     0.0432      88.03     0.0000     3.7161     3.8854\n",
       "   PublishDate     0.7376     0.0132      55.89     0.0000     0.7118     0.7635\n",
       "  CompleteDate    -0.6166     0.0131     -47.24     0.0000    -0.6422    -0.5910\n",
       "            KL   -49.1199     1.7183     -28.59     0.0000   -52.4877   -45.7520\n",
       "     intercept   146.1221     4.9676      29.41     0.0000   136.3856   155.8587\n",
       "---------------------------------End of Summary---------------------------------"
      ]
     },
     "execution_count": 377,
     "metadata": {},
     "output_type": "execute_result"
    }
   ],
   "source": [
    "res = ols(y = df2['Kudos'], x = df2[['Chapters', 'PublishDate','CompleteDate','KL']])\n",
    "res"
   ]
  },
  {
   "cell_type": "code",
   "execution_count": 377,
   "metadata": {
    "collapsed": false
   },
   "outputs": [
    {
     "data": {
      "text/plain": [
       "\n",
       "-------------------------Summary of Regression Analysis-------------------------\n",
       "\n",
       "Formula: Y ~ <Chapters> + <PublishDate> + <CompleteDate> + <KL> + <intercept>\n",
       "\n",
       "Number of Observations:         132075\n",
       "Number of Degrees of Freedom:   5\n",
       "\n",
       "R-squared:         0.1147\n",
       "Adj R-squared:     0.1147\n",
       "\n",
       "Rmse:            566.4698\n",
       "\n",
       "F-stat (4, 132070):  4277.2689, p-value:     0.0000\n",
       "\n",
       "Degrees of Freedom: model 4, resid 132070\n",
       "\n",
       "-----------------------Summary of Estimated Coefficients------------------------\n",
       "      Variable       Coef    Std Err     t-stat    p-value    CI 2.5%   CI 97.5%\n",
       "--------------------------------------------------------------------------------\n",
       "      Chapters     3.8008     0.0432      88.03     0.0000     3.7161     3.8854\n",
       "   PublishDate     0.7376     0.0132      55.89     0.0000     0.7118     0.7635\n",
       "  CompleteDate    -0.6166     0.0131     -47.24     0.0000    -0.6422    -0.5910\n",
       "            KL   -49.1199     1.7183     -28.59     0.0000   -52.4877   -45.7520\n",
       "     intercept   146.1221     4.9676      29.41     0.0000   136.3856   155.8587\n",
       "---------------------------------End of Summary---------------------------------"
      ]
     },
     "execution_count": 377,
     "metadata": {},
     "output_type": "execute_result"
    }
   ],
   "source": [
    "res = ols(y = df2['Kudos'], x = df2[['Chapters', 'PublishDate','CompleteDate','KL']])\n",
    "res"
   ]
  },
  {
   "cell_type": "code",
   "execution_count": 377,
   "metadata": {
    "collapsed": false
   },
   "outputs": [
    {
     "data": {
      "text/plain": [
       "\n",
       "-------------------------Summary of Regression Analysis-------------------------\n",
       "\n",
       "Formula: Y ~ <Chapters> + <PublishDate> + <CompleteDate> + <KL> + <intercept>\n",
       "\n",
       "Number of Observations:         132075\n",
       "Number of Degrees of Freedom:   5\n",
       "\n",
       "R-squared:         0.1147\n",
       "Adj R-squared:     0.1147\n",
       "\n",
       "Rmse:            566.4698\n",
       "\n",
       "F-stat (4, 132070):  4277.2689, p-value:     0.0000\n",
       "\n",
       "Degrees of Freedom: model 4, resid 132070\n",
       "\n",
       "-----------------------Summary of Estimated Coefficients------------------------\n",
       "      Variable       Coef    Std Err     t-stat    p-value    CI 2.5%   CI 97.5%\n",
       "--------------------------------------------------------------------------------\n",
       "      Chapters     3.8008     0.0432      88.03     0.0000     3.7161     3.8854\n",
       "   PublishDate     0.7376     0.0132      55.89     0.0000     0.7118     0.7635\n",
       "  CompleteDate    -0.6166     0.0131     -47.24     0.0000    -0.6422    -0.5910\n",
       "            KL   -49.1199     1.7183     -28.59     0.0000   -52.4877   -45.7520\n",
       "     intercept   146.1221     4.9676      29.41     0.0000   136.3856   155.8587\n",
       "---------------------------------End of Summary---------------------------------"
      ]
     },
     "execution_count": 377,
     "metadata": {},
     "output_type": "execute_result"
    }
   ],
   "source": [
    "res = ols(y = df2['Kudos'], x = df2[['Chapters', 'PublishDate','CompleteDate','KL']])\n",
    "res"
   ]
  },
  {
   "cell_type": "code",
   "execution_count": 377,
   "metadata": {
    "collapsed": false
   },
   "outputs": [
    {
     "data": {
      "text/plain": [
       "\n",
       "-------------------------Summary of Regression Analysis-------------------------\n",
       "\n",
       "Formula: Y ~ <Chapters> + <PublishDate> + <CompleteDate> + <KL> + <intercept>\n",
       "\n",
       "Number of Observations:         132075\n",
       "Number of Degrees of Freedom:   5\n",
       "\n",
       "R-squared:         0.1147\n",
       "Adj R-squared:     0.1147\n",
       "\n",
       "Rmse:            566.4698\n",
       "\n",
       "F-stat (4, 132070):  4277.2689, p-value:     0.0000\n",
       "\n",
       "Degrees of Freedom: model 4, resid 132070\n",
       "\n",
       "-----------------------Summary of Estimated Coefficients------------------------\n",
       "      Variable       Coef    Std Err     t-stat    p-value    CI 2.5%   CI 97.5%\n",
       "--------------------------------------------------------------------------------\n",
       "      Chapters     3.8008     0.0432      88.03     0.0000     3.7161     3.8854\n",
       "   PublishDate     0.7376     0.0132      55.89     0.0000     0.7118     0.7635\n",
       "  CompleteDate    -0.6166     0.0131     -47.24     0.0000    -0.6422    -0.5910\n",
       "            KL   -49.1199     1.7183     -28.59     0.0000   -52.4877   -45.7520\n",
       "     intercept   146.1221     4.9676      29.41     0.0000   136.3856   155.8587\n",
       "---------------------------------End of Summary---------------------------------"
      ]
     },
     "execution_count": 377,
     "metadata": {},
     "output_type": "execute_result"
    }
   ],
   "source": [
    "res = ols(y = df2['Kudos'], x = df2[['Chapters', 'PublishDate','CompleteDate','KL']])\n",
    "res"
   ]
  },
  {
   "cell_type": "code",
   "execution_count": 377,
   "metadata": {
    "collapsed": false
   },
   "outputs": [
    {
     "data": {
      "text/plain": [
       "\n",
       "-------------------------Summary of Regression Analysis-------------------------\n",
       "\n",
       "Formula: Y ~ <Chapters> + <PublishDate> + <CompleteDate> + <KL> + <intercept>\n",
       "\n",
       "Number of Observations:         132075\n",
       "Number of Degrees of Freedom:   5\n",
       "\n",
       "R-squared:         0.1147\n",
       "Adj R-squared:     0.1147\n",
       "\n",
       "Rmse:            566.4698\n",
       "\n",
       "F-stat (4, 132070):  4277.2689, p-value:     0.0000\n",
       "\n",
       "Degrees of Freedom: model 4, resid 132070\n",
       "\n",
       "-----------------------Summary of Estimated Coefficients------------------------\n",
       "      Variable       Coef    Std Err     t-stat    p-value    CI 2.5%   CI 97.5%\n",
       "--------------------------------------------------------------------------------\n",
       "      Chapters     3.8008     0.0432      88.03     0.0000     3.7161     3.8854\n",
       "   PublishDate     0.7376     0.0132      55.89     0.0000     0.7118     0.7635\n",
       "  CompleteDate    -0.6166     0.0131     -47.24     0.0000    -0.6422    -0.5910\n",
       "            KL   -49.1199     1.7183     -28.59     0.0000   -52.4877   -45.7520\n",
       "     intercept   146.1221     4.9676      29.41     0.0000   136.3856   155.8587\n",
       "---------------------------------End of Summary---------------------------------"
      ]
     },
     "execution_count": 377,
     "metadata": {},
     "output_type": "execute_result"
    }
   ],
   "source": [
    "res = ols(y = df2['Kudos'], x = df2[['Chapters', 'PublishDate','CompleteDate','KL']])\n",
    "res"
   ]
  },
  {
   "cell_type": "code",
   "execution_count": 377,
   "metadata": {
    "collapsed": false
   },
   "outputs": [
    {
     "data": {
      "text/plain": [
       "\n",
       "-------------------------Summary of Regression Analysis-------------------------\n",
       "\n",
       "Formula: Y ~ <Chapters> + <PublishDate> + <CompleteDate> + <KL> + <intercept>\n",
       "\n",
       "Number of Observations:         132075\n",
       "Number of Degrees of Freedom:   5\n",
       "\n",
       "R-squared:         0.1147\n",
       "Adj R-squared:     0.1147\n",
       "\n",
       "Rmse:            566.4698\n",
       "\n",
       "F-stat (4, 132070):  4277.2689, p-value:     0.0000\n",
       "\n",
       "Degrees of Freedom: model 4, resid 132070\n",
       "\n",
       "-----------------------Summary of Estimated Coefficients------------------------\n",
       "      Variable       Coef    Std Err     t-stat    p-value    CI 2.5%   CI 97.5%\n",
       "--------------------------------------------------------------------------------\n",
       "      Chapters     3.8008     0.0432      88.03     0.0000     3.7161     3.8854\n",
       "   PublishDate     0.7376     0.0132      55.89     0.0000     0.7118     0.7635\n",
       "  CompleteDate    -0.6166     0.0131     -47.24     0.0000    -0.6422    -0.5910\n",
       "            KL   -49.1199     1.7183     -28.59     0.0000   -52.4877   -45.7520\n",
       "     intercept   146.1221     4.9676      29.41     0.0000   136.3856   155.8587\n",
       "---------------------------------End of Summary---------------------------------"
      ]
     },
     "execution_count": 377,
     "metadata": {},
     "output_type": "execute_result"
    }
   ],
   "source": [
    "res = ols(y = df2['Kudos'], x = df2[['Chapters', 'PublishDate','CompleteDate','KL']])\n",
    "res"
   ]
  },
  {
   "cell_type": "code",
   "execution_count": 377,
   "metadata": {
    "collapsed": false
   },
   "outputs": [
    {
     "data": {
      "text/plain": [
       "\n",
       "-------------------------Summary of Regression Analysis-------------------------\n",
       "\n",
       "Formula: Y ~ <Chapters> + <PublishDate> + <CompleteDate> + <KL> + <intercept>\n",
       "\n",
       "Number of Observations:         132075\n",
       "Number of Degrees of Freedom:   5\n",
       "\n",
       "R-squared:         0.1147\n",
       "Adj R-squared:     0.1147\n",
       "\n",
       "Rmse:            566.4698\n",
       "\n",
       "F-stat (4, 132070):  4277.2689, p-value:     0.0000\n",
       "\n",
       "Degrees of Freedom: model 4, resid 132070\n",
       "\n",
       "-----------------------Summary of Estimated Coefficients------------------------\n",
       "      Variable       Coef    Std Err     t-stat    p-value    CI 2.5%   CI 97.5%\n",
       "--------------------------------------------------------------------------------\n",
       "      Chapters     3.8008     0.0432      88.03     0.0000     3.7161     3.8854\n",
       "   PublishDate     0.7376     0.0132      55.89     0.0000     0.7118     0.7635\n",
       "  CompleteDate    -0.6166     0.0131     -47.24     0.0000    -0.6422    -0.5910\n",
       "            KL   -49.1199     1.7183     -28.59     0.0000   -52.4877   -45.7520\n",
       "     intercept   146.1221     4.9676      29.41     0.0000   136.3856   155.8587\n",
       "---------------------------------End of Summary---------------------------------"
      ]
     },
     "execution_count": 377,
     "metadata": {},
     "output_type": "execute_result"
    }
   ],
   "source": [
    "res = ols(y = df2['Kudos'], x = df2[['Chapters', 'PublishDate','CompleteDate','KL']])\n",
    "res"
   ]
  },
  {
   "cell_type": "code",
   "execution_count": 377,
   "metadata": {
    "collapsed": false
   },
   "outputs": [
    {
     "data": {
      "text/plain": [
       "\n",
       "-------------------------Summary of Regression Analysis-------------------------\n",
       "\n",
       "Formula: Y ~ <Chapters> + <PublishDate> + <CompleteDate> + <KL> + <intercept>\n",
       "\n",
       "Number of Observations:         132075\n",
       "Number of Degrees of Freedom:   5\n",
       "\n",
       "R-squared:         0.1147\n",
       "Adj R-squared:     0.1147\n",
       "\n",
       "Rmse:            566.4698\n",
       "\n",
       "F-stat (4, 132070):  4277.2689, p-value:     0.0000\n",
       "\n",
       "Degrees of Freedom: model 4, resid 132070\n",
       "\n",
       "-----------------------Summary of Estimated Coefficients------------------------\n",
       "      Variable       Coef    Std Err     t-stat    p-value    CI 2.5%   CI 97.5%\n",
       "--------------------------------------------------------------------------------\n",
       "      Chapters     3.8008     0.0432      88.03     0.0000     3.7161     3.8854\n",
       "   PublishDate     0.7376     0.0132      55.89     0.0000     0.7118     0.7635\n",
       "  CompleteDate    -0.6166     0.0131     -47.24     0.0000    -0.6422    -0.5910\n",
       "            KL   -49.1199     1.7183     -28.59     0.0000   -52.4877   -45.7520\n",
       "     intercept   146.1221     4.9676      29.41     0.0000   136.3856   155.8587\n",
       "---------------------------------End of Summary---------------------------------"
      ]
     },
     "execution_count": 377,
     "metadata": {},
     "output_type": "execute_result"
    }
   ],
   "source": [
    "res = ols(y = df2['Kudos'], x = df2[['Chapters', 'PublishDate','CompleteDate','KL']])\n",
    "res"
   ]
  },
  {
   "cell_type": "code",
   "execution_count": 377,
   "metadata": {
    "collapsed": false
   },
   "outputs": [
    {
     "data": {
      "text/plain": [
       "\n",
       "-------------------------Summary of Regression Analysis-------------------------\n",
       "\n",
       "Formula: Y ~ <Chapters> + <PublishDate> + <CompleteDate> + <KL> + <intercept>\n",
       "\n",
       "Number of Observations:         132075\n",
       "Number of Degrees of Freedom:   5\n",
       "\n",
       "R-squared:         0.1147\n",
       "Adj R-squared:     0.1147\n",
       "\n",
       "Rmse:            566.4698\n",
       "\n",
       "F-stat (4, 132070):  4277.2689, p-value:     0.0000\n",
       "\n",
       "Degrees of Freedom: model 4, resid 132070\n",
       "\n",
       "-----------------------Summary of Estimated Coefficients------------------------\n",
       "      Variable       Coef    Std Err     t-stat    p-value    CI 2.5%   CI 97.5%\n",
       "--------------------------------------------------------------------------------\n",
       "      Chapters     3.8008     0.0432      88.03     0.0000     3.7161     3.8854\n",
       "   PublishDate     0.7376     0.0132      55.89     0.0000     0.7118     0.7635\n",
       "  CompleteDate    -0.6166     0.0131     -47.24     0.0000    -0.6422    -0.5910\n",
       "            KL   -49.1199     1.7183     -28.59     0.0000   -52.4877   -45.7520\n",
       "     intercept   146.1221     4.9676      29.41     0.0000   136.3856   155.8587\n",
       "---------------------------------End of Summary---------------------------------"
      ]
     },
     "execution_count": 377,
     "metadata": {},
     "output_type": "execute_result"
    }
   ],
   "source": [
    "res = ols(y = df2['Kudos'], x = df2[['Chapters', 'PublishDate','CompleteDate','KL']])\n",
    "res"
   ]
  },
  {
   "cell_type": "code",
   "execution_count": 377,
   "metadata": {
    "collapsed": false
   },
   "outputs": [
    {
     "data": {
      "text/plain": [
       "\n",
       "-------------------------Summary of Regression Analysis-------------------------\n",
       "\n",
       "Formula: Y ~ <Chapters> + <PublishDate> + <CompleteDate> + <KL> + <intercept>\n",
       "\n",
       "Number of Observations:         132075\n",
       "Number of Degrees of Freedom:   5\n",
       "\n",
       "R-squared:         0.1147\n",
       "Adj R-squared:     0.1147\n",
       "\n",
       "Rmse:            566.4698\n",
       "\n",
       "F-stat (4, 132070):  4277.2689, p-value:     0.0000\n",
       "\n",
       "Degrees of Freedom: model 4, resid 132070\n",
       "\n",
       "-----------------------Summary of Estimated Coefficients------------------------\n",
       "      Variable       Coef    Std Err     t-stat    p-value    CI 2.5%   CI 97.5%\n",
       "--------------------------------------------------------------------------------\n",
       "      Chapters     3.8008     0.0432      88.03     0.0000     3.7161     3.8854\n",
       "   PublishDate     0.7376     0.0132      55.89     0.0000     0.7118     0.7635\n",
       "  CompleteDate    -0.6166     0.0131     -47.24     0.0000    -0.6422    -0.5910\n",
       "            KL   -49.1199     1.7183     -28.59     0.0000   -52.4877   -45.7520\n",
       "     intercept   146.1221     4.9676      29.41     0.0000   136.3856   155.8587\n",
       "---------------------------------End of Summary---------------------------------"
      ]
     },
     "execution_count": 377,
     "metadata": {},
     "output_type": "execute_result"
    }
   ],
   "source": [
    "res = ols(y = df2['Kudos'], x = df2[['Chapters', 'PublishDate','CompleteDate','KL']])\n",
    "res"
   ]
  },
  {
   "cell_type": "code",
   "execution_count": 377,
   "metadata": {
    "collapsed": false
   },
   "outputs": [
    {
     "data": {
      "text/plain": [
       "\n",
       "-------------------------Summary of Regression Analysis-------------------------\n",
       "\n",
       "Formula: Y ~ <Chapters> + <PublishDate> + <CompleteDate> + <KL> + <intercept>\n",
       "\n",
       "Number of Observations:         132075\n",
       "Number of Degrees of Freedom:   5\n",
       "\n",
       "R-squared:         0.1147\n",
       "Adj R-squared:     0.1147\n",
       "\n",
       "Rmse:            566.4698\n",
       "\n",
       "F-stat (4, 132070):  4277.2689, p-value:     0.0000\n",
       "\n",
       "Degrees of Freedom: model 4, resid 132070\n",
       "\n",
       "-----------------------Summary of Estimated Coefficients------------------------\n",
       "      Variable       Coef    Std Err     t-stat    p-value    CI 2.5%   CI 97.5%\n",
       "--------------------------------------------------------------------------------\n",
       "      Chapters     3.8008     0.0432      88.03     0.0000     3.7161     3.8854\n",
       "   PublishDate     0.7376     0.0132      55.89     0.0000     0.7118     0.7635\n",
       "  CompleteDate    -0.6166     0.0131     -47.24     0.0000    -0.6422    -0.5910\n",
       "            KL   -49.1199     1.7183     -28.59     0.0000   -52.4877   -45.7520\n",
       "     intercept   146.1221     4.9676      29.41     0.0000   136.3856   155.8587\n",
       "---------------------------------End of Summary---------------------------------"
      ]
     },
     "execution_count": 377,
     "metadata": {},
     "output_type": "execute_result"
    }
   ],
   "source": [
    "res = ols(y = df2['Kudos'], x = df2[['Chapters', 'PublishDate','CompleteDate','KL']])\n",
    "res"
   ]
  },
  {
   "cell_type": "code",
   "execution_count": 377,
   "metadata": {
    "collapsed": false
   },
   "outputs": [
    {
     "data": {
      "text/plain": [
       "\n",
       "-------------------------Summary of Regression Analysis-------------------------\n",
       "\n",
       "Formula: Y ~ <Chapters> + <PublishDate> + <CompleteDate> + <KL> + <intercept>\n",
       "\n",
       "Number of Observations:         132075\n",
       "Number of Degrees of Freedom:   5\n",
       "\n",
       "R-squared:         0.1147\n",
       "Adj R-squared:     0.1147\n",
       "\n",
       "Rmse:            566.4698\n",
       "\n",
       "F-stat (4, 132070):  4277.2689, p-value:     0.0000\n",
       "\n",
       "Degrees of Freedom: model 4, resid 132070\n",
       "\n",
       "-----------------------Summary of Estimated Coefficients------------------------\n",
       "      Variable       Coef    Std Err     t-stat    p-value    CI 2.5%   CI 97.5%\n",
       "--------------------------------------------------------------------------------\n",
       "      Chapters     3.8008     0.0432      88.03     0.0000     3.7161     3.8854\n",
       "   PublishDate     0.7376     0.0132      55.89     0.0000     0.7118     0.7635\n",
       "  CompleteDate    -0.6166     0.0131     -47.24     0.0000    -0.6422    -0.5910\n",
       "            KL   -49.1199     1.7183     -28.59     0.0000   -52.4877   -45.7520\n",
       "     intercept   146.1221     4.9676      29.41     0.0000   136.3856   155.8587\n",
       "---------------------------------End of Summary---------------------------------"
      ]
     },
     "execution_count": 377,
     "metadata": {},
     "output_type": "execute_result"
    }
   ],
   "source": [
    "res = ols(y = df2['Kudos'], x = df2[['Chapters', 'PublishDate','CompleteDate','KL']])\n",
    "res"
   ]
  },
  {
   "cell_type": "code",
   "execution_count": 377,
   "metadata": {
    "collapsed": false
   },
   "outputs": [
    {
     "data": {
      "text/plain": [
       "\n",
       "-------------------------Summary of Regression Analysis-------------------------\n",
       "\n",
       "Formula: Y ~ <Chapters> + <PublishDate> + <CompleteDate> + <KL> + <intercept>\n",
       "\n",
       "Number of Observations:         132075\n",
       "Number of Degrees of Freedom:   5\n",
       "\n",
       "R-squared:         0.1147\n",
       "Adj R-squared:     0.1147\n",
       "\n",
       "Rmse:            566.4698\n",
       "\n",
       "F-stat (4, 132070):  4277.2689, p-value:     0.0000\n",
       "\n",
       "Degrees of Freedom: model 4, resid 132070\n",
       "\n",
       "-----------------------Summary of Estimated Coefficients------------------------\n",
       "      Variable       Coef    Std Err     t-stat    p-value    CI 2.5%   CI 97.5%\n",
       "--------------------------------------------------------------------------------\n",
       "      Chapters     3.8008     0.0432      88.03     0.0000     3.7161     3.8854\n",
       "   PublishDate     0.7376     0.0132      55.89     0.0000     0.7118     0.7635\n",
       "  CompleteDate    -0.6166     0.0131     -47.24     0.0000    -0.6422    -0.5910\n",
       "            KL   -49.1199     1.7183     -28.59     0.0000   -52.4877   -45.7520\n",
       "     intercept   146.1221     4.9676      29.41     0.0000   136.3856   155.8587\n",
       "---------------------------------End of Summary---------------------------------"
      ]
     },
     "execution_count": 377,
     "metadata": {},
     "output_type": "execute_result"
    }
   ],
   "source": [
    "res = ols(y = df2['Kudos'], x = df2[['Chapters', 'PublishDate','CompleteDate','KL']])\n",
    "res"
   ]
  },
  {
   "cell_type": "code",
   "execution_count": 377,
   "metadata": {
    "collapsed": false
   },
   "outputs": [
    {
     "data": {
      "text/plain": [
       "\n",
       "-------------------------Summary of Regression Analysis-------------------------\n",
       "\n",
       "Formula: Y ~ <Chapters> + <PublishDate> + <CompleteDate> + <KL> + <intercept>\n",
       "\n",
       "Number of Observations:         132075\n",
       "Number of Degrees of Freedom:   5\n",
       "\n",
       "R-squared:         0.1147\n",
       "Adj R-squared:     0.1147\n",
       "\n",
       "Rmse:            566.4698\n",
       "\n",
       "F-stat (4, 132070):  4277.2689, p-value:     0.0000\n",
       "\n",
       "Degrees of Freedom: model 4, resid 132070\n",
       "\n",
       "-----------------------Summary of Estimated Coefficients------------------------\n",
       "      Variable       Coef    Std Err     t-stat    p-value    CI 2.5%   CI 97.5%\n",
       "--------------------------------------------------------------------------------\n",
       "      Chapters     3.8008     0.0432      88.03     0.0000     3.7161     3.8854\n",
       "   PublishDate     0.7376     0.0132      55.89     0.0000     0.7118     0.7635\n",
       "  CompleteDate    -0.6166     0.0131     -47.24     0.0000    -0.6422    -0.5910\n",
       "            KL   -49.1199     1.7183     -28.59     0.0000   -52.4877   -45.7520\n",
       "     intercept   146.1221     4.9676      29.41     0.0000   136.3856   155.8587\n",
       "---------------------------------End of Summary---------------------------------"
      ]
     },
     "execution_count": 377,
     "metadata": {},
     "output_type": "execute_result"
    }
   ],
   "source": [
    "res = ols(y = df2['Kudos'], x = df2[['Chapters', 'PublishDate','CompleteDate','KL']])\n",
    "res"
   ]
  },
  {
   "cell_type": "code",
   "execution_count": 355,
   "metadata": {
    "collapsed": false
   },
   "outputs": [
    {
     "data": {
      "text/plain": [
       "\n",
       "-------------------------Summary of Regression Analysis-------------------------\n",
       "\n",
       "Formula: Y ~ <Chapters> + <CompleteDate> + <PublishDate> + <ChapterLength>\n",
       "             + <KL> + <intercept>\n",
       "\n",
       "Number of Observations:         131300\n",
       "Number of Degrees of Freedom:   5\n",
       "\n",
       "R-squared:         0.1473\n",
       "Adj R-squared:     0.2346\n",
       "\n",
       "Rmse:          20534.5567\n",
       "\n",
       "F-stat (5, 131295):    -1.6853, p-value:     1.0000\n",
       "\n",
       "Degrees of Freedom: model 5, resid 131295\n",
       "\n",
       "-----------------------Summary of Estimated Coefficients------------------------\n",
       "      Variable       Coef    Std Err     t-stat    p-value    CI 2.5%   CI 97.5%\n",
       "--------------------------------------------------------------------------------\n",
       "      Chapters   143.2248     1.5535      92.20     0.0000   140.1799   146.2696\n",
       "  CompleteDate   -29.8870     0.4706     -63.51     0.0000   -30.8094   -28.9647\n",
       "   PublishDate    36.4067     0.4743      76.77     0.0000    35.4772    37.3363\n",
       " ChapterLength     1.3914        nan        nan        nan        nan        nan\n",
       "            KL -1595.0599        nan        nan        nan        nan        nan\n",
       "--------------------------------------------------------------------------------\n",
       "     intercept     0.0014        nan        nan        nan        nan        nan\n",
       "---------------------------------End of Summary---------------------------------"
      ]
     },
     "execution_count": 355,
     "metadata": {},
     "output_type": "execute_result"
    }
   ],
   "source": [
    "res = ols(y = df2['Hits'], x = df2[['Chapters', 'CompleteDate', 'PublishDate', 'ChapterLength', 'KL']])\n",
    "res"
   ]
  },
  {
   "cell_type": "code",
   "execution_count": null,
   "metadata": {
    "collapsed": true
   },
   "outputs": [],
   "source": []
  }
 ],
 "metadata": {
  "kernelspec": {
   "display_name": "Python 2",
   "language": "python",
   "name": "python2"
  },
  "language_info": {
   "codemirror_mode": {
    "name": "ipython",
    "version": 2
   },
   "file_extension": ".py",
   "mimetype": "text/x-python",
   "name": "python",
   "nbconvert_exporter": "python",
   "pygments_lexer": "ipython2",
   "version": "2.7.11"
  }
 },
 "nbformat": 4,
 "nbformat_minor": 0
}
