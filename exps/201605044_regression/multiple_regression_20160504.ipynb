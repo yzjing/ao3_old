{
 "cells": [
  {
   "cell_type": "code",
   "execution_count": 2,
   "metadata": {
    "collapsed": false
   },
   "outputs": [],
   "source": [
    "import pandas as pd\n",
    "import matplotlib.pyplot as plt\n",
    "%matplotlib inline \n",
    "from sklearn.linear_model import LinearRegression\n",
    "import numpy as np\n",
    "import ast\n",
    "from datetime import date\n",
    "from pandas.stats.api import ols"
   ]
  },
  {
   "cell_type": "code",
   "execution_count": 36,
   "metadata": {
    "collapsed": true
   },
   "outputs": [],
   "source": [
    "f = '../../data/sherlock_processed2.tsv'"
   ]
  },
  {
   "cell_type": "code",
   "execution_count": 37,
   "metadata": {
    "collapsed": false
   },
   "outputs": [],
   "source": [
    "data = pd.read_csv(f, sep = '\\t')"
   ]
  },
  {
   "cell_type": "code",
   "execution_count": 38,
   "metadata": {
    "collapsed": true
   },
   "outputs": [],
   "source": [
    "df = data"
   ]
  },
  {
   "cell_type": "code",
   "execution_count": 39,
   "metadata": {
    "collapsed": false
   },
   "outputs": [
    {
     "data": {
      "text/plain": [
       "100"
      ]
     },
     "execution_count": 39,
     "metadata": {},
     "output_type": "execute_result"
    }
   ],
   "source": [
    "len(df)"
   ]
  },
  {
   "cell_type": "code",
   "execution_count": 6,
   "metadata": {
    "collapsed": true
   },
   "outputs": [],
   "source": [
    "df = df.head(100)"
   ]
  },
  {
   "cell_type": "code",
   "execution_count": 7,
   "metadata": {
    "collapsed": true
   },
   "outputs": [],
   "source": [
    "def calc_kl(p, q):\n",
    "    return sum([p[i]*(np.log2(p[i]/q[i])) for i in range(len(p))])"
   ]
  },
  {
   "cell_type": "code",
   "execution_count": 8,
   "metadata": {
    "collapsed": true
   },
   "outputs": [],
   "source": [
    "timelist = df.PublishDate.drop_duplicates().tolist()\n",
    "timelist = [str(i)[:7] for i in timelist]\n",
    "timelist = sorted(list(set(timelist)))[2:]"
   ]
  },
  {
   "cell_type": "code",
   "execution_count": 9,
   "metadata": {
    "collapsed": true
   },
   "outputs": [],
   "source": [
    "def create_df_time(df, time):\n",
    "    return df[df.PublishDate.str[:7] == time]"
   ]
  },
  {
   "cell_type": "markdown",
   "metadata": {},
   "source": [
    "##Create features for regression."
   ]
  },
  {
   "cell_type": "markdown",
   "metadata": {},
   "source": [
    "###(Now regress on Chs)"
   ]
  },
  {
   "cell_type": "markdown",
   "metadata": {},
   "source": [
    "###Add KL to monthly average."
   ]
  },
  {
   "cell_type": "code",
   "execution_count": 10,
   "metadata": {
    "collapsed": true
   },
   "outputs": [],
   "source": [
    "def calc_monthly_std(df):\n",
    "    gammas = []\n",
    "    dis = df.TopicDistribution.tolist()\n",
    "    for i in dis:\n",
    "        gammas.append(ast.literal_eval(i))\n",
    "        \n",
    "    gammas_flat = []\n",
    "    for gamma in gammas:\n",
    "#         gamma = ast.literal_eval(gamma)\n",
    "        for elem in gamma:\n",
    "            gammas_flat.append(elem)\n",
    "    ave = {}\n",
    "    for n in range(40):\n",
    "        t = []\n",
    "        for i in gammas_flat:\n",
    "            if i[0] == n:\n",
    "                t.append(i[1])\n",
    "        ave[n] = sum(t)/float(len(df))\n",
    "    return ave.values()"
   ]
  },
  {
   "cell_type": "code",
   "execution_count": 11,
   "metadata": {
    "collapsed": true
   },
   "outputs": [],
   "source": [
    "def calc_ind_kl(td, std_month):\n",
    "#     print type(std_month)\n",
    "    try:\n",
    "        return calc_kl(td, std_month)\n",
    "    except:\n",
    "        return float('nan')"
   ]
  },
  {
   "cell_type": "code",
   "execution_count": 12,
   "metadata": {
    "collapsed": false
   },
   "outputs": [],
   "source": [
    "std_gammas = {}\n",
    "for time in timelist:\n",
    "    df_t = create_df_time(df, time)\n",
    "    std_gammas[time] = calc_monthly_std(df_t)"
   ]
  },
  {
   "cell_type": "code",
   "execution_count": 13,
   "metadata": {
    "collapsed": true
   },
   "outputs": [],
   "source": [
    "# def eval_td(cell):\n",
    "#     return [i[1] for i in ast.literal_eval(cell)]"
   ]
  },
  {
   "cell_type": "code",
   "execution_count": 14,
   "metadata": {
    "collapsed": false,
    "scrolled": true
   },
   "outputs": [
    {
     "name": "stderr",
     "output_type": "stream",
     "text": [
      "/Users/jingy/anaconda/lib/python2.7/site-packages/IPython/kernel/__main__.py:1: SettingWithCopyWarning: \n",
      "A value is trying to be set on a copy of a slice from a DataFrame.\n",
      "Try using .loc[row_indexer,col_indexer] = value instead\n",
      "\n",
      "See the the caveats in the documentation: http://pandas.pydata.org/pandas-docs/stable/indexing.html#indexing-view-versus-copy\n",
      "  if __name__ == '__main__':\n"
     ]
    }
   ],
   "source": [
    "df['KL'] = df.apply(lambda row:calc_ind_kl([i[1] for i in ast.literal_eval(row['TopicDistribution'])], std_gammas.get(str(row['PublishDate'])[:7])), axis = 1)"
   ]
  },
  {
   "cell_type": "code",
   "execution_count": 15,
   "metadata": {
    "collapsed": true
   },
   "outputs": [],
   "source": [
    "df.to_csv('../../data/sherlock_processed2.tsv', index = False, sep = '\\t')"
   ]
  },
  {
   "cell_type": "markdown",
   "metadata": {},
   "source": [
    "###Add # of comments/bookmarks for each chapter."
   ]
  },
  {
   "cell_type": "code",
   "execution_count": 16,
   "metadata": {
    "collapsed": true
   },
   "outputs": [],
   "source": [
    "def sum_values(d):\n",
    "    try:\n",
    "        return sum(ast.literal_eval(d).values())\n",
    "    except:\n",
    "        return float('nan')"
   ]
  },
  {
   "cell_type": "code",
   "execution_count": 18,
   "metadata": {
    "collapsed": false
   },
   "outputs": [
    {
     "name": "stderr",
     "output_type": "stream",
     "text": [
      "/Users/jingy/anaconda/lib/python2.7/site-packages/IPython/kernel/__main__.py:1: SettingWithCopyWarning: \n",
      "A value is trying to be set on a copy of a slice from a DataFrame.\n",
      "Try using .loc[row_indexer,col_indexer] = value instead\n",
      "\n",
      "See the the caveats in the documentation: http://pandas.pydata.org/pandas-docs/stable/indexing.html#indexing-view-versus-copy\n",
      "  if __name__ == '__main__':\n"
     ]
    }
   ],
   "source": [
    "df['Comments'] = df.apply(lambda row:sum_values(row['Comments']), axis = 1)"
   ]
  },
  {
   "cell_type": "code",
   "execution_count": 19,
   "metadata": {
    "collapsed": false
   },
   "outputs": [
    {
     "name": "stderr",
     "output_type": "stream",
     "text": [
      "/Users/jingy/anaconda/lib/python2.7/site-packages/IPython/kernel/__main__.py:1: SettingWithCopyWarning: \n",
      "A value is trying to be set on a copy of a slice from a DataFrame.\n",
      "Try using .loc[row_indexer,col_indexer] = value instead\n",
      "\n",
      "See the the caveats in the documentation: http://pandas.pydata.org/pandas-docs/stable/indexing.html#indexing-view-versus-copy\n",
      "  if __name__ == '__main__':\n"
     ]
    }
   ],
   "source": [
    "df['Bookmarks'] = df.apply(lambda row:sum_values(row['Bookmarks']), axis = 1)"
   ]
  },
  {
   "cell_type": "code",
   "execution_count": 20,
   "metadata": {
    "collapsed": false
   },
   "outputs": [
    {
     "data": {
      "text/html": [
       "<div>\n",
       "<table border=\"1\" class=\"dataframe\">\n",
       "  <thead>\n",
       "    <tr style=\"text-align: right;\">\n",
       "      <th></th>\n",
       "      <th>AdditionalTags</th>\n",
       "      <th>ArchiveWarnings</th>\n",
       "      <th>Author</th>\n",
       "      <th>Bookmarks</th>\n",
       "      <th>Category</th>\n",
       "      <th>Chapters</th>\n",
       "      <th>Characters</th>\n",
       "      <th>Comments</th>\n",
       "      <th>CompleteDate</th>\n",
       "      <th>Fandoms</th>\n",
       "      <th>Hits</th>\n",
       "      <th>Kudos</th>\n",
       "      <th>PublishDate</th>\n",
       "      <th>Rating</th>\n",
       "      <th>Relationship</th>\n",
       "      <th>TopicDistribution</th>\n",
       "      <th>FullLength</th>\n",
       "      <th>ChapterLength</th>\n",
       "      <th>KL</th>\n",
       "    </tr>\n",
       "  </thead>\n",
       "  <tbody>\n",
       "    <tr>\n",
       "      <th>0</th>\n",
       "      <td>Implied/Referenced Rape/Non-con, Past Rape/Non...</td>\n",
       "      <td>Creator Chose Not To Use Archive Warnings</td>\n",
       "      <td>HunterusHeroicus</td>\n",
       "      <td>1</td>\n",
       "      <td>Gen</td>\n",
       "      <td>1</td>\n",
       "      <td>John Watson, Sherlock Holmes, Mycroft Holmes, ...</td>\n",
       "      <td>2</td>\n",
       "      <td>2015-01-11</td>\n",
       "      <td>Sherlock (TV)</td>\n",
       "      <td>254</td>\n",
       "      <td>5</td>\n",
       "      <td>2015-01-11</td>\n",
       "      <td>Mature</td>\n",
       "      <td>NaN</td>\n",
       "      <td>[(0, 2.665245202558638e-05), (1, 0.02680151047...</td>\n",
       "      <td>1016</td>\n",
       "      <td>974</td>\n",
       "      <td>1.514778</td>\n",
       "    </tr>\n",
       "  </tbody>\n",
       "</table>\n",
       "</div>"
      ],
      "text/plain": [
       "                                      AdditionalTags  \\\n",
       "0  Implied/Referenced Rape/Non-con, Past Rape/Non...   \n",
       "\n",
       "                             ArchiveWarnings            Author  Bookmarks  \\\n",
       "0  Creator Chose Not To Use Archive Warnings  HunterusHeroicus          1   \n",
       "\n",
       "  Category  Chapters                                         Characters  \\\n",
       "0      Gen         1  John Watson, Sherlock Holmes, Mycroft Holmes, ...   \n",
       "\n",
       "   Comments CompleteDate        Fandoms  Hits  Kudos PublishDate  Rating  \\\n",
       "0         2   2015-01-11  Sherlock (TV)   254      5  2015-01-11  Mature   \n",
       "\n",
       "  Relationship                                  TopicDistribution  FullLength  \\\n",
       "0          NaN  [(0, 2.665245202558638e-05), (1, 0.02680151047...        1016   \n",
       "\n",
       "   ChapterLength        KL  \n",
       "0            974  1.514778  "
      ]
     },
     "execution_count": 20,
     "metadata": {},
     "output_type": "execute_result"
    }
   ],
   "source": [
    "df.head(1)"
   ]
  },
  {
   "cell_type": "markdown",
   "metadata": {},
   "source": [
    "###Calculate the time between publish/complete date and today"
   ]
  },
  {
   "cell_type": "code",
   "execution_count": 21,
   "metadata": {
    "collapsed": true
   },
   "outputs": [],
   "source": [
    "def date_today(cell):\n",
    "    try:\n",
    "        y, m, d = cell.split('-')\n",
    "        return abs(date.today() - date(int(y), int(m), int(d))).days\n",
    "    except:\n",
    "        return float('nan')"
   ]
  },
  {
   "cell_type": "code",
   "execution_count": 22,
   "metadata": {
    "collapsed": false
   },
   "outputs": [
    {
     "name": "stderr",
     "output_type": "stream",
     "text": [
      "/Users/jingy/anaconda/lib/python2.7/site-packages/IPython/kernel/__main__.py:1: SettingWithCopyWarning: \n",
      "A value is trying to be set on a copy of a slice from a DataFrame.\n",
      "Try using .loc[row_indexer,col_indexer] = value instead\n",
      "\n",
      "See the the caveats in the documentation: http://pandas.pydata.org/pandas-docs/stable/indexing.html#indexing-view-versus-copy\n",
      "  if __name__ == '__main__':\n"
     ]
    }
   ],
   "source": [
    "df['PublishDate'] = df.apply(lambda row: date_today(row['PublishDate']), axis = 1)"
   ]
  },
  {
   "cell_type": "code",
   "execution_count": 23,
   "metadata": {
    "collapsed": false
   },
   "outputs": [
    {
     "name": "stderr",
     "output_type": "stream",
     "text": [
      "/Users/jingy/anaconda/lib/python2.7/site-packages/IPython/kernel/__main__.py:1: SettingWithCopyWarning: \n",
      "A value is trying to be set on a copy of a slice from a DataFrame.\n",
      "Try using .loc[row_indexer,col_indexer] = value instead\n",
      "\n",
      "See the the caveats in the documentation: http://pandas.pydata.org/pandas-docs/stable/indexing.html#indexing-view-versus-copy\n",
      "  if __name__ == '__main__':\n"
     ]
    }
   ],
   "source": [
    "df['CompleteDate'] = df.apply(lambda row: date_today(row['CompleteDate']), axis = 1)"
   ]
  },
  {
   "cell_type": "code",
   "execution_count": 24,
   "metadata": {
    "collapsed": false
   },
   "outputs": [
    {
     "data": {
      "text/html": [
       "<div>\n",
       "<table border=\"1\" class=\"dataframe\">\n",
       "  <thead>\n",
       "    <tr style=\"text-align: right;\">\n",
       "      <th></th>\n",
       "      <th>AdditionalTags</th>\n",
       "      <th>ArchiveWarnings</th>\n",
       "      <th>Author</th>\n",
       "      <th>Bookmarks</th>\n",
       "      <th>Category</th>\n",
       "      <th>Chapters</th>\n",
       "      <th>Characters</th>\n",
       "      <th>Comments</th>\n",
       "      <th>CompleteDate</th>\n",
       "      <th>Fandoms</th>\n",
       "      <th>Hits</th>\n",
       "      <th>Kudos</th>\n",
       "      <th>PublishDate</th>\n",
       "      <th>Rating</th>\n",
       "      <th>Relationship</th>\n",
       "      <th>TopicDistribution</th>\n",
       "      <th>FullLength</th>\n",
       "      <th>ChapterLength</th>\n",
       "      <th>KL</th>\n",
       "    </tr>\n",
       "  </thead>\n",
       "  <tbody>\n",
       "    <tr>\n",
       "      <th>0</th>\n",
       "      <td>Implied/Referenced Rape/Non-con, Past Rape/Non...</td>\n",
       "      <td>Creator Chose Not To Use Archive Warnings</td>\n",
       "      <td>HunterusHeroicus</td>\n",
       "      <td>1</td>\n",
       "      <td>Gen</td>\n",
       "      <td>1</td>\n",
       "      <td>John Watson, Sherlock Holmes, Mycroft Holmes, ...</td>\n",
       "      <td>2</td>\n",
       "      <td>505</td>\n",
       "      <td>Sherlock (TV)</td>\n",
       "      <td>254</td>\n",
       "      <td>5</td>\n",
       "      <td>505</td>\n",
       "      <td>Mature</td>\n",
       "      <td>NaN</td>\n",
       "      <td>[(0, 2.665245202558638e-05), (1, 0.02680151047...</td>\n",
       "      <td>1016</td>\n",
       "      <td>974</td>\n",
       "      <td>1.514778</td>\n",
       "    </tr>\n",
       "  </tbody>\n",
       "</table>\n",
       "</div>"
      ],
      "text/plain": [
       "                                      AdditionalTags  \\\n",
       "0  Implied/Referenced Rape/Non-con, Past Rape/Non...   \n",
       "\n",
       "                             ArchiveWarnings            Author  Bookmarks  \\\n",
       "0  Creator Chose Not To Use Archive Warnings  HunterusHeroicus          1   \n",
       "\n",
       "  Category  Chapters                                         Characters  \\\n",
       "0      Gen         1  John Watson, Sherlock Holmes, Mycroft Holmes, ...   \n",
       "\n",
       "   Comments  CompleteDate        Fandoms  Hits  Kudos  PublishDate  Rating  \\\n",
       "0         2           505  Sherlock (TV)   254      5          505  Mature   \n",
       "\n",
       "  Relationship                                  TopicDistribution  FullLength  \\\n",
       "0          NaN  [(0, 2.665245202558638e-05), (1, 0.02680151047...        1016   \n",
       "\n",
       "   ChapterLength        KL  \n",
       "0            974  1.514778  "
      ]
     },
     "execution_count": 24,
     "metadata": {},
     "output_type": "execute_result"
    }
   ],
   "source": [
    "df.head(1)"
   ]
  },
  {
   "cell_type": "code",
   "execution_count": 25,
   "metadata": {
    "collapsed": true
   },
   "outputs": [],
   "source": [
    "df2 = df[['Bookmarks', 'Chapters', 'Comments', 'CompleteDate', 'Hits', 'Kudos', 'PublishDate', 'ChapterLength', 'KL']]"
   ]
  },
  {
   "cell_type": "code",
   "execution_count": 35,
   "metadata": {
    "collapsed": false
   },
   "outputs": [
    {
     "data": {
      "text/plain": [
       "100"
      ]
     },
     "execution_count": 35,
     "metadata": {},
     "output_type": "execute_result"
    }
   ],
   "source": [
    "len(df)"
   ]
  },
  {
   "cell_type": "code",
   "execution_count": 30,
   "metadata": {
    "collapsed": false
   },
   "outputs": [],
   "source": [
    "df2 = df2.fillna(0)"
   ]
  },
  {
   "cell_type": "code",
   "execution_count": 33,
   "metadata": {
    "collapsed": false
   },
   "outputs": [
    {
     "data": {
      "text/plain": [
       "100"
      ]
     },
     "execution_count": 33,
     "metadata": {},
     "output_type": "execute_result"
    }
   ],
   "source": [
    "len(df2)"
   ]
  },
  {
   "cell_type": "code",
   "execution_count": 31,
   "metadata": {
    "collapsed": false
   },
   "outputs": [
    {
     "data": {
      "text/html": [
       "<div>\n",
       "<table border=\"1\" class=\"dataframe\">\n",
       "  <thead>\n",
       "    <tr style=\"text-align: right;\">\n",
       "      <th></th>\n",
       "      <th>Bookmarks</th>\n",
       "      <th>Chapters</th>\n",
       "      <th>Comments</th>\n",
       "      <th>CompleteDate</th>\n",
       "      <th>Hits</th>\n",
       "      <th>Kudos</th>\n",
       "      <th>PublishDate</th>\n",
       "      <th>ChapterLength</th>\n",
       "      <th>KL</th>\n",
       "    </tr>\n",
       "  </thead>\n",
       "  <tbody>\n",
       "    <tr>\n",
       "      <th>0</th>\n",
       "      <td>1</td>\n",
       "      <td>1</td>\n",
       "      <td>2</td>\n",
       "      <td>505</td>\n",
       "      <td>254</td>\n",
       "      <td>5</td>\n",
       "      <td>505</td>\n",
       "      <td>974</td>\n",
       "      <td>1.514778</td>\n",
       "    </tr>\n",
       "    <tr>\n",
       "      <th>1</th>\n",
       "      <td>0</td>\n",
       "      <td>1</td>\n",
       "      <td>0</td>\n",
       "      <td>505</td>\n",
       "      <td>157</td>\n",
       "      <td>1</td>\n",
       "      <td>505</td>\n",
       "      <td>974</td>\n",
       "      <td>1.142751</td>\n",
       "    </tr>\n",
       "    <tr>\n",
       "      <th>2</th>\n",
       "      <td>0</td>\n",
       "      <td>1</td>\n",
       "      <td>0</td>\n",
       "      <td>505</td>\n",
       "      <td>231</td>\n",
       "      <td>2</td>\n",
       "      <td>505</td>\n",
       "      <td>974</td>\n",
       "      <td>2.245494</td>\n",
       "    </tr>\n",
       "    <tr>\n",
       "      <th>3</th>\n",
       "      <td>5</td>\n",
       "      <td>1</td>\n",
       "      <td>39</td>\n",
       "      <td>505</td>\n",
       "      <td>1071</td>\n",
       "      <td>104</td>\n",
       "      <td>505</td>\n",
       "      <td>974</td>\n",
       "      <td>2.189688</td>\n",
       "    </tr>\n",
       "    <tr>\n",
       "      <th>4</th>\n",
       "      <td>0</td>\n",
       "      <td>1</td>\n",
       "      <td>0</td>\n",
       "      <td>505</td>\n",
       "      <td>203</td>\n",
       "      <td>1</td>\n",
       "      <td>505</td>\n",
       "      <td>974</td>\n",
       "      <td>1.859819</td>\n",
       "    </tr>\n",
       "  </tbody>\n",
       "</table>\n",
       "</div>"
      ],
      "text/plain": [
       "   Bookmarks  Chapters  Comments  CompleteDate  Hits  Kudos  PublishDate  \\\n",
       "0          1         1         2           505   254      5          505   \n",
       "1          0         1         0           505   157      1          505   \n",
       "2          0         1         0           505   231      2          505   \n",
       "3          5         1        39           505  1071    104          505   \n",
       "4          0         1         0           505   203      1          505   \n",
       "\n",
       "   ChapterLength        KL  \n",
       "0            974  1.514778  \n",
       "1            974  1.142751  \n",
       "2            974  2.245494  \n",
       "3            974  2.189688  \n",
       "4            974  1.859819  "
      ]
     },
     "execution_count": 31,
     "metadata": {},
     "output_type": "execute_result"
    }
   ],
   "source": [
    "df2.head()"
   ]
  },
  {
   "cell_type": "code",
   "execution_count": 40,
   "metadata": {
    "collapsed": false
   },
   "outputs": [
    {
     "data": {
      "text/plain": [
       "\n",
       "-------------------------Summary of Regression Analysis-------------------------\n",
       "\n",
       "Formula: Y ~ <Chapters> + <CompleteDate> + <PublishDate> + <Hits> + <intercept>\n",
       "\n",
       "Number of Observations:         100\n",
       "Number of Degrees of Freedom:   5\n",
       "\n",
       "R-squared:         0.7647\n",
       "Adj R-squared:     0.7548\n",
       "\n",
       "Rmse:             51.5757\n",
       "\n",
       "F-stat (4, 95):    77.2046, p-value:     0.0000\n",
       "\n",
       "Degrees of Freedom: model 4, resid 95\n",
       "\n",
       "-----------------------Summary of Estimated Coefficients------------------------\n",
       "      Variable       Coef    Std Err     t-stat    p-value    CI 2.5%   CI 97.5%\n",
       "--------------------------------------------------------------------------------\n",
       "      Chapters    -3.1332     1.3449      -2.33     0.0219    -5.7693    -0.4971\n",
       "  CompleteDate     0.0468     0.0372       1.26     0.2110    -0.0260     0.1196\n",
       "   PublishDate    -0.0597     0.0588      -1.02     0.3121    -0.1749     0.0555\n",
       "          Hits     0.0315     0.0041       7.75     0.0000     0.0235     0.0394\n",
       "     intercept    61.2330    38.9353       1.57     0.1191   -15.0802   137.5462\n",
       "---------------------------------End of Summary---------------------------------"
      ]
     },
     "execution_count": 40,
     "metadata": {},
     "output_type": "execute_result"
    }
   ],
   "source": [
    "res = ols(y = df2['Kudos'], x = df2[['Chapters','CompleteDate','PublishDate','Hits']])\n",
    "res"
   ]
  },
  {
   "cell_type": "code",
   "execution_count": 389,
   "metadata": {
    "collapsed": false
   },
   "outputs": [
    {
     "data": {
      "text/plain": [
       "\n",
       "-------------------------Summary of Regression Analysis-------------------------\n",
       "\n",
       "Formula: Y ~ <Chapters> + <CompleteDate> + <PublishDate> + <ChapterLength>\n",
       "             + <KL> + <intercept>\n",
       "\n",
       "Number of Observations:         114574\n",
       "Number of Degrees of Freedom:   5\n",
       "\n",
       "R-squared:         0.1759\n",
       "Adj R-squared:     0.4160\n",
       "\n",
       "Rmse:             54.0371\n",
       "\n",
       "F-stat (5, 114569):    -0.7326, p-value:     1.0000\n",
       "\n",
       "Degrees of Freedom: model 5, resid 114569\n",
       "\n",
       "-----------------------Summary of Estimated Coefficients------------------------\n",
       "      Variable       Coef    Std Err     t-stat    p-value    CI 2.5%   CI 97.5%\n",
       "--------------------------------------------------------------------------------\n",
       "      Chapters     0.4388     0.0041     106.26     0.0000     0.4307     0.4469\n",
       "  CompleteDate    -0.0707     0.0013     -55.58     0.0000    -0.0732    -0.0682\n",
       "   PublishDate     0.0854     0.0013      66.42     0.0000     0.0828     0.0879\n",
       " ChapterLength     0.0292        nan        nan        nan        nan        nan\n",
       "            KL    -7.5632     0.0050   -1519.79     0.0000    -7.5729    -7.5534\n",
       "--------------------------------------------------------------------------------\n",
       "     intercept     0.0000        nan        nan        nan        nan        nan\n",
       "---------------------------------End of Summary---------------------------------"
      ]
     },
     "execution_count": 389,
     "metadata": {},
     "output_type": "execute_result"
    }
   ],
   "source": [
    "res = ols(y = df2['Bookmarks'], x = df2[['Chapters', 'CompleteDate', 'PublishDate', 'ChapterLength', 'KL']])\n",
    "res"
   ]
  },
  {
   "cell_type": "code",
   "execution_count": 377,
   "metadata": {
    "collapsed": false
   },
   "outputs": [
    {
     "data": {
      "text/plain": [
       "\n",
       "-------------------------Summary of Regression Analysis-------------------------\n",
       "\n",
       "Formula: Y ~ <Chapters> + <PublishDate> + <CompleteDate> + <KL> + <intercept>\n",
       "\n",
       "Number of Observations:         132075\n",
       "Number of Degrees of Freedom:   5\n",
       "\n",
       "R-squared:         0.1147\n",
       "Adj R-squared:     0.1147\n",
       "\n",
       "Rmse:            566.4698\n",
       "\n",
       "F-stat (4, 132070):  4277.2689, p-value:     0.0000\n",
       "\n",
       "Degrees of Freedom: model 4, resid 132070\n",
       "\n",
       "-----------------------Summary of Estimated Coefficients------------------------\n",
       "      Variable       Coef    Std Err     t-stat    p-value    CI 2.5%   CI 97.5%\n",
       "--------------------------------------------------------------------------------\n",
       "      Chapters     3.8008     0.0432      88.03     0.0000     3.7161     3.8854\n",
       "   PublishDate     0.7376     0.0132      55.89     0.0000     0.7118     0.7635\n",
       "  CompleteDate    -0.6166     0.0131     -47.24     0.0000    -0.6422    -0.5910\n",
       "            KL   -49.1199     1.7183     -28.59     0.0000   -52.4877   -45.7520\n",
       "     intercept   146.1221     4.9676      29.41     0.0000   136.3856   155.8587\n",
       "---------------------------------End of Summary---------------------------------"
      ]
     },
     "execution_count": 377,
     "metadata": {},
     "output_type": "execute_result"
    }
   ],
   "source": [
    "res = ols(y = df2['Kudos'], x = df2[['Chapters', 'PublishDate','CompleteDate','KL']])\n",
    "res"
   ]
  },
  {
   "cell_type": "code",
   "execution_count": 377,
   "metadata": {
    "collapsed": false
   },
   "outputs": [
    {
     "data": {
      "text/plain": [
       "\n",
       "-------------------------Summary of Regression Analysis-------------------------\n",
       "\n",
       "Formula: Y ~ <Chapters> + <PublishDate> + <CompleteDate> + <KL> + <intercept>\n",
       "\n",
       "Number of Observations:         132075\n",
       "Number of Degrees of Freedom:   5\n",
       "\n",
       "R-squared:         0.1147\n",
       "Adj R-squared:     0.1147\n",
       "\n",
       "Rmse:            566.4698\n",
       "\n",
       "F-stat (4, 132070):  4277.2689, p-value:     0.0000\n",
       "\n",
       "Degrees of Freedom: model 4, resid 132070\n",
       "\n",
       "-----------------------Summary of Estimated Coefficients------------------------\n",
       "      Variable       Coef    Std Err     t-stat    p-value    CI 2.5%   CI 97.5%\n",
       "--------------------------------------------------------------------------------\n",
       "      Chapters     3.8008     0.0432      88.03     0.0000     3.7161     3.8854\n",
       "   PublishDate     0.7376     0.0132      55.89     0.0000     0.7118     0.7635\n",
       "  CompleteDate    -0.6166     0.0131     -47.24     0.0000    -0.6422    -0.5910\n",
       "            KL   -49.1199     1.7183     -28.59     0.0000   -52.4877   -45.7520\n",
       "     intercept   146.1221     4.9676      29.41     0.0000   136.3856   155.8587\n",
       "---------------------------------End of Summary---------------------------------"
      ]
     },
     "execution_count": 377,
     "metadata": {},
     "output_type": "execute_result"
    }
   ],
   "source": [
    "res = ols(y = df2['Kudos'], x = df2[['Chapters', 'PublishDate','CompleteDate','KL']])\n",
    "res"
   ]
  },
  {
   "cell_type": "code",
   "execution_count": 377,
   "metadata": {
    "collapsed": false
   },
   "outputs": [
    {
     "data": {
      "text/plain": [
       "\n",
       "-------------------------Summary of Regression Analysis-------------------------\n",
       "\n",
       "Formula: Y ~ <Chapters> + <PublishDate> + <CompleteDate> + <KL> + <intercept>\n",
       "\n",
       "Number of Observations:         132075\n",
       "Number of Degrees of Freedom:   5\n",
       "\n",
       "R-squared:         0.1147\n",
       "Adj R-squared:     0.1147\n",
       "\n",
       "Rmse:            566.4698\n",
       "\n",
       "F-stat (4, 132070):  4277.2689, p-value:     0.0000\n",
       "\n",
       "Degrees of Freedom: model 4, resid 132070\n",
       "\n",
       "-----------------------Summary of Estimated Coefficients------------------------\n",
       "      Variable       Coef    Std Err     t-stat    p-value    CI 2.5%   CI 97.5%\n",
       "--------------------------------------------------------------------------------\n",
       "      Chapters     3.8008     0.0432      88.03     0.0000     3.7161     3.8854\n",
       "   PublishDate     0.7376     0.0132      55.89     0.0000     0.7118     0.7635\n",
       "  CompleteDate    -0.6166     0.0131     -47.24     0.0000    -0.6422    -0.5910\n",
       "            KL   -49.1199     1.7183     -28.59     0.0000   -52.4877   -45.7520\n",
       "     intercept   146.1221     4.9676      29.41     0.0000   136.3856   155.8587\n",
       "---------------------------------End of Summary---------------------------------"
      ]
     },
     "execution_count": 377,
     "metadata": {},
     "output_type": "execute_result"
    }
   ],
   "source": [
    "res = ols(y = df2['Kudos'], x = df2[['Chapters', 'PublishDate','CompleteDate','KL']])\n",
    "res"
   ]
  },
  {
   "cell_type": "code",
   "execution_count": 377,
   "metadata": {
    "collapsed": false
   },
   "outputs": [
    {
     "data": {
      "text/plain": [
       "\n",
       "-------------------------Summary of Regression Analysis-------------------------\n",
       "\n",
       "Formula: Y ~ <Chapters> + <PublishDate> + <CompleteDate> + <KL> + <intercept>\n",
       "\n",
       "Number of Observations:         132075\n",
       "Number of Degrees of Freedom:   5\n",
       "\n",
       "R-squared:         0.1147\n",
       "Adj R-squared:     0.1147\n",
       "\n",
       "Rmse:            566.4698\n",
       "\n",
       "F-stat (4, 132070):  4277.2689, p-value:     0.0000\n",
       "\n",
       "Degrees of Freedom: model 4, resid 132070\n",
       "\n",
       "-----------------------Summary of Estimated Coefficients------------------------\n",
       "      Variable       Coef    Std Err     t-stat    p-value    CI 2.5%   CI 97.5%\n",
       "--------------------------------------------------------------------------------\n",
       "      Chapters     3.8008     0.0432      88.03     0.0000     3.7161     3.8854\n",
       "   PublishDate     0.7376     0.0132      55.89     0.0000     0.7118     0.7635\n",
       "  CompleteDate    -0.6166     0.0131     -47.24     0.0000    -0.6422    -0.5910\n",
       "            KL   -49.1199     1.7183     -28.59     0.0000   -52.4877   -45.7520\n",
       "     intercept   146.1221     4.9676      29.41     0.0000   136.3856   155.8587\n",
       "---------------------------------End of Summary---------------------------------"
      ]
     },
     "execution_count": 377,
     "metadata": {},
     "output_type": "execute_result"
    }
   ],
   "source": [
    "res = ols(y = df2['Kudos'], x = df2[['Chapters', 'PublishDate','CompleteDate','KL']])\n",
    "res"
   ]
  },
  {
   "cell_type": "code",
   "execution_count": 377,
   "metadata": {
    "collapsed": false
   },
   "outputs": [
    {
     "data": {
      "text/plain": [
       "\n",
       "-------------------------Summary of Regression Analysis-------------------------\n",
       "\n",
       "Formula: Y ~ <Chapters> + <PublishDate> + <CompleteDate> + <KL> + <intercept>\n",
       "\n",
       "Number of Observations:         132075\n",
       "Number of Degrees of Freedom:   5\n",
       "\n",
       "R-squared:         0.1147\n",
       "Adj R-squared:     0.1147\n",
       "\n",
       "Rmse:            566.4698\n",
       "\n",
       "F-stat (4, 132070):  4277.2689, p-value:     0.0000\n",
       "\n",
       "Degrees of Freedom: model 4, resid 132070\n",
       "\n",
       "-----------------------Summary of Estimated Coefficients------------------------\n",
       "      Variable       Coef    Std Err     t-stat    p-value    CI 2.5%   CI 97.5%\n",
       "--------------------------------------------------------------------------------\n",
       "      Chapters     3.8008     0.0432      88.03     0.0000     3.7161     3.8854\n",
       "   PublishDate     0.7376     0.0132      55.89     0.0000     0.7118     0.7635\n",
       "  CompleteDate    -0.6166     0.0131     -47.24     0.0000    -0.6422    -0.5910\n",
       "            KL   -49.1199     1.7183     -28.59     0.0000   -52.4877   -45.7520\n",
       "     intercept   146.1221     4.9676      29.41     0.0000   136.3856   155.8587\n",
       "---------------------------------End of Summary---------------------------------"
      ]
     },
     "execution_count": 377,
     "metadata": {},
     "output_type": "execute_result"
    }
   ],
   "source": [
    "res = ols(y = df2['Kudos'], x = df2[['Chapters', 'PublishDate','CompleteDate','KL']])\n",
    "res"
   ]
  },
  {
   "cell_type": "code",
   "execution_count": 377,
   "metadata": {
    "collapsed": false
   },
   "outputs": [
    {
     "data": {
      "text/plain": [
       "\n",
       "-------------------------Summary of Regression Analysis-------------------------\n",
       "\n",
       "Formula: Y ~ <Chapters> + <PublishDate> + <CompleteDate> + <KL> + <intercept>\n",
       "\n",
       "Number of Observations:         132075\n",
       "Number of Degrees of Freedom:   5\n",
       "\n",
       "R-squared:         0.1147\n",
       "Adj R-squared:     0.1147\n",
       "\n",
       "Rmse:            566.4698\n",
       "\n",
       "F-stat (4, 132070):  4277.2689, p-value:     0.0000\n",
       "\n",
       "Degrees of Freedom: model 4, resid 132070\n",
       "\n",
       "-----------------------Summary of Estimated Coefficients------------------------\n",
       "      Variable       Coef    Std Err     t-stat    p-value    CI 2.5%   CI 97.5%\n",
       "--------------------------------------------------------------------------------\n",
       "      Chapters     3.8008     0.0432      88.03     0.0000     3.7161     3.8854\n",
       "   PublishDate     0.7376     0.0132      55.89     0.0000     0.7118     0.7635\n",
       "  CompleteDate    -0.6166     0.0131     -47.24     0.0000    -0.6422    -0.5910\n",
       "            KL   -49.1199     1.7183     -28.59     0.0000   -52.4877   -45.7520\n",
       "     intercept   146.1221     4.9676      29.41     0.0000   136.3856   155.8587\n",
       "---------------------------------End of Summary---------------------------------"
      ]
     },
     "execution_count": 377,
     "metadata": {},
     "output_type": "execute_result"
    }
   ],
   "source": [
    "res = ols(y = df2['Kudos'], x = df2[['Chapters', 'PublishDate','CompleteDate','KL']])\n",
    "res"
   ]
  },
  {
   "cell_type": "code",
   "execution_count": 377,
   "metadata": {
    "collapsed": false
   },
   "outputs": [
    {
     "data": {
      "text/plain": [
       "\n",
       "-------------------------Summary of Regression Analysis-------------------------\n",
       "\n",
       "Formula: Y ~ <Chapters> + <PublishDate> + <CompleteDate> + <KL> + <intercept>\n",
       "\n",
       "Number of Observations:         132075\n",
       "Number of Degrees of Freedom:   5\n",
       "\n",
       "R-squared:         0.1147\n",
       "Adj R-squared:     0.1147\n",
       "\n",
       "Rmse:            566.4698\n",
       "\n",
       "F-stat (4, 132070):  4277.2689, p-value:     0.0000\n",
       "\n",
       "Degrees of Freedom: model 4, resid 132070\n",
       "\n",
       "-----------------------Summary of Estimated Coefficients------------------------\n",
       "      Variable       Coef    Std Err     t-stat    p-value    CI 2.5%   CI 97.5%\n",
       "--------------------------------------------------------------------------------\n",
       "      Chapters     3.8008     0.0432      88.03     0.0000     3.7161     3.8854\n",
       "   PublishDate     0.7376     0.0132      55.89     0.0000     0.7118     0.7635\n",
       "  CompleteDate    -0.6166     0.0131     -47.24     0.0000    -0.6422    -0.5910\n",
       "            KL   -49.1199     1.7183     -28.59     0.0000   -52.4877   -45.7520\n",
       "     intercept   146.1221     4.9676      29.41     0.0000   136.3856   155.8587\n",
       "---------------------------------End of Summary---------------------------------"
      ]
     },
     "execution_count": 377,
     "metadata": {},
     "output_type": "execute_result"
    }
   ],
   "source": [
    "res = ols(y = df2['Kudos'], x = df2[['Chapters', 'PublishDate','CompleteDate','KL']])\n",
    "res"
   ]
  },
  {
   "cell_type": "code",
   "execution_count": 377,
   "metadata": {
    "collapsed": false
   },
   "outputs": [
    {
     "data": {
      "text/plain": [
       "\n",
       "-------------------------Summary of Regression Analysis-------------------------\n",
       "\n",
       "Formula: Y ~ <Chapters> + <PublishDate> + <CompleteDate> + <KL> + <intercept>\n",
       "\n",
       "Number of Observations:         132075\n",
       "Number of Degrees of Freedom:   5\n",
       "\n",
       "R-squared:         0.1147\n",
       "Adj R-squared:     0.1147\n",
       "\n",
       "Rmse:            566.4698\n",
       "\n",
       "F-stat (4, 132070):  4277.2689, p-value:     0.0000\n",
       "\n",
       "Degrees of Freedom: model 4, resid 132070\n",
       "\n",
       "-----------------------Summary of Estimated Coefficients------------------------\n",
       "      Variable       Coef    Std Err     t-stat    p-value    CI 2.5%   CI 97.5%\n",
       "--------------------------------------------------------------------------------\n",
       "      Chapters     3.8008     0.0432      88.03     0.0000     3.7161     3.8854\n",
       "   PublishDate     0.7376     0.0132      55.89     0.0000     0.7118     0.7635\n",
       "  CompleteDate    -0.6166     0.0131     -47.24     0.0000    -0.6422    -0.5910\n",
       "            KL   -49.1199     1.7183     -28.59     0.0000   -52.4877   -45.7520\n",
       "     intercept   146.1221     4.9676      29.41     0.0000   136.3856   155.8587\n",
       "---------------------------------End of Summary---------------------------------"
      ]
     },
     "execution_count": 377,
     "metadata": {},
     "output_type": "execute_result"
    }
   ],
   "source": [
    "res = ols(y = df2['Kudos'], x = df2[['Chapters', 'PublishDate','CompleteDate','KL']])\n",
    "res"
   ]
  },
  {
   "cell_type": "code",
   "execution_count": 377,
   "metadata": {
    "collapsed": false
   },
   "outputs": [
    {
     "data": {
      "text/plain": [
       "\n",
       "-------------------------Summary of Regression Analysis-------------------------\n",
       "\n",
       "Formula: Y ~ <Chapters> + <PublishDate> + <CompleteDate> + <KL> + <intercept>\n",
       "\n",
       "Number of Observations:         132075\n",
       "Number of Degrees of Freedom:   5\n",
       "\n",
       "R-squared:         0.1147\n",
       "Adj R-squared:     0.1147\n",
       "\n",
       "Rmse:            566.4698\n",
       "\n",
       "F-stat (4, 132070):  4277.2689, p-value:     0.0000\n",
       "\n",
       "Degrees of Freedom: model 4, resid 132070\n",
       "\n",
       "-----------------------Summary of Estimated Coefficients------------------------\n",
       "      Variable       Coef    Std Err     t-stat    p-value    CI 2.5%   CI 97.5%\n",
       "--------------------------------------------------------------------------------\n",
       "      Chapters     3.8008     0.0432      88.03     0.0000     3.7161     3.8854\n",
       "   PublishDate     0.7376     0.0132      55.89     0.0000     0.7118     0.7635\n",
       "  CompleteDate    -0.6166     0.0131     -47.24     0.0000    -0.6422    -0.5910\n",
       "            KL   -49.1199     1.7183     -28.59     0.0000   -52.4877   -45.7520\n",
       "     intercept   146.1221     4.9676      29.41     0.0000   136.3856   155.8587\n",
       "---------------------------------End of Summary---------------------------------"
      ]
     },
     "execution_count": 377,
     "metadata": {},
     "output_type": "execute_result"
    }
   ],
   "source": [
    "res = ols(y = df2['Kudos'], x = df2[['Chapters', 'PublishDate','CompleteDate','KL']])\n",
    "res"
   ]
  },
  {
   "cell_type": "code",
   "execution_count": 377,
   "metadata": {
    "collapsed": false
   },
   "outputs": [
    {
     "data": {
      "text/plain": [
       "\n",
       "-------------------------Summary of Regression Analysis-------------------------\n",
       "\n",
       "Formula: Y ~ <Chapters> + <PublishDate> + <CompleteDate> + <KL> + <intercept>\n",
       "\n",
       "Number of Observations:         132075\n",
       "Number of Degrees of Freedom:   5\n",
       "\n",
       "R-squared:         0.1147\n",
       "Adj R-squared:     0.1147\n",
       "\n",
       "Rmse:            566.4698\n",
       "\n",
       "F-stat (4, 132070):  4277.2689, p-value:     0.0000\n",
       "\n",
       "Degrees of Freedom: model 4, resid 132070\n",
       "\n",
       "-----------------------Summary of Estimated Coefficients------------------------\n",
       "      Variable       Coef    Std Err     t-stat    p-value    CI 2.5%   CI 97.5%\n",
       "--------------------------------------------------------------------------------\n",
       "      Chapters     3.8008     0.0432      88.03     0.0000     3.7161     3.8854\n",
       "   PublishDate     0.7376     0.0132      55.89     0.0000     0.7118     0.7635\n",
       "  CompleteDate    -0.6166     0.0131     -47.24     0.0000    -0.6422    -0.5910\n",
       "            KL   -49.1199     1.7183     -28.59     0.0000   -52.4877   -45.7520\n",
       "     intercept   146.1221     4.9676      29.41     0.0000   136.3856   155.8587\n",
       "---------------------------------End of Summary---------------------------------"
      ]
     },
     "execution_count": 377,
     "metadata": {},
     "output_type": "execute_result"
    }
   ],
   "source": [
    "res = ols(y = df2['Kudos'], x = df2[['Chapters', 'PublishDate','CompleteDate','KL']])\n",
    "res"
   ]
  },
  {
   "cell_type": "code",
   "execution_count": 377,
   "metadata": {
    "collapsed": false
   },
   "outputs": [
    {
     "data": {
      "text/plain": [
       "\n",
       "-------------------------Summary of Regression Analysis-------------------------\n",
       "\n",
       "Formula: Y ~ <Chapters> + <PublishDate> + <CompleteDate> + <KL> + <intercept>\n",
       "\n",
       "Number of Observations:         132075\n",
       "Number of Degrees of Freedom:   5\n",
       "\n",
       "R-squared:         0.1147\n",
       "Adj R-squared:     0.1147\n",
       "\n",
       "Rmse:            566.4698\n",
       "\n",
       "F-stat (4, 132070):  4277.2689, p-value:     0.0000\n",
       "\n",
       "Degrees of Freedom: model 4, resid 132070\n",
       "\n",
       "-----------------------Summary of Estimated Coefficients------------------------\n",
       "      Variable       Coef    Std Err     t-stat    p-value    CI 2.5%   CI 97.5%\n",
       "--------------------------------------------------------------------------------\n",
       "      Chapters     3.8008     0.0432      88.03     0.0000     3.7161     3.8854\n",
       "   PublishDate     0.7376     0.0132      55.89     0.0000     0.7118     0.7635\n",
       "  CompleteDate    -0.6166     0.0131     -47.24     0.0000    -0.6422    -0.5910\n",
       "            KL   -49.1199     1.7183     -28.59     0.0000   -52.4877   -45.7520\n",
       "     intercept   146.1221     4.9676      29.41     0.0000   136.3856   155.8587\n",
       "---------------------------------End of Summary---------------------------------"
      ]
     },
     "execution_count": 377,
     "metadata": {},
     "output_type": "execute_result"
    }
   ],
   "source": [
    "res = ols(y = df2['Kudos'], x = df2[['Chapters', 'PublishDate','CompleteDate','KL']])\n",
    "res"
   ]
  },
  {
   "cell_type": "code",
   "execution_count": 377,
   "metadata": {
    "collapsed": false
   },
   "outputs": [
    {
     "data": {
      "text/plain": [
       "\n",
       "-------------------------Summary of Regression Analysis-------------------------\n",
       "\n",
       "Formula: Y ~ <Chapters> + <PublishDate> + <CompleteDate> + <KL> + <intercept>\n",
       "\n",
       "Number of Observations:         132075\n",
       "Number of Degrees of Freedom:   5\n",
       "\n",
       "R-squared:         0.1147\n",
       "Adj R-squared:     0.1147\n",
       "\n",
       "Rmse:            566.4698\n",
       "\n",
       "F-stat (4, 132070):  4277.2689, p-value:     0.0000\n",
       "\n",
       "Degrees of Freedom: model 4, resid 132070\n",
       "\n",
       "-----------------------Summary of Estimated Coefficients------------------------\n",
       "      Variable       Coef    Std Err     t-stat    p-value    CI 2.5%   CI 97.5%\n",
       "--------------------------------------------------------------------------------\n",
       "      Chapters     3.8008     0.0432      88.03     0.0000     3.7161     3.8854\n",
       "   PublishDate     0.7376     0.0132      55.89     0.0000     0.7118     0.7635\n",
       "  CompleteDate    -0.6166     0.0131     -47.24     0.0000    -0.6422    -0.5910\n",
       "            KL   -49.1199     1.7183     -28.59     0.0000   -52.4877   -45.7520\n",
       "     intercept   146.1221     4.9676      29.41     0.0000   136.3856   155.8587\n",
       "---------------------------------End of Summary---------------------------------"
      ]
     },
     "execution_count": 377,
     "metadata": {},
     "output_type": "execute_result"
    }
   ],
   "source": [
    "res = ols(y = df2['Kudos'], x = df2[['Chapters', 'PublishDate','CompleteDate','KL']])\n",
    "res"
   ]
  },
  {
   "cell_type": "code",
   "execution_count": 377,
   "metadata": {
    "collapsed": false
   },
   "outputs": [
    {
     "data": {
      "text/plain": [
       "\n",
       "-------------------------Summary of Regression Analysis-------------------------\n",
       "\n",
       "Formula: Y ~ <Chapters> + <PublishDate> + <CompleteDate> + <KL> + <intercept>\n",
       "\n",
       "Number of Observations:         132075\n",
       "Number of Degrees of Freedom:   5\n",
       "\n",
       "R-squared:         0.1147\n",
       "Adj R-squared:     0.1147\n",
       "\n",
       "Rmse:            566.4698\n",
       "\n",
       "F-stat (4, 132070):  4277.2689, p-value:     0.0000\n",
       "\n",
       "Degrees of Freedom: model 4, resid 132070\n",
       "\n",
       "-----------------------Summary of Estimated Coefficients------------------------\n",
       "      Variable       Coef    Std Err     t-stat    p-value    CI 2.5%   CI 97.5%\n",
       "--------------------------------------------------------------------------------\n",
       "      Chapters     3.8008     0.0432      88.03     0.0000     3.7161     3.8854\n",
       "   PublishDate     0.7376     0.0132      55.89     0.0000     0.7118     0.7635\n",
       "  CompleteDate    -0.6166     0.0131     -47.24     0.0000    -0.6422    -0.5910\n",
       "            KL   -49.1199     1.7183     -28.59     0.0000   -52.4877   -45.7520\n",
       "     intercept   146.1221     4.9676      29.41     0.0000   136.3856   155.8587\n",
       "---------------------------------End of Summary---------------------------------"
      ]
     },
     "execution_count": 377,
     "metadata": {},
     "output_type": "execute_result"
    }
   ],
   "source": [
    "res = ols(y = df2['Kudos'], x = df2[['Chapters', 'PublishDate','CompleteDate','KL']])\n",
    "res"
   ]
  },
  {
   "cell_type": "code",
   "execution_count": 377,
   "metadata": {
    "collapsed": false
   },
   "outputs": [
    {
     "data": {
      "text/plain": [
       "\n",
       "-------------------------Summary of Regression Analysis-------------------------\n",
       "\n",
       "Formula: Y ~ <Chapters> + <PublishDate> + <CompleteDate> + <KL> + <intercept>\n",
       "\n",
       "Number of Observations:         132075\n",
       "Number of Degrees of Freedom:   5\n",
       "\n",
       "R-squared:         0.1147\n",
       "Adj R-squared:     0.1147\n",
       "\n",
       "Rmse:            566.4698\n",
       "\n",
       "F-stat (4, 132070):  4277.2689, p-value:     0.0000\n",
       "\n",
       "Degrees of Freedom: model 4, resid 132070\n",
       "\n",
       "-----------------------Summary of Estimated Coefficients------------------------\n",
       "      Variable       Coef    Std Err     t-stat    p-value    CI 2.5%   CI 97.5%\n",
       "--------------------------------------------------------------------------------\n",
       "      Chapters     3.8008     0.0432      88.03     0.0000     3.7161     3.8854\n",
       "   PublishDate     0.7376     0.0132      55.89     0.0000     0.7118     0.7635\n",
       "  CompleteDate    -0.6166     0.0131     -47.24     0.0000    -0.6422    -0.5910\n",
       "            KL   -49.1199     1.7183     -28.59     0.0000   -52.4877   -45.7520\n",
       "     intercept   146.1221     4.9676      29.41     0.0000   136.3856   155.8587\n",
       "---------------------------------End of Summary---------------------------------"
      ]
     },
     "execution_count": 377,
     "metadata": {},
     "output_type": "execute_result"
    }
   ],
   "source": [
    "res = ols(y = df2['Kudos'], x = df2[['Chapters', 'PublishDate','CompleteDate','KL']])\n",
    "res"
   ]
  },
  {
   "cell_type": "code",
   "execution_count": 377,
   "metadata": {
    "collapsed": false
   },
   "outputs": [
    {
     "data": {
      "text/plain": [
       "\n",
       "-------------------------Summary of Regression Analysis-------------------------\n",
       "\n",
       "Formula: Y ~ <Chapters> + <PublishDate> + <CompleteDate> + <KL> + <intercept>\n",
       "\n",
       "Number of Observations:         132075\n",
       "Number of Degrees of Freedom:   5\n",
       "\n",
       "R-squared:         0.1147\n",
       "Adj R-squared:     0.1147\n",
       "\n",
       "Rmse:            566.4698\n",
       "\n",
       "F-stat (4, 132070):  4277.2689, p-value:     0.0000\n",
       "\n",
       "Degrees of Freedom: model 4, resid 132070\n",
       "\n",
       "-----------------------Summary of Estimated Coefficients------------------------\n",
       "      Variable       Coef    Std Err     t-stat    p-value    CI 2.5%   CI 97.5%\n",
       "--------------------------------------------------------------------------------\n",
       "      Chapters     3.8008     0.0432      88.03     0.0000     3.7161     3.8854\n",
       "   PublishDate     0.7376     0.0132      55.89     0.0000     0.7118     0.7635\n",
       "  CompleteDate    -0.6166     0.0131     -47.24     0.0000    -0.6422    -0.5910\n",
       "            KL   -49.1199     1.7183     -28.59     0.0000   -52.4877   -45.7520\n",
       "     intercept   146.1221     4.9676      29.41     0.0000   136.3856   155.8587\n",
       "---------------------------------End of Summary---------------------------------"
      ]
     },
     "execution_count": 377,
     "metadata": {},
     "output_type": "execute_result"
    }
   ],
   "source": [
    "res = ols(y = df2['Kudos'], x = df2[['Chapters', 'PublishDate','CompleteDate','KL']])\n",
    "res"
   ]
  },
  {
   "cell_type": "code",
   "execution_count": 377,
   "metadata": {
    "collapsed": false
   },
   "outputs": [
    {
     "data": {
      "text/plain": [
       "\n",
       "-------------------------Summary of Regression Analysis-------------------------\n",
       "\n",
       "Formula: Y ~ <Chapters> + <PublishDate> + <CompleteDate> + <KL> + <intercept>\n",
       "\n",
       "Number of Observations:         132075\n",
       "Number of Degrees of Freedom:   5\n",
       "\n",
       "R-squared:         0.1147\n",
       "Adj R-squared:     0.1147\n",
       "\n",
       "Rmse:            566.4698\n",
       "\n",
       "F-stat (4, 132070):  4277.2689, p-value:     0.0000\n",
       "\n",
       "Degrees of Freedom: model 4, resid 132070\n",
       "\n",
       "-----------------------Summary of Estimated Coefficients------------------------\n",
       "      Variable       Coef    Std Err     t-stat    p-value    CI 2.5%   CI 97.5%\n",
       "--------------------------------------------------------------------------------\n",
       "      Chapters     3.8008     0.0432      88.03     0.0000     3.7161     3.8854\n",
       "   PublishDate     0.7376     0.0132      55.89     0.0000     0.7118     0.7635\n",
       "  CompleteDate    -0.6166     0.0131     -47.24     0.0000    -0.6422    -0.5910\n",
       "            KL   -49.1199     1.7183     -28.59     0.0000   -52.4877   -45.7520\n",
       "     intercept   146.1221     4.9676      29.41     0.0000   136.3856   155.8587\n",
       "---------------------------------End of Summary---------------------------------"
      ]
     },
     "execution_count": 377,
     "metadata": {},
     "output_type": "execute_result"
    }
   ],
   "source": [
    "res = ols(y = df2['Kudos'], x = df2[['Chapters', 'PublishDate','CompleteDate','KL']])\n",
    "res"
   ]
  },
  {
   "cell_type": "code",
   "execution_count": 377,
   "metadata": {
    "collapsed": false
   },
   "outputs": [
    {
     "data": {
      "text/plain": [
       "\n",
       "-------------------------Summary of Regression Analysis-------------------------\n",
       "\n",
       "Formula: Y ~ <Chapters> + <PublishDate> + <CompleteDate> + <KL> + <intercept>\n",
       "\n",
       "Number of Observations:         132075\n",
       "Number of Degrees of Freedom:   5\n",
       "\n",
       "R-squared:         0.1147\n",
       "Adj R-squared:     0.1147\n",
       "\n",
       "Rmse:            566.4698\n",
       "\n",
       "F-stat (4, 132070):  4277.2689, p-value:     0.0000\n",
       "\n",
       "Degrees of Freedom: model 4, resid 132070\n",
       "\n",
       "-----------------------Summary of Estimated Coefficients------------------------\n",
       "      Variable       Coef    Std Err     t-stat    p-value    CI 2.5%   CI 97.5%\n",
       "--------------------------------------------------------------------------------\n",
       "      Chapters     3.8008     0.0432      88.03     0.0000     3.7161     3.8854\n",
       "   PublishDate     0.7376     0.0132      55.89     0.0000     0.7118     0.7635\n",
       "  CompleteDate    -0.6166     0.0131     -47.24     0.0000    -0.6422    -0.5910\n",
       "            KL   -49.1199     1.7183     -28.59     0.0000   -52.4877   -45.7520\n",
       "     intercept   146.1221     4.9676      29.41     0.0000   136.3856   155.8587\n",
       "---------------------------------End of Summary---------------------------------"
      ]
     },
     "execution_count": 377,
     "metadata": {},
     "output_type": "execute_result"
    }
   ],
   "source": [
    "res = ols(y = df2['Kudos'], x = df2[['Chapters', 'PublishDate','CompleteDate','KL']])\n",
    "res"
   ]
  },
  {
   "cell_type": "code",
   "execution_count": 377,
   "metadata": {
    "collapsed": false
   },
   "outputs": [
    {
     "data": {
      "text/plain": [
       "\n",
       "-------------------------Summary of Regression Analysis-------------------------\n",
       "\n",
       "Formula: Y ~ <Chapters> + <PublishDate> + <CompleteDate> + <KL> + <intercept>\n",
       "\n",
       "Number of Observations:         132075\n",
       "Number of Degrees of Freedom:   5\n",
       "\n",
       "R-squared:         0.1147\n",
       "Adj R-squared:     0.1147\n",
       "\n",
       "Rmse:            566.4698\n",
       "\n",
       "F-stat (4, 132070):  4277.2689, p-value:     0.0000\n",
       "\n",
       "Degrees of Freedom: model 4, resid 132070\n",
       "\n",
       "-----------------------Summary of Estimated Coefficients------------------------\n",
       "      Variable       Coef    Std Err     t-stat    p-value    CI 2.5%   CI 97.5%\n",
       "--------------------------------------------------------------------------------\n",
       "      Chapters     3.8008     0.0432      88.03     0.0000     3.7161     3.8854\n",
       "   PublishDate     0.7376     0.0132      55.89     0.0000     0.7118     0.7635\n",
       "  CompleteDate    -0.6166     0.0131     -47.24     0.0000    -0.6422    -0.5910\n",
       "            KL   -49.1199     1.7183     -28.59     0.0000   -52.4877   -45.7520\n",
       "     intercept   146.1221     4.9676      29.41     0.0000   136.3856   155.8587\n",
       "---------------------------------End of Summary---------------------------------"
      ]
     },
     "execution_count": 377,
     "metadata": {},
     "output_type": "execute_result"
    }
   ],
   "source": [
    "res = ols(y = df2['Kudos'], x = df2[['Chapters', 'PublishDate','CompleteDate','KL']])\n",
    "res"
   ]
  },
  {
   "cell_type": "code",
   "execution_count": 377,
   "metadata": {
    "collapsed": false
   },
   "outputs": [
    {
     "data": {
      "text/plain": [
       "\n",
       "-------------------------Summary of Regression Analysis-------------------------\n",
       "\n",
       "Formula: Y ~ <Chapters> + <PublishDate> + <CompleteDate> + <KL> + <intercept>\n",
       "\n",
       "Number of Observations:         132075\n",
       "Number of Degrees of Freedom:   5\n",
       "\n",
       "R-squared:         0.1147\n",
       "Adj R-squared:     0.1147\n",
       "\n",
       "Rmse:            566.4698\n",
       "\n",
       "F-stat (4, 132070):  4277.2689, p-value:     0.0000\n",
       "\n",
       "Degrees of Freedom: model 4, resid 132070\n",
       "\n",
       "-----------------------Summary of Estimated Coefficients------------------------\n",
       "      Variable       Coef    Std Err     t-stat    p-value    CI 2.5%   CI 97.5%\n",
       "--------------------------------------------------------------------------------\n",
       "      Chapters     3.8008     0.0432      88.03     0.0000     3.7161     3.8854\n",
       "   PublishDate     0.7376     0.0132      55.89     0.0000     0.7118     0.7635\n",
       "  CompleteDate    -0.6166     0.0131     -47.24     0.0000    -0.6422    -0.5910\n",
       "            KL   -49.1199     1.7183     -28.59     0.0000   -52.4877   -45.7520\n",
       "     intercept   146.1221     4.9676      29.41     0.0000   136.3856   155.8587\n",
       "---------------------------------End of Summary---------------------------------"
      ]
     },
     "execution_count": 377,
     "metadata": {},
     "output_type": "execute_result"
    }
   ],
   "source": [
    "res = ols(y = df2['Kudos'], x = df2[['Chapters', 'PublishDate','CompleteDate','KL']])\n",
    "res"
   ]
  },
  {
   "cell_type": "code",
   "execution_count": 377,
   "metadata": {
    "collapsed": false
   },
   "outputs": [
    {
     "data": {
      "text/plain": [
       "\n",
       "-------------------------Summary of Regression Analysis-------------------------\n",
       "\n",
       "Formula: Y ~ <Chapters> + <PublishDate> + <CompleteDate> + <KL> + <intercept>\n",
       "\n",
       "Number of Observations:         132075\n",
       "Number of Degrees of Freedom:   5\n",
       "\n",
       "R-squared:         0.1147\n",
       "Adj R-squared:     0.1147\n",
       "\n",
       "Rmse:            566.4698\n",
       "\n",
       "F-stat (4, 132070):  4277.2689, p-value:     0.0000\n",
       "\n",
       "Degrees of Freedom: model 4, resid 132070\n",
       "\n",
       "-----------------------Summary of Estimated Coefficients------------------------\n",
       "      Variable       Coef    Std Err     t-stat    p-value    CI 2.5%   CI 97.5%\n",
       "--------------------------------------------------------------------------------\n",
       "      Chapters     3.8008     0.0432      88.03     0.0000     3.7161     3.8854\n",
       "   PublishDate     0.7376     0.0132      55.89     0.0000     0.7118     0.7635\n",
       "  CompleteDate    -0.6166     0.0131     -47.24     0.0000    -0.6422    -0.5910\n",
       "            KL   -49.1199     1.7183     -28.59     0.0000   -52.4877   -45.7520\n",
       "     intercept   146.1221     4.9676      29.41     0.0000   136.3856   155.8587\n",
       "---------------------------------End of Summary---------------------------------"
      ]
     },
     "execution_count": 377,
     "metadata": {},
     "output_type": "execute_result"
    }
   ],
   "source": [
    "res = ols(y = df2['Kudos'], x = df2[['Chapters', 'PublishDate','CompleteDate','KL']])\n",
    "res"
   ]
  },
  {
   "cell_type": "code",
   "execution_count": 377,
   "metadata": {
    "collapsed": false
   },
   "outputs": [
    {
     "data": {
      "text/plain": [
       "\n",
       "-------------------------Summary of Regression Analysis-------------------------\n",
       "\n",
       "Formula: Y ~ <Chapters> + <PublishDate> + <CompleteDate> + <KL> + <intercept>\n",
       "\n",
       "Number of Observations:         132075\n",
       "Number of Degrees of Freedom:   5\n",
       "\n",
       "R-squared:         0.1147\n",
       "Adj R-squared:     0.1147\n",
       "\n",
       "Rmse:            566.4698\n",
       "\n",
       "F-stat (4, 132070):  4277.2689, p-value:     0.0000\n",
       "\n",
       "Degrees of Freedom: model 4, resid 132070\n",
       "\n",
       "-----------------------Summary of Estimated Coefficients------------------------\n",
       "      Variable       Coef    Std Err     t-stat    p-value    CI 2.5%   CI 97.5%\n",
       "--------------------------------------------------------------------------------\n",
       "      Chapters     3.8008     0.0432      88.03     0.0000     3.7161     3.8854\n",
       "   PublishDate     0.7376     0.0132      55.89     0.0000     0.7118     0.7635\n",
       "  CompleteDate    -0.6166     0.0131     -47.24     0.0000    -0.6422    -0.5910\n",
       "            KL   -49.1199     1.7183     -28.59     0.0000   -52.4877   -45.7520\n",
       "     intercept   146.1221     4.9676      29.41     0.0000   136.3856   155.8587\n",
       "---------------------------------End of Summary---------------------------------"
      ]
     },
     "execution_count": 377,
     "metadata": {},
     "output_type": "execute_result"
    }
   ],
   "source": [
    "res = ols(y = df2['Kudos'], x = df2[['Chapters', 'PublishDate','CompleteDate','KL']])\n",
    "res"
   ]
  },
  {
   "cell_type": "code",
   "execution_count": 377,
   "metadata": {
    "collapsed": false
   },
   "outputs": [
    {
     "data": {
      "text/plain": [
       "\n",
       "-------------------------Summary of Regression Analysis-------------------------\n",
       "\n",
       "Formula: Y ~ <Chapters> + <PublishDate> + <CompleteDate> + <KL> + <intercept>\n",
       "\n",
       "Number of Observations:         132075\n",
       "Number of Degrees of Freedom:   5\n",
       "\n",
       "R-squared:         0.1147\n",
       "Adj R-squared:     0.1147\n",
       "\n",
       "Rmse:            566.4698\n",
       "\n",
       "F-stat (4, 132070):  4277.2689, p-value:     0.0000\n",
       "\n",
       "Degrees of Freedom: model 4, resid 132070\n",
       "\n",
       "-----------------------Summary of Estimated Coefficients------------------------\n",
       "      Variable       Coef    Std Err     t-stat    p-value    CI 2.5%   CI 97.5%\n",
       "--------------------------------------------------------------------------------\n",
       "      Chapters     3.8008     0.0432      88.03     0.0000     3.7161     3.8854\n",
       "   PublishDate     0.7376     0.0132      55.89     0.0000     0.7118     0.7635\n",
       "  CompleteDate    -0.6166     0.0131     -47.24     0.0000    -0.6422    -0.5910\n",
       "            KL   -49.1199     1.7183     -28.59     0.0000   -52.4877   -45.7520\n",
       "     intercept   146.1221     4.9676      29.41     0.0000   136.3856   155.8587\n",
       "---------------------------------End of Summary---------------------------------"
      ]
     },
     "execution_count": 377,
     "metadata": {},
     "output_type": "execute_result"
    }
   ],
   "source": [
    "res = ols(y = df2['Kudos'], x = df2[['Chapters', 'PublishDate','CompleteDate','KL']])\n",
    "res"
   ]
  },
  {
   "cell_type": "code",
   "execution_count": 377,
   "metadata": {
    "collapsed": false
   },
   "outputs": [
    {
     "data": {
      "text/plain": [
       "\n",
       "-------------------------Summary of Regression Analysis-------------------------\n",
       "\n",
       "Formula: Y ~ <Chapters> + <PublishDate> + <CompleteDate> + <KL> + <intercept>\n",
       "\n",
       "Number of Observations:         132075\n",
       "Number of Degrees of Freedom:   5\n",
       "\n",
       "R-squared:         0.1147\n",
       "Adj R-squared:     0.1147\n",
       "\n",
       "Rmse:            566.4698\n",
       "\n",
       "F-stat (4, 132070):  4277.2689, p-value:     0.0000\n",
       "\n",
       "Degrees of Freedom: model 4, resid 132070\n",
       "\n",
       "-----------------------Summary of Estimated Coefficients------------------------\n",
       "      Variable       Coef    Std Err     t-stat    p-value    CI 2.5%   CI 97.5%\n",
       "--------------------------------------------------------------------------------\n",
       "      Chapters     3.8008     0.0432      88.03     0.0000     3.7161     3.8854\n",
       "   PublishDate     0.7376     0.0132      55.89     0.0000     0.7118     0.7635\n",
       "  CompleteDate    -0.6166     0.0131     -47.24     0.0000    -0.6422    -0.5910\n",
       "            KL   -49.1199     1.7183     -28.59     0.0000   -52.4877   -45.7520\n",
       "     intercept   146.1221     4.9676      29.41     0.0000   136.3856   155.8587\n",
       "---------------------------------End of Summary---------------------------------"
      ]
     },
     "execution_count": 377,
     "metadata": {},
     "output_type": "execute_result"
    }
   ],
   "source": [
    "res = ols(y = df2['Kudos'], x = df2[['Chapters', 'PublishDate','CompleteDate','KL']])\n",
    "res"
   ]
  },
  {
   "cell_type": "code",
   "execution_count": 377,
   "metadata": {
    "collapsed": false
   },
   "outputs": [
    {
     "data": {
      "text/plain": [
       "\n",
       "-------------------------Summary of Regression Analysis-------------------------\n",
       "\n",
       "Formula: Y ~ <Chapters> + <PublishDate> + <CompleteDate> + <KL> + <intercept>\n",
       "\n",
       "Number of Observations:         132075\n",
       "Number of Degrees of Freedom:   5\n",
       "\n",
       "R-squared:         0.1147\n",
       "Adj R-squared:     0.1147\n",
       "\n",
       "Rmse:            566.4698\n",
       "\n",
       "F-stat (4, 132070):  4277.2689, p-value:     0.0000\n",
       "\n",
       "Degrees of Freedom: model 4, resid 132070\n",
       "\n",
       "-----------------------Summary of Estimated Coefficients------------------------\n",
       "      Variable       Coef    Std Err     t-stat    p-value    CI 2.5%   CI 97.5%\n",
       "--------------------------------------------------------------------------------\n",
       "      Chapters     3.8008     0.0432      88.03     0.0000     3.7161     3.8854\n",
       "   PublishDate     0.7376     0.0132      55.89     0.0000     0.7118     0.7635\n",
       "  CompleteDate    -0.6166     0.0131     -47.24     0.0000    -0.6422    -0.5910\n",
       "            KL   -49.1199     1.7183     -28.59     0.0000   -52.4877   -45.7520\n",
       "     intercept   146.1221     4.9676      29.41     0.0000   136.3856   155.8587\n",
       "---------------------------------End of Summary---------------------------------"
      ]
     },
     "execution_count": 377,
     "metadata": {},
     "output_type": "execute_result"
    }
   ],
   "source": [
    "res = ols(y = df2['Kudos'], x = df2[['Chapters', 'PublishDate','CompleteDate','KL']])\n",
    "res"
   ]
  },
  {
   "cell_type": "code",
   "execution_count": 377,
   "metadata": {
    "collapsed": false
   },
   "outputs": [
    {
     "data": {
      "text/plain": [
       "\n",
       "-------------------------Summary of Regression Analysis-------------------------\n",
       "\n",
       "Formula: Y ~ <Chapters> + <PublishDate> + <CompleteDate> + <KL> + <intercept>\n",
       "\n",
       "Number of Observations:         132075\n",
       "Number of Degrees of Freedom:   5\n",
       "\n",
       "R-squared:         0.1147\n",
       "Adj R-squared:     0.1147\n",
       "\n",
       "Rmse:            566.4698\n",
       "\n",
       "F-stat (4, 132070):  4277.2689, p-value:     0.0000\n",
       "\n",
       "Degrees of Freedom: model 4, resid 132070\n",
       "\n",
       "-----------------------Summary of Estimated Coefficients------------------------\n",
       "      Variable       Coef    Std Err     t-stat    p-value    CI 2.5%   CI 97.5%\n",
       "--------------------------------------------------------------------------------\n",
       "      Chapters     3.8008     0.0432      88.03     0.0000     3.7161     3.8854\n",
       "   PublishDate     0.7376     0.0132      55.89     0.0000     0.7118     0.7635\n",
       "  CompleteDate    -0.6166     0.0131     -47.24     0.0000    -0.6422    -0.5910\n",
       "            KL   -49.1199     1.7183     -28.59     0.0000   -52.4877   -45.7520\n",
       "     intercept   146.1221     4.9676      29.41     0.0000   136.3856   155.8587\n",
       "---------------------------------End of Summary---------------------------------"
      ]
     },
     "execution_count": 377,
     "metadata": {},
     "output_type": "execute_result"
    }
   ],
   "source": [
    "res = ols(y = df2['Kudos'], x = df2[['Chapters', 'PublishDate','CompleteDate','KL']])\n",
    "res"
   ]
  },
  {
   "cell_type": "code",
   "execution_count": 377,
   "metadata": {
    "collapsed": false
   },
   "outputs": [
    {
     "data": {
      "text/plain": [
       "\n",
       "-------------------------Summary of Regression Analysis-------------------------\n",
       "\n",
       "Formula: Y ~ <Chapters> + <PublishDate> + <CompleteDate> + <KL> + <intercept>\n",
       "\n",
       "Number of Observations:         132075\n",
       "Number of Degrees of Freedom:   5\n",
       "\n",
       "R-squared:         0.1147\n",
       "Adj R-squared:     0.1147\n",
       "\n",
       "Rmse:            566.4698\n",
       "\n",
       "F-stat (4, 132070):  4277.2689, p-value:     0.0000\n",
       "\n",
       "Degrees of Freedom: model 4, resid 132070\n",
       "\n",
       "-----------------------Summary of Estimated Coefficients------------------------\n",
       "      Variable       Coef    Std Err     t-stat    p-value    CI 2.5%   CI 97.5%\n",
       "--------------------------------------------------------------------------------\n",
       "      Chapters     3.8008     0.0432      88.03     0.0000     3.7161     3.8854\n",
       "   PublishDate     0.7376     0.0132      55.89     0.0000     0.7118     0.7635\n",
       "  CompleteDate    -0.6166     0.0131     -47.24     0.0000    -0.6422    -0.5910\n",
       "            KL   -49.1199     1.7183     -28.59     0.0000   -52.4877   -45.7520\n",
       "     intercept   146.1221     4.9676      29.41     0.0000   136.3856   155.8587\n",
       "---------------------------------End of Summary---------------------------------"
      ]
     },
     "execution_count": 377,
     "metadata": {},
     "output_type": "execute_result"
    }
   ],
   "source": [
    "res = ols(y = df2['Kudos'], x = df2[['Chapters', 'PublishDate','CompleteDate','KL']])\n",
    "res"
   ]
  },
  {
   "cell_type": "code",
   "execution_count": 377,
   "metadata": {
    "collapsed": false
   },
   "outputs": [
    {
     "data": {
      "text/plain": [
       "\n",
       "-------------------------Summary of Regression Analysis-------------------------\n",
       "\n",
       "Formula: Y ~ <Chapters> + <PublishDate> + <CompleteDate> + <KL> + <intercept>\n",
       "\n",
       "Number of Observations:         132075\n",
       "Number of Degrees of Freedom:   5\n",
       "\n",
       "R-squared:         0.1147\n",
       "Adj R-squared:     0.1147\n",
       "\n",
       "Rmse:            566.4698\n",
       "\n",
       "F-stat (4, 132070):  4277.2689, p-value:     0.0000\n",
       "\n",
       "Degrees of Freedom: model 4, resid 132070\n",
       "\n",
       "-----------------------Summary of Estimated Coefficients------------------------\n",
       "      Variable       Coef    Std Err     t-stat    p-value    CI 2.5%   CI 97.5%\n",
       "--------------------------------------------------------------------------------\n",
       "      Chapters     3.8008     0.0432      88.03     0.0000     3.7161     3.8854\n",
       "   PublishDate     0.7376     0.0132      55.89     0.0000     0.7118     0.7635\n",
       "  CompleteDate    -0.6166     0.0131     -47.24     0.0000    -0.6422    -0.5910\n",
       "            KL   -49.1199     1.7183     -28.59     0.0000   -52.4877   -45.7520\n",
       "     intercept   146.1221     4.9676      29.41     0.0000   136.3856   155.8587\n",
       "---------------------------------End of Summary---------------------------------"
      ]
     },
     "execution_count": 377,
     "metadata": {},
     "output_type": "execute_result"
    }
   ],
   "source": [
    "res = ols(y = df2['Kudos'], x = df2[['Chapters', 'PublishDate','CompleteDate','KL']])\n",
    "res"
   ]
  },
  {
   "cell_type": "code",
   "execution_count": 377,
   "metadata": {
    "collapsed": false
   },
   "outputs": [
    {
     "data": {
      "text/plain": [
       "\n",
       "-------------------------Summary of Regression Analysis-------------------------\n",
       "\n",
       "Formula: Y ~ <Chapters> + <PublishDate> + <CompleteDate> + <KL> + <intercept>\n",
       "\n",
       "Number of Observations:         132075\n",
       "Number of Degrees of Freedom:   5\n",
       "\n",
       "R-squared:         0.1147\n",
       "Adj R-squared:     0.1147\n",
       "\n",
       "Rmse:            566.4698\n",
       "\n",
       "F-stat (4, 132070):  4277.2689, p-value:     0.0000\n",
       "\n",
       "Degrees of Freedom: model 4, resid 132070\n",
       "\n",
       "-----------------------Summary of Estimated Coefficients------------------------\n",
       "      Variable       Coef    Std Err     t-stat    p-value    CI 2.5%   CI 97.5%\n",
       "--------------------------------------------------------------------------------\n",
       "      Chapters     3.8008     0.0432      88.03     0.0000     3.7161     3.8854\n",
       "   PublishDate     0.7376     0.0132      55.89     0.0000     0.7118     0.7635\n",
       "  CompleteDate    -0.6166     0.0131     -47.24     0.0000    -0.6422    -0.5910\n",
       "            KL   -49.1199     1.7183     -28.59     0.0000   -52.4877   -45.7520\n",
       "     intercept   146.1221     4.9676      29.41     0.0000   136.3856   155.8587\n",
       "---------------------------------End of Summary---------------------------------"
      ]
     },
     "execution_count": 377,
     "metadata": {},
     "output_type": "execute_result"
    }
   ],
   "source": [
    "res = ols(y = df2['Kudos'], x = df2[['Chapters', 'PublishDate','CompleteDate','KL']])\n",
    "res"
   ]
  },
  {
   "cell_type": "code",
   "execution_count": 377,
   "metadata": {
    "collapsed": false
   },
   "outputs": [
    {
     "data": {
      "text/plain": [
       "\n",
       "-------------------------Summary of Regression Analysis-------------------------\n",
       "\n",
       "Formula: Y ~ <Chapters> + <PublishDate> + <CompleteDate> + <KL> + <intercept>\n",
       "\n",
       "Number of Observations:         132075\n",
       "Number of Degrees of Freedom:   5\n",
       "\n",
       "R-squared:         0.1147\n",
       "Adj R-squared:     0.1147\n",
       "\n",
       "Rmse:            566.4698\n",
       "\n",
       "F-stat (4, 132070):  4277.2689, p-value:     0.0000\n",
       "\n",
       "Degrees of Freedom: model 4, resid 132070\n",
       "\n",
       "-----------------------Summary of Estimated Coefficients------------------------\n",
       "      Variable       Coef    Std Err     t-stat    p-value    CI 2.5%   CI 97.5%\n",
       "--------------------------------------------------------------------------------\n",
       "      Chapters     3.8008     0.0432      88.03     0.0000     3.7161     3.8854\n",
       "   PublishDate     0.7376     0.0132      55.89     0.0000     0.7118     0.7635\n",
       "  CompleteDate    -0.6166     0.0131     -47.24     0.0000    -0.6422    -0.5910\n",
       "            KL   -49.1199     1.7183     -28.59     0.0000   -52.4877   -45.7520\n",
       "     intercept   146.1221     4.9676      29.41     0.0000   136.3856   155.8587\n",
       "---------------------------------End of Summary---------------------------------"
      ]
     },
     "execution_count": 377,
     "metadata": {},
     "output_type": "execute_result"
    }
   ],
   "source": [
    "res = ols(y = df2['Kudos'], x = df2[['Chapters', 'PublishDate','CompleteDate','KL']])\n",
    "res"
   ]
  },
  {
   "cell_type": "code",
   "execution_count": 377,
   "metadata": {
    "collapsed": false
   },
   "outputs": [
    {
     "data": {
      "text/plain": [
       "\n",
       "-------------------------Summary of Regression Analysis-------------------------\n",
       "\n",
       "Formula: Y ~ <Chapters> + <PublishDate> + <CompleteDate> + <KL> + <intercept>\n",
       "\n",
       "Number of Observations:         132075\n",
       "Number of Degrees of Freedom:   5\n",
       "\n",
       "R-squared:         0.1147\n",
       "Adj R-squared:     0.1147\n",
       "\n",
       "Rmse:            566.4698\n",
       "\n",
       "F-stat (4, 132070):  4277.2689, p-value:     0.0000\n",
       "\n",
       "Degrees of Freedom: model 4, resid 132070\n",
       "\n",
       "-----------------------Summary of Estimated Coefficients------------------------\n",
       "      Variable       Coef    Std Err     t-stat    p-value    CI 2.5%   CI 97.5%\n",
       "--------------------------------------------------------------------------------\n",
       "      Chapters     3.8008     0.0432      88.03     0.0000     3.7161     3.8854\n",
       "   PublishDate     0.7376     0.0132      55.89     0.0000     0.7118     0.7635\n",
       "  CompleteDate    -0.6166     0.0131     -47.24     0.0000    -0.6422    -0.5910\n",
       "            KL   -49.1199     1.7183     -28.59     0.0000   -52.4877   -45.7520\n",
       "     intercept   146.1221     4.9676      29.41     0.0000   136.3856   155.8587\n",
       "---------------------------------End of Summary---------------------------------"
      ]
     },
     "execution_count": 377,
     "metadata": {},
     "output_type": "execute_result"
    }
   ],
   "source": [
    "res = ols(y = df2['Kudos'], x = df2[['Chapters', 'PublishDate','CompleteDate','KL']])\n",
    "res"
   ]
  },
  {
   "cell_type": "code",
   "execution_count": 377,
   "metadata": {
    "collapsed": false
   },
   "outputs": [
    {
     "data": {
      "text/plain": [
       "\n",
       "-------------------------Summary of Regression Analysis-------------------------\n",
       "\n",
       "Formula: Y ~ <Chapters> + <PublishDate> + <CompleteDate> + <KL> + <intercept>\n",
       "\n",
       "Number of Observations:         132075\n",
       "Number of Degrees of Freedom:   5\n",
       "\n",
       "R-squared:         0.1147\n",
       "Adj R-squared:     0.1147\n",
       "\n",
       "Rmse:            566.4698\n",
       "\n",
       "F-stat (4, 132070):  4277.2689, p-value:     0.0000\n",
       "\n",
       "Degrees of Freedom: model 4, resid 132070\n",
       "\n",
       "-----------------------Summary of Estimated Coefficients------------------------\n",
       "      Variable       Coef    Std Err     t-stat    p-value    CI 2.5%   CI 97.5%\n",
       "--------------------------------------------------------------------------------\n",
       "      Chapters     3.8008     0.0432      88.03     0.0000     3.7161     3.8854\n",
       "   PublishDate     0.7376     0.0132      55.89     0.0000     0.7118     0.7635\n",
       "  CompleteDate    -0.6166     0.0131     -47.24     0.0000    -0.6422    -0.5910\n",
       "            KL   -49.1199     1.7183     -28.59     0.0000   -52.4877   -45.7520\n",
       "     intercept   146.1221     4.9676      29.41     0.0000   136.3856   155.8587\n",
       "---------------------------------End of Summary---------------------------------"
      ]
     },
     "execution_count": 377,
     "metadata": {},
     "output_type": "execute_result"
    }
   ],
   "source": [
    "res = ols(y = df2['Kudos'], x = df2[['Chapters', 'PublishDate','CompleteDate','KL']])\n",
    "res"
   ]
  },
  {
   "cell_type": "code",
   "execution_count": 377,
   "metadata": {
    "collapsed": false
   },
   "outputs": [
    {
     "data": {
      "text/plain": [
       "\n",
       "-------------------------Summary of Regression Analysis-------------------------\n",
       "\n",
       "Formula: Y ~ <Chapters> + <PublishDate> + <CompleteDate> + <KL> + <intercept>\n",
       "\n",
       "Number of Observations:         132075\n",
       "Number of Degrees of Freedom:   5\n",
       "\n",
       "R-squared:         0.1147\n",
       "Adj R-squared:     0.1147\n",
       "\n",
       "Rmse:            566.4698\n",
       "\n",
       "F-stat (4, 132070):  4277.2689, p-value:     0.0000\n",
       "\n",
       "Degrees of Freedom: model 4, resid 132070\n",
       "\n",
       "-----------------------Summary of Estimated Coefficients------------------------\n",
       "      Variable       Coef    Std Err     t-stat    p-value    CI 2.5%   CI 97.5%\n",
       "--------------------------------------------------------------------------------\n",
       "      Chapters     3.8008     0.0432      88.03     0.0000     3.7161     3.8854\n",
       "   PublishDate     0.7376     0.0132      55.89     0.0000     0.7118     0.7635\n",
       "  CompleteDate    -0.6166     0.0131     -47.24     0.0000    -0.6422    -0.5910\n",
       "            KL   -49.1199     1.7183     -28.59     0.0000   -52.4877   -45.7520\n",
       "     intercept   146.1221     4.9676      29.41     0.0000   136.3856   155.8587\n",
       "---------------------------------End of Summary---------------------------------"
      ]
     },
     "execution_count": 377,
     "metadata": {},
     "output_type": "execute_result"
    }
   ],
   "source": [
    "res = ols(y = df2['Kudos'], x = df2[['Chapters', 'PublishDate','CompleteDate','KL']])\n",
    "res"
   ]
  },
  {
   "cell_type": "code",
   "execution_count": 377,
   "metadata": {
    "collapsed": false
   },
   "outputs": [
    {
     "data": {
      "text/plain": [
       "\n",
       "-------------------------Summary of Regression Analysis-------------------------\n",
       "\n",
       "Formula: Y ~ <Chapters> + <PublishDate> + <CompleteDate> + <KL> + <intercept>\n",
       "\n",
       "Number of Observations:         132075\n",
       "Number of Degrees of Freedom:   5\n",
       "\n",
       "R-squared:         0.1147\n",
       "Adj R-squared:     0.1147\n",
       "\n",
       "Rmse:            566.4698\n",
       "\n",
       "F-stat (4, 132070):  4277.2689, p-value:     0.0000\n",
       "\n",
       "Degrees of Freedom: model 4, resid 132070\n",
       "\n",
       "-----------------------Summary of Estimated Coefficients------------------------\n",
       "      Variable       Coef    Std Err     t-stat    p-value    CI 2.5%   CI 97.5%\n",
       "--------------------------------------------------------------------------------\n",
       "      Chapters     3.8008     0.0432      88.03     0.0000     3.7161     3.8854\n",
       "   PublishDate     0.7376     0.0132      55.89     0.0000     0.7118     0.7635\n",
       "  CompleteDate    -0.6166     0.0131     -47.24     0.0000    -0.6422    -0.5910\n",
       "            KL   -49.1199     1.7183     -28.59     0.0000   -52.4877   -45.7520\n",
       "     intercept   146.1221     4.9676      29.41     0.0000   136.3856   155.8587\n",
       "---------------------------------End of Summary---------------------------------"
      ]
     },
     "execution_count": 377,
     "metadata": {},
     "output_type": "execute_result"
    }
   ],
   "source": [
    "res = ols(y = df2['Kudos'], x = df2[['Chapters', 'PublishDate','CompleteDate','KL']])\n",
    "res"
   ]
  },
  {
   "cell_type": "code",
   "execution_count": 377,
   "metadata": {
    "collapsed": false
   },
   "outputs": [
    {
     "data": {
      "text/plain": [
       "\n",
       "-------------------------Summary of Regression Analysis-------------------------\n",
       "\n",
       "Formula: Y ~ <Chapters> + <PublishDate> + <CompleteDate> + <KL> + <intercept>\n",
       "\n",
       "Number of Observations:         132075\n",
       "Number of Degrees of Freedom:   5\n",
       "\n",
       "R-squared:         0.1147\n",
       "Adj R-squared:     0.1147\n",
       "\n",
       "Rmse:            566.4698\n",
       "\n",
       "F-stat (4, 132070):  4277.2689, p-value:     0.0000\n",
       "\n",
       "Degrees of Freedom: model 4, resid 132070\n",
       "\n",
       "-----------------------Summary of Estimated Coefficients------------------------\n",
       "      Variable       Coef    Std Err     t-stat    p-value    CI 2.5%   CI 97.5%\n",
       "--------------------------------------------------------------------------------\n",
       "      Chapters     3.8008     0.0432      88.03     0.0000     3.7161     3.8854\n",
       "   PublishDate     0.7376     0.0132      55.89     0.0000     0.7118     0.7635\n",
       "  CompleteDate    -0.6166     0.0131     -47.24     0.0000    -0.6422    -0.5910\n",
       "            KL   -49.1199     1.7183     -28.59     0.0000   -52.4877   -45.7520\n",
       "     intercept   146.1221     4.9676      29.41     0.0000   136.3856   155.8587\n",
       "---------------------------------End of Summary---------------------------------"
      ]
     },
     "execution_count": 377,
     "metadata": {},
     "output_type": "execute_result"
    }
   ],
   "source": [
    "res = ols(y = df2['Kudos'], x = df2[['Chapters', 'PublishDate','CompleteDate','KL']])\n",
    "res"
   ]
  },
  {
   "cell_type": "code",
   "execution_count": 377,
   "metadata": {
    "collapsed": false
   },
   "outputs": [
    {
     "data": {
      "text/plain": [
       "\n",
       "-------------------------Summary of Regression Analysis-------------------------\n",
       "\n",
       "Formula: Y ~ <Chapters> + <PublishDate> + <CompleteDate> + <KL> + <intercept>\n",
       "\n",
       "Number of Observations:         132075\n",
       "Number of Degrees of Freedom:   5\n",
       "\n",
       "R-squared:         0.1147\n",
       "Adj R-squared:     0.1147\n",
       "\n",
       "Rmse:            566.4698\n",
       "\n",
       "F-stat (4, 132070):  4277.2689, p-value:     0.0000\n",
       "\n",
       "Degrees of Freedom: model 4, resid 132070\n",
       "\n",
       "-----------------------Summary of Estimated Coefficients------------------------\n",
       "      Variable       Coef    Std Err     t-stat    p-value    CI 2.5%   CI 97.5%\n",
       "--------------------------------------------------------------------------------\n",
       "      Chapters     3.8008     0.0432      88.03     0.0000     3.7161     3.8854\n",
       "   PublishDate     0.7376     0.0132      55.89     0.0000     0.7118     0.7635\n",
       "  CompleteDate    -0.6166     0.0131     -47.24     0.0000    -0.6422    -0.5910\n",
       "            KL   -49.1199     1.7183     -28.59     0.0000   -52.4877   -45.7520\n",
       "     intercept   146.1221     4.9676      29.41     0.0000   136.3856   155.8587\n",
       "---------------------------------End of Summary---------------------------------"
      ]
     },
     "execution_count": 377,
     "metadata": {},
     "output_type": "execute_result"
    }
   ],
   "source": [
    "res = ols(y = df2['Kudos'], x = df2[['Chapters', 'PublishDate','CompleteDate','KL']])\n",
    "res"
   ]
  },
  {
   "cell_type": "code",
   "execution_count": 377,
   "metadata": {
    "collapsed": false
   },
   "outputs": [
    {
     "data": {
      "text/plain": [
       "\n",
       "-------------------------Summary of Regression Analysis-------------------------\n",
       "\n",
       "Formula: Y ~ <Chapters> + <PublishDate> + <CompleteDate> + <KL> + <intercept>\n",
       "\n",
       "Number of Observations:         132075\n",
       "Number of Degrees of Freedom:   5\n",
       "\n",
       "R-squared:         0.1147\n",
       "Adj R-squared:     0.1147\n",
       "\n",
       "Rmse:            566.4698\n",
       "\n",
       "F-stat (4, 132070):  4277.2689, p-value:     0.0000\n",
       "\n",
       "Degrees of Freedom: model 4, resid 132070\n",
       "\n",
       "-----------------------Summary of Estimated Coefficients------------------------\n",
       "      Variable       Coef    Std Err     t-stat    p-value    CI 2.5%   CI 97.5%\n",
       "--------------------------------------------------------------------------------\n",
       "      Chapters     3.8008     0.0432      88.03     0.0000     3.7161     3.8854\n",
       "   PublishDate     0.7376     0.0132      55.89     0.0000     0.7118     0.7635\n",
       "  CompleteDate    -0.6166     0.0131     -47.24     0.0000    -0.6422    -0.5910\n",
       "            KL   -49.1199     1.7183     -28.59     0.0000   -52.4877   -45.7520\n",
       "     intercept   146.1221     4.9676      29.41     0.0000   136.3856   155.8587\n",
       "---------------------------------End of Summary---------------------------------"
      ]
     },
     "execution_count": 377,
     "metadata": {},
     "output_type": "execute_result"
    }
   ],
   "source": [
    "res = ols(y = df2['Kudos'], x = df2[['Chapters', 'PublishDate','CompleteDate','KL']])\n",
    "res"
   ]
  },
  {
   "cell_type": "code",
   "execution_count": 377,
   "metadata": {
    "collapsed": false
   },
   "outputs": [
    {
     "data": {
      "text/plain": [
       "\n",
       "-------------------------Summary of Regression Analysis-------------------------\n",
       "\n",
       "Formula: Y ~ <Chapters> + <PublishDate> + <CompleteDate> + <KL> + <intercept>\n",
       "\n",
       "Number of Observations:         132075\n",
       "Number of Degrees of Freedom:   5\n",
       "\n",
       "R-squared:         0.1147\n",
       "Adj R-squared:     0.1147\n",
       "\n",
       "Rmse:            566.4698\n",
       "\n",
       "F-stat (4, 132070):  4277.2689, p-value:     0.0000\n",
       "\n",
       "Degrees of Freedom: model 4, resid 132070\n",
       "\n",
       "-----------------------Summary of Estimated Coefficients------------------------\n",
       "      Variable       Coef    Std Err     t-stat    p-value    CI 2.5%   CI 97.5%\n",
       "--------------------------------------------------------------------------------\n",
       "      Chapters     3.8008     0.0432      88.03     0.0000     3.7161     3.8854\n",
       "   PublishDate     0.7376     0.0132      55.89     0.0000     0.7118     0.7635\n",
       "  CompleteDate    -0.6166     0.0131     -47.24     0.0000    -0.6422    -0.5910\n",
       "            KL   -49.1199     1.7183     -28.59     0.0000   -52.4877   -45.7520\n",
       "     intercept   146.1221     4.9676      29.41     0.0000   136.3856   155.8587\n",
       "---------------------------------End of Summary---------------------------------"
      ]
     },
     "execution_count": 377,
     "metadata": {},
     "output_type": "execute_result"
    }
   ],
   "source": [
    "res = ols(y = df2['Kudos'], x = df2[['Chapters', 'PublishDate','CompleteDate','KL']])\n",
    "res"
   ]
  },
  {
   "cell_type": "code",
   "execution_count": 377,
   "metadata": {
    "collapsed": false
   },
   "outputs": [
    {
     "data": {
      "text/plain": [
       "\n",
       "-------------------------Summary of Regression Analysis-------------------------\n",
       "\n",
       "Formula: Y ~ <Chapters> + <PublishDate> + <CompleteDate> + <KL> + <intercept>\n",
       "\n",
       "Number of Observations:         132075\n",
       "Number of Degrees of Freedom:   5\n",
       "\n",
       "R-squared:         0.1147\n",
       "Adj R-squared:     0.1147\n",
       "\n",
       "Rmse:            566.4698\n",
       "\n",
       "F-stat (4, 132070):  4277.2689, p-value:     0.0000\n",
       "\n",
       "Degrees of Freedom: model 4, resid 132070\n",
       "\n",
       "-----------------------Summary of Estimated Coefficients------------------------\n",
       "      Variable       Coef    Std Err     t-stat    p-value    CI 2.5%   CI 97.5%\n",
       "--------------------------------------------------------------------------------\n",
       "      Chapters     3.8008     0.0432      88.03     0.0000     3.7161     3.8854\n",
       "   PublishDate     0.7376     0.0132      55.89     0.0000     0.7118     0.7635\n",
       "  CompleteDate    -0.6166     0.0131     -47.24     0.0000    -0.6422    -0.5910\n",
       "            KL   -49.1199     1.7183     -28.59     0.0000   -52.4877   -45.7520\n",
       "     intercept   146.1221     4.9676      29.41     0.0000   136.3856   155.8587\n",
       "---------------------------------End of Summary---------------------------------"
      ]
     },
     "execution_count": 377,
     "metadata": {},
     "output_type": "execute_result"
    }
   ],
   "source": [
    "res = ols(y = df2['Kudos'], x = df2[['Chapters', 'PublishDate','CompleteDate','KL']])\n",
    "res"
   ]
  },
  {
   "cell_type": "code",
   "execution_count": 377,
   "metadata": {
    "collapsed": false
   },
   "outputs": [
    {
     "data": {
      "text/plain": [
       "\n",
       "-------------------------Summary of Regression Analysis-------------------------\n",
       "\n",
       "Formula: Y ~ <Chapters> + <PublishDate> + <CompleteDate> + <KL> + <intercept>\n",
       "\n",
       "Number of Observations:         132075\n",
       "Number of Degrees of Freedom:   5\n",
       "\n",
       "R-squared:         0.1147\n",
       "Adj R-squared:     0.1147\n",
       "\n",
       "Rmse:            566.4698\n",
       "\n",
       "F-stat (4, 132070):  4277.2689, p-value:     0.0000\n",
       "\n",
       "Degrees of Freedom: model 4, resid 132070\n",
       "\n",
       "-----------------------Summary of Estimated Coefficients------------------------\n",
       "      Variable       Coef    Std Err     t-stat    p-value    CI 2.5%   CI 97.5%\n",
       "--------------------------------------------------------------------------------\n",
       "      Chapters     3.8008     0.0432      88.03     0.0000     3.7161     3.8854\n",
       "   PublishDate     0.7376     0.0132      55.89     0.0000     0.7118     0.7635\n",
       "  CompleteDate    -0.6166     0.0131     -47.24     0.0000    -0.6422    -0.5910\n",
       "            KL   -49.1199     1.7183     -28.59     0.0000   -52.4877   -45.7520\n",
       "     intercept   146.1221     4.9676      29.41     0.0000   136.3856   155.8587\n",
       "---------------------------------End of Summary---------------------------------"
      ]
     },
     "execution_count": 377,
     "metadata": {},
     "output_type": "execute_result"
    }
   ],
   "source": [
    "res = ols(y = df2['Kudos'], x = df2[['Chapters', 'PublishDate','CompleteDate','KL']])\n",
    "res"
   ]
  },
  {
   "cell_type": "code",
   "execution_count": 377,
   "metadata": {
    "collapsed": false
   },
   "outputs": [
    {
     "data": {
      "text/plain": [
       "\n",
       "-------------------------Summary of Regression Analysis-------------------------\n",
       "\n",
       "Formula: Y ~ <Chapters> + <PublishDate> + <CompleteDate> + <KL> + <intercept>\n",
       "\n",
       "Number of Observations:         132075\n",
       "Number of Degrees of Freedom:   5\n",
       "\n",
       "R-squared:         0.1147\n",
       "Adj R-squared:     0.1147\n",
       "\n",
       "Rmse:            566.4698\n",
       "\n",
       "F-stat (4, 132070):  4277.2689, p-value:     0.0000\n",
       "\n",
       "Degrees of Freedom: model 4, resid 132070\n",
       "\n",
       "-----------------------Summary of Estimated Coefficients------------------------\n",
       "      Variable       Coef    Std Err     t-stat    p-value    CI 2.5%   CI 97.5%\n",
       "--------------------------------------------------------------------------------\n",
       "      Chapters     3.8008     0.0432      88.03     0.0000     3.7161     3.8854\n",
       "   PublishDate     0.7376     0.0132      55.89     0.0000     0.7118     0.7635\n",
       "  CompleteDate    -0.6166     0.0131     -47.24     0.0000    -0.6422    -0.5910\n",
       "            KL   -49.1199     1.7183     -28.59     0.0000   -52.4877   -45.7520\n",
       "     intercept   146.1221     4.9676      29.41     0.0000   136.3856   155.8587\n",
       "---------------------------------End of Summary---------------------------------"
      ]
     },
     "execution_count": 377,
     "metadata": {},
     "output_type": "execute_result"
    }
   ],
   "source": [
    "res = ols(y = df2['Kudos'], x = df2[['Chapters', 'PublishDate','CompleteDate','KL']])\n",
    "res"
   ]
  },
  {
   "cell_type": "code",
   "execution_count": 377,
   "metadata": {
    "collapsed": false
   },
   "outputs": [
    {
     "data": {
      "text/plain": [
       "\n",
       "-------------------------Summary of Regression Analysis-------------------------\n",
       "\n",
       "Formula: Y ~ <Chapters> + <PublishDate> + <CompleteDate> + <KL> + <intercept>\n",
       "\n",
       "Number of Observations:         132075\n",
       "Number of Degrees of Freedom:   5\n",
       "\n",
       "R-squared:         0.1147\n",
       "Adj R-squared:     0.1147\n",
       "\n",
       "Rmse:            566.4698\n",
       "\n",
       "F-stat (4, 132070):  4277.2689, p-value:     0.0000\n",
       "\n",
       "Degrees of Freedom: model 4, resid 132070\n",
       "\n",
       "-----------------------Summary of Estimated Coefficients------------------------\n",
       "      Variable       Coef    Std Err     t-stat    p-value    CI 2.5%   CI 97.5%\n",
       "--------------------------------------------------------------------------------\n",
       "      Chapters     3.8008     0.0432      88.03     0.0000     3.7161     3.8854\n",
       "   PublishDate     0.7376     0.0132      55.89     0.0000     0.7118     0.7635\n",
       "  CompleteDate    -0.6166     0.0131     -47.24     0.0000    -0.6422    -0.5910\n",
       "            KL   -49.1199     1.7183     -28.59     0.0000   -52.4877   -45.7520\n",
       "     intercept   146.1221     4.9676      29.41     0.0000   136.3856   155.8587\n",
       "---------------------------------End of Summary---------------------------------"
      ]
     },
     "execution_count": 377,
     "metadata": {},
     "output_type": "execute_result"
    }
   ],
   "source": [
    "res = ols(y = df2['Kudos'], x = df2[['Chapters', 'PublishDate','CompleteDate','KL']])\n",
    "res"
   ]
  },
  {
   "cell_type": "code",
   "execution_count": 377,
   "metadata": {
    "collapsed": false
   },
   "outputs": [
    {
     "data": {
      "text/plain": [
       "\n",
       "-------------------------Summary of Regression Analysis-------------------------\n",
       "\n",
       "Formula: Y ~ <Chapters> + <PublishDate> + <CompleteDate> + <KL> + <intercept>\n",
       "\n",
       "Number of Observations:         132075\n",
       "Number of Degrees of Freedom:   5\n",
       "\n",
       "R-squared:         0.1147\n",
       "Adj R-squared:     0.1147\n",
       "\n",
       "Rmse:            566.4698\n",
       "\n",
       "F-stat (4, 132070):  4277.2689, p-value:     0.0000\n",
       "\n",
       "Degrees of Freedom: model 4, resid 132070\n",
       "\n",
       "-----------------------Summary of Estimated Coefficients------------------------\n",
       "      Variable       Coef    Std Err     t-stat    p-value    CI 2.5%   CI 97.5%\n",
       "--------------------------------------------------------------------------------\n",
       "      Chapters     3.8008     0.0432      88.03     0.0000     3.7161     3.8854\n",
       "   PublishDate     0.7376     0.0132      55.89     0.0000     0.7118     0.7635\n",
       "  CompleteDate    -0.6166     0.0131     -47.24     0.0000    -0.6422    -0.5910\n",
       "            KL   -49.1199     1.7183     -28.59     0.0000   -52.4877   -45.7520\n",
       "     intercept   146.1221     4.9676      29.41     0.0000   136.3856   155.8587\n",
       "---------------------------------End of Summary---------------------------------"
      ]
     },
     "execution_count": 377,
     "metadata": {},
     "output_type": "execute_result"
    }
   ],
   "source": [
    "res = ols(y = df2['Kudos'], x = df2[['Chapters', 'PublishDate','CompleteDate','KL']])\n",
    "res"
   ]
  },
  {
   "cell_type": "code",
   "execution_count": 377,
   "metadata": {
    "collapsed": false
   },
   "outputs": [
    {
     "data": {
      "text/plain": [
       "\n",
       "-------------------------Summary of Regression Analysis-------------------------\n",
       "\n",
       "Formula: Y ~ <Chapters> + <PublishDate> + <CompleteDate> + <KL> + <intercept>\n",
       "\n",
       "Number of Observations:         132075\n",
       "Number of Degrees of Freedom:   5\n",
       "\n",
       "R-squared:         0.1147\n",
       "Adj R-squared:     0.1147\n",
       "\n",
       "Rmse:            566.4698\n",
       "\n",
       "F-stat (4, 132070):  4277.2689, p-value:     0.0000\n",
       "\n",
       "Degrees of Freedom: model 4, resid 132070\n",
       "\n",
       "-----------------------Summary of Estimated Coefficients------------------------\n",
       "      Variable       Coef    Std Err     t-stat    p-value    CI 2.5%   CI 97.5%\n",
       "--------------------------------------------------------------------------------\n",
       "      Chapters     3.8008     0.0432      88.03     0.0000     3.7161     3.8854\n",
       "   PublishDate     0.7376     0.0132      55.89     0.0000     0.7118     0.7635\n",
       "  CompleteDate    -0.6166     0.0131     -47.24     0.0000    -0.6422    -0.5910\n",
       "            KL   -49.1199     1.7183     -28.59     0.0000   -52.4877   -45.7520\n",
       "     intercept   146.1221     4.9676      29.41     0.0000   136.3856   155.8587\n",
       "---------------------------------End of Summary---------------------------------"
      ]
     },
     "execution_count": 377,
     "metadata": {},
     "output_type": "execute_result"
    }
   ],
   "source": [
    "res = ols(y = df2['Kudos'], x = df2[['Chapters', 'PublishDate','CompleteDate','KL']])\n",
    "res"
   ]
  },
  {
   "cell_type": "code",
   "execution_count": 377,
   "metadata": {
    "collapsed": false
   },
   "outputs": [
    {
     "data": {
      "text/plain": [
       "\n",
       "-------------------------Summary of Regression Analysis-------------------------\n",
       "\n",
       "Formula: Y ~ <Chapters> + <PublishDate> + <CompleteDate> + <KL> + <intercept>\n",
       "\n",
       "Number of Observations:         132075\n",
       "Number of Degrees of Freedom:   5\n",
       "\n",
       "R-squared:         0.1147\n",
       "Adj R-squared:     0.1147\n",
       "\n",
       "Rmse:            566.4698\n",
       "\n",
       "F-stat (4, 132070):  4277.2689, p-value:     0.0000\n",
       "\n",
       "Degrees of Freedom: model 4, resid 132070\n",
       "\n",
       "-----------------------Summary of Estimated Coefficients------------------------\n",
       "      Variable       Coef    Std Err     t-stat    p-value    CI 2.5%   CI 97.5%\n",
       "--------------------------------------------------------------------------------\n",
       "      Chapters     3.8008     0.0432      88.03     0.0000     3.7161     3.8854\n",
       "   PublishDate     0.7376     0.0132      55.89     0.0000     0.7118     0.7635\n",
       "  CompleteDate    -0.6166     0.0131     -47.24     0.0000    -0.6422    -0.5910\n",
       "            KL   -49.1199     1.7183     -28.59     0.0000   -52.4877   -45.7520\n",
       "     intercept   146.1221     4.9676      29.41     0.0000   136.3856   155.8587\n",
       "---------------------------------End of Summary---------------------------------"
      ]
     },
     "execution_count": 377,
     "metadata": {},
     "output_type": "execute_result"
    }
   ],
   "source": [
    "res = ols(y = df2['Kudos'], x = df2[['Chapters', 'PublishDate','CompleteDate','KL']])\n",
    "res"
   ]
  },
  {
   "cell_type": "code",
   "execution_count": 377,
   "metadata": {
    "collapsed": false
   },
   "outputs": [
    {
     "data": {
      "text/plain": [
       "\n",
       "-------------------------Summary of Regression Analysis-------------------------\n",
       "\n",
       "Formula: Y ~ <Chapters> + <PublishDate> + <CompleteDate> + <KL> + <intercept>\n",
       "\n",
       "Number of Observations:         132075\n",
       "Number of Degrees of Freedom:   5\n",
       "\n",
       "R-squared:         0.1147\n",
       "Adj R-squared:     0.1147\n",
       "\n",
       "Rmse:            566.4698\n",
       "\n",
       "F-stat (4, 132070):  4277.2689, p-value:     0.0000\n",
       "\n",
       "Degrees of Freedom: model 4, resid 132070\n",
       "\n",
       "-----------------------Summary of Estimated Coefficients------------------------\n",
       "      Variable       Coef    Std Err     t-stat    p-value    CI 2.5%   CI 97.5%\n",
       "--------------------------------------------------------------------------------\n",
       "      Chapters     3.8008     0.0432      88.03     0.0000     3.7161     3.8854\n",
       "   PublishDate     0.7376     0.0132      55.89     0.0000     0.7118     0.7635\n",
       "  CompleteDate    -0.6166     0.0131     -47.24     0.0000    -0.6422    -0.5910\n",
       "            KL   -49.1199     1.7183     -28.59     0.0000   -52.4877   -45.7520\n",
       "     intercept   146.1221     4.9676      29.41     0.0000   136.3856   155.8587\n",
       "---------------------------------End of Summary---------------------------------"
      ]
     },
     "execution_count": 377,
     "metadata": {},
     "output_type": "execute_result"
    }
   ],
   "source": [
    "res = ols(y = df2['Kudos'], x = df2[['Chapters', 'PublishDate','CompleteDate','KL']])\n",
    "res"
   ]
  },
  {
   "cell_type": "code",
   "execution_count": 355,
   "metadata": {
    "collapsed": false
   },
   "outputs": [
    {
     "data": {
      "text/plain": [
       "\n",
       "-------------------------Summary of Regression Analysis-------------------------\n",
       "\n",
       "Formula: Y ~ <Chapters> + <CompleteDate> + <PublishDate> + <ChapterLength>\n",
       "             + <KL> + <intercept>\n",
       "\n",
       "Number of Observations:         131300\n",
       "Number of Degrees of Freedom:   5\n",
       "\n",
       "R-squared:         0.1473\n",
       "Adj R-squared:     0.2346\n",
       "\n",
       "Rmse:          20534.5567\n",
       "\n",
       "F-stat (5, 131295):    -1.6853, p-value:     1.0000\n",
       "\n",
       "Degrees of Freedom: model 5, resid 131295\n",
       "\n",
       "-----------------------Summary of Estimated Coefficients------------------------\n",
       "      Variable       Coef    Std Err     t-stat    p-value    CI 2.5%   CI 97.5%\n",
       "--------------------------------------------------------------------------------\n",
       "      Chapters   143.2248     1.5535      92.20     0.0000   140.1799   146.2696\n",
       "  CompleteDate   -29.8870     0.4706     -63.51     0.0000   -30.8094   -28.9647\n",
       "   PublishDate    36.4067     0.4743      76.77     0.0000    35.4772    37.3363\n",
       " ChapterLength     1.3914        nan        nan        nan        nan        nan\n",
       "            KL -1595.0599        nan        nan        nan        nan        nan\n",
       "--------------------------------------------------------------------------------\n",
       "     intercept     0.0014        nan        nan        nan        nan        nan\n",
       "---------------------------------End of Summary---------------------------------"
      ]
     },
     "execution_count": 355,
     "metadata": {},
     "output_type": "execute_result"
    }
   ],
   "source": [
    "res = ols(y = df2['Hits'], x = df2[['Chapters', 'CompleteDate', 'PublishDate', 'ChapterLength', 'KL']])\n",
    "res"
   ]
  },
  {
   "cell_type": "code",
   "execution_count": null,
   "metadata": {
    "collapsed": true
   },
   "outputs": [],
   "source": []
  }
 ],
 "metadata": {
  "kernelspec": {
   "display_name": "Python 2",
   "language": "python",
   "name": "python2"
  },
  "language_info": {
   "codemirror_mode": {
    "name": "ipython",
    "version": 2
   },
   "file_extension": ".py",
   "mimetype": "text/x-python",
   "name": "python",
   "nbconvert_exporter": "python",
   "pygments_lexer": "ipython2",
   "version": "2.7.11"
  }
 },
 "nbformat": 4,
 "nbformat_minor": 0
}
