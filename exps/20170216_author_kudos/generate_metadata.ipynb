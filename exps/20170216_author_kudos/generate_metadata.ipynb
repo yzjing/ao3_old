{
 "cells": [
  {
   "cell_type": "code",
   "execution_count": 1,
   "metadata": {
    "collapsed": true
   },
   "outputs": [],
   "source": [
    "import pandas as pd\n",
    "import os"
   ]
  },
  {
   "cell_type": "code",
   "execution_count": 2,
   "metadata": {
    "collapsed": true
   },
   "outputs": [],
   "source": [
    "data_path = '../../data/preprocessed_data/'"
   ]
  },
  {
   "cell_type": "code",
   "execution_count": 5,
   "metadata": {
    "collapsed": false
   },
   "outputs": [
    {
     "data": {
      "text/plain": [
       "['real_person_fiction_preprocessed.tsv',\n",
       " 'dragon_age_video_games_preprocessed.tsv',\n",
       " 'original_work_preprocessed.tsv',\n",
       " 'dragon_age_inquisition_preprocessed.tsv',\n",
       " 'harry_potter_preprocessed.tsv',\n",
       " 'one_direction_preprocessed.tsv',\n",
       " 'music_rpf_preprocessed.tsv',\n",
       " 'shakespare_william_works_preprocessed.tsv',\n",
       " 'the_walking_dead_&_related_fandoms_preprocessed.tsv',\n",
       " 'rock_music_rpf_preprocessed.tsv',\n",
       " 'supernatural_preprocessed.tsv',\n",
       " 'kuroko_no_basuke_preprocessed.tsv',\n",
       " 'star_wars_all_media_types_preprocessed.tsv',\n",
       " 'hamilton_miranda_preprocessed.tsv',\n",
       " 'attack_on_titan_preprocessed.tsv',\n",
       " 'marvel_preprocessed.tsv',\n",
       " 'sherlock(TV)_preprocessed.tsv',\n",
       " 'hetalia_axis_powers_preprocessed.tsv',\n",
       " 'doctor_who_preprocessed.tsv',\n",
       " 'buffy_the_vampire_slayer_preprocessed.tsv',\n",
       " 'homestuck_preprocessed.tsv',\n",
       " 'video_blogging_rpf_preprocessed.tsv',\n",
       " 'les_miserables_all_media_types_preprocessed.tsv',\n",
       " 'les_miserables_schonberg_boublil_preprocessed.tsv',\n",
       " 'haikyuu_preprocessed.tsv',\n",
       " 'ms_paint_adventures_preprocessed.tsv',\n",
       " 'arthurian_mythology_&_related_fandoms_preprocessed.tsv',\n",
       " 'marvel_movies_preprocessed.tsv',\n",
       " 'sherlock_holmes_&_related_fandoms_preprocessed.tsv',\n",
       " 'bishoujo_senshi_sailor_moon_preprocessed.tsv',\n",
       " 'naruto_preprocessed.tsv',\n",
       " 'bandom_preprocessed.tsv',\n",
       " 'the_avengers_all_media_types_preprocessed.tsv',\n",
       " 'doctor_who_&_related_fandoms_preprocessed.tsv',\n",
       " 'dcu_preprocessed.tsv',\n",
       " 'dragon_age_all_media_types_preprocessed.tsv',\n",
       " 'tolkien_j_r_r_works_&_related_fandoms_preprocessed.tsv',\n",
       " 'marvel_cinematic_universe_preprocessed.tsv',\n",
       " 'the_avengers_ambiguous_fandom_preprocessed.tsv',\n",
       " 'actor_rpf_preprocessed.tsv',\n",
       " 'k_pop_preprocessed.tsv',\n",
       " 'internet_personalities_preprocessed.tsv']"
      ]
     },
     "execution_count": 5,
     "metadata": {},
     "output_type": "execute_result"
    }
   ],
   "source": [
    "os.listdir(data_path)"
   ]
  },
  {
   "cell_type": "code",
   "execution_count": 8,
   "metadata": {
    "collapsed": false
   },
   "outputs": [
    {
     "name": "stderr",
     "output_type": "stream",
     "text": [
      "/home/yizhi/anaconda2/lib/python2.7/site-packages/IPython/core/interactiveshell.py:2902: DtypeWarning: Columns (22) have mixed types. Specify dtype option on import or set low_memory=False.\n",
      "  interactivity=interactivity, compiler=compiler, result=result)\n"
     ]
    }
   ],
   "source": [
    "for f in os.listdir(data_path):\n",
    "    df = pd.read_csv(os.path.join(data_path,f), sep = '\\t')\n",
    "    df = df.drop('Text',axis=1)\n",
    "    df.to_csv(f.replace('preprocessed', 'metadata'), sep = '\\t', index=False)"
   ]
  },
  {
   "cell_type": "code",
   "execution_count": null,
   "metadata": {
    "collapsed": true
   },
   "outputs": [],
   "source": []
  }
 ],
 "metadata": {
  "kernelspec": {
   "display_name": "Python 2",
   "language": "python",
   "name": "python2"
  },
  "language_info": {
   "codemirror_mode": {
    "name": "ipython",
    "version": 2
   },
   "file_extension": ".py",
   "mimetype": "text/x-python",
   "name": "python",
   "nbconvert_exporter": "python",
   "pygments_lexer": "ipython2",
   "version": "2.7.11"
  }
 },
 "nbformat": 4,
 "nbformat_minor": 0
}
