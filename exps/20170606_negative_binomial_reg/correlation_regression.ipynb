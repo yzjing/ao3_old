{
 "cells": [
  {
   "cell_type": "code",
   "execution_count": 54,
   "metadata": {
    "collapsed": true
   },
   "outputs": [],
   "source": [
    "import pandas as pd\n",
    "import statsmodels.api as sm\n",
    "import os\n",
    "import matplotlib.pyplot as plt\n",
    "%matplotlib inline\n",
    "import seaborn as sns\n"
   ]
  },
  {
   "cell_type": "code",
   "execution_count": 4,
   "metadata": {
    "collapsed": true
   },
   "outputs": [],
   "source": [
    "metadata_path = '../../data/metadata/'\n",
    "sim_data_path = '../../data/unigram/'\n",
    "master_path = '../../data/master_tables'"
   ]
  },
  {
   "cell_type": "code",
   "execution_count": 71,
   "metadata": {
    "collapsed": true
   },
   "outputs": [],
   "source": [
    "fandom_list = [line.strip() for line in open('../../data/fandom_filtered_list')]"
   ]
  },
  {
   "cell_type": "code",
   "execution_count": 129,
   "metadata": {
    "collapsed": true
   },
   "outputs": [],
   "source": [
    "df = pd.read_csv(os.path.join(metadata_path,'arthurian_mythology_&_related_fandoms'+'_metadata.tsv'), sep = '\\t')"
   ]
  },
  {
   "cell_type": "code",
   "execution_count": 130,
   "metadata": {
    "collapsed": false
   },
   "outputs": [
    {
     "data": {
      "text/html": [
       "<div>\n",
       "<table border=\"1\" class=\"dataframe\">\n",
       "  <thead>\n",
       "    <tr style=\"text-align: right;\">\n",
       "      <th></th>\n",
       "      <th>AdditionalTags</th>\n",
       "      <th>ArchiveWarnings</th>\n",
       "      <th>Author</th>\n",
       "      <th>Bookmarks</th>\n",
       "      <th>Category</th>\n",
       "      <th>ChapterIndex</th>\n",
       "      <th>Chapters</th>\n",
       "      <th>Characters</th>\n",
       "      <th>Comments</th>\n",
       "      <th>CompleteDate</th>\n",
       "      <th>...</th>\n",
       "      <th>Language</th>\n",
       "      <th>Notes</th>\n",
       "      <th>PublishDate</th>\n",
       "      <th>Rating</th>\n",
       "      <th>Relationship</th>\n",
       "      <th>Summary</th>\n",
       "      <th>Title</th>\n",
       "      <th>URL</th>\n",
       "      <th>UpdateDate</th>\n",
       "      <th>Words</th>\n",
       "    </tr>\n",
       "  </thead>\n",
       "  <tbody>\n",
       "    <tr>\n",
       "      <th>0</th>\n",
       "      <td>Plot What Plot/Porn Without Plot, Vaginal Fing...</td>\n",
       "      <td>Underage</td>\n",
       "      <td>MorganasCrow</td>\n",
       "      <td>0</td>\n",
       "      <td>F/F</td>\n",
       "      <td>NaN</td>\n",
       "      <td>1</td>\n",
       "      <td>Morgana (Merlin), Morgause (Merlin)</td>\n",
       "      <td>0</td>\n",
       "      <td>2015-06-16</td>\n",
       "      <td>...</td>\n",
       "      <td>English</td>\n",
       "      <td>NaN</td>\n",
       "      <td>2015-06-16</td>\n",
       "      <td>Explicit</td>\n",
       "      <td>Morcest</td>\n",
       "      <td>Morgana and Morgause enjoy wild games.</td>\n",
       "      <td>What The Fag You Think You\\'re Doing?</td>\n",
       "      <td>http://archiveofourown.org/works/4146375?view_...</td>\n",
       "      <td>NaN</td>\n",
       "      <td>933.0</td>\n",
       "    </tr>\n",
       "    <tr>\n",
       "      <th>1</th>\n",
       "      <td>blind!Arthur, Blindness, Minor Violence, Impli...</td>\n",
       "      <td>Creator Chose Not To Use Archive Warnings</td>\n",
       "      <td>SoCanonItHurts</td>\n",
       "      <td>4</td>\n",
       "      <td>M/M</td>\n",
       "      <td>NaN</td>\n",
       "      <td>1</td>\n",
       "      <td>Merlin (Merlin), Arthur Pendragon (Merlin), Gw...</td>\n",
       "      <td>0</td>\n",
       "      <td>NaN</td>\n",
       "      <td>...</td>\n",
       "      <td>English</td>\n",
       "      <td>Warning: I know nothing about being blind, all...</td>\n",
       "      <td>2016-04-17</td>\n",
       "      <td>Mature</td>\n",
       "      <td>Merlin/Arthur Pendragon, Gwaine/Merlin (Merlin...</td>\n",
       "      <td>Merlin has a wonderful night with a  mysteriou...</td>\n",
       "      <td>Obstacles in Our Way</td>\n",
       "      <td>http://archiveofourown.org/works/6575791?view_...</td>\n",
       "      <td>2016-04-16</td>\n",
       "      <td>1317.0</td>\n",
       "    </tr>\n",
       "  </tbody>\n",
       "</table>\n",
       "<p>2 rows × 23 columns</p>\n",
       "</div>"
      ],
      "text/plain": [
       "                                      AdditionalTags  \\\n",
       "0  Plot What Plot/Porn Without Plot, Vaginal Fing...   \n",
       "1  blind!Arthur, Blindness, Minor Violence, Impli...   \n",
       "\n",
       "                             ArchiveWarnings          Author  Bookmarks  \\\n",
       "0                                   Underage    MorganasCrow          0   \n",
       "1  Creator Chose Not To Use Archive Warnings  SoCanonItHurts          4   \n",
       "\n",
       "  Category  ChapterIndex  Chapters  \\\n",
       "0      F/F           NaN         1   \n",
       "1      M/M           NaN         1   \n",
       "\n",
       "                                          Characters  Comments CompleteDate  \\\n",
       "0                Morgana (Merlin), Morgause (Merlin)         0   2015-06-16   \n",
       "1  Merlin (Merlin), Arthur Pendragon (Merlin), Gw...         0          NaN   \n",
       "\n",
       "    ...   Language                                              Notes  \\\n",
       "0   ...    English                                                NaN   \n",
       "1   ...    English  Warning: I know nothing about being blind, all...   \n",
       "\n",
       "   PublishDate    Rating                                       Relationship  \\\n",
       "0   2015-06-16  Explicit                                            Morcest   \n",
       "1   2016-04-17    Mature  Merlin/Arthur Pendragon, Gwaine/Merlin (Merlin...   \n",
       "\n",
       "                                             Summary  \\\n",
       "0             Morgana and Morgause enjoy wild games.   \n",
       "1  Merlin has a wonderful night with a  mysteriou...   \n",
       "\n",
       "                                   Title  \\\n",
       "0  What The Fag You Think You\\'re Doing?   \n",
       "1                   Obstacles in Our Way   \n",
       "\n",
       "                                                 URL  UpdateDate   Words  \n",
       "0  http://archiveofourown.org/works/4146375?view_...         NaN   933.0  \n",
       "1  http://archiveofourown.org/works/6575791?view_...  2016-04-16  1317.0  \n",
       "\n",
       "[2 rows x 23 columns]"
      ]
     },
     "execution_count": 130,
     "metadata": {},
     "output_type": "execute_result"
    }
   ],
   "source": [
    "df.head(2)"
   ]
  },
  {
   "cell_type": "code",
   "execution_count": 81,
   "metadata": {
    "collapsed": true
   },
   "outputs": [],
   "source": [
    "def create_df(fname):\n",
    "    ### Create table: merge the one with JSD and the master table w/ old KL\n",
    "    ### Only keep the numeric variables\n",
    "    df = pd.read_csv(os.path.join(sim_data_path,fname+'_unigram_dist_jsd.tsv'), sep = '\\t')\n",
    "    df2 = pd.read_csv(os.path.join(master_path,fname+'_processed2.tsv'), sep = '\\t')\n",
    "    df2 = df2.drop([0,1])\n",
    "    df = df[['Author', 'Title', 'JSD']]\n",
    "    df = pd.merge(df, df2, on=['Author','Title'], how='inner')\n",
    "    df = df[['Bookmarks','Chapters', 'Hits', 'Kudos', 'Words','Comments','CompleteDate','PublishDate','JSD']]\n",
    "    df = df.fillna(0)\n",
    "    return df"
   ]
  },
  {
   "cell_type": "code",
   "execution_count": 82,
   "metadata": {
    "collapsed": false
   },
   "outputs": [
    {
     "name": "stdout",
     "output_type": "stream",
     "text": [
      "did:  arthurian_mythology_&_related_fandoms\n",
      "did:  attack_on_titan\n"
     ]
    },
    {
     "name": "stderr",
     "output_type": "stream",
     "text": [
      "/Users/jingy/anaconda/envs/python35/lib/python3.5/site-packages/IPython/core/interactiveshell.py:2825: DtypeWarning: Columns (15,16,17,18) have mixed types. Specify dtype option on import or set low_memory=False.\n",
      "  if self.run_code(code, result):\n"
     ]
    },
    {
     "name": "stdout",
     "output_type": "stream",
     "text": [
      "did:  ms_paint_adventures\n",
      "did:  bishoujo_senshi_sailor_moon\n",
      "did:  naruto\n",
      "did:  buffy_the_vampire_slayer\n",
      "did:  dcu\n",
      "did:  one_direction\n",
      "did:  doctor_who_&_related_fandoms\n",
      "did:  dragon_age_all_media_types\n",
      "did:  haikyuu\n",
      "did:  shakespare_william_works\n",
      "did:  hamilton_miranda\n",
      "did:  sherlock_holmes_&_related_fandoms\n",
      "did:  hetalia_axis_powers\n",
      "did:  star_wars_all_media_types\n",
      "did:  homestuck\n",
      "did:  kuroko_no_basuke\n",
      "did:  the_walking_dead_&_related_fandoms\n",
      "did:  les_miserables_all_media_types\n",
      "did:  tolkien_j_r_r_works_&_related_fandoms\n"
     ]
    }
   ],
   "source": [
    "df_all = []\n",
    "for fandom in fandom_list:\n",
    "    # for some we don't have the master table.\n",
    "    try:\n",
    "        df_all.append(create_df(fandom))\n",
    "        print ('did: ', fandom)\n",
    "    except:\n",
    "        pass\n",
    "df_all = pd.concat(df_all)"
   ]
  },
  {
   "cell_type": "code",
   "execution_count": 83,
   "metadata": {
    "collapsed": false
   },
   "outputs": [
    {
     "data": {
      "text/plain": [
       "68587"
      ]
     },
     "execution_count": 83,
     "metadata": {},
     "output_type": "execute_result"
    }
   ],
   "source": [
    "len(df_all)"
   ]
  },
  {
   "cell_type": "code",
   "execution_count": 84,
   "metadata": {
    "collapsed": false
   },
   "outputs": [
    {
     "data": {
      "text/plain": [
       "<matplotlib.axes._subplots.AxesSubplot at 0x11c025668>"
      ]
     },
     "execution_count": 84,
     "metadata": {},
     "output_type": "execute_result"
    },
    {
     "data": {
      "image/png": "[encoded data removed]",
      "text/plain": [
       "<matplotlib.figure.Figure at 0x11abb66a0>"
      ]
     },
     "metadata": {},
     "output_type": "display_data"
    }
   ],
   "source": [
    "# plt.matshow(df.corr())\n",
    "plt.figure(figsize = (10,8))\n",
    "sns.heatmap(df_all.astype(float).corr())\n",
    "# plt.tight_layout()\n",
    "# plt.savefig('corr_heatmap.png', format='png')\n"
   ]
  },
  {
   "cell_type": "code",
   "execution_count": 91,
   "metadata": {
    "collapsed": false
   },
   "outputs": [],
   "source": [
    "rand_data = sm.datasets.randhie.load()\n",
    "rand_exog = rand_data.exog.view(float).reshape(len(rand_data.exog), -1)\n",
    "rand_exog = sm.add_constant(rand_exog, prepend=False)"
   ]
  },
  {
   "cell_type": "code",
   "execution_count": 92,
   "metadata": {
    "collapsed": false
   },
   "outputs": [
    {
     "data": {
      "text/plain": [
       "(20190, 10)"
      ]
     },
     "execution_count": 92,
     "metadata": {},
     "output_type": "execute_result"
    }
   ],
   "source": [
    "rand_exog.shape"
   ]
  },
  {
   "cell_type": "code",
   "execution_count": 93,
   "metadata": {
    "collapsed": false
   },
   "outputs": [
    {
     "data": {
      "text/plain": [
       "(20190,)"
      ]
     },
     "execution_count": 93,
     "metadata": {},
     "output_type": "execute_result"
    }
   ],
   "source": [
    "rand_data.endog.shape"
   ]
  },
  {
   "cell_type": "code",
   "execution_count": 110,
   "metadata": {
    "collapsed": false
   },
   "outputs": [
    {
     "name": "stderr",
     "output_type": "stream",
     "text": [
      "/Users/jingy/anaconda/envs/python35/lib/python3.5/site-packages/statsmodels/base/model.py:466: ConvergenceWarning: Maximum Likelihood optimization failed to converge. Check mle_retvals\n",
      "  \"Check mle_retvals\", ConvergenceWarning)\n"
     ]
    },
    {
     "name": "stdout",
     "output_type": "stream",
     "text": [
      "                     NegativeBinomial Regression Results                      \n",
      "==============================================================================\n",
      "Dep. Variable:                      y   No. Observations:                20190\n",
      "Model:               NegativeBinomial   Df Residuals:                    20180\n",
      "Method:                           MLE   Df Model:                            9\n",
      "Date:                Tue, 06 Jun 2017   Pseudo R-squ.:                 0.01845\n",
      "Time:                        19:51:03   Log-Likelihood:                -43384.\n",
      "converged:                      False   LL-Null:                       -44199.\n",
      "                                        LLR p-value:                     0.000\n",
      "==============================================================================\n",
      "                 coef    std err          z      P>|z|      [95.0% Conf. Int.]\n",
      "------------------------------------------------------------------------------\n",
      "x1            -0.0580      0.006     -9.517      0.000        -0.070    -0.046\n",
      "x2            -0.2678      0.023    -11.802      0.000        -0.312    -0.223\n",
      "x3             0.0412      0.004      9.937      0.000         0.033     0.049\n",
      "x4            -0.0381      0.003    -11.219      0.000        -0.045    -0.031\n",
      "x5             0.2690      0.030      8.981      0.000         0.210     0.328\n",
      "x6             0.0382      0.001     26.081      0.000         0.035     0.041\n",
      "x7            -0.0441      0.020     -2.200      0.028        -0.083    -0.005\n",
      "x8             0.0172      0.036      0.477      0.633        -0.054     0.088\n",
      "x9             0.1780      0.074      2.397      0.017         0.032     0.324\n",
      "const          0.6636      0.025     26.787      0.000         0.615     0.712\n",
      "alpha          1.2930      0.019     69.477      0.000         1.256     1.329\n",
      "==============================================================================\n"
     ]
    }
   ],
   "source": [
    "mod_nbin = sm.NegativeBinomial(rand_data.endog, rand_exog)\n",
    "res_nbin = mod_nbin.fit(disp=False)\n",
    "print(res_nbin.summary())"
   ]
  },
  {
   "cell_type": "code",
   "execution_count": 100,
   "metadata": {
    "collapsed": false
   },
   "outputs": [
    {
     "data": {
      "text/html": [
       "<div>\n",
       "<table border=\"1\" class=\"dataframe\">\n",
       "  <thead>\n",
       "    <tr style=\"text-align: right;\">\n",
       "      <th></th>\n",
       "      <th>Bookmarks</th>\n",
       "      <th>Chapters</th>\n",
       "      <th>Hits</th>\n",
       "      <th>Kudos</th>\n",
       "      <th>Words</th>\n",
       "      <th>Comments</th>\n",
       "      <th>CompleteDate</th>\n",
       "      <th>PublishDate</th>\n",
       "      <th>JSD</th>\n",
       "    </tr>\n",
       "  </thead>\n",
       "  <tbody>\n",
       "    <tr>\n",
       "      <th>0</th>\n",
       "      <td>4.0</td>\n",
       "      <td>3.0</td>\n",
       "      <td>1505.0</td>\n",
       "      <td>33.0</td>\n",
       "      <td>3124.0</td>\n",
       "      <td>6</td>\n",
       "      <td>0</td>\n",
       "      <td>1167</td>\n",
       "      <td>0.8381656448336969</td>\n",
       "    </tr>\n",
       "    <tr>\n",
       "      <th>1</th>\n",
       "      <td>7.0</td>\n",
       "      <td>10.0</td>\n",
       "      <td>1348.0</td>\n",
       "      <td>40.0</td>\n",
       "      <td>10470.0</td>\n",
       "      <td>4</td>\n",
       "      <td>1061</td>\n",
       "      <td>1071</td>\n",
       "      <td>1.1338849631299288</td>\n",
       "    </tr>\n",
       "    <tr>\n",
       "      <th>2</th>\n",
       "      <td>1.0</td>\n",
       "      <td>10.0</td>\n",
       "      <td>548.0</td>\n",
       "      <td>16.0</td>\n",
       "      <td>8751.0</td>\n",
       "      <td>6</td>\n",
       "      <td>0</td>\n",
       "      <td>610</td>\n",
       "      <td>0.6298721265841052</td>\n",
       "    </tr>\n",
       "    <tr>\n",
       "      <th>3</th>\n",
       "      <td>18.0</td>\n",
       "      <td>10.0</td>\n",
       "      <td>3119.0</td>\n",
       "      <td>55.0</td>\n",
       "      <td>23266.0</td>\n",
       "      <td>30</td>\n",
       "      <td>979</td>\n",
       "      <td>1190</td>\n",
       "      <td>0.8963401290998967</td>\n",
       "    </tr>\n",
       "    <tr>\n",
       "      <th>4</th>\n",
       "      <td>0.0</td>\n",
       "      <td>10.0</td>\n",
       "      <td>98.0</td>\n",
       "      <td>1.0</td>\n",
       "      <td>8618.0</td>\n",
       "      <td>0</td>\n",
       "      <td>685</td>\n",
       "      <td>704</td>\n",
       "      <td>1.113333705504798</td>\n",
       "    </tr>\n",
       "  </tbody>\n",
       "</table>\n",
       "</div>"
      ],
      "text/plain": [
       "   Bookmarks  Chapters    Hits  Kudos    Words Comments CompleteDate  \\\n",
       "0        4.0       3.0  1505.0   33.0   3124.0        6            0   \n",
       "1        7.0      10.0  1348.0   40.0  10470.0        4         1061   \n",
       "2        1.0      10.0   548.0   16.0   8751.0        6            0   \n",
       "3       18.0      10.0  3119.0   55.0  23266.0       30          979   \n",
       "4        0.0      10.0    98.0    1.0   8618.0        0          685   \n",
       "\n",
       "  PublishDate                 JSD  \n",
       "0        1167  0.8381656448336969  \n",
       "1        1071  1.1338849631299288  \n",
       "2         610  0.6298721265841052  \n",
       "3        1190  0.8963401290998967  \n",
       "4         704   1.113333705504798  "
      ]
     },
     "execution_count": 100,
     "metadata": {},
     "output_type": "execute_result"
    }
   ],
   "source": [
    "df_all.head()"
   ]
  },
  {
   "cell_type": "code",
   "execution_count": 126,
   "metadata": {
    "collapsed": false
   },
   "outputs": [],
   "source": [
    "df_all = df_all.astype(float)\n",
    "for col in df_all.columns.values:\n",
    "    df_all[col] = (df_all[col] - df_all[col].mean())/df_all[col].std(ddof=0)"
   ]
  },
  {
   "cell_type": "code",
   "execution_count": 127,
   "metadata": {
    "collapsed": true
   },
   "outputs": [],
   "source": [
    "df_all.to_csv('regression_data.csv', index=False)"
   ]
  },
  {
   "cell_type": "code",
   "execution_count": 122,
   "metadata": {
    "collapsed": false
   },
   "outputs": [
    {
     "name": "stdout",
     "output_type": "stream",
     "text": [
      "Warning: Desired error not necessarily achieved due to precision loss.\n",
      "         Current function value: nan\n",
      "         Iterations: 0\n",
      "         Function evaluations: 1\n",
      "         Gradient evaluations: 1\n"
     ]
    },
    {
     "name": "stderr",
     "output_type": "stream",
     "text": [
      "/Users/jingy/anaconda/envs/python35/lib/python3.5/site-packages/statsmodels/base/model.py:466: ConvergenceWarning: Maximum Likelihood optimization failed to converge. Check mle_retvals\n",
      "  \"Check mle_retvals\", ConvergenceWarning)\n",
      "/Users/jingy/anaconda/envs/python35/lib/python3.5/site-packages/statsmodels/base/model.py:466: ConvergenceWarning: Maximum Likelihood optimization failed to converge. Check mle_retvals\n",
      "  \"Check mle_retvals\", ConvergenceWarning)\n"
     ]
    },
    {
     "name": "stdout",
     "output_type": "stream",
     "text": [
      "                     NegativeBinomial Regression Results                      \n",
      "==============================================================================\n",
      "Dep. Variable:                      y   No. Observations:                68587\n",
      "Model:               NegativeBinomial   Df Residuals:                    68579\n",
      "Method:                           MLE   Df Model:                            7\n",
      "Date:                Tue, 06 Jun 2017   Pseudo R-squ.:                     nan\n",
      "Time:                        20:12:21   Log-Likelihood:                    nan\n",
      "converged:                      False   LL-Null:                   -4.0027e+05\n",
      "                                        LLR p-value:                       nan\n",
      "==============================================================================\n",
      "                 coef    std err          z      P>|z|      [95.0% Conf. Int.]\n",
      "------------------------------------------------------------------------------\n",
      "x1                nan        nan        nan        nan           nan       nan\n",
      "x2                nan        nan        nan        nan           nan       nan\n",
      "x3                nan        nan        nan        nan           nan       nan\n",
      "x4                nan        nan        nan        nan           nan       nan\n",
      "x5                nan        nan        nan        nan           nan       nan\n",
      "x6                nan        nan        nan        nan           nan       nan\n",
      "x7                nan        nan        nan        nan           nan       nan\n",
      "x8                nan        nan        nan        nan           nan       nan\n",
      "alpha          1.1052        nan        nan        nan           nan       nan\n",
      "==============================================================================\n"
     ]
    }
   ],
   "source": [
    "exog = df_all[['Bookmarks','Chapters', 'Hits', 'Words','Comments','CompleteDate','PublishDate','JSD']].astype(float).as_matrix()\n",
    "endog = df_all['Kudos'].astype(float).as_matrix()\n",
    "mod_nbin = sm.NegativeBinomial(endog, exog)\n",
    "res_nbin = mod_nbin.fit()\n",
    "print(res_nbin.summary())"
   ]
  },
  {
   "cell_type": "code",
   "execution_count": null,
   "metadata": {
    "collapsed": true
   },
   "outputs": [],
   "source": []
  }
 ],
 "metadata": {
  "anaconda-cloud": {},
  "kernelspec": {
   "display_name": "Python [python35]",
   "language": "python",
   "name": "Python [python35]"
  },
  "language_info": {
   "codemirror_mode": {
    "name": "ipython",
    "version": 3
   },
   "file_extension": ".py",
   "mimetype": "text/x-python",
   "name": "python",
   "nbconvert_exporter": "python",
   "pygments_lexer": "ipython3",
   "version": "3.5.2"
  }
 },
 "nbformat": 4,
 "nbformat_minor": 0
}
