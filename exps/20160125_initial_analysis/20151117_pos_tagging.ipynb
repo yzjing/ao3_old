{
 "cells": [
  {
   "cell_type": "code",
   "execution_count": 1,
   "metadata": {
    "collapsed": true
   },
   "outputs": [],
   "source": [
    "import pandas as pd\n",
    "import re\n",
    "# import gensim\n",
    "from gensim import corpora, models, similarities"
   ]
  },
  {
   "cell_type": "code",
   "execution_count": 12,
   "metadata": {
    "collapsed": true
   },
   "outputs": [],
   "source": [
    "f = './data/ao3_work_sherlock_all_2.csv'"
   ]
  },
  {
   "cell_type": "code",
   "execution_count": 13,
   "metadata": {
    "collapsed": false
   },
   "outputs": [],
   "source": [
    "df = pd.read_csv(f)"
   ]
  },
  {
   "cell_type": "code",
   "execution_count": 14,
   "metadata": {
    "collapsed": false
   },
   "outputs": [
    {
     "data": {
      "text/plain": [
       "array(['Additional_Tags', 'Archive_Warnings', 'Author', 'Bookmarks',\n",
       "       'Category', 'Chapters', 'Characters', 'Comments', 'CompleteDate',\n",
       "       'Fandoms', 'Hits', 'Kudos', 'Language', 'Notes', 'PublishDate',\n",
       "       'Rating', 'Relationship', 'Summary', 'Text', 'Title', 'Words'], dtype=object)"
      ]
     },
     "execution_count": 14,
     "metadata": {},
     "output_type": "execute_result"
    }
   ],
   "source": [
    "df.columns.values"
   ]
  },
  {
   "cell_type": "code",
   "execution_count": 16,
   "metadata": {
    "collapsed": false
   },
   "outputs": [],
   "source": [
    "df_tag_distinct = df.Additional_Tags.drop_duplicates()"
   ]
  },
  {
   "cell_type": "code",
   "execution_count": 17,
   "metadata": {
    "collapsed": false
   },
   "outputs": [],
   "source": [
    "tags = []\n",
    "for i in df_tag_distinct:\n",
    "    j = str(i).split(',')\n",
    "    for k in j:\n",
    "        if 'Sherlock' in k:\n",
    "            tags.append(k)\n",
    "with open ('/Users/jingy/Desktop/sherlock_tags_all','a') as g:\n",
    "    for i in tags:\n",
    "        g.write(i)\n",
    "        g.write('\\n')"
   ]
  },
  {
   "cell_type": "code",
   "execution_count": 19,
   "metadata": {
    "collapsed": false
   },
   "outputs": [
    {
     "data": {
      "text/html": [
       "<div>\n",
       "<table border=\"1\" class=\"dataframe\">\n",
       "  <thead>\n",
       "    <tr style=\"text-align: right;\">\n",
       "      <th></th>\n",
       "      <th>Additional_Tags</th>\n",
       "      <th>Archive_Warnings</th>\n",
       "      <th>Author</th>\n",
       "      <th>Bookmarks</th>\n",
       "      <th>Category</th>\n",
       "      <th>Chapters</th>\n",
       "      <th>Characters</th>\n",
       "      <th>Comments</th>\n",
       "      <th>CompleteDate</th>\n",
       "      <th>Fandoms</th>\n",
       "      <th>...</th>\n",
       "      <th>Kudos</th>\n",
       "      <th>Language</th>\n",
       "      <th>Notes</th>\n",
       "      <th>PublishDate</th>\n",
       "      <th>Rating</th>\n",
       "      <th>Relationship</th>\n",
       "      <th>Summary</th>\n",
       "      <th>Text</th>\n",
       "      <th>Title</th>\n",
       "      <th>Words</th>\n",
       "    </tr>\n",
       "  </thead>\n",
       "  <tbody>\n",
       "    <tr>\n",
       "      <th>82876</th>\n",
       "      <td>Travel, Siblings, Love, Death, Family Issues,...</td>\n",
       "      <td>No Archive Warnings Apply</td>\n",
       "      <td>SilverOcean01</td>\n",
       "      <td>NaN</td>\n",
       "      <td>NaN</td>\n",
       "      <td>19/</td>\n",
       "      <td>Harry Watson, John Watson, Original Female Ch...</td>\n",
       "      <td>2</td>\n",
       "      <td>NaN</td>\n",
       "      <td>Sherlock (TV)</td>\n",
       "      <td>...</td>\n",
       "      <td>1</td>\n",
       "      <td>English</td>\n",
       "      <td>Hello Everyone! So, I've had this idea for awh...</td>\n",
       "      <td>2014-09-24</td>\n",
       "      <td>Teen And Up Audiences</td>\n",
       "      <td>Harry Watson &amp; John Watson, John Watson/Origi...</td>\n",
       "      <td>John's aunt has died and has left it up to him...</td>\n",
       "      <td>AA AAChapter IAA\"John! John! Wake up!\" John Wa...</td>\n",
       "      <td>Bad Case of Lovin' You</td>\n",
       "      <td>20868</td>\n",
       "    </tr>\n",
       "    <tr>\n",
       "      <th>82877</th>\n",
       "      <td>Travel, Siblings, Love, Death, Family Issues,...</td>\n",
       "      <td>No Archive Warnings Apply</td>\n",
       "      <td>SilverOcean01</td>\n",
       "      <td>NaN</td>\n",
       "      <td>NaN</td>\n",
       "      <td>19/</td>\n",
       "      <td>Harry Watson, John Watson, Original Female Ch...</td>\n",
       "      <td>2</td>\n",
       "      <td>NaN</td>\n",
       "      <td>Sherlock (TV)</td>\n",
       "      <td>...</td>\n",
       "      <td>1</td>\n",
       "      <td>English</td>\n",
       "      <td>NaN</td>\n",
       "      <td>2014-09-24</td>\n",
       "      <td>Teen And Up Audiences</td>\n",
       "      <td>Harry Watson &amp; John Watson, John Watson/Origi...</td>\n",
       "      <td>John's aunt has died and has left it up to him...</td>\n",
       "      <td>AChapter IIAJohn woke up to the sound of his s...</td>\n",
       "      <td>Bad Case of Lovin' You</td>\n",
       "      <td>20868</td>\n",
       "    </tr>\n",
       "    <tr>\n",
       "      <th>82878</th>\n",
       "      <td>Travel, Siblings, Love, Death, Family Issues,...</td>\n",
       "      <td>No Archive Warnings Apply</td>\n",
       "      <td>SilverOcean01</td>\n",
       "      <td>NaN</td>\n",
       "      <td>NaN</td>\n",
       "      <td>19/</td>\n",
       "      <td>Harry Watson, John Watson, Original Female Ch...</td>\n",
       "      <td>2</td>\n",
       "      <td>NaN</td>\n",
       "      <td>Sherlock (TV)</td>\n",
       "      <td>...</td>\n",
       "      <td>1</td>\n",
       "      <td>English</td>\n",
       "      <td>NaN</td>\n",
       "      <td>2014-09-24</td>\n",
       "      <td>Teen And Up Audiences</td>\n",
       "      <td>Harry Watson &amp; John Watson, John Watson/Origi...</td>\n",
       "      <td>John's aunt has died and has left it up to him...</td>\n",
       "      <td>AChapter IIIAThe next day passed by much the s...</td>\n",
       "      <td>Bad Case of Lovin' You</td>\n",
       "      <td>20868</td>\n",
       "    </tr>\n",
       "    <tr>\n",
       "      <th>82879</th>\n",
       "      <td>Travel, Siblings, Love, Death, Family Issues,...</td>\n",
       "      <td>No Archive Warnings Apply</td>\n",
       "      <td>SilverOcean01</td>\n",
       "      <td>NaN</td>\n",
       "      <td>NaN</td>\n",
       "      <td>19/</td>\n",
       "      <td>Harry Watson, John Watson, Original Female Ch...</td>\n",
       "      <td>2</td>\n",
       "      <td>NaN</td>\n",
       "      <td>Sherlock (TV)</td>\n",
       "      <td>...</td>\n",
       "      <td>1</td>\n",
       "      <td>English</td>\n",
       "      <td>NaN</td>\n",
       "      <td>2014-09-24</td>\n",
       "      <td>Teen And Up Audiences</td>\n",
       "      <td>Harry Watson &amp; John Watson, John Watson/Origi...</td>\n",
       "      <td>John's aunt has died and has left it up to him...</td>\n",
       "      <td>AChapter IVAJohn awoke to the sound of his sis...</td>\n",
       "      <td>Bad Case of Lovin' You</td>\n",
       "      <td>20868</td>\n",
       "    </tr>\n",
       "    <tr>\n",
       "      <th>82880</th>\n",
       "      <td>Travel, Siblings, Love, Death, Family Issues,...</td>\n",
       "      <td>No Archive Warnings Apply</td>\n",
       "      <td>SilverOcean01</td>\n",
       "      <td>NaN</td>\n",
       "      <td>NaN</td>\n",
       "      <td>19/</td>\n",
       "      <td>Harry Watson, John Watson, Original Female Ch...</td>\n",
       "      <td>2</td>\n",
       "      <td>NaN</td>\n",
       "      <td>Sherlock (TV)</td>\n",
       "      <td>...</td>\n",
       "      <td>1</td>\n",
       "      <td>English</td>\n",
       "      <td>NaN</td>\n",
       "      <td>2014-09-24</td>\n",
       "      <td>Teen And Up Audiences</td>\n",
       "      <td>Harry Watson &amp; John Watson, John Watson/Origi...</td>\n",
       "      <td>John's aunt has died and has left it up to him...</td>\n",
       "      <td>AChapter VAThe rest of dinner was magnificent....</td>\n",
       "      <td>Bad Case of Lovin' You</td>\n",
       "      <td>20868</td>\n",
       "    </tr>\n",
       "  </tbody>\n",
       "</table>\n",
       "<p>5 rows × 21 columns</p>\n",
       "</div>"
      ],
      "text/plain": [
       "                                         Additional_Tags  \\\n",
       "82876   Travel, Siblings, Love, Death, Family Issues,...   \n",
       "82877   Travel, Siblings, Love, Death, Family Issues,...   \n",
       "82878   Travel, Siblings, Love, Death, Family Issues,...   \n",
       "82879   Travel, Siblings, Love, Death, Family Issues,...   \n",
       "82880   Travel, Siblings, Love, Death, Family Issues,...   \n",
       "\n",
       "                 Archive_Warnings         Author Bookmarks Category Chapters  \\\n",
       "82876   No Archive Warnings Apply  SilverOcean01       NaN      NaN      19/   \n",
       "82877   No Archive Warnings Apply  SilverOcean01       NaN      NaN      19/   \n",
       "82878   No Archive Warnings Apply  SilverOcean01       NaN      NaN      19/   \n",
       "82879   No Archive Warnings Apply  SilverOcean01       NaN      NaN      19/   \n",
       "82880   No Archive Warnings Apply  SilverOcean01       NaN      NaN      19/   \n",
       "\n",
       "                                              Characters Comments  \\\n",
       "82876   Harry Watson, John Watson, Original Female Ch...        2   \n",
       "82877   Harry Watson, John Watson, Original Female Ch...        2   \n",
       "82878   Harry Watson, John Watson, Original Female Ch...        2   \n",
       "82879   Harry Watson, John Watson, Original Female Ch...        2   \n",
       "82880   Harry Watson, John Watson, Original Female Ch...        2   \n",
       "\n",
       "      CompleteDate        Fandoms  ...   Kudos         Language  \\\n",
       "82876          NaN  Sherlock (TV)  ...       1          English   \n",
       "82877          NaN  Sherlock (TV)  ...       1          English   \n",
       "82878          NaN  Sherlock (TV)  ...       1          English   \n",
       "82879          NaN  Sherlock (TV)  ...       1          English   \n",
       "82880          NaN  Sherlock (TV)  ...       1          English   \n",
       "\n",
       "                                                   Notes PublishDate  \\\n",
       "82876  Hello Everyone! So, I've had this idea for awh...  2014-09-24   \n",
       "82877                                                NaN  2014-09-24   \n",
       "82878                                                NaN  2014-09-24   \n",
       "82879                                                NaN  2014-09-24   \n",
       "82880                                                NaN  2014-09-24   \n",
       "\n",
       "                       Rating  \\\n",
       "82876   Teen And Up Audiences   \n",
       "82877   Teen And Up Audiences   \n",
       "82878   Teen And Up Audiences   \n",
       "82879   Teen And Up Audiences   \n",
       "82880   Teen And Up Audiences   \n",
       "\n",
       "                                            Relationship  \\\n",
       "82876   Harry Watson & John Watson, John Watson/Origi...   \n",
       "82877   Harry Watson & John Watson, John Watson/Origi...   \n",
       "82878   Harry Watson & John Watson, John Watson/Origi...   \n",
       "82879   Harry Watson & John Watson, John Watson/Origi...   \n",
       "82880   Harry Watson & John Watson, John Watson/Origi...   \n",
       "\n",
       "                                                 Summary  \\\n",
       "82876  John's aunt has died and has left it up to him...   \n",
       "82877  John's aunt has died and has left it up to him...   \n",
       "82878  John's aunt has died and has left it up to him...   \n",
       "82879  John's aunt has died and has left it up to him...   \n",
       "82880  John's aunt has died and has left it up to him...   \n",
       "\n",
       "                                                    Text  \\\n",
       "82876  AA AAChapter IAA\"John! John! Wake up!\" John Wa...   \n",
       "82877  AChapter IIAJohn woke up to the sound of his s...   \n",
       "82878  AChapter IIIAThe next day passed by much the s...   \n",
       "82879  AChapter IVAJohn awoke to the sound of his sis...   \n",
       "82880  AChapter VAThe rest of dinner was magnificent....   \n",
       "\n",
       "                        Title  Words  \n",
       "82876  Bad Case of Lovin' You  20868  \n",
       "82877  Bad Case of Lovin' You  20868  \n",
       "82878  Bad Case of Lovin' You  20868  \n",
       "82879  Bad Case of Lovin' You  20868  \n",
       "82880  Bad Case of Lovin' You  20868  \n",
       "\n",
       "[5 rows x 21 columns]"
      ]
     },
     "execution_count": 19,
     "metadata": {},
     "output_type": "execute_result"
    }
   ],
   "source": [
    "df.tail()"
   ]
  },
  {
   "cell_type": "code",
   "execution_count": 50,
   "metadata": {
    "collapsed": false
   },
   "outputs": [],
   "source": [
    "text = df.Text"
   ]
  },
  {
   "cell_type": "code",
   "execution_count": 52,
   "metadata": {
    "collapsed": false
   },
   "outputs": [],
   "source": [
    "text = text.split('.')"
   ]
  },
  {
   "cell_type": "code",
   "execution_count": 53,
   "metadata": {
    "collapsed": false
   },
   "outputs": [],
   "source": [
    "text_s = [i for i in text if 'Sherlock' in i]"
   ]
  },
  {
   "cell_type": "code",
   "execution_count": 20,
   "metadata": {
    "collapsed": true
   },
   "outputs": [],
   "source": [
    "import nltk"
   ]
  },
  {
   "cell_type": "code",
   "execution_count": 31,
   "metadata": {
    "collapsed": false
   },
   "outputs": [],
   "source": [
    "from nltk.tag.stanford import POSTagger\n",
    "st = POSTagger('/Users/jingy/Desktop/stanford-postagger-2014-08-27/models/english-left3words-distsim.tagger',\\\n",
    "               '/Users/jingy/Desktop/stanford-postagger-2014-08-27/stanford-postagger-3.4.1.jar')"
   ]
  },
  {
   "cell_type": "code",
   "execution_count": 55,
   "metadata": {
    "collapsed": false
   },
   "outputs": [
    {
     "data": {
      "text/plain": [
       "[(u'Sherlock', u'NNP'),\n",
       " (u'was', u'VBD'),\n",
       " (u'never', u'RB'),\n",
       " (u'one', u'CD'),\n",
       " (u'for', u'IN'),\n",
       " (u'crying', u'VBG'),\n",
       " (u'but', u'CC'),\n",
       " (u'this', u'DT'),\n",
       " (u'new', u'JJ'),\n",
       " (u'form', u'NN'),\n",
       " (u'of', u'IN'),\n",
       " (u'torture', u'VB'),\n",
       " (u'was', u'VBD'),\n",
       " (u'a', u'DT'),\n",
       " (u'new', u'JJ'),\n",
       " (u'all', u'DT'),\n",
       " (u'time', u'NN'),\n",
       " (u'low', u'JJ'),\n",
       " (u'for', u'IN'),\n",
       " (u'Moriarty', u'NNP')]"
      ]
     },
     "execution_count": 55,
     "metadata": {},
     "output_type": "execute_result"
    }
   ],
   "source": [
    "st.tag(text[0].split(' '))\n",
    "\n",
    "'Sherlock was never one for crying but this new form of torture was a new all time low for Moriarty',"
   ]
  }
 ],
 "metadata": {
  "kernelspec": {
   "display_name": "Python 2",
   "language": "python",
   "name": "python2"
  },
  "language_info": {
   "codemirror_mode": {
    "name": "ipython",
    "version": 2
   },
   "file_extension": ".py",
   "mimetype": "text/x-python",
   "name": "python",
   "nbconvert_exporter": "python",
   "pygments_lexer": "ipython2",
   "version": "2.7.11"
  }
 },
 "nbformat": 4,
 "nbformat_minor": 0
}
