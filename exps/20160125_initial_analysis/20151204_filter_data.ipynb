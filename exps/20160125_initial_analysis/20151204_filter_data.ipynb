{
 "cells": [
  {
   "cell_type": "code",
   "execution_count": 2,
   "metadata": {
    "collapsed": false
   },
   "outputs": [],
   "source": [
    "import pandas as pd\n",
    "import matplotlib.pyplot as plt\n",
    "%matplotlib inline \n",
    "from collections import Counter"
   ]
  },
  {
   "cell_type": "code",
   "execution_count": 2,
   "metadata": {
    "collapsed": false
   },
   "outputs": [],
   "source": [
    "f1 = '../data/sherlock_part1.csv'\n",
    "f2 = '../data/sherlock_part2.csv'\n",
    "f3 = '../data/sherlock_part3.csv'\n",
    "f4 = '../data/sherlock_part4.csv'"
   ]
  },
  {
   "cell_type": "code",
   "execution_count": 3,
   "metadata": {
    "collapsed": false
   },
   "outputs": [
    {
     "name": "stderr",
     "output_type": "stream",
     "text": [
      "/Users/jingy/anaconda/lib/python2.7/site-packages/pandas/io/parsers.py:1170: DtypeWarning: Columns (3,7,10,11,20) have mixed types. Specify dtype option on import or set low_memory=False.\n",
      "  data = self._reader.read(nrows)\n"
     ]
    }
   ],
   "source": [
    "df1 = pd.read_csv(f1)\n",
    "df2 = pd.read_csv(f2)\n",
    "df3 = pd.read_csv(f3)\n",
    "df4 = pd.read_csv(f4)\n",
    "df = pd.concat([df1, df2, df3, df4])"
   ]
  },
  {
   "cell_type": "code",
   "execution_count": 4,
   "metadata": {
    "collapsed": false
   },
   "outputs": [],
   "source": [
    "df = df.drop_duplicates()\n",
    "df = df[df.Language.str.contains('English').fillna(False)]"
   ]
  },
  {
   "cell_type": "code",
   "execution_count": 6,
   "metadata": {
    "collapsed": false
   },
   "outputs": [],
   "source": [
    "df.to_csv('../data/sherlock_current_wtext.csv', index = False)"
   ]
  },
  {
   "cell_type": "code",
   "execution_count": 114,
   "metadata": {
    "collapsed": false
   },
   "outputs": [],
   "source": [
    "df_f = df.drop_duplicates(subset = ['Additional_Tags', 'Archive_Warnings', 'Author', 'Bookmarks',\n",
    "       'Category', 'Chapters', 'Characters', 'Comments', \n",
    "       'Fandoms', 'Hits', 'Kudos', 'Language', 'PublishDate',\n",
    "       'Rating', 'Relationship', 'Summary', 'Title', 'Words'])"
   ]
  },
  {
   "cell_type": "code",
   "execution_count": 115,
   "metadata": {
    "collapsed": false
   },
   "outputs": [
    {
     "data": {
      "text/plain": [
       "75694"
      ]
     },
     "execution_count": 115,
     "metadata": {},
     "output_type": "execute_result"
    }
   ],
   "source": [
    "len(df_f)"
   ]
  },
  {
   "cell_type": "code",
   "execution_count": 116,
   "metadata": {
    "collapsed": false
   },
   "outputs": [],
   "source": [
    "df_f = df_f[['Additional_Tags', 'Archive_Warnings', 'Author', 'Category', 'Characters', 'Comments',\\\n",
    "          'CompleteDate', 'Fandoms', 'Hits', 'Kudos','PublishDate','Rating','Relationship','Title','Words']]"
   ]
  },
  {
   "cell_type": "code",
   "execution_count": 117,
   "metadata": {
    "collapsed": false
   },
   "outputs": [
    {
     "data": {
      "text/plain": [
       "75694"
      ]
     },
     "execution_count": 117,
     "metadata": {},
     "output_type": "execute_result"
    }
   ],
   "source": [
    "len(df_f)"
   ]
  },
  {
   "cell_type": "code",
   "execution_count": 122,
   "metadata": {
    "collapsed": true
   },
   "outputs": [],
   "source": [
    "df_f.to_csv('../data/sherlock_current.csv', index = False)"
   ]
  },
  {
   "cell_type": "code",
   "execution_count": 3,
   "metadata": {
    "collapsed": false
   },
   "outputs": [],
   "source": [
    "df = pd.read_csv('../data/sherlock_current.csv')"
   ]
  },
  {
   "cell_type": "code",
   "execution_count": 5,
   "metadata": {
    "collapsed": false
   },
   "outputs": [
    {
     "data": {
      "text/plain": [
       "75694"
      ]
     },
     "execution_count": 5,
     "metadata": {},
     "output_type": "execute_result"
    }
   ],
   "source": [
    "len(df)"
   ]
  },
  {
   "cell_type": "code",
   "execution_count": 9,
   "metadata": {
    "collapsed": true
   },
   "outputs": [],
   "source": [
    "df = df[df.Rating != ' Explicit']"
   ]
  },
  {
   "cell_type": "code",
   "execution_count": 12,
   "metadata": {
    "collapsed": true
   },
   "outputs": [],
   "source": [
    "df = df[df.Rating != ' Mature']"
   ]
  },
  {
   "cell_type": "code",
   "execution_count": 13,
   "metadata": {
    "collapsed": false
   },
   "outputs": [
    {
     "data": {
      "text/plain": [
       "53100"
      ]
     },
     "execution_count": 13,
     "metadata": {},
     "output_type": "execute_result"
    }
   ],
   "source": [
    "len(df)"
   ]
  },
  {
   "cell_type": "code",
   "execution_count": 15,
   "metadata": {
    "collapsed": false
   },
   "outputs": [],
   "source": [
    "df.to_csv('../data/sherlock_current_clean.csv', index = False)"
   ]
  },
  {
   "cell_type": "code",
   "execution_count": 10,
   "metadata": {
    "collapsed": false
   },
   "outputs": [
    {
     "data": {
      "text/html": [
       "<div>\n",
       "<table border=\"1\" class=\"dataframe\">\n",
       "  <thead>\n",
       "    <tr style=\"text-align: right;\">\n",
       "      <th></th>\n",
       "      <th>Additional_Tags</th>\n",
       "      <th>Archive_Warnings</th>\n",
       "      <th>Author</th>\n",
       "      <th>Category</th>\n",
       "      <th>Characters</th>\n",
       "      <th>Comments</th>\n",
       "      <th>CompleteDate</th>\n",
       "      <th>Fandoms</th>\n",
       "      <th>Hits</th>\n",
       "      <th>Kudos</th>\n",
       "      <th>PublishDate</th>\n",
       "      <th>Rating</th>\n",
       "      <th>Relationship</th>\n",
       "      <th>Title</th>\n",
       "      <th>Words</th>\n",
       "    </tr>\n",
       "  </thead>\n",
       "  <tbody>\n",
       "    <tr>\n",
       "      <th>0</th>\n",
       "      <td>zombie apocalypse AU, a bit like The Walking ...</td>\n",
       "      <td>Creator Chose Not To Use Archive Warnings</td>\n",
       "      <td>thewallflower07</td>\n",
       "      <td>NaN</td>\n",
       "      <td>Sherlock Holmes, John Watson, Molly Hooper, G...</td>\n",
       "      <td>2</td>\n",
       "      <td>NaN</td>\n",
       "      <td>Sherlock (TV)</td>\n",
       "      <td>280</td>\n",
       "      <td>23</td>\n",
       "      <td>2015-11-07</td>\n",
       "      <td>Teen And Up Audiences</td>\n",
       "      <td>Sherlock Holmes&amp; John Watson, Molly Hooper/Gr...</td>\n",
       "      <td>The End of the World</td>\n",
       "      <td>2468</td>\n",
       "    </tr>\n",
       "    <tr>\n",
       "      <th>2</th>\n",
       "      <td>Hurt, Angst, Post-His Last Vow, AU, Post-Seas...</td>\n",
       "      <td>Graphic Depictions Of Violence, Rape/Non-Con</td>\n",
       "      <td>MelMey</td>\n",
       "      <td>NaN</td>\n",
       "      <td>Sherlock Holmes, Mycroft Holmes, John Watson,...</td>\n",
       "      <td>72</td>\n",
       "      <td>NaN</td>\n",
       "      <td>Sherlock (TV)Sherlock Holmes &amp; Related Fandoms</td>\n",
       "      <td>4068</td>\n",
       "      <td>179</td>\n",
       "      <td>2015-05-18</td>\n",
       "      <td>Mature</td>\n",
       "      <td>Sherlock Holmes/Victor Trevor</td>\n",
       "      <td>Not what he expected</td>\n",
       "      <td>64394</td>\n",
       "    </tr>\n",
       "    <tr>\n",
       "      <th>3</th>\n",
       "      <td>NaN</td>\n",
       "      <td>No Archive Warnings Apply</td>\n",
       "      <td>Trishkafibble</td>\n",
       "      <td>M/M</td>\n",
       "      <td>NaN</td>\n",
       "      <td>NaN</td>\n",
       "      <td>NaN</td>\n",
       "      <td>Sherlock (TV)</td>\n",
       "      <td>70</td>\n",
       "      <td>3</td>\n",
       "      <td>2015-11-07</td>\n",
       "      <td>General Audiences</td>\n",
       "      <td>NaN</td>\n",
       "      <td>Cover Art: For A Price</td>\n",
       "      <td>0</td>\n",
       "    </tr>\n",
       "    <tr>\n",
       "      <th>4</th>\n",
       "      <td>Fluff, Crack, Cats</td>\n",
       "      <td>No Archive Warnings Apply</td>\n",
       "      <td>wendymarlowe</td>\n",
       "      <td>Gen</td>\n",
       "      <td>Greg Lestrade, Sally Donovan, John Watson, Sh...</td>\n",
       "      <td>32</td>\n",
       "      <td>NaN</td>\n",
       "      <td>Sherlock (TV)</td>\n",
       "      <td>867</td>\n",
       "      <td>205</td>\n",
       "      <td>2015-11-07</td>\n",
       "      <td>Teen And Up Audiences</td>\n",
       "      <td>NaN</td>\n",
       "      <td>A Cat Called Sherlock</td>\n",
       "      <td>1065</td>\n",
       "    </tr>\n",
       "    <tr>\n",
       "      <th>7</th>\n",
       "      <td>Johnlock Fluff</td>\n",
       "      <td>Creator Chose Not To Use Archive Warnings</td>\n",
       "      <td>notjustmom</td>\n",
       "      <td>M/M</td>\n",
       "      <td>Sherlock Holmes, John Watson</td>\n",
       "      <td>6</td>\n",
       "      <td>NaN</td>\n",
       "      <td>Sherlock (TV)</td>\n",
       "      <td>215</td>\n",
       "      <td>15</td>\n",
       "      <td>2015-11-07</td>\n",
       "      <td>Mature</td>\n",
       "      <td>Sherlock Holmes/John Watson</td>\n",
       "      <td>Marmoreal</td>\n",
       "      <td>554</td>\n",
       "    </tr>\n",
       "  </tbody>\n",
       "</table>\n",
       "</div>"
      ],
      "text/plain": [
       "                                     Additional_Tags  \\\n",
       "0   zombie apocalypse AU, a bit like The Walking ...   \n",
       "2   Hurt, Angst, Post-His Last Vow, AU, Post-Seas...   \n",
       "3                                                NaN   \n",
       "4                                 Fluff, Crack, Cats   \n",
       "7                                     Johnlock Fluff   \n",
       "\n",
       "                                Archive_Warnings           Author Category  \\\n",
       "0      Creator Chose Not To Use Archive Warnings  thewallflower07      NaN   \n",
       "2   Graphic Depictions Of Violence, Rape/Non-Con           MelMey      NaN   \n",
       "3                      No Archive Warnings Apply    Trishkafibble      M/M   \n",
       "4                      No Archive Warnings Apply     wendymarlowe      Gen   \n",
       "7      Creator Chose Not To Use Archive Warnings       notjustmom      M/M   \n",
       "\n",
       "                                          Characters  Comments CompleteDate  \\\n",
       "0   Sherlock Holmes, John Watson, Molly Hooper, G...         2          NaN   \n",
       "2   Sherlock Holmes, Mycroft Holmes, John Watson,...        72          NaN   \n",
       "3                                                NaN       NaN          NaN   \n",
       "4   Greg Lestrade, Sally Donovan, John Watson, Sh...        32          NaN   \n",
       "7                       Sherlock Holmes, John Watson         6          NaN   \n",
       "\n",
       "                                          Fandoms  Hits  Kudos PublishDate  \\\n",
       "0                                   Sherlock (TV)   280     23  2015-11-07   \n",
       "2  Sherlock (TV)Sherlock Holmes & Related Fandoms  4068    179  2015-05-18   \n",
       "3                                   Sherlock (TV)    70      3  2015-11-07   \n",
       "4                                   Sherlock (TV)   867    205  2015-11-07   \n",
       "7                                   Sherlock (TV)   215     15  2015-11-07   \n",
       "\n",
       "                   Rating                                       Relationship  \\\n",
       "0   Teen And Up Audiences   Sherlock Holmes& John Watson, Molly Hooper/Gr...   \n",
       "2                  Mature                      Sherlock Holmes/Victor Trevor   \n",
       "3       General Audiences                                                NaN   \n",
       "4   Teen And Up Audiences                                                NaN   \n",
       "7                  Mature                        Sherlock Holmes/John Watson   \n",
       "\n",
       "                    Title  Words  \n",
       "0    The End of the World   2468  \n",
       "2    Not what he expected  64394  \n",
       "3  Cover Art: For A Price      0  \n",
       "4   A Cat Called Sherlock   1065  \n",
       "7               Marmoreal    554  "
      ]
     },
     "execution_count": 10,
     "metadata": {},
     "output_type": "execute_result"
    }
   ],
   "source": [
    "df.head()"
   ]
  }
 ],
 "metadata": {
  "anaconda-cloud": {},
  "kernelspec": {
   "display_name": "Python 2",
   "language": "python",
   "name": "python2"
  },
  "language_info": {
   "codemirror_mode": {
    "name": "ipython",
    "version": 2
   },
   "file_extension": ".py",
   "mimetype": "text/x-python",
   "name": "python",
   "nbconvert_exporter": "python",
   "pygments_lexer": "ipython2",
   "version": "2.7.11"
  }
 },
 "nbformat": 4,
 "nbformat_minor": 0
}
