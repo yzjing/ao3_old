{
 "cells": [
  {
   "cell_type": "code",
   "execution_count": 1,
   "metadata": {},
   "outputs": [],
   "source": [
    "import pandas as pd\n",
    "import os\n",
    "import matplotlib.pyplot as plt\n",
    "%matplotlib inline\n",
    "import numpy as np\n",
    "import seaborn as sns\n",
    "from statsmodels.formula.api import ols\n",
    "import statsmodels.api as sm\n",
    "from sklearn.linear_model import LogisticRegression"
   ]
  },
  {
   "cell_type": "code",
   "execution_count": 62,
   "metadata": {},
   "outputs": [],
   "source": [
    "df_high = pd.read_csv('../../data/top_Cos_novelty_regression.tsv', sep = '\\t')\n",
    "df_low = pd.read_csv('../../data/tail_Cos_novelty_regression.tsv', sep = '\\t')"
   ]
  },
  {
   "cell_type": "code",
   "execution_count": 63,
   "metadata": {},
   "outputs": [
    {
     "data": {
      "text/plain": [
       "(5038, 5038)"
      ]
     },
     "execution_count": 63,
     "metadata": {},
     "output_type": "execute_result"
    }
   ],
   "source": [
    "len(df_high), len(df_low)"
   ]
  },
  {
   "cell_type": "markdown",
   "metadata": {},
   "source": [
    "### Logistic"
   ]
  },
  {
   "cell_type": "code",
   "execution_count": 64,
   "metadata": {},
   "outputs": [],
   "source": [
    "# def run_logit(df, field):\n",
    "#     df['Intercept'] = 1.0\n",
    "#     df['binary'] = df[field].apply(lambda x: 1 if x != 0.0 else 0)\n",
    "#     logit_model = sm.Logit(df['binary'], df[[ 'Topic_entropy','Sentiment',\\\n",
    "#                 'ArchiveWarnings_underage', 'ArchiveWarnings_death',\\\n",
    "#                 'ArchiveWarnings_no_apply', 'ArchiveWarnings_violence',\\\n",
    "#                 'ArchiveWarnings_noncon','Rating_E','Rating_G','Rating_M',\\\n",
    "#                 'Rating_T','Category_F_F','Category_F_M','Category_Gen','Category_M_M',\\\n",
    "#                 'Category_Multi','Category_Other','Freq_relationship',\\\n",
    "#                 'ChapterIndex','Chapters','Words', \\\n",
    "#        'Fandom_harry_potter','Fandom_dcu','Fandom_doctor_who', \\\n",
    "#        'Fandom_star_wars','Fandom_arthurian','Fandom_supernatural',\\\n",
    "#        'Fandom_haikyuu','Fandom_kuroko_no_basuke',\\\n",
    "#        'Fandom_hamilton_miranda','Fandom_dragon_age',\\\n",
    "#        'Fandom_the_walking_dead','Fandom_buffy','Fandom_les_miserables',\\\n",
    "#        'Fandom_naruto','Fandom_tolkien','Fandom_shakespare',\\\n",
    "#        'Fandom_hetalia','Fandom_attack_on_titan',\\\n",
    "#        'Fandom_ms_paint_adventures','Fandom_marvel',\\\n",
    "#        'Fandom_sailor_moon','Fandom_sherlock',\\\n",
    "#         'Intercept']]).fit(method='bfgs')\n",
    "#     pred = logit_model.predict()\n",
    "#     df['nonzero_prob'] = pred\n",
    "#     return df"
   ]
  },
  {
   "cell_type": "code",
   "execution_count": 65,
   "metadata": {},
   "outputs": [
    {
     "data": {
      "text/plain": [
       "array(['index', 'AdditionalTags', 'Author', 'Bookmarks', 'Chapters',\n",
       "       'Characters', 'Hits', 'Kudos', 'Language', 'Title', 'Words',\n",
       "       'Comments', 'URL', 'Term_novelty', 'Entropy', 'Text', 'Dist',\n",
       "       'Topic_novelty', 'Freq_relationship', 'Topic_entropy', 'Sentiment',\n",
       "       'Word_vectors', 'Category_F_F', 'Category_F_M', 'Category_Gen',\n",
       "       'Category_M_M', 'Category_Multi', 'Category_Other',\n",
       "       'Category_Unknown', 'ArchiveWarnings_underage',\n",
       "       'ArchiveWarnings_death', 'ArchiveWarnings_choose_no',\n",
       "       'ArchiveWarnings_no_apply', 'ArchiveWarnings_violence',\n",
       "       'ArchiveWarnings_noncon', 'Rating_E', 'Rating_G', 'Rating_M',\n",
       "       'Rating_N', 'Rating_T', 'Fandom_harry_potter', 'Fandom_dcu',\n",
       "       'Fandom_doctor_who', 'Fandom_star_wars', 'Fandom_arthurian',\n",
       "       'Fandom_supernatural', 'Fandom_haikyuu', 'Fandom_kuroko_no_basuke',\n",
       "       'Fandom_hamilton_miranda', 'Fandom_dragon_age',\n",
       "       'Fandom_the_walking_dead', 'Fandom_buffy', 'Fandom_les_miserables',\n",
       "       'Fandom_naruto', 'Fandom_tolkien', 'Fandom_shakespare',\n",
       "       'Fandom_hetalia', 'Fandom_attack_on_titan',\n",
       "       'Fandom_ms_paint_adventures', 'Fandom_marvel',\n",
       "       'Fandom_sailor_moon', 'Fandom_one_direction', 'Fandom_sherlock',\n",
       "       'History'], dtype=object)"
      ]
     },
     "execution_count": 65,
     "metadata": {},
     "output_type": "execute_result"
    }
   ],
   "source": [
    "df.columns.values"
   ]
  },
  {
   "cell_type": "markdown",
   "metadata": {},
   "source": [
    "### OLS"
   ]
  },
  {
   "cell_type": "code",
   "execution_count": 66,
   "metadata": {},
   "outputs": [],
   "source": [
    "\n",
    "def run_ols(df, field):\n",
    "    df = df[df[field] != 0]\n",
    "    df['Kudos'] = np.log(df['Kudos'])\n",
    "    df['Hits'] = np.log(df['Hits'])\n",
    "    df['Comments'] = np.log(df['Comments'])\n",
    "    df['Bookmarks'] = np.log(df['Bookmarks'])\n",
    "    df = df.replace([np.inf, -np.inf], np.nan)\n",
    "    df = df.dropna(how = 'any')\n",
    "    model = ols( field + \" ~ + Topic_entropy + Entropy + Sentiment + Words + \\\n",
    "                ArchiveWarnings_underage + ArchiveWarnings_death + \\\n",
    "                ArchiveWarnings_no_apply + ArchiveWarnings_violence + \\\n",
    "                ArchiveWarnings_noncon + Rating_E + Rating_G + Rating_M + \\\n",
    "                Rating_T + Category_F_F + Category_F_M + Category_Gen + Category_M_M + \\\n",
    "                Category_Multi + Category_Other + Freq_relationship + \\\n",
    "        Fandom_harry_potter + Fandom_dcu + Fandom_doctor_who + \\\n",
    "       Fandom_star_wars + Fandom_arthurian + Fandom_supernatural +\\\n",
    "       Fandom_haikyuu + Fandom_kuroko_no_basuke + \\\n",
    "       Fandom_hamilton_miranda + Fandom_dragon_age +\\\n",
    "       Fandom_the_walking_dead + Fandom_buffy + Fandom_les_miserables +\\\n",
    "       Fandom_naruto + Fandom_tolkien + Fandom_shakespare + \\\n",
    "       Fandom_hetalia + Fandom_attack_on_titan +\\\n",
    "       Fandom_ms_paint_adventures + Fandom_marvel +\\\n",
    "       Fandom_sailor_moon + Fandom_sherlock\", data = df).fit()\n",
    "    return model"
   ]
  },
  {
   "cell_type": "markdown",
   "metadata": {},
   "source": [
    "### Plot coefficients"
   ]
  },
  {
   "cell_type": "code",
   "execution_count": 67,
   "metadata": {},
   "outputs": [
    {
     "name": "stderr",
     "output_type": "stream",
     "text": [
      "/anaconda3/envs/python36/lib/python3.6/site-packages/ipykernel_launcher.py:4: SettingWithCopyWarning: \n",
      "A value is trying to be set on a copy of a slice from a DataFrame.\n",
      "Try using .loc[row_indexer,col_indexer] = value instead\n",
      "\n",
      "See the caveats in the documentation: http://pandas.pydata.org/pandas-docs/stable/user_guide/indexing.html#returning-a-view-versus-a-copy\n",
      "  after removing the cwd from sys.path.\n",
      "/anaconda3/envs/python36/lib/python3.6/site-packages/pandas/core/series.py:853: RuntimeWarning: divide by zero encountered in log\n",
      "  result = getattr(ufunc, method)(*inputs, **kwargs)\n",
      "/anaconda3/envs/python36/lib/python3.6/site-packages/ipykernel_launcher.py:5: SettingWithCopyWarning: \n",
      "A value is trying to be set on a copy of a slice from a DataFrame.\n",
      "Try using .loc[row_indexer,col_indexer] = value instead\n",
      "\n",
      "See the caveats in the documentation: http://pandas.pydata.org/pandas-docs/stable/user_guide/indexing.html#returning-a-view-versus-a-copy\n",
      "  \"\"\"\n",
      "/anaconda3/envs/python36/lib/python3.6/site-packages/ipykernel_launcher.py:6: SettingWithCopyWarning: \n",
      "A value is trying to be set on a copy of a slice from a DataFrame.\n",
      "Try using .loc[row_indexer,col_indexer] = value instead\n",
      "\n",
      "See the caveats in the documentation: http://pandas.pydata.org/pandas-docs/stable/user_guide/indexing.html#returning-a-view-versus-a-copy\n",
      "  \n",
      "/anaconda3/envs/python36/lib/python3.6/site-packages/ipykernel_launcher.py:7: SettingWithCopyWarning: \n",
      "A value is trying to be set on a copy of a slice from a DataFrame.\n",
      "Try using .loc[row_indexer,col_indexer] = value instead\n",
      "\n",
      "See the caveats in the documentation: http://pandas.pydata.org/pandas-docs/stable/user_guide/indexing.html#returning-a-view-versus-a-copy\n",
      "  import sys\n"
     ]
    }
   ],
   "source": [
    "kudos_model_low = run_ols(df_low, 'Kudos')\n",
    "kudos_coef_low = np.asarray(list(kudos_model_low.params)[1:])\n",
    "kudos_err_low = list(kudos_model_low.bse)[1:]\n",
    "\n",
    "kudos_model_high = run_ols(df_high, 'Kudos')\n",
    "kudos_coef_high = np.asarray(list(kudos_model_high.params)[1:])\n",
    "kudos_err_high = list(kudos_model_high.bse)[1:]"
   ]
  },
  {
   "cell_type": "code",
   "execution_count": 68,
   "metadata": {},
   "outputs": [
    {
     "name": "stderr",
     "output_type": "stream",
     "text": [
      "/anaconda3/envs/python36/lib/python3.6/site-packages/pandas/core/series.py:853: RuntimeWarning: divide by zero encountered in log\n",
      "  result = getattr(ufunc, method)(*inputs, **kwargs)\n",
      "/anaconda3/envs/python36/lib/python3.6/site-packages/ipykernel_launcher.py:4: SettingWithCopyWarning: \n",
      "A value is trying to be set on a copy of a slice from a DataFrame.\n",
      "Try using .loc[row_indexer,col_indexer] = value instead\n",
      "\n",
      "See the caveats in the documentation: http://pandas.pydata.org/pandas-docs/stable/user_guide/indexing.html#returning-a-view-versus-a-copy\n",
      "  after removing the cwd from sys.path.\n",
      "/anaconda3/envs/python36/lib/python3.6/site-packages/ipykernel_launcher.py:5: SettingWithCopyWarning: \n",
      "A value is trying to be set on a copy of a slice from a DataFrame.\n",
      "Try using .loc[row_indexer,col_indexer] = value instead\n",
      "\n",
      "See the caveats in the documentation: http://pandas.pydata.org/pandas-docs/stable/user_guide/indexing.html#returning-a-view-versus-a-copy\n",
      "  \"\"\"\n",
      "/anaconda3/envs/python36/lib/python3.6/site-packages/ipykernel_launcher.py:6: SettingWithCopyWarning: \n",
      "A value is trying to be set on a copy of a slice from a DataFrame.\n",
      "Try using .loc[row_indexer,col_indexer] = value instead\n",
      "\n",
      "See the caveats in the documentation: http://pandas.pydata.org/pandas-docs/stable/user_guide/indexing.html#returning-a-view-versus-a-copy\n",
      "  \n",
      "/anaconda3/envs/python36/lib/python3.6/site-packages/ipykernel_launcher.py:7: SettingWithCopyWarning: \n",
      "A value is trying to be set on a copy of a slice from a DataFrame.\n",
      "Try using .loc[row_indexer,col_indexer] = value instead\n",
      "\n",
      "See the caveats in the documentation: http://pandas.pydata.org/pandas-docs/stable/user_guide/indexing.html#returning-a-view-versus-a-copy\n",
      "  import sys\n"
     ]
    }
   ],
   "source": [
    "hits_model_low = run_ols(df_low, 'Hits')\n",
    "hits_coef_low = np.asarray(list(hits_model_low.params)[1:])\n",
    "hits_err_low = list(hits_model_low.bse)[1:]\n",
    "\n",
    "hits_model_high = run_ols(df_high, 'Hits')\n",
    "hits_coef_high = np.asarray(list(hits_model_high.params)[1:])\n",
    "hits_err_high = list(hits_model_high.bse)[1:]"
   ]
  },
  {
   "cell_type": "code",
   "execution_count": 69,
   "metadata": {},
   "outputs": [
    {
     "name": "stderr",
     "output_type": "stream",
     "text": [
      "/anaconda3/envs/python36/lib/python3.6/site-packages/pandas/core/series.py:853: RuntimeWarning: divide by zero encountered in log\n",
      "  result = getattr(ufunc, method)(*inputs, **kwargs)\n",
      "/anaconda3/envs/python36/lib/python3.6/site-packages/ipykernel_launcher.py:4: SettingWithCopyWarning: \n",
      "A value is trying to be set on a copy of a slice from a DataFrame.\n",
      "Try using .loc[row_indexer,col_indexer] = value instead\n",
      "\n",
      "See the caveats in the documentation: http://pandas.pydata.org/pandas-docs/stable/user_guide/indexing.html#returning-a-view-versus-a-copy\n",
      "  after removing the cwd from sys.path.\n",
      "/anaconda3/envs/python36/lib/python3.6/site-packages/ipykernel_launcher.py:5: SettingWithCopyWarning: \n",
      "A value is trying to be set on a copy of a slice from a DataFrame.\n",
      "Try using .loc[row_indexer,col_indexer] = value instead\n",
      "\n",
      "See the caveats in the documentation: http://pandas.pydata.org/pandas-docs/stable/user_guide/indexing.html#returning-a-view-versus-a-copy\n",
      "  \"\"\"\n",
      "/anaconda3/envs/python36/lib/python3.6/site-packages/ipykernel_launcher.py:6: SettingWithCopyWarning: \n",
      "A value is trying to be set on a copy of a slice from a DataFrame.\n",
      "Try using .loc[row_indexer,col_indexer] = value instead\n",
      "\n",
      "See the caveats in the documentation: http://pandas.pydata.org/pandas-docs/stable/user_guide/indexing.html#returning-a-view-versus-a-copy\n",
      "  \n",
      "/anaconda3/envs/python36/lib/python3.6/site-packages/ipykernel_launcher.py:7: SettingWithCopyWarning: \n",
      "A value is trying to be set on a copy of a slice from a DataFrame.\n",
      "Try using .loc[row_indexer,col_indexer] = value instead\n",
      "\n",
      "See the caveats in the documentation: http://pandas.pydata.org/pandas-docs/stable/user_guide/indexing.html#returning-a-view-versus-a-copy\n",
      "  import sys\n"
     ]
    }
   ],
   "source": [
    "comments_model_low = run_ols(df_low, 'Comments')\n",
    "comments_coef_low = np.asarray(list(comments_model_low.params)[1:])\n",
    "comments_err_low = list(comments_model_low.bse)[1:]\n",
    "\n",
    "comments_model_high = run_ols(df_high, 'Comments')\n",
    "comments_coef_high = np.asarray(list(comments_model_high.params)[1:])\n",
    "comments_err_high = list(comments_model_high.bse)[1:]"
   ]
  },
  {
   "cell_type": "code",
   "execution_count": 70,
   "metadata": {},
   "outputs": [
    {
     "name": "stderr",
     "output_type": "stream",
     "text": [
      "/anaconda3/envs/python36/lib/python3.6/site-packages/pandas/core/series.py:853: RuntimeWarning: divide by zero encountered in log\n",
      "  result = getattr(ufunc, method)(*inputs, **kwargs)\n",
      "/anaconda3/envs/python36/lib/python3.6/site-packages/ipykernel_launcher.py:4: SettingWithCopyWarning: \n",
      "A value is trying to be set on a copy of a slice from a DataFrame.\n",
      "Try using .loc[row_indexer,col_indexer] = value instead\n",
      "\n",
      "See the caveats in the documentation: http://pandas.pydata.org/pandas-docs/stable/user_guide/indexing.html#returning-a-view-versus-a-copy\n",
      "  after removing the cwd from sys.path.\n",
      "/anaconda3/envs/python36/lib/python3.6/site-packages/ipykernel_launcher.py:5: SettingWithCopyWarning: \n",
      "A value is trying to be set on a copy of a slice from a DataFrame.\n",
      "Try using .loc[row_indexer,col_indexer] = value instead\n",
      "\n",
      "See the caveats in the documentation: http://pandas.pydata.org/pandas-docs/stable/user_guide/indexing.html#returning-a-view-versus-a-copy\n",
      "  \"\"\"\n",
      "/anaconda3/envs/python36/lib/python3.6/site-packages/ipykernel_launcher.py:6: SettingWithCopyWarning: \n",
      "A value is trying to be set on a copy of a slice from a DataFrame.\n",
      "Try using .loc[row_indexer,col_indexer] = value instead\n",
      "\n",
      "See the caveats in the documentation: http://pandas.pydata.org/pandas-docs/stable/user_guide/indexing.html#returning-a-view-versus-a-copy\n",
      "  \n",
      "/anaconda3/envs/python36/lib/python3.6/site-packages/ipykernel_launcher.py:7: SettingWithCopyWarning: \n",
      "A value is trying to be set on a copy of a slice from a DataFrame.\n",
      "Try using .loc[row_indexer,col_indexer] = value instead\n",
      "\n",
      "See the caveats in the documentation: http://pandas.pydata.org/pandas-docs/stable/user_guide/indexing.html#returning-a-view-versus-a-copy\n",
      "  import sys\n"
     ]
    }
   ],
   "source": [
    "bookmarks_model_low = run_ols(df_low, 'Bookmarks')\n",
    "bookmarks_coef_low = np.asarray(list(bookmarks_model_low.params)[1:])\n",
    "bookmarks_err_low = list(bookmarks_model_low.bse)[1:]\n",
    "\n",
    "bookmarks_model_high = run_ols(df_high, 'Bookmarks')\n",
    "bookmarks_coef_high = np.asarray(list(bookmarks_model_high.params)[1:])\n",
    "bookmarks_err_high = list(bookmarks_model_high.bse)[1:]"
   ]
  },
  {
   "cell_type": "code",
   "execution_count": null,
   "metadata": {},
   "outputs": [],
   "source": [
    "Topic_entropy + Entropy + Sentiment + Words + \\\n",
    "                ArchiveWarnings_underage + ArchiveWarnings_death + \\\n",
    "                ArchiveWarnings_no_apply + ArchiveWarnings_violence + \\\n",
    "                ArchiveWarnings_noncon + Rating_E + Rating_G + Rating_M + \\\n",
    "                Rating_T + Category_F_F + Category_F_M + Category_Gen + Category_M_M + \\\n",
    "                Category_Multi + Category_Other + Freq_relationship + \\\n",
    "        Fandom_harry_potter + Fandom_dcu + Fandom_doctor_who + \\\n",
    "       Fandom_star_wars + Fandom_arthurian + Fandom_supernatural +\\\n",
    "       Fandom_haikyuu + Fandom_kuroko_no_basuke + \\\n",
    "       Fandom_hamilton_miranda + Fandom_dragon_age +\\\n",
    "       Fandom_the_walking_dead + Fandom_buffy + Fandom_les_miserables +\\\n",
    "       Fandom_naruto + Fandom_tolkien + Fandom_shakespare + \\\n",
    "       Fandom_hetalia + Fandom_attack_on_titan +\\\n",
    "       Fandom_ms_paint_adventures + Fandom_marvel +\\\n",
    "       Fandom_sailor_moon + Fandom_sherlock\""
   ]
  },
  {
   "cell_type": "code",
   "execution_count": 71,
   "metadata": {},
   "outputs": [],
   "source": [
    "ylabels =['Topic_entropy', 'Word_entropy', 'Sentiment', 'Words' , \\\n",
    "                'ArchiveWarnings(underage)', 'ArchiveWarnings(death)', \\\n",
    "                'ArchiveWarnings(no apply)', 'ArchiveWarnings(violence)', \\\n",
    "                'ArchiveWarnings(nonconsensual)' , 'Rating E' , 'Rating G' , 'Rating M' , \\\n",
    "                'Rating T' , 'Category F/F' , 'Category F/M' , 'Category Gen' , 'Category M/M' , \\\n",
    "                'Category Multi' , 'Category Other' , 'Frequent relationship' , \\\n",
    "        'Fandom harry potter' , 'Fandom dcu' , 'Fandom doctor who' , \\\n",
    "       'Fandom star wars' , 'Fandom arthurian' , 'Fandom supernatural' ,\\\n",
    "       'Fandom haikyuu' , 'Fandom kuroko no basuke' , \\\n",
    "       'Fandom hamilton miranda' , 'Fandom dragon age' ,\\\n",
    "       'Fandom the walking dead' , 'Fandom buffy' , 'Fandom les miserables' ,\\\n",
    "       'Fandom naruto' , 'Fandom tolkien' , 'Fandom shakespare' , \\\n",
    "       'Fandom hetalia' , 'Fandom attack on titan' ,\\\n",
    "       'Fandom ms paint adventures' , 'Fandom marvel' ,\\\n",
    "       'Fandom sailor moon' , 'Fandom sherlock'][::-1]"
   ]
  },
  {
   "cell_type": "code",
   "execution_count": 72,
   "metadata": {},
   "outputs": [
    {
     "data": {
      "text/plain": [
       "(42, 42)"
      ]
     },
     "execution_count": 72,
     "metadata": {},
     "output_type": "execute_result"
    }
   ],
   "source": [
    "len(kudos_coef_high), len(ylabels)"
   ]
  },
  {
   "cell_type": "code",
   "execution_count": 73,
   "metadata": {},
   "outputs": [],
   "source": [
    "def plot_ax(ax, coef, err, top_tail_option, xlabel='', ylabel_flag=False):\n",
    "    \n",
    "    ax.errorbar(coef[::-1], range(len(coef)), xerr=err[::-1] , fmt='o', label=top_tail_option)\n",
    "    ax.set_yticks(range(len(coef)))\n",
    "    if ylabel_flag:\n",
    "        ax.set_yticklabels(ylabels, fontsize=15)\n",
    "    else:\n",
    "        ax.set_yticklabels([])\n",
    "\n",
    "    ax.plot([0 for i in range(len(coef)+2)], range(-1,len(coef)+1), c='grey', alpha = 0.7)\n",
    "    # ax[0].plot(range(-8,8), [21.5 for i in range(-8,8)] ,c='grey', alpha = 0.7)\n",
    "    # ax[0].plot(range(-8,8), [25.5 for i in range(-8,8)] ,c='grey', alpha = 0.7)\n",
    "    # ax[0].plot(range(-8,8), [30.5 for i in range(-8,8)] ,c='grey', alpha = 0.7)\n",
    "    # ax[0].plot(range(-8,8), [36.5 for i in range(-8,8)] ,c='grey', alpha = 0.7)\n",
    "    # ax[0].plot(range(-8,8), [39.5 for i in range(-8,8)] ,c='grey', alpha = 0.7)\n",
    "    ax.set_ylim(37.5,len(ylabels))\n",
    "    ax.set_xlim(-2,2)\n",
    "    if xlabel != '':\n",
    "        ax.set_xlabel(xlabel, fontsize=15)\n",
    "    # ax[0].set_title('R-squared = 0.256', fontsize=15)\n",
    "    for tick in ax.yaxis.get_major_ticks():\n",
    "        tick.label.set_fontsize(15)\n",
    "    for tick in ax.xaxis.get_major_ticks():\n",
    "        tick.label.set_fontsize(15)\n",
    "    ax.legend()"
   ]
  },
  {
   "cell_type": "code",
   "execution_count": 74,
   "metadata": {},
   "outputs": [
    {
     "data": {
      "image/png": "[encoded data removed]",
      "text/plain": [
       "<Figure size 1080x360 with 4 Axes>"
      ]
     },
     "metadata": {},
     "output_type": "display_data"
    }
   ],
   "source": [
    "fig, ax = plt.subplots(1,4,figsize = (15,5))\n",
    "plot_ax(ax=ax[0], coef=kudos_coef_high, err=kudos_err_high, top_tail_option='Top term novelty', xlabel='Kudos', ylabel_flag=True)\n",
    "plot_ax(ax=ax[0], coef=kudos_coef_low, err=kudos_err_low, top_tail_option='Tail', ylabel_flag=True)\n",
    ",\n",
    "plot_ax(ax=ax[1], coef=hits_coef_high, err=hits_err_high, xlabel='Hits', top_tail_option='Top')\n",
    "plot_ax(ax=ax[1], coef=hits_coef_low, err=hits_err_low, top_tail_option='Tail')\n",
    "\n",
    "plot_ax(ax=ax[2], coef=comments_coef_high, err=comments_err_high, xlabel='Comments', ylabel_flag=False, top_tail_option='Top')\n",
    "plot_ax(ax=ax[2], coef=comments_coef_low, err=comments_err_low, top_tail_option='Tail')\n",
    "\n",
    "plot_ax(ax=ax[3], coef=bookmarks_coef_high, err=bookmarks_err_high, xlabel='Bookmarks', ylabel_flag=False, top_tail_option='Top')\n",
    "plot_ax(ax=ax[3], coef=bookmarks_coef_low, err=bookmarks_err_low, top_tail_option='Tail')\n",
    "\n",
    "# plt.savefig('ols_coefs_topic_novelty.pdf', format='pdf')"
   ]
  },
  {
   "cell_type": "code",
   "execution_count": 39,
   "metadata": {},
   "outputs": [
    {
     "name": "stdout",
     "output_type": "stream",
     "text": [
      "                            OLS Regression Results                            \n",
      "==============================================================================\n",
      "Dep. Variable:                  Kudos   R-squared:                       0.234\n",
      "Model:                            OLS   Adj. R-squared:                  0.221\n",
      "Method:                 Least Squares   F-statistic:                     17.64\n",
      "Date:                Thu, 30 Jan 2020   Prob (F-statistic):          2.55e-110\n",
      "Time:                        17:11:21   Log-Likelihood:                -3374.0\n",
      "No. Observations:                2462   AIC:                             6834.\n",
      "Df Residuals:                    2419   BIC:                             7084.\n",
      "Df Model:                          42                                         \n",
      "Covariance Type:            nonrobust                                         \n",
      "==============================================================================================\n",
      "                                 coef    std err          t      P>|t|      [0.025      0.975]\n",
      "----------------------------------------------------------------------------------------------\n",
      "Intercept                      1.9735      0.498      3.961      0.000       0.996       2.951\n",
      "Topic_entropy                 -0.0056      0.055     -0.103      0.918      -0.113       0.101\n",
      "Entropy                        0.3076      0.090      3.405      0.001       0.130       0.485\n",
      "Sentiment                     -0.0342      0.086     -0.398      0.691      -0.203       0.134\n",
      "Words                      -1.357e-05   1.73e-06     -7.854      0.000    -1.7e-05   -1.02e-05\n",
      "ArchiveWarnings_underage      -0.0391      0.111     -0.354      0.723      -0.256       0.178\n",
      "ArchiveWarnings_death         -0.6728      0.105     -6.400      0.000      -0.879      -0.467\n",
      "ArchiveWarnings_no_apply       0.1374      0.045      3.046      0.002       0.049       0.226\n",
      "ArchiveWarnings_violence      -0.4081      0.135     -3.019      0.003      -0.673      -0.143\n",
      "ArchiveWarnings_noncon        -0.0477      0.165     -0.289      0.773      -0.372       0.276\n",
      "Rating_E                       0.3436      0.091      3.795      0.000       0.166       0.521\n",
      "Rating_G                       0.0723      0.088      0.818      0.413      -0.101       0.245\n",
      "Rating_M                       0.0292      0.095      0.306      0.759      -0.158       0.216\n",
      "Rating_T                       0.0027      0.087      0.030      0.976      -0.169       0.174\n",
      "Category_F_F                  -0.4196      0.092     -4.560      0.000      -0.600      -0.239\n",
      "Category_F_M                  -0.3538      0.070     -5.073      0.000      -0.491      -0.217\n",
      "Category_Gen                  -0.1369      0.070     -1.948      0.052      -0.275       0.001\n",
      "Category_M_M                   0.0430      0.068      0.633      0.527      -0.090       0.176\n",
      "Category_Multi                -0.4347      0.105     -4.144      0.000      -0.640      -0.229\n",
      "Category_Other                -0.1807      0.127     -1.426      0.154      -0.429       0.068\n",
      "Freq_relationship              0.2755      0.043      6.368      0.000       0.191       0.360\n",
      "Fandom_harry_potter            0.2730      0.140      1.948      0.052      -0.002       0.548\n",
      "Fandom_dcu                     0.2786      0.136      2.053      0.040       0.013       0.545\n",
      "Fandom_doctor_who             -0.2951      0.144     -2.047      0.041      -0.578      -0.012\n",
      "Fandom_star_wars               0.5414      0.170      3.179      0.001       0.207       0.875\n",
      "Fandom_arthurian              -0.1337      0.137     -0.975      0.330      -0.402       0.135\n",
      "Fandom_supernatural            0.0347      0.136      0.256      0.798      -0.231       0.301\n",
      "Fandom_haikyuu                 0.6217      0.158      3.928      0.000       0.311       0.932\n",
      "Fandom_kuroko_no_basuke        0.2749      0.148      1.863      0.063      -0.014       0.564\n",
      "Fandom_hamilton_miranda        0.1311      0.447      0.293      0.769      -0.745       1.007\n",
      "Fandom_dragon_age             -0.0676      0.147     -0.459      0.646      -0.357       0.221\n",
      "Fandom_the_walking_dead        0.2482      0.153      1.627      0.104      -0.051       0.547\n",
      "Fandom_buffy                  -0.8497      0.171     -4.966      0.000      -1.185      -0.514\n",
      "Fandom_les_miserables         -0.2457      0.163     -1.508      0.132      -0.565       0.074\n",
      "Fandom_naruto                  0.0139      0.151      0.092      0.927      -0.283       0.311\n",
      "Fandom_tolkien                -0.0517      0.148     -0.350      0.727      -0.342       0.238\n",
      "Fandom_shakespare             -0.1763      0.412     -0.428      0.669      -0.985       0.632\n",
      "Fandom_hetalia                -0.3742      0.152     -2.463      0.014      -0.672      -0.076\n",
      "Fandom_attack_on_titan        -0.4100      0.159     -2.572      0.010      -0.723      -0.097\n",
      "Fandom_ms_paint_adventures     0.2075      0.140      1.485      0.138      -0.066       0.482\n",
      "Fandom_marvel                  0.5485      0.137      3.997      0.000       0.279       0.818\n",
      "Fandom_sailor_moon            -0.4814      0.497     -0.969      0.332      -1.455       0.492\n",
      "Fandom_sherlock                0.2778      0.133      2.087      0.037       0.017       0.539\n",
      "==============================================================================\n",
      "Omnibus:                       63.427   Durbin-Watson:                   1.978\n",
      "Prob(Omnibus):                  0.000   Jarque-Bera (JB):              149.210\n",
      "Skew:                           0.010   Prob(JB):                     3.98e-33\n",
      "Kurtosis:                       4.206   Cond. No.                     3.83e+05\n",
      "==============================================================================\n",
      "\n",
      "Warnings:\n",
      "[1] Standard Errors assume that the covariance matrix of the errors is correctly specified.\n",
      "[2] The condition number is large, 3.83e+05. This might indicate that there are\n",
      "strong multicollinearity or other numerical problems.\n"
     ]
    }
   ],
   "source": [
    "print(kudos_model.summary())"
   ]
  },
  {
   "cell_type": "code",
   "execution_count": 60,
   "metadata": {},
   "outputs": [
    {
     "name": "stdout",
     "output_type": "stream",
     "text": [
      "                            OLS Regression Results                            \n",
      "==============================================================================\n",
      "Dep. Variable:                   Hits   R-squared:                       0.276\n",
      "Model:                            OLS   Adj. R-squared:                  0.274\n",
      "Method:                 Least Squares   F-statistic:                     155.9\n",
      "Date:                Fri, 20 Sep 2019   Prob (F-statistic):               0.00\n",
      "Time:                        17:40:51   Log-Likelihood:                -25806.\n",
      "No. Observations:               18439   AIC:                         5.170e+04\n",
      "Df Residuals:                   18393   BIC:                         5.206e+04\n",
      "Df Model:                          45                                         \n",
      "Covariance Type:            nonrobust                                         \n",
      "==============================================================================================\n",
      "                                 coef    std err          t      P>|t|      [0.025      0.975]\n",
      "----------------------------------------------------------------------------------------------\n",
      "Intercept                     35.3883      1.102     32.119      0.000      33.229      37.548\n",
      "Author_works_before           -0.0018      0.000     -4.312      0.000      -0.003      -0.001\n",
      "Author_time_before             0.0006   3.39e-05     18.433      0.000       0.001       0.001\n",
      "Sentiment                      0.1844      0.040      4.651      0.000       0.107       0.262\n",
      "ArchiveWarnings_underage       0.1765      0.045      3.951      0.000       0.089       0.264\n",
      "ArchiveWarnings_death         -0.2067      0.036     -5.729      0.000      -0.277      -0.136\n",
      "ArchiveWarnings_no_apply       0.3527      0.018     19.998      0.000       0.318       0.387\n",
      "ArchiveWarnings_violence      -0.1991      0.028     -7.075      0.000      -0.254      -0.144\n",
      "ArchiveWarnings_noncon         0.0493      0.038      1.289      0.197      -0.026       0.124\n",
      "Rating_E                       0.3717      0.031     12.115      0.000       0.312       0.432\n",
      "Rating_G                       0.6010      0.032     18.888      0.000       0.539       0.663\n",
      "Rating_M                       0.1116      0.030      3.771      0.000       0.054       0.170\n",
      "Rating_T                       0.2850      0.028     10.093      0.000       0.230       0.340\n",
      "Category_F_F                  -0.1276      0.035     -3.682      0.000      -0.196      -0.060\n",
      "Category_F_M                  -0.2232      0.018    -12.224      0.000      -0.259      -0.187\n",
      "Category_Gen                  -0.0538      0.023     -2.360      0.018      -0.098      -0.009\n",
      "Category_M_M                   0.4877      0.023     20.877      0.000       0.442       0.533\n",
      "Category_Multi                -0.0713      0.027     -2.626      0.009      -0.125      -0.018\n",
      "Category_Other                -0.2439      0.051     -4.738      0.000      -0.345      -0.143\n",
      "Freq_relationship              0.3272      0.018     18.425      0.000       0.292       0.362\n",
      "ChapterIndex                   0.0010      0.001      1.529      0.126      -0.000       0.002\n",
      "Chapters                      -0.0053      0.000    -13.274      0.000      -0.006      -0.005\n",
      "Words                          0.0002   1.21e-05     17.017      0.000       0.000       0.000\n",
      "Fandom_harry_potter           -0.1627      0.060     -2.704      0.007      -0.281      -0.045\n",
      "Fandom_dcu                     0.6171      0.062     10.015      0.000       0.496       0.738\n",
      "Fandom_doctor_who             -0.4284      0.067     -6.394      0.000      -0.560      -0.297\n",
      "Fandom_star_wars               0.0050      0.069      0.072      0.942      -0.129       0.139\n",
      "Fandom_arthurian               0.2699      0.071      3.828      0.000       0.132       0.408\n",
      "Fandom_supernatural           -0.3123      0.057     -5.511      0.000      -0.423      -0.201\n",
      "Fandom_haikyuu                -0.1890      0.070     -2.688      0.007      -0.327      -0.051\n",
      "Fandom_kuroko_no_basuke       -0.0639      0.081     -0.790      0.429      -0.222       0.095\n",
      "Fandom_hamilton_miranda       -0.8196      0.137     -5.961      0.000      -1.089      -0.550\n",
      "Fandom_dragon_age             -0.7119      0.065    -11.024      0.000      -0.838      -0.585\n",
      "Fandom_the_walking_dead       -0.1035      0.076     -1.358      0.174      -0.253       0.046\n",
      "Fandom_buffy                  -0.7027      0.111     -6.347      0.000      -0.920      -0.486\n",
      "Fandom_les_miserables          0.2276      0.078      2.916      0.004       0.075       0.381\n",
      "Fandom_naruto                 -0.4204      0.095     -4.440      0.000      -0.606      -0.235\n",
      "Fandom_tolkien                 0.0265      0.063      0.421      0.674      -0.097       0.150\n",
      "Fandom_shakespare             -0.7498      0.332     -2.258      0.024      -1.401      -0.099\n",
      "Fandom_hetalia                -0.9942      0.089    -11.228      0.000      -1.168      -0.821\n",
      "Fandom_attack_on_titan        -0.0393      0.065     -0.603      0.547      -0.167       0.089\n",
      "Fandom_ms_paint_adventures    -0.4725      0.064     -7.372      0.000      -0.598      -0.347\n",
      "Fandom_marvel                  0.3517      0.056      6.332      0.000       0.243       0.461\n",
      "Fandom_sailor_moon            -1.2650      0.279     -4.542      0.000      -1.811      -0.719\n",
      "Fandom_sherlock                0.0907      0.057      1.596      0.111      -0.021       0.202\n",
      "nonzero_prob                 -31.0662      1.157    -26.846      0.000     -33.334     -28.798\n",
      "==============================================================================\n",
      "Omnibus:                       29.227   Durbin-Watson:                   1.940\n",
      "Prob(Omnibus):                  0.000   Jarque-Bera (JB):               32.628\n",
      "Skew:                          -0.053   Prob(JB):                     8.22e-08\n",
      "Kurtosis:                       3.176   Cond. No.                     3.44e+05\n",
      "==============================================================================\n",
      "\n",
      "Warnings:\n",
      "[1] Standard Errors assume that the covariance matrix of the errors is correctly specified.\n",
      "[2] The condition number is large, 3.44e+05. This might indicate that there are\n",
      "strong multicollinearity or other numerical problems.\n"
     ]
    }
   ],
   "source": [
    "print(hits_model.summary())"
   ]
  },
  {
   "cell_type": "code",
   "execution_count": 61,
   "metadata": {},
   "outputs": [
    {
     "name": "stdout",
     "output_type": "stream",
     "text": [
      "                            OLS Regression Results                            \n",
      "==============================================================================\n",
      "Dep. Variable:               Comments   R-squared:                       0.069\n",
      "Model:                            OLS   Adj. R-squared:                  0.067\n",
      "Method:                 Least Squares   F-statistic:                     30.29\n",
      "Date:                Fri, 20 Sep 2019   Prob (F-statistic):          2.16e-246\n",
      "Time:                        17:40:52   Log-Likelihood:                -24381.\n",
      "No. Observations:               18439   AIC:                         4.885e+04\n",
      "Df Residuals:                   18393   BIC:                         4.921e+04\n",
      "Df Model:                          45                                         \n",
      "Covariance Type:            nonrobust                                         \n",
      "==============================================================================================\n",
      "                                 coef    std err          t      P>|t|      [0.025      0.975]\n",
      "----------------------------------------------------------------------------------------------\n",
      "Intercept                      0.0741      0.178      0.416      0.678      -0.275       0.423\n",
      "Author_works_before           -0.0008      0.000     -1.704      0.088      -0.002       0.000\n",
      "Author_time_before          5.729e-05   3.21e-05      1.787      0.074   -5.54e-06       0.000\n",
      "Sentiment                      0.0595      0.036      1.668      0.095      -0.010       0.129\n",
      "ArchiveWarnings_underage       0.0284      0.041      0.686      0.492      -0.053       0.110\n",
      "ArchiveWarnings_death          0.0556      0.044      1.264      0.206      -0.031       0.142\n",
      "ArchiveWarnings_no_apply       0.0525      0.017      3.003      0.003       0.018       0.087\n",
      "ArchiveWarnings_violence      -0.0524      0.031     -1.680      0.093      -0.114       0.009\n",
      "ArchiveWarnings_noncon         0.0595      0.035      1.679      0.093      -0.010       0.129\n",
      "Rating_E                       0.1291      0.033      3.935      0.000       0.065       0.193\n",
      "Rating_G                       0.0495      0.031      1.603      0.109      -0.011       0.110\n",
      "Rating_M                       0.1528      0.028      5.366      0.000       0.097       0.209\n",
      "Rating_T                       0.0909      0.026      3.526      0.000       0.040       0.141\n",
      "Category_F_F                  -0.0905      0.034     -2.676      0.007      -0.157      -0.024\n",
      "Category_F_M                  -0.0340      0.027     -1.265      0.206      -0.087       0.019\n",
      "Category_Gen                   0.0217      0.021      1.035      0.301      -0.019       0.063\n",
      "Category_M_M                   0.0464      0.028      1.670      0.095      -0.008       0.101\n",
      "Category_Multi                 0.0221      0.025      0.869      0.385      -0.028       0.072\n",
      "Category_Other                -0.1106      0.051     -2.158      0.031      -0.211      -0.010\n",
      "Freq_relationship              0.0405      0.029      1.377      0.168      -0.017       0.098\n",
      "ChapterIndex                   0.0004      0.001      0.579      0.563      -0.001       0.002\n",
      "Chapters                       0.0007      0.000      1.753      0.080    -8.6e-05       0.002\n",
      "Words                       8.083e-05   1.77e-05      4.571      0.000    4.62e-05       0.000\n",
      "Fandom_harry_potter            0.3469      0.071      4.892      0.000       0.208       0.486\n",
      "Fandom_dcu                     0.3318      0.083      4.011      0.000       0.170       0.494\n",
      "Fandom_doctor_who              0.3723      0.089      4.182      0.000       0.198       0.547\n",
      "Fandom_star_wars               0.4535      0.073      6.223      0.000       0.311       0.596\n",
      "Fandom_arthurian               0.2484      0.065      3.805      0.000       0.120       0.376\n",
      "Fandom_supernatural            0.2456      0.056      4.367      0.000       0.135       0.356\n",
      "Fandom_haikyuu                 0.2608      0.070      3.741      0.000       0.124       0.398\n",
      "Fandom_kuroko_no_basuke        0.2210      0.075      2.931      0.003       0.073       0.369\n",
      "Fandom_hamilton_miranda        0.2686      0.127      2.111      0.035       0.019       0.518\n",
      "Fandom_dragon_age              0.2444      0.060      4.085      0.000       0.127       0.362\n",
      "Fandom_the_walking_dead        0.2072      0.074      2.798      0.005       0.062       0.352\n",
      "Fandom_buffy                   0.2654      0.138      1.917      0.055      -0.006       0.537\n",
      "Fandom_les_miserables          0.2698      0.072      3.730      0.000       0.128       0.412\n",
      "Fandom_naruto                  0.2829      0.095      2.989      0.003       0.097       0.468\n",
      "Fandom_tolkien                 0.3036      0.072      4.190      0.000       0.162       0.446\n",
      "Fandom_shakespare              0.1657      0.307      0.539      0.590      -0.437       0.768\n",
      "Fandom_hetalia                 0.0996      0.109      0.914      0.361      -0.114       0.313\n",
      "Fandom_attack_on_titan         0.2389      0.064      3.718      0.000       0.113       0.365\n",
      "Fandom_ms_paint_adventures     0.0838      0.059      1.413      0.158      -0.032       0.200\n",
      "Fandom_marvel                  0.4296      0.070      6.101      0.000       0.292       0.568\n",
      "Fandom_sailor_moon            -0.2365      0.258     -0.915      0.360      -0.743       0.270\n",
      "Fandom_sherlock                0.4152      0.053      7.799      0.000       0.311       0.520\n",
      "nonzero_prob                   1.0986      0.326      3.369      0.001       0.459       1.738\n",
      "==============================================================================\n",
      "Omnibus:                      520.126   Durbin-Watson:                   1.956\n",
      "Prob(Omnibus):                  0.000   Jarque-Bera (JB):              300.063\n",
      "Skew:                           0.153   Prob(JB):                     6.95e-66\n",
      "Kurtosis:                       2.455   Cond. No.                     9.68e+04\n",
      "==============================================================================\n",
      "\n",
      "Warnings:\n",
      "[1] Standard Errors assume that the covariance matrix of the errors is correctly specified.\n",
      "[2] The condition number is large, 9.68e+04. This might indicate that there are\n",
      "strong multicollinearity or other numerical problems.\n"
     ]
    }
   ],
   "source": [
    "print(comments_model.summary())"
   ]
  },
  {
   "cell_type": "code",
   "execution_count": 62,
   "metadata": {},
   "outputs": [
    {
     "name": "stdout",
     "output_type": "stream",
     "text": [
      "                            OLS Regression Results                            \n",
      "==============================================================================\n",
      "Dep. Variable:              Bookmarks   R-squared:                       0.270\n",
      "Model:                            OLS   Adj. R-squared:                  0.268\n",
      "Method:                 Least Squares   F-statistic:                     151.1\n",
      "Date:                Fri, 20 Sep 2019   Prob (F-statistic):               0.00\n",
      "Time:                        17:40:52   Log-Likelihood:                -27853.\n",
      "No. Observations:               18439   AIC:                         5.580e+04\n",
      "Df Residuals:                   18393   BIC:                         5.616e+04\n",
      "Df Model:                          45                                         \n",
      "Covariance Type:            nonrobust                                         \n",
      "==============================================================================================\n",
      "                                 coef    std err          t      P>|t|      [0.025      0.975]\n",
      "----------------------------------------------------------------------------------------------\n",
      "Intercept                      3.0088      0.138     21.836      0.000       2.739       3.279\n",
      "Author_works_before           -0.0037      0.000     -7.876      0.000      -0.005      -0.003\n",
      "Author_time_before             0.0003   3.79e-05      9.238      0.000       0.000       0.000\n",
      "Sentiment                     -0.2779      0.041     -6.714      0.000      -0.359      -0.197\n",
      "ArchiveWarnings_underage      -0.0055      0.050     -0.111      0.912      -0.103       0.092\n",
      "ArchiveWarnings_death         -0.2941      0.040     -7.295      0.000      -0.373      -0.215\n",
      "ArchiveWarnings_no_apply       0.2249      0.018     12.411      0.000       0.189       0.260\n",
      "ArchiveWarnings_violence      -0.1819      0.031     -5.819      0.000      -0.243      -0.121\n",
      "ArchiveWarnings_noncon        -0.0814      0.043     -1.905      0.057      -0.165       0.002\n",
      "Rating_E                       0.2318      0.035      6.713      0.000       0.164       0.299\n",
      "Rating_G                       0.1533      0.035      4.321      0.000       0.084       0.223\n",
      "Rating_M                       0.0739      0.033      2.236      0.025       0.009       0.139\n",
      "Rating_T                       0.0062      0.031      0.202      0.840      -0.054       0.067\n",
      "Category_F_F                  -0.2796      0.039     -7.188      0.000      -0.356      -0.203\n",
      "Category_F_M                  -0.3923      0.020    -19.193      0.000      -0.432      -0.352\n",
      "Category_Gen                  -0.0775      0.025     -3.102      0.002      -0.126      -0.029\n",
      "Category_M_M                   0.3209      0.023     13.838      0.000       0.275       0.366\n",
      "Category_Multi                -0.1449      0.030     -4.784      0.000      -0.204      -0.086\n",
      "Category_Other                -0.3253      0.057     -5.658      0.000      -0.438      -0.213\n",
      "Freq_relationship              0.4431      0.021     20.686      0.000       0.401       0.485\n",
      "ChapterIndex                   0.0012      0.001      1.733      0.083      -0.000       0.003\n",
      "Chapters                      -0.0087      0.000    -19.448      0.000      -0.010      -0.008\n",
      "Words                          0.0003   1.28e-05     23.013      0.000       0.000       0.000\n",
      "Fandom_harry_potter            0.0947      0.067      1.405      0.160      -0.037       0.227\n",
      "Fandom_dcu                     0.7835      0.070     11.259      0.000       0.647       0.920\n",
      "Fandom_doctor_who             -0.6235      0.076     -8.165      0.000      -0.773      -0.474\n",
      "Fandom_star_wars               0.4604      0.077      6.008      0.000       0.310       0.611\n",
      "Fandom_arthurian               0.1424      0.079      1.807      0.071      -0.012       0.297\n",
      "Fandom_supernatural           -0.2879      0.064     -4.519      0.000      -0.413      -0.163\n",
      "Fandom_haikyuu                 0.3235      0.079      4.111      0.000       0.169       0.478\n",
      "Fandom_kuroko_no_basuke        0.0364      0.090      0.403      0.687      -0.141       0.214\n",
      "Fandom_hamilton_miranda       -0.3717      0.154     -2.419      0.016      -0.673      -0.071\n",
      "Fandom_dragon_age             -0.1533      0.072     -2.136      0.033      -0.294      -0.013\n",
      "Fandom_the_walking_dead       -0.2397      0.085     -2.813      0.005      -0.407      -0.073\n",
      "Fandom_buffy                  -0.9308      0.126     -7.384      0.000      -1.178      -0.684\n",
      "Fandom_les_miserables          0.2149      0.087      2.463      0.014       0.044       0.386\n",
      "Fandom_naruto                 -0.1689      0.106     -1.589      0.112      -0.377       0.039\n",
      "Fandom_tolkien                 0.4182      0.070      5.938      0.000       0.280       0.556\n",
      "Fandom_shakespare             -0.5517      0.371     -1.486      0.137      -1.279       0.176\n",
      "Fandom_hetalia                -1.0006      0.100    -10.048      0.000      -1.196      -0.805\n",
      "Fandom_attack_on_titan         0.3755      0.073      5.151      0.000       0.233       0.518\n",
      "Fandom_ms_paint_adventures    -0.1626      0.072     -2.270      0.023      -0.303      -0.022\n",
      "Fandom_marvel                  0.8032      0.063     12.736      0.000       0.680       0.927\n",
      "Fandom_sailor_moon            -1.3625      0.311     -4.377      0.000      -1.973      -0.752\n",
      "Fandom_sherlock                0.1162      0.063      1.832      0.067      -0.008       0.241\n",
      "nonzero_prob                  -3.2922      0.145    -22.763      0.000      -3.576      -3.009\n",
      "==============================================================================\n",
      "Omnibus:                      114.470   Durbin-Watson:                   1.946\n",
      "Prob(Omnibus):                  0.000   Jarque-Bera (JB):              139.079\n",
      "Skew:                          -0.123   Prob(JB):                     6.30e-31\n",
      "Kurtosis:                       3.347   Cond. No.                     7.31e+04\n",
      "==============================================================================\n",
      "\n",
      "Warnings:\n",
      "[1] Standard Errors assume that the covariance matrix of the errors is correctly specified.\n",
      "[2] The condition number is large, 7.31e+04. This might indicate that there are\n",
      "strong multicollinearity or other numerical problems.\n"
     ]
    }
   ],
   "source": [
    "print(bookmarks_model.summary())"
   ]
  },
  {
   "cell_type": "code",
   "execution_count": null,
   "metadata": {},
   "outputs": [],
   "source": []
  },
  {
   "cell_type": "code",
   "execution_count": null,
   "metadata": {},
   "outputs": [],
   "source": [
    "# fig = plt.figure(figsize=(20,20))\n",
    "# fig = sm.graphics.plot_regress_exog(kudos_model, \"Term_novelty\", fig=fig)\n",
    "# plt.savefig('partial_reg_plots_term_novelty.png', format='png')"
   ]
  },
  {
   "cell_type": "code",
   "execution_count": null,
   "metadata": {},
   "outputs": [],
   "source": []
  }
 ],
 "metadata": {
  "kernelspec": {
   "display_name": "Python 3",
   "language": "python",
   "name": "python3"
  },
  "language_info": {
   "codemirror_mode": {
    "name": "ipython",
    "version": 3
   },
   "file_extension": ".py",
   "mimetype": "text/x-python",
   "name": "python",
   "nbconvert_exporter": "python",
   "pygments_lexer": "ipython3",
   "version": "3.6.7"
  }
 },
 "nbformat": 4,
 "nbformat_minor": 2
}
