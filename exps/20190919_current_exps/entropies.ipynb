{
 "cells": [
  {
   "cell_type": "code",
   "execution_count": 33,
   "metadata": {},
   "outputs": [],
   "source": [
    "import pandas as pd\n",
    "import os\n",
    "import matplotlib.pyplot as plt\n",
    "%matplotlib inline\n",
    "import numpy as np\n",
    "import random\n",
    "from scipy import stats, spatial\n",
    "import csv"
   ]
  },
  {
   "cell_type": "code",
   "execution_count": 34,
   "metadata": {},
   "outputs": [],
   "source": [
    "tfidf_path = '../../data/tfidf_merged_chs_1000/'"
   ]
  },
  {
   "cell_type": "code",
   "execution_count": 35,
   "metadata": {},
   "outputs": [],
   "source": [
    "lda_path = '../../data/lda_merged_chs/'"
   ]
  },
  {
   "cell_type": "code",
   "execution_count": 36,
   "metadata": {},
   "outputs": [],
   "source": [
    "fandom_list = [i for i in os.listdir(lda_path) if 'tsv' in i]"
   ]
  },
  {
   "cell_type": "code",
   "execution_count": 37,
   "metadata": {},
   "outputs": [
    {
     "data": {
      "text/plain": [
       "['buffy_the_vampire_slayer_temporal_lda_jsd_toprev_with_dist_merged_chs.tsv',\n",
       " 'ms_paint_adventures_temporal_lda_jsd_toprev_with_dist_merged_chs.tsv',\n",
       " 'marvel_temporal_lda_jsd_toprev_with_dist_merged_chs.tsv',\n",
       " 'supernatural_temporal_lda_jsd_toprev_with_dist_merged_chs.tsv',\n",
       " 'harry_potter_temporal_lda_jsd_toprev_with_dist_merged_chs.tsv',\n",
       " 'attack_on_titan_temporal_lda_jsd_toprev_with_dist_merged_chs.tsv',\n",
       " 'kuroko_no_basuke_temporal_lda_jsd_toprev_with_dist_merged_chs.tsv',\n",
       " 'tolkien_j_r_r_works_&_related_fandoms_temporal_lda_jsd_toprev_with_dist_merged_chs.tsv',\n",
       " 'one_direction_temporal_lda_jsd_toprev_with_dist_merged_chs.tsv',\n",
       " 'the_walking_dead_&_related_fandoms_temporal_lda_jsd_toprev_with_dist_merged_chs.tsv',\n",
       " 'haikyuu_temporal_lda_jsd_toprev_with_dist_merged_chs.tsv',\n",
       " 'doctor_who_&_related_fandoms_temporal_lda_jsd_toprev_with_dist_merged_chs.tsv',\n",
       " 'hamilton_miranda_temporal_lda_jsd_toprev_with_dist_merged_chs.tsv',\n",
       " 'hetalia_axis_powers_temporal_lda_jsd_toprev_with_dist_merged_chs.tsv',\n",
       " 'naruto_temporal_lda_jsd_toprev_with_dist_merged_chs.tsv',\n",
       " 'sherlock_holmes_&_related_fandoms_temporal_lda_jsd_toprev_with_dist_merged_chs.tsv',\n",
       " 'dcu_temporal_lda_jsd_toprev_with_dist_merged_chs.tsv',\n",
       " 'les_miserables_all_media_types_temporal_lda_jsd_toprev_with_dist_merged_chs.tsv',\n",
       " 'dragon_age_all_media_types_temporal_lda_jsd_toprev_with_dist_merged_chs.tsv',\n",
       " 'shakespare_william_works_temporal_lda_jsd_toprev_with_dist_merged_chs.tsv',\n",
       " 'arthurian_mythology_&_related_fandoms_temporal_lda_jsd_toprev_with_dist_merged_chs.tsv',\n",
       " 'star_wars_all_media_types_temporal_lda_jsd_toprev_with_dist_merged_chs.tsv',\n",
       " 'bishoujo_senshi_sailor_moon_temporal_lda_jsd_toprev_with_dist_merged_chs.tsv']"
      ]
     },
     "execution_count": 37,
     "metadata": {},
     "output_type": "execute_result"
    }
   ],
   "source": [
    "fandom_list"
   ]
  },
  {
   "cell_type": "markdown",
   "metadata": {},
   "source": [
    "### Topic entropy"
   ]
  },
  {
   "cell_type": "code",
   "execution_count": 46,
   "metadata": {},
   "outputs": [],
   "source": [
    "def calc_ent(field):\n",
    "    try:\n",
    "        return stats.entropy(eval(field))\n",
    "    except:\n",
    "        return float('nan')"
   ]
  },
  {
   "cell_type": "code",
   "execution_count": 49,
   "metadata": {},
   "outputs": [],
   "source": [
    "df_all = []\n",
    "for i,fandom in enumerate(fandom_list):\n",
    "    df = pd.read_csv(os.path.join(lda_path,fandom), sep = '\\t', quoting=csv.QUOTE_NONE)\n",
    "    df['Entropy'] = df.apply(lambda row: calc_ent(row['Dist']), axis=1)\n",
    "    \n",
    "    df_all.append(df)\n",
    "df = pd.concat(df_all)"
   ]
  },
  {
   "cell_type": "code",
   "execution_count": 50,
   "metadata": {},
   "outputs": [
    {
     "data": {
      "text/html": [
       "<div>\n",
       "<style scoped>\n",
       "    .dataframe tbody tr th:only-of-type {\n",
       "        vertical-align: middle;\n",
       "    }\n",
       "\n",
       "    .dataframe tbody tr th {\n",
       "        vertical-align: top;\n",
       "    }\n",
       "\n",
       "    .dataframe thead th {\n",
       "        text-align: right;\n",
       "    }\n",
       "</style>\n",
       "<table border=\"1\" class=\"dataframe\">\n",
       "  <thead>\n",
       "    <tr style=\"text-align: right;\">\n",
       "      <th></th>\n",
       "      <th>index</th>\n",
       "      <th>AdditionalTags</th>\n",
       "      <th>ArchiveWarnings</th>\n",
       "      <th>Author</th>\n",
       "      <th>Bookmarks</th>\n",
       "      <th>Category</th>\n",
       "      <th>Chapters</th>\n",
       "      <th>Characters</th>\n",
       "      <th>Fandoms</th>\n",
       "      <th>Hits</th>\n",
       "      <th>...</th>\n",
       "      <th>Words</th>\n",
       "      <th>Text</th>\n",
       "      <th>PublishDate</th>\n",
       "      <th>UpdateDate</th>\n",
       "      <th>CompleteDate</th>\n",
       "      <th>Comments</th>\n",
       "      <th>URL</th>\n",
       "      <th>Dist</th>\n",
       "      <th>JSD</th>\n",
       "      <th>Entropy</th>\n",
       "    </tr>\n",
       "  </thead>\n",
       "  <tbody>\n",
       "    <tr>\n",
       "      <td>0</td>\n",
       "      <td>321</td>\n",
       "      <td>Alternate Ending, Romance, Fluff, Community: i...</td>\n",
       "      <td>No Archive Warnings Apply</td>\n",
       "      <td>angelus2hot</td>\n",
       "      <td>0.0</td>\n",
       "      <td>F/M</td>\n",
       "      <td>1</td>\n",
       "      <td>Angel, Buffy Summers</td>\n",
       "      <td>['Buffy the Vampire Slayer']</td>\n",
       "      <td>245.0</td>\n",
       "      <td>...</td>\n",
       "      <td>2312.0</td>\n",
       "      <td>\\nAngel and Spike leaned against the desk disc...</td>\n",
       "      <td>2009-07-10</td>\n",
       "      <td>NaN</td>\n",
       "      <td>2009-07-10</td>\n",
       "      <td>0.0</td>\n",
       "      <td>http://archiveofourown.org/works/156263</td>\n",
       "      <td>[2.2184724e-05, 0.017603794, 2.2184724e-05, 2....</td>\n",
       "      <td>0.410143</td>\n",
       "      <td>0.931672</td>\n",
       "    </tr>\n",
       "    <tr>\n",
       "      <td>1</td>\n",
       "      <td>528</td>\n",
       "      <td>Alternate Universe - Fantasy, Angst, Horror</td>\n",
       "      <td>Graphic Depictions Of Violence, Major Characte...</td>\n",
       "      <td>PaganBaby</td>\n",
       "      <td>3.0</td>\n",
       "      <td>F/M</td>\n",
       "      <td>13</td>\n",
       "      <td>Spike, Buffy - Character, Willow, Xander, Darl...</td>\n",
       "      <td>['Buffy the Vampire Slayer']</td>\n",
       "      <td>493.0</td>\n",
       "      <td>...</td>\n",
       "      <td>38902.0</td>\n",
       "      <td>\"\\nSpike walked slowly through his bedroom. He...</td>\n",
       "      <td>2009-07-09</td>\n",
       "      <td>NaN</td>\n",
       "      <td>2009-07-09</td>\n",
       "      <td>0.0</td>\n",
       "      <td>http://archiveofourown.org/works/522562/chapte...</td>\n",
       "      <td>[1.3316399e-06, 0.099384494, 0.004671756, 0.03...</td>\n",
       "      <td>0.132142</td>\n",
       "      <td>1.440110</td>\n",
       "    </tr>\n",
       "    <tr>\n",
       "      <td>2</td>\n",
       "      <td>1821</td>\n",
       "      <td>Cheating, Bloodplay, Painplay, Dominant Masochism</td>\n",
       "      <td>No Archive Warnings Apply</td>\n",
       "      <td>jedusaur</td>\n",
       "      <td>0.0</td>\n",
       "      <td>F/M</td>\n",
       "      <td>1</td>\n",
       "      <td>Angel (BtVS), Faith Lehane</td>\n",
       "      <td>['Buffy the Vampire Slayer']</td>\n",
       "      <td>329.0</td>\n",
       "      <td>...</td>\n",
       "      <td>1399.0</td>\n",
       "      <td>\"\\nBefore Faith came to Sunnydale, vampires we...</td>\n",
       "      <td>2009-07-28</td>\n",
       "      <td>NaN</td>\n",
       "      <td>2009-07-28</td>\n",
       "      <td>0.0</td>\n",
       "      <td>http://archiveofourown.org/works/232972?view_a...</td>\n",
       "      <td>[3.71539e-05, 3.71539e-05, 3.71539e-05, 3.7153...</td>\n",
       "      <td>0.461693</td>\n",
       "      <td>0.204859</td>\n",
       "    </tr>\n",
       "    <tr>\n",
       "      <td>3</td>\n",
       "      <td>2110</td>\n",
       "      <td>Community: remixredux09, POV Female Character</td>\n",
       "      <td>Rape/Non-Con</td>\n",
       "      <td>Erinya</td>\n",
       "      <td>0.0</td>\n",
       "      <td>Gen</td>\n",
       "      <td>1</td>\n",
       "      <td>Anya Jenkins, Rupert Giles</td>\n",
       "      <td>['Buffy the Vampire Slayer']</td>\n",
       "      <td>275.0</td>\n",
       "      <td>...</td>\n",
       "      <td>2903.0</td>\n",
       "      <td>\"\\nIt was late. The Magic Box was dark and emp...</td>\n",
       "      <td>2009-07-26</td>\n",
       "      <td>NaN</td>\n",
       "      <td>2009-07-26</td>\n",
       "      <td>0.0</td>\n",
       "      <td>http://archiveofourown.org/works/315450</td>\n",
       "      <td>[1.8193401e-05, 1.8193401e-05, 1.8193401e-05, ...</td>\n",
       "      <td>0.181952</td>\n",
       "      <td>1.845654</td>\n",
       "    </tr>\n",
       "    <tr>\n",
       "      <td>4</td>\n",
       "      <td>2548</td>\n",
       "      <td>Crossover, Crossover Pairing, Award Winners, P...</td>\n",
       "      <td>No Archive Warnings Apply</td>\n",
       "      <td>Jedi Buttercup</td>\n",
       "      <td>4.0</td>\n",
       "      <td>F/M</td>\n",
       "      <td>1</td>\n",
       "      <td>Buffy Summers, James T. Kirk, Spock Prime</td>\n",
       "      <td>['Buffy the Vampire Slayer', 'Star Trek (2009)']</td>\n",
       "      <td>1793.0</td>\n",
       "      <td>...</td>\n",
       "      <td>1400.0</td>\n",
       "      <td>\"\\nKirk slowed as he approached Ambassador Spo...</td>\n",
       "      <td>2009-07-15</td>\n",
       "      <td>NaN</td>\n",
       "      <td>2009-07-15</td>\n",
       "      <td>9.0</td>\n",
       "      <td>http://archiveofourown.org/works/41755</td>\n",
       "      <td>[3.988294e-05, 3.988294e-05, 0.2248358, 0.2028...</td>\n",
       "      <td>0.178154</td>\n",
       "      <td>1.522140</td>\n",
       "    </tr>\n",
       "  </tbody>\n",
       "</table>\n",
       "<p>5 rows × 25 columns</p>\n",
       "</div>"
      ],
      "text/plain": [
       "  index                                     AdditionalTags  \\\n",
       "0   321  Alternate Ending, Romance, Fluff, Community: i...   \n",
       "1   528        Alternate Universe - Fantasy, Angst, Horror   \n",
       "2  1821  Cheating, Bloodplay, Painplay, Dominant Masochism   \n",
       "3  2110      Community: remixredux09, POV Female Character   \n",
       "4  2548  Crossover, Crossover Pairing, Award Winners, P...   \n",
       "\n",
       "                                     ArchiveWarnings          Author  \\\n",
       "0                          No Archive Warnings Apply     angelus2hot   \n",
       "1  Graphic Depictions Of Violence, Major Characte...       PaganBaby   \n",
       "2                          No Archive Warnings Apply        jedusaur   \n",
       "3                                       Rape/Non-Con          Erinya   \n",
       "4                          No Archive Warnings Apply  Jedi Buttercup   \n",
       "\n",
       "   Bookmarks Category Chapters  \\\n",
       "0        0.0      F/M        1   \n",
       "1        3.0      F/M       13   \n",
       "2        0.0      F/M        1   \n",
       "3        0.0      Gen        1   \n",
       "4        4.0      F/M        1   \n",
       "\n",
       "                                          Characters  \\\n",
       "0                               Angel, Buffy Summers   \n",
       "1  Spike, Buffy - Character, Willow, Xander, Darl...   \n",
       "2                         Angel (BtVS), Faith Lehane   \n",
       "3                         Anya Jenkins, Rupert Giles   \n",
       "4          Buffy Summers, James T. Kirk, Spock Prime   \n",
       "\n",
       "                                            Fandoms    Hits  ...    Words  \\\n",
       "0                      ['Buffy the Vampire Slayer']   245.0  ...   2312.0   \n",
       "1                      ['Buffy the Vampire Slayer']   493.0  ...  38902.0   \n",
       "2                      ['Buffy the Vampire Slayer']   329.0  ...   1399.0   \n",
       "3                      ['Buffy the Vampire Slayer']   275.0  ...   2903.0   \n",
       "4  ['Buffy the Vampire Slayer', 'Star Trek (2009)']  1793.0  ...   1400.0   \n",
       "\n",
       "                                                Text PublishDate UpdateDate  \\\n",
       "0  \\nAngel and Spike leaned against the desk disc...  2009-07-10        NaN   \n",
       "1  \"\\nSpike walked slowly through his bedroom. He...  2009-07-09        NaN   \n",
       "2  \"\\nBefore Faith came to Sunnydale, vampires we...  2009-07-28        NaN   \n",
       "3  \"\\nIt was late. The Magic Box was dark and emp...  2009-07-26        NaN   \n",
       "4  \"\\nKirk slowed as he approached Ambassador Spo...  2009-07-15        NaN   \n",
       "\n",
       "  CompleteDate  Comments                                                URL  \\\n",
       "0   2009-07-10       0.0            http://archiveofourown.org/works/156263   \n",
       "1   2009-07-09       0.0  http://archiveofourown.org/works/522562/chapte...   \n",
       "2   2009-07-28       0.0  http://archiveofourown.org/works/232972?view_a...   \n",
       "3   2009-07-26       0.0            http://archiveofourown.org/works/315450   \n",
       "4   2009-07-15       9.0             http://archiveofourown.org/works/41755   \n",
       "\n",
       "                                                Dist       JSD   Entropy  \n",
       "0  [2.2184724e-05, 0.017603794, 2.2184724e-05, 2....  0.410143  0.931672  \n",
       "1  [1.3316399e-06, 0.099384494, 0.004671756, 0.03...  0.132142  1.440110  \n",
       "2  [3.71539e-05, 3.71539e-05, 3.71539e-05, 3.7153...  0.461693  0.204859  \n",
       "3  [1.8193401e-05, 1.8193401e-05, 1.8193401e-05, ...  0.181952  1.845654  \n",
       "4  [3.988294e-05, 3.988294e-05, 0.2248358, 0.2028...  0.178154  1.522140  \n",
       "\n",
       "[5 rows x 25 columns]"
      ]
     },
     "execution_count": 50,
     "metadata": {},
     "output_type": "execute_result"
    }
   ],
   "source": [
    "df.head()"
   ]
  },
  {
   "cell_type": "code",
   "execution_count": 55,
   "metadata": {},
   "outputs": [],
   "source": [
    "df = df.dropna(subset=['Entropy'])"
   ]
  },
  {
   "cell_type": "code",
   "execution_count": 58,
   "metadata": {},
   "outputs": [],
   "source": [
    "term_n = sorted(df['Entropy'].tolist())\n",
    "term_n = np.quantile(term_n, [0.1, 0.2, 0.3, 0.4, 0.5, 0.6, 0.7, 0.8, 0.9])\n",
    "term_n = np.insert(term_n, 0, 0)\n",
    "# term_n = np.concatenate([term_n, [1]])"
   ]
  },
  {
   "cell_type": "code",
   "execution_count": 59,
   "metadata": {},
   "outputs": [
    {
     "data": {
      "text/plain": [
       "array([0.        , 0.75717741, 1.14318787, 1.42349806, 1.66061098,\n",
       "       1.87832424, 2.08844365, 2.30733354, 2.54222371, 2.82453535])"
      ]
     },
     "execution_count": 59,
     "metadata": {},
     "output_type": "execute_result"
    }
   ],
   "source": [
    "term_n"
   ]
  },
  {
   "cell_type": "code",
   "execution_count": 60,
   "metadata": {},
   "outputs": [
    {
     "data": {
      "image/png": "[encoded data removed]",
      "text/plain": [
       "<Figure size 1224x432 with 9 Axes>"
      ]
     },
     "metadata": {},
     "output_type": "display_data"
    }
   ],
   "source": [
    "fig = plt.figure(figsize=(17, 6))\n",
    "for i in range(len(term_n)-1):\n",
    "    df_s = df[(df['Entropy'] >= term_n[i]) & (df['Entropy'] < term_n[i+1])]\n",
    "    fig.add_subplot(2,5,i+1)\n",
    "    plt.hist(df_s['Kudos'], bins=15)\n",
    "    plt.yscale('log')\n",
    "    plt.title(str(round(term_n[i], 2)) + '-' + str(round(term_n[i+1], 2)))"
   ]
  },
  {
   "cell_type": "code",
   "execution_count": 69,
   "metadata": {},
   "outputs": [
    {
     "data": {
      "text/plain": [
       "Text(0.5, 1.0, 'Entropy distribution')"
      ]
     },
     "execution_count": 69,
     "metadata": {},
     "output_type": "execute_result"
    },
    {
     "data": {
      "image/png": "[encoded data removed]",
      "text/plain": [
       "<Figure size 432x288 with 1 Axes>"
      ]
     },
     "metadata": {},
     "output_type": "display_data"
    }
   ],
   "source": [
    "plt.hist(df.Entropy)\n",
    "plt.title('Entropy distribution')"
   ]
  },
  {
   "cell_type": "code",
   "execution_count": 77,
   "metadata": {},
   "outputs": [
    {
     "data": {
      "text/plain": [
       "Text(0, 0.5, 'Log of Kudos')"
      ]
     },
     "execution_count": 77,
     "metadata": {},
     "output_type": "execute_result"
    },
    {
     "data": {
      "image/png": "[encoded data removed]",
      "text/plain": [
       "<Figure size 432x288 with 1 Axes>"
      ]
     },
     "metadata": {},
     "output_type": "display_data"
    }
   ],
   "source": [
    "plt.hexbin(df['Entropy'], np.log(df['Kudos']),gridsize=20)\n",
    "# plt.yscale('log')\n",
    "plt.xlabel('Topic entropy', fontsize=15)\n",
    "plt.ylabel('Log of Kudos', fontsize=15)"
   ]
  },
  {
   "cell_type": "code",
   "execution_count": null,
   "metadata": {},
   "outputs": [],
   "source": []
  }
 ],
 "metadata": {
  "anaconda-cloud": {},
  "kernelspec": {
   "display_name": "Python 3",
   "language": "python",
   "name": "python3"
  },
  "language_info": {
   "codemirror_mode": {
    "name": "ipython",
    "version": 3
   },
   "file_extension": ".py",
   "mimetype": "text/x-python",
   "name": "python",
   "nbconvert_exporter": "python",
   "pygments_lexer": "ipython3",
   "version": "3.7.7"
  }
 },
 "nbformat": 4,
 "nbformat_minor": 1
}
