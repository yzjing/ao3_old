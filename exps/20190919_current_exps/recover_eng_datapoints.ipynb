{
 "cells": [
  {
   "cell_type": "code",
   "execution_count": 1,
   "metadata": {},
   "outputs": [],
   "source": [
    "import pandas as pd\n",
    "import os\n"
   ]
  },
  {
   "cell_type": "code",
   "execution_count": 321,
   "metadata": {},
   "outputs": [],
   "source": [
    "original_path = '../../data/preprocessed_data/ms_paint_adventures_preprocessed.tsv'"
   ]
  },
  {
   "cell_type": "code",
   "execution_count": 322,
   "metadata": {},
   "outputs": [],
   "source": [
    "original = pd.read_csv(original_path, sep='\\t')"
   ]
  },
  {
   "cell_type": "code",
   "execution_count": 323,
   "metadata": {},
   "outputs": [],
   "source": [
    "preprocessed_path = '../scripts/ms_paint_adventures_preprocessed_filter_en_20210915.tsv'"
   ]
  },
  {
   "cell_type": "code",
   "execution_count": 324,
   "metadata": {},
   "outputs": [],
   "source": [
    "preprocessed = pd.read_csv(preprocessed_path, sep='\\t')"
   ]
  },
  {
   "cell_type": "code",
   "execution_count": 325,
   "metadata": {},
   "outputs": [
    {
     "data": {
      "text/plain": [
       "(79562, 79523)"
      ]
     },
     "execution_count": 325,
     "metadata": {},
     "output_type": "execute_result"
    }
   ],
   "source": [
    "len(original), len(preprocessed)"
   ]
  },
  {
   "cell_type": "code",
   "execution_count": 326,
   "metadata": {},
   "outputs": [
    {
     "data": {
      "text/plain": [
       "39"
      ]
     },
     "execution_count": 326,
     "metadata": {},
     "output_type": "execute_result"
    }
   ],
   "source": [
    "len(original) - len(preprocessed)"
   ]
  },
  {
   "cell_type": "code",
   "execution_count": 327,
   "metadata": {},
   "outputs": [],
   "source": [
    "merged = original.merge(preprocessed, on=['AdditionalTags', 'ArchiveWarnings', 'Author',\n",
    "       'Bookmarks', 'Category', 'ChapterIndex', 'Chapters', 'Characters',\n",
    "       'Comments', 'CompleteDate', 'Fandoms', 'Hits', 'Kudos', 'Language',\n",
    "       'Notes', 'PublishDate', 'Rating', 'Relationship', 'Summary',\n",
    "       'Title', 'URL', 'UpdateDate', 'Words'], how='outer', suffixes=['', '_'], indicator=True)"
   ]
  },
  {
   "cell_type": "code",
   "execution_count": 328,
   "metadata": {},
   "outputs": [
    {
     "data": {
      "text/html": [
       "<div>\n",
       "<style scoped>\n",
       "    .dataframe tbody tr th:only-of-type {\n",
       "        vertical-align: middle;\n",
       "    }\n",
       "\n",
       "    .dataframe tbody tr th {\n",
       "        vertical-align: top;\n",
       "    }\n",
       "\n",
       "    .dataframe thead th {\n",
       "        text-align: right;\n",
       "    }\n",
       "</style>\n",
       "<table border=\"1\" class=\"dataframe\">\n",
       "  <thead>\n",
       "    <tr style=\"text-align: right;\">\n",
       "      <th></th>\n",
       "      <th>AdditionalTags</th>\n",
       "      <th>ArchiveWarnings</th>\n",
       "      <th>Author</th>\n",
       "      <th>Bookmarks</th>\n",
       "      <th>Category</th>\n",
       "      <th>ChapterIndex</th>\n",
       "      <th>Chapters</th>\n",
       "      <th>Characters</th>\n",
       "      <th>Comments</th>\n",
       "      <th>CompleteDate</th>\n",
       "      <th>...</th>\n",
       "      <th>Rating</th>\n",
       "      <th>Relationship</th>\n",
       "      <th>Summary</th>\n",
       "      <th>Text</th>\n",
       "      <th>Title</th>\n",
       "      <th>URL</th>\n",
       "      <th>UpdateDate</th>\n",
       "      <th>Words</th>\n",
       "      <th>Text_</th>\n",
       "      <th>_merge</th>\n",
       "    </tr>\n",
       "  </thead>\n",
       "  <tbody>\n",
       "    <tr>\n",
       "      <th>0</th>\n",
       "      <td>Phone Sex, Alternate Universe - Human</td>\n",
       "      <td>Creator Chose Not To Use Archive Warnings</td>\n",
       "      <td>Blackforestfire</td>\n",
       "      <td>5</td>\n",
       "      <td>M/M</td>\n",
       "      <td>NaN</td>\n",
       "      <td>1</td>\n",
       "      <td>Gamzee Makara, Tavros Nitram</td>\n",
       "      <td>2</td>\n",
       "      <td>2015-08-09</td>\n",
       "      <td>...</td>\n",
       "      <td>Mature</td>\n",
       "      <td>Gamzee Makara/Tavros Nitram</td>\n",
       "      <td>Gamzee is away at his family\\'s house for a wh...</td>\n",
       "      <td>\\n\\xe2\\x80\\x9cMotherfuck, I miss you\\xe2\\x80\\x...</td>\n",
       "      <td>Call of Confidence</td>\n",
       "      <td>http://archiveofourown.org/works/4536558?view_...</td>\n",
       "      <td>NaN</td>\n",
       "      <td>2489.0</td>\n",
       "      <td>\\n\\xe2\\x80\\x9cMotherfuck, I miss you\\xe2\\x80\\x...</td>\n",
       "      <td>both</td>\n",
       "    </tr>\n",
       "    <tr>\n",
       "      <th>1</th>\n",
       "      <td>the stereotypical post-robot-leg-operation equ...</td>\n",
       "      <td>Creator Chose Not To Use Archive Warnings, No ...</td>\n",
       "      <td>QuintusH4Z4RD</td>\n",
       "      <td>0</td>\n",
       "      <td>M/M</td>\n",
       "      <td>NaN</td>\n",
       "      <td>1</td>\n",
       "      <td>Tavros Nitram, Equius Zahhak</td>\n",
       "      <td>0</td>\n",
       "      <td>2016-04-19</td>\n",
       "      <td>...</td>\n",
       "      <td>General Audiences</td>\n",
       "      <td>Tavros Nitram/Equius Zahhak</td>\n",
       "      <td>Tavros tries out his new robot legs under Equi...</td>\n",
       "      <td>\\nTavros felt so groggy. He had just had an am...</td>\n",
       "      <td>Motor Skills</td>\n",
       "      <td>http://archiveofourown.org/works/6597508</td>\n",
       "      <td>NaN</td>\n",
       "      <td>876.0</td>\n",
       "      <td>\\nTavros felt so groggy. He had just had an am...</td>\n",
       "      <td>both</td>\n",
       "    </tr>\n",
       "  </tbody>\n",
       "</table>\n",
       "<p>2 rows × 26 columns</p>\n",
       "</div>"
      ],
      "text/plain": [
       "                                      AdditionalTags  \\\n",
       "0              Phone Sex, Alternate Universe - Human   \n",
       "1  the stereotypical post-robot-leg-operation equ...   \n",
       "\n",
       "                                     ArchiveWarnings           Author  \\\n",
       "0          Creator Chose Not To Use Archive Warnings  Blackforestfire   \n",
       "1  Creator Chose Not To Use Archive Warnings, No ...    QuintusH4Z4RD   \n",
       "\n",
       "   Bookmarks Category  ChapterIndex  Chapters                    Characters  \\\n",
       "0          5      M/M           NaN         1  Gamzee Makara, Tavros Nitram   \n",
       "1          0      M/M           NaN         1  Tavros Nitram, Equius Zahhak   \n",
       "\n",
       "   Comments CompleteDate  ...             Rating                 Relationship  \\\n",
       "0         2   2015-08-09  ...             Mature  Gamzee Makara/Tavros Nitram   \n",
       "1         0   2016-04-19  ...  General Audiences  Tavros Nitram/Equius Zahhak   \n",
       "\n",
       "                                             Summary  \\\n",
       "0  Gamzee is away at his family\\'s house for a wh...   \n",
       "1  Tavros tries out his new robot legs under Equi...   \n",
       "\n",
       "                                                Text               Title  \\\n",
       "0  \\n\\xe2\\x80\\x9cMotherfuck, I miss you\\xe2\\x80\\x...  Call of Confidence   \n",
       "1  \\nTavros felt so groggy. He had just had an am...        Motor Skills   \n",
       "\n",
       "                                                 URL UpdateDate   Words  \\\n",
       "0  http://archiveofourown.org/works/4536558?view_...        NaN  2489.0   \n",
       "1           http://archiveofourown.org/works/6597508        NaN   876.0   \n",
       "\n",
       "                                               Text_ _merge  \n",
       "0  \\n\\xe2\\x80\\x9cMotherfuck, I miss you\\xe2\\x80\\x...   both  \n",
       "1  \\nTavros felt so groggy. He had just had an am...   both  \n",
       "\n",
       "[2 rows x 26 columns]"
      ]
     },
     "execution_count": 328,
     "metadata": {},
     "output_type": "execute_result"
    }
   ],
   "source": [
    "merged.head(2)"
   ]
  },
  {
   "cell_type": "code",
   "execution_count": 329,
   "metadata": {},
   "outputs": [],
   "source": [
    "subset = merged[merged['_merge']=='left_only']"
   ]
  },
  {
   "cell_type": "code",
   "execution_count": 330,
   "metadata": {},
   "outputs": [
    {
     "data": {
      "text/plain": [
       "39"
      ]
     },
     "execution_count": 330,
     "metadata": {},
     "output_type": "execute_result"
    }
   ],
   "source": [
    "len(subset)"
   ]
  },
  {
   "cell_type": "code",
   "execution_count": 331,
   "metadata": {},
   "outputs": [
    {
     "name": "stdout",
     "output_type": "stream",
     "text": [
      "3416 \\n\\xe2\\x80\\xa6\\xe2\\x80\\xa6\\xe2\\x80\\xa6\\xe2\\x80\\xa6\\xe2\\x80\\xa6\\xe2\\x80\\xa6\\xe2\\x80\\xa6\\xe2\\x80\\xa6\\xe2\\x80\\xa6\\xe2\\x80\\xa6\\xe2\\x80\\xa6\\xe2\\x80\\xa6\\xe2\\x80\\xa6\\xe2\\x80\\xa6\\xe2\\x80\\xa6\\xe2\\x80\\xa6\\xe2\\x80\\xa6\\xe2\\x80\\xa6\\xe2\\x80\\xa6\\xe2\\x80\\xa6\\xe2\\x80 \\x80\\xa6\\xe2\\x80\\xa6\\xe2\\x80\\xa6\\xe2\\x80\\xa6\\xe2\\x80\\xa6\\xe2\\x80\\xa6\\xe2\\x80\\xa6\\xe2\\x80\\xa6\\xe2\\x80\\xa6\\xe2\\x80\\xa6\\xe2\\x80\\xa6\\xe2\\x80\\xa6\\xe2\\x80\\xa6\\xe2\\x80\\xa6\\xe2\\x80\\xa6\\xe2\\x80\\xa6\\xe2\\x80\\xa6\\xe2\\x80\\xa6  I almost had him! Urgh, I hate kids!\n",
      "\n",
      "3462 \\nL\\'aube s\\'installait progressivement, sur Beforus, depuis maintenant quelques dizaines de minutes, et les couleurs chaudes flamboyaient au contact frileux et turquoise des \\xc3\\xa9toiles, que la nuit rejoignait comme \\xc3\\xa0 regret. Incapables de s tent\\xc3\\xa9 d\\'engager la conversation sur Trollian de son c\\xc3\\xb4t\\xc3\\xa9, pensant que son amant le contacterait bien quand il aurait eu assez d\\'espace. Et pourtant... S\\'il ne revenait jamais ? Et si c\\'\\xc3\\xa9tait d\\xc3\\xa9j\\xc3\\xa0 fini ?\n",
      "\n",
      "4270 \\n\\xe2\\x96\\x88\\xe2\\x96\\x88\\xe2\\x96\\x88\\xe2\\x96\\x88\\xe2\\x96\\x88\\xe2\\x96\\x88\\xe2\\x96\\x88\\xe2\\x96\\x88\\xe2\\x96\\x88\\xe2\\x96\\x88\\xe2\\x96\\x88\\xe2\\x96\\x88\\xe2\\x96\\x88\\xe2\\x96\\x88\\xe2\\x96\\x88\\xe2\\x96\\x88\\xe2\\x96\\x88\\xe2\\x96\\x88\\xe2\\x96\\x88\\xe2\\x96\\x88\\xe2\\x96                                                        THANKS FOR READING! >:V                      \\xe2\\x96\\x92\\xe2\\x96\\x88\\n                                                                             - equalitySaurus/KAMILA KAVITA     \\xe2\\x96\\x88\n",
      "\n",
      "4546 \\n\\nGamzee <3< John (Drabble)\\n\\n\\n\\xc2\\xa0\\n\\n\\xc2\\xa0\\n\\nBites and bruises, bites and bruises. Was this normal for a kismesis?\\xc2\\xa0 John thought to himself. A sharp slap to his face. \"Argh!\" Gamzee clamped down in the smaller\\'s wrists earning h  inflicting pain on me. I guess pretty pissed.\"\\n\\nAnger grew upon the trolls face until a large smile replaced it. Then a dark chuckle fills the quiet atmosphere. John looks up, Gam\\'s face inches from his face.\\n\\n\\xc2\\xa0\\n\\n\"Night, motherfucker.\"\n",
      "\n",
      "6452 AC: :33< *ac crawls onto karkitty\\'s lap, purring loudly*\\nAC: :33< karkitty\\nAC: :33< karkitty! >:((\\nAC: :33< *the huntress growls her displeasure, and a number of small creatures fl33 her cave in furight*\\nAC: :33< karkitty\\nAC: :33< uuugh!!! fine  FUCK WHEN IS IT.\\nAC: :33< let you know when it gets closer! i gotta go, karkitty. wifur is dropping out.\\nCG: YEAH, BYE.\\n\\narsenicCatnip [AC] ceased trolling carcinoGeneticist [CG]\\n\\nYour name is Nepeta Leijon, and you are\\xc2\\xa0so sick of this.\n",
      "\n",
      "8523 \\xc2\\xa0\\n\\n\\n\\n\\n\\n\\n\\n\\n\\nFuck/Fuck\\n\\n\\nFuck Fuck\\nFuck Fuck\\n\\n\\n\\n\\nFuck\\n\\n\\nFuck Fuck\\n\\n\\n\\n\\nFuck\\n\\n\\nFuck Fuck\\n\\n\\n\\n\\nFuck fuck\\n\\n\\nFuck Fuck\\nFuck Fuck\\nFuck Fuck\\n\\n\\n\\n\\nFuck fuck\\n\\n\\nFuck Fuck\\nFuck Fuck\\nFuck Fuck\\n\\n\\n\\n\\nFuck fu . Fuck\\nFuck Fuck Fuck Fuck Fuck\\nFuck Fuck Fuck\\nFuck Fuck\\nFuck Fuck\\nFUCK Fuck Fuck\\nFuck Fuck\\nFUCK Fuck Fuck Fuck Fuck\\nFuck Fuck Fuck Fuck Fuck, Fuck, Fuck\\n\\n\\n\\n\\nFuck\\n\\n\\nFuck Fuck\\n\\n\\n\\n\\nFuck fuck fuck fuck\\n\\n\\nFuck Fuck Fuck\\nFuck Fuck\n",
      "\n",
      "13574 \\xc2\\xa0Tu nombre es Tavros Nitram.Hace 7 a\\xc3\\xb1os eras un cr\\xc3\\xado asustado mirando la prematr\\xc3\\xadcula de la universidad que se preguntaba c\\xc3\\xb3mo narices iba a rellenar tus 8 opciones de grado (Planes A,B,C,D,E,F,G y H los llamaba Eri ijeran que dentro de un a\\xc3\\xb1o te volver\\xc3\\xadas a re\\xc3\\xadr por el mismo chiste, pero dicho en voz alta en vuestro primer aniversario, tampoco te lo hubieras cre\\xc3\\xaddo.Tu historia es un poco m\\xc3\\xa1s larga de explicar. Pero hay tiempo.\n",
      "\n",
      "13598 Tu nombre es Tavros Nitram.Hoy es el d\\xc3\\xada despu\\xc3\\xa9s del Accidente Ruka 2k14, y cuando abres Twitter te das cuenta de 2 cosas:La primera: Aparentemente la publicidad, aunque mala, siempre es buena. Tienes m\\xc3\\xa1s seguidores que nunca. Tu leva 2 horas dando el co\\xc3\\xb1azo para que lo pongas a cargar y tu has ignorado en favor de seguir leyendo finalmente te abandona. En el fondo, es algo bueno. Podr\\xc3\\xadas haber cometido alguna estupidez, como volver a intentar mandar un mensaje)\n",
      "\n",
      "13614 taste my blade you ninety pound son of a devilbeaSHOLYSHITAAAAAAAAAAAAAAAAAAAAAAAAAAAAAAAAAAAAAAAAAAAAAAAAAAAAAAAUUUUUUUUUUUUUUUUUUGGGGGGGGGGGGGGGGGGHHHHHHHHHHHHHHHHWHATTHEACTUALFUCKWHATTHEACTUALFUCKJUSTHAPPENEDOHMYFUCKINGGODJESUSCHRISTKIDNAPPINGFUCK LEASEFMLILEAVEMYWILLTowhatwhatwhat the hellhow didwhy am iand not on my bed too but on the giant pile of wires of all places\\xc2\\xa0\\xc2\\xa0\\xc2\\xa0\\xc2\\xa0it\\xc2\\xa0took my fucking apple juice didnt it\\xc2\\xa0\\xc2\\xa0\\xc2\\xa0\\xc2\\xa0god damn\\xc2\\xa0\n",
      "\n",
      "16533 \\nCharacter - Original Blood Color - Original Pesterchum Name [Abbreviation] | Changed Character Name - Swapped Blood Color - New Pesterchum Name [Abbreviation] \\n\\nEquius Zahhak - Indigo - centaursTesticle [CT] | Equius Vantas - Candy Red - carefulT idan Makara - Purple - constellatoryAlignment [CA]\\nNepeta Leijon - Olive Green - arsenicCatnip [AC] | Nepeta Ampora - Violet - almightyCuttlefish [AC]\\nSollux Captor - Yellow - twinArmageddons [TA] | Sollux Peixes - Fuschia - tentacularAbstract [TA]\n",
      "\n",
      "16823 >12<John gulped, glancing at the Cornucopia and around him at the other Tributes. He could see Rose, she had her eyes dead-set on the Cornucopia. He shifted his eyes to Tavros, standing uneasily on his new, artificial legs. PM was similarly focused o  to sit next to Rose, patting her on the back once, and watching the sky with her. \"...I guess I missed the guy from One.\"\"No, you hit him, it just wasn\\'t enough to kill him.\"Aradia nodded. \"So... we have the cornucopia, now what?\"\"We wait and see.\"\n",
      "\n",
      "27370 Red/Matesprit:\\xc2\\xa0Karkat x Sollux Karkat x Terezi Karkat x Nepeta Karkat x Karkat Aradia x FeferiAradia x TavrosTavros x GamzeeTavros x EridanSollux  x Terezi Sollux  x NepetaNepeta x Kanaya Nepeta x EquiusNepeta x FeferiNepeta x TereziKanaya x A e - NepetaEquius x Nepeta - SolluxEquius x Eridan - VriskaGamzee x Nepeta - KanayaGamzee x Feferi - EridanGamzee x Vriska - TereziGamzee x Terezi - VriskaGamzee x Gamzee - FeferiEridan x Feferi - SolluxEridan x Gamzee - AradiaFeferi x Aradia - Karkat\n",
      "\n",
      "27417 Red/Matesprit:Kankri x MitunaKankri x PorrimKankri x CronusKankri x KankriKankri x LatulaKankri x MeulinDamara x AreanaDamara x RufiohDamara x MeenahRufioh x HorrusRufioh x PorrimRufioh x KurlozMituna x KankriMituna x CronusMituna x LatulaMeulin x Ka h - PorrimAreana x Damara - MeenahAreana x Rufioh - MeulinHorrus x Porrim - KankriHorrus x Kankri - PorrimCronus x Kankri - MitunaCronus x Porrim - KurlozCronus x Meenah - AreanaCronus x Cronus - MeulinMeenah x Porrim - DamaraMeenah x Cronus - Kankri\n",
      "\n",
      "28030 \\n\\n\\n\\nAnswer Key\\n\\n\\nKarkat\\n\\n\\nAradia\\n\\n\\nTavros\\n\\n\\nSollux\\n\\n\\nNepeta\\n\\n\\nKanaya\\n\\n\\nTerezi\\n\\n\\nVriska\\n\\n\\nEquius\\n\\n\\nGamzee\\n\\n\\nEridan\\n\\n\\nFeferi\\n\\n\\n\\n\\nKarkat\\n\\n\\nX\\n\\n\\n\\xe2\\x99\\xa3 \\n\\n\\n\\xe2\\x99\\xa5 \\n\\n\\n\\xe2\\x99\\xa3 \\n\\n\\n \\ \\n\\n \\n\\n\\n \\n\\n\\n\\xe2\\x99\\xa5 \\n\\n\\n\\xe2\\x99\\xa3 \\n\\n\\n \\n\\n\\n\\xe2\\x99\\xa3 \\n\\n\\nX\\n\\n\\n \\n\\n\\n\\n\\nFeferi\\n\\n\\n \\n\\n\\n \\n\\n\\n \\n\\n\\n \\n\\n\\n\\xe2\\x99\\xa3 \\n\\n\\n\\xe2\\x99\\xa0 \\n\\n\\n\\xe2\\x99\\xa3 \\n\\n\\n \\n\\n\\n\\xe2\\x99\\xa5 \\n\\n\\n\\xe2\\x99\\xa6 \\n\\n\\n \\n\\n\\nX\n",
      "\n",
      "35464 --------------------------------------\\nAspect 6: Heart\\n---------------------------------------\\n<3\\n\\nDENIZEN: YALDABAOTH \\n\\n\\xc2\\xa0\\nUgh, this guy. He\\'s the most violent of the denizens; one of the few npcs that is eager to kill you and then ea bout the previous item. the living mirror later died of a mental breakdown and lack of friends.\\nAA: Holy shit doge\\nAA: I am honestly glad I don\\'t spend much time in the same sessions as you\\n\\xc2\\xa0\\n\\n\\n\\n\\n\\nNotes:\\n\\nnew chapter on tuesday : )\n",
      "\n",
      "35881 With a\\xc2\\xa0audible typing sound from dirk\\'s keyboard, he finally decided to ask damara to video chat with him she did reply within a few minute range of \\'AA:\\xc2\\xa0\\xe7\\xa2\\xba\\xe3\\x81\\x8b\\xe3\\x81\\xab\\xe3\\x80\\x81\\xe3\\x81\\x97\\xe3\\x81\\x8b\\xe3\\x81 xe3\\x81\\x82\\xe3\\x81\\xaa\\xe3\\x81\\x9f\\xe3\\x81\\xae\\xe3\\x83\\x99\\xe3\\x83\\x83\\xe3\\x83\\x89\\xe3\\x81\\x9f\\xe3\\x81\\x84\\xe3\\x81\\xa7\\xe3\\x81\\x99.\"\\xc2\\xa0\\xc2\\xa0\\xc2\\xa0\\n\\n\\n\\n\\nNotes:\\n\\nAm i a butt? yes i am i never finish any smut fics i do don\\'t worry o3o.\n",
      "\n",
      "36734 PROMPT: \\xc2\\xa0John <3/<3< Karkat Remember that time Karkat sent John\\xc2\\xa0a human song\\xc2\\xa0he found that properly conveyed his feelings for him?\\xc2\\xa0\\xc2\\xa0carcinoGeneticist\\xc2\\xa0began pestering\\xc2\\xa0ectoBiologistCG: EGBERTCG: I WANT Y  may not know the \\xe2\\x80\\x98proper\\xe2\\x80\\x99 definitionEB: but i know i want to kiss you and punch you in the faceEB: maybe moreCG: MEET ME IN THE MAIN HALLCG: BE PREPARED FOR A STRIFEcarcinoGenetecist\\xc2\\xa0ceased pestering\\xc2\\xa0ectoBiologist\n",
      "\n",
      "38967 \\n===>Nine Sweeps<===\\n\\n\\xc2\\xa0\\n\\xc2\\xa0\\n\\xe2\\x80\\x9cAre you sure we should be doing this?\\xe2\\x80\\x9d you whisper-yelled to Meenah, as you followed her stealthily through the corridors of the Palace. \\xe2\\x80\\x9cI mean, it\\xe2\\x80\\x99s your coro your midsection before you got back to the palace, lest your matesprit ask who helped you. You\\xe2\\x80\\x99d also need to find a good place to hide Porrim\\xe2\\x80\\x99s cloak.\\n\\xc2\\xa0\\nYou\\xe2\\x80\\x99d return it to her for sure.\\n\\xc2\\xa0\\nOne day...\n",
      "\n",
      "40826 Sorted by Fandom\\nHomestuck\\n\\nJohn x RoseJohn x DaveJohn x JadeJohn x KarkatJohn x VriskaJohn x Vriska 2Rose x DaveRose x JadeRose x KarkatRose x KanayaRose x FeferiDave x JadeDave x Jade 2Dave x TereziDave x Gamzee (black)Jade x SolluxJade x Nepeta x TereziKarkat x Terezi 2Karkat x Vriska (black)Karkat x FeferiTerezi x Gamzee (black)Ravenpaw x Violet\\nF/F\\n\\nRose x JadeRose x KanayaRose x FeferiJade x NepetaJade x KanayaJane x RoxyVriska x MabelReimu x MarisaSakuya x Hong MeilingKisume x Yamame\n",
      "\n",
      "42214 \\nAC: :33 < *ac slinks into the fancy house and twines around roxy\\'s legs, purring*\\nTG: *rolal obligingly sits down bc erry1 knows kitties want laps when they do that*\\nAC: :33 < *ac is delighted this purrson is so understanding! she jumps up into  uch that\\'s about perfect for the next step in this process.\\nYou take a seat. Equius looks ridiculously nervous when he sits down next to you. It\\'s kind of cute. You hold out the book. \"All right, sensei. Teach me of your noble literary tradition.\"\n",
      "\n",
      "45887 <*)))><\\xc2\\xa0The day had been going swimmingly\\xe2\\x80\\xa6well, until it happened. It wasn\\xe2\\x80\\x99t like you hadn\\xe2\\x80\\x99t expected it! Because you had. \\xe2\\x80\\x9cDreaded\\xe2\\x80\\x9d was actually the better verb to use in this case.But it e come to understand each other and are always supportive of the other\\xe2\\x80\\x99s endeavors. Right now though, you could just use a close ally to talk to.\\n\\xc2\\xa0\\n\\n\\n\\n\\n\\n\\n\\n\\n\\n\\nSeries this work belongs to:\\n\\nPart 1 of the MythStuck series\n",
      "\n",
      "51444 \\ncarcinoGeneticist [CG] has opened memo SJHFBKSHDGFKGSDFKSDGFFFFF\\n\\nGA: UhGC: >:?TC: hAhAhA wHaTAC: :33 < karkatnip are you okay?CG: I\\'VE DECIDED TO SAVE TIME BY BANGING MY SKULLPLATE ON MY KEYBOARD AT THE BEGINNING OF THE MEMO, RATHER THAN WAITIN D.\\n\"I don\\'t know about you, but I\\'m going to take this, and go sit on the roof, and eat at least up to \\'carcasses.\\'\" She offered her arm.\\n\"Shore sounds good to me!\" Feferi said. \\nOn the way out, she elbowed Kanaya in the side and took the box.\n",
      "\n",
      "53619 Rose/<3Grand Highblood? You said you take request :)Asked by AnonymousShe was never afraid of him, and that\\xe2\\x80\\x99s what drew him to her. How was it that a frail, soft tiny human like her never so much as blinked when he bared his teeth? In any  ng, and it made his blood boil at the thought of something hurting the girl.With a mighty sigh, the highblood settled back in his pile of, now softer items for the girl, and hummed contently as her hands scratched at his scalp and horns.All was good.\n",
      "\n",
      "53636 Kurloz<3Jade ;) PleaseAnonymous Kurloz met the human in a dream bubble, the bright and rather loud human thought his interests and he decided to stay.  She seemed to have no problem talking for him, even going out of her way to learn some sign langua ead to him finding Jade when ever she went to sleep. She would show him her friends or how to play a \\xe2\\x80\\x9dgit-tar\\xe2\\x80\\x9d, as she calls it.   Every time they spent together made him sure that he felt more and more red for the little human.\n",
      "\n",
      "54455 \\n\\n@@@@@@@@@@@@@@@@@@@@@@@@@@@@@@@@@@@@@@@@@@@@@@@@@@@@@@@@@@@@@@@@@@@@@@@@@@@@@@@@@@@@@@@@@@@@@@@@@@@@@@@@@@@@@@@@@@@@@@@@@@@@@\\n@@@@@@@@@@@@@@@@@@@@@@@@@@@@@@@@@@@@@@@@@@@@@@@@@@@@@@@@@@@@@++@@@@@@@@@@@@@@@@@@@@@@@@@@@@@@@@@@@@@@@@@@@@@@@@@@@@@@@@ @@@@@@@@@@@@@@@@@@@@@@@@@@@@@@@@@@@@@@@@@@@@@@@@@@@@@@@@@@@@@@@@@@@@@@@@@@@@@@@@@@@@@@@@@@@@@@@@@@@@@@@@@@@@@@@@@@@@@\\n\\n\\n\\n.......................................................- OFFLINE -...........................................................\n",
      "\n",
      "54502 \\n::::::::::::::::::::::::::::::::::::::::::::::::::::::::::::::::::::::::::::::::::::::::::::::::::::::::::::::::::::::::::::::::::\\n\\'########:\\'########::\\'########::\\'#######::\\'##::::\\'##:\\'########:\\'##::: ##:\\'########:\\'##:::::::\\'##:::\\'##:: @@@@@@@@@@@@@@@@@@@@@@@@@@@@@@@@@@@@@@@@@@@@@@@@@@@@@@@@@@@@@@@@@@@@@@@@@@@@@@@@@@@@@@@@@@@@@@@@@@@@@@@@@@@@@@@@@@@\\n\\n\\n............................................................- OFFLINE -..........................................................\n",
      "\n",
      "56135 \\n\\n@@@@@@@@@@@@@@@@@@@@@@@@@@@@@@@@@@@@@@@@@@@@@@@@@@@@@@@@@@@@@@@@@@@@@@@@@@@@@@@@@@@@@@@@@@@@@@@@@@@@@@\\n@;;;;;;;;+;;;;;;:+++++++++++++:;:++::++;;;;;;;;;;;;;;;;;;;;;;;;;;;;;;;;;;;;;;;;;;;;;;;;;;;;;;;;;;;;;;@\\n@;;;;;;;;:;;;;;;;+++:;;:::;:::++:::++: @@@@@@@@@@@@@@@@@@@@@@@@@@@@@@@@@@@@@@@@@@@@@@@@@@@@@@@@@@@@@@@@@@@@@@@@@@@@@@@@@@@@@@@@@@@@@@@@@@@@@@@@@@@@@@@@@@@\\n\\n\\n\\n............................................................OFFLINE............................................................\n",
      "\n",
      "56144 \\n\\n@@@@@@@@@@@@@@@@@@@@@@@@@@@@@@@@@@@@@@@@@@@@@@@@@@@@@@@@@@@@@@@@@@@@@@@@@@@@@@@@@@@@@@@@@@@@@@@@@@@@@@\\n@;;;;;;;;+;;;;;;:+++++++++++++:;:++::++;;;;;;;;;;;;;;;;;;;;;;;;;;;;;;;;;;;;;;;;;;;;;;;;;;;;;;;;;;;;;;@\\n@;;;;;;;;:;;;;;;;+++:;;:::;:::++:::++: @\\n@@                                                                             @@\\n@@@@@@@@@@@@@@@@@@@@@@@@@@@@@@@@@@@@@@@@@@@@@@@@@@@@@@@@@@@@@@@@@@@@@@@@@@@@@@@@@\\n @@@@@@@@@@@@@@@@@@@@@@@@@@@@@@@@@@@@@@@@@@@@@@@@@@@@@@@@@@@@@@@@@@@@@@@@@@@@@@@ \n",
      "\n",
      "58509 \\n\\n::::::::::::::::::::::::::::::::::::::::::::::::::::::::::::::::::::::::::::::::::::::::::::::::::::::::::::::::::::::::::::::::::\\n:::::::::::::::::::::::::::::::::::::::::::::::::::::::::::::::::::::::::::::::::::::::::::::::::::::::::::::::::: @@@@@@@@@@@@@@@@@@@@@@@@@@@@@@@@@@@@@@@@@@@@@@@@@@@@@@@@@@@@@@@@@@@@@@@@@@@@@@@@@@@@@@@@@@@@@@@@@@@@@@@@@@@@@@@@@@@@@@@@@@@@@@@\\n\\n\\n.....................................................- OFFLINE -.....................................................\n",
      "\n",
      "59321 \\n\\n@@@@@@@@@@@@@@@@@@@@@@@@@@@@@@@@@@@@@@@@@@@@@@@@@@@@@@@@@@@@@@@@@@@@@@@@@@@@@@@@@@@@@@@@@@@@@@@@@@@@@@@@@@@@@@@@@@@@@@@@@@@@@@@@@@@@\\n@@@@@@@@@@@@@@@@@@@@@@@@@@@@@@@@@@@@@@@@@@@@@@@@@@@@@@@@@@@@@@@@@@@@@@@@@@@@@@@@@@@@@@@@@@@@@@@@@@@@@@@@@@@@@@@@ e2\\x96\\x93\\xe2\\x96\\x93\\xe2\\x96\\x93\\xe2\\x96\\x93\\xe2\\x96\\x93\\xe2\\x96\\x93\\xe2\\x96\\x93\\xe2\\x96\\x93\\xe2\\x96\\x93\\xe2\\x96\\x93\\xe2\\x96\\x93\\xe2\\x96\\x93\\xe2\\x96\\x93\\xe2\\x96\\x93\\xe2\\x96\\x93\\xe2\\x96\\x93\\xe2\\x96\\x93\\xe2\\x96\\x93\\xe2\\x96\\x93\\xe2\\x96\\x93\\xe2\\x96\\x93\n",
      "\n",
      "59431 \\n\\n@@@@@@@@@@@@@@@@@@@@@@@@@@@@@@@@@@@@@@@@@@@@@@@@@@@@@@@@@@@@@@@@@@@@@@@@@@@@@@@@@@@@@@@@@@@@@@@@@@@@@@@@@@@@@@@@@@@@@@@@@@@@@@@@\\n@@@@@@@@@@@@@@@@@@@@@@@@@@@@@@@@@@@@@@@@@@@@@@@@@@@@@@@@@@@@@@@@@@@@@@@@@@@@@@@@@@@@@@@@@@@@@@@@@@@@@@@@@@@@@@@@@@@@ @@@@@@@@@@@@@@@@@@@@@@@@@@@@@@@@@@@@@@@@@@@@@@@@@@@@@@@@@@@@@@@@@@@@@@@@@@@@@@@@@@@@@@@@@@@@@@@@@@@@@@@@@@@@@@@@@\\n\\n\\n\\n............................................................- OFFLINE -..........................................................\n",
      "\n",
      "59453 \\n\\n@@@@@@@@@@@@@@@@@@@@@@@@@@@@@@@@@@@@@@@@@@@@@@@@@@@@@@@@@@@@@@@@@@@@@@@@@@@@@@@@@@@@@@@@@@@@@@@@@@@@@@@@@@@@@@@@@@@@@@@@@@@@@@@@@\\n@@@@@@@@@@@@@@@@@@@@@@@@@@@@@@@@@@@@@@@@@@@@@@@@@*******************************@@@@@@@@@@@@@@@@@@@@@@@@@@@@@@@@@@@ 96\\x88\\xe2\\x96\\x88\\xe2\\x96\\x88\\xe2\\x96\\x88\\xe2\\x96\\x88\\xe2\\x96\\x88                                                    \\n                                                                                                                                  \n",
      "\n",
      "59472 \\n\\n\\n\\n\\n\\n\\n\\xe2\\x96\\x88\\xe2\\x96\\x88\\xe2\\x96\\x88\\xe2\\x96\\x88\\xe2\\x96\\x88\\xe2\\x96\\x88\\xe2\\x96\\x88\\xe2\\x96\\x88\\xe2\\x96\\x88\\xe2\\x96\\x88\\xe2\\x96\\x88\\xe2\\x96\\x88\\xe2\\x96\\x88\\xe2\\x96\\x88\\xe2\\x96\\x88\\xe2\\x96\\x88\\xe2\\x96\\x88\\xe2\\x96\\x88\\xe2\\x96\\x88\\xe2\\x96 96\\x88\\xe2\\x96\\x88\\xe2\\x96\\x88\\xe2\\x96\\x88\\xe2\\x96\\x88\\xe2\\x96\\x88\\xe2\\x96\\x88\\xe2\\x96\\x88\\xe2\\x96\\x88\\xe2\\x96\\x88\\xe2\\x96\\x88\\xe2\\x96\\x88\\xe2\\x96\\x88\\xe2\\x96\\x88\\xe2\\x96\\x88\\xe2\\x96\\x88\\xe2\\x96\\x88\\n\\n\\n\\n\\n==>aspect chapter: Flesh by marmaladeSkies\n",
      "\n",
      "59489 \\n\\n\\n\\n\\n\\n\\n\\xe2\\x96\\x88\\xe2\\x96\\x88\\xe2\\x96\\x88\\xe2\\x96\\x88\\xe2\\x96\\x88\\xe2\\x96\\x88\\xe2\\x96\\x88\\xe2\\x96\\x88\\xe2\\x96\\x88\\xe2\\x96\\x88\\xe2\\x96\\x88\\xe2\\x96\\x88\\xe2\\x96\\x88\\xe2\\x96\\x88\\xe2\\x96\\x88\\xe2\\x96\\x88\\xe2\\x96\\x88\\xe2\\x96\\x88\\xe2\\x96\\x88\\xe2\\x96 x96\\x88\\xe2\\x96\\x88\\xe2\\x96\\x88\\xe2\\x96\\x88\\xe2\\x96\\x88\\xe2\\x96\\x88\\xe2\\x96\\x88\\xe2\\x96\\x88\\xe2\\x96\\x88\\xe2\\x96\\x88\\xe2\\x96\\x88\\xe2\\x96\\x88\\xe2\\x96\\x88\\xe2\\x96\\x88\\xe2\\x96\\x88\\xe2\\x96\\x88\\xe2\\x96\\x88\\n\\n\\n\\n\\n ==>Maturity Quests by spacetimeCounselor\n",
      "\n",
      "64818 \\n\\xc2\\xa0\\n-- ectoGrip [EG] began pestering carcinoCalibrator [CC] --\\n\\nCC: [:B<CC: WH4T\\'S UP??EG: F8CKING HELP MECC: ?:B<EG: I\\'M G8NNA F8CKING D8E.EG: i d8n\\'t want to die karezi........EG: I D8N\\'T W8NT T8 D8E!!!!!!!!CC: B4CK TH3 FUCK UP.CC: WH  D4V3Z1 W1LL B3 PR4NK3D 1N TH3 F4LLOUT FROM 1T.EG: heh ::::)CC: SO YOU\\xe2\\x80\\x99LL B3 4LL R1GHT TH3N?EG: i think i will...CC: GOOD. (:B<CC: 1\\xe2\\x80\\x99LL B3 TH3R3 SOON OK4Y?CC: <>EG: <>\\n-- carcinoCalibrator [CC] ceased pestering ectoGrip [EG] --\n",
      "\n",
      "65766 Heeeeeeeey Fussyfangs <3I didn\\'t want to do this. I wanted to stay with you. 8ut I simply can\\'t stand the desert and I know you never liked the sea. We can\\'t live in the forest simply 8ecause of the danger and I know how you feel about crowds so t her stupid blue face, but fuck it, don\\'t get in the way of Vantas and his groceries.\"\"What is it?\" Kanaya said. She still didn\\'t like how casual Karkat seemed to regard murder.\"It\\'s food. Actual food. Not lusus shit in bags.\"\"...Good job, Karkat.\"\n",
      "\n",
      "66544 Chapter 26Butterflies\\ncuttlefishCuller [CC] began trolling arsenicCatnip [AC].CC: )(----EY!! Nepeta!!!\\nCC: N----EP---------ETA!!!!!AC: :33 < whoa\\nAC: :33 < you really forked that TA there!CC: )(a)(a, yea)(, I reely launc)(ed t)(at one!!\\nCC: But t nAC: where are you going???carcinoGeneticist [CG] ceased trolling arsenicCatnip [AC].AC: karkat!!!!\\nAC: fuck\\nAC: fuck fuck fuck fuck FUCK\\nAC: psyche\\nAC: this had BETTER BE FUCKING WORTH ITarsenicCatnip [AC] ceased trolling carcinoGeneticist [CG].\n",
      "\n",
      "77998 <== And so you entered.And so I arrived in the Land of Phaze and Blood.My first few minutes were spent thinking about how I didn\\'t feel dead, and that game construct pomegranate seeds didn\\'t taste very good for a last meal. Actually, they didn\\'t r g in the pit of my digestive sac again; the one you get where you know something terrible is going to happen, but there\\'s no way to stop it. I got that feeling a lot over the course of our session.\"Why?\"\"Because the meteors are going to destroy it.\"\n",
      "\n",
      "78347 \\n-- arsenicCatnip  [AC] began trolling ardentlyCarnivore [AC] --\\nAC: :33 < *the curious kitty bats at the hissterious new scr33nname on her chumproll*AC: >:OO < a copycat! *she says upawn finding her very own initials on it*AC: >:EE < there can be  r Dire Sabertooth Purrbeast subspecies enjoys a Rapid growth to adulthood. CG: I HATE YOU SO, SO, SO MUCH. CG: WHY MISTER VANTAS, that would be Quite Improper, me being so eminently Unripe. (:B\\n\\n-- carcinoGeneticist [CG]\\'s computer ragesploded! --\n",
      "\n"
     ]
    }
   ],
   "source": [
    "for idx, row in subset.iterrows():\n",
    "    print(idx, row['Text'][0:250] + ' ' + row['Text'][-250:])\n",
    "    print()"
   ]
  },
  {
   "cell_type": "code",
   "execution_count": 332,
   "metadata": {},
   "outputs": [],
   "source": [
    "eng_l = [\n",
    "4546 ,\n",
    "\n",
    "6452 ,\n",
    "\n",
    "16823 ,\n",
    "\n",
    "35464 ,\n",
    "\n",
    "35881 ,\n",
    "\n",
    "36734 ,\n",
    "\n",
    "38967,\n",
    "\n",
    "42214,\n",
    "\n",
    "45887 ,\n",
    "\n",
    "51444 ,\n",
    "\n",
    "53619 ,\n",
    "\n",
    "53636,\n",
    "\n",
    "64818 ,\n",
    "\n",
    "65766,\n",
    "\n",
    "77998,\n",
    "\n",
    "78347 \n",
    " ]"
   ]
  },
  {
   "cell_type": "code",
   "execution_count": 333,
   "metadata": {},
   "outputs": [
    {
     "data": {
      "text/plain": [
       "79523"
      ]
     },
     "execution_count": 333,
     "metadata": {},
     "output_type": "execute_result"
    }
   ],
   "source": [
    "len(preprocessed)"
   ]
  },
  {
   "cell_type": "code",
   "execution_count": 334,
   "metadata": {},
   "outputs": [],
   "source": [
    "for idx in eng_l:\n",
    "    preprocessed = preprocessed.append(subset.loc[idx])"
   ]
  },
  {
   "cell_type": "code",
   "execution_count": 335,
   "metadata": {},
   "outputs": [
    {
     "data": {
      "text/plain": [
       "79539"
      ]
     },
     "execution_count": 335,
     "metadata": {},
     "output_type": "execute_result"
    }
   ],
   "source": [
    "len(preprocessed)"
   ]
  },
  {
   "cell_type": "code",
   "execution_count": 336,
   "metadata": {},
   "outputs": [],
   "source": [
    "preprocessed.to_csv(preprocessed_path, sep='\\t', index=False)"
   ]
  },
  {
   "cell_type": "code",
   "execution_count": null,
   "metadata": {},
   "outputs": [],
   "source": []
  }
 ],
 "metadata": {
  "anaconda-cloud": {},
  "kernelspec": {
   "display_name": "Python 3 (ipykernel)",
   "language": "python",
   "name": "python3"
  },
  "language_info": {
   "codemirror_mode": {
    "name": "ipython",
    "version": 3
   },
   "file_extension": ".py",
   "mimetype": "text/x-python",
   "name": "python",
   "nbconvert_exporter": "python",
   "pygments_lexer": "ipython3",
   "version": "3.8.11"
  }
 },
 "nbformat": 4,
 "nbformat_minor": 1
}
