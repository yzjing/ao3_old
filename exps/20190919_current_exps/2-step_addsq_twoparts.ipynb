{
 "cells": [
  {
   "cell_type": "code",
   "execution_count": 1,
   "metadata": {},
   "outputs": [],
   "source": [
    "import pandas as pd\n",
    "import os\n",
    "import matplotlib.pyplot as plt\n",
    "%matplotlib inline\n",
    "import numpy as np\n",
    "import seaborn as sns\n",
    "from statsmodels.formula.api import ols\n",
    "import statsmodels.api as sm\n",
    "from sklearn.linear_model import LogisticRegression"
   ]
  },
  {
   "cell_type": "code",
   "execution_count": 2,
   "metadata": {},
   "outputs": [],
   "source": [
    "df_all = pd.read_csv('fanfic_regression_data_merged_chs.tsv', sep = '\\t')"
   ]
  },
  {
   "cell_type": "code",
   "execution_count": 3,
   "metadata": {},
   "outputs": [
    {
     "data": {
      "text/plain": [
       "101002"
      ]
     },
     "execution_count": 3,
     "metadata": {},
     "output_type": "execute_result"
    }
   ],
   "source": [
    "len(df_all)"
   ]
  },
  {
   "cell_type": "code",
   "execution_count": 4,
   "metadata": {},
   "outputs": [
    {
     "data": {
      "text/plain": [
       "0    0.185995\n",
       "1    0.235195\n",
       "2    0.518356\n",
       "3    0.202233\n",
       "4    0.500391\n",
       "Name: Topic_novelty, dtype: float64"
      ]
     },
     "execution_count": 4,
     "metadata": {},
     "output_type": "execute_result"
    }
   ],
   "source": [
    "df_all['Topic_novelty'].head()"
   ]
  },
  {
   "cell_type": "code",
   "execution_count": 5,
   "metadata": {},
   "outputs": [],
   "source": [
    "df_all = df_all.replace([np.inf, -np.inf], np.nan)\n",
    "df_all = df_all.fillna(0)\n",
    "term_ave = np.average(df_all['Term_novelty'])\n",
    "topic_ave = np.average(df_all['Topic_novelty'])\n",
    "df_all['Term_novelty_cent'] = df_all['Term_novelty'] - term_ave\n",
    "df_all['Topic_novelty_cent'] = df_all['Topic_novelty'] - topic_ave\n",
    "df_all['Term_novelty_squared'] = np.square(df_all['Term_novelty_cent'])\n",
    "df_all['Topic_novelty_squared'] = np.square(df_all['Topic_novelty_cent'])"
   ]
  },
  {
   "cell_type": "code",
   "execution_count": 6,
   "metadata": {},
   "outputs": [
    {
     "data": {
      "text/plain": [
       "0    0.010944\n",
       "1    0.003071\n",
       "2    0.051869\n",
       "3    0.007810\n",
       "4    0.044008\n",
       "Name: Topic_novelty_squared, dtype: float64"
      ]
     },
     "execution_count": 6,
     "metadata": {},
     "output_type": "execute_result"
    }
   ],
   "source": [
    "df_all['Topic_novelty_squared'].head()"
   ]
  },
  {
   "cell_type": "code",
   "execution_count": 7,
   "metadata": {},
   "outputs": [
    {
     "data": {
      "text/plain": [
       "101002"
      ]
     },
     "execution_count": 7,
     "metadata": {},
     "output_type": "execute_result"
    }
   ],
   "source": [
    "len(df_all)"
   ]
  },
  {
   "cell_type": "code",
   "execution_count": 8,
   "metadata": {},
   "outputs": [],
   "source": [
    "# from statsmodels.stats.outliers_influence import variance_inflation_factor\n"
   ]
  },
  {
   "cell_type": "code",
   "execution_count": 9,
   "metadata": {},
   "outputs": [],
   "source": [
    "# df_all = df_all.replace([np.inf, -np.inf], np.nan)\n",
    "# df_all = df_all.dropna(how = 'any')"
   ]
  },
  {
   "cell_type": "code",
   "execution_count": 10,
   "metadata": {},
   "outputs": [],
   "source": [
    "# df_all = df_all[['Chapters',\\\n",
    "#         'Term_novelty', 'Term_novelty_squared', 'Topic_novelty', 'Topic_novelty_squared',\\\n",
    "#         'Freq_relationship', 'Category_F_M',\\\n",
    "#        'Category_Gen', 'Category_M_M', 'Category_Multi', 'Category_Other','Category_Unknown', \\\n",
    "#        'ArchiveWarnings_underage', 'ArchiveWarnings_death',\\\n",
    "#        'ArchiveWarnings_choose_no', 'ArchiveWarnings_no_apply',\\\n",
    "#        'ArchiveWarnings_violence','ArchiveWarnings_noncon',\\\n",
    "#        'author_fic_cnt', 'Rating_G',\\\n",
    "#        'Rating_M', 'Rating_N', 'Rating_T',\\\n",
    "#        'Fandom_dcu', 'Fandom_doctor_who', 'Fandom_star_wars',\n",
    "#        'Fandom_arthurian', 'Fandom_supernatural', 'Fandom_haikyuu',\n",
    "#        'Fandom_kuroko_no_basuke', 'Fandom_hamilton_miranda',\n",
    "#        'Fandom_dragon_age', 'Fandom_the_walking_dead', 'Fandom_buffy',\n",
    "#        'Fandom_les_miserables', 'Fandom_naruto', 'Fandom_tolkien',\n",
    "#        'Fandom_shakespare', 'Fandom_hetalia', 'Fandom_attack_on_titan',\n",
    "#        'Fandom_ms_paint_adventures', 'Fandom_marvel',\n",
    "#        'Fandom_sailor_moon', 'Fandom_one_direction', 'Fandom_sherlock',\n",
    "#        'History']]"
   ]
  },
  {
   "cell_type": "code",
   "execution_count": 11,
   "metadata": {
    "scrolled": true
   },
   "outputs": [],
   "source": [
    "# for i in range(len(df_all.columns.values)):\n",
    "#     print(df_all.columns.values[i], variance_inflation_factor(df_all.values, i))"
   ]
  },
  {
   "cell_type": "markdown",
   "metadata": {},
   "source": [
    "### Logistic"
   ]
  },
  {
   "cell_type": "code",
   "execution_count": 12,
   "metadata": {},
   "outputs": [
    {
     "data": {
      "text/plain": [
       "array(['Bookmarks', 'Chapters', 'Hits', 'Kudos', 'Words', 'Comments',\n",
       "       'URL_x', 'Term_novelty', 'Entropy', 'URL_y', 'Topic_novelty',\n",
       "       'Freq_relationship', 'Category_F_F', 'Category_F_M',\n",
       "       'Category_Gen', 'Category_M_M', 'Category_Multi', 'Category_Other',\n",
       "       'Category_Unknown', 'ArchiveWarnings_underage',\n",
       "       'ArchiveWarnings_death', 'ArchiveWarnings_choose_no',\n",
       "       'ArchiveWarnings_no_apply', 'ArchiveWarnings_violence',\n",
       "       'ArchiveWarnings_noncon', 'author_fic_cnt', 'Rating_E', 'Rating_G',\n",
       "       'Rating_M', 'Rating_N', 'Rating_T', 'Fandom_harry_potter',\n",
       "       'Fandom_dcu', 'Fandom_doctor_who', 'Fandom_star_wars',\n",
       "       'Fandom_arthurian', 'Fandom_supernatural', 'Fandom_haikyuu',\n",
       "       'Fandom_kuroko_no_basuke', 'Fandom_hamilton_miranda',\n",
       "       'Fandom_dragon_age', 'Fandom_the_walking_dead', 'Fandom_buffy',\n",
       "       'Fandom_les_miserables', 'Fandom_naruto', 'Fandom_tolkien',\n",
       "       'Fandom_shakespare', 'Fandom_hetalia', 'Fandom_attack_on_titan',\n",
       "       'Fandom_ms_paint_adventures', 'Fandom_marvel',\n",
       "       'Fandom_sailor_moon', 'Fandom_one_direction', 'Fandom_sherlock',\n",
       "       'History', 'Term_novelty_cent', 'Topic_novelty_cent',\n",
       "       'Term_novelty_squared', 'Topic_novelty_squared'], dtype=object)"
      ]
     },
     "execution_count": 12,
     "metadata": {},
     "output_type": "execute_result"
    }
   ],
   "source": [
    "df_all.columns.values"
   ]
  },
  {
   "cell_type": "code",
   "execution_count": 13,
   "metadata": {},
   "outputs": [],
   "source": [
    "def run_logit(df, field):\n",
    "    df['Intercept'] = 1.0\n",
    "    df['binary'] = df[field].apply(lambda x: 1 if x != 0.0 else 0)\n",
    "    logit_model = sm.Logit(df['binary'], df[['Chapters',\\\n",
    "        'Term_novelty', 'Term_novelty_squared', 'Topic_novelty', 'Topic_novelty_squared',\\\n",
    "        'Freq_relationship', 'Entropy', 'Chapters', 'Words', 'Category_F_F', 'Category_F_M',\\\n",
    "       'Category_Gen', 'Category_M_M', 'Category_Multi', 'Category_Other', \\\n",
    "       'ArchiveWarnings_underage', 'ArchiveWarnings_death',\\\n",
    "       'ArchiveWarnings_choose_no', 'ArchiveWarnings_noncon',\\\n",
    "       'ArchiveWarnings_violence',\\\n",
    "       'author_fic_cnt', 'Rating_G',\\\n",
    "       'Rating_M', 'Rating_N', 'Rating_T', \\\n",
    "       'Fandom_dcu', 'Fandom_doctor_who', 'Fandom_star_wars',\n",
    "       'Fandom_arthurian', 'Fandom_supernatural', 'Fandom_haikyuu',\n",
    "       'Fandom_kuroko_no_basuke', 'Fandom_hamilton_miranda',\n",
    "       'Fandom_dragon_age', 'Fandom_the_walking_dead', 'Fandom_buffy',\n",
    "       'Fandom_les_miserables', 'Fandom_naruto', 'Fandom_tolkien',\n",
    "       'Fandom_shakespare', 'Fandom_hetalia', 'Fandom_attack_on_titan',\n",
    "       'Fandom_ms_paint_adventures', 'Fandom_marvel',\n",
    "       'Fandom_sailor_moon', 'Fandom_one_direction', 'Fandom_sherlock', 'History',\n",
    "        'Intercept']]).fit(method='bfgs')\n",
    "    pred = logit_model.predict()\n",
    "    df['nonzero_prob'] = pred\n",
    "    return df"
   ]
  },
  {
   "cell_type": "markdown",
   "metadata": {},
   "source": [
    "### OLS"
   ]
  },
  {
   "cell_type": "code",
   "execution_count": 14,
   "metadata": {},
   "outputs": [],
   "source": [
    "def run_ols(df, field):\n",
    "    df = run_logit(df, field)\n",
    "    df = df[df[field] != 0]\n",
    "    df['Kudos'] = np.log(df['Kudos'])\n",
    "    df['Hits'] = np.log(df['Hits'])\n",
    "    df['Comments'] = np.log(df['Comments'])\n",
    "    df['Bookmarks'] = np.log(df['Bookmarks'])\n",
    "    df = df.replace([np.inf, -np.inf], np.nan)\n",
    "    df = df.dropna(how = 'any')\n",
    "    model = ols( field + \" ~ Term_novelty + Term_novelty_squared + Topic_novelty + Topic_novelty_squared\\\n",
    " + Chapters + Entropy + Freq_relationship + author_fic_cnt + Words\\\n",
    " + Category_Gen + Category_F_F + Category_F_M + Category_M_M + Category_Multi + Category_Other  \\\n",
    " + ArchiveWarnings_underage + ArchiveWarnings_death + ArchiveWarnings_violence +\\\n",
    " ArchiveWarnings_choose_no +\\\n",
    " ArchiveWarnings_noncon + Rating_N + Rating_E + Rating_M + Rating_T\\\n",
    " + Fandom_dcu + Fandom_doctor_who + Fandom_star_wars + Fandom_arthurian + \\\n",
    " Fandom_supernatural + Fandom_haikyuu + Fandom_kuroko_no_basuke + Fandom_hamilton_miranda\\\n",
    " + Fandom_dragon_age + Fandom_the_walking_dead + Fandom_buffy + Fandom_les_miserables \\\n",
    " + Fandom_naruto + Fandom_tolkien + Fandom_shakespare + Fandom_hetalia + \\\n",
    " Fandom_attack_on_titan + Fandom_ms_paint_adventures +\\\n",
    " Fandom_marvel + Fandom_sailor_moon + Fandom_one_direction + Fandom_sherlock + nonzero_prob\", data = df).fit()\n",
    "    return model"
   ]
  },
  {
   "cell_type": "code",
   "execution_count": 15,
   "metadata": {},
   "outputs": [
    {
     "data": {
      "text/html": [
       "<div>\n",
       "<style scoped>\n",
       "    .dataframe tbody tr th:only-of-type {\n",
       "        vertical-align: middle;\n",
       "    }\n",
       "\n",
       "    .dataframe tbody tr th {\n",
       "        vertical-align: top;\n",
       "    }\n",
       "\n",
       "    .dataframe thead th {\n",
       "        text-align: right;\n",
       "    }\n",
       "</style>\n",
       "<table border=\"1\" class=\"dataframe\">\n",
       "  <thead>\n",
       "    <tr style=\"text-align: right;\">\n",
       "      <th></th>\n",
       "      <th>Bookmarks</th>\n",
       "      <th>Chapters</th>\n",
       "      <th>Hits</th>\n",
       "      <th>Kudos</th>\n",
       "      <th>Words</th>\n",
       "      <th>Comments</th>\n",
       "      <th>URL_x</th>\n",
       "      <th>Term_novelty</th>\n",
       "      <th>Entropy</th>\n",
       "      <th>URL_y</th>\n",
       "      <th>...</th>\n",
       "      <th>Fandom_ms_paint_adventures</th>\n",
       "      <th>Fandom_marvel</th>\n",
       "      <th>Fandom_sailor_moon</th>\n",
       "      <th>Fandom_one_direction</th>\n",
       "      <th>Fandom_sherlock</th>\n",
       "      <th>History</th>\n",
       "      <th>Term_novelty_cent</th>\n",
       "      <th>Topic_novelty_cent</th>\n",
       "      <th>Term_novelty_squared</th>\n",
       "      <th>Topic_novelty_squared</th>\n",
       "    </tr>\n",
       "  </thead>\n",
       "  <tbody>\n",
       "    <tr>\n",
       "      <td>0</td>\n",
       "      <td>21</td>\n",
       "      <td>24</td>\n",
       "      <td>2399.0</td>\n",
       "      <td>53.0</td>\n",
       "      <td>66258.0</td>\n",
       "      <td>16</td>\n",
       "      <td>http://archiveofourown.org/works/488677/chapte...</td>\n",
       "      <td>0.444622</td>\n",
       "      <td>5.318853</td>\n",
       "      <td>http://archiveofourown.org/works/488677/chapte...</td>\n",
       "      <td>...</td>\n",
       "      <td>0</td>\n",
       "      <td>0</td>\n",
       "      <td>0</td>\n",
       "      <td>0</td>\n",
       "      <td>0</td>\n",
       "      <td>3842.0</td>\n",
       "      <td>0.053965</td>\n",
       "      <td>-0.104615</td>\n",
       "      <td>0.002912</td>\n",
       "      <td>0.010944</td>\n",
       "    </tr>\n",
       "    <tr>\n",
       "      <td>1</td>\n",
       "      <td>7</td>\n",
       "      <td>1</td>\n",
       "      <td>2333.0</td>\n",
       "      <td>80.0</td>\n",
       "      <td>3542.0</td>\n",
       "      <td>3</td>\n",
       "      <td>http://archiveofourown.org/works/208853?view_a...</td>\n",
       "      <td>0.399930</td>\n",
       "      <td>5.704787</td>\n",
       "      <td>http://archiveofourown.org/works/208853?view_a...</td>\n",
       "      <td>...</td>\n",
       "      <td>0</td>\n",
       "      <td>0</td>\n",
       "      <td>0</td>\n",
       "      <td>0</td>\n",
       "      <td>0</td>\n",
       "      <td>3847.0</td>\n",
       "      <td>0.009272</td>\n",
       "      <td>-0.055415</td>\n",
       "      <td>0.000086</td>\n",
       "      <td>0.003071</td>\n",
       "    </tr>\n",
       "    <tr>\n",
       "      <td>2</td>\n",
       "      <td>1</td>\n",
       "      <td>1</td>\n",
       "      <td>200.0</td>\n",
       "      <td>21.0</td>\n",
       "      <td>837.0</td>\n",
       "      <td>0</td>\n",
       "      <td>http://archiveofourown.org/works/1644146</td>\n",
       "      <td>0.486395</td>\n",
       "      <td>4.711733</td>\n",
       "      <td>http://archiveofourown.org/works/1644146</td>\n",
       "      <td>...</td>\n",
       "      <td>0</td>\n",
       "      <td>0</td>\n",
       "      <td>0</td>\n",
       "      <td>0</td>\n",
       "      <td>0</td>\n",
       "      <td>3849.0</td>\n",
       "      <td>0.095738</td>\n",
       "      <td>0.227747</td>\n",
       "      <td>0.009166</td>\n",
       "      <td>0.051869</td>\n",
       "    </tr>\n",
       "    <tr>\n",
       "      <td>3</td>\n",
       "      <td>14</td>\n",
       "      <td>2</td>\n",
       "      <td>1635.0</td>\n",
       "      <td>115.0</td>\n",
       "      <td>15774.0</td>\n",
       "      <td>4</td>\n",
       "      <td>http://archiveofourown.org/works/967862/chapte...</td>\n",
       "      <td>0.399916</td>\n",
       "      <td>5.775471</td>\n",
       "      <td>http://archiveofourown.org/works/967862/chapte...</td>\n",
       "      <td>...</td>\n",
       "      <td>0</td>\n",
       "      <td>0</td>\n",
       "      <td>0</td>\n",
       "      <td>0</td>\n",
       "      <td>0</td>\n",
       "      <td>3851.0</td>\n",
       "      <td>0.009258</td>\n",
       "      <td>-0.088377</td>\n",
       "      <td>0.000086</td>\n",
       "      <td>0.007810</td>\n",
       "    </tr>\n",
       "    <tr>\n",
       "      <td>4</td>\n",
       "      <td>5</td>\n",
       "      <td>1</td>\n",
       "      <td>2560.0</td>\n",
       "      <td>103.0</td>\n",
       "      <td>781.0</td>\n",
       "      <td>3</td>\n",
       "      <td>http://archiveofourown.org/works/1649069?view_...</td>\n",
       "      <td>0.386655</td>\n",
       "      <td>5.130537</td>\n",
       "      <td>http://archiveofourown.org/works/1649069?view_...</td>\n",
       "      <td>...</td>\n",
       "      <td>0</td>\n",
       "      <td>0</td>\n",
       "      <td>0</td>\n",
       "      <td>0</td>\n",
       "      <td>0</td>\n",
       "      <td>3838.0</td>\n",
       "      <td>-0.004002</td>\n",
       "      <td>0.209781</td>\n",
       "      <td>0.000016</td>\n",
       "      <td>0.044008</td>\n",
       "    </tr>\n",
       "  </tbody>\n",
       "</table>\n",
       "<p>5 rows × 59 columns</p>\n",
       "</div>"
      ],
      "text/plain": [
       "   Bookmarks  Chapters    Hits  Kudos    Words  Comments  \\\n",
       "0         21        24  2399.0   53.0  66258.0        16   \n",
       "1          7         1  2333.0   80.0   3542.0         3   \n",
       "2          1         1   200.0   21.0    837.0         0   \n",
       "3         14         2  1635.0  115.0  15774.0         4   \n",
       "4          5         1  2560.0  103.0    781.0         3   \n",
       "\n",
       "                                               URL_x  Term_novelty   Entropy  \\\n",
       "0  http://archiveofourown.org/works/488677/chapte...      0.444622  5.318853   \n",
       "1  http://archiveofourown.org/works/208853?view_a...      0.399930  5.704787   \n",
       "2           http://archiveofourown.org/works/1644146      0.486395  4.711733   \n",
       "3  http://archiveofourown.org/works/967862/chapte...      0.399916  5.775471   \n",
       "4  http://archiveofourown.org/works/1649069?view_...      0.386655  5.130537   \n",
       "\n",
       "                                               URL_y  ...  \\\n",
       "0  http://archiveofourown.org/works/488677/chapte...  ...   \n",
       "1  http://archiveofourown.org/works/208853?view_a...  ...   \n",
       "2           http://archiveofourown.org/works/1644146  ...   \n",
       "3  http://archiveofourown.org/works/967862/chapte...  ...   \n",
       "4  http://archiveofourown.org/works/1649069?view_...  ...   \n",
       "\n",
       "   Fandom_ms_paint_adventures  Fandom_marvel  Fandom_sailor_moon  \\\n",
       "0                           0              0                   0   \n",
       "1                           0              0                   0   \n",
       "2                           0              0                   0   \n",
       "3                           0              0                   0   \n",
       "4                           0              0                   0   \n",
       "\n",
       "   Fandom_one_direction  Fandom_sherlock  History  Term_novelty_cent  \\\n",
       "0                     0                0   3842.0           0.053965   \n",
       "1                     0                0   3847.0           0.009272   \n",
       "2                     0                0   3849.0           0.095738   \n",
       "3                     0                0   3851.0           0.009258   \n",
       "4                     0                0   3838.0          -0.004002   \n",
       "\n",
       "   Topic_novelty_cent  Term_novelty_squared  Topic_novelty_squared  \n",
       "0           -0.104615              0.002912               0.010944  \n",
       "1           -0.055415              0.000086               0.003071  \n",
       "2            0.227747              0.009166               0.051869  \n",
       "3           -0.088377              0.000086               0.007810  \n",
       "4            0.209781              0.000016               0.044008  \n",
       "\n",
       "[5 rows x 59 columns]"
      ]
     },
     "execution_count": 15,
     "metadata": {},
     "output_type": "execute_result"
    }
   ],
   "source": [
    "df_all.head()"
   ]
  },
  {
   "cell_type": "markdown",
   "metadata": {},
   "source": [
    "### Plot coefficients"
   ]
  },
  {
   "cell_type": "code",
   "execution_count": 16,
   "metadata": {},
   "outputs": [
    {
     "name": "stderr",
     "output_type": "stream",
     "text": [
      "/anaconda3/envs/python36/lib/python3.6/site-packages/statsmodels/discrete/discrete_model.py:1674: RuntimeWarning: overflow encountered in exp\n",
      "  return 1/(1+np.exp(-X))\n",
      "/anaconda3/envs/python36/lib/python3.6/site-packages/statsmodels/discrete/discrete_model.py:1724: RuntimeWarning: divide by zero encountered in log\n",
      "  return np.sum(np.log(self.cdf(q*np.dot(X,params))))\n",
      "/anaconda3/envs/python36/lib/python3.6/site-packages/statsmodels/discrete/discrete_model.py:1674: RuntimeWarning: overflow encountered in exp\n",
      "  return 1/(1+np.exp(-X))\n",
      "/anaconda3/envs/python36/lib/python3.6/site-packages/statsmodels/discrete/discrete_model.py:1724: RuntimeWarning: divide by zero encountered in log\n",
      "  return np.sum(np.log(self.cdf(q*np.dot(X,params))))\n",
      "/anaconda3/envs/python36/lib/python3.6/site-packages/statsmodels/discrete/discrete_model.py:1674: RuntimeWarning: overflow encountered in exp\n",
      "  return 1/(1+np.exp(-X))\n",
      "/anaconda3/envs/python36/lib/python3.6/site-packages/statsmodels/discrete/discrete_model.py:1724: RuntimeWarning: divide by zero encountered in log\n",
      "  return np.sum(np.log(self.cdf(q*np.dot(X,params))))\n",
      "/anaconda3/envs/python36/lib/python3.6/site-packages/statsmodels/discrete/discrete_model.py:1674: RuntimeWarning: overflow encountered in exp\n",
      "  return 1/(1+np.exp(-X))\n",
      "/anaconda3/envs/python36/lib/python3.6/site-packages/statsmodels/discrete/discrete_model.py:1724: RuntimeWarning: divide by zero encountered in log\n",
      "  return np.sum(np.log(self.cdf(q*np.dot(X,params))))\n"
     ]
    },
    {
     "name": "stdout",
     "output_type": "stream",
     "text": [
      "Warning: Maximum number of iterations has been exceeded.\n",
      "         Current function value: 0.045398\n",
      "         Iterations: 35\n",
      "         Function evaluations: 74\n",
      "         Gradient evaluations: 60\n"
     ]
    },
    {
     "name": "stderr",
     "output_type": "stream",
     "text": [
      "/anaconda3/envs/python36/lib/python3.6/site-packages/statsmodels/base/model.py:488: HessianInversionWarning: Inverting hessian failed, no bse or cov_params available\n",
      "  'available', HessianInversionWarning)\n",
      "/anaconda3/envs/python36/lib/python3.6/site-packages/statsmodels/base/model.py:508: ConvergenceWarning: Maximum Likelihood optimization failed to converge. Check mle_retvals\n",
      "  \"Check mle_retvals\", ConvergenceWarning)\n",
      "/anaconda3/envs/python36/lib/python3.6/site-packages/ipykernel_launcher.py:4: SettingWithCopyWarning: \n",
      "A value is trying to be set on a copy of a slice from a DataFrame.\n",
      "Try using .loc[row_indexer,col_indexer] = value instead\n",
      "\n",
      "See the caveats in the documentation: http://pandas.pydata.org/pandas-docs/stable/user_guide/indexing.html#returning-a-view-versus-a-copy\n",
      "  after removing the cwd from sys.path.\n",
      "/anaconda3/envs/python36/lib/python3.6/site-packages/pandas/core/series.py:853: RuntimeWarning: divide by zero encountered in log\n",
      "  result = getattr(ufunc, method)(*inputs, **kwargs)\n",
      "/anaconda3/envs/python36/lib/python3.6/site-packages/ipykernel_launcher.py:5: SettingWithCopyWarning: \n",
      "A value is trying to be set on a copy of a slice from a DataFrame.\n",
      "Try using .loc[row_indexer,col_indexer] = value instead\n",
      "\n",
      "See the caveats in the documentation: http://pandas.pydata.org/pandas-docs/stable/user_guide/indexing.html#returning-a-view-versus-a-copy\n",
      "  \"\"\"\n",
      "/anaconda3/envs/python36/lib/python3.6/site-packages/ipykernel_launcher.py:6: SettingWithCopyWarning: \n",
      "A value is trying to be set on a copy of a slice from a DataFrame.\n",
      "Try using .loc[row_indexer,col_indexer] = value instead\n",
      "\n",
      "See the caveats in the documentation: http://pandas.pydata.org/pandas-docs/stable/user_guide/indexing.html#returning-a-view-versus-a-copy\n",
      "  \n",
      "/anaconda3/envs/python36/lib/python3.6/site-packages/ipykernel_launcher.py:7: SettingWithCopyWarning: \n",
      "A value is trying to be set on a copy of a slice from a DataFrame.\n",
      "Try using .loc[row_indexer,col_indexer] = value instead\n",
      "\n",
      "See the caveats in the documentation: http://pandas.pydata.org/pandas-docs/stable/user_guide/indexing.html#returning-a-view-versus-a-copy\n",
      "  import sys\n"
     ]
    }
   ],
   "source": [
    "kudos_model = run_ols(df_all, 'Kudos')\n",
    "kudos_coef = np.asarray(list(kudos_model.params)[1:-1])\n",
    "kudos_err = list(kudos_model.bse)[1:-1]"
   ]
  },
  {
   "cell_type": "code",
   "execution_count": 17,
   "metadata": {},
   "outputs": [],
   "source": [
    "# ~ Term_novelty + Term_novelty_squared + Topic_novelty + Topic_novelty_squared\\\n",
    "#  + Chapters + Entropy + Freq_relationship + author_fic_cnt + Words\\\n",
    "#  + Category_Gen + Category_F_F + Category_F_M + Category_M_M + Category_Multi + Category_Other  \\\n",
    "#  + ArchiveWarnings_underage + ArchiveWarnings_death + ArchiveWarnings_violence +\\\n",
    "#  ArchiveWarnings_choose_no +\\\n",
    "#  ArchiveWarnings_noncon + Rating_N + Rating_E + Rating_M + Rating_T\\\n",
    "#  + Fandom_dcu + Fandom_doctor_who + Fandom_star_wars + Fandom_arthurian + \\\n",
    "#  Fandom_supernatural + Fandom_haikyuu + Fandom_kuroko_no_basuke + Fandom_hamilton_miranda\\\n",
    "#  + Fandom_dragon_age + Fandom_the_walking_dead + Fandom_buffy + Fandom_les_miserables \\\n",
    "#  + Fandom_naruto + Fandom_tolkien + Fandom_shakespare + Fandom_hetalia + \\\n",
    "#  Fandom_attack_on_titan + Fandom_ms_paint_adventures +\\\n",
    "#  Fandom_marvel + Fandom_sailor_moon + Fandom_one_direction + Fandom_sherlock + nonzero_prob"
   ]
  },
  {
   "cell_type": "code",
   "execution_count": 18,
   "metadata": {},
   "outputs": [
    {
     "name": "stderr",
     "output_type": "stream",
     "text": [
      "/anaconda3/envs/python36/lib/python3.6/site-packages/statsmodels/discrete/discrete_model.py:1674: RuntimeWarning: overflow encountered in exp\n",
      "  return 1/(1+np.exp(-X))\n",
      "/anaconda3/envs/python36/lib/python3.6/site-packages/statsmodels/discrete/discrete_model.py:1724: RuntimeWarning: divide by zero encountered in log\n",
      "  return np.sum(np.log(self.cdf(q*np.dot(X,params))))\n",
      "/anaconda3/envs/python36/lib/python3.6/site-packages/statsmodels/discrete/discrete_model.py:1674: RuntimeWarning: overflow encountered in exp\n",
      "  return 1/(1+np.exp(-X))\n",
      "/anaconda3/envs/python36/lib/python3.6/site-packages/statsmodels/discrete/discrete_model.py:1724: RuntimeWarning: divide by zero encountered in log\n",
      "  return np.sum(np.log(self.cdf(q*np.dot(X,params))))\n",
      "/anaconda3/envs/python36/lib/python3.6/site-packages/statsmodels/discrete/discrete_model.py:1674: RuntimeWarning: overflow encountered in exp\n",
      "  return 1/(1+np.exp(-X))\n",
      "/anaconda3/envs/python36/lib/python3.6/site-packages/statsmodels/discrete/discrete_model.py:1724: RuntimeWarning: divide by zero encountered in log\n",
      "  return np.sum(np.log(self.cdf(q*np.dot(X,params))))\n",
      "/anaconda3/envs/python36/lib/python3.6/site-packages/statsmodels/discrete/discrete_model.py:1674: RuntimeWarning: overflow encountered in exp\n",
      "  return 1/(1+np.exp(-X))\n",
      "/anaconda3/envs/python36/lib/python3.6/site-packages/statsmodels/discrete/discrete_model.py:1724: RuntimeWarning: divide by zero encountered in log\n",
      "  return np.sum(np.log(self.cdf(q*np.dot(X,params))))\n"
     ]
    },
    {
     "name": "stdout",
     "output_type": "stream",
     "text": [
      "Warning: Maximum number of iterations has been exceeded.\n",
      "         Current function value: 0.121377\n",
      "         Iterations: 35\n",
      "         Function evaluations: 74\n",
      "         Gradient evaluations: 60\n"
     ]
    },
    {
     "name": "stderr",
     "output_type": "stream",
     "text": [
      "/anaconda3/envs/python36/lib/python3.6/site-packages/statsmodels/base/model.py:508: ConvergenceWarning: Maximum Likelihood optimization failed to converge. Check mle_retvals\n",
      "  \"Check mle_retvals\", ConvergenceWarning)\n",
      "/anaconda3/envs/python36/lib/python3.6/site-packages/pandas/core/series.py:853: RuntimeWarning: divide by zero encountered in log\n",
      "  result = getattr(ufunc, method)(*inputs, **kwargs)\n",
      "/anaconda3/envs/python36/lib/python3.6/site-packages/ipykernel_launcher.py:4: SettingWithCopyWarning: \n",
      "A value is trying to be set on a copy of a slice from a DataFrame.\n",
      "Try using .loc[row_indexer,col_indexer] = value instead\n",
      "\n",
      "See the caveats in the documentation: http://pandas.pydata.org/pandas-docs/stable/user_guide/indexing.html#returning-a-view-versus-a-copy\n",
      "  after removing the cwd from sys.path.\n",
      "/anaconda3/envs/python36/lib/python3.6/site-packages/ipykernel_launcher.py:5: SettingWithCopyWarning: \n",
      "A value is trying to be set on a copy of a slice from a DataFrame.\n",
      "Try using .loc[row_indexer,col_indexer] = value instead\n",
      "\n",
      "See the caveats in the documentation: http://pandas.pydata.org/pandas-docs/stable/user_guide/indexing.html#returning-a-view-versus-a-copy\n",
      "  \"\"\"\n",
      "/anaconda3/envs/python36/lib/python3.6/site-packages/ipykernel_launcher.py:6: SettingWithCopyWarning: \n",
      "A value is trying to be set on a copy of a slice from a DataFrame.\n",
      "Try using .loc[row_indexer,col_indexer] = value instead\n",
      "\n",
      "See the caveats in the documentation: http://pandas.pydata.org/pandas-docs/stable/user_guide/indexing.html#returning-a-view-versus-a-copy\n",
      "  \n",
      "/anaconda3/envs/python36/lib/python3.6/site-packages/ipykernel_launcher.py:7: SettingWithCopyWarning: \n",
      "A value is trying to be set on a copy of a slice from a DataFrame.\n",
      "Try using .loc[row_indexer,col_indexer] = value instead\n",
      "\n",
      "See the caveats in the documentation: http://pandas.pydata.org/pandas-docs/stable/user_guide/indexing.html#returning-a-view-versus-a-copy\n",
      "  import sys\n"
     ]
    }
   ],
   "source": [
    "hits_model = run_ols(df_all, 'Hits')\n",
    "hits_coef = list(hits_model.params)[1:-1]\n",
    "hits_err = list(hits_model.bse)[1:-1]"
   ]
  },
  {
   "cell_type": "code",
   "execution_count": 19,
   "metadata": {},
   "outputs": [
    {
     "name": "stderr",
     "output_type": "stream",
     "text": [
      "/anaconda3/envs/python36/lib/python3.6/site-packages/statsmodels/discrete/discrete_model.py:1674: RuntimeWarning: overflow encountered in exp\n",
      "  return 1/(1+np.exp(-X))\n",
      "/anaconda3/envs/python36/lib/python3.6/site-packages/statsmodels/discrete/discrete_model.py:1724: RuntimeWarning: divide by zero encountered in log\n",
      "  return np.sum(np.log(self.cdf(q*np.dot(X,params))))\n",
      "/anaconda3/envs/python36/lib/python3.6/site-packages/statsmodels/discrete/discrete_model.py:1674: RuntimeWarning: overflow encountered in exp\n",
      "  return 1/(1+np.exp(-X))\n",
      "/anaconda3/envs/python36/lib/python3.6/site-packages/statsmodels/discrete/discrete_model.py:1724: RuntimeWarning: divide by zero encountered in log\n",
      "  return np.sum(np.log(self.cdf(q*np.dot(X,params))))\n",
      "/anaconda3/envs/python36/lib/python3.6/site-packages/statsmodels/base/model.py:488: HessianInversionWarning: Inverting hessian failed, no bse or cov_params available\n",
      "  'available', HessianInversionWarning)\n",
      "/anaconda3/envs/python36/lib/python3.6/site-packages/statsmodels/base/model.py:508: ConvergenceWarning: Maximum Likelihood optimization failed to converge. Check mle_retvals\n",
      "  \"Check mle_retvals\", ConvergenceWarning)\n",
      "/anaconda3/envs/python36/lib/python3.6/site-packages/pandas/core/series.py:853: RuntimeWarning: divide by zero encountered in log\n",
      "  result = getattr(ufunc, method)(*inputs, **kwargs)\n",
      "/anaconda3/envs/python36/lib/python3.6/site-packages/ipykernel_launcher.py:4: SettingWithCopyWarning: \n",
      "A value is trying to be set on a copy of a slice from a DataFrame.\n",
      "Try using .loc[row_indexer,col_indexer] = value instead\n",
      "\n",
      "See the caveats in the documentation: http://pandas.pydata.org/pandas-docs/stable/user_guide/indexing.html#returning-a-view-versus-a-copy\n",
      "  after removing the cwd from sys.path.\n",
      "/anaconda3/envs/python36/lib/python3.6/site-packages/ipykernel_launcher.py:5: SettingWithCopyWarning: \n",
      "A value is trying to be set on a copy of a slice from a DataFrame.\n",
      "Try using .loc[row_indexer,col_indexer] = value instead\n",
      "\n",
      "See the caveats in the documentation: http://pandas.pydata.org/pandas-docs/stable/user_guide/indexing.html#returning-a-view-versus-a-copy\n",
      "  \"\"\"\n",
      "/anaconda3/envs/python36/lib/python3.6/site-packages/ipykernel_launcher.py:6: SettingWithCopyWarning: \n",
      "A value is trying to be set on a copy of a slice from a DataFrame.\n",
      "Try using .loc[row_indexer,col_indexer] = value instead\n",
      "\n",
      "See the caveats in the documentation: http://pandas.pydata.org/pandas-docs/stable/user_guide/indexing.html#returning-a-view-versus-a-copy\n",
      "  \n",
      "/anaconda3/envs/python36/lib/python3.6/site-packages/ipykernel_launcher.py:7: SettingWithCopyWarning: \n",
      "A value is trying to be set on a copy of a slice from a DataFrame.\n",
      "Try using .loc[row_indexer,col_indexer] = value instead\n",
      "\n",
      "See the caveats in the documentation: http://pandas.pydata.org/pandas-docs/stable/user_guide/indexing.html#returning-a-view-versus-a-copy\n",
      "  import sys\n"
     ]
    },
    {
     "name": "stdout",
     "output_type": "stream",
     "text": [
      "Warning: Desired error not necessarily achieved due to precision loss.\n",
      "         Current function value: 0.693147\n",
      "         Iterations: 0\n",
      "         Function evaluations: 16\n",
      "         Gradient evaluations: 4\n"
     ]
    }
   ],
   "source": [
    "comments_model = run_ols(df_all, 'Comments')\n",
    "comments_coef = list(comments_model.params)[1:-1]\n",
    "comments_err = list(comments_model.bse)[1:-1]"
   ]
  },
  {
   "cell_type": "code",
   "execution_count": 20,
   "metadata": {},
   "outputs": [
    {
     "name": "stderr",
     "output_type": "stream",
     "text": [
      "/anaconda3/envs/python36/lib/python3.6/site-packages/statsmodels/discrete/discrete_model.py:1674: RuntimeWarning: overflow encountered in exp\n",
      "  return 1/(1+np.exp(-X))\n",
      "/anaconda3/envs/python36/lib/python3.6/site-packages/statsmodels/discrete/discrete_model.py:1724: RuntimeWarning: divide by zero encountered in log\n",
      "  return np.sum(np.log(self.cdf(q*np.dot(X,params))))\n",
      "/anaconda3/envs/python36/lib/python3.6/site-packages/statsmodels/discrete/discrete_model.py:1674: RuntimeWarning: overflow encountered in exp\n",
      "  return 1/(1+np.exp(-X))\n",
      "/anaconda3/envs/python36/lib/python3.6/site-packages/statsmodels/discrete/discrete_model.py:1724: RuntimeWarning: divide by zero encountered in log\n",
      "  return np.sum(np.log(self.cdf(q*np.dot(X,params))))\n",
      "/anaconda3/envs/python36/lib/python3.6/site-packages/statsmodels/base/model.py:488: HessianInversionWarning: Inverting hessian failed, no bse or cov_params available\n",
      "  'available', HessianInversionWarning)\n",
      "/anaconda3/envs/python36/lib/python3.6/site-packages/statsmodels/base/model.py:508: ConvergenceWarning: Maximum Likelihood optimization failed to converge. Check mle_retvals\n",
      "  \"Check mle_retvals\", ConvergenceWarning)\n",
      "/anaconda3/envs/python36/lib/python3.6/site-packages/pandas/core/series.py:853: RuntimeWarning: divide by zero encountered in log\n",
      "  result = getattr(ufunc, method)(*inputs, **kwargs)\n",
      "/anaconda3/envs/python36/lib/python3.6/site-packages/ipykernel_launcher.py:4: SettingWithCopyWarning: \n",
      "A value is trying to be set on a copy of a slice from a DataFrame.\n",
      "Try using .loc[row_indexer,col_indexer] = value instead\n",
      "\n",
      "See the caveats in the documentation: http://pandas.pydata.org/pandas-docs/stable/user_guide/indexing.html#returning-a-view-versus-a-copy\n",
      "  after removing the cwd from sys.path.\n",
      "/anaconda3/envs/python36/lib/python3.6/site-packages/ipykernel_launcher.py:5: SettingWithCopyWarning: \n",
      "A value is trying to be set on a copy of a slice from a DataFrame.\n",
      "Try using .loc[row_indexer,col_indexer] = value instead\n",
      "\n",
      "See the caveats in the documentation: http://pandas.pydata.org/pandas-docs/stable/user_guide/indexing.html#returning-a-view-versus-a-copy\n",
      "  \"\"\"\n",
      "/anaconda3/envs/python36/lib/python3.6/site-packages/ipykernel_launcher.py:6: SettingWithCopyWarning: \n",
      "A value is trying to be set on a copy of a slice from a DataFrame.\n",
      "Try using .loc[row_indexer,col_indexer] = value instead\n",
      "\n",
      "See the caveats in the documentation: http://pandas.pydata.org/pandas-docs/stable/user_guide/indexing.html#returning-a-view-versus-a-copy\n",
      "  \n",
      "/anaconda3/envs/python36/lib/python3.6/site-packages/ipykernel_launcher.py:7: SettingWithCopyWarning: \n",
      "A value is trying to be set on a copy of a slice from a DataFrame.\n",
      "Try using .loc[row_indexer,col_indexer] = value instead\n",
      "\n",
      "See the caveats in the documentation: http://pandas.pydata.org/pandas-docs/stable/user_guide/indexing.html#returning-a-view-versus-a-copy\n",
      "  import sys\n"
     ]
    },
    {
     "name": "stdout",
     "output_type": "stream",
     "text": [
      "Warning: Desired error not necessarily achieved due to precision loss.\n",
      "         Current function value: 0.693147\n",
      "         Iterations: 0\n",
      "         Function evaluations: 16\n",
      "         Gradient evaluations: 4\n"
     ]
    }
   ],
   "source": [
    "bookmarks_model = run_ols(df_all, 'Bookmarks')\n",
    "bookmarks_coef = list(bookmarks_model.params)[1:-1]\n",
    "bookmarks_err = list(bookmarks_model.bse)[1:-1]"
   ]
  },
  {
   "cell_type": "code",
   "execution_count": 29,
   "metadata": {},
   "outputs": [],
   "source": [
    "ylabels =['Term novelty', 'Term novelty squared', 'Topic novelty', 'Topic novelty squared', 'Chapters', \\\n",
    " 'Entropy', 'Frequent relationship',' Author work count', 'Words',\\\n",
    " 'Category (General)','Category (Female/Female)','Category (Female/Male)',' Category (Male/Male) ',' Category (Multiple)','Category (Other)',\\\n",
    " 'ArchiveWarnings (Underage)','ArchiveWarnings (Death)',' ArchiveWarnings (Violence)','ArchiveWarnings (Choose not to use)','\\\n",
    " ArchiveWarnings (Non-consensual sex)','Rating (Not rated)', 'Rating (Explicit)','Rating (Mature)',' Rating (Teens)',\\\n",
    " ' Fandom (DCU) ',' Fandom (Doctor Who) ',' Fandom (Star Wars) ',' Fandom (Arthurian Mythologies)',\\\n",
    "  'Fandom (Supernatural)','Fandom (Haikyuu)',' Fandom (Kuroko no Basuke)',' Fandom (Hamilton (by Miranda))\\\n",
    " ',' Fandom (Dragon Age)',' Fandom (The Walking Dead)',' Fandom (Buffy the Vampire Slayer)','Fandom (Les Miserables)\\\n",
    " ',' Fandom (Naruto)','Fandom (Works of J.R.R.Tolkien)',' Fandom (Works of William Shakespare)','Fandom (Hetalia: Axis Powers)',' \\\n",
    " Fandom (Attack on Titan)',' Fandom (MS Paint Adventures)','\\\n",
    "Fandom (Marvel)',' Fandom (Sailor Moon)',' Fandom (One Direction)','Fandom (Sherlock Holmes)'][::-1]"
   ]
  },
  {
   "cell_type": "code",
   "execution_count": 36,
   "metadata": {},
   "outputs": [],
   "source": [
    "def plot_ax(ax, coef, err, top_tail_option, xlim_left, xlim_right, xlabel='', ylabel_flag=False):\n",
    "    \n",
    "    ax.errorbar(coef[::-1], range(len(coef)), xerr=err[::-1] , fmt='o', label=top_tail_option)\n",
    "    ax.set_yticks(range(len(ylabels)))\n",
    "    if ylabel_flag:\n",
    "        ax.set_yticklabels(ylabels)\n",
    "    else:\n",
    "        ax.set_yticklabels([])\n",
    "\n",
    "    ax.plot([0 for i in range(len(coef)+2)], range(-1,len(coef)+1), c='grey', alpha = 0.7)\n",
    "    # ax[0].plot(range(-8,8), [21.5 for i in range(-8,8)] ,c='grey', alpha = 0.7)\n",
    "    # ax[0].plot(range(-8,8), [25.5 for i in range(-8,8)] ,c='grey', alpha = 0.7)\n",
    "    # ax[0].plot(range(-8,8), [30.5 for i in range(-8,8)] ,c='grey', alpha = 0.7)\n",
    "    # ax[0].plot(range(-8,8), [36.5 for i in range(-8,8)] ,c='grey', alpha = 0.7)\n",
    "    # ax[0].plot(range(-8,8), [39.5 for i in range(-8,8)] ,c='grey', alpha = 0.7)\n",
    "    ax.set_ylim(-0.5,len(ylabels))\n",
    "    ax.set_xlim(xlim_left,xlim_right)\n",
    "    if xlabel != '':\n",
    "        ax.set_xlabel(xlabel, fontsize=15)\n",
    "    # ax[0].set_title('R-squared = 0.256', fontsize=15)\n",
    "    for tick in ax.yaxis.get_major_ticks():\n",
    "        tick.label.set_fontsize(13)\n",
    "    for tick in ax.xaxis.get_major_ticks():\n",
    "        tick.label.set_fontsize(13)\n",
    "    ax.legend()"
   ]
  },
  {
   "cell_type": "code",
   "execution_count": 37,
   "metadata": {},
   "outputs": [
    {
     "data": {
      "text/plain": [
       "(46, 46)"
      ]
     },
     "execution_count": 37,
     "metadata": {},
     "output_type": "execute_result"
    }
   ],
   "source": [
    "len(kudos_coef), len(ylabels)"
   ]
  },
  {
   "cell_type": "code",
   "execution_count": null,
   "metadata": {},
   "outputs": [],
   "source": []
  },
  {
   "cell_type": "code",
   "execution_count": 45,
   "metadata": {},
   "outputs": [
    {
     "data": {
      "image/png": "[encoded data removed]",
      "text/plain": [
       "<Figure size 1080x1224 with 4 Axes>"
      ]
     },
     "metadata": {},
     "output_type": "display_data"
    }
   ],
   "source": [
    "fig, ax = plt.subplots(1,4,figsize = (15,17))\n",
    "plot_ax(ax=ax[0], coef=kudos_coef, err=kudos_err, xlim_left=-2, xlim_right=5, top_tail_option='NA', xlabel='Kudos', ylabel_flag=True)\n",
    "\n",
    "plot_ax(ax=ax[1], coef=hits_coef, err=hits_err, xlabel='Hits', xlim_left=-2, xlim_right=3, top_tail_option='NA')\n",
    "\n",
    "plot_ax(ax=ax[2], coef=comments_coef, err=comments_err, xlim_left=-5, xlim_right=7, xlabel='Comments', ylabel_flag=False, top_tail_option='NA')\n",
    "\n",
    "plot_ax(ax=ax[3], coef=bookmarks_coef, err=bookmarks_err, xlim_left=-5, xlim_right=5, xlabel='Bookmarks', ylabel_flag=False, top_tail_option='NA')\n",
    "\n",
    "# plt.savefig('ols_coefs_topic_novelty.pdf', format='pdf')"
   ]
  },
  {
   "cell_type": "code",
   "execution_count": 39,
   "metadata": {},
   "outputs": [
    {
     "data": {
      "image/png": "[encoded data removed]",
      "text/plain": [
       "<Figure size 1080x288 with 4 Axes>"
      ]
     },
     "metadata": {},
     "output_type": "display_data"
    }
   ],
   "source": [
    "fig, ax = plt.subplots(1,4,figsize = (15,4))\n",
    "ax[0].errorbar(kudos_coef[::-1], range(len(kudos_coef)), xerr=kudos_err[::-1] , fmt='o')\n",
    "\n",
    "ax[0].set_yticks(range(len(kudos_coef)))\n",
    "ax[0].set_yticklabels(ylabels)\n",
    "ax[0].plot([0 for i in range(len(kudos_coef)+2)], range(-1,len(kudos_coef)+1), c='grey', alpha = 0.7)\n",
    "ax[0].plot(range(-8,8), [39.5 for i in range(-8,8)] ,c='grey', alpha = 0.7, ls='dashed')\n",
    "ax[0].set_ylim(36.5,43.5)\n",
    "ax[0].set_xlim(-3,6)\n",
    "ax[0].set_xlabel('Kudos', fontsize=15)\n",
    "ax[0].set_title('$R^2 = 0.26$', fontsize=15)\n",
    "for tick in ax[0].yaxis.get_major_ticks():\n",
    "    tick.label.set_fontsize(13)\n",
    "for tick in ax[0].xaxis.get_major_ticks():\n",
    "    tick.label.set_fontsize(13)\n",
    "    \n",
    "ax[1].errorbar(hits_coef[::-1], range(len(hits_err)), xerr=hits_err[::-1], fmt='o')\n",
    "ax[1].set_yticks(range(len(hits_coef)))\n",
    "# ax[1].set_yticklabels(ylabels)\n",
    "ax[1].plot([0 for i in range(len(hits_coef)+2)], range(-1,len(hits_coef)+1), c='grey', alpha = 0.7)\n",
    "ax[1].plot(range(-8,10), [39.5 for i in range(-8,10)] ,c='grey', alpha = 0.7, ls='dashed')\n",
    "ax[1].set_ylim(36.5,43.5)\n",
    "ax[1].set_xlim(-3,8.5)\n",
    "ax[1].set_yticklabels([])\n",
    "ax[1].set_title('$R^2 = 0.25$', fontsize=15)\n",
    "ax[1].set_xlabel('Hits', fontsize=15)\n",
    "for tick in ax[1].xaxis.get_major_ticks():\n",
    "    tick.label.set_fontsize(13)\n",
    "    \n",
    "ax[2].errorbar(comments_coef[::-1], range(len(comments_err)), xerr=comments_err[::-1], fmt='o')\n",
    "ax[2].set_yticks(range(len(comments_coef)))\n",
    "ax[2].plot([0 for i in range(len(comments_coef)+2)], range(-1,len(comments_coef)+1), c='grey', alpha = 0.7)\n",
    "ax[2].plot(range(-8,8), [39.5 for i in range(-8,8)] ,c='grey', alpha = 0.7, ls='dashed')\n",
    "ax[2].set_ylim(36.5,43.5)\n",
    "ax[2].set_xlim(-3,5)\n",
    "ax[2].set_yticklabels([])\n",
    "ax[2].set_title('$R^2 = 0.07$', fontsize=15)\n",
    "ax[2].set_xlabel('Comments', fontsize=15)\n",
    "for tick in ax[2].xaxis.get_major_ticks():\n",
    "    tick.label.set_fontsize(13)\n",
    "\n",
    "ax[3].errorbar(bookmarks_coef[::-1], range(len(bookmarks_err)), xerr=bookmarks_err[::-1], fmt='o')\n",
    "ax[3].set_yticks(range(len(bookmarks_coef)))\n",
    "ax[3].plot([0 for i in range(len(bookmarks_coef)+2)], range(-1,len(bookmarks_coef)+1), c='grey', alpha = 0.7)\n",
    "ax[3].plot(range(-8,8), [39.5 for i in range(-8,8)] ,c='grey', alpha = 0.7, ls='dashed')\n",
    "ax[3].set_ylim(36.5,43.5)\n",
    "ax[3].set_xlim(-3,6)\n",
    "ax[3].set_yticklabels([])\n",
    "ax[3].set_title('$R^2 = 0.27$', fontsize=15)\n",
    "ax[3].set_xlabel('Bookmarks', fontsize=15)\n",
    "for tick in ax[2].xaxis.get_major_ticks():\n",
    "    tick.label.set_fontsize(13)\n",
    "    \n",
    "# fig.text(0.55, 0.001, 'N = 609716', fontsize = 15)\n",
    "plt.tight_layout()\n",
    "plt.savefig('ols_coefs_partial_twoparts.pdf', format='pdf')"
   ]
  },
  {
   "cell_type": "code",
   "execution_count": 28,
   "metadata": {},
   "outputs": [
    {
     "name": "stdout",
     "output_type": "stream",
     "text": [
      "                            OLS Regression Results                            \n",
      "==============================================================================\n",
      "Dep. Variable:                  Kudos   R-squared:                       0.268\n",
      "Model:                            OLS   Adj. R-squared:                  0.268\n",
      "Method:                 Least Squares   F-statistic:                     501.2\n",
      "Date:                Wed, 22 Jan 2020   Prob (F-statistic):               0.00\n",
      "Time:                        17:57:50   Log-Likelihood:                -88891.\n",
      "No. Observations:               64301   AIC:                         1.779e+05\n",
      "Df Residuals:                   64253   BIC:                         1.783e+05\n",
      "Df Model:                          47                                         \n",
      "Covariance Type:            nonrobust                                         \n",
      "==============================================================================================\n",
      "                                 coef    std err          t      P>|t|      [0.025      0.975]\n",
      "----------------------------------------------------------------------------------------------\n",
      "Intercept                      3.8288      0.779      4.912      0.000       2.301       5.357\n",
      "Term_novelty                  -0.8772      0.032    -27.710      0.000      -0.939      -0.815\n",
      "Term_novelty_squared           3.3266      0.199     16.694      0.000       2.936       3.717\n",
      "Topic_novelty                 -0.3576      0.040     -8.927      0.000      -0.436      -0.279\n",
      "Topic_novelty_squared          0.4646      0.188      2.474      0.013       0.097       0.833\n",
      "Chapters                       0.0054      0.001      8.710      0.000       0.004       0.007\n",
      "Entropy                        0.5192      0.023     22.730      0.000       0.474       0.564\n",
      "Freq_relationship              0.3509      0.010     36.679      0.000       0.332       0.370\n",
      "author_fic_cnt              4.875e-05   2.39e-05      2.040      0.041    1.91e-06    9.56e-05\n",
      "Words                        6.06e-06   1.93e-07     31.454      0.000    5.68e-06    6.44e-06\n",
      "Category_Gen                  -0.0279      0.013     -2.089      0.037      -0.054      -0.002\n",
      "Category_F_F                  -0.1505      0.016     -9.141      0.000      -0.183      -0.118\n",
      "Category_F_M                  -0.1715      0.012    -14.483      0.000      -0.195      -0.148\n",
      "Category_M_M                   0.3023      0.013     23.044      0.000       0.277       0.328\n",
      "Category_Multi                -0.0839      0.016     -5.195      0.000      -0.116      -0.052\n",
      "Category_Other                -0.1181      0.028     -4.257      0.000      -0.172      -0.064\n",
      "ArchiveWarnings_underage       0.1204      0.020      5.919      0.000       0.080       0.160\n",
      "ArchiveWarnings_death         -0.4439      0.018    -24.698      0.000      -0.479      -0.409\n",
      "ArchiveWarnings_violence      -0.2590      0.016    -15.793      0.000      -0.291      -0.227\n",
      "ArchiveWarnings_choose_no     -0.1257      0.008    -14.881      0.000      -0.142      -0.109\n",
      "ArchiveWarnings_noncon        -0.0307      0.023     -1.350      0.177      -0.075       0.014\n",
      "Rating_N                      -0.0661      0.018     -3.589      0.000      -0.102      -0.030\n",
      "Rating_E                       0.3566      0.013     27.830      0.000       0.332       0.382\n",
      "Rating_M                       0.0646      0.014      4.769      0.000       0.038       0.091\n",
      "Rating_T                       0.0229      0.012      1.970      0.049       0.000       0.046\n",
      "Fandom_dcu                     0.3417      0.021     16.591      0.000       0.301       0.382\n",
      "Fandom_doctor_who             -0.3602      0.022    -16.699      0.000      -0.403      -0.318\n",
      "Fandom_star_wars               0.3115      0.030     10.291      0.000       0.252       0.371\n",
      "Fandom_arthurian               0.0367      0.020      1.794      0.073      -0.003       0.077\n",
      "Fandom_supernatural           -0.1050      0.020     -5.230      0.000      -0.144      -0.066\n",
      "Fandom_haikyuu                 0.5573      0.027     20.498      0.000       0.504       0.611\n",
      "Fandom_kuroko_no_basuke        0.2145      0.024      8.983      0.000       0.168       0.261\n",
      "Fandom_hamilton_miranda       -0.2966      0.098     -3.036      0.002      -0.488      -0.105\n",
      "Fandom_dragon_age             -0.1004      0.023     -4.423      0.000      -0.145      -0.056\n",
      "Fandom_the_walking_dead        0.1665      0.025      6.616      0.000       0.117       0.216\n",
      "Fandom_buffy                  -0.8275      0.026    -31.916      0.000      -0.878      -0.777\n",
      "Fandom_les_miserables          0.0774      0.027      2.889      0.004       0.025       0.130\n",
      "Fandom_naruto                 -0.0811      0.024     -3.361      0.001      -0.128      -0.034\n",
      "Fandom_tolkien                 0.2541      0.022     11.455      0.000       0.211       0.298\n",
      "Fandom_shakespare             -0.5095      0.093     -5.466      0.000      -0.692      -0.327\n",
      "Fandom_hetalia                -0.4796      0.024    -20.029      0.000      -0.526      -0.433\n",
      "Fandom_attack_on_titan        -0.0355      0.026     -1.384      0.166      -0.086       0.015\n",
      "Fandom_ms_paint_adventures     0.1173      0.021      5.502      0.000       0.076       0.159\n",
      "Fandom_marvel                  0.6587      0.021     31.155      0.000       0.617       0.700\n",
      "Fandom_sailor_moon            -0.5657      0.080     -7.038      0.000      -0.723      -0.408\n",
      "Fandom_one_direction          -0.0010      0.026     -0.040      0.968      -0.051       0.049\n",
      "Fandom_sherlock                0.1840      0.020      9.197      0.000       0.145       0.223\n",
      "nonzero_prob                  -2.6221      0.810     -3.238      0.001      -4.209      -1.035\n",
      "==============================================================================\n",
      "Omnibus:                      586.850   Durbin-Watson:                   1.852\n",
      "Prob(Omnibus):                  0.000   Jarque-Bera (JB):              856.256\n",
      "Skew:                           0.103   Prob(JB):                    1.17e-186\n",
      "Kurtosis:                       3.526   Cond. No.                     9.17e+06\n",
      "==============================================================================\n",
      "\n",
      "Warnings:\n",
      "[1] Standard Errors assume that the covariance matrix of the errors is correctly specified.\n",
      "[2] The condition number is large, 9.17e+06. This might indicate that there are\n",
      "strong multicollinearity or other numerical problems.\n"
     ]
    }
   ],
   "source": [
    "print(kudos_model.summary())"
   ]
  },
  {
   "cell_type": "code",
   "execution_count": 44,
   "metadata": {},
   "outputs": [
    {
     "name": "stdout",
     "output_type": "stream",
     "text": [
      "                            OLS Regression Results                            \n",
      "==============================================================================\n",
      "Dep. Variable:                   Hits   R-squared:                       0.347\n",
      "Model:                            OLS   Adj. R-squared:                  0.346\n",
      "Method:                 Least Squares   F-statistic:                     725.2\n",
      "Date:                Wed, 22 Jan 2020   Prob (F-statistic):               0.00\n",
      "Time:                        18:05:37   Log-Likelihood:                -86397.\n",
      "No. Observations:               64301   AIC:                         1.729e+05\n",
      "Df Residuals:                   64253   BIC:                         1.733e+05\n",
      "Df Model:                          47                                         \n",
      "Covariance Type:            nonrobust                                         \n",
      "==============================================================================================\n",
      "                                 coef    std err          t      P>|t|      [0.025      0.975]\n",
      "----------------------------------------------------------------------------------------------\n",
      "Intercept                     14.3802      0.278     51.801      0.000      13.836      14.924\n",
      "Term_novelty                  -0.5723      0.031    -18.597      0.000      -0.633      -0.512\n",
      "Term_novelty_squared           2.0573      0.193     10.640      0.000       1.678       2.436\n",
      "Topic_novelty                 -0.4305      0.039    -11.159      0.000      -0.506      -0.355\n",
      "Topic_novelty_squared          0.5938      0.181      3.288      0.001       0.240       0.948\n",
      "Chapters                       0.0112      0.001     18.936      0.000       0.010       0.012\n",
      "Entropy                        0.7006      0.023     30.735      0.000       0.656       0.745\n",
      "Freq_relationship              0.4217      0.008     49.760      0.000       0.405       0.438\n",
      "author_fic_cnt                 0.0003   2.32e-05     13.866      0.000       0.000       0.000\n",
      "Words                       6.623e-06   1.84e-07     36.056      0.000    6.26e-06    6.98e-06\n",
      "Category_Gen                  -0.0645      0.013     -5.084      0.000      -0.089      -0.040\n",
      "Category_F_F                  -0.0361      0.016     -2.275      0.023      -0.067      -0.005\n",
      "Category_F_M                   0.0423      0.011      3.976      0.000       0.021       0.063\n",
      "Category_M_M                   0.2987      0.011     27.436      0.000       0.277       0.320\n",
      "Category_Multi                -0.0650      0.016     -4.117      0.000      -0.096      -0.034\n",
      "Category_Other                -0.0433      0.027     -1.625      0.104      -0.096       0.009\n",
      "ArchiveWarnings_underage       0.3062      0.020     15.648      0.000       0.268       0.345\n",
      "ArchiveWarnings_death         -0.3130      0.017    -18.172      0.000      -0.347      -0.279\n",
      "ArchiveWarnings_violence      -0.2086      0.016    -13.316      0.000      -0.239      -0.178\n",
      "ArchiveWarnings_choose_no      0.0969      0.009     11.179      0.000       0.080       0.114\n",
      "ArchiveWarnings_noncon         0.2900      0.022     13.267      0.000       0.247       0.333\n",
      "Rating_N                      -0.1267      0.018     -7.123      0.000      -0.162      -0.092\n",
      "Rating_E                       0.6034      0.013     47.136      0.000       0.578       0.629\n",
      "Rating_M                       0.0831      0.014      6.142      0.000       0.057       0.110\n",
      "Rating_T                      -0.0069      0.012     -0.578      0.563      -0.030       0.016\n",
      "Fandom_dcu                     0.1411      0.020      7.079      0.000       0.102       0.180\n",
      "Fandom_doctor_who             -0.4795      0.021    -23.128      0.000      -0.520      -0.439\n",
      "Fandom_star_wars               0.0793      0.029      2.703      0.007       0.022       0.137\n",
      "Fandom_arthurian               0.1547      0.020      7.716      0.000       0.115       0.194\n",
      "Fandom_supernatural           -0.3294      0.019    -17.002      0.000      -0.367      -0.291\n",
      "Fandom_haikyuu                -0.0699      0.026     -2.643      0.008      -0.122      -0.018\n",
      "Fandom_kuroko_no_basuke       -0.2576      0.023    -11.196      0.000      -0.303      -0.213\n",
      "Fandom_hamilton_miranda       -0.8637      0.094     -9.176      0.000      -1.048      -0.679\n",
      "Fandom_dragon_age             -0.3934      0.022    -17.937      0.000      -0.436      -0.350\n",
      "Fandom_the_walking_dead       -0.1155      0.024     -4.749      0.000      -0.163      -0.068\n",
      "Fandom_buffy                  -0.7443      0.025    -30.312      0.000      -0.792      -0.696\n",
      "Fandom_les_miserables         -0.2873      0.026    -11.067      0.000      -0.338      -0.236\n",
      "Fandom_naruto                 -0.3067      0.023    -13.198      0.000      -0.352      -0.261\n",
      "Fandom_tolkien                 0.0707      0.021      3.313      0.001       0.029       0.113\n",
      "Fandom_shakespare             -0.9551      0.090    -10.643      0.000      -1.131      -0.779\n",
      "Fandom_hetalia                -0.7036      0.023    -30.276      0.000      -0.749      -0.658\n",
      "Fandom_attack_on_titan        -0.4491      0.025    -18.001      0.000      -0.498      -0.400\n",
      "Fandom_ms_paint_adventures    -0.0982      0.021     -4.721      0.000      -0.139      -0.057\n",
      "Fandom_marvel                  0.6219      0.020     30.522      0.000       0.582       0.662\n",
      "Fandom_sailor_moon            -0.8055      0.077    -10.406      0.000      -0.957      -0.654\n",
      "Fandom_one_direction           0.1774      0.025      7.116      0.000       0.129       0.226\n",
      "Fandom_sherlock                0.2510      0.019     12.888      0.000       0.213       0.289\n",
      "nonzero_prob                 -11.6064      0.302    -38.371      0.000     -12.199     -11.014\n",
      "==============================================================================\n",
      "Omnibus:                      903.216   Durbin-Watson:                   1.682\n",
      "Prob(Omnibus):                  0.000   Jarque-Bera (JB):             1249.638\n",
      "Skew:                           0.184   Prob(JB):                    4.41e-272\n",
      "Kurtosis:                       3.575   Cond. No.                     3.40e+06\n",
      "==============================================================================\n",
      "\n",
      "Warnings:\n",
      "[1] Standard Errors assume that the covariance matrix of the errors is correctly specified.\n",
      "[2] The condition number is large, 3.4e+06. This might indicate that there are\n",
      "strong multicollinearity or other numerical problems.\n"
     ]
    }
   ],
   "source": [
    "print(hits_model.summary())"
   ]
  },
  {
   "cell_type": "code",
   "execution_count": 43,
   "metadata": {},
   "outputs": [
    {
     "name": "stdout",
     "output_type": "stream",
     "text": [
      "                            OLS Regression Results                            \n",
      "==============================================================================\n",
      "Dep. Variable:               Comments   R-squared:                       0.302\n",
      "Model:                            OLS   Adj. R-squared:                  0.301\n",
      "Method:                 Least Squares   F-statistic:                     603.4\n",
      "Date:                Wed, 22 Jan 2020   Prob (F-statistic):               0.00\n",
      "Time:                        18:05:35   Log-Likelihood:                -93399.\n",
      "No. Observations:               64301   AIC:                         1.869e+05\n",
      "Df Residuals:                   64254   BIC:                         1.873e+05\n",
      "Df Model:                          46                                         \n",
      "Covariance Type:            nonrobust                                         \n",
      "==============================================================================================\n",
      "                                 coef    std err          t      P>|t|      [0.025      0.975]\n",
      "----------------------------------------------------------------------------------------------\n",
      "Intercept                     -3.6182      0.111    -32.546      0.000      -3.836      -3.400\n",
      "Term_novelty                  -0.9251      0.034    -27.252      0.000      -0.992      -0.859\n",
      "Term_novelty_squared           6.2399      0.214     29.211      0.000       5.821       6.659\n",
      "Topic_novelty                 -0.6088      0.043    -14.171      0.000      -0.693      -0.525\n",
      "Topic_novelty_squared          2.6075      0.201     12.950      0.000       2.213       3.002\n",
      "Chapters                       0.0213      0.001     32.319      0.000       0.020       0.023\n",
      "Entropy                        1.1053      0.024     46.560      0.000       1.059       1.152\n",
      "Freq_relationship              0.1830      0.009     19.996      0.000       0.165       0.201\n",
      "author_fic_cnt              -7.95e-05   2.56e-05     -3.104      0.002      -0.000   -2.93e-05\n",
      "Words                       7.379e-06   2.04e-07     36.097      0.000    6.98e-06    7.78e-06\n",
      "Category_Gen                   0.0927      0.014      6.644      0.000       0.065       0.120\n",
      "Category_F_F                   0.0026      0.018      0.148      0.882      -0.032       0.037\n",
      "Category_F_M                  -0.0429      0.012     -3.701      0.000      -0.066      -0.020\n",
      "Category_M_M                   0.1759      0.012     14.559      0.000       0.152       0.200\n",
      "Category_Multi                 0.0216      0.017      1.245      0.213      -0.012       0.056\n",
      "Category_Other                -0.0267      0.030     -0.896      0.370      -0.085       0.032\n",
      "ArchiveWarnings_underage       0.0624      0.022      2.861      0.004       0.020       0.105\n",
      "ArchiveWarnings_death         -0.1283      0.019     -6.688      0.000      -0.166      -0.091\n",
      "ArchiveWarnings_violence      -0.0650      0.017     -3.726      0.000      -0.099      -0.031\n",
      "ArchiveWarnings_choose_no     -0.0708      0.009     -7.830      0.000      -0.089      -0.053\n",
      "ArchiveWarnings_noncon         0.0913      0.024      3.747      0.000       0.044       0.139\n",
      "Rating_N                       0.0359      0.020      1.820      0.069      -0.003       0.075\n",
      "Rating_E                       0.2041      0.014     14.851      0.000       0.177       0.231\n",
      "Rating_M                       0.1295      0.015      8.919      0.000       0.101       0.158\n",
      "Rating_T                       0.0551      0.012      4.433      0.000       0.031       0.079\n",
      "Fandom_dcu                     0.3926      0.022     17.826      0.000       0.349       0.436\n",
      "Fandom_doctor_who              0.0075      0.023      0.323      0.747      -0.038       0.053\n",
      "Fandom_star_wars               0.4425      0.032     13.627      0.000       0.379       0.506\n",
      "Fandom_arthurian               0.1135      0.022      5.175      0.000       0.071       0.157\n",
      "Fandom_supernatural           -0.0120      0.022     -0.558      0.577      -0.054       0.030\n",
      "Fandom_haikyuu                 0.5188      0.029     17.792      0.000       0.462       0.576\n",
      "Fandom_kuroko_no_basuke        0.1978      0.026      7.726      0.000       0.148       0.248\n",
      "Fandom_hamilton_miranda        0.3654      0.105      3.487      0.000       0.160       0.571\n",
      "Fandom_dragon_age              0.0133      0.024      0.547      0.585      -0.034       0.061\n",
      "Fandom_the_walking_dead        0.6285      0.027     23.341      0.000       0.576       0.681\n",
      "Fandom_buffy                  -0.4003      0.027    -14.632      0.000      -0.454      -0.347\n",
      "Fandom_les_miserables          0.1235      0.029      4.297      0.000       0.067       0.180\n",
      "Fandom_naruto                 -0.0170      0.026     -0.657      0.511      -0.068       0.034\n",
      "Fandom_tolkien                 0.7485      0.024     31.464      0.000       0.702       0.795\n",
      "Fandom_shakespare              0.3380      0.100      3.382      0.001       0.142       0.534\n",
      "Fandom_hetalia                -0.3144      0.026    -12.243      0.000      -0.365      -0.264\n",
      "Fandom_attack_on_titan         0.3540      0.027     12.887      0.000       0.300       0.408\n",
      "Fandom_ms_paint_adventures     0.2578      0.023     11.281      0.000       0.213       0.303\n",
      "Fandom_marvel                  0.7001      0.023     30.871      0.000       0.656       0.745\n",
      "Fandom_sailor_moon            -0.1183      0.086     -1.372      0.170      -0.287       0.051\n",
      "Fandom_one_direction           0.1277      0.027      4.648      0.000       0.074       0.182\n",
      "Fandom_sherlock                0.5107      0.021     23.806      0.000       0.469       0.553\n",
      "nonzero_prob                  -1.8091      0.056    -32.546      0.000      -1.918      -1.700\n",
      "==============================================================================\n",
      "Omnibus:                     1084.757   Durbin-Watson:                   1.927\n",
      "Prob(Omnibus):                  0.000   Jarque-Bera (JB):             2030.599\n",
      "Skew:                          -0.097   Prob(JB):                         0.00\n",
      "Kurtosis:                       3.849   Cond. No.                     1.43e+16\n",
      "==============================================================================\n",
      "\n",
      "Warnings:\n",
      "[1] Standard Errors assume that the covariance matrix of the errors is correctly specified.\n",
      "[2] The smallest eigenvalue is 3.06e-19. This might indicate that there are\n",
      "strong multicollinearity problems or that the design matrix is singular.\n"
     ]
    }
   ],
   "source": [
    "print(comments_model.summary())"
   ]
  },
  {
   "cell_type": "code",
   "execution_count": 27,
   "metadata": {},
   "outputs": [
    {
     "name": "stdout",
     "output_type": "stream",
     "text": [
      "                            OLS Regression Results                            \n",
      "==============================================================================\n",
      "Dep. Variable:              Bookmarks   R-squared:                       0.270\n",
      "Model:                            OLS   Adj. R-squared:                  0.270\n",
      "Method:                 Least Squares   F-statistic:                     2362.\n",
      "Date:                Wed, 01 May 2019   Prob (F-statistic):               0.00\n",
      "Time:                        16:44:44   Log-Likelihood:            -4.4436e+05\n",
      "No. Observations:              287139   AIC:                         8.888e+05\n",
      "Df Residuals:                  287093   BIC:                         8.893e+05\n",
      "Df Model:                          45                                         \n",
      "Covariance Type:            nonrobust                                         \n",
      "==============================================================================================\n",
      "                                 coef    std err          t      P>|t|      [0.025      0.975]\n",
      "----------------------------------------------------------------------------------------------\n",
      "Intercept                      5.7593      0.043    134.689      0.000       5.676       5.843\n",
      "Term_novelty                  -0.7046      0.008    -85.070      0.000      -0.721      -0.688\n",
      "Term_novelty_squared          -0.4341      0.043    -10.100      0.000      -0.518      -0.350\n",
      "Topic_novelty                 -1.1279      0.054    -20.752      0.000      -1.234      -1.021\n",
      "Topic_novelty_squared          2.3946      0.645      3.711      0.000       1.130       3.659\n",
      "Chapters                      -0.0049    5.9e-05    -83.322      0.000      -0.005      -0.005\n",
      "Freq_relationship              0.6698      0.006    119.653      0.000       0.659       0.681\n",
      "author_fic_cnt             -9.775e-06   2.35e-06     -4.165      0.000   -1.44e-05   -5.18e-06\n",
      "Category_Gen                  -0.0622      0.006     -9.804      0.000      -0.075      -0.050\n",
      "Category_F_M                  -0.3354      0.005    -62.542      0.000      -0.346      -0.325\n",
      "Category_M_M                   0.5570      0.006     87.237      0.000       0.544       0.570\n",
      "Category_Multi                -0.0700      0.008     -8.602      0.000      -0.086      -0.054\n",
      "Category_Other                -0.4905      0.014    -35.842      0.000      -0.517      -0.464\n",
      "Category_Unknown              -0.6143      0.013    -47.314      0.000      -0.640      -0.589\n",
      "ArchiveWarnings_underage       0.1302      0.012     10.639      0.000       0.106       0.154\n",
      "ArchiveWarnings_death         -0.6846      0.010    -70.279      0.000      -0.704      -0.665\n",
      "ArchiveWarnings_violence      -0.3242      0.008    -41.280      0.000      -0.340      -0.309\n",
      "ArchiveWarnings_choose_no     -0.2378      0.005    -51.626      0.000      -0.247      -0.229\n",
      "ArchiveWarnings_noncon         0.1093      0.011      9.773      0.000       0.087       0.131\n",
      "Rating_N                      -0.1475      0.009    -17.001      0.000      -0.164      -0.130\n",
      "Rating_E                       0.3810      0.008     47.339      0.000       0.365       0.397\n",
      "Rating_M                       0.1036      0.008     13.444      0.000       0.089       0.119\n",
      "Rating_T                      -0.0473      0.006     -7.461      0.000      -0.060      -0.035\n",
      "Fandom_dcu                     0.7528      0.013     57.656      0.000       0.727       0.778\n",
      "Fandom_doctor_who             -1.2015      0.015    -79.195      0.000      -1.231      -1.172\n",
      "Fandom_star_wars               0.4003      0.016     25.530      0.000       0.370       0.431\n",
      "Fandom_arthurian              -0.2088      0.017    -12.614      0.000      -0.241      -0.176\n",
      "Fandom_supernatural           -0.4171      0.011    -38.643      0.000      -0.438      -0.396\n",
      "Fandom_haikyuu                 0.2658      0.017     15.864      0.000       0.233       0.299\n",
      "Fandom_kuroko_no_basuke       -0.0414      0.020     -2.042      0.041      -0.081      -0.002\n",
      "Fandom_hamilton_miranda       -0.4682      0.032    -14.538      0.000      -0.531      -0.405\n",
      "Fandom_dragon_age             -0.3352      0.013    -25.064      0.000      -0.361      -0.309\n",
      "Fandom_the_walking_dead       -0.4449      0.018    -24.476      0.000      -0.481      -0.409\n",
      "Fandom_buffy                  -1.3268      0.026    -51.698      0.000      -1.377      -1.277\n",
      "Fandom_les_miserables         -0.5106      0.023    -22.408      0.000      -0.555      -0.466\n",
      "Fandom_naruto                 -0.4053      0.025    -16.033      0.000      -0.455      -0.356\n",
      "Fandom_tolkien                 0.2053      0.013     15.299      0.000       0.179       0.232\n",
      "Fandom_shakespare             -0.9069      0.091     -9.942      0.000      -1.086      -0.728\n",
      "Fandom_hetalia                -1.3029      0.022    -60.167      0.000      -1.345      -1.260\n",
      "Fandom_attack_on_titan         0.0170      0.014      1.177      0.239      -0.011       0.045\n",
      "Fandom_ms_paint_adventures    -0.0044      0.013     -0.332      0.740      -0.031       0.022\n",
      "Fandom_marvel                  0.8871      0.011     83.518      0.000       0.866       0.908\n",
      "Fandom_sailor_moon            -1.0990      0.077    -14.290      0.000      -1.250      -0.948\n",
      "Fandom_one_direction          -0.4279      0.018    -23.436      0.000      -0.464      -0.392\n",
      "Fandom_sherlock               -0.0418      0.011     -3.847      0.000      -0.063      -0.020\n",
      "nonzero_prob                  -5.2839      0.034   -155.073      0.000      -5.351      -5.217\n",
      "==============================================================================\n",
      "Omnibus:                       49.933   Durbin-Watson:                   1.453\n",
      "Prob(Omnibus):                  0.000   Jarque-Bera (JB):               52.038\n",
      "Skew:                          -0.016   Prob(JB):                     5.01e-12\n",
      "Kurtosis:                       3.058   Cond. No.                     2.81e+05\n",
      "==============================================================================\n",
      "\n",
      "Warnings:\n",
      "[1] Standard Errors assume that the covariance matrix of the errors is correctly specified.\n",
      "[2] The condition number is large, 2.81e+05. This might indicate that there are\n",
      "strong multicollinearity or other numerical problems.\n"
     ]
    }
   ],
   "source": [
    "print(bookmarks_model.summary())"
   ]
  },
  {
   "cell_type": "code",
   "execution_count": null,
   "metadata": {},
   "outputs": [],
   "source": []
  },
  {
   "cell_type": "code",
   "execution_count": 27,
   "metadata": {},
   "outputs": [],
   "source": [
    "# fig = plt.figure(figsize=(20,20))\n",
    "# fig = sm.graphics.plot_regress_exog(kudos_model, \"Term_novelty\", fig=fig)\n",
    "# plt.savefig('partial_reg_plots_term_novelty.png', format='png')"
   ]
  },
  {
   "cell_type": "code",
   "execution_count": null,
   "metadata": {},
   "outputs": [],
   "source": []
  }
 ],
 "metadata": {
  "kernelspec": {
   "display_name": "Python 3",
   "language": "python",
   "name": "python3"
  },
  "language_info": {
   "codemirror_mode": {
    "name": "ipython",
    "version": 3
   },
   "file_extension": ".py",
   "mimetype": "text/x-python",
   "name": "python",
   "nbconvert_exporter": "python",
   "pygments_lexer": "ipython3",
   "version": "3.6.7"
  }
 },
 "nbformat": 4,
 "nbformat_minor": 2
}
