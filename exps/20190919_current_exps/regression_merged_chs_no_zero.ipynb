{
 "cells": [
  {
   "cell_type": "code",
   "execution_count": 1,
   "metadata": {},
   "outputs": [],
   "source": [
    "import pandas as pd\n",
    "import os\n",
    "import matplotlib.pyplot as plt\n",
    "%matplotlib inline\n",
    "import numpy as np\n",
    "import seaborn as sns\n",
    "from statsmodels.formula.api import ols\n",
    "import statsmodels.api as sm\n",
    "from sklearn.linear_model import LogisticRegression"
   ]
  },
  {
   "cell_type": "code",
   "execution_count": 61,
   "metadata": {},
   "outputs": [],
   "source": [
    "df = pd.read_csv('../../data/fanfic_regression_data_merged_chs_no_zero.tsv', sep = '\\t')\n"
   ]
  },
  {
   "cell_type": "code",
   "execution_count": 62,
   "metadata": {},
   "outputs": [
    {
     "data": {
      "text/html": [
       "<div>\n",
       "<style scoped>\n",
       "    .dataframe tbody tr th:only-of-type {\n",
       "        vertical-align: middle;\n",
       "    }\n",
       "\n",
       "    .dataframe tbody tr th {\n",
       "        vertical-align: top;\n",
       "    }\n",
       "\n",
       "    .dataframe thead th {\n",
       "        text-align: right;\n",
       "    }\n",
       "</style>\n",
       "<table border=\"1\" class=\"dataframe\">\n",
       "  <thead>\n",
       "    <tr style=\"text-align: right;\">\n",
       "      <th></th>\n",
       "      <th>Bookmarks</th>\n",
       "      <th>Chapters</th>\n",
       "      <th>Hits</th>\n",
       "      <th>Kudos</th>\n",
       "      <th>Words</th>\n",
       "      <th>Comments</th>\n",
       "      <th>URL_x</th>\n",
       "      <th>Term_novelty</th>\n",
       "      <th>Entropy</th>\n",
       "      <th>URL_y</th>\n",
       "      <th>...</th>\n",
       "      <th>Fandom_tolkien</th>\n",
       "      <th>Fandom_shakespare</th>\n",
       "      <th>Fandom_hetalia</th>\n",
       "      <th>Fandom_attack_on_titan</th>\n",
       "      <th>Fandom_ms_paint_adventures</th>\n",
       "      <th>Fandom_marvel</th>\n",
       "      <th>Fandom_sailor_moon</th>\n",
       "      <th>Fandom_one_direction</th>\n",
       "      <th>Fandom_sherlock</th>\n",
       "      <th>History</th>\n",
       "    </tr>\n",
       "  </thead>\n",
       "  <tbody>\n",
       "    <tr>\n",
       "      <td>0</td>\n",
       "      <td>21</td>\n",
       "      <td>24</td>\n",
       "      <td>2399.0</td>\n",
       "      <td>53.0</td>\n",
       "      <td>66258.0</td>\n",
       "      <td>16</td>\n",
       "      <td>http://archiveofourown.org/works/488677/chapte...</td>\n",
       "      <td>0.526087</td>\n",
       "      <td>5.279514</td>\n",
       "      <td>http://archiveofourown.org/works/488677/chapte...</td>\n",
       "      <td>...</td>\n",
       "      <td>0</td>\n",
       "      <td>0</td>\n",
       "      <td>0</td>\n",
       "      <td>0</td>\n",
       "      <td>0</td>\n",
       "      <td>0</td>\n",
       "      <td>0</td>\n",
       "      <td>0</td>\n",
       "      <td>0</td>\n",
       "      <td>3840.0</td>\n",
       "    </tr>\n",
       "    <tr>\n",
       "      <td>1</td>\n",
       "      <td>7</td>\n",
       "      <td>1</td>\n",
       "      <td>2333.0</td>\n",
       "      <td>80.0</td>\n",
       "      <td>3542.0</td>\n",
       "      <td>3</td>\n",
       "      <td>http://archiveofourown.org/works/208853?view_a...</td>\n",
       "      <td>0.440696</td>\n",
       "      <td>5.582030</td>\n",
       "      <td>http://archiveofourown.org/works/208853?view_a...</td>\n",
       "      <td>...</td>\n",
       "      <td>0</td>\n",
       "      <td>0</td>\n",
       "      <td>0</td>\n",
       "      <td>0</td>\n",
       "      <td>0</td>\n",
       "      <td>0</td>\n",
       "      <td>0</td>\n",
       "      <td>0</td>\n",
       "      <td>0</td>\n",
       "      <td>3845.0</td>\n",
       "    </tr>\n",
       "    <tr>\n",
       "      <td>2</td>\n",
       "      <td>1</td>\n",
       "      <td>1</td>\n",
       "      <td>200.0</td>\n",
       "      <td>21.0</td>\n",
       "      <td>837.0</td>\n",
       "      <td>0</td>\n",
       "      <td>http://archiveofourown.org/works/1644146</td>\n",
       "      <td>0.505865</td>\n",
       "      <td>4.686514</td>\n",
       "      <td>http://archiveofourown.org/works/1644146</td>\n",
       "      <td>...</td>\n",
       "      <td>0</td>\n",
       "      <td>0</td>\n",
       "      <td>0</td>\n",
       "      <td>0</td>\n",
       "      <td>0</td>\n",
       "      <td>0</td>\n",
       "      <td>0</td>\n",
       "      <td>0</td>\n",
       "      <td>0</td>\n",
       "      <td>3847.0</td>\n",
       "    </tr>\n",
       "    <tr>\n",
       "      <td>3</td>\n",
       "      <td>14</td>\n",
       "      <td>2</td>\n",
       "      <td>1635.0</td>\n",
       "      <td>115.0</td>\n",
       "      <td>15774.0</td>\n",
       "      <td>4</td>\n",
       "      <td>http://archiveofourown.org/works/967862/chapte...</td>\n",
       "      <td>0.410158</td>\n",
       "      <td>5.693977</td>\n",
       "      <td>http://archiveofourown.org/works/967862/chapte...</td>\n",
       "      <td>...</td>\n",
       "      <td>0</td>\n",
       "      <td>0</td>\n",
       "      <td>0</td>\n",
       "      <td>0</td>\n",
       "      <td>0</td>\n",
       "      <td>0</td>\n",
       "      <td>0</td>\n",
       "      <td>0</td>\n",
       "      <td>0</td>\n",
       "      <td>3849.0</td>\n",
       "    </tr>\n",
       "    <tr>\n",
       "      <td>4</td>\n",
       "      <td>5</td>\n",
       "      <td>1</td>\n",
       "      <td>2560.0</td>\n",
       "      <td>103.0</td>\n",
       "      <td>781.0</td>\n",
       "      <td>3</td>\n",
       "      <td>http://archiveofourown.org/works/1649069?view_...</td>\n",
       "      <td>0.413664</td>\n",
       "      <td>5.171727</td>\n",
       "      <td>http://archiveofourown.org/works/1649069?view_...</td>\n",
       "      <td>...</td>\n",
       "      <td>0</td>\n",
       "      <td>0</td>\n",
       "      <td>0</td>\n",
       "      <td>0</td>\n",
       "      <td>0</td>\n",
       "      <td>0</td>\n",
       "      <td>0</td>\n",
       "      <td>0</td>\n",
       "      <td>0</td>\n",
       "      <td>3836.0</td>\n",
       "    </tr>\n",
       "  </tbody>\n",
       "</table>\n",
       "<p>5 rows × 55 columns</p>\n",
       "</div>"
      ],
      "text/plain": [
       "   Bookmarks  Chapters    Hits  Kudos    Words  Comments  \\\n",
       "0         21        24  2399.0   53.0  66258.0        16   \n",
       "1          7         1  2333.0   80.0   3542.0         3   \n",
       "2          1         1   200.0   21.0    837.0         0   \n",
       "3         14         2  1635.0  115.0  15774.0         4   \n",
       "4          5         1  2560.0  103.0    781.0         3   \n",
       "\n",
       "                                               URL_x  Term_novelty   Entropy  \\\n",
       "0  http://archiveofourown.org/works/488677/chapte...      0.526087  5.279514   \n",
       "1  http://archiveofourown.org/works/208853?view_a...      0.440696  5.582030   \n",
       "2           http://archiveofourown.org/works/1644146      0.505865  4.686514   \n",
       "3  http://archiveofourown.org/works/967862/chapte...      0.410158  5.693977   \n",
       "4  http://archiveofourown.org/works/1649069?view_...      0.413664  5.171727   \n",
       "\n",
       "                                               URL_y  ...  Fandom_tolkien  \\\n",
       "0  http://archiveofourown.org/works/488677/chapte...  ...               0   \n",
       "1  http://archiveofourown.org/works/208853?view_a...  ...               0   \n",
       "2           http://archiveofourown.org/works/1644146  ...               0   \n",
       "3  http://archiveofourown.org/works/967862/chapte...  ...               0   \n",
       "4  http://archiveofourown.org/works/1649069?view_...  ...               0   \n",
       "\n",
       "   Fandom_shakespare  Fandom_hetalia  Fandom_attack_on_titan  \\\n",
       "0                  0               0                       0   \n",
       "1                  0               0                       0   \n",
       "2                  0               0                       0   \n",
       "3                  0               0                       0   \n",
       "4                  0               0                       0   \n",
       "\n",
       "   Fandom_ms_paint_adventures  Fandom_marvel  Fandom_sailor_moon  \\\n",
       "0                           0              0                   0   \n",
       "1                           0              0                   0   \n",
       "2                           0              0                   0   \n",
       "3                           0              0                   0   \n",
       "4                           0              0                   0   \n",
       "\n",
       "   Fandom_one_direction  Fandom_sherlock  History  \n",
       "0                     0                0   3840.0  \n",
       "1                     0                0   3845.0  \n",
       "2                     0                0   3847.0  \n",
       "3                     0                0   3849.0  \n",
       "4                     0                0   3836.0  \n",
       "\n",
       "[5 rows x 55 columns]"
      ]
     },
     "execution_count": 62,
     "metadata": {},
     "output_type": "execute_result"
    }
   ],
   "source": [
    "df.head()"
   ]
  },
  {
   "cell_type": "code",
   "execution_count": 63,
   "metadata": {},
   "outputs": [],
   "source": [
    "term_ave = np.average(df['Term_novelty'])\n",
    "topic_ave = np.average(df['Topic_novelty'])\n",
    "df['Term_novelty_cent'] = df['Term_novelty'] - term_ave\n",
    "df['Topic_novelty_cent'] = df['Topic_novelty'] - topic_ave\n",
    "df['Term_novelty_squared'] = np.square(df['Term_novelty_cent'])\n",
    "df['Topic_novelty_squared'] = np.square(df['Topic_novelty_cent'])"
   ]
  },
  {
   "cell_type": "code",
   "execution_count": 64,
   "metadata": {},
   "outputs": [],
   "source": [
    "# df.sort_values(by='Topic_novelty').head()"
   ]
  },
  {
   "cell_type": "code",
   "execution_count": 65,
   "metadata": {},
   "outputs": [],
   "source": [
    "# df_low = df[(df['Topic_novelty'] > 0.3) & (df['Topic_novelty'] < 0.45)]"
   ]
  },
  {
   "cell_type": "code",
   "execution_count": 66,
   "metadata": {},
   "outputs": [],
   "source": [
    "# df_high = df[(df['Topic_novelty'] > 0.67) & (df['Topic_novelty'] < 1)]"
   ]
  },
  {
   "cell_type": "code",
   "execution_count": 67,
   "metadata": {},
   "outputs": [],
   "source": [
    "# len(df_low)"
   ]
  },
  {
   "cell_type": "code",
   "execution_count": 68,
   "metadata": {},
   "outputs": [],
   "source": [
    "# len(df_high)"
   ]
  },
  {
   "cell_type": "code",
   "execution_count": 69,
   "metadata": {},
   "outputs": [
    {
     "data": {
      "text/plain": [
       "99579"
      ]
     },
     "execution_count": 69,
     "metadata": {},
     "output_type": "execute_result"
    }
   ],
   "source": [
    "len(df)"
   ]
  },
  {
   "cell_type": "code",
   "execution_count": 70,
   "metadata": {},
   "outputs": [],
   "source": [
    "# df_low = df_low.replace([np.inf, -np.inf], np.nan)\n",
    "# df_low = df_low.dropna(how = 'any')\n",
    "# df_high= df_high.replace([np.inf, -np.inf], np.nan)\n",
    "# df_high = df_high.dropna(how = 'any')\n"
   ]
  },
  {
   "cell_type": "code",
   "execution_count": 71,
   "metadata": {},
   "outputs": [],
   "source": [
    "# len(df_high)"
   ]
  },
  {
   "cell_type": "code",
   "execution_count": 72,
   "metadata": {},
   "outputs": [
    {
     "data": {
      "text/plain": [
       "array(['Bookmarks', 'Chapters', 'Hits', 'Kudos', 'Words', 'Comments',\n",
       "       'URL_x', 'Term_novelty', 'Entropy', 'URL_y', 'Topic_novelty',\n",
       "       'Freq_relationship', 'Category_F_F', 'Category_F_M',\n",
       "       'Category_Gen', 'Category_M_M', 'Category_Multi', 'Category_Other',\n",
       "       'Category_Unknown', 'ArchiveWarnings_underage',\n",
       "       'ArchiveWarnings_death', 'ArchiveWarnings_choose_no',\n",
       "       'ArchiveWarnings_no_apply', 'ArchiveWarnings_violence',\n",
       "       'ArchiveWarnings_noncon', 'author_fic_cnt', 'Rating_E', 'Rating_G',\n",
       "       'Rating_M', 'Rating_N', 'Rating_T', 'Fandom_harry_potter',\n",
       "       'Fandom_dcu', 'Fandom_doctor_who', 'Fandom_star_wars',\n",
       "       'Fandom_arthurian', 'Fandom_supernatural', 'Fandom_haikyuu',\n",
       "       'Fandom_kuroko_no_basuke', 'Fandom_hamilton_miranda',\n",
       "       'Fandom_dragon_age', 'Fandom_the_walking_dead', 'Fandom_buffy',\n",
       "       'Fandom_les_miserables', 'Fandom_naruto', 'Fandom_tolkien',\n",
       "       'Fandom_shakespare', 'Fandom_hetalia', 'Fandom_attack_on_titan',\n",
       "       'Fandom_ms_paint_adventures', 'Fandom_marvel',\n",
       "       'Fandom_sailor_moon', 'Fandom_one_direction', 'Fandom_sherlock',\n",
       "       'History', 'Term_novelty_cent', 'Topic_novelty_cent',\n",
       "       'Term_novelty_squared', 'Topic_novelty_squared'], dtype=object)"
      ]
     },
     "execution_count": 72,
     "metadata": {},
     "output_type": "execute_result"
    }
   ],
   "source": [
    "df.columns.values"
   ]
  },
  {
   "cell_type": "markdown",
   "metadata": {},
   "source": [
    "### OLS"
   ]
  },
  {
   "cell_type": "code",
   "execution_count": 73,
   "metadata": {},
   "outputs": [],
   "source": [
    "\n",
    "def run_ols(df, field):\n",
    "    df['Kudos'] = np.log(df['Kudos'])\n",
    "    df['Hits'] = np.log(df['Hits'])\n",
    "    df['Comments'] = np.log(df['Comments'])\n",
    "    df['Bookmarks'] = np.log(df['Bookmarks'])\n",
    "#     df = df.replace([np.inf, -np.inf], np.nan)\n",
    "#     df = df.dropna(how = 'any')\n",
    "    model = ols( field + \" ~ + Term_novelty  + Topic_novelty + Term_novelty_squared\\\n",
    "                + Topic_novelty_squared + Entropy +\\\n",
    "                ArchiveWarnings_underage + ArchiveWarnings_death + \\\n",
    "                ArchiveWarnings_no_apply + ArchiveWarnings_violence + \\\n",
    "                ArchiveWarnings_noncon + Rating_E + Rating_G + Rating_M + \\\n",
    "                Rating_T + Category_F_F + Category_F_M + Category_Gen + Category_M_M + \\\n",
    "                Category_Multi + Category_Other + Freq_relationship + Chapters + \\\n",
    "        Fandom_harry_potter + Fandom_dcu + Fandom_doctor_who + \\\n",
    "       Fandom_star_wars + Fandom_arthurian + Fandom_supernatural +\\\n",
    "       Fandom_haikyuu + Fandom_kuroko_no_basuke + \\\n",
    "       Fandom_hamilton_miranda + Fandom_dragon_age +\\\n",
    "       Fandom_the_walking_dead + Fandom_buffy + Fandom_les_miserables +\\\n",
    "       Fandom_naruto + Fandom_tolkien + Fandom_shakespare + \\\n",
    "       Fandom_hetalia + Fandom_attack_on_titan +\\\n",
    "       Fandom_ms_paint_adventures + Fandom_marvel +\\\n",
    "       Fandom_sailor_moon + Fandom_sherlock\", data = df).fit()\n",
    "    return model"
   ]
  },
  {
   "cell_type": "markdown",
   "metadata": {},
   "source": [
    "### Plot coefficients"
   ]
  },
  {
   "cell_type": "code",
   "execution_count": 74,
   "metadata": {},
   "outputs": [
    {
     "name": "stderr",
     "output_type": "stream",
     "text": [
      "/anaconda3/envs/python36/lib/python3.6/site-packages/pandas/core/series.py:853: RuntimeWarning: divide by zero encountered in log\n",
      "  result = getattr(ufunc, method)(*inputs, **kwargs)\n"
     ]
    }
   ],
   "source": [
    "kudos_model = run_ols(df, 'Kudos')\n",
    "kudos_coef = np.asarray(list(kudos_model.params)[1:])\n",
    "kudos_err = list(kudos_model.bse)[1:]"
   ]
  },
  {
   "cell_type": "code",
   "execution_count": 75,
   "metadata": {},
   "outputs": [
    {
     "name": "stderr",
     "output_type": "stream",
     "text": [
      "/anaconda3/envs/python36/lib/python3.6/site-packages/pandas/core/series.py:853: RuntimeWarning: divide by zero encountered in log\n",
      "  result = getattr(ufunc, method)(*inputs, **kwargs)\n",
      "/anaconda3/envs/python36/lib/python3.6/site-packages/pandas/core/series.py:853: RuntimeWarning: invalid value encountered in log\n",
      "  result = getattr(ufunc, method)(*inputs, **kwargs)\n"
     ]
    }
   ],
   "source": [
    "hits_model = run_ols(df, 'Hits')\n",
    "hits_coef = np.asarray(list(hits_model.params)[1:])\n",
    "hits_err = list(hits_model.bse)[1:]"
   ]
  },
  {
   "cell_type": "code",
   "execution_count": 76,
   "metadata": {},
   "outputs": [
    {
     "name": "stderr",
     "output_type": "stream",
     "text": [
      "/anaconda3/envs/python36/lib/python3.6/site-packages/pandas/core/series.py:853: RuntimeWarning: invalid value encountered in log\n",
      "  result = getattr(ufunc, method)(*inputs, **kwargs)\n",
      "/anaconda3/envs/python36/lib/python3.6/site-packages/statsmodels/base/data.py:480: FutureWarning: \n",
      ".ix is deprecated. Please use\n",
      ".loc for label based indexing or\n",
      ".iloc for positional indexing\n",
      "\n",
      "See the documentation here:\n",
      "http://pandas.pydata.org/pandas-docs/stable/user_guide/indexing.html#ix-indexer-is-deprecated\n",
      "  if hasattr(x, 'ix'):\n"
     ]
    }
   ],
   "source": [
    "comments_model = run_ols(df, 'Comments')\n",
    "comments_coef = np.asarray(list(comments_model.params)[1:])\n",
    "comments_err = list(comments_model.bse)[1:]"
   ]
  },
  {
   "cell_type": "code",
   "execution_count": 77,
   "metadata": {},
   "outputs": [
    {
     "name": "stderr",
     "output_type": "stream",
     "text": [
      "/anaconda3/envs/python36/lib/python3.6/site-packages/pandas/core/series.py:853: RuntimeWarning: invalid value encountered in log\n",
      "  result = getattr(ufunc, method)(*inputs, **kwargs)\n",
      "/anaconda3/envs/python36/lib/python3.6/site-packages/statsmodels/base/data.py:480: FutureWarning: \n",
      ".ix is deprecated. Please use\n",
      ".loc for label based indexing or\n",
      ".iloc for positional indexing\n",
      "\n",
      "See the documentation here:\n",
      "http://pandas.pydata.org/pandas-docs/stable/user_guide/indexing.html#ix-indexer-is-deprecated\n",
      "  if hasattr(x, 'ix'):\n"
     ]
    }
   ],
   "source": [
    "bookmarks_model = run_ols(df, 'Bookmarks')\n",
    "bookmarks_coef = np.asarray(list(bookmarks_model.params)[1:])\n",
    "bookmarks_err = list(bookmarks_model.bse)[1:]"
   ]
  },
  {
   "cell_type": "code",
   "execution_count": 78,
   "metadata": {},
   "outputs": [
    {
     "ename": "SyntaxError",
     "evalue": "EOL while scanning string literal (<ipython-input-78-f70fba67b547>, line 1)",
     "output_type": "error",
     "traceback": [
      "\u001b[0;36m  File \u001b[0;32m\"<ipython-input-78-f70fba67b547>\"\u001b[0;36m, line \u001b[0;32m1\u001b[0m\n\u001b[0;31m    ~ + Term_novelty  + Topic_novelty + Entropy +                ArchiveWarnings_underage + ArchiveWarnings_death +                 ArchiveWarnings_no_apply + ArchiveWarnings_violence +                 ArchiveWarnings_noncon + Rating_E + Rating_G + Rating_M +                 Rating_T + Category_F_F + Category_F_M + Category_Gen + Category_M_M +                 Category_Multi + Category_Other + Freq_relationship + Chapters +         Fandom_harry_potter + Fandom_dcu + Fandom_doctor_who +        Fandom_star_wars + Fandom_arthurian + Fandom_supernatural +       Fandom_haikyuu + Fandom_kuroko_no_basuke +        Fandom_hamilton_miranda + Fandom_dragon_age +       Fandom_the_walking_dead + Fandom_buffy + Fandom_les_miserables +       Fandom_naruto + Fandom_tolkien + Fandom_shakespare +        Fandom_hetalia + Fandom_attack_on_titan +       Fandom_ms_paint_adventures + Fandom_marvel +       Fandom_sailor_moon + Fandom_sherlock + nonzero_prob\"\u001b[0m\n\u001b[0m                                                                                                                                                                                                                                                                                                                                                                                                                                                                                                                                                                                                                                                                                                                                                                                                                                                                                                                                                                                    ^\u001b[0m\n\u001b[0;31mSyntaxError\u001b[0m\u001b[0;31m:\u001b[0m EOL while scanning string literal\n"
     ]
    }
   ],
   "source": [
    "~ + Term_novelty  + Topic_novelty + Entropy +\\\n",
    "                ArchiveWarnings_underage + ArchiveWarnings_death + \\\n",
    "                ArchiveWarnings_no_apply + ArchiveWarnings_violence + \\\n",
    "                ArchiveWarnings_noncon + Rating_E + Rating_G + Rating_M + \\\n",
    "                Rating_T + Category_F_F + Category_F_M + Category_Gen + Category_M_M + \\\n",
    "                Category_Multi + Category_Other + Freq_relationship + Chapters + \\\n",
    "        Fandom_harry_potter + Fandom_dcu + Fandom_doctor_who + \\\n",
    "       Fandom_star_wars + Fandom_arthurian + Fandom_supernatural +\\\n",
    "       Fandom_haikyuu + Fandom_kuroko_no_basuke + \\\n",
    "       Fandom_hamilton_miranda + Fandom_dragon_age +\\\n",
    "       Fandom_the_walking_dead + Fandom_buffy + Fandom_les_miserables +\\\n",
    "       Fandom_naruto + Fandom_tolkien + Fandom_shakespare + \\\n",
    "       Fandom_hetalia + Fandom_attack_on_titan +\\\n",
    "       Fandom_ms_paint_adventures + Fandom_marvel +\\\n",
    "       Fandom_sailor_moon + Fandom_sherlock + nonzero_prob\""
   ]
  },
  {
   "cell_type": "code",
   "execution_count": 79,
   "metadata": {},
   "outputs": [],
   "source": [
    "ylabels =['Term_novelty' , 'Topic_novelty', 'Term_novelty_sq', 'Topic_novelty_sq', 'Entropy', \\\n",
    "                'ArchiveWarnings(underage)', 'ArchiveWarnings(death)', \\\n",
    "                'ArchiveWarnings(no apply)', 'ArchiveWarnings(violence)', \\\n",
    "                'ArchiveWarnings(nonconsensual)' , 'Rating E' , 'Rating G' , 'Rating M' , \\\n",
    "                'Rating T' , 'Category F/F' , 'Category F/M' , 'Category Gen' , 'Category M/M' , \\\n",
    "                'Category Multi' , 'Category Other' , 'Frequent relationship' , \\\n",
    "                'Chapters' , \\\n",
    "        'Fandom harry potter' , 'Fandom dcu' , 'Fandom doctor who' , \\\n",
    "       'Fandom star wars' , 'Fandom arthurian' , 'Fandom supernatural' ,\\\n",
    "       'Fandom haikyuu' , 'Fandom kuroko no basuke' , \\\n",
    "       'Fandom hamilton miranda' , 'Fandom dragon age' ,\\\n",
    "       'Fandom the walking dead' , 'Fandom buffy' , 'Fandom les miserables' ,\\\n",
    "       'Fandom naruto' , 'Fandom tolkien' , 'Fandom shakespare' , \\\n",
    "       'Fandom hetalia' , 'Fandom attack on titan' ,\\\n",
    "       'Fandom ms paint adventures' , 'Fandom marvel' ,\\\n",
    "       'Fandom sailor moon' , 'Fandom sherlock'][::-1]"
   ]
  },
  {
   "cell_type": "code",
   "execution_count": 89,
   "metadata": {},
   "outputs": [],
   "source": [
    "def plot_ax(ax, coef, err, top_tail_option, xlim_left, xlim_right, xlabel='', ylabel_flag=False):\n",
    "    \n",
    "    ax.errorbar(coef[::-1], range(len(coef)), xerr=err[::-1] , fmt='o', label=top_tail_option)\n",
    "    ax.set_yticks(range(len(coef)))\n",
    "    if ylabel_flag:\n",
    "        ax.set_yticklabels(ylabels)\n",
    "    else:\n",
    "        ax.set_yticklabels([])\n",
    "\n",
    "    ax.plot([0 for i in range(len(coef)+2)], range(-1,len(coef)+1), c='grey', alpha = 0.7)\n",
    "    # ax[0].plot(range(-8,8), [21.5 for i in range(-8,8)] ,c='grey', alpha = 0.7)\n",
    "    # ax[0].plot(range(-8,8), [25.5 for i in range(-8,8)] ,c='grey', alpha = 0.7)\n",
    "    # ax[0].plot(range(-8,8), [30.5 for i in range(-8,8)] ,c='grey', alpha = 0.7)\n",
    "    # ax[0].plot(range(-8,8), [36.5 for i in range(-8,8)] ,c='grey', alpha = 0.7)\n",
    "    # ax[0].plot(range(-8,8), [39.5 for i in range(-8,8)] ,c='grey', alpha = 0.7)\n",
    "    ax.set_ylim(-0.5,len(ylabels))\n",
    "    ax.set_xlim(xlim_left,xlim_right)\n",
    "    if xlabel != '':\n",
    "        ax.set_xlabel(xlabel, fontsize=15)\n",
    "    # ax[0].set_title('R-squared = 0.256', fontsize=15)\n",
    "    for tick in ax.yaxis.get_major_ticks():\n",
    "        tick.label.set_fontsize(13)\n",
    "    for tick in ax.xaxis.get_major_ticks():\n",
    "        tick.label.set_fontsize(13)\n",
    "    ax.legend()"
   ]
  },
  {
   "cell_type": "code",
   "execution_count": 90,
   "metadata": {},
   "outputs": [
    {
     "data": {
      "image/png": "[encoded data removed]",
      "text/plain": [
       "<Figure size 1080x1080 with 4 Axes>"
      ]
     },
     "metadata": {},
     "output_type": "display_data"
    }
   ],
   "source": [
    "fig, ax = plt.subplots(1,4,figsize = (15,15))\n",
    "plot_ax(ax=ax[0], coef=kudos_coef, err=kudos_err, xlim_left=-2, xlim_right=5, top_tail_option='NA', xlabel='Kudos', ylabel_flag=True)\n",
    "\n",
    "plot_ax(ax=ax[1], coef=hits_coef, err=hits_err, xlabel='Hits', xlim_left=-1, xlim_right=1, top_tail_option='NA')\n",
    "\n",
    "plot_ax(ax=ax[2], coef=comments_coef, err=comments_err, xlim_left=-1, xlim_right=4, xlabel='Comments', ylabel_flag=False, top_tail_option='NA')\n",
    "\n",
    "plot_ax(ax=ax[3], coef=bookmarks_coef, err=bookmarks_err, xlim_left=-2, xlim_right=2, xlabel='Bookmarks', ylabel_flag=False, top_tail_option='NA')\n",
    "\n",
    "# plt.savefig('ols_coefs_topic_novelty.pdf', format='pdf')"
   ]
  },
  {
   "cell_type": "code",
   "execution_count": 91,
   "metadata": {},
   "outputs": [
    {
     "name": "stdout",
     "output_type": "stream",
     "text": [
      "                            OLS Regression Results                            \n",
      "==============================================================================\n",
      "Dep. Variable:                  Kudos   R-squared:                       0.324\n",
      "Model:                            OLS   Adj. R-squared:                  0.324\n",
      "Method:                 Least Squares   F-statistic:                     1084.\n",
      "Date:                Mon, 20 Jan 2020   Prob (F-statistic):               0.00\n",
      "Time:                        16:23:21   Log-Likelihood:            -1.5326e+05\n",
      "No. Observations:               99579   AIC:                         3.066e+05\n",
      "Df Residuals:                   99534   BIC:                         3.070e+05\n",
      "Df Model:                          44                                         \n",
      "Covariance Type:            nonrobust                                         \n",
      "==============================================================================================\n",
      "                                 coef    std err          t      P>|t|      [0.025      0.975]\n",
      "----------------------------------------------------------------------------------------------\n",
      "Intercept                     -0.6976      0.118     -5.934      0.000      -0.928      -0.467\n",
      "Term_novelty                  -1.2890      0.030    -42.282      0.000      -1.349      -1.229\n",
      "Topic_novelty                 -0.6653      0.038    -17.659      0.000      -0.739      -0.591\n",
      "Term_novelty_squared           3.8793      0.181     21.448      0.000       3.525       4.234\n",
      "Topic_novelty_squared          1.2191      0.173      7.063      0.000       0.881       1.557\n",
      "Entropy                        0.7735      0.020     38.895      0.000       0.735       0.813\n",
      "ArchiveWarnings_underage       0.2457      0.020     12.118      0.000       0.206       0.285\n",
      "ArchiveWarnings_death         -0.3686      0.016    -22.667      0.000      -0.400      -0.337\n",
      "ArchiveWarnings_no_apply       0.1510      0.008     18.666      0.000       0.135       0.167\n",
      "ArchiveWarnings_violence      -0.1905      0.015    -12.311      0.000      -0.221      -0.160\n",
      "ArchiveWarnings_noncon         0.0193      0.022      0.861      0.389      -0.025       0.063\n",
      "Rating_E                       0.6508      0.016     39.985      0.000       0.619       0.683\n",
      "Rating_G                       0.1182      0.017      7.125      0.000       0.086       0.151\n",
      "Rating_M                       0.2363      0.016     14.343      0.000       0.204       0.269\n",
      "Rating_T                       0.1442      0.016      9.274      0.000       0.114       0.175\n",
      "Category_F_F                  -0.1549      0.015    -10.517      0.000      -0.184      -0.126\n",
      "Category_F_M                  -0.2382      0.010    -24.271      0.000      -0.257      -0.219\n",
      "Category_Gen                  -0.0884      0.012     -7.518      0.000      -0.111      -0.065\n",
      "Category_M_M                   0.3618      0.010     35.065      0.000       0.342       0.382\n",
      "Category_Multi                -0.1251      0.015     -8.410      0.000      -0.154      -0.096\n",
      "Category_Other                -0.1317      0.025     -5.328      0.000      -0.180      -0.083\n",
      "Freq_relationship              0.4318      0.008     53.352      0.000       0.416       0.448\n",
      "Chapters                       0.0206      0.000     47.520      0.000       0.020       0.021\n",
      "Fandom_harry_potter           -0.1246      0.024     -5.173      0.000      -0.172      -0.077\n",
      "Fandom_dcu                     0.3827      0.025     15.430      0.000       0.334       0.431\n",
      "Fandom_doctor_who             -0.4057      0.024    -16.568      0.000      -0.454      -0.358\n",
      "Fandom_star_wars               0.2100      0.032      6.505      0.000       0.147       0.273\n",
      "Fandom_arthurian               0.0247      0.024      1.019      0.308      -0.023       0.072\n",
      "Fandom_supernatural           -0.1747      0.024     -7.407      0.000      -0.221      -0.128\n",
      "Fandom_haikyuu                 0.7212      0.031     23.186      0.000       0.660       0.782\n",
      "Fandom_kuroko_no_basuke        0.3397      0.027     12.362      0.000       0.286       0.394\n",
      "Fandom_hamilton_miranda       -0.1771      0.093     -1.913      0.056      -0.358       0.004\n",
      "Fandom_dragon_age             -0.1052      0.026     -4.067      0.000      -0.156      -0.054\n",
      "Fandom_the_walking_dead        0.2729      0.029      9.453      0.000       0.216       0.329\n",
      "Fandom_buffy                  -0.9156      0.026    -34.942      0.000      -0.967      -0.864\n",
      "Fandom_les_miserables          0.0518      0.029      1.777      0.076      -0.005       0.109\n",
      "Fandom_naruto                 -0.1006      0.027     -3.736      0.000      -0.153      -0.048\n",
      "Fandom_tolkien                 0.3300      0.026     12.528      0.000       0.278       0.382\n",
      "Fandom_shakespare             -0.5458      0.081     -6.763      0.000      -0.704      -0.388\n",
      "Fandom_hetalia                -0.4939      0.026    -19.265      0.000      -0.544      -0.444\n",
      "Fandom_attack_on_titan        -0.0244      0.028     -0.855      0.392      -0.080       0.031\n",
      "Fandom_ms_paint_adventures     0.1947      0.025      7.780      0.000       0.146       0.244\n",
      "Fandom_marvel                  0.8077      0.026     31.383      0.000       0.757       0.858\n",
      "Fandom_sailor_moon            -0.3241      0.081     -4.023      0.000      -0.482      -0.166\n",
      "Fandom_sherlock                0.1688      0.024      6.995      0.000       0.121       0.216\n",
      "==============================================================================\n",
      "Omnibus:                      851.701   Durbin-Watson:                   1.817\n",
      "Prob(Omnibus):                  0.000   Jarque-Bera (JB):             1203.222\n",
      "Skew:                          -0.108   Prob(JB):                    5.29e-262\n",
      "Kurtosis:                       3.493   Cond. No.                         532.\n",
      "==============================================================================\n",
      "\n",
      "Warnings:\n",
      "[1] Standard Errors assume that the covariance matrix of the errors is correctly specified.\n"
     ]
    }
   ],
   "source": [
    "print(kudos_model.summary())"
   ]
  },
  {
   "cell_type": "code",
   "execution_count": 92,
   "metadata": {},
   "outputs": [
    {
     "name": "stdout",
     "output_type": "stream",
     "text": [
      "                            OLS Regression Results                            \n",
      "==============================================================================\n",
      "Dep. Variable:                   Hits   R-squared:                       0.334\n",
      "Model:                            OLS   Adj. R-squared:                  0.334\n",
      "Method:                 Least Squares   F-statistic:                     1135.\n",
      "Date:                Mon, 20 Jan 2020   Prob (F-statistic):               0.00\n",
      "Time:                        16:23:21   Log-Likelihood:                 43891.\n",
      "No. Observations:               99579   AIC:                        -8.769e+04\n",
      "Df Residuals:                   99534   BIC:                        -8.726e+04\n",
      "Df Model:                          44                                         \n",
      "Covariance Type:            nonrobust                                         \n",
      "==============================================================================================\n",
      "                                 coef    std err          t      P>|t|      [0.025      0.975]\n",
      "----------------------------------------------------------------------------------------------\n",
      "Intercept                      1.4484      0.016     89.230      0.000       1.417       1.480\n",
      "Term_novelty                  -0.0993      0.004    -23.588      0.000      -0.108      -0.091\n",
      "Topic_novelty                 -0.1183      0.005    -22.750      0.000      -0.129      -0.108\n",
      "Term_novelty_squared           0.1437      0.025      5.752      0.000       0.095       0.193\n",
      "Topic_novelty_squared          0.2145      0.024      8.998      0.000       0.168       0.261\n",
      "Entropy                        0.0779      0.003     28.361      0.000       0.073       0.083\n",
      "ArchiveWarnings_underage       0.0506      0.003     18.079      0.000       0.045       0.056\n",
      "ArchiveWarnings_death         -0.0500      0.002    -22.267      0.000      -0.054      -0.046\n",
      "ArchiveWarnings_no_apply       0.0081      0.001      7.247      0.000       0.006       0.010\n",
      "ArchiveWarnings_violence      -0.0327      0.002    -15.307      0.000      -0.037      -0.029\n",
      "ArchiveWarnings_noncon         0.0453      0.003     14.622      0.000       0.039       0.051\n",
      "Rating_E                       0.1508      0.002     67.091      0.000       0.146       0.155\n",
      "Rating_G                       0.0234      0.002     10.216      0.000       0.019       0.028\n",
      "Rating_M                       0.0599      0.002     26.346      0.000       0.055       0.064\n",
      "Rating_T                       0.0469      0.002     21.856      0.000       0.043       0.051\n",
      "Category_F_F                  -0.0099      0.002     -4.874      0.000      -0.014      -0.006\n",
      "Category_F_M                  -0.0142      0.001    -10.461      0.000      -0.017      -0.012\n",
      "Category_Gen                  -0.0053      0.002     -3.262      0.001      -0.008      -0.002\n",
      "Category_M_M                   0.0481      0.001     33.744      0.000       0.045       0.051\n",
      "Category_Multi                 0.0017      0.002      0.816      0.414      -0.002       0.006\n",
      "Category_Other                -0.0063      0.003     -1.847      0.065      -0.013       0.000\n",
      "Freq_relationship              0.0615      0.001     55.056      0.000       0.059       0.064\n",
      "Chapters                       0.0033   5.97e-05     55.814      0.000       0.003       0.003\n",
      "Fandom_harry_potter           -0.0139      0.003     -4.188      0.000      -0.020      -0.007\n",
      "Fandom_dcu                     0.0397      0.003     11.589      0.000       0.033       0.046\n",
      "Fandom_doctor_who             -0.0742      0.003    -21.942      0.000      -0.081      -0.068\n",
      "Fandom_star_wars              -0.0158      0.004     -3.554      0.000      -0.025      -0.007\n",
      "Fandom_arthurian              -0.0062      0.003     -1.840      0.066      -0.013       0.000\n",
      "Fandom_supernatural           -0.0489      0.003    -15.005      0.000      -0.055      -0.042\n",
      "Fandom_haikyuu                -0.0158      0.004     -3.669      0.000      -0.024      -0.007\n",
      "Fandom_kuroko_no_basuke       -0.0317      0.004     -8.347      0.000      -0.039      -0.024\n",
      "Fandom_hamilton_miranda       -0.1515      0.013    -11.856      0.000      -0.177      -0.126\n",
      "Fandom_dragon_age             -0.0660      0.004    -18.494      0.000      -0.073      -0.059\n",
      "Fandom_the_walking_dead       -0.0208      0.004     -5.215      0.000      -0.029      -0.013\n",
      "Fandom_buffy                  -0.1177      0.004    -32.523      0.000      -0.125      -0.111\n",
      "Fandom_les_miserables         -0.0661      0.004    -16.422      0.000      -0.074      -0.058\n",
      "Fandom_naruto                 -0.0496      0.004    -13.323      0.000      -0.057      -0.042\n",
      "Fandom_tolkien                 0.0052      0.004      1.428      0.153      -0.002       0.012\n",
      "Fandom_shakespare             -0.1944      0.011    -17.449      0.000      -0.216      -0.173\n",
      "Fandom_hetalia                -0.1278      0.004    -36.088      0.000      -0.135      -0.121\n",
      "Fandom_attack_on_titan        -0.0970      0.004    -24.682      0.000      -0.105      -0.089\n",
      "Fandom_ms_paint_adventures    -0.0364      0.003    -10.547      0.000      -0.043      -0.030\n",
      "Fandom_marvel                  0.0921      0.004     25.901      0.000       0.085       0.099\n",
      "Fandom_sailor_moon            -0.1134      0.011    -10.191      0.000      -0.135      -0.092\n",
      "Fandom_sherlock                0.0059      0.003      1.770      0.077      -0.001       0.012\n",
      "==============================================================================\n",
      "Omnibus:                     9916.923   Durbin-Watson:                   1.586\n",
      "Prob(Omnibus):                  0.000   Jarque-Bera (JB):            22006.473\n",
      "Skew:                          -0.623   Prob(JB):                         0.00\n",
      "Kurtosis:                       4.937   Cond. No.                         532.\n",
      "==============================================================================\n",
      "\n",
      "Warnings:\n",
      "[1] Standard Errors assume that the covariance matrix of the errors is correctly specified.\n"
     ]
    }
   ],
   "source": [
    "print(hits_model.summary())"
   ]
  },
  {
   "cell_type": "code",
   "execution_count": 93,
   "metadata": {},
   "outputs": [
    {
     "name": "stdout",
     "output_type": "stream",
     "text": [
      "                            OLS Regression Results                            \n",
      "==============================================================================\n",
      "Dep. Variable:               Comments   R-squared:                       0.153\n",
      "Model:                            OLS   Adj. R-squared:                  0.153\n",
      "Method:                 Least Squares   F-statistic:                     219.0\n",
      "Date:                Mon, 20 Jan 2020   Prob (F-statistic):               0.00\n",
      "Time:                        16:23:22   Log-Likelihood:                -58307.\n",
      "No. Observations:               53258   AIC:                         1.167e+05\n",
      "Df Residuals:                   53213   BIC:                         1.171e+05\n",
      "Df Model:                          44                                         \n",
      "Covariance Type:            nonrobust                                         \n",
      "==============================================================================================\n",
      "                                 coef    std err          t      P>|t|      [0.025      0.975]\n",
      "----------------------------------------------------------------------------------------------\n",
      "Intercept                     -4.3069      0.108    -39.783      0.000      -4.519      -4.095\n",
      "Term_novelty                  -0.5336      0.026    -20.647      0.000      -0.584      -0.483\n",
      "Topic_novelty                 -0.2572      0.033     -7.870      0.000      -0.321      -0.193\n",
      "Term_novelty_squared           3.3196      0.162     20.442      0.000       3.001       3.638\n",
      "Topic_novelty_squared          1.1824      0.156      7.592      0.000       0.877       1.488\n",
      "Entropy                        0.6699      0.018     36.639      0.000       0.634       0.706\n",
      "ArchiveWarnings_underage       0.0307      0.017      1.826      0.068      -0.002       0.064\n",
      "ArchiveWarnings_death         -0.0307      0.015     -2.090      0.037      -0.059      -0.002\n",
      "ArchiveWarnings_no_apply       0.0248      0.007      3.489      0.000       0.011       0.039\n",
      "ArchiveWarnings_violence       0.0177      0.013      1.346      0.178      -0.008       0.043\n",
      "ArchiveWarnings_noncon         0.0175      0.018      0.958      0.338      -0.018       0.053\n",
      "Rating_E                       0.1405      0.015      9.648      0.000       0.112       0.169\n",
      "Rating_G                       0.0098      0.015      0.635      0.526      -0.020       0.040\n",
      "Rating_M                       0.0992      0.015      6.671      0.000       0.070       0.128\n",
      "Rating_T                       0.0537      0.014      3.770      0.000       0.026       0.082\n",
      "Category_F_F                  -0.0242      0.014     -1.756      0.079      -0.051       0.003\n",
      "Category_F_M                  -0.0132      0.009     -1.507      0.132      -0.030       0.004\n",
      "Category_Gen                   0.0557      0.011      5.218      0.000       0.035       0.077\n",
      "Category_M_M                   0.0986      0.009     10.676      0.000       0.080       0.117\n",
      "Category_Multi                 0.0584      0.013      4.476      0.000       0.033       0.084\n",
      "Category_Other                -0.0043      0.022     -0.193      0.847      -0.048       0.039\n",
      "Freq_relationship              0.0977      0.007     13.905      0.000       0.084       0.112\n",
      "Chapters                       0.0103      0.000     31.982      0.000       0.010       0.011\n",
      "Fandom_harry_potter           -0.0710      0.021     -3.363      0.001      -0.112      -0.030\n",
      "Fandom_dcu                     0.1185      0.021      5.616      0.000       0.077       0.160\n",
      "Fandom_doctor_who             -0.1144      0.022     -5.181      0.000      -0.158      -0.071\n",
      "Fandom_star_wars               0.1107      0.028      3.995      0.000       0.056       0.165\n",
      "Fandom_arthurian              -0.0203      0.020     -0.999      0.318      -0.060       0.020\n",
      "Fandom_supernatural           -0.1012      0.020     -4.990      0.000      -0.141      -0.061\n",
      "Fandom_haikyuu                 0.1145      0.025      4.603      0.000       0.066       0.163\n",
      "Fandom_kuroko_no_basuke       -0.0239      0.023     -1.043      0.297      -0.069       0.021\n",
      "Fandom_hamilton_miranda       -0.0175      0.072     -0.242      0.809      -0.159       0.124\n",
      "Fandom_dragon_age             -0.0793      0.023     -3.499      0.000      -0.124      -0.035\n",
      "Fandom_the_walking_dead        0.2008      0.023      8.604      0.000       0.155       0.247\n",
      "Fandom_buffy                  -0.2747      0.026    -10.745      0.000      -0.325      -0.225\n",
      "Fandom_les_miserables         -0.0365      0.025     -1.485      0.137      -0.085       0.012\n",
      "Fandom_naruto                 -0.1179      0.024     -4.938      0.000      -0.165      -0.071\n",
      "Fandom_tolkien                 0.2272      0.022     10.562      0.000       0.185       0.269\n",
      "Fandom_shakespare              0.0459      0.077      0.596      0.551      -0.105       0.197\n",
      "Fandom_hetalia                -0.3717      0.024    -15.233      0.000      -0.419      -0.324\n",
      "Fandom_attack_on_titan         0.0172      0.024      0.723      0.470      -0.029       0.064\n",
      "Fandom_ms_paint_adventures    -0.0187      0.021     -0.873      0.383      -0.061       0.023\n",
      "Fandom_marvel                  0.2445      0.021     11.639      0.000       0.203       0.286\n",
      "Fandom_sailor_moon            -0.3916      0.078     -5.022      0.000      -0.544      -0.239\n",
      "Fandom_sherlock                0.1212      0.020      6.106      0.000       0.082       0.160\n",
      "==============================================================================\n",
      "Omnibus:                    11043.730   Durbin-Watson:                   1.958\n",
      "Prob(Omnibus):                  0.000   Jarque-Bera (JB):            19721.020\n",
      "Skew:                          -1.344   Prob(JB):                         0.00\n",
      "Kurtosis:                       4.290   Cond. No.                         646.\n",
      "==============================================================================\n",
      "\n",
      "Warnings:\n",
      "[1] Standard Errors assume that the covariance matrix of the errors is correctly specified.\n"
     ]
    }
   ],
   "source": [
    "print(comments_model.summary())"
   ]
  },
  {
   "cell_type": "code",
   "execution_count": 94,
   "metadata": {},
   "outputs": [
    {
     "name": "stdout",
     "output_type": "stream",
     "text": [
      "                            OLS Regression Results                            \n",
      "==============================================================================\n",
      "Dep. Variable:              Bookmarks   R-squared:                       0.089\n",
      "Model:                            OLS   Adj. R-squared:                  0.087\n",
      "Method:                 Least Squares   F-statistic:                     43.12\n",
      "Date:                Mon, 20 Jan 2020   Prob (F-statistic):               0.00\n",
      "Time:                        16:23:22   Log-Likelihood:                -23562.\n",
      "No. Observations:               19448   AIC:                         4.721e+04\n",
      "Df Residuals:                   19403   BIC:                         4.757e+04\n",
      "Df Model:                          44                                         \n",
      "Covariance Type:            nonrobust                                         \n",
      "==============================================================================================\n",
      "                                 coef    std err          t      P>|t|      [0.025      0.975]\n",
      "----------------------------------------------------------------------------------------------\n",
      "Intercept                     -5.1489      0.217    -23.724      0.000      -5.574      -4.724\n",
      "Term_novelty                  -0.2974      0.049     -6.049      0.000      -0.394      -0.201\n",
      "Topic_novelty                 -0.4576      0.063     -7.257      0.000      -0.581      -0.334\n",
      "Term_novelty_squared           1.6639      0.328      5.067      0.000       1.020       2.308\n",
      "Topic_novelty_squared          0.3564      0.318      1.121      0.262      -0.266       0.979\n",
      "Entropy                        0.5912      0.036     16.212      0.000       0.520       0.663\n",
      "ArchiveWarnings_underage       0.0198      0.028      0.698      0.485      -0.036       0.075\n",
      "ArchiveWarnings_death         -0.0778      0.033     -2.392      0.017      -0.141      -0.014\n",
      "ArchiveWarnings_no_apply       0.0462      0.013      3.479      0.001       0.020       0.072\n",
      "ArchiveWarnings_violence       0.0453      0.024      1.911      0.056      -0.001       0.092\n",
      "ArchiveWarnings_noncon        -0.0572      0.032     -1.762      0.078      -0.121       0.006\n",
      "Rating_E                       0.1998      0.029      6.887      0.000       0.143       0.257\n",
      "Rating_G                       0.0336      0.033      1.021      0.307      -0.031       0.098\n",
      "Rating_M                       0.1291      0.030      4.315      0.000       0.070       0.188\n",
      "Rating_T                       0.1253      0.029      4.260      0.000       0.068       0.183\n",
      "Category_F_F                  -0.0703      0.031     -2.256      0.024      -0.131      -0.009\n",
      "Category_F_M                  -0.0477      0.017     -2.737      0.006      -0.082      -0.014\n",
      "Category_Gen                   0.0848      0.022      3.836      0.000       0.041       0.128\n",
      "Category_M_M                   0.1308      0.019      6.893      0.000       0.094       0.168\n",
      "Category_Multi                 0.0445      0.025      1.788      0.074      -0.004       0.093\n",
      "Category_Other                -0.0444      0.046     -0.963      0.336      -0.135       0.046\n",
      "Freq_relationship              0.1036      0.013      7.682      0.000       0.077       0.130\n",
      "Chapters                       0.0051      0.000     12.665      0.000       0.004       0.006\n",
      "Fandom_harry_potter           -0.0167      0.033     -0.503      0.615      -0.082       0.048\n",
      "Fandom_dcu                    -0.0524      0.034     -1.521      0.128      -0.120       0.015\n",
      "Fandom_doctor_who             -0.3280      0.045     -7.282      0.000      -0.416      -0.240\n",
      "Fandom_star_wars               0.0490      0.048      1.012      0.311      -0.046       0.144\n",
      "Fandom_arthurian              -0.1021      0.032     -3.161      0.002      -0.165      -0.039\n",
      "Fandom_supernatural           -0.1535      0.033     -4.650      0.000      -0.218      -0.089\n",
      "Fandom_haikyuu                 0.0505      0.040      1.267      0.205      -0.028       0.128\n",
      "Fandom_kuroko_no_basuke       -0.2728      0.038     -7.097      0.000      -0.348      -0.197\n",
      "Fandom_hamilton_miranda       -0.7421      0.247     -3.006      0.003      -1.226      -0.258\n",
      "Fandom_dragon_age             -0.2167      0.041     -5.254      0.000      -0.297      -0.136\n",
      "Fandom_the_walking_dead       -0.1913      0.043     -4.495      0.000      -0.275      -0.108\n",
      "Fandom_buffy                  -0.3085      0.060     -5.104      0.000      -0.427      -0.190\n",
      "Fandom_les_miserables         -0.1508      0.044     -3.391      0.001      -0.238      -0.064\n",
      "Fandom_naruto                 -0.1418      0.041     -3.417      0.001      -0.223      -0.060\n",
      "Fandom_tolkien                 0.0720      0.035      2.075      0.038       0.004       0.140\n",
      "Fandom_shakespare             -0.2534      0.273     -0.928      0.353      -0.788       0.282\n",
      "Fandom_hetalia                -0.4906      0.056     -8.785      0.000      -0.600      -0.381\n",
      "Fandom_attack_on_titan        -0.1026      0.040     -2.542      0.011      -0.182      -0.023\n",
      "Fandom_ms_paint_adventures    -0.1254      0.038     -3.311      0.001      -0.200      -0.051\n",
      "Fandom_marvel                  0.1958      0.033      5.926      0.000       0.131       0.261\n",
      "Fandom_sailor_moon            -0.0723      0.273     -0.265      0.791      -0.607       0.462\n",
      "Fandom_sherlock               -0.0161      0.032     -0.508      0.612      -0.078       0.046\n",
      "==============================================================================\n",
      "Omnibus:                     2470.449   Durbin-Watson:                   1.953\n",
      "Prob(Omnibus):                  0.000   Jarque-Bera (JB):             3511.145\n",
      "Skew:                          -1.007   Prob(JB):                         0.00\n",
      "Kurtosis:                       3.524   Cond. No.                     1.02e+03\n",
      "==============================================================================\n",
      "\n",
      "Warnings:\n",
      "[1] Standard Errors assume that the covariance matrix of the errors is correctly specified.\n",
      "[2] The condition number is large, 1.02e+03. This might indicate that there are\n",
      "strong multicollinearity or other numerical problems.\n"
     ]
    }
   ],
   "source": [
    "print(bookmarks_model.summary())"
   ]
  },
  {
   "cell_type": "code",
   "execution_count": null,
   "metadata": {},
   "outputs": [],
   "source": []
  },
  {
   "cell_type": "code",
   "execution_count": null,
   "metadata": {},
   "outputs": [],
   "source": [
    "# fig = plt.figure(figsize=(20,20))\n",
    "# fig = sm.graphics.plot_regress_exog(kudos_model, \"Term_novelty\", fig=fig)\n",
    "# plt.savefig('partial_reg_plots_term_novelty.png', format='png')"
   ]
  },
  {
   "cell_type": "code",
   "execution_count": null,
   "metadata": {},
   "outputs": [],
   "source": []
  }
 ],
 "metadata": {
  "kernelspec": {
   "display_name": "Python 3",
   "language": "python",
   "name": "python3"
  },
  "language_info": {
   "codemirror_mode": {
    "name": "ipython",
    "version": 3
   },
   "file_extension": ".py",
   "mimetype": "text/x-python",
   "name": "python",
   "nbconvert_exporter": "python",
   "pygments_lexer": "ipython3",
   "version": "3.6.7"
  }
 },
 "nbformat": 4,
 "nbformat_minor": 2
}
