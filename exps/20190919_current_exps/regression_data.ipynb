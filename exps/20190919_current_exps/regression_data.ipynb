{
 "cells": [
  {
   "cell_type": "code",
   "execution_count": 15,
   "metadata": {},
   "outputs": [],
   "source": [
    "import pandas as pd\n",
    "import os\n",
    "import matplotlib.pyplot as plt\n",
    "%matplotlib inline\n",
    "import numpy as np\n",
    "from datetime import date\n",
    "import seaborn as sns\n",
    "from statsmodels.formula.api import ols\n",
    "import statsmodels.api as sm\n",
    "from matplotlib import colors"
   ]
  },
  {
   "cell_type": "markdown",
   "metadata": {},
   "source": [
    "### Create regression data"
   ]
  },
  {
   "cell_type": "code",
   "execution_count": 16,
   "metadata": {},
   "outputs": [],
   "source": [
    "tfidf_path = '../../data/tfidf_merged_chs_202001_full/'"
   ]
  },
  {
   "cell_type": "code",
   "execution_count": 17,
   "metadata": {},
   "outputs": [],
   "source": [
    "lda_path = '../../data/lda_merged_chs_202001_full/'"
   ]
  },
  {
   "cell_type": "code",
   "execution_count": 18,
   "metadata": {},
   "outputs": [],
   "source": [
    "# fandom_list = [\n",
    "#  'star_wars_all_media_types',\n",
    "#  'arthurian_mythology_&_related_fandoms',\n",
    "#  'haikyuu',\n",
    "#  'kuroko_no_basuke',\n",
    "#  'hamilton_miranda',\n",
    "#  'the_walking_dead_&_related_fandoms',\n",
    "#  'buffy_the_vampire_slayer',\n",
    "#  'les_miserables_all_media_types',\n",
    "#  'naruto',\n",
    "#  'shakespare_william_works',\n",
    "#  'bishoujo_senshi_sailor_moon',\n",
    "#  'sherlock_holmes_&_related_fandoms']"
   ]
  },
  {
   "cell_type": "code",
   "execution_count": 22,
   "metadata": {},
   "outputs": [],
   "source": [
    "fandom_list = ['harry_potter',\n",
    " 'dcu',\n",
    " 'doctor_who_&_related_fandoms',\n",
    " 'star_wars_all_media_types',\n",
    " 'arthurian_mythology_&_related_fandoms',\n",
    " 'supernatural',\n",
    " 'haikyuu',\n",
    " 'kuroko_no_basuke',\n",
    " 'hamilton_miranda',\n",
    " 'dragon_age_all_media_types',\n",
    " 'the_walking_dead_&_related_fandoms',\n",
    " 'buffy_the_vampire_slayer',\n",
    " 'les_miserables_all_media_types',\n",
    " 'naruto',\n",
    " 'tolkien_j_r_r_works_&_related_fandoms',\n",
    " 'shakespare_william_works',\n",
    " 'hetalia_axis_powers',\n",
    " 'attack_on_titan',\n",
    " 'ms_paint_adventures',\n",
    " 'marvel',\n",
    " 'bishoujo_senshi_sailor_moon',\n",
    " 'one_direction',\n",
    " 'sherlock_holmes_&_related_fandoms']"
   ]
  },
  {
   "cell_type": "code",
   "execution_count": 23,
   "metadata": {},
   "outputs": [],
   "source": [
    "def first_rel(field):\n",
    "    try:\n",
    "        return field.split(',')[0]\n",
    "    except:\n",
    "        return field"
   ]
  },
  {
   "cell_type": "code",
   "execution_count": 24,
   "metadata": {},
   "outputs": [],
   "source": [
    "def find_major_rel(df):\n",
    "    df['Relationship'] = df.apply(lambda row: first_rel(row['Relationship']), axis=1)\n",
    "    counts = df['Relationship'].value_counts()\n",
    "    return counts.keys()[0:5]\n"
   ]
  },
  {
   "cell_type": "code",
   "execution_count": 25,
   "metadata": {},
   "outputs": [],
   "source": [
    "df_all = []\n",
    "for i,fandom in enumerate(fandom_list):\n",
    "    df_tfidf = pd.read_csv(os.path.join(tfidf_path,fandom + '_temporal_tfidf_cos_merged_chapters_full.tsv'), sep = '\\t')\n",
    "    del df_tfidf['index']\n",
    "    df_lda = pd.read_csv(os.path.join(lda_path,fandom + '_temporal_lda_jsd_toprev_with_dist_merged_chs_no_text.tsv'), sep = '\\t',  quotechar=None, quoting=3)\n",
    "    del df_lda['index']\n",
    "#     del df_lda['Text']\n",
    "    del df_lda['Dist']\n",
    "    del df_lda['Chapters']\n",
    "#     print(len(df_tfidf[df_tfidf.Kudos == 0]), len(df_lda[df_lda.Kudos == 0]))\n",
    "#     print(sorted(df_tfidf.Kudos.tolist())[0:10])\n",
    "#     print(sorted(df_lda.Kudos.tolist())[0:10])\n",
    "\n",
    "    #     print(df_tfidf.head())\n",
    "#     print()\n",
    "#     print(df_lda.head())\n",
    "#     print(df_tfidf.dtypes)\n",
    "#     print()\n",
    "#     print(df_lda.dtypes)\n",
    "#     print('-----')\n",
    "#     print()\n",
    "    #     for col in df_lda.columns.values:\n",
    "#         print(df_lda[col].tolist()[0:100])\n",
    "    df_lda['UpdateDate'] = df_lda['UpdateDate'].astype('object')\n",
    "    df = pd.merge(df_tfidf, df_lda, on=['AdditionalTags', 'ArchiveWarnings', 'Author', 'Bookmarks', 'Category',\\\n",
    "  'Characters','Comments' ,'CompleteDate',\\\n",
    " 'Fandoms', 'Hits' ,'Kudos', 'Language' ,'PublishDate' ,'Rating',\\\n",
    " 'Relationship','Title'  ,'UpdateDate' ,'Words'], how='inner')\n",
    "\n",
    "    df['fandom_category'] = fandom    \n",
    "\n",
    "    df = df.replace([np.inf, -np.inf], np.nan)\n",
    "    df['Hits'].fillna(0, inplace=True)\n",
    "    df['Kudos'].fillna(0, inplace=True)\n",
    "    df['Bookmarks'].fillna(0, inplace=True)\n",
    "    df['Comments'].fillna(0, inplace=True)\n",
    "\n",
    "    freq_rel = find_major_rel(df)\n",
    "    df['Relationship'] = df['Relationship'].apply(lambda x: first_rel(x))\n",
    "    df['Freq_relationship'] = df['Relationship'].apply(lambda x: 1 if x in freq_rel else 0)\n",
    "    del df['Relationship']\n",
    "    df_all.append(df)"
   ]
  },
  {
   "cell_type": "code",
   "execution_count": 26,
   "metadata": {},
   "outputs": [],
   "source": [
    "df_all = pd.concat(df_all)"
   ]
  },
  {
   "cell_type": "code",
   "execution_count": 27,
   "metadata": {},
   "outputs": [
    {
     "data": {
      "text/plain": [
       "406336"
      ]
     },
     "execution_count": 27,
     "metadata": {},
     "output_type": "execute_result"
    }
   ],
   "source": [
    "len(df_all)"
   ]
  },
  {
   "cell_type": "code",
   "execution_count": 28,
   "metadata": {},
   "outputs": [
    {
     "data": {
      "text/plain": [
       "406336"
      ]
     },
     "execution_count": 28,
     "metadata": {},
     "output_type": "execute_result"
    }
   ],
   "source": [
    "len(df_all.drop_duplicates())"
   ]
  },
  {
   "cell_type": "code",
   "execution_count": 29,
   "metadata": {},
   "outputs": [
    {
     "data": {
      "text/html": [
       "<div>\n",
       "<style scoped>\n",
       "    .dataframe tbody tr th:only-of-type {\n",
       "        vertical-align: middle;\n",
       "    }\n",
       "\n",
       "    .dataframe tbody tr th {\n",
       "        vertical-align: top;\n",
       "    }\n",
       "\n",
       "    .dataframe thead th {\n",
       "        text-align: right;\n",
       "    }\n",
       "</style>\n",
       "<table border=\"1\" class=\"dataframe\">\n",
       "  <thead>\n",
       "    <tr style=\"text-align: right;\">\n",
       "      <th></th>\n",
       "      <th>AdditionalTags</th>\n",
       "      <th>ArchiveWarnings</th>\n",
       "      <th>Author</th>\n",
       "      <th>Bookmarks</th>\n",
       "      <th>Category</th>\n",
       "      <th>Chapters</th>\n",
       "      <th>Characters</th>\n",
       "      <th>Fandoms</th>\n",
       "      <th>Hits</th>\n",
       "      <th>Kudos</th>\n",
       "      <th>...</th>\n",
       "      <th>UpdateDate</th>\n",
       "      <th>CompleteDate</th>\n",
       "      <th>Comments</th>\n",
       "      <th>URL_x</th>\n",
       "      <th>Cos</th>\n",
       "      <th>Entropy</th>\n",
       "      <th>URL_y</th>\n",
       "      <th>JSD</th>\n",
       "      <th>fandom_category</th>\n",
       "      <th>Freq_relationship</th>\n",
       "    </tr>\n",
       "  </thead>\n",
       "  <tbody>\n",
       "    <tr>\n",
       "      <td>0</td>\n",
       "      <td>Afterlife, Humor, Friendship, Friendship/Love</td>\n",
       "      <td>No Archive Warnings Apply</td>\n",
       "      <td>crossingwinter</td>\n",
       "      <td>21</td>\n",
       "      <td>F/MGen</td>\n",
       "      <td>24</td>\n",
       "      <td>Ariana Dumbledore, Gideon Prewett, Fabian Prew...</td>\n",
       "      <td>['Harry Potter - J. K. Rowling']</td>\n",
       "      <td>2399.0</td>\n",
       "      <td>53.0</td>\n",
       "      <td>...</td>\n",
       "      <td>NaN</td>\n",
       "      <td>2009-07-16</td>\n",
       "      <td>16</td>\n",
       "      <td>http://archiveofourown.org/works/488677/chapte...</td>\n",
       "      <td>0.603058</td>\n",
       "      <td>5.315078</td>\n",
       "      <td>http://archiveofourown.org/works/488677/chapte...</td>\n",
       "      <td>0.196381</td>\n",
       "      <td>harry_potter</td>\n",
       "      <td>0</td>\n",
       "    </tr>\n",
       "    <tr>\n",
       "      <td>1</td>\n",
       "      <td>Alternate Universe, Suicide</td>\n",
       "      <td>Major Character Death, Rape/Non-Con</td>\n",
       "      <td>Batsutousai</td>\n",
       "      <td>7</td>\n",
       "      <td>F/MM/M</td>\n",
       "      <td>1</td>\n",
       "      <td>Harry Potter, Voldemort, Ron Weasley</td>\n",
       "      <td>['Harry Potter - J. K. Rowling']</td>\n",
       "      <td>2333.0</td>\n",
       "      <td>80.0</td>\n",
       "      <td>...</td>\n",
       "      <td>NaN</td>\n",
       "      <td>2009-07-11</td>\n",
       "      <td>3</td>\n",
       "      <td>http://archiveofourown.org/works/208853?view_a...</td>\n",
       "      <td>0.452716</td>\n",
       "      <td>5.723015</td>\n",
       "      <td>http://archiveofourown.org/works/208853?view_a...</td>\n",
       "      <td>0.245605</td>\n",
       "      <td>harry_potter</td>\n",
       "      <td>1</td>\n",
       "    </tr>\n",
       "    <tr>\n",
       "      <td>2</td>\n",
       "      <td>Alzheimer\\'s Disease, Angst</td>\n",
       "      <td>No Archive Warnings Apply</td>\n",
       "      <td>thesewarmstars</td>\n",
       "      <td>1</td>\n",
       "      <td>GenM/M</td>\n",
       "      <td>1</td>\n",
       "      <td>Albus Dumbledore, Severus Snape</td>\n",
       "      <td>['Harry Potter - J. K. Rowling']</td>\n",
       "      <td>200.0</td>\n",
       "      <td>21.0</td>\n",
       "      <td>...</td>\n",
       "      <td>NaN</td>\n",
       "      <td>2009-07-09</td>\n",
       "      <td>0</td>\n",
       "      <td>http://archiveofourown.org/works/1644146</td>\n",
       "      <td>0.502372</td>\n",
       "      <td>4.662854</td>\n",
       "      <td>http://archiveofourown.org/works/1644146</td>\n",
       "      <td>0.391960</td>\n",
       "      <td>harry_potter</td>\n",
       "      <td>0</td>\n",
       "    </tr>\n",
       "    <tr>\n",
       "      <td>3</td>\n",
       "      <td>Amnesia, Temporary Amnesia, Spells &amp; Enchantme...</td>\n",
       "      <td>No Archive Warnings Apply</td>\n",
       "      <td>EntreNous</td>\n",
       "      <td>14</td>\n",
       "      <td>M/M</td>\n",
       "      <td>2</td>\n",
       "      <td>Ron Weasley, Draco Malfoy, Harry Potter, Hermi...</td>\n",
       "      <td>['Harry Potter - Fandom']</td>\n",
       "      <td>1635.0</td>\n",
       "      <td>115.0</td>\n",
       "      <td>...</td>\n",
       "      <td>NaN</td>\n",
       "      <td>2009-07-07</td>\n",
       "      <td>4</td>\n",
       "      <td>http://archiveofourown.org/works/967862/chapte...</td>\n",
       "      <td>0.367911</td>\n",
       "      <td>5.718597</td>\n",
       "      <td>http://archiveofourown.org/works/967862/chapte...</td>\n",
       "      <td>0.103724</td>\n",
       "      <td>harry_potter</td>\n",
       "      <td>0</td>\n",
       "    </tr>\n",
       "    <tr>\n",
       "      <td>4</td>\n",
       "      <td>Anal Sex, Bottom Snape, Crack, Virgin Snape</td>\n",
       "      <td>No Archive Warnings Apply</td>\n",
       "      <td>thesewarmstars</td>\n",
       "      <td>5</td>\n",
       "      <td>M/M</td>\n",
       "      <td>1</td>\n",
       "      <td>Harry Potter, Severus Snape</td>\n",
       "      <td>['Harry Potter - J. K. Rowling']</td>\n",
       "      <td>2560.0</td>\n",
       "      <td>103.0</td>\n",
       "      <td>...</td>\n",
       "      <td>NaN</td>\n",
       "      <td>2009-07-20</td>\n",
       "      <td>3</td>\n",
       "      <td>http://archiveofourown.org/works/1649069?view_...</td>\n",
       "      <td>0.431102</td>\n",
       "      <td>5.080830</td>\n",
       "      <td>http://archiveofourown.org/works/1649069?view_...</td>\n",
       "      <td>0.260273</td>\n",
       "      <td>harry_potter</td>\n",
       "      <td>1</td>\n",
       "    </tr>\n",
       "  </tbody>\n",
       "</table>\n",
       "<p>5 rows × 25 columns</p>\n",
       "</div>"
      ],
      "text/plain": [
       "                                      AdditionalTags  \\\n",
       "0      Afterlife, Humor, Friendship, Friendship/Love   \n",
       "1                        Alternate Universe, Suicide   \n",
       "2                        Alzheimer\\'s Disease, Angst   \n",
       "3  Amnesia, Temporary Amnesia, Spells & Enchantme...   \n",
       "4        Anal Sex, Bottom Snape, Crack, Virgin Snape   \n",
       "\n",
       "                       ArchiveWarnings          Author  Bookmarks Category  \\\n",
       "0            No Archive Warnings Apply  crossingwinter         21   F/MGen   \n",
       "1  Major Character Death, Rape/Non-Con     Batsutousai          7   F/MM/M   \n",
       "2            No Archive Warnings Apply  thesewarmstars          1   GenM/M   \n",
       "3            No Archive Warnings Apply       EntreNous         14      M/M   \n",
       "4            No Archive Warnings Apply  thesewarmstars          5      M/M   \n",
       "\n",
       "   Chapters                                         Characters  \\\n",
       "0        24  Ariana Dumbledore, Gideon Prewett, Fabian Prew...   \n",
       "1         1               Harry Potter, Voldemort, Ron Weasley   \n",
       "2         1                    Albus Dumbledore, Severus Snape   \n",
       "3         2  Ron Weasley, Draco Malfoy, Harry Potter, Hermi...   \n",
       "4         1                        Harry Potter, Severus Snape   \n",
       "\n",
       "                            Fandoms    Hits  Kudos  ... UpdateDate  \\\n",
       "0  ['Harry Potter - J. K. Rowling']  2399.0   53.0  ...        NaN   \n",
       "1  ['Harry Potter - J. K. Rowling']  2333.0   80.0  ...        NaN   \n",
       "2  ['Harry Potter - J. K. Rowling']   200.0   21.0  ...        NaN   \n",
       "3         ['Harry Potter - Fandom']  1635.0  115.0  ...        NaN   \n",
       "4  ['Harry Potter - J. K. Rowling']  2560.0  103.0  ...        NaN   \n",
       "\n",
       "  CompleteDate Comments                                              URL_x  \\\n",
       "0   2009-07-16       16  http://archiveofourown.org/works/488677/chapte...   \n",
       "1   2009-07-11        3  http://archiveofourown.org/works/208853?view_a...   \n",
       "2   2009-07-09        0           http://archiveofourown.org/works/1644146   \n",
       "3   2009-07-07        4  http://archiveofourown.org/works/967862/chapte...   \n",
       "4   2009-07-20        3  http://archiveofourown.org/works/1649069?view_...   \n",
       "\n",
       "        Cos   Entropy                                              URL_y  \\\n",
       "0  0.603058  5.315078  http://archiveofourown.org/works/488677/chapte...   \n",
       "1  0.452716  5.723015  http://archiveofourown.org/works/208853?view_a...   \n",
       "2  0.502372  4.662854           http://archiveofourown.org/works/1644146   \n",
       "3  0.367911  5.718597  http://archiveofourown.org/works/967862/chapte...   \n",
       "4  0.431102  5.080830  http://archiveofourown.org/works/1649069?view_...   \n",
       "\n",
       "        JSD fandom_category  Freq_relationship  \n",
       "0  0.196381    harry_potter                  0  \n",
       "1  0.245605    harry_potter                  1  \n",
       "2  0.391960    harry_potter                  0  \n",
       "3  0.103724    harry_potter                  0  \n",
       "4  0.260273    harry_potter                  1  \n",
       "\n",
       "[5 rows x 25 columns]"
      ]
     },
     "execution_count": 29,
     "metadata": {},
     "output_type": "execute_result"
    }
   ],
   "source": [
    "df_all.head()"
   ]
  },
  {
   "cell_type": "code",
   "execution_count": 30,
   "metadata": {},
   "outputs": [
    {
     "data": {
      "text/plain": [
       "93625"
      ]
     },
     "execution_count": 30,
     "metadata": {},
     "output_type": "execute_result"
    }
   ],
   "source": [
    "len(set(df_all.Author.tolist()))"
   ]
  },
  {
   "cell_type": "code",
   "execution_count": 31,
   "metadata": {},
   "outputs": [
    {
     "data": {
      "text/plain": [
       "64809"
      ]
     },
     "execution_count": 31,
     "metadata": {},
     "output_type": "execute_result"
    }
   ],
   "source": [
    "len(df_all[df_all.Bookmarks == 0])"
   ]
  },
  {
   "cell_type": "code",
   "execution_count": 32,
   "metadata": {},
   "outputs": [
    {
     "data": {
      "text/plain": [
       "[0.0, 0.0, 0.0, 0.0, 0.0, 0.0, 0.0, 0.0, 0.0, 0.0]"
      ]
     },
     "execution_count": 32,
     "metadata": {},
     "output_type": "execute_result"
    }
   ],
   "source": [
    "sorted(df_all.Kudos.tolist())[0:10]"
   ]
  },
  {
   "cell_type": "code",
   "execution_count": 33,
   "metadata": {},
   "outputs": [],
   "source": [
    "del df_all['Language']\n",
    "del df_all['Title']\n",
    "del df_all['AdditionalTags']\n",
    "del df_all['Fandoms']\n",
    "del df_all['Characters']"
   ]
  },
  {
   "cell_type": "code",
   "execution_count": 34,
   "metadata": {},
   "outputs": [
    {
     "data": {
      "text/plain": [
       "406336"
      ]
     },
     "execution_count": 34,
     "metadata": {},
     "output_type": "execute_result"
    }
   ],
   "source": [
    "len(df_all)"
   ]
  },
  {
   "cell_type": "code",
   "execution_count": 35,
   "metadata": {},
   "outputs": [],
   "source": [
    "df_all['Category'].fillna('Unknown', inplace=True)\n",
    "df_all['Category_F_F'] = df_all['Category'].apply(lambda x: 1 if 'F/F' in x else 0)\n",
    "df_all['Category_F_M'] = df_all['Category'].apply(lambda x: 1 if 'F/M' in x else 0)\n",
    "df_all['Category_Gen'] = df_all['Category'].apply(lambda x: 1 if 'Gen' in x else 0)\n",
    "df_all['Category_M_M'] = df_all['Category'].apply(lambda x: 1 if 'M/M' in x else 0)\n",
    "df_all['Category_Multi'] = df_all['Category'].apply(lambda x: 1 if 'Multi' in x else 0)\n",
    "df_all['Category_Other'] = df_all['Category'].apply(lambda x: 1 if 'Other' in x else 0)\n",
    "df_all['Category_Unknown'] = df_all['Category'].apply(lambda x: 1 if 'Unknown' in x else 0)\n",
    "del df_all['Category']"
   ]
  },
  {
   "cell_type": "code",
   "execution_count": 36,
   "metadata": {},
   "outputs": [],
   "source": [
    "df_all['ArchiveWarnings_underage'] = df_all['ArchiveWarnings'].apply(lambda x: 1 if 'Underage' in x else 0)\n",
    "df_all['ArchiveWarnings_death'] = df_all['ArchiveWarnings'].apply(lambda x: 1 if 'Major Character Death' in x else 0)\n",
    "df_all['ArchiveWarnings_choose_no'] = df_all['ArchiveWarnings'].apply(lambda x: 1 if 'Creator Chose Not To Use Archive Warnings' in x else 0)\n",
    "df_all['ArchiveWarnings_no_apply'] = df_all['ArchiveWarnings'].apply(lambda x: 1 if 'No Archive Warnings Apply' in x else 0)\n",
    "df_all['ArchiveWarnings_violence'] = df_all['ArchiveWarnings'].apply(lambda x: 1 if 'Graphic Depictions Of Violence' in x else 0)\n",
    "df_all['ArchiveWarnings_noncon'] = df_all['ArchiveWarnings'].apply(lambda x: 1 if 'Rape/Non-Con' in x else 0)\n",
    "\n",
    "del df_all['ArchiveWarnings']"
   ]
  },
  {
   "cell_type": "code",
   "execution_count": 37,
   "metadata": {},
   "outputs": [],
   "source": [
    "# df_all = df_all[df_all['ArchiveWarnings_blood'] != 1]\n",
    "# df_all = df_all[df_all['ArchiveWarnings_none'] != 1]"
   ]
  },
  {
   "cell_type": "code",
   "execution_count": 38,
   "metadata": {},
   "outputs": [],
   "source": [
    "df_all['Author'].fillna('Unknown', inplace=True)\n",
    "counts = df_all['Author'].value_counts()\n",
    "idx = counts[counts >= 10].index\n",
    "df_all['author_fic_cnt'] = df_all['Author'].apply(lambda x: counts[x])\n",
    "del df_all['Author']"
   ]
  },
  {
   "cell_type": "code",
   "execution_count": 39,
   "metadata": {},
   "outputs": [],
   "source": [
    "df_all['Rating_E'] = df_all['Rating'].apply(lambda x: 1 if x == 'Explicit' else 0)\n",
    "df_all['Rating_G'] = df_all['Rating'].apply(lambda x: 1 if x == 'General Audiences' else 0)\n",
    "df_all['Rating_M'] = df_all['Rating'].apply(lambda x: 1 if x == 'Mature' else 0)\n",
    "df_all['Rating_N'] = df_all['Rating'].apply(lambda x: 1 if x == 'Not Rated' else 0)\n",
    "df_all['Rating_T'] = df_all['Rating'].apply(lambda x: 1 if x == 'Teen And Up Audiences' else 0)\n",
    "del df_all['Rating']"
   ]
  },
  {
   "cell_type": "code",
   "execution_count": 40,
   "metadata": {},
   "outputs": [],
   "source": [
    "df_all['Fandom_harry_potter'] = df_all['fandom_category'].apply(lambda x: 1 if x == 'harry_potter' else 0)\n",
    "df_all['Fandom_dcu'] = df_all['fandom_category'].apply(lambda x: 1 if x == 'dcu' else 0)\n",
    "df_all['Fandom_doctor_who'] = df_all['fandom_category'].apply(lambda x: 1 if x == 'doctor_who_&_related_fandoms' else 0)\n",
    "df_all['Fandom_star_wars'] = df_all['fandom_category'].apply(lambda x: 1 if x == 'star_wars_all_media_types' else 0)\n",
    "df_all['Fandom_arthurian'] = df_all['fandom_category'].apply(lambda x: 1 if x == 'arthurian_mythology_&_related_fandoms' else 0)\n",
    "df_all['Fandom_supernatural'] = df_all['fandom_category'].apply(lambda x: 1 if x == 'supernatural' else 0)\n",
    "df_all['Fandom_haikyuu'] = df_all['fandom_category'].apply(lambda x: 1 if x == 'haikyuu' else 0)\n",
    "df_all['Fandom_kuroko_no_basuke'] = df_all['fandom_category'].apply(lambda x: 1 if x == 'kuroko_no_basuke' else 0)\n",
    "df_all['Fandom_hamilton_miranda'] = df_all['fandom_category'].apply(lambda x: 1 if x == 'hamilton_miranda' else 0)\n",
    "df_all['Fandom_dragon_age'] = df_all['fandom_category'].apply(lambda x: 1 if x == 'dragon_age_all_media_types' else 0)\n",
    "df_all['Fandom_the_walking_dead'] = df_all['fandom_category'].apply(lambda x: 1 if x == 'the_walking_dead_&_related_fandoms' else 0)\n",
    "df_all['Fandom_buffy'] = df_all['fandom_category'].apply(lambda x: 1 if x == 'buffy_the_vampire_slayer' else 0)\n",
    "df_all['Fandom_les_miserables'] = df_all['fandom_category'].apply(lambda x: 1 if x == 'les_miserables_all_media_types' else 0)\n",
    "df_all['Fandom_naruto'] = df_all['fandom_category'].apply(lambda x: 1 if x == 'naruto' else 0)\n",
    "df_all['Fandom_tolkien'] = df_all['fandom_category'].apply(lambda x: 1 if x == 'tolkien_j_r_r_works_&_related_fandoms' else 0)\n",
    "df_all['Fandom_shakespare'] = df_all['fandom_category'].apply(lambda x: 1 if x == 'shakespare_william_works' else 0)\n",
    "df_all['Fandom_hetalia'] = df_all['fandom_category'].apply(lambda x: 1 if x == 'hetalia_axis_powers' else 0)\n",
    "df_all['Fandom_attack_on_titan'] = df_all['fandom_category'].apply(lambda x: 1 if x == 'attack_on_titan' else 0)\n",
    "df_all['Fandom_ms_paint_adventures'] = df_all['fandom_category'].apply(lambda x: 1 if x == 'ms_paint_adventures' else 0)\n",
    "df_all['Fandom_marvel'] = df_all['fandom_category'].apply(lambda x: 1 if x == 'marvel' else 0)\n",
    "df_all['Fandom_sailor_moon'] = df_all['fandom_category'].apply(lambda x: 1 if x == 'bishoujo_senshi_sailor_moon' else 0)\n",
    "df_all['Fandom_one_direction'] = df_all['fandom_category'].apply(lambda x: 1 if x == 'one_direction' else 0)\n",
    "df_all['Fandom_sherlock'] = df_all['fandom_category'].apply(lambda x: 1 if x == 'sherlock_holmes_&_related_fandoms' else 0)\n",
    "\n",
    "del df_all['fandom_category']"
   ]
  },
  {
   "cell_type": "code",
   "execution_count": 41,
   "metadata": {},
   "outputs": [],
   "source": [
    "def date_today(cell):\n",
    "    try:\n",
    "        y, m, d = cell.split('-')\n",
    "        return abs(date.today() - date(int(y), int(m), int(d))).days\n",
    "    except:\n",
    "        return float('nan')"
   ]
  },
  {
   "cell_type": "code",
   "execution_count": 42,
   "metadata": {},
   "outputs": [],
   "source": [
    "df_all['PublishDate'] = df_all.apply(lambda row: date_today(row['PublishDate']), axis = 1)\n",
    "df_all['CompleteDate'] = df_all.apply(lambda row: date_today(row['CompleteDate']), axis = 1)\n",
    "df_all['UpdateDate'] = df_all.apply(lambda row: date_today(row['UpdateDate']), axis = 1)"
   ]
  },
  {
   "cell_type": "code",
   "execution_count": 43,
   "metadata": {},
   "outputs": [],
   "source": [
    "def find_history(field_list):\n",
    "    field_list = [10000000 if np.isnan(x) else x for x in field_list]\n",
    "    return np.amin(field_list)"
   ]
  },
  {
   "cell_type": "code",
   "execution_count": 44,
   "metadata": {},
   "outputs": [],
   "source": [
    "df_all['history'] = df_all.apply(lambda row: find_history([row['PublishDate'], row['CompleteDate'], row['UpdateDate']]), axis=1)"
   ]
  },
  {
   "cell_type": "code",
   "execution_count": 45,
   "metadata": {},
   "outputs": [],
   "source": [
    "del df_all['PublishDate']\n",
    "del df_all['CompleteDate']\n",
    "del df_all['UpdateDate']"
   ]
  },
  {
   "cell_type": "code",
   "execution_count": 46,
   "metadata": {},
   "outputs": [
    {
     "data": {
      "text/plain": [
       "406336"
      ]
     },
     "execution_count": 46,
     "metadata": {},
     "output_type": "execute_result"
    }
   ],
   "source": [
    "len(df_all)"
   ]
  },
  {
   "cell_type": "code",
   "execution_count": 47,
   "metadata": {},
   "outputs": [],
   "source": [
    "# df_t = df_all.sample(100)\n",
    "# for col in df_t.columns.values:\n",
    "#     print(col)\n",
    "#     print(df_t[col].tolist())\n",
    "#     print()"
   ]
  },
  {
   "cell_type": "code",
   "execution_count": 48,
   "metadata": {},
   "outputs": [],
   "source": [
    "# df1 = df_all[df_all.isnull().any(axis=1)]"
   ]
  },
  {
   "cell_type": "code",
   "execution_count": 49,
   "metadata": {},
   "outputs": [
    {
     "data": {
      "text/plain": [
       "array(['Bookmarks', 'Chapters', 'Hits', 'Kudos', 'Words', 'Comments',\n",
       "       'URL_x', 'Cos', 'Entropy', 'URL_y', 'JSD', 'Freq_relationship',\n",
       "       'Category_F_F', 'Category_F_M', 'Category_Gen', 'Category_M_M',\n",
       "       'Category_Multi', 'Category_Other', 'Category_Unknown',\n",
       "       'ArchiveWarnings_underage', 'ArchiveWarnings_death',\n",
       "       'ArchiveWarnings_choose_no', 'ArchiveWarnings_no_apply',\n",
       "       'ArchiveWarnings_violence', 'ArchiveWarnings_noncon',\n",
       "       'author_fic_cnt', 'Rating_E', 'Rating_G', 'Rating_M', 'Rating_N',\n",
       "       'Rating_T', 'Fandom_harry_potter', 'Fandom_dcu',\n",
       "       'Fandom_doctor_who', 'Fandom_star_wars', 'Fandom_arthurian',\n",
       "       'Fandom_supernatural', 'Fandom_haikyuu', 'Fandom_kuroko_no_basuke',\n",
       "       'Fandom_hamilton_miranda', 'Fandom_dragon_age',\n",
       "       'Fandom_the_walking_dead', 'Fandom_buffy', 'Fandom_les_miserables',\n",
       "       'Fandom_naruto', 'Fandom_tolkien', 'Fandom_shakespare',\n",
       "       'Fandom_hetalia', 'Fandom_attack_on_titan',\n",
       "       'Fandom_ms_paint_adventures', 'Fandom_marvel',\n",
       "       'Fandom_sailor_moon', 'Fandom_one_direction', 'Fandom_sherlock',\n",
       "       'history'], dtype=object)"
      ]
     },
     "execution_count": 49,
     "metadata": {},
     "output_type": "execute_result"
    }
   ],
   "source": [
    "df_all.columns.values"
   ]
  },
  {
   "cell_type": "code",
   "execution_count": 50,
   "metadata": {},
   "outputs": [],
   "source": [
    "df_all = df_all.rename(columns = {'history':'History', 'Cos': 'Term_novelty', 'JSD': 'Topic_novelty'})"
   ]
  },
  {
   "cell_type": "code",
   "execution_count": 51,
   "metadata": {},
   "outputs": [
    {
     "data": {
      "text/plain": [
       "array(['Bookmarks', 'Chapters', 'Hits', 'Kudos', 'Words', 'Comments',\n",
       "       'URL_x', 'Term_novelty', 'Entropy', 'URL_y', 'Topic_novelty',\n",
       "       'Freq_relationship', 'Category_F_F', 'Category_F_M',\n",
       "       'Category_Gen', 'Category_M_M', 'Category_Multi', 'Category_Other',\n",
       "       'Category_Unknown', 'ArchiveWarnings_underage',\n",
       "       'ArchiveWarnings_death', 'ArchiveWarnings_choose_no',\n",
       "       'ArchiveWarnings_no_apply', 'ArchiveWarnings_violence',\n",
       "       'ArchiveWarnings_noncon', 'author_fic_cnt', 'Rating_E', 'Rating_G',\n",
       "       'Rating_M', 'Rating_N', 'Rating_T', 'Fandom_harry_potter',\n",
       "       'Fandom_dcu', 'Fandom_doctor_who', 'Fandom_star_wars',\n",
       "       'Fandom_arthurian', 'Fandom_supernatural', 'Fandom_haikyuu',\n",
       "       'Fandom_kuroko_no_basuke', 'Fandom_hamilton_miranda',\n",
       "       'Fandom_dragon_age', 'Fandom_the_walking_dead', 'Fandom_buffy',\n",
       "       'Fandom_les_miserables', 'Fandom_naruto', 'Fandom_tolkien',\n",
       "       'Fandom_shakespare', 'Fandom_hetalia', 'Fandom_attack_on_titan',\n",
       "       'Fandom_ms_paint_adventures', 'Fandom_marvel',\n",
       "       'Fandom_sailor_moon', 'Fandom_one_direction', 'Fandom_sherlock',\n",
       "       'History'], dtype=object)"
      ]
     },
     "execution_count": 51,
     "metadata": {},
     "output_type": "execute_result"
    }
   ],
   "source": [
    "df_all.columns.values"
   ]
  },
  {
   "cell_type": "code",
   "execution_count": 52,
   "metadata": {},
   "outputs": [
    {
     "data": {
      "text/html": [
       "<div>\n",
       "<style scoped>\n",
       "    .dataframe tbody tr th:only-of-type {\n",
       "        vertical-align: middle;\n",
       "    }\n",
       "\n",
       "    .dataframe tbody tr th {\n",
       "        vertical-align: top;\n",
       "    }\n",
       "\n",
       "    .dataframe thead th {\n",
       "        text-align: right;\n",
       "    }\n",
       "</style>\n",
       "<table border=\"1\" class=\"dataframe\">\n",
       "  <thead>\n",
       "    <tr style=\"text-align: right;\">\n",
       "      <th></th>\n",
       "      <th>Bookmarks</th>\n",
       "      <th>Chapters</th>\n",
       "      <th>Hits</th>\n",
       "      <th>Kudos</th>\n",
       "      <th>Words</th>\n",
       "      <th>Comments</th>\n",
       "      <th>URL_x</th>\n",
       "      <th>Term_novelty</th>\n",
       "      <th>Entropy</th>\n",
       "      <th>URL_y</th>\n",
       "      <th>...</th>\n",
       "      <th>Fandom_tolkien</th>\n",
       "      <th>Fandom_shakespare</th>\n",
       "      <th>Fandom_hetalia</th>\n",
       "      <th>Fandom_attack_on_titan</th>\n",
       "      <th>Fandom_ms_paint_adventures</th>\n",
       "      <th>Fandom_marvel</th>\n",
       "      <th>Fandom_sailor_moon</th>\n",
       "      <th>Fandom_one_direction</th>\n",
       "      <th>Fandom_sherlock</th>\n",
       "      <th>History</th>\n",
       "    </tr>\n",
       "  </thead>\n",
       "  <tbody>\n",
       "    <tr>\n",
       "      <td>0</td>\n",
       "      <td>21</td>\n",
       "      <td>24</td>\n",
       "      <td>2399.0</td>\n",
       "      <td>53.0</td>\n",
       "      <td>66258.0</td>\n",
       "      <td>16</td>\n",
       "      <td>http://archiveofourown.org/works/488677/chapte...</td>\n",
       "      <td>0.603058</td>\n",
       "      <td>5.315078</td>\n",
       "      <td>http://archiveofourown.org/works/488677/chapte...</td>\n",
       "      <td>...</td>\n",
       "      <td>0</td>\n",
       "      <td>0</td>\n",
       "      <td>0</td>\n",
       "      <td>0</td>\n",
       "      <td>0</td>\n",
       "      <td>0</td>\n",
       "      <td>0</td>\n",
       "      <td>0</td>\n",
       "      <td>0</td>\n",
       "      <td>3854.0</td>\n",
       "    </tr>\n",
       "    <tr>\n",
       "      <td>1</td>\n",
       "      <td>7</td>\n",
       "      <td>1</td>\n",
       "      <td>2333.0</td>\n",
       "      <td>80.0</td>\n",
       "      <td>3542.0</td>\n",
       "      <td>3</td>\n",
       "      <td>http://archiveofourown.org/works/208853?view_a...</td>\n",
       "      <td>0.452716</td>\n",
       "      <td>5.723015</td>\n",
       "      <td>http://archiveofourown.org/works/208853?view_a...</td>\n",
       "      <td>...</td>\n",
       "      <td>0</td>\n",
       "      <td>0</td>\n",
       "      <td>0</td>\n",
       "      <td>0</td>\n",
       "      <td>0</td>\n",
       "      <td>0</td>\n",
       "      <td>0</td>\n",
       "      <td>0</td>\n",
       "      <td>0</td>\n",
       "      <td>3859.0</td>\n",
       "    </tr>\n",
       "    <tr>\n",
       "      <td>2</td>\n",
       "      <td>1</td>\n",
       "      <td>1</td>\n",
       "      <td>200.0</td>\n",
       "      <td>21.0</td>\n",
       "      <td>837.0</td>\n",
       "      <td>0</td>\n",
       "      <td>http://archiveofourown.org/works/1644146</td>\n",
       "      <td>0.502372</td>\n",
       "      <td>4.662854</td>\n",
       "      <td>http://archiveofourown.org/works/1644146</td>\n",
       "      <td>...</td>\n",
       "      <td>0</td>\n",
       "      <td>0</td>\n",
       "      <td>0</td>\n",
       "      <td>0</td>\n",
       "      <td>0</td>\n",
       "      <td>0</td>\n",
       "      <td>0</td>\n",
       "      <td>0</td>\n",
       "      <td>0</td>\n",
       "      <td>3861.0</td>\n",
       "    </tr>\n",
       "    <tr>\n",
       "      <td>3</td>\n",
       "      <td>14</td>\n",
       "      <td>2</td>\n",
       "      <td>1635.0</td>\n",
       "      <td>115.0</td>\n",
       "      <td>15774.0</td>\n",
       "      <td>4</td>\n",
       "      <td>http://archiveofourown.org/works/967862/chapte...</td>\n",
       "      <td>0.367911</td>\n",
       "      <td>5.718597</td>\n",
       "      <td>http://archiveofourown.org/works/967862/chapte...</td>\n",
       "      <td>...</td>\n",
       "      <td>0</td>\n",
       "      <td>0</td>\n",
       "      <td>0</td>\n",
       "      <td>0</td>\n",
       "      <td>0</td>\n",
       "      <td>0</td>\n",
       "      <td>0</td>\n",
       "      <td>0</td>\n",
       "      <td>0</td>\n",
       "      <td>3863.0</td>\n",
       "    </tr>\n",
       "    <tr>\n",
       "      <td>4</td>\n",
       "      <td>5</td>\n",
       "      <td>1</td>\n",
       "      <td>2560.0</td>\n",
       "      <td>103.0</td>\n",
       "      <td>781.0</td>\n",
       "      <td>3</td>\n",
       "      <td>http://archiveofourown.org/works/1649069?view_...</td>\n",
       "      <td>0.431102</td>\n",
       "      <td>5.080830</td>\n",
       "      <td>http://archiveofourown.org/works/1649069?view_...</td>\n",
       "      <td>...</td>\n",
       "      <td>0</td>\n",
       "      <td>0</td>\n",
       "      <td>0</td>\n",
       "      <td>0</td>\n",
       "      <td>0</td>\n",
       "      <td>0</td>\n",
       "      <td>0</td>\n",
       "      <td>0</td>\n",
       "      <td>0</td>\n",
       "      <td>3850.0</td>\n",
       "    </tr>\n",
       "  </tbody>\n",
       "</table>\n",
       "<p>5 rows × 55 columns</p>\n",
       "</div>"
      ],
      "text/plain": [
       "   Bookmarks  Chapters    Hits  Kudos    Words  Comments  \\\n",
       "0         21        24  2399.0   53.0  66258.0        16   \n",
       "1          7         1  2333.0   80.0   3542.0         3   \n",
       "2          1         1   200.0   21.0    837.0         0   \n",
       "3         14         2  1635.0  115.0  15774.0         4   \n",
       "4          5         1  2560.0  103.0    781.0         3   \n",
       "\n",
       "                                               URL_x  Term_novelty   Entropy  \\\n",
       "0  http://archiveofourown.org/works/488677/chapte...      0.603058  5.315078   \n",
       "1  http://archiveofourown.org/works/208853?view_a...      0.452716  5.723015   \n",
       "2           http://archiveofourown.org/works/1644146      0.502372  4.662854   \n",
       "3  http://archiveofourown.org/works/967862/chapte...      0.367911  5.718597   \n",
       "4  http://archiveofourown.org/works/1649069?view_...      0.431102  5.080830   \n",
       "\n",
       "                                               URL_y  ...  Fandom_tolkien  \\\n",
       "0  http://archiveofourown.org/works/488677/chapte...  ...               0   \n",
       "1  http://archiveofourown.org/works/208853?view_a...  ...               0   \n",
       "2           http://archiveofourown.org/works/1644146  ...               0   \n",
       "3  http://archiveofourown.org/works/967862/chapte...  ...               0   \n",
       "4  http://archiveofourown.org/works/1649069?view_...  ...               0   \n",
       "\n",
       "   Fandom_shakespare  Fandom_hetalia  Fandom_attack_on_titan  \\\n",
       "0                  0               0                       0   \n",
       "1                  0               0                       0   \n",
       "2                  0               0                       0   \n",
       "3                  0               0                       0   \n",
       "4                  0               0                       0   \n",
       "\n",
       "   Fandom_ms_paint_adventures  Fandom_marvel  Fandom_sailor_moon  \\\n",
       "0                           0              0                   0   \n",
       "1                           0              0                   0   \n",
       "2                           0              0                   0   \n",
       "3                           0              0                   0   \n",
       "4                           0              0                   0   \n",
       "\n",
       "   Fandom_one_direction  Fandom_sherlock  History  \n",
       "0                     0                0   3854.0  \n",
       "1                     0                0   3859.0  \n",
       "2                     0                0   3861.0  \n",
       "3                     0                0   3863.0  \n",
       "4                     0                0   3850.0  \n",
       "\n",
       "[5 rows x 55 columns]"
      ]
     },
     "execution_count": 52,
     "metadata": {},
     "output_type": "execute_result"
    }
   ],
   "source": [
    "df_all.head()"
   ]
  },
  {
   "cell_type": "code",
   "execution_count": 53,
   "metadata": {},
   "outputs": [],
   "source": [
    "df_all.to_csv('../../data/fanfic_regression_data_merged_chs.tsv', sep = '\\t', index=False)"
   ]
  },
  {
   "cell_type": "markdown",
   "metadata": {},
   "source": [
    "### Correlations"
   ]
  },
  {
   "cell_type": "code",
   "execution_count": 54,
   "metadata": {},
   "outputs": [],
   "source": [
    "df_all = pd.read_csv('../../data/fanfic_regression_data_merged_chs.tsv', sep = '\\t')"
   ]
  },
  {
   "cell_type": "code",
   "execution_count": 63,
   "metadata": {},
   "outputs": [
    {
     "ename": "AttributeError",
     "evalue": "'DataFrame' object has no attribute 'Author'",
     "output_type": "error",
     "traceback": [
      "\u001b[0;31m---------------------------------------------------------------------------\u001b[0m",
      "\u001b[0;31mAttributeError\u001b[0m                            Traceback (most recent call last)",
      "\u001b[0;32m<ipython-input-63-c6cb7ccc528e>\u001b[0m in \u001b[0;36m<module>\u001b[0;34m()\u001b[0m\n\u001b[0;32m----> 1\u001b[0;31m \u001b[0mlen\u001b[0m\u001b[0;34m(\u001b[0m\u001b[0mset\u001b[0m\u001b[0;34m(\u001b[0m\u001b[0mdf_all\u001b[0m\u001b[0;34m.\u001b[0m\u001b[0mAuthor\u001b[0m\u001b[0;34m.\u001b[0m\u001b[0mtolist\u001b[0m\u001b[0;34m(\u001b[0m\u001b[0;34m)\u001b[0m\u001b[0;34m)\u001b[0m\u001b[0;34m)\u001b[0m\u001b[0;34m\u001b[0m\u001b[0;34m\u001b[0m\u001b[0m\n\u001b[0m",
      "\u001b[0;32m/anaconda3/envs/python36/lib/python3.6/site-packages/pandas/core/generic.py\u001b[0m in \u001b[0;36m__getattr__\u001b[0;34m(self, name)\u001b[0m\n\u001b[1;32m   5177\u001b[0m             \u001b[0;32mif\u001b[0m \u001b[0mself\u001b[0m\u001b[0;34m.\u001b[0m\u001b[0m_info_axis\u001b[0m\u001b[0;34m.\u001b[0m\u001b[0m_can_hold_identifiers_and_holds_name\u001b[0m\u001b[0;34m(\u001b[0m\u001b[0mname\u001b[0m\u001b[0;34m)\u001b[0m\u001b[0;34m:\u001b[0m\u001b[0;34m\u001b[0m\u001b[0;34m\u001b[0m\u001b[0m\n\u001b[1;32m   5178\u001b[0m                 \u001b[0;32mreturn\u001b[0m \u001b[0mself\u001b[0m\u001b[0;34m[\u001b[0m\u001b[0mname\u001b[0m\u001b[0;34m]\u001b[0m\u001b[0;34m\u001b[0m\u001b[0;34m\u001b[0m\u001b[0m\n\u001b[0;32m-> 5179\u001b[0;31m             \u001b[0;32mreturn\u001b[0m \u001b[0mobject\u001b[0m\u001b[0;34m.\u001b[0m\u001b[0m__getattribute__\u001b[0m\u001b[0;34m(\u001b[0m\u001b[0mself\u001b[0m\u001b[0;34m,\u001b[0m \u001b[0mname\u001b[0m\u001b[0;34m)\u001b[0m\u001b[0;34m\u001b[0m\u001b[0;34m\u001b[0m\u001b[0m\n\u001b[0m\u001b[1;32m   5180\u001b[0m \u001b[0;34m\u001b[0m\u001b[0m\n\u001b[1;32m   5181\u001b[0m     \u001b[0;32mdef\u001b[0m \u001b[0m__setattr__\u001b[0m\u001b[0;34m(\u001b[0m\u001b[0mself\u001b[0m\u001b[0;34m,\u001b[0m \u001b[0mname\u001b[0m\u001b[0;34m,\u001b[0m \u001b[0mvalue\u001b[0m\u001b[0;34m)\u001b[0m\u001b[0;34m:\u001b[0m\u001b[0;34m\u001b[0m\u001b[0;34m\u001b[0m\u001b[0m\n",
      "\u001b[0;31mAttributeError\u001b[0m: 'DataFrame' object has no attribute 'Author'"
     ]
    }
   ],
   "source": []
  },
  {
   "cell_type": "code",
   "execution_count": 55,
   "metadata": {},
   "outputs": [],
   "source": [
    "df_all = df_all.rename(columns = {'author_fic_cnt':'Author work count',\\\n",
    "                                  'Term_novelty': 'Term novelty', 'Topic_novelty':'Topic novelty'})"
   ]
  },
  {
   "cell_type": "code",
   "execution_count": 56,
   "metadata": {},
   "outputs": [],
   "source": [
    "term_ave = np.average(df_all['Term novelty'])\n",
    "topic_ave = np.average(df_all['Topic novelty'])\n",
    "df_all['Term novelty cent'] = df_all['Term novelty'] - term_ave\n",
    "df_all['Topic novelty cent'] = df_all['Topic novelty'] - topic_ave\n",
    "df_all['Term novelty squared'] = np.square(df_all['Term novelty cent'])\n",
    "df_all['Topic novelty squared'] = np.square(df_all['Topic novelty cent'])"
   ]
  },
  {
   "cell_type": "code",
   "execution_count": 57,
   "metadata": {},
   "outputs": [
    {
     "data": {
      "text/plain": [
       "array(['Bookmarks', 'Chapters', 'Hits', 'Kudos', 'Words', 'Comments',\n",
       "       'URL_x', 'Term novelty', 'Entropy', 'URL_y', 'Topic novelty',\n",
       "       'Freq_relationship', 'Category_F_F', 'Category_F_M',\n",
       "       'Category_Gen', 'Category_M_M', 'Category_Multi', 'Category_Other',\n",
       "       'Category_Unknown', 'ArchiveWarnings_underage',\n",
       "       'ArchiveWarnings_death', 'ArchiveWarnings_choose_no',\n",
       "       'ArchiveWarnings_no_apply', 'ArchiveWarnings_violence',\n",
       "       'ArchiveWarnings_noncon', 'Author work count', 'Rating_E',\n",
       "       'Rating_G', 'Rating_M', 'Rating_N', 'Rating_T',\n",
       "       'Fandom_harry_potter', 'Fandom_dcu', 'Fandom_doctor_who',\n",
       "       'Fandom_star_wars', 'Fandom_arthurian', 'Fandom_supernatural',\n",
       "       'Fandom_haikyuu', 'Fandom_kuroko_no_basuke',\n",
       "       'Fandom_hamilton_miranda', 'Fandom_dragon_age',\n",
       "       'Fandom_the_walking_dead', 'Fandom_buffy', 'Fandom_les_miserables',\n",
       "       'Fandom_naruto', 'Fandom_tolkien', 'Fandom_shakespare',\n",
       "       'Fandom_hetalia', 'Fandom_attack_on_titan',\n",
       "       'Fandom_ms_paint_adventures', 'Fandom_marvel',\n",
       "       'Fandom_sailor_moon', 'Fandom_one_direction', 'Fandom_sherlock',\n",
       "       'History', 'Term novelty cent', 'Topic novelty cent',\n",
       "       'Term novelty squared', 'Topic novelty squared'], dtype=object)"
      ]
     },
     "execution_count": 57,
     "metadata": {},
     "output_type": "execute_result"
    }
   ],
   "source": [
    "df_all.columns.values"
   ]
  },
  {
   "cell_type": "code",
   "execution_count": 58,
   "metadata": {},
   "outputs": [],
   "source": [
    "corr = df_all[['Kudos','Bookmarks', 'Comments', 'Hits','Chapters', 'Author work count',\\\n",
    "               'Term novelty', 'Topic novelty', 'Term novelty squared', 'Topic novelty squared','History']].corr()"
   ]
  },
  {
   "cell_type": "code",
   "execution_count": 59,
   "metadata": {},
   "outputs": [],
   "source": [
    "# corr = df_all[['Chapters',\n",
    "#        'Term novelty', 'Topic novelty', 'Freq_relationship',\n",
    "#        'Category_F_M', 'Category_Gen', 'Category_M_M', 'Category_Multi',\n",
    "#        'Category_Other', 'Category_Unknown', 'ArchiveWarnings_underage',\n",
    "#        'ArchiveWarnings_death', 'ArchiveWarnings_choose_no',\n",
    "#        'ArchiveWarnings_no_apply', 'ArchiveWarnings_violence',\n",
    "#        'ArchiveWarnings_noncon', 'Author fiction count', 'Rating_E', 'Rating_G',\n",
    "#        'Rating_M', 'Rating_N', 'Rating_T', 'Fandom_harry_potter',\n",
    "#        'Fandom_dcu', 'Fandom_doctor_who', 'Fandom_star_wars',\n",
    "#        'Fandom_arthurian', 'Fandom_supernatural', 'Fandom_haikyuu',\n",
    "#        'Fandom_kuroko_no_basuke', 'Fandom_hamilton_miranda',\n",
    "#        'Fandom_dragon_age', 'Fandom_the_walking_dead', 'Fandom_buffy',\n",
    "#        'Fandom_les_miserables', 'Fandom_naruto', 'Fandom_tolkien',\n",
    "#        'Fandom_shakespare', 'Fandom_hetalia', 'Fandom_attack_on_titan',\n",
    "#        'Fandom_ms_paint_adventures', 'Fandom_marvel',\n",
    "#        'Fandom_sailor_moon', 'Fandom_one_direction', 'Fandom_sherlock',\n",
    "#        'Age', 'Words']].corr()"
   ]
  },
  {
   "cell_type": "code",
   "execution_count": 60,
   "metadata": {},
   "outputs": [],
   "source": [
    "w,v = np.linalg.eig(corr)  "
   ]
  },
  {
   "cell_type": "code",
   "execution_count": 61,
   "metadata": {},
   "outputs": [
    {
     "name": "stdout",
     "output_type": "stream",
     "text": [
      "Kudos 1.0\n",
      "Bookmarks 1.3538485475547488\n",
      "Comments 5.488268392531183\n",
      "Hits 1.6075409083003782\n",
      "Chapters 2.9422318533288556\n",
      "Author work count 2.3953426114627683\n",
      "Term novelty 2.6225627239513782\n",
      "Topic novelty 1.7647258718479328\n",
      "Term novelty squared 1.810769672694399\n",
      "Topic novelty squared 1.9170743816405724\n",
      "History 2.01816835141804\n"
     ]
    }
   ],
   "source": [
    "for idx, item in enumerate(corr.columns.values):\n",
    "    print(item, np.sqrt(max(w)/w[idx]))\n"
   ]
  },
  {
   "cell_type": "code",
   "execution_count": 62,
   "metadata": {},
   "outputs": [
    {
     "name": "stderr",
     "output_type": "stream",
     "text": [
      "/anaconda3/envs/python36/lib/python3.6/site-packages/ipykernel_launcher.py:26: FutureWarning: Method .as_matrix will be removed in a future version. Use .values instead.\n"
     ]
    },
    {
     "data": {
      "image/png": "[encoded data removed]",
      "text/plain": [
       "<Figure size 720x720 with 2 Axes>"
      ]
     },
     "metadata": {},
     "output_type": "display_data"
    }
   ],
   "source": [
    "labels = corr.columns.values\n",
    "fig, ax = plt.subplots(figsize = (10,10))\n",
    "\n",
    "# kmin = np.amin(corr.as_matrix())\n",
    "# kmax = np.amax(corr.as_matrix())\n",
    "\n",
    "norm = colors.Normalize(vmin = -1, vmax = 1)\n",
    "im = ax.imshow(corr, norm=norm,cmap='coolwarm')\n",
    "\n",
    "# We want to show all ticks...\n",
    "ax.set_xticks(np.arange(len(labels)))\n",
    "ax.set_yticks(np.arange(len(labels)))\n",
    "# ... and label them with the respective list entries\n",
    "ax.set_xticklabels(labels)\n",
    "ax.set_yticklabels(labels)\n",
    "\n",
    "# Rotate the tick labels and set their alignment.\n",
    "plt.setp(ax.get_xticklabels(), rotation=45, ha=\"right\",\n",
    "         rotation_mode=\"anchor\", fontsize='15')\n",
    "\n",
    "plt.setp(ax.get_yticklabels(), fontsize='15')\n",
    "\n",
    "# Loop over data dimensions and create text annotations.\n",
    "for i in range(len(labels)):\n",
    "    for j in range(len(labels)):\n",
    "        text = ax.text(j, i, round(corr.as_matrix()[i, j], 2),\n",
    "                       ha=\"center\", va=\"center\", color=\"black\")\n",
    "\n",
    "ax.set_title(\"\")\n",
    "fig.colorbar(im, shrink=0.7)\n",
    "fig.tight_layout()\n",
    "plt.savefig('variables_corr_merged_chs.pdf', format='pdf')"
   ]
  },
  {
   "cell_type": "code",
   "execution_count": null,
   "metadata": {},
   "outputs": [],
   "source": []
  }
 ],
 "metadata": {
  "kernelspec": {
   "display_name": "Python 3",
   "language": "python",
   "name": "python3"
  },
  "language_info": {
   "codemirror_mode": {
    "name": "ipython",
    "version": 3
   },
   "file_extension": ".py",
   "mimetype": "text/x-python",
   "name": "python",
   "nbconvert_exporter": "python",
   "pygments_lexer": "ipython3",
   "version": "3.6.7"
  }
 },
 "nbformat": 4,
 "nbformat_minor": 2
}
