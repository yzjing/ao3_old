{
 "cells": [
  {
   "cell_type": "code",
   "execution_count": 2,
   "metadata": {},
   "outputs": [],
   "source": [
    "import pandas as pd\n",
    "import os\n",
    "import matplotlib.pyplot as plt\n",
    "%matplotlib inline\n",
    "import numpy as np\n",
    "from datetime import date\n",
    "import seaborn as sns\n",
    "from statsmodels.formula.api import ols\n",
    "import statsmodels.api as sm\n",
    "from matplotlib import colors"
   ]
  },
  {
   "cell_type": "markdown",
   "metadata": {},
   "source": [
    "### Create regression data"
   ]
  },
  {
   "cell_type": "code",
   "execution_count": 3,
   "metadata": {},
   "outputs": [],
   "source": [
    "tfidf_path = '../../data/tfidf_toprev_conlen_fulldata/'"
   ]
  },
  {
   "cell_type": "code",
   "execution_count": 4,
   "metadata": {},
   "outputs": [],
   "source": [
    "lda_path = '../../data/lda_jsd_toprev_conlen/'"
   ]
  },
  {
   "cell_type": "code",
   "execution_count": 23,
   "metadata": {},
   "outputs": [],
   "source": [
    "fandom_list = ['harry_potter',\n",
    " 'dcu',\n",
    " 'doctor_who_&_related_fandoms',\n",
    " 'star_wars_all_media_types',\n",
    " 'arthurian_mythology_&_related_fandoms',\n",
    " 'supernatural',\n",
    " 'haikyuu',\n",
    " 'kuroko_no_basuke',\n",
    " 'hamilton_miranda',\n",
    " 'dragon_age_all_media_types',\n",
    " 'the_walking_dead_&_related_fandoms',\n",
    " 'buffy_the_vampire_slayer',\n",
    " 'les_miserables_all_media_types',\n",
    " 'naruto',\n",
    " 'tolkien_j_r_r_works_&_related_fandoms',\n",
    " 'shakespare_william_works',\n",
    " 'hetalia_axis_powers',\n",
    " 'attack_on_titan',\n",
    " 'ms_paint_adventures',\n",
    " 'homestuck',\n",
    " 'marvel',\n",
    " 'bishoujo_senshi_sailor_moon',\n",
    " 'one_direction',\n",
    " 'sherlock_holmes_&_related_fandoms']"
   ]
  },
  {
   "cell_type": "code",
   "execution_count": 24,
   "metadata": {},
   "outputs": [],
   "source": [
    "def first_rel(field):\n",
    "    try:\n",
    "        return field.split(',')[0]\n",
    "    except:\n",
    "        return field"
   ]
  },
  {
   "cell_type": "code",
   "execution_count": 25,
   "metadata": {},
   "outputs": [],
   "source": [
    "def first_warn(field):\n",
    "    try:\n",
    "        return field.split(',')[0]\n",
    "    except:\n",
    "        return field"
   ]
  },
  {
   "cell_type": "code",
   "execution_count": 11,
   "metadata": {},
   "outputs": [],
   "source": [
    "from collections import Counter"
   ]
  },
  {
   "cell_type": "code",
   "execution_count": 26,
   "metadata": {},
   "outputs": [],
   "source": [
    "def find_major_rel(df):\n",
    "    df['Relationship'] = df.apply(lambda row: first_rel(row['Relationship']), axis=1)\n",
    "    counts = df['Relationship'].value_counts()\n",
    "    return counts.keys()[0:5]\n"
   ]
  },
  {
   "cell_type": "code",
   "execution_count": 50,
   "metadata": {},
   "outputs": [],
   "source": [
    "df_all = []\n",
    "for i,fandom in enumerate(fandom_list):\n",
    "    df_tfidf = pd.read_csv(os.path.join(tfidf_path,fandom + '_temporal_tfidf_cos_toprev_conlen.tsv'), sep = '\\t')\n",
    "    del df_tfidf['index']\n",
    "    df_lda = pd.read_csv(os.path.join(lda_path,fandom + '_temporal_lda_jsd_toprev_full.tsv'), sep = '\\t')\n",
    "    del df_lda['index']\n",
    "    df = pd.merge(df_tfidf, df_lda, on=['AdditionalTags', 'ArchiveWarnings', 'Author', 'Bookmarks', 'Category',\\\n",
    " 'ChapterIndex', 'Chapters' ,'Characters','Comments' ,'CompleteDate',\\\n",
    " 'Fandoms', 'Hits' ,'Kudos', 'Language', 'Notes' ,'PublishDate' ,'Rating',\\\n",
    " 'Relationship' ,'Summary' ,'Title' ,'URL' ,'UpdateDate' ,'Words'], how='inner')\n",
    "    \n",
    "    df['fandom_category'] = fandom\n",
    "    \n",
    "    freq_rel = find_major_rel(df)\n",
    "    df['Relationship'] = df['Relationship'].apply(lambda x: first_rel(x))\n",
    "    df['Freq_relationship'] = df['Relationship'].apply(lambda x: 1 if x in freq_rel else 0)\n",
    "    del df['Relationship']\n",
    "    df_all.append(df)\n",
    "    "
   ]
  },
  {
   "cell_type": "code",
   "execution_count": 51,
   "metadata": {},
   "outputs": [],
   "source": [
    "df_all = pd.concat(df_all)"
   ]
  },
  {
   "cell_type": "code",
   "execution_count": 52,
   "metadata": {},
   "outputs": [
    {
     "data": {
      "text/plain": [
       "701667"
      ]
     },
     "execution_count": 52,
     "metadata": {},
     "output_type": "execute_result"
    }
   ],
   "source": [
    "len(df_all)"
   ]
  },
  {
   "cell_type": "code",
   "execution_count": 53,
   "metadata": {},
   "outputs": [],
   "source": [
    "# df_all = df.head(500)"
   ]
  },
  {
   "cell_type": "code",
   "execution_count": 54,
   "metadata": {},
   "outputs": [],
   "source": [
    "del df_all['Language']\n",
    "del df_all['Notes']\n",
    "del df_all['Summary']\n",
    "del df_all['Title']\n",
    "del df_all['URL']\n",
    "del df_all['AdditionalTags']\n",
    "del df_all['Fandoms']\n",
    "del df_all['Characters']\n",
    "del df_all['Words']"
   ]
  },
  {
   "cell_type": "code",
   "execution_count": 55,
   "metadata": {},
   "outputs": [],
   "source": [
    "df_all['Category'].fillna('Unknown', inplace=True)\n",
    "df_all[\"Category\"] = df_all[\"Category\"].astype('category')\n",
    "df_all[\"Category_cat\"] = df_all[\"Category\"].cat.codes\n",
    "del df_all['Category']\n",
    "c = Counter(df_all['Category_cat'].tolist())\n",
    "df_all = df_all[df_all['Category_cat'].apply(lambda x: True if c[x] >= 50 else False)]"
   ]
  },
  {
   "cell_type": "code",
   "execution_count": 56,
   "metadata": {},
   "outputs": [],
   "source": [
    "df_all['ArchiveWarnings'].fillna('Unknown', inplace=True)\n",
    "df_all[\"ArchiveWarnings\"] = df_all[\"ArchiveWarnings\"].astype('category')\n",
    "df_all[\"ArchiveWarnings_cat\"] = df_all[\"ArchiveWarnings\"].cat.codes\n",
    "del df_all['ArchiveWarnings']\n",
    "c = Counter(df_all['ArchiveWarnings_cat'].tolist())\n",
    "df_all = df_all[df_all['ArchiveWarnings_cat'].apply(lambda x: True if c[x] >= 50 else False)]"
   ]
  },
  {
   "cell_type": "code",
   "execution_count": 57,
   "metadata": {},
   "outputs": [
    {
     "data": {
      "text/plain": [
       "697778"
      ]
     },
     "execution_count": 57,
     "metadata": {},
     "output_type": "execute_result"
    }
   ],
   "source": [
    "len(df_all)"
   ]
  },
  {
   "cell_type": "code",
   "execution_count": 58,
   "metadata": {},
   "outputs": [],
   "source": [
    "df_all['ChapterIndex'].fillna(0, inplace=True)"
   ]
  },
  {
   "cell_type": "code",
   "execution_count": 59,
   "metadata": {},
   "outputs": [],
   "source": [
    "df_all['Author'].fillna('Unknown', inplace=True)\n",
    "counts = df_all['Author'].value_counts()\n",
    "idx = counts[counts >= 10].index\n",
    "df_all['author_fic_cnt'] = df_all['Author'].apply(lambda x: counts[x])\n",
    "del df_all['Author']"
   ]
  },
  {
   "cell_type": "code",
   "execution_count": 60,
   "metadata": {},
   "outputs": [],
   "source": [
    "df_all[\"Rating\"] = df_all[\"Rating\"].astype('category')\n",
    "df_all[\"Rating_cat\"] = df_all[\"Rating\"].cat.codes\n",
    "del df_all['Rating']\n",
    "c = Counter(df_all['Rating_cat'].tolist())\n",
    "df_all = df_all[df_all['Rating_cat'].apply(lambda x: True if c[x] >= 50 else False)]"
   ]
  },
  {
   "cell_type": "code",
   "execution_count": 61,
   "metadata": {},
   "outputs": [
    {
     "data": {
      "text/plain": [
       "Counter({0: 107799, 1: 147992, 2: 132689, 4: 73906, 5: 235389})"
      ]
     },
     "execution_count": 61,
     "metadata": {},
     "output_type": "execute_result"
    }
   ],
   "source": [
    "Counter(df_all['Rating_cat'].tolist())"
   ]
  },
  {
   "cell_type": "code",
   "execution_count": 62,
   "metadata": {},
   "outputs": [],
   "source": [
    "df_all[\"fandom_category\"] = df_all[\"fandom_category\"].astype('category')\n",
    "df_all[\"fandom_cat\"] = df_all[\"fandom_category\"].cat.codes\n",
    "# del df_all['fandom_category']\n",
    "# c = Counter(df_all['fandom_cat'].tolist())\n",
    "# df_all = df_all[df_all['fandom_cat'].apply(lambda x: True if c[x] >= 50 else False)]"
   ]
  },
  {
   "cell_type": "code",
   "execution_count": 64,
   "metadata": {},
   "outputs": [],
   "source": [
    "def date_today(cell):\n",
    "    try:\n",
    "        y, m, d = cell.split('-')\n",
    "        return abs(date.today() - date(int(y), int(m), int(d))).days\n",
    "    except:\n",
    "        return float('nan')"
   ]
  },
  {
   "cell_type": "code",
   "execution_count": 65,
   "metadata": {},
   "outputs": [],
   "source": [
    "df_all['PublishDate'] = df_all.apply(lambda row: date_today(row['PublishDate']), axis = 1)\n",
    "df_all['CompleteDate'] = df_all.apply(lambda row: date_today(row['CompleteDate']), axis = 1)\n",
    "df_all['UpdateDate'] = df_all.apply(lambda row: date_today(row['UpdateDate']), axis = 1)"
   ]
  },
  {
   "cell_type": "code",
   "execution_count": 66,
   "metadata": {},
   "outputs": [],
   "source": [
    "def find_history(field_list):\n",
    "    field_list = [10000000 if np.isnan(x) else x for x in field_list]\n",
    "    return np.amin(field_list)"
   ]
  },
  {
   "cell_type": "code",
   "execution_count": 67,
   "metadata": {},
   "outputs": [],
   "source": [
    "df_all['history'] = df_all.apply(lambda row: find_history([row['PublishDate'], row['CompleteDate'], row['UpdateDate']]), axis=1)"
   ]
  },
  {
   "cell_type": "code",
   "execution_count": 68,
   "metadata": {},
   "outputs": [],
   "source": [
    "del df_all['PublishDate']\n",
    "del df_all['CompleteDate']\n",
    "del df_all['UpdateDate']"
   ]
  },
  {
   "cell_type": "code",
   "execution_count": 69,
   "metadata": {},
   "outputs": [],
   "source": [
    "df_all = df_all.replace([np.inf, -np.inf], np.nan)\n",
    "df_all['Hits'].fillna(0, inplace=True)\n",
    "df_all['Kudos'].fillna(0, inplace=True)\n",
    "df_all['Bookmarks'].fillna(0, inplace=True)\n",
    "df_all['Comments'].fillna(0, inplace=True)"
   ]
  },
  {
   "cell_type": "code",
   "execution_count": 76,
   "metadata": {},
   "outputs": [],
   "source": [
    "df_all['Hits'] = df_all['Hits'] / df_all['Chapters']\n",
    "df_all['Kudos'] =  df_all['Kudos'] / df_all['Chapters']\n",
    "df_all['Bookmarks'] = df_all['Bookmarks'] / df_all['Chapters']\n"
   ]
  },
  {
   "cell_type": "code",
   "execution_count": 77,
   "metadata": {},
   "outputs": [],
   "source": [
    "df_all = df_all.dropna()"
   ]
  },
  {
   "cell_type": "code",
   "execution_count": 78,
   "metadata": {},
   "outputs": [
    {
     "data": {
      "text/plain": [
       "697744"
      ]
     },
     "execution_count": 78,
     "metadata": {},
     "output_type": "execute_result"
    }
   ],
   "source": [
    "len(df_all)"
   ]
  },
  {
   "cell_type": "code",
   "execution_count": 79,
   "metadata": {},
   "outputs": [
    {
     "data": {
      "text/plain": [
       "array(['Bookmarks', 'ChapterIndex', 'Chapters', 'Comments', 'Hits',\n",
       "       'Kudos', 'Term_novelty', 'Topic_novelty', 'fandom_category',\n",
       "       'Freq_relationship', 'Category_cat', 'ArchiveWarnings_cat',\n",
       "       'author_fic_cnt', 'Rating_cat', 'fandom_cat', 'History'],\n",
       "      dtype=object)"
      ]
     },
     "execution_count": 79,
     "metadata": {},
     "output_type": "execute_result"
    }
   ],
   "source": [
    "df_all.columns.values"
   ]
  },
  {
   "cell_type": "code",
   "execution_count": 80,
   "metadata": {},
   "outputs": [],
   "source": [
    "df_all = df_all.rename(columns = {'history':'History', 'Cos': 'Term_novelty', 'JSD': 'Topic_novelty'})"
   ]
  },
  {
   "cell_type": "code",
   "execution_count": 81,
   "metadata": {},
   "outputs": [
    {
     "data": {
      "text/html": [
       "<div>\n",
       "<style scoped>\n",
       "    .dataframe tbody tr th:only-of-type {\n",
       "        vertical-align: middle;\n",
       "    }\n",
       "\n",
       "    .dataframe tbody tr th {\n",
       "        vertical-align: top;\n",
       "    }\n",
       "\n",
       "    .dataframe thead th {\n",
       "        text-align: right;\n",
       "    }\n",
       "</style>\n",
       "<table border=\"1\" class=\"dataframe\">\n",
       "  <thead>\n",
       "    <tr style=\"text-align: right;\">\n",
       "      <th></th>\n",
       "      <th>Bookmarks</th>\n",
       "      <th>ChapterIndex</th>\n",
       "      <th>Chapters</th>\n",
       "      <th>Comments</th>\n",
       "      <th>Hits</th>\n",
       "      <th>Kudos</th>\n",
       "      <th>Term_novelty</th>\n",
       "      <th>Topic_novelty</th>\n",
       "      <th>fandom_category</th>\n",
       "      <th>Freq_relationship</th>\n",
       "      <th>Category_cat</th>\n",
       "      <th>ArchiveWarnings_cat</th>\n",
       "      <th>author_fic_cnt</th>\n",
       "      <th>Rating_cat</th>\n",
       "      <th>fandom_cat</th>\n",
       "      <th>History</th>\n",
       "    </tr>\n",
       "  </thead>\n",
       "  <tbody>\n",
       "    <tr>\n",
       "      <th>0</th>\n",
       "      <td>0.666667</td>\n",
       "      <td>1.0</td>\n",
       "      <td>3</td>\n",
       "      <td>0</td>\n",
       "      <td>106.666667</td>\n",
       "      <td>2.666667</td>\n",
       "      <td>0.778655</td>\n",
       "      <td>0.599456</td>\n",
       "      <td>harry_potter</td>\n",
       "      <td>0</td>\n",
       "      <td>153</td>\n",
       "      <td>122</td>\n",
       "      <td>6</td>\n",
       "      <td>1</td>\n",
       "      <td>9</td>\n",
       "      <td>5136.0</td>\n",
       "    </tr>\n",
       "    <tr>\n",
       "      <th>1</th>\n",
       "      <td>0.000000</td>\n",
       "      <td>0.0</td>\n",
       "      <td>1</td>\n",
       "      <td>0</td>\n",
       "      <td>25.000000</td>\n",
       "      <td>1.000000</td>\n",
       "      <td>0.713975</td>\n",
       "      <td>0.605999</td>\n",
       "      <td>harry_potter</td>\n",
       "      <td>0</td>\n",
       "      <td>153</td>\n",
       "      <td>122</td>\n",
       "      <td>17</td>\n",
       "      <td>5</td>\n",
       "      <td>9</td>\n",
       "      <td>5589.0</td>\n",
       "    </tr>\n",
       "    <tr>\n",
       "      <th>2</th>\n",
       "      <td>0.000000</td>\n",
       "      <td>0.0</td>\n",
       "      <td>1</td>\n",
       "      <td>1</td>\n",
       "      <td>1359.000000</td>\n",
       "      <td>19.000000</td>\n",
       "      <td>0.879855</td>\n",
       "      <td>0.625602</td>\n",
       "      <td>harry_potter</td>\n",
       "      <td>1</td>\n",
       "      <td>246</td>\n",
       "      <td>122</td>\n",
       "      <td>2</td>\n",
       "      <td>2</td>\n",
       "      <td>9</td>\n",
       "      <td>5595.0</td>\n",
       "    </tr>\n",
       "    <tr>\n",
       "      <th>3</th>\n",
       "      <td>0.000000</td>\n",
       "      <td>0.0</td>\n",
       "      <td>1</td>\n",
       "      <td>0</td>\n",
       "      <td>60.000000</td>\n",
       "      <td>0.000000</td>\n",
       "      <td>0.332479</td>\n",
       "      <td>0.573035</td>\n",
       "      <td>harry_potter</td>\n",
       "      <td>0</td>\n",
       "      <td>64</td>\n",
       "      <td>122</td>\n",
       "      <td>11</td>\n",
       "      <td>1</td>\n",
       "      <td>9</td>\n",
       "      <td>5596.0</td>\n",
       "    </tr>\n",
       "    <tr>\n",
       "      <th>4</th>\n",
       "      <td>0.000000</td>\n",
       "      <td>0.0</td>\n",
       "      <td>1</td>\n",
       "      <td>0</td>\n",
       "      <td>495.000000</td>\n",
       "      <td>12.000000</td>\n",
       "      <td>0.795259</td>\n",
       "      <td>0.650978</td>\n",
       "      <td>harry_potter</td>\n",
       "      <td>1</td>\n",
       "      <td>246</td>\n",
       "      <td>122</td>\n",
       "      <td>2</td>\n",
       "      <td>5</td>\n",
       "      <td>9</td>\n",
       "      <td>5599.0</td>\n",
       "    </tr>\n",
       "  </tbody>\n",
       "</table>\n",
       "</div>"
      ],
      "text/plain": [
       "   Bookmarks  ChapterIndex  Chapters  Comments         Hits      Kudos  \\\n",
       "0   0.666667           1.0         3         0   106.666667   2.666667   \n",
       "1   0.000000           0.0         1         0    25.000000   1.000000   \n",
       "2   0.000000           0.0         1         1  1359.000000  19.000000   \n",
       "3   0.000000           0.0         1         0    60.000000   0.000000   \n",
       "4   0.000000           0.0         1         0   495.000000  12.000000   \n",
       "\n",
       "   Term_novelty  Topic_novelty fandom_category  Freq_relationship  \\\n",
       "0      0.778655       0.599456    harry_potter                  0   \n",
       "1      0.713975       0.605999    harry_potter                  0   \n",
       "2      0.879855       0.625602    harry_potter                  1   \n",
       "3      0.332479       0.573035    harry_potter                  0   \n",
       "4      0.795259       0.650978    harry_potter                  1   \n",
       "\n",
       "   Category_cat  ArchiveWarnings_cat  author_fic_cnt  Rating_cat  fandom_cat  \\\n",
       "0           153                  122               6           1           9   \n",
       "1           153                  122              17           5           9   \n",
       "2           246                  122               2           2           9   \n",
       "3            64                  122              11           1           9   \n",
       "4           246                  122               2           5           9   \n",
       "\n",
       "   History  \n",
       "0   5136.0  \n",
       "1   5589.0  \n",
       "2   5595.0  \n",
       "3   5596.0  \n",
       "4   5599.0  "
      ]
     },
     "execution_count": 81,
     "metadata": {},
     "output_type": "execute_result"
    }
   ],
   "source": [
    "df_all.head()"
   ]
  },
  {
   "cell_type": "code",
   "execution_count": 82,
   "metadata": {},
   "outputs": [],
   "source": [
    "df_all.to_csv('fanfic_regression_data_curated_autocat.tsv', sep = '\\t', index=False)"
   ]
  },
  {
   "cell_type": "code",
   "execution_count": null,
   "metadata": {},
   "outputs": [],
   "source": []
  }
 ],
 "metadata": {
  "kernelspec": {
   "display_name": "Python 3",
   "language": "python",
   "name": "python3"
  },
  "language_info": {
   "codemirror_mode": {
    "name": "ipython",
    "version": 3
   },
   "file_extension": ".py",
   "mimetype": "text/x-python",
   "name": "python",
   "nbconvert_exporter": "python",
   "pygments_lexer": "ipython3",
   "version": "3.6.4"
  }
 },
 "nbformat": 4,
 "nbformat_minor": 2
}
