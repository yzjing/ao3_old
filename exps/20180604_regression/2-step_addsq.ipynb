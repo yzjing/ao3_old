{
 "cells": [
  {
   "cell_type": "code",
   "execution_count": 1,
   "metadata": {},
   "outputs": [
    {
     "name": "stderr",
     "output_type": "stream",
     "text": [
      "/anaconda3/lib/python3.6/site-packages/statsmodels/compat/pandas.py:56: FutureWarning: The pandas.core.datetools module is deprecated and will be removed in a future version. Please use the pandas.tseries module instead.\n",
      "  from pandas.core import datetools\n"
     ]
    }
   ],
   "source": [
    "import pandas as pd\n",
    "import os\n",
    "import matplotlib.pyplot as plt\n",
    "%matplotlib inline\n",
    "import numpy as np\n",
    "import seaborn as sns\n",
    "from statsmodels.formula.api import ols\n",
    "import statsmodels.api as sm\n",
    "from sklearn.linear_model import LogisticRegression"
   ]
  },
  {
   "cell_type": "code",
   "execution_count": 28,
   "metadata": {},
   "outputs": [],
   "source": [
    "df_all = pd.read_csv('fanfic_regression_data_curated.tsv', sep = '\\t')"
   ]
  },
  {
   "cell_type": "code",
   "execution_count": 29,
   "metadata": {},
   "outputs": [
    {
     "data": {
      "text/plain": [
       "662728"
      ]
     },
     "execution_count": 29,
     "metadata": {},
     "output_type": "execute_result"
    }
   ],
   "source": [
    "len(df_all)"
   ]
  },
  {
   "cell_type": "code",
   "execution_count": 30,
   "metadata": {},
   "outputs": [],
   "source": [
    "df_all['ChapterIndex'].fillna(0, inplace=True)"
   ]
  },
  {
   "cell_type": "code",
   "execution_count": 31,
   "metadata": {},
   "outputs": [
    {
     "data": {
      "text/plain": [
       "0    0.888159\n",
       "1    0.353749\n",
       "2    0.855796\n",
       "3    0.706213\n",
       "4    0.732386\n",
       "Name: Term_novelty, dtype: float64"
      ]
     },
     "execution_count": 31,
     "metadata": {},
     "output_type": "execute_result"
    }
   ],
   "source": [
    "df_all['Term_novelty'].head()"
   ]
  },
  {
   "cell_type": "code",
   "execution_count": 32,
   "metadata": {},
   "outputs": [],
   "source": [
    "term_ave = np.average(df_all['Term_novelty'])\n",
    "topic_ave = np.average(df_all['Topic_novelty'])\n",
    "df_all['Term_novelty'] = df_all['Term_novelty'] - term_ave\n",
    "df_all['Topic_novelty'] = df_all['Topic_novelty'] - topic_ave\n",
    "df_all['Term_novelty_squared'] = np.square(df_all['Term_novelty'])\n",
    "df_all['Topic_novelty_squared'] = np.square(df_all['Topic_novelty'])"
   ]
  },
  {
   "cell_type": "code",
   "execution_count": 33,
   "metadata": {},
   "outputs": [],
   "source": [
    "# from statsmodels.stats.outliers_influence import variance_inflation_factor\n"
   ]
  },
  {
   "cell_type": "code",
   "execution_count": 34,
   "metadata": {},
   "outputs": [],
   "source": [
    "# df_all = df_all.replace([np.inf, -np.inf], np.nan)\n",
    "# df_all = df_all.dropna(how = 'any')"
   ]
  },
  {
   "cell_type": "code",
   "execution_count": 35,
   "metadata": {},
   "outputs": [],
   "source": [
    "# df_all = df_all[['Chapters',\\\n",
    "#         'Term_novelty', 'Term_novelty_squared', 'Topic_novelty', 'Topic_novelty_squared',\\\n",
    "#         'Freq_relationship', 'Category_F_M',\\\n",
    "#        'Category_Gen', 'Category_M_M', 'Category_Multi', 'Category_Other','Category_Unknown', \\\n",
    "#        'ArchiveWarnings_underage', 'ArchiveWarnings_death',\\\n",
    "#        'ArchiveWarnings_choose_no', 'ArchiveWarnings_no_apply',\\\n",
    "#        'ArchiveWarnings_violence','ArchiveWarnings_noncon',\\\n",
    "#        'author_fic_cnt', 'Rating_G',\\\n",
    "#        'Rating_M', 'Rating_N', 'Rating_T',\\\n",
    "#        'Fandom_dcu', 'Fandom_doctor_who', 'Fandom_star_wars',\n",
    "#        'Fandom_arthurian', 'Fandom_supernatural', 'Fandom_haikyuu',\n",
    "#        'Fandom_kuroko_no_basuke', 'Fandom_hamilton_miranda',\n",
    "#        'Fandom_dragon_age', 'Fandom_the_walking_dead', 'Fandom_buffy',\n",
    "#        'Fandom_les_miserables', 'Fandom_naruto', 'Fandom_tolkien',\n",
    "#        'Fandom_shakespare', 'Fandom_hetalia', 'Fandom_attack_on_titan',\n",
    "#        'Fandom_ms_paint_adventures', 'Fandom_marvel',\n",
    "#        'Fandom_sailor_moon', 'Fandom_one_direction', 'Fandom_sherlock',\n",
    "#        'History']]"
   ]
  },
  {
   "cell_type": "code",
   "execution_count": 36,
   "metadata": {
    "scrolled": true
   },
   "outputs": [],
   "source": [
    "# for i in range(len(df_all.columns.values)):\n",
    "#     print(df_all.columns.values[i], variance_inflation_factor(df_all.values, i))"
   ]
  },
  {
   "cell_type": "markdown",
   "metadata": {},
   "source": [
    "### Logistic"
   ]
  },
  {
   "cell_type": "code",
   "execution_count": 37,
   "metadata": {},
   "outputs": [
    {
     "data": {
      "text/plain": [
       "array(['Bookmarks', 'ChapterIndex', 'Chapters', 'Comments', 'Hits',\n",
       "       'Kudos', 'Term_novelty', 'Topic_novelty', 'Freq_relationship',\n",
       "       'Category_F_F', 'Category_F_M', 'Category_Gen', 'Category_M_M',\n",
       "       'Category_Multi', 'Category_Other', 'Category_Unknown',\n",
       "       'ArchiveWarnings_underage', 'ArchiveWarnings_death',\n",
       "       'ArchiveWarnings_choose_no', 'ArchiveWarnings_no_apply',\n",
       "       'ArchiveWarnings_violence', 'ArchiveWarnings_noncon',\n",
       "       'author_fic_cnt', 'Rating_E', 'Rating_G', 'Rating_M', 'Rating_N',\n",
       "       'Rating_T', 'Fandom_harry_potter', 'Fandom_dcu',\n",
       "       'Fandom_doctor_who', 'Fandom_star_wars', 'Fandom_arthurian',\n",
       "       'Fandom_supernatural', 'Fandom_haikyuu', 'Fandom_kuroko_no_basuke',\n",
       "       'Fandom_hamilton_miranda', 'Fandom_dragon_age',\n",
       "       'Fandom_the_walking_dead', 'Fandom_buffy', 'Fandom_les_miserables',\n",
       "       'Fandom_naruto', 'Fandom_tolkien', 'Fandom_shakespare',\n",
       "       'Fandom_hetalia', 'Fandom_attack_on_titan',\n",
       "       'Fandom_ms_paint_adventures', 'Fandom_marvel',\n",
       "       'Fandom_sailor_moon', 'Fandom_one_direction', 'Fandom_sherlock',\n",
       "       'History', 'Term_novelty_squared', 'Topic_novelty_squared'],\n",
       "      dtype=object)"
      ]
     },
     "execution_count": 37,
     "metadata": {},
     "output_type": "execute_result"
    }
   ],
   "source": [
    "df_all.columns.values"
   ]
  },
  {
   "cell_type": "code",
   "execution_count": 38,
   "metadata": {},
   "outputs": [],
   "source": [
    "def run_logit(df, field):\n",
    "    df = df.replace([np.inf, -np.inf], np.nan)\n",
    "    df = df.dropna(how = 'any')\n",
    "    df['Intercept'] = 1.0\n",
    "    df['binary'] = df[field].apply(lambda x: 1 if x != 0.0 else 0)\n",
    "    logit_model = sm.Logit(df['binary'], df[['Chapters',\\\n",
    "        'Term_novelty', 'Term_novelty_squared', 'Topic_novelty', 'Topic_novelty_squared',\\\n",
    "        'Freq_relationship', 'Category_F_M',\\\n",
    "       'Category_Gen', 'Category_M_M', 'Category_Multi', 'Category_Other','Category_Unknown', \\\n",
    "       'ArchiveWarnings_underage', 'ArchiveWarnings_death',\\\n",
    "       'ArchiveWarnings_choose_no', 'ArchiveWarnings_noncon',\\\n",
    "       'ArchiveWarnings_violence',\\\n",
    "       'author_fic_cnt', 'Rating_G',\\\n",
    "       'Rating_M', 'Rating_N', 'Rating_T',\\\n",
    "       'Fandom_dcu', 'Fandom_doctor_who', 'Fandom_star_wars',\n",
    "       'Fandom_arthurian', 'Fandom_supernatural', 'Fandom_haikyuu',\n",
    "       'Fandom_kuroko_no_basuke', 'Fandom_hamilton_miranda',\n",
    "       'Fandom_dragon_age', 'Fandom_the_walking_dead', 'Fandom_buffy',\n",
    "       'Fandom_les_miserables', 'Fandom_naruto', 'Fandom_tolkien',\n",
    "       'Fandom_shakespare', 'Fandom_hetalia', 'Fandom_attack_on_titan',\n",
    "       'Fandom_ms_paint_adventures', 'Fandom_marvel',\n",
    "       'Fandom_sailor_moon', 'Fandom_one_direction', 'Fandom_sherlock',\n",
    "        'Intercept']]).fit(method='bfgs')\n",
    "    pred = logit_model.predict()\n",
    "    df['nonzero_prob'] = pred\n",
    "    return df"
   ]
  },
  {
   "cell_type": "markdown",
   "metadata": {},
   "source": [
    "### OLS"
   ]
  },
  {
   "cell_type": "code",
   "execution_count": 39,
   "metadata": {},
   "outputs": [],
   "source": [
    "def run_ols(df, field):\n",
    "    df = run_logit(df, field)\n",
    "    df['Kudos'] = np.log(df['Kudos']+0.001)\n",
    "    df['Hits'] = np.log(df['Hits']+0.001)\n",
    "    df['Comments'] = np.log(df['Comments']+1)\n",
    "    df['Bookmarks'] = np.log(df['Bookmarks']+0.001)\n",
    "    df = df.replace([np.inf, -np.inf], np.nan)\n",
    "    df = df.dropna(how = 'any')\n",
    "    model = ols( field + \" ~ Term_novelty + Term_novelty_squared + Topic_novelty + Topic_novelty_squared\\\n",
    " + Chapters + Freq_relationship + author_fic_cnt  \\\n",
    " + Category_Gen + Category_F_M + Category_M_M + Category_Multi + Category_Other + Category_Unknown \\\n",
    " + ArchiveWarnings_underage + ArchiveWarnings_death + ArchiveWarnings_violence +\\\n",
    " ArchiveWarnings_choose_no +\\\n",
    " ArchiveWarnings_noncon + Rating_N + Rating_E + Rating_M + Rating_T\\\n",
    " + Fandom_dcu + Fandom_doctor_who + Fandom_star_wars + Fandom_arthurian + \\\n",
    " Fandom_supernatural + Fandom_haikyuu + Fandom_kuroko_no_basuke + Fandom_hamilton_miranda\\\n",
    " + Fandom_dragon_age + Fandom_the_walking_dead + Fandom_buffy + Fandom_les_miserables \\\n",
    " + Fandom_naruto + Fandom_tolkien + Fandom_shakespare + Fandom_hetalia + \\\n",
    " Fandom_attack_on_titan + Fandom_ms_paint_adventures +\\\n",
    " Fandom_marvel + Fandom_sailor_moon + Fandom_one_direction + Fandom_sherlock \\\n",
    " + nonzero_prob\", data = df).fit()\n",
    "    return model"
   ]
  },
  {
   "cell_type": "markdown",
   "metadata": {},
   "source": [
    "### Plot coefficients"
   ]
  },
  {
   "cell_type": "code",
   "execution_count": 40,
   "metadata": {},
   "outputs": [
    {
     "name": "stderr",
     "output_type": "stream",
     "text": [
      "/anaconda3/lib/python3.6/site-packages/statsmodels/discrete/discrete_model.py:1264: RuntimeWarning: divide by zero encountered in log\n",
      "  return np.sum(np.log(self.cdf(q*np.dot(X,params))))\n",
      "/anaconda3/lib/python3.6/site-packages/statsmodels/discrete/discrete_model.py:1264: RuntimeWarning: divide by zero encountered in log\n",
      "  return np.sum(np.log(self.cdf(q*np.dot(X,params))))\n"
     ]
    },
    {
     "name": "stdout",
     "output_type": "stream",
     "text": [
      "Warning: Maximum number of iterations has been exceeded.\n",
      "         Current function value: 0.077030\n",
      "         Iterations: 35\n",
      "         Function evaluations: 70\n",
      "         Gradient evaluations: 66\n"
     ]
    },
    {
     "name": "stderr",
     "output_type": "stream",
     "text": [
      "/anaconda3/lib/python3.6/site-packages/statsmodels/base/model.py:496: ConvergenceWarning: Maximum Likelihood optimization failed to converge. Check mle_retvals\n",
      "  \"Check mle_retvals\", ConvergenceWarning)\n"
     ]
    }
   ],
   "source": [
    "kudos_model = run_ols(df_all, 'Kudos')\n",
    "kudos_coef = np.asarray(list(kudos_model.params)[1:-1])\n",
    "kudos_err = list(kudos_model.bse)[1:-1]"
   ]
  },
  {
   "cell_type": "code",
   "execution_count": 41,
   "metadata": {},
   "outputs": [],
   "source": [
    "ylabels =['Term novelty', 'Term novelty squared', 'Topic novelty', 'Topic novelty squared', 'Chapters', \\\n",
    " 'Frequent relationship',' Author work count',\\\n",
    " 'Category (General)','Category (Female/Male)',' Category (Male/Male) ',' Category (Multiple)','Category (Other)','Category (Unknown)\\\n",
    " ','ArchiveWarnings (Underage)','ArchiveWarnings (Death)',' ArchiveWarnings (Violence)','ArchiveWarnings (Choose not to use)','\\\n",
    " ArchiveWarnings (Non-consensual sex)','Rating (Not rated)', 'Rating (Explicit)','Rating (Mature)',' Rating (Teens)\\\n",
    " ',' Fandom (DC) ',' Fandom (Doctor Who) ',' Fandom (Star Wars) ',' Fandom (Arthurian Mythologies)',\\\n",
    "  'Fandom (Supernatural)','Fandom (Haikyuu)',' Fandom (Kuroko no Basuke)',' Fandom (Hamilton (by Miranda))\\\n",
    " ',' Fandom (Dragon Age)',' Fandom (The Walking Dead)',' Fandom (Buffy the Vampire Slayer)','Fandom (Les Miserables)\\\n",
    " ',' Fandom (Naruto)','Fandom (Works of J.R.R.Tolkien)',' Fandom (Works of William Shakespare)','Fandom (Hetalia: Axis Powers)',' \\\n",
    " Fandom (Attack on Titan)',' Fandom (MS Paint Adventures)','\\\n",
    "Fandom (Marvel)',' Fandom (Sailor Moon)',' Fandom (One Direction)','Fandom (Sherlock Holmes)'][::-1]"
   ]
  },
  {
   "cell_type": "code",
   "execution_count": 42,
   "metadata": {},
   "outputs": [
    {
     "name": "stderr",
     "output_type": "stream",
     "text": [
      "/anaconda3/lib/python3.6/site-packages/statsmodels/discrete/discrete_model.py:1264: RuntimeWarning: divide by zero encountered in log\n",
      "  return np.sum(np.log(self.cdf(q*np.dot(X,params))))\n",
      "/anaconda3/lib/python3.6/site-packages/statsmodels/discrete/discrete_model.py:1264: RuntimeWarning: divide by zero encountered in log\n",
      "  return np.sum(np.log(self.cdf(q*np.dot(X,params))))\n"
     ]
    },
    {
     "name": "stdout",
     "output_type": "stream",
     "text": [
      "Warning: Maximum number of iterations has been exceeded.\n",
      "         Current function value: 0.091977\n",
      "         Iterations: 35\n",
      "         Function evaluations: 59\n",
      "         Gradient evaluations: 55\n"
     ]
    },
    {
     "name": "stderr",
     "output_type": "stream",
     "text": [
      "/anaconda3/lib/python3.6/site-packages/statsmodels/base/model.py:496: ConvergenceWarning: Maximum Likelihood optimization failed to converge. Check mle_retvals\n",
      "  \"Check mle_retvals\", ConvergenceWarning)\n"
     ]
    }
   ],
   "source": [
    "hits_model = run_ols(df_all, 'Hits')\n",
    "hits_coef = list(hits_model.params)[1:-1]\n",
    "hits_err = list(hits_model.bse)[1:-1]"
   ]
  },
  {
   "cell_type": "code",
   "execution_count": 43,
   "metadata": {},
   "outputs": [
    {
     "name": "stderr",
     "output_type": "stream",
     "text": [
      "/anaconda3/lib/python3.6/site-packages/statsmodels/discrete/discrete_model.py:1264: RuntimeWarning: divide by zero encountered in log\n",
      "  return np.sum(np.log(self.cdf(q*np.dot(X,params))))\n",
      "/anaconda3/lib/python3.6/site-packages/statsmodels/discrete/discrete_model.py:1264: RuntimeWarning: divide by zero encountered in log\n",
      "  return np.sum(np.log(self.cdf(q*np.dot(X,params))))\n"
     ]
    },
    {
     "name": "stdout",
     "output_type": "stream",
     "text": [
      "Warning: Desired error not necessarily achieved due to precision loss.\n",
      "         Current function value: 0.693147\n",
      "         Iterations: 0\n",
      "         Function evaluations: 16\n",
      "         Gradient evaluations: 4\n"
     ]
    },
    {
     "name": "stderr",
     "output_type": "stream",
     "text": [
      "/anaconda3/lib/python3.6/site-packages/statsmodels/base/model.py:473: HessianInversionWarning: Inverting hessian failed, no bse or cov_params available\n",
      "  'available', HessianInversionWarning)\n",
      "/anaconda3/lib/python3.6/site-packages/statsmodels/base/model.py:496: ConvergenceWarning: Maximum Likelihood optimization failed to converge. Check mle_retvals\n",
      "  \"Check mle_retvals\", ConvergenceWarning)\n"
     ]
    }
   ],
   "source": [
    "comments_model = run_ols(df_all, 'Comments')\n",
    "comments_coef = list(comments_model.params)[1:-1]\n",
    "comments_err = list(comments_model.bse)[1:-1]"
   ]
  },
  {
   "cell_type": "code",
   "execution_count": 44,
   "metadata": {},
   "outputs": [
    {
     "name": "stderr",
     "output_type": "stream",
     "text": [
      "/anaconda3/lib/python3.6/site-packages/statsmodels/discrete/discrete_model.py:1264: RuntimeWarning: divide by zero encountered in log\n",
      "  return np.sum(np.log(self.cdf(q*np.dot(X,params))))\n",
      "/anaconda3/lib/python3.6/site-packages/statsmodels/discrete/discrete_model.py:1264: RuntimeWarning: divide by zero encountered in log\n",
      "  return np.sum(np.log(self.cdf(q*np.dot(X,params))))\n"
     ]
    },
    {
     "name": "stdout",
     "output_type": "stream",
     "text": [
      "Warning: Maximum number of iterations has been exceeded.\n",
      "         Current function value: 0.422662\n",
      "         Iterations: 35\n",
      "         Function evaluations: 49\n",
      "         Gradient evaluations: 41\n"
     ]
    },
    {
     "name": "stderr",
     "output_type": "stream",
     "text": [
      "/anaconda3/lib/python3.6/site-packages/statsmodels/base/model.py:473: HessianInversionWarning: Inverting hessian failed, no bse or cov_params available\n",
      "  'available', HessianInversionWarning)\n",
      "/anaconda3/lib/python3.6/site-packages/statsmodels/base/model.py:496: ConvergenceWarning: Maximum Likelihood optimization failed to converge. Check mle_retvals\n",
      "  \"Check mle_retvals\", ConvergenceWarning)\n"
     ]
    }
   ],
   "source": [
    "bookmarks_model = run_ols(df_all, 'Bookmarks')\n",
    "bookmarks_coef = list(bookmarks_model.params)[1:-1]\n",
    "bookmarks_err = list(bookmarks_model.bse)[1:-1]"
   ]
  },
  {
   "cell_type": "code",
   "execution_count": 45,
   "metadata": {},
   "outputs": [],
   "source": [
    "from matplotlib import rc\n",
    "rc('font',**{'family':'sans-serif','sans-serif':['Helvetica']})\n",
    "rc('text', usetex=True)"
   ]
  },
  {
   "cell_type": "code",
   "execution_count": 62,
   "metadata": {},
   "outputs": [
    {
     "data": {
      "image/png": "[encoded data removed]",
      "text/plain": [
       "<matplotlib.figure.Figure at 0x1c233c0e10>"
      ]
     },
     "metadata": {},
     "output_type": "display_data"
    }
   ],
   "source": [
    "fig, ax = plt.subplots(1,4,figsize = (15,15))\n",
    "ax[0].errorbar(kudos_coef[::-1], range(len(kudos_coef)), xerr=kudos_err[::-1] , fmt='o')\n",
    "\n",
    "ax[0].set_yticks(range(len(kudos_coef)))\n",
    "ax[0].set_yticklabels(ylabels)\n",
    "ax[0].plot([0 for i in range(len(kudos_coef)+2)], range(-1,len(kudos_coef)+1), c='grey', alpha = 0.7)\n",
    "ax[0].plot(range(-8,8), [21.5 for i in range(-8,8)] ,c='grey', alpha = 0.7)\n",
    "ax[0].plot(range(-8,8), [25.5 for i in range(-8,8)] ,c='grey', alpha = 0.7)\n",
    "ax[0].plot(range(-8,8), [30.5 for i in range(-8,8)] ,c='grey', alpha = 0.7)\n",
    "ax[0].plot(range(-8,8), [36.5 for i in range(-8,8)] ,c='grey', alpha = 0.7)\n",
    "ax[0].plot(range(-8,8), [39.5 for i in range(-8,8)] ,c='grey', alpha = 0.7)\n",
    "ax[0].set_ylim(-0.5,43.5)\n",
    "ax[0].set_xlim(-3,3)\n",
    "ax[0].set_xlabel('Kudos', fontsize=15)\n",
    "ax[0].set_title('R-squared = 0.231', fontsize=15)\n",
    "for tick in ax[0].yaxis.get_major_ticks():\n",
    "    tick.label.set_fontsize(13)\n",
    "for tick in ax[0].xaxis.get_major_ticks():\n",
    "    tick.label.set_fontsize(13)\n",
    "    \n",
    "ax[1].errorbar(hits_coef[::-1], range(len(hits_err)), xerr=hits_err[::-1], fmt='o')\n",
    "ax[1].set_yticks(range(len(hits_coef)))\n",
    "# ax[1].set_yticklabels(ylabels)\n",
    "ax[1].plot([0 for i in range(len(hits_coef)+2)], range(-1,len(hits_coef)+1), c='grey', alpha = 0.7)\n",
    "ax[1].plot(range(-8,8), [21.5 for i in range(-8,8)] ,c='grey', alpha = 0.7)\n",
    "ax[1].plot(range(-8,8), [25.5 for i in range(-8,8)] ,c='grey', alpha = 0.7)\n",
    "ax[1].plot(range(-8,8), [30.5 for i in range(-8,8)] ,c='grey', alpha = 0.7)\n",
    "ax[1].plot(range(-8,8), [36.5 for i in range(-8,8)] ,c='grey', alpha = 0.7)\n",
    "ax[1].plot(range(-8,8), [39.5 for i in range(-8,8)] ,c='grey', alpha = 0.7)\n",
    "ax[1].set_ylim(-0.5,43.5)\n",
    "ax[1].set_xlim(-3,6)\n",
    "ax[1].set_yticklabels([])\n",
    "ax[1].set_title('R-squared = 0.114', fontsize=15)\n",
    "ax[1].set_xlabel('Hits', fontsize=15)\n",
    "for tick in ax[1].xaxis.get_major_ticks():\n",
    "    tick.label.set_fontsize(13)\n",
    "    \n",
    "ax[2].errorbar(comments_coef[::-1], range(len(comments_err)), xerr=comments_err[::-1], fmt='o')\n",
    "ax[2].set_yticks(range(len(comments_coef)))\n",
    "ax[2].plot([0 for i in range(len(comments_coef)+2)], range(-1,len(comments_coef)+1), c='grey', alpha = 0.7)\n",
    "ax[2].plot(range(-8,8), [21.5 for i in range(-8,8)] ,c='grey', alpha = 0.7)\n",
    "ax[2].plot(range(-8,8), [25.5 for i in range(-8,8)] ,c='grey', alpha = 0.7)\n",
    "ax[2].plot(range(-8,8), [30.5 for i in range(-8,8)] ,c='grey', alpha = 0.7)\n",
    "ax[2].plot(range(-8,8), [36.5 for i in range(-8,8)] ,c='grey', alpha = 0.7)\n",
    "ax[2].plot(range(-8,8), [39.5 for i in range(-8,8)] ,c='grey', alpha = 0.7)\n",
    "ax[2].set_ylim(-0.5,43.5)\n",
    "ax[2].set_xlim(-2,3)\n",
    "ax[2].set_yticklabels([])\n",
    "ax[2].set_title('R-squared = 0.114', fontsize=15)\n",
    "ax[2].set_xlabel('Comments', fontsize=15)\n",
    "for tick in ax[2].xaxis.get_major_ticks():\n",
    "    tick.label.set_fontsize(13)\n",
    "\n",
    "ax[3].errorbar(bookmarks_coef[::-1], range(len(bookmarks_err)), xerr=bookmarks_err[::-1], fmt='o')\n",
    "ax[3].set_yticks(range(len(bookmarks_coef)))\n",
    "ax[3].plot([0 for i in range(len(bookmarks_coef)+2)], range(-1,len(bookmarks_coef)+1), c='grey', alpha = 0.7)\n",
    "ax[3].plot(range(-8,8), [21.5 for i in range(-8,8)] ,c='grey', alpha = 0.7)\n",
    "ax[3].plot(range(-8,8), [25.5 for i in range(-8,8)] ,c='grey', alpha = 0.7)\n",
    "ax[3].plot(range(-8,8), [30.5 for i in range(-8,8)] ,c='grey', alpha = 0.7)\n",
    "ax[3].plot(range(-8,8), [36.5 for i in range(-8,8)] ,c='grey', alpha = 0.7)\n",
    "ax[3].plot(range(-8,8), [39.5 for i in range(-8,8)] ,c='grey', alpha = 0.7)\n",
    "ax[3].set_ylim(-0.5,43.5)\n",
    "ax[3].set_xlim(-5,4)\n",
    "ax[3].set_yticklabels([])\n",
    "ax[3].set_title('R-squared = 0.156', fontsize=15)\n",
    "ax[3].set_xlabel('Bookmarks', fontsize=15)\n",
    "for tick in ax[2].xaxis.get_major_ticks():\n",
    "    tick.label.set_fontsize(13)\n",
    "    \n",
    "fig.text(0.55, 0.001, 'N = 662793', fontsize = 15)\n",
    "plt.tight_layout()\n",
    "plt.savefig('ols_coefs_full_ageless.pdf', format='pdf')"
   ]
  },
  {
   "cell_type": "code",
   "execution_count": 61,
   "metadata": {},
   "outputs": [
    {
     "data": {
      "image/png": "[encoded data removed]",
      "text/plain": [
       "<matplotlib.figure.Figure at 0x1c23540278>"
      ]
     },
     "metadata": {},
     "output_type": "display_data"
    }
   ],
   "source": [
    "fig, ax = plt.subplots(1,4,figsize = (15,5))\n",
    "ax[0].errorbar(kudos_coef[::-1], range(len(kudos_coef)), xerr=kudos_err[::-1] , fmt='o')\n",
    "\n",
    "ax[0].set_yticks(range(len(kudos_coef)))\n",
    "ax[0].set_yticklabels(ylabels)\n",
    "ax[0].plot([0 for i in range(len(kudos_coef)+2)], range(-1,len(kudos_coef)+1), c='grey', alpha = 0.7)\n",
    "ax[0].plot(range(-8,8), [21.5 for i in range(-8,8)] ,c='grey', alpha = 0.7)\n",
    "ax[0].plot(range(-8,8), [25.5 for i in range(-8,8)] ,c='grey', alpha = 0.7)\n",
    "ax[0].plot(range(-8,8), [30.5 for i in range(-8,8)] ,c='grey', alpha = 0.7)\n",
    "ax[0].plot(range(-8,8), [36.5 for i in range(-8,8)] ,c='grey', alpha = 0.7)\n",
    "ax[0].plot(range(-8,8), [39.5 for i in range(-8,8)] ,c='grey', alpha = 0.7)\n",
    "ax[0].set_ylim(36.5,43.5)\n",
    "ax[0].set_xlim(-3,3)\n",
    "ax[0].set_xlabel('Kudos', fontsize=15)\n",
    "ax[0].set_title('R-squared = 0.231', fontsize=15)\n",
    "for tick in ax[0].yaxis.get_major_ticks():\n",
    "    tick.label.set_fontsize(13)\n",
    "for tick in ax[0].xaxis.get_major_ticks():\n",
    "    tick.label.set_fontsize(13)\n",
    "    \n",
    "ax[1].errorbar(hits_coef[::-1], range(len(hits_err)), xerr=hits_err[::-1], fmt='o')\n",
    "ax[1].set_yticks(range(len(hits_coef)))\n",
    "# ax[1].set_yticklabels(ylabels)\n",
    "ax[1].plot([0 for i in range(len(hits_coef)+2)], range(-1,len(hits_coef)+1), c='grey', alpha = 0.7)\n",
    "ax[1].plot(range(-8,8), [21.5 for i in range(-8,8)] ,c='grey', alpha = 0.7)\n",
    "ax[1].plot(range(-8,8), [25.5 for i in range(-8,8)] ,c='grey', alpha = 0.7)\n",
    "ax[1].plot(range(-8,8), [30.5 for i in range(-8,8)] ,c='grey', alpha = 0.7)\n",
    "ax[1].plot(range(-8,8), [36.5 for i in range(-8,8)] ,c='grey', alpha = 0.7)\n",
    "ax[1].plot(range(-8,8), [39.5 for i in range(-8,8)] ,c='grey', alpha = 0.7)\n",
    "ax[1].set_ylim(36.5,43.5)\n",
    "ax[1].set_xlim(-3,6)\n",
    "ax[1].set_yticklabels([])\n",
    "ax[1].set_title('R-squared = 0.114', fontsize=15)\n",
    "ax[1].set_xlabel('Hits', fontsize=15)\n",
    "for tick in ax[1].xaxis.get_major_ticks():\n",
    "    tick.label.set_fontsize(13)\n",
    "    \n",
    "ax[2].errorbar(comments_coef[::-1], range(len(comments_err)), xerr=comments_err[::-1], fmt='o')\n",
    "ax[2].set_yticks(range(len(comments_coef)))\n",
    "ax[2].plot([0 for i in range(len(comments_coef)+2)], range(-1,len(comments_coef)+1), c='grey', alpha = 0.7)\n",
    "ax[2].plot(range(-8,8), [21.5 for i in range(-8,8)] ,c='grey', alpha = 0.7)\n",
    "ax[2].plot(range(-8,8), [25.5 for i in range(-8,8)] ,c='grey', alpha = 0.7)\n",
    "ax[2].plot(range(-8,8), [30.5 for i in range(-8,8)] ,c='grey', alpha = 0.7)\n",
    "ax[2].plot(range(-8,8), [36.5 for i in range(-8,8)] ,c='grey', alpha = 0.7)\n",
    "ax[2].plot(range(-8,8), [39.5 for i in range(-8,8)] ,c='grey', alpha = 0.7)\n",
    "ax[2].set_ylim(36.5,43.5)\n",
    "ax[2].set_xlim(-2,3)\n",
    "ax[2].set_yticklabels([])\n",
    "ax[2].set_title('R-squared = 0.114', fontsize=15)\n",
    "ax[2].set_xlabel('Comments', fontsize=15)\n",
    "for tick in ax[2].xaxis.get_major_ticks():\n",
    "    tick.label.set_fontsize(13)\n",
    "\n",
    "ax[3].errorbar(bookmarks_coef[::-1], range(len(bookmarks_err)), xerr=bookmarks_err[::-1], fmt='o')\n",
    "ax[3].set_yticks(range(len(bookmarks_coef)))\n",
    "ax[3].plot([0 for i in range(len(bookmarks_coef)+2)], range(-1,len(bookmarks_coef)+1), c='grey', alpha = 0.7)\n",
    "ax[3].plot(range(-8,8), [21.5 for i in range(-8,8)] ,c='grey', alpha = 0.7)\n",
    "ax[3].plot(range(-8,8), [25.5 for i in range(-8,8)] ,c='grey', alpha = 0.7)\n",
    "ax[3].plot(range(-8,8), [30.5 for i in range(-8,8)] ,c='grey', alpha = 0.7)\n",
    "ax[3].plot(range(-8,8), [36.5 for i in range(-8,8)] ,c='grey', alpha = 0.7)\n",
    "ax[3].plot(range(-8,8), [39.5 for i in range(-8,8)] ,c='grey', alpha = 0.7)\n",
    "ax[3].set_ylim(36.5,43.5)\n",
    "ax[3].set_xlim(-5,4)\n",
    "ax[3].set_yticklabels([])\n",
    "ax[3].set_title('R-squared = 0.156', fontsize=15)\n",
    "ax[3].set_xlabel('Bookmarks', fontsize=15)\n",
    "for tick in ax[2].xaxis.get_major_ticks():\n",
    "    tick.label.set_fontsize(13)\n",
    "    \n",
    "fig.text(0.55, 0.001, 'N = 662793', fontsize = 15)\n",
    "plt.tight_layout()\n",
    "plt.savefig('ols_coefs_partial_ageless.pdf', format='pdf')"
   ]
  },
  {
   "cell_type": "code",
   "execution_count": 48,
   "metadata": {},
   "outputs": [
    {
     "name": "stdout",
     "output_type": "stream",
     "text": [
      "                            OLS Regression Results                            \n",
      "==============================================================================\n",
      "Dep. Variable:                  Kudos   R-squared:                       0.231\n",
      "Model:                            OLS   Adj. R-squared:                  0.231\n",
      "Method:                 Least Squares   F-statistic:                     4518.\n",
      "Date:                Fri, 14 Sep 2018   Prob (F-statistic):               0.00\n",
      "Time:                        17:01:41   Log-Likelihood:            -1.3151e+06\n",
      "No. Observations:              662728   AIC:                         2.630e+06\n",
      "Df Residuals:                  662683   BIC:                         2.631e+06\n",
      "Df Model:                          44                                         \n",
      "Covariance Type:            nonrobust                                         \n",
      "==============================================================================================\n",
      "                                 coef    std err          t      P>|t|      [0.025      0.975]\n",
      "----------------------------------------------------------------------------------------------\n",
      "Intercept                     -2.8682      0.161    -17.833      0.000      -3.183      -2.553\n",
      "Term_novelty                  -0.6515      0.008    -81.348      0.000      -0.667      -0.636\n",
      "Term_novelty_squared          -0.7449      0.043    -17.306      0.000      -0.829      -0.660\n",
      "Topic_novelty                 -2.2538      0.054    -41.667      0.000      -2.360      -2.148\n",
      "Topic_novelty_squared          1.9445      0.678      2.867      0.004       0.615       3.274\n",
      "Chapters                      -0.0099   6.39e-05   -155.544      0.000      -0.010      -0.010\n",
      "Freq_relationship              0.4523      0.006     80.079      0.000       0.441       0.463\n",
      "author_fic_cnt             -7.383e-06   2.27e-06     -3.254      0.001   -1.18e-05   -2.94e-06\n",
      "Category_Gen                  -0.2814      0.006    -45.471      0.000      -0.294      -0.269\n",
      "Category_F_M                  -0.4335      0.006    -78.267      0.000      -0.444      -0.423\n",
      "Category_M_M                   0.2836      0.007     42.118      0.000       0.270       0.297\n",
      "Category_Multi                -0.3106      0.008    -39.043      0.000      -0.326      -0.295\n",
      "Category_Other                -0.4524      0.012    -36.275      0.000      -0.477      -0.428\n",
      "Category_Unknown              -0.7499      0.013    -55.911      0.000      -0.776      -0.724\n",
      "ArchiveWarnings_underage       0.0505      0.013      3.935      0.000       0.025       0.076\n",
      "ArchiveWarnings_death         -0.5290      0.009    -59.856      0.000      -0.546      -0.512\n",
      "ArchiveWarnings_violence      -0.6297      0.008    -81.462      0.000      -0.645      -0.615\n",
      "ArchiveWarnings_choose_no     -0.3118      0.005    -65.672      0.000      -0.321      -0.302\n",
      "ArchiveWarnings_noncon         0.0219      0.012      1.868      0.062      -0.001       0.045\n",
      "Rating_N                      -0.3140      0.009    -36.900      0.000      -0.331      -0.297\n",
      "Rating_E                      -0.0053      0.008     -0.668      0.504      -0.021       0.010\n",
      "Rating_M                      -0.4048      0.007    -54.369      0.000      -0.419      -0.390\n",
      "Rating_T                      -0.3937      0.006    -63.433      0.000      -0.406      -0.382\n",
      "Fandom_dcu                    -0.3864      0.006    -68.784      0.000      -0.397      -0.375\n",
      "Fandom_doctor_who             -0.3864      0.006    -68.784      0.000      -0.397      -0.375\n",
      "Fandom_star_wars               0.3019      0.015     20.285      0.000       0.273       0.331\n",
      "Fandom_arthurian              -0.0718      0.015     -4.648      0.000      -0.102      -0.042\n",
      "Fandom_supernatural           -0.2735      0.008    -32.409      0.000      -0.290      -0.257\n",
      "Fandom_haikyuu                 0.5799      0.017     33.807      0.000       0.546       0.614\n",
      "Fandom_kuroko_no_basuke        0.4090      0.020     20.006      0.000       0.369       0.449\n",
      "Fandom_hamilton_miranda        0.3745      0.039      9.622      0.000       0.298       0.451\n",
      "Fandom_dragon_age             -0.1350      0.011    -12.137      0.000      -0.157      -0.113\n",
      "Fandom_the_walking_dead        0.0297      0.018      1.633      0.102      -0.006       0.065\n",
      "Fandom_buffy                  -1.0413      0.017    -62.037      0.000      -1.074      -1.008\n",
      "Fandom_les_miserables          0.0224      0.020      1.096      0.273      -0.018       0.063\n",
      "Fandom_naruto                 -0.4513      0.020    -22.918      0.000      -0.490      -0.413\n",
      "Fandom_tolkien                -0.1522      0.012    -12.474      0.000      -0.176      -0.128\n",
      "Fandom_shakespare             -0.8021      0.069    -11.642      0.000      -0.937      -0.667\n",
      "Fandom_hetalia                -0.5520      0.016    -34.610      0.000      -0.583      -0.521\n",
      "Fandom_attack_on_titan         0.1410      0.014     10.365      0.000       0.114       0.168\n",
      "Fandom_ms_paint_adventures     0.2802      0.012     24.080      0.000       0.257       0.303\n",
      "Fandom_marvel                  0.6405      0.008     80.303      0.000       0.625       0.656\n",
      "Fandom_sailor_moon            -1.9604      0.045    -43.780      0.000      -2.048      -1.873\n",
      "Fandom_one_direction          -0.6896      0.016    -42.178      0.000      -0.722      -0.658\n",
      "Fandom_sherlock               -0.0194      0.009     -2.172      0.030      -0.037      -0.002\n",
      "nonzero_prob                   5.5358      0.167     33.145      0.000       5.208       5.863\n",
      "==============================================================================\n",
      "Omnibus:                   231806.780   Durbin-Watson:                   1.282\n",
      "Prob(Omnibus):                  0.000   Jarque-Bera (JB):          1289147.507\n",
      "Skew:                          -1.589   Prob(JB):                         0.00\n",
      "Kurtosis:                       9.049   Cond. No.                     1.02e+16\n",
      "==============================================================================\n",
      "\n",
      "Warnings:\n",
      "[1] Standard Errors assume that the covariance matrix of the errors is correctly specified.\n",
      "[2] The smallest eigenvalue is 6.01e-21. This might indicate that there are\n",
      "strong multicollinearity problems or that the design matrix is singular.\n"
     ]
    }
   ],
   "source": [
    "print(kudos_model.summary())"
   ]
  },
  {
   "cell_type": "code",
   "execution_count": 49,
   "metadata": {},
   "outputs": [
    {
     "name": "stdout",
     "output_type": "stream",
     "text": [
      "                            OLS Regression Results                            \n",
      "==============================================================================\n",
      "Dep. Variable:                   Hits   R-squared:                       0.114\n",
      "Model:                            OLS   Adj. R-squared:                  0.114\n",
      "Method:                 Least Squares   F-statistic:                     1942.\n",
      "Date:                Fri, 14 Sep 2018   Prob (F-statistic):               0.00\n",
      "Time:                        17:01:41   Log-Likelihood:            -1.4289e+06\n",
      "No. Observations:              662728   AIC:                         2.858e+06\n",
      "Df Residuals:                  662683   BIC:                         2.858e+06\n",
      "Df Model:                          44                                         \n",
      "Covariance Type:            nonrobust                                         \n",
      "==============================================================================================\n",
      "                                 coef    std err          t      P>|t|      [0.025      0.975]\n",
      "----------------------------------------------------------------------------------------------\n",
      "Intercept                     47.6406      1.230     38.740      0.000      45.230      50.051\n",
      "Term_novelty                  -0.6433      0.010    -63.087      0.000      -0.663      -0.623\n",
      "Term_novelty_squared          -0.5326      0.051    -10.372      0.000      -0.633      -0.432\n",
      "Topic_novelty                 -1.2518      0.064    -19.491      0.000      -1.378      -1.126\n",
      "Topic_novelty_squared          4.4919      0.805      5.578      0.000       2.914       6.070\n",
      "Chapters                      -0.0067    8.2e-05    -81.492      0.000      -0.007      -0.007\n",
      "Freq_relationship              0.5884      0.007     80.032      0.000       0.574       0.603\n",
      "author_fic_cnt                 0.0001   3.62e-06     35.054      0.000       0.000       0.000\n",
      "Category_Gen                  -0.1441      0.008    -17.373      0.000      -0.160      -0.128\n",
      "Category_F_M                   0.0476      0.011      4.423      0.000       0.027       0.069\n",
      "Category_M_M                   0.5443      0.010     54.618      0.000       0.525       0.564\n",
      "Category_Multi                 0.0732      0.011      6.631      0.000       0.052       0.095\n",
      "Category_Other                -0.3126      0.015    -21.071      0.000      -0.342      -0.284\n",
      "Category_Unknown              -0.2888      0.017    -17.408      0.000      -0.321      -0.256\n",
      "ArchiveWarnings_underage       0.1348      0.015      8.830      0.000       0.105       0.165\n",
      "ArchiveWarnings_death         -0.2173      0.011    -19.059      0.000      -0.240      -0.195\n",
      "ArchiveWarnings_violence      -0.1251      0.013     -9.590      0.000      -0.151      -0.100\n",
      "ArchiveWarnings_choose_no      0.1384      0.010     14.471      0.000       0.120       0.157\n",
      "ArchiveWarnings_noncon         0.3863      0.014     26.861      0.000       0.358       0.415\n",
      "Rating_N                      -0.5613      0.011    -49.138      0.000      -0.584      -0.539\n",
      "Rating_E                      -0.4935      0.020    -24.759      0.000      -0.533      -0.454\n",
      "Rating_M                      -0.4583      0.009    -48.458      0.000      -0.477      -0.440\n",
      "Rating_T                      -0.4189      0.008    -50.502      0.000      -0.435      -0.403\n",
      "Fandom_dcu                    -0.2420      0.007    -33.412      0.000      -0.256      -0.228\n",
      "Fandom_doctor_who             -0.2420      0.007    -33.412      0.000      -0.256      -0.228\n",
      "Fandom_star_wars               0.1938      0.018     10.609      0.000       0.158       0.230\n",
      "Fandom_arthurian               0.1974      0.019     10.648      0.000       0.161       0.234\n",
      "Fandom_supernatural           -0.1315      0.012    -11.198      0.000      -0.155      -0.108\n",
      "Fandom_haikyuu                 0.0255      0.021      1.241      0.214      -0.015       0.066\n",
      "Fandom_kuroko_no_basuke       -0.1518      0.024     -6.255      0.000      -0.199      -0.104\n",
      "Fandom_hamilton_miranda       -0.2121      0.046     -4.590      0.000      -0.303      -0.122\n",
      "Fandom_dragon_age             -0.5095      0.013    -38.471      0.000      -0.535      -0.484\n",
      "Fandom_the_walking_dead       -0.3274      0.022    -15.184      0.000      -0.370      -0.285\n",
      "Fandom_buffy                  -0.6768      0.020    -33.952      0.000      -0.716      -0.638\n",
      "Fandom_les_miserables         -0.0160      0.024     -0.658      0.510      -0.064       0.032\n",
      "Fandom_naruto                 -0.5528      0.023    -23.636      0.000      -0.599      -0.507\n",
      "Fandom_tolkien                -0.0731      0.014     -5.051      0.000      -0.101      -0.045\n",
      "Fandom_shakespare             -0.8571      0.082    -10.477      0.000      -1.017      -0.697\n",
      "Fandom_hetalia                -0.7329      0.019    -38.473      0.000      -0.770      -0.696\n",
      "Fandom_attack_on_titan         0.0606      0.017      3.543      0.000       0.027       0.094\n",
      "Fandom_ms_paint_adventures     0.2220      0.015     14.528      0.000       0.192       0.252\n",
      "Fandom_marvel                  0.5752      0.009     60.752      0.000       0.557       0.594\n",
      "Fandom_sailor_moon            -1.5713      0.053    -29.547      0.000      -1.676      -1.467\n",
      "Fandom_one_direction          -0.2253      0.020    -11.456      0.000      -0.264      -0.187\n",
      "Fandom_sherlock                0.4254      0.014     30.632      0.000       0.398       0.453\n",
      "nonzero_prob                 -43.5190      1.269    -34.305      0.000     -46.005     -41.033\n",
      "==============================================================================\n",
      "Omnibus:                   488669.805   Durbin-Watson:                   1.351\n",
      "Prob(Omnibus):                  0.000   Jarque-Bera (JB):          9901219.220\n",
      "Skew:                          -3.410   Prob(JB):                         0.00\n",
      "Kurtosis:                      20.665   Cond. No.                     1.02e+16\n",
      "==============================================================================\n",
      "\n",
      "Warnings:\n",
      "[1] Standard Errors assume that the covariance matrix of the errors is correctly specified.\n",
      "[2] The smallest eigenvalue is 6.01e-21. This might indicate that there are\n",
      "strong multicollinearity problems or that the design matrix is singular.\n"
     ]
    }
   ],
   "source": [
    "print(hits_model.summary())"
   ]
  },
  {
   "cell_type": "code",
   "execution_count": 50,
   "metadata": {},
   "outputs": [
    {
     "name": "stdout",
     "output_type": "stream",
     "text": [
      "                            OLS Regression Results                            \n",
      "==============================================================================\n",
      "Dep. Variable:               Comments   R-squared:                       0.114\n",
      "Model:                            OLS   Adj. R-squared:                  0.114\n",
      "Method:                 Least Squares   F-statistic:                     1978.\n",
      "Date:                Fri, 14 Sep 2018   Prob (F-statistic):               0.00\n",
      "Time:                        17:01:42   Log-Likelihood:            -8.8046e+05\n",
      "No. Observations:              662728   AIC:                         1.761e+06\n",
      "Df Residuals:                  662684   BIC:                         1.762e+06\n",
      "Df Model:                          43                                         \n",
      "Covariance Type:            nonrobust                                         \n",
      "==============================================================================================\n",
      "                                 coef    std err          t      P>|t|      [0.025      0.975]\n",
      "----------------------------------------------------------------------------------------------\n",
      "Intercept                      0.5641      0.004    144.089      0.000       0.556       0.572\n",
      "Term_novelty                  -0.2494      0.004    -61.977      0.000      -0.257      -0.241\n",
      "Term_novelty_squared           0.3526      0.022     15.793      0.000       0.309       0.396\n",
      "Topic_novelty                 -0.9194      0.028    -32.756      0.000      -0.974      -0.864\n",
      "Topic_novelty_squared          1.5509      0.352      4.406      0.000       0.861       2.241\n",
      "Chapters                       0.0005   3.27e-05     15.339      0.000       0.000       0.001\n",
      "Freq_relationship              0.2065      0.003     76.426      0.000       0.201       0.212\n",
      "author_fic_cnt             -5.535e-06   1.18e-06     -4.701      0.000   -7.84e-06   -3.23e-06\n",
      "Category_Gen                  -0.0146      0.003     -4.545      0.000      -0.021      -0.008\n",
      "Category_F_M                  -0.1052      0.003    -38.261      0.000      -0.111      -0.100\n",
      "Category_M_M                   0.1389      0.003     46.591      0.000       0.133       0.145\n",
      "Category_Multi                -0.0652      0.004    -15.808      0.000      -0.073      -0.057\n",
      "Category_Other                -0.1223      0.006    -18.909      0.000      -0.135      -0.110\n",
      "Category_Unknown              -0.1735      0.006    -30.107      0.000      -0.185      -0.162\n",
      "ArchiveWarnings_underage      -0.0327      0.007     -4.903      0.000      -0.046      -0.020\n",
      "ArchiveWarnings_death         -0.1587      0.005    -34.608      0.000      -0.168      -0.150\n",
      "ArchiveWarnings_violence      -0.1466      0.004    -36.550      0.000      -0.154      -0.139\n",
      "ArchiveWarnings_choose_no     -0.1173      0.002    -48.046      0.000      -0.122      -0.113\n",
      "ArchiveWarnings_noncon         0.0208      0.006      3.414      0.001       0.009       0.033\n",
      "Rating_N                      -0.0806      0.004    -18.246      0.000      -0.089      -0.072\n",
      "Rating_E                       0.1264      0.004     30.609      0.000       0.118       0.135\n",
      "Rating_M                      -0.0046      0.004     -1.187      0.235      -0.012       0.003\n",
      "Rating_T                      -0.0655      0.003    -20.492      0.000      -0.072      -0.059\n",
      "Fandom_dcu                    -0.0977      0.003    -34.099      0.000      -0.103      -0.092\n",
      "Fandom_doctor_who             -0.0977      0.003    -34.099      0.000      -0.103      -0.092\n",
      "Fandom_star_wars               0.2821      0.008     36.523      0.000       0.267       0.297\n",
      "Fandom_arthurian               0.0124      0.008      1.543      0.123      -0.003       0.028\n",
      "Fandom_supernatural           -0.0787      0.004    -17.982      0.000      -0.087      -0.070\n",
      "Fandom_haikyuu                 0.2711      0.009     30.482      0.000       0.254       0.289\n",
      "Fandom_kuroko_no_basuke        0.0640      0.011      6.038      0.000       0.043       0.085\n",
      "Fandom_hamilton_miranda        0.5494      0.020     27.197      0.000       0.510       0.589\n",
      "Fandom_dragon_age              0.0304      0.006      5.292      0.000       0.019       0.042\n",
      "Fandom_the_walking_dead        0.2508      0.009     26.621      0.000       0.232       0.269\n",
      "Fandom_buffy                  -0.2963      0.009    -34.027      0.000      -0.313      -0.279\n",
      "Fandom_les_miserables          0.0128      0.011      1.210      0.226      -0.008       0.034\n",
      "Fandom_naruto                 -0.1770      0.010    -17.317      0.000      -0.197      -0.157\n",
      "Fandom_tolkien                 0.2974      0.006     47.850      0.000       0.285       0.310\n",
      "Fandom_shakespare             -0.0730      0.036     -2.042      0.041      -0.143      -0.003\n",
      "Fandom_hetalia                -0.3170      0.008    -38.301      0.000      -0.333      -0.301\n",
      "Fandom_attack_on_titan         0.1008      0.007     14.273      0.000       0.087       0.115\n",
      "Fandom_ms_paint_adventures     0.0818      0.006     13.588      0.000       0.070       0.094\n",
      "Fandom_marvel                  0.4572      0.004    115.716      0.000       0.449       0.465\n",
      "Fandom_sailor_moon            -0.4336      0.023    -18.656      0.000      -0.479      -0.388\n",
      "Fandom_one_direction          -0.1538      0.008    -18.132      0.000      -0.170      -0.137\n",
      "Fandom_sherlock                0.2013      0.005     43.656      0.000       0.192       0.210\n",
      "nonzero_prob                   0.2820      0.002    144.089      0.000       0.278       0.286\n",
      "==============================================================================\n",
      "Omnibus:                    44716.684   Durbin-Watson:                   1.611\n",
      "Prob(Omnibus):                  0.000   Jarque-Bera (JB):            53105.769\n",
      "Skew:                           0.683   Prob(JB):                         0.00\n",
      "Kurtosis:                       2.758   Cond. No.                     7.05e+16\n",
      "==============================================================================\n",
      "\n",
      "Warnings:\n",
      "[1] Standard Errors assume that the covariance matrix of the errors is correctly specified.\n",
      "[2] The smallest eigenvalue is 1.26e-22. This might indicate that there are\n",
      "strong multicollinearity problems or that the design matrix is singular.\n"
     ]
    }
   ],
   "source": [
    "print(comments_model.summary())"
   ]
  },
  {
   "cell_type": "code",
   "execution_count": 51,
   "metadata": {},
   "outputs": [
    {
     "name": "stdout",
     "output_type": "stream",
     "text": [
      "                            OLS Regression Results                            \n",
      "==============================================================================\n",
      "Dep. Variable:              Bookmarks   R-squared:                       0.156\n",
      "Model:                            OLS   Adj. R-squared:                  0.156\n",
      "Method:                 Least Squares   F-statistic:                     2775.\n",
      "Date:                Fri, 14 Sep 2018   Prob (F-statistic):               0.00\n",
      "Time:                        17:01:42   Log-Likelihood:            -1.6298e+06\n",
      "No. Observations:              662728   AIC:                         3.260e+06\n",
      "Df Residuals:                  662683   BIC:                         3.260e+06\n",
      "Df Model:                          44                                         \n",
      "Covariance Type:            nonrobust                                         \n",
      "==============================================================================================\n",
      "                                 coef    std err          t      P>|t|      [0.025      0.975]\n",
      "----------------------------------------------------------------------------------------------\n",
      "Intercept                     -2.8665      0.036    -79.668      0.000      -2.937      -2.796\n",
      "Term_novelty                  -0.6747      0.014    -49.687      0.000      -0.701      -0.648\n",
      "Term_novelty_squared          -0.2625      0.069     -3.795      0.000      -0.398      -0.127\n",
      "Topic_novelty                 -3.9676      0.087    -45.592      0.000      -4.138      -3.797\n",
      "Topic_novelty_squared          2.4535      1.090      2.250      0.024       0.316       4.591\n",
      "Chapters                      -0.0047      0.000    -41.445      0.000      -0.005      -0.005\n",
      "Freq_relationship              0.6799      0.009     72.449      0.000       0.662       0.698\n",
      "author_fic_cnt             -7.529e-06   3.66e-06     -2.059      0.040   -1.47e-05   -3.62e-07\n",
      "Category_Gen                  -0.0797      0.010     -8.024      0.000      -0.099      -0.060\n",
      "Category_F_M                  -0.3255      0.009    -38.192      0.000      -0.342      -0.309\n",
      "Category_M_M                   0.5686      0.010     56.630      0.000       0.549       0.588\n",
      "Category_Multi                -0.1408      0.013    -10.977      0.000      -0.166      -0.116\n",
      "Category_Other                -0.4807      0.020    -23.695      0.000      -0.520      -0.441\n",
      "Category_Unknown              -0.6967      0.018    -37.666      0.000      -0.733      -0.660\n",
      "ArchiveWarnings_underage       0.0754      0.021      3.647      0.000       0.035       0.116\n",
      "ArchiveWarnings_death         -0.5113      0.015    -35.166      0.000      -0.540      -0.483\n",
      "ArchiveWarnings_violence      -0.3407      0.012    -27.410      0.000      -0.365      -0.316\n",
      "ArchiveWarnings_choose_no     -0.2232      0.008    -29.504      0.000      -0.238      -0.208\n",
      "ArchiveWarnings_noncon         0.0884      0.019      4.661      0.000       0.051       0.126\n",
      "Rating_N                      -0.0968      0.014     -7.013      0.000      -0.124      -0.070\n",
      "Rating_E                       0.6390      0.014     46.080      0.000       0.612       0.666\n",
      "Rating_M                       0.1576      0.013     12.346      0.000       0.133       0.183\n",
      "Rating_T                       0.0167      0.010      1.618      0.106      -0.004       0.037\n",
      "Fandom_dcu                    -0.5770      0.009    -63.462      0.000      -0.595      -0.559\n",
      "Fandom_doctor_who             -0.5770      0.009    -63.462      0.000      -0.595      -0.559\n",
      "Fandom_star_wars               0.2171      0.024      9.036      0.000       0.170       0.264\n",
      "Fandom_arthurian              -0.3620      0.025    -14.574      0.000      -0.411      -0.313\n",
      "Fandom_supernatural           -0.6753      0.014    -49.358      0.000      -0.702      -0.648\n",
      "Fandom_haikyuu                 0.4918      0.028     17.753      0.000       0.437       0.546\n",
      "Fandom_kuroko_no_basuke        0.1749      0.033      5.316      0.000       0.110       0.239\n",
      "Fandom_hamilton_miranda        0.1268      0.063      2.026      0.043       0.004       0.249\n",
      "Fandom_dragon_age             -0.4803      0.018    -26.953      0.000      -0.515      -0.445\n",
      "Fandom_the_walking_dead       -0.3174      0.029    -10.852      0.000      -0.375      -0.260\n",
      "Fandom_buffy                  -1.3884      0.028    -49.734      0.000      -1.443      -1.334\n",
      "Fandom_les_miserables         -0.5751      0.033    -17.463      0.000      -0.640      -0.511\n",
      "Fandom_naruto                 -0.5915      0.032    -18.663      0.000      -0.654      -0.529\n",
      "Fandom_tolkien                -0.0499      0.019     -2.584      0.010      -0.088      -0.012\n",
      "Fandom_shakespare             -1.8900      0.111    -17.061      0.000      -2.107      -1.673\n",
      "Fandom_hetalia                -1.2014      0.026    -46.028      0.000      -1.253      -1.150\n",
      "Fandom_attack_on_titan        -0.1071      0.022     -4.897      0.000      -0.150      -0.064\n",
      "Fandom_ms_paint_adventures    -0.0911      0.019     -4.847      0.000      -0.128      -0.054\n",
      "Fandom_marvel                  0.7615      0.013     57.064      0.000       0.735       0.788\n",
      "Fandom_sailor_moon            -2.2087      0.072    -30.678      0.000      -2.350      -2.068\n",
      "Fandom_one_direction          -0.6739      0.026    -25.598      0.000      -0.725      -0.622\n",
      "Fandom_sherlock               -0.1880      0.014    -13.128      0.000      -0.216      -0.160\n",
      "nonzero_prob                   1.9348      0.050     38.847      0.000       1.837       2.032\n",
      "==============================================================================\n",
      "Omnibus:                    57134.254   Durbin-Watson:                   1.541\n",
      "Prob(Omnibus):                  0.000   Jarque-Bera (JB):            73277.455\n",
      "Skew:                          -0.813   Prob(JB):                         0.00\n",
      "Kurtosis:                       2.893   Cond. No.                     1.02e+16\n",
      "==============================================================================\n",
      "\n",
      "Warnings:\n",
      "[1] Standard Errors assume that the covariance matrix of the errors is correctly specified.\n",
      "[2] The smallest eigenvalue is 6.01e-21. This might indicate that there are\n",
      "strong multicollinearity problems or that the design matrix is singular.\n"
     ]
    }
   ],
   "source": [
    "print(bookmarks_model.summary())"
   ]
  },
  {
   "cell_type": "code",
   "execution_count": null,
   "metadata": {},
   "outputs": [],
   "source": []
  },
  {
   "cell_type": "code",
   "execution_count": null,
   "metadata": {},
   "outputs": [],
   "source": []
  },
  {
   "cell_type": "code",
   "execution_count": null,
   "metadata": {},
   "outputs": [],
   "source": []
  },
  {
   "cell_type": "code",
   "execution_count": null,
   "metadata": {},
   "outputs": [],
   "source": []
  }
 ],
 "metadata": {
  "kernelspec": {
   "display_name": "Python 3",
   "language": "python",
   "name": "python3"
  },
  "language_info": {
   "codemirror_mode": {
    "name": "ipython",
    "version": 3
   },
   "file_extension": ".py",
   "mimetype": "text/x-python",
   "name": "python",
   "nbconvert_exporter": "python",
   "pygments_lexer": "ipython3",
   "version": "3.6.4"
  }
 },
 "nbformat": 4,
 "nbformat_minor": 2
}
