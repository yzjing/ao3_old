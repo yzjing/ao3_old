{
 "cells": [
  {
   "cell_type": "code",
   "execution_count": 1,
   "metadata": {},
   "outputs": [],
   "source": [
    "import pandas as pd\n",
    "import os\n",
    "import matplotlib.pyplot as plt\n",
    "%matplotlib inline\n",
    "import numpy as np\n",
    "import seaborn as sns\n",
    "from statsmodels.formula.api import ols\n",
    "import statsmodels.api as sm\n",
    "from sklearn.linear_model import LogisticRegression"
   ]
  },
  {
   "cell_type": "code",
   "execution_count": 2,
   "metadata": {},
   "outputs": [],
   "source": [
    "df_all = pd.read_csv('fanfic_regression_data_curated.tsv', sep = '\\t')"
   ]
  },
  {
   "cell_type": "code",
   "execution_count": 3,
   "metadata": {},
   "outputs": [
    {
     "data": {
      "text/plain": [
       "698002"
      ]
     },
     "execution_count": 3,
     "metadata": {},
     "output_type": "execute_result"
    }
   ],
   "source": [
    "len(df_all)"
   ]
  },
  {
   "cell_type": "code",
   "execution_count": 4,
   "metadata": {},
   "outputs": [],
   "source": [
    "df_all['ChapterIndex'].fillna(0, inplace=True)"
   ]
  },
  {
   "cell_type": "code",
   "execution_count": 5,
   "metadata": {},
   "outputs": [
    {
     "data": {
      "text/plain": [
       "0    0.888159\n",
       "1    0.353749\n",
       "2    0.855796\n",
       "3    0.706213\n",
       "4    0.732386\n",
       "Name: Term_novelty, dtype: float64"
      ]
     },
     "execution_count": 5,
     "metadata": {},
     "output_type": "execute_result"
    }
   ],
   "source": [
    "df_all['Term_novelty'].head()"
   ]
  },
  {
   "cell_type": "code",
   "execution_count": 6,
   "metadata": {},
   "outputs": [],
   "source": [
    "df_all['Term_novelty_squared'] = np.square(df_all['Term_novelty'])\n",
    "df_all['Topic_novelty_squared'] = np.square(df_all['Topic_novelty'])"
   ]
  },
  {
   "cell_type": "code",
   "execution_count": 7,
   "metadata": {},
   "outputs": [
    {
     "data": {
      "text/plain": [
       "0    0.788826\n",
       "1    0.125138\n",
       "Name: Term_novelty_squared, dtype: float64"
      ]
     },
     "execution_count": 7,
     "metadata": {},
     "output_type": "execute_result"
    }
   ],
   "source": [
    "df_all['Term_novelty_squared'].head(2)"
   ]
  },
  {
   "cell_type": "markdown",
   "metadata": {},
   "source": [
    "### Logistic"
   ]
  },
  {
   "cell_type": "code",
   "execution_count": 8,
   "metadata": {},
   "outputs": [],
   "source": [
    "def run_logit(df, field):\n",
    "    df = df.replace([np.inf, -np.inf], np.nan)\n",
    "    df = df.dropna(how = 'any')\n",
    "    df['Intercept'] = 1.0\n",
    "    df['binary'] = df[field].apply(lambda x: 1 if x != 0.0 else 0)\n",
    "    logit_model = sm.Logit(df['binary'], df[['Chapters',\\\n",
    "        'Term_novelty', 'Topic_novelty', 'Term_novelty_squared', 'Topic_novelty_squared',\\\n",
    "        'Freq_relationship', 'Category_F_M',\\\n",
    "       'Category_Gen', 'Category_M_M', 'Category_Multi', 'Category_Other','Category_Unknown', \\\n",
    "       'ArchiveWarnings_underage', 'ArchiveWarnings_death',\\\n",
    "       'ArchiveWarnings_choose_no', 'ArchiveWarnings_no_apply',\\\n",
    "       'ArchiveWarnings_violence',\\\n",
    "       'ArchiveWarnings_noncon', 'author_fic_cnt', 'Rating_G',\\\n",
    "       'Rating_M', 'Rating_N', 'Rating_T',\\\n",
    "       'Fandom_dcu', 'Fandom_doctor_who', 'Fandom_star_wars',\n",
    "       'Fandom_arthurian', 'Fandom_supernatural', 'Fandom_haikyuu',\n",
    "       'Fandom_kuroko_no_basuke', 'Fandom_hamilton_miranda',\n",
    "       'Fandom_dragon_age', 'Fandom_the_walking_dead', 'Fandom_buffy',\n",
    "       'Fandom_les_miserables', 'Fandom_naruto', 'Fandom_tolkien',\n",
    "       'Fandom_shakespare', 'Fandom_hetalia', 'Fandom_attack_on_titan',\n",
    "       'Fandom_ms_paint_adventures', 'Fandom_homestuck', 'Fandom_marvel',\n",
    "       'Fandom_sailor_moon', 'Fandom_one_direction', 'Fandom_sherlock',\n",
    "       'History', 'Intercept']]).fit(method='bfgs')\n",
    "    pred = logit_model.predict()\n",
    "    df['nonzero_prob'] = pred\n",
    "    return df"
   ]
  },
  {
   "cell_type": "markdown",
   "metadata": {},
   "source": [
    "### OLS"
   ]
  },
  {
   "cell_type": "code",
   "execution_count": 9,
   "metadata": {},
   "outputs": [],
   "source": [
    "def run_ols(df, field):\n",
    "    df = run_logit(df, field)\n",
    "    df['Kudos'] = np.log(df['Kudos']+0.001)\n",
    "    df['Hits'] = np.log(df['Hits']+0.001)\n",
    "    df['Comments'] = np.log(df['Comments']+1)\n",
    "    df['Bookmarks'] = np.log(df['Bookmarks']+0.001)\n",
    "    df = df.replace([np.inf, -np.inf], np.nan)\n",
    "    df = df.dropna(how = 'any')\n",
    "    model = ols( field + \" ~ Term_novelty + Term_novelty_squared + Topic_novelty + Topic_novelty_squared\\\n",
    " + Chapters + Freq_relationship + author_fic_cnt + History\\\n",
    " + Category_Gen + Category_F_M + Category_M_M + Category_Multi + Category_Other + Category_Unknown \\\n",
    " + ArchiveWarnings_underage + ArchiveWarnings_death + ArchiveWarnings_violence +\\\n",
    " ArchiveWarnings_noncon + ArchiveWarnings_choose_no +\\\n",
    " ArchiveWarnings_no_apply + Rating_N + Rating_E + Rating_M + Rating_T\\\n",
    " + Fandom_dcu + Fandom_doctor_who + Fandom_star_wars + Fandom_arthurian + \\\n",
    " Fandom_supernatural + Fandom_haikyuu + Fandom_kuroko_no_basuke + Fandom_hamilton_miranda\\\n",
    " + Fandom_dragon_age + Fandom_the_walking_dead + Fandom_buffy + Fandom_les_miserables \\\n",
    " + Fandom_naruto + Fandom_tolkien + Fandom_shakespare + Fandom_hetalia + \\\n",
    " Fandom_attack_on_titan + Fandom_ms_paint_adventures + Fandom_homestuck +\\\n",
    " Fandom_marvel + Fandom_sailor_moon + Fandom_one_direction + Fandom_sherlock \\\n",
    " + nonzero_prob\", data = df).fit()\n",
    "    return model"
   ]
  },
  {
   "cell_type": "markdown",
   "metadata": {},
   "source": [
    "### Plot coefficients"
   ]
  },
  {
   "cell_type": "code",
   "execution_count": 98,
   "metadata": {},
   "outputs": [
    {
     "name": "stderr",
     "output_type": "stream",
     "text": [
      "/anaconda3/envs/python36/lib/python3.6/site-packages/statsmodels/discrete/discrete_model.py:1674: RuntimeWarning: overflow encountered in exp\n",
      "  return 1/(1+np.exp(-X))\n",
      "/anaconda3/envs/python36/lib/python3.6/site-packages/statsmodels/discrete/discrete_model.py:1724: RuntimeWarning: divide by zero encountered in log\n",
      "  return np.sum(np.log(self.cdf(q*np.dot(X,params))))\n",
      "/anaconda3/envs/python36/lib/python3.6/site-packages/statsmodels/discrete/discrete_model.py:1674: RuntimeWarning: overflow encountered in exp\n",
      "  return 1/(1+np.exp(-X))\n",
      "/anaconda3/envs/python36/lib/python3.6/site-packages/statsmodels/discrete/discrete_model.py:1724: RuntimeWarning: divide by zero encountered in log\n",
      "  return np.sum(np.log(self.cdf(q*np.dot(X,params))))\n",
      "/anaconda3/envs/python36/lib/python3.6/site-packages/statsmodels/discrete/discrete_model.py:1674: RuntimeWarning: overflow encountered in exp\n",
      "  return 1/(1+np.exp(-X))\n",
      "/anaconda3/envs/python36/lib/python3.6/site-packages/statsmodels/discrete/discrete_model.py:1724: RuntimeWarning: divide by zero encountered in log\n",
      "  return np.sum(np.log(self.cdf(q*np.dot(X,params))))\n",
      "/anaconda3/envs/python36/lib/python3.6/site-packages/statsmodels/discrete/discrete_model.py:1674: RuntimeWarning: overflow encountered in exp\n",
      "  return 1/(1+np.exp(-X))\n",
      "/anaconda3/envs/python36/lib/python3.6/site-packages/statsmodels/discrete/discrete_model.py:1724: RuntimeWarning: divide by zero encountered in log\n",
      "  return np.sum(np.log(self.cdf(q*np.dot(X,params))))\n",
      "/anaconda3/envs/python36/lib/python3.6/site-packages/statsmodels/discrete/discrete_model.py:1674: RuntimeWarning: overflow encountered in exp\n",
      "  return 1/(1+np.exp(-X))\n",
      "/anaconda3/envs/python36/lib/python3.6/site-packages/statsmodels/discrete/discrete_model.py:1724: RuntimeWarning: divide by zero encountered in log\n",
      "  return np.sum(np.log(self.cdf(q*np.dot(X,params))))\n",
      "/anaconda3/envs/python36/lib/python3.6/site-packages/statsmodels/discrete/discrete_model.py:1674: RuntimeWarning: overflow encountered in exp\n",
      "  return 1/(1+np.exp(-X))\n",
      "/anaconda3/envs/python36/lib/python3.6/site-packages/statsmodels/discrete/discrete_model.py:1724: RuntimeWarning: divide by zero encountered in log\n",
      "  return np.sum(np.log(self.cdf(q*np.dot(X,params))))\n"
     ]
    },
    {
     "name": "stdout",
     "output_type": "stream",
     "text": [
      "Warning: Maximum number of iterations has been exceeded.\n",
      "         Current function value: 0.077054\n",
      "         Iterations: 35\n",
      "         Function evaluations: 98\n",
      "         Gradient evaluations: 87\n"
     ]
    },
    {
     "name": "stderr",
     "output_type": "stream",
     "text": [
      "/anaconda3/envs/python36/lib/python3.6/site-packages/statsmodels/base/model.py:488: HessianInversionWarning: Inverting hessian failed, no bse or cov_params available\n",
      "  'available', HessianInversionWarning)\n",
      "/anaconda3/envs/python36/lib/python3.6/site-packages/statsmodels/base/model.py:508: ConvergenceWarning: Maximum Likelihood optimization failed to converge. Check mle_retvals\n",
      "  \"Check mle_retvals\", ConvergenceWarning)\n"
     ]
    }
   ],
   "source": [
    "kudos_model = run_ols(df_all, 'Kudos')\n",
    "kudos_coef = np.asarray(list(kudos_model.params)[1:-1])\n",
    "kudos_err = list(kudos_model.bse)[1:-1]"
   ]
  },
  {
   "cell_type": "code",
   "execution_count": 11,
   "metadata": {},
   "outputs": [],
   "source": [
    "ylabels =['Term novelty ','Term_novelty_squared', ' Topic novelty', 'Topic_novelty_squared', 'Chapters', \\\n",
    " 'Frequent relationship',' Author work count','Age',\\\n",
    " 'Category (Gen)','Category (F/M)',' Category (M/M) ',' Category (Multi)','Category (Other)','Category (Unknown)\\\n",
    " ','ArchiveWarnings (underage)','ArchiveWarnings (death)',' ArchiveWarnings (violence)','\\\n",
    " ArchiveWarnings (non-consensual)','ArchiveWarnings (choose not to use)','\\\n",
    " ArchiveWarnings (no warinigs apply)','Rating (Not rated)', 'Rating (Explicit)','Rating (Mature)',' Rating (Teens)\\\n",
    " ',' Fandom (DCU) ',' Fandom (Doctor Who) ',' Fandom (Star Wars) ',' Fandom (Arthurian Mythologies)',\\\n",
    "  'Fandom (Supernatural)','Fandom (Haikyuu)',' Fandom (Kuroko no Basuke)',' Fandom (Hamilton/Miranda)\\\n",
    " ',' Fandom (Dragon Age)',' Fandom (The Walking Dead)',' Fandom (Buffy the Vampire Slayer)','Fandom (Les Miserables)\\\n",
    " ',' Fandom (Naruto)','Fandom (Tolkien)',' Fandom (Shakespare)','Fandom (Axis Powers Hetalia)',' \\\n",
    " Fandom (Attack on Titan)',' Fandom (Ms Paint Adventures)',' Fandom (Homestuck)','\\\n",
    "Fandom (Marvel)',' Fandom (Sailor Moon)',' Fandom (One Direction)','Fandom (Sherlock)'][::-1]"
   ]
  },
  {
   "cell_type": "code",
   "execution_count": 109,
   "metadata": {},
   "outputs": [
    {
     "name": "stderr",
     "output_type": "stream",
     "text": [
      "/anaconda3/envs/python36/lib/python3.6/site-packages/statsmodels/discrete/discrete_model.py:1674: RuntimeWarning: overflow encountered in exp\n",
      "  return 1/(1+np.exp(-X))\n",
      "/anaconda3/envs/python36/lib/python3.6/site-packages/statsmodels/discrete/discrete_model.py:1724: RuntimeWarning: divide by zero encountered in log\n",
      "  return np.sum(np.log(self.cdf(q*np.dot(X,params))))\n",
      "/anaconda3/envs/python36/lib/python3.6/site-packages/statsmodels/discrete/discrete_model.py:1674: RuntimeWarning: overflow encountered in exp\n",
      "  return 1/(1+np.exp(-X))\n",
      "/anaconda3/envs/python36/lib/python3.6/site-packages/statsmodels/discrete/discrete_model.py:1724: RuntimeWarning: divide by zero encountered in log\n",
      "  return np.sum(np.log(self.cdf(q*np.dot(X,params))))\n",
      "/anaconda3/envs/python36/lib/python3.6/site-packages/statsmodels/discrete/discrete_model.py:1674: RuntimeWarning: overflow encountered in exp\n",
      "  return 1/(1+np.exp(-X))\n",
      "/anaconda3/envs/python36/lib/python3.6/site-packages/statsmodels/discrete/discrete_model.py:1724: RuntimeWarning: divide by zero encountered in log\n",
      "  return np.sum(np.log(self.cdf(q*np.dot(X,params))))\n",
      "/anaconda3/envs/python36/lib/python3.6/site-packages/statsmodels/discrete/discrete_model.py:1674: RuntimeWarning: overflow encountered in exp\n",
      "  return 1/(1+np.exp(-X))\n",
      "/anaconda3/envs/python36/lib/python3.6/site-packages/statsmodels/discrete/discrete_model.py:1724: RuntimeWarning: divide by zero encountered in log\n",
      "  return np.sum(np.log(self.cdf(q*np.dot(X,params))))\n"
     ]
    },
    {
     "name": "stdout",
     "output_type": "stream",
     "text": [
      "Warning: Maximum number of iterations has been exceeded.\n",
      "         Current function value: 0.089942\n",
      "         Iterations: 35\n",
      "         Function evaluations: 66\n",
      "         Gradient evaluations: 58\n"
     ]
    },
    {
     "name": "stderr",
     "output_type": "stream",
     "text": [
      "/anaconda3/envs/python36/lib/python3.6/site-packages/statsmodels/base/model.py:488: HessianInversionWarning: Inverting hessian failed, no bse or cov_params available\n",
      "  'available', HessianInversionWarning)\n",
      "/anaconda3/envs/python36/lib/python3.6/site-packages/statsmodels/base/model.py:508: ConvergenceWarning: Maximum Likelihood optimization failed to converge. Check mle_retvals\n",
      "  \"Check mle_retvals\", ConvergenceWarning)\n"
     ]
    }
   ],
   "source": [
    "hits_model = run_ols(df_all, 'Hits')\n",
    "hits_coef = list(hits_model.params)[1:-1]\n",
    "hits_err = list(hits_model.bse)[1:-1]"
   ]
  },
  {
   "cell_type": "code",
   "execution_count": 110,
   "metadata": {},
   "outputs": [
    {
     "name": "stderr",
     "output_type": "stream",
     "text": [
      "/anaconda3/envs/python36/lib/python3.6/site-packages/statsmodels/discrete/discrete_model.py:1674: RuntimeWarning: overflow encountered in exp\n",
      "  return 1/(1+np.exp(-X))\n",
      "/anaconda3/envs/python36/lib/python3.6/site-packages/statsmodels/discrete/discrete_model.py:1724: RuntimeWarning: divide by zero encountered in log\n",
      "  return np.sum(np.log(self.cdf(q*np.dot(X,params))))\n",
      "/anaconda3/envs/python36/lib/python3.6/site-packages/statsmodels/discrete/discrete_model.py:1674: RuntimeWarning: overflow encountered in exp\n",
      "  return 1/(1+np.exp(-X))\n",
      "/anaconda3/envs/python36/lib/python3.6/site-packages/statsmodels/discrete/discrete_model.py:1724: RuntimeWarning: divide by zero encountered in log\n",
      "  return np.sum(np.log(self.cdf(q*np.dot(X,params))))\n"
     ]
    },
    {
     "name": "stdout",
     "output_type": "stream",
     "text": [
      "Warning: Desired error not necessarily achieved due to precision loss.\n",
      "         Current function value: 0.693147\n",
      "         Iterations: 0\n",
      "         Function evaluations: 16\n",
      "         Gradient evaluations: 4\n"
     ]
    },
    {
     "name": "stderr",
     "output_type": "stream",
     "text": [
      "/anaconda3/envs/python36/lib/python3.6/site-packages/statsmodels/base/model.py:508: ConvergenceWarning: Maximum Likelihood optimization failed to converge. Check mle_retvals\n",
      "  \"Check mle_retvals\", ConvergenceWarning)\n"
     ]
    }
   ],
   "source": [
    "comments_model = run_ols(df_all, 'Comments')\n",
    "comments_coef = list(comments_model.params)[1:-1]\n",
    "comments_err = list(comments_model.bse)[1:-1]"
   ]
  },
  {
   "cell_type": "code",
   "execution_count": 111,
   "metadata": {},
   "outputs": [
    {
     "name": "stderr",
     "output_type": "stream",
     "text": [
      "/anaconda3/envs/python36/lib/python3.6/site-packages/statsmodels/discrete/discrete_model.py:1674: RuntimeWarning: overflow encountered in exp\n",
      "  return 1/(1+np.exp(-X))\n",
      "/anaconda3/envs/python36/lib/python3.6/site-packages/statsmodels/discrete/discrete_model.py:1724: RuntimeWarning: divide by zero encountered in log\n",
      "  return np.sum(np.log(self.cdf(q*np.dot(X,params))))\n",
      "/anaconda3/envs/python36/lib/python3.6/site-packages/statsmodels/discrete/discrete_model.py:1674: RuntimeWarning: overflow encountered in exp\n",
      "  return 1/(1+np.exp(-X))\n",
      "/anaconda3/envs/python36/lib/python3.6/site-packages/statsmodels/discrete/discrete_model.py:1724: RuntimeWarning: divide by zero encountered in log\n",
      "  return np.sum(np.log(self.cdf(q*np.dot(X,params))))\n"
     ]
    },
    {
     "name": "stdout",
     "output_type": "stream",
     "text": [
      "Warning: Maximum number of iterations has been exceeded.\n",
      "         Current function value: 0.423321\n",
      "         Iterations: 35\n",
      "         Function evaluations: 50\n",
      "         Gradient evaluations: 43\n"
     ]
    },
    {
     "name": "stderr",
     "output_type": "stream",
     "text": [
      "/anaconda3/envs/python36/lib/python3.6/site-packages/statsmodels/base/model.py:488: HessianInversionWarning: Inverting hessian failed, no bse or cov_params available\n",
      "  'available', HessianInversionWarning)\n",
      "/anaconda3/envs/python36/lib/python3.6/site-packages/statsmodels/base/model.py:508: ConvergenceWarning: Maximum Likelihood optimization failed to converge. Check mle_retvals\n",
      "  \"Check mle_retvals\", ConvergenceWarning)\n"
     ]
    }
   ],
   "source": [
    "bookmarks_model = run_ols(df_all, 'Bookmarks')\n",
    "bookmarks_coef = list(bookmarks_model.params)[1:-1]\n",
    "bookmarks_err = list(bookmarks_model.bse)[1:-1]"
   ]
  },
  {
   "cell_type": "code",
   "execution_count": 122,
   "metadata": {},
   "outputs": [
    {
     "data": {
      "image/png": "[encoded data removed]",
      "text/plain": [
       "<Figure size 1080x360 with 4 Axes>"
      ]
     },
     "metadata": {},
     "output_type": "display_data"
    }
   ],
   "source": [
    "fig, ax = plt.subplots(1,4,figsize = (15,15))\n",
    "ax[0].errorbar(kudos_coef[::-1], range(len(kudos_coef)), xerr=kudos_err[::-1] , fmt='o')\n",
    "ax[0].set_yticks(range(len(kudos_coef)))\n",
    "ax[0].set_yticklabels(ylabels)\n",
    "ax[0].plot([0 for i in range(len(kudos_coef)+2)], range(-1,len(kudos_coef)+1), c='grey', alpha = 0.7)\n",
    "ax[0].plot(range(-8,3), [22.5 for i in range(-8,3)] ,c='grey', alpha = 0.7)\n",
    "ax[0].plot(range(-8,3), [26.5 for i in range(-8,3)] ,c='grey', alpha = 0.7)\n",
    "ax[0].plot(range(-8,3), [32.5 for i in range(-8,3)] ,c='grey', alpha = 0.7)\n",
    "ax[0].plot(range(-8,3), [38.5 for i in range(-8,3)] ,c='grey', alpha = 0.7)\n",
    "ax[0].plot(range(-8,3), [42.5 for i in range(-8,3)] ,c='grey', alpha = 0.7)\n",
    "ax[0].set_ylim(-0.5,46.5)\n",
    "ax[0].set_xlim(-4,1.5)\n",
    "ax[0].set_xlabel('Kudos', fontsize=15)\n",
    "ax[0].set_title('R-squared = 0.260')\n",
    "for tick in ax[0].yaxis.get_major_ticks():\n",
    "    tick.label.set_fontsize(13)\n",
    "\n",
    "ax[1].errorbar(hits_coef[::-1], range(len(hits_err)), xerr=hits_err[::-1], fmt='o')\n",
    "ax[1].set_yticks(range(len(hits_coef)))\n",
    "# ax[1].set_yticklabels(ylabels)\n",
    "ax[1].plot([0 for i in range(len(hits_coef)+2)], range(-1,len(hits_coef)+1), c='grey', alpha = 0.7)\n",
    "ax[1].plot(range(-8,3), [22.5 for i in range(-8,3)] ,c='grey', alpha = 0.7)\n",
    "ax[1].plot(range(-8,3), [26.5 for i in range(-8,3)] ,c='grey', alpha = 0.7)\n",
    "ax[1].plot(range(-8,3), [32.5 for i in range(-8,3)] ,c='grey', alpha = 0.7)\n",
    "ax[1].plot(range(-8,3), [38.5 for i in range(-8,3)] ,c='grey', alpha = 0.7)\n",
    "ax[1].plot(range(-8,3), [42.5 for i in range(-8,3)] ,c='grey', alpha = 0.7)\n",
    "ax[1].set_ylim(-0.5,46.5)\n",
    "ax[1].set_xlim(-5,2)\n",
    "ax[1].set_yticklabels([])\n",
    "ax[1].set_title('R-squared = 0.154')\n",
    "ax[1].set_xlabel('Hits', fontsize=15)\n",
    "\n",
    "ax[2].errorbar(comments_coef[::-1], range(len(comments_err)), xerr=comments_err[::-1], fmt='o')\n",
    "ax[2].set_yticks(range(len(comments_coef)))\n",
    "ax[2].plot([0 for i in range(len(comments_coef)+2)], range(-1,len(comments_coef)+1), c='grey', alpha = 0.7)\n",
    "ax[2].plot(range(-8,5), [22.5 for i in range(-8,5)] ,c='grey', alpha = 0.7)\n",
    "ax[2].plot(range(-8,5), [26.5 for i in range(-8,5)] ,c='grey', alpha = 0.7)\n",
    "ax[2].plot(range(-8,5), [32.5 for i in range(-8,5)] ,c='grey', alpha = 0.7)\n",
    "ax[2].plot(range(-8,5), [38.5 for i in range(-8,5)] ,c='grey', alpha = 0.7)\n",
    "ax[2].plot(range(-8,5), [42.5 for i in range(-8,5)] ,c='grey', alpha = 0.7)\n",
    "ax[2].set_ylim(-0.5,46.5)\n",
    "ax[2].set_xlim(-5,4)\n",
    "ax[2].set_yticklabels([])\n",
    "ax[2].set_title('R-squared = 0.113')\n",
    "ax[2].set_xlabel('Comments', fontsize=15)\n",
    "\n",
    "\n",
    "ax[3].errorbar(bookmarks_coef[::-1], range(len(bookmarks_err)), xerr=bookmarks_err[::-1], fmt='o')\n",
    "ax[3].set_yticks(range(len(bookmarks_coef)))\n",
    "ax[3].plot([0 for i in range(len(bookmarks_coef)+2)], range(-1,len(bookmarks_coef)+1), c='grey', alpha = 0.7)\n",
    "ax[3].plot(range(-8,4), [22.5 for i in range(-8,4)] ,c='grey', alpha = 0.7)\n",
    "ax[3].plot(range(-8,4), [26.5 for i in range(-8,4)] ,c='grey', alpha = 0.7)\n",
    "ax[3].plot(range(-8,4), [32.5 for i in range(-8,4)] ,c='grey', alpha = 0.7)\n",
    "ax[3].plot(range(-8,4), [38.5 for i in range(-8,4)] ,c='grey', alpha = 0.7)\n",
    "ax[3].plot(range(-8,4), [42.5 for i in range(-8,4)] ,c='grey', alpha = 0.7)\n",
    "ax[3].set_ylim(-0.5,46.5)\n",
    "ax[3].set_xlim(-8,3)\n",
    "ax[3].set_yticklabels([])\n",
    "ax[3].set_title('R-squared = 0.238')\n",
    "ax[3].set_xlabel('Bookmarks', fontsize=15)\n",
    "\n",
    "plt.tight_layout()\n",
    "plt.savefig('ols_coefs_full.pdf', format='pdf')"
   ]
  },
  {
   "cell_type": "code",
   "execution_count": 133,
   "metadata": {},
   "outputs": [
    {
     "data": {
      "image/png": "[encoded data removed]",
      "text/plain": [
       "<Figure size 1080x360 with 4 Axes>"
      ]
     },
     "metadata": {},
     "output_type": "display_data"
    }
   ],
   "source": [
    "fig, ax = plt.subplots(1,4,figsize = (15,5))\n",
    "ax[0].errorbar(kudos_coef[::-1], range(len(kudos_coef)), xerr=kudos_err[::-1] , fmt='o')\n",
    "ax[0].set_yticks(range(len(kudos_coef)))\n",
    "ax[0].set_yticklabels(ylabels)\n",
    "ax[0].plot([0 for i in range(len(kudos_coef)+2)], range(-1,len(kudos_coef)+1), c='grey', alpha = 0.7)\n",
    "ax[0].plot(range(-8,3), [22.5 for i in range(-8,3)] ,c='grey', alpha = 0.7)\n",
    "ax[0].plot(range(-8,3), [26.5 for i in range(-8,3)] ,c='grey', alpha = 0.7)\n",
    "ax[0].plot(range(-8,3), [32.5 for i in range(-8,3)] ,c='grey', alpha = 0.7)\n",
    "ax[0].plot(range(-8,3), [38.5 for i in range(-8,3)] ,c='grey', alpha = 0.7)\n",
    "ax[0].plot(range(-8,3), [42.5 for i in range(-8,3)] ,c='grey', alpha = 0.7)\n",
    "ax[0].set_ylim(38.5,46.5)\n",
    "ax[0].set_xlim(-4,1.5)\n",
    "ax[0].set_xlabel('Kudos', fontsize=15)\n",
    "ax[0].set_title('R-squared = 0.260')\n",
    "for tick in ax[0].yaxis.get_major_ticks():\n",
    "    tick.label.set_fontsize(15)\n",
    "\n",
    "ax[1].errorbar(hits_coef[::-1], range(len(hits_err)), xerr=hits_err[::-1], fmt='o')\n",
    "ax[1].set_yticks(range(len(hits_coef)))\n",
    "# ax[1].set_yticklabels(ylabels)\n",
    "ax[1].plot([0 for i in range(len(hits_coef)+2)], range(-1,len(hits_coef)+1), c='grey', alpha = 0.7)\n",
    "ax[1].plot(range(-8,4), [22.5 for i in range(-8,4)] ,c='grey', alpha = 0.7)\n",
    "ax[1].plot(range(-8,4), [26.5 for i in range(-8,4)] ,c='grey', alpha = 0.7)\n",
    "ax[1].plot(range(-8,4), [32.5 for i in range(-8,4)] ,c='grey', alpha = 0.7)\n",
    "ax[1].plot(range(-8,4), [38.5 for i in range(-8,4)] ,c='grey', alpha = 0.7)\n",
    "ax[1].plot(range(-8,4), [42.5 for i in range(-8,4)] ,c='grey', alpha = 0.7)\n",
    "ax[1].set_ylim(38.5,46.5)\n",
    "ax[1].set_xlim(-5,3)\n",
    "ax[1].set_yticklabels([])\n",
    "ax[1].set_title('R-squared = 0.154')\n",
    "ax[1].set_xlabel('Hits', fontsize=15)\n",
    "\n",
    "ax[2].errorbar(comments_coef[::-1], range(len(comments_err)), xerr=comments_err[::-1], fmt='o')\n",
    "ax[2].set_yticks(range(len(comments_coef)))\n",
    "ax[2].plot([0 for i in range(len(comments_coef)+2)], range(-1,len(comments_coef)+1), c='grey', alpha = 0.7)\n",
    "ax[2].plot(range(-8,5), [22.5 for i in range(-8,5)] ,c='grey', alpha = 0.7)\n",
    "ax[2].plot(range(-8,5), [26.5 for i in range(-8,5)] ,c='grey', alpha = 0.7)\n",
    "ax[2].plot(range(-8,5), [32.5 for i in range(-8,5)] ,c='grey', alpha = 0.7)\n",
    "ax[2].plot(range(-8,5), [38.5 for i in range(-8,5)] ,c='grey', alpha = 0.7)\n",
    "ax[2].plot(range(-8,5), [42.5 for i in range(-8,5)] ,c='grey', alpha = 0.7)\n",
    "ax[2].set_ylim(38.5,46.5)\n",
    "ax[2].set_xlim(-5,4)\n",
    "ax[2].set_yticklabels([])\n",
    "ax[2].set_title('R-squared = 0.113')\n",
    "ax[2].set_xlabel('Comments', fontsize=15)\n",
    "\n",
    "\n",
    "ax[3].errorbar(bookmarks_coef[::-1], range(len(bookmarks_err)), xerr=bookmarks_err[::-1], fmt='o')\n",
    "ax[3].set_yticks(range(len(bookmarks_coef)))\n",
    "ax[3].plot([0 for i in range(len(bookmarks_coef)+2)], range(-1,len(bookmarks_coef)+1), c='grey', alpha = 0.7)\n",
    "ax[3].plot(range(-9,5), [22.5 for i in range(-9,5)] ,c='grey', alpha = 0.7)\n",
    "ax[3].plot(range(-9,5), [26.5 for i in range(-9,5)] ,c='grey', alpha = 0.7)\n",
    "ax[3].plot(range(-9,5), [32.5 for i in range(-9,5)] ,c='grey', alpha = 0.7)\n",
    "ax[3].plot(range(-9,5), [38.5 for i in range(-9,5)] ,c='grey', alpha = 0.7)\n",
    "ax[3].plot(range(-9,5), [42.5 for i in range(-9,5)] ,c='grey', alpha = 0.7)\n",
    "ax[3].set_ylim(38.5,46.5)\n",
    "ax[3].set_xlim(-9,4)\n",
    "ax[3].set_yticklabels([])\n",
    "ax[3].set_title('R-squared = 0.238')\n",
    "ax[3].set_xlabel('Bookmarks', fontsize=15)\n",
    "\n",
    "plt.tight_layout()\n",
    "plt.savefig('ols_coefs_partial.pdf', format='pdf')"
   ]
  },
  {
   "cell_type": "code",
   "execution_count": 106,
   "metadata": {},
   "outputs": [
    {
     "name": "stdout",
     "output_type": "stream",
     "text": [
      "                            OLS Regression Results                            \n",
      "==============================================================================\n",
      "Dep. Variable:                  Kudos   R-squared:                       0.229\n",
      "Model:                            OLS   Adj. R-squared:                  0.229\n",
      "Method:                 Least Squares   F-statistic:                     4419.\n",
      "Date:                Mon, 20 Aug 2018   Prob (F-statistic):               0.00\n",
      "Time:                        13:19:28   Log-Likelihood:            -1.3788e+06\n",
      "No. Observations:              697934   AIC:                         2.758e+06\n",
      "Df Residuals:                  697886   BIC:                         2.758e+06\n",
      "Df Model:                          47                                         \n",
      "Covariance Type:            nonrobust                                         \n",
      "==============================================================================================\n",
      "                                 coef    std err          t      P>|t|      [0.025      0.975]\n",
      "----------------------------------------------------------------------------------------------\n",
      "Intercept                      2.5016      0.286      8.736      0.000       1.940       3.063\n",
      "Term_novelty                   0.0876      0.046      1.898      0.058      -0.003       0.178\n",
      "Term_novelty_squared          -0.7234      0.042    -17.292      0.000      -0.805      -0.641\n",
      "Topic_novelty                 -3.2519      0.754     -4.312      0.000      -4.730      -1.774\n",
      "Topic_novelty_squared          0.7138      0.656      1.088      0.277      -0.572       2.000\n",
      "Chapters                      -0.0096   6.35e-05   -151.555      0.000      -0.010      -0.010\n",
      "Freq_relationship              0.5007      0.006     89.615      0.000       0.490       0.512\n",
      "author_fic_cnt             -3.441e-06   1.75e-06     -1.967      0.049   -6.87e-06   -1.21e-08\n",
      "History                     9.658e-05   4.03e-06     23.958      0.000    8.87e-05       0.000\n",
      "Category_Gen                  -0.2905      0.006    -48.412      0.000      -0.302      -0.279\n",
      "Category_F_M                  -0.3826      0.005    -70.804      0.000      -0.393      -0.372\n",
      "Category_M_M                   0.3618      0.007     53.730      0.000       0.349       0.375\n",
      "Category_Multi                -0.3104      0.008    -41.180      0.000      -0.325      -0.296\n",
      "Category_Other                -0.4543      0.012    -38.467      0.000      -0.477      -0.431\n",
      "Category_Unknown              -0.9312      0.012    -77.418      0.000      -0.955      -0.908\n",
      "ArchiveWarnings_underage       0.1860      0.012     14.883      0.000       0.162       0.211\n",
      "ArchiveWarnings_death         -0.3802      0.009    -41.417      0.000      -0.398      -0.362\n",
      "ArchiveWarnings_violence      -0.4546      0.009    -52.828      0.000      -0.471      -0.438\n",
      "ArchiveWarnings_noncon         0.0883      0.011      7.701      0.000       0.066       0.111\n",
      "ArchiveWarnings_choose_no     -0.1186      0.008    -15.213      0.000      -0.134      -0.103\n",
      "ArchiveWarnings_no_apply       0.2557      0.008     30.362      0.000       0.239       0.272\n",
      "Rating_N                      -0.2953      0.008    -35.790      0.000      -0.312      -0.279\n",
      "Rating_E                       0.0242      0.008      3.121      0.002       0.009       0.039\n",
      "Rating_M                      -0.3413      0.007    -47.036      0.000      -0.355      -0.327\n",
      "Rating_T                      -0.3566      0.006    -58.807      0.000      -0.368      -0.345\n",
      "Fandom_dcu                    -0.4186      0.006    -75.168      0.000      -0.430      -0.408\n",
      "Fandom_doctor_who             -0.4186      0.006    -75.168      0.000      -0.430      -0.408\n",
      "Fandom_star_wars               0.3566      0.015     23.924      0.000       0.327       0.386\n",
      "Fandom_arthurian              -0.0582      0.015     -3.801      0.000      -0.088      -0.028\n",
      "Fandom_supernatural           -0.2473      0.008    -29.577      0.000      -0.264      -0.231\n",
      "Fandom_haikyuu                 0.6636      0.017     38.734      0.000       0.630       0.697\n",
      "Fandom_kuroko_no_basuke        0.4638      0.020     22.843      0.000       0.424       0.504\n",
      "Fandom_hamilton_miranda        0.4527      0.039     11.705      0.000       0.377       0.528\n",
      "Fandom_dragon_age             -0.0830      0.011     -7.508      0.000      -0.105      -0.061\n",
      "Fandom_the_walking_dead        0.0806      0.018      4.468      0.000       0.045       0.116\n",
      "Fandom_buffy                  -1.0979      0.017    -65.684      0.000      -1.131      -1.065\n",
      "Fandom_les_miserables          0.0435      0.020      2.146      0.032       0.004       0.083\n",
      "Fandom_naruto                 -0.4378      0.020    -22.412      0.000      -0.476      -0.400\n",
      "Fandom_tolkien                -0.2089      0.012    -17.410      0.000      -0.232      -0.185\n",
      "Fandom_shakespare             -0.7597      0.068    -11.119      0.000      -0.894      -0.626\n",
      "Fandom_hetalia                -0.5215      0.016    -32.924      0.000      -0.553      -0.490\n",
      "Fandom_attack_on_titan         0.1789      0.014     13.221      0.000       0.152       0.205\n",
      "Fandom_ms_paint_adventures     0.3045      0.011     26.489      0.000       0.282       0.327\n",
      "Fandom_homestuck               0.3268      0.011     29.656      0.000       0.305       0.348\n",
      "Fandom_marvel                  0.7203      0.008     92.463      0.000       0.705       0.736\n",
      "Fandom_sailor_moon            -1.8997      0.044    -42.764      0.000      -1.987      -1.813\n",
      "Fandom_one_direction          -0.6326      0.016    -38.879      0.000      -0.664      -0.601\n",
      "Fandom_sherlock                0.0144      0.009      1.636      0.102      -0.003       0.032\n",
      "nonzero_prob                   1.4439      0.198      7.309      0.000       1.057       1.831\n",
      "==============================================================================\n",
      "Omnibus:                   252872.971   Durbin-Watson:                   1.288\n",
      "Prob(Omnibus):                  0.000   Jarque-Bera (JB):          1477658.087\n",
      "Skew:                          -1.636   Prob(JB):                         0.00\n",
      "Kurtosis:                       9.333   Cond. No.                     9.85e+15\n",
      "==============================================================================\n",
      "\n",
      "Warnings:\n",
      "[1] Standard Errors assume that the covariance matrix of the errors is correctly specified.\n",
      "[2] The smallest eigenvalue is 1.78e-20. This might indicate that there are\n",
      "strong multicollinearity problems or that the design matrix is singular.\n"
     ]
    }
   ],
   "source": [
    "print(kudos_model.summary())"
   ]
  },
  {
   "cell_type": "code",
   "execution_count": 18,
   "metadata": {},
   "outputs": [
    {
     "name": "stdout",
     "output_type": "stream",
     "text": [
      "                            OLS Regression Results                            \n",
      "==============================================================================\n",
      "Dep. Variable:                   Hits   R-squared:                       0.118\n",
      "Model:                            OLS   Adj. R-squared:                  0.117\n",
      "Method:                 Least Squares   F-statistic:                     1978.\n",
      "Date:                Sun, 19 Aug 2018   Prob (F-statistic):               0.00\n",
      "Time:                        16:55:11   Log-Likelihood:            -1.4988e+06\n",
      "No. Observations:              697934   AIC:                         2.998e+06\n",
      "Df Residuals:                  697886   BIC:                         2.998e+06\n",
      "Df Model:                          47                                         \n",
      "Covariance Type:            nonrobust                                         \n",
      "==============================================================================================\n",
      "                                 coef    std err          t      P>|t|      [0.025      0.975]\n",
      "----------------------------------------------------------------------------------------------\n",
      "Intercept                     -4.8511      0.697     -6.963      0.000      -6.217      -3.486\n",
      "Term_novelty                  -0.0461      0.055     -0.841      0.401      -0.154       0.061\n",
      "Term_novelty_squared          -0.3791      0.050     -7.619      0.000      -0.477      -0.282\n",
      "Topic_novelty                 -3.8678      0.897     -4.310      0.000      -5.627      -2.109\n",
      "Topic_novelty_squared          1.5702      0.780      2.014      0.044       0.042       3.098\n",
      "Chapters                      -0.0077    7.5e-05   -102.841      0.000      -0.008      -0.008\n",
      "Freq_relationship              0.4258      0.006     67.915      0.000       0.413       0.438\n",
      "author_fic_cnt              1.007e-05   2.48e-06      4.063      0.000    5.21e-06    1.49e-05\n",
      "History                        0.0004   8.18e-06     49.154      0.000       0.000       0.000\n",
      "Category_Gen                  -0.3363      0.008    -44.699      0.000      -0.351      -0.322\n",
      "Category_F_M                  -0.2479      0.006    -39.362      0.000      -0.260      -0.236\n",
      "Category_M_M                   0.2319      0.007     33.090      0.000       0.218       0.246\n",
      "Category_Multi                -0.1756      0.010    -18.306      0.000      -0.194      -0.157\n",
      "Category_Other                -0.3232      0.014    -23.046      0.000      -0.351      -0.296\n",
      "Category_Unknown              -0.7121      0.014    -52.384      0.000      -0.739      -0.685\n",
      "ArchiveWarnings_underage       0.2556      0.015     17.179      0.000       0.226       0.285\n",
      "ArchiveWarnings_death         -0.2960      0.011    -26.204      0.000      -0.318      -0.274\n",
      "ArchiveWarnings_violence      -0.4030      0.012    -32.646      0.000      -0.427      -0.379\n",
      "ArchiveWarnings_noncon         0.2847      0.014     20.693      0.000       0.258       0.312\n",
      "ArchiveWarnings_choose_no     -0.0726      0.012     -5.914      0.000      -0.097      -0.049\n",
      "ArchiveWarnings_no_apply       0.1637      0.010     15.671      0.000       0.143       0.184\n",
      "Rating_N                      -0.3065      0.010    -30.859      0.000      -0.326      -0.287\n",
      "Rating_E                       0.2822      0.012     23.279      0.000       0.258       0.306\n",
      "Rating_M                      -0.2718      0.009    -31.243      0.000      -0.289      -0.255\n",
      "Rating_T                      -0.2170      0.008    -28.679      0.000      -0.232      -0.202\n",
      "Fandom_dcu                    -0.3845      0.007    -57.896      0.000      -0.398      -0.372\n",
      "Fandom_doctor_who             -0.3845      0.007    -57.896      0.000      -0.398      -0.372\n",
      "Fandom_star_wars               0.1513      0.018      8.468      0.000       0.116       0.186\n",
      "Fandom_arthurian               0.0651      0.018      3.561      0.000       0.029       0.101\n",
      "Fandom_supernatural           -0.3585      0.010    -34.330      0.000      -0.379      -0.338\n",
      "Fandom_haikyuu                 0.0781      0.020      3.829      0.000       0.038       0.118\n",
      "Fandom_kuroko_no_basuke       -0.0429      0.024     -1.778      0.075      -0.090       0.004\n",
      "Fandom_hamilton_miranda       -0.0054      0.046     -0.117      0.907      -0.095       0.085\n",
      "Fandom_dragon_age             -0.4729      0.013    -36.062      0.000      -0.499      -0.447\n",
      "Fandom_the_walking_dead       -0.2065      0.021     -9.636      0.000      -0.248      -0.164\n",
      "Fandom_buffy                  -0.8167      0.020    -41.163      0.000      -0.856      -0.778\n",
      "Fandom_les_miserables         -0.0718      0.024     -2.973      0.003      -0.119      -0.024\n",
      "Fandom_naruto                 -0.5170      0.023    -22.284      0.000      -0.562      -0.472\n",
      "Fandom_tolkien                -0.1529      0.014    -10.782      0.000      -0.181      -0.125\n",
      "Fandom_shakespare             -0.7291      0.081     -8.987      0.000      -0.888      -0.570\n",
      "Fandom_hetalia                -0.7405      0.019    -39.312      0.000      -0.777      -0.704\n",
      "Fandom_attack_on_titan        -0.0942      0.016     -5.741      0.000      -0.126      -0.062\n",
      "Fandom_ms_paint_adventures    -0.0660      0.014     -4.679      0.000      -0.094      -0.038\n",
      "Fandom_homestuck              -0.0436      0.014     -3.195      0.001      -0.070      -0.017\n",
      "Fandom_marvel                  0.5265      0.009     58.557      0.000       0.509       0.544\n",
      "Fandom_sailor_moon            -1.4671      0.053    -27.809      0.000      -1.570      -1.364\n",
      "Fandom_one_direction          -0.2366      0.019    -12.191      0.000      -0.275      -0.199\n",
      "Fandom_sherlock                0.0275      0.012      2.315      0.021       0.004       0.051\n",
      "nonzero_prob                  11.6990      0.685     17.090      0.000      10.357      13.041\n",
      "==============================================================================\n",
      "Omnibus:                   526282.332   Durbin-Watson:                   1.358\n",
      "Prob(Omnibus):                  0.000   Jarque-Bera (JB):         11290101.341\n",
      "Skew:                          -3.503   Prob(JB):                         0.00\n",
      "Kurtosis:                      21.416   Cond. No.                     9.85e+15\n",
      "==============================================================================\n",
      "\n",
      "Warnings:\n",
      "[1] Standard Errors assume that the covariance matrix of the errors is correctly specified.\n",
      "[2] The smallest eigenvalue is 1.78e-20. This might indicate that there are\n",
      "strong multicollinearity problems or that the design matrix is singular.\n"
     ]
    }
   ],
   "source": [
    "print(hits_model.summary())"
   ]
  },
  {
   "cell_type": "code",
   "execution_count": 19,
   "metadata": {},
   "outputs": [
    {
     "name": "stdout",
     "output_type": "stream",
     "text": [
      "                            OLS Regression Results                            \n",
      "==============================================================================\n",
      "Dep. Variable:               Comments   R-squared:                       0.114\n",
      "Model:                            OLS   Adj. R-squared:                  0.114\n",
      "Method:                 Least Squares   F-statistic:                     1947.\n",
      "Date:                Sun, 19 Aug 2018   Prob (F-statistic):               0.00\n",
      "Time:                        16:55:12   Log-Likelihood:            -9.2362e+05\n",
      "No. Observations:              697934   AIC:                         1.847e+06\n",
      "Df Residuals:                  697887   BIC:                         1.848e+06\n",
      "Df Model:                          46                                         \n",
      "Covariance Type:            nonrobust                                         \n",
      "==============================================================================================\n",
      "                                 coef    std err          t      P>|t|      [0.025      0.975]\n",
      "----------------------------------------------------------------------------------------------\n",
      "Intercept                      2.0338      0.090     22.531      0.000       1.857       2.211\n",
      "Term_novelty                  -0.4958      0.024    -20.610      0.000      -0.543      -0.449\n",
      "Term_novelty_squared           0.2434      0.022     11.173      0.000       0.201       0.286\n",
      "Topic_novelty                 -4.2690      0.393    -10.867      0.000      -5.039      -3.499\n",
      "Topic_novelty_squared          2.9124      0.342      8.522      0.000       2.243       3.582\n",
      "Chapters                       0.0004   3.24e-05     12.015      0.000       0.000       0.000\n",
      "Freq_relationship              0.2010      0.003     76.425      0.000       0.196       0.206\n",
      "author_fic_cnt             -2.116e-06   9.11e-07     -2.323      0.020    -3.9e-06    -3.3e-07\n",
      "History                    -9.843e-05   2.03e-06    -48.503      0.000      -0.000   -9.45e-05\n",
      "Category_Gen                  -0.0052      0.003     -1.679      0.093      -0.011       0.001\n",
      "Category_F_M                  -0.1169      0.003    -43.986      0.000      -0.122      -0.112\n",
      "Category_M_M                   0.1399      0.003     48.768      0.000       0.134       0.146\n",
      "Category_Multi                -0.0708      0.004    -18.032      0.000      -0.078      -0.063\n",
      "Category_Other                -0.1257      0.006    -20.447      0.000      -0.138      -0.114\n",
      "Category_Unknown              -0.1712      0.006    -30.790      0.000      -0.182      -0.160\n",
      "ArchiveWarnings_underage      -0.0007      0.007     -0.111      0.911      -0.013       0.012\n",
      "ArchiveWarnings_death         -0.1368      0.005    -28.642      0.000      -0.146      -0.127\n",
      "ArchiveWarnings_violence      -0.1293      0.004    -28.878      0.000      -0.138      -0.121\n",
      "ArchiveWarnings_noncon         0.0266      0.006      4.459      0.000       0.015       0.038\n",
      "ArchiveWarnings_choose_no     -0.0890      0.004    -22.237      0.000      -0.097      -0.081\n",
      "ArchiveWarnings_no_apply       0.0371      0.004      9.015      0.000       0.029       0.045\n",
      "Rating_N                      -0.0866      0.004    -20.149      0.000      -0.095      -0.078\n",
      "Rating_E                       0.1250      0.004     31.008      0.000       0.117       0.133\n",
      "Rating_M                      -0.0036      0.004     -0.974      0.330      -0.011       0.004\n",
      "Rating_T                      -0.0657      0.003    -21.108      0.000      -0.072      -0.060\n",
      "Fandom_dcu                    -0.0934      0.003    -32.763      0.000      -0.099      -0.088\n",
      "Fandom_doctor_who             -0.0934      0.003    -32.763      0.000      -0.099      -0.088\n",
      "Fandom_star_wars               0.2292      0.008     29.514      0.000       0.214       0.244\n",
      "Fandom_arthurian               0.0198      0.008      2.485      0.013       0.004       0.035\n",
      "Fandom_supernatural           -0.0881      0.004    -20.237      0.000      -0.097      -0.080\n",
      "Fandom_haikyuu                 0.2157      0.009     24.165      0.000       0.198       0.233\n",
      "Fandom_kuroko_no_basuke        0.0298      0.011      2.820      0.005       0.009       0.051\n",
      "Fandom_hamilton_miranda        0.4834      0.020     23.996      0.000       0.444       0.523\n",
      "Fandom_dragon_age              0.0045      0.006      0.780      0.436      -0.007       0.016\n",
      "Fandom_the_walking_dead        0.2170      0.009     23.098      0.000       0.199       0.235\n",
      "Fandom_buffy                  -0.2568      0.009    -29.518      0.000      -0.274      -0.240\n",
      "Fandom_les_miserables          0.0092      0.011      0.869      0.385      -0.012       0.030\n",
      "Fandom_naruto                 -0.2005      0.010    -19.702      0.000      -0.220      -0.181\n",
      "Fandom_tolkien                 0.2841      0.006     45.929      0.000       0.272       0.296\n",
      "Fandom_shakespare             -0.1219      0.036     -3.425      0.001      -0.192      -0.052\n",
      "Fandom_hetalia                -0.3433      0.008    -41.612      0.000      -0.359      -0.327\n",
      "Fandom_attack_on_titan         0.0698      0.007      9.899      0.000       0.056       0.084\n",
      "Fandom_ms_paint_adventures     0.0789      0.006     13.177      0.000       0.067       0.091\n",
      "Fandom_homestuck               0.0939      0.006     16.369      0.000       0.083       0.105\n",
      "Fandom_marvel                  0.4413      0.004    111.910      0.000       0.434       0.449\n",
      "Fandom_sailor_moon            -0.4752      0.023    -20.537      0.000      -0.521      -0.430\n",
      "Fandom_one_direction          -0.1926      0.008    -22.728      0.000      -0.209      -0.176\n",
      "Fandom_sherlock                0.2012      0.005     43.921      0.000       0.192       0.210\n",
      "nonzero_prob                   1.0169      0.045     22.531      0.000       0.928       1.105\n",
      "==============================================================================\n",
      "Omnibus:                    47014.458   Durbin-Watson:                   1.620\n",
      "Prob(Omnibus):                  0.000   Jarque-Bera (JB):            56047.841\n",
      "Skew:                           0.685   Prob(JB):                         0.00\n",
      "Kurtosis:                       2.773   Cond. No.                     9.85e+15\n",
      "==============================================================================\n",
      "\n",
      "Warnings:\n",
      "[1] Standard Errors assume that the covariance matrix of the errors is correctly specified.\n",
      "[2] The smallest eigenvalue is 1.78e-20. This might indicate that there are\n",
      "strong multicollinearity problems or that the design matrix is singular.\n"
     ]
    }
   ],
   "source": [
    "print(comments_model.summary())"
   ]
  },
  {
   "cell_type": "code",
   "execution_count": 20,
   "metadata": {},
   "outputs": [
    {
     "name": "stdout",
     "output_type": "stream",
     "text": [
      "                            OLS Regression Results                            \n",
      "==============================================================================\n",
      "Dep. Variable:              Bookmarks   R-squared:                       0.153\n",
      "Model:                            OLS   Adj. R-squared:                  0.153\n",
      "Method:                 Least Squares   F-statistic:                     2680.\n",
      "Date:                Sun, 19 Aug 2018   Prob (F-statistic):               0.00\n",
      "Time:                        16:55:12   Log-Likelihood:            -1.7160e+06\n",
      "No. Observations:              697934   AIC:                         3.432e+06\n",
      "Df Residuals:                  697886   BIC:                         3.433e+06\n",
      "Df Model:                          47                                         \n",
      "Covariance Type:            nonrobust                                         \n",
      "==============================================================================================\n",
      "                                 coef    std err          t      P>|t|      [0.025      0.975]\n",
      "----------------------------------------------------------------------------------------------\n",
      "Intercept                      0.5334      0.352      1.513      0.130      -0.157       1.224\n",
      "Term_novelty                  -0.4913      0.075     -6.562      0.000      -0.638      -0.345\n",
      "Term_novelty_squared          -0.2106      0.068     -3.104      0.002      -0.344      -0.078\n",
      "Topic_novelty                 -7.0475      1.223     -5.765      0.000      -9.444      -4.651\n",
      "Topic_novelty_squared          2.4698      1.064      2.322      0.020       0.385       4.554\n",
      "Chapters                      -0.0047      0.000    -40.819      0.000      -0.005      -0.004\n",
      "Freq_relationship              0.6576      0.009     71.227      0.000       0.639       0.676\n",
      "author_fic_cnt             -7.981e-06   2.84e-06     -2.814      0.005   -1.35e-05   -2.42e-06\n",
      "History                      5.14e-05    6.4e-06      8.037      0.000    3.89e-05    6.39e-05\n",
      "Category_Gen                  -0.0804      0.010     -8.328      0.000      -0.099      -0.061\n",
      "Category_F_M                  -0.3188      0.008    -38.539      0.000      -0.335      -0.303\n",
      "Category_M_M                   0.5652      0.010     58.366      0.000       0.546       0.584\n",
      "Category_Multi                -0.1483      0.012    -12.104      0.000      -0.172      -0.124\n",
      "Category_Other                -0.4639      0.019    -23.819      0.000      -0.502      -0.426\n",
      "Category_Unknown              -0.6759      0.018    -37.626      0.000      -0.711      -0.641\n",
      "ArchiveWarnings_underage       0.1521      0.020      7.476      0.000       0.112       0.192\n",
      "ArchiveWarnings_death         -0.4410      0.015    -29.385      0.000      -0.470      -0.412\n",
      "ArchiveWarnings_violence      -0.2583      0.014    -18.500      0.000      -0.286      -0.231\n",
      "ArchiveWarnings_noncon         0.1103      0.019      5.894      0.000       0.074       0.147\n",
      "ArchiveWarnings_choose_no     -0.0858      0.012     -6.881      0.000      -0.110      -0.061\n",
      "ArchiveWarnings_no_apply       0.1542      0.013     11.932      0.000       0.129       0.179\n",
      "Rating_N                      -0.0726      0.013     -5.404      0.000      -0.099      -0.046\n",
      "Rating_E                       0.6644      0.014     48.834      0.000       0.638       0.691\n",
      "Rating_M                       0.1916      0.012     15.394      0.000       0.167       0.216\n",
      "Rating_T                       0.0385      0.010      3.837      0.000       0.019       0.058\n",
      "Fandom_dcu                    -0.5703      0.009    -62.579      0.000      -0.588      -0.552\n",
      "Fandom_doctor_who             -0.5703      0.009    -62.579      0.000      -0.588      -0.552\n",
      "Fandom_star_wars               0.2463      0.024     10.171      0.000       0.199       0.294\n",
      "Fandom_arthurian              -0.3513      0.025    -14.151      0.000      -0.400      -0.303\n",
      "Fandom_supernatural           -0.6469      0.014    -47.039      0.000      -0.674      -0.620\n",
      "Fandom_haikyuu                 0.5247      0.028     18.832      0.000       0.470       0.579\n",
      "Fandom_kuroko_no_basuke        0.1969      0.033      5.977      0.000       0.132       0.261\n",
      "Fandom_hamilton_miranda        0.1740      0.063      2.775      0.006       0.051       0.297\n",
      "Fandom_dragon_age             -0.4526      0.018    -25.271      0.000      -0.488      -0.417\n",
      "Fandom_the_walking_dead       -0.2981      0.029    -10.185      0.000      -0.356      -0.241\n",
      "Fandom_buffy                  -1.3902      0.028    -49.655      0.000      -1.445      -1.335\n",
      "Fandom_les_miserables         -0.5550      0.033    -16.864      0.000      -0.620      -0.491\n",
      "Fandom_naruto                 -0.5782      0.032    -18.227      0.000      -0.640      -0.516\n",
      "Fandom_tolkien                -0.0422      0.019     -2.188      0.029      -0.080      -0.004\n",
      "Fandom_shakespare             -1.8639      0.111    -16.827      0.000      -2.081      -1.647\n",
      "Fandom_hetalia                -1.1674      0.026    -44.468      0.000      -1.219      -1.116\n",
      "Fandom_attack_on_titan        -0.0854      0.022     -3.894      0.000      -0.128      -0.042\n",
      "Fandom_ms_paint_adventures    -0.0963      0.019     -5.130      0.000      -0.133      -0.060\n",
      "Fandom_homestuck              -0.0312      0.018     -1.723      0.085      -0.067       0.004\n",
      "Fandom_marvel                  0.7493      0.013     55.764      0.000       0.723       0.776\n",
      "Fandom_sailor_moon            -2.1710      0.072    -30.145      0.000      -2.312      -2.030\n",
      "Fandom_one_direction          -0.6363      0.026    -24.056      0.000      -0.688      -0.584\n",
      "Fandom_sherlock               -0.1850      0.014    -12.943      0.000      -0.213      -0.157\n",
      "nonzero_prob                   1.9547      0.048     40.316      0.000       1.860       2.050\n",
      "==============================================================================\n",
      "Omnibus:                    61050.347   Durbin-Watson:                   1.545\n",
      "Prob(Omnibus):                  0.000   Jarque-Bera (JB):            78602.146\n",
      "Skew:                          -0.820   Prob(JB):                         0.00\n",
      "Kurtosis:                       2.897   Cond. No.                     9.85e+15\n",
      "==============================================================================\n",
      "\n",
      "Warnings:\n",
      "[1] Standard Errors assume that the covariance matrix of the errors is correctly specified.\n",
      "[2] The smallest eigenvalue is 1.78e-20. This might indicate that there are\n",
      "strong multicollinearity problems or that the design matrix is singular.\n"
     ]
    }
   ],
   "source": [
    "print(bookmarks_model.summary())"
   ]
  },
  {
   "cell_type": "code",
   "execution_count": null,
   "metadata": {},
   "outputs": [],
   "source": []
  }
 ],
 "metadata": {
  "kernelspec": {
   "display_name": "Python 3",
   "language": "python",
   "name": "python3"
  },
  "language_info": {
   "codemirror_mode": {
    "name": "ipython",
    "version": 3
   },
   "file_extension": ".py",
   "mimetype": "text/x-python",
   "name": "python",
   "nbconvert_exporter": "python",
   "pygments_lexer": "ipython3",
   "version": "3.6.4"
  }
 },
 "nbformat": 4,
 "nbformat_minor": 2
}
