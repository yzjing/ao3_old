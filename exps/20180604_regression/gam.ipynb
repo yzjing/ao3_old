{
 "cells": [
  {
   "cell_type": "code",
   "execution_count": 1,
   "metadata": {},
   "outputs": [],
   "source": [
    "import pandas as pd\n",
    "import os\n",
    "import matplotlib.pyplot as plt\n",
    "%matplotlib inline\n",
    "import numpy as np\n",
    "from datetime import date\n",
    "import seaborn as sns\n",
    "from pygam import LinearGAM\n",
    "from pygam.utils import generate_X_grid"
   ]
  },
  {
   "cell_type": "markdown",
   "metadata": {},
   "source": [
    "### Create regression data"
   ]
  },
  {
   "cell_type": "code",
   "execution_count": 2,
   "metadata": {},
   "outputs": [],
   "source": [
    "tfidf_path = '../../data/tfidf_toprev_conlen_fulldata/'"
   ]
  },
  {
   "cell_type": "code",
   "execution_count": 3,
   "metadata": {},
   "outputs": [],
   "source": [
    "lda_path = '../../data/lda_jsd_toprev_conlen/'"
   ]
  },
  {
   "cell_type": "code",
   "execution_count": 4,
   "metadata": {},
   "outputs": [],
   "source": [
    "tag_path = '../../data/tag_novelty_full/'"
   ]
  },
  {
   "cell_type": "code",
   "execution_count": 5,
   "metadata": {},
   "outputs": [],
   "source": [
    "fandom_list = ['harry_potter',\n",
    " 'dcu',\n",
    " 'doctor_who_&_related_fandoms',\n",
    " 'star_wars_all_media_types',\n",
    " 'arthurian_mythology_&_related_fandoms',\n",
    " 'supernatural',\n",
    " 'haikyuu',\n",
    " 'kuroko_no_basuke',\n",
    " 'hamilton_miranda',\n",
    " 'dragon_age_all_media_types',\n",
    " 'the_walking_dead_&_related_fandoms',\n",
    " 'buffy_the_vampire_slayer',\n",
    " 'les_miserables_all_media_types',\n",
    " 'naruto',\n",
    " 'tolkien_j_r_r_works_&_related_fandoms',\n",
    " 'shakespare_william_works',\n",
    " 'hetalia_axis_powers',\n",
    " 'attack_on_titan',\n",
    " 'ms_paint_adventures',\n",
    " 'homestuck',\n",
    " 'marvel',\n",
    " 'bishoujo_senshi_sailor_moon',\n",
    " 'one_direction',\n",
    " 'sherlock_holmes_&_related_fandoms']"
   ]
  },
  {
   "cell_type": "code",
   "execution_count": 228,
   "metadata": {},
   "outputs": [],
   "source": [
    "df_all = []\n",
    "for i,fandom in enumerate(fandom_list):\n",
    "    df_tfidf = pd.read_csv(os.path.join(tfidf_path,fandom + '_temporal_tfidf_cos_toprev_conlen.tsv'), sep = '\\t')\n",
    "    del df_tfidf['index']\n",
    "    df_lda = pd.read_csv(os.path.join(lda_path,fandom + '_temporal_lda_jsd_toprev_full.tsv'), sep = '\\t')\n",
    "    del df_lda['index']\n",
    "    df_tag = pd.read_csv(os.path.join(tag_path,fandom + '_tag_novelty_conlen_full.tsv'), sep = '\\t')\n",
    "    df = pd.merge(df_tfidf, df_lda, on=['AdditionalTags', 'ArchiveWarnings', 'Author', 'Bookmarks', 'Category',\\\n",
    " 'ChapterIndex', 'Chapters' ,'Characters','Comments' ,'CompleteDate',\\\n",
    " 'Fandoms', 'Hits' ,'Kudos', 'Language', 'Notes' ,'PublishDate' ,'Rating',\\\n",
    " 'Relationship' ,'Summary' ,'Title' ,'URL' ,'UpdateDate' ,'Words'], how='inner')\n",
    "    df = pd.merge(df, df_tag, on=['AdditionalTags', 'ArchiveWarnings', 'Author', 'Bookmarks', 'Category',\\\n",
    " 'ChapterIndex', 'Chapters' ,'Characters','Comments' ,'CompleteDate',\\\n",
    " 'Fandoms', 'Hits' ,'Kudos', 'Language', 'Notes' ,'PublishDate' ,'Rating',\\\n",
    " 'Relationship' ,'Summary' ,'Title' ,'URL' ,'UpdateDate' ,'Words'], how='inner')\n",
    "    \n",
    "    df['fandom_category'] = fandom\n",
    "    df['tag_novelty'] = df['tag_novelty'] * 100\n",
    "    \n",
    "    df['Kudos'] = df['Kudos']/df['Chapters']\n",
    "#     df['Kudos'] = np.log(df['Kudos'])\n",
    "    df['Hits'] = df['Hits']/df['Chapters']\n",
    "#     df['Hits'] = np.log(df['Hits'])\n",
    "#     df['Comments'] = np.log(df['Comments'])\n",
    "    df['Bookmarks'] = df['Bookmarks']/df['Chapters']\n",
    "#     df['Bookmarks'] = np.log(df['Bookmarks'])\n",
    "\n",
    "#     df = df.dropna(subset=['Kudos'])\n",
    "#     df = df[np.isfinite(df['Kudos'])]\n",
    "#     df['Kudos'] = (df['Kudos'] - df['Kudos'].mean())/df['Kudos'].std(ddof=0)\n",
    "\n",
    "    df_all.append(df)"
   ]
  },
  {
   "cell_type": "code",
   "execution_count": 229,
   "metadata": {},
   "outputs": [],
   "source": [
    "df_all = pd.concat(df_all)"
   ]
  },
  {
   "cell_type": "code",
   "execution_count": 230,
   "metadata": {},
   "outputs": [],
   "source": [
    "# df_all = df.head(500)"
   ]
  },
  {
   "cell_type": "code",
   "execution_count": 231,
   "metadata": {},
   "outputs": [],
   "source": [
    "del df_all['Language']\n",
    "del df_all['Notes']\n",
    "del df_all['Summary']\n",
    "del df_all['Title']\n",
    "del df_all['URL']\n",
    "del df_all['AdditionalTags']\n",
    "del df_all['Fandoms']\n",
    "del df_all['Characters']\n",
    "del df_all['Words']"
   ]
  },
  {
   "cell_type": "code",
   "execution_count": 232,
   "metadata": {},
   "outputs": [],
   "source": [
    "df_all['Category'].fillna('None', inplace=True)\n",
    "df_all['Category_F_F'] = df_all['Category'].apply(lambda x: 1 if 'F/F' in x else 0)\n",
    "df_all['Category_F_M'] = df_all['Category'].apply(lambda x: 1 if 'F/M' in x else 0)\n",
    "df_all['Category_Gen'] = df_all['Category'].apply(lambda x: 1 if 'Gen' in x else 0)\n",
    "df_all['Category_M_M'] = df_all['Category'].apply(lambda x: 1 if 'M/M' in x else 0)\n",
    "df_all['Category_Multi'] = df_all['Category'].apply(lambda x: 1 if 'Multi' in x else 0)\n",
    "df_all['Category_Other'] = df_all['Category'].apply(lambda x: 1 if 'Other' in x else 0)\n",
    "df_all['Category_None'] = df_all['Category'].apply(lambda x: 1 if 'None' in x else 0)\n",
    "del df_all['Category']"
   ]
  },
  {
   "cell_type": "code",
   "execution_count": 233,
   "metadata": {},
   "outputs": [],
   "source": [
    "df_all['ArchiveWarnings_none'] = df_all['ArchiveWarnings'].apply(lambda x: 1 if 'None. - Warning' in x else 0)\n",
    "df_all['ArchiveWarnings_underage'] = df_all['ArchiveWarnings'].apply(lambda x: 1 if 'Underage' in x else 0)\n",
    "df_all['ArchiveWarnings_death'] = df_all['ArchiveWarnings'].apply(lambda x: 1 if 'Major Character Death' in x else 0)\n",
    "df_all['ArchiveWarnings_choose_no'] = df_all['ArchiveWarnings'].apply(lambda x: 1 if 'Creator Chose Not To Use Archive Warnings' in x else 0)\n",
    "df_all['ArchiveWarnings_no_apply'] = df_all['ArchiveWarnings'].apply(lambda x: 1 if 'No Archive Warnings Apply' in x else 0)\n",
    "df_all['ArchiveWarnings_blood'] = df_all['ArchiveWarnings'].apply(lambda x: 1 if 'Blood - Warning' in x else 0)\n",
    "df_all['ArchiveWarnings_violence'] = df_all['ArchiveWarnings'].apply(lambda x: 1 if 'Graphic Depictions Of Violence' in x else 0)\n",
    "df_all['ArchiveWarnings_noncon'] = df_all['ArchiveWarnings'].apply(lambda x: 1 if 'Rape/Non-Con' in x else 0)\n",
    "\n",
    "del df_all['ArchiveWarnings']"
   ]
  },
  {
   "cell_type": "code",
   "execution_count": 234,
   "metadata": {},
   "outputs": [],
   "source": [
    "df_all['ChapterIndex'].fillna(0, inplace=True)"
   ]
  },
  {
   "cell_type": "code",
   "execution_count": 235,
   "metadata": {},
   "outputs": [],
   "source": [
    "def first_relationship(field):\n",
    "    try:\n",
    "        return field.split(',')[0]\n",
    "    except:\n",
    "        return field"
   ]
  },
  {
   "cell_type": "code",
   "execution_count": 236,
   "metadata": {},
   "outputs": [],
   "source": [
    "df_all['Relationship'] = df_all.apply(lambda row: first_relationship(row['Relationship']), axis=1)"
   ]
  },
  {
   "cell_type": "code",
   "execution_count": 237,
   "metadata": {},
   "outputs": [],
   "source": [
    "counts = df_all['Author'].value_counts()\n",
    "idx = counts[counts >= 10].index\n",
    "df_all['Freq_author'] = df_all['Author'].apply(lambda x: 1 if x in(idx) else 0)\n",
    "del df_all['Author']"
   ]
  },
  {
   "cell_type": "code",
   "execution_count": 238,
   "metadata": {},
   "outputs": [
    {
     "data": {
      "text/plain": [
       "{'Explicit',\n",
       " 'General Audiences',\n",
       " 'Mature',\n",
       " 'Not Rated',\n",
       " 'Teen And Up Audiences'}"
      ]
     },
     "execution_count": 238,
     "metadata": {},
     "output_type": "execute_result"
    }
   ],
   "source": [
    "set(df['Rating'].tolist())"
   ]
  },
  {
   "cell_type": "code",
   "execution_count": 239,
   "metadata": {},
   "outputs": [],
   "source": [
    "df_all['Rating_E'] = df_all['Rating'].apply(lambda x: 1 if x == 'Explicit' else 0)\n",
    "df_all['Rating_G'] = df_all['Rating'].apply(lambda x: 1 if x == 'General Audiences' else 0)\n",
    "df_all['Rating_M'] = df_all['Rating'].apply(lambda x: 1 if x == 'Mature' else 0)\n",
    "df_all['Rating_N'] = df_all['Rating'].apply(lambda x: 1 if x == 'Not Rated' else 0)\n",
    "df_all['Rating_T'] = df_all['Rating'].apply(lambda x: 1 if x == 'Teen And Up Audiences' else 0)\n",
    "del df_all['Rating']"
   ]
  },
  {
   "cell_type": "code",
   "execution_count": 240,
   "metadata": {},
   "outputs": [],
   "source": [
    "counts = df_all['Relationship'].value_counts()\n",
    "idx = counts[counts >= 10].index\n",
    "df_all['Freq_relationship'] = df_all['Relationship'].apply(lambda x: 1 if x in(idx) else 0)\n",
    "del df_all['Relationship']"
   ]
  },
  {
   "cell_type": "code",
   "execution_count": 241,
   "metadata": {},
   "outputs": [],
   "source": [
    "df_all['Fandom_harry_potter'] = df_all['fandom_category'].apply(lambda x: 1 if x == 'harry_potter' else 0)\n",
    "df_all['Fandom_dcu'] = df_all['fandom_category'].apply(lambda x: 1 if x == 'doctor_who_&_related_fandoms' else 0)\n",
    "df_all['Fandom_doctor_who'] = df_all['fandom_category'].apply(lambda x: 1 if x == 'doctor_who_&_related_fandoms' else 0)\n",
    "df_all['Fandom_star_wars'] = df_all['fandom_category'].apply(lambda x: 1 if x == 'star_wars_all_media_types' else 0)\n",
    "df_all['Fandom_arthurian'] = df_all['fandom_category'].apply(lambda x: 1 if x == 'arthurian_mythology_&_related_fandoms' else 0)\n",
    "df_all['Fandom_supernatural'] = df_all['fandom_category'].apply(lambda x: 1 if x == 'supernatural' else 0)\n",
    "df_all['Fandom_haikyuu'] = df_all['fandom_category'].apply(lambda x: 1 if x == 'haikyuu' else 0)\n",
    "df_all['Fandom_kuroko_no_basuke'] = df_all['fandom_category'].apply(lambda x: 1 if x == 'kuroko_no_basuke' else 0)\n",
    "df_all['Fandom_hamilton_miranda'] = df_all['fandom_category'].apply(lambda x: 1 if x == 'hamilton_miranda' else 0)\n",
    "df_all['Fandom_dragon_age'] = df_all['fandom_category'].apply(lambda x: 1 if x == 'dragon_age_all_media_types' else 0)\n",
    "df_all['Fandom_the_walking_dead'] = df_all['fandom_category'].apply(lambda x: 1 if x == 'the_walking_dead_&_related_fandoms' else 0)\n",
    "df_all['Fandom_buffy'] = df_all['fandom_category'].apply(lambda x: 1 if x == 'buffy_the_vampire_slayer' else 0)\n",
    "df_all['Fandom_les_miserables'] = df_all['fandom_category'].apply(lambda x: 1 if x == 'les_miserables_all_media_types' else 0)\n",
    "df_all['Fandom_naruto'] = df_all['fandom_category'].apply(lambda x: 1 if x == 'naruto' else 0)\n",
    "df_all['Fandom_tolkien'] = df_all['fandom_category'].apply(lambda x: 1 if x == 'tolkien_j_r_r_works_&_related_fandoms' else 0)\n",
    "df_all['Fandom_shakespare'] = df_all['fandom_category'].apply(lambda x: 1 if x == 'shakespare_william_works' else 0)\n",
    "df_all['Fandom_hetalia'] = df_all['fandom_category'].apply(lambda x: 1 if x == 'hetalia_axis_powers' else 0)\n",
    "df_all['Fandom_attack_on_titan'] = df_all['fandom_category'].apply(lambda x: 1 if x == 'attack_on_titan' else 0)\n",
    "df_all['Fandom_ms_paint_adventures'] = df_all['fandom_category'].apply(lambda x: 1 if x == 'ms_paint_adventures' else 0)\n",
    "df_all['Fandom_homestuck'] = df_all['fandom_category'].apply(lambda x: 1 if x == 'homestuck' else 0)\n",
    "df_all['Fandom_marvel'] = df_all['fandom_category'].apply(lambda x: 1 if x == 'marvel' else 0)\n",
    "df_all['Fandom_sailor_moon'] = df_all['fandom_category'].apply(lambda x: 1 if x == 'bishoujo_senshi_sailor_moon' else 0)\n",
    "df_all['Fandom_one_direction'] = df_all['fandom_category'].apply(lambda x: 1 if x == 'one_direction' else 0)\n",
    "df_all['Fandom_sherlock'] = df_all['fandom_category'].apply(lambda x: 1 if x == 'sherlock_holmes_&_related_fandoms' else 0)\n",
    "\n",
    "del df_all['fandom_category']"
   ]
  },
  {
   "cell_type": "code",
   "execution_count": 242,
   "metadata": {},
   "outputs": [],
   "source": [
    "# df_all['fandom_category'] = df_all['fandom_category'].astype('category')\n",
    "# df_all['Fandom_cat'] = df_all['fandom_category'].cat.codes\n",
    "# del df_all['fandom_category']"
   ]
  },
  {
   "cell_type": "code",
   "execution_count": 243,
   "metadata": {},
   "outputs": [],
   "source": [
    "def date_today(cell):\n",
    "    try:\n",
    "        y, m, d = cell.split('-')\n",
    "        return abs(date.today() - date(int(y), int(m), int(d))).days\n",
    "    except:\n",
    "        return float('nan')"
   ]
  },
  {
   "cell_type": "code",
   "execution_count": 244,
   "metadata": {},
   "outputs": [],
   "source": [
    "df_all['PublishDate'] = df_all.apply(lambda row: date_today(row['PublishDate']), axis = 1)\n",
    "df_all['CompleteDate'] = df_all.apply(lambda row: date_today(row['CompleteDate']), axis = 1)\n",
    "df_all['UpdateDate'] = df_all.apply(lambda row: date_today(row['UpdateDate']), axis = 1)"
   ]
  },
  {
   "cell_type": "code",
   "execution_count": 245,
   "metadata": {},
   "outputs": [],
   "source": [
    "def find_history(field_list):\n",
    "    field_list = [10000000 if np.isnan(x) else x for x in field_list]\n",
    "    return np.amin(field_list)"
   ]
  },
  {
   "cell_type": "code",
   "execution_count": 246,
   "metadata": {},
   "outputs": [],
   "source": [
    "df_all['history'] = df_all.apply(lambda row: find_history([row['PublishDate'], row['CompleteDate'], row['UpdateDate']]), axis=1)"
   ]
  },
  {
   "cell_type": "code",
   "execution_count": 247,
   "metadata": {},
   "outputs": [],
   "source": [
    "del df_all['PublishDate']\n",
    "del df_all['CompleteDate']\n",
    "del df_all['UpdateDate']"
   ]
  },
  {
   "cell_type": "code",
   "execution_count": 248,
   "metadata": {},
   "outputs": [
    {
     "data": {
      "text/plain": [
       "array(['Bookmarks', 'ChapterIndex', 'Chapters', 'Comments', 'Hits',\n",
       "       'Kudos', 'Cos', 'JSD', 'tag_novelty', 'Category_F_F',\n",
       "       'Category_F_M', 'Category_Gen', 'Category_M_M', 'Category_Multi',\n",
       "       'Category_Other', 'Category_None', 'ArchiveWarnings_none',\n",
       "       'ArchiveWarnings_underage', 'ArchiveWarnings_death',\n",
       "       'ArchiveWarnings_choose_no', 'ArchiveWarnings_no_apply',\n",
       "       'ArchiveWarnings_blood', 'ArchiveWarnings_violence',\n",
       "       'ArchiveWarnings_noncon', 'Freq_author', 'Rating_E', 'Rating_G',\n",
       "       'Rating_M', 'Rating_N', 'Rating_T', 'Freq_relationship',\n",
       "       'Fandom_harry_potter', 'Fandom_dcu', 'Fandom_doctor_who',\n",
       "       'Fandom_star_wars', 'Fandom_arthurian', 'Fandom_supernatural',\n",
       "       'Fandom_haikyuu', 'Fandom_kuroko_no_basuke',\n",
       "       'Fandom_hamilton_miranda', 'Fandom_dragon_age',\n",
       "       'Fandom_the_walking_dead', 'Fandom_buffy', 'Fandom_les_miserables',\n",
       "       'Fandom_naruto', 'Fandom_tolkien', 'Fandom_shakespare',\n",
       "       'Fandom_hetalia', 'Fandom_attack_on_titan',\n",
       "       'Fandom_ms_paint_adventures', 'Fandom_homestuck', 'Fandom_marvel',\n",
       "       'Fandom_sailor_moon', 'Fandom_one_direction', 'Fandom_sherlock',\n",
       "       'history'], dtype=object)"
      ]
     },
     "execution_count": 248,
     "metadata": {},
     "output_type": "execute_result"
    }
   ],
   "source": [
    "df_all.columns.values"
   ]
  },
  {
   "cell_type": "code",
   "execution_count": 249,
   "metadata": {},
   "outputs": [],
   "source": [
    "df_all = df_all.rename(columns = {'history':'History', 'Cos': 'Term_novelty', 'JSD': 'Topic_novelty'})"
   ]
  },
  {
   "cell_type": "code",
   "execution_count": 250,
   "metadata": {},
   "outputs": [
    {
     "data": {
      "text/html": [
       "<div>\n",
       "<style scoped>\n",
       "    .dataframe tbody tr th:only-of-type {\n",
       "        vertical-align: middle;\n",
       "    }\n",
       "\n",
       "    .dataframe tbody tr th {\n",
       "        vertical-align: top;\n",
       "    }\n",
       "\n",
       "    .dataframe thead th {\n",
       "        text-align: right;\n",
       "    }\n",
       "</style>\n",
       "<table border=\"1\" class=\"dataframe\">\n",
       "  <thead>\n",
       "    <tr style=\"text-align: right;\">\n",
       "      <th></th>\n",
       "      <th>Bookmarks</th>\n",
       "      <th>ChapterIndex</th>\n",
       "      <th>Chapters</th>\n",
       "      <th>Comments</th>\n",
       "      <th>Hits</th>\n",
       "      <th>Kudos</th>\n",
       "      <th>Term_novelty</th>\n",
       "      <th>Topic_novelty</th>\n",
       "      <th>tag_novelty</th>\n",
       "      <th>Category_F_F</th>\n",
       "      <th>...</th>\n",
       "      <th>Fandom_shakespare</th>\n",
       "      <th>Fandom_hetalia</th>\n",
       "      <th>Fandom_attack_on_titan</th>\n",
       "      <th>Fandom_ms_paint_adventures</th>\n",
       "      <th>Fandom_homestuck</th>\n",
       "      <th>Fandom_marvel</th>\n",
       "      <th>Fandom_sailor_moon</th>\n",
       "      <th>Fandom_one_direction</th>\n",
       "      <th>Fandom_sherlock</th>\n",
       "      <th>History</th>\n",
       "    </tr>\n",
       "  </thead>\n",
       "  <tbody>\n",
       "    <tr>\n",
       "      <th>0</th>\n",
       "      <td>0.666667</td>\n",
       "      <td>1.0</td>\n",
       "      <td>3</td>\n",
       "      <td>0</td>\n",
       "      <td>106.666667</td>\n",
       "      <td>2.666667</td>\n",
       "      <td>0.778655</td>\n",
       "      <td>0.599456</td>\n",
       "      <td>-0.012112</td>\n",
       "      <td>0</td>\n",
       "      <td>...</td>\n",
       "      <td>0</td>\n",
       "      <td>0</td>\n",
       "      <td>0</td>\n",
       "      <td>0</td>\n",
       "      <td>0</td>\n",
       "      <td>0</td>\n",
       "      <td>0</td>\n",
       "      <td>0</td>\n",
       "      <td>0</td>\n",
       "      <td>5106.0</td>\n",
       "    </tr>\n",
       "    <tr>\n",
       "      <th>1</th>\n",
       "      <td>0.000000</td>\n",
       "      <td>0.0</td>\n",
       "      <td>1</td>\n",
       "      <td>1</td>\n",
       "      <td>1359.000000</td>\n",
       "      <td>19.000000</td>\n",
       "      <td>0.879855</td>\n",
       "      <td>0.625602</td>\n",
       "      <td>NaN</td>\n",
       "      <td>0</td>\n",
       "      <td>...</td>\n",
       "      <td>0</td>\n",
       "      <td>0</td>\n",
       "      <td>0</td>\n",
       "      <td>0</td>\n",
       "      <td>0</td>\n",
       "      <td>0</td>\n",
       "      <td>0</td>\n",
       "      <td>0</td>\n",
       "      <td>0</td>\n",
       "      <td>5565.0</td>\n",
       "    </tr>\n",
       "    <tr>\n",
       "      <th>2</th>\n",
       "      <td>0.000000</td>\n",
       "      <td>0.0</td>\n",
       "      <td>1</td>\n",
       "      <td>0</td>\n",
       "      <td>60.000000</td>\n",
       "      <td>NaN</td>\n",
       "      <td>0.332479</td>\n",
       "      <td>0.573035</td>\n",
       "      <td>NaN</td>\n",
       "      <td>0</td>\n",
       "      <td>...</td>\n",
       "      <td>0</td>\n",
       "      <td>0</td>\n",
       "      <td>0</td>\n",
       "      <td>0</td>\n",
       "      <td>0</td>\n",
       "      <td>0</td>\n",
       "      <td>0</td>\n",
       "      <td>0</td>\n",
       "      <td>0</td>\n",
       "      <td>5566.0</td>\n",
       "    </tr>\n",
       "    <tr>\n",
       "      <th>3</th>\n",
       "      <td>0.000000</td>\n",
       "      <td>0.0</td>\n",
       "      <td>1</td>\n",
       "      <td>0</td>\n",
       "      <td>495.000000</td>\n",
       "      <td>12.000000</td>\n",
       "      <td>0.795259</td>\n",
       "      <td>0.650978</td>\n",
       "      <td>-0.006056</td>\n",
       "      <td>0</td>\n",
       "      <td>...</td>\n",
       "      <td>0</td>\n",
       "      <td>0</td>\n",
       "      <td>0</td>\n",
       "      <td>0</td>\n",
       "      <td>0</td>\n",
       "      <td>0</td>\n",
       "      <td>0</td>\n",
       "      <td>0</td>\n",
       "      <td>0</td>\n",
       "      <td>5569.0</td>\n",
       "    </tr>\n",
       "    <tr>\n",
       "      <th>4</th>\n",
       "      <td>0.000000</td>\n",
       "      <td>0.0</td>\n",
       "      <td>1</td>\n",
       "      <td>3</td>\n",
       "      <td>737.000000</td>\n",
       "      <td>38.000000</td>\n",
       "      <td>0.934369</td>\n",
       "      <td>0.644082</td>\n",
       "      <td>-0.006921</td>\n",
       "      <td>0</td>\n",
       "      <td>...</td>\n",
       "      <td>0</td>\n",
       "      <td>0</td>\n",
       "      <td>0</td>\n",
       "      <td>0</td>\n",
       "      <td>0</td>\n",
       "      <td>0</td>\n",
       "      <td>0</td>\n",
       "      <td>0</td>\n",
       "      <td>0</td>\n",
       "      <td>5571.0</td>\n",
       "    </tr>\n",
       "  </tbody>\n",
       "</table>\n",
       "<p>5 rows × 56 columns</p>\n",
       "</div>"
      ],
      "text/plain": [
       "   Bookmarks  ChapterIndex  Chapters  Comments         Hits      Kudos  \\\n",
       "0   0.666667           1.0         3         0   106.666667   2.666667   \n",
       "1   0.000000           0.0         1         1  1359.000000  19.000000   \n",
       "2   0.000000           0.0         1         0    60.000000        NaN   \n",
       "3   0.000000           0.0         1         0   495.000000  12.000000   \n",
       "4   0.000000           0.0         1         3   737.000000  38.000000   \n",
       "\n",
       "   Term_novelty  Topic_novelty  tag_novelty  Category_F_F   ...     \\\n",
       "0      0.778655       0.599456    -0.012112             0   ...      \n",
       "1      0.879855       0.625602          NaN             0   ...      \n",
       "2      0.332479       0.573035          NaN             0   ...      \n",
       "3      0.795259       0.650978    -0.006056             0   ...      \n",
       "4      0.934369       0.644082    -0.006921             0   ...      \n",
       "\n",
       "   Fandom_shakespare  Fandom_hetalia  Fandom_attack_on_titan  \\\n",
       "0                  0               0                       0   \n",
       "1                  0               0                       0   \n",
       "2                  0               0                       0   \n",
       "3                  0               0                       0   \n",
       "4                  0               0                       0   \n",
       "\n",
       "   Fandom_ms_paint_adventures  Fandom_homestuck  Fandom_marvel  \\\n",
       "0                           0                 0              0   \n",
       "1                           0                 0              0   \n",
       "2                           0                 0              0   \n",
       "3                           0                 0              0   \n",
       "4                           0                 0              0   \n",
       "\n",
       "   Fandom_sailor_moon  Fandom_one_direction  Fandom_sherlock  History  \n",
       "0                   0                     0                0   5106.0  \n",
       "1                   0                     0                0   5565.0  \n",
       "2                   0                     0                0   5566.0  \n",
       "3                   0                     0                0   5569.0  \n",
       "4                   0                     0                0   5571.0  \n",
       "\n",
       "[5 rows x 56 columns]"
      ]
     },
     "execution_count": 250,
     "metadata": {},
     "output_type": "execute_result"
    }
   ],
   "source": [
    "df_all.head()"
   ]
  },
  {
   "cell_type": "code",
   "execution_count": 251,
   "metadata": {},
   "outputs": [],
   "source": [
    "df_all.to_csv('fanfic_regression_data_curated.tsv', sep = '\\t', index=False)"
   ]
  },
  {
   "cell_type": "code",
   "execution_count": 252,
   "metadata": {},
   "outputs": [
    {
     "data": {
      "text/plain": [
       "576408"
      ]
     },
     "execution_count": 252,
     "metadata": {},
     "output_type": "execute_result"
    }
   ],
   "source": [
    "len(df_all)"
   ]
  },
  {
   "cell_type": "code",
   "execution_count": 77,
   "metadata": {},
   "outputs": [],
   "source": [
    "df_all = pd.read_csv('fanfic_regression_data_curated.tsv', sep = '\\t')"
   ]
  },
  {
   "cell_type": "markdown",
   "metadata": {},
   "source": [
    "### GAM"
   ]
  },
  {
   "cell_type": "code",
   "execution_count": 78,
   "metadata": {},
   "outputs": [],
   "source": [
    "df_all = df_all.replace([np.inf, -np.inf], np.nan)\n",
    "df_all = df_all.dropna(how = 'any')"
   ]
  },
  {
   "cell_type": "code",
   "execution_count": 79,
   "metadata": {},
   "outputs": [],
   "source": [
    "# df_all = df_all.sample(1000)"
   ]
  },
  {
   "cell_type": "code",
   "execution_count": 80,
   "metadata": {},
   "outputs": [
    {
     "data": {
      "text/plain": [
       "array(['Bookmarks', 'ChapterIndex', 'Chapters', 'Comments', 'Hits',\n",
       "       'Kudos', 'Term_novelty', 'Topic_novelty', 'tag_novelty',\n",
       "       'Category_F_F', 'Category_F_M', 'Category_Gen', 'Category_M_M',\n",
       "       'Category_Multi', 'Category_Other', 'Category_None',\n",
       "       'ArchiveWarnings_none', 'ArchiveWarnings_underage',\n",
       "       'ArchiveWarnings_death', 'ArchiveWarnings_choose_no',\n",
       "       'ArchiveWarnings_no_apply', 'ArchiveWarnings_blood',\n",
       "       'ArchiveWarnings_violence', 'ArchiveWarnings_noncon',\n",
       "       'Freq_author', 'Rating_E', 'Rating_G', 'Rating_M', 'Rating_N',\n",
       "       'Rating_T', 'Freq_relationship', 'Fandom_harry_potter',\n",
       "       'Fandom_dcu', 'Fandom_doctor_who', 'Fandom_star_wars',\n",
       "       'Fandom_arthurian', 'Fandom_supernatural', 'Fandom_haikyuu',\n",
       "       'Fandom_kuroko_no_basuke', 'Fandom_hamilton_miranda',\n",
       "       'Fandom_dragon_age', 'Fandom_the_walking_dead', 'Fandom_buffy',\n",
       "       'Fandom_les_miserables', 'Fandom_naruto', 'Fandom_tolkien',\n",
       "       'Fandom_shakespare', 'Fandom_hetalia', 'Fandom_attack_on_titan',\n",
       "       'Fandom_ms_paint_adventures', 'Fandom_homestuck', 'Fandom_marvel',\n",
       "       'Fandom_sailor_moon', 'Fandom_one_direction', 'Fandom_sherlock',\n",
       "       'History'], dtype=object)"
      ]
     },
     "execution_count": 80,
     "metadata": {},
     "output_type": "execute_result"
    }
   ],
   "source": [
    "df_all.columns.values"
   ]
  },
  {
   "cell_type": "code",
   "execution_count": 81,
   "metadata": {},
   "outputs": [],
   "source": [
    "X = df_all[['ChapterIndex', 'Chapters','Term_novelty', 'Topic_novelty',\n",
    "       'Category_F_F', 'Category_F_M', 'Category_Gen', 'Category_M_M',\n",
    "       'Category_Multi', 'Category_Other', 'Category_None',\n",
    "       'ArchiveWarnings_none', 'ArchiveWarnings_underage',\n",
    "       'ArchiveWarnings_death', 'ArchiveWarnings_choose_no',\n",
    "       'ArchiveWarnings_no_apply', 'ArchiveWarnings_blood',\n",
    "       'ArchiveWarnings_violence', 'ArchiveWarnings_noncon',\n",
    "       'Freq_author', 'Rating_E', 'Rating_G', 'Rating_M', 'Rating_N',\n",
    "       'Rating_T', 'Freq_relationship', 'Fandom_harry_potter',\n",
    "       'Fandom_dcu', 'Fandom_doctor_who', 'Fandom_star_wars',\n",
    "       'Fandom_arthurian', 'Fandom_supernatural', 'Fandom_haikyuu',\n",
    "       'Fandom_kuroko_no_basuke', 'Fandom_hamilton_miranda',\n",
    "       'Fandom_dragon_age', 'Fandom_the_walking_dead', 'Fandom_buffy',\n",
    "       'Fandom_les_miserables', 'Fandom_naruto', 'Fandom_tolkien',\n",
    "       'Fandom_shakespare', 'Fandom_hetalia', 'Fandom_attack_on_titan',\n",
    "       'Fandom_ms_paint_adventures', 'Fandom_homestuck', 'Fandom_marvel',\n",
    "       'Fandom_sailor_moon', 'Fandom_one_direction', 'Fandom_sherlock',\n",
    "       'History']]"
   ]
  },
  {
   "cell_type": "code",
   "execution_count": 82,
   "metadata": {},
   "outputs": [],
   "source": [
    "y = df_all[['Kudos']]"
   ]
  },
  {
   "cell_type": "code",
   "execution_count": 73,
   "metadata": {},
   "outputs": [
    {
     "name": "stderr",
     "output_type": "stream",
     "text": [
      "100% (25 of 25) |########################| Elapsed Time: 0:00:03 Time:  0:00:03\n"
     ]
    },
    {
     "name": "stdout",
     "output_type": "stream",
     "text": [
      "LinearGAM                                                                                                 \n",
      "=============================================== ==========================================================\n",
      "Distribution:                        NormalDist Effective DoF:                                      29.082\n",
      "Link Function:                     IdentityLink Log Likelihood:                                 -8927.4352\n",
      "Number of Samples:                         1000 AIC:                                            17915.0343\n",
      "                                                AICc:                                           17916.9643\n",
      "                                                GCV:                                             3171.4861\n",
      "                                                Scale:                                           3005.9085\n",
      "                                                Pseudo R-Squared:                                   0.1459\n",
      "==========================================================================================================\n",
      "Feature Function   Data Type      Num Splines   Spline Order  Linear Fit  Lambda     P > x      Sig. Code \n",
      "================== ============== ============= ============= =========== ========== ========== ==========\n",
      "feature 1          numerical      25            3             False       301.25     4.54e-06   ***       \n",
      "feature 2          numerical      25            3             False       301.25     4.34e-07   ***       \n",
      "feature 3          numerical      25            3             False       301.25     7.46e-02   .         \n",
      "feature 4          numerical      25            3             False       301.25     9.77e-01             \n",
      "feature 5          categorical    2             0             False       301.25     4.18e-01             \n",
      "feature 6          categorical    2             0             False       301.25     4.48e-02   *         \n",
      "feature 7          categorical    2             0             False       301.25     4.58e-01             \n",
      "feature 8          categorical    2             0             False       301.25     1.22e-01             \n",
      "feature 9          categorical    2             0             False       301.25     3.96e-01             \n",
      "feature 10         categorical    2             0             False       301.25     4.09e-01             \n",
      "feature 11         categorical    2             0             False       301.25     5.99e-01             \n",
      "feature 12         categorical    1             0             False       301.25     1.00e+00             \n",
      "feature 13         categorical    2             0             False       301.25     8.94e-01             \n",
      "feature 14         categorical    2             0             False       301.25     1.91e-01             \n",
      "feature 15         categorical    2             0             False       301.25     1.33e-03   **        \n",
      "feature 16         categorical    2             0             False       301.25     1.46e-03   **        \n",
      "feature 17         categorical    1             0             False       301.25     1.00e+00             \n",
      "feature 18         categorical    2             0             False       301.25     4.46e-01             \n",
      "feature 19         categorical    2             0             False       301.25     6.77e-01             \n",
      "feature 20         categorical    2             0             False       301.25     7.75e-02   .         \n",
      "feature 21         categorical    2             0             False       301.25     2.71e-01             \n",
      "feature 22         categorical    2             0             False       301.25     4.93e-01             \n",
      "feature 23         categorical    2             0             False       301.25     9.99e-01             \n",
      "feature 24         categorical    2             0             False       301.25     3.98e-01             \n",
      "feature 25         categorical    2             0             False       301.25     3.36e-01             \n",
      "feature 26         categorical    2             0             False       301.25     1.62e-01             \n",
      "feature 27         categorical    2             0             False       301.25     1.97e-01             \n",
      "feature 28         categorical    2             0             False       301.25     5.80e-02   .         \n",
      "feature 29         categorical    2             0             False       301.25     5.80e-02   .         \n",
      "feature 30         categorical    2             0             False       301.25     2.57e-01             \n",
      "feature 31         categorical    2             0             False       301.25     3.18e-01             \n",
      "feature 32         categorical    2             0             False       301.25     9.22e-01             \n",
      "feature 33         categorical    2             0             False       301.25     9.77e-01             \n",
      "feature 34         categorical    2             0             False       301.25     4.58e-01             \n",
      "feature 35         categorical    2             0             False       301.25     9.99e-01             \n",
      "feature 36         categorical    2             0             False       301.25     8.34e-01             \n",
      "feature 37         categorical    2             0             False       301.25     5.40e-01             \n",
      "feature 38         categorical    2             0             False       301.25     5.60e-01             \n",
      "feature 39         categorical    2             0             False       301.25     2.18e-01             \n",
      "feature 40         categorical    2             0             False       301.25     8.25e-01             \n",
      "feature 41         categorical    2             0             False       301.25     3.73e-01             \n",
      "feature 42         categorical    2             0             False       301.25     1.00e+00             \n",
      "feature 43         categorical    2             0             False       301.25     4.27e-01             \n",
      "feature 44         categorical    2             0             False       301.25     6.66e-01             \n",
      "feature 45         categorical    2             0             False       301.25     3.83e-01             \n",
      "feature 46         categorical    1             0             False       301.25     1.00e+00             \n",
      "feature 47         categorical    2             0             False       301.25     9.34e-09   ***       \n",
      "feature 48         categorical    2             0             False       301.25     9.83e-01             \n",
      "feature 49         categorical    2             0             False       301.25     4.35e-01             \n",
      "feature 50         categorical    2             0             False       301.25     2.59e-02   *         \n",
      "feature 51         numerical      25            3             False       301.25     3.59e-02   *         \n",
      "intercept                                                                            5.07e-01             \n",
      "==========================================================================================================\n",
      "Significance codes:  0 '***' 0.001 '**' 0.01 '*' 0.05 '.' 0.1 ' ' 1\n",
      "\n",
      "WARNING: Fitting splines and a linear function to a feature introduces a model identifiability problem\n",
      "         which can cause p-values to appear significant when they are not.\n",
      "\n",
      "WARNING: p-values calculated in this manner behave correctly for un-penalized models or models with\n",
      "         known smoothing parameters, but when smoothing parameters have been estimated, the p-values\n",
      "         are typically lower than they should be, meaning that the tests reject the null too readily.\n"
     ]
    }
   ],
   "source": [
    "kwargs = {'lam': np.linspace(300,305,5), 'n_splines': np.linspace(0,50,5)}\n",
    "gam = LinearGAM()\n",
    "gam.gridsearch(X, y,**kwargs)\n",
    "gam.summary()"
   ]
  },
  {
   "cell_type": "code",
   "execution_count": 83,
   "metadata": {},
   "outputs": [
    {
     "name": "stdout",
     "output_type": "stream",
     "text": [
      "LinearGAM                                                                                                 \n",
      "=============================================== ==========================================================\n",
      "Distribution:                        NormalDist Effective DoF:                                     96.9344\n",
      "Link Function:                     IdentityLink Log Likelihood:                              -4894915.8906\n",
      "Number of Samples:                       510987 AIC:                                          9790027.6502\n",
      "                                                AICc:                                         9790027.6881\n",
      "                                                GCV:                                             5771.2951\n",
      "                                                Scale:                                           5769.3245\n",
      "                                                Pseudo R-Squared:                                    0.093\n",
      "==========================================================================================================\n",
      "Feature Function   Data Type      Num Splines   Spline Order  Linear Fit  Lambda     P > x      Sig. Code \n",
      "================== ============== ============= ============= =========== ========== ========== ==========\n",
      "feature 1          numerical      25            3             False       301.25     1.11e-16   ***       \n",
      "feature 2          numerical      25            3             False       301.25     1.11e-16   ***       \n",
      "feature 3          numerical      25            3             False       301.25     1.11e-16   ***       \n",
      "feature 4          numerical      25            3             False       301.25     1.11e-16   ***       \n",
      "feature 5          categorical    2             0             False       301.25     4.00e-15   ***       \n",
      "feature 6          categorical    2             0             False       301.25     1.11e-16   ***       \n",
      "feature 7          categorical    2             0             False       301.25     3.40e-08   ***       \n",
      "feature 8          categorical    2             0             False       301.25     1.11e-16   ***       \n",
      "feature 9          categorical    2             0             False       301.25     4.94e-07   ***       \n",
      "feature 10         categorical    2             0             False       301.25     3.81e-03   **        \n",
      "feature 11         categorical    2             0             False       301.25     7.86e-04   ***       \n",
      "feature 12         categorical    2             0             False       301.25     9.98e-01             \n",
      "feature 13         categorical    2             0             False       301.25     5.19e-06   ***       \n",
      "feature 14         categorical    2             0             False       301.25     1.11e-16   ***       \n",
      "feature 15         categorical    2             0             False       301.25     1.08e-06   ***       \n",
      "feature 16         categorical    2             0             False       301.25     1.11e-16   ***       \n",
      "feature 17         categorical    2             0             False       301.25     7.04e-01             \n",
      "feature 18         categorical    2             0             False       301.25     1.43e-12   ***       \n",
      "feature 19         categorical    2             0             False       301.25     3.42e-01             \n",
      "feature 20         categorical    2             0             False       301.25     1.11e-16   ***       \n",
      "feature 21         categorical    2             0             False       301.25     1.11e-16   ***       \n",
      "feature 22         categorical    2             0             False       301.25     9.71e-05   ***       \n",
      "feature 23         categorical    2             0             False       301.25     2.17e-12   ***       \n",
      "feature 24         categorical    2             0             False       301.25     1.11e-16   ***       \n",
      "feature 25         categorical    2             0             False       301.25     2.08e-05   ***       \n",
      "feature 26         categorical    2             0             False       301.25     1.11e-16   ***       \n",
      "feature 27         categorical    2             0             False       301.25     1.11e-16   ***       \n",
      "feature 28         categorical    2             0             False       301.25     1.11e-16   ***       \n",
      "feature 29         categorical    2             0             False       301.25     1.11e-16   ***       \n",
      "feature 30         categorical    2             0             False       301.25     1.11e-16   ***       \n",
      "feature 31         categorical    2             0             False       301.25     1.11e-16   ***       \n",
      "feature 32         categorical    2             0             False       301.25     1.11e-16   ***       \n",
      "feature 33         categorical    2             0             False       301.25     7.08e-03   **        \n",
      "feature 34         categorical    2             0             False       301.25     5.16e-14   ***       \n",
      "feature 35         categorical    2             0             False       301.25     1.34e-04   ***       \n",
      "feature 36         categorical    2             0             False       301.25     1.11e-16   ***       \n",
      "feature 37         categorical    2             0             False       301.25     5.65e-04   ***       \n",
      "feature 38         categorical    2             0             False       301.25     1.11e-16   ***       \n",
      "feature 39         categorical    2             0             False       301.25     1.11e-16   ***       \n",
      "feature 40         categorical    2             0             False       301.25     1.11e-16   ***       \n",
      "feature 41         categorical    2             0             False       301.25     2.36e-04   ***       \n",
      "feature 42         categorical    2             0             False       301.25     1.28e-05   ***       \n",
      "feature 43         categorical    2             0             False       301.25     1.11e-16   ***       \n",
      "feature 44         categorical    2             0             False       301.25     1.11e-16   ***       \n",
      "feature 45         categorical    2             0             False       301.25     1.11e-16   ***       \n",
      "feature 46         categorical    2             0             False       301.25     3.02e-01             \n",
      "feature 47         categorical    2             0             False       301.25     1.11e-16   ***       \n",
      "feature 48         categorical    2             0             False       301.25     5.12e-03   **        \n",
      "feature 49         categorical    2             0             False       301.25     1.11e-16   ***       \n",
      "feature 50         categorical    2             0             False       301.25     1.11e-16   ***       \n",
      "feature 51         numerical      25            3             False       301.25     1.11e-16   ***       \n",
      "intercept                                                                            1.11e-16   ***       \n",
      "==========================================================================================================\n",
      "Significance codes:  0 '***' 0.001 '**' 0.01 '*' 0.05 '.' 0.1 ' ' 1\n",
      "\n",
      "WARNING: Fitting splines and a linear function to a feature introduces a model identifiability problem\n",
      "         which can cause p-values to appear significant when they are not.\n",
      "\n",
      "WARNING: p-values calculated in this manner behave correctly for un-penalized models or models with\n",
      "         known smoothing parameters, but when smoothing parameters have been estimated, the p-values\n",
      "         are typically lower than they should be, meaning that the tests reject the null too readily.\n"
     ]
    }
   ],
   "source": [
    "gam = LinearGAM(n_splines=25, lam=301.25).fit(X, y)\n",
    "gam.summary()"
   ]
  },
  {
   "cell_type": "code",
   "execution_count": 84,
   "metadata": {},
   "outputs": [
    {
     "data": {
      "image/png": "[encoded data removed]",
      "text/plain": [
       "<matplotlib.figure.Figure at 0x10efa8c88>"
      ]
     },
     "metadata": {},
     "output_type": "display_data"
    },
    {
     "data": {
      "image/png": "[encoded data removed]",
      "text/plain": [
       "<matplotlib.figure.Figure at 0x10f0f2438>"
      ]
     },
     "metadata": {},
     "output_type": "display_data"
    }
   ],
   "source": [
    "titles = ['ChapterIndex', 'Chapters','Term_novelty', 'Topic_novelty',\n",
    "       'Category_F_F', 'Category_F_M', 'Category_Gen', 'Category_M_M',\n",
    "       'Category_Multi', 'Category_Other', 'Category_None',\n",
    "       'ArchiveWarnings_none', 'ArchiveWarnings_underage',\n",
    "       'ArchiveWarnings_death', 'ArchiveWarnings_choose_no',\n",
    "       'ArchiveWarnings_no_apply', 'ArchiveWarnings_blood',\n",
    "       'ArchiveWarnings_violence', 'ArchiveWarnings_noncon',\n",
    "       'Freq_author', 'Rating_E', 'Rating_G', 'Rating_M', 'Rating_N',\n",
    "       'Rating_T', 'Freq_relationship', 'Fandom_harry_potter',\n",
    "       'Fandom_dcu', 'Fandom_doctor_who', 'Fandom_star_wars',\n",
    "       'Fandom_arthurian', 'Fandom_supernatural', 'Fandom_haikyuu',\n",
    "       'Fandom_kuroko_no_basuke', 'Fandom_hamilton_miranda',\n",
    "       'Fandom_dragon_age', 'Fandom_the_walking_dead', 'Fandom_buffy',\n",
    "       'Fandom_les_miserables', 'Fandom_naruto', 'Fandom_tolkien',\n",
    "       'Fandom_shakespare', 'Fandom_hetalia', 'Fandom_attack_on_titan',\n",
    "       'Fandom_ms_paint_adventures', 'Fandom_homestuck', 'Fandom_marvel',\n",
    "       'Fandom_sailor_moon', 'Fandom_one_direction', 'Fandom_sherlock',\n",
    "       'History']\n",
    "\n",
    "XX = generate_X_grid(gam)\n",
    "for i in range(2,4):\n",
    "    plt.figure(figsize = (8,5))\n",
    "    pdep, confi = gam.partial_dependence(XX, feature=i+1, width=.95)\n",
    "    plt.plot(XX[:, i], pdep)\n",
    "    plt.plot(XX[:, i], confi[0][:, 0], c='grey', ls='--')\n",
    "    plt.plot(XX[:, i], confi[0][:, 1], c='grey', ls='--')\n",
    "    plt.title(titles[i],fontsize=15)\n",
    "    plt.xlabel('Novelty', fontsize=15)\n",
    "    plt.ylabel('Kudos',fontsize=15)"
   ]
  },
  {
   "cell_type": "code",
   "execution_count": null,
   "metadata": {},
   "outputs": [],
   "source": []
  },
  {
   "cell_type": "code",
   "execution_count": null,
   "metadata": {},
   "outputs": [],
   "source": []
  },
  {
   "cell_type": "code",
   "execution_count": null,
   "metadata": {},
   "outputs": [],
   "source": []
  }
 ],
 "metadata": {
  "kernelspec": {
   "display_name": "Python 3",
   "language": "python",
   "name": "python3"
  },
  "language_info": {
   "codemirror_mode": {
    "name": "ipython",
    "version": 3
   },
   "file_extension": ".py",
   "mimetype": "text/x-python",
   "name": "python",
   "nbconvert_exporter": "python",
   "pygments_lexer": "ipython3",
   "version": "3.6.4"
  }
 },
 "nbformat": 4,
 "nbformat_minor": 2
}
