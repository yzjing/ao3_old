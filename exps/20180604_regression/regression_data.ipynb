{
 "cells": [
  {
   "cell_type": "code",
   "execution_count": 2,
   "metadata": {},
   "outputs": [],
   "source": [
    "import pandas as pd\n",
    "import os\n",
    "import matplotlib.pyplot as plt\n",
    "%matplotlib inline\n",
    "import numpy as np\n",
    "from datetime import date\n",
    "import seaborn as sns\n",
    "from statsmodels.formula.api import ols\n",
    "import statsmodels.api as sm\n",
    "from matplotlib import colors"
   ]
  },
  {
   "cell_type": "markdown",
   "metadata": {},
   "source": [
    "### Create regression data"
   ]
  },
  {
   "cell_type": "code",
   "execution_count": 74,
   "metadata": {},
   "outputs": [],
   "source": [
    "tfidf_path = '../../data/tfidf_toprev_samplew_allave/'"
   ]
  },
  {
   "cell_type": "code",
   "execution_count": 75,
   "metadata": {},
   "outputs": [],
   "source": [
    "lda_path = '../../data/lda_jsd_toprev_conlen/'"
   ]
  },
  {
   "cell_type": "code",
   "execution_count": 76,
   "metadata": {},
   "outputs": [],
   "source": [
    "tag_path = '../../data/tag_novelty_full/'"
   ]
  },
  {
   "cell_type": "code",
   "execution_count": 77,
   "metadata": {},
   "outputs": [],
   "source": [
    "fandom_list = ['harry_potter',\n",
    " 'dcu',\n",
    " 'doctor_who_&_related_fandoms',\n",
    " 'star_wars_all_media_types',\n",
    " 'arthurian_mythology_&_related_fandoms',\n",
    " 'supernatural',\n",
    " 'haikyuu',\n",
    " 'kuroko_no_basuke',\n",
    " 'hamilton_miranda',\n",
    " 'dragon_age_all_media_types',\n",
    " 'the_walking_dead_&_related_fandoms',\n",
    " 'buffy_the_vampire_slayer',\n",
    " 'les_miserables_all_media_types',\n",
    " 'naruto',\n",
    " 'tolkien_j_r_r_works_&_related_fandoms',\n",
    " 'shakespare_william_works',\n",
    " 'hetalia_axis_powers',\n",
    " 'attack_on_titan',\n",
    " 'ms_paint_adventures',\n",
    " 'homestuck',\n",
    " 'marvel',\n",
    " 'bishoujo_senshi_sailor_moon',\n",
    " 'one_direction',\n",
    " 'sherlock_holmes_&_related_fandoms']"
   ]
  },
  {
   "cell_type": "code",
   "execution_count": 78,
   "metadata": {},
   "outputs": [],
   "source": [
    "def first_rel(field):\n",
    "    try:\n",
    "        return field.split(',')[0]\n",
    "    except:\n",
    "        return field"
   ]
  },
  {
   "cell_type": "code",
   "execution_count": 79,
   "metadata": {},
   "outputs": [],
   "source": [
    "def find_major_rel(df):\n",
    "    df['Relationship'] = df.apply(lambda row: first_rel(row['Relationship']), axis=1)\n",
    "    counts = df['Relationship'].value_counts()\n",
    "    return counts.keys()[0:5]\n"
   ]
  },
  {
   "cell_type": "code",
   "execution_count": 81,
   "metadata": {},
   "outputs": [],
   "source": [
    "df_all = []\n",
    "for i,fandom in enumerate(fandom_list):\n",
    "    df_tfidf = pd.read_csv(os.path.join(tfidf_path,fandom + '_temporal_tfidf_cos_toprev_conlen_allave.tsv'), sep = '\\t')\n",
    "    del df_tfidf['index']\n",
    "    df_lda = pd.read_csv(os.path.join(lda_path,fandom + '_temporal_lda_jsd_toprev_full.tsv'), sep = '\\t')\n",
    "    del df_lda['index']\n",
    "    df_tag = pd.read_csv(os.path.join(tag_path,fandom + '_tag_novelty_conlen_full.tsv'), sep = '\\t')\n",
    "    df = pd.merge(df_tfidf, df_lda, on=['AdditionalTags', 'ArchiveWarnings', 'Author', 'Bookmarks', 'Category',\\\n",
    " 'ChapterIndex', 'Chapters' ,'Characters','Comments' ,'CompleteDate',\\\n",
    " 'Fandoms', 'Hits' ,'Kudos', 'Language', 'Notes' ,'PublishDate' ,'Rating',\\\n",
    " 'Relationship' ,'Summary' ,'Title' ,'URL' ,'UpdateDate' ,'Words'], how='inner')\n",
    "    \n",
    "    df['fandom_category'] = fandom\n",
    "    \n",
    "#     df = df.replace([np.inf, -np.inf], np.nan)\n",
    "#     df['Hits'].fillna(0, inplace=True)\n",
    "#     df['Kudos'].fillna(0, inplace=True)\n",
    "#     df['Bookmarks'].fillna(0, inplace=True)\n",
    "#     df['Comments'].fillna(0, inplace=True)\n",
    "\n",
    "#     df['Kudos'] = df['Kudos']/df['Chapters']\n",
    "#     df = df.replace([np.inf, -np.inf], np.nan)\n",
    "#     df['Kudos'].dropna()\n",
    "#     df['Kudos'] = np.log(df['Kudos']+0.001)\n",
    "#     df['Kudos'] = df['Kudos'].replace([np.inf, -np.inf], np.nan)\n",
    "#     df['Kudos'] = (df['Kudos'] - df['Kudos'].mean())/df['Kudos'].std(ddof=0)\n",
    "    \n",
    "#     df['Hits'] = df['Hits']/df['Chapters']\n",
    "#     df = df.replace([np.inf, -np.inf], np.nan)\n",
    "#     df['Hits'].dropna()\n",
    "#     df['Hits'] = np.log(df['Hits']+0.001)\n",
    "#     df['Hits'] = (df['Hits'] - df['Hits'].mean())/df['Hits'].std(ddof=0)\n",
    "    \n",
    "#     df['Comments'] = np.log(df['Comments']+1)\n",
    "#     df = df.replace([np.inf, -np.inf], np.nan)\n",
    "#     df['Comments'] = (df['Comments'] - df['Comments'].mean())/df['Comments'].std(ddof=0)\n",
    "    \n",
    "#     df['Bookmarks'] = df['Bookmarks']/df['Chapters']\n",
    "#     df = df.replace([np.inf, -np.inf], np.nan)\n",
    "#     df['Bookmarks'] = np.log(df['Bookmarks']+0.001)\n",
    "#     df['Bookmarks'] = (df['Bookmarks'] - df['Bookmarks'].mean())/df['Bookmarks'].std(ddof=0)\n",
    "\n",
    "    \n",
    "    freq_rel = find_major_rel(df)\n",
    "    df['Relationship'] = df['Relationship'].apply(lambda x: first_rel(x))\n",
    "    df['Freq_relationship'] = df['Relationship'].apply(lambda x: 1 if x in freq_rel else 0)\n",
    "    del df['Relationship']\n",
    "    df_all.append(df)\n",
    "    "
   ]
  },
  {
   "cell_type": "code",
   "execution_count": 82,
   "metadata": {},
   "outputs": [],
   "source": [
    "df_all = pd.concat(df_all)"
   ]
  },
  {
   "cell_type": "code",
   "execution_count": 83,
   "metadata": {},
   "outputs": [
    {
     "data": {
      "text/plain": [
       "60443"
      ]
     },
     "execution_count": 83,
     "metadata": {},
     "output_type": "execute_result"
    }
   ],
   "source": [
    "len(df_all)"
   ]
  },
  {
   "cell_type": "code",
   "execution_count": 85,
   "metadata": {},
   "outputs": [],
   "source": [
    "# df_all = df.head(500)"
   ]
  },
  {
   "cell_type": "code",
   "execution_count": 86,
   "metadata": {},
   "outputs": [],
   "source": [
    "del df_all['Language']\n",
    "del df_all['Notes']\n",
    "del df_all['Summary']\n",
    "del df_all['Title']\n",
    "del df_all['URL']\n",
    "del df_all['AdditionalTags']\n",
    "del df_all['Fandoms']\n",
    "del df_all['Characters']\n",
    "del df_all['Words']"
   ]
  },
  {
   "cell_type": "code",
   "execution_count": 87,
   "metadata": {},
   "outputs": [],
   "source": [
    "df_all['Category'].fillna('Unknown', inplace=True)\n",
    "df_all['Category_F_F'] = df_all['Category'].apply(lambda x: 1 if 'F/F' in x else 0)\n",
    "df_all['Category_F_M'] = df_all['Category'].apply(lambda x: 1 if 'F/M' in x else 0)\n",
    "df_all['Category_Gen'] = df_all['Category'].apply(lambda x: 1 if 'Gen' in x else 0)\n",
    "df_all['Category_M_M'] = df_all['Category'].apply(lambda x: 1 if 'M/M' in x else 0)\n",
    "df_all['Category_Multi'] = df_all['Category'].apply(lambda x: 1 if 'Multi' in x else 0)\n",
    "df_all['Category_Other'] = df_all['Category'].apply(lambda x: 1 if 'Other' in x else 0)\n",
    "df_all['Category_Unknown'] = df_all['Category'].apply(lambda x: 1 if 'Unknown' in x else 0)\n",
    "del df_all['Category']"
   ]
  },
  {
   "cell_type": "code",
   "execution_count": 88,
   "metadata": {},
   "outputs": [],
   "source": [
    "df_all['ArchiveWarnings_underage'] = df_all['ArchiveWarnings'].apply(lambda x: 1 if 'Underage' in x else 0)\n",
    "df_all['ArchiveWarnings_death'] = df_all['ArchiveWarnings'].apply(lambda x: 1 if 'Major Character Death' in x else 0)\n",
    "df_all['ArchiveWarnings_choose_no'] = df_all['ArchiveWarnings'].apply(lambda x: 1 if 'Creator Chose Not To Use Archive Warnings' in x else 0)\n",
    "df_all['ArchiveWarnings_no_apply'] = df_all['ArchiveWarnings'].apply(lambda x: 1 if 'No Archive Warnings Apply' in x else 0)\n",
    "df_all['ArchiveWarnings_violence'] = df_all['ArchiveWarnings'].apply(lambda x: 1 if 'Graphic Depictions Of Violence' in x else 0)\n",
    "df_all['ArchiveWarnings_noncon'] = df_all['ArchiveWarnings'].apply(lambda x: 1 if 'Rape/Non-Con' in x else 0)\n",
    "\n",
    "del df_all['ArchiveWarnings']"
   ]
  },
  {
   "cell_type": "code",
   "execution_count": 89,
   "metadata": {},
   "outputs": [],
   "source": [
    "# df_all = df_all[df_all['ArchiveWarnings_blood'] != 1]\n",
    "# df_all = df_all[df_all['ArchiveWarnings_none'] != 1]"
   ]
  },
  {
   "cell_type": "code",
   "execution_count": 90,
   "metadata": {},
   "outputs": [],
   "source": [
    "df_all['ChapterIndex'].fillna(0, inplace=True)"
   ]
  },
  {
   "cell_type": "code",
   "execution_count": 91,
   "metadata": {},
   "outputs": [],
   "source": [
    "df_all['Author'].fillna('Unknown', inplace=True)\n",
    "counts = df_all['Author'].value_counts()\n",
    "idx = counts[counts >= 10].index\n",
    "df_all['author_fic_cnt'] = df_all['Author'].apply(lambda x: counts[x])\n",
    "del df_all['Author']"
   ]
  },
  {
   "cell_type": "code",
   "execution_count": 92,
   "metadata": {},
   "outputs": [
    {
     "data": {
      "text/plain": [
       "{'Explicit',\n",
       " 'General Audiences',\n",
       " 'Mature',\n",
       " 'Not Rated',\n",
       " 'Teen And Up Audiences'}"
      ]
     },
     "execution_count": 92,
     "metadata": {},
     "output_type": "execute_result"
    }
   ],
   "source": [
    "set(df['Rating'].tolist())"
   ]
  },
  {
   "cell_type": "code",
   "execution_count": 93,
   "metadata": {},
   "outputs": [],
   "source": [
    "df_all['Rating_E'] = df_all['Rating'].apply(lambda x: 1 if x == 'Explicit' else 0)\n",
    "df_all['Rating_G'] = df_all['Rating'].apply(lambda x: 1 if x == 'General Audiences' else 0)\n",
    "df_all['Rating_M'] = df_all['Rating'].apply(lambda x: 1 if x == 'Mature' else 0)\n",
    "df_all['Rating_N'] = df_all['Rating'].apply(lambda x: 1 if x == 'Not Rated' else 0)\n",
    "df_all['Rating_T'] = df_all['Rating'].apply(lambda x: 1 if x == 'Teen And Up Audiences' else 0)\n",
    "del df_all['Rating']"
   ]
  },
  {
   "cell_type": "code",
   "execution_count": 94,
   "metadata": {},
   "outputs": [],
   "source": [
    "df_all['Fandom_harry_potter'] = df_all['fandom_category'].apply(lambda x: 1 if x == 'harry_potter' else 0)\n",
    "df_all['Fandom_dcu'] = df_all['fandom_category'].apply(lambda x: 1 if x == 'doctor_who_&_related_fandoms' else 0)\n",
    "df_all['Fandom_doctor_who'] = df_all['fandom_category'].apply(lambda x: 1 if x == 'doctor_who_&_related_fandoms' else 0)\n",
    "df_all['Fandom_star_wars'] = df_all['fandom_category'].apply(lambda x: 1 if x == 'star_wars_all_media_types' else 0)\n",
    "df_all['Fandom_arthurian'] = df_all['fandom_category'].apply(lambda x: 1 if x == 'arthurian_mythology_&_related_fandoms' else 0)\n",
    "df_all['Fandom_supernatural'] = df_all['fandom_category'].apply(lambda x: 1 if x == 'supernatural' else 0)\n",
    "df_all['Fandom_haikyuu'] = df_all['fandom_category'].apply(lambda x: 1 if x == 'haikyuu' else 0)\n",
    "df_all['Fandom_kuroko_no_basuke'] = df_all['fandom_category'].apply(lambda x: 1 if x == 'kuroko_no_basuke' else 0)\n",
    "df_all['Fandom_hamilton_miranda'] = df_all['fandom_category'].apply(lambda x: 1 if x == 'hamilton_miranda' else 0)\n",
    "df_all['Fandom_dragon_age'] = df_all['fandom_category'].apply(lambda x: 1 if x == 'dragon_age_all_media_types' else 0)\n",
    "df_all['Fandom_the_walking_dead'] = df_all['fandom_category'].apply(lambda x: 1 if x == 'the_walking_dead_&_related_fandoms' else 0)\n",
    "df_all['Fandom_buffy'] = df_all['fandom_category'].apply(lambda x: 1 if x == 'buffy_the_vampire_slayer' else 0)\n",
    "df_all['Fandom_les_miserables'] = df_all['fandom_category'].apply(lambda x: 1 if x == 'les_miserables_all_media_types' else 0)\n",
    "df_all['Fandom_naruto'] = df_all['fandom_category'].apply(lambda x: 1 if x == 'naruto' else 0)\n",
    "df_all['Fandom_tolkien'] = df_all['fandom_category'].apply(lambda x: 1 if x == 'tolkien_j_r_r_works_&_related_fandoms' else 0)\n",
    "df_all['Fandom_shakespare'] = df_all['fandom_category'].apply(lambda x: 1 if x == 'shakespare_william_works' else 0)\n",
    "df_all['Fandom_hetalia'] = df_all['fandom_category'].apply(lambda x: 1 if x == 'hetalia_axis_powers' else 0)\n",
    "df_all['Fandom_attack_on_titan'] = df_all['fandom_category'].apply(lambda x: 1 if x == 'attack_on_titan' else 0)\n",
    "df_all['Fandom_ms_paint_adventures'] = df_all['fandom_category'].apply(lambda x: 1 if x == 'ms_paint_adventures' else 0)\n",
    "df_all['Fandom_homestuck'] = df_all['fandom_category'].apply(lambda x: 1 if x == 'homestuck' else 0)\n",
    "df_all['Fandom_marvel'] = df_all['fandom_category'].apply(lambda x: 1 if x == 'marvel' else 0)\n",
    "df_all['Fandom_sailor_moon'] = df_all['fandom_category'].apply(lambda x: 1 if x == 'bishoujo_senshi_sailor_moon' else 0)\n",
    "df_all['Fandom_one_direction'] = df_all['fandom_category'].apply(lambda x: 1 if x == 'one_direction' else 0)\n",
    "df_all['Fandom_sherlock'] = df_all['fandom_category'].apply(lambda x: 1 if x == 'sherlock_holmes_&_related_fandoms' else 0)\n",
    "\n",
    "del df_all['fandom_category']"
   ]
  },
  {
   "cell_type": "code",
   "execution_count": 95,
   "metadata": {},
   "outputs": [],
   "source": [
    "def date_today(cell):\n",
    "    try:\n",
    "        y, m, d = cell.split('-')\n",
    "        return abs(date.today() - date(int(y), int(m), int(d))).days\n",
    "    except:\n",
    "        return float('nan')"
   ]
  },
  {
   "cell_type": "code",
   "execution_count": 96,
   "metadata": {},
   "outputs": [],
   "source": [
    "df_all['PublishDate'] = df_all.apply(lambda row: date_today(row['PublishDate']), axis = 1)\n",
    "df_all['CompleteDate'] = df_all.apply(lambda row: date_today(row['CompleteDate']), axis = 1)\n",
    "df_all['UpdateDate'] = df_all.apply(lambda row: date_today(row['UpdateDate']), axis = 1)"
   ]
  },
  {
   "cell_type": "code",
   "execution_count": 97,
   "metadata": {},
   "outputs": [],
   "source": [
    "def find_history(field_list):\n",
    "    field_list = [10000000 if np.isnan(x) else x for x in field_list]\n",
    "    return np.amin(field_list)"
   ]
  },
  {
   "cell_type": "code",
   "execution_count": 98,
   "metadata": {},
   "outputs": [],
   "source": [
    "df_all['history'] = df_all.apply(lambda row: find_history([row['PublishDate'], row['CompleteDate'], row['UpdateDate']]), axis=1)"
   ]
  },
  {
   "cell_type": "code",
   "execution_count": 99,
   "metadata": {},
   "outputs": [],
   "source": [
    "del df_all['PublishDate']\n",
    "del df_all['CompleteDate']\n",
    "del df_all['UpdateDate']"
   ]
  },
  {
   "cell_type": "code",
   "execution_count": 100,
   "metadata": {},
   "outputs": [],
   "source": [
    "df_all = df_all.replace([np.inf, -np.inf], np.nan)"
   ]
  },
  {
   "cell_type": "code",
   "execution_count": 101,
   "metadata": {},
   "outputs": [],
   "source": [
    "df_all = df_all.dropna()"
   ]
  },
  {
   "cell_type": "code",
   "execution_count": 102,
   "metadata": {},
   "outputs": [
    {
     "data": {
      "text/plain": [
       "58361"
      ]
     },
     "execution_count": 102,
     "metadata": {},
     "output_type": "execute_result"
    }
   ],
   "source": [
    "len(df_all)"
   ]
  },
  {
   "cell_type": "code",
   "execution_count": 103,
   "metadata": {},
   "outputs": [
    {
     "data": {
      "text/plain": [
       "array(['Bookmarks', 'ChapterIndex', 'Chapters', 'Comments', 'Hits',\n",
       "       'Kudos', 'Cos', 'JSD', 'Freq_relationship', 'Category_F_F',\n",
       "       'Category_F_M', 'Category_Gen', 'Category_M_M', 'Category_Multi',\n",
       "       'Category_Other', 'Category_Unknown', 'ArchiveWarnings_underage',\n",
       "       'ArchiveWarnings_death', 'ArchiveWarnings_choose_no',\n",
       "       'ArchiveWarnings_no_apply', 'ArchiveWarnings_violence',\n",
       "       'ArchiveWarnings_noncon', 'author_fic_cnt', 'Rating_E', 'Rating_G',\n",
       "       'Rating_M', 'Rating_N', 'Rating_T', 'Fandom_harry_potter',\n",
       "       'Fandom_dcu', 'Fandom_doctor_who', 'Fandom_star_wars',\n",
       "       'Fandom_arthurian', 'Fandom_supernatural', 'Fandom_haikyuu',\n",
       "       'Fandom_kuroko_no_basuke', 'Fandom_hamilton_miranda',\n",
       "       'Fandom_dragon_age', 'Fandom_the_walking_dead', 'Fandom_buffy',\n",
       "       'Fandom_les_miserables', 'Fandom_naruto', 'Fandom_tolkien',\n",
       "       'Fandom_shakespare', 'Fandom_hetalia', 'Fandom_attack_on_titan',\n",
       "       'Fandom_ms_paint_adventures', 'Fandom_homestuck', 'Fandom_marvel',\n",
       "       'Fandom_sailor_moon', 'Fandom_one_direction', 'Fandom_sherlock',\n",
       "       'history'], dtype=object)"
      ]
     },
     "execution_count": 103,
     "metadata": {},
     "output_type": "execute_result"
    }
   ],
   "source": [
    "df_all.columns.values"
   ]
  },
  {
   "cell_type": "code",
   "execution_count": 104,
   "metadata": {},
   "outputs": [],
   "source": [
    "df_all = df_all.rename(columns = {'history':'History', 'Cos': 'Term_novelty', 'JSD': 'Topic_novelty'})"
   ]
  },
  {
   "cell_type": "code",
   "execution_count": 105,
   "metadata": {},
   "outputs": [
    {
     "data": {
      "text/html": [
       "<div>\n",
       "<style scoped>\n",
       "    .dataframe tbody tr th:only-of-type {\n",
       "        vertical-align: middle;\n",
       "    }\n",
       "\n",
       "    .dataframe tbody tr th {\n",
       "        vertical-align: top;\n",
       "    }\n",
       "\n",
       "    .dataframe thead th {\n",
       "        text-align: right;\n",
       "    }\n",
       "</style>\n",
       "<table border=\"1\" class=\"dataframe\">\n",
       "  <thead>\n",
       "    <tr style=\"text-align: right;\">\n",
       "      <th></th>\n",
       "      <th>Bookmarks</th>\n",
       "      <th>ChapterIndex</th>\n",
       "      <th>Chapters</th>\n",
       "      <th>Comments</th>\n",
       "      <th>Hits</th>\n",
       "      <th>Kudos</th>\n",
       "      <th>Term_novelty</th>\n",
       "      <th>Topic_novelty</th>\n",
       "      <th>Freq_relationship</th>\n",
       "      <th>Category_F_F</th>\n",
       "      <th>...</th>\n",
       "      <th>Fandom_shakespare</th>\n",
       "      <th>Fandom_hetalia</th>\n",
       "      <th>Fandom_attack_on_titan</th>\n",
       "      <th>Fandom_ms_paint_adventures</th>\n",
       "      <th>Fandom_homestuck</th>\n",
       "      <th>Fandom_marvel</th>\n",
       "      <th>Fandom_sailor_moon</th>\n",
       "      <th>Fandom_one_direction</th>\n",
       "      <th>Fandom_sherlock</th>\n",
       "      <th>History</th>\n",
       "    </tr>\n",
       "  </thead>\n",
       "  <tbody>\n",
       "    <tr>\n",
       "      <th>0</th>\n",
       "      <td>4</td>\n",
       "      <td>15.0</td>\n",
       "      <td>41</td>\n",
       "      <td>0</td>\n",
       "      <td>928.0</td>\n",
       "      <td>19.0</td>\n",
       "      <td>0.917318</td>\n",
       "      <td>0.609569</td>\n",
       "      <td>0</td>\n",
       "      <td>0</td>\n",
       "      <td>...</td>\n",
       "      <td>0</td>\n",
       "      <td>0</td>\n",
       "      <td>0</td>\n",
       "      <td>0</td>\n",
       "      <td>0</td>\n",
       "      <td>0</td>\n",
       "      <td>0</td>\n",
       "      <td>0</td>\n",
       "      <td>0</td>\n",
       "      <td>2259.0</td>\n",
       "    </tr>\n",
       "    <tr>\n",
       "      <th>1</th>\n",
       "      <td>4</td>\n",
       "      <td>14.0</td>\n",
       "      <td>41</td>\n",
       "      <td>0</td>\n",
       "      <td>928.0</td>\n",
       "      <td>19.0</td>\n",
       "      <td>0.908760</td>\n",
       "      <td>0.647729</td>\n",
       "      <td>0</td>\n",
       "      <td>0</td>\n",
       "      <td>...</td>\n",
       "      <td>0</td>\n",
       "      <td>0</td>\n",
       "      <td>0</td>\n",
       "      <td>0</td>\n",
       "      <td>0</td>\n",
       "      <td>0</td>\n",
       "      <td>0</td>\n",
       "      <td>0</td>\n",
       "      <td>0</td>\n",
       "      <td>2259.0</td>\n",
       "    </tr>\n",
       "    <tr>\n",
       "      <th>2</th>\n",
       "      <td>4</td>\n",
       "      <td>6.0</td>\n",
       "      <td>41</td>\n",
       "      <td>0</td>\n",
       "      <td>928.0</td>\n",
       "      <td>19.0</td>\n",
       "      <td>0.906490</td>\n",
       "      <td>0.600268</td>\n",
       "      <td>0</td>\n",
       "      <td>0</td>\n",
       "      <td>...</td>\n",
       "      <td>0</td>\n",
       "      <td>0</td>\n",
       "      <td>0</td>\n",
       "      <td>0</td>\n",
       "      <td>0</td>\n",
       "      <td>0</td>\n",
       "      <td>0</td>\n",
       "      <td>0</td>\n",
       "      <td>0</td>\n",
       "      <td>2259.0</td>\n",
       "    </tr>\n",
       "    <tr>\n",
       "      <th>3</th>\n",
       "      <td>2</td>\n",
       "      <td>0.0</td>\n",
       "      <td>1</td>\n",
       "      <td>2</td>\n",
       "      <td>1963.0</td>\n",
       "      <td>26.0</td>\n",
       "      <td>0.763119</td>\n",
       "      <td>0.646811</td>\n",
       "      <td>1</td>\n",
       "      <td>0</td>\n",
       "      <td>...</td>\n",
       "      <td>0</td>\n",
       "      <td>0</td>\n",
       "      <td>0</td>\n",
       "      <td>0</td>\n",
       "      <td>0</td>\n",
       "      <td>0</td>\n",
       "      <td>0</td>\n",
       "      <td>0</td>\n",
       "      <td>0</td>\n",
       "      <td>2343.0</td>\n",
       "    </tr>\n",
       "    <tr>\n",
       "      <th>4</th>\n",
       "      <td>11</td>\n",
       "      <td>22.0</td>\n",
       "      <td>23</td>\n",
       "      <td>0</td>\n",
       "      <td>1860.0</td>\n",
       "      <td>51.0</td>\n",
       "      <td>0.801765</td>\n",
       "      <td>0.598763</td>\n",
       "      <td>0</td>\n",
       "      <td>0</td>\n",
       "      <td>...</td>\n",
       "      <td>0</td>\n",
       "      <td>0</td>\n",
       "      <td>0</td>\n",
       "      <td>0</td>\n",
       "      <td>0</td>\n",
       "      <td>0</td>\n",
       "      <td>0</td>\n",
       "      <td>0</td>\n",
       "      <td>0</td>\n",
       "      <td>1967.0</td>\n",
       "    </tr>\n",
       "  </tbody>\n",
       "</table>\n",
       "<p>5 rows × 53 columns</p>\n",
       "</div>"
      ],
      "text/plain": [
       "   Bookmarks  ChapterIndex  Chapters  Comments    Hits  Kudos  Term_novelty  \\\n",
       "0          4          15.0        41         0   928.0   19.0      0.917318   \n",
       "1          4          14.0        41         0   928.0   19.0      0.908760   \n",
       "2          4           6.0        41         0   928.0   19.0      0.906490   \n",
       "3          2           0.0         1         2  1963.0   26.0      0.763119   \n",
       "4         11          22.0        23         0  1860.0   51.0      0.801765   \n",
       "\n",
       "   Topic_novelty  Freq_relationship  Category_F_F   ...     Fandom_shakespare  \\\n",
       "0       0.609569                  0             0   ...                     0   \n",
       "1       0.647729                  0             0   ...                     0   \n",
       "2       0.600268                  0             0   ...                     0   \n",
       "3       0.646811                  1             0   ...                     0   \n",
       "4       0.598763                  0             0   ...                     0   \n",
       "\n",
       "   Fandom_hetalia  Fandom_attack_on_titan  Fandom_ms_paint_adventures  \\\n",
       "0               0                       0                           0   \n",
       "1               0                       0                           0   \n",
       "2               0                       0                           0   \n",
       "3               0                       0                           0   \n",
       "4               0                       0                           0   \n",
       "\n",
       "   Fandom_homestuck  Fandom_marvel  Fandom_sailor_moon  Fandom_one_direction  \\\n",
       "0                 0              0                   0                     0   \n",
       "1                 0              0                   0                     0   \n",
       "2                 0              0                   0                     0   \n",
       "3                 0              0                   0                     0   \n",
       "4                 0              0                   0                     0   \n",
       "\n",
       "   Fandom_sherlock  History  \n",
       "0                0   2259.0  \n",
       "1                0   2259.0  \n",
       "2                0   2259.0  \n",
       "3                0   2343.0  \n",
       "4                0   1967.0  \n",
       "\n",
       "[5 rows x 53 columns]"
      ]
     },
     "execution_count": 105,
     "metadata": {},
     "output_type": "execute_result"
    }
   ],
   "source": [
    "df_all.head()"
   ]
  },
  {
   "cell_type": "code",
   "execution_count": 106,
   "metadata": {},
   "outputs": [],
   "source": [
    "df_all.to_csv('fanfic_regression_data_curated.tsv', sep = '\\t', index=False)"
   ]
  },
  {
   "cell_type": "code",
   "execution_count": 107,
   "metadata": {},
   "outputs": [
    {
     "data": {
      "text/plain": [
       "58361"
      ]
     },
     "execution_count": 107,
     "metadata": {},
     "output_type": "execute_result"
    }
   ],
   "source": [
    "len(df_all)"
   ]
  },
  {
   "cell_type": "markdown",
   "metadata": {},
   "source": [
    "### Correlations"
   ]
  },
  {
   "cell_type": "code",
   "execution_count": 3,
   "metadata": {},
   "outputs": [],
   "source": [
    "df_all = pd.read_csv('fanfic_regression_data_curated.tsv', sep = '\\t')"
   ]
  },
  {
   "cell_type": "code",
   "execution_count": 4,
   "metadata": {},
   "outputs": [],
   "source": [
    "df_all = df_all.rename(columns = {'History': 'Age', 'author_fic_cnt':'Author fiction count',\\\n",
    "                                  'Term_novelty': 'Term novelty', 'Topic_novelty':'Topic novelty'})"
   ]
  },
  {
   "cell_type": "code",
   "execution_count": 5,
   "metadata": {},
   "outputs": [],
   "source": [
    "corr = df_all[['Kudos','Bookmarks', 'Comments', 'Hits','Chapters', 'Author fiction count', 'Term novelty', 'Topic novelty', 'Age']].corr()"
   ]
  },
  {
   "cell_type": "code",
   "execution_count": 6,
   "metadata": {},
   "outputs": [
    {
     "data": {
      "text/html": [
       "<div>\n",
       "<style scoped>\n",
       "    .dataframe tbody tr th:only-of-type {\n",
       "        vertical-align: middle;\n",
       "    }\n",
       "\n",
       "    .dataframe tbody tr th {\n",
       "        vertical-align: top;\n",
       "    }\n",
       "\n",
       "    .dataframe thead th {\n",
       "        text-align: right;\n",
       "    }\n",
       "</style>\n",
       "<table border=\"1\" class=\"dataframe\">\n",
       "  <thead>\n",
       "    <tr style=\"text-align: right;\">\n",
       "      <th></th>\n",
       "      <th>Kudos</th>\n",
       "      <th>Bookmarks</th>\n",
       "      <th>Comments</th>\n",
       "      <th>Hits</th>\n",
       "      <th>Chapters</th>\n",
       "      <th>Author fiction count</th>\n",
       "      <th>Term novelty</th>\n",
       "      <th>Topic novelty</th>\n",
       "      <th>Age</th>\n",
       "    </tr>\n",
       "  </thead>\n",
       "  <tbody>\n",
       "    <tr>\n",
       "      <th>Kudos</th>\n",
       "      <td>1.000000</td>\n",
       "      <td>0.715729</td>\n",
       "      <td>0.338296</td>\n",
       "      <td>0.798946</td>\n",
       "      <td>-0.094954</td>\n",
       "      <td>-0.005213</td>\n",
       "      <td>-0.056259</td>\n",
       "      <td>-0.043916</td>\n",
       "      <td>0.046366</td>\n",
       "    </tr>\n",
       "    <tr>\n",
       "      <th>Bookmarks</th>\n",
       "      <td>0.715729</td>\n",
       "      <td>1.000000</td>\n",
       "      <td>0.417094</td>\n",
       "      <td>0.634013</td>\n",
       "      <td>-0.093631</td>\n",
       "      <td>-0.004965</td>\n",
       "      <td>-0.056281</td>\n",
       "      <td>-0.060374</td>\n",
       "      <td>0.068434</td>\n",
       "    </tr>\n",
       "    <tr>\n",
       "      <th>Comments</th>\n",
       "      <td>0.338296</td>\n",
       "      <td>0.417094</td>\n",
       "      <td>1.000000</td>\n",
       "      <td>0.319370</td>\n",
       "      <td>0.089347</td>\n",
       "      <td>-0.008072</td>\n",
       "      <td>-0.074653</td>\n",
       "      <td>-0.065564</td>\n",
       "      <td>-0.055236</td>\n",
       "    </tr>\n",
       "    <tr>\n",
       "      <th>Hits</th>\n",
       "      <td>0.798946</td>\n",
       "      <td>0.634013</td>\n",
       "      <td>0.319370</td>\n",
       "      <td>1.000000</td>\n",
       "      <td>-0.098320</td>\n",
       "      <td>0.012120</td>\n",
       "      <td>-0.044989</td>\n",
       "      <td>-0.045728</td>\n",
       "      <td>0.131372</td>\n",
       "    </tr>\n",
       "    <tr>\n",
       "      <th>Chapters</th>\n",
       "      <td>-0.094954</td>\n",
       "      <td>-0.093631</td>\n",
       "      <td>0.089347</td>\n",
       "      <td>-0.098320</td>\n",
       "      <td>1.000000</td>\n",
       "      <td>0.010421</td>\n",
       "      <td>-0.002964</td>\n",
       "      <td>0.019393</td>\n",
       "      <td>-0.118477</td>\n",
       "    </tr>\n",
       "    <tr>\n",
       "      <th>Author fiction count</th>\n",
       "      <td>-0.005213</td>\n",
       "      <td>-0.004965</td>\n",
       "      <td>-0.008072</td>\n",
       "      <td>0.012120</td>\n",
       "      <td>0.010421</td>\n",
       "      <td>1.000000</td>\n",
       "      <td>0.012048</td>\n",
       "      <td>0.004063</td>\n",
       "      <td>0.052526</td>\n",
       "    </tr>\n",
       "    <tr>\n",
       "      <th>Term novelty</th>\n",
       "      <td>-0.056259</td>\n",
       "      <td>-0.056281</td>\n",
       "      <td>-0.074653</td>\n",
       "      <td>-0.044989</td>\n",
       "      <td>-0.002964</td>\n",
       "      <td>0.012048</td>\n",
       "      <td>1.000000</td>\n",
       "      <td>0.103160</td>\n",
       "      <td>0.064352</td>\n",
       "    </tr>\n",
       "    <tr>\n",
       "      <th>Topic novelty</th>\n",
       "      <td>-0.043916</td>\n",
       "      <td>-0.060374</td>\n",
       "      <td>-0.065564</td>\n",
       "      <td>-0.045728</td>\n",
       "      <td>0.019393</td>\n",
       "      <td>0.004063</td>\n",
       "      <td>0.103160</td>\n",
       "      <td>1.000000</td>\n",
       "      <td>0.063814</td>\n",
       "    </tr>\n",
       "    <tr>\n",
       "      <th>Age</th>\n",
       "      <td>0.046366</td>\n",
       "      <td>0.068434</td>\n",
       "      <td>-0.055236</td>\n",
       "      <td>0.131372</td>\n",
       "      <td>-0.118477</td>\n",
       "      <td>0.052526</td>\n",
       "      <td>0.064352</td>\n",
       "      <td>0.063814</td>\n",
       "      <td>1.000000</td>\n",
       "    </tr>\n",
       "  </tbody>\n",
       "</table>\n",
       "</div>"
      ],
      "text/plain": [
       "                         Kudos  Bookmarks  Comments      Hits  Chapters  \\\n",
       "Kudos                 1.000000   0.715729  0.338296  0.798946 -0.094954   \n",
       "Bookmarks             0.715729   1.000000  0.417094  0.634013 -0.093631   \n",
       "Comments              0.338296   0.417094  1.000000  0.319370  0.089347   \n",
       "Hits                  0.798946   0.634013  0.319370  1.000000 -0.098320   \n",
       "Chapters             -0.094954  -0.093631  0.089347 -0.098320  1.000000   \n",
       "Author fiction count -0.005213  -0.004965 -0.008072  0.012120  0.010421   \n",
       "Term novelty         -0.056259  -0.056281 -0.074653 -0.044989 -0.002964   \n",
       "Topic novelty        -0.043916  -0.060374 -0.065564 -0.045728  0.019393   \n",
       "Age                   0.046366   0.068434 -0.055236  0.131372 -0.118477   \n",
       "\n",
       "                      Author fiction count  Term novelty  Topic novelty  \\\n",
       "Kudos                            -0.005213     -0.056259      -0.043916   \n",
       "Bookmarks                        -0.004965     -0.056281      -0.060374   \n",
       "Comments                         -0.008072     -0.074653      -0.065564   \n",
       "Hits                              0.012120     -0.044989      -0.045728   \n",
       "Chapters                          0.010421     -0.002964       0.019393   \n",
       "Author fiction count              1.000000      0.012048       0.004063   \n",
       "Term novelty                      0.012048      1.000000       0.103160   \n",
       "Topic novelty                     0.004063      0.103160       1.000000   \n",
       "Age                               0.052526      0.064352       0.063814   \n",
       "\n",
       "                           Age  \n",
       "Kudos                 0.046366  \n",
       "Bookmarks             0.068434  \n",
       "Comments             -0.055236  \n",
       "Hits                  0.131372  \n",
       "Chapters             -0.118477  \n",
       "Author fiction count  0.052526  \n",
       "Term novelty          0.064352  \n",
       "Topic novelty         0.063814  \n",
       "Age                   1.000000  "
      ]
     },
     "execution_count": 6,
     "metadata": {},
     "output_type": "execute_result"
    }
   ],
   "source": [
    "corr"
   ]
  },
  {
   "cell_type": "code",
   "execution_count": 9,
   "metadata": {},
   "outputs": [
    {
     "data": {
      "image/png": "[encoded data removed]",
      "text/plain": [
       "<Figure size 576x576 with 2 Axes>"
      ]
     },
     "metadata": {},
     "output_type": "display_data"
    }
   ],
   "source": [
    "labels = corr.columns.values\n",
    "fig, ax = plt.subplots(figsize = (8,8))\n",
    "\n",
    "# kmin = np.amin(corr.as_matrix())\n",
    "# kmax = np.amax(corr.as_matrix())\n",
    "\n",
    "norm = colors.Normalize(vmin = -1, vmax = 1)\n",
    "im = ax.imshow(corr, norm=norm)\n",
    "\n",
    "# We want to show all ticks...\n",
    "ax.set_xticks(np.arange(len(labels)))\n",
    "ax.set_yticks(np.arange(len(labels)))\n",
    "# ... and label them with the respective list entries\n",
    "ax.set_xticklabels(labels)\n",
    "ax.set_yticklabels(labels)\n",
    "\n",
    "# Rotate the tick labels and set their alignment.\n",
    "plt.setp(ax.get_xticklabels(), rotation=45, ha=\"right\",\n",
    "         rotation_mode=\"anchor\", fontsize='13')\n",
    "\n",
    "plt.setp(ax.get_yticklabels(), fontsize='13')\n",
    "\n",
    "# Loop over data dimensions and create text annotations.\n",
    "for i in range(len(labels)):\n",
    "    for j in range(len(labels)):\n",
    "        text = ax.text(j, i, round(corr.as_matrix()[i, j], 2),\n",
    "                       ha=\"center\", va=\"center\", color=\"w\")\n",
    "\n",
    "ax.set_title(\"\")\n",
    "fig.colorbar(im, shrink=0.7)\n",
    "fig.tight_layout()\n",
    "plt.savefig('variables_corr.pdf', format='pdf')"
   ]
  },
  {
   "cell_type": "code",
   "execution_count": 237,
   "metadata": {},
   "outputs": [
    {
     "data": {
      "image/png": "[encoded data removed]",
      "text/plain": [
       "<matplotlib.figure.Figure at 0x1c28625828>"
      ]
     },
     "metadata": {},
     "output_type": "display_data"
    }
   ],
   "source": [
    "cmap = sns.diverging_palette(5, 250, as_cmap=True)\n",
    "plt.figure(figsize = (8,6))\n",
    "\n",
    "corr_plt = sns.heatmap(corr, cmap=cmap, annot=True cbar_kws={'Normalize':clip=False))\n",
    "plt.tight_layout()\n",
    "# plt.savefig('variables_corr.pdf', format='pdf')"
   ]
  },
  {
   "cell_type": "code",
   "execution_count": null,
   "metadata": {},
   "outputs": [],
   "source": []
  },
  {
   "cell_type": "code",
   "execution_count": null,
   "metadata": {},
   "outputs": [],
   "source": []
  }
 ],
 "metadata": {
  "kernelspec": {
   "display_name": "Python 3",
   "language": "python",
   "name": "python3"
  },
  "language_info": {
   "codemirror_mode": {
    "name": "ipython",
    "version": 3
   },
   "file_extension": ".py",
   "mimetype": "text/x-python",
   "name": "python",
   "nbconvert_exporter": "python",
   "pygments_lexer": "ipython3",
   "version": "3.6.4"
  }
 },
 "nbformat": 4,
 "nbformat_minor": 2
}
