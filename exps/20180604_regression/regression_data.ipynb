{
 "cells": [
  {
   "cell_type": "code",
   "execution_count": 108,
   "metadata": {},
   "outputs": [],
   "source": [
    "import pandas as pd\n",
    "import os\n",
    "import matplotlib.pyplot as plt\n",
    "%matplotlib inline\n",
    "import numpy as np\n",
    "from datetime import date\n",
    "import seaborn as sns\n",
    "from statsmodels.formula.api import ols\n",
    "import statsmodels.api as sm\n",
    "from matplotlib import colors"
   ]
  },
  {
   "cell_type": "markdown",
   "metadata": {},
   "source": [
    "### Create regression data"
   ]
  },
  {
   "cell_type": "code",
   "execution_count": 109,
   "metadata": {},
   "outputs": [],
   "source": [
    "tfidf_path = '../../data/tfidf_toprev_conlen_fulldata/'"
   ]
  },
  {
   "cell_type": "code",
   "execution_count": 110,
   "metadata": {},
   "outputs": [],
   "source": [
    "lda_path = '../../data/lda_jsd_toprev_conlen/'"
   ]
  },
  {
   "cell_type": "code",
   "execution_count": 111,
   "metadata": {},
   "outputs": [],
   "source": [
    "fandom_list = ['harry_potter',\n",
    " 'dcu',\n",
    " 'doctor_who_&_related_fandoms',\n",
    " 'star_wars_all_media_types',\n",
    " 'arthurian_mythology_&_related_fandoms',\n",
    " 'supernatural',\n",
    " 'haikyuu',\n",
    " 'kuroko_no_basuke',\n",
    " 'hamilton_miranda',\n",
    " 'dragon_age_all_media_types',\n",
    " 'the_walking_dead_&_related_fandoms',\n",
    " 'buffy_the_vampire_slayer',\n",
    " 'les_miserables_all_media_types',\n",
    " 'naruto',\n",
    " 'tolkien_j_r_r_works_&_related_fandoms',\n",
    " 'shakespare_william_works',\n",
    " 'hetalia_axis_powers',\n",
    " 'attack_on_titan',\n",
    " 'ms_paint_adventures',\n",
    " 'homestuck',\n",
    " 'marvel',\n",
    " 'bishoujo_senshi_sailor_moon',\n",
    " 'one_direction',\n",
    " 'sherlock_holmes_&_related_fandoms']"
   ]
  },
  {
   "cell_type": "code",
   "execution_count": 112,
   "metadata": {},
   "outputs": [],
   "source": [
    "def first_rel(field):\n",
    "    try:\n",
    "        return field.split(',')[0]\n",
    "    except:\n",
    "        return field"
   ]
  },
  {
   "cell_type": "code",
   "execution_count": 113,
   "metadata": {},
   "outputs": [],
   "source": [
    "def find_major_rel(df):\n",
    "    df['Relationship'] = df.apply(lambda row: first_rel(row['Relationship']), axis=1)\n",
    "    counts = df['Relationship'].value_counts()\n",
    "    return counts.keys()[0:5]\n"
   ]
  },
  {
   "cell_type": "code",
   "execution_count": 115,
   "metadata": {},
   "outputs": [],
   "source": [
    "df_all = []\n",
    "for i,fandom in enumerate(fandom_list):\n",
    "    df_tfidf = pd.read_csv(os.path.join(tfidf_path,fandom + '_temporal_tfidf_cos_toprev_conlen.tsv'), sep = '\\t')\n",
    "    del df_tfidf['index']\n",
    "    df_lda = pd.read_csv(os.path.join(lda_path,fandom + '_temporal_lda_jsd_toprev_full.tsv'), sep = '\\t')\n",
    "    del df_lda['index']\n",
    "    df = pd.merge(df_tfidf, df_lda, on=['AdditionalTags', 'ArchiveWarnings', 'Author', 'Bookmarks', 'Category',\\\n",
    " 'ChapterIndex', 'Chapters' ,'Characters','Comments' ,'CompleteDate',\\\n",
    " 'Fandoms', 'Hits' ,'Kudos', 'Language', 'Notes' ,'PublishDate' ,'Rating',\\\n",
    " 'Relationship' ,'Summary' ,'Title' ,'URL' ,'UpdateDate' ,'Words'], how='inner')\n",
    "    \n",
    "    df['fandom_category'] = fandom\n",
    "    \n",
    "    freq_rel = find_major_rel(df)\n",
    "    df['Relationship'] = df['Relationship'].apply(lambda x: first_rel(x))\n",
    "    df['Freq_relationship'] = df['Relationship'].apply(lambda x: 1 if x in freq_rel else 0)\n",
    "    del df['Relationship']\n",
    "    df_all.append(df)\n",
    "    "
   ]
  },
  {
   "cell_type": "code",
   "execution_count": 116,
   "metadata": {},
   "outputs": [],
   "source": [
    "df_all = pd.concat(df_all)"
   ]
  },
  {
   "cell_type": "code",
   "execution_count": 117,
   "metadata": {},
   "outputs": [
    {
     "data": {
      "text/plain": [
       "701667"
      ]
     },
     "execution_count": 117,
     "metadata": {},
     "output_type": "execute_result"
    }
   ],
   "source": [
    "len(df_all)"
   ]
  },
  {
   "cell_type": "code",
   "execution_count": 118,
   "metadata": {},
   "outputs": [],
   "source": [
    "# df_all = df.head(500)"
   ]
  },
  {
   "cell_type": "code",
   "execution_count": 119,
   "metadata": {},
   "outputs": [],
   "source": [
    "del df_all['Language']\n",
    "del df_all['Notes']\n",
    "del df_all['Summary']\n",
    "del df_all['Title']\n",
    "del df_all['URL']\n",
    "del df_all['AdditionalTags']\n",
    "del df_all['Fandoms']\n",
    "del df_all['Characters']\n",
    "del df_all['Words']"
   ]
  },
  {
   "cell_type": "code",
   "execution_count": 120,
   "metadata": {},
   "outputs": [],
   "source": [
    "df_all['Category'].fillna('Unknown', inplace=True)\n",
    "df_all['Category_F_F'] = df_all['Category'].apply(lambda x: 1 if 'F/F' in x else 0)\n",
    "df_all['Category_F_M'] = df_all['Category'].apply(lambda x: 1 if 'F/M' in x else 0)\n",
    "df_all['Category_Gen'] = df_all['Category'].apply(lambda x: 1 if 'Gen' in x else 0)\n",
    "df_all['Category_M_M'] = df_all['Category'].apply(lambda x: 1 if 'M/M' in x else 0)\n",
    "df_all['Category_Multi'] = df_all['Category'].apply(lambda x: 1 if 'Multi' in x else 0)\n",
    "df_all['Category_Other'] = df_all['Category'].apply(lambda x: 1 if 'Other' in x else 0)\n",
    "df_all['Category_Unknown'] = df_all['Category'].apply(lambda x: 1 if 'Unknown' in x else 0)\n",
    "del df_all['Category']"
   ]
  },
  {
   "cell_type": "code",
   "execution_count": 121,
   "metadata": {},
   "outputs": [],
   "source": [
    "df_all['ArchiveWarnings_underage'] = df_all['ArchiveWarnings'].apply(lambda x: 1 if 'Underage' in x else 0)\n",
    "df_all['ArchiveWarnings_death'] = df_all['ArchiveWarnings'].apply(lambda x: 1 if 'Major Character Death' in x else 0)\n",
    "df_all['ArchiveWarnings_choose_no'] = df_all['ArchiveWarnings'].apply(lambda x: 1 if 'Creator Chose Not To Use Archive Warnings' in x else 0)\n",
    "df_all['ArchiveWarnings_no_apply'] = df_all['ArchiveWarnings'].apply(lambda x: 1 if 'No Archive Warnings Apply' in x else 0)\n",
    "df_all['ArchiveWarnings_violence'] = df_all['ArchiveWarnings'].apply(lambda x: 1 if 'Graphic Depictions Of Violence' in x else 0)\n",
    "df_all['ArchiveWarnings_noncon'] = df_all['ArchiveWarnings'].apply(lambda x: 1 if 'Rape/Non-Con' in x else 0)\n",
    "\n",
    "del df_all['ArchiveWarnings']"
   ]
  },
  {
   "cell_type": "code",
   "execution_count": 122,
   "metadata": {},
   "outputs": [],
   "source": [
    "# df_all = df_all[df_all['ArchiveWarnings_blood'] != 1]\n",
    "# df_all = df_all[df_all['ArchiveWarnings_none'] != 1]"
   ]
  },
  {
   "cell_type": "code",
   "execution_count": 123,
   "metadata": {},
   "outputs": [],
   "source": [
    "df_all['ChapterIndex'].fillna(0, inplace=True)"
   ]
  },
  {
   "cell_type": "code",
   "execution_count": 124,
   "metadata": {},
   "outputs": [],
   "source": [
    "df_all['Author'].fillna('Unknown', inplace=True)\n",
    "counts = df_all['Author'].value_counts()\n",
    "idx = counts[counts >= 10].index\n",
    "df_all['author_fic_cnt'] = df_all['Author'].apply(lambda x: counts[x])\n",
    "del df_all['Author']"
   ]
  },
  {
   "cell_type": "code",
   "execution_count": 126,
   "metadata": {},
   "outputs": [],
   "source": [
    "df_all['Rating_E'] = df_all['Rating'].apply(lambda x: 1 if x == 'Explicit' else 0)\n",
    "df_all['Rating_G'] = df_all['Rating'].apply(lambda x: 1 if x == 'General Audiences' else 0)\n",
    "df_all['Rating_M'] = df_all['Rating'].apply(lambda x: 1 if x == 'Mature' else 0)\n",
    "df_all['Rating_N'] = df_all['Rating'].apply(lambda x: 1 if x == 'Not Rated' else 0)\n",
    "df_all['Rating_T'] = df_all['Rating'].apply(lambda x: 1 if x == 'Teen And Up Audiences' else 0)\n",
    "del df_all['Rating']"
   ]
  },
  {
   "cell_type": "code",
   "execution_count": 127,
   "metadata": {},
   "outputs": [],
   "source": [
    "df_all['Fandom_harry_potter'] = df_all['fandom_category'].apply(lambda x: 1 if x == 'harry_potter' else 0)\n",
    "df_all['Fandom_dcu'] = df_all['fandom_category'].apply(lambda x: 1 if x == 'doctor_who_&_related_fandoms' else 0)\n",
    "df_all['Fandom_doctor_who'] = df_all['fandom_category'].apply(lambda x: 1 if x == 'doctor_who_&_related_fandoms' else 0)\n",
    "df_all['Fandom_star_wars'] = df_all['fandom_category'].apply(lambda x: 1 if x == 'star_wars_all_media_types' else 0)\n",
    "df_all['Fandom_arthurian'] = df_all['fandom_category'].apply(lambda x: 1 if x == 'arthurian_mythology_&_related_fandoms' else 0)\n",
    "df_all['Fandom_supernatural'] = df_all['fandom_category'].apply(lambda x: 1 if x == 'supernatural' else 0)\n",
    "df_all['Fandom_haikyuu'] = df_all['fandom_category'].apply(lambda x: 1 if x == 'haikyuu' else 0)\n",
    "df_all['Fandom_kuroko_no_basuke'] = df_all['fandom_category'].apply(lambda x: 1 if x == 'kuroko_no_basuke' else 0)\n",
    "df_all['Fandom_hamilton_miranda'] = df_all['fandom_category'].apply(lambda x: 1 if x == 'hamilton_miranda' else 0)\n",
    "df_all['Fandom_dragon_age'] = df_all['fandom_category'].apply(lambda x: 1 if x == 'dragon_age_all_media_types' else 0)\n",
    "df_all['Fandom_the_walking_dead'] = df_all['fandom_category'].apply(lambda x: 1 if x == 'the_walking_dead_&_related_fandoms' else 0)\n",
    "df_all['Fandom_buffy'] = df_all['fandom_category'].apply(lambda x: 1 if x == 'buffy_the_vampire_slayer' else 0)\n",
    "df_all['Fandom_les_miserables'] = df_all['fandom_category'].apply(lambda x: 1 if x == 'les_miserables_all_media_types' else 0)\n",
    "df_all['Fandom_naruto'] = df_all['fandom_category'].apply(lambda x: 1 if x == 'naruto' else 0)\n",
    "df_all['Fandom_tolkien'] = df_all['fandom_category'].apply(lambda x: 1 if x == 'tolkien_j_r_r_works_&_related_fandoms' else 0)\n",
    "df_all['Fandom_shakespare'] = df_all['fandom_category'].apply(lambda x: 1 if x == 'shakespare_william_works' else 0)\n",
    "df_all['Fandom_hetalia'] = df_all['fandom_category'].apply(lambda x: 1 if x == 'hetalia_axis_powers' else 0)\n",
    "df_all['Fandom_attack_on_titan'] = df_all['fandom_category'].apply(lambda x: 1 if x == 'attack_on_titan' else 0)\n",
    "df_all['Fandom_ms_paint_adventures'] = df_all['fandom_category'].apply(lambda x: 1 if x == 'ms_paint_adventures' else 0)\n",
    "df_all['Fandom_homestuck'] = df_all['fandom_category'].apply(lambda x: 1 if x == 'homestuck' else 0)\n",
    "df_all['Fandom_marvel'] = df_all['fandom_category'].apply(lambda x: 1 if x == 'marvel' else 0)\n",
    "df_all['Fandom_sailor_moon'] = df_all['fandom_category'].apply(lambda x: 1 if x == 'bishoujo_senshi_sailor_moon' else 0)\n",
    "df_all['Fandom_one_direction'] = df_all['fandom_category'].apply(lambda x: 1 if x == 'one_direction' else 0)\n",
    "df_all['Fandom_sherlock'] = df_all['fandom_category'].apply(lambda x: 1 if x == 'sherlock_holmes_&_related_fandoms' else 0)\n",
    "\n",
    "del df_all['fandom_category']"
   ]
  },
  {
   "cell_type": "code",
   "execution_count": 128,
   "metadata": {},
   "outputs": [],
   "source": [
    "def date_today(cell):\n",
    "    try:\n",
    "        y, m, d = cell.split('-')\n",
    "        return abs(date.today() - date(int(y), int(m), int(d))).days\n",
    "    except:\n",
    "        return float('nan')"
   ]
  },
  {
   "cell_type": "code",
   "execution_count": 129,
   "metadata": {},
   "outputs": [],
   "source": [
    "df_all['PublishDate'] = df_all.apply(lambda row: date_today(row['PublishDate']), axis = 1)\n",
    "df_all['CompleteDate'] = df_all.apply(lambda row: date_today(row['CompleteDate']), axis = 1)\n",
    "df_all['UpdateDate'] = df_all.apply(lambda row: date_today(row['UpdateDate']), axis = 1)"
   ]
  },
  {
   "cell_type": "code",
   "execution_count": 130,
   "metadata": {},
   "outputs": [],
   "source": [
    "def find_history(field_list):\n",
    "    field_list = [10000000 if np.isnan(x) else x for x in field_list]\n",
    "    return np.amin(field_list)"
   ]
  },
  {
   "cell_type": "code",
   "execution_count": 131,
   "metadata": {},
   "outputs": [],
   "source": [
    "df_all['history'] = df_all.apply(lambda row: find_history([row['PublishDate'], row['CompleteDate'], row['UpdateDate']]), axis=1)"
   ]
  },
  {
   "cell_type": "code",
   "execution_count": 132,
   "metadata": {},
   "outputs": [],
   "source": [
    "del df_all['PublishDate']\n",
    "del df_all['CompleteDate']\n",
    "del df_all['UpdateDate']"
   ]
  },
  {
   "cell_type": "code",
   "execution_count": 133,
   "metadata": {},
   "outputs": [],
   "source": [
    "df_all = df_all.replace([np.inf, -np.inf], np.nan)\n",
    "df_all['Hits'].fillna(0, inplace=True)\n",
    "df_all['Kudos'].fillna(0, inplace=True)\n",
    "df_all['Bookmarks'].fillna(0, inplace=True)\n",
    "df_all['Comments'].fillna(0, inplace=True)"
   ]
  },
  {
   "cell_type": "code",
   "execution_count": 134,
   "metadata": {},
   "outputs": [],
   "source": [
    "df_all = df_all.dropna()"
   ]
  },
  {
   "cell_type": "code",
   "execution_count": 135,
   "metadata": {},
   "outputs": [
    {
     "data": {
      "text/plain": [
       "701667"
      ]
     },
     "execution_count": 135,
     "metadata": {},
     "output_type": "execute_result"
    }
   ],
   "source": [
    "len(df_all)"
   ]
  },
  {
   "cell_type": "code",
   "execution_count": 136,
   "metadata": {},
   "outputs": [
    {
     "data": {
      "text/plain": [
       "array(['Bookmarks', 'ChapterIndex', 'Chapters', 'Comments', 'Hits',\n",
       "       'Kudos', 'Cos', 'JSD', 'Freq_relationship', 'Category_F_F',\n",
       "       'Category_F_M', 'Category_Gen', 'Category_M_M', 'Category_Multi',\n",
       "       'Category_Other', 'Category_Unknown', 'ArchiveWarnings_underage',\n",
       "       'ArchiveWarnings_death', 'ArchiveWarnings_choose_no',\n",
       "       'ArchiveWarnings_no_apply', 'ArchiveWarnings_violence',\n",
       "       'ArchiveWarnings_noncon', 'author_fic_cnt', 'Rating_E', 'Rating_G',\n",
       "       'Rating_M', 'Rating_N', 'Rating_T', 'Fandom_harry_potter',\n",
       "       'Fandom_dcu', 'Fandom_doctor_who', 'Fandom_star_wars',\n",
       "       'Fandom_arthurian', 'Fandom_supernatural', 'Fandom_haikyuu',\n",
       "       'Fandom_kuroko_no_basuke', 'Fandom_hamilton_miranda',\n",
       "       'Fandom_dragon_age', 'Fandom_the_walking_dead', 'Fandom_buffy',\n",
       "       'Fandom_les_miserables', 'Fandom_naruto', 'Fandom_tolkien',\n",
       "       'Fandom_shakespare', 'Fandom_hetalia', 'Fandom_attack_on_titan',\n",
       "       'Fandom_ms_paint_adventures', 'Fandom_homestuck', 'Fandom_marvel',\n",
       "       'Fandom_sailor_moon', 'Fandom_one_direction', 'Fandom_sherlock',\n",
       "       'history'], dtype=object)"
      ]
     },
     "execution_count": 136,
     "metadata": {},
     "output_type": "execute_result"
    }
   ],
   "source": [
    "df_all.columns.values"
   ]
  },
  {
   "cell_type": "code",
   "execution_count": 137,
   "metadata": {},
   "outputs": [],
   "source": [
    "df_all = df_all.rename(columns = {'history':'History', 'Cos': 'Term_novelty', 'JSD': 'Topic_novelty'})"
   ]
  },
  {
   "cell_type": "code",
   "execution_count": 138,
   "metadata": {},
   "outputs": [
    {
     "data": {
      "text/html": [
       "<div>\n",
       "<style scoped>\n",
       "    .dataframe tbody tr th:only-of-type {\n",
       "        vertical-align: middle;\n",
       "    }\n",
       "\n",
       "    .dataframe tbody tr th {\n",
       "        vertical-align: top;\n",
       "    }\n",
       "\n",
       "    .dataframe thead th {\n",
       "        text-align: right;\n",
       "    }\n",
       "</style>\n",
       "<table border=\"1\" class=\"dataframe\">\n",
       "  <thead>\n",
       "    <tr style=\"text-align: right;\">\n",
       "      <th></th>\n",
       "      <th>Bookmarks</th>\n",
       "      <th>ChapterIndex</th>\n",
       "      <th>Chapters</th>\n",
       "      <th>Comments</th>\n",
       "      <th>Hits</th>\n",
       "      <th>Kudos</th>\n",
       "      <th>Term_novelty</th>\n",
       "      <th>Topic_novelty</th>\n",
       "      <th>Freq_relationship</th>\n",
       "      <th>Category_F_F</th>\n",
       "      <th>...</th>\n",
       "      <th>Fandom_shakespare</th>\n",
       "      <th>Fandom_hetalia</th>\n",
       "      <th>Fandom_attack_on_titan</th>\n",
       "      <th>Fandom_ms_paint_adventures</th>\n",
       "      <th>Fandom_homestuck</th>\n",
       "      <th>Fandom_marvel</th>\n",
       "      <th>Fandom_sailor_moon</th>\n",
       "      <th>Fandom_one_direction</th>\n",
       "      <th>Fandom_sherlock</th>\n",
       "      <th>History</th>\n",
       "    </tr>\n",
       "  </thead>\n",
       "  <tbody>\n",
       "    <tr>\n",
       "      <th>0</th>\n",
       "      <td>2</td>\n",
       "      <td>1.0</td>\n",
       "      <td>3</td>\n",
       "      <td>0</td>\n",
       "      <td>320.0</td>\n",
       "      <td>8.0</td>\n",
       "      <td>0.778655</td>\n",
       "      <td>0.599456</td>\n",
       "      <td>0</td>\n",
       "      <td>0</td>\n",
       "      <td>...</td>\n",
       "      <td>0</td>\n",
       "      <td>0</td>\n",
       "      <td>0</td>\n",
       "      <td>0</td>\n",
       "      <td>0</td>\n",
       "      <td>0</td>\n",
       "      <td>0</td>\n",
       "      <td>0</td>\n",
       "      <td>0</td>\n",
       "      <td>5136.0</td>\n",
       "    </tr>\n",
       "    <tr>\n",
       "      <th>1</th>\n",
       "      <td>0</td>\n",
       "      <td>0.0</td>\n",
       "      <td>1</td>\n",
       "      <td>0</td>\n",
       "      <td>25.0</td>\n",
       "      <td>1.0</td>\n",
       "      <td>0.713975</td>\n",
       "      <td>0.605999</td>\n",
       "      <td>0</td>\n",
       "      <td>0</td>\n",
       "      <td>...</td>\n",
       "      <td>0</td>\n",
       "      <td>0</td>\n",
       "      <td>0</td>\n",
       "      <td>0</td>\n",
       "      <td>0</td>\n",
       "      <td>0</td>\n",
       "      <td>0</td>\n",
       "      <td>0</td>\n",
       "      <td>0</td>\n",
       "      <td>5589.0</td>\n",
       "    </tr>\n",
       "    <tr>\n",
       "      <th>2</th>\n",
       "      <td>0</td>\n",
       "      <td>0.0</td>\n",
       "      <td>1</td>\n",
       "      <td>1</td>\n",
       "      <td>1359.0</td>\n",
       "      <td>19.0</td>\n",
       "      <td>0.879855</td>\n",
       "      <td>0.625602</td>\n",
       "      <td>1</td>\n",
       "      <td>0</td>\n",
       "      <td>...</td>\n",
       "      <td>0</td>\n",
       "      <td>0</td>\n",
       "      <td>0</td>\n",
       "      <td>0</td>\n",
       "      <td>0</td>\n",
       "      <td>0</td>\n",
       "      <td>0</td>\n",
       "      <td>0</td>\n",
       "      <td>0</td>\n",
       "      <td>5595.0</td>\n",
       "    </tr>\n",
       "    <tr>\n",
       "      <th>3</th>\n",
       "      <td>0</td>\n",
       "      <td>0.0</td>\n",
       "      <td>1</td>\n",
       "      <td>0</td>\n",
       "      <td>60.0</td>\n",
       "      <td>0.0</td>\n",
       "      <td>0.332479</td>\n",
       "      <td>0.573035</td>\n",
       "      <td>0</td>\n",
       "      <td>0</td>\n",
       "      <td>...</td>\n",
       "      <td>0</td>\n",
       "      <td>0</td>\n",
       "      <td>0</td>\n",
       "      <td>0</td>\n",
       "      <td>0</td>\n",
       "      <td>0</td>\n",
       "      <td>0</td>\n",
       "      <td>0</td>\n",
       "      <td>0</td>\n",
       "      <td>5596.0</td>\n",
       "    </tr>\n",
       "    <tr>\n",
       "      <th>4</th>\n",
       "      <td>0</td>\n",
       "      <td>0.0</td>\n",
       "      <td>1</td>\n",
       "      <td>0</td>\n",
       "      <td>495.0</td>\n",
       "      <td>12.0</td>\n",
       "      <td>0.795259</td>\n",
       "      <td>0.650978</td>\n",
       "      <td>1</td>\n",
       "      <td>0</td>\n",
       "      <td>...</td>\n",
       "      <td>0</td>\n",
       "      <td>0</td>\n",
       "      <td>0</td>\n",
       "      <td>0</td>\n",
       "      <td>0</td>\n",
       "      <td>0</td>\n",
       "      <td>0</td>\n",
       "      <td>0</td>\n",
       "      <td>0</td>\n",
       "      <td>5599.0</td>\n",
       "    </tr>\n",
       "  </tbody>\n",
       "</table>\n",
       "<p>5 rows × 53 columns</p>\n",
       "</div>"
      ],
      "text/plain": [
       "   Bookmarks  ChapterIndex  Chapters  Comments    Hits  Kudos  Term_novelty  \\\n",
       "0          2           1.0         3         0   320.0    8.0      0.778655   \n",
       "1          0           0.0         1         0    25.0    1.0      0.713975   \n",
       "2          0           0.0         1         1  1359.0   19.0      0.879855   \n",
       "3          0           0.0         1         0    60.0    0.0      0.332479   \n",
       "4          0           0.0         1         0   495.0   12.0      0.795259   \n",
       "\n",
       "   Topic_novelty  Freq_relationship  Category_F_F   ...     Fandom_shakespare  \\\n",
       "0       0.599456                  0             0   ...                     0   \n",
       "1       0.605999                  0             0   ...                     0   \n",
       "2       0.625602                  1             0   ...                     0   \n",
       "3       0.573035                  0             0   ...                     0   \n",
       "4       0.650978                  1             0   ...                     0   \n",
       "\n",
       "   Fandom_hetalia  Fandom_attack_on_titan  Fandom_ms_paint_adventures  \\\n",
       "0               0                       0                           0   \n",
       "1               0                       0                           0   \n",
       "2               0                       0                           0   \n",
       "3               0                       0                           0   \n",
       "4               0                       0                           0   \n",
       "\n",
       "   Fandom_homestuck  Fandom_marvel  Fandom_sailor_moon  Fandom_one_direction  \\\n",
       "0                 0              0                   0                     0   \n",
       "1                 0              0                   0                     0   \n",
       "2                 0              0                   0                     0   \n",
       "3                 0              0                   0                     0   \n",
       "4                 0              0                   0                     0   \n",
       "\n",
       "   Fandom_sherlock  History  \n",
       "0                0   5136.0  \n",
       "1                0   5589.0  \n",
       "2                0   5595.0  \n",
       "3                0   5596.0  \n",
       "4                0   5599.0  \n",
       "\n",
       "[5 rows x 53 columns]"
      ]
     },
     "execution_count": 138,
     "metadata": {},
     "output_type": "execute_result"
    }
   ],
   "source": [
    "df_all.head()"
   ]
  },
  {
   "cell_type": "code",
   "execution_count": 139,
   "metadata": {},
   "outputs": [],
   "source": [
    "df_all.to_csv('fanfic_regression_data_curated.tsv', sep = '\\t', index=False)"
   ]
  },
  {
   "cell_type": "markdown",
   "metadata": {},
   "source": [
    "### Correlations"
   ]
  },
  {
   "cell_type": "code",
   "execution_count": 235,
   "metadata": {},
   "outputs": [],
   "source": [
    "df_all = df_all.rename(columns = {'History': 'Age', 'author_fic_cnt':'Author fiction count',\\\n",
    "                                  'Term_novelty': 'Term novelty', 'Topic_novelty':'Topic novelty'})"
   ]
  },
  {
   "cell_type": "code",
   "execution_count": 251,
   "metadata": {},
   "outputs": [],
   "source": [
    "corr = df_all[['Kudos','Bookmarks', 'Comments', 'Hits','Chapters', 'Author fiction count', 'Term novelty', 'Topic novelty', 'Age']].corr()"
   ]
  },
  {
   "cell_type": "code",
   "execution_count": 252,
   "metadata": {},
   "outputs": [
    {
     "data": {
      "text/html": [
       "<div>\n",
       "<style scoped>\n",
       "    .dataframe tbody tr th:only-of-type {\n",
       "        vertical-align: middle;\n",
       "    }\n",
       "\n",
       "    .dataframe tbody tr th {\n",
       "        vertical-align: top;\n",
       "    }\n",
       "\n",
       "    .dataframe thead th {\n",
       "        text-align: right;\n",
       "    }\n",
       "</style>\n",
       "<table border=\"1\" class=\"dataframe\">\n",
       "  <thead>\n",
       "    <tr style=\"text-align: right;\">\n",
       "      <th></th>\n",
       "      <th>Kudos</th>\n",
       "      <th>Bookmarks</th>\n",
       "      <th>Comments</th>\n",
       "      <th>Hits</th>\n",
       "      <th>Chapters</th>\n",
       "      <th>Author fiction count</th>\n",
       "      <th>Term novelty</th>\n",
       "      <th>Topic novelty</th>\n",
       "      <th>Age</th>\n",
       "    </tr>\n",
       "  </thead>\n",
       "  <tbody>\n",
       "    <tr>\n",
       "      <th>Kudos</th>\n",
       "      <td>1.000000</td>\n",
       "      <td>0.709051</td>\n",
       "      <td>0.330852</td>\n",
       "      <td>0.798167</td>\n",
       "      <td>-0.096524</td>\n",
       "      <td>-0.007037</td>\n",
       "      <td>-0.054687</td>\n",
       "      <td>-0.043168</td>\n",
       "      <td>0.043880</td>\n",
       "    </tr>\n",
       "    <tr>\n",
       "      <th>Bookmarks</th>\n",
       "      <td>0.709051</td>\n",
       "      <td>1.000000</td>\n",
       "      <td>0.412726</td>\n",
       "      <td>0.626507</td>\n",
       "      <td>-0.097390</td>\n",
       "      <td>-0.006543</td>\n",
       "      <td>-0.055143</td>\n",
       "      <td>-0.060041</td>\n",
       "      <td>0.065183</td>\n",
       "    </tr>\n",
       "    <tr>\n",
       "      <th>Comments</th>\n",
       "      <td>0.330852</td>\n",
       "      <td>0.412726</td>\n",
       "      <td>1.000000</td>\n",
       "      <td>0.311347</td>\n",
       "      <td>0.093234</td>\n",
       "      <td>-0.007564</td>\n",
       "      <td>-0.074091</td>\n",
       "      <td>-0.063264</td>\n",
       "      <td>-0.055604</td>\n",
       "    </tr>\n",
       "    <tr>\n",
       "      <th>Hits</th>\n",
       "      <td>0.798167</td>\n",
       "      <td>0.626507</td>\n",
       "      <td>0.311347</td>\n",
       "      <td>1.000000</td>\n",
       "      <td>-0.098997</td>\n",
       "      <td>0.010891</td>\n",
       "      <td>-0.041843</td>\n",
       "      <td>-0.045299</td>\n",
       "      <td>0.126444</td>\n",
       "    </tr>\n",
       "    <tr>\n",
       "      <th>Chapters</th>\n",
       "      <td>-0.096524</td>\n",
       "      <td>-0.097390</td>\n",
       "      <td>0.093234</td>\n",
       "      <td>-0.098997</td>\n",
       "      <td>1.000000</td>\n",
       "      <td>0.026309</td>\n",
       "      <td>-0.004501</td>\n",
       "      <td>0.020514</td>\n",
       "      <td>-0.118251</td>\n",
       "    </tr>\n",
       "    <tr>\n",
       "      <th>Author fiction count</th>\n",
       "      <td>-0.007037</td>\n",
       "      <td>-0.006543</td>\n",
       "      <td>-0.007564</td>\n",
       "      <td>0.010891</td>\n",
       "      <td>0.026309</td>\n",
       "      <td>1.000000</td>\n",
       "      <td>0.013218</td>\n",
       "      <td>0.005552</td>\n",
       "      <td>0.052230</td>\n",
       "    </tr>\n",
       "    <tr>\n",
       "      <th>Term novelty</th>\n",
       "      <td>-0.054687</td>\n",
       "      <td>-0.055143</td>\n",
       "      <td>-0.074091</td>\n",
       "      <td>-0.041843</td>\n",
       "      <td>-0.004501</td>\n",
       "      <td>0.013218</td>\n",
       "      <td>1.000000</td>\n",
       "      <td>0.105882</td>\n",
       "      <td>0.078998</td>\n",
       "    </tr>\n",
       "    <tr>\n",
       "      <th>Topic novelty</th>\n",
       "      <td>-0.043168</td>\n",
       "      <td>-0.060041</td>\n",
       "      <td>-0.063264</td>\n",
       "      <td>-0.045299</td>\n",
       "      <td>0.020514</td>\n",
       "      <td>0.005552</td>\n",
       "      <td>0.105882</td>\n",
       "      <td>1.000000</td>\n",
       "      <td>0.068215</td>\n",
       "    </tr>\n",
       "    <tr>\n",
       "      <th>Age</th>\n",
       "      <td>0.043880</td>\n",
       "      <td>0.065183</td>\n",
       "      <td>-0.055604</td>\n",
       "      <td>0.126444</td>\n",
       "      <td>-0.118251</td>\n",
       "      <td>0.052230</td>\n",
       "      <td>0.078998</td>\n",
       "      <td>0.068215</td>\n",
       "      <td>1.000000</td>\n",
       "    </tr>\n",
       "  </tbody>\n",
       "</table>\n",
       "</div>"
      ],
      "text/plain": [
       "                         Kudos  Bookmarks  Comments      Hits  Chapters  \\\n",
       "Kudos                 1.000000   0.709051  0.330852  0.798167 -0.096524   \n",
       "Bookmarks             0.709051   1.000000  0.412726  0.626507 -0.097390   \n",
       "Comments              0.330852   0.412726  1.000000  0.311347  0.093234   \n",
       "Hits                  0.798167   0.626507  0.311347  1.000000 -0.098997   \n",
       "Chapters             -0.096524  -0.097390  0.093234 -0.098997  1.000000   \n",
       "Author fiction count -0.007037  -0.006543 -0.007564  0.010891  0.026309   \n",
       "Term novelty         -0.054687  -0.055143 -0.074091 -0.041843 -0.004501   \n",
       "Topic novelty        -0.043168  -0.060041 -0.063264 -0.045299  0.020514   \n",
       "Age                   0.043880   0.065183 -0.055604  0.126444 -0.118251   \n",
       "\n",
       "                      Author fiction count  Term novelty  Topic novelty  \\\n",
       "Kudos                            -0.007037     -0.054687      -0.043168   \n",
       "Bookmarks                        -0.006543     -0.055143      -0.060041   \n",
       "Comments                         -0.007564     -0.074091      -0.063264   \n",
       "Hits                              0.010891     -0.041843      -0.045299   \n",
       "Chapters                          0.026309     -0.004501       0.020514   \n",
       "Author fiction count              1.000000      0.013218       0.005552   \n",
       "Term novelty                      0.013218      1.000000       0.105882   \n",
       "Topic novelty                     0.005552      0.105882       1.000000   \n",
       "Age                               0.052230      0.078998       0.068215   \n",
       "\n",
       "                           Age  \n",
       "Kudos                 0.043880  \n",
       "Bookmarks             0.065183  \n",
       "Comments             -0.055604  \n",
       "Hits                  0.126444  \n",
       "Chapters             -0.118251  \n",
       "Author fiction count  0.052230  \n",
       "Term novelty          0.078998  \n",
       "Topic novelty         0.068215  \n",
       "Age                   1.000000  "
      ]
     },
     "execution_count": 252,
     "metadata": {},
     "output_type": "execute_result"
    }
   ],
   "source": [
    "corr"
   ]
  },
  {
   "cell_type": "code",
   "execution_count": 276,
   "metadata": {},
   "outputs": [
    {
     "data": {
      "image/png": "[encoded data removed]",
      "text/plain": [
       "<matplotlib.figure.Figure at 0x1c24517908>"
      ]
     },
     "metadata": {},
     "output_type": "display_data"
    }
   ],
   "source": [
    "labels = corr.columns.values\n",
    "fig, ax = plt.subplots(figsize = (8,8))\n",
    "\n",
    "# kmin = np.amin(corr.as_matrix())\n",
    "# kmax = np.amax(corr.as_matrix())\n",
    "\n",
    "norm = colors.Normalize(vmin = -1, vmax = 1)\n",
    "im = ax.imshow(corr, norm=norm)\n",
    "\n",
    "# We want to show all ticks...\n",
    "ax.set_xticks(np.arange(len(labels)))\n",
    "ax.set_yticks(np.arange(len(labels)))\n",
    "# ... and label them with the respective list entries\n",
    "ax.set_xticklabels(labels)\n",
    "ax.set_yticklabels(labels)\n",
    "\n",
    "# Rotate the tick labels and set their alignment.\n",
    "plt.setp(ax.get_xticklabels(), rotation=45, ha=\"right\",\n",
    "         rotation_mode=\"anchor\")\n",
    "\n",
    "# Loop over data dimensions and create text annotations.\n",
    "for i in range(len(labels)):\n",
    "    for j in range(len(labels)):\n",
    "        text = ax.text(j, i, round(corr.as_matrix()[i, j], 2),\n",
    "                       ha=\"center\", va=\"center\", color=\"w\")\n",
    "\n",
    "ax.set_title(\"\")\n",
    "fig.colorbar(im, shrink=0.7)\n",
    "fig.tight_layout()\n",
    "plt.savefig('variables_corr.pdf', format='pdf')"
   ]
  },
  {
   "cell_type": "code",
   "execution_count": 237,
   "metadata": {},
   "outputs": [
    {
     "data": {
      "image/png": "[encoded data removed]",
      "text/plain": [
       "<matplotlib.figure.Figure at 0x1c28625828>"
      ]
     },
     "metadata": {},
     "output_type": "display_data"
    }
   ],
   "source": [
    "cmap = sns.diverging_palette(5, 250, as_cmap=True)\n",
    "plt.figure(figsize = (8,6))\n",
    "\n",
    "corr_plt = sns.heatmap(corr, cmap=cmap, annot=True cbar_kws={'Normalize':clip=False))\n",
    "plt.tight_layout()\n",
    "# plt.savefig('variables_corr.pdf', format='pdf')"
   ]
  },
  {
   "cell_type": "code",
   "execution_count": null,
   "metadata": {},
   "outputs": [],
   "source": []
  },
  {
   "cell_type": "code",
   "execution_count": null,
   "metadata": {},
   "outputs": [],
   "source": []
  }
 ],
 "metadata": {
  "kernelspec": {
   "display_name": "Python 3",
   "language": "python",
   "name": "python3"
  },
  "language_info": {
   "codemirror_mode": {
    "name": "ipython",
    "version": 3
   },
   "file_extension": ".py",
   "mimetype": "text/x-python",
   "name": "python",
   "nbconvert_exporter": "python",
   "pygments_lexer": "ipython3",
   "version": "3.6.4"
  }
 },
 "nbformat": 4,
 "nbformat_minor": 2
}
