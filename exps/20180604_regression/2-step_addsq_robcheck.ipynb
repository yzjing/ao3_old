{
 "cells": [
  {
   "cell_type": "code",
   "execution_count": 51,
   "metadata": {},
   "outputs": [],
   "source": [
    "import pandas as pd\n",
    "import os\n",
    "import matplotlib.pyplot as plt\n",
    "%matplotlib inline\n",
    "import numpy as np\n",
    "import seaborn as sns\n",
    "from statsmodels.formula.api import ols\n",
    "import statsmodels.api as sm\n",
    "from sklearn.linear_model import LogisticRegression"
   ]
  },
  {
   "cell_type": "code",
   "execution_count": 52,
   "metadata": {},
   "outputs": [],
   "source": [
    "df_all = pd.read_csv('fanfic_regression_data_curated_robcheck.tsv', sep = '\\t')"
   ]
  },
  {
   "cell_type": "code",
   "execution_count": 53,
   "metadata": {},
   "outputs": [
    {
     "data": {
      "text/plain": [
       "662728"
      ]
     },
     "execution_count": 53,
     "metadata": {},
     "output_type": "execute_result"
    }
   ],
   "source": [
    "len(df_all)"
   ]
  },
  {
   "cell_type": "code",
   "execution_count": 54,
   "metadata": {},
   "outputs": [],
   "source": [
    "df_all['ChapterIndex'].fillna(0, inplace=True)"
   ]
  },
  {
   "cell_type": "code",
   "execution_count": 55,
   "metadata": {},
   "outputs": [
    {
     "data": {
      "text/plain": [
       "0    0.888159\n",
       "1    0.353749\n",
       "2    0.855796\n",
       "3    0.706213\n",
       "4    0.732386\n",
       "Name: Term_novelty, dtype: float64"
      ]
     },
     "execution_count": 55,
     "metadata": {},
     "output_type": "execute_result"
    }
   ],
   "source": [
    "df_all['Term_novelty'].head()"
   ]
  },
  {
   "cell_type": "code",
   "execution_count": 56,
   "metadata": {},
   "outputs": [],
   "source": [
    "term_ave = np.average(df_all['Term_novelty'])\n",
    "topic_ave = np.average(df_all['Topic_novelty'])\n",
    "df_all['Term_novelty'] = df_all['Term_novelty'] - term_ave\n",
    "df_all['Topic_novelty'] = df_all['Topic_novelty'] - topic_ave\n",
    "df_all['Term_novelty_squared'] = np.square(df_all['Term_novelty'])\n",
    "df_all['Topic_novelty_squared'] = np.square(df_all['Topic_novelty'])"
   ]
  },
  {
   "cell_type": "code",
   "execution_count": 57,
   "metadata": {},
   "outputs": [],
   "source": [
    "# from statsmodels.stats.outliers_influence import variance_inflation_factor\n"
   ]
  },
  {
   "cell_type": "code",
   "execution_count": 58,
   "metadata": {},
   "outputs": [],
   "source": [
    "# df_all = df_all.replace([np.inf, -np.inf], np.nan)\n",
    "# df_all = df_all.dropna(how = 'any')"
   ]
  },
  {
   "cell_type": "code",
   "execution_count": 59,
   "metadata": {},
   "outputs": [],
   "source": [
    "# df_all = df_all[['Chapters',\\\n",
    "#         'Term_novelty', 'Term_novelty_squared', 'Topic_novelty', 'Topic_novelty_squared',\\\n",
    "#         'Freq_relationship', 'Category_F_M',\\\n",
    "#        'Category_Gen', 'Category_M_M', 'Category_Multi', 'Category_Other','Category_Unknown', \\\n",
    "#        'ArchiveWarnings_underage', 'ArchiveWarnings_death',\\\n",
    "#        'ArchiveWarnings_choose_no', 'ArchiveWarnings_no_apply',\\\n",
    "#        'ArchiveWarnings_violence','ArchiveWarnings_noncon',\\\n",
    "#        'author_fic_cnt', 'Rating_G',\\\n",
    "#        'Rating_M', 'Rating_N', 'Rating_T',\\\n",
    "#        'Fandom_dcu', 'Fandom_doctor_who', 'Fandom_star_wars',\n",
    "#        'Fandom_arthurian', 'Fandom_supernatural', 'Fandom_haikyuu',\n",
    "#        'Fandom_kuroko_no_basuke', 'Fandom_hamilton_miranda',\n",
    "#        'Fandom_dragon_age', 'Fandom_the_walking_dead', 'Fandom_buffy',\n",
    "#        'Fandom_les_miserables', 'Fandom_naruto', 'Fandom_tolkien',\n",
    "#        'Fandom_shakespare', 'Fandom_hetalia', 'Fandom_attack_on_titan',\n",
    "#        'Fandom_ms_paint_adventures', 'Fandom_marvel',\n",
    "#        'Fandom_sailor_moon', 'Fandom_one_direction', 'Fandom_sherlock',\n",
    "#        'History']]"
   ]
  },
  {
   "cell_type": "code",
   "execution_count": 60,
   "metadata": {
    "scrolled": true
   },
   "outputs": [],
   "source": [
    "# for i in range(len(df_all.columns.values)):\n",
    "#     print(df_all.columns.values[i], variance_inflation_factor(df_all.values, i))"
   ]
  },
  {
   "cell_type": "markdown",
   "metadata": {},
   "source": [
    "### Logistic"
   ]
  },
  {
   "cell_type": "code",
   "execution_count": 61,
   "metadata": {},
   "outputs": [
    {
     "data": {
      "text/plain": [
       "array(['Bookmarks', 'ChapterIndex', 'Chapters', 'Comments', 'Hits',\n",
       "       'Kudos', 'Term_novelty', 'Topic_novelty', 'Freq_relationship',\n",
       "       'Category_F_F', 'Category_F_M', 'Category_Gen', 'Category_M_M',\n",
       "       'Category_Multi', 'Category_Other', 'Category_Unknown',\n",
       "       'ArchiveWarnings_underage', 'ArchiveWarnings_death',\n",
       "       'ArchiveWarnings_choose_no', 'ArchiveWarnings_no_apply',\n",
       "       'ArchiveWarnings_violence', 'ArchiveWarnings_noncon',\n",
       "       'author_fic_cnt', 'Rating_E', 'Rating_G', 'Rating_M', 'Rating_N',\n",
       "       'Rating_T', 'Fandom_harry_potter', 'Fandom_dcu',\n",
       "       'Fandom_doctor_who', 'Fandom_star_wars', 'Fandom_arthurian',\n",
       "       'Fandom_supernatural', 'Fandom_haikyuu', 'Fandom_kuroko_no_basuke',\n",
       "       'Fandom_hamilton_miranda', 'Fandom_dragon_age',\n",
       "       'Fandom_the_walking_dead', 'Fandom_buffy', 'Fandom_les_miserables',\n",
       "       'Fandom_naruto', 'Fandom_tolkien', 'Fandom_shakespare',\n",
       "       'Fandom_hetalia', 'Fandom_attack_on_titan',\n",
       "       'Fandom_ms_paint_adventures', 'Fandom_marvel',\n",
       "       'Fandom_sailor_moon', 'Fandom_one_direction', 'Fandom_sherlock',\n",
       "       'History', 'Term_novelty_squared', 'Topic_novelty_squared'],\n",
       "      dtype=object)"
      ]
     },
     "execution_count": 61,
     "metadata": {},
     "output_type": "execute_result"
    }
   ],
   "source": [
    "df_all.columns.values"
   ]
  },
  {
   "cell_type": "code",
   "execution_count": 62,
   "metadata": {},
   "outputs": [],
   "source": [
    "def run_logit(df, field):\n",
    "    df = df.replace([np.inf, -np.inf], np.nan)\n",
    "    df = df.dropna(how = 'any')\n",
    "    df['Intercept'] = 1.0\n",
    "    df['binary'] = df[field].apply(lambda x: 1 if x != 0.0 else 0)\n",
    "    logit_model = sm.Logit(df['binary'], df[['Chapters',\\\n",
    "        'Term_novelty', 'Term_novelty_squared', 'Topic_novelty', 'Topic_novelty_squared',\\\n",
    "        'Freq_relationship', 'Category_F_M',\\\n",
    "       'Category_Gen', 'Category_M_M', 'Category_Multi', 'Category_Other','Category_Unknown', \\\n",
    "       'ArchiveWarnings_underage', 'ArchiveWarnings_death',\\\n",
    "       'ArchiveWarnings_choose_no', 'ArchiveWarnings_noncon',\\\n",
    "       'ArchiveWarnings_violence',\\\n",
    "       'author_fic_cnt', 'Rating_G',\\\n",
    "       'Rating_M', 'Rating_N', 'Rating_T',\\\n",
    "       'Fandom_dcu', 'Fandom_doctor_who', 'Fandom_star_wars',\n",
    "       'Fandom_arthurian', 'Fandom_supernatural', 'Fandom_haikyuu',\n",
    "       'Fandom_kuroko_no_basuke', 'Fandom_hamilton_miranda',\n",
    "       'Fandom_dragon_age', 'Fandom_the_walking_dead', 'Fandom_buffy',\n",
    "       'Fandom_les_miserables', 'Fandom_naruto', 'Fandom_tolkien',\n",
    "       'Fandom_shakespare', 'Fandom_hetalia', 'Fandom_attack_on_titan',\n",
    "       'Fandom_ms_paint_adventures', 'Fandom_marvel',\n",
    "       'Fandom_sailor_moon', 'Fandom_one_direction', 'Fandom_sherlock',\n",
    "        'Intercept']]).fit(method='bfgs')\n",
    "    pred = logit_model.predict()\n",
    "    df['nonzero_prob'] = pred\n",
    "    return df"
   ]
  },
  {
   "cell_type": "markdown",
   "metadata": {},
   "source": [
    "### OLS"
   ]
  },
  {
   "cell_type": "code",
   "execution_count": 63,
   "metadata": {},
   "outputs": [],
   "source": [
    "def run_ols(df, field):\n",
    "    df = run_logit(df, field)\n",
    "    df['Kudos'] = np.log(df['Kudos']+0.001)\n",
    "    df['Hits'] = np.log(df['Hits']+0.001)\n",
    "    df['Comments'] = np.log(df['Comments']+1)\n",
    "    df['Bookmarks'] = np.log(df['Bookmarks']+0.001)\n",
    "    df = df.replace([np.inf, -np.inf], np.nan)\n",
    "    df = df.dropna(how = 'any')\n",
    "    model = ols( field + \" ~ Term_novelty + Term_novelty_squared + Topic_novelty + Topic_novelty_squared\\\n",
    " + Chapters + Freq_relationship + author_fic_cnt  \\\n",
    " + Category_Gen + Category_F_M + Category_M_M + Category_Multi + Category_Other + Category_Unknown \\\n",
    " + ArchiveWarnings_underage + ArchiveWarnings_death + ArchiveWarnings_violence +\\\n",
    " ArchiveWarnings_choose_no +\\\n",
    " ArchiveWarnings_noncon + Rating_N + Rating_E + Rating_M + Rating_T\\\n",
    " + Fandom_dcu + Fandom_doctor_who + Fandom_star_wars + Fandom_arthurian + \\\n",
    " Fandom_supernatural + Fandom_haikyuu + Fandom_kuroko_no_basuke + Fandom_hamilton_miranda\\\n",
    " + Fandom_dragon_age + Fandom_the_walking_dead + Fandom_buffy + Fandom_les_miserables \\\n",
    " + Fandom_naruto + Fandom_tolkien + Fandom_shakespare + Fandom_hetalia + \\\n",
    " Fandom_attack_on_titan + Fandom_ms_paint_adventures +\\\n",
    " Fandom_marvel + Fandom_sailor_moon + Fandom_one_direction + Fandom_sherlock \\\n",
    " + nonzero_prob\", data = df).fit()\n",
    "    return model"
   ]
  },
  {
   "cell_type": "markdown",
   "metadata": {},
   "source": [
    "### Plot coefficients"
   ]
  },
  {
   "cell_type": "code",
   "execution_count": 39,
   "metadata": {},
   "outputs": [
    {
     "name": "stderr",
     "output_type": "stream",
     "text": [
      "/anaconda3/envs/python36/lib/python3.6/site-packages/statsmodels/discrete/discrete_model.py:1674: RuntimeWarning: overflow encountered in exp\n",
      "  return 1/(1+np.exp(-X))\n",
      "/anaconda3/envs/python36/lib/python3.6/site-packages/statsmodels/discrete/discrete_model.py:1724: RuntimeWarning: divide by zero encountered in log\n",
      "  return np.sum(np.log(self.cdf(q*np.dot(X,params))))\n",
      "/anaconda3/envs/python36/lib/python3.6/site-packages/statsmodels/discrete/discrete_model.py:1674: RuntimeWarning: overflow encountered in exp\n",
      "  return 1/(1+np.exp(-X))\n",
      "/anaconda3/envs/python36/lib/python3.6/site-packages/statsmodels/discrete/discrete_model.py:1724: RuntimeWarning: divide by zero encountered in log\n",
      "  return np.sum(np.log(self.cdf(q*np.dot(X,params))))\n"
     ]
    },
    {
     "name": "stdout",
     "output_type": "stream",
     "text": [
      "Warning: Maximum number of iterations has been exceeded.\n",
      "         Current function value: 0.077120\n",
      "         Iterations: 35\n",
      "         Function evaluations: 67\n",
      "         Gradient evaluations: 63\n"
     ]
    },
    {
     "name": "stderr",
     "output_type": "stream",
     "text": [
      "/anaconda3/envs/python36/lib/python3.6/site-packages/statsmodels/base/model.py:488: HessianInversionWarning: Inverting hessian failed, no bse or cov_params available\n",
      "  'available', HessianInversionWarning)\n",
      "/anaconda3/envs/python36/lib/python3.6/site-packages/statsmodels/base/model.py:508: ConvergenceWarning: Maximum Likelihood optimization failed to converge. Check mle_retvals\n",
      "  \"Check mle_retvals\", ConvergenceWarning)\n"
     ]
    }
   ],
   "source": [
    "kudos_model = run_ols(df_all, 'Kudos')\n",
    "kudos_coef = np.asarray(list(kudos_model.params)[1:-1])\n",
    "kudos_err = list(kudos_model.bse)[1:-1]"
   ]
  },
  {
   "cell_type": "code",
   "execution_count": 40,
   "metadata": {},
   "outputs": [],
   "source": [
    "ylabels =['Term novelty', 'Term novelty squared', 'Topic novelty', 'Topic novelty squared', 'Chapters', \\\n",
    " 'Frequent relationship',' Author work count',\\\n",
    " 'Category (General)','Category (Female/Male)',' Category (Male/Male) ',' Category (Multiple)','Category (Other)','Category (Unknown)\\\n",
    " ','ArchiveWarnings (Underage)','ArchiveWarnings (Death)',' ArchiveWarnings (Violence)','ArchiveWarnings (Choose not to use)','\\\n",
    " ArchiveWarnings (Non-consensual sex)','Rating (Not rated)', 'Rating (Explicit)','Rating (Mature)',' Rating (Teens)\\\n",
    " ',' Fandom (DC) ',' Fandom (Doctor Who) ',' Fandom (Star Wars) ',' Fandom (Arthurian Mythologies)',\\\n",
    "  'Fandom (Supernatural)','Fandom (Haikyuu)',' Fandom (Kuroko no Basuke)',' Fandom (Hamilton (by Miranda))\\\n",
    " ',' Fandom (Dragon Age)',' Fandom (The Walking Dead)',' Fandom (Buffy the Vampire Slayer)','Fandom (Les Miserables)\\\n",
    " ',' Fandom (Naruto)','Fandom (Works of J.R.R.Tolkien)',' Fandom (Works of William Shakespare)','Fandom (Hetalia: Axis Powers)',' \\\n",
    " Fandom (Attack on Titan)',' Fandom (MS Paint Adventures)','\\\n",
    "Fandom (Marvel)',' Fandom (Sailor Moon)',' Fandom (One Direction)','Fandom (Sherlock Holmes)'][::-1]"
   ]
  },
  {
   "cell_type": "code",
   "execution_count": 41,
   "metadata": {},
   "outputs": [
    {
     "name": "stderr",
     "output_type": "stream",
     "text": [
      "/anaconda3/envs/python36/lib/python3.6/site-packages/statsmodels/discrete/discrete_model.py:1674: RuntimeWarning: overflow encountered in exp\n",
      "  return 1/(1+np.exp(-X))\n",
      "/anaconda3/envs/python36/lib/python3.6/site-packages/statsmodels/discrete/discrete_model.py:1724: RuntimeWarning: divide by zero encountered in log\n",
      "  return np.sum(np.log(self.cdf(q*np.dot(X,params))))\n",
      "/anaconda3/envs/python36/lib/python3.6/site-packages/statsmodels/discrete/discrete_model.py:1674: RuntimeWarning: overflow encountered in exp\n",
      "  return 1/(1+np.exp(-X))\n",
      "/anaconda3/envs/python36/lib/python3.6/site-packages/statsmodels/discrete/discrete_model.py:1724: RuntimeWarning: divide by zero encountered in log\n",
      "  return np.sum(np.log(self.cdf(q*np.dot(X,params))))\n"
     ]
    },
    {
     "name": "stdout",
     "output_type": "stream",
     "text": [
      "Warning: Maximum number of iterations has been exceeded.\n",
      "         Current function value: 0.091976\n",
      "         Iterations: 35\n",
      "         Function evaluations: 59\n",
      "         Gradient evaluations: 55\n"
     ]
    },
    {
     "name": "stderr",
     "output_type": "stream",
     "text": [
      "/anaconda3/envs/python36/lib/python3.6/site-packages/statsmodels/base/model.py:508: ConvergenceWarning: Maximum Likelihood optimization failed to converge. Check mle_retvals\n",
      "  \"Check mle_retvals\", ConvergenceWarning)\n"
     ]
    }
   ],
   "source": [
    "hits_model = run_ols(df_all, 'Hits')\n",
    "hits_coef = list(hits_model.params)[1:-1]\n",
    "hits_err = list(hits_model.bse)[1:-1]"
   ]
  },
  {
   "cell_type": "code",
   "execution_count": 42,
   "metadata": {},
   "outputs": [
    {
     "name": "stderr",
     "output_type": "stream",
     "text": [
      "/anaconda3/envs/python36/lib/python3.6/site-packages/statsmodels/discrete/discrete_model.py:1674: RuntimeWarning: overflow encountered in exp\n",
      "  return 1/(1+np.exp(-X))\n",
      "/anaconda3/envs/python36/lib/python3.6/site-packages/statsmodels/discrete/discrete_model.py:1724: RuntimeWarning: divide by zero encountered in log\n",
      "  return np.sum(np.log(self.cdf(q*np.dot(X,params))))\n",
      "/anaconda3/envs/python36/lib/python3.6/site-packages/statsmodels/discrete/discrete_model.py:1674: RuntimeWarning: overflow encountered in exp\n",
      "  return 1/(1+np.exp(-X))\n",
      "/anaconda3/envs/python36/lib/python3.6/site-packages/statsmodels/discrete/discrete_model.py:1724: RuntimeWarning: divide by zero encountered in log\n",
      "  return np.sum(np.log(self.cdf(q*np.dot(X,params))))\n"
     ]
    },
    {
     "name": "stdout",
     "output_type": "stream",
     "text": [
      "Warning: Desired error not necessarily achieved due to precision loss.\n",
      "         Current function value: 0.693147\n",
      "         Iterations: 0\n",
      "         Function evaluations: 16\n",
      "         Gradient evaluations: 4\n"
     ]
    },
    {
     "name": "stderr",
     "output_type": "stream",
     "text": [
      "/anaconda3/envs/python36/lib/python3.6/site-packages/statsmodels/base/model.py:488: HessianInversionWarning: Inverting hessian failed, no bse or cov_params available\n",
      "  'available', HessianInversionWarning)\n",
      "/anaconda3/envs/python36/lib/python3.6/site-packages/statsmodels/base/model.py:508: ConvergenceWarning: Maximum Likelihood optimization failed to converge. Check mle_retvals\n",
      "  \"Check mle_retvals\", ConvergenceWarning)\n"
     ]
    }
   ],
   "source": [
    "comments_model = run_ols(df_all, 'Comments')\n",
    "comments_coef = list(comments_model.params)[1:-1]\n",
    "comments_err = list(comments_model.bse)[1:-1]"
   ]
  },
  {
   "cell_type": "code",
   "execution_count": 43,
   "metadata": {},
   "outputs": [
    {
     "name": "stderr",
     "output_type": "stream",
     "text": [
      "/anaconda3/envs/python36/lib/python3.6/site-packages/statsmodels/discrete/discrete_model.py:1674: RuntimeWarning: overflow encountered in exp\n",
      "  return 1/(1+np.exp(-X))\n",
      "/anaconda3/envs/python36/lib/python3.6/site-packages/statsmodels/discrete/discrete_model.py:1724: RuntimeWarning: divide by zero encountered in log\n",
      "  return np.sum(np.log(self.cdf(q*np.dot(X,params))))\n",
      "/anaconda3/envs/python36/lib/python3.6/site-packages/statsmodels/discrete/discrete_model.py:1674: RuntimeWarning: overflow encountered in exp\n",
      "  return 1/(1+np.exp(-X))\n",
      "/anaconda3/envs/python36/lib/python3.6/site-packages/statsmodels/discrete/discrete_model.py:1724: RuntimeWarning: divide by zero encountered in log\n",
      "  return np.sum(np.log(self.cdf(q*np.dot(X,params))))\n"
     ]
    },
    {
     "name": "stdout",
     "output_type": "stream",
     "text": [
      "Warning: Maximum number of iterations has been exceeded.\n",
      "         Current function value: 0.422445\n",
      "         Iterations: 35\n",
      "         Function evaluations: 49\n",
      "         Gradient evaluations: 41\n"
     ]
    },
    {
     "name": "stderr",
     "output_type": "stream",
     "text": [
      "/anaconda3/envs/python36/lib/python3.6/site-packages/statsmodels/base/model.py:508: ConvergenceWarning: Maximum Likelihood optimization failed to converge. Check mle_retvals\n",
      "  \"Check mle_retvals\", ConvergenceWarning)\n"
     ]
    }
   ],
   "source": [
    "bookmarks_model = run_ols(df_all, 'Bookmarks')\n",
    "bookmarks_coef = list(bookmarks_model.params)[1:-1]\n",
    "bookmarks_err = list(bookmarks_model.bse)[1:-1]"
   ]
  },
  {
   "cell_type": "code",
   "execution_count": 44,
   "metadata": {},
   "outputs": [],
   "source": [
    "from matplotlib import rc\n",
    "rc('font',**{'family':'sans-serif','sans-serif':['Helvetica']})\n",
    "rc('text', usetex=True)"
   ]
  },
  {
   "cell_type": "code",
   "execution_count": 45,
   "metadata": {},
   "outputs": [
    {
     "data": {
      "image/png": "[encoded data removed]",
      "text/plain": [
       "<Figure size 1080x1080 with 4 Axes>"
      ]
     },
     "metadata": {},
     "output_type": "display_data"
    }
   ],
   "source": [
    "fig, ax = plt.subplots(1,4,figsize = (15,15))\n",
    "ax[0].errorbar(kudos_coef[::-1], range(len(kudos_coef)), xerr=kudos_err[::-1] , fmt='o')\n",
    "\n",
    "ax[0].set_yticks(range(len(kudos_coef)))\n",
    "ax[0].set_yticklabels(ylabels)\n",
    "ax[0].plot([0 for i in range(len(kudos_coef)+2)], range(-1,len(kudos_coef)+1), c='grey', alpha = 0.7)\n",
    "ax[0].plot(range(-8,8), [21.5 for i in range(-8,8)] ,c='grey', alpha = 0.7)\n",
    "ax[0].plot(range(-8,8), [25.5 for i in range(-8,8)] ,c='grey', alpha = 0.7)\n",
    "ax[0].plot(range(-8,8), [30.5 for i in range(-8,8)] ,c='grey', alpha = 0.7)\n",
    "ax[0].plot(range(-8,8), [36.5 for i in range(-8,8)] ,c='grey', alpha = 0.7)\n",
    "ax[0].plot(range(-8,8), [39.5 for i in range(-8,8)] ,c='grey', alpha = 0.7)\n",
    "ax[0].set_ylim(-0.5,43.5)\n",
    "ax[0].set_xlim(-3,3)\n",
    "ax[0].set_xlabel('Kudos', fontsize=15)\n",
    "ax[0].set_title('R-squared = 0.231', fontsize=15)\n",
    "for tick in ax[0].yaxis.get_major_ticks():\n",
    "    tick.label.set_fontsize(13)\n",
    "for tick in ax[0].xaxis.get_major_ticks():\n",
    "    tick.label.set_fontsize(13)\n",
    "    \n",
    "ax[1].errorbar(hits_coef[::-1], range(len(hits_err)), xerr=hits_err[::-1], fmt='o')\n",
    "ax[1].set_yticks(range(len(hits_coef)))\n",
    "# ax[1].set_yticklabels(ylabels)\n",
    "ax[1].plot([0 for i in range(len(hits_coef)+2)], range(-1,len(hits_coef)+1), c='grey', alpha = 0.7)\n",
    "ax[1].plot(range(-8,8), [21.5 for i in range(-8,8)] ,c='grey', alpha = 0.7)\n",
    "ax[1].plot(range(-8,8), [25.5 for i in range(-8,8)] ,c='grey', alpha = 0.7)\n",
    "ax[1].plot(range(-8,8), [30.5 for i in range(-8,8)] ,c='grey', alpha = 0.7)\n",
    "ax[1].plot(range(-8,8), [36.5 for i in range(-8,8)] ,c='grey', alpha = 0.7)\n",
    "ax[1].plot(range(-8,8), [39.5 for i in range(-8,8)] ,c='grey', alpha = 0.7)\n",
    "ax[1].set_ylim(-0.5,43.5)\n",
    "ax[1].set_xlim(-3,6)\n",
    "ax[1].set_yticklabels([])\n",
    "ax[1].set_title('R-squared = 0.114', fontsize=15)\n",
    "ax[1].set_xlabel('Hits', fontsize=15)\n",
    "for tick in ax[1].xaxis.get_major_ticks():\n",
    "    tick.label.set_fontsize(13)\n",
    "    \n",
    "ax[2].errorbar(comments_coef[::-1], range(len(comments_err)), xerr=comments_err[::-1], fmt='o')\n",
    "ax[2].set_yticks(range(len(comments_coef)))\n",
    "ax[2].plot([0 for i in range(len(comments_coef)+2)], range(-1,len(comments_coef)+1), c='grey', alpha = 0.7)\n",
    "ax[2].plot(range(-8,8), [21.5 for i in range(-8,8)] ,c='grey', alpha = 0.7)\n",
    "ax[2].plot(range(-8,8), [25.5 for i in range(-8,8)] ,c='grey', alpha = 0.7)\n",
    "ax[2].plot(range(-8,8), [30.5 for i in range(-8,8)] ,c='grey', alpha = 0.7)\n",
    "ax[2].plot(range(-8,8), [36.5 for i in range(-8,8)] ,c='grey', alpha = 0.7)\n",
    "ax[2].plot(range(-8,8), [39.5 for i in range(-8,8)] ,c='grey', alpha = 0.7)\n",
    "ax[2].set_ylim(-0.5,43.5)\n",
    "ax[2].set_xlim(-2,3)\n",
    "ax[2].set_yticklabels([])\n",
    "ax[2].set_title('R-squared = 0.114', fontsize=15)\n",
    "ax[2].set_xlabel('Comments', fontsize=15)\n",
    "for tick in ax[2].xaxis.get_major_ticks():\n",
    "    tick.label.set_fontsize(13)\n",
    "\n",
    "ax[3].errorbar(bookmarks_coef[::-1], range(len(bookmarks_err)), xerr=bookmarks_err[::-1], fmt='o')\n",
    "ax[3].set_yticks(range(len(bookmarks_coef)))\n",
    "ax[3].plot([0 for i in range(len(bookmarks_coef)+2)], range(-1,len(bookmarks_coef)+1), c='grey', alpha = 0.7)\n",
    "ax[3].plot(range(-8,8), [21.5 for i in range(-8,8)] ,c='grey', alpha = 0.7)\n",
    "ax[3].plot(range(-8,8), [25.5 for i in range(-8,8)] ,c='grey', alpha = 0.7)\n",
    "ax[3].plot(range(-8,8), [30.5 for i in range(-8,8)] ,c='grey', alpha = 0.7)\n",
    "ax[3].plot(range(-8,8), [36.5 for i in range(-8,8)] ,c='grey', alpha = 0.7)\n",
    "ax[3].plot(range(-8,8), [39.5 for i in range(-8,8)] ,c='grey', alpha = 0.7)\n",
    "ax[3].set_ylim(-0.5,43.5)\n",
    "ax[3].set_xlim(-5,4)\n",
    "ax[3].set_yticklabels([])\n",
    "ax[3].set_title('R-squared = 0.156', fontsize=15)\n",
    "ax[3].set_xlabel('Bookmarks', fontsize=15)\n",
    "for tick in ax[2].xaxis.get_major_ticks():\n",
    "    tick.label.set_fontsize(13)\n",
    "    \n",
    "fig.text(0.55, 0.001, 'N = 662793', fontsize = 15)\n",
    "plt.tight_layout()\n",
    "# plt.savefig('ols_coefs_full_ageless.pdf', format='pdf')"
   ]
  },
  {
   "cell_type": "code",
   "execution_count": 46,
   "metadata": {},
   "outputs": [
    {
     "data": {
      "image/png": "[encoded data removed]",
      "text/plain": [
       "<Figure size 1080x360 with 4 Axes>"
      ]
     },
     "metadata": {},
     "output_type": "display_data"
    }
   ],
   "source": [
    "fig, ax = plt.subplots(1,4,figsize = (15,5))\n",
    "ax[0].errorbar(kudos_coef[::-1], range(len(kudos_coef)), xerr=kudos_err[::-1] , fmt='o')\n",
    "\n",
    "ax[0].set_yticks(range(len(kudos_coef)))\n",
    "ax[0].set_yticklabels(ylabels)\n",
    "ax[0].plot([0 for i in range(len(kudos_coef)+2)], range(-1,len(kudos_coef)+1), c='grey', alpha = 0.7)\n",
    "ax[0].plot(range(-8,8), [21.5 for i in range(-8,8)] ,c='grey', alpha = 0.7)\n",
    "ax[0].plot(range(-8,8), [25.5 for i in range(-8,8)] ,c='grey', alpha = 0.7)\n",
    "ax[0].plot(range(-8,8), [30.5 for i in range(-8,8)] ,c='grey', alpha = 0.7)\n",
    "ax[0].plot(range(-8,8), [36.5 for i in range(-8,8)] ,c='grey', alpha = 0.7)\n",
    "ax[0].plot(range(-8,8), [39.5 for i in range(-8,8)] ,c='grey', alpha = 0.7)\n",
    "ax[0].set_ylim(36.5,43.5)\n",
    "ax[0].set_xlim(-3,3)\n",
    "ax[0].set_xlabel('Kudos', fontsize=15)\n",
    "ax[0].set_title('R-squared = 0.231', fontsize=15)\n",
    "for tick in ax[0].yaxis.get_major_ticks():\n",
    "    tick.label.set_fontsize(13)\n",
    "for tick in ax[0].xaxis.get_major_ticks():\n",
    "    tick.label.set_fontsize(13)\n",
    "    \n",
    "ax[1].errorbar(hits_coef[::-1], range(len(hits_err)), xerr=hits_err[::-1], fmt='o')\n",
    "ax[1].set_yticks(range(len(hits_coef)))\n",
    "# ax[1].set_yticklabels(ylabels)\n",
    "ax[1].plot([0 for i in range(len(hits_coef)+2)], range(-1,len(hits_coef)+1), c='grey', alpha = 0.7)\n",
    "ax[1].plot(range(-8,8), [21.5 for i in range(-8,8)] ,c='grey', alpha = 0.7)\n",
    "ax[1].plot(range(-8,8), [25.5 for i in range(-8,8)] ,c='grey', alpha = 0.7)\n",
    "ax[1].plot(range(-8,8), [30.5 for i in range(-8,8)] ,c='grey', alpha = 0.7)\n",
    "ax[1].plot(range(-8,8), [36.5 for i in range(-8,8)] ,c='grey', alpha = 0.7)\n",
    "ax[1].plot(range(-8,8), [39.5 for i in range(-8,8)] ,c='grey', alpha = 0.7)\n",
    "ax[1].set_ylim(36.5,43.5)\n",
    "ax[1].set_xlim(-3,6)\n",
    "ax[1].set_yticklabels([])\n",
    "ax[1].set_title('R-squared = 0.114', fontsize=15)\n",
    "ax[1].set_xlabel('Hits', fontsize=15)\n",
    "for tick in ax[1].xaxis.get_major_ticks():\n",
    "    tick.label.set_fontsize(13)\n",
    "    \n",
    "ax[2].errorbar(comments_coef[::-1], range(len(comments_err)), xerr=comments_err[::-1], fmt='o')\n",
    "ax[2].set_yticks(range(len(comments_coef)))\n",
    "ax[2].plot([0 for i in range(len(comments_coef)+2)], range(-1,len(comments_coef)+1), c='grey', alpha = 0.7)\n",
    "ax[2].plot(range(-8,8), [21.5 for i in range(-8,8)] ,c='grey', alpha = 0.7)\n",
    "ax[2].plot(range(-8,8), [25.5 for i in range(-8,8)] ,c='grey', alpha = 0.7)\n",
    "ax[2].plot(range(-8,8), [30.5 for i in range(-8,8)] ,c='grey', alpha = 0.7)\n",
    "ax[2].plot(range(-8,8), [36.5 for i in range(-8,8)] ,c='grey', alpha = 0.7)\n",
    "ax[2].plot(range(-8,8), [39.5 for i in range(-8,8)] ,c='grey', alpha = 0.7)\n",
    "ax[2].set_ylim(36.5,43.5)\n",
    "ax[2].set_xlim(-2,3)\n",
    "ax[2].set_yticklabels([])\n",
    "ax[2].set_title('R-squared = 0.114', fontsize=15)\n",
    "ax[2].set_xlabel('Comments', fontsize=15)\n",
    "for tick in ax[2].xaxis.get_major_ticks():\n",
    "    tick.label.set_fontsize(13)\n",
    "\n",
    "ax[3].errorbar(bookmarks_coef[::-1], range(len(bookmarks_err)), xerr=bookmarks_err[::-1], fmt='o')\n",
    "ax[3].set_yticks(range(len(bookmarks_coef)))\n",
    "ax[3].plot([0 for i in range(len(bookmarks_coef)+2)], range(-1,len(bookmarks_coef)+1), c='grey', alpha = 0.7)\n",
    "ax[3].plot(range(-8,8), [21.5 for i in range(-8,8)] ,c='grey', alpha = 0.7)\n",
    "ax[3].plot(range(-8,8), [25.5 for i in range(-8,8)] ,c='grey', alpha = 0.7)\n",
    "ax[3].plot(range(-8,8), [30.5 for i in range(-8,8)] ,c='grey', alpha = 0.7)\n",
    "ax[3].plot(range(-8,8), [36.5 for i in range(-8,8)] ,c='grey', alpha = 0.7)\n",
    "ax[3].plot(range(-8,8), [39.5 for i in range(-8,8)] ,c='grey', alpha = 0.7)\n",
    "ax[3].set_ylim(36.5,43.5)\n",
    "ax[3].set_xlim(-5,4)\n",
    "ax[3].set_yticklabels([])\n",
    "ax[3].set_title('R-squared = 0.156', fontsize=15)\n",
    "ax[3].set_xlabel('Bookmarks', fontsize=15)\n",
    "for tick in ax[2].xaxis.get_major_ticks():\n",
    "    tick.label.set_fontsize(13)\n",
    "    \n",
    "fig.text(0.55, 0.001, 'N = 662793', fontsize = 15)\n",
    "plt.tight_layout()\n",
    "# plt.savefig('ols_coefs_partial_ageless.pdf', format='pdf')"
   ]
  },
  {
   "cell_type": "code",
   "execution_count": 47,
   "metadata": {},
   "outputs": [
    {
     "name": "stdout",
     "output_type": "stream",
     "text": [
      "                            OLS Regression Results                            \n",
      "==============================================================================\n",
      "Dep. Variable:                  Kudos   R-squared:                       0.232\n",
      "Model:                            OLS   Adj. R-squared:                  0.232\n",
      "Method:                 Least Squares   F-statistic:                     4540.\n",
      "Date:                Tue, 25 Dec 2018   Prob (F-statistic):               0.00\n",
      "Time:                        17:36:57   Log-Likelihood:            -1.3147e+06\n",
      "No. Observations:              662728   AIC:                         2.630e+06\n",
      "Df Residuals:                  662683   BIC:                         2.630e+06\n",
      "Df Model:                          44                                         \n",
      "Covariance Type:            nonrobust                                         \n",
      "==============================================================================================\n",
      "                                 coef    std err          t      P>|t|      [0.025      0.975]\n",
      "----------------------------------------------------------------------------------------------\n",
      "Intercept                     -3.9536      0.155    -25.487      0.000      -4.258      -3.650\n",
      "Term_novelty                  -0.6360      0.008    -79.707      0.000      -0.652      -0.620\n",
      "Term_novelty_squared          -0.7421      0.043    -17.251      0.000      -0.826      -0.658\n",
      "Topic_novelty                 -1.9143      0.041    -46.580      0.000      -1.995      -1.834\n",
      "Topic_novelty_squared          1.1225      0.470      2.387      0.017       0.201       2.044\n",
      "Chapters                      -0.0100   6.37e-05   -156.540      0.000      -0.010      -0.010\n",
      "Freq_relationship              0.4404      0.006     79.083      0.000       0.429       0.451\n",
      "author_fic_cnt              3.113e-06   2.28e-06      1.364      0.173   -1.36e-06    7.59e-06\n",
      "Category_Gen                  -0.2759      0.006    -44.610      0.000      -0.288      -0.264\n",
      "Category_F_M                  -0.4419      0.006    -80.299      0.000      -0.453      -0.431\n",
      "Category_M_M                   0.2710      0.007     41.357      0.000       0.258       0.284\n",
      "Category_Multi                -0.3101      0.008    -39.013      0.000      -0.326      -0.295\n",
      "Category_Other                -0.4489      0.012    -36.015      0.000      -0.473      -0.424\n",
      "Category_Unknown              -0.6905      0.013    -51.663      0.000      -0.717      -0.664\n",
      "ArchiveWarnings_underage       0.0485      0.013      3.779      0.000       0.023       0.074\n",
      "ArchiveWarnings_death         -0.5279      0.009    -59.771      0.000      -0.545      -0.511\n",
      "ArchiveWarnings_violence      -0.6323      0.008    -81.839      0.000      -0.647      -0.617\n",
      "ArchiveWarnings_choose_no     -0.3063      0.005    -64.483      0.000      -0.316      -0.297\n",
      "ArchiveWarnings_noncon         0.0186      0.012      1.586      0.113      -0.004       0.042\n",
      "Rating_N                      -0.3149      0.009    -37.039      0.000      -0.332      -0.298\n",
      "Rating_E                      -0.0041      0.008     -0.509      0.610      -0.020       0.012\n",
      "Rating_M                      -0.4117      0.007    -55.327      0.000      -0.426      -0.397\n",
      "Rating_T                      -0.4005      0.006    -64.556      0.000      -0.413      -0.388\n",
      "Fandom_dcu                    -0.3764      0.006    -67.069      0.000      -0.387      -0.365\n",
      "Fandom_doctor_who             -0.3764      0.006    -67.069      0.000      -0.387      -0.365\n",
      "Fandom_star_wars               0.3133      0.015     21.059      0.000       0.284       0.342\n",
      "Fandom_arthurian              -0.0651      0.015     -4.215      0.000      -0.095      -0.035\n",
      "Fandom_supernatural           -0.2704      0.008    -32.077      0.000      -0.287      -0.254\n",
      "Fandom_haikyuu                 0.5580      0.017     32.547      0.000       0.524       0.592\n",
      "Fandom_kuroko_no_basuke        0.4126      0.020     20.191      0.000       0.373       0.453\n",
      "Fandom_hamilton_miranda        0.3937      0.039     10.121      0.000       0.317       0.470\n",
      "Fandom_dragon_age             -0.1434      0.011    -12.907      0.000      -0.165      -0.122\n",
      "Fandom_the_walking_dead        0.0314      0.018      1.727      0.084      -0.004       0.067\n",
      "Fandom_buffy                  -1.0337      0.017    -61.620      0.000      -1.067      -1.001\n",
      "Fandom_les_miserables          0.0236      0.020      1.155      0.248      -0.016       0.064\n",
      "Fandom_naruto                 -0.4492      0.020    -22.827      0.000      -0.488      -0.411\n",
      "Fandom_tolkien                -0.1256      0.012    -10.291      0.000      -0.150      -0.102\n",
      "Fandom_shakespare             -0.7940      0.069    -11.531      0.000      -0.929      -0.659\n",
      "Fandom_hetalia                -0.5505      0.016    -34.535      0.000      -0.582      -0.519\n",
      "Fandom_attack_on_titan         0.1454      0.014     10.696      0.000       0.119       0.172\n",
      "Fandom_ms_paint_adventures     0.2871      0.012     24.702      0.000       0.264       0.310\n",
      "Fandom_marvel                  0.6244      0.008     78.884      0.000       0.609       0.640\n",
      "Fandom_sailor_moon            -1.9499      0.045    -43.566      0.000      -2.038      -1.862\n",
      "Fandom_one_direction          -0.6966      0.016    -42.635      0.000      -0.729      -0.665\n",
      "Fandom_sherlock               -0.0315      0.009     -3.525      0.000      -0.049      -0.014\n",
      "nonzero_prob                   6.6448      0.161     41.388      0.000       6.330       6.959\n",
      "==============================================================================\n",
      "Omnibus:                   230959.934   Durbin-Watson:                   1.283\n",
      "Prob(Omnibus):                  0.000   Jarque-Bera (JB):          1284043.080\n",
      "Skew:                          -1.582   Prob(JB):                         0.00\n",
      "Kurtosis:                       9.041   Cond. No.                     1.02e+16\n",
      "==============================================================================\n",
      "\n",
      "Warnings:\n",
      "[1] Standard Errors assume that the covariance matrix of the errors is correctly specified.\n",
      "[2] The smallest eigenvalue is 6.01e-21. This might indicate that there are\n",
      "strong multicollinearity problems or that the design matrix is singular.\n"
     ]
    }
   ],
   "source": [
    "print(kudos_model.summary())"
   ]
  },
  {
   "cell_type": "code",
   "execution_count": 48,
   "metadata": {},
   "outputs": [
    {
     "name": "stdout",
     "output_type": "stream",
     "text": [
      "                            OLS Regression Results                            \n",
      "==============================================================================\n",
      "Dep. Variable:                   Hits   R-squared:                       0.114\n",
      "Model:                            OLS   Adj. R-squared:                  0.114\n",
      "Method:                 Least Squares   F-statistic:                     1944.\n",
      "Date:                Tue, 25 Dec 2018   Prob (F-statistic):               0.00\n",
      "Time:                        17:36:58   Log-Likelihood:            -1.4289e+06\n",
      "No. Observations:              662728   AIC:                         2.858e+06\n",
      "Df Residuals:                  662683   BIC:                         2.858e+06\n",
      "Df Model:                          44                                         \n",
      "Covariance Type:            nonrobust                                         \n",
      "==============================================================================================\n",
      "                                 coef    std err          t      P>|t|      [0.025      0.975]\n",
      "----------------------------------------------------------------------------------------------\n",
      "Intercept                     47.4235      1.226     38.667      0.000      45.020      49.827\n",
      "Term_novelty                  -0.6382      0.010    -62.635      0.000      -0.658      -0.618\n",
      "Term_novelty_squared          -0.5411      0.051    -10.539      0.000      -0.642      -0.441\n",
      "Topic_novelty                 -1.1941      0.049    -24.459      0.000      -1.290      -1.098\n",
      "Topic_novelty_squared          2.3395      0.559      4.188      0.000       1.245       3.434\n",
      "Chapters                      -0.0067    8.2e-05    -81.474      0.000      -0.007      -0.007\n",
      "Freq_relationship              0.5871      0.007     79.624      0.000       0.573       0.602\n",
      "author_fic_cnt                 0.0001   3.61e-06     34.998      0.000       0.000       0.000\n",
      "Category_Gen                  -0.1426      0.008    -17.196      0.000      -0.159      -0.126\n",
      "Category_F_M                   0.0459      0.011      4.274      0.000       0.025       0.067\n",
      "Category_M_M                   0.5461      0.010     54.634      0.000       0.526       0.566\n",
      "Category_Multi                 0.0727      0.011      6.602      0.000       0.051       0.094\n",
      "Category_Other                -0.3123      0.015    -21.048      0.000      -0.341      -0.283\n",
      "Category_Unknown              -0.2906      0.017    -17.548      0.000      -0.323      -0.258\n",
      "ArchiveWarnings_underage       0.1337      0.015      8.762      0.000       0.104       0.164\n",
      "ArchiveWarnings_death         -0.2176      0.011    -19.099      0.000      -0.240      -0.195\n",
      "ArchiveWarnings_violence      -0.1286      0.013     -9.880      0.000      -0.154      -0.103\n",
      "ArchiveWarnings_choose_no      0.1373      0.010     14.334      0.000       0.119       0.156\n",
      "ArchiveWarnings_noncon         0.3838      0.014     26.696      0.000       0.356       0.412\n",
      "Rating_N                      -0.5607      0.011    -49.086      0.000      -0.583      -0.538\n",
      "Rating_E                      -0.4892      0.020    -24.612      0.000      -0.528      -0.450\n",
      "Rating_M                      -0.4586      0.009    -48.473      0.000      -0.477      -0.440\n",
      "Rating_T                      -0.4185      0.008    -50.506      0.000      -0.435      -0.402\n",
      "Fandom_dcu                    -0.2409      0.007    -33.280      0.000      -0.255      -0.227\n",
      "Fandom_doctor_who             -0.2409      0.007    -33.280      0.000      -0.255      -0.227\n",
      "Fandom_star_wars               0.2007      0.018     10.987      0.000       0.165       0.237\n",
      "Fandom_arthurian               0.2036      0.019     10.981      0.000       0.167       0.240\n",
      "Fandom_supernatural           -0.1303      0.012    -11.104      0.000      -0.153      -0.107\n",
      "Fandom_haikyuu                 0.0112      0.021      0.545      0.586      -0.029       0.051\n",
      "Fandom_kuroko_no_basuke       -0.1468      0.024     -6.048      0.000      -0.194      -0.099\n",
      "Fandom_hamilton_miranda       -0.2001      0.046     -4.330      0.000      -0.291      -0.110\n",
      "Fandom_dragon_age             -0.5122      0.013    -38.682      0.000      -0.538      -0.486\n",
      "Fandom_the_walking_dead       -0.3221      0.022    -14.938      0.000      -0.364      -0.280\n",
      "Fandom_buffy                  -0.6725      0.020    -33.736      0.000      -0.712      -0.633\n",
      "Fandom_les_miserables         -0.0156      0.024     -0.638      0.523      -0.063       0.032\n",
      "Fandom_naruto                 -0.5503      0.023    -23.533      0.000      -0.596      -0.504\n",
      "Fandom_tolkien                -0.0699      0.014     -4.835      0.000      -0.098      -0.042\n",
      "Fandom_shakespare             -0.8498      0.082    -10.388      0.000      -1.010      -0.689\n",
      "Fandom_hetalia                -0.7321      0.019    -38.436      0.000      -0.769      -0.695\n",
      "Fandom_attack_on_titan         0.0626      0.017      3.662      0.000       0.029       0.096\n",
      "Fandom_ms_paint_adventures     0.2291      0.015     15.004      0.000       0.199       0.259\n",
      "Fandom_marvel                  0.5711      0.009     60.293      0.000       0.553       0.590\n",
      "Fandom_sailor_moon            -1.5629      0.053    -29.387      0.000      -1.667      -1.459\n",
      "Fandom_one_direction          -0.2292      0.020    -11.656      0.000      -0.268      -0.191\n",
      "Fandom_sherlock                0.4178      0.014     30.139      0.000       0.391       0.445\n",
      "nonzero_prob                 -43.2935      1.265    -34.217      0.000     -45.773     -40.814\n",
      "==============================================================================\n",
      "Omnibus:                   488553.410   Durbin-Watson:                   1.351\n",
      "Prob(Omnibus):                  0.000   Jarque-Bera (JB):          9895681.037\n",
      "Skew:                          -3.409   Prob(JB):                         0.00\n",
      "Kurtosis:                      20.660   Cond. No.                     1.02e+16\n",
      "==============================================================================\n",
      "\n",
      "Warnings:\n",
      "[1] Standard Errors assume that the covariance matrix of the errors is correctly specified.\n",
      "[2] The smallest eigenvalue is 6.01e-21. This might indicate that there are\n",
      "strong multicollinearity problems or that the design matrix is singular.\n"
     ]
    }
   ],
   "source": [
    "print(hits_model.summary())"
   ]
  },
  {
   "cell_type": "code",
   "execution_count": 49,
   "metadata": {},
   "outputs": [
    {
     "name": "stdout",
     "output_type": "stream",
     "text": [
      "                            OLS Regression Results                            \n",
      "==============================================================================\n",
      "Dep. Variable:               Comments   R-squared:                       0.114\n",
      "Model:                            OLS   Adj. R-squared:                  0.114\n",
      "Method:                 Least Squares   F-statistic:                     1987.\n",
      "Date:                Tue, 25 Dec 2018   Prob (F-statistic):               0.00\n",
      "Time:                        17:36:58   Log-Likelihood:            -8.8029e+05\n",
      "No. Observations:              662728   AIC:                         1.761e+06\n",
      "Df Residuals:                  662684   BIC:                         1.761e+06\n",
      "Df Model:                          43                                         \n",
      "Covariance Type:            nonrobust                                         \n",
      "==============================================================================================\n",
      "                                 coef    std err          t      P>|t|      [0.025      0.975]\n",
      "----------------------------------------------------------------------------------------------\n",
      "Intercept                      0.5625      0.004    143.684      0.000       0.555       0.570\n",
      "Term_novelty                  -0.2470      0.004    -61.353      0.000      -0.255      -0.239\n",
      "Term_novelty_squared           0.3479      0.022     15.584      0.000       0.304       0.392\n",
      "Topic_novelty                 -0.8123      0.021    -38.077      0.000      -0.854      -0.770\n",
      "Topic_novelty_squared          1.6832      0.244      6.895      0.000       1.205       2.162\n",
      "Chapters                       0.0005   3.27e-05     15.602      0.000       0.000       0.001\n",
      "Freq_relationship              0.2050      0.003     75.861      0.000       0.200       0.210\n",
      "author_fic_cnt             -5.484e-06   1.18e-06     -4.659      0.000   -7.79e-06   -3.18e-06\n",
      "Category_Gen                  -0.0136      0.003     -4.239      0.000      -0.020      -0.007\n",
      "Category_F_M                  -0.1051      0.003    -38.232      0.000      -0.110      -0.100\n",
      "Category_M_M                   0.1396      0.003     46.829      0.000       0.134       0.145\n",
      "Category_Multi                -0.0644      0.004    -15.612      0.000      -0.072      -0.056\n",
      "Category_Other                -0.1218      0.006    -18.831      0.000      -0.134      -0.109\n",
      "Category_Unknown              -0.1731      0.006    -30.045      0.000      -0.184      -0.162\n",
      "ArchiveWarnings_underage      -0.0333      0.007     -4.992      0.000      -0.046      -0.020\n",
      "ArchiveWarnings_death         -0.1583      0.005    -34.516      0.000      -0.167      -0.149\n",
      "ArchiveWarnings_violence      -0.1474      0.004    -36.762      0.000      -0.155      -0.140\n",
      "ArchiveWarnings_choose_no     -0.1180      0.002    -48.329      0.000      -0.123      -0.113\n",
      "ArchiveWarnings_noncon         0.0199      0.006      3.271      0.001       0.008       0.032\n",
      "Rating_N                      -0.0803      0.004    -18.203      0.000      -0.089      -0.072\n",
      "Rating_E                       0.1268      0.004     30.726      0.000       0.119       0.135\n",
      "Rating_M                      -0.0047      0.004     -1.228      0.220      -0.012       0.003\n",
      "Rating_T                      -0.0659      0.003    -20.616      0.000      -0.072      -0.060\n",
      "Fandom_dcu                    -0.0965      0.003    -33.694      0.000      -0.102      -0.091\n",
      "Fandom_doctor_who             -0.0965      0.003    -33.694      0.000      -0.102      -0.091\n",
      "Fandom_star_wars               0.2876      0.008     37.234      0.000       0.272       0.303\n",
      "Fandom_arthurian               0.0164      0.008      2.049      0.041       0.001       0.032\n",
      "Fandom_supernatural           -0.0770      0.004    -17.599      0.000      -0.086      -0.068\n",
      "Fandom_haikyuu                 0.2618      0.009     29.434      0.000       0.244       0.279\n",
      "Fandom_kuroko_no_basuke        0.0670      0.011      6.319      0.000       0.046       0.088\n",
      "Fandom_hamilton_miranda        0.5573      0.020     27.595      0.000       0.518       0.597\n",
      "Fandom_dragon_age              0.0291      0.006      5.069      0.000       0.018       0.040\n",
      "Fandom_the_walking_dead        0.2540      0.009     26.960      0.000       0.236       0.272\n",
      "Fandom_buffy                  -0.2938      0.009    -33.750      0.000      -0.311      -0.277\n",
      "Fandom_les_miserables          0.0126      0.011      1.184      0.236      -0.008       0.033\n",
      "Fandom_naruto                 -0.1760      0.010    -17.225      0.000      -0.196      -0.156\n",
      "Fandom_tolkien                 0.2997      0.006     48.238      0.000       0.288       0.312\n",
      "Fandom_shakespare             -0.0703      0.036     -1.967      0.049      -0.140      -0.000\n",
      "Fandom_hetalia                -0.3165      0.008    -38.252      0.000      -0.333      -0.300\n",
      "Fandom_attack_on_titan         0.1030      0.007     14.597      0.000       0.089       0.117\n",
      "Fandom_ms_paint_adventures     0.0872      0.006     14.492      0.000       0.075       0.099\n",
      "Fandom_marvel                  0.4550      0.004    115.177      0.000       0.447       0.463\n",
      "Fandom_sailor_moon            -0.4289      0.023    -18.460      0.000      -0.474      -0.383\n",
      "Fandom_one_direction          -0.1560      0.008    -18.389      0.000      -0.173      -0.139\n",
      "Fandom_sherlock                0.1978      0.005     42.898      0.000       0.189       0.207\n",
      "nonzero_prob                   0.2813      0.002    143.684      0.000       0.277       0.285\n",
      "==============================================================================\n",
      "Omnibus:                    44659.474   Durbin-Watson:                   1.611\n",
      "Prob(Omnibus):                  0.000   Jarque-Bera (JB):            53042.779\n",
      "Skew:                           0.682   Prob(JB):                         0.00\n",
      "Kurtosis:                       2.759   Cond. No.                     2.11e+17\n",
      "==============================================================================\n",
      "\n",
      "Warnings:\n",
      "[1] Standard Errors assume that the covariance matrix of the errors is correctly specified.\n",
      "[2] The smallest eigenvalue is 1.41e-23. This might indicate that there are\n",
      "strong multicollinearity problems or that the design matrix is singular.\n"
     ]
    }
   ],
   "source": [
    "print(comments_model.summary())"
   ]
  },
  {
   "cell_type": "code",
   "execution_count": 50,
   "metadata": {},
   "outputs": [
    {
     "name": "stdout",
     "output_type": "stream",
     "text": [
      "                            OLS Regression Results                            \n",
      "==============================================================================\n",
      "Dep. Variable:              Bookmarks   R-squared:                       0.156\n",
      "Model:                            OLS   Adj. R-squared:                  0.156\n",
      "Method:                 Least Squares   F-statistic:                     2785.\n",
      "Date:                Tue, 25 Dec 2018   Prob (F-statistic):               0.00\n",
      "Time:                        17:36:58   Log-Likelihood:            -1.6296e+06\n",
      "No. Observations:              662728   AIC:                         3.259e+06\n",
      "Df Residuals:                  662683   BIC:                         3.260e+06\n",
      "Df Model:                          44                                         \n",
      "Covariance Type:            nonrobust                                         \n",
      "==============================================================================================\n",
      "                                 coef    std err          t      P>|t|      [0.025      0.975]\n",
      "----------------------------------------------------------------------------------------------\n",
      "Intercept                     -2.8661      0.036    -79.685      0.000      -2.937      -2.796\n",
      "Term_novelty                  -0.6662      0.014    -49.059      0.000      -0.693      -0.640\n",
      "Term_novelty_squared          -0.2772      0.069     -4.009      0.000      -0.413      -0.142\n",
      "Topic_novelty                 -3.3970      0.066    -51.311      0.000      -3.527      -3.267\n",
      "Topic_novelty_squared          1.8178      0.756      2.403      0.016       0.335       3.300\n",
      "Chapters                      -0.0047      0.000    -41.204      0.000      -0.005      -0.004\n",
      "Freq_relationship              0.6749      0.009     71.960      0.000       0.656       0.693\n",
      "author_fic_cnt             -7.204e-06   3.66e-06     -1.970      0.049   -1.44e-05   -3.79e-08\n",
      "Category_Gen                  -0.0756      0.010     -7.610      0.000      -0.095      -0.056\n",
      "Category_F_M                  -0.3248      0.009    -38.123      0.000      -0.342      -0.308\n",
      "Category_M_M                   0.5720      0.010     57.001      0.000       0.552       0.592\n",
      "Category_Multi                -0.1378      0.013    -10.739      0.000      -0.163      -0.113\n",
      "Category_Other                -0.4775      0.020    -23.538      0.000      -0.517      -0.438\n",
      "Category_Unknown              -0.6951      0.018    -37.587      0.000      -0.731      -0.659\n",
      "ArchiveWarnings_underage       0.0728      0.021      3.520      0.000       0.032       0.113\n",
      "ArchiveWarnings_death         -0.5089      0.015    -35.002      0.000      -0.537      -0.480\n",
      "ArchiveWarnings_violence      -0.3435      0.012    -27.636      0.000      -0.368      -0.319\n",
      "ArchiveWarnings_choose_no     -0.2261      0.008    -29.888      0.000      -0.241      -0.211\n",
      "ArchiveWarnings_noncon         0.0846      0.019      4.462      0.000       0.047       0.122\n",
      "Rating_N                      -0.0959      0.014     -6.946      0.000      -0.123      -0.069\n",
      "Rating_E                       0.6416      0.014     46.270      0.000       0.614       0.669\n",
      "Rating_M                       0.1582      0.013     12.403      0.000       0.133       0.183\n",
      "Rating_T                       0.0158      0.010      1.536      0.125      -0.004       0.036\n",
      "Fandom_dcu                    -0.5734      0.009    -63.098      0.000      -0.591      -0.556\n",
      "Fandom_doctor_who             -0.5734      0.009    -63.098      0.000      -0.591      -0.556\n",
      "Fandom_star_wars               0.2386      0.024      9.930      0.000       0.191       0.286\n",
      "Fandom_arthurian              -0.3465      0.025    -13.951      0.000      -0.395      -0.298\n",
      "Fandom_supernatural           -0.6685      0.014    -48.894      0.000      -0.695      -0.642\n",
      "Fandom_haikyuu                 0.4573      0.028     16.505      0.000       0.403       0.512\n",
      "Fandom_kuroko_no_basuke        0.1858      0.033      5.650      0.000       0.121       0.250\n",
      "Fandom_hamilton_miranda        0.1575      0.063      2.517      0.012       0.035       0.280\n",
      "Fandom_dragon_age             -0.4866      0.018    -27.313      0.000      -0.521      -0.452\n",
      "Fandom_the_walking_dead       -0.3066      0.029    -10.484      0.000      -0.364      -0.249\n",
      "Fandom_buffy                  -1.3766      0.028    -49.293      0.000      -1.431      -1.322\n",
      "Fandom_les_miserables         -0.5734      0.033    -17.414      0.000      -0.638      -0.509\n",
      "Fandom_naruto                 -0.5878      0.032    -18.552      0.000      -0.650      -0.526\n",
      "Fandom_tolkien                -0.0415      0.019     -2.151      0.032      -0.079      -0.004\n",
      "Fandom_shakespare             -1.8758      0.111    -16.937      0.000      -2.093      -1.659\n",
      "Fandom_hetalia                -1.1979      0.026    -45.894      0.000      -1.249      -1.147\n",
      "Fandom_attack_on_titan        -0.0984      0.022     -4.500      0.000      -0.141      -0.056\n",
      "Fandom_ms_paint_adventures    -0.0713      0.019     -3.792      0.000      -0.108      -0.034\n",
      "Fandom_marvel                  0.7539      0.013     56.551      0.000       0.728       0.780\n",
      "Fandom_sailor_moon            -2.1868      0.072    -30.378      0.000      -2.328      -2.046\n",
      "Fandom_one_direction          -0.6833      0.026    -25.964      0.000      -0.735      -0.632\n",
      "Fandom_sherlock               -0.2009      0.014    -14.029      0.000      -0.229      -0.173\n",
      "nonzero_prob                   1.9335      0.050     38.860      0.000       1.836       2.031\n",
      "==============================================================================\n",
      "Omnibus:                    57020.010   Durbin-Watson:                   1.541\n",
      "Prob(Omnibus):                  0.000   Jarque-Bera (JB):            73098.138\n",
      "Skew:                          -0.812   Prob(JB):                         0.00\n",
      "Kurtosis:                       2.894   Cond. No.                     1.02e+16\n",
      "==============================================================================\n",
      "\n",
      "Warnings:\n",
      "[1] Standard Errors assume that the covariance matrix of the errors is correctly specified.\n",
      "[2] The smallest eigenvalue is 6.01e-21. This might indicate that there are\n",
      "strong multicollinearity problems or that the design matrix is singular.\n"
     ]
    }
   ],
   "source": [
    "print(bookmarks_model.summary())"
   ]
  },
  {
   "cell_type": "code",
   "execution_count": null,
   "metadata": {},
   "outputs": [],
   "source": []
  },
  {
   "cell_type": "code",
   "execution_count": null,
   "metadata": {},
   "outputs": [],
   "source": []
  },
  {
   "cell_type": "code",
   "execution_count": null,
   "metadata": {},
   "outputs": [],
   "source": []
  },
  {
   "cell_type": "code",
   "execution_count": null,
   "metadata": {},
   "outputs": [],
   "source": []
  }
 ],
 "metadata": {
  "kernelspec": {
   "display_name": "Python 3",
   "language": "python",
   "name": "python3"
  },
  "language_info": {
   "codemirror_mode": {
    "name": "ipython",
    "version": 3
   },
   "file_extension": ".py",
   "mimetype": "text/x-python",
   "name": "python",
   "nbconvert_exporter": "python",
   "pygments_lexer": "ipython3",
   "version": "3.6.4"
  }
 },
 "nbformat": 4,
 "nbformat_minor": 2
}
