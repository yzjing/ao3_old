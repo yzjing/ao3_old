{
 "cells": [
  {
   "cell_type": "code",
   "execution_count": 1,
   "metadata": {},
   "outputs": [],
   "source": [
    "import pandas as pd\n",
    "import os\n",
    "import matplotlib.pyplot as plt\n",
    "%matplotlib inline\n",
    "import numpy as np\n",
    "import seaborn as sns\n",
    "from statsmodels.formula.api import ols\n",
    "import statsmodels.api as sm\n",
    "from sklearn.linear_model import LogisticRegression"
   ]
  },
  {
   "cell_type": "code",
   "execution_count": 8,
   "metadata": {},
   "outputs": [],
   "source": [
    "df_all = pd.read_csv('fanfic_regression_data_curated.tsv', sep = '\\t')"
   ]
  },
  {
   "cell_type": "code",
   "execution_count": 9,
   "metadata": {},
   "outputs": [
    {
     "data": {
      "text/plain": [
       "701599"
      ]
     },
     "execution_count": 9,
     "metadata": {},
     "output_type": "execute_result"
    }
   ],
   "source": [
    "len(df_all)"
   ]
  },
  {
   "cell_type": "code",
   "execution_count": 10,
   "metadata": {},
   "outputs": [],
   "source": [
    "df_all['ChapterIndex'].fillna(0, inplace=True)"
   ]
  },
  {
   "cell_type": "code",
   "execution_count": 11,
   "metadata": {},
   "outputs": [
    {
     "data": {
      "text/html": [
       "<div>\n",
       "<style scoped>\n",
       "    .dataframe tbody tr th:only-of-type {\n",
       "        vertical-align: middle;\n",
       "    }\n",
       "\n",
       "    .dataframe tbody tr th {\n",
       "        vertical-align: top;\n",
       "    }\n",
       "\n",
       "    .dataframe thead th {\n",
       "        text-align: right;\n",
       "    }\n",
       "</style>\n",
       "<table border=\"1\" class=\"dataframe\">\n",
       "  <thead>\n",
       "    <tr style=\"text-align: right;\">\n",
       "      <th></th>\n",
       "      <th>Bookmarks</th>\n",
       "      <th>ChapterIndex</th>\n",
       "      <th>Chapters</th>\n",
       "      <th>Comments</th>\n",
       "      <th>Hits</th>\n",
       "      <th>Kudos</th>\n",
       "      <th>Term_novelty</th>\n",
       "      <th>Topic_novelty</th>\n",
       "      <th>Freq_relationship</th>\n",
       "      <th>Category_F_F</th>\n",
       "      <th>...</th>\n",
       "      <th>Fandom_shakespare</th>\n",
       "      <th>Fandom_hetalia</th>\n",
       "      <th>Fandom_attack_on_titan</th>\n",
       "      <th>Fandom_ms_paint_adventures</th>\n",
       "      <th>Fandom_homestuck</th>\n",
       "      <th>Fandom_marvel</th>\n",
       "      <th>Fandom_sailor_moon</th>\n",
       "      <th>Fandom_one_direction</th>\n",
       "      <th>Fandom_sherlock</th>\n",
       "      <th>History</th>\n",
       "    </tr>\n",
       "  </thead>\n",
       "  <tbody>\n",
       "    <tr>\n",
       "      <th>0</th>\n",
       "      <td>0.411820</td>\n",
       "      <td>1.0</td>\n",
       "      <td>3</td>\n",
       "      <td>-0.660467</td>\n",
       "      <td>-0.041314</td>\n",
       "      <td>-0.185058</td>\n",
       "      <td>0.778655</td>\n",
       "      <td>0.599456</td>\n",
       "      <td>0</td>\n",
       "      <td>0</td>\n",
       "      <td>...</td>\n",
       "      <td>0</td>\n",
       "      <td>0</td>\n",
       "      <td>0</td>\n",
       "      <td>0</td>\n",
       "      <td>0</td>\n",
       "      <td>0</td>\n",
       "      <td>0</td>\n",
       "      <td>0</td>\n",
       "      <td>0</td>\n",
       "      <td>5131.0</td>\n",
       "    </tr>\n",
       "    <tr>\n",
       "      <th>1</th>\n",
       "      <td>-1.577527</td>\n",
       "      <td>0.0</td>\n",
       "      <td>1</td>\n",
       "      <td>-0.660467</td>\n",
       "      <td>-0.644380</td>\n",
       "      <td>-0.632639</td>\n",
       "      <td>0.713975</td>\n",
       "      <td>0.605999</td>\n",
       "      <td>0</td>\n",
       "      <td>0</td>\n",
       "      <td>...</td>\n",
       "      <td>0</td>\n",
       "      <td>0</td>\n",
       "      <td>0</td>\n",
       "      <td>0</td>\n",
       "      <td>0</td>\n",
       "      <td>0</td>\n",
       "      <td>0</td>\n",
       "      <td>0</td>\n",
       "      <td>0</td>\n",
       "      <td>5584.0</td>\n",
       "    </tr>\n",
       "  </tbody>\n",
       "</table>\n",
       "<p>2 rows × 53 columns</p>\n",
       "</div>"
      ],
      "text/plain": [
       "   Bookmarks  ChapterIndex  Chapters  Comments      Hits     Kudos  \\\n",
       "0   0.411820           1.0         3 -0.660467 -0.041314 -0.185058   \n",
       "1  -1.577527           0.0         1 -0.660467 -0.644380 -0.632639   \n",
       "\n",
       "   Term_novelty  Topic_novelty  Freq_relationship  Category_F_F   ...     \\\n",
       "0      0.778655       0.599456                  0             0   ...      \n",
       "1      0.713975       0.605999                  0             0   ...      \n",
       "\n",
       "   Fandom_shakespare  Fandom_hetalia  Fandom_attack_on_titan  \\\n",
       "0                  0               0                       0   \n",
       "1                  0               0                       0   \n",
       "\n",
       "   Fandom_ms_paint_adventures  Fandom_homestuck  Fandom_marvel  \\\n",
       "0                           0                 0              0   \n",
       "1                           0                 0              0   \n",
       "\n",
       "   Fandom_sailor_moon  Fandom_one_direction  Fandom_sherlock  History  \n",
       "0                   0                     0                0   5131.0  \n",
       "1                   0                     0                0   5584.0  \n",
       "\n",
       "[2 rows x 53 columns]"
      ]
     },
     "execution_count": 11,
     "metadata": {},
     "output_type": "execute_result"
    }
   ],
   "source": [
    "df_all.head(2)"
   ]
  },
  {
   "cell_type": "markdown",
   "metadata": {},
   "source": [
    "### Logistic"
   ]
  },
  {
   "cell_type": "code",
   "execution_count": 12,
   "metadata": {},
   "outputs": [],
   "source": [
    "df_all['Intercept'] = 1.0"
   ]
  },
  {
   "cell_type": "code",
   "execution_count": 13,
   "metadata": {},
   "outputs": [],
   "source": [
    "df_all['kudos_binary'] = df_all['Kudos'].apply(lambda x: 1 if x != 0.0 else 0)"
   ]
  },
  {
   "cell_type": "code",
   "execution_count": 14,
   "metadata": {},
   "outputs": [
    {
     "data": {
      "text/plain": [
       "1    701599\n",
       "Name: kudos_binary, dtype: int64"
      ]
     },
     "execution_count": 14,
     "metadata": {},
     "output_type": "execute_result"
    }
   ],
   "source": [
    "df_all['kudos_binary'].value_counts()"
   ]
  },
  {
   "cell_type": "code",
   "execution_count": 15,
   "metadata": {},
   "outputs": [],
   "source": [
    "df_all = df_all.replace([np.inf, -np.inf], np.nan)\n",
    "df_all = df_all.dropna(how = 'any')"
   ]
  },
  {
   "cell_type": "code",
   "execution_count": 16,
   "metadata": {},
   "outputs": [
    {
     "data": {
      "text/plain": [
       "701599"
      ]
     },
     "execution_count": 16,
     "metadata": {},
     "output_type": "execute_result"
    }
   ],
   "source": [
    "len(df_all)"
   ]
  },
  {
   "cell_type": "code",
   "execution_count": 17,
   "metadata": {},
   "outputs": [
    {
     "ename": "PerfectSeparationError",
     "evalue": "Perfect separation detected, results not available",
     "output_type": "error",
     "traceback": [
      "\u001b[0;31m---------------------------------------------------------------------------\u001b[0m",
      "\u001b[0;31mPerfectSeparationError\u001b[0m                    Traceback (most recent call last)",
      "\u001b[0;32m<ipython-input-17-632ff6508ef2>\u001b[0m in \u001b[0;36m<module>\u001b[0;34m()\u001b[0m\n\u001b[1;32m      7\u001b[0m        \u001b[0;34m'Fandom_ms_paint_adventures'\u001b[0m\u001b[0;34m,\u001b[0m \u001b[0;34m'Fandom_homestuck'\u001b[0m\u001b[0;34m,\u001b[0m \u001b[0;34m'Fandom_marvel'\u001b[0m\u001b[0;34m,\u001b[0m\u001b[0;34m\u001b[0m\u001b[0m\n\u001b[1;32m      8\u001b[0m        \u001b[0;34m'Fandom_sailor_moon'\u001b[0m\u001b[0;34m,\u001b[0m \u001b[0;34m'Fandom_one_direction'\u001b[0m\u001b[0;34m,\u001b[0m \u001b[0;34m'Fandom_sherlock'\u001b[0m\u001b[0;34m,\u001b[0m\u001b[0;34m\u001b[0m\u001b[0m\n\u001b[0;32m----> 9\u001b[0;31m        'History', 'Intercept']]).fit(method='bfgs')\n\u001b[0m",
      "\u001b[0;32m/anaconda3/envs/python36/lib/python3.6/site-packages/statsmodels/discrete/discrete_model.py\u001b[0m in \u001b[0;36mfit\u001b[0;34m(self, start_params, method, maxiter, full_output, disp, callback, **kwargs)\u001b[0m\n\u001b[1;32m   1832\u001b[0m         bnryfit = super(Logit, self).fit(start_params=start_params,\n\u001b[1;32m   1833\u001b[0m                 \u001b[0mmethod\u001b[0m\u001b[0;34m=\u001b[0m\u001b[0mmethod\u001b[0m\u001b[0;34m,\u001b[0m \u001b[0mmaxiter\u001b[0m\u001b[0;34m=\u001b[0m\u001b[0mmaxiter\u001b[0m\u001b[0;34m,\u001b[0m \u001b[0mfull_output\u001b[0m\u001b[0;34m=\u001b[0m\u001b[0mfull_output\u001b[0m\u001b[0;34m,\u001b[0m\u001b[0;34m\u001b[0m\u001b[0m\n\u001b[0;32m-> 1834\u001b[0;31m                 disp=disp, callback=callback, **kwargs)\n\u001b[0m\u001b[1;32m   1835\u001b[0m \u001b[0;34m\u001b[0m\u001b[0m\n\u001b[1;32m   1836\u001b[0m         \u001b[0mdiscretefit\u001b[0m \u001b[0;34m=\u001b[0m \u001b[0mLogitResults\u001b[0m\u001b[0;34m(\u001b[0m\u001b[0mself\u001b[0m\u001b[0;34m,\u001b[0m \u001b[0mbnryfit\u001b[0m\u001b[0;34m)\u001b[0m\u001b[0;34m\u001b[0m\u001b[0m\n",
      "\u001b[0;32m/anaconda3/envs/python36/lib/python3.6/site-packages/statsmodels/discrete/discrete_model.py\u001b[0m in \u001b[0;36mfit\u001b[0;34m(self, start_params, method, maxiter, full_output, disp, callback, **kwargs)\u001b[0m\n\u001b[1;32m    218\u001b[0m         mlefit = super(DiscreteModel, self).fit(start_params=start_params,\n\u001b[1;32m    219\u001b[0m                 \u001b[0mmethod\u001b[0m\u001b[0;34m=\u001b[0m\u001b[0mmethod\u001b[0m\u001b[0;34m,\u001b[0m \u001b[0mmaxiter\u001b[0m\u001b[0;34m=\u001b[0m\u001b[0mmaxiter\u001b[0m\u001b[0;34m,\u001b[0m \u001b[0mfull_output\u001b[0m\u001b[0;34m=\u001b[0m\u001b[0mfull_output\u001b[0m\u001b[0;34m,\u001b[0m\u001b[0;34m\u001b[0m\u001b[0m\n\u001b[0;32m--> 220\u001b[0;31m                 disp=disp, callback=callback, **kwargs)\n\u001b[0m\u001b[1;32m    221\u001b[0m \u001b[0;34m\u001b[0m\u001b[0m\n\u001b[1;32m    222\u001b[0m         \u001b[0;32mreturn\u001b[0m \u001b[0mmlefit\u001b[0m \u001b[0;31m# up to subclasses to wrap results\u001b[0m\u001b[0;34m\u001b[0m\u001b[0m\n",
      "\u001b[0;32m/anaconda3/envs/python36/lib/python3.6/site-packages/statsmodels/base/model.py\u001b[0m in \u001b[0;36mfit\u001b[0;34m(self, start_params, method, maxiter, full_output, disp, fargs, callback, retall, skip_hessian, **kwargs)\u001b[0m\n\u001b[1;32m    464\u001b[0m                                                        \u001b[0mcallback\u001b[0m\u001b[0;34m=\u001b[0m\u001b[0mcallback\u001b[0m\u001b[0;34m,\u001b[0m\u001b[0;34m\u001b[0m\u001b[0m\n\u001b[1;32m    465\u001b[0m                                                        \u001b[0mretall\u001b[0m\u001b[0;34m=\u001b[0m\u001b[0mretall\u001b[0m\u001b[0;34m,\u001b[0m\u001b[0;34m\u001b[0m\u001b[0m\n\u001b[0;32m--> 466\u001b[0;31m                                                        full_output=full_output)\n\u001b[0m\u001b[1;32m    467\u001b[0m \u001b[0;34m\u001b[0m\u001b[0m\n\u001b[1;32m    468\u001b[0m         \u001b[0;31m# NOTE: this is for fit_regularized and should be generalized\u001b[0m\u001b[0;34m\u001b[0m\u001b[0;34m\u001b[0m\u001b[0m\n",
      "\u001b[0;32m/anaconda3/envs/python36/lib/python3.6/site-packages/statsmodels/base/optimizer.py\u001b[0m in \u001b[0;36m_fit\u001b[0;34m(self, objective, gradient, start_params, fargs, kwargs, hessian, method, maxiter, full_output, disp, callback, retall)\u001b[0m\n\u001b[1;32m    189\u001b[0m                             \u001b[0mdisp\u001b[0m\u001b[0;34m=\u001b[0m\u001b[0mdisp\u001b[0m\u001b[0;34m,\u001b[0m \u001b[0mmaxiter\u001b[0m\u001b[0;34m=\u001b[0m\u001b[0mmaxiter\u001b[0m\u001b[0;34m,\u001b[0m \u001b[0mcallback\u001b[0m\u001b[0;34m=\u001b[0m\u001b[0mcallback\u001b[0m\u001b[0;34m,\u001b[0m\u001b[0;34m\u001b[0m\u001b[0m\n\u001b[1;32m    190\u001b[0m                             \u001b[0mretall\u001b[0m\u001b[0;34m=\u001b[0m\u001b[0mretall\u001b[0m\u001b[0;34m,\u001b[0m \u001b[0mfull_output\u001b[0m\u001b[0;34m=\u001b[0m\u001b[0mfull_output\u001b[0m\u001b[0;34m,\u001b[0m\u001b[0;34m\u001b[0m\u001b[0m\n\u001b[0;32m--> 191\u001b[0;31m                             hess=hessian)\n\u001b[0m\u001b[1;32m    192\u001b[0m \u001b[0;34m\u001b[0m\u001b[0m\n\u001b[1;32m    193\u001b[0m         optim_settings = {'optimizer': method, 'start_params': start_params,\n",
      "\u001b[0;32m/anaconda3/envs/python36/lib/python3.6/site-packages/statsmodels/base/optimizer.py\u001b[0m in \u001b[0;36m_fit_bfgs\u001b[0;34m(f, score, start_params, fargs, kwargs, disp, maxiter, callback, retall, full_output, hess)\u001b[0m\n\u001b[1;32m    325\u001b[0m                                  \u001b[0mgtol\u001b[0m\u001b[0;34m=\u001b[0m\u001b[0mgtol\u001b[0m\u001b[0;34m,\u001b[0m \u001b[0mnorm\u001b[0m\u001b[0;34m=\u001b[0m\u001b[0mnorm\u001b[0m\u001b[0;34m,\u001b[0m \u001b[0mepsilon\u001b[0m\u001b[0;34m=\u001b[0m\u001b[0mepsilon\u001b[0m\u001b[0;34m,\u001b[0m\u001b[0;34m\u001b[0m\u001b[0m\n\u001b[1;32m    326\u001b[0m                                  \u001b[0mmaxiter\u001b[0m\u001b[0;34m=\u001b[0m\u001b[0mmaxiter\u001b[0m\u001b[0;34m,\u001b[0m \u001b[0mfull_output\u001b[0m\u001b[0;34m=\u001b[0m\u001b[0mfull_output\u001b[0m\u001b[0;34m,\u001b[0m\u001b[0;34m\u001b[0m\u001b[0m\n\u001b[0;32m--> 327\u001b[0;31m                                  disp=disp, retall=retall, callback=callback)\n\u001b[0m\u001b[1;32m    328\u001b[0m     \u001b[0;32mif\u001b[0m \u001b[0mfull_output\u001b[0m\u001b[0;34m:\u001b[0m\u001b[0;34m\u001b[0m\u001b[0m\n\u001b[1;32m    329\u001b[0m         \u001b[0;32mif\u001b[0m \u001b[0;32mnot\u001b[0m \u001b[0mretall\u001b[0m\u001b[0;34m:\u001b[0m\u001b[0;34m\u001b[0m\u001b[0m\n",
      "\u001b[0;32m/anaconda3/envs/python36/lib/python3.6/site-packages/scipy/optimize/optimize.py\u001b[0m in \u001b[0;36mfmin_bfgs\u001b[0;34m(f, x0, fprime, args, gtol, norm, epsilon, maxiter, full_output, disp, retall, callback)\u001b[0m\n\u001b[1;32m    887\u001b[0m             'return_all': retall}\n\u001b[1;32m    888\u001b[0m \u001b[0;34m\u001b[0m\u001b[0m\n\u001b[0;32m--> 889\u001b[0;31m     \u001b[0mres\u001b[0m \u001b[0;34m=\u001b[0m \u001b[0m_minimize_bfgs\u001b[0m\u001b[0;34m(\u001b[0m\u001b[0mf\u001b[0m\u001b[0;34m,\u001b[0m \u001b[0mx0\u001b[0m\u001b[0;34m,\u001b[0m \u001b[0margs\u001b[0m\u001b[0;34m,\u001b[0m \u001b[0mfprime\u001b[0m\u001b[0;34m,\u001b[0m \u001b[0mcallback\u001b[0m\u001b[0;34m=\u001b[0m\u001b[0mcallback\u001b[0m\u001b[0;34m,\u001b[0m \u001b[0;34m**\u001b[0m\u001b[0mopts\u001b[0m\u001b[0;34m)\u001b[0m\u001b[0;34m\u001b[0m\u001b[0m\n\u001b[0m\u001b[1;32m    890\u001b[0m \u001b[0;34m\u001b[0m\u001b[0m\n\u001b[1;32m    891\u001b[0m     \u001b[0;32mif\u001b[0m \u001b[0mfull_output\u001b[0m\u001b[0;34m:\u001b[0m\u001b[0;34m\u001b[0m\u001b[0m\n",
      "\u001b[0;32m/anaconda3/envs/python36/lib/python3.6/site-packages/scipy/optimize/optimize.py\u001b[0m in \u001b[0;36m_minimize_bfgs\u001b[0;34m(fun, x0, args, jac, callback, gtol, norm, eps, maxiter, disp, return_all, **unknown_options)\u001b[0m\n\u001b[1;32m    979\u001b[0m         \u001b[0mgfk\u001b[0m \u001b[0;34m=\u001b[0m \u001b[0mgfkp1\u001b[0m\u001b[0;34m\u001b[0m\u001b[0m\n\u001b[1;32m    980\u001b[0m         \u001b[0;32mif\u001b[0m \u001b[0mcallback\u001b[0m \u001b[0;32mis\u001b[0m \u001b[0;32mnot\u001b[0m \u001b[0;32mNone\u001b[0m\u001b[0;34m:\u001b[0m\u001b[0;34m\u001b[0m\u001b[0m\n\u001b[0;32m--> 981\u001b[0;31m             \u001b[0mcallback\u001b[0m\u001b[0;34m(\u001b[0m\u001b[0mxk\u001b[0m\u001b[0;34m)\u001b[0m\u001b[0;34m\u001b[0m\u001b[0m\n\u001b[0m\u001b[1;32m    982\u001b[0m         \u001b[0mk\u001b[0m \u001b[0;34m+=\u001b[0m \u001b[0;36m1\u001b[0m\u001b[0;34m\u001b[0m\u001b[0m\n\u001b[1;32m    983\u001b[0m         \u001b[0mgnorm\u001b[0m \u001b[0;34m=\u001b[0m \u001b[0mvecnorm\u001b[0m\u001b[0;34m(\u001b[0m\u001b[0mgfk\u001b[0m\u001b[0;34m,\u001b[0m \u001b[0mord\u001b[0m\u001b[0;34m=\u001b[0m\u001b[0mnorm\u001b[0m\u001b[0;34m)\u001b[0m\u001b[0;34m\u001b[0m\u001b[0m\n",
      "\u001b[0;32m/anaconda3/envs/python36/lib/python3.6/site-packages/statsmodels/discrete/discrete_model.py\u001b[0m in \u001b[0;36m_check_perfect_pred\u001b[0;34m(self, params, *args)\u001b[0m\n\u001b[1;32m    201\u001b[0m                 np.allclose(fittedvalues - endog, 0)):\n\u001b[1;32m    202\u001b[0m             \u001b[0mmsg\u001b[0m \u001b[0;34m=\u001b[0m \u001b[0;34m\"Perfect separation detected, results not available\"\u001b[0m\u001b[0;34m\u001b[0m\u001b[0m\n\u001b[0;32m--> 203\u001b[0;31m             \u001b[0;32mraise\u001b[0m \u001b[0mPerfectSeparationError\u001b[0m\u001b[0;34m(\u001b[0m\u001b[0mmsg\u001b[0m\u001b[0;34m)\u001b[0m\u001b[0;34m\u001b[0m\u001b[0m\n\u001b[0m\u001b[1;32m    204\u001b[0m \u001b[0;34m\u001b[0m\u001b[0m\n\u001b[1;32m    205\u001b[0m     def fit(self, start_params=None, method='newton', maxiter=35,\n",
      "\u001b[0;31mPerfectSeparationError\u001b[0m: Perfect separation detected, results not available"
     ]
    }
   ],
   "source": [
    "logit_model = sm.Logit(df_all[\"kudos_binary\"], df_all[['ChapterIndex', 'Chapters',\\\n",
    "        'Term_novelty', 'Topic_novelty', \\\n",
    "        'Freq_relationship', 'Category_F_M',\\\n",
    "       'Category_Gen', 'Category_M_M', 'Category_Multi', 'Category_Other','Category_Unknown', \\\n",
    "       'ArchiveWarnings_underage', 'ArchiveWarnings_death',\\\n",
    "       'ArchiveWarnings_choose_no', 'ArchiveWarnings_no_apply',\\\n",
    "       'ArchiveWarnings_violence',\\\n",
    "       'ArchiveWarnings_noncon', 'author_fic_cnt', 'Rating_G',\\\n",
    "       'Rating_M', 'Rating_N', 'Rating_T',\\\n",
    "       'Fandom_dcu', 'Fandom_doctor_who', 'Fandom_star_wars',\n",
    "       'Fandom_arthurian', 'Fandom_supernatural', 'Fandom_haikyuu',\n",
    "       'Fandom_kuroko_no_basuke', 'Fandom_hamilton_miranda',\n",
    "       'Fandom_dragon_age', 'Fandom_the_walking_dead', 'Fandom_buffy',\n",
    "       'Fandom_les_miserables', 'Fandom_naruto', 'Fandom_tolkien',\n",
    "       'Fandom_shakespare', 'Fandom_hetalia', 'Fandom_attack_on_titan',\n",
    "       'Fandom_ms_paint_adventures', 'Fandom_homestuck', 'Fandom_marvel',\n",
    "       'Fandom_sailor_moon', 'Fandom_one_direction', 'Fandom_sherlock',\n",
    "       'History', 'Intercept']]).fit(method='bfgs')"
   ]
  },
  {
   "cell_type": "code",
   "execution_count": null,
   "metadata": {},
   "outputs": [],
   "source": [
    "# logit_model.summary()"
   ]
  },
  {
   "cell_type": "code",
   "execution_count": null,
   "metadata": {},
   "outputs": [],
   "source": [
    "pred = logit_model.predict()"
   ]
  },
  {
   "cell_type": "code",
   "execution_count": null,
   "metadata": {},
   "outputs": [],
   "source": [
    "sorted(pred)"
   ]
  },
  {
   "cell_type": "code",
   "execution_count": null,
   "metadata": {},
   "outputs": [],
   "source": [
    "df_all['kudos_nonzero_prob'] = pred"
   ]
  },
  {
   "cell_type": "markdown",
   "metadata": {},
   "source": [
    "### OLS"
   ]
  },
  {
   "cell_type": "code",
   "execution_count": 33,
   "metadata": {},
   "outputs": [],
   "source": [
    "df_all_log = df_all.copy()\n",
    "df_all_log['Kudos'] = np.log(df_all_log['Kudos']+0.001)\n",
    "df_all_log['Hits'] = np.log(df_all_log['Hits']+0.001)\n",
    "df_all_log['Comments'] = np.log(df_all_log['Comments']+1)\n",
    "df_all_log['Bookmarks'] = np.log(df_all_log['Bookmarks']+0.001)\n",
    "df_all_log = df_all_log.replace([np.inf, -np.inf], np.nan)\n",
    "df_all_log = df_all_log.dropna(how = 'any')"
   ]
  },
  {
   "cell_type": "code",
   "execution_count": 20,
   "metadata": {},
   "outputs": [],
   "source": [
    "# s = ''\n",
    "# for item in df_all.columns.values:\n",
    "#     s += item + ' + '"
   ]
  },
  {
   "cell_type": "code",
   "execution_count": 18,
   "metadata": {},
   "outputs": [],
   "source": [
    "model = ols(\"Kudos ~ Term_novelty + Topic_novelty \\\n",
    " + ChapterIndex + Chapters + Freq_relationship  + Category_F_M + \\\n",
    " Category_Gen + Category_M_M + Category_Multi + Category_Other + Category_Unknown \\\n",
    " + ArchiveWarnings_underage + ArchiveWarnings_death + ArchiveWarnings_choose_no +\\\n",
    " ArchiveWarnings_no_apply  + ArchiveWarnings_violence +\\\n",
    " ArchiveWarnings_noncon + author_fic_cnt  + Rating_E + Rating_M + Rating_N + Rating_T\\\n",
    " + Fandom_dcu + Fandom_doctor_who + Fandom_star_wars + Fandom_arthurian + \\\n",
    " Fandom_supernatural + Fandom_haikyuu + Fandom_kuroko_no_basuke + Fandom_hamilton_miranda\\\n",
    " + Fandom_dragon_age + Fandom_the_walking_dead + Fandom_buffy + Fandom_les_miserables \\\n",
    " + Fandom_naruto + Fandom_tolkien + Fandom_shakespare + Fandom_hetalia + \\\n",
    " Fandom_attack_on_titan + Fandom_ms_paint_adventures + Fandom_homestuck +\\\n",
    " Fandom_marvel + Fandom_sailor_moon + Fandom_one_direction + Fandom_sherlock \\\n",
    " + History + kudos_nonzero_prob\", data = df_all).fit()"
   ]
  },
  {
   "cell_type": "code",
   "execution_count": 19,
   "metadata": {},
   "outputs": [
    {
     "name": "stdout",
     "output_type": "stream",
     "text": [
      "                            OLS Regression Results                            \n",
      "==============================================================================\n",
      "Dep. Variable:                  Kudos   R-squared:                       0.183\n",
      "Model:                            OLS   Adj. R-squared:                  0.183\n",
      "Method:                 Least Squares   F-statistic:                     3488.\n",
      "Date:                Fri, 13 Jul 2018   Prob (F-statistic):               0.00\n",
      "Time:                        17:02:36   Log-Likelihood:            -9.2470e+05\n",
      "No. Observations:              701599   AIC:                         1.849e+06\n",
      "Df Residuals:                  701553   BIC:                         1.850e+06\n",
      "Df Model:                          45                                         \n",
      "Covariance Type:            nonrobust                                         \n",
      "==============================================================================================\n",
      "                                 coef    std err          t      P>|t|      [0.025      0.975]\n",
      "----------------------------------------------------------------------------------------------\n",
      "Intercept                      1.0778      0.015     72.753      0.000       1.049       1.107\n",
      "Term_novelty                  -0.3521      0.004    -90.436      0.000      -0.360      -0.344\n",
      "Topic_novelty                 -1.3168      0.022    -58.869      0.000      -1.361      -1.273\n",
      "ChapterIndex                  -0.0023   9.59e-05    -23.759      0.000      -0.002      -0.002\n",
      "Chapters                      -0.0039   5.49e-05    -71.437      0.000      -0.004      -0.004\n",
      "Freq_relationship              0.2627      0.003    100.609      0.000       0.258       0.268\n",
      "Category_F_M                  -0.1967      0.003    -74.590      0.000      -0.202      -0.192\n",
      "Category_Gen                  -0.1568      0.003    -50.955      0.000      -0.163      -0.151\n",
      "Category_M_M                   0.2140      0.003     75.201      0.000       0.208       0.220\n",
      "Category_Multi                -0.1727      0.004    -44.316      0.000      -0.180      -0.165\n",
      "Category_Other                -0.2485      0.006    -40.697      0.000      -0.260      -0.237\n",
      "Category_Unknown              -0.4771      0.006    -86.622      0.000      -0.488      -0.466\n",
      "ArchiveWarnings_underage       0.1173      0.006     18.167      0.000       0.105       0.130\n",
      "ArchiveWarnings_death         -0.2025      0.005    -42.683      0.000      -0.212      -0.193\n",
      "ArchiveWarnings_choose_no     -0.0611      0.004    -15.391      0.000      -0.069      -0.053\n",
      "ArchiveWarnings_no_apply       0.1419      0.004     34.688      0.000       0.134       0.150\n",
      "ArchiveWarnings_violence      -0.2474      0.004    -55.646      0.000      -0.256      -0.239\n",
      "ArchiveWarnings_noncon         0.0501      0.006      8.477      0.000       0.039       0.062\n",
      "author_fic_cnt             -1.314e-06   9.02e-07     -1.457      0.145   -3.08e-06    4.54e-07\n",
      "Rating_E                       0.0151      0.004      3.773      0.000       0.007       0.023\n",
      "Rating_M                      -0.1770      0.004    -47.683      0.000      -0.184      -0.170\n",
      "Rating_N                      -0.1594      0.004    -37.368      0.000      -0.168      -0.151\n",
      "Rating_T                      -0.1864      0.003    -60.384      0.000      -0.192      -0.180\n",
      "Fandom_dcu                     0.0130      0.003      4.589      0.000       0.007       0.019\n",
      "Fandom_doctor_who              0.0130      0.003      4.589      0.000       0.007       0.019\n",
      "Fandom_star_wars               0.0499      0.008      6.496      0.000       0.035       0.065\n",
      "Fandom_arthurian              -0.2188      0.008    -27.626      0.000      -0.234      -0.203\n",
      "Fandom_supernatural           -0.1998      0.004    -46.210      0.000      -0.208      -0.191\n",
      "Fandom_haikyuu                -0.2864      0.009    -32.291      0.000      -0.304      -0.269\n",
      "Fandom_kuroko_no_basuke       -0.2351      0.011    -22.354      0.000      -0.256      -0.214\n",
      "Fandom_hamilton_miranda       -0.1155      0.020     -5.768      0.000      -0.155      -0.076\n",
      "Fandom_dragon_age              0.0792      0.006     13.880      0.000       0.068       0.090\n",
      "Fandom_the_walking_dead        0.1253      0.009     13.436      0.000       0.107       0.144\n",
      "Fandom_buffy                   0.0199      0.008      2.361      0.018       0.003       0.036\n",
      "Fandom_les_miserables         -0.2325      0.011    -22.135      0.000      -0.253      -0.212\n",
      "Fandom_naruto                  0.0725      0.010      7.321      0.000       0.053       0.092\n",
      "Fandom_tolkien                 0.0838      0.006     13.736      0.000       0.072       0.096\n",
      "Fandom_shakespare              0.0285      0.030      0.953      0.341      -0.030       0.087\n",
      "Fandom_hetalia                -0.0574      0.008     -7.031      0.000      -0.073      -0.041\n",
      "Fandom_attack_on_titan        -0.1538      0.007    -21.948      0.000      -0.168      -0.140\n",
      "Fandom_ms_paint_adventures     0.0152      0.006      2.554      0.011       0.004       0.027\n",
      "Fandom_homestuck               0.0222      0.006      3.892      0.000       0.011       0.033\n",
      "Fandom_marvel                 -0.0025      0.004     -0.643      0.521      -0.010       0.005\n",
      "Fandom_sailor_moon             0.2215      0.023      9.828      0.000       0.177       0.266\n",
      "Fandom_one_direction          -0.1981      0.008    -23.521      0.000      -0.215      -0.182\n",
      "Fandom_sherlock               -0.1633      0.005    -35.915      0.000      -0.172      -0.154\n",
      "History                     6.059e-05   1.91e-06     31.718      0.000    5.68e-05    6.43e-05\n",
      "==============================================================================\n",
      "Omnibus:                   249673.951   Durbin-Watson:                   1.324\n",
      "Prob(Omnibus):                  0.000   Jarque-Bera (JB):          1516017.924\n",
      "Skew:                          -1.589   Prob(JB):                         0.00\n",
      "Kurtosis:                       9.462   Cond. No.                     1.10e+16\n",
      "==============================================================================\n",
      "\n",
      "Warnings:\n",
      "[1] Standard Errors assume that the covariance matrix of the errors is correctly specified.\n",
      "[2] The smallest eigenvalue is 1.45e-20. This might indicate that there are\n",
      "strong multicollinearity problems or that the design matrix is singular.\n"
     ]
    }
   ],
   "source": [
    "print(model.summary())"
   ]
  },
  {
   "cell_type": "code",
   "execution_count": 325,
   "metadata": {},
   "outputs": [],
   "source": [
    "# for item in ['Term_novelty', 'Topic_novelty']:\n",
    "#     fig = plt.figure(figsize=(12,8))\n",
    "#     fig = sm.graphics.plot_regress_exog(model, item, fig=fig)\n"
   ]
  },
  {
   "cell_type": "code",
   "execution_count": 38,
   "metadata": {},
   "outputs": [],
   "source": [
    "model = ols(\"Fandom_dcu ~ Fandom_star_wars + Fandom_arthurian + \\\n",
    " Fandom_supernatural + Fandom_haikyuu + Fandom_kuroko_no_basuke + Fandom_hamilton_miranda\\\n",
    " + Fandom_dragon_age + Fandom_the_walking_dead + Fandom_buffy + Fandom_les_miserables \\\n",
    " + Fandom_naruto + Fandom_tolkien + Fandom_shakespare + Fandom_hetalia + \\\n",
    " Fandom_attack_on_titan + Fandom_ms_paint_adventures + Fandom_homestuck +\\\n",
    " Fandom_marvel + Fandom_sailor_moon + Fandom_one_direction + Fandom_sherlock\", data = df_all_log).fit()"
   ]
  },
  {
   "cell_type": "code",
   "execution_count": 39,
   "metadata": {},
   "outputs": [
    {
     "name": "stdout",
     "output_type": "stream",
     "text": [
      "                            OLS Regression Results                            \n",
      "==============================================================================\n",
      "Dep. Variable:             Fandom_dcu   R-squared:                       0.236\n",
      "Model:                            OLS   Adj. R-squared:                  0.236\n",
      "Method:                 Least Squares   F-statistic:                 1.031e+04\n",
      "Date:                Wed, 11 Jul 2018   Prob (F-statistic):               0.00\n",
      "Time:                        17:26:22   Log-Likelihood:             1.6231e+05\n",
      "No. Observations:              701667   AIC:                        -3.246e+05\n",
      "Df Residuals:                  701645   BIC:                        -3.243e+05\n",
      "Df Model:                          21                                         \n",
      "Covariance Type:            nonrobust                                         \n",
      "==============================================================================================\n",
      "                                 coef    std err          t      P>|t|      [0.025      0.975]\n",
      "----------------------------------------------------------------------------------------------\n",
      "Intercept                      0.2747      0.001    515.530      0.000       0.274       0.276\n",
      "Fandom_star_wars              -0.2747      0.002   -173.761      0.000      -0.278      -0.272\n",
      "Fandom_arthurian              -0.2747      0.002   -167.614      0.000      -0.278      -0.272\n",
      "Fandom_supernatural           -0.2747      0.001   -329.117      0.000      -0.276      -0.273\n",
      "Fandom_haikyuu                -0.2747      0.002   -151.184      0.000      -0.278      -0.271\n",
      "Fandom_kuroko_no_basuke       -0.2747      0.002   -125.363      0.000      -0.279      -0.270\n",
      "Fandom_hamilton_miranda       -0.2747      0.004    -65.090      0.000      -0.283      -0.266\n",
      "Fandom_dragon_age             -0.2747      0.001   -239.078      0.000      -0.277      -0.272\n",
      "Fandom_the_walking_dead       -0.2747      0.002   -142.425      0.000      -0.279      -0.271\n",
      "Fandom_buffy                  -0.2747      0.002   -157.478      0.000      -0.278      -0.271\n",
      "Fandom_les_miserables         -0.2747      0.002   -125.356      0.000      -0.279      -0.270\n",
      "Fandom_naruto                 -0.2747      0.002   -132.385      0.000      -0.279      -0.271\n",
      "Fandom_tolkien                -0.2747      0.001   -220.574      0.000      -0.277      -0.272\n",
      "Fandom_shakespare             -0.2747      0.006    -43.269      0.000      -0.287      -0.262\n",
      "Fandom_hetalia                -0.2747      0.002   -162.427      0.000      -0.278      -0.271\n",
      "Fandom_attack_on_titan        -0.2747      0.001   -192.244      0.000      -0.278      -0.272\n",
      "Fandom_ms_paint_adventures    -0.2747      0.001   -227.370      0.000      -0.277      -0.272\n",
      "Fandom_homestuck              -0.2747      0.001   -238.124      0.000      -0.277      -0.272\n",
      "Fandom_marvel                 -0.2747      0.001   -364.777      0.000      -0.276      -0.273\n",
      "Fandom_sailor_moon            -0.2747      0.005    -57.633      0.000      -0.284      -0.265\n",
      "Fandom_one_direction          -0.2747      0.002   -159.201      0.000      -0.278      -0.271\n",
      "Fandom_sherlock               -0.2747      0.001   -310.323      0.000      -0.276      -0.273\n",
      "==============================================================================\n",
      "Omnibus:                   352240.409   Durbin-Watson:                   0.000\n",
      "Prob(Omnibus):                  0.000   Jarque-Bera (JB):          2474009.620\n",
      "Skew:                           2.347   Prob(JB):                         0.00\n",
      "Kurtosis:                      10.912   Cond. No.                         28.8\n",
      "==============================================================================\n",
      "\n",
      "Warnings:\n",
      "[1] Standard Errors assume that the covariance matrix of the errors is correctly specified.\n"
     ]
    }
   ],
   "source": [
    "print(model.summary())"
   ]
  },
  {
   "cell_type": "code",
   "execution_count": null,
   "metadata": {},
   "outputs": [],
   "source": []
  },
  {
   "cell_type": "code",
   "execution_count": null,
   "metadata": {},
   "outputs": [],
   "source": []
  }
 ],
 "metadata": {
  "kernelspec": {
   "display_name": "Python 3",
   "language": "python",
   "name": "python3"
  },
  "language_info": {
   "codemirror_mode": {
    "name": "ipython",
    "version": 3
   },
   "file_extension": ".py",
   "mimetype": "text/x-python",
   "name": "python",
   "nbconvert_exporter": "python",
   "pygments_lexer": "ipython3",
   "version": "3.6.4"
  }
 },
 "nbformat": 4,
 "nbformat_minor": 2
}
