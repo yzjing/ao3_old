{
 "cells": [
  {
   "cell_type": "code",
   "execution_count": 1,
   "metadata": {},
   "outputs": [],
   "source": [
    "import pandas as pd\n",
    "import os\n",
    "import matplotlib.pyplot as plt\n",
    "%matplotlib inline\n",
    "import numpy as np\n",
    "import seaborn as sns\n",
    "from statsmodels.formula.api import ols\n",
    "import statsmodels.api as sm\n",
    "from sklearn.linear_model import LogisticRegression"
   ]
  },
  {
   "cell_type": "code",
   "execution_count": 2,
   "metadata": {},
   "outputs": [],
   "source": [
    "df_all = pd.read_csv('fanfic_regression_data_curated.tsv', sep = '\\t')"
   ]
  },
  {
   "cell_type": "code",
   "execution_count": 3,
   "metadata": {},
   "outputs": [
    {
     "data": {
      "text/plain": [
       "701667"
      ]
     },
     "execution_count": 3,
     "metadata": {},
     "output_type": "execute_result"
    }
   ],
   "source": [
    "len(df_all)"
   ]
  },
  {
   "cell_type": "code",
   "execution_count": 4,
   "metadata": {},
   "outputs": [],
   "source": [
    "df_all['ChapterIndex'].fillna(0, inplace=True)"
   ]
  },
  {
   "cell_type": "code",
   "execution_count": 5,
   "metadata": {},
   "outputs": [
    {
     "data": {
      "text/html": [
       "<div>\n",
       "<style scoped>\n",
       "    .dataframe tbody tr th:only-of-type {\n",
       "        vertical-align: middle;\n",
       "    }\n",
       "\n",
       "    .dataframe tbody tr th {\n",
       "        vertical-align: top;\n",
       "    }\n",
       "\n",
       "    .dataframe thead th {\n",
       "        text-align: right;\n",
       "    }\n",
       "</style>\n",
       "<table border=\"1\" class=\"dataframe\">\n",
       "  <thead>\n",
       "    <tr style=\"text-align: right;\">\n",
       "      <th></th>\n",
       "      <th>Bookmarks</th>\n",
       "      <th>ChapterIndex</th>\n",
       "      <th>Chapters</th>\n",
       "      <th>Comments</th>\n",
       "      <th>Hits</th>\n",
       "      <th>Kudos</th>\n",
       "      <th>Term_novelty</th>\n",
       "      <th>Topic_novelty</th>\n",
       "      <th>Freq_relationship</th>\n",
       "      <th>Category_F_F</th>\n",
       "      <th>...</th>\n",
       "      <th>Fandom_shakespare</th>\n",
       "      <th>Fandom_hetalia</th>\n",
       "      <th>Fandom_attack_on_titan</th>\n",
       "      <th>Fandom_ms_paint_adventures</th>\n",
       "      <th>Fandom_homestuck</th>\n",
       "      <th>Fandom_marvel</th>\n",
       "      <th>Fandom_sailor_moon</th>\n",
       "      <th>Fandom_one_direction</th>\n",
       "      <th>Fandom_sherlock</th>\n",
       "      <th>History</th>\n",
       "    </tr>\n",
       "  </thead>\n",
       "  <tbody>\n",
       "    <tr>\n",
       "      <th>0</th>\n",
       "      <td>2</td>\n",
       "      <td>1.0</td>\n",
       "      <td>3</td>\n",
       "      <td>0</td>\n",
       "      <td>320.0</td>\n",
       "      <td>8.0</td>\n",
       "      <td>0.778655</td>\n",
       "      <td>0.599456</td>\n",
       "      <td>0</td>\n",
       "      <td>0</td>\n",
       "      <td>...</td>\n",
       "      <td>0</td>\n",
       "      <td>0</td>\n",
       "      <td>0</td>\n",
       "      <td>0</td>\n",
       "      <td>0</td>\n",
       "      <td>0</td>\n",
       "      <td>0</td>\n",
       "      <td>0</td>\n",
       "      <td>0</td>\n",
       "      <td>5136.0</td>\n",
       "    </tr>\n",
       "    <tr>\n",
       "      <th>1</th>\n",
       "      <td>0</td>\n",
       "      <td>0.0</td>\n",
       "      <td>1</td>\n",
       "      <td>0</td>\n",
       "      <td>25.0</td>\n",
       "      <td>1.0</td>\n",
       "      <td>0.713975</td>\n",
       "      <td>0.605999</td>\n",
       "      <td>0</td>\n",
       "      <td>0</td>\n",
       "      <td>...</td>\n",
       "      <td>0</td>\n",
       "      <td>0</td>\n",
       "      <td>0</td>\n",
       "      <td>0</td>\n",
       "      <td>0</td>\n",
       "      <td>0</td>\n",
       "      <td>0</td>\n",
       "      <td>0</td>\n",
       "      <td>0</td>\n",
       "      <td>5589.0</td>\n",
       "    </tr>\n",
       "  </tbody>\n",
       "</table>\n",
       "<p>2 rows × 53 columns</p>\n",
       "</div>"
      ],
      "text/plain": [
       "   Bookmarks  ChapterIndex  Chapters  Comments   Hits  Kudos  Term_novelty  \\\n",
       "0          2           1.0         3         0  320.0    8.0      0.778655   \n",
       "1          0           0.0         1         0   25.0    1.0      0.713975   \n",
       "\n",
       "   Topic_novelty  Freq_relationship  Category_F_F   ...     Fandom_shakespare  \\\n",
       "0       0.599456                  0             0   ...                     0   \n",
       "1       0.605999                  0             0   ...                     0   \n",
       "\n",
       "   Fandom_hetalia  Fandom_attack_on_titan  Fandom_ms_paint_adventures  \\\n",
       "0               0                       0                           0   \n",
       "1               0                       0                           0   \n",
       "\n",
       "   Fandom_homestuck  Fandom_marvel  Fandom_sailor_moon  Fandom_one_direction  \\\n",
       "0                 0              0                   0                     0   \n",
       "1                 0              0                   0                     0   \n",
       "\n",
       "   Fandom_sherlock  History  \n",
       "0                0   5136.0  \n",
       "1                0   5589.0  \n",
       "\n",
       "[2 rows x 53 columns]"
      ]
     },
     "execution_count": 5,
     "metadata": {},
     "output_type": "execute_result"
    }
   ],
   "source": [
    "df_all.head(2)"
   ]
  },
  {
   "cell_type": "markdown",
   "metadata": {},
   "source": [
    "### Logistic"
   ]
  },
  {
   "cell_type": "code",
   "execution_count": 272,
   "metadata": {},
   "outputs": [],
   "source": [
    "def run_logit(df, field):\n",
    "    df['Intercept'] = 1.0\n",
    "    df['binary'] = df[field].apply(lambda x: 1 if x != 0.0 else 0)\n",
    "    df = df.replace([np.inf, -np.inf], np.nan)\n",
    "    df = df.dropna(how = 'any')\n",
    "    logit_model = sm.Logit(df['binary'], df_all[['Chapters',\\\n",
    "        'Term_novelty', 'Topic_novelty', \\\n",
    "        'Freq_relationship', 'Category_F_M',\\\n",
    "       'Category_Gen', 'Category_M_M', 'Category_Multi', 'Category_Other','Category_Unknown', \\\n",
    "       'ArchiveWarnings_underage', 'ArchiveWarnings_death',\\\n",
    "       'ArchiveWarnings_choose_no', 'ArchiveWarnings_no_apply',\\\n",
    "       'ArchiveWarnings_violence',\\\n",
    "       'ArchiveWarnings_noncon', 'author_fic_cnt', 'Rating_G',\\\n",
    "       'Rating_M', 'Rating_N', 'Rating_T',\\\n",
    "       'Fandom_dcu', 'Fandom_doctor_who', 'Fandom_star_wars',\n",
    "       'Fandom_arthurian', 'Fandom_supernatural', 'Fandom_haikyuu',\n",
    "       'Fandom_kuroko_no_basuke', 'Fandom_hamilton_miranda',\n",
    "       'Fandom_dragon_age', 'Fandom_the_walking_dead', 'Fandom_buffy',\n",
    "       'Fandom_les_miserables', 'Fandom_naruto', 'Fandom_tolkien',\n",
    "       'Fandom_shakespare', 'Fandom_hetalia', 'Fandom_attack_on_titan',\n",
    "       'Fandom_ms_paint_adventures', 'Fandom_homestuck', 'Fandom_marvel',\n",
    "       'Fandom_sailor_moon', 'Fandom_one_direction', 'Fandom_sherlock',\n",
    "       'History', 'Intercept']]).fit(method='bfgs')\n",
    "    pred = logit_model.predict()\n",
    "    df['nonzero_prob'] = pred\n",
    "    return df"
   ]
  },
  {
   "cell_type": "markdown",
   "metadata": {},
   "source": [
    "### OLS"
   ]
  },
  {
   "cell_type": "code",
   "execution_count": 276,
   "metadata": {},
   "outputs": [],
   "source": [
    "def run_ols(df, field):\n",
    "    df = run_logit(df, field)\n",
    "    df_log = df.copy()\n",
    "    df_log['Kudos'] = np.log(df_log['Kudos']+0.001)\n",
    "    df_log['Hits'] = np.log(df_log['Hits']+0.001)\n",
    "    df_log['Comments'] = np.log(df_log['Comments']+1)\n",
    "    df_log['Bookmarks'] = np.log(df_log['Bookmarks']+0.001)\n",
    "    df_log = df_log.replace([np.inf, -np.inf], np.nan)\n",
    "    df_log = df_log.dropna(how = 'any')\n",
    "    model = ols( field + \" ~ Term_novelty + Topic_novelty \\\n",
    " + Chapters + Freq_relationship + author_fic_cnt + History\\\n",
    " + Category_Gen + Category_F_M + Category_M_M + Category_Multi + Category_Other + Category_Unknown \\\n",
    " + ArchiveWarnings_underage + ArchiveWarnings_death + ArchiveWarnings_violence +\\\n",
    " ArchiveWarnings_noncon + ArchiveWarnings_choose_no +\\\n",
    " ArchiveWarnings_no_apply + Rating_N + Rating_E + Rating_M + Rating_T\\\n",
    " + Fandom_dcu + Fandom_doctor_who + Fandom_star_wars + Fandom_arthurian + \\\n",
    " Fandom_supernatural + Fandom_haikyuu + Fandom_kuroko_no_basuke + Fandom_hamilton_miranda\\\n",
    " + Fandom_dragon_age + Fandom_the_walking_dead + Fandom_buffy + Fandom_les_miserables \\\n",
    " + Fandom_naruto + Fandom_tolkien + Fandom_shakespare + Fandom_hetalia + \\\n",
    " Fandom_attack_on_titan + Fandom_ms_paint_adventures + Fandom_homestuck +\\\n",
    " Fandom_marvel + Fandom_sailor_moon + Fandom_one_direction + Fandom_sherlock \\\n",
    " + nonzero_prob\", data = df_log).fit()\n",
    "    return model"
   ]
  },
  {
   "cell_type": "markdown",
   "metadata": {},
   "source": [
    "### Plot coefficients"
   ]
  },
  {
   "cell_type": "code",
   "execution_count": 277,
   "metadata": {},
   "outputs": [
    {
     "name": "stderr",
     "output_type": "stream",
     "text": [
      "/anaconda3/envs/python36/lib/python3.6/site-packages/statsmodels/discrete/discrete_model.py:1674: RuntimeWarning: overflow encountered in exp\n",
      "  return 1/(1+np.exp(-X))\n",
      "/anaconda3/envs/python36/lib/python3.6/site-packages/statsmodels/discrete/discrete_model.py:1724: RuntimeWarning: divide by zero encountered in log\n",
      "  return np.sum(np.log(self.cdf(q*np.dot(X,params))))\n",
      "/anaconda3/envs/python36/lib/python3.6/site-packages/statsmodels/discrete/discrete_model.py:1674: RuntimeWarning: overflow encountered in exp\n",
      "  return 1/(1+np.exp(-X))\n",
      "/anaconda3/envs/python36/lib/python3.6/site-packages/statsmodels/discrete/discrete_model.py:1724: RuntimeWarning: divide by zero encountered in log\n",
      "  return np.sum(np.log(self.cdf(q*np.dot(X,params))))\n",
      "/anaconda3/envs/python36/lib/python3.6/site-packages/statsmodels/discrete/discrete_model.py:1674: RuntimeWarning: overflow encountered in exp\n",
      "  return 1/(1+np.exp(-X))\n",
      "/anaconda3/envs/python36/lib/python3.6/site-packages/statsmodels/discrete/discrete_model.py:1724: RuntimeWarning: divide by zero encountered in log\n",
      "  return np.sum(np.log(self.cdf(q*np.dot(X,params))))\n",
      "/anaconda3/envs/python36/lib/python3.6/site-packages/statsmodels/discrete/discrete_model.py:1674: RuntimeWarning: overflow encountered in exp\n",
      "  return 1/(1+np.exp(-X))\n",
      "/anaconda3/envs/python36/lib/python3.6/site-packages/statsmodels/discrete/discrete_model.py:1724: RuntimeWarning: divide by zero encountered in log\n",
      "  return np.sum(np.log(self.cdf(q*np.dot(X,params))))\n",
      "/anaconda3/envs/python36/lib/python3.6/site-packages/statsmodels/discrete/discrete_model.py:1674: RuntimeWarning: overflow encountered in exp\n",
      "  return 1/(1+np.exp(-X))\n",
      "/anaconda3/envs/python36/lib/python3.6/site-packages/statsmodels/discrete/discrete_model.py:1724: RuntimeWarning: divide by zero encountered in log\n",
      "  return np.sum(np.log(self.cdf(q*np.dot(X,params))))\n",
      "/anaconda3/envs/python36/lib/python3.6/site-packages/statsmodels/discrete/discrete_model.py:1674: RuntimeWarning: overflow encountered in exp\n",
      "  return 1/(1+np.exp(-X))\n",
      "/anaconda3/envs/python36/lib/python3.6/site-packages/statsmodels/discrete/discrete_model.py:1724: RuntimeWarning: divide by zero encountered in log\n",
      "  return np.sum(np.log(self.cdf(q*np.dot(X,params))))\n",
      "/anaconda3/envs/python36/lib/python3.6/site-packages/statsmodels/discrete/discrete_model.py:1674: RuntimeWarning: overflow encountered in exp\n",
      "  return 1/(1+np.exp(-X))\n",
      "/anaconda3/envs/python36/lib/python3.6/site-packages/statsmodels/discrete/discrete_model.py:1724: RuntimeWarning: divide by zero encountered in log\n",
      "  return np.sum(np.log(self.cdf(q*np.dot(X,params))))\n"
     ]
    },
    {
     "name": "stdout",
     "output_type": "stream",
     "text": [
      "Warning: Maximum number of iterations has been exceeded.\n",
      "         Current function value: 0.076216\n",
      "         Iterations: 35\n",
      "         Function evaluations: 75\n",
      "         Gradient evaluations: 57\n"
     ]
    },
    {
     "name": "stderr",
     "output_type": "stream",
     "text": [
      "/anaconda3/envs/python36/lib/python3.6/site-packages/statsmodels/base/model.py:508: ConvergenceWarning: Maximum Likelihood optimization failed to converge. Check mle_retvals\n",
      "  \"Check mle_retvals\", ConvergenceWarning)\n"
     ]
    }
   ],
   "source": [
    "model = run_ols(df_all, 'Kudos')"
   ]
  },
  {
   "cell_type": "code",
   "execution_count": 278,
   "metadata": {},
   "outputs": [
    {
     "name": "stdout",
     "output_type": "stream",
     "text": [
      "                            OLS Regression Results                            \n",
      "==============================================================================\n",
      "Dep. Variable:                  Kudos   R-squared:                       0.267\n",
      "Model:                            OLS   Adj. R-squared:                  0.267\n",
      "Method:                 Least Squares   F-statistic:                     5675.\n",
      "Date:                Thu, 19 Jul 2018   Prob (F-statistic):               0.00\n",
      "Time:                        14:41:31   Log-Likelihood:            -1.3928e+06\n",
      "No. Observations:              701667   AIC:                         2.786e+06\n",
      "Df Residuals:                  701621   BIC:                         2.786e+06\n",
      "Df Model:                          45                                         \n",
      "Covariance Type:            nonrobust                                         \n",
      "==============================================================================================\n",
      "                                 coef    std err          t      P>|t|      [0.025      0.975]\n",
      "----------------------------------------------------------------------------------------------\n",
      "Intercept                    -11.5859      0.130    -89.039      0.000     -11.841     -11.331\n",
      "Term_novelty                  -0.5522      0.008    -72.038      0.000      -0.567      -0.537\n",
      "Topic_novelty                 -2.3893      0.044    -54.748      0.000      -2.475      -2.304\n",
      "Chapters                       0.0114   6.34e-05    179.632      0.000       0.011       0.012\n",
      "Freq_relationship              0.3603      0.005     66.860      0.000       0.350       0.371\n",
      "author_fic_cnt             -1.698e-06   1.76e-06     -0.966      0.334   -5.14e-06    1.75e-06\n",
      "History                       -0.0002   3.78e-06    -53.727      0.000      -0.000      -0.000\n",
      "Category_Gen                  -0.1138      0.006    -18.936      0.000      -0.126      -0.102\n",
      "Category_F_M                  -0.0858      0.005    -16.654      0.000      -0.096      -0.076\n",
      "Category_M_M                   0.2011      0.006     32.999      0.000       0.189       0.213\n",
      "Category_Multi                 0.0073      0.008      0.964      0.335      -0.008       0.022\n",
      "Category_Other                -0.3269      0.012    -27.446      0.000      -0.350      -0.304\n",
      "Category_Unknown               0.1714      0.013     12.963      0.000       0.145       0.197\n",
      "ArchiveWarnings_underage       0.2091      0.013     16.606      0.000       0.184       0.234\n",
      "ArchiveWarnings_death         -0.3815      0.009    -41.265      0.000      -0.400      -0.363\n",
      "ArchiveWarnings_violence      -0.2115      0.009    -24.342      0.000      -0.229      -0.194\n",
      "ArchiveWarnings_noncon         0.2057      0.012     17.823      0.000       0.183       0.228\n",
      "ArchiveWarnings_choose_no     -0.0422      0.008     -5.427      0.000      -0.057      -0.027\n",
      "ArchiveWarnings_no_apply       0.0058      0.008      0.713      0.476      -0.010       0.022\n",
      "Rating_N                       0.0146      0.008      1.745      0.081      -0.002       0.031\n",
      "Rating_E                       0.7680      0.008     98.449      0.000       0.753       0.783\n",
      "Rating_M                       0.2857      0.007     38.825      0.000       0.271       0.300\n",
      "Rating_T                       0.1354      0.006     22.342      0.000       0.124       0.147\n",
      "Fandom_dcu                    -0.2263      0.006    -40.071      0.000      -0.237      -0.215\n",
      "Fandom_doctor_who             -0.2263      0.006    -40.071      0.000      -0.237      -0.215\n",
      "Fandom_star_wars               0.1230      0.015      8.214      0.000       0.094       0.152\n",
      "Fandom_arthurian              -0.1985      0.015    -12.865      0.000      -0.229      -0.168\n",
      "Fandom_supernatural           -0.3681      0.008    -43.704      0.000      -0.385      -0.352\n",
      "Fandom_haikyuu                 0.3777      0.017     21.866      0.000       0.344       0.412\n",
      "Fandom_kuroko_no_basuke        0.2806      0.020     13.695      0.000       0.240       0.321\n",
      "Fandom_hamilton_miranda        0.3269      0.039      8.379      0.000       0.250       0.403\n",
      "Fandom_dragon_age             -0.1648      0.011    -14.813      0.000      -0.187      -0.143\n",
      "Fandom_the_walking_dead        0.0802      0.018      4.414      0.000       0.045       0.116\n",
      "Fandom_buffy                  -0.9105      0.016    -55.263      0.000      -0.943      -0.878\n",
      "Fandom_les_miserables         -0.1804      0.020     -8.815      0.000      -0.220      -0.140\n",
      "Fandom_naruto                 -0.3778      0.019    -19.573      0.000      -0.416      -0.340\n",
      "Fandom_tolkien                 0.3177      0.012     25.603      0.000       0.293       0.342\n",
      "Fandom_shakespare             -0.8333      0.058    -14.277      0.000      -0.948      -0.719\n",
      "Fandom_hetalia                -0.6031      0.016    -37.910      0.000      -0.634      -0.572\n",
      "Fandom_attack_on_titan        -0.0246      0.014     -1.802      0.071      -0.051       0.002\n",
      "Fandom_ms_paint_adventures     0.1077      0.012      9.275      0.000       0.085       0.130\n",
      "Fandom_homestuck               0.1233      0.011     11.065      0.000       0.101       0.145\n",
      "Fandom_marvel                  0.4913      0.008     62.878      0.000       0.476       0.507\n",
      "Fandom_sailor_moon            -1.7834      0.044    -40.615      0.000      -1.869      -1.697\n",
      "Fandom_one_direction          -0.5275      0.016    -32.147      0.000      -0.560      -0.495\n",
      "Fandom_sherlock               -0.0136      0.009     -1.535      0.125      -0.031       0.004\n",
      "nonzero_prob                  16.9468      0.133    127.306      0.000      16.686      17.208\n",
      "==============================================================================\n",
      "Omnibus:                   385785.540   Durbin-Watson:                   1.288\n",
      "Prob(Omnibus):                  0.000   Jarque-Bera (JB):          4630096.255\n",
      "Skew:                          -2.412   Prob(JB):                         0.00\n",
      "Kurtosis:                      14.623   Cond. No.                     1.10e+16\n",
      "==============================================================================\n",
      "\n",
      "Warnings:\n",
      "[1] Standard Errors assume that the covariance matrix of the errors is correctly specified.\n",
      "[2] The smallest eigenvalue is 1.46e-20. This might indicate that there are\n",
      "strong multicollinearity problems or that the design matrix is singular.\n"
     ]
    }
   ],
   "source": [
    "print(model.summary())"
   ]
  },
  {
   "cell_type": "code",
   "execution_count": 215,
   "metadata": {},
   "outputs": [],
   "source": [
    "ylabels =['Term novelty ',' Topic novelty' , 'Chapters', \\\n",
    " 'Frequent relationship',' Author work count','Age',\\\n",
    " 'Category (Gen)','Category (F/M)',' Category (M/M) ',' Category (Multi)','Category (Other)','Category (Unknown)\\\n",
    " ','ArchiveWarnings (underage)','ArchiveWarnings (death)',' ArchiveWarnings (violence)','\\\n",
    " ArchiveWarnings (non-consensual)','ArchiveWarnings (choose not to use)','\\\n",
    " ArchiveWarnings (no warinigs apply)','Rating (Not rated)', 'Rating (Explicit)','Rating (Mature)',' Rating (Teens)\\\n",
    " ',' Fandom (DCU) ',' Fandom (Doctor Who) ',' Fandom (Star Wars) ',' Fandom (Arthurian Mythologies)',\\\n",
    "  'Fandom (Supernatural)','Fandom (Haikyuu)',' Fandom (Kuroko no Basuke)',' Fandom (Hamilton/Miranda)\\\n",
    " ',' Fandom (Dragon Age)',' Fandom (The Walking Dead)',' Fandom (Buffy the Vampire Slayer)','Fandom (Les Miserables)\\\n",
    " ',' Fandom (Naruto)','Fandom (Tolkien)',' Fandom (Shakespare)','Fandom (Axis Powers Hetalia)',' \\\n",
    " Fandom (Attack on Titan)',' Fandom (Ms Paint Adventures)',' Fandom (Homestuck)','\\\n",
    "\n",
    "Fandom (Marvel)',' Fandom (Sailor Moon)',' Fandom (One Direction)','Fandom (Sherlock)'][::-1]"
   ]
  },
  {
   "cell_type": "code",
   "execution_count": 280,
   "metadata": {},
   "outputs": [
    {
     "name": "stderr",
     "output_type": "stream",
     "text": [
      "/anaconda3/envs/python36/lib/python3.6/site-packages/statsmodels/discrete/discrete_model.py:1674: RuntimeWarning: overflow encountered in exp\n",
      "  return 1/(1+np.exp(-X))\n",
      "/anaconda3/envs/python36/lib/python3.6/site-packages/statsmodels/discrete/discrete_model.py:1724: RuntimeWarning: divide by zero encountered in log\n",
      "  return np.sum(np.log(self.cdf(q*np.dot(X,params))))\n",
      "/anaconda3/envs/python36/lib/python3.6/site-packages/statsmodels/discrete/discrete_model.py:1674: RuntimeWarning: overflow encountered in exp\n",
      "  return 1/(1+np.exp(-X))\n",
      "/anaconda3/envs/python36/lib/python3.6/site-packages/statsmodels/discrete/discrete_model.py:1724: RuntimeWarning: divide by zero encountered in log\n",
      "  return np.sum(np.log(self.cdf(q*np.dot(X,params))))\n",
      "/anaconda3/envs/python36/lib/python3.6/site-packages/statsmodels/discrete/discrete_model.py:1674: RuntimeWarning: overflow encountered in exp\n",
      "  return 1/(1+np.exp(-X))\n",
      "/anaconda3/envs/python36/lib/python3.6/site-packages/statsmodels/discrete/discrete_model.py:1724: RuntimeWarning: divide by zero encountered in log\n",
      "  return np.sum(np.log(self.cdf(q*np.dot(X,params))))\n",
      "/anaconda3/envs/python36/lib/python3.6/site-packages/statsmodels/discrete/discrete_model.py:1674: RuntimeWarning: overflow encountered in exp\n",
      "  return 1/(1+np.exp(-X))\n",
      "/anaconda3/envs/python36/lib/python3.6/site-packages/statsmodels/discrete/discrete_model.py:1724: RuntimeWarning: divide by zero encountered in log\n",
      "  return np.sum(np.log(self.cdf(q*np.dot(X,params))))\n",
      "/anaconda3/envs/python36/lib/python3.6/site-packages/statsmodels/discrete/discrete_model.py:1674: RuntimeWarning: overflow encountered in exp\n",
      "  return 1/(1+np.exp(-X))\n",
      "/anaconda3/envs/python36/lib/python3.6/site-packages/statsmodels/discrete/discrete_model.py:1724: RuntimeWarning: divide by zero encountered in log\n",
      "  return np.sum(np.log(self.cdf(q*np.dot(X,params))))\n",
      "/anaconda3/envs/python36/lib/python3.6/site-packages/statsmodels/discrete/discrete_model.py:1674: RuntimeWarning: overflow encountered in exp\n",
      "  return 1/(1+np.exp(-X))\n",
      "/anaconda3/envs/python36/lib/python3.6/site-packages/statsmodels/discrete/discrete_model.py:1724: RuntimeWarning: divide by zero encountered in log\n",
      "  return np.sum(np.log(self.cdf(q*np.dot(X,params))))\n",
      "/anaconda3/envs/python36/lib/python3.6/site-packages/statsmodels/discrete/discrete_model.py:1674: RuntimeWarning: overflow encountered in exp\n",
      "  return 1/(1+np.exp(-X))\n",
      "/anaconda3/envs/python36/lib/python3.6/site-packages/statsmodels/discrete/discrete_model.py:1724: RuntimeWarning: divide by zero encountered in log\n",
      "  return np.sum(np.log(self.cdf(q*np.dot(X,params))))\n"
     ]
    },
    {
     "name": "stdout",
     "output_type": "stream",
     "text": [
      "Warning: Maximum number of iterations has been exceeded.\n",
      "         Current function value: 0.076216\n",
      "         Iterations: 35\n",
      "         Function evaluations: 75\n",
      "         Gradient evaluations: 57\n"
     ]
    },
    {
     "name": "stderr",
     "output_type": "stream",
     "text": [
      "/anaconda3/envs/python36/lib/python3.6/site-packages/statsmodels/base/model.py:508: ConvergenceWarning: Maximum Likelihood optimization failed to converge. Check mle_retvals\n",
      "  \"Check mle_retvals\", ConvergenceWarning)\n"
     ]
    }
   ],
   "source": [
    "kudos_model = run_ols(df_all, 'Kudos')\n",
    "kudos_coef = list(kudos_model.params)[1:-1][::-1]\n",
    "kudos_err = list(kudos_model.bse)[1:-1]"
   ]
  },
  {
   "cell_type": "code",
   "execution_count": 281,
   "metadata": {},
   "outputs": [
    {
     "name": "stderr",
     "output_type": "stream",
     "text": [
      "/anaconda3/envs/python36/lib/python3.6/site-packages/statsmodels/discrete/discrete_model.py:1674: RuntimeWarning: overflow encountered in exp\n",
      "  return 1/(1+np.exp(-X))\n",
      "/anaconda3/envs/python36/lib/python3.6/site-packages/statsmodels/discrete/discrete_model.py:1724: RuntimeWarning: divide by zero encountered in log\n",
      "  return np.sum(np.log(self.cdf(q*np.dot(X,params))))\n",
      "/anaconda3/envs/python36/lib/python3.6/site-packages/statsmodels/discrete/discrete_model.py:1674: RuntimeWarning: overflow encountered in exp\n",
      "  return 1/(1+np.exp(-X))\n",
      "/anaconda3/envs/python36/lib/python3.6/site-packages/statsmodels/discrete/discrete_model.py:1724: RuntimeWarning: divide by zero encountered in log\n",
      "  return np.sum(np.log(self.cdf(q*np.dot(X,params))))\n",
      "/anaconda3/envs/python36/lib/python3.6/site-packages/statsmodels/discrete/discrete_model.py:1674: RuntimeWarning: overflow encountered in exp\n",
      "  return 1/(1+np.exp(-X))\n",
      "/anaconda3/envs/python36/lib/python3.6/site-packages/statsmodels/discrete/discrete_model.py:1724: RuntimeWarning: divide by zero encountered in log\n",
      "  return np.sum(np.log(self.cdf(q*np.dot(X,params))))\n",
      "/anaconda3/envs/python36/lib/python3.6/site-packages/statsmodels/discrete/discrete_model.py:1674: RuntimeWarning: overflow encountered in exp\n",
      "  return 1/(1+np.exp(-X))\n",
      "/anaconda3/envs/python36/lib/python3.6/site-packages/statsmodels/discrete/discrete_model.py:1724: RuntimeWarning: divide by zero encountered in log\n",
      "  return np.sum(np.log(self.cdf(q*np.dot(X,params))))\n",
      "/anaconda3/envs/python36/lib/python3.6/site-packages/statsmodels/discrete/discrete_model.py:1674: RuntimeWarning: overflow encountered in exp\n",
      "  return 1/(1+np.exp(-X))\n",
      "/anaconda3/envs/python36/lib/python3.6/site-packages/statsmodels/discrete/discrete_model.py:1724: RuntimeWarning: divide by zero encountered in log\n",
      "  return np.sum(np.log(self.cdf(q*np.dot(X,params))))\n",
      "/anaconda3/envs/python36/lib/python3.6/site-packages/statsmodels/discrete/discrete_model.py:1674: RuntimeWarning: overflow encountered in exp\n",
      "  return 1/(1+np.exp(-X))\n",
      "/anaconda3/envs/python36/lib/python3.6/site-packages/statsmodels/discrete/discrete_model.py:1724: RuntimeWarning: divide by zero encountered in log\n",
      "  return np.sum(np.log(self.cdf(q*np.dot(X,params))))\n",
      "/anaconda3/envs/python36/lib/python3.6/site-packages/statsmodels/discrete/discrete_model.py:1674: RuntimeWarning: overflow encountered in exp\n",
      "  return 1/(1+np.exp(-X))\n",
      "/anaconda3/envs/python36/lib/python3.6/site-packages/statsmodels/discrete/discrete_model.py:1724: RuntimeWarning: divide by zero encountered in log\n",
      "  return np.sum(np.log(self.cdf(q*np.dot(X,params))))\n",
      "/anaconda3/envs/python36/lib/python3.6/site-packages/statsmodels/discrete/discrete_model.py:1674: RuntimeWarning: overflow encountered in exp\n",
      "  return 1/(1+np.exp(-X))\n",
      "/anaconda3/envs/python36/lib/python3.6/site-packages/statsmodels/discrete/discrete_model.py:1724: RuntimeWarning: divide by zero encountered in log\n",
      "  return np.sum(np.log(self.cdf(q*np.dot(X,params))))\n"
     ]
    },
    {
     "name": "stdout",
     "output_type": "stream",
     "text": [
      "Warning: Desired error not necessarily achieved due to precision loss.\n",
      "         Current function value: 0.179552\n",
      "         Iterations: 3\n",
      "         Function evaluations: 43\n",
      "         Gradient evaluations: 21\n"
     ]
    },
    {
     "name": "stderr",
     "output_type": "stream",
     "text": [
      "/anaconda3/envs/python36/lib/python3.6/site-packages/statsmodels/base/model.py:488: HessianInversionWarning: Inverting hessian failed, no bse or cov_params available\n",
      "  'available', HessianInversionWarning)\n",
      "/anaconda3/envs/python36/lib/python3.6/site-packages/statsmodels/base/model.py:508: ConvergenceWarning: Maximum Likelihood optimization failed to converge. Check mle_retvals\n",
      "  \"Check mle_retvals\", ConvergenceWarning)\n"
     ]
    }
   ],
   "source": [
    "hits_model = run_ols(df_all, 'Hits')\n",
    "hits_coef = list(hits_model.params)[1:-1][::-1]\n",
    "hits_err = list(hits_model.bse)[1:-1]"
   ]
  },
  {
   "cell_type": "code",
   "execution_count": 282,
   "metadata": {},
   "outputs": [
    {
     "name": "stderr",
     "output_type": "stream",
     "text": [
      "/anaconda3/envs/python36/lib/python3.6/site-packages/statsmodels/discrete/discrete_model.py:1674: RuntimeWarning: overflow encountered in exp\n",
      "  return 1/(1+np.exp(-X))\n",
      "/anaconda3/envs/python36/lib/python3.6/site-packages/statsmodels/discrete/discrete_model.py:1724: RuntimeWarning: divide by zero encountered in log\n",
      "  return np.sum(np.log(self.cdf(q*np.dot(X,params))))\n",
      "/anaconda3/envs/python36/lib/python3.6/site-packages/statsmodels/discrete/discrete_model.py:1674: RuntimeWarning: overflow encountered in exp\n",
      "  return 1/(1+np.exp(-X))\n",
      "/anaconda3/envs/python36/lib/python3.6/site-packages/statsmodels/discrete/discrete_model.py:1724: RuntimeWarning: divide by zero encountered in log\n",
      "  return np.sum(np.log(self.cdf(q*np.dot(X,params))))\n"
     ]
    },
    {
     "name": "stdout",
     "output_type": "stream",
     "text": [
      "Warning: Desired error not necessarily achieved due to precision loss.\n",
      "         Current function value: 0.693147\n",
      "         Iterations: 0\n",
      "         Function evaluations: 16\n",
      "         Gradient evaluations: 4\n"
     ]
    },
    {
     "name": "stderr",
     "output_type": "stream",
     "text": [
      "/anaconda3/envs/python36/lib/python3.6/site-packages/statsmodels/base/model.py:488: HessianInversionWarning: Inverting hessian failed, no bse or cov_params available\n",
      "  'available', HessianInversionWarning)\n",
      "/anaconda3/envs/python36/lib/python3.6/site-packages/statsmodels/base/model.py:508: ConvergenceWarning: Maximum Likelihood optimization failed to converge. Check mle_retvals\n",
      "  \"Check mle_retvals\", ConvergenceWarning)\n"
     ]
    }
   ],
   "source": [
    "comments_model = run_ols(df_all, 'Comments')\n",
    "comments_coef = list(comments_model.params)[1:-1][::-1]\n",
    "comments_err = list(comments_model.bse)[1:-1]"
   ]
  },
  {
   "cell_type": "code",
   "execution_count": 283,
   "metadata": {},
   "outputs": [
    {
     "name": "stderr",
     "output_type": "stream",
     "text": [
      "/anaconda3/envs/python36/lib/python3.6/site-packages/statsmodels/discrete/discrete_model.py:1674: RuntimeWarning: overflow encountered in exp\n",
      "  return 1/(1+np.exp(-X))\n",
      "/anaconda3/envs/python36/lib/python3.6/site-packages/statsmodels/discrete/discrete_model.py:1724: RuntimeWarning: divide by zero encountered in log\n",
      "  return np.sum(np.log(self.cdf(q*np.dot(X,params))))\n",
      "/anaconda3/envs/python36/lib/python3.6/site-packages/statsmodels/discrete/discrete_model.py:1674: RuntimeWarning: overflow encountered in exp\n",
      "  return 1/(1+np.exp(-X))\n",
      "/anaconda3/envs/python36/lib/python3.6/site-packages/statsmodels/discrete/discrete_model.py:1724: RuntimeWarning: divide by zero encountered in log\n",
      "  return np.sum(np.log(self.cdf(q*np.dot(X,params))))\n"
     ]
    },
    {
     "name": "stdout",
     "output_type": "stream",
     "text": [
      "Warning: Maximum number of iterations has been exceeded.\n",
      "         Current function value: 0.424771\n",
      "         Iterations: 35\n",
      "         Function evaluations: 50\n",
      "         Gradient evaluations: 43\n"
     ]
    },
    {
     "name": "stderr",
     "output_type": "stream",
     "text": [
      "/anaconda3/envs/python36/lib/python3.6/site-packages/statsmodels/base/model.py:508: ConvergenceWarning: Maximum Likelihood optimization failed to converge. Check mle_retvals\n",
      "  \"Check mle_retvals\", ConvergenceWarning)\n"
     ]
    }
   ],
   "source": [
    "bookmarks_model = run_ols(df_all, 'Bookmarks')\n",
    "bookmarks_coef = list(bookmarks_model.params)[1:-1][::-1]\n",
    "bookmarks_err = list(bookmarks_model.bse)[1:-1]"
   ]
  },
  {
   "cell_type": "code",
   "execution_count": 286,
   "metadata": {},
   "outputs": [
    {
     "data": {
      "text/plain": [
       "Intercept                     -5.387336\n",
       "Term_novelty                   0.155338\n",
       "Topic_novelty                 -4.743090\n",
       "Chapters                       0.007778\n",
       "Freq_relationship              0.071842\n",
       "author_fic_cnt                -0.000010\n",
       "History                       -0.000098\n",
       "Category_Gen                   0.136977\n",
       "Category_F_M                  -0.086804\n",
       "Category_M_M                   0.041687\n",
       "Category_Multi                -0.014151\n",
       "Category_Other                 0.074570\n",
       "Category_Unknown               0.226271\n",
       "ArchiveWarnings_underage      -0.116358\n",
       "ArchiveWarnings_death         -0.161652\n",
       "ArchiveWarnings_violence      -0.200943\n",
       "ArchiveWarnings_noncon        -0.092606\n",
       "ArchiveWarnings_choose_no     -0.138275\n",
       "ArchiveWarnings_no_apply      -0.200079\n",
       "Rating_N                       0.049029\n",
       "Rating_E                       0.583998\n",
       "Rating_M                       0.161774\n",
       "Rating_T                       0.075233\n",
       "Fandom_dcu                    -0.251307\n",
       "Fandom_doctor_who             -0.251307\n",
       "Fandom_star_wars              -0.270988\n",
       "Fandom_arthurian              -0.395527\n",
       "Fandom_supernatural           -0.460001\n",
       "Fandom_haikyuu                -0.057550\n",
       "Fandom_kuroko_no_basuke       -0.129801\n",
       "Fandom_hamilton_miranda        0.226697\n",
       "Fandom_dragon_age             -0.382876\n",
       "Fandom_the_walking_dead       -0.499928\n",
       "Fandom_buffy                  -0.231110\n",
       "Fandom_les_miserables         -0.587596\n",
       "Fandom_naruto                 -0.425066\n",
       "Fandom_tolkien                -0.131111\n",
       "Fandom_shakespare             -1.637276\n",
       "Fandom_hetalia                -0.458693\n",
       "Fandom_attack_on_titan        -0.289171\n",
       "Fandom_ms_paint_adventures    -0.561916\n",
       "Fandom_homestuck              -0.589313\n",
       "Fandom_marvel                 -0.189748\n",
       "Fandom_sailor_moon            -2.382807\n",
       "Fandom_one_direction          -0.359329\n",
       "Fandom_sherlock               -0.346662\n",
       "nonzero_prob                  10.757930\n",
       "dtype: float64"
      ]
     },
     "execution_count": 286,
     "metadata": {},
     "output_type": "execute_result"
    }
   ],
   "source": [
    "bookmarks_model.params"
   ]
  },
  {
   "cell_type": "code",
   "execution_count": 284,
   "metadata": {},
   "outputs": [
    {
     "data": {
      "text/plain": [
       "[-0.3466617341381244,\n",
       " -0.3593288000497,\n",
       " -2.382806610413433,\n",
       " -0.18974757561239894,\n",
       " -0.58931325305669,\n",
       " -0.5619155180670337,\n",
       " -0.28917071722710347,\n",
       " -0.4586926096479146,\n",
       " -1.6372755570357203,\n",
       " -0.13111127440230355,\n",
       " -0.42506628749590897,\n",
       " -0.5875961972584186,\n",
       " -0.23111021675666893,\n",
       " -0.49992751583429007,\n",
       " -0.38287638912623606,\n",
       " 0.22669666424505774,\n",
       " -0.12980118885950667,\n",
       " -0.05755029744719783,\n",
       " -0.46000066988425187,\n",
       " -0.39552724527520494,\n",
       " -0.27098813082235385,\n",
       " -0.25130676138275343,\n",
       " -0.2513067613827849,\n",
       " 0.07523264029442177,\n",
       " 0.16177435788370303,\n",
       " 0.5839981201293563,\n",
       " 0.04902890583078441,\n",
       " -0.20007909993936393,\n",
       " -0.13827452334607243,\n",
       " -0.09260605937670058,\n",
       " -0.20094309427676615,\n",
       " -0.16165151492233665,\n",
       " -0.11635802372254654,\n",
       " 0.22627104392662617,\n",
       " 0.07457048761909327,\n",
       " -0.01415104041223566,\n",
       " 0.041686585791970814,\n",
       " -0.08680441219187122,\n",
       " 0.13697723831174788,\n",
       " -9.761797235084831e-05,\n",
       " -1.0469645480182858e-05,\n",
       " 0.07184209460394277,\n",
       " 0.00777753269776058,\n",
       " -4.743090334247132,\n",
       " 0.15533777952507483]"
      ]
     },
     "execution_count": 284,
     "metadata": {},
     "output_type": "execute_result"
    }
   ],
   "source": [
    "bookmarks_coef"
   ]
  },
  {
   "cell_type": "code",
   "execution_count": 290,
   "metadata": {},
   "outputs": [
    {
     "data": {
      "image/png": "[encoded data removed]",
      "text/plain": [
       "<matplotlib.figure.Figure at 0x1c1b830550>"
      ]
     },
     "metadata": {},
     "output_type": "display_data"
    }
   ],
   "source": [
    "fig, ax = plt.subplots(1,4,figsize = (15,15))\n",
    "ax[0].errorbar(kudos_coef, range(len(kudos_coef)), xerr=kudos_err, fmt='o')\n",
    "ax[0].set_yticks(range(len(kudos_coef)))\n",
    "ax[0].set_yticklabels(ylabels)\n",
    "ax[0].plot([0 for i in range(len(kudos_coef)+2)], range(-1,len(kudos_coef)+1), c='grey', alpha = 0.7)\n",
    "ax[0].plot(range(-4,3), [22.5 for i in range(-4,3)] ,c='grey', alpha = 0.7)\n",
    "ax[0].plot(range(-4,3), [26.5 for i in range(-4,3)] ,c='grey', alpha = 0.7)\n",
    "ax[0].plot(range(-4,3), [32.5 for i in range(-4,3)] ,c='grey', alpha = 0.7)\n",
    "ax[0].plot(range(-4,3), [38.5 for i in range(-4,3)] ,c='grey', alpha = 0.7)\n",
    "ax[0].plot(range(-4,3), [42.5 for i in range(-4,3)] ,c='grey', alpha = 0.7)\n",
    "ax[0].set_ylim(-0.5,44.5)\n",
    "# ax[0].set_xlim(-3,1.5)\n",
    "for tick in ax[0].yaxis.get_major_ticks():\n",
    "    tick.label.set_fontsize(13)\n",
    "\n",
    "ax[1].errorbar(hits_coef, range(len(hits_coef)), xerr=hits_err, fmt='o')\n",
    "ax[1].set_yticks(range(len(hits_coef)))\n",
    "# ax[1].set_yticklabels(ylabels)\n",
    "ax[1].plot([0 for i in range(len(hits_coef)+2)], range(-1,len(hits_coef)+1), c='grey', alpha = 0.7)\n",
    "ax[1].plot(range(-4,3), [22.5 for i in range(-4,3)] ,c='grey', alpha = 0.7)\n",
    "ax[1].plot(range(-4,3), [26.5 for i in range(-4,3)] ,c='grey', alpha = 0.7)\n",
    "ax[1].plot(range(-4,3), [32.5 for i in range(-4,3)] ,c='grey', alpha = 0.7)\n",
    "ax[1].plot(range(-4,3), [38.5 for i in range(-4,3)] ,c='grey', alpha = 0.7)\n",
    "ax[1].plot(range(-4,3), [42.5 for i in range(-4,3)] ,c='grey', alpha = 0.7)\n",
    "ax[1].set_ylim(-0.5,44.5)\n",
    "# ax[1].set_xlim(-3,1.5)\n",
    "ax[1].set_yticklabels([])\n",
    "\n",
    "ax[2].errorbar(comments_coef, range(len(comments_coef)), xerr=comments_err, fmt='o')\n",
    "ax[2].set_yticks(range(len(comments_coef)))\n",
    "ax[2].plot([0 for i in range(len(comments_coef)+2)], range(-1,len(comments_coef)+1), c='grey', alpha = 0.7)\n",
    "ax[2].plot(range(-4,3), [22.5 for i in range(-4,3)] ,c='grey', alpha = 0.7)\n",
    "ax[2].plot(range(-4,3), [26.5 for i in range(-4,3)] ,c='grey', alpha = 0.7)\n",
    "ax[2].plot(range(-4,3), [32.5 for i in range(-4,3)] ,c='grey', alpha = 0.7)\n",
    "ax[2].plot(range(-4,3), [38.5 for i in range(-4,3)] ,c='grey', alpha = 0.7)\n",
    "ax[2].plot(range(-4,3), [42.5 for i in range(-4,3)] ,c='grey', alpha = 0.7)\n",
    "ax[2].set_ylim(-0.5,44.5)\n",
    "# ax[2].set_xlim(-3,1.5)\n",
    "ax[2].set_yticklabels([])\n",
    "\n",
    "ax[3].errorbar(bookmarks_coef, range(len(bookmarks_coef)), xerr=bookmarks_err, fmt='o')\n",
    "ax[3].set_yticks(range(len(bookmarks_coef)))\n",
    "ax[3].plot([0 for i in range(len(bookmarks_coef)+2)], range(-1,len(bookmarks_coef)+1), c='grey', alpha = 0.7)\n",
    "ax[3].plot(range(-5,3), [22.5 for i in range(-5,3)] ,c='grey', alpha = 0.7)\n",
    "ax[3].plot(range(-4,3), [26.5 for i in range(-4,3)] ,c='grey', alpha = 0.7)\n",
    "ax[3].plot(range(-4,3), [32.5 for i in range(-4,3)] ,c='grey', alpha = 0.7)\n",
    "ax[3].plot(range(-4,3), [38.5 for i in range(-4,3)] ,c='grey', alpha = 0.7)\n",
    "ax[3].plot(range(-4,3), [42.5 for i in range(-4,3)] ,c='grey', alpha = 0.7)\n",
    "ax[3].set_ylim(-0.5,44.5)\n",
    "# ax[3].set_xlim(-3,1.5)\n",
    "ax[3].set_yticklabels([])\n",
    "\n",
    "plt.tight_layout()\n",
    "plt.savefig('ols_coefs.pdf', format='pdf')"
   ]
  },
  {
   "cell_type": "code",
   "execution_count": null,
   "metadata": {},
   "outputs": [],
   "source": []
  },
  {
   "cell_type": "code",
   "execution_count": null,
   "metadata": {},
   "outputs": [],
   "source": []
  }
 ],
 "metadata": {
  "kernelspec": {
   "display_name": "Python 3",
   "language": "python",
   "name": "python3"
  },
  "language_info": {
   "codemirror_mode": {
    "name": "ipython",
    "version": 3
   },
   "file_extension": ".py",
   "mimetype": "text/x-python",
   "name": "python",
   "nbconvert_exporter": "python",
   "pygments_lexer": "ipython3",
   "version": "3.6.4"
  }
 },
 "nbformat": 4,
 "nbformat_minor": 2
}
