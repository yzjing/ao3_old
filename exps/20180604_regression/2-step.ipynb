{
 "cells": [
  {
   "cell_type": "code",
   "execution_count": 1,
   "metadata": {},
   "outputs": [
    {
     "name": "stderr",
     "output_type": "stream",
     "text": [
      "/anaconda3/lib/python3.6/site-packages/statsmodels/compat/pandas.py:56: FutureWarning: The pandas.core.datetools module is deprecated and will be removed in a future version. Please use the pandas.tseries module instead.\n",
      "  from pandas.core import datetools\n"
     ]
    }
   ],
   "source": [
    "import pandas as pd\n",
    "import os\n",
    "import matplotlib.pyplot as plt\n",
    "%matplotlib inline\n",
    "import numpy as np\n",
    "import seaborn as sns\n",
    "from statsmodels.formula.api import ols\n",
    "import statsmodels.api as sm\n",
    "from sklearn.linear_model import LogisticRegression"
   ]
  },
  {
   "cell_type": "code",
   "execution_count": 42,
   "metadata": {},
   "outputs": [],
   "source": [
    "df_all = pd.read_csv('fanfic_regression_data_curated.tsv', sep = '\\t')"
   ]
  },
  {
   "cell_type": "code",
   "execution_count": 43,
   "metadata": {},
   "outputs": [
    {
     "data": {
      "text/plain": [
       "662728"
      ]
     },
     "execution_count": 43,
     "metadata": {},
     "output_type": "execute_result"
    }
   ],
   "source": [
    "len(df_all)"
   ]
  },
  {
   "cell_type": "code",
   "execution_count": 44,
   "metadata": {},
   "outputs": [],
   "source": [
    "df_all['ChapterIndex'].fillna(0, inplace=True)"
   ]
  },
  {
   "cell_type": "code",
   "execution_count": 45,
   "metadata": {
    "scrolled": false
   },
   "outputs": [
    {
     "data": {
      "text/plain": [
       "0    0.888159\n",
       "1    0.353749\n",
       "2    0.855796\n",
       "3    0.706213\n",
       "4    0.732386\n",
       "Name: Term_novelty, dtype: float64"
      ]
     },
     "execution_count": 45,
     "metadata": {},
     "output_type": "execute_result"
    }
   ],
   "source": [
    "df_all['Term_novelty'].head()"
   ]
  },
  {
   "cell_type": "markdown",
   "metadata": {},
   "source": [
    "### Logistic"
   ]
  },
  {
   "cell_type": "code",
   "execution_count": 55,
   "metadata": {},
   "outputs": [],
   "source": [
    "def run_logit(df, field):\n",
    "    df = df.replace([np.inf, -np.inf], np.nan)\n",
    "    df = df.dropna(how = 'any')\n",
    "    df['Intercept'] = 1.0\n",
    "    df['binary'] = df[field].apply(lambda x: 1 if x != 0.0 else 0)\n",
    "    logit_model = sm.Logit(df['binary'], df[['Chapters',\\\n",
    "        'Term_novelty', 'Topic_novelty',\\\n",
    "        'Freq_relationship', 'Category_F_M',\\\n",
    "       'Category_Gen', 'Category_M_M', 'Category_Multi', 'Category_Other','Category_Unknown', \\\n",
    "       'ArchiveWarnings_underage', 'ArchiveWarnings_death',\\\n",
    "       'ArchiveWarnings_choose_no', 'ArchiveWarnings_noncon',\\\n",
    "       'ArchiveWarnings_violence',\\\n",
    "       'author_fic_cnt', 'Rating_G',\\\n",
    "       'Rating_M', 'Rating_N', 'Rating_T',\\\n",
    "       'Fandom_dcu', 'Fandom_doctor_who', 'Fandom_star_wars',\n",
    "       'Fandom_arthurian', 'Fandom_supernatural', 'Fandom_haikyuu',\n",
    "       'Fandom_kuroko_no_basuke', 'Fandom_hamilton_miranda',\n",
    "       'Fandom_dragon_age', 'Fandom_the_walking_dead', 'Fandom_buffy',\n",
    "       'Fandom_les_miserables', 'Fandom_naruto', 'Fandom_tolkien',\n",
    "       'Fandom_shakespare', 'Fandom_hetalia', 'Fandom_attack_on_titan',\n",
    "       'Fandom_ms_paint_adventures', 'Fandom_marvel',\n",
    "       'Fandom_sailor_moon', 'Fandom_one_direction', 'Fandom_sherlock',\n",
    "        'Intercept']]).fit(method='bfgs')\n",
    "    pred = logit_model.predict()\n",
    "    df['nonzero_prob'] = pred\n",
    "    return df"
   ]
  },
  {
   "cell_type": "markdown",
   "metadata": {},
   "source": [
    "### OLS"
   ]
  },
  {
   "cell_type": "code",
   "execution_count": 56,
   "metadata": {},
   "outputs": [],
   "source": [
    "def run_ols(df, field):\n",
    "    df = run_logit(df, field)\n",
    "    df['Kudos'] = np.log(df['Kudos']+0.001)\n",
    "    df['Hits'] = np.log(df['Hits']+0.001)\n",
    "    df['Comments'] = np.log(df['Comments']+1)\n",
    "    df['Bookmarks'] = np.log(df['Bookmarks']+0.001)\n",
    "    df = df.replace([np.inf, -np.inf], np.nan)\n",
    "    df = df.dropna(how = 'any')\n",
    "    model = ols( field + \" ~ Term_novelty + Topic_novelty \\\n",
    " + Chapters + Freq_relationship + author_fic_cnt \\\n",
    " + Category_Gen + Category_F_M + Category_M_M + Category_Multi + Category_Other + Category_Unknown \\\n",
    " + ArchiveWarnings_underage + ArchiveWarnings_death + ArchiveWarnings_violence +\\\n",
    " ArchiveWarnings_choose_no +\\\n",
    " ArchiveWarnings_noncon + Rating_N + Rating_E + Rating_M + Rating_T\\\n",
    " + Fandom_dcu + Fandom_doctor_who + Fandom_star_wars + Fandom_arthurian + \\\n",
    " Fandom_supernatural + Fandom_haikyuu + Fandom_kuroko_no_basuke + Fandom_hamilton_miranda\\\n",
    " + Fandom_dragon_age + Fandom_the_walking_dead + Fandom_buffy + Fandom_les_miserables \\\n",
    " + Fandom_naruto + Fandom_tolkien + Fandom_shakespare + Fandom_hetalia + \\\n",
    " Fandom_attack_on_titan + Fandom_ms_paint_adventures +\\\n",
    " Fandom_marvel + Fandom_sailor_moon + Fandom_one_direction + Fandom_sherlock \\\n",
    " + nonzero_prob\", data = df).fit()\n",
    "    return model"
   ]
  },
  {
   "cell_type": "code",
   "execution_count": 8,
   "metadata": {},
   "outputs": [],
   "source": [
    "df_all = df_all.replace([np.inf, -np.inf], np.nan)\n",
    "df_all = df_all.dropna(how = 'any')"
   ]
  },
  {
   "cell_type": "code",
   "execution_count": 38,
   "metadata": {},
   "outputs": [],
   "source": [
    "df_all = df_all[['Chapters',\\\n",
    "        'Term_novelty', 'Topic_novelty',\\\n",
    "        'Freq_relationship', 'Category_F_M',\\\n",
    "       'Category_Gen', 'Category_M_M', 'Category_Multi', 'Category_Other','Category_Unknown', \\\n",
    "       'ArchiveWarnings_underage', 'ArchiveWarnings_death',\\\n",
    "       'ArchiveWarnings_choose_no', 'ArchiveWarnings_no_apply',\\\n",
    "       'ArchiveWarnings_violence',\\\n",
    "       'author_fic_cnt', 'Rating_G',\\\n",
    "       'Rating_M', 'Rating_N', 'Rating_T',\\\n",
    "       'Fandom_dcu', 'Fandom_doctor_who', 'Fandom_star_wars',\n",
    "       'Fandom_arthurian', 'Fandom_supernatural', 'Fandom_haikyuu',\n",
    "       'Fandom_kuroko_no_basuke', 'Fandom_hamilton_miranda',\n",
    "       'Fandom_dragon_age', 'Fandom_the_walking_dead', 'Fandom_buffy',\n",
    "       'Fandom_les_miserables', 'Fandom_naruto', 'Fandom_tolkien',\n",
    "       'Fandom_shakespare', 'Fandom_hetalia', 'Fandom_attack_on_titan',\n",
    "       'Fandom_ms_paint_adventures', 'Fandom_marvel',\n",
    "       'Fandom_sailor_moon', 'Fandom_one_direction', 'Fandom_sherlock',\n",
    "       ]]"
   ]
  },
  {
   "cell_type": "code",
   "execution_count": 11,
   "metadata": {},
   "outputs": [],
   "source": [
    "from statsmodels.stats.outliers_influence import variance_inflation_factor\n"
   ]
  },
  {
   "cell_type": "code",
   "execution_count": 39,
   "metadata": {
    "scrolled": true
   },
   "outputs": [
    {
     "name": "stdout",
     "output_type": "stream",
     "text": [
      "Chapters 1.2704280292956343\n",
      "Term_novelty 4.86642946656073\n",
      "Topic_novelty 29.675270036321066\n",
      "Freq_relationship 2.116415258986859\n",
      "Category_F_M 2.033949703572282\n",
      "Category_Gen 1.7559869721088366\n",
      "Category_M_M 3.504609007687208\n",
      "Category_Multi 1.1560913135632764\n",
      "Category_Other 1.0555057800819718\n",
      "Category_Unknown 1.3360963315035532\n",
      "ArchiveWarnings_underage 1.1842001825165165\n",
      "ArchiveWarnings_death 1.4181580646548442\n",
      "ArchiveWarnings_choose_no 5.187461632627431\n",
      "ArchiveWarnings_no_apply 6.313940787979179\n",
      "ArchiveWarnings_violence 1.8913668943373458\n",
      "author_fic_cnt 1.0402609005030006\n",
      "Rating_G 2.853299497491297\n",
      "Rating_M 2.2173437909470914\n",
      "Rating_N 1.7655888105821727\n",
      "Rating_T 3.4179053631923173\n"
     ]
    },
    {
     "name": "stderr",
     "output_type": "stream",
     "text": [
      "/anaconda3/lib/python3.6/site-packages/statsmodels/stats/outliers_influence.py:167: RuntimeWarning: divide by zero encountered in double_scalars\n",
      "  vif = 1. / (1. - r_squared_i)\n"
     ]
    },
    {
     "name": "stdout",
     "output_type": "stream",
     "text": [
      "Fandom_dcu inf\n",
      "Fandom_doctor_who inf\n",
      "Fandom_star_wars 1.1723425488086205\n",
      "Fandom_arthurian 1.1763714280441417\n",
      "Fandom_supernatural 1.9829369079723853\n",
      "Fandom_haikyuu 1.152023921960274\n",
      "Fandom_kuroko_no_basuke 1.097876152195729\n",
      "Fandom_hamilton_miranda 1.026172613831206\n",
      "Fandom_dragon_age 1.387135235431457\n",
      "Fandom_the_walking_dead 1.1353523680283664\n",
      "Fandom_buffy 1.1400056685510056\n",
      "Fandom_les_miserables 1.0996250517143078\n",
      "Fandom_naruto 1.0947638458259552\n",
      "Fandom_tolkien 1.3107078341820557\n",
      "Fandom_shakespare 1.0077549102810837\n",
      "Fandom_hetalia 1.1595621525263025\n",
      "Fandom_attack_on_titan 1.2438621190338526\n",
      "Fandom_ms_paint_adventures 1.345532082096415\n",
      "Fandom_marvel 2.3258842888562437\n",
      "Fandom_sailor_moon 1.018880755885226\n",
      "Fandom_one_direction 1.177071818788105\n",
      "Fandom_sherlock 1.8395948774149948\n"
     ]
    }
   ],
   "source": [
    "for idx, name in enumerate(df_all.columns.values):\n",
    "    print(name, variance_inflation_factor(df_all.values, idx))"
   ]
  },
  {
   "cell_type": "markdown",
   "metadata": {},
   "source": [
    "### Plot coefficients"
   ]
  },
  {
   "cell_type": "code",
   "execution_count": 48,
   "metadata": {},
   "outputs": [
    {
     "name": "stderr",
     "output_type": "stream",
     "text": [
      "/anaconda3/lib/python3.6/site-packages/statsmodels/discrete/discrete_model.py:1264: RuntimeWarning: divide by zero encountered in log\n",
      "  return np.sum(np.log(self.cdf(q*np.dot(X,params))))\n",
      "/anaconda3/lib/python3.6/site-packages/statsmodels/discrete/discrete_model.py:1264: RuntimeWarning: divide by zero encountered in log\n",
      "  return np.sum(np.log(self.cdf(q*np.dot(X,params))))\n"
     ]
    },
    {
     "name": "stdout",
     "output_type": "stream",
     "text": [
      "Warning: Maximum number of iterations has been exceeded.\n",
      "         Current function value: 0.077819\n",
      "         Iterations: 35\n",
      "         Function evaluations: 76\n",
      "         Gradient evaluations: 72\n"
     ]
    },
    {
     "name": "stderr",
     "output_type": "stream",
     "text": [
      "/anaconda3/lib/python3.6/site-packages/statsmodels/base/model.py:496: ConvergenceWarning: Maximum Likelihood optimization failed to converge. Check mle_retvals\n",
      "  \"Check mle_retvals\", ConvergenceWarning)\n"
     ]
    }
   ],
   "source": [
    "kudos_model = run_ols(df_all, 'Kudos')\n",
    "kudos_coef = np.asarray(list(kudos_model.params)[1:-1])\n",
    "kudos_err = list(kudos_model.bse)[1:-1]"
   ]
  },
  {
   "cell_type": "code",
   "execution_count": 57,
   "metadata": {},
   "outputs": [],
   "source": [
    "ylabels =['Term novelty', 'Topic novelty', 'Chapters', \\\n",
    " 'Frequent relationship',' Author work count',\\\n",
    " 'Category (Gen)','Category (F/M)',' Category (M/M) ',' Category (Multi)','Category (Other)','Category (Unknown)\\\n",
    " ','ArchiveWarnings (underage)','ArchiveWarnings (death)',' ArchiveWarnings (violence)','ArchiveWarnings (choose not to use)','\\\n",
    " ArchiveWarnings (non-consensual sex)','Rating (Not rated)', 'Rating (Explicit)','Rating (Mature)',' Rating (Teens)\\\n",
    " ',' Fandom (DCU) ',' Fandom (Doctor Who) ',' Fandom (Star Wars) ',' Fandom (Arthurian Mythologies)',\\\n",
    "  'Fandom (Supernatural)','Fandom (Haikyuu)',' Fandom (Kuroko no Basuke)',' Fandom (Hamilton/Miranda)\\\n",
    " ',' Fandom (Dragon Age)',' Fandom (The Walking Dead)',' Fandom (Buffy the Vampire Slayer)','Fandom (Les Miserables)\\\n",
    " ',' Fandom (Naruto)','Fandom (Tolkien)',' Fandom (Shakespare)','Fandom (Axis Powers Hetalia)',' \\\n",
    " Fandom (Attack on Titan)',' Fandom (Ms Paint Adventures)','\\\n",
    "Fandom (Marvel)',' Fandom (Sailor Moon)',' Fandom (One Direction)','Fandom (Sherlock)'][::-1]"
   ]
  },
  {
   "cell_type": "code",
   "execution_count": 58,
   "metadata": {},
   "outputs": [
    {
     "name": "stderr",
     "output_type": "stream",
     "text": [
      "/anaconda3/lib/python3.6/site-packages/statsmodels/discrete/discrete_model.py:1264: RuntimeWarning: divide by zero encountered in log\n",
      "  return np.sum(np.log(self.cdf(q*np.dot(X,params))))\n",
      "/anaconda3/lib/python3.6/site-packages/statsmodels/discrete/discrete_model.py:1264: RuntimeWarning: divide by zero encountered in log\n",
      "  return np.sum(np.log(self.cdf(q*np.dot(X,params))))\n"
     ]
    },
    {
     "name": "stdout",
     "output_type": "stream",
     "text": [
      "Warning: Maximum number of iterations has been exceeded.\n",
      "         Current function value: 0.091673\n",
      "         Iterations: 35\n",
      "         Function evaluations: 55\n",
      "         Gradient evaluations: 51\n"
     ]
    },
    {
     "name": "stderr",
     "output_type": "stream",
     "text": [
      "/anaconda3/lib/python3.6/site-packages/statsmodels/base/model.py:473: HessianInversionWarning: Inverting hessian failed, no bse or cov_params available\n",
      "  'available', HessianInversionWarning)\n",
      "/anaconda3/lib/python3.6/site-packages/statsmodels/base/model.py:496: ConvergenceWarning: Maximum Likelihood optimization failed to converge. Check mle_retvals\n",
      "  \"Check mle_retvals\", ConvergenceWarning)\n"
     ]
    }
   ],
   "source": [
    "hits_model = run_ols(df_all, 'Hits')\n",
    "hits_coef = list(hits_model.params)[1:-1]\n",
    "hits_err = list(hits_model.bse)[1:-1]"
   ]
  },
  {
   "cell_type": "code",
   "execution_count": 51,
   "metadata": {},
   "outputs": [
    {
     "name": "stderr",
     "output_type": "stream",
     "text": [
      "/anaconda3/lib/python3.6/site-packages/statsmodels/discrete/discrete_model.py:1264: RuntimeWarning: divide by zero encountered in log\n",
      "  return np.sum(np.log(self.cdf(q*np.dot(X,params))))\n",
      "/anaconda3/lib/python3.6/site-packages/statsmodels/discrete/discrete_model.py:1264: RuntimeWarning: divide by zero encountered in log\n",
      "  return np.sum(np.log(self.cdf(q*np.dot(X,params))))\n"
     ]
    },
    {
     "name": "stdout",
     "output_type": "stream",
     "text": [
      "Warning: Desired error not necessarily achieved due to precision loss.\n",
      "         Current function value: 0.693147\n",
      "         Iterations: 0\n",
      "         Function evaluations: 16\n",
      "         Gradient evaluations: 4\n"
     ]
    },
    {
     "name": "stderr",
     "output_type": "stream",
     "text": [
      "/anaconda3/lib/python3.6/site-packages/statsmodels/base/model.py:496: ConvergenceWarning: Maximum Likelihood optimization failed to converge. Check mle_retvals\n",
      "  \"Check mle_retvals\", ConvergenceWarning)\n"
     ]
    }
   ],
   "source": [
    "comments_model = run_ols(df_all, 'Comments')\n",
    "comments_coef = list(comments_model.params)[1:-1]\n",
    "comments_err = list(comments_model.bse)[1:-1]"
   ]
  },
  {
   "cell_type": "code",
   "execution_count": 52,
   "metadata": {},
   "outputs": [
    {
     "name": "stderr",
     "output_type": "stream",
     "text": [
      "/anaconda3/lib/python3.6/site-packages/statsmodels/discrete/discrete_model.py:1264: RuntimeWarning: divide by zero encountered in log\n",
      "  return np.sum(np.log(self.cdf(q*np.dot(X,params))))\n",
      "/anaconda3/lib/python3.6/site-packages/statsmodels/discrete/discrete_model.py:1264: RuntimeWarning: divide by zero encountered in log\n",
      "  return np.sum(np.log(self.cdf(q*np.dot(X,params))))\n"
     ]
    },
    {
     "name": "stdout",
     "output_type": "stream",
     "text": [
      "Warning: Maximum number of iterations has been exceeded.\n",
      "         Current function value: 0.423494\n",
      "         Iterations: 35\n",
      "         Function evaluations: 48\n",
      "         Gradient evaluations: 40\n"
     ]
    },
    {
     "name": "stderr",
     "output_type": "stream",
     "text": [
      "/anaconda3/lib/python3.6/site-packages/statsmodels/base/model.py:473: HessianInversionWarning: Inverting hessian failed, no bse or cov_params available\n",
      "  'available', HessianInversionWarning)\n",
      "/anaconda3/lib/python3.6/site-packages/statsmodels/base/model.py:496: ConvergenceWarning: Maximum Likelihood optimization failed to converge. Check mle_retvals\n",
      "  \"Check mle_retvals\", ConvergenceWarning)\n"
     ]
    }
   ],
   "source": [
    "bookmarks_model = run_ols(df_all, 'Bookmarks')\n",
    "bookmarks_coef = list(bookmarks_model.params)[1:-1]\n",
    "bookmarks_err = list(bookmarks_model.bse)[1:-1]"
   ]
  },
  {
   "cell_type": "code",
   "execution_count": 59,
   "metadata": {},
   "outputs": [],
   "source": [
    "# fig, ax = plt.subplots(1,4,figsize = (15,15))\n",
    "# ax[0].errorbar(kudos_coef[::-1], range(len(kudos_coef)), xerr=kudos_err[::-1] , fmt='o')\n",
    "\n",
    "# ax[0].set_yticks(range(len(kudos_coef)))\n",
    "# ax[0].set_yticklabels(ylabels)\n",
    "# ax[0].plot([0 for i in range(len(kudos_coef)+2)], range(-1,len(kudos_coef)+1), c='grey', alpha = 0.7)\n",
    "# ax[0].plot(range(-8,3), [22.5 for i in range(-8,3)] ,c='grey', alpha = 0.7)\n",
    "# ax[0].plot(range(-8,3), [26.5 for i in range(-8,3)] ,c='grey', alpha = 0.7)\n",
    "# ax[0].plot(range(-8,3), [32.5 for i in range(-8,3)] ,c='grey', alpha = 0.7)\n",
    "# ax[0].plot(range(-8,3), [38.5 for i in range(-8,3)] ,c='grey', alpha = 0.7)\n",
    "# ax[0].plot(range(-8,3), [42.5 for i in range(-8,3)] ,c='grey', alpha = 0.7)\n",
    "# ax[0].set_ylim(-0.5,44.5)\n",
    "# ax[0].set_xlim(-4,1.5)\n",
    "# ax[0].set_xlabel('Kudos', fontsize=15)\n",
    "# ax[0].set_title('R-squared = 0.230')\n",
    "# for tick in ax[0].yaxis.get_major_ticks():\n",
    "#     tick.label.set_fontsize(13)\n",
    "\n",
    "# ax[1].errorbar(hits_coef[::-1], range(len(hits_err)), xerr=hits_err[::-1], fmt='o')\n",
    "# ax[1].set_yticks(range(len(hits_coef)))\n",
    "# # ax[1].set_yticklabels(ylabels)\n",
    "# ax[1].plot([0 for i in range(len(hits_coef)+2)], range(-1,len(hits_coef)+1), c='grey', alpha = 0.7)\n",
    "# ax[1].plot(range(-8,3), [22.5 for i in range(-8,3)] ,c='grey', alpha = 0.7)\n",
    "# ax[1].plot(range(-8,3), [26.5 for i in range(-8,3)] ,c='grey', alpha = 0.7)\n",
    "# ax[1].plot(range(-8,3), [32.5 for i in range(-8,3)] ,c='grey', alpha = 0.7)\n",
    "# ax[1].plot(range(-8,3), [38.5 for i in range(-8,3)] ,c='grey', alpha = 0.7)\n",
    "# ax[1].plot(range(-8,3), [42.5 for i in range(-8,3)] ,c='grey', alpha = 0.7)\n",
    "# ax[1].set_ylim(-0.5,44.5)\n",
    "# ax[1].set_xlim(-5,2)\n",
    "# ax[1].set_yticklabels([])\n",
    "# ax[1].set_title('R-squared = 0.117')\n",
    "# ax[1].set_xlabel('Hits', fontsize=15)\n",
    "\n",
    "# ax[2].errorbar(comments_coef[::-1], range(len(comments_err)), xerr=comments_err[::-1], fmt='o')\n",
    "# ax[2].set_yticks(range(len(comments_coef)))\n",
    "# ax[2].plot([0 for i in range(len(comments_coef)+2)], range(-1,len(comments_coef)+1), c='grey', alpha = 0.7)\n",
    "# ax[2].plot(range(-8,5), [22.5 for i in range(-8,5)] ,c='grey', alpha = 0.7)\n",
    "# ax[2].plot(range(-8,5), [26.5 for i in range(-8,5)] ,c='grey', alpha = 0.7)\n",
    "# ax[2].plot(range(-8,5), [32.5 for i in range(-8,5)] ,c='grey', alpha = 0.7)\n",
    "# ax[2].plot(range(-8,5), [38.5 for i in range(-8,5)] ,c='grey', alpha = 0.7)\n",
    "# ax[2].plot(range(-8,5), [42.5 for i in range(-8,5)] ,c='grey', alpha = 0.7)\n",
    "# ax[2].set_ylim(-0.5,44.5)\n",
    "# ax[2].set_xlim(-5,4)\n",
    "# ax[2].set_yticklabels([])\n",
    "# ax[2].set_title('R-squared = 0.113')\n",
    "# ax[2].set_xlabel('Comments', fontsize=15)\n",
    "\n",
    "\n",
    "# ax[3].errorbar(bookmarks_coef[::-1], range(len(bookmarks_err)), xerr=bookmarks_err[::-1], fmt='o')\n",
    "# ax[3].set_yticks(range(len(bookmarks_coef)))\n",
    "# ax[3].plot([0 for i in range(len(bookmarks_coef)+2)], range(-1,len(bookmarks_coef)+1), c='grey', alpha = 0.7)\n",
    "# ax[3].plot(range(-8,4), [22.5 for i in range(-8,4)] ,c='grey', alpha = 0.7)\n",
    "# ax[3].plot(range(-8,4), [26.5 for i in range(-8,4)] ,c='grey', alpha = 0.7)\n",
    "# ax[3].plot(range(-8,4), [32.5 for i in range(-8,4)] ,c='grey', alpha = 0.7)\n",
    "# ax[3].plot(range(-8,4), [38.5 for i in range(-8,4)] ,c='grey', alpha = 0.7)\n",
    "# ax[3].plot(range(-8,4), [42.5 for i in range(-8,4)] ,c='grey', alpha = 0.7)\n",
    "# ax[3].set_ylim(-0.5,44.5)\n",
    "# ax[3].set_xlim(-8,3)\n",
    "# ax[3].set_yticklabels([])\n",
    "# ax[3].set_title('R-squared = 0.238')\n",
    "# ax[3].set_xlabel('Bookmarks', fontsize=15)\n",
    "\n",
    "# plt.tight_layout()\n",
    "# plt.savefig('ols_coefs_full.pdf', format='pdf')"
   ]
  },
  {
   "cell_type": "code",
   "execution_count": 67,
   "metadata": {},
   "outputs": [
    {
     "data": {
      "image/png": "[encoded data removed]",
      "text/plain": [
       "<matplotlib.figure.Figure at 0x1c22df5780>"
      ]
     },
     "metadata": {},
     "output_type": "display_data"
    }
   ],
   "source": [
    "fig, ax = plt.subplots(1,4,figsize = (15,4))\n",
    "ax[0].errorbar(kudos_coef[::-1], range(len(kudos_coef)), xerr=kudos_err[::-1] , fmt='o')\n",
    "# ax[0].errorbar(kudos_coef[::-1][43], 43, xerr=kudos_err[::-1][43], marker=\"x\",c='blue')\n",
    "# ax[0].errorbar(kudos_coef[::-1][43:46], range(len(kudos_coef[43:46])), xerr=kudos_err[::-1][43:46] , marker='o')\n",
    "ax[0].set_yticks(range(len(kudos_coef)))\n",
    "ax[0].set_yticklabels(ylabels)\n",
    "ax[0].plot([0 for i in range(len(kudos_coef)+2)], range(-1,len(kudos_coef)+1), c='grey', alpha = 0.7)\n",
    "ax[0].plot(range(-8,3), [21.5 for i in range(-8,3)] ,c='grey', alpha = 0.7)\n",
    "ax[0].plot(range(-8,3), [25.5 for i in range(-8,3)] ,c='grey', alpha = 0.7)\n",
    "ax[0].plot(range(-8,3), [30.5 for i in range(-8,3)] ,c='grey', alpha = 0.7)\n",
    "ax[0].plot(range(-8,3), [36.5 for i in range(-8,3)] ,c='grey', alpha = 0.7)\n",
    "ax[0].plot(range(-8,3), [39.5 for i in range(-8,3)] ,c='grey', alpha = 0.7)\n",
    "ax[0].set_ylim(36.5,41.5)\n",
    "ax[0].set_xlim(-3,2)\n",
    "ax[0].set_xlabel('Kudos', fontsize=15)\n",
    "ax[0].set_title('R-squared = 0.230', fontsize=15)\n",
    "for tick in ax[0].yaxis.get_major_ticks():\n",
    "    tick.label.set_fontsize(15)\n",
    "for tick in ax[0].xaxis.get_major_ticks():\n",
    "    tick.label.set_fontsize(13)    \n",
    "\n",
    "ax[1].errorbar(hits_coef[::-1], range(len(hits_err)), xerr=hits_err[::-1], fmt='o')\n",
    "ax[1].set_yticks(range(len(hits_coef)))\n",
    "# ax[1].set_yticklabels(ylabels)\n",
    "ax[1].plot([0 for i in range(len(hits_coef)+2)], range(-1,len(hits_coef)+1), c='grey', alpha = 0.7)\n",
    "ax[1].plot(range(-8,5), [21.5 for i in range(-8,5)] ,c='grey', alpha = 0.7)\n",
    "ax[1].plot(range(-8,5), [25.5 for i in range(-8,5)] ,c='grey', alpha = 0.7)\n",
    "ax[1].plot(range(-8,5), [30.5 for i in range(-8,5)] ,c='grey', alpha = 0.7)\n",
    "ax[1].plot(range(-8,5), [36.5 for i in range(-8,5)] ,c='grey', alpha = 0.7)\n",
    "ax[1].plot(range(-8,5), [39.5 for i in range(-8,5)] ,c='grey', alpha = 0.7)\n",
    "ax[1].set_ylim(36.5,41.5)\n",
    "ax[1].set_xlim(-3,1)\n",
    "ax[1].set_yticklabels([])\n",
    "ax[1].set_title('R-squared = 0.112', fontsize=15)\n",
    "ax[1].set_xlabel('Hits', fontsize=15)\n",
    "for tick in ax[1].xaxis.get_major_ticks():\n",
    "    tick.label.set_fontsize(13)\n",
    "    \n",
    "ax[2].errorbar(comments_coef[::-1], range(len(comments_err)), xerr=comments_err[::-1], fmt='o')\n",
    "ax[2].set_yticks(range(len(comments_coef)))\n",
    "ax[2].plot([0 for i in range(len(comments_coef)+2)], range(-1,len(comments_coef)+1), c='grey', alpha = 0.7)\n",
    "ax[2].plot(range(-8,5), [21.5 for i in range(-8,5)] ,c='grey', alpha = 0.7)\n",
    "ax[2].plot(range(-8,5), [25.5 for i in range(-8,5)] ,c='grey', alpha = 0.7)\n",
    "ax[2].plot(range(-8,5), [30.5 for i in range(-8,5)] ,c='grey', alpha = 0.7)\n",
    "ax[2].plot(range(-8,5), [36.5 for i in range(-8,5)] ,c='grey', alpha = 0.7)\n",
    "ax[2].plot(range(-8,5), [39.5 for i in range(-8,5)] ,c='grey', alpha = 0.7)\n",
    "ax[2].set_ylim(36.5,41.5)\n",
    "ax[2].set_xlim(-2,1)\n",
    "ax[2].set_yticklabels([])\n",
    "ax[2].set_title('R-squared = 0.113', fontsize=15)\n",
    "ax[2].set_xlabel('Comments', fontsize=15)\n",
    "ax[2].set_xticks([-2,-1,0,1])\n",
    "for tick in ax[2].xaxis.get_major_ticks():\n",
    "    tick.label.set_fontsize(13)\n",
    "\n",
    "ax[3].errorbar(bookmarks_coef[::-1], range(len(bookmarks_err)), xerr=bookmarks_err[::-1], fmt='o')\n",
    "ax[3].set_yticks(range(len(bookmarks_coef)))\n",
    "ax[3].plot([0 for i in range(len(bookmarks_coef)+2)], range(-1,len(bookmarks_coef)+1), c='grey', alpha = 0.7)\n",
    "ax[3].plot(range(-8,5), [21.5 for i in range(-8,5)] ,c='grey', alpha = 0.7)\n",
    "ax[3].plot(range(-8,5), [25.5 for i in range(-8,5)] ,c='grey', alpha = 0.7)\n",
    "ax[3].plot(range(-8,5), [30.5 for i in range(-8,5)] ,c='grey', alpha = 0.7)\n",
    "ax[3].plot(range(-8,5), [36.5 for i in range(-8,5)] ,c='grey', alpha = 0.7)\n",
    "ax[3].plot(range(-8,5), [39.5 for i in range(-8,5)] ,c='grey', alpha = 0.7)\n",
    "ax[3].set_ylim(36.5,41.5)\n",
    "ax[3].set_xlim(-6,2)\n",
    "ax[3].set_yticklabels([])\n",
    "ax[3].set_title('R-squared = 0.156', fontsize=15)\n",
    "ax[3].set_xlabel('Bookmarks', fontsize=15)\n",
    "for tick in ax[3].xaxis.get_major_ticks():\n",
    "    tick.label.set_fontsize(13)\n",
    "    \n",
    "plt.tight_layout()\n",
    "plt.savefig('ols_coefs_partial_ageless_nosq.pdf', format='pdf')"
   ]
  },
  {
   "cell_type": "code",
   "execution_count": 61,
   "metadata": {},
   "outputs": [
    {
     "name": "stdout",
     "output_type": "stream",
     "text": [
      "                            OLS Regression Results                            \n",
      "==============================================================================\n",
      "Dep. Variable:                  Kudos   R-squared:                       0.230\n",
      "Model:                            OLS   Adj. R-squared:                  0.230\n",
      "Method:                 Least Squares   F-statistic:                     4710.\n",
      "Date:                Fri, 14 Sep 2018   Prob (F-statistic):               0.00\n",
      "Time:                        18:18:49   Log-Likelihood:            -1.3155e+06\n",
      "No. Observations:              662728   AIC:                         2.631e+06\n",
      "Df Residuals:                  662685   BIC:                         2.632e+06\n",
      "Df Model:                          42                                         \n",
      "Covariance Type:            nonrobust                                         \n",
      "==============================================================================================\n",
      "                                 coef    std err          t      P>|t|      [0.025      0.975]\n",
      "----------------------------------------------------------------------------------------------\n",
      "Intercept                     -0.1226      0.165     -0.743      0.457      -0.446       0.201\n",
      "Term_novelty                  -0.7039      0.008    -90.864      0.000      -0.719      -0.689\n",
      "Topic_novelty                 -2.4303      0.045    -54.114      0.000      -2.518      -2.342\n",
      "Chapters                      -0.0099   6.39e-05   -154.890      0.000      -0.010      -0.010\n",
      "Freq_relationship              0.4618      0.006     80.864      0.000       0.451       0.473\n",
      "author_fic_cnt             -5.921e-06   2.27e-06     -2.607      0.009   -1.04e-05   -1.47e-06\n",
      "Category_Gen                  -0.2756      0.006    -44.325      0.000      -0.288      -0.263\n",
      "Category_F_M                  -0.4247      0.006    -76.827      0.000      -0.436      -0.414\n",
      "Category_M_M                   0.3091      0.007     45.864      0.000       0.296       0.322\n",
      "Category_Multi                -0.3094      0.008    -38.884      0.000      -0.325      -0.294\n",
      "Category_Other                -0.4574      0.012    -36.661      0.000      -0.482      -0.433\n",
      "Category_Unknown              -0.7801      0.014    -56.266      0.000      -0.807      -0.753\n",
      "ArchiveWarnings_underage       0.0544      0.013      4.234      0.000       0.029       0.080\n",
      "ArchiveWarnings_death         -0.5236      0.009    -59.202      0.000      -0.541      -0.506\n",
      "ArchiveWarnings_violence      -0.6268      0.008    -81.045      0.000      -0.642      -0.612\n",
      "ArchiveWarnings_choose_no     -0.3139      0.005    -65.947      0.000      -0.323      -0.305\n",
      "ArchiveWarnings_noncon         0.0239      0.012      2.041      0.041       0.001       0.047\n",
      "Rating_N                      -0.3225      0.009    -37.888      0.000      -0.339      -0.306\n",
      "Rating_E                      -0.0164      0.008     -2.061      0.039      -0.032      -0.001\n",
      "Rating_M                      -0.4047      0.007    -54.053      0.000      -0.419      -0.390\n",
      "Rating_T                      -0.3954      0.006    -63.352      0.000      -0.408      -0.383\n",
      "Fandom_dcu                    -0.3874      0.006    -68.290      0.000      -0.399      -0.376\n",
      "Fandom_doctor_who             -0.3874      0.006    -68.290      0.000      -0.399      -0.376\n",
      "Fandom_star_wars               0.3047      0.015     20.461      0.000       0.276       0.334\n",
      "Fandom_arthurian              -0.0659      0.015     -4.263      0.000      -0.096      -0.036\n",
      "Fandom_supernatural           -0.2724      0.008    -32.285      0.000      -0.289      -0.256\n",
      "Fandom_haikyuu                 0.5835      0.017     34.001      0.000       0.550       0.617\n",
      "Fandom_kuroko_no_basuke        0.4093      0.020     20.010      0.000       0.369       0.449\n",
      "Fandom_hamilton_miranda        0.3595      0.039      9.233      0.000       0.283       0.436\n",
      "Fandom_dragon_age             -0.1242      0.011    -11.171      0.000      -0.146      -0.102\n",
      "Fandom_the_walking_dead        0.0405      0.018      2.227      0.026       0.005       0.076\n",
      "Fandom_buffy                  -1.0432      0.017    -62.121      0.000      -1.076      -1.010\n",
      "Fandom_les_miserables          0.0178      0.020      0.871      0.384      -0.022       0.058\n",
      "Fandom_naruto                 -0.4389      0.020    -22.288      0.000      -0.477      -0.400\n",
      "Fandom_tolkien                -0.1589      0.012    -12.983      0.000      -0.183      -0.135\n",
      "Fandom_shakespare             -0.8012      0.069    -11.623      0.000      -0.936      -0.666\n",
      "Fandom_hetalia                -0.5452      0.016    -34.171      0.000      -0.576      -0.514\n",
      "Fandom_attack_on_titan         0.1431      0.014     10.514      0.000       0.116       0.170\n",
      "Fandom_ms_paint_adventures     0.2866      0.012     24.648      0.000       0.264       0.309\n",
      "Fandom_marvel                  0.6503      0.008     81.686      0.000       0.635       0.666\n",
      "Fandom_sailor_moon            -1.9570      0.045    -43.685      0.000      -2.045      -1.869\n",
      "Fandom_one_direction          -0.6771      0.016    -41.408      0.000      -0.709      -0.645\n",
      "Fandom_sherlock               -0.0103      0.009     -1.152      0.249      -0.028       0.007\n",
      "nonzero_prob                   4.5303      0.171     26.510      0.000       4.195       4.865\n",
      "==============================================================================\n",
      "Omnibus:                   232719.713   Durbin-Watson:                   1.281\n",
      "Prob(Omnibus):                  0.000   Jarque-Bera (JB):          1296727.335\n",
      "Skew:                          -1.595   Prob(JB):                         0.00\n",
      "Kurtosis:                       9.065   Cond. No.                     1.02e+16\n",
      "==============================================================================\n",
      "\n",
      "Warnings:\n",
      "[1] Standard Errors assume that the covariance matrix of the errors is correctly specified.\n",
      "[2] The smallest eigenvalue is 6.01e-21. This might indicate that there are\n",
      "strong multicollinearity problems or that the design matrix is singular.\n"
     ]
    }
   ],
   "source": [
    "print(kudos_model.summary())"
   ]
  },
  {
   "cell_type": "code",
   "execution_count": 62,
   "metadata": {},
   "outputs": [
    {
     "name": "stdout",
     "output_type": "stream",
     "text": [
      "                            OLS Regression Results                            \n",
      "==============================================================================\n",
      "Dep. Variable:                   Hits   R-squared:                       0.112\n",
      "Model:                            OLS   Adj. R-squared:                  0.112\n",
      "Method:                 Least Squares   F-statistic:                     2000.\n",
      "Date:                Fri, 14 Sep 2018   Prob (F-statistic):               0.00\n",
      "Time:                        18:18:49   Log-Likelihood:            -1.4296e+06\n",
      "No. Observations:              662728   AIC:                         2.859e+06\n",
      "Df Residuals:                  662685   BIC:                         2.860e+06\n",
      "Df Model:                          42                                         \n",
      "Covariance Type:            nonrobust                                         \n",
      "==============================================================================================\n",
      "                                 coef    std err          t      P>|t|      [0.025      0.975]\n",
      "----------------------------------------------------------------------------------------------\n",
      "Intercept                     23.2172      1.458     15.921      0.000      20.359      26.075\n",
      "Term_novelty                  -0.4434      0.010    -44.855      0.000      -0.463      -0.424\n",
      "Topic_novelty                 -0.9905      0.066    -15.067      0.000      -1.119      -0.862\n",
      "Chapters                      -0.0080   7.52e-05   -105.841      0.000      -0.008      -0.008\n",
      "Freq_relationship              0.4981      0.007     66.925      0.000       0.483       0.513\n",
      "author_fic_cnt              8.103e-05   4.23e-06     19.140      0.000    7.27e-05    8.93e-05\n",
      "Category_Gen                  -0.3155      0.008    -38.937      0.000      -0.331      -0.300\n",
      "Category_F_M                  -0.1941      0.008    -23.526      0.000      -0.210      -0.178\n",
      "Category_M_M                   0.3663      0.009     40.212      0.000       0.348       0.384\n",
      "Category_Multi                -0.0342      0.012     -2.793      0.005      -0.058      -0.010\n",
      "Category_Other                -0.3331      0.015    -22.371      0.000      -0.362      -0.304\n",
      "Category_Unknown              -0.4902      0.018    -26.860      0.000      -0.526      -0.454\n",
      "ArchiveWarnings_underage       0.1046      0.015      6.846      0.000       0.075       0.134\n",
      "ArchiveWarnings_death         -0.3221      0.011    -28.566      0.000      -0.344      -0.300\n",
      "ArchiveWarnings_violence      -0.3114      0.015    -20.975      0.000      -0.340      -0.282\n",
      "ArchiveWarnings_choose_no     -0.0605      0.008     -7.452      0.000      -0.076      -0.045\n",
      "ArchiveWarnings_noncon         0.3076      0.015     21.182      0.000       0.279       0.336\n",
      "Rating_N                      -0.3842      0.010    -37.954      0.000      -0.404      -0.364\n",
      "Rating_E                      -0.0531      0.017     -3.105      0.002      -0.087      -0.020\n",
      "Rating_M                      -0.3270      0.009    -37.086      0.000      -0.344      -0.310\n",
      "Rating_T                      -0.3237      0.008    -40.250      0.000      -0.339      -0.308\n",
      "Fandom_dcu                    -0.3189      0.007    -45.260      0.000      -0.333      -0.305\n",
      "Fandom_doctor_who             -0.3189      0.007    -45.260      0.000      -0.333      -0.305\n",
      "Fandom_star_wars               0.1045      0.019      5.582      0.000       0.068       0.141\n",
      "Fandom_arthurian               0.1541      0.019      8.193      0.000       0.117       0.191\n",
      "Fandom_supernatural           -0.2691      0.012    -22.320      0.000      -0.293      -0.245\n",
      "Fandom_haikyuu                -0.0338      0.021     -1.633      0.102      -0.074       0.007\n",
      "Fandom_kuroko_no_basuke       -0.1670      0.024     -6.869      0.000      -0.215      -0.119\n",
      "Fandom_hamilton_miranda       -0.2359      0.046     -5.101      0.000      -0.327      -0.145\n",
      "Fandom_dragon_age             -0.5763      0.013    -43.492      0.000      -0.602      -0.550\n",
      "Fandom_the_walking_dead       -0.3340      0.022    -15.397      0.000      -0.377      -0.291\n",
      "Fandom_buffy                  -0.6994      0.020    -35.081      0.000      -0.738      -0.660\n",
      "Fandom_les_miserables         -0.0478      0.024     -1.955      0.051      -0.096       0.000\n",
      "Fandom_naruto                 -0.5703      0.023    -24.368      0.000      -0.616      -0.524\n",
      "Fandom_tolkien                -0.1343      0.014     -9.316      0.000      -0.163      -0.106\n",
      "Fandom_shakespare             -0.8599      0.082    -10.502      0.000      -1.020      -0.699\n",
      "Fandom_hetalia                -0.7836      0.019    -41.217      0.000      -0.821      -0.746\n",
      "Fandom_attack_on_titan        -0.0450      0.018     -2.512      0.012      -0.080      -0.010\n",
      "Fandom_ms_paint_adventures     0.0816      0.016      5.150      0.000       0.051       0.113\n",
      "Fandom_marvel                  0.4631      0.009     51.131      0.000       0.445       0.481\n",
      "Fandom_sailor_moon            -1.5884      0.053    -29.842      0.000      -1.693      -1.484\n",
      "Fandom_one_direction          -0.2833      0.020    -14.303      0.000      -0.322      -0.244\n",
      "Fandom_sherlock                0.2637      0.017     15.803      0.000       0.231       0.296\n",
      "nonzero_prob                 -17.4544      1.525    -11.445      0.000     -20.444     -14.465\n",
      "==============================================================================\n",
      "Omnibus:                   486777.849   Durbin-Watson:                   1.349\n",
      "Prob(Omnibus):                  0.000   Jarque-Bera (JB):          9781052.043\n",
      "Skew:                          -3.393   Prob(JB):                         0.00\n",
      "Kurtosis:                      20.554   Cond. No.                     1.02e+16\n",
      "==============================================================================\n",
      "\n",
      "Warnings:\n",
      "[1] Standard Errors assume that the covariance matrix of the errors is correctly specified.\n",
      "[2] The smallest eigenvalue is 6.01e-21. This might indicate that there are\n",
      "strong multicollinearity problems or that the design matrix is singular.\n"
     ]
    }
   ],
   "source": [
    "print(hits_model.summary())"
   ]
  },
  {
   "cell_type": "code",
   "execution_count": 63,
   "metadata": {},
   "outputs": [
    {
     "name": "stdout",
     "output_type": "stream",
     "text": [
      "                            OLS Regression Results                            \n",
      "==============================================================================\n",
      "Dep. Variable:               Comments   R-squared:                       0.113\n",
      "Model:                            OLS   Adj. R-squared:                  0.113\n",
      "Method:                 Least Squares   F-statistic:                     2067.\n",
      "Date:                Fri, 14 Sep 2018   Prob (F-statistic):               0.00\n",
      "Time:                        18:18:49   Log-Likelihood:            -8.8059e+05\n",
      "No. Observations:              662728   AIC:                         1.761e+06\n",
      "Df Residuals:                  662686   BIC:                         1.762e+06\n",
      "Df Model:                          41                                         \n",
      "Covariance Type:            nonrobust                                         \n",
      "==============================================================================================\n",
      "                                 coef    std err          t      P>|t|      [0.025      0.975]\n",
      "----------------------------------------------------------------------------------------------\n",
      "Intercept                      1.1733      0.012     99.681      0.000       1.150       1.196\n",
      "Term_novelty                  -0.2526      0.004    -62.872      0.000      -0.260      -0.245\n",
      "Topic_novelty                 -0.9918      0.023    -42.662      0.000      -1.037      -0.946\n",
      "Chapters                       0.0005   3.27e-05     15.760      0.000       0.000       0.001\n",
      "Freq_relationship              0.2069      0.003     76.564      0.000       0.202       0.212\n",
      "author_fic_cnt             -5.407e-06   1.18e-06     -4.591      0.000   -7.71e-06    -3.1e-06\n",
      "Category_Gen                  -0.0145      0.003     -4.516      0.000      -0.021      -0.008\n",
      "Category_F_M                  -0.1040      0.003    -37.857      0.000      -0.109      -0.099\n",
      "Category_M_M                   0.1379      0.003     46.258      0.000       0.132       0.144\n",
      "Category_Multi                -0.0648      0.004    -15.694      0.000      -0.073      -0.057\n",
      "Category_Other                -0.1220      0.006    -18.853      0.000      -0.135      -0.109\n",
      "Category_Unknown              -0.1732      0.006    -30.050      0.000      -0.185      -0.162\n",
      "ArchiveWarnings_underage      -0.0328      0.007     -4.919      0.000      -0.046      -0.020\n",
      "ArchiveWarnings_death         -0.1594      0.005    -34.760      0.000      -0.168      -0.150\n",
      "ArchiveWarnings_violence      -0.1459      0.004    -36.357      0.000      -0.154      -0.138\n",
      "ArchiveWarnings_choose_no     -0.1175      0.002    -48.102      0.000      -0.122      -0.113\n",
      "ArchiveWarnings_noncon         0.0211      0.006      3.460      0.001       0.009       0.033\n",
      "Rating_N                      -0.0807      0.004    -18.271      0.000      -0.089      -0.072\n",
      "Rating_E                       0.1256      0.004     30.405      0.000       0.118       0.134\n",
      "Rating_M                      -0.0049      0.004     -1.291      0.197      -0.012       0.003\n",
      "Rating_T                      -0.0651      0.003    -20.358      0.000      -0.071      -0.059\n",
      "Fandom_dcu                    -0.0974      0.003    -33.996      0.000      -0.103      -0.092\n",
      "Fandom_doctor_who             -0.0974      0.003    -33.996      0.000      -0.103      -0.092\n",
      "Fandom_star_wars               0.2825      0.008     36.565      0.000       0.267       0.298\n",
      "Fandom_arthurian               0.0126      0.008      1.578      0.115      -0.003       0.028\n",
      "Fandom_supernatural           -0.0774      0.004    -17.700      0.000      -0.086      -0.069\n",
      "Fandom_haikyuu                 0.2719      0.009     30.569      0.000       0.254       0.289\n",
      "Fandom_kuroko_no_basuke        0.0663      0.011      6.254      0.000       0.046       0.087\n",
      "Fandom_hamilton_miranda        0.5569      0.020     27.572      0.000       0.517       0.596\n",
      "Fandom_dragon_age              0.0291      0.006      5.061      0.000       0.018       0.040\n",
      "Fandom_the_walking_dead        0.2500      0.009     26.529      0.000       0.232       0.268\n",
      "Fandom_buffy                  -0.2947      0.009    -33.846      0.000      -0.312      -0.278\n",
      "Fandom_les_miserables          0.0170      0.011      1.602      0.109      -0.004       0.038\n",
      "Fandom_naruto                 -0.1806      0.010    -17.682      0.000      -0.201      -0.161\n",
      "Fandom_tolkien                 0.2961      0.006     47.643      0.000       0.284       0.308\n",
      "Fandom_shakespare             -0.0697      0.036     -1.950      0.051      -0.140       0.000\n",
      "Fandom_hetalia                -0.3178      0.008    -38.394      0.000      -0.334      -0.302\n",
      "Fandom_attack_on_titan         0.1019      0.007     14.432      0.000       0.088       0.116\n",
      "Fandom_ms_paint_adventures     0.0843      0.006     14.007      0.000       0.073       0.096\n",
      "Fandom_marvel                  0.4589      0.004    116.339      0.000       0.451       0.467\n",
      "Fandom_sailor_moon            -0.4319      0.023    -18.582      0.000      -0.477      -0.386\n",
      "Fandom_one_direction          -0.1571      0.008    -18.515      0.000      -0.174      -0.140\n",
      "Fandom_sherlock                0.2004      0.005     43.474      0.000       0.191       0.209\n",
      "nonzero_prob                   0.5866      0.006     99.681      0.000       0.575       0.598\n",
      "==============================================================================\n",
      "Omnibus:                    44762.502   Durbin-Watson:                   1.610\n",
      "Prob(Omnibus):                  0.000   Jarque-Bera (JB):            53173.491\n",
      "Skew:                           0.683   Prob(JB):                         0.00\n",
      "Kurtosis:                       2.758   Cond. No.                     7.64e+16\n",
      "==============================================================================\n",
      "\n",
      "Warnings:\n",
      "[1] Standard Errors assume that the covariance matrix of the errors is correctly specified.\n",
      "[2] The smallest eigenvalue is 1.07e-22. This might indicate that there are\n",
      "strong multicollinearity problems or that the design matrix is singular.\n"
     ]
    }
   ],
   "source": [
    "print(comments_model.summary())"
   ]
  },
  {
   "cell_type": "code",
   "execution_count": 64,
   "metadata": {},
   "outputs": [
    {
     "name": "stdout",
     "output_type": "stream",
     "text": [
      "                            OLS Regression Results                            \n",
      "==============================================================================\n",
      "Dep. Variable:              Bookmarks   R-squared:                       0.156\n",
      "Model:                            OLS   Adj. R-squared:                  0.155\n",
      "Method:                 Least Squares   F-statistic:                     2906.\n",
      "Date:                Fri, 14 Sep 2018   Prob (F-statistic):               0.00\n",
      "Time:                        18:18:49   Log-Likelihood:            -1.6298e+06\n",
      "No. Observations:              662728   AIC:                         3.260e+06\n",
      "Df Residuals:                  662685   BIC:                         3.260e+06\n",
      "Df Model:                          42                                         \n",
      "Covariance Type:            nonrobust                                         \n",
      "==============================================================================================\n",
      "                                 coef    std err          t      P>|t|      [0.025      0.975]\n",
      "----------------------------------------------------------------------------------------------\n",
      "Intercept                      0.0333      0.057      0.584      0.559      -0.079       0.145\n",
      "Term_novelty                  -0.6786      0.014    -50.256      0.000      -0.705      -0.652\n",
      "Topic_novelty                 -4.2593      0.072    -59.132      0.000      -4.400      -4.118\n",
      "Chapters                      -0.0047      0.000    -41.450      0.000      -0.005      -0.005\n",
      "Freq_relationship              0.6778      0.009     71.986      0.000       0.659       0.696\n",
      "author_fic_cnt             -2.005e-05   3.65e-06     -5.497      0.000   -2.72e-05   -1.29e-05\n",
      "Category_Gen                  -0.0854      0.010     -8.599      0.000      -0.105      -0.066\n",
      "Category_F_M                  -0.3306      0.009    -38.776      0.000      -0.347      -0.314\n",
      "Category_M_M                   0.5694      0.010     56.672      0.000       0.550       0.589\n",
      "Category_Multi                -0.1440      0.013    -11.215      0.000      -0.169      -0.119\n",
      "Category_Other                -0.4811      0.020    -23.714      0.000      -0.521      -0.441\n",
      "Category_Unknown              -0.7048      0.018    -38.202      0.000      -0.741      -0.669\n",
      "ArchiveWarnings_underage       0.0742      0.021      3.584      0.000       0.034       0.115\n",
      "ArchiveWarnings_death         -0.5028      0.015    -34.462      0.000      -0.531      -0.474\n",
      "ArchiveWarnings_violence      -0.3391      0.012    -27.280      0.000      -0.363      -0.315\n",
      "ArchiveWarnings_choose_no     -0.2228      0.008    -29.446      0.000      -0.238      -0.208\n",
      "ArchiveWarnings_noncon         0.0869      0.019      4.583      0.000       0.050       0.124\n",
      "Rating_N                      -0.1044      0.014     -7.546      0.000      -0.132      -0.077\n",
      "Rating_E                       0.6415      0.014     46.290      0.000       0.614       0.669\n",
      "Rating_M                       0.1503      0.013     11.696      0.000       0.125       0.175\n",
      "Rating_T                       0.0109      0.010      1.049      0.294      -0.009       0.031\n",
      "Fandom_dcu                    -0.5729      0.009    -62.823      0.000      -0.591      -0.555\n",
      "Fandom_doctor_who             -0.5729      0.009    -62.823      0.000      -0.591      -0.555\n",
      "Fandom_star_wars               0.2133      0.024      8.874      0.000       0.166       0.260\n",
      "Fandom_arthurian              -0.3636      0.025    -14.640      0.000      -0.412      -0.315\n",
      "Fandom_supernatural           -0.6759      0.014    -49.405      0.000      -0.703      -0.649\n",
      "Fandom_haikyuu                 0.4886      0.028     17.634      0.000       0.434       0.543\n",
      "Fandom_kuroko_no_basuke        0.1739      0.033      5.286      0.000       0.109       0.238\n",
      "Fandom_hamilton_miranda        0.1209      0.063      1.933      0.053      -0.002       0.244\n",
      "Fandom_dragon_age             -0.4889      0.018    -27.443      0.000      -0.524      -0.454\n",
      "Fandom_the_walking_dead       -0.3151      0.029    -10.776      0.000      -0.372      -0.258\n",
      "Fandom_buffy                  -1.3931      0.028    -49.954      0.000      -1.448      -1.338\n",
      "Fandom_les_miserables         -0.5798      0.033    -17.613      0.000      -0.644      -0.515\n",
      "Fandom_naruto                 -0.5870      0.032    -18.531      0.000      -0.649      -0.525\n",
      "Fandom_tolkien                -0.0498      0.019     -2.577      0.010      -0.088      -0.012\n",
      "Fandom_shakespare             -1.8884      0.111    -17.048      0.000      -2.105      -1.671\n",
      "Fandom_hetalia                -1.2009      0.026    -46.006      0.000      -1.252      -1.150\n",
      "Fandom_attack_on_titan        -0.1112      0.022     -5.085      0.000      -0.154      -0.068\n",
      "Fandom_ms_paint_adventures    -0.0974      0.019     -5.179      0.000      -0.134      -0.061\n",
      "Fandom_marvel                  0.7398      0.014     54.629      0.000       0.713       0.766\n",
      "Fandom_sailor_moon            -2.2076      0.072    -30.664      0.000      -2.349      -2.066\n",
      "Fandom_one_direction          -0.6733      0.026    -25.584      0.000      -0.725      -0.622\n",
      "Fandom_sherlock               -0.1954      0.014    -13.628      0.000      -0.223      -0.167\n",
      "nonzero_prob                   1.9498      0.050     38.639      0.000       1.851       2.049\n",
      "==============================================================================\n",
      "Omnibus:                    57127.977   Durbin-Watson:                   1.541\n",
      "Prob(Omnibus):                  0.000   Jarque-Bera (JB):            73258.888\n",
      "Skew:                          -0.813   Prob(JB):                         0.00\n",
      "Kurtosis:                       2.892   Cond. No.                     1.02e+16\n",
      "==============================================================================\n",
      "\n",
      "Warnings:\n",
      "[1] Standard Errors assume that the covariance matrix of the errors is correctly specified.\n",
      "[2] The smallest eigenvalue is 6.01e-21. This might indicate that there are\n",
      "strong multicollinearity problems or that the design matrix is singular.\n"
     ]
    }
   ],
   "source": [
    "print(bookmarks_model.summary())"
   ]
  },
  {
   "cell_type": "code",
   "execution_count": null,
   "metadata": {},
   "outputs": [],
   "source": []
  },
  {
   "cell_type": "code",
   "execution_count": null,
   "metadata": {},
   "outputs": [],
   "source": []
  }
 ],
 "metadata": {
  "kernelspec": {
   "display_name": "Python 3",
   "language": "python",
   "name": "python3"
  },
  "language_info": {
   "codemirror_mode": {
    "name": "ipython",
    "version": 3
   },
   "file_extension": ".py",
   "mimetype": "text/x-python",
   "name": "python",
   "nbconvert_exporter": "python",
   "pygments_lexer": "ipython3",
   "version": "3.6.4"
  }
 },
 "nbformat": 4,
 "nbformat_minor": 2
}
