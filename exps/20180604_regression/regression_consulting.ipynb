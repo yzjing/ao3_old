{
 "cells": [
  {
   "cell_type": "code",
   "execution_count": 1,
   "metadata": {},
   "outputs": [
    {
     "name": "stderr",
     "output_type": "stream",
     "text": [
      "/anaconda3/envs/python36/lib/python3.6/site-packages/statsmodels/compat/pandas.py:56: FutureWarning: The pandas.core.datetools module is deprecated and will be removed in a future version. Please use the pandas.tseries module instead.\n",
      "  from pandas.core import datetools\n"
     ]
    }
   ],
   "source": [
    "import pandas as pd\n",
    "import matplotlib.pyplot as plt\n",
    "%matplotlib inline\n",
    "import numpy as np\n",
    "import seaborn as sns\n",
    "from statsmodels.formula.api import ols\n",
    "import statsmodels.api as sm\n"
   ]
  },
  {
   "cell_type": "markdown",
   "metadata": {},
   "source": [
    "## Read in regression data"
   ]
  },
  {
   "cell_type": "code",
   "execution_count": 4,
   "metadata": {},
   "outputs": [],
   "source": [
    "df_all = pd.read_csv('fanfic_regression_data.tsv', sep = '\\t')"
   ]
  },
  {
   "cell_type": "code",
   "execution_count": 5,
   "metadata": {},
   "outputs": [
    {
     "data": {
      "text/html": [
       "<div>\n",
       "<style scoped>\n",
       "    .dataframe tbody tr th:only-of-type {\n",
       "        vertical-align: middle;\n",
       "    }\n",
       "\n",
       "    .dataframe tbody tr th {\n",
       "        vertical-align: top;\n",
       "    }\n",
       "\n",
       "    .dataframe thead th {\n",
       "        text-align: right;\n",
       "    }\n",
       "</style>\n",
       "<table border=\"1\" class=\"dataframe\">\n",
       "  <thead>\n",
       "    <tr style=\"text-align: right;\">\n",
       "      <th></th>\n",
       "      <th>ArchiveWarnings</th>\n",
       "      <th>Author</th>\n",
       "      <th>Bookmarks</th>\n",
       "      <th>Category</th>\n",
       "      <th>ChapterIndex</th>\n",
       "      <th>Chapters</th>\n",
       "      <th>Comments</th>\n",
       "      <th>Hits</th>\n",
       "      <th>Kudos</th>\n",
       "      <th>Rating</th>\n",
       "      <th>Relationship</th>\n",
       "      <th>Term_novelty</th>\n",
       "      <th>Topic_novelty</th>\n",
       "      <th>tag_novelty</th>\n",
       "      <th>fandom_category</th>\n",
       "      <th>History</th>\n",
       "    </tr>\n",
       "  </thead>\n",
       "  <tbody>\n",
       "    <tr>\n",
       "      <th>0</th>\n",
       "      <td>No Archive Warnings Apply</td>\n",
       "      <td>tag0</td>\n",
       "      <td>0.666667</td>\n",
       "      <td>Gen</td>\n",
       "      <td>1.0</td>\n",
       "      <td>3</td>\n",
       "      <td>0</td>\n",
       "      <td>106.666667</td>\n",
       "      <td>2.666667</td>\n",
       "      <td>General Audiences</td>\n",
       "      <td>NaN</td>\n",
       "      <td>0.778655</td>\n",
       "      <td>0.599456</td>\n",
       "      <td>-0.012112</td>\n",
       "      <td>harry_potter</td>\n",
       "      <td>5102.0</td>\n",
       "    </tr>\n",
       "    <tr>\n",
       "      <th>1</th>\n",
       "      <td>No Archive Warnings Apply</td>\n",
       "      <td>kaiz</td>\n",
       "      <td>0.000000</td>\n",
       "      <td>M/M</td>\n",
       "      <td>0.0</td>\n",
       "      <td>1</td>\n",
       "      <td>1</td>\n",
       "      <td>1359.000000</td>\n",
       "      <td>19.000000</td>\n",
       "      <td>Mature</td>\n",
       "      <td>Harry Potter/Severus Snape</td>\n",
       "      <td>0.879855</td>\n",
       "      <td>0.625602</td>\n",
       "      <td>NaN</td>\n",
       "      <td>harry_potter</td>\n",
       "      <td>5561.0</td>\n",
       "    </tr>\n",
       "  </tbody>\n",
       "</table>\n",
       "</div>"
      ],
      "text/plain": [
       "             ArchiveWarnings Author  Bookmarks Category  ChapterIndex  \\\n",
       "0  No Archive Warnings Apply   tag0   0.666667      Gen           1.0   \n",
       "1  No Archive Warnings Apply   kaiz   0.000000      M/M           0.0   \n",
       "\n",
       "   Chapters  Comments         Hits      Kudos             Rating  \\\n",
       "0         3         0   106.666667   2.666667  General Audiences   \n",
       "1         1         1  1359.000000  19.000000             Mature   \n",
       "\n",
       "                 Relationship  Term_novelty  Topic_novelty  tag_novelty  \\\n",
       "0                         NaN      0.778655       0.599456    -0.012112   \n",
       "1  Harry Potter/Severus Snape      0.879855       0.625602          NaN   \n",
       "\n",
       "  fandom_category  History  \n",
       "0    harry_potter   5102.0  \n",
       "1    harry_potter   5561.0  "
      ]
     },
     "execution_count": 5,
     "metadata": {},
     "output_type": "execute_result"
    }
   ],
   "source": [
    "df_all.head(2)"
   ]
  },
  {
   "cell_type": "markdown",
   "metadata": {},
   "source": [
    "### Column information"
   ]
  },
  {
   "cell_type": "markdown",
   "metadata": {},
   "source": [
    "ArchiveWarnings: warnings about the fictions (violence, explicit contents, etc). There are a few warning types and their combinations.\n",
    "\n",
    "Author: the authors of each fiction.\n",
    "\n",
    "Bookmarks: number of people who has bookmarked a fiction (average of each chapter). Positive floats.\n",
    "\n",
    "Category: the type of relationships in the fiction (Female/Female, Female/Male, etc)\n",
    "\n",
    "ChapterIndex: the first, second, ... chapter in the fiction.\n",
    "\n",
    "Chapters: the total number of chapters in a fiction.\n",
    "\n",
    "Comments: the number of comments for each chapter. Positive integers.\n",
    "\n",
    "Hits: how many people have clicked on the fiction (average of each chapter). Positive floats.\n",
    "\n",
    "Kudos: how many people have \"liked\" the fiction (average of each chapter). Positive floats.\n",
    "\n",
    "Rating: the rating of the fiction (Genera/Mature/Explicit...).\n",
    "\n",
    "Relationship: the parings of characters in the fiction.\n",
    "\n",
    "Term novelty: novelty score based on words. A float number between 0-1.\n",
    "\n",
    "Topic novelty: novelty score based on topics. A float number between 0-1.\n",
    "\n",
    "Tag novelty: novelty score based on tags. A float number between 0-1.\n",
    "\n",
    "Fandom_category: the name of the fandom. There are 24 in total.\n",
    "\n",
    "History: the number of days between the fiction was published and now. Positive integers."
   ]
  },
  {
   "cell_type": "markdown",
   "metadata": {},
   "source": [
    "## Current regression analysis"
   ]
  },
  {
   "cell_type": "markdown",
   "metadata": {},
   "source": [
    "### Turn some columns into categorical variables"
   ]
  },
  {
   "cell_type": "code",
   "execution_count": 4,
   "metadata": {},
   "outputs": [],
   "source": [
    "df_all['ArchiveWarnings'] = df_all['ArchiveWarnings'].astype('category')\n",
    "df_all['ArchiveWarnings_cat'] = df_all['ArchiveWarnings'].cat.codes\n",
    "del df_all['ArchiveWarnings']"
   ]
  },
  {
   "cell_type": "code",
   "execution_count": 5,
   "metadata": {},
   "outputs": [],
   "source": [
    "df_all['Author'] = df_all['Author'].astype('category')\n",
    "df_all['Author_cat'] = df_all['Author'].cat.codes\n",
    "del df_all['Author']"
   ]
  },
  {
   "cell_type": "code",
   "execution_count": 6,
   "metadata": {},
   "outputs": [],
   "source": [
    "df_all['Category'] = df_all['Category'].astype('category')\n",
    "df_all['Category_cat'] = df_all['Category'].cat.codes\n",
    "del df_all['Category']"
   ]
  },
  {
   "cell_type": "code",
   "execution_count": 7,
   "metadata": {},
   "outputs": [],
   "source": [
    "df_all['Rating'] = df_all['Rating'].astype('category')\n",
    "df_all['Rating_cat'] = df_all['Rating'].cat.codes\n",
    "del df_all['Rating']"
   ]
  },
  {
   "cell_type": "code",
   "execution_count": 8,
   "metadata": {},
   "outputs": [],
   "source": [
    "df_all['Relationship'] = df_all['Relationship'].astype('category')\n",
    "df_all['Relationship_cat'] = df_all['Relationship'].cat.codes\n",
    "del df_all['Relationship']"
   ]
  },
  {
   "cell_type": "code",
   "execution_count": 9,
   "metadata": {},
   "outputs": [],
   "source": [
    "df_all['fandom_category'] = df_all['fandom_category'].astype('category')\n",
    "df_all['Fandom_cat'] = df_all['fandom_category'].cat.codes\n",
    "del df_all['fandom_category']"
   ]
  },
  {
   "cell_type": "markdown",
   "metadata": {},
   "source": [
    "### Correlations between the numerical variables"
   ]
  },
  {
   "cell_type": "code",
   "execution_count": 10,
   "metadata": {},
   "outputs": [],
   "source": [
    "corr = df_all[['Kudos','Bookmarks', 'Comments', 'Hits','Chapters', 'Term_novelty', 'Topic_novelty', 'History']].corr()"
   ]
  },
  {
   "cell_type": "code",
   "execution_count": 11,
   "metadata": {},
   "outputs": [
    {
     "data": {
      "image/png": "[encoded data removed]",
      "text/plain": [
       "<matplotlib.figure.Figure at 0x116bafe10>"
      ]
     },
     "metadata": {},
     "output_type": "display_data"
    }
   ],
   "source": [
    "cmap = sns.diverging_palette(5, 250, as_cmap=True)\n",
    "plt.figure(figsize = (8,5))\n",
    "\n",
    "corr_plt = sns.heatmap(corr, cmap=cmap, annot=True)\n",
    "plt.tight_layout()\n",
    "plt.savefig('variables_corr.pdf', format='pdf')"
   ]
  },
  {
   "cell_type": "markdown",
   "metadata": {},
   "source": [
    "### Run OLS"
   ]
  },
  {
   "cell_type": "code",
   "execution_count": 12,
   "metadata": {},
   "outputs": [],
   "source": [
    "# drop rows with nan values\n",
    "df_all = df_all.replace([np.inf, -np.inf], np.nan)\n",
    "df_all = df_all.dropna(how = 'any')"
   ]
  },
  {
   "cell_type": "markdown",
   "metadata": {},
   "source": [
    "#### Use 4 variables as outcome vatiables: kudos, hits, comments, bookmarks. The others are predictor variables."
   ]
  },
  {
   "cell_type": "code",
   "execution_count": 13,
   "metadata": {},
   "outputs": [],
   "source": [
    "model = ols(\"Kudos ~ Term_novelty + Topic_novelty +  Fandom_cat + Chapters +  ArchiveWarnings_cat\\\n",
    "+ Author_cat + Category_cat + Rating_cat + Relationship_cat + History\", data=df_all).fit()"
   ]
  },
  {
   "cell_type": "code",
   "execution_count": 14,
   "metadata": {},
   "outputs": [
    {
     "name": "stdout",
     "output_type": "stream",
     "text": [
      "                            OLS Regression Results                            \n",
      "==============================================================================\n",
      "Dep. Variable:                  Kudos   R-squared:                       0.093\n",
      "Model:                            OLS   Adj. R-squared:                  0.093\n",
      "Method:                 Least Squares   F-statistic:                     1858.\n",
      "Date:                Mon, 11 Jun 2018   Prob (F-statistic):               0.00\n",
      "Time:                        16:41:37   Log-Likelihood:            -2.7144e+05\n",
      "No. Observations:              181733   AIC:                         5.429e+05\n",
      "Df Residuals:                  181722   BIC:                         5.430e+05\n",
      "Df Model:                          10                                         \n",
      "Covariance Type:            nonrobust                                         \n",
      "=======================================================================================\n",
      "                          coef    std err          t      P>|t|      [0.025      0.975]\n",
      "---------------------------------------------------------------------------------------\n",
      "Intercept               2.9737      0.032     91.807      0.000       2.910       3.037\n",
      "Term_novelty           -0.2857      0.009    -32.130      0.000      -0.303      -0.268\n",
      "Topic_novelty          -1.4686      0.051    -29.017      0.000      -1.568      -1.369\n",
      "Fandom_cat             -0.0018      0.000     -4.513      0.000      -0.003      -0.001\n",
      "Chapters               -0.0054   5.06e-05   -105.826      0.000      -0.005      -0.005\n",
      "ArchiveWarnings_cat     0.0016    4.6e-05     34.966      0.000       0.002       0.002\n",
      "Author_cat           2.212e-06   1.08e-07     20.399      0.000       2e-06    2.42e-06\n",
      "Category_cat            0.0012   2.83e-05     43.515      0.000       0.001       0.001\n",
      "Rating_cat             -0.0299      0.001    -23.341      0.000      -0.032      -0.027\n",
      "Relationship_cat     7.107e-06   3.21e-07     22.151      0.000    6.48e-06    7.74e-06\n",
      "History                 0.0001   6.22e-06     22.222      0.000       0.000       0.000\n",
      "==============================================================================\n",
      "Omnibus:                      718.506   Durbin-Watson:                   1.157\n",
      "Prob(Omnibus):                  0.000   Jarque-Bera (JB):              906.802\n",
      "Skew:                          -0.071   Prob(JB):                    1.23e-197\n",
      "Kurtosis:                       3.316   Cond. No.                     1.10e+06\n",
      "==============================================================================\n",
      "\n",
      "Warnings:\n",
      "[1] Standard Errors assume that the covariance matrix of the errors is correctly specified.\n",
      "[2] The condition number is large, 1.1e+06. This might indicate that there are\n",
      "strong multicollinearity or other numerical problems.\n"
     ]
    }
   ],
   "source": [
    "print(model.summary())"
   ]
  },
  {
   "cell_type": "code",
   "execution_count": 15,
   "metadata": {},
   "outputs": [],
   "source": [
    "model = ols(\"Hits ~ Term_novelty + Topic_novelty +  Fandom_cat + Chapters +  ArchiveWarnings_cat\\\n",
    "+ Author_cat + Category_cat + Rating_cat + Relationship_cat + History\", data=df_all).fit()"
   ]
  },
  {
   "cell_type": "code",
   "execution_count": 16,
   "metadata": {},
   "outputs": [
    {
     "name": "stdout",
     "output_type": "stream",
     "text": [
      "                            OLS Regression Results                            \n",
      "==============================================================================\n",
      "Dep. Variable:                   Hits   R-squared:                       0.096\n",
      "Model:                            OLS   Adj. R-squared:                  0.096\n",
      "Method:                 Least Squares   F-statistic:                     1937.\n",
      "Date:                Mon, 11 Jun 2018   Prob (F-statistic):               0.00\n",
      "Time:                        16:41:37   Log-Likelihood:            -2.6261e+05\n",
      "No. Observations:              181733   AIC:                         5.252e+05\n",
      "Df Residuals:                  181722   BIC:                         5.254e+05\n",
      "Df Model:                          10                                         \n",
      "Covariance Type:            nonrobust                                         \n",
      "=======================================================================================\n",
      "                          coef    std err          t      P>|t|      [0.025      0.975]\n",
      "---------------------------------------------------------------------------------------\n",
      "Intercept               5.5440      0.031    179.681      0.000       5.484       5.604\n",
      "Term_novelty           -0.1696      0.008    -20.022      0.000      -0.186      -0.153\n",
      "Topic_novelty          -1.2709      0.048    -26.362      0.000      -1.365      -1.176\n",
      "Fandom_cat              0.0037      0.000      9.563      0.000       0.003       0.004\n",
      "Chapters               -0.0028   4.82e-05    -58.176      0.000      -0.003      -0.003\n",
      "ArchiveWarnings_cat     0.0010   4.38e-05     22.777      0.000       0.001       0.001\n",
      "Author_cat           1.073e-06   1.03e-07     10.389      0.000    8.71e-07    1.28e-06\n",
      "Category_cat            0.0007   2.69e-05     26.498      0.000       0.001       0.001\n",
      "Rating_cat             -0.0524      0.001    -42.928      0.000      -0.055      -0.050\n",
      "Relationship_cat     1.199e-05   3.06e-07     39.245      0.000    1.14e-05    1.26e-05\n",
      "History                 0.0005   5.92e-06     90.565      0.000       0.001       0.001\n",
      "==============================================================================\n",
      "Omnibus:                      185.696   Durbin-Watson:                   1.099\n",
      "Prob(Omnibus):                  0.000   Jarque-Bera (JB):              215.790\n",
      "Skew:                          -0.016   Prob(JB):                     1.39e-47\n",
      "Kurtosis:                       3.166   Cond. No.                     1.10e+06\n",
      "==============================================================================\n",
      "\n",
      "Warnings:\n",
      "[1] Standard Errors assume that the covariance matrix of the errors is correctly specified.\n",
      "[2] The condition number is large, 1.1e+06. This might indicate that there are\n",
      "strong multicollinearity or other numerical problems.\n"
     ]
    }
   ],
   "source": [
    "print(model.summary())"
   ]
  },
  {
   "cell_type": "code",
   "execution_count": 17,
   "metadata": {},
   "outputs": [],
   "source": [
    "model = ols(\"Comments ~ Term_novelty + Topic_novelty +  Fandom_cat + Chapters +  ArchiveWarnings_cat\\\n",
    "+ Author_cat + Category_cat + Rating_cat + Relationship_cat + History\", data=df_all).fit()"
   ]
  },
  {
   "cell_type": "code",
   "execution_count": 18,
   "metadata": {},
   "outputs": [
    {
     "name": "stdout",
     "output_type": "stream",
     "text": [
      "                            OLS Regression Results                            \n",
      "==============================================================================\n",
      "Dep. Variable:               Comments   R-squared:                       0.028\n",
      "Model:                            OLS   Adj. R-squared:                  0.028\n",
      "Method:                 Least Squares   F-statistic:                     519.1\n",
      "Date:                Mon, 11 Jun 2018   Prob (F-statistic):               0.00\n",
      "Time:                        16:41:37   Log-Likelihood:            -2.4561e+05\n",
      "No. Observations:              181733   AIC:                         4.912e+05\n",
      "Df Residuals:                  181722   BIC:                         4.913e+05\n",
      "Df Model:                          10                                         \n",
      "Covariance Type:            nonrobust                                         \n",
      "=======================================================================================\n",
      "                          coef    std err          t      P>|t|      [0.025      0.975]\n",
      "---------------------------------------------------------------------------------------\n",
      "Intercept               1.7733      0.028     63.111      0.000       1.718       1.828\n",
      "Term_novelty           -0.1043      0.008    -13.520      0.000      -0.119      -0.089\n",
      "Topic_novelty          -0.8142      0.044    -18.545      0.000      -0.900      -0.728\n",
      "Fandom_cat              0.0064      0.000     18.193      0.000       0.006       0.007\n",
      "Chapters                0.0015   4.39e-05     33.143      0.000       0.001       0.002\n",
      "ArchiveWarnings_cat     0.0007   3.99e-05     18.583      0.000       0.001       0.001\n",
      "Author_cat           7.349e-07   9.41e-08      7.813      0.000    5.51e-07    9.19e-07\n",
      "Category_cat            0.0006   2.45e-05     22.629      0.000       0.001       0.001\n",
      "Rating_cat             -0.0360      0.001    -32.413      0.000      -0.038      -0.034\n",
      "Relationship_cat     2.765e-06   2.78e-07      9.933      0.000    2.22e-06    3.31e-06\n",
      "History             -9.132e-05   5.39e-06    -16.936      0.000      -0.000   -8.08e-05\n",
      "==============================================================================\n",
      "Omnibus:                     7032.597   Durbin-Watson:                   1.504\n",
      "Prob(Omnibus):                  0.000   Jarque-Bera (JB):             5279.785\n",
      "Skew:                           0.325   Prob(JB):                         0.00\n",
      "Kurtosis:                       2.475   Cond. No.                     1.10e+06\n",
      "==============================================================================\n",
      "\n",
      "Warnings:\n",
      "[1] Standard Errors assume that the covariance matrix of the errors is correctly specified.\n",
      "[2] The condition number is large, 1.1e+06. This might indicate that there are\n",
      "strong multicollinearity or other numerical problems.\n"
     ]
    }
   ],
   "source": [
    "print(model.summary())"
   ]
  },
  {
   "cell_type": "code",
   "execution_count": 19,
   "metadata": {},
   "outputs": [],
   "source": [
    "model = ols(\"Bookmarks ~ Term_novelty + Topic_novelty +  Fandom_cat + Chapters +  ArchiveWarnings_cat\\\n",
    "+ Author_cat + Category_cat + Rating_cat + Relationship_cat + History\", data=df_all).fit()"
   ]
  },
  {
   "cell_type": "code",
   "execution_count": 20,
   "metadata": {},
   "outputs": [
    {
     "name": "stdout",
     "output_type": "stream",
     "text": [
      "                            OLS Regression Results                            \n",
      "==============================================================================\n",
      "Dep. Variable:              Bookmarks   R-squared:                       0.099\n",
      "Model:                            OLS   Adj. R-squared:                  0.099\n",
      "Method:                 Least Squares   F-statistic:                     2006.\n",
      "Date:                Mon, 11 Jun 2018   Prob (F-statistic):               0.00\n",
      "Time:                        16:41:37   Log-Likelihood:            -2.9185e+05\n",
      "No. Observations:              181733   AIC:                         5.837e+05\n",
      "Df Residuals:                  181722   BIC:                         5.838e+05\n",
      "Df Model:                          10                                         \n",
      "Covariance Type:            nonrobust                                         \n",
      "=======================================================================================\n",
      "                          coef    std err          t      P>|t|      [0.025      0.975]\n",
      "---------------------------------------------------------------------------------------\n",
      "Intercept               1.0106      0.036     27.886      0.000       0.940       1.082\n",
      "Term_novelty           -0.2767      0.010    -27.819      0.000      -0.296      -0.257\n",
      "Topic_novelty          -1.9733      0.057    -34.848      0.000      -2.084      -1.862\n",
      "Fandom_cat             -0.0012      0.000     -2.592      0.010      -0.002      -0.000\n",
      "Chapters               -0.0059   5.67e-05   -104.117      0.000      -0.006      -0.006\n",
      "ArchiveWarnings_cat     0.0011   5.14e-05     20.761      0.000       0.001       0.001\n",
      "Author_cat           1.815e-06   1.21e-07     14.964      0.000    1.58e-06    2.05e-06\n",
      "Category_cat            0.0018   3.16e-05     55.474      0.000       0.002       0.002\n",
      "Rating_cat             -0.0341      0.001    -23.798      0.000      -0.037      -0.031\n",
      "Relationship_cat     4.863e-06   3.59e-07     13.546      0.000    4.16e-06    5.57e-06\n",
      "History                 0.0003   6.95e-06     40.072      0.000       0.000       0.000\n",
      "==============================================================================\n",
      "Omnibus:                      303.317   Durbin-Watson:                   1.161\n",
      "Prob(Omnibus):                  0.000   Jarque-Bera (JB):              304.800\n",
      "Skew:                          -0.100   Prob(JB):                     6.51e-67\n",
      "Kurtosis:                       3.008   Cond. No.                     1.10e+06\n",
      "==============================================================================\n",
      "\n",
      "Warnings:\n",
      "[1] Standard Errors assume that the covariance matrix of the errors is correctly specified.\n",
      "[2] The condition number is large, 1.1e+06. This might indicate that there are\n",
      "strong multicollinearity or other numerical problems.\n"
     ]
    }
   ],
   "source": [
    "print(model.summary())"
   ]
  },
  {
   "cell_type": "code",
   "execution_count": null,
   "metadata": {},
   "outputs": [],
   "source": []
  }
 ],
 "metadata": {
  "kernelspec": {
   "display_name": "Python 3",
   "language": "python",
   "name": "python3"
  },
  "language_info": {
   "codemirror_mode": {
    "name": "ipython",
    "version": 3
   },
   "file_extension": ".py",
   "mimetype": "text/x-python",
   "name": "python",
   "nbconvert_exporter": "python",
   "pygments_lexer": "ipython3",
   "version": "3.6.4"
  }
 },
 "nbformat": 4,
 "nbformat_minor": 2
}
