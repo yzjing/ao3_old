{
 "cells": [
  {
   "cell_type": "code",
   "execution_count": 2,
   "metadata": {
    "collapsed": false
   },
   "outputs": [],
   "source": [
    "import numpy as np\n",
    "import pandas as pd\n",
    "import re\n",
    "from collections import Counter\n",
    "from scipy import special\n",
    "import matplotlib.pyplot as plt\n",
    "%matplotlib inline\n",
    "import random\n",
    "import cProfile"
   ]
  },
  {
   "cell_type": "code",
   "execution_count": 3,
   "metadata": {
    "collapsed": true
   },
   "outputs": [],
   "source": [
    "data = pd.read_csv('../../data/sherlock_current_wtext_samemonth.csv')"
   ]
  },
  {
   "cell_type": "code",
   "execution_count": 5,
   "metadata": {
    "collapsed": false
   },
   "outputs": [],
   "source": [
    "def preprocess(df):\n",
    "    #pre-processing\n",
    "    #input: a slice of the original df\n",
    "    #output: a list of lists each containing cleaned words from a work\n",
    "    df = df.astype(str)\n",
    "    df = df.groupby('Author')['Text'].apply(','.join).reset_index()\n",
    "    text = df[['Text']]\n",
    "    text['Text'] = text['Text'].str.replace('A', '')\n",
    "    text = text.drop_duplicates().Text.str.lower().str.split()\n",
    "    text_cleaned = []\n",
    "    for line in text:\n",
    "        line = [re.sub(r'[^A-Za-z0-9]+', '', str(word)) for word in line]\n",
    "        line = [word for word in line if len(word) > 1 and not word.isdigit()]\n",
    "        text_cleaned.append(line)\n",
    "    return text_cleaned"
   ]
  },
  {
   "cell_type": "code",
   "execution_count": 6,
   "metadata": {
    "collapsed": true
   },
   "outputs": [],
   "source": [
    "def filter_length(text, word_limit):\n",
    "    return [line for line in text if len(line) > word_limit]"
   ]
  },
  {
   "cell_type": "code",
   "execution_count": 7,
   "metadata": {
    "collapsed": true
   },
   "outputs": [],
   "source": [
    "def filter_top_words(text, top_number):\n",
    "    corpus = [word for line in text for word in line]\n",
    "    c = Counter(corpus)\n",
    "    top = [i[0] for i in c.most_common(top_number)]\n",
    "    text_intop = []\n",
    "    for line in text:\n",
    "        line = [word for word in line if word in top]\n",
    "        text_intop.append(line)\n",
    "    return text_intop"
   ]
  },
  {
   "cell_type": "code",
   "execution_count": 8,
   "metadata": {
    "collapsed": false
   },
   "outputs": [],
   "source": [
    "def calculate_prob_matrix(text_list):\n",
    "    #vectorize the words and turn each work into a list of word frequences over the whole vocalburary.\n",
    "    #input: a list of list of words.\n",
    "    #output: np array.\n",
    "    vocabulary = list(set([word for text in text_list for word in text]))\n",
    "    text_prob_matrix = []\n",
    "    for text in text_list:\n",
    "        freq_list = []\n",
    "        c = Counter(text)\n",
    "        for word in vocabulary:\n",
    "            if word in text:\n",
    "                freq_list.append(c[word])\n",
    "            else:\n",
    "                freq_list.append(0)\n",
    "        s = float(sum(freq_list))\n",
    "        if s != 0:\n",
    "            text_prob = [freq/s for freq in freq_list]\n",
    "            text_prob_matrix.append(text_prob)\n",
    "    text_prob_matrix = np.asarray(text_prob_matrix)\n",
    "    return text_prob_matrix"
   ]
  },
  {
   "cell_type": "code",
   "execution_count": 9,
   "metadata": {
    "collapsed": false
   },
   "outputs": [],
   "source": [
    "def JSD(P, Q):\n",
    "    M = 0.5 * (P + Q)\n",
    "    return 0.5 * (sum(special.rel_entr(P, M)) + sum(special.rel_entr(Q, M)))"
   ]
  },
  {
   "cell_type": "code",
   "execution_count": 10,
   "metadata": {
    "collapsed": true
   },
   "outputs": [],
   "source": [
    "def calculate_monthly_jsd(matrix):\n",
    "    jsds = []\n",
    "    for i in range(matrix.shape[0]):\n",
    "        for j in range(i+1, matrix.shape[0]):\n",
    "            jsds.append(JSD(matrix[i], matrix[j]))\n",
    "    return jsds"
   ]
  },
  {
   "cell_type": "code",
   "execution_count": 11,
   "metadata": {
    "collapsed": false
   },
   "outputs": [],
   "source": [
    "def calculate_monthly_jsd_sampled(matrix):\n",
    "    jsds = []\n",
    "    l = matrix.shape[0]\n",
    "    for n in range(1000):\n",
    "        i = random.randrange(1, l)\n",
    "        j = random.randrange(1, l)\n",
    "        jsds.append(JSD(matrix[i], matrix[j]))\n",
    "    return jsds"
   ]
  },
  {
   "cell_type": "code",
   "execution_count": 12,
   "metadata": {
    "collapsed": false,
    "scrolled": true
   },
   "outputs": [],
   "source": [
    "def bootstrap_resample(jsd_list):\n",
    "    ave_original = np.average(jsd_list)\n",
    "    aves = []\n",
    "    for i in range(10000):\n",
    "        sample = []\n",
    "        for i in range(len(jsd_list)):\n",
    "            sample.append(random.choice(jsd_list))\n",
    "        aves.append(np.average(sample))\n",
    "    tail = sorted(aves)[249]\n",
    "    head = sorted(aves)[9750]\n",
    "    return (ave_original, tail, head)"
   ]
  },
  {
   "cell_type": "code",
   "execution_count": 13,
   "metadata": {
    "collapsed": true
   },
   "outputs": [],
   "source": [
    "def create_df_time(df, time):\n",
    "    return df[df.PublishDate.str[:7] == time]"
   ]
  },
  {
   "cell_type": "code",
   "execution_count": 37,
   "metadata": {
    "collapsed": false
   },
   "outputs": [],
   "source": [
    "def calculate_overall_jsd():\n",
    "    jsds_timerange = []\n",
    "    work_count = []\n",
    "    for month in timelist:\n",
    "        df_ts = create_df_time(data, month)\n",
    "        text = preprocess(df_ts)\n",
    "        text = filter_length(text, 500)\n",
    "        work_count.append(len(text))\n",
    "        text = filter_top_words(text, 1000)\n",
    "        \n",
    "        matrix = calculate_prob_matrix(text)\n",
    "        monthly_jsds = calculate_monthly_jsd(matrix)\n",
    "        monthly_ave_resampled_jsds = bootstrap_resample(monthly_jsds)\n",
    "        jsds_timerange.append(monthly_ave_resampled_jsds)\n",
    "        print \"Finished calculation for: \", month, 'jsd = ', monthly_ave_resampled_jsds#, 'number of work:', len(text)\n",
    "    return jsds_timerange, work_count\n"
   ]
  },
  {
   "cell_type": "code",
   "execution_count": 38,
   "metadata": {
    "collapsed": false
   },
   "outputs": [],
   "source": [
    "timelist = data.PublishDate.drop_duplicates().tolist()\n",
    "timelist = [str(i)[:7] for i in timelist]\n",
    "timelist = sorted(list(set(timelist)))"
   ]
  },
  {
   "cell_type": "code",
   "execution_count": 39,
   "metadata": {
    "collapsed": false
   },
   "outputs": [
    {
     "name": "stdout",
     "output_type": "stream",
     "text": [
      "Finished calculation for:  2010-08 jsd =  (0.14846748489396683, 0.12227556215653983, 0.17629535349521488)\n",
      "Finished calculation for:  2010-09 jsd =  (0.17738965072929838, 0.11733260184692214, 0.2278135135333812)\n",
      "Finished calculation for:  2010-10 jsd =  (0.2048708022992439, 0.19407271994066688, 0.21690456565492977)\n",
      "Finished calculation for:  2010-11 jsd =  (0.079773664482008108, 0.067556232739464053, 0.093096311783046726)\n",
      "Finished calculation for:  2010-12 jsd =  (0.14294774607847216, 0.1153811571361304, 0.16892787727597738)\n",
      "Finished calculation for:  2011-01 jsd =  (0.09957753417544786, 0.094514723304049628, 0.10467469874152203)\n",
      "Finished calculation for:  2011-02 jsd =  (0.097905182839244903, 0.08969374592445184, 0.1060386164643928)\n",
      "Finished calculation for:  2011-03 jsd =  (0.096973518101995199, 0.09093708311823645, 0.10304186631526568)\n",
      "Finished calculation for:  2011-04 jsd =  (0.17340887627499338, 0.15734905701047, 0.18959839954679239)\n",
      "Finished calculation for:  2011-05 jsd =  (0.12096236796463021, 0.11327533893069977, 0.12920295882355751)\n",
      "Finished calculation for:  2011-06 jsd =  (0.14374208117975182, 0.13307393315124938, 0.1540027403972922)\n",
      "Finished calculation for:  2011-07 jsd =  (0.13784854189594592, 0.12946500817017051, 0.14652958450695686)\n",
      "Finished calculation for:  2011-08 jsd =  (0.15168288790880186, 0.1416936556799856, 0.16196733616955658)\n",
      "Finished calculation for:  2011-09 jsd =  (0.12690502745721374, 0.12069797511323581, 0.13335731732001019)\n",
      "Finished calculation for:  2011-10 jsd =  (0.13317704670801389, 0.12185489094041693, 0.14492133802115509)\n",
      "Finished calculation for:  2011-11 jsd =  (0.13715702177332006, 0.12287095659483462, 0.15239563097553901)\n",
      "Finished calculation for:  2011-12 jsd =  (0.144280756795266, 0.14028050847950835, 0.14842107031850596)\n",
      "Finished calculation for:  2012-01 jsd =  (0.12195736911063683, 0.11885763148353676, 0.12505620699560149)\n",
      "Finished calculation for:  2012-02 jsd =  (0.14507687924073209, 0.14181288707527046, 0.14849110705779717)\n",
      "Finished calculation for:  2012-03 jsd =  (0.12968237207793087, 0.12632965058784046, 0.1331144279492312)\n",
      "Finished calculation for:  2012-04 jsd =  (0.14135253568275097, 0.13875674503014757, 0.14392418629216608)\n",
      "Finished calculation for:  2012-05 jsd =  (0.12642449538064687, 0.12425605428512156, 0.12858812008171558)\n",
      "Finished calculation for:  2012-06 jsd =  (0.12815600400632932, 0.12622733816802023, 0.13012588296422137)\n",
      "Finished calculation for:  2012-07 jsd =  (0.13116483222512124, 0.12942330931953158, 0.13287741384884239)\n",
      "Finished calculation for:  2012-08 jsd =  (0.11771036587543823, 0.11631714127368858, 0.1190980671559424)\n",
      "Finished calculation for:  2012-09 jsd =  (0.12823828950314961, 0.12628925211721254, 0.13019590297506614)\n",
      "Finished calculation for:  2012-10 jsd =  (0.13545899963609465, 0.13320912550444533, 0.13774419017583098)\n",
      "Finished calculation for:  2012-11 jsd =  (0.14899116433891121, 0.14596010723653269, 0.15213010862140586)\n",
      "Finished calculation for:  2012-12 jsd =  (0.1296021566412526, 0.12829352318077691, 0.13092135711645997)\n",
      "Finished calculation for:  2013-01 jsd =  (0.13867285483462266, 0.13694008937350233, 0.14041828762219966)\n",
      "Finished calculation for:  2013-02 jsd =  (0.14297424603777795, 0.14123534655440939, 0.1446859399861255)\n",
      "Finished calculation for:  2013-03 jsd =  (0.13565986877086536, 0.13341130161821504, 0.13798635644528992)\n",
      "Finished calculation for:  2013-04 jsd =  (0.14778521382961182, 0.14569557862889307, 0.14996371848865489)\n",
      "Finished calculation for:  2013-05 jsd =  (0.14528796831550103, 0.14277224300654515, 0.14775932219230578)\n",
      "Finished calculation for:  2013-06 jsd =  (0.13454720127269279, 0.1329949722626324, 0.13613006742702266)\n",
      "Finished calculation for:  2013-07 jsd =  (0.14651617687232765, 0.14489607130731424, 0.14813956319310542)\n",
      "Finished calculation for:  2013-08 jsd =  (0.14427178635664697, 0.13987109154582289, 0.14880086511505927)\n",
      "Finished calculation for:  2013-09 jsd =  (0.15034820893342732, 0.14762794343913177, 0.15313822279766309)\n",
      "Finished calculation for:  2013-10 jsd =  (0.14291888976751577, 0.14080947904008487, 0.14499817695700984)\n",
      "Finished calculation for:  2013-11 jsd =  (0.13622748417151367, 0.1340201989450153, 0.1384958542210902)\n",
      "Finished calculation for:  2013-12 jsd =  (0.12856037231332962, 0.12754145107910406, 0.12957094686775208)\n",
      "Finished calculation for:  2014-01 jsd =  (0.14319238227267608, 0.14217252535704966, 0.14421581911369058)\n",
      "Finished calculation for:  2014-02 jsd =  (0.13755030968595947, 0.13635428034795019, 0.13876549319727274)\n",
      "Finished calculation for:  2014-03 jsd =  (0.15076421134967696, 0.14941477932637098, 0.15212445562052046)\n",
      "Finished calculation for:  2014-04 jsd =  (0.15121511841203394, 0.14973831171972948, 0.1526833147835813)\n",
      "Finished calculation for:  2014-05 jsd =  (0.1549904902307046, 0.15311494246002824, 0.15683285051511994)\n",
      "Finished calculation for:  2014-06 jsd =  (0.14171752613114352, 0.1403036539297432, 0.14313360631440564)\n",
      "Finished calculation for:  2014-07 jsd =  (0.15968019057181562, 0.15711322298662236, 0.16237153992700781)\n",
      "Finished calculation for:  2014-08 jsd =  (0.15462924563172054, 0.15270438181379414, 0.15649989889060895)\n",
      "Finished calculation for:  2014-09 jsd =  (0.13946651003870003, 0.13736316463953802, 0.14156529838695139)\n",
      "Finished calculation for:  2014-10 jsd =  (0.1355257526434446, 0.1337072941387033, 0.13734827829600146)\n",
      "Finished calculation for:  2014-11 jsd =  (0.12504781849809699, 0.12299449874592433, 0.12706687904092259)\n",
      "Finished calculation for:  2014-12 jsd =  (0.14862409832408544, 0.14726636599505893, 0.14995698392052284)\n",
      "Finished calculation for:  2015-01 jsd =  (0.15037243432439579, 0.148633182531898, 0.15217682106877928)\n",
      "Finished calculation for:  2015-02 jsd =  (0.16308591014431886, 0.16066647976042142, 0.16547302542776426)\n",
      "Finished calculation for:  2015-03 jsd =  (0.15075941454522099, 0.14834490606416059, 0.15317000459220834)\n",
      "Finished calculation for:  2015-04 jsd =  (0.13881471493847455, 0.13663232138773462, 0.14095913546557776)\n",
      "Finished calculation for:  2015-05 jsd =  (0.15060593972260494, 0.14853489524449315, 0.15272003746339796)\n",
      "Finished calculation for:  2015-06 jsd =  (0.15618305584558559, 0.15281246455743308, 0.15956801085412736)\n",
      "Finished calculation for:  2015-07 jsd =  (0.13465768323259394, 0.13275906979944216, 0.13664609637034347)\n",
      "Finished calculation for:  2015-08 jsd =  (0.13780618424224431, 0.13483611667542553, 0.14080960025329409)\n",
      "Finished calculation for:  2015-09 jsd =  (0.1506296172058344, 0.14761928453544024, 0.15372719046543062)\n",
      "Finished calculation for:  2015-10 jsd =  (0.14799959981241426, 0.14505525631994171, 0.15108653015783421)\n",
      "Finished calculation for:  2015-11 jsd =  (0.1495554828991395, 0.14481821481677029, 0.15443630856115992)\n"
     ]
    },
    {
     "name": "stderr",
     "output_type": "stream",
     "text": [
      "/Users/jingy/anaconda/lib/python2.7/site-packages/IPython/kernel/__main__.py:8: SettingWithCopyWarning: \n",
      "A value is trying to be set on a copy of a slice from a DataFrame.\n",
      "Try using .loc[row_indexer,col_indexer] = value instead\n",
      "\n",
      "See the the caveats in the documentation: http://pandas.pydata.org/pandas-docs/stable/indexing.html#indexing-view-versus-copy\n"
     ]
    }
   ],
   "source": [
    "jsd, work_count = calculate_overall_jsd()"
   ]
  },
  {
   "cell_type": "code",
   "execution_count": 42,
   "metadata": {
    "collapsed": false
   },
   "outputs": [
    {
     "data": {
      "image/png": "[encoded data removed]",
      "text/plain": [
       "<matplotlib.figure.Figure at 0x10c3d4990>"
      ]
     },
     "metadata": {},
     "output_type": "display_data"
    }
   ],
   "source": [
    "y = [i[0] for i in jsd]\n",
    "x = range(len(y))\n",
    "\n",
    "# example error bar values that vary with x-position\n",
    "# error = 0.1 + 0.2 * x\n",
    "\n",
    "# error bar values w/ different -/+ errors\n",
    "lower_error = [i[0]-i[1] for i in jsd]\n",
    "upper_error = [i[2]-i[0] for i in jsd]\n",
    "asymmetric_error = [lower_error, upper_error]\n",
    "\n",
    "fig, ax = plt.subplots(figsize = (10, 7))\n",
    "\n",
    "ax.errorbar(x, y, yerr=asymmetric_error,marker='o')\n",
    "ax.set_title('Average pairwise jsd between works from different authors over time range')\n",
    "# ax.set_yscale('log')\n",
    "# ax.set_ylim([0.180, 0.225])\n",
    "plt.show()"
   ]
  },
  {
   "cell_type": "code",
   "execution_count": null,
   "metadata": {
    "collapsed": true
   },
   "outputs": [],
   "source": []
  }
 ],
 "metadata": {
  "kernelspec": {
   "display_name": "Python 2",
   "language": "python",
   "name": "python2"
  },
  "language_info": {
   "codemirror_mode": {
    "name": "ipython",
    "version": 2
   },
   "file_extension": ".py",
   "mimetype": "text/x-python",
   "name": "python",
   "nbconvert_exporter": "python",
   "pygments_lexer": "ipython2",
   "version": "2.7.11"
  }
 },
 "nbformat": 4,
 "nbformat_minor": 0
}
