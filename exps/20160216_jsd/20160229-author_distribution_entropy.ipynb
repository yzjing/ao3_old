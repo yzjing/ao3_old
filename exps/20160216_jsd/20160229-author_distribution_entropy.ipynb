{
 "cells": [
  {
   "cell_type": "code",
   "execution_count": 67,
   "metadata": {
    "collapsed": false
   },
   "outputs": [],
   "source": [
    "import numpy as np\n",
    "import pandas as pd\n",
    "import re\n",
    "from collections import Counter\n",
    "from scipy import special\n",
    "import matplotlib.pyplot as plt\n",
    "%matplotlib inline\n",
    "import random\n",
    "import cProfile"
   ]
  },
  {
   "cell_type": "code",
   "execution_count": 68,
   "metadata": {
    "collapsed": true
   },
   "outputs": [],
   "source": [
    "data = pd.read_csv('../../data/sherlock_current_wtext.csv')"
   ]
  },
  {
   "cell_type": "code",
   "execution_count": 69,
   "metadata": {
    "collapsed": false
   },
   "outputs": [
    {
     "data": {
      "text/html": [
       "<div>\n",
       "<table border=\"1\" class=\"dataframe\">\n",
       "  <thead>\n",
       "    <tr style=\"text-align: right;\">\n",
       "      <th></th>\n",
       "      <th>Additional_Tags</th>\n",
       "      <th>Archive_Warnings</th>\n",
       "      <th>Author</th>\n",
       "      <th>Bookmarks</th>\n",
       "      <th>Category</th>\n",
       "      <th>Chapters</th>\n",
       "      <th>Characters</th>\n",
       "      <th>Comments</th>\n",
       "      <th>CompleteDate</th>\n",
       "      <th>Fandoms</th>\n",
       "      <th>...</th>\n",
       "      <th>Kudos</th>\n",
       "      <th>Language</th>\n",
       "      <th>Notes</th>\n",
       "      <th>PublishDate</th>\n",
       "      <th>Rating</th>\n",
       "      <th>Relationship</th>\n",
       "      <th>Summary</th>\n",
       "      <th>Text</th>\n",
       "      <th>Title</th>\n",
       "      <th>Words</th>\n",
       "    </tr>\n",
       "  </thead>\n",
       "  <tbody>\n",
       "    <tr>\n",
       "      <th>0</th>\n",
       "      <td>zombie apocalypse AU, a bit like The Walking ...</td>\n",
       "      <td>Creator Chose Not To Use Archive Warnings</td>\n",
       "      <td>thewallflower07</td>\n",
       "      <td>1</td>\n",
       "      <td>NaN</td>\n",
       "      <td>1/1</td>\n",
       "      <td>Sherlock Holmes, John Watson, Molly Hooper, G...</td>\n",
       "      <td>2</td>\n",
       "      <td>NaN</td>\n",
       "      <td>Sherlock (TV)</td>\n",
       "      <td>...</td>\n",
       "      <td>23</td>\n",
       "      <td>English</td>\n",
       "      <td>The dialogue and speech thing is intentional, ...</td>\n",
       "      <td>2015-11-07</td>\n",
       "      <td>Teen And Up Audiences</td>\n",
       "      <td>Sherlock Holmes&amp; John Watson, Molly Hooper/Gr...</td>\n",
       "      <td>What the end of the world means and how you su...</td>\n",
       "      <td>AAAThe quickest way of ending a war is to lose...</td>\n",
       "      <td>The End of the World</td>\n",
       "      <td>2468</td>\n",
       "    </tr>\n",
       "    <tr>\n",
       "      <th>1</th>\n",
       "      <td>Alternate Universe, Alternate Universe - Soul...</td>\n",
       "      <td>Creator Chose Not To Use Archive Warnings</td>\n",
       "      <td>Iolre</td>\n",
       "      <td>117</td>\n",
       "      <td>M/M</td>\n",
       "      <td>16/16</td>\n",
       "      <td>Mycroft Holmes, Greg Lestrade, Sherlock Holme...</td>\n",
       "      <td>185</td>\n",
       "      <td>2015-11-07</td>\n",
       "      <td>Sherlock (TV)Sherlock Holmes &amp; Related Fandoms</td>\n",
       "      <td>...</td>\n",
       "      <td>534</td>\n",
       "      <td>English</td>\n",
       "      <td>This is a gift for the lovely rykoe-little-bla...</td>\n",
       "      <td>2014-01-14</td>\n",
       "      <td>Explicit</td>\n",
       "      <td>Mycroft Holmes/Greg Lestrade, background Sher...</td>\n",
       "      <td>Mycroft is the man who thinks he has everythin...</td>\n",
       "      <td>Mycroft Holmes tapped his long, elegant finger...</td>\n",
       "      <td>A Missing Piece</td>\n",
       "      <td>43487</td>\n",
       "    </tr>\n",
       "    <tr>\n",
       "      <th>2</th>\n",
       "      <td>Alternate Universe, Alternate Universe - Soul...</td>\n",
       "      <td>Creator Chose Not To Use Archive Warnings</td>\n",
       "      <td>Iolre</td>\n",
       "      <td>117</td>\n",
       "      <td>M/M</td>\n",
       "      <td>16/16</td>\n",
       "      <td>Mycroft Holmes, Greg Lestrade, Sherlock Holme...</td>\n",
       "      <td>185</td>\n",
       "      <td>2015-11-07</td>\n",
       "      <td>Sherlock (TV)Sherlock Holmes &amp; Related Fandoms</td>\n",
       "      <td>...</td>\n",
       "      <td>534</td>\n",
       "      <td>English</td>\n",
       "      <td>NaN</td>\n",
       "      <td>2014-01-14</td>\n",
       "      <td>Explicit</td>\n",
       "      <td>Mycroft Holmes/Greg Lestrade, background Sher...</td>\n",
       "      <td>Mycroft is the man who thinks he has everythin...</td>\n",
       "      <td>Mycroft watched the DI enter the rather noisy ...</td>\n",
       "      <td>A Missing Piece</td>\n",
       "      <td>43487</td>\n",
       "    </tr>\n",
       "    <tr>\n",
       "      <th>3</th>\n",
       "      <td>Alternate Universe, Alternate Universe - Soul...</td>\n",
       "      <td>Creator Chose Not To Use Archive Warnings</td>\n",
       "      <td>Iolre</td>\n",
       "      <td>117</td>\n",
       "      <td>M/M</td>\n",
       "      <td>16/16</td>\n",
       "      <td>Mycroft Holmes, Greg Lestrade, Sherlock Holme...</td>\n",
       "      <td>185</td>\n",
       "      <td>2015-11-07</td>\n",
       "      <td>Sherlock (TV)Sherlock Holmes &amp; Related Fandoms</td>\n",
       "      <td>...</td>\n",
       "      <td>534</td>\n",
       "      <td>English</td>\n",
       "      <td>NaN</td>\n",
       "      <td>2014-01-14</td>\n",
       "      <td>Explicit</td>\n",
       "      <td>Mycroft Holmes/Greg Lestrade, background Sher...</td>\n",
       "      <td>Mycroft is the man who thinks he has everythin...</td>\n",
       "      <td>There certainly weren’t butterflies in Mycroft...</td>\n",
       "      <td>A Missing Piece</td>\n",
       "      <td>43487</td>\n",
       "    </tr>\n",
       "    <tr>\n",
       "      <th>4</th>\n",
       "      <td>Alternate Universe, Alternate Universe - Soul...</td>\n",
       "      <td>Creator Chose Not To Use Archive Warnings</td>\n",
       "      <td>Iolre</td>\n",
       "      <td>117</td>\n",
       "      <td>M/M</td>\n",
       "      <td>16/16</td>\n",
       "      <td>Mycroft Holmes, Greg Lestrade, Sherlock Holme...</td>\n",
       "      <td>185</td>\n",
       "      <td>2015-11-07</td>\n",
       "      <td>Sherlock (TV)Sherlock Holmes &amp; Related Fandoms</td>\n",
       "      <td>...</td>\n",
       "      <td>534</td>\n",
       "      <td>English</td>\n",
       "      <td>NaN</td>\n",
       "      <td>2014-01-14</td>\n",
       "      <td>Explicit</td>\n",
       "      <td>Mycroft Holmes/Greg Lestrade, background Sher...</td>\n",
       "      <td>Mycroft is the man who thinks he has everythin...</td>\n",
       "      <td>Mycroft sprawled on the sofa, a bottle of wine...</td>\n",
       "      <td>A Missing Piece</td>\n",
       "      <td>43487</td>\n",
       "    </tr>\n",
       "  </tbody>\n",
       "</table>\n",
       "<p>5 rows × 21 columns</p>\n",
       "</div>"
      ],
      "text/plain": [
       "                                     Additional_Tags  \\\n",
       "0   zombie apocalypse AU, a bit like The Walking ...   \n",
       "1   Alternate Universe, Alternate Universe - Soul...   \n",
       "2   Alternate Universe, Alternate Universe - Soul...   \n",
       "3   Alternate Universe, Alternate Universe - Soul...   \n",
       "4   Alternate Universe, Alternate Universe - Soul...   \n",
       "\n",
       "                             Archive_Warnings           Author  Bookmarks  \\\n",
       "0   Creator Chose Not To Use Archive Warnings  thewallflower07          1   \n",
       "1   Creator Chose Not To Use Archive Warnings            Iolre        117   \n",
       "2   Creator Chose Not To Use Archive Warnings            Iolre        117   \n",
       "3   Creator Chose Not To Use Archive Warnings            Iolre        117   \n",
       "4   Creator Chose Not To Use Archive Warnings            Iolre        117   \n",
       "\n",
       "  Category Chapters                                         Characters  \\\n",
       "0      NaN      1/1   Sherlock Holmes, John Watson, Molly Hooper, G...   \n",
       "1      M/M    16/16   Mycroft Holmes, Greg Lestrade, Sherlock Holme...   \n",
       "2      M/M    16/16   Mycroft Holmes, Greg Lestrade, Sherlock Holme...   \n",
       "3      M/M    16/16   Mycroft Holmes, Greg Lestrade, Sherlock Holme...   \n",
       "4      M/M    16/16   Mycroft Holmes, Greg Lestrade, Sherlock Holme...   \n",
       "\n",
       "   Comments CompleteDate                                         Fandoms  \\\n",
       "0         2          NaN                                   Sherlock (TV)   \n",
       "1       185   2015-11-07  Sherlock (TV)Sherlock Holmes & Related Fandoms   \n",
       "2       185   2015-11-07  Sherlock (TV)Sherlock Holmes & Related Fandoms   \n",
       "3       185   2015-11-07  Sherlock (TV)Sherlock Holmes & Related Fandoms   \n",
       "4       185   2015-11-07  Sherlock (TV)Sherlock Holmes & Related Fandoms   \n",
       "\n",
       "   ...    Kudos         Language  \\\n",
       "0  ...       23          English   \n",
       "1  ...      534          English   \n",
       "2  ...      534          English   \n",
       "3  ...      534          English   \n",
       "4  ...      534          English   \n",
       "\n",
       "                                               Notes PublishDate  \\\n",
       "0  The dialogue and speech thing is intentional, ...  2015-11-07   \n",
       "1  This is a gift for the lovely rykoe-little-bla...  2014-01-14   \n",
       "2                                                NaN  2014-01-14   \n",
       "3                                                NaN  2014-01-14   \n",
       "4                                                NaN  2014-01-14   \n",
       "\n",
       "                   Rating                                       Relationship  \\\n",
       "0   Teen And Up Audiences   Sherlock Holmes& John Watson, Molly Hooper/Gr...   \n",
       "1                Explicit   Mycroft Holmes/Greg Lestrade, background Sher...   \n",
       "2                Explicit   Mycroft Holmes/Greg Lestrade, background Sher...   \n",
       "3                Explicit   Mycroft Holmes/Greg Lestrade, background Sher...   \n",
       "4                Explicit   Mycroft Holmes/Greg Lestrade, background Sher...   \n",
       "\n",
       "                                             Summary  \\\n",
       "0  What the end of the world means and how you su...   \n",
       "1  Mycroft is the man who thinks he has everythin...   \n",
       "2  Mycroft is the man who thinks he has everythin...   \n",
       "3  Mycroft is the man who thinks he has everythin...   \n",
       "4  Mycroft is the man who thinks he has everythin...   \n",
       "\n",
       "                                                Text                 Title  \\\n",
       "0  AAAThe quickest way of ending a war is to lose...  The End of the World   \n",
       "1  Mycroft Holmes tapped his long, elegant finger...       A Missing Piece   \n",
       "2  Mycroft watched the DI enter the rather noisy ...       A Missing Piece   \n",
       "3  There certainly weren’t butterflies in Mycroft...       A Missing Piece   \n",
       "4  Mycroft sprawled on the sofa, a bottle of wine...       A Missing Piece   \n",
       "\n",
       "   Words  \n",
       "0   2468  \n",
       "1  43487  \n",
       "2  43487  \n",
       "3  43487  \n",
       "4  43487  \n",
       "\n",
       "[5 rows x 21 columns]"
      ]
     },
     "execution_count": 69,
     "metadata": {},
     "output_type": "execute_result"
    }
   ],
   "source": [
    "temp = data[data.PublishDate != data.CompleteDate]\n",
    "temp.head()"
   ]
  },
  {
   "cell_type": "code",
   "execution_count": 71,
   "metadata": {
    "collapsed": false
   },
   "outputs": [
    {
     "data": {
      "text/plain": [
       "0.9289126639903378"
      ]
     },
     "execution_count": 71,
     "metadata": {},
     "output_type": "execute_result"
    }
   ],
   "source": [
    "len(temp)/float(len(data))"
   ]
  },
  {
   "cell_type": "code",
   "execution_count": 4,
   "metadata": {
    "collapsed": true
   },
   "outputs": [],
   "source": [
    "def create_df_time(df, time):\n",
    "    return df[df.PublishDate.str[:7] == time]"
   ]
  },
  {
   "cell_type": "code",
   "execution_count": 36,
   "metadata": {
    "collapsed": false
   },
   "outputs": [],
   "source": [
    "def calculate_overall_author_ent():\n",
    "    author_ent_all = []\n",
    "    author_count = []\n",
    "    for month in timelist:\n",
    "        df = create_df_time(data, month)\n",
    "        df = df.astype(str)\n",
    "        df = df.groupby(['Additional_Tags', 'Archive_Warnings', 'Author', 'Bookmarks',\\\n",
    "                   'Category', 'Chapters', 'Characters', 'Comments', 'CompleteDate',\\\n",
    "                   'Fandoms', 'Hits', 'Kudos', 'Language', 'PublishDate',\\\n",
    "                     'Rating', 'Relationship', 'Summary', 'Title', 'Words'])['Text'].apply(','.join).reset_index()\n",
    "        authors = df['Author'].tolist()\n",
    "        c = Counter(authors)\n",
    "        author_freq = {name:c[name] for name in authors}\n",
    "        author_dist = [float(v)/sum(author_freq.values()) for v in author_freq.values()]\n",
    "        author_ent = sum([-x*np.log(x) for x in author_dist])\n",
    "        author_ent_all.append(author_ent)\n",
    "        author_count.append(len(author_freq))\n",
    "    return author_ent_all, author_count\n"
   ]
  },
  {
   "cell_type": "code",
   "execution_count": 37,
   "metadata": {
    "collapsed": false
   },
   "outputs": [],
   "source": [
    "timelist = data.PublishDate.drop_duplicates().tolist()\n",
    "timelist = [str(i)[:7] for i in timelist]\n",
    "timelist = sorted(list(set(timelist)))"
   ]
  },
  {
   "cell_type": "code",
   "execution_count": 38,
   "metadata": {
    "collapsed": false
   },
   "outputs": [],
   "source": [
    "ent, count = calculate_overall_author_ent()"
   ]
  },
  {
   "cell_type": "code",
   "execution_count": 66,
   "metadata": {
    "collapsed": false,
    "scrolled": true
   },
   "outputs": [
    {
     "data": {
      "image/png": "[encoded data removed]",
      "text/plain": [
       "<matplotlib.figure.Figure at 0x11093eb50>"
      ]
     },
     "metadata": {},
     "output_type": "display_data"
    },
    {
     "data": {
      "text/plain": [
       "<matplotlib.figure.Figure at 0x116831d10>"
      ]
     },
     "metadata": {},
     "output_type": "display_data"
    }
   ],
   "source": [
    "y = ent\n",
    "x = range(len(y))\n",
    "\n",
    "fig, ax = plt.subplots(figsize = (8, 6))\n",
    "\n",
    "ax.plot(x, y, marker='o')\n",
    "ax.set_title('Entropy of author distribution')\n",
    "\n",
    "plt.grid()\n",
    "plt.show()\n",
    "plt.savefig('/Users/jingy/Desktop/author_entropy.png', format = 'png')"
   ]
  },
  {
   "cell_type": "code",
   "execution_count": 50,
   "metadata": {
    "collapsed": false
   },
   "outputs": [
    {
     "data": {
      "image/png": "[encoded data removed]",
      "text/plain": [
       "<matplotlib.figure.Figure at 0x110930b50>"
      ]
     },
     "metadata": {},
     "output_type": "display_data"
    }
   ],
   "source": [
    "y = count\n",
    "x = range(len(y))\n",
    "\n",
    "fig, ax = plt.subplots(figsize = (10, 7))\n",
    "\n",
    "ax.plot(x, y, marker='o')\n",
    "ax.set_title('Number of authors')\n",
    "# ax.set_yscale('log')\n",
    "# ax.set_ylim([0.180, 0.225])\n",
    "plt.grid()\n",
    "plt.show()"
   ]
  },
  {
   "cell_type": "code",
   "execution_count": null,
   "metadata": {
    "collapsed": true
   },
   "outputs": [],
   "source": [
    "import seaborn as sns"
   ]
  },
  {
   "cell_type": "code",
   "execution_count": 61,
   "metadata": {
    "collapsed": false
   },
   "outputs": [
    {
     "data": {
      "text/plain": [
       "<seaborn.axisgrid.JointGrid at 0x1159d83d0>"
      ]
     },
     "execution_count": 61,
     "metadata": {},
     "output_type": "execute_result"
    },
    {
     "data": {
      "image/png": "[encoded data removed]",
      "text/plain": [
       "<matplotlib.figure.Figure at 0x1159d8350>"
      ]
     },
     "metadata": {},
     "output_type": "display_data"
    }
   ],
   "source": [
    "df_temp = pd.DataFrame({'author_entropy': ent, 'author_count': count})\n",
    "sns.jointplot('author_entropy', 'author_count', data = df_temp)"
   ]
  },
  {
   "cell_type": "code",
   "execution_count": null,
   "metadata": {
    "collapsed": true
   },
   "outputs": [],
   "source": []
  }
 ],
 "metadata": {
  "kernelspec": {
   "display_name": "Python 2",
   "language": "python",
   "name": "python2"
  },
  "language_info": {
   "codemirror_mode": {
    "name": "ipython",
    "version": 2
   },
   "file_extension": ".py",
   "mimetype": "text/x-python",
   "name": "python",
   "nbconvert_exporter": "python",
   "pygments_lexer": "ipython2",
   "version": "2.7.11"
  }
 },
 "nbformat": 4,
 "nbformat_minor": 0
}
