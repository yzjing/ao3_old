{
 "cells": [
  {
   "cell_type": "code",
   "execution_count": 2,
   "metadata": {
    "collapsed": false
   },
   "outputs": [],
   "source": [
    "import numpy as np\n",
    "import pandas as pd\n",
    "import re\n",
    "from collections import Counter\n",
    "from scipy import special\n",
    "# import matplotlib.pyplot as plt\n",
    "# %matplotlib inline \n",
    "import random\n",
    "import cProfile"
   ]
  },
  {
   "cell_type": "code",
   "execution_count": 5,
   "metadata": {
    "collapsed": false
   },
   "outputs": [],
   "source": [
    "data = pd.read_csv('../../data/sherlock_current_wtext.csv')"
   ]
  },
  {
   "cell_type": "code",
   "execution_count": 10,
   "metadata": {
    "collapsed": false
   },
   "outputs": [
    {
     "data": {
      "text/plain": [
       "array(['AdditionalTags', 'ArchiveWarnings', 'Author', 'Bookmarks',\n",
       "       'Category', 'ChapterIndex', 'Chapters', 'Characters', 'Comments',\n",
       "       'CompleteDate', 'Fandoms', 'Hits', 'Kudos', 'Language', 'Notes',\n",
       "       'PublishDate', 'Rating', 'Relationship', 'Summary', 'Text', 'Title',\n",
       "       'UpdateDate', 'Words'], dtype=object)"
      ]
     },
     "execution_count": 10,
     "metadata": {},
     "output_type": "execute_result"
    }
   ],
   "source": [
    "data.columns.values"
   ]
  },
  {
   "cell_type": "code",
   "execution_count": 6,
   "metadata": {
    "collapsed": false
   },
   "outputs": [],
   "source": [
    "def preprocess(df):\n",
    "    #pre-processing\n",
    "    #input: a slice of the original df\n",
    "    #output: a list of lists each containing cleaned words from a work\n",
    "    df = df.astype(str)\n",
    "    text = df[['Text']]\n",
    "    text = text.drop_duplicates().Text.str.lower().str.split()\n",
    "    text_cleaned = []\n",
    "    for line in text:\n",
    "        line = [re.sub(r'[^A-Za-z0-9]+', '', str(word)) for word in line]\n",
    "        line = [word for word in line if len(word) > 1 and not word.isdigit()]\n",
    "        text_cleaned.append(line)\n",
    "    return text_cleaned"
   ]
  },
  {
   "cell_type": "code",
   "execution_count": 7,
   "metadata": {
    "collapsed": true
   },
   "outputs": [],
   "source": [
    "def filter_length(text, word_limit):\n",
    "    return [line for line in text if len(line) > word_limit]"
   ]
  },
  {
   "cell_type": "code",
   "execution_count": 8,
   "metadata": {
    "collapsed": true
   },
   "outputs": [],
   "source": [
    "def filter_top_words(text, top_number):\n",
    "    corpus = [word for line in text for word in line]\n",
    "    c = Counter(corpus)\n",
    "    top = [i[0] for i in c.most_common(top_number)]\n",
    "    text_intop = []\n",
    "    for line in text:\n",
    "        line = [word for word in line if word in top]\n",
    "        text_intop.append(line)\n",
    "    return text_intop"
   ]
  },
  {
   "cell_type": "code",
   "execution_count": 9,
   "metadata": {
    "collapsed": false
   },
   "outputs": [],
   "source": [
    "def calculate_prob_matrix(text_list):\n",
    "    #vectorize the words and turn each work into a list of word frequences over the whole vocalburary.\n",
    "    #input: a list of list of words.\n",
    "    #output: np array.\n",
    "    vocabulary = list(set([word for text in text_list for word in text]))\n",
    "    text_prob_matrix = []\n",
    "    for text in text_list:\n",
    "        freq_list = []\n",
    "        c = Counter(text)\n",
    "        for word in vocabulary:\n",
    "            if word in text:\n",
    "                freq_list.append(c[word])\n",
    "            else:\n",
    "                freq_list.append(0)\n",
    "        s = float(sum(freq_list))\n",
    "        if s != 0:\n",
    "            text_prob = [freq/s for freq in freq_list]\n",
    "            text_prob_matrix.append(text_prob)\n",
    "    text_prob_matrix = np.asarray(text_prob_matrix)\n",
    "    return text_prob_matrix"
   ]
  },
  {
   "cell_type": "code",
   "execution_count": 11,
   "metadata": {
    "collapsed": false
   },
   "outputs": [],
   "source": [
    "def JSD(P, Q):\n",
    "    M = 0.5 * (P + Q)\n",
    "    return 0.5 * (sum(special.rel_entr(P, M)) + sum(special.rel_entr(Q, M)))"
   ]
  },
  {
   "cell_type": "code",
   "execution_count": 12,
   "metadata": {
    "collapsed": true
   },
   "outputs": [],
   "source": [
    "def calculate_monthly_jsd(matrix):\n",
    "    jsds = []\n",
    "    for i in range(matrix.shape[0]):\n",
    "        for j in range(i+1, matrix.shape[0]):\n",
    "            jsds.append(JSD(matrix[i], matrix[j]))\n",
    "    return jsds"
   ]
  },
  {
   "cell_type": "code",
   "execution_count": 13,
   "metadata": {
    "collapsed": false
   },
   "outputs": [],
   "source": [
    "def calculate_monthly_jsd_sampled(matrix):\n",
    "    jsds = []\n",
    "    l = matrix.shape[0]\n",
    "    for n in range(1000):\n",
    "        i = random.randrange(1, l)\n",
    "        j = random.randrange(1, l)\n",
    "        jsds.append(JSD(matrix[i], matrix[j]))\n",
    "    return jsds"
   ]
  },
  {
   "cell_type": "code",
   "execution_count": 14,
   "metadata": {
    "collapsed": false,
    "scrolled": true
   },
   "outputs": [],
   "source": [
    "def bootstrap_resample(jsd_list):\n",
    "    ave_original = np.average(jsd_list)\n",
    "    aves = []\n",
    "    for i in range(1000):\n",
    "        sample = []\n",
    "        for i in range(len(jsd_list)):\n",
    "            sample.append(random.choice(jsd_list))\n",
    "        aves.append(np.average(sample))\n",
    "    tail = sorted(aves)[24]\n",
    "    head = sorted(aves)[975]\n",
    "    return (ave_original, tail, head)"
   ]
  },
  {
   "cell_type": "code",
   "execution_count": 15,
   "metadata": {
    "collapsed": true
   },
   "outputs": [],
   "source": [
    "def create_df_time(df, time):\n",
    "    return df[df.PublishDate.str[:7] == time]"
   ]
  },
  {
   "cell_type": "code",
   "execution_count": 16,
   "metadata": {
    "collapsed": false
   },
   "outputs": [],
   "source": [
    "def calculate_overall_jsd():\n",
    "    jsds_timerange = []\n",
    "    work_count = []\n",
    "    for month in timelist:\n",
    "        df_ts = create_df_time(data, month)\n",
    "        text = preprocess(df_ts)\n",
    "        text = filter_length(text, 500)\n",
    "        work_count.append(len(text))\n",
    "        text = filter_top_words(text, 1000)\n",
    "        matrix = calculate_prob_matrix(text)\n",
    "        monthly_jsds = calculate_monthly_jsd(matrix)\n",
    "        monthly_ave_resampled_jsds = bootstrap_resample(monthly_jsds)\n",
    "        jsds_timerange.append(monthly_ave_resampled_jsds)\n",
    "        print \"Finished calculation for: \", month, 'jsd = ', monthly_ave_resampled_jsds#, 'number of work:', len(text)\n",
    "    return jsds_timerange, work_count\n"
   ]
  },
  {
   "cell_type": "code",
   "execution_count": 19,
   "metadata": {
    "collapsed": false
   },
   "outputs": [],
   "source": [
    "timelist = data.PublishDate.drop_duplicates().tolist()\n",
    "timelist = [str(i)[:7] for i in timelist]\n",
    "timelist = sorted(list(set(timelist)))[2:]"
   ]
  },
  {
   "cell_type": "code",
   "execution_count": null,
   "metadata": {
    "collapsed": false
   },
   "outputs": [],
   "source": [
    "jsd, workcount = calculate_overall_jsd()"
   ]
  },
  {
   "cell_type": "code",
   "execution_count": 33,
   "metadata": {
    "collapsed": false
   },
   "outputs": [
    {
     "data": {
      "image/png": "[encoded data removed]",
      "text/plain": [
       "<matplotlib.figure.Figure at 0x128cb1ad0>"
      ]
     },
     "metadata": {},
     "output_type": "display_data"
    }
   ],
   "source": [
    "y = [i[0] for i in jsd]\n",
    "x = range(len(y))\n",
    "\n",
    "# example error bar values that vary with x-position\n",
    "# error = 0.1 + 0.2 * x\n",
    "\n",
    "# error bar values w/ different -/+ errors\n",
    "lower_error = [i[0]-i[1] for i in jsd]\n",
    "upper_error = [i[2]-i[0] for i in jsd]\n",
    "asymmetric_error = [lower_error, upper_error]\n",
    "\n",
    "fig, ax = plt.subplots(figsize = (10, 7))\n",
    "\n",
    "ax.errorbar(x, y, yerr=asymmetric_error,marker='o')\n",
    "ax.set_title('Average pairwise jsd over time range')\n",
    "# ax.set_yscale('log')\n",
    "# ax.set_ylim([0.180, 0.225])\n",
    "plt.show()"
   ]
  },
  {
   "cell_type": "code",
   "execution_count": null,
   "metadata": {
    "collapsed": true
   },
   "outputs": [],
   "source": []
  }
 ],
 "metadata": {
  "kernelspec": {
   "display_name": "Python 2",
   "language": "python",
   "name": "python2"
  },
  "language_info": {
   "codemirror_mode": {
    "name": "ipython",
    "version": 2
   },
   "file_extension": ".py",
   "mimetype": "text/x-python",
   "name": "python",
   "nbconvert_exporter": "python",
   "pygments_lexer": "ipython2",
   "version": "2.7.11"
  }
 },
 "nbformat": 4,
 "nbformat_minor": 0
}
