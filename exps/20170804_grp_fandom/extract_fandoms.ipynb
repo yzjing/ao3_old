{
 "cells": [
  {
   "cell_type": "code",
   "execution_count": 1,
   "metadata": {
    "collapsed": true
   },
   "outputs": [],
   "source": [
    "import pandas as pd\n",
    "import os"
   ]
  },
  {
   "cell_type": "code",
   "execution_count": 2,
   "metadata": {
    "collapsed": true
   },
   "outputs": [],
   "source": [
    "data_path = '../../data/metadata/'"
   ]
  },
  {
   "cell_type": "code",
   "execution_count": 167,
   "metadata": {
    "collapsed": true
   },
   "outputs": [],
   "source": [
    "output_path = 'fandoms_rearranged'"
   ]
  },
  {
   "cell_type": "code",
   "execution_count": 210,
   "metadata": {
    "collapsed": true
   },
   "outputs": [],
   "source": [
    "files = os.listdir(data_path)"
   ]
  },
  {
   "cell_type": "code",
   "execution_count": 213,
   "metadata": {
    "collapsed": false
   },
   "outputs": [
    {
     "name": "stdout",
     "output_type": "stream",
     "text": [
      "<_io.TextIOWrapper name='../../data/metadata/actor_rpf_metadata.tsv' mode='r' encoding='UTF-8'>\n"
     ]
    }
   ],
   "source": [
    "for file in files:\n",
    "    with open (os.path.join(data_path, file), 'r') as f:\n",
    "        content = f.readlines()\n",
    "    content = [line.split('\\t') for line in content]\n",
    "\n",
    "    for i in range(1,len(content)):\n",
    "        for fandom in eval(content[i][10]):\n",
    "            fname = fandom.replace(' ', '_').replace('/', '_') + '.tsv'\n",
    "            if fname in os.listdir(output_path):\n",
    "                with open(os.path.join(output_path, fname), 'a') as g:\n",
    "                    g.write('\\t'.join([field for field in content[i]]))\n",
    "                    g.write('\\n')\n",
    "            else:\n",
    "                with open(os.path.join(output_path, fname), 'a') as g:\n",
    "                    g.write('\\t'.join([field for field in content[0]]))\n",
    "                    g.write('\\t'.join([field for field in content[i]]))\n",
    "                    g.write('\\n')"
   ]
  },
  {
   "cell_type": "code",
   "execution_count": 207,
   "metadata": {
    "collapsed": false
   },
   "outputs": [],
   "source": [
    "df2 = pd.read_csv(os.path.join(output_path, 'Numb3rs.tsv'), sep = '\\t')"
   ]
  },
  {
   "cell_type": "code",
   "execution_count": 208,
   "metadata": {
    "collapsed": false
   },
   "outputs": [
    {
     "data": {
      "text/plain": [
       "19"
      ]
     },
     "execution_count": 208,
     "metadata": {},
     "output_type": "execute_result"
    }
   ],
   "source": [
    "len(df2)"
   ]
  },
  {
   "cell_type": "code",
   "execution_count": 209,
   "metadata": {
    "collapsed": false
   },
   "outputs": [
    {
     "data": {
      "text/html": [
       "<div>\n",
       "<table border=\"1\" class=\"dataframe\">\n",
       "  <thead>\n",
       "    <tr style=\"text-align: right;\">\n",
       "      <th></th>\n",
       "      <th>AdditionalTags</th>\n",
       "      <th>ArchiveWarnings</th>\n",
       "      <th>Author</th>\n",
       "      <th>Bookmarks</th>\n",
       "      <th>Category</th>\n",
       "      <th>ChapterIndex</th>\n",
       "      <th>Chapters</th>\n",
       "      <th>Characters</th>\n",
       "      <th>Comments</th>\n",
       "      <th>CompleteDate</th>\n",
       "      <th>...</th>\n",
       "      <th>Language</th>\n",
       "      <th>Notes</th>\n",
       "      <th>PublishDate</th>\n",
       "      <th>Rating</th>\n",
       "      <th>Relationship</th>\n",
       "      <th>Summary</th>\n",
       "      <th>Title</th>\n",
       "      <th>URL</th>\n",
       "      <th>UpdateDate</th>\n",
       "      <th>Words</th>\n",
       "    </tr>\n",
       "  </thead>\n",
       "  <tbody>\n",
       "    <tr>\n",
       "      <th>0</th>\n",
       "      <td>SEVERE Abandonment, SEVERE Neglect, Characters...</td>\n",
       "      <td>No Archive Warnings Apply</td>\n",
       "      <td>SpencnerTibbsLuvr</td>\n",
       "      <td>1</td>\n",
       "      <td>M/MMulti</td>\n",
       "      <td>1.0</td>\n",
       "      <td>2</td>\n",
       "      <td>Brian O\\'Conner, Dominic Toretto, Jared Padale...</td>\n",
       "      <td>0</td>\n",
       "      <td>NaN</td>\n",
       "      <td>...</td>\n",
       "      <td>English</td>\n",
       "      <td>This is a Fast and the Furious AU that I\\'ve b...</td>\n",
       "      <td>2016-02-15</td>\n",
       "      <td>Teen And Up Audiences</td>\n",
       "      <td>Brian O\\'Conner/Dominic Toretto, Jared Padalec...</td>\n",
       "      <td>Abandoned after the first movie, he\\'s left to...</td>\n",
       "      <td>Like a Light in the Dark, You Save Me</td>\n",
       "      <td>http://archiveofourown.org/works/6021715/chapt...</td>\n",
       "      <td>2016-02-15</td>\n",
       "      <td>2315.0</td>\n",
       "    </tr>\n",
       "    <tr>\n",
       "      <th>1</th>\n",
       "      <td>SEVERE Abandonment, SEVERE Neglect, Characters...</td>\n",
       "      <td>No Archive Warnings Apply</td>\n",
       "      <td>SpencnerTibbsLuvr</td>\n",
       "      <td>1</td>\n",
       "      <td>M/MMulti</td>\n",
       "      <td>2.0</td>\n",
       "      <td>2</td>\n",
       "      <td>Brian O\\'Conner, Dominic Toretto, Jared Padale...</td>\n",
       "      <td>3</td>\n",
       "      <td>NaN</td>\n",
       "      <td>...</td>\n",
       "      <td>English</td>\n",
       "      <td>(See the end of the chapter for  not...</td>\n",
       "      <td>2016-02-15</td>\n",
       "      <td>Teen And Up Audiences</td>\n",
       "      <td>Brian O\\'Conner/Dominic Toretto, Jared Padalec...</td>\n",
       "      <td>Abandoned after the first movie, he\\'s left to...</td>\n",
       "      <td>Like a Light in the Dark, You Save Me</td>\n",
       "      <td>http://archiveofourown.org/works/6021715/chapt...</td>\n",
       "      <td>2016-02-15</td>\n",
       "      <td>2315.0</td>\n",
       "    </tr>\n",
       "    <tr>\n",
       "      <th>2</th>\n",
       "      <td>Alternate Universe - Ancient Greece &amp; Rome, Ab...</td>\n",
       "      <td>Creator Chose Not To Use Archive Warnings</td>\n",
       "      <td>Rubynye</td>\n",
       "      <td>0</td>\n",
       "      <td>F/FF/MGenM/MMulti</td>\n",
       "      <td>1.0</td>\n",
       "      <td>17</td>\n",
       "      <td>Elijah Wood, Sean Bean, Dominic Monaghan</td>\n",
       "      <td>0</td>\n",
       "      <td>NaN</td>\n",
       "      <td>...</td>\n",
       "      <td>English</td>\n",
       "      <td>This was meant for karadin\\'s Valentine\\'s Day...</td>\n",
       "      <td>2005-02-05</td>\n",
       "      <td>Mature</td>\n",
       "      <td>NaN</td>\n",
       "      <td>Unfinished stories in DC Comics, LOTRPS, NUMB3...</td>\n",
       "      <td>After the Symposium &amp;amp; Other Unfinished Sto...</td>\n",
       "      <td>http://archiveofourown.org/works/368491/chapte...</td>\n",
       "      <td>2012-01-28</td>\n",
       "      <td>21860.0</td>\n",
       "    </tr>\n",
       "    <tr>\n",
       "      <th>3</th>\n",
       "      <td>Alternate Universe - Ancient Greece &amp; Rome, Ab...</td>\n",
       "      <td>Creator Chose Not To Use Archive Warnings</td>\n",
       "      <td>Rubynye</td>\n",
       "      <td>0</td>\n",
       "      <td>F/FF/MGenM/MMulti</td>\n",
       "      <td>2.0</td>\n",
       "      <td>17</td>\n",
       "      <td>Elijah Wood, Sean Bean, Dominic Monaghan</td>\n",
       "      <td>0</td>\n",
       "      <td>NaN</td>\n",
       "      <td>...</td>\n",
       "      <td>English</td>\n",
       "      <td>NaN</td>\n",
       "      <td>2005-02-04</td>\n",
       "      <td>Mature</td>\n",
       "      <td>NaN</td>\n",
       "      <td>Unfinished stories in DC Comics, LOTRPS, NUMB3...</td>\n",
       "      <td>After the Symposium &amp;amp; Other Unfinished Sto...</td>\n",
       "      <td>http://archiveofourown.org/works/368491/chapte...</td>\n",
       "      <td>2012-01-28</td>\n",
       "      <td>21860.0</td>\n",
       "    </tr>\n",
       "    <tr>\n",
       "      <th>4</th>\n",
       "      <td>Alternate Universe - Ancient Greece &amp; Rome, Ab...</td>\n",
       "      <td>Creator Chose Not To Use Archive Warnings</td>\n",
       "      <td>Rubynye</td>\n",
       "      <td>0</td>\n",
       "      <td>F/FF/MGenM/MMulti</td>\n",
       "      <td>3.0</td>\n",
       "      <td>17</td>\n",
       "      <td>Elijah Wood, Sean Bean, Dominic Monaghan</td>\n",
       "      <td>0</td>\n",
       "      <td>NaN</td>\n",
       "      <td>...</td>\n",
       "      <td>English</td>\n",
       "      <td>NaN</td>\n",
       "      <td>2006-12-22</td>\n",
       "      <td>Mature</td>\n",
       "      <td>NaN</td>\n",
       "      <td>Unfinished stories in DC Comics, LOTRPS, NUMB3...</td>\n",
       "      <td>After the Symposium &amp;amp; Other Unfinished Sto...</td>\n",
       "      <td>http://archiveofourown.org/works/368491/chapte...</td>\n",
       "      <td>2012-01-28</td>\n",
       "      <td>21860.0</td>\n",
       "    </tr>\n",
       "  </tbody>\n",
       "</table>\n",
       "<p>5 rows × 23 columns</p>\n",
       "</div>"
      ],
      "text/plain": [
       "                                      AdditionalTags  \\\n",
       "0  SEVERE Abandonment, SEVERE Neglect, Characters...   \n",
       "1  SEVERE Abandonment, SEVERE Neglect, Characters...   \n",
       "2  Alternate Universe - Ancient Greece & Rome, Ab...   \n",
       "3  Alternate Universe - Ancient Greece & Rome, Ab...   \n",
       "4  Alternate Universe - Ancient Greece & Rome, Ab...   \n",
       "\n",
       "                             ArchiveWarnings             Author  Bookmarks  \\\n",
       "0                  No Archive Warnings Apply  SpencnerTibbsLuvr          1   \n",
       "1                  No Archive Warnings Apply  SpencnerTibbsLuvr          1   \n",
       "2  Creator Chose Not To Use Archive Warnings            Rubynye          0   \n",
       "3  Creator Chose Not To Use Archive Warnings            Rubynye          0   \n",
       "4  Creator Chose Not To Use Archive Warnings            Rubynye          0   \n",
       "\n",
       "            Category  ChapterIndex  Chapters  \\\n",
       "0           M/MMulti           1.0         2   \n",
       "1           M/MMulti           2.0         2   \n",
       "2  F/FF/MGenM/MMulti           1.0        17   \n",
       "3  F/FF/MGenM/MMulti           2.0        17   \n",
       "4  F/FF/MGenM/MMulti           3.0        17   \n",
       "\n",
       "                                          Characters  Comments  CompleteDate  \\\n",
       "0  Brian O\\'Conner, Dominic Toretto, Jared Padale...         0           NaN   \n",
       "1  Brian O\\'Conner, Dominic Toretto, Jared Padale...         3           NaN   \n",
       "2           Elijah Wood, Sean Bean, Dominic Monaghan         0           NaN   \n",
       "3           Elijah Wood, Sean Bean, Dominic Monaghan         0           NaN   \n",
       "4           Elijah Wood, Sean Bean, Dominic Monaghan         0           NaN   \n",
       "\n",
       "    ...    Language                                              Notes  \\\n",
       "0   ...     English  This is a Fast and the Furious AU that I\\'ve b...   \n",
       "1   ...     English            (See the end of the chapter for  not...   \n",
       "2   ...     English  This was meant for karadin\\'s Valentine\\'s Day...   \n",
       "3   ...     English                                                NaN   \n",
       "4   ...     English                                                NaN   \n",
       "\n",
       "   PublishDate                 Rating  \\\n",
       "0   2016-02-15  Teen And Up Audiences   \n",
       "1   2016-02-15  Teen And Up Audiences   \n",
       "2   2005-02-05                 Mature   \n",
       "3   2005-02-04                 Mature   \n",
       "4   2006-12-22                 Mature   \n",
       "\n",
       "                                        Relationship  \\\n",
       "0  Brian O\\'Conner/Dominic Toretto, Jared Padalec...   \n",
       "1  Brian O\\'Conner/Dominic Toretto, Jared Padalec...   \n",
       "2                                                NaN   \n",
       "3                                                NaN   \n",
       "4                                                NaN   \n",
       "\n",
       "                                             Summary  \\\n",
       "0  Abandoned after the first movie, he\\'s left to...   \n",
       "1  Abandoned after the first movie, he\\'s left to...   \n",
       "2  Unfinished stories in DC Comics, LOTRPS, NUMB3...   \n",
       "3  Unfinished stories in DC Comics, LOTRPS, NUMB3...   \n",
       "4  Unfinished stories in DC Comics, LOTRPS, NUMB3...   \n",
       "\n",
       "                                               Title  \\\n",
       "0              Like a Light in the Dark, You Save Me   \n",
       "1              Like a Light in the Dark, You Save Me   \n",
       "2  After the Symposium &amp; Other Unfinished Sto...   \n",
       "3  After the Symposium &amp; Other Unfinished Sto...   \n",
       "4  After the Symposium &amp; Other Unfinished Sto...   \n",
       "\n",
       "                                                 URL  UpdateDate    Words  \n",
       "0  http://archiveofourown.org/works/6021715/chapt...  2016-02-15   2315.0  \n",
       "1  http://archiveofourown.org/works/6021715/chapt...  2016-02-15   2315.0  \n",
       "2  http://archiveofourown.org/works/368491/chapte...  2012-01-28  21860.0  \n",
       "3  http://archiveofourown.org/works/368491/chapte...  2012-01-28  21860.0  \n",
       "4  http://archiveofourown.org/works/368491/chapte...  2012-01-28  21860.0  \n",
       "\n",
       "[5 rows x 23 columns]"
      ]
     },
     "execution_count": 209,
     "metadata": {},
     "output_type": "execute_result"
    }
   ],
   "source": [
    "df2.head()"
   ]
  },
  {
   "cell_type": "code",
   "execution_count": null,
   "metadata": {
    "collapsed": true
   },
   "outputs": [],
   "source": []
  }
 ],
 "metadata": {
  "kernelspec": {
   "display_name": "Python [python35]",
   "language": "python",
   "name": "Python [python35]"
  },
  "language_info": {
   "codemirror_mode": {
    "name": "ipython",
    "version": 3
   },
   "file_extension": ".py",
   "mimetype": "text/x-python",
   "name": "python",
   "nbconvert_exporter": "python",
   "pygments_lexer": "ipython3",
   "version": "3.5.2"
  }
 },
 "nbformat": 4,
 "nbformat_minor": 0
}
