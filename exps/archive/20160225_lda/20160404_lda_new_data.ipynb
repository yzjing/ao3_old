{
 "cells": [
  {
   "cell_type": "code",
   "execution_count": 1,
   "metadata": {
    "collapsed": true
   },
   "outputs": [],
   "source": [
    "import pandas as pd\n",
    "from gensim import corpora, models, similarities\n",
    "from nltk.corpus import stopwords\n",
    "import re\n",
    "import numpy as np\n",
    "from scipy import special\n",
    "import random\n",
    "# import matplotlib.pyplot as plt\n",
    "# %matplotlib inline "
   ]
  },
  {
   "cell_type": "code",
   "execution_count": 2,
   "metadata": {
    "collapsed": true
   },
   "outputs": [],
   "source": [
    "f = '../../data/sherlock_current_wtext.csv'"
   ]
  },
  {
   "cell_type": "code",
   "execution_count": 7,
   "metadata": {
    "collapsed": false
   },
   "outputs": [],
   "source": [
    "df = pd.read_csv(f)"
   ]
  },
  {
   "cell_type": "code",
   "execution_count": 3,
   "metadata": {
    "collapsed": true
   },
   "outputs": [],
   "source": [
    "def preprocess(df, st):\n",
    "    #pre-processing\n",
    "    #input: a slice of the original df\n",
    "    #output: a list of lists each containing cleaned words from a work\n",
    "    df = df.astype(str)\n",
    "    text = df[['Text']]\n",
    "    text = text.drop_duplicates().Text.str.lower().str.split()\n",
    "    text_cleaned = []\n",
    "    for line in text:\n",
    "        line = [re.sub(r'[^A-Za-z0-9]+', '', str(word)) for word in line]\n",
    "        line = [word for word in line if len(word) > 1 and not word.isdigit() and word not in st]\n",
    "        text_cleaned.append(line)\n",
    "    return text_cleaned"
   ]
  },
  {
   "cell_type": "code",
   "execution_count": 4,
   "metadata": {
    "collapsed": true
   },
   "outputs": [],
   "source": [
    "def filter_length(text, word_limit):\n",
    "    return [line for line in text if len(line) > word_limit]"
   ]
  },
  {
   "cell_type": "code",
   "execution_count": 5,
   "metadata": {
    "collapsed": true
   },
   "outputs": [],
   "source": [
    "def create_df_time(df, time):\n",
    "    return df[df.PublishDate.str[:7] == time]"
   ]
  },
  {
   "cell_type": "code",
   "execution_count": 6,
   "metadata": {
    "collapsed": true
   },
   "outputs": [],
   "source": [
    "def create_corpus(sentences):\n",
    "    id2word = corpora.dictionary.Dictionary(sentences)\n",
    "    corpus = [id2word.doc2bow(sentence) for sentence in sentences]\n",
    "    return id2word, corpus"
   ]
  },
  {
   "cell_type": "code",
   "execution_count": 10,
   "metadata": {
    "collapsed": true
   },
   "outputs": [],
   "source": [
    "timelist = df.PublishDate.drop_duplicates().tolist()\n",
    "timelist = [str(i)[:7] for i in timelist]\n",
    "timelist = sorted(list(set(timelist)))[2:]"
   ]
  },
  {
   "cell_type": "code",
   "execution_count": 14,
   "metadata": {
    "collapsed": false
   },
   "outputs": [],
   "source": [
    "st = [line.strip() for line in open('nltk_stopwords', 'r')]"
   ]
  },
  {
   "cell_type": "code",
   "execution_count": null,
   "metadata": {
    "collapsed": false
   },
   "outputs": [],
   "source": [
    "text = preprocess(df, st)\n",
    "text = filter_length(text, 500)\n",
    "id2word = corpora.dictionary.Dictionary(text)\n",
    "corpus = [id2word.doc2bow(t) for t in text]\n",
    "lda = models.LdaMulticore(corpus=corpus,id2word=id2word,num_topics=40)"
   ]
  },
  {
   "cell_type": "code",
   "execution_count": 19,
   "metadata": {
    "collapsed": false
   },
   "outputs": [],
   "source": [
    "for month in timelist:\n",
    "    df_ts = create_df_time(df,month)\n",
    "    text = preprocess(df_ts, st)\n",
    "    text = filter_length(text, 500)\n",
    "    with open('./lda_topic40_%s' %month, 'w') as g:\n",
    "        for i in range(len(text)):\n",
    "            g.write(str(lda.get_document_topics(id2word.doc2bow(text[i]), minimum_probability = 0)))\n",
    "            g.write('\\n')"
   ]
  },
  {
   "cell_type": "code",
   "execution_count": 20,
   "metadata": {
    "collapsed": true
   },
   "outputs": [],
   "source": [
    "def is_number(s):\n",
    "    try:\n",
    "        float(s)\n",
    "        return True\n",
    "    except ValueError:\n",
    "        return False"
   ]
  },
  {
   "cell_type": "code",
   "execution_count": 21,
   "metadata": {
    "collapsed": true
   },
   "outputs": [],
   "source": [
    "def read_gamma(month):\n",
    "    with open('lda_results/topic40/lda_topic40_%s' %month, 'r') as f:\n",
    "        gamma = f.readlines()\n",
    "        for i in range(len(gamma)):\n",
    "            gamma[i] = gamma[i].replace(')','').replace(']','').strip()\n",
    "            gamma[i] = [float(v.strip()) for v in gamma[i].split(',') if is_number(v.strip())]\n",
    "    return np.asarray(gamma)"
   ]
  },
  {
   "cell_type": "code",
   "execution_count": 22,
   "metadata": {
    "collapsed": false
   },
   "outputs": [],
   "source": [
    "gamma = read_gamma('2010-08')"
   ]
  },
  {
   "cell_type": "code",
   "execution_count": 23,
   "metadata": {
    "collapsed": false
   },
   "outputs": [
    {
     "name": "stdout",
     "output_type": "stream",
     "text": [
      "[  2.77531083e-06   2.77531083e-06   2.77531083e-06   1.06955891e-01\n",
      "   2.77531083e-06   2.77531083e-06   1.12870451e-02   2.23981754e-01\n",
      "   1.29678382e-01   2.77531083e-06   2.77531083e-06   2.46551280e-02\n",
      "   2.77531083e-06   2.77531083e-06   6.81910912e-03   1.11158428e-02\n",
      "   9.19606420e-04   1.15703183e-02   2.77531083e-06   2.77531083e-06\n",
      "   2.77531083e-06   2.77531083e-06   2.77531083e-06   2.77531083e-06\n",
      "   2.77531083e-06   2.77531083e-06   2.77531083e-06   4.63504927e-01\n",
      "   2.77531083e-06   8.14956840e-04   2.77531083e-06   2.77531083e-06\n",
      "   2.77531083e-06   2.77531083e-06   2.77531083e-06   8.28394230e-03\n",
      "   2.77531083e-06   3.38164147e-04   2.77531083e-06   2.77531083e-06]\n"
     ]
    }
   ],
   "source": [
    "print gamma[0]"
   ]
  },
  {
   "cell_type": "code",
   "execution_count": 24,
   "metadata": {
    "collapsed": true
   },
   "outputs": [],
   "source": [
    "def JSD(P, Q):\n",
    "    M = 0.5 * (P + Q)\n",
    "    return 0.5 * (sum(special.rel_entr(P, M)) + sum(special.rel_entr(Q, M)))"
   ]
  },
  {
   "cell_type": "code",
   "execution_count": 25,
   "metadata": {
    "collapsed": true
   },
   "outputs": [],
   "source": [
    "def calculate_monthly_jsd(matrix):\n",
    "    jsds = []\n",
    "    for i in range(matrix.shape[0]):\n",
    "        for j in range(i+1, matrix.shape[0]):\n",
    "            jsds.append(JSD(matrix[i], matrix[j]))\n",
    "    return jsds"
   ]
  },
  {
   "cell_type": "code",
   "execution_count": 26,
   "metadata": {
    "collapsed": true
   },
   "outputs": [],
   "source": [
    "def bootstrap_resample(jsd_list):\n",
    "    ave_original = np.average(jsd_list)\n",
    "    aves = []\n",
    "    for i in range(1000):\n",
    "        sample = []\n",
    "        for i in range(len(jsd_list)):\n",
    "            sample.append(random.choice(jsd_list))\n",
    "        aves.append(np.average(sample))\n",
    "    tail = sorted(aves)[24]\n",
    "    head = sorted(aves)[975]\n",
    "    return (ave_original, tail, head)"
   ]
  },
  {
   "cell_type": "code",
   "execution_count": 27,
   "metadata": {
    "collapsed": false
   },
   "outputs": [],
   "source": [
    "jsds_timerange = []\n",
    "for month in timelist:\n",
    "    gamma = read_gamma(month)\n",
    "    monthly_jsds = calculate_monthly_jsd(gamma)\n",
    "    monthly_ave_resampled_jsds = bootstrap_resample(monthly_jsds)\n",
    "    jsds_timerange.append(monthly_ave_resampled_jsds)\n"
   ]
  },
  {
   "cell_type": "code",
   "execution_count": 6,
   "metadata": {
    "collapsed": false
   },
   "outputs": [
    {
     "data": {
      "image/png": "[encoded data removed]",
      "text/plain": [
       "<matplotlib.figure.Figure at 0x104470310>"
      ]
     },
     "metadata": {},
     "output_type": "display_data"
    }
   ],
   "source": [
    "y = [i[0] for i in jsds_timerange]\n",
    "x = range(len(y))\n",
    "\n",
    "# example error bar values that vary with x-position\n",
    "# error = 0.1 + 0.2 * x\n",
    "\n",
    "# error bar values w/ different -/+ errors\n",
    "lower_error = [i[0]-i[1] for i in jsds_timerange]\n",
    "upper_error = [i[2]-i[0] for i in jsds_timerange]\n",
    "asymmetric_error = [lower_error, upper_error]\n",
    "\n",
    "fig, ax = plt.subplots(figsize = (10, 7))\n",
    "\n",
    "ax.errorbar(x, y, yerr=asymmetric_error,marker='o')\n",
    "ax.set_title('Average pairwise jsd of topic disribution over time range (40 topics)')\n",
    "# ax.set_yscale('log')\n",
    "# ax.set_ylim([0.180, 0.225])\n",
    "plt.grid()\n",
    "plt.show()\n"
   ]
  },
  {
   "cell_type": "code",
   "execution_count": null,
   "metadata": {
    "collapsed": true
   },
   "outputs": [],
   "source": []
  }
 ],
 "metadata": {
  "kernelspec": {
   "display_name": "Python 2",
   "language": "python",
   "name": "python2"
  },
  "language_info": {
   "codemirror_mode": {
    "name": "ipython",
    "version": 2
   },
   "file_extension": ".py",
   "mimetype": "text/x-python",
   "name": "python",
   "nbconvert_exporter": "python",
   "pygments_lexer": "ipython2",
   "version": "2.7.11"
  }
 },
 "nbformat": 4,
 "nbformat_minor": 0
}
