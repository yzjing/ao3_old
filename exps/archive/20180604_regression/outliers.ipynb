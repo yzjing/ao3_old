{
 "cells": [
  {
   "cell_type": "code",
   "execution_count": 1,
   "metadata": {},
   "outputs": [],
   "source": [
    "import pandas as pd\n",
    "import os\n",
    "import matplotlib.pyplot as plt\n",
    "%matplotlib inline\n",
    "import numpy as np\n",
    "from datetime import date\n",
    "import seaborn as sns\n",
    "from statsmodels.formula.api import ols\n",
    "import statsmodels.api as sm\n"
   ]
  },
  {
   "cell_type": "markdown",
   "metadata": {},
   "source": [
    "### Create regression data"
   ]
  },
  {
   "cell_type": "code",
   "execution_count": 2,
   "metadata": {},
   "outputs": [],
   "source": [
    "tfidf_path = '../../data/tfidf_toprev_conlen_full_v2/'"
   ]
  },
  {
   "cell_type": "code",
   "execution_count": 3,
   "metadata": {},
   "outputs": [],
   "source": [
    "lda_path = '../../data/lda_jsd_toprev_conlen/'"
   ]
  },
  {
   "cell_type": "code",
   "execution_count": 4,
   "metadata": {},
   "outputs": [],
   "source": [
    "tag_path = '../../data/tag_novelty_full/'"
   ]
  },
  {
   "cell_type": "code",
   "execution_count": 5,
   "metadata": {},
   "outputs": [],
   "source": [
    "fandom_list = ['harry_potter',\n",
    " 'dcu',\n",
    " 'doctor_who_&_related_fandoms',\n",
    " 'star_wars_all_media_types',\n",
    " 'arthurian_mythology_&_related_fandoms',\n",
    " 'supernatural',\n",
    " 'haikyuu',\n",
    " 'kuroko_no_basuke',\n",
    " 'hamilton_miranda',\n",
    " 'dragon_age_all_media_types',\n",
    " 'the_walking_dead_&_related_fandoms',\n",
    " 'buffy_the_vampire_slayer',\n",
    " 'les_miserables_all_media_types',\n",
    " 'naruto',\n",
    " 'tolkien_j_r_r_works_&_related_fandoms',\n",
    " 'shakespare_william_works',\n",
    " 'hetalia_axis_powers',\n",
    " 'attack_on_titan',\n",
    " 'ms_paint_adventures',\n",
    " 'marvel',\n",
    " 'bishoujo_senshi_sailor_moon',\n",
    " 'one_direction',\n",
    " 'sherlock_holmes_&_related_fandoms']"
   ]
  },
  {
   "cell_type": "code",
   "execution_count": 6,
   "metadata": {},
   "outputs": [],
   "source": [
    "df_all = []\n",
    "for i,fandom in enumerate(fandom_list):\n",
    "    df_tfidf = pd.read_csv(os.path.join(tfidf_path,fandom + '_temporal_tfidf_cos_toprev_conlen.tsv'), sep = '\\t')\n",
    "    del df_tfidf['index']\n",
    "    df_lda = pd.read_csv(os.path.join(lda_path,fandom + '_temporal_lda_jsd_toprev_full.tsv'), sep = '\\t')\n",
    "    del df_lda['index']\n",
    "    df = pd.merge(df_tfidf, df_lda, on=['AdditionalTags', 'ArchiveWarnings', 'Author', 'Bookmarks', 'Category',\\\n",
    " 'ChapterIndex', 'Chapters' ,'Characters','Comments' ,'CompleteDate',\\\n",
    " 'Fandoms', 'Hits' ,'Kudos', 'Language', 'Notes' ,'PublishDate' ,'Rating',\\\n",
    " 'Relationship' ,'Summary' ,'Title' ,'URL' ,'UpdateDate' ,'Words'], how='inner')\n",
    "\n",
    "    \n",
    "    df['fandom_category'] = fandom\n",
    "    \n",
    "    df['Kudos'] = df['Kudos']/df['Chapters']\n",
    "#     df['Kudos'] = np.log(df['Kudos'])\n",
    "    df['Hits'] = df['Hits']/df['Chapters']\n",
    "#     df['Hits'] = np.log(df['Hits'])\n",
    "#     df['Comments'] = np.log(df['Comments'])\n",
    "    df['Bookmarks'] = df['Bookmarks']/df['Chapters']\n",
    "#     df['Bookmarks'] = np.log(df['Bookmarks'])\n",
    "\n",
    "#     df = df.dropna(subset=['Kudos'])\n",
    "#     df = df[np.isfinite(df['Kudos'])]\n",
    "#     df['Kudos'] = (df['Kudos'] - df['Kudos'].mean())/df['Kudos'].std(ddof=0)\n",
    "\n",
    "    df_all.append(df)"
   ]
  },
  {
   "cell_type": "code",
   "execution_count": 7,
   "metadata": {},
   "outputs": [],
   "source": [
    "df = pd.concat(df_all)"
   ]
  },
  {
   "cell_type": "code",
   "execution_count": 8,
   "metadata": {},
   "outputs": [
    {
     "data": {
      "text/plain": [
       "array(['AdditionalTags', 'ArchiveWarnings', 'Author', 'Bookmarks',\n",
       "       'Category', 'ChapterIndex', 'Chapters', 'Characters', 'Comments',\n",
       "       'CompleteDate', 'Fandoms', 'Hits', 'Kudos', 'Language', 'Notes',\n",
       "       'PublishDate', 'Rating', 'Relationship', 'Summary', 'Title', 'URL',\n",
       "       'UpdateDate', 'Words', 'Cos', 'JSD', 'fandom_category'],\n",
       "      dtype=object)"
      ]
     },
     "execution_count": 8,
     "metadata": {},
     "output_type": "execute_result"
    }
   ],
   "source": [
    "df.columns.values"
   ]
  },
  {
   "cell_type": "code",
   "execution_count": 21,
   "metadata": {},
   "outputs": [],
   "source": [
    "df = df.replace([np.inf, -np.inf], np.nan)\n",
    "df = df.dropna(subset=['Kudos'])"
   ]
  },
  {
   "cell_type": "code",
   "execution_count": 10,
   "metadata": {},
   "outputs": [
    {
     "data": {
      "text/plain": [
       "331416.5"
      ]
     },
     "execution_count": 10,
     "metadata": {},
     "output_type": "execute_result"
    }
   ],
   "source": [
    "len(df)/2+20"
   ]
  },
  {
   "cell_type": "code",
   "execution_count": null,
   "metadata": {},
   "outputs": [],
   "source": []
  },
  {
   "cell_type": "code",
   "execution_count": 30,
   "metadata": {},
   "outputs": [],
   "source": [
    "df = df.sort_values(by = 'Kudos',ascending=False)"
   ]
  },
  {
   "cell_type": "code",
   "execution_count": 31,
   "metadata": {},
   "outputs": [
    {
     "data": {
      "text/html": [
       "<div>\n",
       "<style scoped>\n",
       "    .dataframe tbody tr th:only-of-type {\n",
       "        vertical-align: middle;\n",
       "    }\n",
       "\n",
       "    .dataframe tbody tr th {\n",
       "        vertical-align: top;\n",
       "    }\n",
       "\n",
       "    .dataframe thead th {\n",
       "        text-align: right;\n",
       "    }\n",
       "</style>\n",
       "<table border=\"1\" class=\"dataframe\">\n",
       "  <thead>\n",
       "    <tr style=\"text-align: right;\">\n",
       "      <th></th>\n",
       "      <th>Cos</th>\n",
       "      <th>JSD</th>\n",
       "      <th>Kudos</th>\n",
       "    </tr>\n",
       "  </thead>\n",
       "  <tbody>\n",
       "    <tr>\n",
       "      <th>56038</th>\n",
       "      <td>0.976833</td>\n",
       "      <td>0.660560</td>\n",
       "      <td>37505.0</td>\n",
       "    </tr>\n",
       "    <tr>\n",
       "      <th>41655</th>\n",
       "      <td>0.810185</td>\n",
       "      <td>0.653253</td>\n",
       "      <td>11314.0</td>\n",
       "    </tr>\n",
       "    <tr>\n",
       "      <th>6279</th>\n",
       "      <td>0.124267</td>\n",
       "      <td>0.516646</td>\n",
       "      <td>3628.0</td>\n",
       "    </tr>\n",
       "    <tr>\n",
       "      <th>2644</th>\n",
       "      <td>0.866125</td>\n",
       "      <td>0.611018</td>\n",
       "      <td>3552.0</td>\n",
       "    </tr>\n",
       "    <tr>\n",
       "      <th>1607</th>\n",
       "      <td>0.169016</td>\n",
       "      <td>0.641462</td>\n",
       "      <td>3550.0</td>\n",
       "    </tr>\n",
       "    <tr>\n",
       "      <th>7032</th>\n",
       "      <td>0.420779</td>\n",
       "      <td>0.619783</td>\n",
       "      <td>3330.0</td>\n",
       "    </tr>\n",
       "    <tr>\n",
       "      <th>2759</th>\n",
       "      <td>0.217078</td>\n",
       "      <td>0.619319</td>\n",
       "      <td>3113.0</td>\n",
       "    </tr>\n",
       "    <tr>\n",
       "      <th>9360</th>\n",
       "      <td>0.600658</td>\n",
       "      <td>0.616421</td>\n",
       "      <td>3010.0</td>\n",
       "    </tr>\n",
       "    <tr>\n",
       "      <th>54855</th>\n",
       "      <td>0.459984</td>\n",
       "      <td>0.508002</td>\n",
       "      <td>2917.0</td>\n",
       "    </tr>\n",
       "    <tr>\n",
       "      <th>5795</th>\n",
       "      <td>0.822539</td>\n",
       "      <td>0.637799</td>\n",
       "      <td>2884.0</td>\n",
       "    </tr>\n",
       "    <tr>\n",
       "      <th>5625</th>\n",
       "      <td>0.235776</td>\n",
       "      <td>0.639815</td>\n",
       "      <td>2825.0</td>\n",
       "    </tr>\n",
       "    <tr>\n",
       "      <th>22892</th>\n",
       "      <td>0.943042</td>\n",
       "      <td>0.614856</td>\n",
       "      <td>2788.0</td>\n",
       "    </tr>\n",
       "    <tr>\n",
       "      <th>891</th>\n",
       "      <td>0.636545</td>\n",
       "      <td>0.674157</td>\n",
       "      <td>2653.0</td>\n",
       "    </tr>\n",
       "    <tr>\n",
       "      <th>42497</th>\n",
       "      <td>0.912392</td>\n",
       "      <td>0.505016</td>\n",
       "      <td>2600.0</td>\n",
       "    </tr>\n",
       "    <tr>\n",
       "      <th>63976</th>\n",
       "      <td>0.906563</td>\n",
       "      <td>0.566457</td>\n",
       "      <td>2582.0</td>\n",
       "    </tr>\n",
       "    <tr>\n",
       "      <th>54960</th>\n",
       "      <td>0.918041</td>\n",
       "      <td>0.571139</td>\n",
       "      <td>2577.0</td>\n",
       "    </tr>\n",
       "    <tr>\n",
       "      <th>5180</th>\n",
       "      <td>0.224338</td>\n",
       "      <td>0.555590</td>\n",
       "      <td>2529.0</td>\n",
       "    </tr>\n",
       "    <tr>\n",
       "      <th>1416</th>\n",
       "      <td>0.376580</td>\n",
       "      <td>0.471547</td>\n",
       "      <td>2482.0</td>\n",
       "    </tr>\n",
       "    <tr>\n",
       "      <th>7579</th>\n",
       "      <td>0.888180</td>\n",
       "      <td>0.532142</td>\n",
       "      <td>2465.0</td>\n",
       "    </tr>\n",
       "    <tr>\n",
       "      <th>3170</th>\n",
       "      <td>0.881354</td>\n",
       "      <td>0.410283</td>\n",
       "      <td>2445.0</td>\n",
       "    </tr>\n",
       "  </tbody>\n",
       "</table>\n",
       "</div>"
      ],
      "text/plain": [
       "            Cos       JSD    Kudos\n",
       "56038  0.976833  0.660560  37505.0\n",
       "41655  0.810185  0.653253  11314.0\n",
       "6279   0.124267  0.516646   3628.0\n",
       "2644   0.866125  0.611018   3552.0\n",
       "1607   0.169016  0.641462   3550.0\n",
       "7032   0.420779  0.619783   3330.0\n",
       "2759   0.217078  0.619319   3113.0\n",
       "9360   0.600658  0.616421   3010.0\n",
       "54855  0.459984  0.508002   2917.0\n",
       "5795   0.822539  0.637799   2884.0\n",
       "5625   0.235776  0.639815   2825.0\n",
       "22892  0.943042  0.614856   2788.0\n",
       "891    0.636545  0.674157   2653.0\n",
       "42497  0.912392  0.505016   2600.0\n",
       "63976  0.906563  0.566457   2582.0\n",
       "54960  0.918041  0.571139   2577.0\n",
       "5180   0.224338  0.555590   2529.0\n",
       "1416   0.376580  0.471547   2482.0\n",
       "7579   0.888180  0.532142   2465.0\n",
       "3170   0.881354  0.410283   2445.0"
      ]
     },
     "execution_count": 31,
     "metadata": {},
     "output_type": "execute_result"
    }
   ],
   "source": [
    "df.head(20)[['Cos', 'JSD', 'Kudos']]"
   ]
  },
  {
   "cell_type": "code",
   "execution_count": 32,
   "metadata": {},
   "outputs": [
    {
     "name": "stdout",
     "output_type": "stream",
     "text": [
      "http://archiveofourown.org/works/2080878?view_adult=true\n",
      "http://archiveofourown.org/works/1488142\n",
      "http://archiveofourown.org/works/963587\n",
      "http://archiveofourown.org/works/471683\n",
      "http://archiveofourown.org/works/3537851\n",
      "http://archiveofourown.org/works/428364?view_adult=true\n",
      "http://archiveofourown.org/works/315840\n",
      "http://archiveofourown.org/works/482474\n",
      "http://archiveofourown.org/works/2164839\n",
      "http://archiveofourown.org/works/443175\n",
      "http://archiveofourown.org/works/5458250\n",
      "http://archiveofourown.org/works/813351\n",
      "http://archiveofourown.org/works/158751\n",
      "http://archiveofourown.org/works/1414648\n",
      "http://archiveofourown.org/works/2685881\n",
      "http://archiveofourown.org/works/2223126\n",
      "http://archiveofourown.org/works/379253?view_adult=true\n",
      "http://archiveofourown.org/works/67652?view_adult=true\n",
      "http://archiveofourown.org/works/455530\n",
      "http://archiveofourown.org/works/345733\n",
      "http://archiveofourown.org/works/443067\n",
      "http://archiveofourown.org/works/465760\n",
      "http://archiveofourown.org/works/3831403?view_adult=true\n",
      "http://archiveofourown.org/works/3491189\n",
      "http://archiveofourown.org/works/460800\n",
      "http://archiveofourown.org/works/151700\n",
      "http://archiveofourown.org/works/1040575\n",
      "http://archiveofourown.org/works/1539131?view_adult=true\n",
      "http://archiveofourown.org/works/556155\n",
      "http://archiveofourown.org/works/215867\n",
      "http://archiveofourown.org/works/540378?view_adult=true\n",
      "http://archiveofourown.org/works/5456435?view_adult=true\n",
      "http://archiveofourown.org/works/2376395\n",
      "http://archiveofourown.org/works/2251638\n",
      "http://archiveofourown.org/works/2349674\n",
      "http://archiveofourown.org/works/312063\n",
      "http://archiveofourown.org/works/5477324\n",
      "http://archiveofourown.org/works/3126614\n",
      "http://archiveofourown.org/works/769859\n",
      "http://archiveofourown.org/works/471953?view_adult=true\n",
      "http://archiveofourown.org/works/400257\n",
      "http://archiveofourown.org/works/2088606\n",
      "http://archiveofourown.org/works/611229\n",
      "http://archiveofourown.org/works/3726403\n",
      "http://archiveofourown.org/works/4724681?view_adult=true\n",
      "http://archiveofourown.org/works/4523271\n",
      "http://archiveofourown.org/works/1153492\n",
      "http://archiveofourown.org/works/2419868\n",
      "http://archiveofourown.org/works/2532101\n",
      "http://archiveofourown.org/works/596943\n"
     ]
    }
   ],
   "source": [
    "for item in df.head(50).URL.tolist():\n",
    "    print(item)"
   ]
  },
  {
   "cell_type": "code",
   "execution_count": null,
   "metadata": {},
   "outputs": [],
   "source": []
  }
 ],
 "metadata": {
  "kernelspec": {
   "display_name": "Python 3",
   "language": "python",
   "name": "python3"
  },
  "language_info": {
   "codemirror_mode": {
    "name": "ipython",
    "version": 3
   },
   "file_extension": ".py",
   "mimetype": "text/x-python",
   "name": "python",
   "nbconvert_exporter": "python",
   "pygments_lexer": "ipython3",
   "version": "3.7.7"
  }
 },
 "nbformat": 4,
 "nbformat_minor": 2
}
