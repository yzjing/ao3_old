{
 "cells": [
  {
   "cell_type": "code",
   "execution_count": 1,
   "metadata": {},
   "outputs": [],
   "source": [
    "import pandas as pd\n",
    "import os\n",
    "import matplotlib.pyplot as plt\n",
    "%matplotlib inline\n",
    "import numpy as np\n",
    "import seaborn as sns\n",
    "from statsmodels.formula.api import ols\n",
    "import statsmodels.api as sm\n",
    "from sklearn.linear_model import LogisticRegression"
   ]
  },
  {
   "cell_type": "code",
   "execution_count": 2,
   "metadata": {},
   "outputs": [],
   "source": [
    "df_all = pd.read_csv('fanfic_regression_data_curated_robcheck.tsv', sep = '\\t')"
   ]
  },
  {
   "cell_type": "code",
   "execution_count": 3,
   "metadata": {},
   "outputs": [
    {
     "data": {
      "text/plain": [
       "662728"
      ]
     },
     "execution_count": 3,
     "metadata": {},
     "output_type": "execute_result"
    }
   ],
   "source": [
    "len(df_all)"
   ]
  },
  {
   "cell_type": "code",
   "execution_count": 4,
   "metadata": {},
   "outputs": [],
   "source": [
    "df_all['ChapterIndex'].fillna(0, inplace=True)"
   ]
  },
  {
   "cell_type": "code",
   "execution_count": 5,
   "metadata": {},
   "outputs": [
    {
     "data": {
      "text/plain": [
       "0    0.888159\n",
       "1    0.353749\n",
       "2    0.855796\n",
       "3    0.706213\n",
       "4    0.732386\n",
       "Name: Term_novelty, dtype: float64"
      ]
     },
     "execution_count": 5,
     "metadata": {},
     "output_type": "execute_result"
    }
   ],
   "source": [
    "df_all['Term_novelty'].head()"
   ]
  },
  {
   "cell_type": "code",
   "execution_count": 6,
   "metadata": {},
   "outputs": [],
   "source": [
    "df_all = df_all.replace([np.inf, -np.inf], np.nan)\n",
    "df_all = df_all.fillna(0)\n",
    "term_ave = np.average(df_all['Term_novelty'])\n",
    "topic_ave = np.average(df_all['Topic_novelty'])\n",
    "df_all['Term_novelty'] = df_all['Term_novelty'] - term_ave\n",
    "df_all['Topic_novelty'] = df_all['Topic_novelty'] - topic_ave\n",
    "df_all['Term_novelty_squared'] = np.square(df_all['Term_novelty'])\n",
    "df_all['Topic_novelty_squared'] = np.square(df_all['Topic_novelty'])"
   ]
  },
  {
   "cell_type": "code",
   "execution_count": 7,
   "metadata": {},
   "outputs": [
    {
     "data": {
      "text/plain": [
       "662728"
      ]
     },
     "execution_count": 7,
     "metadata": {},
     "output_type": "execute_result"
    }
   ],
   "source": [
    "len(df_all)"
   ]
  },
  {
   "cell_type": "code",
   "execution_count": 8,
   "metadata": {},
   "outputs": [],
   "source": [
    "# from statsmodels.stats.outliers_influence import variance_inflation_factor\n"
   ]
  },
  {
   "cell_type": "code",
   "execution_count": 9,
   "metadata": {},
   "outputs": [],
   "source": [
    "# df_all = df_all.replace([np.inf, -np.inf], np.nan)\n",
    "# df_all = df_all.dropna(how = 'any')"
   ]
  },
  {
   "cell_type": "code",
   "execution_count": 10,
   "metadata": {},
   "outputs": [],
   "source": [
    "# df_all = df_all[['Chapters',\\\n",
    "#         'Term_novelty', 'Term_novelty_squared', 'Topic_novelty', 'Topic_novelty_squared',\\\n",
    "#         'Freq_relationship', 'Category_F_M',\\\n",
    "#        'Category_Gen', 'Category_M_M', 'Category_Multi', 'Category_Other','Category_Unknown', \\\n",
    "#        'ArchiveWarnings_underage', 'ArchiveWarnings_death',\\\n",
    "#        'ArchiveWarnings_choose_no', 'ArchiveWarnings_no_apply',\\\n",
    "#        'ArchiveWarnings_violence','ArchiveWarnings_noncon',\\\n",
    "#        'author_fic_cnt', 'Rating_G',\\\n",
    "#        'Rating_M', 'Rating_N', 'Rating_T',\\\n",
    "#        'Fandom_dcu', 'Fandom_doctor_who', 'Fandom_star_wars',\n",
    "#        'Fandom_arthurian', 'Fandom_supernatural', 'Fandom_haikyuu',\n",
    "#        'Fandom_kuroko_no_basuke', 'Fandom_hamilton_miranda',\n",
    "#        'Fandom_dragon_age', 'Fandom_the_walking_dead', 'Fandom_buffy',\n",
    "#        'Fandom_les_miserables', 'Fandom_naruto', 'Fandom_tolkien',\n",
    "#        'Fandom_shakespare', 'Fandom_hetalia', 'Fandom_attack_on_titan',\n",
    "#        'Fandom_ms_paint_adventures', 'Fandom_marvel',\n",
    "#        'Fandom_sailor_moon', 'Fandom_one_direction', 'Fandom_sherlock',\n",
    "#        'History']]"
   ]
  },
  {
   "cell_type": "code",
   "execution_count": 11,
   "metadata": {
    "scrolled": true
   },
   "outputs": [],
   "source": [
    "# for i in range(len(df_all.columns.values)):\n",
    "#     print(df_all.columns.values[i], variance_inflation_factor(df_all.values, i))"
   ]
  },
  {
   "cell_type": "markdown",
   "metadata": {},
   "source": [
    "### Logistic"
   ]
  },
  {
   "cell_type": "code",
   "execution_count": 12,
   "metadata": {},
   "outputs": [],
   "source": [
    "def run_logit(df, field):\n",
    "    df['Intercept'] = 1.0\n",
    "    df['binary'] = df[field].apply(lambda x: 1 if x != 0.0 else 0)\n",
    "    logit_model = sm.Logit(df['binary'], df[['Chapters',\\\n",
    "        'Term_novelty', 'Term_novelty_squared', 'Topic_novelty', 'Topic_novelty_squared',\\\n",
    "        'Freq_relationship', 'Category_F_M',\\\n",
    "       'Category_Gen', 'Category_M_M', 'Category_Multi', 'Category_Other','Category_Unknown', \\\n",
    "       'ArchiveWarnings_underage', 'ArchiveWarnings_death',\\\n",
    "       'ArchiveWarnings_choose_no', 'ArchiveWarnings_noncon',\\\n",
    "       'ArchiveWarnings_violence',\\\n",
    "       'author_fic_cnt', 'Rating_G',\\\n",
    "       'Rating_M', 'Rating_N', 'Rating_T',\\\n",
    "       'Fandom_dcu', 'Fandom_doctor_who', 'Fandom_star_wars',\n",
    "       'Fandom_arthurian', 'Fandom_supernatural', 'Fandom_haikyuu',\n",
    "       'Fandom_kuroko_no_basuke', 'Fandom_hamilton_miranda',\n",
    "       'Fandom_dragon_age', 'Fandom_the_walking_dead', 'Fandom_buffy',\n",
    "       'Fandom_les_miserables', 'Fandom_naruto', 'Fandom_tolkien',\n",
    "       'Fandom_shakespare', 'Fandom_hetalia', 'Fandom_attack_on_titan',\n",
    "       'Fandom_ms_paint_adventures', 'Fandom_marvel',\n",
    "       'Fandom_sailor_moon', 'Fandom_one_direction', 'Fandom_sherlock',\n",
    "        'Intercept']]).fit(method='bfgs')\n",
    "    pred = logit_model.predict()\n",
    "    df['nonzero_prob'] = pred\n",
    "    return df"
   ]
  },
  {
   "cell_type": "markdown",
   "metadata": {},
   "source": [
    "### OLS"
   ]
  },
  {
   "cell_type": "code",
   "execution_count": 13,
   "metadata": {},
   "outputs": [],
   "source": [
    "def run_ols(df, field):\n",
    "    df = run_logit(df, field)\n",
    "    df = df[df[field] != 0]\n",
    "    print(len(df))\n",
    "    df['Kudos'] = np.log(df['Kudos'])\n",
    "    df['Hits'] = np.log(df['Hits'])\n",
    "    df['Comments'] = np.log(df['Comments'])\n",
    "    df['Bookmarks'] = np.log(df['Bookmarks'])\n",
    "    df = df.replace([np.inf, -np.inf], np.nan)\n",
    "    df = df.dropna(how = 'any')\n",
    "    model = ols( field + \" ~ Term_novelty + Term_novelty_squared + Topic_novelty + Topic_novelty_squared\\\n",
    " + Chapters + Freq_relationship + author_fic_cnt  \\\n",
    " + Category_Gen + Category_F_M + Category_M_M + Category_Multi + Category_Other + Category_Unknown \\\n",
    " + ArchiveWarnings_underage + ArchiveWarnings_death + ArchiveWarnings_violence +\\\n",
    " ArchiveWarnings_choose_no +\\\n",
    " ArchiveWarnings_noncon + Rating_N + Rating_E + Rating_M + Rating_T\\\n",
    " + Fandom_dcu + Fandom_doctor_who + Fandom_star_wars + Fandom_arthurian + \\\n",
    " Fandom_supernatural + Fandom_haikyuu + Fandom_kuroko_no_basuke + Fandom_hamilton_miranda\\\n",
    " + Fandom_dragon_age + Fandom_the_walking_dead + Fandom_buffy + Fandom_les_miserables \\\n",
    " + Fandom_naruto + Fandom_tolkien + Fandom_shakespare + Fandom_hetalia + \\\n",
    " Fandom_attack_on_titan + Fandom_ms_paint_adventures +\\\n",
    " Fandom_marvel + Fandom_sailor_moon + Fandom_one_direction + Fandom_sherlock \\\n",
    " + nonzero_prob\", data = df).fit()\n",
    "    return model"
   ]
  },
  {
   "cell_type": "markdown",
   "metadata": {},
   "source": [
    "### Plot coefficients"
   ]
  },
  {
   "cell_type": "code",
   "execution_count": 14,
   "metadata": {},
   "outputs": [
    {
     "name": "stderr",
     "output_type": "stream",
     "text": [
      "/anaconda3/envs/python36/lib/python3.6/site-packages/statsmodels/discrete/discrete_model.py:1674: RuntimeWarning: overflow encountered in exp\n",
      "  return 1/(1+np.exp(-X))\n",
      "/anaconda3/envs/python36/lib/python3.6/site-packages/statsmodels/discrete/discrete_model.py:1724: RuntimeWarning: divide by zero encountered in log\n",
      "  return np.sum(np.log(self.cdf(q*np.dot(X,params))))\n",
      "/anaconda3/envs/python36/lib/python3.6/site-packages/statsmodels/discrete/discrete_model.py:1674: RuntimeWarning: overflow encountered in exp\n",
      "  return 1/(1+np.exp(-X))\n",
      "/anaconda3/envs/python36/lib/python3.6/site-packages/statsmodels/discrete/discrete_model.py:1724: RuntimeWarning: divide by zero encountered in log\n",
      "  return np.sum(np.log(self.cdf(q*np.dot(X,params))))\n"
     ]
    },
    {
     "name": "stdout",
     "output_type": "stream",
     "text": [
      "Warning: Maximum number of iterations has been exceeded.\n",
      "         Current function value: 0.077033\n",
      "         Iterations: 35\n",
      "         Function evaluations: 70\n",
      "         Gradient evaluations: 66\n"
     ]
    },
    {
     "name": "stderr",
     "output_type": "stream",
     "text": [
      "/anaconda3/envs/python36/lib/python3.6/site-packages/statsmodels/base/model.py:508: ConvergenceWarning: Maximum Likelihood optimization failed to converge. Check mle_retvals\n",
      "  \"Check mle_retvals\", ConvergenceWarning)\n"
     ]
    },
    {
     "name": "stdout",
     "output_type": "stream",
     "text": [
      "651096\n"
     ]
    },
    {
     "name": "stderr",
     "output_type": "stream",
     "text": [
      "/anaconda3/envs/python36/lib/python3.6/site-packages/ipykernel_launcher.py:5: SettingWithCopyWarning: \n",
      "A value is trying to be set on a copy of a slice from a DataFrame.\n",
      "Try using .loc[row_indexer,col_indexer] = value instead\n",
      "\n",
      "See the caveats in the documentation: http://pandas.pydata.org/pandas-docs/stable/indexing.html#indexing-view-versus-copy\n",
      "  \"\"\"\n",
      "/anaconda3/envs/python36/lib/python3.6/site-packages/ipykernel_launcher.py:6: RuntimeWarning: divide by zero encountered in log\n",
      "  \n",
      "/anaconda3/envs/python36/lib/python3.6/site-packages/ipykernel_launcher.py:6: SettingWithCopyWarning: \n",
      "A value is trying to be set on a copy of a slice from a DataFrame.\n",
      "Try using .loc[row_indexer,col_indexer] = value instead\n",
      "\n",
      "See the caveats in the documentation: http://pandas.pydata.org/pandas-docs/stable/indexing.html#indexing-view-versus-copy\n",
      "  \n",
      "/anaconda3/envs/python36/lib/python3.6/site-packages/ipykernel_launcher.py:7: RuntimeWarning: divide by zero encountered in log\n",
      "  import sys\n",
      "/anaconda3/envs/python36/lib/python3.6/site-packages/ipykernel_launcher.py:7: SettingWithCopyWarning: \n",
      "A value is trying to be set on a copy of a slice from a DataFrame.\n",
      "Try using .loc[row_indexer,col_indexer] = value instead\n",
      "\n",
      "See the caveats in the documentation: http://pandas.pydata.org/pandas-docs/stable/indexing.html#indexing-view-versus-copy\n",
      "  import sys\n",
      "/anaconda3/envs/python36/lib/python3.6/site-packages/ipykernel_launcher.py:8: RuntimeWarning: divide by zero encountered in log\n",
      "  \n",
      "/anaconda3/envs/python36/lib/python3.6/site-packages/ipykernel_launcher.py:8: SettingWithCopyWarning: \n",
      "A value is trying to be set on a copy of a slice from a DataFrame.\n",
      "Try using .loc[row_indexer,col_indexer] = value instead\n",
      "\n",
      "See the caveats in the documentation: http://pandas.pydata.org/pandas-docs/stable/indexing.html#indexing-view-versus-copy\n",
      "  \n"
     ]
    }
   ],
   "source": [
    "kudos_model = run_ols(df_all, 'Kudos')\n",
    "kudos_coef = np.asarray(list(kudos_model.params)[1:-1])\n",
    "kudos_err = list(kudos_model.bse)[1:-1]"
   ]
  },
  {
   "cell_type": "code",
   "execution_count": 15,
   "metadata": {},
   "outputs": [],
   "source": [
    "ylabels =['Term novelty', 'Term novelty squared', 'Topic novelty', 'Topic novelty squared', 'Chapters', \\\n",
    " 'Frequent relationship',' Author work count',\\\n",
    " 'Category (General)','Category (Female/Male)',' Category (Male/Male) ',' Category (Multiple)','Category (Other)','Category (Unknown)\\\n",
    " ','ArchiveWarnings (Underage)','ArchiveWarnings (Death)',' ArchiveWarnings (Violence)','ArchiveWarnings (Choose not to use)','\\\n",
    " ArchiveWarnings (Non-consensual sex)','Rating (Not rated)', 'Rating (Explicit)','Rating (Mature)',' Rating (Teens)\\\n",
    " ',' Fandom (DC) ',' Fandom (Doctor Who) ',' Fandom (Star Wars) ',' Fandom (Arthurian Mythologies)',\\\n",
    "  'Fandom (Supernatural)','Fandom (Haikyuu)',' Fandom (Kuroko no Basuke)',' Fandom (Hamilton (by Miranda))\\\n",
    " ',' Fandom (Dragon Age)',' Fandom (The Walking Dead)',' Fandom (Buffy the Vampire Slayer)','Fandom (Les Miserables)\\\n",
    " ',' Fandom (Naruto)','Fandom (Works of J.R.R.Tolkien)',' Fandom (Works of William Shakespare)','Fandom (Hetalia: Axis Powers)',' \\\n",
    " Fandom (Attack on Titan)',' Fandom (MS Paint Adventures)','\\\n",
    "Fandom (Marvel)',' Fandom (Sailor Moon)',' Fandom (One Direction)','Fandom (Sherlock Holmes)'][::-1]"
   ]
  },
  {
   "cell_type": "code",
   "execution_count": 16,
   "metadata": {},
   "outputs": [
    {
     "name": "stderr",
     "output_type": "stream",
     "text": [
      "/anaconda3/envs/python36/lib/python3.6/site-packages/statsmodels/discrete/discrete_model.py:1674: RuntimeWarning: overflow encountered in exp\n",
      "  return 1/(1+np.exp(-X))\n",
      "/anaconda3/envs/python36/lib/python3.6/site-packages/statsmodels/discrete/discrete_model.py:1724: RuntimeWarning: divide by zero encountered in log\n",
      "  return np.sum(np.log(self.cdf(q*np.dot(X,params))))\n",
      "/anaconda3/envs/python36/lib/python3.6/site-packages/statsmodels/discrete/discrete_model.py:1674: RuntimeWarning: overflow encountered in exp\n",
      "  return 1/(1+np.exp(-X))\n",
      "/anaconda3/envs/python36/lib/python3.6/site-packages/statsmodels/discrete/discrete_model.py:1724: RuntimeWarning: divide by zero encountered in log\n",
      "  return np.sum(np.log(self.cdf(q*np.dot(X,params))))\n"
     ]
    },
    {
     "name": "stdout",
     "output_type": "stream",
     "text": [
      "Warning: Maximum number of iterations has been exceeded.\n",
      "         Current function value: 0.091978\n",
      "         Iterations: 35\n",
      "         Function evaluations: 59\n",
      "         Gradient evaluations: 55\n"
     ]
    },
    {
     "name": "stderr",
     "output_type": "stream",
     "text": [
      "/anaconda3/envs/python36/lib/python3.6/site-packages/statsmodels/base/model.py:488: HessianInversionWarning: Inverting hessian failed, no bse or cov_params available\n",
      "  'available', HessianInversionWarning)\n",
      "/anaconda3/envs/python36/lib/python3.6/site-packages/statsmodels/base/model.py:508: ConvergenceWarning: Maximum Likelihood optimization failed to converge. Check mle_retvals\n",
      "  \"Check mle_retvals\", ConvergenceWarning)\n"
     ]
    },
    {
     "name": "stdout",
     "output_type": "stream",
     "text": [
      "650390\n"
     ]
    },
    {
     "name": "stderr",
     "output_type": "stream",
     "text": [
      "/anaconda3/envs/python36/lib/python3.6/site-packages/ipykernel_launcher.py:5: RuntimeWarning: divide by zero encountered in log\n",
      "  \"\"\"\n",
      "/anaconda3/envs/python36/lib/python3.6/site-packages/ipykernel_launcher.py:5: SettingWithCopyWarning: \n",
      "A value is trying to be set on a copy of a slice from a DataFrame.\n",
      "Try using .loc[row_indexer,col_indexer] = value instead\n",
      "\n",
      "See the caveats in the documentation: http://pandas.pydata.org/pandas-docs/stable/indexing.html#indexing-view-versus-copy\n",
      "  \"\"\"\n",
      "/anaconda3/envs/python36/lib/python3.6/site-packages/ipykernel_launcher.py:6: SettingWithCopyWarning: \n",
      "A value is trying to be set on a copy of a slice from a DataFrame.\n",
      "Try using .loc[row_indexer,col_indexer] = value instead\n",
      "\n",
      "See the caveats in the documentation: http://pandas.pydata.org/pandas-docs/stable/indexing.html#indexing-view-versus-copy\n",
      "  \n",
      "/anaconda3/envs/python36/lib/python3.6/site-packages/ipykernel_launcher.py:7: RuntimeWarning: divide by zero encountered in log\n",
      "  import sys\n",
      "/anaconda3/envs/python36/lib/python3.6/site-packages/ipykernel_launcher.py:7: SettingWithCopyWarning: \n",
      "A value is trying to be set on a copy of a slice from a DataFrame.\n",
      "Try using .loc[row_indexer,col_indexer] = value instead\n",
      "\n",
      "See the caveats in the documentation: http://pandas.pydata.org/pandas-docs/stable/indexing.html#indexing-view-versus-copy\n",
      "  import sys\n",
      "/anaconda3/envs/python36/lib/python3.6/site-packages/ipykernel_launcher.py:8: RuntimeWarning: divide by zero encountered in log\n",
      "  \n",
      "/anaconda3/envs/python36/lib/python3.6/site-packages/ipykernel_launcher.py:8: SettingWithCopyWarning: \n",
      "A value is trying to be set on a copy of a slice from a DataFrame.\n",
      "Try using .loc[row_indexer,col_indexer] = value instead\n",
      "\n",
      "See the caveats in the documentation: http://pandas.pydata.org/pandas-docs/stable/indexing.html#indexing-view-versus-copy\n",
      "  \n"
     ]
    }
   ],
   "source": [
    "hits_model = run_ols(df_all, 'Hits')\n",
    "hits_coef = list(hits_model.params)[1:-1]\n",
    "hits_err = list(hits_model.bse)[1:-1]"
   ]
  },
  {
   "cell_type": "code",
   "execution_count": 17,
   "metadata": {},
   "outputs": [
    {
     "name": "stderr",
     "output_type": "stream",
     "text": [
      "/anaconda3/envs/python36/lib/python3.6/site-packages/statsmodels/discrete/discrete_model.py:1674: RuntimeWarning: overflow encountered in exp\n",
      "  return 1/(1+np.exp(-X))\n",
      "/anaconda3/envs/python36/lib/python3.6/site-packages/statsmodels/discrete/discrete_model.py:1724: RuntimeWarning: divide by zero encountered in log\n",
      "  return np.sum(np.log(self.cdf(q*np.dot(X,params))))\n",
      "/anaconda3/envs/python36/lib/python3.6/site-packages/statsmodels/discrete/discrete_model.py:1674: RuntimeWarning: overflow encountered in exp\n",
      "  return 1/(1+np.exp(-X))\n",
      "/anaconda3/envs/python36/lib/python3.6/site-packages/statsmodels/discrete/discrete_model.py:1724: RuntimeWarning: divide by zero encountered in log\n",
      "  return np.sum(np.log(self.cdf(q*np.dot(X,params))))\n"
     ]
    },
    {
     "name": "stdout",
     "output_type": "stream",
     "text": [
      "Warning: Desired error not necessarily achieved due to precision loss.\n",
      "         Current function value: 0.693147\n",
      "         Iterations: 0\n",
      "         Function evaluations: 16\n",
      "         Gradient evaluations: 4\n"
     ]
    },
    {
     "name": "stderr",
     "output_type": "stream",
     "text": [
      "/anaconda3/envs/python36/lib/python3.6/site-packages/statsmodels/base/model.py:508: ConvergenceWarning: Maximum Likelihood optimization failed to converge. Check mle_retvals\n",
      "  \"Check mle_retvals\", ConvergenceWarning)\n",
      "/anaconda3/envs/python36/lib/python3.6/site-packages/ipykernel_launcher.py:5: RuntimeWarning: divide by zero encountered in log\n",
      "  \"\"\"\n",
      "/anaconda3/envs/python36/lib/python3.6/site-packages/ipykernel_launcher.py:5: SettingWithCopyWarning: \n",
      "A value is trying to be set on a copy of a slice from a DataFrame.\n",
      "Try using .loc[row_indexer,col_indexer] = value instead\n",
      "\n",
      "See the caveats in the documentation: http://pandas.pydata.org/pandas-docs/stable/indexing.html#indexing-view-versus-copy\n",
      "  \"\"\"\n",
      "/anaconda3/envs/python36/lib/python3.6/site-packages/ipykernel_launcher.py:6: RuntimeWarning: divide by zero encountered in log\n",
      "  \n"
     ]
    },
    {
     "name": "stdout",
     "output_type": "stream",
     "text": [
      "350735\n"
     ]
    },
    {
     "name": "stderr",
     "output_type": "stream",
     "text": [
      "/anaconda3/envs/python36/lib/python3.6/site-packages/ipykernel_launcher.py:6: SettingWithCopyWarning: \n",
      "A value is trying to be set on a copy of a slice from a DataFrame.\n",
      "Try using .loc[row_indexer,col_indexer] = value instead\n",
      "\n",
      "See the caveats in the documentation: http://pandas.pydata.org/pandas-docs/stable/indexing.html#indexing-view-versus-copy\n",
      "  \n",
      "/anaconda3/envs/python36/lib/python3.6/site-packages/ipykernel_launcher.py:7: SettingWithCopyWarning: \n",
      "A value is trying to be set on a copy of a slice from a DataFrame.\n",
      "Try using .loc[row_indexer,col_indexer] = value instead\n",
      "\n",
      "See the caveats in the documentation: http://pandas.pydata.org/pandas-docs/stable/indexing.html#indexing-view-versus-copy\n",
      "  import sys\n",
      "/anaconda3/envs/python36/lib/python3.6/site-packages/ipykernel_launcher.py:8: RuntimeWarning: divide by zero encountered in log\n",
      "  \n",
      "/anaconda3/envs/python36/lib/python3.6/site-packages/ipykernel_launcher.py:8: SettingWithCopyWarning: \n",
      "A value is trying to be set on a copy of a slice from a DataFrame.\n",
      "Try using .loc[row_indexer,col_indexer] = value instead\n",
      "\n",
      "See the caveats in the documentation: http://pandas.pydata.org/pandas-docs/stable/indexing.html#indexing-view-versus-copy\n",
      "  \n"
     ]
    }
   ],
   "source": [
    "comments_model = run_ols(df_all, 'Comments')\n",
    "comments_coef = list(comments_model.params)[1:-1]\n",
    "comments_err = list(comments_model.bse)[1:-1]"
   ]
  },
  {
   "cell_type": "code",
   "execution_count": 18,
   "metadata": {},
   "outputs": [
    {
     "name": "stderr",
     "output_type": "stream",
     "text": [
      "/anaconda3/envs/python36/lib/python3.6/site-packages/statsmodels/discrete/discrete_model.py:1674: RuntimeWarning: overflow encountered in exp\n",
      "  return 1/(1+np.exp(-X))\n",
      "/anaconda3/envs/python36/lib/python3.6/site-packages/statsmodels/discrete/discrete_model.py:1724: RuntimeWarning: divide by zero encountered in log\n",
      "  return np.sum(np.log(self.cdf(q*np.dot(X,params))))\n",
      "/anaconda3/envs/python36/lib/python3.6/site-packages/statsmodels/discrete/discrete_model.py:1674: RuntimeWarning: overflow encountered in exp\n",
      "  return 1/(1+np.exp(-X))\n",
      "/anaconda3/envs/python36/lib/python3.6/site-packages/statsmodels/discrete/discrete_model.py:1724: RuntimeWarning: divide by zero encountered in log\n",
      "  return np.sum(np.log(self.cdf(q*np.dot(X,params))))\n"
     ]
    },
    {
     "name": "stdout",
     "output_type": "stream",
     "text": [
      "Warning: Maximum number of iterations has been exceeded.\n",
      "         Current function value: 0.422702\n",
      "         Iterations: 35\n",
      "         Function evaluations: 49\n",
      "         Gradient evaluations: 41\n"
     ]
    },
    {
     "name": "stderr",
     "output_type": "stream",
     "text": [
      "/anaconda3/envs/python36/lib/python3.6/site-packages/statsmodels/base/model.py:488: HessianInversionWarning: Inverting hessian failed, no bse or cov_params available\n",
      "  'available', HessianInversionWarning)\n",
      "/anaconda3/envs/python36/lib/python3.6/site-packages/statsmodels/base/model.py:508: ConvergenceWarning: Maximum Likelihood optimization failed to converge. Check mle_retvals\n",
      "  \"Check mle_retvals\", ConvergenceWarning)\n",
      "/anaconda3/envs/python36/lib/python3.6/site-packages/ipykernel_launcher.py:5: RuntimeWarning: divide by zero encountered in log\n",
      "  \"\"\"\n"
     ]
    },
    {
     "name": "stdout",
     "output_type": "stream",
     "text": [
      "534944\n"
     ]
    },
    {
     "name": "stderr",
     "output_type": "stream",
     "text": [
      "/anaconda3/envs/python36/lib/python3.6/site-packages/ipykernel_launcher.py:5: SettingWithCopyWarning: \n",
      "A value is trying to be set on a copy of a slice from a DataFrame.\n",
      "Try using .loc[row_indexer,col_indexer] = value instead\n",
      "\n",
      "See the caveats in the documentation: http://pandas.pydata.org/pandas-docs/stable/indexing.html#indexing-view-versus-copy\n",
      "  \"\"\"\n",
      "/anaconda3/envs/python36/lib/python3.6/site-packages/ipykernel_launcher.py:6: RuntimeWarning: divide by zero encountered in log\n",
      "  \n",
      "/anaconda3/envs/python36/lib/python3.6/site-packages/ipykernel_launcher.py:6: SettingWithCopyWarning: \n",
      "A value is trying to be set on a copy of a slice from a DataFrame.\n",
      "Try using .loc[row_indexer,col_indexer] = value instead\n",
      "\n",
      "See the caveats in the documentation: http://pandas.pydata.org/pandas-docs/stable/indexing.html#indexing-view-versus-copy\n",
      "  \n",
      "/anaconda3/envs/python36/lib/python3.6/site-packages/ipykernel_launcher.py:7: RuntimeWarning: divide by zero encountered in log\n",
      "  import sys\n",
      "/anaconda3/envs/python36/lib/python3.6/site-packages/ipykernel_launcher.py:7: SettingWithCopyWarning: \n",
      "A value is trying to be set on a copy of a slice from a DataFrame.\n",
      "Try using .loc[row_indexer,col_indexer] = value instead\n",
      "\n",
      "See the caveats in the documentation: http://pandas.pydata.org/pandas-docs/stable/indexing.html#indexing-view-versus-copy\n",
      "  import sys\n",
      "/anaconda3/envs/python36/lib/python3.6/site-packages/ipykernel_launcher.py:8: SettingWithCopyWarning: \n",
      "A value is trying to be set on a copy of a slice from a DataFrame.\n",
      "Try using .loc[row_indexer,col_indexer] = value instead\n",
      "\n",
      "See the caveats in the documentation: http://pandas.pydata.org/pandas-docs/stable/indexing.html#indexing-view-versus-copy\n",
      "  \n"
     ]
    }
   ],
   "source": [
    "bookmarks_model = run_ols(df_all, 'Bookmarks')\n",
    "bookmarks_coef = list(bookmarks_model.params)[1:-1]\n",
    "bookmarks_err = list(bookmarks_model.bse)[1:-1]"
   ]
  },
  {
   "cell_type": "code",
   "execution_count": 19,
   "metadata": {},
   "outputs": [],
   "source": [
    "from matplotlib import rc\n",
    "rc('font',**{'family':'sans-serif','sans-serif':['Helvetica']})\n",
    "rc('text', usetex=True)"
   ]
  },
  {
   "cell_type": "code",
   "execution_count": 20,
   "metadata": {},
   "outputs": [],
   "source": [
    "# fig, ax = plt.subplots(1,4,figsize = (15,15))\n",
    "# ax[0].errorbar(kudos_coef[::-1], range(len(kudos_coef)), xerr=kudos_err[::-1] , fmt='o')\n",
    "\n",
    "# ax[0].set_yticks(range(len(kudos_coef)))\n",
    "# ax[0].set_yticklabels(ylabels)\n",
    "# ax[0].plot([0 for i in range(len(kudos_coef)+2)], range(-1,len(kudos_coef)+1), c='grey', alpha = 0.7)\n",
    "# ax[0].plot(range(-8,8), [21.5 for i in range(-8,8)] ,c='grey', alpha = 0.7)\n",
    "# ax[0].plot(range(-8,8), [25.5 for i in range(-8,8)] ,c='grey', alpha = 0.7)\n",
    "# ax[0].plot(range(-8,8), [30.5 for i in range(-8,8)] ,c='grey', alpha = 0.7)\n",
    "# ax[0].plot(range(-8,8), [36.5 for i in range(-8,8)] ,c='grey', alpha = 0.7)\n",
    "# ax[0].plot(range(-8,8), [39.5 for i in range(-8,8)] ,c='grey', alpha = 0.7)\n",
    "# ax[0].set_ylim(-0.5,43.5)\n",
    "# ax[0].set_xlim(-3,6)\n",
    "# ax[0].set_xlabel('Kudos', fontsize=15)\n",
    "# ax[0].set_title('R-squared = 0.256', fontsize=15)\n",
    "# for tick in ax[0].yaxis.get_major_ticks():\n",
    "#     tick.label.set_fontsize(13)\n",
    "# for tick in ax[0].xaxis.get_major_ticks():\n",
    "#     tick.label.set_fontsize(13)\n",
    "    \n",
    "# ax[1].errorbar(hits_coef[::-1], range(len(hits_err)), xerr=hits_err[::-1], fmt='o')\n",
    "# ax[1].set_yticks(range(len(hits_coef)))\n",
    "# # ax[1].set_yticklabels(ylabels)\n",
    "# ax[1].plot([0 for i in range(len(hits_coef)+2)], range(-1,len(hits_coef)+1), c='grey', alpha = 0.7)\n",
    "# ax[1].plot(range(-8,10), [21.5 for i in range(-8,10)] ,c='grey', alpha = 0.7)\n",
    "# ax[1].plot(range(-8,10), [25.5 for i in range(-8,10)] ,c='grey', alpha = 0.7)\n",
    "# ax[1].plot(range(-8,10), [30.5 for i in range(-8,10)] ,c='grey', alpha = 0.7)\n",
    "# ax[1].plot(range(-8,10), [36.5 for i in range(-8,10)] ,c='grey', alpha = 0.7)\n",
    "# ax[1].plot(range(-8,10), [39.5 for i in range(-8,10)] ,c='grey', alpha = 0.7)\n",
    "# ax[1].set_ylim(-0.5,43.5)\n",
    "# ax[1].set_xlim(-3,8.5)\n",
    "# ax[1].set_yticklabels([])\n",
    "# ax[1].set_title('R-squared = 0.209', fontsize=15)\n",
    "# ax[1].set_xlabel('Hits', fontsize=15)\n",
    "# for tick in ax[1].xaxis.get_major_ticks():\n",
    "#     tick.label.set_fontsize(13)\n",
    "    \n",
    "# ax[2].errorbar(comments_coef[::-1], range(len(comments_err)), xerr=comments_err[::-1], fmt='o')\n",
    "# ax[2].set_yticks(range(len(comments_coef)))\n",
    "# ax[2].plot([0 for i in range(len(comments_coef)+2)], range(-1,len(comments_coef)+1), c='grey', alpha = 0.7)\n",
    "# ax[2].plot(range(-8,8), [21.5 for i in range(-8,8)] ,c='grey', alpha = 0.7)\n",
    "# ax[2].plot(range(-8,8), [25.5 for i in range(-8,8)] ,c='grey', alpha = 0.7)\n",
    "# ax[2].plot(range(-8,8), [30.5 for i in range(-8,8)] ,c='grey', alpha = 0.7)\n",
    "# ax[2].plot(range(-8,8), [36.5 for i in range(-8,8)] ,c='grey', alpha = 0.7)\n",
    "# ax[2].plot(range(-8,8), [39.5 for i in range(-8,8)] ,c='grey', alpha = 0.7)\n",
    "# ax[2].set_ylim(-0.5,43.5)\n",
    "# ax[2].set_xlim(-2,3)\n",
    "# ax[2].set_yticklabels([])\n",
    "# ax[2].set_title('R-squared = 0.062', fontsize=15)\n",
    "# ax[2].set_xlabel('Comments', fontsize=15)\n",
    "# for tick in ax[2].xaxis.get_major_ticks():\n",
    "#     tick.label.set_fontsize(13)\n",
    "\n",
    "# ax[3].errorbar(bookmarks_coef[::-1], range(len(bookmarks_err)), xerr=bookmarks_err[::-1], fmt='o')\n",
    "# ax[3].set_yticks(range(len(bookmarks_coef)))\n",
    "# ax[3].plot([0 for i in range(len(bookmarks_coef)+2)], range(-1,len(bookmarks_coef)+1), c='grey', alpha = 0.7)\n",
    "# ax[3].plot(range(-8,8), [21.5 for i in range(-8,8)] ,c='grey', alpha = 0.7)\n",
    "# ax[3].plot(range(-8,8), [25.5 for i in range(-8,8)] ,c='grey', alpha = 0.7)\n",
    "# ax[3].plot(range(-8,8), [30.5 for i in range(-8,8)] ,c='grey', alpha = 0.7)\n",
    "# ax[3].plot(range(-8,8), [36.5 for i in range(-8,8)] ,c='grey', alpha = 0.7)\n",
    "# ax[3].plot(range(-8,8), [39.5 for i in range(-8,8)] ,c='grey', alpha = 0.7)\n",
    "# ax[3].set_ylim(-0.5,43.5)\n",
    "# ax[3].set_xlim(-3,6)\n",
    "# ax[3].set_yticklabels([])\n",
    "# ax[3].set_title('R-squared =  0.266', fontsize=15)\n",
    "# ax[3].set_xlabel('Bookmarks', fontsize=15)\n",
    "# for tick in ax[2].xaxis.get_major_ticks():\n",
    "#     tick.label.set_fontsize(13)\n",
    "    \n",
    "# fig.text(0.55, 0.001, 'N = 662793', fontsize = 15)\n",
    "# plt.tight_layout()\n",
    "# plt.savefig('ols_coefs_full_twoparts.pdf', format='pdf')"
   ]
  },
  {
   "cell_type": "code",
   "execution_count": 26,
   "metadata": {},
   "outputs": [
    {
     "data": {
      "image/png": "[encoded data removed]",
      "text/plain": [
       "<Figure size 1080x360 with 4 Axes>"
      ]
     },
     "metadata": {},
     "output_type": "display_data"
    }
   ],
   "source": [
    "fig, ax = plt.subplots(1,4,figsize = (15,5))\n",
    "ax[0].errorbar(kudos_coef[::-1], range(len(kudos_coef)), xerr=kudos_err[::-1] , fmt='o')\n",
    "\n",
    "ax[0].set_yticks(range(len(kudos_coef)))\n",
    "ax[0].set_yticklabels(ylabels)\n",
    "ax[0].plot([0 for i in range(len(kudos_coef)+2)], range(-1,len(kudos_coef)+1), c='grey', alpha = 0.7)\n",
    "ax[0].plot(range(-8,8), [21.5 for i in range(-8,8)] ,c='grey', alpha = 0.7)\n",
    "ax[0].plot(range(-8,8), [25.5 for i in range(-8,8)] ,c='grey', alpha = 0.7)\n",
    "ax[0].plot(range(-8,8), [30.5 for i in range(-8,8)] ,c='grey', alpha = 0.7)\n",
    "ax[0].plot(range(-8,8), [36.5 for i in range(-8,8)] ,c='grey', alpha = 0.7)\n",
    "ax[0].plot(range(-8,8), [39.5 for i in range(-8,8)] ,c='grey', alpha = 0.7)\n",
    "ax[0].set_ylim(36.5,43.5)\n",
    "ax[0].set_xlim(-3,6)\n",
    "ax[0].set_xlabel('Kudos', fontsize=15)\n",
    "ax[0].set_title('R-squared = 0.256', fontsize=15)\n",
    "for tick in ax[0].yaxis.get_major_ticks():\n",
    "    tick.label.set_fontsize(13)\n",
    "for tick in ax[0].xaxis.get_major_ticks():\n",
    "    tick.label.set_fontsize(13)\n",
    "    \n",
    "ax[1].errorbar(hits_coef[::-1], range(len(hits_err)), xerr=hits_err[::-1], fmt='o')\n",
    "ax[1].set_yticks(range(len(hits_coef)))\n",
    "# ax[1].set_yticklabels(ylabels)\n",
    "ax[1].plot([0 for i in range(len(hits_coef)+2)], range(-1,len(hits_coef)+1), c='grey', alpha = 0.7)\n",
    "ax[1].plot(range(-8,10), [21.5 for i in range(-8,10)] ,c='grey', alpha = 0.7)\n",
    "ax[1].plot(range(-8,10), [25.5 for i in range(-8,10)] ,c='grey', alpha = 0.7)\n",
    "ax[1].plot(range(-8,10), [30.5 for i in range(-8,10)] ,c='grey', alpha = 0.7)\n",
    "ax[1].plot(range(-8,10), [36.5 for i in range(-8,10)] ,c='grey', alpha = 0.7)\n",
    "ax[1].plot(range(-8,10), [39.5 for i in range(-8,10)] ,c='grey', alpha = 0.7)\n",
    "ax[1].set_ylim(36.5,43.5)\n",
    "ax[1].set_xlim(-3,8.5)\n",
    "ax[1].set_yticklabels([])\n",
    "ax[1].set_title('R-squared = 0.208', fontsize=15)\n",
    "ax[1].set_xlabel('Hits', fontsize=15)\n",
    "for tick in ax[1].xaxis.get_major_ticks():\n",
    "    tick.label.set_fontsize(13)\n",
    "    \n",
    "ax[2].errorbar(comments_coef[::-1], range(len(comments_err)), xerr=comments_err[::-1], fmt='o')\n",
    "ax[2].set_yticks(range(len(comments_coef)))\n",
    "ax[2].plot([0 for i in range(len(comments_coef)+2)], range(-1,len(comments_coef)+1), c='grey', alpha = 0.7)\n",
    "ax[2].plot(range(-8,8), [21.5 for i in range(-8,8)] ,c='grey', alpha = 0.7)\n",
    "ax[2].plot(range(-8,8), [25.5 for i in range(-8,8)] ,c='grey', alpha = 0.7)\n",
    "ax[2].plot(range(-8,8), [30.5 for i in range(-8,8)] ,c='grey', alpha = 0.7)\n",
    "ax[2].plot(range(-8,8), [36.5 for i in range(-8,8)] ,c='grey', alpha = 0.7)\n",
    "ax[2].plot(range(-8,8), [39.5 for i in range(-8,8)] ,c='grey', alpha = 0.7)\n",
    "ax[2].set_ylim(36.5,43.5)\n",
    "ax[2].set_xlim(-2,3)\n",
    "ax[2].set_yticklabels([])\n",
    "ax[2].set_title('R-squared = 0.062', fontsize=15)\n",
    "ax[2].set_xlabel('Comments', fontsize=15)\n",
    "for tick in ax[2].xaxis.get_major_ticks():\n",
    "    tick.label.set_fontsize(13)\n",
    "\n",
    "ax[3].errorbar(bookmarks_coef[::-1], range(len(bookmarks_err)), xerr=bookmarks_err[::-1], fmt='o')\n",
    "ax[3].set_yticks(range(len(bookmarks_coef)))\n",
    "ax[3].plot([0 for i in range(len(bookmarks_coef)+2)], range(-1,len(bookmarks_coef)+1), c='grey', alpha = 0.7)\n",
    "ax[3].plot(range(-8,8), [21.5 for i in range(-8,8)] ,c='grey', alpha = 0.7)\n",
    "ax[3].plot(range(-8,8), [25.5 for i in range(-8,8)] ,c='grey', alpha = 0.7)\n",
    "ax[3].plot(range(-8,8), [30.5 for i in range(-8,8)] ,c='grey', alpha = 0.7)\n",
    "ax[3].plot(range(-8,8), [36.5 for i in range(-8,8)] ,c='grey', alpha = 0.7)\n",
    "ax[3].plot(range(-8,8), [39.5 for i in range(-8,8)] ,c='grey', alpha = 0.7)\n",
    "ax[3].set_ylim(36.5,43.5)\n",
    "ax[3].set_xlim(-3,6)\n",
    "ax[3].set_yticklabels([])\n",
    "ax[3].set_title('R-squared = 0.267', fontsize=15)\n",
    "ax[3].set_xlabel('Bookmarks', fontsize=15)\n",
    "for tick in ax[2].xaxis.get_major_ticks():\n",
    "    tick.label.set_fontsize(13)\n",
    "    \n",
    "fig.text(0.55, 0.001, '120 Topics', fontsize = 15)\n",
    "plt.tight_layout()\n",
    "plt.savefig('ols_coefs_partial_topic120.pdf', format='pdf')"
   ]
  },
  {
   "cell_type": "code",
   "execution_count": 22,
   "metadata": {},
   "outputs": [
    {
     "name": "stdout",
     "output_type": "stream",
     "text": [
      "                            OLS Regression Results                            \n",
      "==============================================================================\n",
      "Dep. Variable:                  Kudos   R-squared:                       0.256\n",
      "Model:                            OLS   Adj. R-squared:                  0.256\n",
      "Method:                 Least Squares   F-statistic:                     2448.\n",
      "Date:                Wed, 26 Dec 2018   Prob (F-statistic):               0.00\n",
      "Time:                        14:43:46   Log-Likelihood:            -4.8626e+05\n",
      "No. Observations:              313055   AIC:                         9.726e+05\n",
      "Df Residuals:                  313010   BIC:                         9.731e+05\n",
      "Df Model:                          44                                         \n",
      "Covariance Type:            nonrobust                                         \n",
      "==============================================================================================\n",
      "                                 coef    std err          t      P>|t|      [0.025      0.975]\n",
      "----------------------------------------------------------------------------------------------\n",
      "Intercept                      9.5194      0.183     51.916      0.000       9.160       9.879\n",
      "Term_novelty                  -0.3549      0.008    -46.726      0.000      -0.370      -0.340\n",
      "Term_novelty_squared          -0.3875      0.041     -9.513      0.000      -0.467      -0.308\n",
      "Topic_novelty                 -0.8831      0.058    -15.233      0.000      -0.997      -0.770\n",
      "Topic_novelty_squared          4.8619      0.717      6.778      0.000       3.456       6.268\n",
      "Chapters                      -0.0084   5.21e-05   -160.236      0.000      -0.008      -0.008\n",
      "Freq_relationship              0.3280      0.005     62.735      0.000       0.318       0.338\n",
      "author_fic_cnt              2.142e-06    2.1e-06      1.019      0.308   -1.98e-06    6.26e-06\n",
      "Category_Gen                  -0.2488      0.006    -40.752      0.000      -0.261      -0.237\n",
      "Category_F_M                  -0.3288      0.005    -61.135      0.000      -0.339      -0.318\n",
      "Category_M_M                   0.1917      0.007     28.942      0.000       0.179       0.205\n",
      "Category_Multi                -0.2685      0.008    -34.516      0.000      -0.284      -0.253\n",
      "Category_Other                -0.2445      0.013    -18.718      0.000      -0.270      -0.219\n",
      "Category_Unknown              -0.5736      0.014    -41.158      0.000      -0.601      -0.546\n",
      "ArchiveWarnings_underage       0.0104      0.012      0.885      0.376      -0.013       0.034\n",
      "ArchiveWarnings_death         -0.4598      0.009    -49.755      0.000      -0.478      -0.442\n",
      "ArchiveWarnings_violence      -0.4915      0.008    -64.826      0.000      -0.506      -0.477\n",
      "ArchiveWarnings_choose_no     -0.3273      0.004    -73.435      0.000      -0.336      -0.319\n",
      "ArchiveWarnings_noncon        -0.1453      0.011    -13.516      0.000      -0.166      -0.124\n",
      "Rating_N                      -0.4001      0.008    -48.198      0.000      -0.416      -0.384\n",
      "Rating_E                      -0.3074      0.007    -42.682      0.000      -0.322      -0.293\n",
      "Rating_M                      -0.4829      0.007    -68.523      0.000      -0.497      -0.469\n",
      "Rating_T                      -0.3643      0.006    -60.750      0.000      -0.376      -0.353\n",
      "Fandom_dcu                    -0.3715      0.007    -56.749      0.000      -0.384      -0.359\n",
      "Fandom_doctor_who             -0.3715      0.007    -56.749      0.000      -0.384      -0.359\n",
      "Fandom_star_wars               0.1809      0.014     13.193      0.000       0.154       0.208\n",
      "Fandom_arthurian              -0.1264      0.015     -8.518      0.000      -0.155      -0.097\n",
      "Fandom_supernatural           -0.2768      0.009    -32.567      0.000      -0.293      -0.260\n",
      "Fandom_haikyuu                 0.1178      0.014      8.129      0.000       0.089       0.146\n",
      "Fandom_kuroko_no_basuke        0.0167      0.018      0.911      0.362      -0.019       0.053\n",
      "Fandom_hamilton_miranda       -0.3486      0.030    -11.482      0.000      -0.408      -0.289\n",
      "Fandom_dragon_age             -0.3813      0.011    -33.587      0.000      -0.404      -0.359\n",
      "Fandom_the_walking_dead       -0.4644      0.016    -28.239      0.000      -0.497      -0.432\n",
      "Fandom_buffy                  -0.9199      0.024    -38.755      0.000      -0.966      -0.873\n",
      "Fandom_les_miserables         -0.2075      0.019    -10.770      0.000      -0.245      -0.170\n",
      "Fandom_naruto                 -0.3257      0.024    -13.815      0.000      -0.372      -0.279\n",
      "Fandom_tolkien                -0.1937      0.011    -17.012      0.000      -0.216      -0.171\n",
      "Fandom_shakespare             -0.7060      0.085     -8.280      0.000      -0.873      -0.539\n",
      "Fandom_hetalia                -0.7206      0.020    -36.374      0.000      -0.759      -0.682\n",
      "Fandom_attack_on_titan        -0.1105      0.013     -8.839      0.000      -0.135      -0.086\n",
      "Fandom_ms_paint_adventures    -0.1893      0.011    -16.765      0.000      -0.211      -0.167\n",
      "Fandom_marvel                  0.3709      0.008     49.019      0.000       0.356       0.386\n",
      "Fandom_sailor_moon            -0.9119      0.075    -12.227      0.000      -1.058      -0.766\n",
      "Fandom_one_direction          -0.5103      0.017    -30.901      0.000      -0.543      -0.478\n",
      "Fandom_sherlock               -0.2079      0.008    -24.576      0.000      -0.224      -0.191\n",
      "nonzero_prob                  -6.0337      0.190    -31.773      0.000      -6.406      -5.661\n",
      "==============================================================================\n",
      "Omnibus:                      643.179   Durbin-Watson:                   1.409\n",
      "Prob(Omnibus):                  0.000   Jarque-Bera (JB):              769.332\n",
      "Skew:                          -0.045   Prob(JB):                    8.74e-168\n",
      "Kurtosis:                       3.226   Cond. No.                     1.02e+16\n",
      "==============================================================================\n",
      "\n",
      "Warnings:\n",
      "[1] Standard Errors assume that the covariance matrix of the errors is correctly specified.\n",
      "[2] The smallest eigenvalue is 2.96e-21. This might indicate that there are\n",
      "strong multicollinearity problems or that the design matrix is singular.\n"
     ]
    }
   ],
   "source": [
    "print(kudos_model.summary())"
   ]
  },
  {
   "cell_type": "code",
   "execution_count": 23,
   "metadata": {},
   "outputs": [
    {
     "name": "stdout",
     "output_type": "stream",
     "text": [
      "                            OLS Regression Results                            \n",
      "==============================================================================\n",
      "Dep. Variable:                   Hits   R-squared:                       0.208\n",
      "Model:                            OLS   Adj. R-squared:                  0.208\n",
      "Method:                 Least Squares   F-statistic:                     1873.\n",
      "Date:                Wed, 26 Dec 2018   Prob (F-statistic):               0.00\n",
      "Time:                        14:43:46   Log-Likelihood:            -4.6971e+05\n",
      "No. Observations:              313055   AIC:                         9.395e+05\n",
      "Df Residuals:                  313010   BIC:                         9.400e+05\n",
      "Df Model:                          44                                         \n",
      "Covariance Type:            nonrobust                                         \n",
      "==============================================================================================\n",
      "                                 coef    std err          t      P>|t|      [0.025      0.975]\n",
      "----------------------------------------------------------------------------------------------\n",
      "Intercept                     42.1782      0.906     46.577      0.000      40.403      43.953\n",
      "Term_novelty                  -0.2819      0.008    -36.513      0.000      -0.297      -0.267\n",
      "Term_novelty_squared          -0.4096      0.039    -10.544      0.000      -0.486      -0.333\n",
      "Topic_novelty                 -0.3338      0.055     -6.071      0.000      -0.442      -0.226\n",
      "Topic_novelty_squared          7.7817      0.680     11.438      0.000       6.448       9.115\n",
      "Chapters                      -0.0054   5.39e-05   -100.091      0.000      -0.006      -0.005\n",
      "Freq_relationship              0.3927      0.005     72.725      0.000       0.382       0.403\n",
      "author_fic_cnt              9.812e-05   2.66e-06     36.918      0.000    9.29e-05       0.000\n",
      "Category_Gen                  -0.0819      0.006    -12.686      0.000      -0.095      -0.069\n",
      "Category_F_M                   0.0273      0.008      3.389      0.001       0.012       0.043\n",
      "Category_M_M                   0.2925      0.008     38.841      0.000       0.278       0.307\n",
      "Category_Multi                 0.0299      0.009      3.502      0.000       0.013       0.047\n",
      "Category_Other                -0.1454      0.012    -11.725      0.000      -0.170      -0.121\n",
      "Category_Unknown              -0.0105      0.014     -0.761      0.447      -0.037       0.016\n",
      "ArchiveWarnings_underage       0.1775      0.011     15.877      0.000       0.156       0.199\n",
      "ArchiveWarnings_death         -0.2319      0.009    -24.747      0.000      -0.250      -0.214\n",
      "ArchiveWarnings_violence      -0.1804      0.010    -18.267      0.000      -0.200      -0.161\n",
      "ArchiveWarnings_choose_no      0.0532      0.007      7.510      0.000       0.039       0.067\n",
      "ArchiveWarnings_noncon         0.2030      0.011     19.239      0.000       0.182       0.224\n",
      "Rating_N                      -0.5309      0.009    -60.316      0.000      -0.548      -0.514\n",
      "Rating_E                      -0.4790      0.015    -33.017      0.000      -0.507      -0.451\n",
      "Rating_M                      -0.4525      0.007    -63.296      0.000      -0.467      -0.438\n",
      "Rating_T                      -0.3643      0.006    -57.482      0.000      -0.377      -0.352\n",
      "Fandom_dcu                    -0.2711      0.007    -41.416      0.000      -0.284      -0.258\n",
      "Fandom_doctor_who             -0.2711      0.007    -41.416      0.000      -0.284      -0.258\n",
      "Fandom_star_wars              -0.0613      0.013     -4.560      0.000      -0.088      -0.035\n",
      "Fandom_arthurian               0.0510      0.014      3.589      0.000       0.023       0.079\n",
      "Fandom_supernatural           -0.2649      0.009    -28.650      0.000      -0.283      -0.247\n",
      "Fandom_haikyuu                -0.4402      0.014    -31.709      0.000      -0.467      -0.413\n",
      "Fandom_kuroko_no_basuke       -0.3903      0.017    -22.480      0.000      -0.424      -0.356\n",
      "Fandom_hamilton_miranda       -0.8420      0.029    -29.239      0.000      -0.898      -0.786\n",
      "Fandom_dragon_age             -0.7512      0.011    -69.645      0.000      -0.772      -0.730\n",
      "Fandom_the_walking_dead       -0.6103      0.016    -39.182      0.000      -0.641      -0.580\n",
      "Fandom_buffy                  -0.6817      0.023    -30.293      0.000      -0.726      -0.638\n",
      "Fandom_les_miserables         -0.2809      0.018    -15.330      0.000      -0.317      -0.245\n",
      "Fandom_naruto                 -0.4575      0.022    -20.456      0.000      -0.501      -0.414\n",
      "Fandom_tolkien                -0.0706      0.011     -6.478      0.000      -0.092      -0.049\n",
      "Fandom_shakespare             -1.0723      0.081    -13.260      0.000      -1.231      -0.914\n",
      "Fandom_hetalia                -0.9487      0.019    -50.348      0.000      -0.986      -0.912\n",
      "Fandom_attack_on_titan        -0.3251      0.013    -25.845      0.000      -0.350      -0.300\n",
      "Fandom_ms_paint_adventures    -0.2544      0.012    -21.607      0.000      -0.278      -0.231\n",
      "Fandom_marvel                  0.3076      0.007     42.921      0.000       0.294       0.322\n",
      "Fandom_sailor_moon            -0.9755      0.071    -13.790      0.000      -1.114      -0.837\n",
      "Fandom_one_direction          -0.2846      0.016    -17.973      0.000      -0.316      -0.254\n",
      "Fandom_sherlock                0.0844      0.010      8.062      0.000       0.064       0.105\n",
      "nonzero_prob                 -36.7342      0.934    -39.320      0.000     -38.565     -34.903\n",
      "==============================================================================\n",
      "Omnibus:                      386.306   Durbin-Watson:                   1.281\n",
      "Prob(Omnibus):                  0.000   Jarque-Bera (JB):              440.303\n",
      "Skew:                           0.037   Prob(JB):                     2.45e-96\n",
      "Kurtosis:                       3.168   Cond. No.                     1.02e+16\n",
      "==============================================================================\n",
      "\n",
      "Warnings:\n",
      "[1] Standard Errors assume that the covariance matrix of the errors is correctly specified.\n",
      "[2] The smallest eigenvalue is 2.96e-21. This might indicate that there are\n",
      "strong multicollinearity problems or that the design matrix is singular.\n"
     ]
    }
   ],
   "source": [
    "print(hits_model.summary())"
   ]
  },
  {
   "cell_type": "code",
   "execution_count": 24,
   "metadata": {},
   "outputs": [
    {
     "name": "stdout",
     "output_type": "stream",
     "text": [
      "                            OLS Regression Results                            \n",
      "==============================================================================\n",
      "Dep. Variable:               Comments   R-squared:                       0.062\n",
      "Model:                            OLS   Adj. R-squared:                  0.062\n",
      "Method:                 Least Squares   F-statistic:                     484.5\n",
      "Date:                Wed, 26 Dec 2018   Prob (F-statistic):               0.00\n",
      "Time:                        14:43:46   Log-Likelihood:            -4.1348e+05\n",
      "No. Observations:              313055   AIC:                         8.270e+05\n",
      "Df Residuals:                  313011   BIC:                         8.275e+05\n",
      "Df Model:                          43                                         \n",
      "Covariance Type:            nonrobust                                         \n",
      "==============================================================================================\n",
      "                                 coef    std err          t      P>|t|      [0.025      0.975]\n",
      "----------------------------------------------------------------------------------------------\n",
      "Intercept                      0.9561      0.006    162.490      0.000       0.945       0.968\n",
      "Term_novelty                  -0.0889      0.006    -15.193      0.000      -0.100      -0.077\n",
      "Term_novelty_squared           0.4478      0.032     13.871      0.000       0.384       0.511\n",
      "Topic_novelty                 -0.6556      0.046    -14.269      0.000      -0.746      -0.566\n",
      "Topic_novelty_squared          2.2967      0.568      4.040      0.000       1.182       3.411\n",
      "Chapters                       0.0010   4.11e-05     25.337      0.000       0.001       0.001\n",
      "Freq_relationship              0.1376      0.004     36.604      0.000       0.130       0.145\n",
      "author_fic_cnt             -1.187e-05   1.67e-06     -7.130      0.000   -1.51e-05   -8.61e-06\n",
      "Category_Gen                   0.0177      0.005      3.662      0.000       0.008       0.027\n",
      "Category_F_M                  -0.0721      0.004    -17.689      0.000      -0.080      -0.064\n",
      "Category_M_M                   0.0721      0.004     16.383      0.000       0.063       0.081\n",
      "Category_Multi                -0.0117      0.006     -1.904      0.057      -0.024       0.000\n",
      "Category_Other                -0.0748      0.010     -7.228      0.000      -0.095      -0.055\n",
      "Category_Unknown              -0.0907      0.010     -9.325      0.000      -0.110      -0.072\n",
      "ArchiveWarnings_underage      -0.0555      0.009     -5.950      0.000      -0.074      -0.037\n",
      "ArchiveWarnings_death         -0.1290      0.007    -17.614      0.000      -0.143      -0.115\n",
      "ArchiveWarnings_violence      -0.0933      0.006    -15.535      0.000      -0.105      -0.082\n",
      "ArchiveWarnings_choose_no     -0.1234      0.004    -35.103      0.000      -0.130      -0.117\n",
      "ArchiveWarnings_noncon         0.0137      0.009      1.605      0.108      -0.003       0.030\n",
      "Rating_N                      -0.0715      0.007    -10.867      0.000      -0.084      -0.059\n",
      "Rating_E                       0.1252      0.006     21.933      0.000       0.114       0.136\n",
      "Rating_M                       0.0508      0.006      9.147      0.000       0.040       0.062\n",
      "Rating_T                      -0.0182      0.005     -3.856      0.000      -0.027      -0.009\n",
      "Fandom_dcu                    -0.0751      0.005    -14.627      0.000      -0.085      -0.065\n",
      "Fandom_doctor_who             -0.0751      0.005    -14.627      0.000      -0.085      -0.065\n",
      "Fandom_star_wars               0.2244      0.011     20.649      0.000       0.203       0.246\n",
      "Fandom_arthurian              -0.0673      0.012     -5.726      0.000      -0.090      -0.044\n",
      "Fandom_supernatural           -0.0925      0.007    -13.748      0.000      -0.106      -0.079\n",
      "Fandom_haikyuu                 0.0615      0.011      5.367      0.000       0.039       0.084\n",
      "Fandom_kuroko_no_basuke       -0.1197      0.015     -8.253      0.000      -0.148      -0.091\n",
      "Fandom_hamilton_miranda        0.2440      0.024     10.139      0.000       0.197       0.291\n",
      "Fandom_dragon_age             -0.0222      0.009     -2.481      0.013      -0.040      -0.005\n",
      "Fandom_the_walking_dead        0.0572      0.013      4.395      0.000       0.032       0.083\n",
      "Fandom_buffy                  -0.3020      0.019    -16.065      0.000      -0.339      -0.265\n",
      "Fandom_les_miserables         -0.1139      0.015     -7.458      0.000      -0.144      -0.084\n",
      "Fandom_naruto                 -0.2311      0.019    -12.366      0.000      -0.268      -0.194\n",
      "Fandom_tolkien                 0.3083      0.009     34.391      0.000       0.291       0.326\n",
      "Fandom_shakespare             -0.0841      0.068     -1.244      0.213      -0.217       0.048\n",
      "Fandom_hetalia                -0.4411      0.016    -28.094      0.000      -0.472      -0.410\n",
      "Fandom_attack_on_titan        -0.0220      0.010     -2.222      0.026      -0.041      -0.003\n",
      "Fandom_ms_paint_adventures    -0.0968      0.009    -10.837      0.000      -0.114      -0.079\n",
      "Fandom_marvel                  0.3014      0.006     52.671      0.000       0.290       0.313\n",
      "Fandom_sailor_moon            -0.4360      0.059     -7.376      0.000      -0.552      -0.320\n",
      "Fandom_one_direction          -0.1415      0.013    -10.813      0.000      -0.167      -0.116\n",
      "Fandom_sherlock                0.1283      0.007     19.254      0.000       0.115       0.141\n",
      "nonzero_prob                   0.4781      0.003    162.490      0.000       0.472       0.484\n",
      "==============================================================================\n",
      "Omnibus:                     9822.557   Durbin-Watson:                   1.710\n",
      "Prob(Omnibus):                  0.000   Jarque-Bera (JB):             6903.554\n",
      "Skew:                           0.258   Prob(JB):                         0.00\n",
      "Kurtosis:                       2.486   Cond. No.                     1.00e+17\n",
      "==============================================================================\n",
      "\n",
      "Warnings:\n",
      "[1] Standard Errors assume that the covariance matrix of the errors is correctly specified.\n",
      "[2] The smallest eigenvalue is 3.07e-23. This might indicate that there are\n",
      "strong multicollinearity problems or that the design matrix is singular.\n"
     ]
    }
   ],
   "source": [
    "print(comments_model.summary())"
   ]
  },
  {
   "cell_type": "code",
   "execution_count": 25,
   "metadata": {},
   "outputs": [
    {
     "name": "stdout",
     "output_type": "stream",
     "text": [
      "                            OLS Regression Results                            \n",
      "==============================================================================\n",
      "Dep. Variable:              Bookmarks   R-squared:                       0.267\n",
      "Model:                            OLS   Adj. R-squared:                  0.266\n",
      "Method:                 Least Squares   F-statistic:                     2586.\n",
      "Date:                Wed, 26 Dec 2018   Prob (F-statistic):               0.00\n",
      "Time:                        14:43:46   Log-Likelihood:            -4.8485e+05\n",
      "No. Observations:              313055   AIC:                         9.698e+05\n",
      "Df Residuals:                  313010   BIC:                         9.703e+05\n",
      "Df Model:                          44                                         \n",
      "Covariance Type:            nonrobust                                         \n",
      "==============================================================================================\n",
      "                                 coef    std err          t      P>|t|      [0.025      0.975]\n",
      "----------------------------------------------------------------------------------------------\n",
      "Intercept                      4.6913      0.024    198.625      0.000       4.645       4.738\n",
      "Term_novelty                  -0.7514      0.008    -93.571      0.000      -0.767      -0.736\n",
      "Term_novelty_squared          -0.4358      0.041    -10.747      0.000      -0.515      -0.356\n",
      "Topic_novelty                 -1.5030      0.058    -26.026      0.000      -1.616      -1.390\n",
      "Topic_novelty_squared          5.5038      0.714      7.707      0.000       4.104       6.904\n",
      "Chapters                      -0.0050   5.59e-05    -88.765      0.000      -0.005      -0.005\n",
      "Freq_relationship              0.6768      0.005    125.607      0.000       0.666       0.687\n",
      "author_fic_cnt              -2.33e-05    2.1e-06    -11.112      0.000   -2.74e-05   -1.92e-05\n",
      "Category_Gen                  -0.0677      0.006    -11.165      0.000      -0.080      -0.056\n",
      "Category_F_M                  -0.3379      0.005    -65.862      0.000      -0.348      -0.328\n",
      "Category_M_M                   0.5247      0.006     86.764      0.000       0.513       0.537\n",
      "Category_Multi                -0.0759      0.008     -9.767      0.000      -0.091      -0.061\n",
      "Category_Other                -0.5122      0.013    -39.002      0.000      -0.538      -0.486\n",
      "Category_Unknown              -0.6487      0.013    -51.777      0.000      -0.673      -0.624\n",
      "ArchiveWarnings_underage       0.1212      0.012     10.313      0.000       0.098       0.144\n",
      "ArchiveWarnings_death         -0.6888      0.009    -73.463      0.000      -0.707      -0.670\n",
      "ArchiveWarnings_violence      -0.3356      0.008    -44.460      0.000      -0.350      -0.321\n",
      "ArchiveWarnings_choose_no     -0.2171      0.004    -49.154      0.000      -0.226      -0.208\n",
      "ArchiveWarnings_noncon         0.0875      0.011      8.120      0.000       0.066       0.109\n",
      "Rating_N                      -0.0968      0.008    -11.594      0.000      -0.113      -0.080\n",
      "Rating_E                       0.4438      0.008     56.123      0.000       0.428       0.459\n",
      "Rating_M                       0.1598      0.008     21.194      0.000       0.145       0.175\n",
      "Rating_T                       0.0203      0.006      3.292      0.001       0.008       0.032\n",
      "Fandom_dcu                    -0.5727      0.007    -87.094      0.000      -0.586      -0.560\n",
      "Fandom_doctor_who             -0.5727      0.007    -87.094      0.000      -0.586      -0.560\n",
      "Fandom_star_wars               0.2739      0.014     19.975      0.000       0.247       0.301\n",
      "Fandom_arthurian              -0.3220      0.015    -21.791      0.000      -0.351      -0.293\n",
      "Fandom_supernatural           -0.5788      0.009    -67.990      0.000      -0.595      -0.562\n",
      "Fandom_haikyuu                 0.1727      0.015     11.889      0.000       0.144       0.201\n",
      "Fandom_kuroko_no_basuke       -0.1595      0.018     -8.741      0.000      -0.195      -0.124\n",
      "Fandom_hamilton_miranda       -0.5838      0.030    -19.316      0.000      -0.643      -0.525\n",
      "Fandom_dragon_age             -0.5044      0.011    -44.808      0.000      -0.526      -0.482\n",
      "Fandom_the_walking_dead       -0.5618      0.016    -34.248      0.000      -0.594      -0.530\n",
      "Fandom_buffy                  -1.4340      0.024    -59.529      0.000      -1.481      -1.387\n",
      "Fandom_les_miserables         -0.5737      0.019    -29.885      0.000      -0.611      -0.536\n",
      "Fandom_naruto                 -0.4840      0.024    -20.587      0.000      -0.530      -0.438\n",
      "Fandom_tolkien                 0.0576      0.011      5.092      0.000       0.035       0.080\n",
      "Fandom_shakespare             -0.9124      0.085    -10.748      0.000      -1.079      -0.746\n",
      "Fandom_hetalia                -1.3928      0.020    -69.991      0.000      -1.432      -1.354\n",
      "Fandom_attack_on_titan        -0.1167      0.012     -9.375      0.000      -0.141      -0.092\n",
      "Fandom_ms_paint_adventures    -0.1032      0.011     -9.123      0.000      -0.125      -0.081\n",
      "Fandom_marvel                  0.7192      0.008     91.068      0.000       0.704       0.735\n",
      "Fandom_sailor_moon            -1.1374      0.074    -15.316      0.000      -1.283      -0.992\n",
      "Fandom_one_direction          -0.5312      0.016    -32.280      0.000      -0.563      -0.499\n",
      "Fandom_sherlock               -0.2026      0.008    -24.121      0.000      -0.219      -0.186\n",
      "nonzero_prob                  -5.1372      0.033   -157.355      0.000      -5.201      -5.073\n",
      "==============================================================================\n",
      "Omnibus:                       36.474   Durbin-Watson:                   1.442\n",
      "Prob(Omnibus):                  0.000   Jarque-Bera (JB):               37.821\n",
      "Skew:                          -0.012   Prob(JB):                     6.13e-09\n",
      "Kurtosis:                       3.048   Cond. No.                     1.02e+16\n",
      "==============================================================================\n",
      "\n",
      "Warnings:\n",
      "[1] Standard Errors assume that the covariance matrix of the errors is correctly specified.\n",
      "[2] The smallest eigenvalue is 2.96e-21. This might indicate that there are\n",
      "strong multicollinearity problems or that the design matrix is singular.\n"
     ]
    }
   ],
   "source": [
    "print(bookmarks_model.summary())"
   ]
  },
  {
   "cell_type": "code",
   "execution_count": null,
   "metadata": {},
   "outputs": [],
   "source": []
  },
  {
   "cell_type": "code",
   "execution_count": null,
   "metadata": {},
   "outputs": [],
   "source": []
  },
  {
   "cell_type": "code",
   "execution_count": null,
   "metadata": {},
   "outputs": [],
   "source": []
  },
  {
   "cell_type": "code",
   "execution_count": null,
   "metadata": {},
   "outputs": [],
   "source": []
  }
 ],
 "metadata": {
  "kernelspec": {
   "display_name": "Python 3",
   "language": "python",
   "name": "python3"
  },
  "language_info": {
   "codemirror_mode": {
    "name": "ipython",
    "version": 3
   },
   "file_extension": ".py",
   "mimetype": "text/x-python",
   "name": "python",
   "nbconvert_exporter": "python",
   "pygments_lexer": "ipython3",
   "version": "3.6.7"
  }
 },
 "nbformat": 4,
 "nbformat_minor": 2
}
