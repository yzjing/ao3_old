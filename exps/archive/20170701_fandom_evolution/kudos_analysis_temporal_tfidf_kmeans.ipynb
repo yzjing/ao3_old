{
 "cells": [
  {
   "cell_type": "code",
   "execution_count": 1,
   "metadata": {},
   "outputs": [],
   "source": [
    "import pandas as pd\n",
    "import os\n",
    "import matplotlib.pyplot as plt\n",
    "%matplotlib inline\n",
    "import numpy as np\n",
    "import random\n",
    "from scipy import stats"
   ]
  },
  {
   "cell_type": "code",
   "execution_count": 2,
   "metadata": {},
   "outputs": [],
   "source": [
    "data_path = '../../data/tfidf_cos_kmeans/'"
   ]
  },
  {
   "cell_type": "code",
   "execution_count": 3,
   "metadata": {},
   "outputs": [],
   "source": [
    "fandom_list = [i for i in os.listdir(data_path) if 'tsv' in i]"
   ]
  },
  {
   "cell_type": "code",
   "execution_count": 4,
   "metadata": {},
   "outputs": [],
   "source": [
    "def bootstrap_resample(li):\n",
    "    if len(li) > 0:\n",
    "        ave_original = np.average(li)\n",
    "        aves = []\n",
    "        for i in range(1000):\n",
    "            sample = []\n",
    "            for i in range(len(li)):\n",
    "                sample.append(random.choice(li))\n",
    "            aves.append(np.average(sample))\n",
    "        tail = sorted(aves)[24]\n",
    "        head = sorted(aves)[975]\n",
    "        return (ave_original, tail, head)"
   ]
  },
  {
   "cell_type": "markdown",
   "metadata": {
    "collapsed": true
   },
   "source": [
    "## Aggregate"
   ]
  },
  {
   "cell_type": "code",
   "execution_count": 5,
   "metadata": {},
   "outputs": [],
   "source": [
    "def create_normed_dfs(df):\n",
    "    \n",
    "    # Normalize effects of authors by turning kudos into z-score corresponding to works from this author\n",
    "    # Seems not useful b/c many authors only have 1 work\n",
    "#     author_list = df.Author.drop_duplicates().tolist()\n",
    "#     combined = []\n",
    "#     for author in author_list:\n",
    "#         df_a = df[df.Author == author]\n",
    "#         if len(df_a) > 1:\n",
    "#             df_a['Kudos'] = (df_a['Kudos'] - df_a['Kudos'].mean())/df_a['Kudos'].std(ddof=0)\n",
    "#             combined.append(df_a)        \n",
    "#     df = pd.concat(combined)\n",
    "#     df = df[df.Kudos != 0]\n",
    "\n",
    "# #     Normalize by creating hits/kudos \n",
    "#     df = df[df.Hits != 0]\n",
    "#     df = df[df.Kudos != 0]\n",
    "#     df['Kudos/Hits'] = df['Kudos'].astype(float)/df['Hits'].astype(float)\n",
    "    \n",
    "#     Normalize by log scale\n",
    "#     df = df[df.Kudos != 0]\n",
    "#     df['Kudos'] = np.log(df['Kudos'])\n",
    "#     df = df[df.Hits != 0]\n",
    "#     df['Hits'] = np.log(df['Hits'])\n",
    "#     df['Kudos/Hits'] = df['Kudos'] - df['Hits']\n",
    "\n",
    "#     # filter 0s\n",
    "# #     df = df.fillna(0)\"\n",
    "\n",
    "#     # turn into z scores\n",
    "    df['Kudos'] = df['Kudos']/df['Chapters']\n",
    "    df = df.dropna(subset=['Kudos'])\n",
    "    df = df[np.isfinite(df['Kudos'])]\n",
    "    df['Kudos'] = (df['Kudos'] - df['Kudos'].mean())/df['Kudos'].std(ddof=0)\n",
    "    \n",
    "    df = df.dropna(subset=['Comments'])\n",
    "    df = df[np.isfinite(df['Comments'])]\n",
    "    df['Comments'] = (df['Comments'] - df['Comments'].mean())/df['Comments'].std(ddof=0)\n",
    "\n",
    "    return df"
   ]
  },
  {
   "cell_type": "code",
   "execution_count": 6,
   "metadata": {},
   "outputs": [],
   "source": [
    "def create_dict(df, field, binsize):\n",
    "    \n",
    "    # Make bins\n",
    "    df.Cos = df.Cos.astype(float)\n",
    "    min_cos = min(df.Cos.tolist())\n",
    "    max_cos = max(df.Cos.tolist())\n",
    "    dic = {}\n",
    "    for i in np.arange(min_cos, max_cos, binsize):\n",
    "        df_s = df[(df.Cos >= i) & (df.Cos < i+binsize)]\n",
    "#         if len(df_s) > 9:\n",
    "#             print (min_cos, max_cos)\n",
    "#             print(df_s[field].tolist())\n",
    "        li = df_s[field].tolist()\n",
    "        if len(li) > 0:\n",
    "            dic[i] = bootstrap_resample(li)\n",
    "    return dic"
   ]
  },
  {
   "cell_type": "code",
   "execution_count": 11,
   "metadata": {},
   "outputs": [],
   "source": [
    "def plot_agg(flist, title):\n",
    "    df_all = []\n",
    "    for i,fandom in enumerate(flist):\n",
    "        df = pd.read_csv(os.path.join(data_path,fandom), sep = '\\t')\n",
    "        df = create_normed_dfs(df)\n",
    "        df = df.replace([np.inf, -np.inf], np.nan)\n",
    "        df = df[['Cos', 'Kudos']].dropna()\n",
    "        df_all.append(df)\n",
    "        \n",
    "    df = pd.concat(df_all)\n",
    "    df = df.sort_values(by = 'Cos')[5:-5]\n",
    "    df = df.sort_values(by = 'Kudos')[5:-5]\n",
    "    dic = create_dict(df, 'Kudos', 0.1)\n",
    "    x = sorted(dic.keys())\n",
    "    y = [dic[j][0] for j in x]\n",
    "    \n",
    "    print(dic)\n",
    "    \n",
    "    #     Make error bars\n",
    "    lower_error = [dic[j][0]-dic[j][1] for j in x]\n",
    "    upper_error = [dic[j][2]-dic[j][0] for j in x]\n",
    "    asymmetric_error = [lower_error, upper_error]\n",
    "\n",
    "\n",
    "\n",
    "    plt.errorbar(x, y, yerr=asymmetric_error,fmt='o')\n",
    "    plt.scatter(x, y)\n",
    "    plt.xlabel('Novelty',fontsize=15)\n",
    "    plt.ylabel('Kudos (z-score)',fontsize=15)\n",
    "\n",
    "    plt.errorbar(x, y, yerr=asymmetric_error,fmt='o')\n",
    "    plt.scatter(x, y)\n",
    "    plt.title(title)\n",
    "    "
   ]
  },
  {
   "cell_type": "code",
   "execution_count": 12,
   "metadata": {},
   "outputs": [
    {
     "name": "stdout",
     "output_type": "stream",
     "text": [
      "{0.007449735602264584: (0.04720337419924968, 0.03820103615628616, 0.05508770762487703), 0.10744973560226459: (0.05930449661646972, 0.05386666213395827, 0.06531675339725938), 0.2074497356022646: (0.041664618074126115, 0.035356274727220985, 0.04802564726017411), 0.30744973560226463: (0.036142855081128925, 0.0287760835118707, 0.04366661630699738), 0.4074497356022646: (0.02691697685920323, 0.01847797186489173, 0.036551584952435726), 0.5074497356022646: (0.030111094706354362, 0.020704465161793695, 0.03939905863990905), 0.6074497356022647: (-0.002977159801291069, -0.01033963390988136, 0.0041782618649365355), 0.7074497356022647: (-0.061350524674315524, -0.06622651040937028, -0.05637763540012195), 0.8074497356022646: (-0.12026076483327056, -0.12638111434609223, -0.11462671960104229), 0.9074497356022646: (-0.14766852392681354, -0.1691970222347791, -0.1262153868976517)}\n"
     ]
    },
    {
     "data": {
      "image/png": "[encoded data removed]",
      "text/plain": [
       "<matplotlib.figure.Figure at 0x1a0f614fd0>"
      ]
     },
     "metadata": {},
     "output_type": "display_data"
    }
   ],
   "source": [
    "plot_agg(fandom_list, 'Prev, control length, full data')"
   ]
  },
  {
   "cell_type": "code",
   "execution_count": 26,
   "metadata": {},
   "outputs": [],
   "source": [
    "dic1 = {0.07306596877841331: (0.10051092067956448, 0.09230688109665527, 0.10949622538494314), 0.17306596877841332: (0.06278218097722164, 0.057723352384369396, 0.06815467678199578), 0.2730659687784133: (0.03634496427997151, 0.030251504313672774, 0.04240588370574836), 0.37306596877841336: (0.01829212230353787, 0.010665221172694861, 0.026433932734677926), 0.47306596877841334: (-0.0013918303410280384, -0.00978319762179942, 0.006764918205032788), 0.5730659687784133: (-0.013820107316660174, -0.023368819138610948, -0.004416051048604686), 0.6730659687784134: (0.0020549882975858026, -0.006017930421751201, 0.010508243858324804), 0.7730659687784134: (-0.034654355801952835, -0.039491208719540434, -0.02965666083240206), 0.8730659687784134: (-0.10805178546657561, -0.11261318038542459, -0.10374071415483743), 0.9730659687784133: (-0.18619850464611035, -0.23718588361637352, -0.12860422421774106)}"
   ]
  },
  {
   "cell_type": "code",
   "execution_count": 29,
   "metadata": {},
   "outputs": [],
   "source": [
    "dic2 = {0.3183411357554178: (0.24241465042484875, -0.006164701759626134, 0.5944718796431884), 0.36834113575541777: (0.22673578073694903, 0.15390811153868425, 0.30398280703288255), 0.41834113575541776: (0.14370523271634691, 0.12231307608458984, 0.16592279293653225), 0.46834113575541775: (0.09697002741735164, 0.08754993897590656, 0.10716537785241802), 0.5183411357554177: (0.05028840368030578, 0.04462646819885872, 0.05582556567387392), 0.5683411357554178: (-0.010889868000214827, -0.014638593609687596, -0.007197468435968111), 0.6183411357554177: (-0.03850769421516654, -0.041846794112008416, -0.035295115928653975), 0.6683411357554176: (0.03276530976037038, 0.0003204398026430979, 0.06694657868733242)}"
   ]
  },
  {
   "cell_type": "code",
   "execution_count": 31,
   "metadata": {},
   "outputs": [
    {
     "data": {
      "image/png": "[encoded data removed]",
      "text/plain": [
       "<matplotlib.figure.Figure at 0x1a217ade48>"
      ]
     },
     "metadata": {},
     "output_type": "display_data"
    }
   ],
   "source": [
    "plt.figure(figsize=(14,5))\n",
    "plt.subplot(1, 2, 1)\n",
    "\n",
    "x1 = sorted(dic1.keys())\n",
    "y1 = [dic1[j][0] for j in x1]\n",
    "\n",
    "lower_error = [dic1[j][0]-dic1[j][1] for j in x1]\n",
    "upper_error = [dic1[j][2]-dic1[j][0] for j in x1]\n",
    "asymmetric_error = [lower_error, upper_error]\n",
    "\n",
    "plt.errorbar(x1, y1, yerr=asymmetric_error,fmt='o')\n",
    "plt.scatter(x1, y1)\n",
    "plt.xlabel('Term Novelty',fontsize=15)\n",
    "plt.ylabel('Kudos (z-score)',fontsize=15)\n",
    "\n",
    "plt.subplot(1, 2, 2)\n",
    "\n",
    "x2 = sorted(dic2.keys())\n",
    "y2 = [dic2[j][0] for j in x2]\n",
    "\n",
    "lower_error = [dic2[j][0]-dic2[j][1] for j in x2]\n",
    "upper_error = [dic2[j][2]-dic2[j][0] for j in x2]\n",
    "asymmetric_error = [lower_error, upper_error]\n",
    "\n",
    "plt.errorbar(x2, y2, yerr=asymmetric_error,fmt='o')\n",
    "plt.scatter(x2, y2)\n",
    "plt.xlabel('Topic novelty',fontsize=15)\n",
    "plt.ylabel('Kudos (z-score)',fontsize=15)\n",
    "\n",
    "plt.savefig('novelty_comments_tfidf_lda.pdf', type='pdf')\n",
    "\n"
   ]
  },
  {
   "cell_type": "code",
   "execution_count": null,
   "metadata": {},
   "outputs": [],
   "source": []
  }
 ],
 "metadata": {
  "anaconda-cloud": {},
  "kernelspec": {
   "display_name": "Python 3",
   "language": "python",
   "name": "python3"
  },
  "language_info": {
   "codemirror_mode": {
    "name": "ipython",
    "version": 3
   },
   "file_extension": ".py",
   "mimetype": "text/x-python",
   "name": "python",
   "nbconvert_exporter": "python",
   "pygments_lexer": "ipython3",
   "version": "3.6.4"
  }
 },
 "nbformat": 4,
 "nbformat_minor": 1
}
