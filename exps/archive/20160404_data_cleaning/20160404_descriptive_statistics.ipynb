{
 "cells": [
  {
   "cell_type": "code",
   "execution_count": 75,
   "metadata": {
    "collapsed": false
   },
   "outputs": [],
   "source": [
    "import pandas as pd\n",
    "# import matplotlib.pyplot as plt\n",
    "# %matplotlib inline \n",
    "from collections import Counter\n",
    "import numpy as np"
   ]
  },
  {
   "cell_type": "code",
   "execution_count": 4,
   "metadata": {
    "collapsed": false
   },
   "outputs": [],
   "source": [
    "f = '../../data/sherlock_current_wtext.csv'"
   ]
  },
  {
   "cell_type": "code",
   "execution_count": 31,
   "metadata": {
    "collapsed": false
   },
   "outputs": [],
   "source": [
    "df = pd.read_csv(f)"
   ]
  },
  {
   "cell_type": "code",
   "execution_count": 32,
   "metadata": {
    "collapsed": false
   },
   "outputs": [
    {
     "data": {
      "text/plain": [
       "array(['AdditionalTags', 'ArchiveWarnings', 'Author', 'Bookmarks',\n",
       "       'Category', 'ChapterIndex', 'Chapters', 'Characters', 'Comments',\n",
       "       'CompleteDate', 'Fandoms', 'Hits', 'Kudos', 'Language', 'Notes',\n",
       "       'PublishDate', 'Rating', 'Relationship', 'Summary', 'Text', 'Title',\n",
       "       'UpdateDate', 'Words'], dtype=object)"
      ]
     },
     "execution_count": 32,
     "metadata": {},
     "output_type": "execute_result"
    }
   ],
   "source": [
    "df.columns.values"
   ]
  },
  {
   "cell_type": "code",
   "execution_count": 33,
   "metadata": {
    "collapsed": true
   },
   "outputs": [],
   "source": [
    "def create_df_time(df, time):\n",
    "    return df[df.PublishDate.str[:7] == time]"
   ]
  },
  {
   "cell_type": "code",
   "execution_count": 34,
   "metadata": {
    "collapsed": false
   },
   "outputs": [
    {
     "data": {
      "text/plain": [
       "198632"
      ]
     },
     "execution_count": 34,
     "metadata": {},
     "output_type": "execute_result"
    }
   ],
   "source": [
    "len(df)"
   ]
  },
  {
   "cell_type": "code",
   "execution_count": 39,
   "metadata": {
    "collapsed": false
   },
   "outputs": [],
   "source": [
    "df = df[(df.ChapterIndex.isnull()) | (df.ChapterIndex == 1)]"
   ]
  },
  {
   "cell_type": "code",
   "execution_count": 41,
   "metadata": {
    "collapsed": false
   },
   "outputs": [
    {
     "data": {
      "text/plain": [
       "72331"
      ]
     },
     "execution_count": 41,
     "metadata": {},
     "output_type": "execute_result"
    }
   ],
   "source": [
    "len(df)"
   ]
  },
  {
   "cell_type": "code",
   "execution_count": 42,
   "metadata": {
    "collapsed": false
   },
   "outputs": [
    {
     "data": {
      "text/html": [
       "<div>\n",
       "<table border=\"1\" class=\"dataframe\">\n",
       "  <thead>\n",
       "    <tr style=\"text-align: right;\">\n",
       "      <th></th>\n",
       "      <th>AdditionalTags</th>\n",
       "      <th>ArchiveWarnings</th>\n",
       "      <th>Author</th>\n",
       "      <th>Bookmarks</th>\n",
       "      <th>Category</th>\n",
       "      <th>ChapterIndex</th>\n",
       "      <th>Chapters</th>\n",
       "      <th>Characters</th>\n",
       "      <th>Comments</th>\n",
       "      <th>CompleteDate</th>\n",
       "      <th>...</th>\n",
       "      <th>Language</th>\n",
       "      <th>Notes</th>\n",
       "      <th>PublishDate</th>\n",
       "      <th>Rating</th>\n",
       "      <th>Relationship</th>\n",
       "      <th>Summary</th>\n",
       "      <th>Text</th>\n",
       "      <th>Title</th>\n",
       "      <th>UpdateDate</th>\n",
       "      <th>Words</th>\n",
       "    </tr>\n",
       "  </thead>\n",
       "  <tbody>\n",
       "    <tr>\n",
       "      <th>0</th>\n",
       "      <td>Implied/Referenced Rape/Non-con, Past Rape/No...</td>\n",
       "      <td>Creator Chose Not To Use Archive Warnings</td>\n",
       "      <td>HunterusHeroicus</td>\n",
       "      <td>{'2016-03': 1}</td>\n",
       "      <td>Gen</td>\n",
       "      <td>NaN</td>\n",
       "      <td>1/1</td>\n",
       "      <td>John Watson, Sherlock Holmes, Mycroft Holmes,...</td>\n",
       "      <td>{'2016-01': 2}</td>\n",
       "      <td>2015-01-11</td>\n",
       "      <td>...</td>\n",
       "      <td>English</td>\n",
       "      <td>NaN</td>\n",
       "      <td>2015-01-11</td>\n",
       "      <td>Mature</td>\n",
       "      <td>NaN</td>\n",
       "      <td>Mycroft pays a visit, and John gets some answers.</td>\n",
       "      <td>\\nWhen John got back to the flat, his head was...</td>\n",
       "      <td>In Memoriam</td>\n",
       "      <td>NaN</td>\n",
       "      <td>1016</td>\n",
       "    </tr>\n",
       "  </tbody>\n",
       "</table>\n",
       "<p>1 rows × 23 columns</p>\n",
       "</div>"
      ],
      "text/plain": [
       "                                      AdditionalTags  \\\n",
       "0   Implied/Referenced Rape/Non-con, Past Rape/No...   \n",
       "\n",
       "                              ArchiveWarnings            Author  \\\n",
       "0   Creator Chose Not To Use Archive Warnings  HunterusHeroicus   \n",
       "\n",
       "        Bookmarks Category  ChapterIndex Chapters  \\\n",
       "0  {'2016-03': 1}      Gen           NaN      1/1   \n",
       "\n",
       "                                          Characters        Comments  \\\n",
       "0   John Watson, Sherlock Holmes, Mycroft Holmes,...  {'2016-01': 2}   \n",
       "\n",
       "  CompleteDate  ...  Language  Notes  PublishDate   Rating Relationship  \\\n",
       "0   2015-01-11  ...   English    NaN   2015-01-11   Mature          NaN   \n",
       "\n",
       "                                             Summary  \\\n",
       "0  Mycroft pays a visit, and John gets some answers.   \n",
       "\n",
       "                                                Text        Title UpdateDate  \\\n",
       "0  \\nWhen John got back to the flat, his head was...  In Memoriam        NaN   \n",
       "\n",
       "  Words  \n",
       "0  1016  \n",
       "\n",
       "[1 rows x 23 columns]"
      ]
     },
     "execution_count": 42,
     "metadata": {},
     "output_type": "execute_result"
    }
   ],
   "source": [
    "df.head(1)"
   ]
  },
  {
   "cell_type": "code",
   "execution_count": 76,
   "metadata": {
    "collapsed": true
   },
   "outputs": [],
   "source": [
    "df.to_csv('../../data/sherlock_current_wtext_firstch.csv', index = False)"
   ]
  },
  {
   "cell_type": "code",
   "execution_count": 50,
   "metadata": {
    "collapsed": false
   },
   "outputs": [],
   "source": [
    "timelist = df.PublishDate.drop_duplicates().tolist()\n",
    "timelist = [str(i)[:7] for i in timelist]\n",
    "timelist = list(set(timelist))\n",
    "timelist = sorted(timelist)[1:]"
   ]
  },
  {
   "cell_type": "code",
   "execution_count": 52,
   "metadata": {
    "collapsed": false
   },
   "outputs": [],
   "source": [
    "time_work = {}\n",
    "for i in timelist:\n",
    "    df_time = create_df_time(df, i)\n",
    "    time_work[i] = len(df_time)"
   ]
  },
  {
   "cell_type": "code",
   "execution_count": 53,
   "metadata": {
    "collapsed": false
   },
   "outputs": [
    {
     "data": {
      "text/plain": [
       "72329"
      ]
     },
     "execution_count": 53,
     "metadata": {},
     "output_type": "execute_result"
    }
   ],
   "source": [
    "sum(time_work.values())"
   ]
  },
  {
   "cell_type": "code",
   "execution_count": 54,
   "metadata": {
    "collapsed": false
   },
   "outputs": [
    {
     "name": "stdout",
     "output_type": "stream",
     "text": [
      "2010-08 172\n"
     ]
    }
   ],
   "source": [
    "k = sorted(time_work.keys())\n",
    "v = [time_work.get(i) for i in k]\n",
    "print k[0], v[0]"
   ]
  },
  {
   "cell_type": "code",
   "execution_count": 55,
   "metadata": {
    "collapsed": true
   },
   "outputs": [],
   "source": [
    "timelist3 = ['Season 1 start', 'Season 1 end', '', '', 'Season 1 DVD release', '', '', '', '', '', '', '', '', '', '',\\\n",
    " '', '', '', 'Season 2', '', '', '', 'Season 2 DVD release', '', '', '', '', '', '', '', '', '', '', '', '', '', '',\\\n",
    " '', '', '', '', 'Christmas special', '', 'Season 3', 'Season 3 DVD release', '', '', '', '', '', '', '', '', '', '',\\\n",
    " '', '', '', '', '', '', '', '', '', '']"
   ]
  },
  {
   "cell_type": "code",
   "execution_count": 24,
   "metadata": {
    "collapsed": false
   },
   "outputs": [
    {
     "data": {
      "image/png": "[encoded data removed]",
      "text/plain": [
       "<matplotlib.figure.Figure at 0x10b23e390>"
      ]
     },
     "metadata": {},
     "output_type": "display_data"
    }
   ],
   "source": [
    "fig, ax = plt.subplots(figsize = (15,10))\n",
    "newax = ax.twiny()\n",
    "\n",
    "# Make some room at the bottom\n",
    "fig.subplots_adjust(bottom=0.30)\n",
    "\n",
    "newax.set_frame_on(True)\n",
    "newax.patch.set_visible(False)\n",
    "newax.xaxis.set_ticks_position('bottom')\n",
    "newax.xaxis.set_label_position('bottom')\n",
    "newax.spines['bottom'].set_position(('outward', 90))\n",
    "\n",
    "xlist = range(2,67)\n",
    "xlist2 = range(0,72)\n",
    "\n",
    "ax.plot(xlist,v)\n",
    "ax.xaxis.set_ticks(xlist)\n",
    "ax.set_xticklabels(k, rotation=70, fontsize = 15)\n",
    "\n",
    "newax.xaxis.set_ticks(xlist2)\n",
    "newax.set_xticklabels(timelist3, rotation=70, fontsize = 15)\n",
    "\n",
    "ax.set_xlabel('Time and major event', fontsize = 15)\n",
    "ax.set_ylabel('Number of works', fontsize = 15)\n",
    "plt.tight_layout()\n",
    "plt.savefig('./time_work.pdf', format = 'pdf')"
   ]
  },
  {
   "cell_type": "code",
   "execution_count": 57,
   "metadata": {
    "collapsed": false
   },
   "outputs": [
    {
     "name": "stdout",
     "output_type": "stream",
     "text": [
      "933636.0 0.0 5649.01390828\n"
     ]
    }
   ],
   "source": [
    "word = df.Words.fillna(False).tolist()\n",
    "print max(word), min(word), np.average(word)"
   ]
  },
  {
   "cell_type": "code",
   "execution_count": 58,
   "metadata": {
    "collapsed": false
   },
   "outputs": [
    {
     "name": "stdout",
     "output_type": "stream",
     "text": [
      "13037.0 0.0 104.358781159\n"
     ]
    }
   ],
   "source": [
    "kudos = df.Kudos.fillna(False)\n",
    "print max(kudos), min(kudos), np.average(kudos)"
   ]
  },
  {
   "cell_type": "code",
   "execution_count": 59,
   "metadata": {
    "collapsed": false
   },
   "outputs": [
    {
     "name": "stdout",
     "output_type": "stream",
     "text": [
      "532014.0 0.0 2550.77987308\n"
     ]
    }
   ],
   "source": [
    "hits = df.Hits.fillna(False)\n",
    "print max(hits), min(hits), np.average(hits)"
   ]
  },
  {
   "cell_type": "code",
   "execution_count": 61,
   "metadata": {
    "collapsed": false
   },
   "outputs": [],
   "source": [
    "# comments = df.Comments.fillna(False)\n",
    "# print max(comments), min(comments), np.average(comments)"
   ]
  },
  {
   "cell_type": "code",
   "execution_count": 62,
   "metadata": {
    "collapsed": false
   },
   "outputs": [
    {
     "name": "stdout",
     "output_type": "stream",
     "text": [
      "\n"
     ]
    }
   ],
   "source": [
    "warnings = ['Creator Chose Not To Use Archive Warnings', 'No Archive Warnings Apply',\\\n",
    "'Rape/Non-Con', 'Graphic Depictions Of Violence','Major Character Death','Underage']"
   ]
  },
  {
   "cell_type": "code",
   "execution_count": 64,
   "metadata": {
    "collapsed": false
   },
   "outputs": [],
   "source": [
    "df_warnings = df.ArchiveWarnings.fillna('Missing')\n",
    "warnings_list = []\n",
    "w = df_warnings.tolist()\n",
    "for i in w:\n",
    "    for j in i.split(','):\n",
    "        if j.strip() in warnings:\n",
    "            warnings_list.append(j)"
   ]
  },
  {
   "cell_type": "code",
   "execution_count": 103,
   "metadata": {
    "collapsed": false
   },
   "outputs": [
    {
     "data": {
      "image/png": "[encoded data removed]",
      "text/plain": [
       "<matplotlib.figure.Figure at 0x10ee8ff90>"
      ]
     },
     "metadata": {},
     "output_type": "display_data"
    }
   ],
   "source": [
    "df_warnings = pd.DataFrame(warnings_list)\n",
    "fig, ax = plt.subplots(figsize = (10,8))\n",
    "df_warnings[0].value_counts().plot(ax=ax, kind='bar')\n",
    "# ax.set_xticklabels(rotation = 70)\n",
    "ax.set_xlabel('Warning')\n",
    "ax.set_ylabel('Number of works')\n",
    "plt.tight_layout()\n",
    "plt.savefig('./work_warnings.pdf', format = 'pdf')"
   ]
  },
  {
   "cell_type": "code",
   "execution_count": 65,
   "metadata": {
    "collapsed": false
   },
   "outputs": [
    {
     "data": {
      "text/plain": [
       "array(['AdditionalTags', 'ArchiveWarnings', 'Author', 'Bookmarks',\n",
       "       'Category', 'ChapterIndex', 'Chapters', 'Characters', 'Comments',\n",
       "       'CompleteDate', 'Fandoms', 'Hits', 'Kudos', 'Language', 'Notes',\n",
       "       'PublishDate', 'Rating', 'Relationship', 'Summary', 'Text', 'Title',\n",
       "       'UpdateDate', 'Words'], dtype=object)"
      ]
     },
     "execution_count": 65,
     "metadata": {},
     "output_type": "execute_result"
    }
   ],
   "source": [
    "df.columns.values"
   ]
  },
  {
   "cell_type": "code",
   "execution_count": 66,
   "metadata": {
    "collapsed": true
   },
   "outputs": [],
   "source": [
    "df_category = df.Category.fillna('Missing')"
   ]
  },
  {
   "cell_type": "code",
   "execution_count": 67,
   "metadata": {
    "collapsed": false
   },
   "outputs": [],
   "source": [
    "df_category = pd.DataFrame([i for i in df_category.tolist() if i != 'Missing'])"
   ]
  },
  {
   "cell_type": "code",
   "execution_count": 114,
   "metadata": {
    "collapsed": false
   },
   "outputs": [
    {
     "data": {
      "image/png": "[encoded data removed]",
      "text/plain": [
       "<matplotlib.figure.Figure at 0x10c5a4ed0>"
      ]
     },
     "metadata": {},
     "output_type": "display_data"
    }
   ],
   "source": [
    "fig, ax = plt.subplots(figsize = (7,5))\n",
    "df_category[0].value_counts().plot(ax=ax, kind='bar')\n",
    "# ax.set_xticklabels(rotation = 70)\n",
    "ax.set_xlabel('Category')\n",
    "ax.set_ylabel('Number of works')\n",
    "plt.tight_layout()\n",
    "plt.savefig('./work_categories.pdf', format = 'pdf')"
   ]
  },
  {
   "cell_type": "code",
   "execution_count": 68,
   "metadata": {
    "collapsed": true
   },
   "outputs": [],
   "source": [
    "df_rating = df.Rating.fillna('Missing')"
   ]
  },
  {
   "cell_type": "code",
   "execution_count": 69,
   "metadata": {
    "collapsed": false
   },
   "outputs": [],
   "source": [
    "df_rating = pd.DataFrame([i for i in df_rating.tolist() if len(str(i)) < 20 and i != 'Missing'])"
   ]
  },
  {
   "cell_type": "code",
   "execution_count": 113,
   "metadata": {
    "collapsed": false
   },
   "outputs": [
    {
     "data": {
      "image/png": "[encoded data removed]",
      "text/plain": [
       "<matplotlib.figure.Figure at 0x10c54f410>"
      ]
     },
     "metadata": {},
     "output_type": "display_data"
    }
   ],
   "source": [
    "fig, ax = plt.subplots(figsize = (7,5))\n",
    "df_rating[0].value_counts().plot(ax=ax, kind='bar')\n",
    "# ax.set_xticklabels(rotation = 70)\n",
    "ax.set_xlabel('Rating')\n",
    "ax.set_ylabel('Number of works')\n",
    "plt.tight_layout()\n",
    "plt.savefig('./work_rating.pdf', format = 'pdf')"
   ]
  },
  {
   "cell_type": "code",
   "execution_count": 70,
   "metadata": {
    "collapsed": true
   },
   "outputs": [],
   "source": [
    "df_relationship = df.Relationship.fillna('Missing')"
   ]
  },
  {
   "cell_type": "code",
   "execution_count": 71,
   "metadata": {
    "collapsed": false
   },
   "outputs": [],
   "source": [
    "df_relationship.drop_duplicates().tolist()\n",
    "relationship_list = []\n",
    "r = df_relationship.tolist()\n",
    "for i in r:\n",
    "    for j in i.split(','):\n",
    "        relationship_list.append(j)"
   ]
  },
  {
   "cell_type": "code",
   "execution_count": 72,
   "metadata": {
    "collapsed": true
   },
   "outputs": [],
   "source": [
    "r_freq = {i:relationship_list.count(i) for i in set(relationship_list)}"
   ]
  },
  {
   "cell_type": "code",
   "execution_count": 73,
   "metadata": {
    "collapsed": false
   },
   "outputs": [
    {
     "name": "stderr",
     "output_type": "stream",
     "text": [
      "/home/yizhi/anaconda2/lib/python2.7/site-packages/ipykernel/__main__.py:2: FutureWarning: sort(columns=....) is deprecated, use sort_values(by=.....)\n",
      "  from ipykernel import kernelapp as app\n"
     ]
    }
   ],
   "source": [
    "df_relationship = pd.DataFrame(r_freq.keys(), r_freq.values()).reset_index()\n",
    "df_relationship = df_relationship.sort('index', ascending = False)"
   ]
  },
  {
   "cell_type": "code",
   "execution_count": 74,
   "metadata": {
    "collapsed": false
   },
   "outputs": [],
   "source": [
    "r = [i for i in df_relationship[0].tolist() if i != 'Missing'][0:10]\n",
    "c = [i for i in df_relationship['index'].tolist() if i != 'Missing'][0:10]"
   ]
  },
  {
   "cell_type": "code",
   "execution_count": 178,
   "metadata": {
    "collapsed": false
   },
   "outputs": [
    {
     "data": {
      "image/png": "[encoded data removed]",
      "text/plain": [
       "<matplotlib.figure.Figure at 0x15b339f90>"
      ]
     },
     "metadata": {},
     "output_type": "display_data"
    }
   ],
   "source": [
    "fig, ax = plt.subplots(figsize = (10,7))\n",
    "ax.bar(range(0,10),c)\n",
    "ax.xaxis.set_ticks(range(0,10))\n",
    "ax.set_xticklabels(r, rotation = 70)\n",
    "ax.set_xlabel('Relationship')\n",
    "ax.set_ylabel('Number of works')\n",
    "plt.tight_layout()\n",
    "plt.savefig('./work_relationship.pdf', format = 'pdf')"
   ]
  },
  {
   "cell_type": "code",
   "execution_count": 182,
   "metadata": {
    "collapsed": true
   },
   "outputs": [],
   "source": [
    "tags = df.Additional_Tags.tolist()"
   ]
  },
  {
   "cell_type": "code",
   "execution_count": 189,
   "metadata": {
    "collapsed": false
   },
   "outputs": [
    {
     "data": {
      "text/plain": [
       "' 5 Things, Prompt Fic, Community: sherlockbbc_fic'"
      ]
     },
     "execution_count": 189,
     "metadata": {},
     "output_type": "execute_result"
    }
   ],
   "source": [
    "tags[0]"
   ]
  },
  {
   "cell_type": "code",
   "execution_count": null,
   "metadata": {
    "collapsed": true
   },
   "outputs": [],
   "source": [
    "tags_l = x"
   ]
  },
  {
   "cell_type": "code",
   "execution_count": 180,
   "metadata": {
    "collapsed": false
   },
   "outputs": [],
   "source": [
    "tags_s = []\n",
    "for i in tags:\n",
    "    tags_s1 = []\n",
    "    j = str(i).split(',')\n",
    "    for k in j:\n",
    "        if 'Sherlock' in k:\n",
    "            tags_s1.append(k)\n",
    "    tags_s.append(tags_s1)\n",
    "# with open ('/Users/jingy/Desktop/sherlock_tags_all2','a') as g:\n",
    "#     for i in tags_s:\n",
    "#         g.write(i)\n",
    "#         g.write('\\n')"
   ]
  },
  {
   "cell_type": "code",
   "execution_count": 184,
   "metadata": {
    "collapsed": true
   },
   "outputs": [],
   "source": [
    "tags_s = []\n",
    "for i in tags:\n",
    "    j = str(i).split(',')\n",
    "    for k in j:\n",
    "        if 'Sherlock' in k:\n",
    "            tags_s.append(k)\n",
    "tags_s = [i for i in tags_s if i != []]"
   ]
  },
  {
   "cell_type": "code",
   "execution_count": 185,
   "metadata": {
    "collapsed": false
   },
   "outputs": [],
   "source": [
    "counts = Counter(tags_s)\n",
    "new_list = sorted(tags_s, key=counts.get, reverse=True)"
   ]
  },
  {
   "cell_type": "code",
   "execution_count": 186,
   "metadata": {
    "collapsed": true
   },
   "outputs": [],
   "source": [
    "tag_freq = {i:tags_s.count(i) for i in set(tags_s)}"
   ]
  },
  {
   "cell_type": "code",
   "execution_count": 187,
   "metadata": {
    "collapsed": true
   },
   "outputs": [],
   "source": [
    "import operator\n",
    "sorted_tag_freq = sorted(tag_freq.items(), key=operator.itemgetter(1), reverse = True)"
   ]
  },
  {
   "cell_type": "code",
   "execution_count": 188,
   "metadata": {
    "collapsed": false
   },
   "outputs": [
    {
     "data": {
      "text/plain": [
       "[(' POV Sherlock Holmes', 659),\n",
       " (' Sherlock Being Sherlock', 635),\n",
       " (' BBC Sherlock - Freeform', 584),\n",
       " (' Virgin Sherlock', 471),\n",
       " (' Sherlock - Freeform', 441),\n",
       " (' Sherlock Holmes and Feelings', 404),\n",
       " (' Pining Sherlock', 381),\n",
       " (' Established Sherlock Holmes/John Watson', 310),\n",
       " (' Asexual Sherlock', 301),\n",
       " (' Kid Sherlock', 275),\n",
       " (' Alpha Sherlock', 267),\n",
       " (' Possessive Sherlock', 255),\n",
       " (' Sherlock Is A Bit Not Good', 244),\n",
       " (' Omega Sherlock', 225),\n",
       " (' Sherlock Holmes - Freeform', 221),\n",
       " (' Sherlock Loves John', 219),\n",
       " (' Jealous Sherlock', 214),\n",
       " (' Top Sherlock', 208),\n",
       " (' Bottom Sherlock Holmes', 208),\n",
       " (' Sherlock Series 3 Spoilers', 191),\n",
       " (\" Sherlock's Violin\", 187),\n",
       " (' Sherlock AU', 164),\n",
       " (' Asexual!Sherlock', 162),\n",
       " (' John Loves Sherlock', 154),\n",
       " (' Sherlock Holmes & John Watson Friendship', 143),\n",
       " (' Sherlock-centric', 143),\n",
       " (' Sherlock is a Brat', 138),\n",
       " (' Dark Sherlock', 126),\n",
       " (' Sherlock Being an Idiot', 124),\n",
       " (' Vampire Sherlock', 123),\n",
       " (' Bottom Sherlock', 119),\n",
       " (' Sad Sherlock', 118),\n",
       " (' Protective Sherlock', 116),\n",
       " (' dark!Sherlock', 116),\n",
       " (' Hurt Sherlock', 114),\n",
       " (' Sherlock Holmes Returns after Reichenbach', 108),\n",
       " (' Insecure Sherlock', 102),\n",
       " (' Sherlock Holmes Has Feelings', 98),\n",
       " (' sub!Sherlock', 98),\n",
       " (' Sherlock Whump', 96),\n",
       " (' Sick Sherlock', 94),\n",
       " (' Developing Sherlock Holmes/John Watson', 93),\n",
       " (' I Believe in Sherlock Holmes', 93),\n",
       " (' Drunk Sherlock', 90),\n",
       " (' BAMF Sherlock', 89),\n",
       " (' Sherlock Plays the Violin', 87),\n",
       " (' PTSD Sherlock', 83),\n",
       " (' Sub Sherlock Holmes', 80),\n",
       " (' Sherlock Holmes and Drug Use', 79),\n",
       " (' Female Sherlock Holmes', 75)]"
      ]
     },
     "execution_count": 188,
     "metadata": {},
     "output_type": "execute_result"
    }
   ],
   "source": [
    "sorted_tag_freq[0:50]"
   ]
  },
  {
   "cell_type": "code",
   "execution_count": 3,
   "metadata": {
    "collapsed": false
   },
   "outputs": [
    {
     "data": {
      "text/plain": [
       "0"
      ]
     },
     "execution_count": 3,
     "metadata": {},
     "output_type": "execute_result"
    }
   ],
   "source": [
    "import random\n"
   ]
  },
  {
   "cell_type": "code",
   "execution_count": 17,
   "metadata": {
    "collapsed": false
   },
   "outputs": [
    {
     "data": {
      "text/plain": [
       "101"
      ]
     },
     "execution_count": 17,
     "metadata": {},
     "output_type": "execute_result"
    }
   ],
   "source": [
    "random.choice(range(0, 200))"
   ]
  },
  {
   "cell_type": "code",
   "execution_count": null,
   "metadata": {
    "collapsed": true
   },
   "outputs": [],
   "source": []
  },
  {
   "cell_type": "code",
   "execution_count": null,
   "metadata": {
    "collapsed": true
   },
   "outputs": [],
   "source": []
  }
 ],
 "metadata": {
  "kernelspec": {
   "display_name": "Python 2",
   "language": "python",
   "name": "python2"
  },
  "language_info": {
   "codemirror_mode": {
    "name": "ipython",
    "version": 2
   },
   "file_extension": ".py",
   "mimetype": "text/x-python",
   "name": "python",
   "nbconvert_exporter": "python",
   "pygments_lexer": "ipython2",
   "version": "2.7.11"
  }
 },
 "nbformat": 4,
 "nbformat_minor": 0
}
